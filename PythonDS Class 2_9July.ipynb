{
 "cells": [
  {
   "cell_type": "markdown",
   "id": "1146b276",
   "metadata": {},
   "source": [
    "# Else If  conditionas loops"
   ]
  },
  {
   "cell_type": "code",
   "execution_count": 6,
   "id": "14a03e88",
   "metadata": {},
   "outputs": [
    {
     "name": "stdout",
     "output_type": "stream",
     "text": [
      "provide marks  that you got29\n"
     ]
    },
    {
     "ename": "TypeError",
     "evalue": "'>' not supported between instances of 'str' and 'int'",
     "output_type": "error",
     "traceback": [
      "\u001b[0;31m---------------------------------------------------------------------------\u001b[0m",
      "\u001b[0;31mTypeError\u001b[0m                                 Traceback (most recent call last)",
      "Cell \u001b[0;32mIn[6], line 5\u001b[0m\n\u001b[1;32m      3\u001b[0m     result \u001b[38;5;241m=\u001b[39m (marks,\u001b[38;5;124m'\u001b[39m\u001b[38;5;124mdistinction\u001b[39m\u001b[38;5;124m'\u001b[39m,\u001b[38;5;241m100\u001b[39m\u001b[38;5;241m-\u001b[39mmarks)  \u001b[38;5;28;01mif\u001b[39;00m marks \u001b[38;5;241m>\u001b[39m \u001b[38;5;241m70\u001b[39m \u001b[38;5;28;01melse\u001b[39;00m  (marks,\u001b[38;5;124m'\u001b[39m\u001b[38;5;124mFailed\u001b[39m\u001b[38;5;124m'\u001b[39m,\u001b[38;5;241m100\u001b[39m\u001b[38;5;241m-\u001b[39mmarkssinput) \u001b[38;5;28;01mif\u001b[39;00m marks \u001b[38;5;241m<\u001b[39m \u001b[38;5;241m30\u001b[39m  \u001b[38;5;28;01melse\u001b[39;00m (marks,\u001b[38;5;124m\"\u001b[39m\u001b[38;5;124mtopped\u001b[39m\u001b[38;5;124m\"\u001b[39m,\u001b[38;5;241m100\u001b[39m\u001b[38;5;241m-\u001b[39m marks)\n\u001b[1;32m      4\u001b[0m     \u001b[38;5;28;01mreturn\u001b[39;00m result\n\u001b[0;32m----> 5\u001b[0m \u001b[43mgradechck\u001b[49m\u001b[43m(\u001b[49m\u001b[43m)\u001b[49m\n",
      "Cell \u001b[0;32mIn[6], line 3\u001b[0m, in \u001b[0;36mgradechck\u001b[0;34m()\u001b[0m\n\u001b[1;32m      1\u001b[0m \u001b[38;5;28;01mdef\u001b[39;00m \u001b[38;5;21mgradechck\u001b[39m():\n\u001b[1;32m      2\u001b[0m     marks \u001b[38;5;241m=\u001b[39m \u001b[38;5;28minput\u001b[39m(\u001b[38;5;124m\"\u001b[39m\u001b[38;5;124mprovide marks  that you got\u001b[39m\u001b[38;5;124m\"\u001b[39m)\n\u001b[0;32m----> 3\u001b[0m     result \u001b[38;5;241m=\u001b[39m (marks,\u001b[38;5;124m'\u001b[39m\u001b[38;5;124mdistinction\u001b[39m\u001b[38;5;124m'\u001b[39m,\u001b[38;5;241m100\u001b[39m\u001b[38;5;241m-\u001b[39mmarks)  \u001b[38;5;28;01mif\u001b[39;00m \u001b[43mmarks\u001b[49m\u001b[43m \u001b[49m\u001b[38;5;241;43m>\u001b[39;49m\u001b[43m \u001b[49m\u001b[38;5;241;43m70\u001b[39;49m \u001b[38;5;28;01melse\u001b[39;00m  (marks,\u001b[38;5;124m'\u001b[39m\u001b[38;5;124mFailed\u001b[39m\u001b[38;5;124m'\u001b[39m,\u001b[38;5;241m100\u001b[39m\u001b[38;5;241m-\u001b[39mmarkssinput) \u001b[38;5;28;01mif\u001b[39;00m marks \u001b[38;5;241m<\u001b[39m \u001b[38;5;241m30\u001b[39m  \u001b[38;5;28;01melse\u001b[39;00m (marks,\u001b[38;5;124m\"\u001b[39m\u001b[38;5;124mtopped\u001b[39m\u001b[38;5;124m\"\u001b[39m,\u001b[38;5;241m100\u001b[39m\u001b[38;5;241m-\u001b[39m marks)\n\u001b[1;32m      4\u001b[0m     \u001b[38;5;28;01mreturn\u001b[39;00m result\n",
      "\u001b[0;31mTypeError\u001b[0m: '>' not supported between instances of 'str' and 'int'"
     ]
    }
   ],
   "source": [
    "def gradechck():\n",
    "    marks = input(\"provide marks  that you got\")\n",
    "    result = (marks,'distinction',100-marks)  if marks > 70 else  (marks,'Failed',100-markssinput) if marks < 30  else (marks,\"topped\",100- marks)\n",
    "    return result\n",
    "gradechck()"
   ]
  },
  {
   "cell_type": "code",
   "execution_count": 7,
   "id": "746abda6",
   "metadata": {},
   "outputs": [
    {
     "name": "stdout",
     "output_type": "stream",
     "text": [
      "provide marks  that you got22\n",
      "22\n"
     ]
    }
   ],
   "source": [
    "marksinput = int(input(\"provide marks  that you got\"))\n",
    "print(marksinput)"
   ]
  },
  {
   "cell_type": "code",
   "execution_count": 9,
   "id": "289e1532",
   "metadata": {},
   "outputs": [
    {
     "name": "stdout",
     "output_type": "stream",
     "text": [
      "provide temp in area22\n"
     ]
    },
    {
     "data": {
      "text/plain": [
       "'cold'"
      ]
     },
     "execution_count": 9,
     "metadata": {},
     "output_type": "execute_result"
    }
   ],
   "source": [
    "def tempcheck():\n",
    "    temp = int(input(\"provide temp in area\"))\n",
    "    result = 'hot' if temp > 90 else 'cold' if temp < 60 else 'ok'\n",
    "    return result\n",
    "tempcheck()"
   ]
  },
  {
   "cell_type": "code",
   "execution_count": 47,
   "id": "21331732",
   "metadata": {},
   "outputs": [
    {
     "name": "stdout",
     "output_type": "stream",
     "text": [
      "provide marks  that you got70\n"
     ]
    },
    {
     "data": {
      "text/plain": [
       "(70, 'passed', 30)"
      ]
     },
     "execution_count": 47,
     "metadata": {},
     "output_type": "execute_result"
    }
   ],
   "source": [
    "def gradechck():\n",
    "    maxmarks=100\n",
    "    marks = int(input(\"provide marks  that you got\"))\n",
    "    result = (marks,'passed',100 - marks) if marks > 40  else (marks,'failed',40 - marks) \n",
    "    return result\n",
    "gradechck()"
   ]
  },
  {
   "cell_type": "markdown",
   "id": "b800294c",
   "metadata": {},
   "source": [
    "# Range"
   ]
  },
  {
   "cell_type": "code",
   "execution_count": 16,
   "id": "bd9cfdc1",
   "metadata": {},
   "outputs": [
    {
     "name": "stdout",
     "output_type": "stream",
     "text": [
      "range(0, 10)\n"
     ]
    },
    {
     "data": {
      "text/plain": [
       "[20, 23, 26, 29, 32, 35, 38]"
      ]
     },
     "execution_count": 16,
     "metadata": {},
     "output_type": "execute_result"
    }
   ],
   "source": [
    "r = range(10)\n",
    "print(r)\n",
    "list(range(20,40,3))"
   ]
  },
  {
   "cell_type": "code",
   "execution_count": 20,
   "id": "1c102750",
   "metadata": {},
   "outputs": [
    {
     "data": {
      "text/plain": [
       "8056"
      ]
     },
     "execution_count": 20,
     "metadata": {},
     "output_type": "execute_result"
    }
   ],
   "source": [
    "mylist1=list(range(0,1000,1))\n",
    "len(mylist1)\n",
    "import sys\n",
    "sys.getsizeof(mylist1)"
   ]
  },
  {
   "cell_type": "code",
   "execution_count": 22,
   "id": "6dc2c070",
   "metadata": {},
   "outputs": [
    {
     "data": {
      "text/plain": [
       "80056"
      ]
     },
     "execution_count": 22,
     "metadata": {},
     "output_type": "execute_result"
    }
   ],
   "source": [
    "mylist1=list(range(0,10000,1))\n",
    "len(mylist1)\n",
    "import sys\n",
    "sys.getsizeof(mylist1)"
   ]
  },
  {
   "cell_type": "code",
   "execution_count": 24,
   "id": "dafdd42b",
   "metadata": {},
   "outputs": [
    {
     "data": {
      "text/plain": [
       "48"
      ]
     },
     "execution_count": 24,
     "metadata": {},
     "output_type": "execute_result"
    }
   ],
   "source": [
    "sys.getsizeof(range(0,10000,1))"
   ]
  },
  {
   "cell_type": "code",
   "execution_count": 26,
   "id": "a9116ea1",
   "metadata": {},
   "outputs": [
    {
     "name": "stdout",
     "output_type": "stream",
     "text": [
      "1\n",
      "2\n",
      "3\n",
      "4\n",
      "5\n",
      "6\n",
      "7\n",
      "8\n",
      "9\n"
     ]
    }
   ],
   "source": [
    "#range (start value, end value , step size ) its generator of Data \n",
    "for i in range(1,10):\n",
    "    print(i)"
   ]
  },
  {
   "cell_type": "code",
   "execution_count": 49,
   "id": "40145086",
   "metadata": {},
   "outputs": [
    {
     "data": {
      "text/plain": [
       "80056"
      ]
     },
     "execution_count": 49,
     "metadata": {},
     "output_type": "execute_result"
    }
   ],
   "source": [
    "# to find memory location and size from system \n",
    "import sys\n",
    "sys.getsizeof(mylist1)"
   ]
  },
  {
   "cell_type": "markdown",
   "id": "31ed5fd2",
   "metadata": {},
   "source": [
    "#  Loops\n"
   ]
  },
  {
   "cell_type": "code",
   "execution_count": 62,
   "id": "41b9b4e0",
   "metadata": {},
   "outputs": [
    {
     "name": "stdout",
     "output_type": "stream",
     "text": [
      "provide first number22\n",
      "provide Second number2\n"
     ]
    }
   ],
   "source": [
    "#While \n",
    "n1=int(input(\"provide first number\"))\n",
    "n2=int(input(\"provide Second number\"))\n",
    "while n1 < n2:\n",
    "    print(n1, end=' ')\n",
    "    n1 = n1 + 1"
   ]
  },
  {
   "cell_type": "markdown",
   "id": "ce4fd3d5",
   "metadata": {},
   "source": [
    "## For Loop"
   ]
  },
  {
   "cell_type": "code",
   "execution_count": 66,
   "id": "855e811b",
   "metadata": {},
   "outputs": [
    {
     "name": "stdout",
     "output_type": "stream",
     "text": [
      "['ArithmeticError', 'AssertionError', 'AttributeError', 'BaseException', 'BlockingIOError', 'BrokenPipeError', 'BufferError', 'BytesWarning', 'ChildProcessError', 'ConnectionAbortedError', 'ConnectionError', 'ConnectionRefusedError', 'ConnectionResetError', 'DeprecationWarning', 'EOFError', 'Ellipsis', 'EncodingWarning', 'EnvironmentError', 'Exception', 'False', 'FileExistsError', 'FileNotFoundError', 'FloatingPointError', 'FutureWarning', 'GeneratorExit', 'IOError', 'ImportError', 'ImportWarning', 'IndentationError', 'IndexError', 'InterruptedError', 'IsADirectoryError', 'KeyError', 'KeyboardInterrupt', 'LookupError', 'MemoryError', 'ModuleNotFoundError', 'NameError', 'None', 'NotADirectoryError', 'NotImplemented', 'NotImplementedError', 'OSError', 'OverflowError', 'PendingDeprecationWarning', 'PermissionError', 'ProcessLookupError', 'RecursionError', 'ReferenceError', 'ResourceWarning', 'RuntimeError', 'RuntimeWarning', 'StopAsyncIteration', 'StopIteration', 'SyntaxError', 'SyntaxWarning', 'SystemError', 'SystemExit', 'TabError', 'TimeoutError', 'True', 'TypeError', 'UnboundLocalError', 'UnicodeDecodeError', 'UnicodeEncodeError', 'UnicodeError', 'UnicodeTranslateError', 'UnicodeWarning', 'UserWarning', 'ValueError', 'Warning', 'ZeroDivisionError', '__IPYTHON__', '__build_class__', '__debug__', '__doc__', '__import__', '__loader__', '__name__', '__package__', '__spec__', 'abs', 'aiter', 'all', 'anext', 'any', 'ascii', 'bin', 'bool', 'breakpoint', 'bytearray', 'bytes', 'callable', 'chr', 'classmethod', 'compile', 'complex', 'copyright', 'credits', 'delattr', 'dict', 'dir', 'display', 'divmod', 'enumerate', 'eval', 'exec', 'execfile', 'filter', 'float', 'format', 'frozenset', 'get_ipython', 'getattr', 'globals', 'hasattr', 'hash', 'help', 'hex', 'id', 'input', 'int', 'isinstance', 'issubclass', 'iter', 'len', 'license', 'list', 'locals', 'map', 'max', 'memoryview', 'min', 'next', 'object', 'oct', 'open', 'ord', 'pow', 'print', 'property', 'range', 'repr', 'reversed', 'round', 'runfile', 'set', 'setattr', 'slice', 'sorted', 'staticmethod', 'str', 'sum', 'super', 'tuple', 'type', 'vars', 'zip']\n"
     ]
    }
   ],
   "source": [
    "# for <variable> in <container> \n",
    "#once all values are done the exception comes stop itration as For loop sees the exception it exits the for loop\n",
    "print(dir(__builtin__))"
   ]
  },
  {
   "cell_type": "code",
   "execution_count": 74,
   "id": "46fdaa5c",
   "metadata": {},
   "outputs": [
    {
     "name": "stdout",
     "output_type": "stream",
     "text": [
      "bank sbi\n",
      "city bangalore\n"
     ]
    }
   ],
   "source": [
    "dc = {'bank':'sbi','city':'bangalore'}\n",
    "for k,v in dc.items():\n",
    "    print(k,v)"
   ]
  },
  {
   "cell_type": "code",
   "execution_count": 76,
   "id": "926ee9d2",
   "metadata": {},
   "outputs": [
    {
     "name": "stdout",
     "output_type": "stream",
     "text": [
      "10\n",
      "20\n",
      "30\n"
     ]
    }
   ],
   "source": [
    "for a in [10,20,30]:\n",
    "    print(a)"
   ]
  },
  {
   "cell_type": "code",
   "execution_count": 79,
   "id": "283f159f",
   "metadata": {},
   "outputs": [
    {
     "name": "stdout",
     "output_type": "stream",
     "text": [
      "10\n",
      "20\n",
      "30\n"
     ]
    }
   ],
   "source": [
    "for a in {10,20,30}:\n",
    "    print(a)"
   ]
  },
  {
   "cell_type": "code",
   "execution_count": 80,
   "id": "25c5f474",
   "metadata": {},
   "outputs": [],
   "source": [
    "#Break : Loop termination\n",
    "#Continue : kill current iteration and continue with next "
   ]
  },
  {
   "cell_type": "code",
   "execution_count": 82,
   "id": "10d469ed",
   "metadata": {},
   "outputs": [
    {
     "name": "stdout",
     "output_type": "stream",
     "text": [
      "8\n",
      "7\n",
      "5\n",
      "4\n",
      "3\n",
      "2\n",
      "1\n",
      "0\n",
      "c2-done\n"
     ]
    }
   ],
   "source": [
    "count = 9 \n",
    "while (count > 0):\n",
    "    count = count -1 \n",
    "    if count == 6:\n",
    "        continue\n",
    "    print(count)\n",
    "print('c2-done')"
   ]
  },
  {
   "cell_type": "code",
   "execution_count": 100,
   "id": "ff6f40df",
   "metadata": {},
   "outputs": [
    {
     "ename": "TypeError",
     "evalue": "isprime() takes 0 positional arguments but 1 was given",
     "output_type": "error",
     "traceback": [
      "\u001b[0;31m---------------------------------------------------------------------------\u001b[0m",
      "\u001b[0;31mTypeError\u001b[0m                                 Traceback (most recent call last)",
      "Cell \u001b[0;32mIn[100], line 7\u001b[0m\n\u001b[1;32m      5\u001b[0m     \u001b[38;5;28;01mreturn\u001b[39;00m \u001b[38;5;28;01mTrue\u001b[39;00m\n\u001b[1;32m      6\u001b[0m \u001b[38;5;28;01mfor\u001b[39;00m a \u001b[38;5;129;01min\u001b[39;00m \u001b[38;5;28mrange\u001b[39m(\u001b[38;5;241m20\u001b[39m,\u001b[38;5;241m100\u001b[39m):\n\u001b[0;32m----> 7\u001b[0m     \u001b[38;5;28mprint\u001b[39m(a,\u001b[43misprime\u001b[49m\u001b[43m(\u001b[49m\u001b[43ma\u001b[49m\u001b[43m)\u001b[49m)\n",
      "\u001b[0;31mTypeError\u001b[0m: isprime() takes 0 positional arguments but 1 was given"
     ]
    }
   ],
   "source": [
    "def isprime():\n",
    "    for div in range(2,n):\n",
    "       if n%div == 0:\n",
    "        return False\n",
    "    return True\n",
    "for a in range(20,100):\n",
    "    print(a,isprime(a))"
   ]
  },
  {
   "cell_type": "code",
   "execution_count": 105,
   "id": "f3b366f8",
   "metadata": {},
   "outputs": [],
   "source": [
    "# functions to find prime nUmbers\n",
    "\n"
   ]
  },
  {
   "cell_type": "markdown",
   "id": "a1870526",
   "metadata": {},
   "source": [
    "# Function rule\n",
    "# while defining a function required parameters must be specified before default prameterss.\n",
    "#while calling fnction positional values should be specified first. then parameter keyword based \n",
    "# * Arg allowed multiple variables values into fucntion \n",
    "# **arg variable dict can be pupulated only in parameter keword style \n"
   ]
  },
  {
   "cell_type": "code",
   "execution_count": 106,
   "id": "6f5e17b5",
   "metadata": {},
   "outputs": [
    {
     "name": "stdout",
     "output_type": "stream",
     "text": [
      "r0 10\n",
      "krgs {}\n"
     ]
    }
   ],
   "source": [
    "def mf12(r0,r1,d0=100,d1=200,*args,**krgs):\n",
    "    print(\"r0\",r0)\n",
    "    print(\"krgs\",krgs)\n",
    "    \n",
    "mf12(10,10,20,0)"
   ]
  },
  {
   "cell_type": "markdown",
   "id": "76215759",
   "metadata": {},
   "source": [
    "# Lambda FUnctions Anonymous Functions\n"
   ]
  },
  {
   "cell_type": "code",
   "execution_count": 107,
   "id": "bbe5cd22",
   "metadata": {},
   "outputs": [],
   "source": [
    "# if single expression function and result sf that expression is rgetting return then that can be written as lambda "
   ]
  },
  {
   "cell_type": "code",
   "execution_count": 111,
   "id": "2a41cebb",
   "metadata": {},
   "outputs": [
    {
     "ename": "NameError",
     "evalue": "name 'num' is not defined",
     "output_type": "error",
     "traceback": [
      "\u001b[0;31m---------------------------------------------------------------------------\u001b[0m",
      "\u001b[0;31mNameError\u001b[0m                                 Traceback (most recent call last)",
      "Cell \u001b[0;32mIn[111], line 4\u001b[0m\n\u001b[1;32m      2\u001b[0m \u001b[38;5;28;01mdef\u001b[39;00m \u001b[38;5;21mEF\u001b[39m(Num):\n\u001b[1;32m      3\u001b[0m     \u001b[38;5;28;01mreturn\u001b[39;00m num\u001b[38;5;241m%\u001b[39m\u001b[38;5;241m2\u001b[39m\u001b[38;5;241m==\u001b[39m\u001b[38;5;241m0\u001b[39m\n\u001b[0;32m----> 4\u001b[0m \u001b[43mEF\u001b[49m\u001b[43m(\u001b[49m\u001b[38;5;241;43m2\u001b[39;49m\u001b[43m)\u001b[49m\n",
      "Cell \u001b[0;32mIn[111], line 3\u001b[0m, in \u001b[0;36mEF\u001b[0;34m(Num)\u001b[0m\n\u001b[1;32m      2\u001b[0m \u001b[38;5;28;01mdef\u001b[39;00m \u001b[38;5;21mEF\u001b[39m(Num):\n\u001b[0;32m----> 3\u001b[0m     \u001b[38;5;28;01mreturn\u001b[39;00m \u001b[43mnum\u001b[49m\u001b[38;5;241m%\u001b[39m\u001b[38;5;241m2\u001b[39m\u001b[38;5;241m==\u001b[39m\u001b[38;5;241m0\u001b[39m\n",
      "\u001b[0;31mNameError\u001b[0m: name 'num' is not defined"
     ]
    }
   ],
   "source": [
    "# write function to find number is enen or not\n",
    "def EF(Num):\n",
    "    return num%2==0\n",
    "EF(2)"
   ]
  },
  {
   "cell_type": "code",
   "execution_count": 115,
   "id": "3539867d",
   "metadata": {},
   "outputs": [
    {
     "data": {
      "text/plain": [
       "True"
      ]
     },
     "execution_count": 115,
     "metadata": {},
     "output_type": "execute_result"
    }
   ],
   "source": [
    "iseven = lambda num : num%2 ==0\n",
    "iseven(2)"
   ]
  },
  {
   "cell_type": "code",
   "execution_count": 122,
   "id": "7bf2387e",
   "metadata": {},
   "outputs": [
    {
     "name": "stdout",
     "output_type": "stream",
     "text": [
      "provide Number u want to check2\n"
     ]
    },
    {
     "data": {
      "text/plain": [
       "'even'"
      ]
     },
     "execution_count": 122,
     "metadata": {},
     "output_type": "execute_result"
    }
   ],
   "source": [
    "num = int(input('provide Number u want to check'))\n",
    "oddeven = lambda num : \"even\" if num%2==0 else \"odd\"\n",
    "oddeven(num)"
   ]
  },
  {
   "cell_type": "code",
   "execution_count": null,
   "id": "657139cd",
   "metadata": {},
   "outputs": [],
   "source": [
    "# use directly in a line and it will not be available to you later on called anonymouse fnction object \n",
    "#anonymouse usage of Lambda function "
   ]
  }
 ],
 "metadata": {
  "kernelspec": {
   "display_name": "Python 3 (ipykernel)",
   "language": "python",
   "name": "python3"
  },
  "language_info": {
   "codemirror_mode": {
    "name": "ipython",
    "version": 3
   },
   "file_extension": ".py",
   "mimetype": "text/x-python",
   "name": "python",
   "nbconvert_exporter": "python",
   "pygments_lexer": "ipython3",
   "version": "3.10.9"
  }
 },
 "nbformat": 4,
 "nbformat_minor": 5
}
