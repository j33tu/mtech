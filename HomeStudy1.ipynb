{
 "cells": [
  {
   "cell_type": "code",
   "execution_count": null,
   "id": "e64a0900",
   "metadata": {},
   "outputs": [],
   "source": [
    "# trying to do practis"
   ]
  },
  {
   "cell_type": "code",
   "execution_count": null,
   "id": "ae2ec023",
   "metadata": {},
   "outputs": [],
   "source": [
    "# How to Make comments \n",
    "print('welcome to newyork stock exchange')\n"
   ]
  },
  {
   "cell_type": "code",
   "execution_count": null,
   "id": "1e9d4a23",
   "metadata": {},
   "outputs": [],
   "source": [
    "# How to Make comments \n",
    "#print('welcome to newyork stock exchange')\n",
    "print('Skipped to line two , this is line 2')"
   ]
  },
  {
   "cell_type": "code",
   "execution_count": null,
   "id": "8d84d668",
   "metadata": {},
   "outputs": [],
   "source": [
    "# How to Make comments \n",
    "#print('welcome to newyork stock exchange')\n",
    "print('Skipped to line two #  , this is line 2')"
   ]
  },
  {
   "cell_type": "code",
   "execution_count": null,
   "id": "c08b2021",
   "metadata": {},
   "outputs": [],
   "source": [
    "exchange = 'abc' print(abc)"
   ]
  },
  {
   "cell_type": "code",
   "execution_count": null,
   "id": "e7c23035",
   "metadata": {},
   "outputs": [],
   "source": [
    "exchange = 'abc'; print(exchange)"
   ]
  },
  {
   "cell_type": "code",
   "execution_count": null,
   "id": "d3ea6b6c",
   "metadata": {},
   "outputs": [],
   "source": [
    "#paragraphs are represented using tripple inverted single quotes.\n",
    "\n",
    "abc = 10 \n",
    "'''\n",
    "\n",
    "\n",
    "\n",
    "adfadfdsfs\n",
    "\n",
    "'''\n",
    "\n",
    "print(abc)\n",
    "#pragraph is a variable looking for object of class string\n",
    "#if you do not assign a pragraph to a variable then it will be taken as block comments \n"
   ]
  },
  {
   "cell_type": "code",
   "execution_count": null,
   "id": "d2cea19d",
   "metadata": {},
   "outputs": [],
   "source": [
    "n1=20\n",
    "n1\n",
    "print(n1)"
   ]
  },
  {
   "cell_type": "code",
   "execution_count": null,
   "id": "d9677847",
   "metadata": {},
   "outputs": [],
   "source": [
    "#python Variable type\n",
    "a = 'abc'\n",
    "print(type(a))\n",
    "b = '10'\n",
    "print(type(b))\n",
    "c = 10\n",
    "print(type(c))\n"
   ]
  },
  {
   "cell_type": "code",
   "execution_count": null,
   "id": "f554014d",
   "metadata": {},
   "outputs": [],
   "source": [
    "import keyword\n",
    "print(keyword.kwlist)"
   ]
  },
  {
   "cell_type": "code",
   "execution_count": null,
   "id": "2512d6c9",
   "metadata": {},
   "outputs": [],
   "source": [
    "#indentation of code block in python\n",
    "a=10\n",
    "print(type(a))\n",
    "while a < 15:\n",
    "    print(a+1)\n",
    "    a =a+1\n"
   ]
  },
  {
   "cell_type": "code",
   "execution_count": null,
   "id": "22335586",
   "metadata": {},
   "outputs": [],
   "source": [
    "# read sensor and turn off or on motore\n",
    "sensor = 1 \n",
    "if(sensor ==0):\n",
    "    print('switch on moter , water is low')\n",
    "else: \n",
    "    print('switch off moter , water is Full')\n",
    "    "
   ]
  },
  {
   "cell_type": "code",
   "execution_count": null,
   "id": "f7d243f4",
   "metadata": {},
   "outputs": [],
   "source": [
    "import keyword\n"
   ]
  },
  {
   "cell_type": "code",
   "execution_count": null,
   "id": "0823e8c3",
   "metadata": {},
   "outputs": [],
   "source": [
    "print(keyword.kwlist)"
   ]
  },
  {
   "cell_type": "code",
   "execution_count": null,
   "id": "f62932bc",
   "metadata": {},
   "outputs": [],
   "source": [
    "#value assignmentss\n",
    "myint1=20\n",
    "myint3='20'\n",
    "myint2=int(20)\n",
    "print(type(myint1))\n",
    "print(type(myint2))\n",
    "print(type(myint3))\n",
    "print(id(myint1))"
   ]
  },
  {
   "cell_type": "code",
   "execution_count": null,
   "id": "f2efdd30",
   "metadata": {},
   "outputs": [],
   "source": [
    "var1=('10','20','pythong')\n",
    "print(type(var1))\n",
    "print(var1[0])"
   ]
  },
  {
   "cell_type": "code",
   "execution_count": null,
   "id": "c97586ac",
   "metadata": {},
   "outputs": [],
   "source": [
    "a = b = c = 20000\n",
    "print(id(a))\n",
    "print(id(b))\n",
    "print(id(c))\n",
    "a = 2345\n",
    "c = 2345\n",
    "b = 2345\n",
    "print(id(a))\n",
    "print(id(b))\n",
    "print(id(c))"
   ]
  },
  {
   "cell_type": "code",
   "execution_count": null,
   "id": "9fef808c",
   "metadata": {},
   "outputs": [],
   "source": [
    "a , b , c = 20 , 'hellow', 'ram'\n",
    "print(a)\n",
    "print(b)\n",
    "print(c)\n"
   ]
  },
  {
   "cell_type": "code",
   "execution_count": null,
   "id": "0bbd40b9",
   "metadata": {},
   "outputs": [],
   "source": [
    "# Taking data from keyboard\n",
    "a = str(input('kindly provide your username'))\n",
    "b = str(input('kindly provide your DOB '))\n",
    "print('kindly confirm your username is {} and DOB is {}',a,b )"
   ]
  },
  {
   "cell_type": "code",
   "execution_count": null,
   "id": "c88467ce",
   "metadata": {},
   "outputs": [],
   "source": [
    "#operators\n",
    "x = 26 \n",
    "y =  5\n",
    "p = x * y\n",
    "q = x / y\n",
    "r = x % y \n",
    "print(p)\n",
    "print(q)\n",
    "print(r)\n"
   ]
  },
  {
   "cell_type": "code",
   "execution_count": null,
   "id": "1636423f",
   "metadata": {},
   "outputs": [],
   "source": [
    "# Functions in python\n",
    "def examresult():\n",
    "    marks = int(input('please provide your marks'))\n",
    "    if marks > 30:\n",
    "        print(\"badhai ho pass ho gya tu to \")\n",
    "        if marks > 80:\n",
    "            print('wo bhi distinction ke sath')\n",
    "        else:\n",
    "            print(\"normal number se pass ho gya bhai\")\n",
    "    else: \n",
    "        print(\"haramkhor padhai nhi karta fail ho gya na \")\n",
    "examresult()"
   ]
  },
  {
   "cell_type": "code",
   "execution_count": null,
   "id": "2d2304b2",
   "metadata": {},
   "outputs": [],
   "source": [
    "# Functions in python\n",
    "def examresult():\n",
    "    marks = int(input('please provide your marks'))\n",
    "    if marks > 30:\n",
    "        print(\"badhai ho pass ho gya tu to \")\n",
    "        if marks > 80:\n",
    "            print('wo bhi distinction ke sath')\n",
    "        else:\n",
    "            print(\"normal number se pass ho gya bhai\")\n",
    "    else: \n",
    "        print(\"haramkhor padhai nhi karta fail ho gya na \")\n",
    "examresult()"
   ]
  },
  {
   "cell_type": "code",
   "execution_count": null,
   "id": "28a1a2dc",
   "metadata": {},
   "outputs": [],
   "source": [
    "def mf1():\n",
    "    p0 = int(input('provide p0'))\n",
    "    b = p0 + 4\n",
    "   \n",
    "    print(p0)\n",
    "    return b \n",
    "mf1()"
   ]
  },
  {
   "cell_type": "code",
   "execution_count": null,
   "id": "4ccff06e",
   "metadata": {},
   "outputs": [],
   "source": [
    "# Decision & Branching \n",
    "# Build in data structures\n",
    "def tempcheck():\n",
    "    temp = int(input('provie what is temp feels like   : '))\n",
    "    if temp > 90:\n",
    "        print('its pretty hot out there')\n",
    "    elif temp < 30:\n",
    "        print('its pretty cold out there')\n",
    "    else: \n",
    "        print('its normal temp out side')\n",
    "tempcheck()"
   ]
  },
  {
   "cell_type": "code",
   "execution_count": null,
   "id": "2450eadc",
   "metadata": {},
   "outputs": [],
   "source": [
    "#String Data Type\n",
    "#Strings are inmutable in memory\n",
    "# use len to know lenth of string\n",
    "\n",
    "ms1= 'python data'\n",
    "print(type(ms1))\n",
    "print(len(ms1))\n",
    "print(ms1[2])\n",
    "for i in range (len(ms1)):\n",
    "    print(ms1[i])"
   ]
  },
  {
   "cell_type": "code",
   "execution_count": null,
   "id": "6bac86ef",
   "metadata": {},
   "outputs": [],
   "source": [
    "#concatanation and MemberShip\n",
    "accounts = ['1234','5646','5648']\n",
    "print(type(accounts))\n",
    "print(accounts)\n",
    "ac = input('provide your account number')\n",
    "if ac in accounts:\n",
    "    print('u are my customers')\n",
    "else:\n",
    "    print('would you like to open a new account with us')\n",
    "    "
   ]
  },
  {
   "cell_type": "code",
   "execution_count": null,
   "id": "244417ef",
   "metadata": {},
   "outputs": [],
   "source": [
    "print(dir(str))\n",
    "help(str.replace)\n"
   ]
  },
  {
   "cell_type": "code",
   "execution_count": null,
   "id": "a81d7d8f",
   "metadata": {},
   "outputs": [],
   "source": [
    "ms1= 'hello'\n",
    "ms2 = ms1[0:1:]\n",
    "print(ms1.capitalize())\n",
    "help(str.capitalize)"
   ]
  },
  {
   "cell_type": "code",
   "execution_count": null,
   "id": "78c74bf7",
   "metadata": {},
   "outputs": [],
   "source": [
    "ms1 = 'hellow'\n",
    "ms2 = ms1[:]\n",
    "print(id(ms2))\n",
    "print(id(ms1))"
   ]
  },
  {
   "cell_type": "code",
   "execution_count": null,
   "id": "facf9670",
   "metadata": {},
   "outputs": [],
   "source": [
    "ms1 = 'sich rich kich'\n",
    "ms2 = ms1.replace('ch','ng',3)\n",
    "print(ms2)\n",
    "help(str.replace)\n"
   ]
  },
  {
   "cell_type": "code",
   "execution_count": null,
   "id": "9efc8e00",
   "metadata": {},
   "outputs": [],
   "source": [
    "# find and replace Methods\n",
    "mystr1= \"nationalexchange\"\n",
    "index=mystr1.find('g')\n",
    "print(mystr1.count('a'))\n",
    "help(str.count)\n"
   ]
  },
  {
   "cell_type": "code",
   "execution_count": null,
   "id": "d270c884",
   "metadata": {},
   "outputs": [],
   "source": [
    "##Split & Join\n",
    "ms1= \"world health organization geneva\"\n",
    "ms1.split()\n",
    "ms1.split(' ',2)\n",
    "ms1.split(' ',2)\n",
    "ms2 = 'jitendra_kumars_singh_resume'\n",
    "ms2.split('_',4)\n",
    "str= ['national','stock','exchange']\n",
    "nstr = '_'.join(str)\n",
    "print(nstr)\n",
    "help(str.join)\n"
   ]
  },
  {
   "cell_type": "code",
   "execution_count": null,
   "id": "324b18a7",
   "metadata": {},
   "outputs": [],
   "source": [
    "## Python way of printing\n",
    "\n",
    "average = 98.31\n",
    "sub = 'pysics'\n",
    "num = 50\n",
    "#index data\n",
    "print('average marks in {} of {} student is {}'.format(num,sub,average))\n",
    "#index constrains\n",
    "print('average marks in {0:s} of {1:d} student is {2:.2f}'.format(sub,num,average))\n",
    "print('average marks in {:s} of {:d} student is {:.2f}'.format(sub,num,average))"
   ]
  },
  {
   "cell_type": "code",
   "execution_count": null,
   "id": "97eead43",
   "metadata": {},
   "outputs": [],
   "source": [
    "# Format : \n",
    "#help(format)\n",
    "help('FORMATTING')"
   ]
  },
  {
   "cell_type": "code",
   "execution_count": null,
   "id": "9e7fd458",
   "metadata": {},
   "outputs": [],
   "source": [
    "for i in range(1,30,4):\n",
    "    print('{:^40}'.format('@'*i))"
   ]
  },
  {
   "cell_type": "code",
   "execution_count": null,
   "id": "8969783b",
   "metadata": {},
   "outputs": [],
   "source": [
    "# escalape sequences\n",
    "print('nse \\nmumbai \\nJapan \\nDelhi')\n",
    "print('c:\\\\tiger')\n",
    "print('\\njapan')"
   ]
  },
  {
   "cell_type": "code",
   "execution_count": null,
   "id": "df472bd2",
   "metadata": {},
   "outputs": [],
   "source": [
    "#LIsts\n",
    "mylist1=list('jitendra')\n",
    "mylist1\n",
    "for i in range(len(mylist1)):\n",
    "    print(mylist1[i])\n",
    "mylist2=list('divya')\n"
   ]
  },
  {
   "cell_type": "code",
   "execution_count": null,
   "id": "e4da3eac",
   "metadata": {},
   "outputs": [],
   "source": [
    "#matrix representation : \n",
    "matrix34 = [[11,12,13,14],[15,16,17,18],[19,20,21,22]]\n",
    "matrix34[-1][0]"
   ]
  },
  {
   "cell_type": "code",
   "execution_count": null,
   "id": "a7bcff32",
   "metadata": {},
   "outputs": [],
   "source": [
    "\n",
    "mylist1=[2,4,6,8,0]\n",
    "mylist1\n",
    "mylist2=[1,2,3]\n",
    "mylist1.extend(mylist2)\n",
    "mylist1\n",
    "help(list.insert)\n",
    "mylist1.insert(6,'abc')\n",
    "print(mylist1)\n"
   ]
  },
  {
   "cell_type": "code",
   "execution_count": null,
   "id": "76196aa3",
   "metadata": {},
   "outputs": [],
   "source": [
    "mylist1=[2,4,6,8,0]\n",
    "mylist2=mylist1.copy()\n",
    "print(type(mylist2))\n",
    "help(list.copy)"
   ]
  },
  {
   "cell_type": "code",
   "execution_count": null,
   "id": "05b0d162",
   "metadata": {},
   "outputs": [],
   "source": [
    "mylist1=list('python data cyclying')\n",
    "print(mylist1.index('a'))\n",
    "help(list.index)\n",
    "print(mylist1)\n",
    "\n"
   ]
  },
  {
   "cell_type": "code",
   "execution_count": null,
   "id": "edb02744",
   "metadata": {},
   "outputs": [],
   "source": [
    "\n",
    "mylist2=list('banana')\n",
    "mylist2.pop()\n",
    "mylist2.count('a')\n",
    "mylist2.index('a',3)\n",
    "#help(list.pop)\n",
    "mylist3=list('123')\n",
    "max(mylist3)"
   ]
  },
  {
   "cell_type": "code",
   "execution_count": 3,
   "id": "f1fb9245",
   "metadata": {},
   "outputs": [
    {
     "name": "stdout",
     "output_type": "stream",
     "text": [
      "provide your values11,22,33,44,\n",
      "4\n"
     ]
    }
   ],
   "source": [
    "mylist1= []\n",
    "mylist1 = input('provide your values')\n",
    "#inputs('provide your values')\n",
    "print(max(mylist1))"
   ]
  },
  {
   "cell_type": "code",
   "execution_count": 14,
   "id": "87f8dfcf",
   "metadata": {},
   "outputs": [
    {
     "data": {
      "text/plain": [
       "[2, 4, 6, 8, 10, 12, 14]"
      ]
     },
     "execution_count": 14,
     "metadata": {},
     "output_type": "execute_result"
    }
   ],
   "source": [
    "#Sorting the list \n",
    "mylist1=[2,4,6,8,10,12,14]\n",
    "mylist1.sort(reverse=False)\n",
    "mylist1"
   ]
  },
  {
   "cell_type": "code",
   "execution_count": 15,
   "id": "e543ee6c",
   "metadata": {},
   "outputs": [
    {
     "name": "stdout",
     "output_type": "stream",
     "text": [
      "Help on method_descriptor:\n",
      "\n",
      "sort(self, /, *, key=None, reverse=False)\n",
      "    Sort the list in ascending order and return None.\n",
      "    \n",
      "    The sort is in-place (i.e. the list itself is modified) and stable (i.e. the\n",
      "    order of two equal elements is maintained).\n",
      "    \n",
      "    If a key function is given, apply it once to each list item and sort them,\n",
      "    ascending or descending, according to their function values.\n",
      "    \n",
      "    The reverse flag can be set to sort in descending order.\n",
      "\n"
     ]
    }
   ],
   "source": [
    "help(list.sort)"
   ]
  },
  {
   "cell_type": "code",
   "execution_count": 22,
   "id": "fa800869",
   "metadata": {},
   "outputs": [
    {
     "name": "stdout",
     "output_type": "stream",
     "text": [
      "(123, 21, 25, 1, [1, 1, 1])\n",
      "[1, 1, 1]\n"
     ]
    }
   ],
   "source": [
    "mult1=(123,21,25,1,[1,1,1])\n",
    "print(mult1)\n",
    "print(mult1[4])\n"
   ]
  },
  {
   "cell_type": "code",
   "execution_count": 31,
   "id": "612a9776",
   "metadata": {},
   "outputs": [
    {
     "data": {
      "text/plain": [
       "2"
      ]
     },
     "execution_count": 31,
     "metadata": {},
     "output_type": "execute_result"
    }
   ],
   "source": [
    "mytup=(1,2,1,3,4,5.6)\n",
    "mytup.count(1)"
   ]
  },
  {
   "cell_type": "code",
   "execution_count": 32,
   "id": "17999dc4",
   "metadata": {},
   "outputs": [
    {
     "name": "stdout",
     "output_type": "stream",
     "text": [
      "Help on method_descriptor:\n",
      "\n",
      "count(self, value, /)\n",
      "    Return number of occurrences of value.\n",
      "\n"
     ]
    }
   ],
   "source": [
    "help(tuple.count)"
   ]
  },
  {
   "cell_type": "code",
   "execution_count": 53,
   "id": "100748af",
   "metadata": {},
   "outputs": [
    {
     "data": {
      "text/plain": [
       "(2, 4, 6, 7, 8, 9, 3, 2)"
      ]
     },
     "execution_count": 53,
     "metadata": {},
     "output_type": "execute_result"
    }
   ],
   "source": [
    "mt2=(2,4,6,7,8,9,3)\n",
    "ml3=list(mt2)\n",
    "ml3.append(2)\n",
    "ml3\n",
    "ab=tuple(ml3)\n",
    "ab\n"
   ]
  },
  {
   "cell_type": "code",
   "execution_count": 165,
   "id": "557ebb53",
   "metadata": {},
   "outputs": [
    {
     "data": {
      "text/plain": [
       "'nana'"
      ]
     },
     "execution_count": 165,
     "metadata": {},
     "output_type": "execute_result"
    }
   ],
   "source": [
    "#pythong disctionaries \n",
    "\n",
    "md1 = {'empname':'jitendra','empid':'1234','manager':'Ketan','location':'BLR','skill':'devops'}\n",
    "md1.setdefault('raja','nana')\n",
    "md1.get('raja')\n"
   ]
  },
  {
   "cell_type": "code",
   "execution_count": 172,
   "id": "e69b8798",
   "metadata": {},
   "outputs": [
    {
     "data": {
      "text/plain": [
       "'empname'"
      ]
     },
     "execution_count": 172,
     "metadata": {},
     "output_type": "execute_result"
    }
   ],
   "source": [
    "md1 = {'empname':'jitendra','empid':'1234','manager':'Ketan','location':'BLR','skill':'devops'}\n",
    "md2 = {'bankname':'sbi','branch':'mgroad'}\n",
    "md1.update(md2)\n",
    "mdlist=list(md1.keys())\n",
    "mdlist[0]\n"
   ]
  },
  {
   "cell_type": "code",
   "execution_count": 187,
   "id": "8c71d2d8",
   "metadata": {},
   "outputs": [
    {
     "data": {
      "text/plain": [
       "['name', 'empid', 'city']"
      ]
     },
     "execution_count": 187,
     "metadata": {},
     "output_type": "execute_result"
    }
   ],
   "source": [
    "keylist=['name','empid','city']\n",
    "valuelist=['jitendra','12345','Pune']\n",
    "z = dict(zip(keylist,valuelist))\n",
    "x = list(z)\n",
    "x\n"
   ]
  },
  {
   "cell_type": "code",
   "execution_count": 193,
   "id": "dcc0425a",
   "metadata": {},
   "outputs": [
    {
     "data": {
      "text/plain": [
       "{1, 2, 3, 4, 5, 6}"
      ]
     },
     "execution_count": 193,
     "metadata": {},
     "output_type": "execute_result"
    }
   ],
   "source": [
    "ms1={2,4,5,6}\n",
    "ms2={1,2,3,4,6}\n",
    "ms1.union(ms2)"
   ]
  },
  {
   "cell_type": "code",
   "execution_count": 198,
   "id": "803812d3",
   "metadata": {},
   "outputs": [
    {
     "name": "stdout",
     "output_type": "stream",
     "text": [
      "5/9\n",
      "1272266894732165/1125899906842624\n"
     ]
    }
   ],
   "source": [
    "# check  and print type of num variable\n",
    "num = 10\n",
    " \n",
    "# convert the num into string\n",
    "converted_num = str(num)\n",
    "from fractions import Fraction \n",
    "print (Fraction(10, 18))\n",
    "from fractions import Fraction\n",
    " \n",
    "print (Fraction(1.13))"
   ]
  }
 ],
 "metadata": {
  "kernelspec": {
   "display_name": "Python 3 (ipykernel)",
   "language": "python",
   "name": "python3"
  },
  "language_info": {
   "codemirror_mode": {
    "name": "ipython",
    "version": 3
   },
   "file_extension": ".py",
   "mimetype": "text/x-python",
   "name": "python",
   "nbconvert_exporter": "python",
   "pygments_lexer": "ipython3",
   "version": "3.10.9"
  }
 },
 "nbformat": 4,
 "nbformat_minor": 5
}
