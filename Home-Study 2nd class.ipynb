{
 "cells": [
  {
   "cell_type": "code",
   "execution_count": null,
   "id": "8f8b2034",
   "metadata": {},
   "outputs": [],
   "source": [
    "#else if condition loops"
   ]
  },
  {
   "cell_type": "code",
   "execution_count": null,
   "id": "6717f579",
   "metadata": {},
   "outputs": [],
   "source": [
    "def gradecheck():\n",
    "    marks=int(input('please provide  marks you got:  '))\n",
    "    result = ('your marks :', marks,'result','pass with grace') if marks>80  else ('your marks :', marks,'result','passsed' )  if marks>40  else ('your marks :', marks,'result','FAILED' )\n",
    "    return result \n",
    "gradecheck()"
   ]
  },
  {
   "cell_type": "code",
   "execution_count": 3,
   "id": "3e4f3806",
   "metadata": {},
   "outputs": [
    {
     "name": "stdout",
     "output_type": "stream",
     "text": [
      "Provide temprature you feel : 65\n"
     ]
    },
    {
     "data": {
      "text/plain": [
       "'Hot'"
      ]
     },
     "execution_count": 3,
     "metadata": {},
     "output_type": "execute_result"
    }
   ],
   "source": [
    "def tempcheck():\n",
    "    temp=int(input('Provide temprature you feel : '))\n",
    "    result = 'Hot' if temp > 37 else 'cold' if temp < 12 else 'modrate'\n",
    "    return result\n",
    "tempcheck()"
   ]
  },
  {
   "cell_type": "code",
   "execution_count": 4,
   "id": "019d76df",
   "metadata": {},
   "outputs": [],
   "source": [
    "#Range"
   ]
  },
  {
   "cell_type": "code",
   "execution_count": 14,
   "id": "2201c667",
   "metadata": {},
   "outputs": [
    {
     "name": "stdout",
     "output_type": "stream",
     "text": [
      "<class 'range'>\n"
     ]
    },
    {
     "data": {
      "text/plain": [
       "[10, 12, 14, 16, 18]"
      ]
     },
     "execution_count": 14,
     "metadata": {},
     "output_type": "execute_result"
    }
   ],
   "source": [
    "ra = range(10,20,2)\n",
    "print(type(ra))\n",
    "ra\n",
    "list1=list(ra)\n",
    "list1"
   ]
  },
  {
   "cell_type": "code",
   "execution_count": 22,
   "id": "10fec522",
   "metadata": {},
   "outputs": [
    {
     "data": {
      "text/plain": [
       "424"
      ]
     },
     "execution_count": 22,
     "metadata": {},
     "output_type": "execute_result"
    }
   ],
   "source": [
    "list1=list(range(10,100,2))\n",
    "import sys\n",
    "sys.getsizeof(list1)"
   ]
  },
  {
   "cell_type": "code",
   "execution_count": 23,
   "id": "30a7e53d",
   "metadata": {},
   "outputs": [],
   "source": [
    "#loops"
   ]
  },
  {
   "cell_type": "code",
   "execution_count": 28,
   "id": "ef71caa4",
   "metadata": {},
   "outputs": [
    {
     "name": "stdout",
     "output_type": "stream",
     "text": [
      "5 10 15 "
     ]
    }
   ],
   "source": [
    "n1=5\n",
    "n2=20\n",
    "while n1 < n2:\n",
    "    print(n1,end=' ')\n",
    "    n1=n1+5\n"
   ]
  },
  {
   "cell_type": "code",
   "execution_count": 33,
   "id": "3d3e9841",
   "metadata": {},
   "outputs": [
    {
     "name": "stdout",
     "output_type": "stream",
     "text": [
      "bank sbi\n",
      "city kanpur\n"
     ]
    }
   ],
   "source": [
    "#for loop\n",
    "dc = {'bank':'sbi','city':'kanpur'}\n",
    "dc.items()\n",
    "for k,v in dc.items():\n",
    "    print(k,v)"
   ]
  },
  {
   "cell_type": "code",
   "execution_count": 40,
   "id": "86ae0f3e",
   "metadata": {},
   "outputs": [
    {
     "name": "stdout",
     "output_type": "stream",
     "text": [
      "10: *20: *30: *"
     ]
    }
   ],
   "source": [
    "for a in [10,20,30]:\n",
    "    print(a,end=': *')"
   ]
  },
  {
   "cell_type": "code",
   "execution_count": 43,
   "id": "a744cf69",
   "metadata": {},
   "outputs": [
    {
     "name": "stdout",
     "output_type": "stream",
     "text": [
      "10 20 30 "
     ]
    }
   ],
   "source": [
    "for a in {10,20,30}:\n",
    "    print(a,end=' ')"
   ]
  },
  {
   "cell_type": "code",
   "execution_count": 44,
   "id": "10a5b979",
   "metadata": {},
   "outputs": [],
   "source": [
    "#loop Termination "
   ]
  },
  {
   "cell_type": "code",
   "execution_count": 51,
   "id": "ff0724b5",
   "metadata": {},
   "outputs": [
    {
     "name": "stdout",
     "output_type": "stream",
     "text": [
      "8 7 5 4 3 2 1 0 \n",
      " full done\n"
     ]
    }
   ],
   "source": [
    "count = 9\n",
    "while (count > 0):\n",
    "    count = count -1\n",
    "    if count == 6:\n",
    "        continue\n",
    "    print(count,end=' ')\n",
    "print('\\n full done')"
   ]
  },
  {
   "cell_type": "code",
   "execution_count": 61,
   "id": "93e7e51f",
   "metadata": {},
   "outputs": [
    {
     "name": "stdout",
     "output_type": "stream",
     "text": [
      "please provide a number17\n"
     ]
    },
    {
     "data": {
      "text/plain": [
       "True"
      ]
     },
     "execution_count": 61,
     "metadata": {},
     "output_type": "execute_result"
    }
   ],
   "source": [
    "def isprime():\n",
    "    n = int(input('please provide a number'))\n",
    "    for div in range(2,n):\n",
    "        if n%div==0:\n",
    "            return False\n",
    "    else:\n",
    "        return True\n",
    "isprime()"
   ]
  },
  {
   "cell_type": "code",
   "execution_count": 62,
   "id": "27fba964",
   "metadata": {},
   "outputs": [],
   "source": [
    "#function rules : \n",
    "#required parameters must be specified before default parameters +\n"
   ]
  },
  {
   "cell_type": "code",
   "execution_count": 70,
   "id": "3f5fe37c",
   "metadata": {},
   "outputs": [
    {
     "name": "stdout",
     "output_type": "stream",
     "text": [
      "r0 10 100 200\n"
     ]
    }
   ],
   "source": [
    "def mf12(r0,r1,d=100,d1=200,*args,**krgs):\n",
    "    print('r0',r0,d,d1)\n",
    "mf12(10,20)"
   ]
  },
  {
   "cell_type": "code",
   "execution_count": 71,
   "id": "216d8dbf",
   "metadata": {},
   "outputs": [
    {
     "name": "stdout",
     "output_type": "stream",
     "text": [
      "name John\n",
      "age 30\n",
      "city New York\n"
     ]
    }
   ],
   "source": [
    "def my_function(**kwargs):\n",
    "    for key, value in kwargs.items():\n",
    "        print(key, value)\n",
    "\n",
    "# Using the function with keyword arguments\n",
    "my_function(name=\"John\", age=30, city=\"New York\")\n"
   ]
  },
  {
   "cell_type": "code",
   "execution_count": 76,
   "id": "3c1458c7",
   "metadata": {},
   "outputs": [
    {
     "name": "stdout",
     "output_type": "stream",
     "text": [
      "city Japan\n"
     ]
    }
   ],
   "source": [
    "def my12(**kwargs):\n",
    "    for k,v in kwargs.items():\n",
    "        print(k,v)\n",
    "my12(city='Japan')"
   ]
  },
  {
   "cell_type": "code",
   "execution_count": 77,
   "id": "fdaa8a2b",
   "metadata": {},
   "outputs": [],
   "source": [
    "#lambda anonymus functions"
   ]
  },
  {
   "cell_type": "code",
   "execution_count": 85,
   "id": "ecc75374",
   "metadata": {},
   "outputs": [
    {
     "data": {
      "text/plain": [
       "('even', 'odd')"
      ]
     },
     "execution_count": 85,
     "metadata": {},
     "output_type": "execute_result"
    }
   ],
   "source": [
    "#write function if Number is event or not \n",
    "iseven=lambda x: 'even' if x%2==0 else 'odd'\n",
    "iseven(2),iseven(3)"
   ]
  },
  {
   "cell_type": "code",
   "execution_count": 92,
   "id": "f9dc0659",
   "metadata": {},
   "outputs": [
    {
     "name": "stdout",
     "output_type": "stream",
     "text": [
      "6\n"
     ]
    }
   ],
   "source": [
    "#pass statement : \n",
    "for i in range(0,10,2):\n",
    "    if i==6:\n",
    "        print(i)\n",
    "    else:\n",
    "      pass"
   ]
  },
  {
   "cell_type": "code",
   "execution_count": 108,
   "id": "5b4bdb76",
   "metadata": {},
   "outputs": [
    {
     "name": "stdout",
     "output_type": "stream",
     "text": [
      "outside function 100 70\n",
      "72\n",
      "71\n"
     ]
    }
   ],
   "source": [
    "#global name space Area : \n",
    "g1=100\n",
    "g2=70\n",
    "def mf99(v1):\n",
    "    v2=222\n",
    "    g2=71\n",
    "    def mf100():\n",
    "        g2=72\n",
    "        print(g2)\n",
    "    mf100()\n",
    "    print(g2)\n",
    "print('outside function',g1,g2)\n",
    "mf99(66)\n"
   ]
  },
  {
   "cell_type": "code",
   "execution_count": 114,
   "id": "16eb6709",
   "metadata": {},
   "outputs": [
    {
     "name": "stdout",
     "output_type": "stream",
     "text": [
      "24\n"
     ]
    }
   ],
   "source": [
    "#recursive function\n",
    "def factorial(n):\n",
    "    if n == 0:\n",
    "        return 1\n",
    "    else:\n",
    "        return n*factorial(n-1)\n",
    "x=factorial(4)\n",
    "print(x)"
   ]
  },
  {
   "cell_type": "code",
   "execution_count": 120,
   "id": "854e2edd",
   "metadata": {},
   "outputs": [
    {
     "data": {
      "text/plain": [
       "[4, 16, 36, 64, 100]"
      ]
     },
     "execution_count": 120,
     "metadata": {},
     "output_type": "execute_result"
    }
   ],
   "source": [
    "#list comprehansion : \n",
    "mylist1=[2,4,6,8,10]\n",
    "newlist=[]\n",
    "for i in range(0,len(mylist1)):\n",
    "    newlist.append(mylist1[i]**2)\n",
    "newlist\n"
   ]
  },
  {
   "cell_type": "code",
   "execution_count": 124,
   "id": "38905f34",
   "metadata": {},
   "outputs": [
    {
     "data": {
      "text/plain": [
       "[('u1', 'p1'),\n",
       " ('u1', 'p2'),\n",
       " ('u1', 'p3'),\n",
       " ('u2', 'p1'),\n",
       " ('u2', 'p2'),\n",
       " ('u2', 'p3'),\n",
       " ('u3', 'p1'),\n",
       " ('u3', 'p2'),\n",
       " ('u3', 'p3')]"
      ]
     },
     "execution_count": 124,
     "metadata": {},
     "output_type": "execute_result"
    }
   ],
   "source": [
    "ulist=['u1','u2','u3']\n",
    "plist=['p1','p2','p3']\n",
    "uplist=[]\n",
    "for i in ulist:\n",
    "    for j in plist:\n",
    "        uplist.append((i,j))\n",
    "uplist\n",
    "        "
   ]
  },
  {
   "cell_type": "code",
   "execution_count": 133,
   "id": "ef6cb9cd",
   "metadata": {},
   "outputs": [
    {
     "data": {
      "text/plain": [
       "[(1, 1), (2, 4), (3, 27), (4, 16), (5, 125), (6, 36), (7, 343)]"
      ]
     },
     "execution_count": 133,
     "metadata": {},
     "output_type": "execute_result"
    }
   ],
   "source": [
    "plist=[1,2,3,4,5,6,7]\n",
    "#mlist=[num**2 if num%2==0 else num**3 for num in plist]\n",
    "mlist=[]\n",
    "for i in plist:\n",
    "    if i%2==0:\n",
    "     mlist.append((i,i**2))\n",
    "    else:\n",
    "        mlist.append((i,i**3))\n",
    "mlist"
   ]
  },
  {
   "cell_type": "code",
   "execution_count": 134,
   "id": "9fa9e96d",
   "metadata": {},
   "outputs": [
    {
     "ename": "NameError",
     "evalue": "name 'u' is not defined",
     "output_type": "error",
     "traceback": [
      "\u001b[0;31m---------------------------------------------------------------------------\u001b[0m",
      "\u001b[0;31mNameError\u001b[0m                                 Traceback (most recent call last)",
      "Cell \u001b[0;32mIn[134], line 3\u001b[0m\n\u001b[1;32m      1\u001b[0m ulist\u001b[38;5;241m=\u001b[39m[\u001b[38;5;124m'\u001b[39m\u001b[38;5;124mu1\u001b[39m\u001b[38;5;124m'\u001b[39m,\u001b[38;5;124m'\u001b[39m\u001b[38;5;124mu2\u001b[39m\u001b[38;5;124m'\u001b[39m,\u001b[38;5;124m'\u001b[39m\u001b[38;5;124mu3\u001b[39m\u001b[38;5;124m'\u001b[39m]\n\u001b[1;32m      2\u001b[0m plist\u001b[38;5;241m=\u001b[39m[\u001b[38;5;124m'\u001b[39m\u001b[38;5;124mp1\u001b[39m\u001b[38;5;124m'\u001b[39m,\u001b[38;5;124m'\u001b[39m\u001b[38;5;124mp2\u001b[39m\u001b[38;5;124m'\u001b[39m,\u001b[38;5;124m'\u001b[39m\u001b[38;5;124mp3\u001b[39m\u001b[38;5;124m'\u001b[39m]\n\u001b[0;32m----> 3\u001b[0m uplist\u001b[38;5;241m=\u001b[39m[(u,p) \u001b[38;5;28;01mfor\u001b[39;00m i \u001b[38;5;129;01min\u001b[39;00m ulist \u001b[38;5;28;01mif\u001b[39;00m u\u001b[38;5;241m!=\u001b[39m\u001b[38;5;124m'\u001b[39m\u001b[38;5;124mu2\u001b[39m\u001b[38;5;124m'\u001b[39m \u001b[38;5;28;01mfor\u001b[39;00m p \u001b[38;5;129;01min\u001b[39;00m plist \u001b[38;5;28;01mif\u001b[39;00m p\u001b[38;5;241m!=\u001b[39m\u001b[38;5;124m'\u001b[39m\u001b[38;5;124mp2\u001b[39m\u001b[38;5;124m'\u001b[39m]\n",
      "Cell \u001b[0;32mIn[134], line 3\u001b[0m, in \u001b[0;36m<listcomp>\u001b[0;34m(.0)\u001b[0m\n\u001b[1;32m      1\u001b[0m ulist\u001b[38;5;241m=\u001b[39m[\u001b[38;5;124m'\u001b[39m\u001b[38;5;124mu1\u001b[39m\u001b[38;5;124m'\u001b[39m,\u001b[38;5;124m'\u001b[39m\u001b[38;5;124mu2\u001b[39m\u001b[38;5;124m'\u001b[39m,\u001b[38;5;124m'\u001b[39m\u001b[38;5;124mu3\u001b[39m\u001b[38;5;124m'\u001b[39m]\n\u001b[1;32m      2\u001b[0m plist\u001b[38;5;241m=\u001b[39m[\u001b[38;5;124m'\u001b[39m\u001b[38;5;124mp1\u001b[39m\u001b[38;5;124m'\u001b[39m,\u001b[38;5;124m'\u001b[39m\u001b[38;5;124mp2\u001b[39m\u001b[38;5;124m'\u001b[39m,\u001b[38;5;124m'\u001b[39m\u001b[38;5;124mp3\u001b[39m\u001b[38;5;124m'\u001b[39m]\n\u001b[0;32m----> 3\u001b[0m uplist\u001b[38;5;241m=\u001b[39m[(u,p) \u001b[38;5;28;01mfor\u001b[39;00m i \u001b[38;5;129;01min\u001b[39;00m ulist \u001b[38;5;28;01mif\u001b[39;00m \u001b[43mu\u001b[49m\u001b[38;5;241m!=\u001b[39m\u001b[38;5;124m'\u001b[39m\u001b[38;5;124mu2\u001b[39m\u001b[38;5;124m'\u001b[39m \u001b[38;5;28;01mfor\u001b[39;00m p \u001b[38;5;129;01min\u001b[39;00m plist \u001b[38;5;28;01mif\u001b[39;00m p\u001b[38;5;241m!=\u001b[39m\u001b[38;5;124m'\u001b[39m\u001b[38;5;124mp2\u001b[39m\u001b[38;5;124m'\u001b[39m]\n",
      "\u001b[0;31mNameError\u001b[0m: name 'u' is not defined"
     ]
    }
   ],
   "source": [
    "ulist=['u1','u2','u3']\n",
    "plist=['p1','p2','p3']\n",
    "uplist=[(u,p) for i in ulist if u!='u2' for p in plist if p!='p2']"
   ]
  }
 ],
 "metadata": {
  "kernelspec": {
   "display_name": "Python 3 (ipykernel)",
   "language": "python",
   "name": "python3"
  },
  "language_info": {
   "codemirror_mode": {
    "name": "ipython",
    "version": 3
   },
   "file_extension": ".py",
   "mimetype": "text/x-python",
   "name": "python",
   "nbconvert_exporter": "python",
   "pygments_lexer": "ipython3",
   "version": "3.10.9"
  }
 },
 "nbformat": 4,
 "nbformat_minor": 5
}
