{
 "cells": [
  {
   "cell_type": "code",
   "execution_count": 10,
   "id": "2e690e3e",
   "metadata": {},
   "outputs": [],
   "source": [
    "a = 10\n"
   ]
  },
  {
   "cell_type": "code",
   "execution_count": 11,
   "id": "13b4c8dc",
   "metadata": {},
   "outputs": [],
   "source": [
    "a = 3"
   ]
  },
  {
   "cell_type": "code",
   "execution_count": 47,
   "id": "6c936fe7",
   "metadata": {},
   "outputs": [
    {
     "name": "stdout",
     "output_type": "stream",
     "text": [
      "<class 'list'>\n",
      "0\n",
      "1\n",
      "2\n",
      "3\n",
      "4\n",
      "5\n",
      "[339195, 282495, 598917, 322111, 403224, 129767]\n",
      "[339195, 282495, 598917, 322111, 403224, 129767]\n"
     ]
    }
   ],
   "source": [
    "import random\n",
    "abc = []\n",
    "print(type(abc))\n",
    "for i in range(0,6):\n",
    "    print(i)\n",
    "    abc.append(random.randint(100000,999999)) \n",
    "#print(abc[0])\n",
    "print(abc)\n",
    "d= []\n",
    "print(abc        vc-)\n",
    "d.reverse()"
   ]
  },
  {
   "cell_type": "code",
   "execution_count": null,
   "id": "0d7c0521",
   "metadata": {},
   "outputs": [],
   "source": []
  }
 ],
 "metadata": {
  "kernelspec": {
   "display_name": "Python 3 (ipykernel)",
   "language": "python",
   "name": "python3"
  },
  "language_info": {
   "codemirror_mode": {
    "name": "ipython",
    "version": 3
   },
   "file_extension": ".py",
   "mimetype": "text/x-python",
   "name": "python",
   "nbconvert_exporter": "python",
   "pygments_lexer": "ipython3",
   "version": "3.10.9"
  }
 },
 "nbformat": 4,
 "nbformat_minor": 5
}
