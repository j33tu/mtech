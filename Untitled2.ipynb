{
 "cells": [
  {
   "cell_type": "code",
   "execution_count": 2,
   "id": "838d9d5c",
   "metadata": {},
   "outputs": [
    {
     "data": {
      "text/plain": [
       "array([[ 1,  4,  8],\n",
       "       [ 5,  7,  3],\n",
       "       [ 9, 14,  2]])"
      ]
     },
     "execution_count": 2,
     "metadata": {},
     "output_type": "execute_result"
    }
   ],
   "source": [
    "import numpy as np \n",
    "A = [[1, 4, 8], [5, 7, 3], [9, 14, 2]]\n",
    "np2=np.array(A)\n",
    "np2\n",
    "#np3=[]\n",
    "#for i in range(0,np2.in)\n",
    "#np3.append(np2[0][0]+np2[1][0]+np2[2][0])\n",
    "#np"
   ]
  },
  {
   "cell_type": "code",
   "execution_count": 8,
   "id": "6c7ca89b",
   "metadata": {},
   "outputs": [
    {
     "data": {
      "text/plain": [
       "array([[ 0,  1,  2,  3],\n",
       "       [ 4,  5,  6,  7],\n",
       "       [ 8,  9, 10, 11],\n",
       "       [12, 13, 14, 15],\n",
       "       [16, 17, 18, 19]])"
      ]
     },
     "execution_count": 8,
     "metadata": {},
     "output_type": "execute_result"
    }
   ],
   "source": [
    "mylist1=np.arange(20)\n",
    "np4=mylist1.reshape(5,4)\n",
    "type(np4)\n",
    "np4"
   ]
  },
  {
   "cell_type": "code",
   "execution_count": 11,
   "id": "07f69dd7",
   "metadata": {},
   "outputs": [
    {
     "data": {
      "text/plain": [
       "array([[15, 17, 45, 56],\n",
       "       [ 7, 42, 15, 63],\n",
       "       [54,  3, 61, 41],\n",
       "       [ 0, 87, 16, 20]])"
      ]
     },
     "execution_count": 11,
     "metadata": {},
     "output_type": "execute_result"
    }
   ],
   "source": [
    "M = [[15, 17, 45, 56], [7, 42, 15, 63], [54, 3, 61, 41], [0, 87, 16, 20]]\n",
    "np1=np.array(M)\n",
    "\n",
    "np1"
   ]
  },
  {
   "cell_type": "code",
   "execution_count": 18,
   "id": "4475b28c",
   "metadata": {},
   "outputs": [
    {
     "data": {
      "text/plain": [
       "array([[ 8,  7,  0,  9],\n",
       "       [ 2, -3,  5, 10],\n",
       "       [ 8,  5, -1,  3]])"
      ]
     },
     "execution_count": 18,
     "metadata": {},
     "output_type": "execute_result"
    }
   ],
   "source": [
    "B = [[8, 7, 0, 9], [2, -3, 5, 10], [8, 5, -1,3]]\n",
    "np1=np.array(B)\n",
    "np1\n"
   ]
  },
  {
   "cell_type": "code",
   "execution_count": 19,
   "id": "9d5a10f1",
   "metadata": {},
   "outputs": [
    {
     "data": {
      "text/plain": [
       "[array([[ 8,  7,  0,  9],\n",
       "        [ 2, -3,  5, 10],\n",
       "        [ 8,  5, -1,  3]])]"
      ]
     },
     "execution_count": 19,
     "metadata": {},
     "output_type": "execute_result"
    }
   ],
   "source": [
    "np.split(np1,1)"
   ]
  },
  {
   "cell_type": "code",
   "execution_count": 26,
   "id": "761e73d2",
   "metadata": {},
   "outputs": [
    {
     "data": {
      "text/html": [
       "<div>\n",
       "<style scoped>\n",
       "    .dataframe tbody tr th:only-of-type {\n",
       "        vertical-align: middle;\n",
       "    }\n",
       "\n",
       "    .dataframe tbody tr th {\n",
       "        vertical-align: top;\n",
       "    }\n",
       "\n",
       "    .dataframe thead th {\n",
       "        text-align: right;\n",
       "    }\n",
       "</style>\n",
       "<table border=\"1\" class=\"dataframe\">\n",
       "  <thead>\n",
       "    <tr style=\"text-align: right;\">\n",
       "      <th></th>\n",
       "      <th>0</th>\n",
       "      <th>1</th>\n",
       "    </tr>\n",
       "  </thead>\n",
       "  <tbody>\n",
       "    <tr>\n",
       "      <th>0</th>\n",
       "      <td>Joy</td>\n",
       "      <td>21</td>\n",
       "    </tr>\n",
       "    <tr>\n",
       "      <th>1</th>\n",
       "      <td>Mia</td>\n",
       "      <td>15</td>\n",
       "    </tr>\n",
       "    <tr>\n",
       "      <th>2</th>\n",
       "      <td>Sam</td>\n",
       "      <td>14</td>\n",
       "    </tr>\n",
       "  </tbody>\n",
       "</table>\n",
       "</div>"
      ],
      "text/plain": [
       "     0   1\n",
       "0  Joy  21\n",
       "1  Mia  15\n",
       "2  Sam  14"
      ]
     },
     "execution_count": 26,
     "metadata": {},
     "output_type": "execute_result"
    }
   ],
   "source": [
    "data = [['Joy', 21], ['Mia', 15], ['Sam', 14]]\n",
    "type(data)\n",
    "import pandas as pd\n",
    "df1=pd.DataFrame(data)\n",
    "df1"
   ]
  },
  {
   "cell_type": "code",
   "execution_count": 33,
   "id": "c87c41b4",
   "metadata": {},
   "outputs": [
    {
     "data": {
      "text/html": [
       "<div>\n",
       "<style scoped>\n",
       "    .dataframe tbody tr th:only-of-type {\n",
       "        vertical-align: middle;\n",
       "    }\n",
       "\n",
       "    .dataframe tbody tr th {\n",
       "        vertical-align: top;\n",
       "    }\n",
       "\n",
       "    .dataframe thead th {\n",
       "        text-align: right;\n",
       "    }\n",
       "</style>\n",
       "<table border=\"1\" class=\"dataframe\">\n",
       "  <thead>\n",
       "    <tr style=\"text-align: right;\">\n",
       "      <th></th>\n",
       "      <th>name</th>\n",
       "      <th>salary</th>\n",
       "    </tr>\n",
       "  </thead>\n",
       "  <tbody>\n",
       "    <tr>\n",
       "      <th>0</th>\n",
       "      <td>Emma Larter</td>\n",
       "      <td>3200</td>\n",
       "    </tr>\n",
       "    <tr>\n",
       "      <th>1</th>\n",
       "      <td>Mia Junior</td>\n",
       "      <td>4500</td>\n",
       "    </tr>\n",
       "    <tr>\n",
       "      <th>2</th>\n",
       "      <td>Sophia deep</td>\n",
       "      <td>3600</td>\n",
       "    </tr>\n",
       "    <tr>\n",
       "      <th>3</th>\n",
       "      <td>james smith</td>\n",
       "      <td>5560</td>\n",
       "    </tr>\n",
       "  </tbody>\n",
       "</table>\n",
       "</div>"
      ],
      "text/plain": [
       "          name  salary\n",
       "0  Emma Larter    3200\n",
       "1   Mia Junior    4500\n",
       "2  Sophia deep    3600\n",
       "3  james smith    5560"
      ]
     },
     "execution_count": 33,
     "metadata": {},
     "output_type": "execute_result"
    }
   ],
   "source": [
    "import pandas as pd\n",
    "list1={'name':['Emma Larter','Mia Junior','Sophia deep','james smith'],'salary':[3200,4500,3600,5560]}\n",
    "list1\n",
    "df2=pd.DataFrame(list1)\n",
    "df2"
   ]
  },
  {
   "cell_type": "code",
   "execution_count": 36,
   "id": "2c39e56b",
   "metadata": {},
   "outputs": [
    {
     "data": {
      "text/html": [
       "<div>\n",
       "<style scoped>\n",
       "    .dataframe tbody tr th:only-of-type {\n",
       "        vertical-align: middle;\n",
       "    }\n",
       "\n",
       "    .dataframe tbody tr th {\n",
       "        vertical-align: top;\n",
       "    }\n",
       "\n",
       "    .dataframe thead th {\n",
       "        text-align: right;\n",
       "    }\n",
       "</style>\n",
       "<table border=\"1\" class=\"dataframe\">\n",
       "  <thead>\n",
       "    <tr style=\"text-align: right;\">\n",
       "      <th></th>\n",
       "      <th>Name</th>\n",
       "      <th>Age</th>\n",
       "      <th>City</th>\n",
       "      <th>Salary</th>\n",
       "    </tr>\n",
       "  </thead>\n",
       "  <tbody>\n",
       "    <tr>\n",
       "      <th>0</th>\n",
       "      <td>Alice Johnson</td>\n",
       "      <td>25</td>\n",
       "      <td>New York</td>\n",
       "      <td>50000</td>\n",
       "    </tr>\n",
       "    <tr>\n",
       "      <th>1</th>\n",
       "      <td>Bob Smith</td>\n",
       "      <td>32</td>\n",
       "      <td>Los Angeles</td>\n",
       "      <td>65000</td>\n",
       "    </tr>\n",
       "    <tr>\n",
       "      <th>2</th>\n",
       "      <td>Charlie Brown</td>\n",
       "      <td>18</td>\n",
       "      <td>Chicago</td>\n",
       "      <td>40000</td>\n",
       "    </tr>\n",
       "    <tr>\n",
       "      <th>3</th>\n",
       "      <td>David Lee</td>\n",
       "      <td>47</td>\n",
       "      <td>Houston</td>\n",
       "      <td>80000</td>\n",
       "    </tr>\n",
       "    <tr>\n",
       "      <th>4</th>\n",
       "      <td>Eva Williams</td>\n",
       "      <td>31</td>\n",
       "      <td>Miami</td>\n",
       "      <td>55000</td>\n",
       "    </tr>\n",
       "  </tbody>\n",
       "</table>\n",
       "</div>"
      ],
      "text/plain": [
       "            Name  Age         City  Salary\n",
       "0  Alice Johnson   25     New York   50000\n",
       "1      Bob Smith   32  Los Angeles   65000\n",
       "2  Charlie Brown   18      Chicago   40000\n",
       "3      David Lee   47      Houston   80000\n",
       "4   Eva Williams   31        Miami   55000"
      ]
     },
     "execution_count": 36,
     "metadata": {},
     "output_type": "execute_result"
    }
   ],
   "source": [
    " data = {\n",
    "        'Name': ['Alice Johnson', 'Bob Smith', 'Charlie Brown', 'David Lee', 'Eva Williams'],\n",
    "        'Age': [25, 32, 18, 47, 31],\n",
    "        'City': ['New York', 'Los Angeles', 'Chicago', 'Houston', 'Miami'],\n",
    "        'Salary': [50000, 65000, 40000, 80000, 55000]\n",
    "    }\n",
    "\n",
    "df = pd.DataFrame(data)\n",
    "df"
   ]
  }
 ],
 "metadata": {
  "kernelspec": {
   "display_name": "Python 3 (ipykernel)",
   "language": "python",
   "name": "python3"
  },
  "language_info": {
   "codemirror_mode": {
    "name": "ipython",
    "version": 3
   },
   "file_extension": ".py",
   "mimetype": "text/x-python",
   "name": "python",
   "nbconvert_exporter": "python",
   "pygments_lexer": "ipython3",
   "version": "3.10.9"
  }
 },
 "nbformat": 4,
 "nbformat_minor": 5
}
