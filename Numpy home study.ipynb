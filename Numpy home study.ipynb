{
 "cells": [
  {
   "cell_type": "code",
   "execution_count": 1,
   "id": "b4e90d93",
   "metadata": {},
   "outputs": [],
   "source": [
    "#Numarical Python\n",
    "#genral purpose array procesing python\n",
    "#numpy number based access\n",
    "#pandas full access internally stores in numpy array only\n",
    "#Numpy is core library for scientific computing gernal purpose array processing.\n"
   ]
  },
  {
   "cell_type": "code",
   "execution_count": 2,
   "id": "eda449bf",
   "metadata": {},
   "outputs": [],
   "source": [
    "#ASIX >>>>> ID ARRAY ,2 D ARRAY , 3 D RRAY \n",
    "\n",
    "#SHAPE (4) shape(2,4) shape (4,3,2)\n"
   ]
  },
  {
   "cell_type": "code",
   "execution_count": 10,
   "id": "bb6d9f61",
   "metadata": {},
   "outputs": [
    {
     "name": "stdout",
     "output_type": "stream",
     "text": [
      "6\n",
      "(6,)\n",
      "8\n"
     ]
    }
   ],
   "source": [
    "import numpy as np\n",
    "mylist1=[11,22,33,44,55,66]\n",
    "n1=np.array(mylist1)\n",
    "print(n1.size)\n",
    "print(n1.shape)\n",
    "print(n1.itemsize)"
   ]
  },
  {
   "cell_type": "code",
   "execution_count": 23,
   "id": "693f8e71",
   "metadata": {},
   "outputs": [
    {
     "data": {
      "text/plain": [
       "array([[11, 22, 33],\n",
       "       [44, 55, 66]])"
      ]
     },
     "execution_count": 23,
     "metadata": {},
     "output_type": "execute_result"
    }
   ],
   "source": [
    "#creation of matrix\n",
    "list1 = [\n",
    "    [11,22,33],\n",
    "    [44,55,66]\n",
    "]\n",
    "list1\n",
    "n2=np.array(list1)\n",
    "n2[0:2]"
   ]
  },
  {
   "cell_type": "code",
   "execution_count": 29,
   "id": "64e04c3d",
   "metadata": {},
   "outputs": [
    {
     "data": {
      "text/plain": [
       "array([[ 0,  1,  2,  3],\n",
       "       [ 4,  5,  6,  7],\n",
       "       [ 8,  9, 10, 11]])"
      ]
     },
     "execution_count": 29,
     "metadata": {},
     "output_type": "execute_result"
    }
   ],
   "source": [
    "#arange\n",
    "n1=np.arange(12)\n",
    "n1\n",
    "n2=n1.reshape(3,4)\n",
    "n2"
   ]
  },
  {
   "cell_type": "code",
   "execution_count": 37,
   "id": "694c1f97",
   "metadata": {},
   "outputs": [
    {
     "data": {
      "text/plain": [
       "array([[83, 40, 73, 54],\n",
       "       [31, 76, 91, 39],\n",
       "       [90, 25, 51,  6],\n",
       "       [45, 12, 49, 66],\n",
       "       [75, 85, 69, 64],\n",
       "       [12, 21, 48, 41]])"
      ]
     },
     "execution_count": 37,
     "metadata": {},
     "output_type": "execute_result"
    }
   ],
   "source": [
    "np.random.seed(23)\n",
    "n1=np.random.randint(low=0,high=99,size=(6,4))\n",
    "n1"
   ]
  },
  {
   "cell_type": "code",
   "execution_count": 40,
   "id": "da04ff87",
   "metadata": {},
   "outputs": [
    {
     "data": {
      "text/plain": [
       "array([83, 40, 73, 54])"
      ]
     },
     "execution_count": 40,
     "metadata": {},
     "output_type": "execute_result"
    }
   ],
   "source": [
    "n1[0]"
   ]
  },
  {
   "cell_type": "code",
   "execution_count": 66,
   "id": "8185ac17",
   "metadata": {},
   "outputs": [
    {
     "data": {
      "text/plain": [
       "array([[83, 40, 73, 54, 31, 76, 91, 39, 90],\n",
       "       [25, 51,  6, 45, 12, 49, 66, 75, 85],\n",
       "       [69, 64, 12, 21, 48, 41, 79, 90, 62],\n",
       "       [57, 19, 33, 59, 39, 15, 36, 65,  1],\n",
       "       [43, 15, 86, 83, 58, 25, 66, 74, 35],\n",
       "       [96, 56, 13, 60, 22, 38, 31, 94, 78],\n",
       "       [ 0, 21,  6, 32, 98, 32, 14, 31, 78],\n",
       "       [83, 80, 70, 66, 82, 85, 55, 27, 62]])"
      ]
     },
     "execution_count": 66,
     "metadata": {},
     "output_type": "execute_result"
    }
   ],
   "source": [
    "np.random.seed(23)\n",
    "n1=np.random.randint(low=0,high=99,size=(8,9))\n",
    "n1"
   ]
  },
  {
   "cell_type": "code",
   "execution_count": 68,
   "id": "c0369c6d",
   "metadata": {},
   "outputs": [
    {
     "data": {
      "text/plain": [
       "array([[45, 12, 49],\n",
       "       [21, 48, 41],\n",
       "       [59, 39, 15],\n",
       "       [83, 58, 25],\n",
       "       [60, 22, 38]])"
      ]
     },
     "execution_count": 68,
     "metadata": {},
     "output_type": "execute_result"
    }
   ],
   "source": [
    "n1[1:6,3:6]"
   ]
  },
  {
   "cell_type": "code",
   "execution_count": 58,
   "id": "6b4f05be",
   "metadata": {},
   "outputs": [
    {
     "data": {
      "text/plain": [
       "83"
      ]
     },
     "execution_count": 58,
     "metadata": {},
     "output_type": "execute_result"
    }
   ],
   "source": [
    "np.random.seed(23)\n",
    "n89 = np.random.randint(low=0,high=100,size=(8,9))\n",
    "n89\n",
    "n89[0,0] # loosely \n",
    "#Grammer n89[[list of rows]]"
   ]
  },
  {
   "cell_type": "code",
   "execution_count": 73,
   "id": "a031a3b6",
   "metadata": {},
   "outputs": [
    {
     "data": {
      "text/plain": [
       "array([[83, 40, 73, 54, 31, 76, 91, 39, 90],\n",
       "       [25, 51,  6, 45, 12, 49, 66, 75, 85],\n",
       "       [83, 80, 70, 66, 82, 85, 55, 27, 62],\n",
       "       [ 0, 21,  6, 32, 98, 32, 14, 31, 78]])"
      ]
     },
     "execution_count": 73,
     "metadata": {},
     "output_type": "execute_result"
    }
   ],
   "source": [
    "    n89[[0,1,-1,-2]]"
   ]
  },
  {
   "cell_type": "code",
   "execution_count": 79,
   "id": "c79b2fc4",
   "metadata": {},
   "outputs": [
    {
     "data": {
      "text/plain": [
       "array([31, 12, 82, 98])"
      ]
     },
     "execution_count": 79,
     "metadata": {},
     "output_type": "execute_result"
    }
   ],
   "source": [
    "    n89[[0,1,-1,-2],[4]]"
   ]
  },
  {
   "cell_type": "code",
   "execution_count": 81,
   "id": "c226cbbd",
   "metadata": {},
   "outputs": [
    {
     "data": {
      "text/plain": [
       "array([[83, 40, 73, 54, 31, 76, 91, 39, 90],\n",
       "       [25, 51,  6, 45, 12, 49, 66, 75, 85],\n",
       "       [69, 64, 12, 21, 48, 41, 79, 90, 62],\n",
       "       [57, 19, 33, 59, 39, 15, 36, 65,  1],\n",
       "       [43, 15, 86, 83, 58, 25, 66, 74, 35],\n",
       "       [96, 56, 13, 60, 22, 38, 31, 94, 78],\n",
       "       [ 0, 21,  6, 32, 98, 32, 14, 31, 78],\n",
       "       [83, 80, 70, 66, 82, 85, 55, 27, 62]])"
      ]
     },
     "execution_count": 81,
     "metadata": {},
     "output_type": "execute_result"
    }
   ],
   "source": [
    "np.random.seed(23)\n",
    "n89 = np.random.randint(low=0,high=100,size=(8,9))\n",
    "n89\n"
   ]
  },
  {
   "cell_type": "code",
   "execution_count": 82,
   "id": "9f61ae3e",
   "metadata": {},
   "outputs": [
    {
     "data": {
      "text/plain": [
       "array([[73, 76, 91],\n",
       "       [ 6, 49, 66],\n",
       "       [12, 41, 79],\n",
       "       [33, 15, 36],\n",
       "       [86, 25, 66],\n",
       "       [13, 38, 31],\n",
       "       [ 6, 32, 14],\n",
       "       [70, 85, 55]])"
      ]
     },
     "execution_count": 82,
     "metadata": {},
     "output_type": "execute_result"
    }
   ],
   "source": [
    "n89[:,[2,5,6]]"
   ]
  },
  {
   "cell_type": "code",
   "execution_count": 83,
   "id": "f62a83a9",
   "metadata": {},
   "outputs": [
    {
     "data": {
      "text/plain": [
       "array([[83, 40, 73, 54, 31, 76, 91, 39, 90],\n",
       "       [25, 51,  6, 45, 12, 49, 66, 75, 85],\n",
       "       [69, 64, 12, 21, 48, 41, 79, 90, 62],\n",
       "       [57, 19, 33, 59, 39, 15, 36, 65,  1],\n",
       "       [43, 15, 86, 83, 58, 25, 66, 74, 35],\n",
       "       [96, 56, 13, 60, 22, 38, 31, 94, 78],\n",
       "       [ 0, 21,  6, 32, 98, 32, 14, 31, 78],\n",
       "       [83, 80, 70, 66, 82, 85, 55, 27, 62]])"
      ]
     },
     "execution_count": 83,
     "metadata": {},
     "output_type": "execute_result"
    }
   ],
   "source": [
    "np.random.seed(23)\n",
    "n89 = np.random.randint(low=0,high=100,size=(8,9))\n",
    "n89"
   ]
  },
  {
   "cell_type": "code",
   "execution_count": 91,
   "id": "3db0a99c",
   "metadata": {},
   "outputs": [
    {
     "data": {
      "text/plain": [
       "array([[49],\n",
       "       [41],\n",
       "       [15],\n",
       "       [25]])"
      ]
     },
     "execution_count": 91,
     "metadata": {},
     "output_type": "execute_result"
    }
   ],
   "source": [
    "n89[1:5,[5]]"
   ]
  },
  {
   "cell_type": "code",
   "execution_count": 93,
   "id": "285cf111",
   "metadata": {},
   "outputs": [],
   "source": [
    "#conditional acces numpy : "
   ]
  },
  {
   "cell_type": "code",
   "execution_count": 105,
   "id": "62178071",
   "metadata": {},
   "outputs": [
    {
     "data": {
      "text/plain": [
       "array([44, 58, 35, 43, 29, 55, 10, 49, 16, 53, 68, 16, 25, 52, 45, 66, 61,\n",
       "       23, 37, 63, 43, 19, 40, 69,  5, 47, 19, 62, 29, 39, 60, 17, 64, 26,\n",
       "       42, 35,  4, 25, 10, 36, 36, 18, 35, 59, 31, 66, 47])"
      ]
     },
     "execution_count": 105,
     "metadata": {},
     "output_type": "execute_result"
    }
   ],
   "source": [
    "np.random.seed(23)\n",
    "n89=np.random.randint(low=4,high=99,size=(8,9))\n",
    "mask=n89 <90\n",
    "n89[n89 < 70]\n"
   ]
  },
  {
   "cell_type": "code",
   "execution_count": 108,
   "id": "36b29097",
   "metadata": {},
   "outputs": [
    {
     "data": {
      "text/plain": [
       "array([[ True,  True,  True,  True,  True,  True, False,  True, False],\n",
       "       [ True,  True,  True,  True,  True,  True,  True,  True,  True],\n",
       "       [ True,  True,  True,  True,  True,  True,  True, False,  True],\n",
       "       [ True,  True,  True,  True,  True,  True,  True,  True,  True],\n",
       "       [ True,  True, False,  True,  True,  True,  True,  True,  True],\n",
       "       [ True,  True,  True,  True,  True,  True, False,  True,  True],\n",
       "       [ True,  True,  True,  True,  True,  True,  True,  True,  True],\n",
       "       [ True,  True,  True,  True,  True,  True,  True,  True,  True]])"
      ]
     },
     "execution_count": 108,
     "metadata": {},
     "output_type": "execute_result"
    }
   ],
   "source": [
    "\n",
    "mask2=  n89 < 90\n",
    "mask2"
   ]
  },
  {
   "cell_type": "code",
   "execution_count": 119,
   "id": "2d9f2711",
   "metadata": {},
   "outputs": [
    {
     "data": {
      "text/plain": [
       "array([[89, 89, 89, 89, 89, 89, 91, 89, 90],\n",
       "       [89, 89, 89, 89, 89, 89, 89, 89, 89],\n",
       "       [89, 89, 89, 89, 89, 89, 89, 90, 89],\n",
       "       [89, 89, 89, 89, 89, 89, 89, 89, 89],\n",
       "       [89, 89, 89, 89, 89, 89, 89, 89, 89],\n",
       "       [96, 89, 89, 89, 89, 89, 89, 94, 89],\n",
       "       [89, 89, 89, 89, 98, 89, 89, 89, 89],\n",
       "       [89, 89, 89, 89, 89, 89, 89, 89, 89]])"
      ]
     },
     "execution_count": 119,
     "metadata": {},
     "output_type": "execute_result"
    }
   ],
   "source": [
    "np.random.seed(23)\n",
    "n89=np.random.randint(low=0,high=100,size=(8,9))\n",
    "n89[0]\n",
    "n89[n89 < 90]=89\n",
    "n89"
   ]
  },
  {
   "cell_type": "code",
   "execution_count": 121,
   "id": "2928d1bd",
   "metadata": {},
   "outputs": [
    {
     "data": {
      "text/plain": [
       "array([[83, 40, 73, 54, 31, 76, 91, 39, 90],\n",
       "       [25, 51,  6, 45, 12, 49, 66, 75, 85],\n",
       "       [69, 64, 12, 21, 48, 41, 79, 90, 62],\n",
       "       [57, 19, 33, 59, 39, 15, 36, 65,  1],\n",
       "       [43, 15, 86, 83, 58, 25, 66, 74, 35],\n",
       "       [96, 56, 13, 60, 22, 38, 31, 94, 78],\n",
       "       [ 0, 21,  6, 32, 98, 32, 14, 31, 78],\n",
       "       [83, 80, 70, 66, 82, 85, 55, 27, 62]])"
      ]
     },
     "execution_count": 121,
     "metadata": {},
     "output_type": "execute_result"
    }
   ],
   "source": [
    "\n",
    "np.random.seed(23)\n",
    "n89=np.random.randint(low=0,high=100,size=(8,9))\n",
    "n89\n"
   ]
  },
  {
   "cell_type": "code",
   "execution_count": 129,
   "id": "bd0a4ca1",
   "metadata": {},
   "outputs": [
    {
     "data": {
      "text/plain": [
       "array([[ 0,  1],\n",
       "       [ 2,  3],\n",
       "       [ 4,  5],\n",
       "       [ 6,  7],\n",
       "       [ 8,  9],\n",
       "       [10, 11]])"
      ]
     },
     "execution_count": 129,
     "metadata": {},
     "output_type": "execute_result"
    }
   ],
   "source": [
    "n34=np.arange(12)\n",
    "n34.reshape(3,4).reshape(6,2)"
   ]
  },
  {
   "cell_type": "code",
   "execution_count": 136,
   "id": "66bff891",
   "metadata": {},
   "outputs": [
    {
     "data": {
      "text/plain": [
       "array([[100, 101, 102, 103, 104, 105],\n",
       "       [106, 107, 108, 109, 110, 111],\n",
       "       [112, 113, 114, 115, 116, 117]])"
      ]
     },
     "execution_count": 136,
     "metadata": {},
     "output_type": "execute_result"
    }
   ],
   "source": [
    "n36=np.arange(100,118).reshape(3,6)\n",
    "n36"
   ]
  },
  {
   "cell_type": "code",
   "execution_count": 142,
   "id": "c2d30ad1",
   "metadata": {},
   "outputs": [
    {
     "name": "stdout",
     "output_type": "stream",
     "text": [
      "[1 2 3 4 5 6]\n"
     ]
    }
   ],
   "source": [
    "\n",
    "# Create two 1-dimensional arrays\n",
    "array1 = np.array([1, 2, 3])\n",
    "array2 = np.array([4, 5, 6])\n",
    "\n",
    "# Vertically stack the arrays\n",
    "result = np.hstack((array1, array2))\n",
    "\n",
    "print(result)"
   ]
  },
  {
   "cell_type": "code",
   "execution_count": 146,
   "id": "2af7a16a",
   "metadata": {},
   "outputs": [
    {
     "data": {
      "text/plain": [
       "array([[200, 201, 202, 203],\n",
       "       [204, 205, 206, 207],\n",
       "       [208, 209, 210, 211],\n",
       "       [212, 213, 214, 215],\n",
       "       [216, 217, 218, 219],\n",
       "       [220, 221, 222, 223]])"
      ]
     },
     "execution_count": 146,
     "metadata": {},
     "output_type": "execute_result"
    }
   ],
   "source": [
    "n64=np.arange(200,224).reshape(6,4)\n",
    "n64\n"
   ]
  },
  {
   "cell_type": "code",
   "execution_count": 151,
   "id": "9fb89187",
   "metadata": {},
   "outputs": [
    {
     "data": {
      "text/plain": [
       "array([[ 0,  1,  2,  3],\n",
       "       [ 4,  5,  6,  7],\n",
       "       [ 8,  9, 10, 11],\n",
       "       [12, 13, 14, 15],\n",
       "       [16, 17, 18, 19],\n",
       "       [20, 21, 22, 23],\n",
       "       [24, 25, 26, 27],\n",
       "       [28, 29, 30, 31],\n",
       "       [32, 33, 34, 35]])"
      ]
     },
     "execution_count": 151,
     "metadata": {},
     "output_type": "execute_result"
    }
   ],
   "source": [
    "n94 = np.arange(0,36).reshape(9,4)\n",
    "n94\n"
   ]
  },
  {
   "cell_type": "code",
   "execution_count": 155,
   "id": "41b4fd08",
   "metadata": {},
   "outputs": [
    {
     "data": {
      "text/plain": [
       "array([[  0,   1,   2,   3],\n",
       "       [  4,   5,   6,   7],\n",
       "       [  8,   9,  10,  11],\n",
       "       [ 12,  13,  14,  15],\n",
       "       [ 16,  17,  18,  19],\n",
       "       [ 20,  21,  22,  23],\n",
       "       [ 24,  25,  26,  27],\n",
       "       [ 28,  29,  30,  31],\n",
       "       [ 32,  33,  34,  35],\n",
       "       [200, 201, 202, 203],\n",
       "       [204, 205, 206, 207],\n",
       "       [208, 209, 210, 211],\n",
       "       [212, 213, 214, 215],\n",
       "       [216, 217, 218, 219],\n",
       "       [220, 221, 222, 223]])"
      ]
     },
     "execution_count": 155,
     "metadata": {},
     "output_type": "execute_result"
    }
   ],
   "source": [
    "result=np.vstack(tup=(n94,n64))\n",
    "result"
   ]
  },
  {
   "cell_type": "code",
   "execution_count": 156,
   "id": "3b8ff111",
   "metadata": {},
   "outputs": [
    {
     "data": {
      "text/plain": [
       "array([[43, 74, 71, 42, 83, 21,  6, 68, 22],\n",
       "       [43,  8, 85, 62, 32, 60, 11,  1, 41],\n",
       "       [26, 37, 41, 56, 39, 81, 32, 53, 35],\n",
       "       [23, 29, 42, 38,  4, 93, 32, 50, 85],\n",
       "       [27, 33, 91, 95, 34,  0, 91, 11, 62],\n",
       "       [96, 88, 54, 89, 78, 41, 70, 85,  5],\n",
       "       [ 7,  4, 16,  9, 56, 48, 43, 62, 70],\n",
       "       [31,  2,  0, 15, 32, 48, 15, 61,  2]])"
      ]
     },
     "execution_count": 156,
     "metadata": {},
     "output_type": "execute_result"
    }
   ],
   "source": [
    "#Splitting of array \n",
    "n89 = np.random.randint(low=0,high=100,size=(8,9))\n",
    "n89"
   ]
  },
  {
   "cell_type": "code",
   "execution_count": 194,
   "id": "3e7b1831",
   "metadata": {},
   "outputs": [
    {
     "data": {
      "text/plain": [
       "array([[23, 29, 42, 38,  4, 93, 32, 50, 85]])"
      ]
     },
     "execution_count": 194,
     "metadata": {},
     "output_type": "execute_result"
    }
   ],
   "source": [
    "ab=np.vsplit(n89,[3,4,4])\n",
    "ab[1]"
   ]
  },
  {
   "cell_type": "code",
   "execution_count": 198,
   "id": "9f9e18d1",
   "metadata": {},
   "outputs": [],
   "source": [
    "#ab\n"
   ]
  },
  {
   "cell_type": "code",
   "execution_count": 195,
   "id": "edbc4d2e",
   "metadata": {},
   "outputs": [],
   "source": [
    "#random valuesabab\n",
    "    "
   ]
  },
  {
   "cell_type": "code",
   "execution_count": 200,
   "id": "522b010c",
   "metadata": {},
   "outputs": [
    {
     "data": {
      "text/plain": [
       "0.4991220674229164"
      ]
     },
     "execution_count": 200,
     "metadata": {},
     "output_type": "execute_result"
    }
   ],
   "source": [
    "n = np.random.rand(150,150)\n",
    "n.min()\n",
    "n.max()\n",
    "n.mean()"
   ]
  },
  {
   "cell_type": "code",
   "execution_count": 207,
   "id": "337f7932",
   "metadata": {},
   "outputs": [
    {
     "data": {
      "text/plain": [
       "array([[ 0,  1,  2,  3],\n",
       "       [ 4,  5,  6,  7],\n",
       "       [ 8,  9, 10, 11]])"
      ]
     },
     "execution_count": 207,
     "metadata": {},
     "output_type": "execute_result"
    }
   ],
   "source": [
    "n34=np.arange(12)\n",
    "n34.reshape(3,4)\n"
   ]
  },
  {
   "cell_type": "code",
   "execution_count": 209,
   "id": "9ad36746",
   "metadata": {},
   "outputs": [
    {
     "data": {
      "text/plain": [
       "66"
      ]
     },
     "execution_count": 209,
     "metadata": {},
     "output_type": "execute_result"
    }
   ],
   "source": [
    "n34.sum()"
   ]
  },
  {
   "cell_type": "code",
   "execution_count": 212,
   "id": "1bd25f8a",
   "metadata": {},
   "outputs": [
    {
     "data": {
      "text/plain": [
       "11"
      ]
     },
     "execution_count": 212,
     "metadata": {},
     "output_type": "execute_result"
    }
   ],
   "source": [
    "n34.max() "
   ]
  },
  {
   "cell_type": "code",
   "execution_count": 217,
   "id": "ceba0500",
   "metadata": {},
   "outputs": [
    {
     "data": {
      "text/plain": [
       "(array([1., 2., 3., 4., 5., 6., 7., 8., 9.]), 1.0)"
      ]
     },
     "execution_count": 217,
     "metadata": {},
     "output_type": "execute_result"
    }
   ],
   "source": [
    "np.linspace(1,9,9,retstep=True)"
   ]
  },
  {
   "cell_type": "code",
   "execution_count": 221,
   "id": "b4b468f6",
   "metadata": {},
   "outputs": [],
   "source": [
    "#ITraction looping on number py arraysab"
   ]
  },
  {
   "cell_type": "code",
   "execution_count": 223,
   "id": "a908214a",
   "metadata": {},
   "outputs": [
    {
     "name": "stdout",
     "output_type": "stream",
     "text": [
      "0\n",
      "1\n",
      "2\n",
      "3\n",
      "4\n",
      "5\n",
      "6\n",
      "7\n",
      "8\n",
      "9\n",
      "10\n",
      "11\n"
     ]
    }
   ],
   "source": [
    "for i in n34:\n",
    "    print(i)\n",
    "    "
   ]
  },
  {
   "cell_type": "code",
   "execution_count": 230,
   "id": "f4f5f79f",
   "metadata": {},
   "outputs": [
    {
     "name": "stdout",
     "output_type": "stream",
     "text": [
      "0\n",
      "1\n",
      "2\n",
      "3\n",
      "4\n",
      "5\n",
      "6\n",
      "7\n",
      "8\n",
      "9\n",
      "10\n",
      "11\n"
     ]
    }
   ],
   "source": [
    " for value in np.nditer(n34,order='F'):\n",
    "        print(value)"
   ]
  },
  {
   "cell_type": "code",
   "execution_count": 234,
   "id": "2fb63a77",
   "metadata": {},
   "outputs": [
    {
     "ename": "ValueError",
     "evalue": "not enough values to unpack (expected 2, got 1)",
     "output_type": "error",
     "traceback": [
      "\u001b[0;31m---------------------------------------------------------------------------\u001b[0m",
      "\u001b[0;31mValueError\u001b[0m                                Traceback (most recent call last)",
      "Cell \u001b[0;32mIn[234], line 3\u001b[0m\n\u001b[1;32m      1\u001b[0m n34\n\u001b[1;32m      2\u001b[0m \u001b[38;5;66;03m#a0,a1 = \u001b[39;00m\n\u001b[0;32m----> 3\u001b[0m a0,a1\u001b[38;5;241m=\u001b[39mnp\u001b[38;5;241m.\u001b[39mwhere(n34\u001b[38;5;241m>\u001b[39m\u001b[38;5;241m5\u001b[39m)\n\u001b[1;32m      4\u001b[0m \u001b[38;5;28mprint\u001b[39m(\u001b[38;5;28mlist\u001b[39m(\u001b[38;5;28mzip\u001b[39m(a0,a1)))\n",
      "\u001b[0;31mValueError\u001b[0m: not enough values to unpack (expected 2, got 1)"
     ]
    }
   ],
   "source": [
    "n34\n",
    "#a0,a1 = \n",
    "a0,a1=np.where(n34>5)\n",
    "print(list(zip(a0,a1)))"
   ]
  }
 ],
 "metadata": {
  "kernelspec": {
   "display_name": "Python 3 (ipykernel)",
   "language": "python",
   "name": "python3"
  },
  "language_info": {
   "codemirror_mode": {
    "name": "ipython",
    "version": 3
   },
   "file_extension": ".py",
   "mimetype": "text/x-python",
   "name": "python",
   "nbconvert_exporter": "python",
   "pygments_lexer": "ipython3",
   "version": "3.10.9"
  }
 },
 "nbformat": 4,
 "nbformat_minor": 5
}
