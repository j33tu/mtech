{
 "cells": [
  {
   "cell_type": "markdown",
   "id": "e53bdfe1",
   "metadata": {},
   "source": [
    "# GA Practice - Q1\n",
    "We combined two datasets in single CSV file. Use the below script to separate the data.\n",
    "\n",
    "Use data_clust for dimensionality reduction and clustering\n",
    "\n",
    "Use data_recom for recommendation system.\n",
    "\n",
    "import pandas as pd\n",
    "\n",
    "data = pd.read_csv('dataset.csv')\n",
    "\n",
    "data_clust = data.iloc[0:897,0:15]\n",
    "\n",
    "data_recom = data.iloc[:,15:]\n",
    "\n",
    "The column 'M3' talks about the relay position, which is the target column. Don't use this while doing clustering and dimensionality reduction.\n",
    "\n",
    "### SECTION A (5 marks)\n",
    "#### 1. Data Preprocessing \n",
    "\n",
    "    a. Read the dataset and perform required cleaning and preprocessing prior to model building. Justify the pre-processing approaches used. (2 Marks)\n",
    "    \n",
    "    b. Perform at least one univariate and bivariate analysis for the data_clust (2 Marks)\n",
    "    \n",
    "    c. Keep the input features of data_clust (independent variables) in the variable \"inp_data_dime: and output feature (M3) in the variable out. (1 Mark)\n",
    "    \n",
    "### SECTION B (10 marks)\n",
    "#### Answer the following questions \n",
    "\n",
    "2. Apply K means clustering and identify the ideal value of K using elbow and silhouette method.\n",
    "### SECTION C (10 marks)\n",
    "#### Answer the following questions \n",
    "\n",
    "3. Apply PCA on the data. How many PCs are required to reproduce the 95% characteristics of original data. What is the top 5 features contributing in PC1? (5 marks)\n",
    "\n",
    "4. Build the following ML model and compare its performance: (5 Marks)\n",
    "\n",
    "    a. ML model with original inp_data_dime and out\n",
    "    \n",
    "    b. ML model with inp_data_dime_pca and out\n",
    "    \n",
    "(Note: the PCA components (inp_data_dime_pca) must capture the 95 percent variance in the data)\n",
    "\n",
    "### SECTION D (15 marks)\n",
    "#### 5. Recommendation Systems \n",
    "\n",
    "    a. Build the popularity-based recommendation system and suggest top 5 items.(5 Marks) \n",
    "                              \n",
    "    b. Build collaborative recommendation engine to recommend a top product/item to the specific user. Measure the model quality in terms of RMSE.(10 Marks)\n"
   ]
  },
  {
   "cell_type": "code",
   "execution_count": 92,
   "id": "4d73da36",
   "metadata": {},
   "outputs": [],
   "source": [
    "import pandas as pd\n",
    "import numpy as np\n",
    "import matplotlib.pyplot as plt\n",
    "import seaborn as sb\n",
    "from sklearn.preprocessing import StandardScaler\n",
    "from sklearn.decomposition import PCA \n",
    "from sklearn.cluster import KMeans\n",
    "from sklearn.metrics import silhouette_score\n",
    "from scipy.cluster.hierarchy import linkage , dendrogram, fcluster,cophenet\n",
    "from sklearn.model_selection import train_test_split\n",
    "from sklearn.ensemble import RandomForestClassifier\n",
    "from sklearn.metrics import classification_report\n",
    "from sklearn.decomposition import TruncatedSVD\n",
    "from sklearn.discriminant_analysis import LinearDiscriminantAnalysis\n",
    "from surprise import KNNWithMeans,SVDpp\n",
    "from surprise import Dataset\n",
    "from surprise import accuracy\n",
    "from surprise import Reader\n",
    "from surprise.model_selection import train_test_split,cross_validate\n",
    "import warnings\n",
    "warnings.filterwarnings(\"ignore\")"
   ]
  },
  {
   "cell_type": "markdown",
   "id": "68327abb",
   "metadata": {},
   "source": [
    "## SECTION A \n",
    "### 1. Data Preprocessing"
   ]
  },
  {
   "cell_type": "markdown",
   "id": "5ec16184",
   "metadata": {},
   "source": [
    "### a. Read the dataset and perform required cleaning and preprocessing prior to model building. Justify the pre-processing approaches used."
   ]
  },
  {
   "cell_type": "code",
   "execution_count": 54,
   "id": "d1a5fed5",
   "metadata": {},
   "outputs": [
    {
     "data": {
      "text/html": [
       "<div>\n",
       "<style scoped>\n",
       "    .dataframe tbody tr th:only-of-type {\n",
       "        vertical-align: middle;\n",
       "    }\n",
       "\n",
       "    .dataframe tbody tr th {\n",
       "        vertical-align: top;\n",
       "    }\n",
       "\n",
       "    .dataframe thead th {\n",
       "        text-align: right;\n",
       "    }\n",
       "</style>\n",
       "<table border=\"1\" class=\"dataframe\">\n",
       "  <thead>\n",
       "    <tr style=\"text-align: right;\">\n",
       "      <th></th>\n",
       "      <th>N1</th>\n",
       "      <th>N2</th>\n",
       "      <th>N3</th>\n",
       "      <th>N4</th>\n",
       "      <th>N5</th>\n",
       "      <th>N6</th>\n",
       "      <th>N7</th>\n",
       "      <th>N8</th>\n",
       "      <th>N9</th>\n",
       "      <th>N10</th>\n",
       "      <th>N11</th>\n",
       "      <th>N12</th>\n",
       "      <th>N13</th>\n",
       "      <th>N14</th>\n",
       "      <th>M3</th>\n",
       "      <th>userId</th>\n",
       "      <th>productId</th>\n",
       "      <th>Rating</th>\n",
       "    </tr>\n",
       "  </thead>\n",
       "  <tbody>\n",
       "    <tr>\n",
       "      <th>0</th>\n",
       "      <td>0.0001</td>\n",
       "      <td>0.0001</td>\n",
       "      <td>0.000100</td>\n",
       "      <td>0.000100</td>\n",
       "      <td>10.533904</td>\n",
       "      <td>0.020000</td>\n",
       "      <td>0.0001</td>\n",
       "      <td>0.0010</td>\n",
       "      <td>0.000100</td>\n",
       "      <td>0.000055</td>\n",
       "      <td>0.020028</td>\n",
       "      <td>0.004033</td>\n",
       "      <td>0.000120</td>\n",
       "      <td>0.020175</td>\n",
       "      <td>STOP</td>\n",
       "      <td>A2CX7LUOHB2NDG</td>\n",
       "      <td>321732944</td>\n",
       "      <td>5</td>\n",
       "    </tr>\n",
       "    <tr>\n",
       "      <th>1</th>\n",
       "      <td>0.0001</td>\n",
       "      <td>0.0001</td>\n",
       "      <td>0.649088</td>\n",
       "      <td>10.533804</td>\n",
       "      <td>10.533904</td>\n",
       "      <td>0.200000</td>\n",
       "      <td>0.0001</td>\n",
       "      <td>0.0001</td>\n",
       "      <td>0.000009</td>\n",
       "      <td>3.686851</td>\n",
       "      <td>2.043426</td>\n",
       "      <td>2.252111</td>\n",
       "      <td>2.755849</td>\n",
       "      <td>6.642700</td>\n",
       "      <td>RAISE</td>\n",
       "      <td>A2NWSAGRHCP8N5</td>\n",
       "      <td>439886341</td>\n",
       "      <td>1</td>\n",
       "    </tr>\n",
       "    <tr>\n",
       "      <th>2</th>\n",
       "      <td>0.0201</td>\n",
       "      <td>0.0011</td>\n",
       "      <td>1.034308</td>\n",
       "      <td>9.884816</td>\n",
       "      <td>10.533904</td>\n",
       "      <td>0.012324</td>\n",
       "      <td>0.4001</td>\n",
       "      <td>0.3001</td>\n",
       "      <td>0.061619</td>\n",
       "      <td>3.463706</td>\n",
       "      <td>1.744177</td>\n",
       "      <td>2.080688</td>\n",
       "      <td>3.011271</td>\n",
       "      <td>6.487301</td>\n",
       "      <td>RAISE</td>\n",
       "      <td>A2WNBOD3WNDNKT</td>\n",
       "      <td>439886341</td>\n",
       "      <td>3</td>\n",
       "    </tr>\n",
       "    <tr>\n",
       "      <th>3</th>\n",
       "      <td>0.0401</td>\n",
       "      <td>0.0021</td>\n",
       "      <td>1.751681</td>\n",
       "      <td>9.499596</td>\n",
       "      <td>10.533904</td>\n",
       "      <td>0.020927</td>\n",
       "      <td>0.8001</td>\n",
       "      <td>0.6001</td>\n",
       "      <td>0.098188</td>\n",
       "      <td>3.332879</td>\n",
       "      <td>1.687366</td>\n",
       "      <td>2.003913</td>\n",
       "      <td>3.651600</td>\n",
       "      <td>7.005406</td>\n",
       "      <td>RAISE</td>\n",
       "      <td>A1GI0U4ZRJA8WN</td>\n",
       "      <td>439886341</td>\n",
       "      <td>1</td>\n",
       "    </tr>\n",
       "    <tr>\n",
       "      <th>4</th>\n",
       "      <td>0.0391</td>\n",
       "      <td>0.0031</td>\n",
       "      <td>1.967625</td>\n",
       "      <td>8.782223</td>\n",
       "      <td>10.533904</td>\n",
       "      <td>0.036879</td>\n",
       "      <td>1.2001</td>\n",
       "      <td>0.9001</td>\n",
       "      <td>0.166290</td>\n",
       "      <td>3.081598</td>\n",
       "      <td>1.577678</td>\n",
       "      <td>1.856335</td>\n",
       "      <td>3.724070</td>\n",
       "      <td>6.842547</td>\n",
       "      <td>RAISE</td>\n",
       "      <td>A1QGNMC6O1VW39</td>\n",
       "      <td>511189877</td>\n",
       "      <td>5</td>\n",
       "    </tr>\n",
       "  </tbody>\n",
       "</table>\n",
       "</div>"
      ],
      "text/plain": [
       "       N1      N2        N3         N4         N5        N6      N7      N8  \\\n",
       "0  0.0001  0.0001  0.000100   0.000100  10.533904  0.020000  0.0001  0.0010   \n",
       "1  0.0001  0.0001  0.649088  10.533804  10.533904  0.200000  0.0001  0.0001   \n",
       "2  0.0201  0.0011  1.034308   9.884816  10.533904  0.012324  0.4001  0.3001   \n",
       "3  0.0401  0.0021  1.751681   9.499596  10.533904  0.020927  0.8001  0.6001   \n",
       "4  0.0391  0.0031  1.967625   8.782223  10.533904  0.036879  1.2001  0.9001   \n",
       "\n",
       "         N9       N10       N11       N12       N13       N14     M3  \\\n",
       "0  0.000100  0.000055  0.020028  0.004033  0.000120  0.020175   STOP   \n",
       "1  0.000009  3.686851  2.043426  2.252111  2.755849  6.642700  RAISE   \n",
       "2  0.061619  3.463706  1.744177  2.080688  3.011271  6.487301  RAISE   \n",
       "3  0.098188  3.332879  1.687366  2.003913  3.651600  7.005406  RAISE   \n",
       "4  0.166290  3.081598  1.577678  1.856335  3.724070  6.842547  RAISE   \n",
       "\n",
       "           userId  productId  Rating  \n",
       "0  A2CX7LUOHB2NDG  321732944       5  \n",
       "1  A2NWSAGRHCP8N5  439886341       1  \n",
       "2  A2WNBOD3WNDNKT  439886341       3  \n",
       "3  A1GI0U4ZRJA8WN  439886341       1  \n",
       "4  A1QGNMC6O1VW39  511189877       5  "
      ]
     },
     "execution_count": 54,
     "metadata": {},
     "output_type": "execute_result"
    }
   ],
   "source": [
    "# Load the dataset\n",
    "data = pd.read_csv(\"C:\\Datasets\\dataset.csv\")\n",
    "data.head()"
   ]
  },
  {
   "cell_type": "code",
   "execution_count": 55,
   "id": "2f4dae93",
   "metadata": {},
   "outputs": [
    {
     "data": {
      "text/plain": [
       "(2000, 18)"
      ]
     },
     "execution_count": 55,
     "metadata": {},
     "output_type": "execute_result"
    }
   ],
   "source": [
    "data.shape"
   ]
  },
  {
   "cell_type": "code",
   "execution_count": 56,
   "id": "25434b50",
   "metadata": {},
   "outputs": [
    {
     "name": "stdout",
     "output_type": "stream",
     "text": [
      "<class 'pandas.core.frame.DataFrame'>\n",
      "RangeIndex: 2000 entries, 0 to 1999\n",
      "Data columns (total 18 columns):\n",
      " #   Column     Non-Null Count  Dtype  \n",
      "---  ------     --------------  -----  \n",
      " 0   N1         897 non-null    float64\n",
      " 1   N2         897 non-null    float64\n",
      " 2   N3         897 non-null    float64\n",
      " 3   N4         897 non-null    float64\n",
      " 4   N5         897 non-null    float64\n",
      " 5   N6         897 non-null    float64\n",
      " 6   N7         897 non-null    float64\n",
      " 7   N8         897 non-null    float64\n",
      " 8   N9         897 non-null    float64\n",
      " 9   N10        897 non-null    float64\n",
      " 10  N11        897 non-null    float64\n",
      " 11  N12        897 non-null    float64\n",
      " 12  N13        897 non-null    float64\n",
      " 13  N14        897 non-null    float64\n",
      " 14  M3         897 non-null    object \n",
      " 15  userId     2000 non-null   object \n",
      " 16  productId  2000 non-null   object \n",
      " 17  Rating     2000 non-null   int64  \n",
      "dtypes: float64(14), int64(1), object(3)\n",
      "memory usage: 281.4+ KB\n"
     ]
    }
   ],
   "source": [
    "data.info()"
   ]
  },
  {
   "cell_type": "code",
   "execution_count": 57,
   "id": "b541af87",
   "metadata": {},
   "outputs": [],
   "source": [
    "data_clust = data.iloc[0:897,0:15]\n",
    "data_recom = data.iloc[:,15:]"
   ]
  },
  {
   "cell_type": "code",
   "execution_count": 58,
   "id": "83df421e",
   "metadata": {},
   "outputs": [
    {
     "name": "stdout",
     "output_type": "stream",
     "text": [
      "<class 'pandas.core.frame.DataFrame'>\n",
      "RangeIndex: 897 entries, 0 to 896\n",
      "Data columns (total 15 columns):\n",
      " #   Column  Non-Null Count  Dtype  \n",
      "---  ------  --------------  -----  \n",
      " 0   N1      897 non-null    float64\n",
      " 1   N2      897 non-null    float64\n",
      " 2   N3      897 non-null    float64\n",
      " 3   N4      897 non-null    float64\n",
      " 4   N5      897 non-null    float64\n",
      " 5   N6      897 non-null    float64\n",
      " 6   N7      897 non-null    float64\n",
      " 7   N8      897 non-null    float64\n",
      " 8   N9      897 non-null    float64\n",
      " 9   N10     897 non-null    float64\n",
      " 10  N11     897 non-null    float64\n",
      " 11  N12     897 non-null    float64\n",
      " 12  N13     897 non-null    float64\n",
      " 13  N14     897 non-null    float64\n",
      " 14  M3      897 non-null    object \n",
      "dtypes: float64(14), object(1)\n",
      "memory usage: 105.2+ KB\n"
     ]
    }
   ],
   "source": [
    "data_clust.info()"
   ]
  },
  {
   "cell_type": "code",
   "execution_count": 61,
   "id": "a1135fd3",
   "metadata": {},
   "outputs": [
    {
     "data": {
      "text/plain": [
       "0"
      ]
     },
     "execution_count": 61,
     "metadata": {},
     "output_type": "execute_result"
    }
   ],
   "source": [
    "data_clust.isnull().sum().sum()"
   ]
  },
  {
   "cell_type": "markdown",
   "id": "3f695820",
   "metadata": {},
   "source": [
    "No missing values in data_clust"
   ]
  },
  {
   "cell_type": "code",
   "execution_count": 62,
   "id": "b6405dfc",
   "metadata": {},
   "outputs": [
    {
     "name": "stdout",
     "output_type": "stream",
     "text": [
      "<class 'pandas.core.frame.DataFrame'>\n",
      "RangeIndex: 2000 entries, 0 to 1999\n",
      "Data columns (total 3 columns):\n",
      " #   Column     Non-Null Count  Dtype \n",
      "---  ------     --------------  ----- \n",
      " 0   userId     2000 non-null   object\n",
      " 1   productId  2000 non-null   object\n",
      " 2   Rating     2000 non-null   int64 \n",
      "dtypes: int64(1), object(2)\n",
      "memory usage: 47.0+ KB\n"
     ]
    }
   ],
   "source": [
    "data_recom.info()"
   ]
  },
  {
   "cell_type": "code",
   "execution_count": 63,
   "id": "3b702305",
   "metadata": {},
   "outputs": [
    {
     "data": {
      "text/plain": [
       "0"
      ]
     },
     "execution_count": 63,
     "metadata": {},
     "output_type": "execute_result"
    }
   ],
   "source": [
    "data_recom.isnull().sum().sum()"
   ]
  },
  {
   "cell_type": "markdown",
   "id": "28cae634",
   "metadata": {},
   "source": [
    "No missing values in data_recom"
   ]
  },
  {
   "cell_type": "markdown",
   "id": "2776ff3c",
   "metadata": {},
   "source": [
    "### b. Perform at least one univariate and bivariate analysis for the data_clust"
   ]
  },
  {
   "cell_type": "markdown",
   "id": "3c283975",
   "metadata": {},
   "source": [
    "Univariate Analysis\n",
    "We'll look at the distribution of one of the features, say N1."
   ]
  },
  {
   "cell_type": "code",
   "execution_count": 64,
   "id": "85bb8e1f",
   "metadata": {},
   "outputs": [
    {
     "data": {
      "image/png": "[encoded data removed]",
      "text/plain": [
       "<Figure size 640x480 with 1 Axes>"
      ]
     },
     "metadata": {},
     "output_type": "display_data"
    }
   ],
   "source": [
    "import matplotlib.pyplot as plt\n",
    "import seaborn as sns\n",
    "\n",
    "# Univariate analysis - Distribution plot for N1\n",
    "sns.histplot(data_clust['N1'], kde=True)\n",
    "plt.title(f'Univariate Analysis of N1')\n",
    "plt.show()"
   ]
  },
  {
   "cell_type": "markdown",
   "id": "5a862c44",
   "metadata": {},
   "source": [
    "Bivariate Analysis\n",
    "We'll look at the relationship between two features, say N1 and N2."
   ]
  },
  {
   "cell_type": "code",
   "execution_count": 67,
   "id": "49be0671",
   "metadata": {},
   "outputs": [
    {
     "data": {
      "image/png": "[encoded data removed]",
      "text/plain": [
       "<Figure size 1000x600 with 1 Axes>"
      ]
     },
     "metadata": {},
     "output_type": "display_data"
    }
   ],
   "source": [
    "# Bivariate analysis - Scatter plot between N1 and N2\n",
    "plt.figure(figsize=(10, 6))\n",
    "sns.scatterplot(x='N1', y='N2', data=data_clust)\n",
    "plt.title('Bivariate Analysis between N1 and N2')\n",
    "plt.show()"
   ]
  },
  {
   "cell_type": "markdown",
   "id": "5830b961",
   "metadata": {},
   "source": [
    "### c. Keep the input features of data_clust (independent variables) in the variable inp_data_dime and output feature (M3) in the variable out."
   ]
  },
  {
   "cell_type": "code",
   "execution_count": 68,
   "id": "fb50ef4e",
   "metadata": {},
   "outputs": [],
   "source": [
    "# Separate input and output features for data_clust\n",
    "\n",
    "# Input features\n",
    "inp_data_dime = data_clust.drop(columns=['M3'])\n",
    "\n",
    "# Output feature\n",
    "out = data_clust['M3']"
   ]
  },
  {
   "cell_type": "code",
   "execution_count": 69,
   "id": "e241a57f",
   "metadata": {},
   "outputs": [
    {
     "data": {
      "text/html": [
       "<div>\n",
       "<style scoped>\n",
       "    .dataframe tbody tr th:only-of-type {\n",
       "        vertical-align: middle;\n",
       "    }\n",
       "\n",
       "    .dataframe tbody tr th {\n",
       "        vertical-align: top;\n",
       "    }\n",
       "\n",
       "    .dataframe thead th {\n",
       "        text-align: right;\n",
       "    }\n",
       "</style>\n",
       "<table border=\"1\" class=\"dataframe\">\n",
       "  <thead>\n",
       "    <tr style=\"text-align: right;\">\n",
       "      <th></th>\n",
       "      <th>N1</th>\n",
       "      <th>N2</th>\n",
       "      <th>N3</th>\n",
       "      <th>N4</th>\n",
       "      <th>N5</th>\n",
       "      <th>N6</th>\n",
       "      <th>N7</th>\n",
       "      <th>N8</th>\n",
       "      <th>N9</th>\n",
       "      <th>N10</th>\n",
       "      <th>N11</th>\n",
       "      <th>N12</th>\n",
       "      <th>N13</th>\n",
       "      <th>N14</th>\n",
       "    </tr>\n",
       "  </thead>\n",
       "  <tbody>\n",
       "    <tr>\n",
       "      <th>0</th>\n",
       "      <td>-2.473613</td>\n",
       "      <td>-1.318140</td>\n",
       "      <td>-2.525802</td>\n",
       "      <td>-1.432362</td>\n",
       "      <td>0.0</td>\n",
       "      <td>-0.099540</td>\n",
       "      <td>-1.219368</td>\n",
       "      <td>-1.219272</td>\n",
       "      <td>-2.513870</td>\n",
       "      <td>-1.454856</td>\n",
       "      <td>-0.219083</td>\n",
       "      <td>-0.763659</td>\n",
       "      <td>-3.274864</td>\n",
       "      <td>-1.569459</td>\n",
       "    </tr>\n",
       "    <tr>\n",
       "      <th>1</th>\n",
       "      <td>-2.473613</td>\n",
       "      <td>-1.318140</td>\n",
       "      <td>-2.281730</td>\n",
       "      <td>2.524661</td>\n",
       "      <td>0.0</td>\n",
       "      <td>-0.068158</td>\n",
       "      <td>-1.219368</td>\n",
       "      <td>-1.219369</td>\n",
       "      <td>-2.514227</td>\n",
       "      <td>2.503527</td>\n",
       "      <td>0.135991</td>\n",
       "      <td>1.087882</td>\n",
       "      <td>-2.068152</td>\n",
       "      <td>-0.464287</td>\n",
       "    </tr>\n",
       "    <tr>\n",
       "      <th>2</th>\n",
       "      <td>-1.990776</td>\n",
       "      <td>-1.290001</td>\n",
       "      <td>-2.136856</td>\n",
       "      <td>2.280867</td>\n",
       "      <td>0.0</td>\n",
       "      <td>-0.100878</td>\n",
       "      <td>-1.187224</td>\n",
       "      <td>-1.187225</td>\n",
       "      <td>-2.271015</td>\n",
       "      <td>2.263944</td>\n",
       "      <td>0.083478</td>\n",
       "      <td>0.946697</td>\n",
       "      <td>-1.956305</td>\n",
       "      <td>-0.490220</td>\n",
       "    </tr>\n",
       "    <tr>\n",
       "      <th>3</th>\n",
       "      <td>-1.507938</td>\n",
       "      <td>-1.261861</td>\n",
       "      <td>-1.867065</td>\n",
       "      <td>2.136157</td>\n",
       "      <td>0.0</td>\n",
       "      <td>-0.099378</td>\n",
       "      <td>-1.155081</td>\n",
       "      <td>-1.155082</td>\n",
       "      <td>-2.126651</td>\n",
       "      <td>2.123479</td>\n",
       "      <td>0.073509</td>\n",
       "      <td>0.883464</td>\n",
       "      <td>-1.675910</td>\n",
       "      <td>-0.403758</td>\n",
       "    </tr>\n",
       "    <tr>\n",
       "      <th>4</th>\n",
       "      <td>-1.532080</td>\n",
       "      <td>-1.233721</td>\n",
       "      <td>-1.785853</td>\n",
       "      <td>1.866674</td>\n",
       "      <td>0.0</td>\n",
       "      <td>-0.096597</td>\n",
       "      <td>-1.122937</td>\n",
       "      <td>-1.122938</td>\n",
       "      <td>-1.857812</td>\n",
       "      <td>1.853688</td>\n",
       "      <td>0.054260</td>\n",
       "      <td>0.761917</td>\n",
       "      <td>-1.644176</td>\n",
       "      <td>-0.430936</td>\n",
       "    </tr>\n",
       "    <tr>\n",
       "      <th>...</th>\n",
       "      <td>...</td>\n",
       "      <td>...</td>\n",
       "      <td>...</td>\n",
       "      <td>...</td>\n",
       "      <td>...</td>\n",
       "      <td>...</td>\n",
       "      <td>...</td>\n",
       "      <td>...</td>\n",
       "      <td>...</td>\n",
       "      <td>...</td>\n",
       "      <td>...</td>\n",
       "      <td>...</td>\n",
       "      <td>...</td>\n",
       "      <td>...</td>\n",
       "    </tr>\n",
       "    <tr>\n",
       "      <th>892</th>\n",
       "      <td>2.692747</td>\n",
       "      <td>2.818388</td>\n",
       "      <td>1.272528</td>\n",
       "      <td>-1.031933</td>\n",
       "      <td>0.0</td>\n",
       "      <td>0.095566</td>\n",
       "      <td>2.766412</td>\n",
       "      <td>2.766417</td>\n",
       "      <td>1.033867</td>\n",
       "      <td>-1.008337</td>\n",
       "      <td>0.013785</td>\n",
       "      <td>-0.373809</td>\n",
       "      <td>1.241092</td>\n",
       "      <td>0.407727</td>\n",
       "    </tr>\n",
       "    <tr>\n",
       "      <th>893</th>\n",
       "      <td>2.692747</td>\n",
       "      <td>2.846528</td>\n",
       "      <td>1.634627</td>\n",
       "      <td>-1.269348</td>\n",
       "      <td>0.0</td>\n",
       "      <td>0.227329</td>\n",
       "      <td>2.798555</td>\n",
       "      <td>2.798561</td>\n",
       "      <td>1.270715</td>\n",
       "      <td>-1.245833</td>\n",
       "      <td>0.126999</td>\n",
       "      <td>-0.358630</td>\n",
       "      <td>1.607354</td>\n",
       "      <td>0.636516</td>\n",
       "    </tr>\n",
       "    <tr>\n",
       "      <th>894</th>\n",
       "      <td>2.692747</td>\n",
       "      <td>2.874667</td>\n",
       "      <td>-0.789684</td>\n",
       "      <td>-1.631036</td>\n",
       "      <td>0.0</td>\n",
       "      <td>0.785699</td>\n",
       "      <td>2.830699</td>\n",
       "      <td>2.830704</td>\n",
       "      <td>1.631538</td>\n",
       "      <td>-1.607645</td>\n",
       "      <td>0.659442</td>\n",
       "      <td>0.002387</td>\n",
       "      <td>-1.299725</td>\n",
       "      <td>0.006848</td>\n",
       "    </tr>\n",
       "    <tr>\n",
       "      <th>895</th>\n",
       "      <td>2.692747</td>\n",
       "      <td>-1.318140</td>\n",
       "      <td>-0.470791</td>\n",
       "      <td>0.790518</td>\n",
       "      <td>0.0</td>\n",
       "      <td>-0.407452</td>\n",
       "      <td>2.862842</td>\n",
       "      <td>2.862847</td>\n",
       "      <td>-0.784228</td>\n",
       "      <td>0.814741</td>\n",
       "      <td>-0.343527</td>\n",
       "      <td>-0.009965</td>\n",
       "      <td>-0.363870</td>\n",
       "      <td>-0.402038</td>\n",
       "    </tr>\n",
       "    <tr>\n",
       "      <th>896</th>\n",
       "      <td>2.692747</td>\n",
       "      <td>-1.290001</td>\n",
       "      <td>-0.119816</td>\n",
       "      <td>0.471988</td>\n",
       "      <td>0.0</td>\n",
       "      <td>-0.070827</td>\n",
       "      <td>2.894986</td>\n",
       "      <td>2.894991</td>\n",
       "      <td>-0.466460</td>\n",
       "      <td>0.496101</td>\n",
       "      <td>-0.030747</td>\n",
       "      <td>0.161419</td>\n",
       "      <td>-0.029470</td>\n",
       "      <td>-0.001916</td>\n",
       "    </tr>\n",
       "  </tbody>\n",
       "</table>\n",
       "<p>897 rows × 14 columns</p>\n",
       "</div>"
      ],
      "text/plain": [
       "           N1        N2        N3        N4   N5        N6        N7  \\\n",
       "0   -2.473613 -1.318140 -2.525802 -1.432362  0.0 -0.099540 -1.219368   \n",
       "1   -2.473613 -1.318140 -2.281730  2.524661  0.0 -0.068158 -1.219368   \n",
       "2   -1.990776 -1.290001 -2.136856  2.280867  0.0 -0.100878 -1.187224   \n",
       "3   -1.507938 -1.261861 -1.867065  2.136157  0.0 -0.099378 -1.155081   \n",
       "4   -1.532080 -1.233721 -1.785853  1.866674  0.0 -0.096597 -1.122937   \n",
       "..        ...       ...       ...       ...  ...       ...       ...   \n",
       "892  2.692747  2.818388  1.272528 -1.031933  0.0  0.095566  2.766412   \n",
       "893  2.692747  2.846528  1.634627 -1.269348  0.0  0.227329  2.798555   \n",
       "894  2.692747  2.874667 -0.789684 -1.631036  0.0  0.785699  2.830699   \n",
       "895  2.692747 -1.318140 -0.470791  0.790518  0.0 -0.407452  2.862842   \n",
       "896  2.692747 -1.290001 -0.119816  0.471988  0.0 -0.070827  2.894986   \n",
       "\n",
       "           N8        N9       N10       N11       N12       N13       N14  \n",
       "0   -1.219272 -2.513870 -1.454856 -0.219083 -0.763659 -3.274864 -1.569459  \n",
       "1   -1.219369 -2.514227  2.503527  0.135991  1.087882 -2.068152 -0.464287  \n",
       "2   -1.187225 -2.271015  2.263944  0.083478  0.946697 -1.956305 -0.490220  \n",
       "3   -1.155082 -2.126651  2.123479  0.073509  0.883464 -1.675910 -0.403758  \n",
       "4   -1.122938 -1.857812  1.853688  0.054260  0.761917 -1.644176 -0.430936  \n",
       "..        ...       ...       ...       ...       ...       ...       ...  \n",
       "892  2.766417  1.033867 -1.008337  0.013785 -0.373809  1.241092  0.407727  \n",
       "893  2.798561  1.270715 -1.245833  0.126999 -0.358630  1.607354  0.636516  \n",
       "894  2.830704  1.631538 -1.607645  0.659442  0.002387 -1.299725  0.006848  \n",
       "895  2.862847 -0.784228  0.814741 -0.343527 -0.009965 -0.363870 -0.402038  \n",
       "896  2.894991 -0.466460  0.496101 -0.030747  0.161419 -0.029470 -0.001916  \n",
       "\n",
       "[897 rows x 14 columns]"
      ]
     },
     "execution_count": 69,
     "metadata": {},
     "output_type": "execute_result"
    }
   ],
   "source": [
    "from sklearn.preprocessing import StandardScaler\n",
    "scaler = StandardScaler()\n",
    "scaled_data = scaler.fit_transform(inp_data_dime)\n",
    "scaled_data=pd.DataFrame(scaled_data,columns=inp_data_dime.columns)\n",
    "scaled_data"
   ]
  },
  {
   "cell_type": "markdown",
   "id": "7bda6227",
   "metadata": {},
   "source": [
    "## SECTION B\n",
    "### 2. Apply K-means clustering and identify the ideal value of K using elbow and silhouette method"
   ]
  },
  {
   "cell_type": "code",
   "execution_count": 71,
   "id": "3bc73b9b",
   "metadata": {},
   "outputs": [
    {
     "data": {
      "image/png": "[encoded data removed]",
      "text/plain": [
       "<Figure size 640x480 with 1 Axes>"
      ]
     },
     "metadata": {},
     "output_type": "display_data"
    }
   ],
   "source": [
    "# Elbow Method\n",
    "wcss = []\n",
    "\n",
    "for i in range(1,11):\n",
    "    km = KMeans(n_clusters=i,n_init=10)\n",
    "    km.fit_predict(scaled_data)\n",
    "    wcss.append(km.inertia_)\n",
    "    \n",
    "plt.plot(range(1,11),wcss,marker='o')\n",
    "plt.title('Elbow Method')\n",
    "plt.xlabel('Number of clusters')\n",
    "plt.ylabel('SSE')\n",
    "plt.show()    "
   ]
  },
  {
   "cell_type": "code",
   "execution_count": 72,
   "id": "6e5a34ba",
   "metadata": {},
   "outputs": [
    {
     "data": {
      "image/png": "[encoded data removed]",
      "text/plain": [
       "<Figure size 1000x600 with 1 Axes>"
      ]
     },
     "metadata": {},
     "output_type": "display_data"
    }
   ],
   "source": [
    "# Silhouette Method\n",
    "silhouette_scores = []\n",
    "\n",
    "for i in range(2, 11):\n",
    "    kmeans = KMeans(n_clusters=i, random_state=0).fit(scaled_data)\n",
    "    silhouette_scores.append(silhouette_score(scaled_data, kmeans.labels_))\n",
    "    \n",
    "plt.figure(figsize=(10, 6))\n",
    "plt.plot(range(2, 11), silhouette_scores, marker='o')\n",
    "plt.xlabel('Number of clusters')\n",
    "plt.ylabel('Silhouette Score')\n",
    "plt.title('Silhouette Method')\n",
    "plt.show()"
   ]
  },
  {
   "cell_type": "markdown",
   "id": "c2d11013",
   "metadata": {},
   "source": [
    "## SECTION C\n",
    "### 3. Apply PCA on the data. How many PCs are required to reproduce the 95% characteristics of the original data? What are the top 5 features contributing to PC1?"
   ]
  },
  {
   "cell_type": "code",
   "execution_count": 73,
   "id": "e81456ff",
   "metadata": {},
   "outputs": [
    {
     "name": "stdout",
     "output_type": "stream",
     "text": [
      "Number of components to capture 95% variance: 3\n"
     ]
    }
   ],
   "source": [
    "from sklearn.decomposition import PCA\n",
    "\n",
    "# Apply PCA\n",
    "pca = PCA(n_components=0.95)  # Keep 95% of variance\n",
    "inp_data_dime_pca = pca.fit_transform(inp_data_dime)\n",
    "\n",
    "# Number of components to capture 95% variance\n",
    "num_components = pca.n_components_\n",
    "print(f\"Number of components to capture 95% variance: {num_components}\")"
   ]
  },
  {
   "cell_type": "code",
   "execution_count": 38,
   "id": "554a0354",
   "metadata": {},
   "outputs": [
    {
     "name": "stdout",
     "output_type": "stream",
     "text": [
      "Top 5 features contributing to PC1:\n",
      "N14: -0.010424062237583142\n",
      "N6: -0.01246985149607769\n",
      "N11: -0.012897379412945395\n",
      "N8: 0.5998580257800485\n",
      "N7: 0.7998119231685523\n"
     ]
    }
   ],
   "source": [
    "# Get the loadings for the first principal component\n",
    "pc1_loadings = pca.components_[0]\n",
    "\n",
    "# Get the top 5 features contributing to PC1\n",
    "top_5_features = np.argsort(np.abs(pc1_loadings))[-5:]\n",
    "\n",
    "# Feature names\n",
    "feature_names = inp_data_dime.columns\n",
    "\n",
    "print(\"Top 5 features contributing to PC1:\")\n",
    "for i in top_5_features:\n",
    "    print(f\"{feature_names[i]}: {pc1_loadings[i]}\")"
   ]
  },
  {
   "cell_type": "markdown",
   "id": "37782049",
   "metadata": {},
   "source": [
    "### 4. Build the following ML model and compare its performance (5 marks)\n",
    "    a. ML model with original inp_data_dime and out\n",
    "    b. ML model with inp_data_dime_pca and out\n",
    "(Note: the PCA components (inp_data_dime_pca) must capture the 95 percent variance in the data)"
   ]
  },
  {
   "cell_type": "code",
   "execution_count": 74,
   "id": "9bd5f8b6",
   "metadata": {},
   "outputs": [],
   "source": [
    "from sklearn.linear_model import LogisticRegression\n",
    "from sklearn.model_selection import train_test_split\n",
    "from sklearn.metrics import accuracy_score, classification_report\n",
    "\n",
    "# Split the data into training and testing sets\n",
    "X_train, X_test, y_train, y_test = train_test_split(inp_data_dime, out, test_size=0.3, random_state=42)\n",
    "X_train_pca, X_test_pca, y_train_pca, y_test_pca = train_test_split(inp_data_dime_pca, out, test_size=0.3, random_state=42)"
   ]
  },
  {
   "cell_type": "code",
   "execution_count": 75,
   "id": "eb61b448",
   "metadata": {},
   "outputs": [
    {
     "name": "stdout",
     "output_type": "stream",
     "text": [
      "Performance with original data:\n",
      "Accuracy: 0.9481481481481482\n",
      "              precision    recall  f1-score   support\n",
      "\n",
      "        HOLD       0.17      0.20      0.18         5\n",
      "       LOWER       0.00      0.00      0.00         1\n",
      "       RAISE       0.97      0.98      0.98       259\n",
      "        STOP       0.00      0.00      0.00         5\n",
      "\n",
      "    accuracy                           0.95       270\n",
      "   macro avg       0.28      0.30      0.29       270\n",
      "weighted avg       0.93      0.95      0.94       270\n",
      "\n"
     ]
    }
   ],
   "source": [
    "# Model with original data\n",
    "model_original = LogisticRegression(max_iter=1000)\n",
    "model_original.fit(X_train, y_train)\n",
    "y_pred_original = model_original.predict(X_test)\n",
    "accuracy_original = accuracy_score(y_test, y_pred_original)\n",
    "print(\"Performance with original data:\")\n",
    "print(f\"Accuracy: {accuracy_original}\")\n",
    "print(classification_report(y_test, y_pred_original))"
   ]
  },
  {
   "cell_type": "code",
   "execution_count": 76,
   "id": "5a158f4f",
   "metadata": {},
   "outputs": [
    {
     "name": "stdout",
     "output_type": "stream",
     "text": [
      "\n",
      "Performance with PCA data:\n",
      "Accuracy: 0.9592592592592593\n",
      "              precision    recall  f1-score   support\n",
      "\n",
      "        HOLD       0.00      0.00      0.00         5\n",
      "       LOWER       0.00      0.00      0.00         1\n",
      "       RAISE       0.96      1.00      0.98       259\n",
      "        STOP       0.00      0.00      0.00         5\n",
      "\n",
      "    accuracy                           0.96       270\n",
      "   macro avg       0.24      0.25      0.24       270\n",
      "weighted avg       0.92      0.96      0.94       270\n",
      "\n"
     ]
    }
   ],
   "source": [
    "# Model with PCA data\n",
    "model_pca = LogisticRegression(max_iter=1000)\n",
    "model_pca.fit(X_train_pca, y_train_pca)\n",
    "y_pred_pca = model_pca.predict(X_test_pca)\n",
    "accuracy_pca = accuracy_score(y_test_pca, y_pred_pca)\n",
    "\n",
    "print(\"\\nPerformance with PCA data:\")\n",
    "print(f\"Accuracy: {accuracy_pca}\")\n",
    "print(classification_report(y_test_pca, y_pred_pca))"
   ]
  },
  {
   "cell_type": "markdown",
   "id": "402bfa05",
   "metadata": {},
   "source": [
    "## SECTION D\n",
    "### 5. Recommendation Systems"
   ]
  },
  {
   "cell_type": "markdown",
   "id": "79443824",
   "metadata": {},
   "source": [
    "### a. Popularity-based Recommendation System"
   ]
  },
  {
   "cell_type": "code",
   "execution_count": 80,
   "id": "91a74329",
   "metadata": {},
   "outputs": [
    {
     "name": "stdout",
     "output_type": "stream",
     "text": [
      "Top 5 popular items:\n",
      "\n"
     ]
    },
    {
     "data": {
      "text/html": [
       "<div>\n",
       "<style scoped>\n",
       "    .dataframe tbody tr th:only-of-type {\n",
       "        vertical-align: middle;\n",
       "    }\n",
       "\n",
       "    .dataframe tbody tr th {\n",
       "        vertical-align: top;\n",
       "    }\n",
       "\n",
       "    .dataframe thead th {\n",
       "        text-align: right;\n",
       "    }\n",
       "</style>\n",
       "<table border=\"1\" class=\"dataframe\">\n",
       "  <thead>\n",
       "    <tr style=\"text-align: right;\">\n",
       "      <th></th>\n",
       "      <th>Average_rating</th>\n",
       "      <th>Rating_count</th>\n",
       "    </tr>\n",
       "    <tr>\n",
       "      <th>item_id</th>\n",
       "      <th></th>\n",
       "      <th></th>\n",
       "    </tr>\n",
       "  </thead>\n",
       "  <tbody>\n",
       "    <tr>\n",
       "      <th>972683275</th>\n",
       "      <td>4.470980</td>\n",
       "      <td>1051</td>\n",
       "    </tr>\n",
       "    <tr>\n",
       "      <th>1400501466</th>\n",
       "      <td>3.560000</td>\n",
       "      <td>250</td>\n",
       "    </tr>\n",
       "    <tr>\n",
       "      <th>1400532620</th>\n",
       "      <td>3.654545</td>\n",
       "      <td>165</td>\n",
       "    </tr>\n",
       "    <tr>\n",
       "      <th>1400501776</th>\n",
       "      <td>3.884892</td>\n",
       "      <td>139</td>\n",
       "    </tr>\n",
       "    <tr>\n",
       "      <th>1400501520</th>\n",
       "      <td>4.243902</td>\n",
       "      <td>82</td>\n",
       "    </tr>\n",
       "  </tbody>\n",
       "</table>\n",
       "</div>"
      ],
      "text/plain": [
       "            Average_rating  Rating_count\n",
       "item_id                                 \n",
       "972683275         4.470980          1051\n",
       "1400501466        3.560000           250\n",
       "1400532620        3.654545           165\n",
       "1400501776        3.884892           139\n",
       "1400501520        4.243902            82"
      ]
     },
     "execution_count": 80,
     "metadata": {},
     "output_type": "execute_result"
    }
   ],
   "source": [
    "import pandas as pd\n",
    "\n",
    "data_recom.columns = ['user_id', 'item_id', 'rating']\n",
    "\n",
    "# Calculate the average rating and the count of ratings for each item\n",
    "item_popularity = data_recom.groupby('item_id').agg({'rating': ['mean', 'count']})\n",
    "item_popularity.columns = ['Average_rating', 'Rating_count']\n",
    "\n",
    "# Sort items by rating count and mean rating\n",
    "top_items = item_popularity.sort_values(by=['Rating_count', 'Average_rating'], ascending=False).head(5)\n",
    "\n",
    "print(\"Top 5 popular items:\\n\")\n",
    "top_items"
   ]
  },
  {
   "cell_type": "markdown",
   "id": "f623c199",
   "metadata": {},
   "source": [
    "### b. Collaborative Filtering Recommendation System"
   ]
  },
  {
   "cell_type": "code",
   "execution_count": 87,
   "id": "4cf16b53",
   "metadata": {},
   "outputs": [
    {
     "name": "stdout",
     "output_type": "stream",
     "text": [
      "<class 'pandas.core.frame.DataFrame'>\n",
      "RangeIndex: 2000 entries, 0 to 1999\n",
      "Data columns (total 3 columns):\n",
      " #   Column   Non-Null Count  Dtype \n",
      "---  ------   --------------  ----- \n",
      " 0   user_id  2000 non-null   object\n",
      " 1   item_id  2000 non-null   object\n",
      " 2   rating   2000 non-null   int64 \n",
      "dtypes: int64(1), object(2)\n",
      "memory usage: 47.0+ KB\n"
     ]
    }
   ],
   "source": [
    "data_recom.info()"
   ]
  },
  {
   "cell_type": "code",
   "execution_count": 90,
   "id": "58100b51",
   "metadata": {},
   "outputs": [],
   "source": [
    "# Load the data into Surprise's Dataset\n",
    "reader = Reader(rating_scale=(data_recom['rating'].min(), data_recom['rating'].max()))\n",
    "rating_data = Dataset.load_from_df(data_recom[['user_id', 'item_id', 'rating']], reader)"
   ]
  },
  {
   "cell_type": "code",
   "execution_count": 93,
   "id": "1ccc5b97",
   "metadata": {},
   "outputs": [],
   "source": [
    "# Split the data into training and testing sets\n",
    "trainset, testset = train_test_split(rating_data, test_size=0.2)"
   ]
  },
  {
   "cell_type": "markdown",
   "id": "a11588d6",
   "metadata": {},
   "source": [
    "### (i) Build a user-based collaborative filtering model"
   ]
  },
  {
   "cell_type": "code",
   "execution_count": 114,
   "id": "77428234",
   "metadata": {},
   "outputs": [
    {
     "name": "stdout",
     "output_type": "stream",
     "text": [
      "Computing the cosine similarity matrix...\n",
      "Done computing similarity matrix.\n"
     ]
    },
    {
     "data": {
      "text/plain": [
       "<surprise.prediction_algorithms.knns.KNNBasic at 0x2e15fcbe150>"
      ]
     },
     "execution_count": 114,
     "metadata": {},
     "output_type": "execute_result"
    }
   ],
   "source": [
    "from surprise import Dataset, Reader, KNNBasic\n",
    "\n",
    "sim_options = {'name': 'cosine', 'user_based': True}\n",
    "model = KNNBasic(sim_options=sim_options)\n",
    "model.fit(trainset)"
   ]
  },
  {
   "cell_type": "code",
   "execution_count": 115,
   "id": "fcaa86b6",
   "metadata": {},
   "outputs": [],
   "source": [
    "predictions = model.test(testset)"
   ]
  },
  {
   "cell_type": "code",
   "execution_count": 116,
   "id": "efe99e63",
   "metadata": {},
   "outputs": [
    {
     "name": "stdout",
     "output_type": "stream",
     "text": [
      "RMSE: 1.2782\n"
     ]
    }
   ],
   "source": [
    "# Evaluate RMSE\n",
    "rmse = accuracy.rmse(predictions)"
   ]
  },
  {
   "cell_type": "code",
   "execution_count": 117,
   "id": "5e8284d7",
   "metadata": {},
   "outputs": [],
   "source": [
    "# Function to recommend top N items for a specific user\n",
    "def get_top_n_recommendations(algo, user_id, n=1):\n",
    "    # Get a list of all item ids\n",
    "    all_items = data_recom['item_id'].unique()\n",
    "    # Get a list of items already rated by the user\n",
    "    rated_items = data_recom[data_recom['user_id'] == user_id]['item_id']\n",
    "    # Get a list of items not yet rated by the user\n",
    "    items_to_recommend = [item for item in all_items if item not in rated_items]\n",
    "    \n",
    "    # Predict the rating for each item not yet rated\n",
    "    predictions = [algo.predict(user_id, item_id) for item_id in items_to_recommend]\n",
    "    \n",
    "    # Sort the predictions by estimated rating\n",
    "    predictions.sort(key=lambda x: x.est, reverse=True)\n",
    "    \n",
    "    # Return the top N items\n",
    "    top_n_items = predictions[:n]\n",
    "    return top_n_items"
   ]
  },
  {
   "cell_type": "code",
   "execution_count": 118,
   "id": "5d947f9d",
   "metadata": {},
   "outputs": [
    {
     "name": "stdout",
     "output_type": "stream",
     "text": [
      "Top recommendation for user A2NWSAGRHCP8N5:\n",
      "Item 321732944 with predicted rating 4.138125\n",
      "Item 439886341 with predicted rating 4.138125\n",
      "Item 511189877 with predicted rating 4.138125\n",
      "Item 528881469 with predicted rating 4.138125\n",
      "Item 558835155 with predicted rating 4.138125\n"
     ]
    }
   ],
   "source": [
    "# Example usage\n",
    "user_id = data_recom['user_id'].iloc[1]  # Replace with a specific user id\n",
    "top_recommendations = get_top_n_recommendations(model, user_id, n=5)\n",
    "\n",
    "print(f\"Top recommendation for user {user_id}:\")\n",
    "for recommendation in top_recommendations:\n",
    "    print(f\"Item {recommendation.iid} with predicted rating {recommendation.est}\")"
   ]
  },
  {
   "cell_type": "markdown",
   "id": "b11de879",
   "metadata": {},
   "source": [
    "### (ii) Using SVD for collaborative filtering"
   ]
  },
  {
   "cell_type": "code",
   "execution_count": 103,
   "id": "b6c861f7",
   "metadata": {},
   "outputs": [
    {
     "data": {
      "text/plain": [
       "<surprise.prediction_algorithms.matrix_factorization.SVD at 0x2e161dda5d0>"
      ]
     },
     "execution_count": 103,
     "metadata": {},
     "output_type": "execute_result"
    }
   ],
   "source": [
    "from surprise import Dataset, Reader, SVD\n",
    "\n",
    "model = SVD(n_factors=50, n_epochs=200)\n",
    "model.fit(trainset)"
   ]
  },
  {
   "cell_type": "code",
   "execution_count": 105,
   "id": "02b86322",
   "metadata": {},
   "outputs": [],
   "source": [
    "predictions = model.test(testset)"
   ]
  },
  {
   "cell_type": "code",
   "execution_count": 106,
   "id": "7d138b05",
   "metadata": {},
   "outputs": [
    {
     "name": "stdout",
     "output_type": "stream",
     "text": [
      "RMSE: 1.2213\n"
     ]
    }
   ],
   "source": [
    "rmse = accuracy.rmse(predictions)"
   ]
  },
  {
   "cell_type": "code",
   "execution_count": 110,
   "id": "c07a70e7",
   "metadata": {},
   "outputs": [],
   "source": [
    "# Function to recommend top N items for a specific user\n",
    "def get_top_n_recommendations(algo, user_id, n=1):\n",
    "    # Get a list of all item ids\n",
    "    all_items = data_recom['item_id'].unique()\n",
    "    # Get a list of items already rated by the user\n",
    "    rated_items = data_recom[data_recom['user_id'] == user_id]['item_id']\n",
    "    # Get a list of items not yet rated by the user\n",
    "    items_to_recommend = [item for item in all_items if item not in rated_items]\n",
    "    \n",
    "    # Predict the rating for each item not yet rated\n",
    "    predictions = [algo.predict(user_id, item_id) for item_id in items_to_recommend]\n",
    "    \n",
    "    # Sort the predictions by estimated rating\n",
    "    predictions.sort(key=lambda x: x.est, reverse=True)\n",
    "    \n",
    "    # Return the top N items\n",
    "    top_n_items = predictions[:n]\n",
    "    return top_n_items"
   ]
  },
  {
   "cell_type": "code",
   "execution_count": 113,
   "id": "6347975f",
   "metadata": {},
   "outputs": [
    {
     "name": "stdout",
     "output_type": "stream",
     "text": [
      "Top recommendation for user A2CX7LUOHB2NDG:\n",
      "Item 1182702627 with predicted rating 4.967485003039911\n",
      "Item 321732944 with predicted rating 4.964517585909436\n",
      "Item 1400501474 with predicted rating 4.868564438476388\n",
      "Item 594296420 with predicted rating 4.816495854825081\n",
      "Item 1400501520 with predicted rating 4.781265327874505\n"
     ]
    }
   ],
   "source": [
    "# Example usage\n",
    "user_id = data_recom['user_id'].iloc[0]  # Replace with a specific user id\n",
    "top_recommendations = get_top_n_recommendations(model, user_id, n=5)\n",
    "\n",
    "print(f\"Top recommendation for user {user_id}:\")\n",
    "for recommendation in top_recommendations:\n",
    "    print(f\"Item {recommendation.iid} with predicted rating {recommendation.est}\")"
   ]
  },
  {
   "cell_type": "code",
   "execution_count": null,
   "id": "2a644b24",
   "metadata": {},
   "outputs": [],
   "source": []
  }
 ],
 "metadata": {
  "kernelspec": {
   "display_name": "Python 3 (ipykernel)",
   "language": "python",
   "name": "python3"
  },
  "language_info": {
   "codemirror_mode": {
    "name": "ipython",
    "version": 3
   },
   "file_extension": ".py",
   "mimetype": "text/x-python",
   "name": "python",
   "nbconvert_exporter": "python",
   "pygments_lexer": "ipython3",
   "version": "3.11.3"
  }
 },
 "nbformat": 4,
 "nbformat_minor": 5
}
