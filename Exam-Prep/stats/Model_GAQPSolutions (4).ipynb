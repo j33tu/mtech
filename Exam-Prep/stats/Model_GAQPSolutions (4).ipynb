{
 "cells": [
  {
   "cell_type": "code",
   "execution_count": 2,
   "id": "6d71bf5e",
   "metadata": {},
   "outputs": [],
   "source": [
    "import pandas as pd\n",
    "import numpy as np\n",
    "import scipy.stats as stats\n",
    "import statsmodels.api as sm\n",
    "import seaborn as sns\n",
    "import matplotlib.pyplot as plt\n",
    "from scipy.stats import f_oneway\n",
    "from statsmodels.stats.weightstats import ztest as ztest\n",
    "from statsmodels.stats.weightstats import ttest_ind as ttest_ind"
   ]
  },
  {
   "cell_type": "markdown",
   "id": "e6ca54ed",
   "metadata": {},
   "source": [
    "The Edison Electric Institute has published figures on the number of kilowatt hoursused annually by various home appliances. It is claimed that a vacuum cleaner uses\n",
    "an average of 46 kilowatt hours per year. If a random sample of 12 homes included in a planned study indicates that vacuum cleaners use an average of 42 kilowatt\n",
    "hours per year with a standard deviation of 11.9 kilowatt hours, \n",
    "does this suggestat the 0.05 level of significance that vacuum cleaners use, on average, less than 46\n",
    "kilowatt hours annually? Assume the population of kilowatt hours to be normal."
   ]
  },
  {
   "cell_type": "code",
   "execution_count": 3,
   "id": "c2793b3a",
   "metadata": {
    "scrolled": true
   },
   "outputs": [
    {
     "data": {
      "text/plain": [
       "-1.1644039042479846"
      ]
     },
     "execution_count": 3,
     "metadata": {},
     "output_type": "execute_result"
    }
   ],
   "source": [
    "# Mean = 46, n=12, Sigma = 11.9\n",
    "# HO : Mu =46\n",
    "# H1 : Mu < 46\n",
    "# Data Mu = 46, Xbar = 42, n=12, Sigma = 11.9\n",
    "tcalc= (42-46)/(11.9/np.sqrt(12))\n",
    "tcalc"
   ]
  },
  {
   "cell_type": "code",
   "execution_count": 4,
   "id": "0085ea8e",
   "metadata": {},
   "outputs": [
    {
     "data": {
      "text/plain": [
       "0.8655535872410081"
      ]
     },
     "execution_count": 4,
     "metadata": {},
     "output_type": "execute_result"
    }
   ],
   "source": [
    "# Area = stats.t.cdf(tcalc,11)\n",
    "pvalue =stats.t.cdf(abs(tcalc),11)\n",
    "pvalue"
   ]
  },
  {
   "cell_type": "code",
   "execution_count": 3,
   "id": "d21e647f",
   "metadata": {},
   "outputs": [],
   "source": [
    "# The grades in a statistics course for a particular semester were as follows \n",
    "\n",
    "# Grades         A  B  C  D  F\n",
    "#               14 18 32 20 16\n",
    "       \n",
    "#Test the hypothesis, at the 0.05 level of significance, that the distribution of grades is uniform(equal probability)"
   ]
  },
  {
   "cell_type": "code",
   "execution_count": 4,
   "id": "476684f3",
   "metadata": {},
   "outputs": [
    {
     "data": {
      "text/plain": [
       "Power_divergenceResult(statistic=10.0, pvalue=0.04042768199451279)"
      ]
     },
     "execution_count": 4,
     "metadata": {},
     "output_type": "execute_result"
    }
   ],
   "source": [
    "observed_Grades = [14,18,32,20,16]\n",
    "Expected_grades=np.array([1/5,1/5,1/5,1/5,1/5])*100 \n",
    "stats.chisquare(f_exp=Expected_grades,f_obs=observed_Grades)"
   ]
  },
  {
   "cell_type": "markdown",
   "id": "7776d793",
   "metadata": {},
   "source": [
    "The solar energy consumed (in trillion BTU) in the U.S. by year from 1989 to 2004 (source: U.S. Department of\n",
    "Energy Web site, http://www.eia.doe.gov/emeu) is shown in the  below. \n",
    "Check the assumption of normality in the population. Construct a 95% confidence interval for the mean solar energy consumed. Suppose \n",
    "\n",
    "Solar energy =[55.291,59.718,62.688,63.886,66.458,68.548,69.857,70.833,70.237,69.787,68.793,66.388]"
   ]
  },
  {
   "cell_type": "code",
   "execution_count": 5,
   "id": "f0a598e5",
   "metadata": {},
   "outputs": [
    {
     "data": {
      "text/plain": [
       "ShapiroResult(statistic=0.8728018999099731, pvalue=0.07093048095703125)"
      ]
     },
     "execution_count": 5,
     "metadata": {},
     "output_type": "execute_result"
    }
   ],
   "source": [
    "Solar_energy =[55.291,59.718,62.688,63.886,66.458,68.548,69.857,70.833,70.237,69.787,68.793,66.388]\n",
    "stats.shapiro(Solar_energy)"
   ]
  },
  {
   "cell_type": "code",
   "execution_count": 6,
   "id": "2addbc02",
   "metadata": {},
   "outputs": [
    {
     "data": {
      "text/plain": [
       "(62.98270888031746, 69.09795778634921)"
      ]
     },
     "execution_count": 6,
     "metadata": {},
     "output_type": "execute_result"
    }
   ],
   "source": [
    "# Since p value is more than .05 we can assume that data follows normality \n",
    "#Confidence interval can be constructed based on t statistics \n",
    "Xbar=np.mean(Solar_energy)\n",
    "n=len(Solar_energy)\n",
    "s = np.std(Solar_energy,ddof=1)\n",
    "CI = stats.t.interval(alpha=0.95,loc=Xbar,scale= s/(n**0.5),df=n-1) \n",
    "CI"
   ]
  },
  {
   "cell_type": "code",
   "execution_count": 7,
   "id": "ac582029",
   "metadata": {},
   "outputs": [],
   "source": [
    "# Consider the following data data_set.csv."
   ]
  },
  {
   "cell_type": "markdown",
   "id": "d00d0b6f",
   "metadata": {},
   "source": [
    "Frame the hypothesis ,calculate the test statistic and p_value , interpret the results for the following tasks with 95% Confidence level :¶\n",
    "i. The shop keeper claims that the average of the item outlet sales is not less than $2280.Validate if his claim is true.(4 marks)\n",
    "\n",
    "ii. IS the mean for sales from regular and low fat the same? (4 marks)\n",
    "\n",
    "iii.Is there any relation between Outlet_Location_Type and Outlet_Type? (4 marks)\n",
    "\n",
    "iv.Is there any relation between Item_Weight and Item_Outlet_Sales? (4 marks)\n",
    "\n",
    "v. Is there any relation between Outlet_Size and Item_Outlet_Sales? (4 marks)\n",
    "\n",
    "Note: Assume all continuous columns are normally distributed and have equal variance."
   ]
  },
  {
   "cell_type": "code",
   "execution_count": 6,
   "id": "abc8c3d1",
   "metadata": {},
   "outputs": [],
   "source": [
    "data= pd.read_csv('data_set2.csv')"
   ]
  },
  {
   "cell_type": "code",
   "execution_count": 7,
   "id": "d8b2a6f2",
   "metadata": {},
   "outputs": [
    {
     "data": {
      "text/html": [
       "<div>\n",
       "<style scoped>\n",
       "    .dataframe tbody tr th:only-of-type {\n",
       "        vertical-align: middle;\n",
       "    }\n",
       "\n",
       "    .dataframe tbody tr th {\n",
       "        vertical-align: top;\n",
       "    }\n",
       "\n",
       "    .dataframe thead th {\n",
       "        text-align: right;\n",
       "    }\n",
       "</style>\n",
       "<table border=\"1\" class=\"dataframe\">\n",
       "  <thead>\n",
       "    <tr style=\"text-align: right;\">\n",
       "      <th></th>\n",
       "      <th>Item_Identifier</th>\n",
       "      <th>Item_Weight</th>\n",
       "      <th>Item_Fat_Content</th>\n",
       "      <th>Item_Visibility</th>\n",
       "      <th>Item_Type</th>\n",
       "      <th>Item_MRP</th>\n",
       "      <th>Outlet_Identifier</th>\n",
       "      <th>Outlet_Establishment_Year</th>\n",
       "      <th>Outlet_Size</th>\n",
       "      <th>Outlet_Location_Type</th>\n",
       "      <th>Outlet_Type</th>\n",
       "      <th>Item_Outlet_Sales</th>\n",
       "    </tr>\n",
       "  </thead>\n",
       "  <tbody>\n",
       "    <tr>\n",
       "      <th>0</th>\n",
       "      <td>FDA15</td>\n",
       "      <td>9.300</td>\n",
       "      <td>Low Fat</td>\n",
       "      <td>0.016047</td>\n",
       "      <td>Dairy</td>\n",
       "      <td>249.8092</td>\n",
       "      <td>OUT049</td>\n",
       "      <td>1999</td>\n",
       "      <td>Medium</td>\n",
       "      <td>Tier 1</td>\n",
       "      <td>Supermarket Type1</td>\n",
       "      <td>3735.1380</td>\n",
       "    </tr>\n",
       "    <tr>\n",
       "      <th>1</th>\n",
       "      <td>DRC01</td>\n",
       "      <td>5.920</td>\n",
       "      <td>Regular</td>\n",
       "      <td>0.019278</td>\n",
       "      <td>Soft Drinks</td>\n",
       "      <td>48.2692</td>\n",
       "      <td>OUT018</td>\n",
       "      <td>2009</td>\n",
       "      <td>Medium</td>\n",
       "      <td>Tier 3</td>\n",
       "      <td>Supermarket Type2</td>\n",
       "      <td>443.4228</td>\n",
       "    </tr>\n",
       "    <tr>\n",
       "      <th>2</th>\n",
       "      <td>FDN15</td>\n",
       "      <td>17.500</td>\n",
       "      <td>Low Fat</td>\n",
       "      <td>0.016760</td>\n",
       "      <td>Meat</td>\n",
       "      <td>141.6180</td>\n",
       "      <td>OUT049</td>\n",
       "      <td>1999</td>\n",
       "      <td>Medium</td>\n",
       "      <td>Tier 1</td>\n",
       "      <td>Supermarket Type1</td>\n",
       "      <td>2097.2700</td>\n",
       "    </tr>\n",
       "    <tr>\n",
       "      <th>3</th>\n",
       "      <td>NCD19</td>\n",
       "      <td>8.930</td>\n",
       "      <td>Low Fat</td>\n",
       "      <td>0.000000</td>\n",
       "      <td>Household</td>\n",
       "      <td>53.8614</td>\n",
       "      <td>OUT013</td>\n",
       "      <td>1987</td>\n",
       "      <td>High</td>\n",
       "      <td>Tier 3</td>\n",
       "      <td>Supermarket Type1</td>\n",
       "      <td>994.7052</td>\n",
       "    </tr>\n",
       "    <tr>\n",
       "      <th>4</th>\n",
       "      <td>FDP36</td>\n",
       "      <td>10.395</td>\n",
       "      <td>Regular</td>\n",
       "      <td>0.000000</td>\n",
       "      <td>Baking Goods</td>\n",
       "      <td>51.4008</td>\n",
       "      <td>OUT018</td>\n",
       "      <td>2009</td>\n",
       "      <td>Medium</td>\n",
       "      <td>Tier 3</td>\n",
       "      <td>Supermarket Type2</td>\n",
       "      <td>556.6088</td>\n",
       "    </tr>\n",
       "    <tr>\n",
       "      <th>...</th>\n",
       "      <td>...</td>\n",
       "      <td>...</td>\n",
       "      <td>...</td>\n",
       "      <td>...</td>\n",
       "      <td>...</td>\n",
       "      <td>...</td>\n",
       "      <td>...</td>\n",
       "      <td>...</td>\n",
       "      <td>...</td>\n",
       "      <td>...</td>\n",
       "      <td>...</td>\n",
       "      <td>...</td>\n",
       "    </tr>\n",
       "    <tr>\n",
       "      <th>4645</th>\n",
       "      <td>FDF53</td>\n",
       "      <td>20.750</td>\n",
       "      <td>Regular</td>\n",
       "      <td>0.083607</td>\n",
       "      <td>Frozen Foods</td>\n",
       "      <td>178.8318</td>\n",
       "      <td>OUT046</td>\n",
       "      <td>1997</td>\n",
       "      <td>Small</td>\n",
       "      <td>Tier 1</td>\n",
       "      <td>Supermarket Type1</td>\n",
       "      <td>3608.6360</td>\n",
       "    </tr>\n",
       "    <tr>\n",
       "      <th>4646</th>\n",
       "      <td>FDF22</td>\n",
       "      <td>6.865</td>\n",
       "      <td>Low Fat</td>\n",
       "      <td>0.056783</td>\n",
       "      <td>Snack Foods</td>\n",
       "      <td>214.5218</td>\n",
       "      <td>OUT013</td>\n",
       "      <td>1987</td>\n",
       "      <td>High</td>\n",
       "      <td>Tier 3</td>\n",
       "      <td>Supermarket Type1</td>\n",
       "      <td>2778.3834</td>\n",
       "    </tr>\n",
       "    <tr>\n",
       "      <th>4647</th>\n",
       "      <td>NCJ29</td>\n",
       "      <td>10.600</td>\n",
       "      <td>Low Fat</td>\n",
       "      <td>0.035186</td>\n",
       "      <td>Health and Hygiene</td>\n",
       "      <td>85.1224</td>\n",
       "      <td>OUT035</td>\n",
       "      <td>2004</td>\n",
       "      <td>Small</td>\n",
       "      <td>Tier 2</td>\n",
       "      <td>Supermarket Type1</td>\n",
       "      <td>1193.1136</td>\n",
       "    </tr>\n",
       "    <tr>\n",
       "      <th>4648</th>\n",
       "      <td>FDN46</td>\n",
       "      <td>7.210</td>\n",
       "      <td>Regular</td>\n",
       "      <td>0.145221</td>\n",
       "      <td>Snack Foods</td>\n",
       "      <td>103.1332</td>\n",
       "      <td>OUT018</td>\n",
       "      <td>2009</td>\n",
       "      <td>Medium</td>\n",
       "      <td>Tier 3</td>\n",
       "      <td>Supermarket Type2</td>\n",
       "      <td>1845.5976</td>\n",
       "    </tr>\n",
       "    <tr>\n",
       "      <th>4649</th>\n",
       "      <td>DRG01</td>\n",
       "      <td>14.800</td>\n",
       "      <td>Low Fat</td>\n",
       "      <td>0.044878</td>\n",
       "      <td>Soft Drinks</td>\n",
       "      <td>75.4670</td>\n",
       "      <td>OUT046</td>\n",
       "      <td>1997</td>\n",
       "      <td>Small</td>\n",
       "      <td>Tier 1</td>\n",
       "      <td>Supermarket Type1</td>\n",
       "      <td>765.6700</td>\n",
       "    </tr>\n",
       "  </tbody>\n",
       "</table>\n",
       "<p>4650 rows × 12 columns</p>\n",
       "</div>"
      ],
      "text/plain": [
       "     Item_Identifier  Item_Weight Item_Fat_Content  Item_Visibility  \\\n",
       "0              FDA15        9.300          Low Fat         0.016047   \n",
       "1              DRC01        5.920          Regular         0.019278   \n",
       "2              FDN15       17.500          Low Fat         0.016760   \n",
       "3              NCD19        8.930          Low Fat         0.000000   \n",
       "4              FDP36       10.395          Regular         0.000000   \n",
       "...              ...          ...              ...              ...   \n",
       "4645           FDF53       20.750          Regular         0.083607   \n",
       "4646           FDF22        6.865          Low Fat         0.056783   \n",
       "4647           NCJ29       10.600          Low Fat         0.035186   \n",
       "4648           FDN46        7.210          Regular         0.145221   \n",
       "4649           DRG01       14.800          Low Fat         0.044878   \n",
       "\n",
       "               Item_Type  Item_MRP Outlet_Identifier  \\\n",
       "0                  Dairy  249.8092            OUT049   \n",
       "1            Soft Drinks   48.2692            OUT018   \n",
       "2                   Meat  141.6180            OUT049   \n",
       "3              Household   53.8614            OUT013   \n",
       "4           Baking Goods   51.4008            OUT018   \n",
       "...                  ...       ...               ...   \n",
       "4645        Frozen Foods  178.8318            OUT046   \n",
       "4646         Snack Foods  214.5218            OUT013   \n",
       "4647  Health and Hygiene   85.1224            OUT035   \n",
       "4648         Snack Foods  103.1332            OUT018   \n",
       "4649         Soft Drinks   75.4670            OUT046   \n",
       "\n",
       "      Outlet_Establishment_Year Outlet_Size Outlet_Location_Type  \\\n",
       "0                          1999      Medium               Tier 1   \n",
       "1                          2009      Medium               Tier 3   \n",
       "2                          1999      Medium               Tier 1   \n",
       "3                          1987        High               Tier 3   \n",
       "4                          2009      Medium               Tier 3   \n",
       "...                         ...         ...                  ...   \n",
       "4645                       1997       Small               Tier 1   \n",
       "4646                       1987        High               Tier 3   \n",
       "4647                       2004       Small               Tier 2   \n",
       "4648                       2009      Medium               Tier 3   \n",
       "4649                       1997       Small               Tier 1   \n",
       "\n",
       "            Outlet_Type  Item_Outlet_Sales  \n",
       "0     Supermarket Type1          3735.1380  \n",
       "1     Supermarket Type2           443.4228  \n",
       "2     Supermarket Type1          2097.2700  \n",
       "3     Supermarket Type1           994.7052  \n",
       "4     Supermarket Type2           556.6088  \n",
       "...                 ...                ...  \n",
       "4645  Supermarket Type1          3608.6360  \n",
       "4646  Supermarket Type1          2778.3834  \n",
       "4647  Supermarket Type1          1193.1136  \n",
       "4648  Supermarket Type2          1845.5976  \n",
       "4649  Supermarket Type1           765.6700  \n",
       "\n",
       "[4650 rows x 12 columns]"
      ]
     },
     "execution_count": 7,
     "metadata": {},
     "output_type": "execute_result"
    }
   ],
   "source": [
    "data"
   ]
  },
  {
   "cell_type": "code",
   "execution_count": 8,
   "id": "1d6e6efb",
   "metadata": {},
   "outputs": [],
   "source": [
    "#The shop keeper claims that the average of the item outlet sales is not less than $2280.\n",
    "#Validate if his claim is true\n",
    "#Ho : Mu =2280\n",
    "# h1 Mu > 2280"
   ]
  },
  {
   "cell_type": "code",
   "execution_count": 9,
   "id": "f83a8ea5",
   "metadata": {
    "scrolled": false
   },
   "outputs": [
    {
     "data": {
      "text/plain": [
       "0.6414922422772751"
      ]
     },
     "execution_count": 9,
     "metadata": {},
     "output_type": "execute_result"
    }
   ],
   "source": [
    "t_stat, p_val = stats.ttest_1samp(a = data[\"Item_Outlet_Sales\"], popmean = 2280,alternative='greater')\n",
    "t_stat\n",
    "p_val"
   ]
  },
  {
   "cell_type": "code",
   "execution_count": 10,
   "id": "8df1ba01",
   "metadata": {},
   "outputs": [],
   "source": [
    "# Since p value is greater than alpha fail to reject null"
   ]
  },
  {
   "cell_type": "code",
   "execution_count": 11,
   "id": "3a465a06",
   "metadata": {},
   "outputs": [
    {
     "data": {
      "text/plain": [
       "4650"
      ]
     },
     "execution_count": 11,
     "metadata": {},
     "output_type": "execute_result"
    }
   ],
   "source": [
    "data[\"Item_Outlet_Sales\"].count()"
   ]
  },
  {
   "cell_type": "code",
   "execution_count": 12,
   "id": "0832683d",
   "metadata": {},
   "outputs": [],
   "source": [
    "Area = stats.t.cdf(t_stat,4649)"
   ]
  },
  {
   "cell_type": "code",
   "execution_count": 13,
   "id": "4be12b44",
   "metadata": {},
   "outputs": [
    {
     "data": {
      "text/plain": [
       "0.6414922422772751"
      ]
     },
     "execution_count": 13,
     "metadata": {},
     "output_type": "execute_result"
    }
   ],
   "source": [
    "1-Area "
   ]
  },
  {
   "cell_type": "code",
   "execution_count": 14,
   "id": "5b664a67",
   "metadata": {},
   "outputs": [],
   "source": [
    "# Is there any relation between Item_Fat_Content and Item_Outlet_Sales?\n",
    "# Ho Mu_Itemregular = mulowfat\n",
    "#H1 Mu_Itemregular not equal mulowfat"
   ]
  },
  {
   "cell_type": "code",
   "execution_count": 15,
   "id": "fe1b14d9",
   "metadata": {},
   "outputs": [],
   "source": [
    "low_fat_sale = data[data['Item_Fat_Content']=='Low Fat']['Item_Outlet_Sales']\n",
    "reg_sale = data[data['Item_Fat_Content']=='Regular']['Item_Outlet_Sales']"
   ]
  },
  {
   "cell_type": "code",
   "execution_count": 16,
   "id": "8ef0c5e4",
   "metadata": {},
   "outputs": [
    {
     "data": {
      "text/plain": [
       "Ttest_indResult(statistic=-0.6031979717004137, pvalue=0.5464064285474939)"
      ]
     },
     "execution_count": 16,
     "metadata": {},
     "output_type": "execute_result"
    }
   ],
   "source": [
    "stats.ttest_ind(low_fat_sale,reg_sale)"
   ]
  },
  {
   "cell_type": "code",
   "execution_count": 17,
   "id": "1a8f1e31",
   "metadata": {},
   "outputs": [],
   "source": [
    "#Since p is greater than .05 there is no difference"
   ]
  },
  {
   "cell_type": "code",
   "execution_count": 18,
   "id": "cfda19be",
   "metadata": {},
   "outputs": [],
   "source": [
    "# Is there any relation between Outlet_Location_Type and Outlet_Type? "
   ]
  },
  {
   "cell_type": "code",
   "execution_count": 19,
   "id": "37f459f0",
   "metadata": {},
   "outputs": [],
   "source": [
    "# Ho :There is no relation\n",
    "# Ha : There is a relation"
   ]
  },
  {
   "cell_type": "code",
   "execution_count": 21,
   "id": "5cb34a4f",
   "metadata": {},
   "outputs": [
    {
     "data": {
      "text/html": [
       "<div>\n",
       "<style scoped>\n",
       "    .dataframe tbody tr th:only-of-type {\n",
       "        vertical-align: middle;\n",
       "    }\n",
       "\n",
       "    .dataframe tbody tr th {\n",
       "        vertical-align: top;\n",
       "    }\n",
       "\n",
       "    .dataframe thead th {\n",
       "        text-align: right;\n",
       "    }\n",
       "</style>\n",
       "<table border=\"1\" class=\"dataframe\">\n",
       "  <thead>\n",
       "    <tr style=\"text-align: right;\">\n",
       "      <th>Outlet_Type</th>\n",
       "      <th>Supermarket Type1</th>\n",
       "      <th>Supermarket Type2</th>\n",
       "    </tr>\n",
       "    <tr>\n",
       "      <th>Outlet_Location_Type</th>\n",
       "      <th></th>\n",
       "      <th></th>\n",
       "    </tr>\n",
       "  </thead>\n",
       "  <tbody>\n",
       "    <tr>\n",
       "      <th>Tier 1</th>\n",
       "      <td>1860</td>\n",
       "      <td>0</td>\n",
       "    </tr>\n",
       "    <tr>\n",
       "      <th>Tier 2</th>\n",
       "      <td>930</td>\n",
       "      <td>0</td>\n",
       "    </tr>\n",
       "    <tr>\n",
       "      <th>Tier 3</th>\n",
       "      <td>932</td>\n",
       "      <td>928</td>\n",
       "    </tr>\n",
       "  </tbody>\n",
       "</table>\n",
       "</div>"
      ],
      "text/plain": [
       "Outlet_Type           Supermarket Type1  Supermarket Type2\n",
       "Outlet_Location_Type                                      \n",
       "Tier 1                             1860                  0\n",
       "Tier 2                              930                  0\n",
       "Tier 3                              932                928"
      ]
     },
     "execution_count": 21,
     "metadata": {},
     "output_type": "execute_result"
    }
   ],
   "source": [
    "obs = pd.crosstab(data['Outlet_Location_Type'],data['Outlet_Type'])\n",
    "obs"
   ]
  },
  {
   "cell_type": "code",
   "execution_count": 66,
   "id": "54822b09",
   "metadata": {},
   "outputs": [
    {
     "data": {
      "text/plain": [
       "(1739.0650188070927,\n",
       " 0.0,\n",
       " 2,\n",
       " array([[1488.8,  371.2],\n",
       "        [ 744.4,  185.6],\n",
       "        [1488.8,  371.2]]))"
      ]
     },
     "execution_count": 66,
     "metadata": {},
     "output_type": "execute_result"
    }
   ],
   "source": [
    "stats.chi2_contingency(obs)"
   ]
  },
  {
   "cell_type": "code",
   "execution_count": 67,
   "id": "b33ee06c",
   "metadata": {},
   "outputs": [],
   "source": [
    "# Sicne p value is less than .05 Reject the null hence there is a relation "
   ]
  },
  {
   "cell_type": "code",
   "execution_count": 68,
   "id": "4ac8e050",
   "metadata": {},
   "outputs": [],
   "source": [
    "# Is there any relation between Item_Weight and Item_Outlet_Sales? (4 marks)"
   ]
  },
  {
   "cell_type": "code",
   "execution_count": 22,
   "id": "ce870d5c",
   "metadata": {},
   "outputs": [
    {
     "name": "stderr",
     "output_type": "stream",
     "text": [
      "C:\\Users\\Vivekanand\\anaconda3\\lib\\site-packages\\seaborn\\_decorators.py:36: FutureWarning: Pass the following variables as keyword args: x, y. From version 0.12, the only valid positional argument will be `data`, and passing other arguments without an explicit keyword will result in an error or misinterpretation.\n",
      "  warnings.warn(\n"
     ]
    },
    {
     "data": {
      "text/plain": [
       "<AxesSubplot:xlabel='Item_Weight', ylabel='Item_Outlet_Sales'>"
      ]
     },
     "execution_count": 22,
     "metadata": {},
     "output_type": "execute_result"
    },
    {
     "data": {
      "image/png": "[encoded data removed]",
      "text/plain": [
       "<Figure size 432x288 with 1 Axes>"
      ]
     },
     "metadata": {
      "needs_background": "light"
     },
     "output_type": "display_data"
    }
   ],
   "source": [
    "sns.scatterplot(data['Item_Weight'],data['Item_Outlet_Sales'])"
   ]
  },
  {
   "cell_type": "code",
   "execution_count": 69,
   "id": "d9f6161d",
   "metadata": {},
   "outputs": [
    {
     "data": {
      "text/plain": [
       "(0.010971826651563642, 0.45446004213843155)"
      ]
     },
     "execution_count": 69,
     "metadata": {},
     "output_type": "execute_result"
    }
   ],
   "source": [
    "stats.pearsonr(data['Item_Weight'],data['Item_Outlet_Sales'])"
   ]
  },
  {
   "cell_type": "code",
   "execution_count": 70,
   "id": "7996c231",
   "metadata": {},
   "outputs": [],
   "source": [
    "# Sicne p value is greater than .05 hence fail to reject null whcih implies there is no relation"
   ]
  },
  {
   "cell_type": "code",
   "execution_count": 71,
   "id": "d4b6e5e7",
   "metadata": {},
   "outputs": [],
   "source": [
    "# Is there any relation between Outlet_Size and Item_Outlet_Sales? (4 marks)"
   ]
  },
  {
   "cell_type": "code",
   "execution_count": null,
   "id": "575ac6da",
   "metadata": {},
   "outputs": [],
   "source": [
    "# Ho :Mu small sales= medium sales= high sales\n",
    "# Ha : any one different "
   ]
  },
  {
   "cell_type": "code",
   "execution_count": 74,
   "id": "37bec780",
   "metadata": {},
   "outputs": [],
   "source": [
    "small_sale = data[data['Outlet_Size']=='Small']['Item_Outlet_Sales']\n",
    "med_sale = data[data['Outlet_Size']=='Medium']['Item_Outlet_Sales']\n",
    "high_sale = data[data['Outlet_Size']=='High']['Item_Outlet_Sales']"
   ]
  },
  {
   "cell_type": "code",
   "execution_count": 75,
   "id": "a8a7f833",
   "metadata": {},
   "outputs": [
    {
     "data": {
      "text/plain": [
       "F_onewayResult(statistic=7.391908481135086, pvalue=0.0006234916597581883)"
      ]
     },
     "execution_count": 75,
     "metadata": {},
     "output_type": "execute_result"
    }
   ],
   "source": [
    "stats.f_oneway(small_sale,med_sale,high_sale)"
   ]
  },
  {
   "cell_type": "code",
   "execution_count": null,
   "id": "94dbb980",
   "metadata": {},
   "outputs": [],
   "source": [
    "# since p value is less than .05 reject null hence there is a significant difference therefore there is a relation"
   ]
  }
 ],
 "metadata": {
  "kernelspec": {
   "display_name": "Python 3",
   "language": "python",
   "name": "python3"
  },
  "language_info": {
   "codemirror_mode": {
    "name": "ipython",
    "version": 3
   },
   "file_extension": ".py",
   "mimetype": "text/x-python",
   "name": "python",
   "nbconvert_exporter": "python",
   "pygments_lexer": "ipython3",
   "version": "3.8.8"
  }
 },
 "nbformat": 4,
 "nbformat_minor": 5
}
