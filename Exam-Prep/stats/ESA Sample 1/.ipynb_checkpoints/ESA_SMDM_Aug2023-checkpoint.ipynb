{
 "cells": [
  {
   "cell_type": "markdown",
   "id": "ae066f34",
   "metadata": {},
   "source": [
    "### Aug 2022: END SEMESTER ASSESSMENT (ESA)\n",
    "## M TECH DATA SCIENCE AND MACHINE LEARNING_ SEMESTER I\n",
    "### UE20CS902 – Statistical Methods for Decision Making\n",
    "  "
   ]
  },
  {
   "cell_type": "code",
   "execution_count": 1,
   "id": "4cb67927",
   "metadata": {},
   "outputs": [],
   "source": [
    "# import 'pandas' \n",
    "import pandas as pd \n",
    "\n",
    "# import 'numpy' \n",
    "import numpy as np\n",
    "\n",
    "# import subpackage of matplotlib\n",
    "import matplotlib.pyplot as plt\n",
    "\n",
    "# import 'seaborn'\n",
    "import seaborn as sns\n",
    "\n",
    "# to suppress warnings \n",
    "from warnings import filterwarnings\n",
    "filterwarnings('ignore')\n",
    "\n",
    "# import statsmodels\n",
    "import statsmodels.api as sm\n",
    "\n",
    "# import 'stats' package from scipy library\n",
    "import scipy.stats as stats\n",
    "\n",
    "# import statistics to perform statistical computations\n",
    "import statistics\n",
    "\n",
    "# to test the normality \n",
    "from scipy.stats import shapiro\n",
    "\n",
    "# import a library to perform Z-test\n",
    "from statsmodels.stats import weightstats as stests\n",
    "\n",
    "# import statsmodels\n",
    "import statsmodels.api as sm\n",
    "from statsmodels.formula.api import ols\n",
    "from statsmodels.stats.anova import anova_lm\n",
    "\n",
    "# import the functions to perform Chi-square tests\n",
    "from scipy.stats import chi2_contingency\n",
    "from scipy.stats import chi2\n",
    "from scipy.stats import chisquare"
   ]
  },
  {
   "cell_type": "markdown",
   "id": "4e68c1b9",
   "metadata": {},
   "source": [
    "# Section B"
   ]
  },
  {
   "cell_type": "markdown",
   "id": "480a4255",
   "metadata": {},
   "source": [
    "#### 3a) Jim is a real estate agent who sells large commercial buildings, Because his commission is so large on a single sale,   he does not need to sell many buildings to make a good living. History shows that Jim has a record of selling an average of eight large commercial buildings every 275 days.  In a 60-day period, what is the probability that Jim will make \n",
    "\n",
    "- No sales? \n",
    "- One sale? \n",
    "- Two or more sales? \n",
    "- In a 90-day period, what is the probability that Jim will make no sales? (1+1+1+2)\n"
   ]
  },
  {
   "cell_type": "code",
   "execution_count": null,
   "id": "e9f4bd33",
   "metadata": {},
   "outputs": [],
   "source": []
  },
  {
   "cell_type": "markdown",
   "id": "58909b1f",
   "metadata": {},
   "source": [
    "#### 3b) The compressive strength of samples of cement can be modeled by a normal distribution with a mean of 6000 kilograms per square centimeter and a standard deviation of 100 kilograms per square centimeter.\n",
    "\n",
    "- i. What is the probability that a sample’s strength is less than 6250 Kg/cm2 ( 2mark)\n",
    "- ii. What is the probability that a sample’s strength is between 5800 and 5900 Kg/cm2(2 mark)\n",
    "- iii. What strength is exceeded by 95% of the samples (2 mark)k\n"
   ]
  },
  {
   "cell_type": "code",
   "execution_count": null,
   "id": "2bbd86ca",
   "metadata": {},
   "outputs": [],
   "source": []
  },
  {
   "cell_type": "markdown",
   "id": "2c127b16",
   "metadata": {},
   "source": [
    "#### 3c) The production manager at the Yen Sewing Factory claims that on average the diameter of a class 14M bobbin is less than 18 mm. The previous study shows that the standard deviation is 1.7 mm. Consider a sample of 40 class 14M bobbins from a normally distributed population with sample mean diameter as 17.5 mm. Plot the acceptance and rejection regions to test the claim of the production manager with 99% confidence. \n",
    "    i. State the null hypothesis and the alternate hypothesis. (1 mark)\n",
    "    ii. Which test is to be performed. (1 mark)\n",
    "    iii. Compute test statistics, p value. (3 marks)\n",
    "    iv. At the 0.01 significance level, can we conclude that water consumption has increased? (1 mark)\n",
    "\n"
   ]
  },
  {
   "cell_type": "markdown",
   "id": "0e4cf59e",
   "metadata": {},
   "source": [
    "The null and alternative hypothesis is:\n",
    "\n",
    "H<sub>0</sub>: $\\mu \\geq 18 $<br>\n",
    "H<sub>1</sub>: $\\mu < 18 $"
   ]
  },
  {
   "cell_type": "markdown",
   "id": "921769ef",
   "metadata": {},
   "source": [
    "Let us plot the acceptance and rejection region for a left-tailed test with 99% confidence."
   ]
  },
  {
   "cell_type": "code",
   "execution_count": null,
   "id": "a9f4bc03",
   "metadata": {},
   "outputs": [],
   "source": []
  },
  {
   "cell_type": "code",
   "execution_count": null,
   "id": "3423ed25",
   "metadata": {},
   "outputs": [],
   "source": []
  },
  {
   "cell_type": "code",
   "execution_count": null,
   "id": "4f7f31bd",
   "metadata": {},
   "outputs": [],
   "source": []
  },
  {
   "cell_type": "code",
   "execution_count": null,
   "id": "0f9651d8",
   "metadata": {},
   "outputs": [],
   "source": []
  },
  {
   "cell_type": "markdown",
   "id": "cb9399e6",
   "metadata": {},
   "source": [
    "#### 3d) Two catalysts are being analyzed to determine how they affect the mean yield of a chemical process. Specifically, catalysts 1 is currently in use, but catalyst 2 is acceptable. Since catalyst is cheaper, it should be adopted, providing it does not change the process yield. A test is run in the pilot plant and results in the data shown table. Is there any difference in mean yields for an α =.05 and assume equal variances\n",
    "\n",
    "```\n",
    "Number\t     1\t     2\t   3\t   4\t    5\t    6\t    7\t   8\n",
    "Catlayst1\t91.50\t94.18\t92.18\t95.39\t91.79\t89.07\t94.72   89.21\n",
    "Catalyst2\t89.19\t90.95\t90.46\t93.21\t97.19\t97.04\t91.07   92.75\n",
    "\n",
    "```\n",
    "\n",
    "- i)\tState the hypothesis and type of test to be used                    2 marks\n",
    "- ii)\tTest the hypothesis and conclude                                    4 marks"
   ]
  },
  {
   "cell_type": "code",
   "execution_count": null,
   "id": "33ce5d34",
   "metadata": {},
   "outputs": [],
   "source": []
  },
  {
   "cell_type": "code",
   "execution_count": null,
   "id": "4fe59ee2",
   "metadata": {},
   "outputs": [],
   "source": []
  },
  {
   "cell_type": "code",
   "execution_count": null,
   "id": "3b0ad95c",
   "metadata": {},
   "outputs": [],
   "source": []
  },
  {
   "cell_type": "code",
   "execution_count": null,
   "id": "6129929b",
   "metadata": {},
   "outputs": [],
   "source": []
  },
  {
   "cell_type": "markdown",
   "id": "0edb18fe",
   "metadata": {},
   "source": [
    "#### 3e) A multinational company had organized a presentation activity to test the soft skills of their 6 sales executives and then offered them a skill development course. After the completion of the course, the executives again appeared for the presentation and the scores before and after the course are recorded. Test the company's claim that the course was effective in developing soft skills with 95% confidence using the p-value technique.\n",
    "\n",
    "    Consider the scores given in the file `paired_data.xlsx`\n",
    "    please consider the first two attributes \n",
    "\n",
    "1. Check if the attributes are normally distributed (2 marks)\n",
    "2. State the null hypothesis and alternate hypothesis (1 mark)\n",
    "3. Test the hypothesis and conclude. (3 marks)\n",
    "\n"
   ]
  },
  {
   "cell_type": "code",
   "execution_count": null,
   "id": "08d7da57",
   "metadata": {},
   "outputs": [],
   "source": []
  },
  {
   "cell_type": "code",
   "execution_count": null,
   "id": "340c507d",
   "metadata": {},
   "outputs": [],
   "source": []
  },
  {
   "cell_type": "code",
   "execution_count": null,
   "id": "dd1d30c9",
   "metadata": {},
   "outputs": [],
   "source": []
  },
  {
   "cell_type": "markdown",
   "id": "df62484c",
   "metadata": {},
   "source": [
    "# Section C"
   ]
  },
  {
   "cell_type": "markdown",
   "id": "cac006bb",
   "metadata": {},
   "source": [
    "### 4a) Consider the admission.xlsx file and answer the following questions\n"
   ]
  },
  {
   "cell_type": "markdown",
   "id": "858acb24",
   "metadata": {},
   "source": [
    "DATA DESCRIPTION:\n",
    "The data set consists of complete educational details of students right from their schooling to MBA and previous work experience. Our main objective is to predict the Salary of the students based on the info available\n",
    "ATTRIBUTES:\n",
    "\n",
    "    SlNo - ID of the student\n",
    "    Gender - Gender of Student\n",
    "    Percent_SSC - Percentage of marks scored in SSC\n",
    "    Board_SSC - Types of Boards in SSC\n",
    "    Percent_HSC - Percentage of marks scored in HSC\n",
    "    Board_HSC - Types of Boards in HSC\n",
    "    Stream_HSC - Specialization in HSC\n",
    "    Percent Degree - Percentage of marks scored in Degree\n",
    "    Course_Degree - Different courses in degree\n",
    "    Experience_Yrs - Work Experience of the Students\n",
    "    Entrance_Test - Test which students give for MBA college Entrance\n",
    "    Percentile_ET - Percentage of marks scored in Entrance_Test\n",
    "    Percent_MBA - Percentage of marks scored in MBA\n",
    "    Specialization_MBA - Specialization in MBA\n",
    "    Marks Communication - Percentage of marks scored in Communication\n",
    "    Marks_Projectwork - Percentage of marks scored in Project Work\n",
    "    Placement - Whether Student got placed or not\n",
    "    Salary - Salary of students\n"
   ]
  },
  {
   "cell_type": "code",
   "execution_count": 81,
   "id": "e0fb9888",
   "metadata": {},
   "outputs": [
    {
     "data": {
      "text/html": [
       "<div>\n",
       "<style scoped>\n",
       "    .dataframe tbody tr th:only-of-type {\n",
       "        vertical-align: middle;\n",
       "    }\n",
       "\n",
       "    .dataframe tbody tr th {\n",
       "        vertical-align: top;\n",
       "    }\n",
       "\n",
       "    .dataframe thead th {\n",
       "        text-align: right;\n",
       "    }\n",
       "</style>\n",
       "<table border=\"1\" class=\"dataframe\">\n",
       "  <thead>\n",
       "    <tr style=\"text-align: right;\">\n",
       "      <th></th>\n",
       "      <th>SlNo</th>\n",
       "      <th>Gender</th>\n",
       "      <th>Percent_SSC</th>\n",
       "      <th>Board_SSC</th>\n",
       "      <th>Percent_HSC</th>\n",
       "      <th>Board_HSC</th>\n",
       "      <th>Stream_HSC</th>\n",
       "      <th>Percent_Degree</th>\n",
       "      <th>Course_Degree</th>\n",
       "      <th>Experience_Yrs</th>\n",
       "      <th>Entrance_Test</th>\n",
       "      <th>Percentile_ET</th>\n",
       "      <th>Percent_MBA</th>\n",
       "      <th>Specialization_MBA</th>\n",
       "      <th>Marks_Communication</th>\n",
       "      <th>Marks_Projectwork</th>\n",
       "      <th>Placement</th>\n",
       "      <th>Salary</th>\n",
       "    </tr>\n",
       "  </thead>\n",
       "  <tbody>\n",
       "    <tr>\n",
       "      <th>0</th>\n",
       "      <td>1</td>\n",
       "      <td>M</td>\n",
       "      <td>62.00</td>\n",
       "      <td>Others</td>\n",
       "      <td>88.00</td>\n",
       "      <td>Others</td>\n",
       "      <td>Commerce</td>\n",
       "      <td>52.00</td>\n",
       "      <td>Science</td>\n",
       "      <td>0</td>\n",
       "      <td>MAT</td>\n",
       "      <td>55.0</td>\n",
       "      <td>58.80</td>\n",
       "      <td>Marketing &amp; HR</td>\n",
       "      <td>50.0</td>\n",
       "      <td>65.0</td>\n",
       "      <td>Placed</td>\n",
       "      <td>270000</td>\n",
       "    </tr>\n",
       "    <tr>\n",
       "      <th>1</th>\n",
       "      <td>2</td>\n",
       "      <td>M</td>\n",
       "      <td>76.33</td>\n",
       "      <td>ICSE</td>\n",
       "      <td>75.33</td>\n",
       "      <td>Others</td>\n",
       "      <td>Science</td>\n",
       "      <td>75.48</td>\n",
       "      <td>Computer Applications</td>\n",
       "      <td>1</td>\n",
       "      <td>MAT</td>\n",
       "      <td>86.5</td>\n",
       "      <td>66.28</td>\n",
       "      <td>Marketing &amp; Finance</td>\n",
       "      <td>69.0</td>\n",
       "      <td>70.0</td>\n",
       "      <td>Placed</td>\n",
       "      <td>200000</td>\n",
       "    </tr>\n",
       "    <tr>\n",
       "      <th>2</th>\n",
       "      <td>3</td>\n",
       "      <td>M</td>\n",
       "      <td>72.00</td>\n",
       "      <td>Others</td>\n",
       "      <td>78.00</td>\n",
       "      <td>Others</td>\n",
       "      <td>Commerce</td>\n",
       "      <td>66.63</td>\n",
       "      <td>Engineering</td>\n",
       "      <td>0</td>\n",
       "      <td>NaN</td>\n",
       "      <td>0.0</td>\n",
       "      <td>52.91</td>\n",
       "      <td>Marketing &amp; Finance</td>\n",
       "      <td>50.0</td>\n",
       "      <td>61.0</td>\n",
       "      <td>Placed</td>\n",
       "      <td>240000</td>\n",
       "    </tr>\n",
       "    <tr>\n",
       "      <th>3</th>\n",
       "      <td>4</td>\n",
       "      <td>M</td>\n",
       "      <td>60.00</td>\n",
       "      <td>CBSE</td>\n",
       "      <td>63.00</td>\n",
       "      <td>CBSE</td>\n",
       "      <td>Arts</td>\n",
       "      <td>58.00</td>\n",
       "      <td>Management</td>\n",
       "      <td>0</td>\n",
       "      <td>MAT</td>\n",
       "      <td>75.0</td>\n",
       "      <td>57.80</td>\n",
       "      <td>Marketing &amp; Finance</td>\n",
       "      <td>54.0</td>\n",
       "      <td>66.0</td>\n",
       "      <td>Placed</td>\n",
       "      <td>250000</td>\n",
       "    </tr>\n",
       "    <tr>\n",
       "      <th>4</th>\n",
       "      <td>5</td>\n",
       "      <td>M</td>\n",
       "      <td>61.00</td>\n",
       "      <td>CBSE</td>\n",
       "      <td>55.00</td>\n",
       "      <td>ISC</td>\n",
       "      <td>Science</td>\n",
       "      <td>54.00</td>\n",
       "      <td>Engineering</td>\n",
       "      <td>1</td>\n",
       "      <td>MAT</td>\n",
       "      <td>66.0</td>\n",
       "      <td>59.43</td>\n",
       "      <td>Marketing &amp; HR</td>\n",
       "      <td>52.0</td>\n",
       "      <td>65.0</td>\n",
       "      <td>Placed</td>\n",
       "      <td>180000</td>\n",
       "    </tr>\n",
       "  </tbody>\n",
       "</table>\n",
       "</div>"
      ],
      "text/plain": [
       "   SlNo Gender  Percent_SSC Board_SSC  Percent_HSC Board_HSC Stream_HSC  \\\n",
       "0     1      M        62.00    Others        88.00    Others   Commerce   \n",
       "1     2      M        76.33      ICSE        75.33    Others    Science   \n",
       "2     3      M        72.00    Others        78.00    Others   Commerce   \n",
       "3     4      M        60.00      CBSE        63.00      CBSE       Arts   \n",
       "4     5      M        61.00      CBSE        55.00       ISC    Science   \n",
       "\n",
       "   Percent_Degree          Course_Degree  Experience_Yrs Entrance_Test  \\\n",
       "0           52.00                Science               0           MAT   \n",
       "1           75.48  Computer Applications               1           MAT   \n",
       "2           66.63            Engineering               0           NaN   \n",
       "3           58.00             Management               0           MAT   \n",
       "4           54.00            Engineering               1           MAT   \n",
       "\n",
       "   Percentile_ET  Percent_MBA   Specialization_MBA  Marks_Communication  \\\n",
       "0           55.0        58.80       Marketing & HR                 50.0   \n",
       "1           86.5        66.28  Marketing & Finance                 69.0   \n",
       "2            0.0        52.91  Marketing & Finance                 50.0   \n",
       "3           75.0        57.80  Marketing & Finance                 54.0   \n",
       "4           66.0        59.43       Marketing & HR                 52.0   \n",
       "\n",
       "   Marks_Projectwork Placement  Salary  \n",
       "0               65.0    Placed  270000  \n",
       "1               70.0    Placed  200000  \n",
       "2               61.0    Placed  240000  \n",
       "3               66.0    Placed  250000  \n",
       "4               65.0    Placed  180000  "
      ]
     },
     "execution_count": 81,
     "metadata": {},
     "output_type": "execute_result"
    }
   ],
   "source": [
    "df = pd.read_excel('admission.xlsx')\n",
    "# display first five observations using head()\n",
    "df.head()"
   ]
  },
  {
   "cell_type": "markdown",
   "id": "1f8f5bbb",
   "metadata": {},
   "source": [
    "###### 4a.i)Provide a summary statistics of all the variables and explain which variables has high variability (3 mark) <br> List out the numerical and categorical features in the dataset (2 marks) <br>  (Total- 5marks) \n",
    "\n"
   ]
  },
  {
   "cell_type": "code",
   "execution_count": null,
   "id": "4ddb1234",
   "metadata": {},
   "outputs": [],
   "source": []
  },
  {
   "cell_type": "markdown",
   "id": "37e91dba",
   "metadata": {},
   "source": [
    "### 4a.ii)Provide a histogram for the variable salary and Percentage of marks scored in MBA, based on histogram and cacluation of skewness and kurtosis what would you describe. (5 marks)\n",
    "\n"
   ]
  },
  {
   "cell_type": "code",
   "execution_count": null,
   "id": "61bc6dcf",
   "metadata": {},
   "outputs": [],
   "source": []
  },
  {
   "cell_type": "markdown",
   "id": "cc8b9727",
   "metadata": {},
   "source": [
    "### 4a.iii) Draw a boxplot for salary based on different MBA specialization, what do you observe in terms of outliers, and salary difference for specialization segments. (5 marks)\n",
    "\n"
   ]
  },
  {
   "cell_type": "code",
   "execution_count": null,
   "id": "2b8e0830",
   "metadata": {},
   "outputs": [],
   "source": []
  },
  {
   "cell_type": "markdown",
   "id": "a8ccd128",
   "metadata": {},
   "source": [
    "### 4a.iv) Draw a scatter plot for all of the variables, what is your observation and conclusion for the relationship between students salary and  the other numeric variables (5 marks)\n"
   ]
  },
  {
   "cell_type": "code",
   "execution_count": null,
   "id": "2e74b0ee",
   "metadata": {},
   "outputs": [],
   "source": []
  },
  {
   "cell_type": "markdown",
   "id": "51532c55",
   "metadata": {},
   "source": [
    "### 4b. Consider the admission.csv file and answer the following questions"
   ]
  },
  {
   "cell_type": "markdown",
   "id": "dad05228",
   "metadata": {},
   "source": [
    "### 4b.i)  Check whether the percentile in entrance test from the data follows normal distribution by using a proper plot and with suitable statistical test. (5 marks)"
   ]
  },
  {
   "cell_type": "code",
   "execution_count": null,
   "id": "14bcd271",
   "metadata": {},
   "outputs": [],
   "source": []
  },
  {
   "cell_type": "markdown",
   "id": "50479e72",
   "metadata": {},
   "source": [
    "### 4b.ii)Conduct a hypothesis to see whether there is a difference in terms of salary for students degree specialization of management and engineering. What do you conclude (consider level of significance 0.05) (5 marks)"
   ]
  },
  {
   "cell_type": "code",
   "execution_count": null,
   "id": "e0835a4c",
   "metadata": {},
   "outputs": [],
   "source": []
  },
  {
   "cell_type": "markdown",
   "id": "3cde64b4",
   "metadata": {},
   "source": [
    "### 4b.iii)Conduct an hypothesis to prove whether the salary of a student from commenrce stream is higher than Science stream, do you agree or not. (consider level of significance 0.05)  (5 marks)"
   ]
  },
  {
   "cell_type": "code",
   "execution_count": null,
   "id": "322f08dc",
   "metadata": {},
   "outputs": [],
   "source": []
  },
  {
   "cell_type": "markdown",
   "id": "c6275f13",
   "metadata": {},
   "source": [
    "\n",
    "\n",
    "### 4b.iv)Conduct an ANOVA to check whether there is salary difference for students with diffetent MBA_specialization of Marketing & Finance , Marketing & HR, Operations & Management, Marketing & IB. State your inferences. (consider level of significance 0.05)  (5 marks)\n",
    "\n",
    "\n",
    "\n",
    "\n"
   ]
  },
  {
   "cell_type": "code",
   "execution_count": null,
   "id": "e7c6083d",
   "metadata": {},
   "outputs": [],
   "source": []
  },
  {
   "cell_type": "code",
   "execution_count": null,
   "id": "e512acba",
   "metadata": {},
   "outputs": [],
   "source": []
  },
  {
   "cell_type": "code",
   "execution_count": null,
   "id": "27df2e0c",
   "metadata": {},
   "outputs": [],
   "source": []
  },
  {
   "cell_type": "code",
   "execution_count": null,
   "id": "338692d6",
   "metadata": {},
   "outputs": [],
   "source": []
  }
 ],
 "metadata": {
  "kernelspec": {
   "display_name": "Python 3 (ipykernel)",
   "language": "python",
   "name": "python3"
  },
  "language_info": {
   "codemirror_mode": {
    "name": "ipython",
    "version": 3
   },
   "file_extension": ".py",
   "mimetype": "text/x-python",
   "name": "python",
   "nbconvert_exporter": "python",
   "pygments_lexer": "ipython3",
   "version": "3.11.5"
  }
 },
 "nbformat": 4,
 "nbformat_minor": 5
}
