{
 "cells": [
  {
   "cell_type": "code",
   "execution_count": 29,
   "id": "bb46054f",
   "metadata": {},
   "outputs": [
    {
     "name": "stdout",
     "output_type": "stream",
     "text": [
      "mean is : 8.0\n",
      "standard dev 1.5\n"
     ]
    }
   ],
   "source": [
    "import math as mt\n",
    "x=[10,9,8,7,8,6,10,6]\n",
    "\n",
    "\n",
    "def myf(nums):\n",
    "    mean=sum(nums)/len(nums)\n",
    "    print('mean is :',mean)\n",
    "    squared_sum=[(i - mean) **2 for i in nums]\n",
    "    var=sum(squared_sum)/len(nums)\n",
    "    std_dev=mt.sqrt(var)\n",
    "    print('standard dev',std_dev)\n",
    "    \n",
    "myf(x)\n",
    "\n",
    "\n",
    "\n"
   ]
  },
  {
   "cell_type": "code",
   "execution_count": null,
   "id": "0e71fcb0",
   "metadata": {},
   "outputs": [],
   "source": []
  }
 ],
 "metadata": {
  "kernelspec": {
   "display_name": "Python 3 (ipykernel)",
   "language": "python",
   "name": "python3"
  },
  "language_info": {
   "codemirror_mode": {
    "name": "ipython",
    "version": 3
   },
   "file_extension": ".py",
   "mimetype": "text/x-python",
   "name": "python",
   "nbconvert_exporter": "python",
   "pygments_lexer": "ipython3",
   "version": "3.11.5"
  }
 },
 "nbformat": 4,
 "nbformat_minor": 5
}
