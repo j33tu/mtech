{
 "cells": [
  {
   "cell_type": "code",
   "execution_count": 25,
   "id": "8af37df8",
   "metadata": {},
   "outputs": [],
   "source": [
    "import pandas as pd\n",
    "import numpy as np\n",
    "import seaborn as sns\n",
    "import scipy.stats as st\n",
    "import matplotlib.pyplot as plt"
   ]
  },
  {
   "cell_type": "code",
   "execution_count": 7,
   "id": "51c34efa",
   "metadata": {},
   "outputs": [
    {
     "data": {
      "text/plain": [
       "0.3455999999999997"
      ]
     },
     "execution_count": 7,
     "metadata": {},
     "output_type": "execute_result"
    }
   ],
   "source": [
    "st.binom.pmf(3,5,0.6)"
   ]
  },
  {
   "cell_type": "code",
   "execution_count": 19,
   "id": "cbfa9100",
   "metadata": {},
   "outputs": [],
   "source": [
    "st.binom.ppf(x, 20, 0.5)\n",
    "\n",
    "df=sns.load_dataset('tips')"
   ]
  },
  {
   "cell_type": "code",
   "execution_count": 20,
   "id": "da5c1011",
   "metadata": {},
   "outputs": [
    {
     "data": {
      "text/plain": [
       "17.795"
      ]
     },
     "execution_count": 20,
     "metadata": {},
     "output_type": "execute_result"
    }
   ],
   "source": [
    "df.total_bill.quantile(.50)"
   ]
  },
  {
   "cell_type": "code",
   "execution_count": 22,
   "id": "ed6588f0",
   "metadata": {},
   "outputs": [
    {
     "data": {
      "text/plain": [
       "19.78594262295082"
      ]
     },
     "execution_count": 22,
     "metadata": {},
     "output_type": "execute_result"
    }
   ],
   "source": [
    "df.total_bill.mean()"
   ]
  },
  {
   "cell_type": "code",
   "execution_count": 24,
   "id": "384461c7",
   "metadata": {},
   "outputs": [
    {
     "data": {
      "text/plain": [
       "0    13.42\n",
       "Name: total_bill, dtype: float64"
      ]
     },
     "execution_count": 24,
     "metadata": {},
     "output_type": "execute_result"
    }
   ],
   "source": [
    "df.total_bill.mode()\n",
    "\n"
   ]
  },
  {
   "cell_type": "code",
   "execution_count": 27,
   "id": "af5d143c",
   "metadata": {},
   "outputs": [
    {
     "data": {
      "text/plain": [
       "{'whiskers': [<matplotlib.lines.Line2D at 0x175e7015150>,\n",
       "  <matplotlib.lines.Line2D at 0x175e7019a90>],\n",
       " 'caps': [<matplotlib.lines.Line2D at 0x175e7026210>,\n",
       "  <matplotlib.lines.Line2D at 0x175e7031f90>],\n",
       " 'boxes': [<matplotlib.lines.Line2D at 0x175e700d8d0>],\n",
       " 'medians': [<matplotlib.lines.Line2D at 0x175e7036710>],\n",
       " 'fliers': [<matplotlib.lines.Line2D at 0x175e7024e10>],\n",
       " 'means': []}"
      ]
     },
     "execution_count": 27,
     "metadata": {},
     "output_type": "execute_result"
    },
    {
     "data": {
      "image/png": "[encoded data removed]",
      "text/plain": [
       "<Figure size 640x480 with 1 Axes>"
      ]
     },
     "metadata": {},
     "output_type": "display_data"
    }
   ],
   "source": [
    "plt.boxplot(df.total_bill)"
   ]
  },
  {
   "cell_type": "code",
   "execution_count": 29,
   "id": "92df2c5a",
   "metadata": {},
   "outputs": [
    {
     "data": {
      "text/html": [
       "<div>\n",
       "<style scoped>\n",
       "    .dataframe tbody tr th:only-of-type {\n",
       "        vertical-align: middle;\n",
       "    }\n",
       "\n",
       "    .dataframe tbody tr th {\n",
       "        vertical-align: top;\n",
       "    }\n",
       "\n",
       "    .dataframe thead th {\n",
       "        text-align: right;\n",
       "    }\n",
       "</style>\n",
       "<table border=\"1\" class=\"dataframe\">\n",
       "  <thead>\n",
       "    <tr style=\"text-align: right;\">\n",
       "      <th></th>\n",
       "      <th>total_bill</th>\n",
       "      <th>tip</th>\n",
       "      <th>sex</th>\n",
       "      <th>smoker</th>\n",
       "      <th>day</th>\n",
       "      <th>time</th>\n",
       "      <th>size</th>\n",
       "    </tr>\n",
       "  </thead>\n",
       "  <tbody>\n",
       "    <tr>\n",
       "      <th>0</th>\n",
       "      <td>16.99</td>\n",
       "      <td>1.01</td>\n",
       "      <td>Female</td>\n",
       "      <td>No</td>\n",
       "      <td>Sun</td>\n",
       "      <td>Dinner</td>\n",
       "      <td>2</td>\n",
       "    </tr>\n",
       "    <tr>\n",
       "      <th>1</th>\n",
       "      <td>10.34</td>\n",
       "      <td>1.66</td>\n",
       "      <td>Male</td>\n",
       "      <td>No</td>\n",
       "      <td>Sun</td>\n",
       "      <td>Dinner</td>\n",
       "      <td>3</td>\n",
       "    </tr>\n",
       "    <tr>\n",
       "      <th>6</th>\n",
       "      <td>8.77</td>\n",
       "      <td>2.00</td>\n",
       "      <td>Male</td>\n",
       "      <td>No</td>\n",
       "      <td>Sun</td>\n",
       "      <td>Dinner</td>\n",
       "      <td>2</td>\n",
       "    </tr>\n",
       "    <tr>\n",
       "      <th>8</th>\n",
       "      <td>15.04</td>\n",
       "      <td>1.96</td>\n",
       "      <td>Male</td>\n",
       "      <td>No</td>\n",
       "      <td>Sun</td>\n",
       "      <td>Dinner</td>\n",
       "      <td>2</td>\n",
       "    </tr>\n",
       "    <tr>\n",
       "      <th>9</th>\n",
       "      <td>14.78</td>\n",
       "      <td>3.23</td>\n",
       "      <td>Male</td>\n",
       "      <td>No</td>\n",
       "      <td>Sun</td>\n",
       "      <td>Dinner</td>\n",
       "      <td>2</td>\n",
       "    </tr>\n",
       "    <tr>\n",
       "      <th>...</th>\n",
       "      <td>...</td>\n",
       "      <td>...</td>\n",
       "      <td>...</td>\n",
       "      <td>...</td>\n",
       "      <td>...</td>\n",
       "      <td>...</td>\n",
       "      <td>...</td>\n",
       "    </tr>\n",
       "    <tr>\n",
       "      <th>234</th>\n",
       "      <td>15.53</td>\n",
       "      <td>3.00</td>\n",
       "      <td>Male</td>\n",
       "      <td>Yes</td>\n",
       "      <td>Sat</td>\n",
       "      <td>Dinner</td>\n",
       "      <td>2</td>\n",
       "    </tr>\n",
       "    <tr>\n",
       "      <th>235</th>\n",
       "      <td>10.07</td>\n",
       "      <td>1.25</td>\n",
       "      <td>Male</td>\n",
       "      <td>No</td>\n",
       "      <td>Sat</td>\n",
       "      <td>Dinner</td>\n",
       "      <td>2</td>\n",
       "    </tr>\n",
       "    <tr>\n",
       "      <th>236</th>\n",
       "      <td>12.60</td>\n",
       "      <td>1.00</td>\n",
       "      <td>Male</td>\n",
       "      <td>Yes</td>\n",
       "      <td>Sat</td>\n",
       "      <td>Dinner</td>\n",
       "      <td>2</td>\n",
       "    </tr>\n",
       "    <tr>\n",
       "      <th>242</th>\n",
       "      <td>17.82</td>\n",
       "      <td>1.75</td>\n",
       "      <td>Male</td>\n",
       "      <td>No</td>\n",
       "      <td>Sat</td>\n",
       "      <td>Dinner</td>\n",
       "      <td>2</td>\n",
       "    </tr>\n",
       "    <tr>\n",
       "      <th>243</th>\n",
       "      <td>18.78</td>\n",
       "      <td>3.00</td>\n",
       "      <td>Female</td>\n",
       "      <td>No</td>\n",
       "      <td>Thur</td>\n",
       "      <td>Dinner</td>\n",
       "      <td>2</td>\n",
       "    </tr>\n",
       "  </tbody>\n",
       "</table>\n",
       "<p>147 rows × 7 columns</p>\n",
       "</div>"
      ],
      "text/plain": [
       "     total_bill   tip     sex smoker   day    time  size\n",
       "0         16.99  1.01  Female     No   Sun  Dinner     2\n",
       "1         10.34  1.66    Male     No   Sun  Dinner     3\n",
       "6          8.77  2.00    Male     No   Sun  Dinner     2\n",
       "8         15.04  1.96    Male     No   Sun  Dinner     2\n",
       "9         14.78  3.23    Male     No   Sun  Dinner     2\n",
       "..          ...   ...     ...    ...   ...     ...   ...\n",
       "234       15.53  3.00    Male    Yes   Sat  Dinner     2\n",
       "235       10.07  1.25    Male     No   Sat  Dinner     2\n",
       "236       12.60  1.00    Male    Yes   Sat  Dinner     2\n",
       "242       17.82  1.75    Male     No   Sat  Dinner     2\n",
       "243       18.78  3.00  Female     No  Thur  Dinner     2\n",
       "\n",
       "[147 rows x 7 columns]"
      ]
     },
     "execution_count": 29,
     "metadata": {},
     "output_type": "execute_result"
    }
   ],
   "source": [
    "df[df['total_bill']<20]"
   ]
  },
  {
   "cell_type": "code",
   "execution_count": 32,
   "id": "ec4c6dd0",
   "metadata": {},
   "outputs": [
    {
     "name": "stderr",
     "output_type": "stream",
     "text": [
      "C:\\Program Files\\conda\\Lib\\site-packages\\seaborn\\axisgrid.py:118: UserWarning: The figure layout has changed to tight\n",
      "  self._figure.tight_layout(*args, **kwargs)\n"
     ]
    },
    {
     "data": {
      "text/plain": [
       "<seaborn.axisgrid.FacetGrid at 0x175e74e0790>"
      ]
     },
     "execution_count": 32,
     "metadata": {},
     "output_type": "execute_result"
    },
    {
     "data": {
      "image/png": "[encoded data removed]",
      "text/plain": [
       "<Figure size 500x500 with 1 Axes>"
      ]
     },
     "metadata": {},
     "output_type": "display_data"
    }
   ],
   "source": [
    "sns.displot(df.total_bill)"
   ]
  },
  {
   "cell_type": "code",
   "execution_count": 34,
   "id": "95e93545",
   "metadata": {},
   "outputs": [
    {
     "name": "stdout",
     "output_type": "stream",
     "text": [
      "8.902411954856856\n"
     ]
    }
   ],
   "source": [
    "print(df.total_bill.std())"
   ]
  },
  {
   "cell_type": "code",
   "execution_count": 36,
   "id": "ac9c2945",
   "metadata": {},
   "outputs": [
    {
     "data": {
      "text/plain": [
       "array([[79.25293861,  8.32350163],\n",
       "       [ 8.32350163,  1.91445464]])"
      ]
     },
     "execution_count": 36,
     "metadata": {},
     "output_type": "execute_result"
    }
   ],
   "source": [
    "np.cov(df.total_bill,df.tip)"
   ]
  },
  {
   "cell_type": "code",
   "execution_count": 38,
   "id": "290956af",
   "metadata": {},
   "outputs": [
    {
     "data": {
      "text/plain": [
       "0.3455999999999997"
      ]
     },
     "execution_count": 38,
     "metadata": {},
     "output_type": "execute_result"
    }
   ],
   "source": [
    "st.binom.pmf(3,5,0.6)"
   ]
  },
  {
   "cell_type": "code",
   "execution_count": 43,
   "id": "c7a9ae40",
   "metadata": {},
   "outputs": [
    {
     "data": {
      "text/plain": [
       "0.9772498680518208"
      ]
     },
     "execution_count": 43,
     "metadata": {},
     "output_type": "execute_result"
    }
   ],
   "source": [
    "mu=5.5\n",
    "std=0.25\n",
    "x=5\n",
    "st.norm.sf(5,5.5,0.25)"
   ]
  },
  {
   "cell_type": "code",
   "execution_count": 48,
   "id": "323aa0e1",
   "metadata": {},
   "outputs": [
    {
     "data": {
      "text/plain": [
       "0.8185946141203637"
      ]
     },
     "execution_count": 48,
     "metadata": {},
     "output_type": "execute_result"
    }
   ],
   "source": [
    "mu=5.5\n",
    "sigma=.25\n",
    "st.norm.cdf(5.75,mu,sigma)-st.norm.cdf(5,mu,sigma)"
   ]
  },
  {
   "cell_type": "code",
   "execution_count": 50,
   "id": "592d77f3",
   "metadata": {},
   "outputs": [
    {
     "data": {
      "text/plain": [
       "5.727505564408184"
      ]
     },
     "execution_count": 50,
     "metadata": {},
     "output_type": "execute_result"
    }
   ],
   "source": [
    "st.norm.ppf(.8185946141203637,mu,sigma)"
   ]
  },
  {
   "cell_type": "code",
   "execution_count": 54,
   "id": "521ab282",
   "metadata": {},
   "outputs": [
    {
     "data": {
      "text/plain": [
       "5.0"
      ]
     },
     "execution_count": 54,
     "metadata": {},
     "output_type": "execute_result"
    }
   ],
   "source": [
    "st.norm.isf(.9772498680518208,mu,sigma)"
   ]
  },
  {
   "cell_type": "code",
   "execution_count": 59,
   "id": "c048ad52",
   "metadata": {},
   "outputs": [
    {
     "data": {
      "text/plain": [
       "[<matplotlib.lines.Line2D at 0x175e7c081d0>]"
      ]
     },
     "execution_count": 59,
     "metadata": {},
     "output_type": "execute_result"
    },
    {
     "data": {
      "image/png": "[encoded data removed]",
      "text/plain": [
       "<Figure size 640x480 with 1 Axes>"
      ]
     },
     "metadata": {},
     "output_type": "display_data"
    }
   ],
   "source": [
    "mu=0\n",
    "sigma=1\n",
    "xval=np.linspace(-4,4,100)\n",
    "xval\n",
    "pdf_values=st.norm.pdf(xval,mu,sigma)\n",
    "plt.plot(xval,pdf_values)"
   ]
  },
  {
   "cell_type": "code",
   "execution_count": 67,
   "id": "b94a5ee1",
   "metadata": {},
   "outputs": [
    {
     "data": {
      "text/plain": [
       "[<matplotlib.lines.Line2D at 0x175e9beda50>]"
      ]
     },
     "execution_count": 67,
     "metadata": {},
     "output_type": "execute_result"
    },
    {
     "data": {
      "image/png": "[encoded data removed]",
      "text/plain": [
       "<Figure size 640x480 with 1 Axes>"
      ]
     },
     "metadata": {},
     "output_type": "display_data"
    }
   ],
   "source": [
    "data=[10,15,20,25,30]\n",
    "mu=np.mean(data)\n",
    "signa=np.std(data)\n",
    "centred_data=np.array(data)-mu\n",
    "std_data=centred_data/sigma\n",
    "pvalue=st.norm.pdf(std_data,0,1)\n",
    "plt.plot(std_data,pvalue)"
   ]
  },
  {
   "cell_type": "code",
   "execution_count": 73,
   "id": "996b0f37",
   "metadata": {},
   "outputs": [
    {
     "name": "stdout",
     "output_type": "stream",
     "text": [
      "51.09106931838592\n",
      "50.90893068161408\n",
      "2.575829303548901\n"
     ]
    }
   ],
   "source": [
    "n=200\n",
    "xbar=51\n",
    "sigma=.5\n",
    "alpha=.01\n",
    "zalphaby2=st.norm.isf(alpha/2)\n",
    "std_error=sigma/np.sqrt(n)\n",
    "me=std_error*zalphaby2\n",
    "upci=xbar+me\n",
    "print(upci)\n",
    "lpci=xbar-me\n",
    "print(lpci)\n",
    "print(zalphaby2)"
   ]
  },
  {
   "cell_type": "code",
   "execution_count": 74,
   "id": "4734b6df",
   "metadata": {},
   "outputs": [
    {
     "data": {
      "text/plain": [
       "(50.90893068161408, 51.09106931838592)"
      ]
     },
     "execution_count": 74,
     "metadata": {},
     "output_type": "execute_result"
    }
   ],
   "source": [
    "st.norm.interval(1-alpha,xbar,std_error)"
   ]
  },
  {
   "cell_type": "code",
   "execution_count": 77,
   "id": "12321b53",
   "metadata": {},
   "outputs": [
    {
     "data": {
      "text/plain": [
       "smoker\n",
       "No     0.618852\n",
       "Yes    0.381148\n",
       "Name: proportion, dtype: float64"
      ]
     },
     "execution_count": 77,
     "metadata": {},
     "output_type": "execute_result"
    }
   ],
   "source": [
    "df.smoker.value_counts(normalize=True)"
   ]
  },
  {
   "cell_type": "code",
   "execution_count": 80,
   "id": "bea74b6b",
   "metadata": {},
   "outputs": [],
   "source": [
    "n=244\n",
    "alpha=0.01\n",
    "p=0.38\n",
    "q=1-p\n",
    "zalphaby2=st.norm.isf(alpha/2)\n",
    "std_erro=np.sqrt((p*q)/n)\n",
    "em=zalphaby2*std_erro"
   ]
  },
  {
   "cell_type": "code",
   "execution_count": 82,
   "id": "8857101b",
   "metadata": {},
   "outputs": [
    {
     "data": {
      "text/plain": [
       "(0.299959496953909, 0.460040503046091)"
      ]
     },
     "execution_count": 82,
     "metadata": {},
     "output_type": "execute_result"
    }
   ],
   "source": [
    "st.norm.interval(1-alpha,p,std_erro)"
   ]
  },
  {
   "cell_type": "code",
   "execution_count": 93,
   "id": "389ff9bc",
   "metadata": {},
   "outputs": [
    {
     "name": "stdout",
     "output_type": "stream",
     "text": [
      "-0.37559294451919506\n",
      "1.9697743954258797\n"
     ]
    }
   ],
   "source": [
    "alpha=0.05\n",
    "n=len(df.total_bill)\n",
    "xbar=df.total_bill.mean()\n",
    "sigma=df.total_bill.std()\n",
    "std_erro=sigma/np.sqrt(n)\n",
    "st.norm.interval(1-alpha,xbar,std_erro)\n",
    "t_stat=(xbar-20)/std_erro\n",
    "print(t_stat)\n",
    "talphaby2=st.t.isf(alpha/2,n-1)\n",
    "print(talphaby2)"
   ]
  },
  {
   "cell_type": "code",
   "execution_count": 99,
   "id": "2c2e7855",
   "metadata": {},
   "outputs": [
    {
     "name": "stdout",
     "output_type": "stream",
     "text": [
      "-0.37559294451919506\n",
      "1.6448536269514729\n"
     ]
    }
   ],
   "source": [
    "#h0 mu_tb=20\n",
    "#h1 mu_tb!=20\n",
    "n=len(df.total_bill)\n",
    "xbar=df.total_bill.mean()\n",
    "std_dev=df.total_bill.std()\n",
    "mu_tb=20\n",
    "se=std_dev/np.sqrt(n)\n",
    "alpha=0.05\n",
    "t_stat=(xbar-mu_tb)/std_erro\n",
    "print(t_stat)\n",
    "\n",
    "t_score=st.norm.isf(0.05)\n",
    "print(t_score)"
   ]
  },
  {
   "cell_type": "code",
   "execution_count": 109,
   "id": "d6f740b5",
   "metadata": {},
   "outputs": [
    {
     "name": "stdout",
     "output_type": "stream",
     "text": [
      "4.542228269825232\n",
      "0.1031971404730939\n",
      "2\n",
      "[[223.87343533 266.00834492 240.11821975]\n",
      " [217.12656467 257.99165508 232.88178025]]\n"
     ]
    }
   ],
   "source": [
    "from scipy.stats import chi2_contingency\n",
    " \n",
    "# defining the table\n",
    "data = [[207, 282, 241], [234, 242, 232]]\n",
    "stat, p, dof, expected = chi2_contingency(data)\n",
    "print(stat)\n",
    "print(p)\n",
    "print(dof)\n",
    "print(expected)"
   ]
  },
  {
   "cell_type": "code",
   "execution_count": 112,
   "id": "86c03692",
   "metadata": {},
   "outputs": [
    {
     "data": {
      "text/plain": [
       "8.0"
      ]
     },
     "execution_count": 112,
     "metadata": {},
     "output_type": "execute_result"
    }
   ],
   "source": [
    "x=[10, 9, 8, 7, 8, 6, 10, 6]\n",
    "np.std(x)\n",
    "np.mean(x)"
   ]
  },
  {
   "cell_type": "code",
   "execution_count": 113,
   "id": "4d178b26",
   "metadata": {},
   "outputs": [
    {
     "ename": "SyntaxError",
     "evalue": "invalid syntax (753082725.py, line 1)",
     "output_type": "error",
     "traceback": [
      "\u001b[1;36m  Cell \u001b[1;32mIn[113], line 1\u001b[1;36m\u001b[0m\n\u001b[1;33m    Based on the given use case of Jim is a real estate agent, (details are given in notebook), predict what\u001b[0m\n\u001b[1;37m          ^\u001b[0m\n\u001b[1;31mSyntaxError\u001b[0m\u001b[1;31m:\u001b[0m invalid syntax\n"
     ]
    }
   ],
   "source": [
    "Based on the given use case of Jim is a real estate agent, (details are given in notebook), predict what\n",
    "is the probability that Jim will make, no sales? One sale? two or more sales? In a 90-day period, what\n",
    "is the probability that Jim will make no sales?"
   ]
  }
 ],
 "metadata": {
  "kernelspec": {
   "display_name": "Python 3 (ipykernel)",
   "language": "python",
   "name": "python3"
  },
  "language_info": {
   "codemirror_mode": {
    "name": "ipython",
    "version": 3
   },
   "file_extension": ".py",
   "mimetype": "text/x-python",
   "name": "python",
   "nbconvert_exporter": "python",
   "pygments_lexer": "ipython3",
   "version": "3.11.5"
  }
 },
 "nbformat": 4,
 "nbformat_minor": 5
}
