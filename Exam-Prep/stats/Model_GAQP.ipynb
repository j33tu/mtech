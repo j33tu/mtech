{
 "cells": [
  {
   "cell_type": "code",
   "execution_count": 1,
   "id": "6d71bf5e",
   "metadata": {},
   "outputs": [],
   "source": [
    "import pandas as pd\n",
    "import numpy as np\n",
    "import scipy.stats as stats\n",
    "import statsmodels.api as sm\n",
    "import seaborn as sns\n",
    "import matplotlib.pyplot as plt\n",
    "from scipy.stats import f_oneway\n",
    "from statsmodels.stats.weightstats import ztest as ztest\n",
    "from statsmodels.stats.weightstats import ttest_ind as ttest_ind"
   ]
  },
  {
   "cell_type": "markdown",
   "id": "e6ca54ed",
   "metadata": {},
   "source": [
    "The Edison Electric Institute has published figures on the number of kilowatt hoursused annually by various home appliances. It is claimed that a vacuum cleaner uses\n",
    "an average of 46 kilowatt hours per year. If a random sample of 12 homes included in a planned study indicates that vacuum cleaners use an average of 42 kilowatt\n",
    "hours per year with a standard deviation of 11.9 kilowatt hours, \n",
    "does this suggest at the 0.05 level of significance that vacuum cleaners use, on average, less than 46\n",
    "kilowatt hours annually? Assume the population of kilowatt hours to be normal.\n",
    "Marks (5)"
   ]
  },
  {
   "cell_type": "markdown",
   "id": "86a51576",
   "metadata": {},
   "source": [
    "## The grades in a statistics course for a particular semester were as follows \n",
    "\n",
    "##                        A   B  C  D  F\n",
    "\n",
    "##                       14 18 32 20 16\n",
    "       \n",
    "#Test the hypothesis, at the 0.05 level of significance, that the distribution of grades is uniform(equal probability)\n",
    "\n",
    "MArks 5 marks "
   ]
  },
  {
   "cell_type": "markdown",
   "id": "703912a8",
   "metadata": {},
   "source": [
    "## Section B"
   ]
  },
  {
   "cell_type": "markdown",
   "id": "7776d793",
   "metadata": {},
   "source": [
    "The solar energy consumed (in trillion BTU) in the U.S. by year from 1989 to 2004 (source: U.S. Department of\n",
    "Energy Web site, http://www.eia.doe.gov/emeu) is shown in the  below. \n",
    "Check the assumption of normality in the population.(4 marks)\n",
    "Construct a 95% confidence interval for the mean solar energy consumed (6 marks)\n",
    "Suppose \n",
    "\n",
    "Solar energy =[55.291,59.718,62.688,63.886,66.458,68.548,69.857,70.833,70.237,69.787,68.793,66.388]\n",
    "\n",
    "MArks (4+6 = 10)"
   ]
  },
  {
   "cell_type": "markdown",
   "id": "919c4807",
   "metadata": {},
   "source": [
    "## Section c"
   ]
  },
  {
   "cell_type": "markdown",
   "id": "7158fbeb",
   "metadata": {},
   "source": [
    "Frame the hypothesis ,calculate the test statistic and p_value , interpret the results for the following tasks with 95% Confidence level :¶\n",
    "i. The shop keeper claims that the average of the item outlet sales is not less than $2280.Validate if his claim is true.(4 marks)\n",
    "\n",
    "ii. IS the mean for sales from regular and low fat the same? (4 marks)\n",
    "\n",
    "iii.Is there any relation between Outlet_Location_Type and Outlet_Type? (4 marks)\n",
    "\n",
    "iv.Is there any relation between Item_Weight and Item_Outlet_Sales? (4 marks)\n",
    "\n",
    "v. Is there any relation between Outlet_Size and Item_Outlet_Sales? (4 marks)\n",
    "\n",
    "Note: Assume all continuous columns are normally distributed and have equal variance."
   ]
  }
 ],
 "metadata": {
  "kernelspec": {
   "display_name": "Python 3",
   "language": "python",
   "name": "python3"
  },
  "language_info": {
   "codemirror_mode": {
    "name": "ipython",
    "version": 3
   },
   "file_extension": ".py",
   "mimetype": "text/x-python",
   "name": "python",
   "nbconvert_exporter": "python",
   "pygments_lexer": "ipython3",
   "version": "3.8.8"
  }
 },
 "nbformat": 4,
 "nbformat_minor": 5
}
