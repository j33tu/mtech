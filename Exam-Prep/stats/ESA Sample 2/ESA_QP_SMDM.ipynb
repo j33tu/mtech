{
 "cells": [
  {
   "cell_type": "markdown",
   "id": "14e03259",
   "metadata": {},
   "source": [
    "### April 2022: END SEMESTER ASSESSMENT (ESA)\n",
    "## M TECH DATA SCIENCE AND MACHINE LEARNING_ SEMESTER I\n",
    "### UE20CS902 – Statistical Methods for Decision Making"
   ]
  },
  {
   "cell_type": "code",
   "execution_count": 2,
   "id": "4594b72e",
   "metadata": {},
   "outputs": [],
   "source": [
    "import numpy as np\n",
    "import pandas as pd\n",
    "import seaborn as sns\n",
    "import scipy \n",
    "import scipy.stats as stats\n",
    "import matplotlib.pyplot as plt\n",
    "import matplotlib as pl\n",
    "import statsmodels as sm"
   ]
  },
  {
   "cell_type": "markdown",
   "id": "3b3e6b68",
   "metadata": {},
   "source": [
    "### Q3a) Two catalysts are being analyzed to determine how they affect the mean yield of a chemical process. Specifically, catalysts 1 is currently in use, but catalyst 2 is acceptable. Since catalyst is cheaper, it should be adopted, providing it does not change the process yield. A test is run in the pilot plant and results in the data shown table. Is there any difference in mean yields for an α =.05 and assume equal variances\n",
    "\n",
    "Catlayst1 91.50 94.18 92.18 95.39 91.79 89.07 94.72 89.21\n",
    "\n",
    "Catalyst2 89.19 90.95 90.46 93.21 97.19 97.04 91.07 92.75\n",
    "\n",
    "- State the hypothesis and type of test to be used (2 marks)\n",
    "\n",
    "- Test the hypothesis and conclude (4 marks)"
   ]
  },
  {
   "cell_type": "code",
   "execution_count": null,
   "id": "4a27ffdd",
   "metadata": {},
   "outputs": [],
   "source": []
  },
  {
   "cell_type": "code",
   "execution_count": null,
   "id": "0f7375ea",
   "metadata": {},
   "outputs": [],
   "source": []
  },
  {
   "cell_type": "markdown",
   "id": "aff0decf",
   "metadata": {},
   "source": [
    "### 3b) Until a certain period of time 1975-1980 the mean price / earnings (P/E) ratio of approximately 1800 stocks was 14.35 and the standard deviation was 9.73. In a sample of 30 randomly chosen NYSE stocks, the mean (P/E) ratio for the year 1981 was 11.77. Using this estimate can we conclude for a significance level of .05 that there is a change in NYSE value  from its previous value? Please provide steps in concluding\n",
    "\n",
    "- State the hypothesis and type of test to be used                          (2 marks)\n",
    "\n",
    "- Test the hypothesis and conclude                                          (4 marks)\n"
   ]
  },
  {
   "cell_type": "code",
   "execution_count": null,
   "id": "08898b15",
   "metadata": {},
   "outputs": [],
   "source": []
  },
  {
   "cell_type": "markdown",
   "id": "127ae40a",
   "metadata": {},
   "source": []
  },
  {
   "cell_type": "markdown",
   "id": "faa8914e",
   "metadata": {},
   "source": [
    "### 3c) The demand for a particular spare part was found to vary from day to day. In a sample study the following information was obtained.\n",
    "\n",
    "Days\t   Mon\t   Tue\t    Wed\t   Thur\t  Friday\tSaturday\n",
    "Quantity \n",
    "demanded\t1124\t1125\t1110\t1120\t1126\t1115\n",
    "\n",
    "- i. Write the hypothesis.(2 marks)\n",
    "\n",
    "- ii. Test the hypothesis at 1% level of significance that the number demanded depends upon the day (4 marks)"
   ]
  },
  {
   "cell_type": "code",
   "execution_count": null,
   "id": "9e31e595",
   "metadata": {},
   "outputs": [],
   "source": []
  },
  {
   "cell_type": "code",
   "execution_count": null,
   "id": "0180faea",
   "metadata": {},
   "outputs": [],
   "source": []
  },
  {
   "cell_type": "markdown",
   "id": "dddd7519",
   "metadata": {},
   "source": [
    "#### 3d) General hospitals patient account division has compiled data on the age of accounts receivable. The data collected indicate that the age of the accounts follows a normal distribution with μ = 28 days and σ = 8 days. \n",
    "\n",
    "- What portion of the accounts is between 20 and 40 days old. (4 mark)\n",
    "\n",
    "- The hospital administrator is interested in sending reminder letters to the oldest 15% of accounts. How many days old should an account be, before a reminder letter is sent. (2 mark)"
   ]
  },
  {
   "cell_type": "markdown",
   "id": "a5533022",
   "metadata": {},
   "source": [
    "\n"
   ]
  },
  {
   "cell_type": "markdown",
   "id": "0b149a9a",
   "metadata": {},
   "source": [
    "### 3e) A pharmaceutical company claims that its new tablet is effective in increasing the height of children. The data of heights (in cm) of 7 children is recorded before and after consuming the tablet.\n",
    "\n",
    "- Check for normality of the data and perform appropriate test.\n",
    "\n",
    "- Test the company's claim at a 5% level of significance using the p-value approach. \n",
    "\n",
    "\n",
    "    ht_before = [121, 125, 130, 120, 145, 126, 134]\n",
    "    \n",
    "    ht_after = [130, 129, 148, 122, 147, 130, 148]"
   ]
  },
  {
   "cell_type": "markdown",
   "id": "d6ec772e",
   "metadata": {},
   "source": []
  },
  {
   "cell_type": "markdown",
   "id": "2c909062",
   "metadata": {},
   "source": [
    "### 4a) Consider the insurance.csv file and answer the following questions\n",
    "\n",
    "- i)\tProvide a summary statisitcs of all the variables, based on the summary which variable do you think has more variability. (4) marks)\n",
    "\n",
    "- ii)\tProvide a histogram for the variable bmi, based on histogram and calculation of mean, median and mode what would be the closest distribution you would suggest (3 marks)\n",
    "\n",
    "- iii)Plot the histogram for the variable charges, also plot the histogram for variable charges based on smoker type, based on these three plots what do you observe, what do you conclude  (assume bins  = 15) (5 marks).\n",
    "\n",
    "- iv)\tDraw a scatter plot for all of the variables, what is your observation and conclusion for the relationship between age and charges, bmi and charges, would you prefer to further subclassify and develop a scatter plot, if yes or no why (3 marks)\n"
   ]
  },
  {
   "cell_type": "code",
   "execution_count": null,
   "id": "ec44fcc4",
   "metadata": {},
   "outputs": [],
   "source": []
  },
  {
   "cell_type": "code",
   "execution_count": null,
   "id": "8055db0c",
   "metadata": {},
   "outputs": [],
   "source": []
  },
  {
   "cell_type": "code",
   "execution_count": null,
   "id": "a798c5ba",
   "metadata": {},
   "outputs": [],
   "source": []
  },
  {
   "cell_type": "code",
   "execution_count": null,
   "id": "c2d0347a",
   "metadata": {},
   "outputs": [],
   "source": []
  },
  {
   "cell_type": "markdown",
   "id": "56c50d96",
   "metadata": {},
   "source": [
    "### 4b) Consider the insurance.csv file and answer the following questions\n",
    "\n",
    "- i)\tCheck whether the BMI data follows normal distribution by using a qq plot and shaipro test ( 3marks)\n",
    "\n",
    "- ii)\tConstruct a hypothesis to prove that smoker have higher charges than non smoker and conclude accordingly ( 4 marks)\n",
    "\n",
    "- iii)\tIs there a statisitical difference between insurance charges for male and female and conclude accordingly ( 4 marks)\n",
    "\n",
    "- iv)\tIs the proportion of smokers significantly different in different genders? (4 Marks)\n"
   ]
  },
  {
   "cell_type": "code",
   "execution_count": null,
   "id": "5cd8082f",
   "metadata": {},
   "outputs": [],
   "source": []
  },
  {
   "cell_type": "code",
   "execution_count": null,
   "id": "59bb64f4",
   "metadata": {},
   "outputs": [],
   "source": []
  },
  {
   "cell_type": "code",
   "execution_count": null,
   "id": "fc0d606e",
   "metadata": {},
   "outputs": [],
   "source": []
  },
  {
   "cell_type": "code",
   "execution_count": null,
   "id": "167f7993",
   "metadata": {},
   "outputs": [],
   "source": []
  }
 ],
 "metadata": {
  "kernelspec": {
   "display_name": "Python 3",
   "language": "python",
   "name": "python3"
  },
  "language_info": {
   "codemirror_mode": {
    "name": "ipython",
    "version": 3
   },
   "file_extension": ".py",
   "mimetype": "text/x-python",
   "name": "python",
   "nbconvert_exporter": "python",
   "pygments_lexer": "ipython3",
   "version": "3.7.8"
  }
 },
 "nbformat": 4,
 "nbformat_minor": 5
}
