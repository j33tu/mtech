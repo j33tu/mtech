{
 "cells": [
  {
   "cell_type": "code",
   "execution_count": null,
   "id": "46a43aa6",
   "metadata": {},
   "outputs": [],
   "source": [
    "print(\"national stock \\nexchange\",\"  \",\"abc\")"
   ]
  },
  {
   "cell_type": "code",
   "execution_count": null,
   "id": "e0546840",
   "metadata": {},
   "outputs": [],
   "source": [
    "print('Hello\\nWorld')"
   ]
  },
  {
   "cell_type": "code",
   "execution_count": null,
   "id": "6a495e4c",
   "metadata": {},
   "outputs": [],
   "source": [
    "print(\"national stock exchange\",\"  \",\"abc\")"
   ]
  },
  {
   "cell_type": "code",
   "execution_count": null,
   "id": "35f76668",
   "metadata": {},
   "outputs": [],
   "source": [
    "exchange='abc';print('exchange')"
   ]
  },
  {
   "cell_type": "code",
   "execution_count": null,
   "id": "bc2e533b",
   "metadata": {},
   "outputs": [],
   "source": [
    "ms1='line 1 of string'\n",
    "ms1"
   ]
  },
  {
   "cell_type": "code",
   "execution_count": null,
   "id": "a83fd487",
   "metadata": {},
   "outputs": [],
   "source": [
    "## pragraph strings\n",
    "\n",
    "pragraph='''cow is animal'''\n",
    "print(pragraph)"
   ]
  },
  {
   "cell_type": "code",
   "execution_count": null,
   "id": "59b91f5c",
   "metadata": {},
   "outputs": [],
   "source": [
    "a =10\n",
    "b = 'abc'\n",
    "\n",
    "print(a)\n",
    "print(b)\n",
    "\n",
    "print(type(a))\n",
    "print(type(b))\n"
   ]
  },
  {
   "cell_type": "code",
   "execution_count": null,
   "id": "fe60b3ea",
   "metadata": {},
   "outputs": [],
   "source": [
    "import keyword\n",
    "print(keyword.kwlist)"
   ]
  },
  {
   "cell_type": "code",
   "execution_count": null,
   "id": "4c0ea870",
   "metadata": {},
   "outputs": [],
   "source": [
    "print(type(keyword))"
   ]
  },
  {
   "cell_type": "code",
   "execution_count": null,
   "id": "602b3874",
   "metadata": {},
   "outputs": [],
   "source": [
    "\n",
    "\n",
    "sensor=input('give value')\n",
    "if sensor ==0:\n",
    "    print('level is low')\n",
    "    print('switch motor one')\n",
    "else:\n",
    "    print('level is high')\n",
    "    print('swithc off motor')"
   ]
  },
  {
   "cell_type": "code",
   "execution_count": null,
   "id": "331fa23f",
   "metadata": {},
   "outputs": [],
   "source": [
    "a=10\n",
    "while a > 1:\n",
    "    for a in range(5):\n",
    "        print('a')\n",
    "    a = a-1"
   ]
  },
  {
   "cell_type": "code",
   "execution_count": 8,
   "id": "37ff111d",
   "metadata": {},
   "outputs": [
    {
     "ename": "SyntaxError",
     "evalue": "invalid syntax (3450015014.py, line 3)",
     "output_type": "error",
     "traceback": [
      "\u001b[1;36m  Cell \u001b[1;32mIn[8], line 3\u001b[1;36m\u001b[0m\n\u001b[1;33m    myint1=\u001b[0m\n\u001b[1;37m           ^\u001b[0m\n\u001b[1;31mSyntaxError\u001b[0m\u001b[1;31m:\u001b[0m invalid syntax\n"
     ]
    }
   ],
   "source": [
    "## assignments\n",
    "\n",
    "myint1=\n",
    "\n",
    "\n",
    "myint2=int(20)\n",
    "print(myint1)\n",
    "print(id(myint1))\n",
    "print(id(myint2))\n",
    "print(type(myint1))\n",
    "print(type(myint2))"
   ]
  },
  {
   "cell_type": "code",
   "execution_count": 11,
   "id": "9a4207a6",
   "metadata": {},
   "outputs": [
    {
     "name": "stdout",
     "output_type": "stream",
     "text": [
      "(20, 30, 'python')\n",
      "<class 'tuple'>\n"
     ]
    }
   ],
   "source": [
    "var1=(20,30,'python')\n",
    "\n",
    "print(var1)\n",
    "print(type(var1))"
   ]
  },
  {
   "cell_type": "code",
   "execution_count": 14,
   "id": "f70b17a1",
   "metadata": {},
   "outputs": [
    {
     "ename": "TypeError",
     "evalue": "'tuple' object does not support item assignment",
     "output_type": "error",
     "traceback": [
      "\u001b[1;31m---------------------------------------------------------------------------\u001b[0m",
      "\u001b[1;31mTypeError\u001b[0m                                 Traceback (most recent call last)",
      "Cell \u001b[1;32mIn[14], line 2\u001b[0m\n\u001b[0;32m      1\u001b[0m myint\u001b[38;5;241m=\u001b[39m(\u001b[38;5;241m10\u001b[39m,\u001b[38;5;241m20\u001b[39m,\u001b[38;5;241m30\u001b[39m)\n\u001b[1;32m----> 2\u001b[0m myint[\u001b[38;5;241m0\u001b[39m]\u001b[38;5;241m=\u001b[39m\u001b[38;5;241m33\u001b[39m\n\u001b[0;32m      3\u001b[0m \u001b[38;5;28mprint\u001b[39m(\u001b[38;5;28mtype\u001b[39m(myint))\n",
      "\u001b[1;31mTypeError\u001b[0m: 'tuple' object does not support item assignment"
     ]
    }
   ],
   "source": [
    "myint=(10,20,30)\n",
    "myint[0]=33\n",
    "print(type(myint))"
   ]
  },
  {
   "cell_type": "code",
   "execution_count": 17,
   "id": "673e07ee",
   "metadata": {},
   "outputs": [
    {
     "name": "stdout",
     "output_type": "stream",
     "text": [
      "2697798517808\n",
      "2697798517808\n",
      "2697798517808\n"
     ]
    }
   ],
   "source": [
    "a =b=c=2345\n",
    "print(id(a))\n",
    "print(id(b))\n",
    "print(id(c))\n"
   ]
  },
  {
   "cell_type": "code",
   "execution_count": 19,
   "id": "f46af222",
   "metadata": {},
   "outputs": [
    {
     "name": "stdout",
     "output_type": "stream",
     "text": [
      "2697798517680\n",
      "2697798517040\n",
      "2697798516880\n"
     ]
    }
   ],
   "source": [
    "a =2345\n",
    "b=2345\n",
    "c=2345\n",
    "print(id(a))\n",
    "print(id(b))\n",
    "print(id(c))"
   ]
  },
  {
   "cell_type": "code",
   "execution_count": 1,
   "id": "6c078e3a",
   "metadata": {},
   "outputs": [
    {
     "name": "stdout",
     "output_type": "stream",
     "text": [
      "what is your namejitendra singh\n",
      "may name is :   jitendra singh\n"
     ]
    }
   ],
   "source": [
    "name = input(\"what is your name\")\n",
    "print('may name is :' ,' ',name)"
   ]
  },
  {
   "cell_type": "code",
   "execution_count": 4,
   "id": "426567bb",
   "metadata": {},
   "outputs": [
    {
     "name": "stdout",
     "output_type": "stream",
     "text": [
      "provide your marks55\n",
      "40\n"
     ]
    }
   ],
   "source": [
    "marks =int(input('provide your marks'))\n",
    "marks1 = marks + (40-marks)\n",
    "print(marks1)"
   ]
  },
  {
   "cell_type": "code",
   "execution_count": 5,
   "id": "d4a5e671",
   "metadata": {},
   "outputs": [],
   "source": [
    "## operators\n"
   ]
  },
  {
   "cell_type": "code",
   "execution_count": 10,
   "id": "b56c3395",
   "metadata": {},
   "outputs": [
    {
     "name": "stdout",
     "output_type": "stream",
     "text": [
      "9765625\n",
      "<class 'int'>\n"
     ]
    }
   ],
   "source": [
    "x = 25 \n",
    "y = 5 \n",
    "z = x**5\n",
    "print(str(z))\n",
    "print(type(z))"
   ]
  },
  {
   "cell_type": "code",
   "execution_count": 11,
   "id": "8b2ac063",
   "metadata": {},
   "outputs": [],
   "source": [
    "## functions in python\n"
   ]
  },
  {
   "cell_type": "code",
   "execution_count": 31,
   "id": "b838fa32",
   "metadata": {},
   "outputs": [
    {
     "name": "stdout",
     "output_type": "stream",
     "text": [
      "provide your marks33\n",
      "\u001b[31msorry you failed the exam\n",
      "\u001b[31mThis is red\n",
      "\u001b[42mThis has a green background\n",
      "\u001b[33m\u001b[44mThis has yellow foreground and blue background\n"
     ]
    }
   ],
   "source": [
    "from colorama import Fore, Back, Style\n",
    "def examResult():\n",
    "    marks =int(input('provide your marks'))\n",
    "    if marks > 40:\n",
    "        print(f'{Fore.GREEN}you passed the exam')\n",
    "    else:\n",
    "        print(f\"{Fore.RED}sorry you failed the exam\")\n",
    "        print(f\"{Fore.RED}This is red\")\n",
    "        print(f\"{Back.GREEN}This has a green background\")\n",
    "        print(f\"{Fore.YELLOW}{Back.BLUE}This has yellow foreground and blue background\")\n",
    "        \n",
    "examResult()        \n",
    "        "
   ]
  },
  {
   "cell_type": "code",
   "execution_count": 38,
   "id": "21be6e30",
   "metadata": {},
   "outputs": [
    {
     "name": "stdout",
     "output_type": "stream",
     "text": [
      "please provide temprator feels like25\n",
      "\u001b[32m its pleasant\n"
     ]
    }
   ],
   "source": [
    "def tempcheck():\n",
    "    temp = int(input('please provide temprator feels like'))\n",
    "    if temp > 30:\n",
    "        print(f'{Fore.RED}its hot')\n",
    "    elif temp < 20:\n",
    "        print(f'{Fore.BLUE} its cold')\n",
    "    else:\n",
    "        print(f'{Fore.GREEN} its pleasant')\n",
    "        \n",
    "tempcheck()"
   ]
  },
  {
   "cell_type": "code",
   "execution_count": 39,
   "id": "06d0e33b",
   "metadata": {},
   "outputs": [],
   "source": [
    "## accessing values in string\n",
    "\n",
    "abc = \"jitendrakumarsingh\""
   ]
  },
  {
   "cell_type": "code",
   "execution_count": 53,
   "id": "32c1c5f5",
   "metadata": {},
   "outputs": [
    {
     "name": "stdout",
     "output_type": "stream",
     "text": [
      "18\n",
      "t\n"
     ]
    }
   ],
   "source": [
    "print(len(abc))\n",
    "print(abc[2:3])"
   ]
  },
  {
   "cell_type": "code",
   "execution_count": 54,
   "id": "03f3f15f",
   "metadata": {},
   "outputs": [
    {
     "name": "stdout",
     "output_type": "stream",
     "text": [
      "approximate value = 2.79\n",
      "car = {'tires': 4, 'doors': 2}\n"
     ]
    }
   ],
   "source": [
    "  value = 2.791514\n",
    "  print(f'approximate value = {value:.2f}')  # approximate value = 2.79\n",
    "\n",
    "  car = {'tires':4, 'doors':2}\n",
    "  print(f'car = {car}') # car = {'tires': 4, 'doors': 2}\n"
   ]
  },
  {
   "cell_type": "code",
   "execution_count": 62,
   "id": "2cf8addf",
   "metadata": {},
   "outputs": [
    {
     "name": "stdout",
     "output_type": "stream",
     "text": [
      "provide your acc number2121\n",
      "\u001b[31m customer does not exist\n"
     ]
    }
   ],
   "source": [
    "account=['12344','23454','29272']\n",
    "cs=input('provide your acc number')\n",
    "if cs in account:\n",
    "    print(f'{Fore.GREEN}existing customer')\n",
    "else:\n",
    "    print(f'{Fore.RED} customer does not exist')\n",
    "          \n",
    "          "
   ]
  },
  {
   "cell_type": "code",
   "execution_count": 66,
   "id": "219d41b3",
   "metadata": {},
   "outputs": [
    {
     "name": "stdout",
     "output_type": "stream",
     "text": [
      "['__add__', '__class__', '__contains__', '__delattr__', '__dir__', '__doc__', '__eq__', '__format__', '__ge__', '__getattribute__', '__getitem__', '__getnewargs__', '__getstate__', '__gt__', '__hash__', '__init__', '__init_subclass__', '__iter__', '__le__', '__len__', '__lt__', '__mod__', '__mul__', '__ne__', '__new__', '__reduce__', '__reduce_ex__', '__repr__', '__rmod__', '__rmul__', '__setattr__', '__sizeof__', '__str__', '__subclasshook__', 'capitalize', 'casefold', 'center', 'count', 'encode', 'endswith', 'expandtabs', 'find', 'format', 'format_map', 'index', 'isalnum', 'isalpha', 'isascii', 'isdecimal', 'isdigit', 'isidentifier', 'islower', 'isnumeric', 'isprintable', 'isspace', 'istitle', 'isupper', 'join', 'ljust', 'lower', 'lstrip', 'maketrans', 'partition', 'removeprefix', 'removesuffix', 'replace', 'rfind', 'rindex', 'rjust', 'rpartition', 'rsplit', 'rstrip', 'split', 'splitlines', 'startswith', 'strip', 'swapcase', 'title', 'translate', 'upper', 'zfill']\n"
     ]
    },
    {
     "data": {
      "text/plain": [
       "'jitendrakumarsingh'"
      ]
     },
     "execution_count": 66,
     "metadata": {},
     "output_type": "execute_result"
    }
   ],
   "source": [
    "print(dir(str))\n",
    "abc"
   ]
  },
  {
   "cell_type": "code",
   "execution_count": 73,
   "id": "09019aa5",
   "metadata": {},
   "outputs": [
    {
     "name": "stdout",
     "output_type": "stream",
     "text": [
      "JITENDRAKUMARSINGH\n"
     ]
    },
    {
     "ename": "TypeError",
     "evalue": "unbound method str.replace() needs an argument",
     "output_type": "error",
     "traceback": [
      "\u001b[1;31m---------------------------------------------------------------------------\u001b[0m",
      "\u001b[1;31mTypeError\u001b[0m                                 Traceback (most recent call last)",
      "Cell \u001b[1;32mIn[73], line 3\u001b[0m\n\u001b[0;32m      1\u001b[0m abc\n\u001b[0;32m      2\u001b[0m \u001b[38;5;28mprint\u001b[39m(abc\u001b[38;5;241m.\u001b[39mupper())\n\u001b[1;32m----> 3\u001b[0m help(\u001b[38;5;28mstr\u001b[39m\u001b[38;5;241m.\u001b[39mreplace())\n",
      "\u001b[1;31mTypeError\u001b[0m: unbound method str.replace() needs an argument"
     ]
    }
   ],
   "source": [
    "abc\n",
    "print(abc.upper())\n",
    "help(str.replace())"
   ]
  },
  {
   "cell_type": "code",
   "execution_count": 75,
   "id": "f70a1104",
   "metadata": {},
   "outputs": [
    {
     "name": "stdout",
     "output_type": "stream",
     "text": [
      "Help on method_descriptor:\n",
      "\n",
      "replace(self, old, new, count=-1, /)\n",
      "    Return a copy with all occurrences of substring old replaced by new.\n",
      "    \n",
      "      count\n",
      "        Maximum number of occurrences to replace.\n",
      "        -1 (the default value) means replace all occurrences.\n",
      "    \n",
      "    If the optional argument count is given, only the first count occurrences are\n",
      "    replaced.\n",
      "\n"
     ]
    }
   ],
   "source": [
    "help(str.replace)"
   ]
  },
  {
   "cell_type": "code",
   "execution_count": 79,
   "id": "e96b6c5e",
   "metadata": {},
   "outputs": [
    {
     "data": {
      "text/plain": [
       "'ittendrakumarsingh'"
      ]
     },
     "execution_count": 79,
     "metadata": {},
     "output_type": "execute_result"
    }
   ],
   "source": [
    "abc\n",
    "abc.replace('ji','it')"
   ]
  },
  {
   "cell_type": "code",
   "execution_count": 82,
   "id": "028cca1c",
   "metadata": {},
   "outputs": [
    {
     "name": "stdout",
     "output_type": "stream",
     "text": [
      "kids rids singh\n"
     ]
    }
   ],
   "source": [
    "ms1 = \"king ring singh\"\n",
    "ns1 = ms1.replace('ng','ds',2)\n",
    "print(ns1)"
   ]
  },
  {
   "cell_type": "code",
   "execution_count": 86,
   "id": "bc7798ee",
   "metadata": {},
   "outputs": [
    {
     "data": {
      "text/plain": [
       "1"
      ]
     },
     "execution_count": 86,
     "metadata": {},
     "output_type": "execute_result"
    }
   ],
   "source": [
    "abc.find('i',0,5)\n"
   ]
  },
  {
   "cell_type": "code",
   "execution_count": 89,
   "id": "73ef339d",
   "metadata": {},
   "outputs": [
    {
     "name": "stdout",
     "output_type": "stream",
     "text": [
      "['__add__', '__class__', '__contains__', '__delattr__', '__dir__', '__doc__', '__eq__', '__format__', '__ge__', '__getattribute__', '__getitem__', '__getnewargs__', '__getstate__', '__gt__', '__hash__', '__init__', '__init_subclass__', '__iter__', '__le__', '__len__', '__lt__', '__mod__', '__mul__', '__ne__', '__new__', '__reduce__', '__reduce_ex__', '__repr__', '__rmod__', '__rmul__', '__setattr__', '__sizeof__', '__str__', '__subclasshook__', 'capitalize', 'casefold', 'center', 'count', 'encode', 'endswith', 'expandtabs', 'find', 'format', 'format_map', 'index', 'isalnum', 'isalpha', 'isascii', 'isdecimal', 'isdigit', 'isidentifier', 'islower', 'isnumeric', 'isprintable', 'isspace', 'istitle', 'isupper', 'join', 'ljust', 'lower', 'lstrip', 'maketrans', 'partition', 'removeprefix', 'removesuffix', 'replace', 'rfind', 'rindex', 'rjust', 'rpartition', 'rsplit', 'rstrip', 'split', 'splitlines', 'startswith', 'strip', 'swapcase', 'title', 'translate', 'upper', 'zfill']\n"
     ]
    }
   ],
   "source": [
    "print(dir(str))"
   ]
  },
  {
   "cell_type": "code",
   "execution_count": 97,
   "id": "cbe3b948",
   "metadata": {},
   "outputs": [
    {
     "name": "stdout",
     "output_type": "stream",
     "text": [
      "jitendrakumarsingh\n",
      "jtn\n"
     ]
    }
   ],
   "source": [
    "print(abc)\n",
    "\n",
    "print(abc[0:5:2])"
   ]
  },
  {
   "cell_type": "code",
   "execution_count": 99,
   "id": "b4068fc4",
   "metadata": {},
   "outputs": [
    {
     "name": "stdout",
     "output_type": "stream",
     "text": [
      "provide your acc numberdfd\n",
      "\u001b[31m customer does not exist\n"
     ]
    }
   ],
   "source": [
    "account=['12344','23454','29272']\n",
    "cs=input('provide your acc number')\n",
    "if cs in account:\n",
    "    print(f'{Fore.GREEN}existing customer')\n",
    "else:\n",
    "    print(f'{Fore.RED} customer does not exist')\n",
    "          \n",
    "  "
   ]
  },
  {
   "cell_type": "code",
   "execution_count": 102,
   "id": "6e42d15d",
   "metadata": {},
   "outputs": [
    {
     "data": {
      "text/plain": [
       "'srag is krag'"
      ]
     },
     "execution_count": 102,
     "metadata": {},
     "output_type": "execute_result"
    }
   ],
   "source": [
    "abc = \"sing is king\"\n",
    "abc.replace('in','ra',2)\n",
    "\n",
    "\n"
   ]
  },
  {
   "cell_type": "code",
   "execution_count": 104,
   "id": "3dab4ffb",
   "metadata": {},
   "outputs": [
    {
     "data": {
      "text/plain": [
       "['world', 'health', 'organization']"
      ]
     },
     "execution_count": 104,
     "metadata": {},
     "output_type": "execute_result"
    }
   ],
   "source": [
    "## split and join \n",
    "\n",
    "ms1 = \"world health organization\"\n",
    "ms1.split()"
   ]
  },
  {
   "cell_type": "code",
   "execution_count": 110,
   "id": "0289329e",
   "metadata": {},
   "outputs": [
    {
     "data": {
      "text/plain": [
       "['world health organization']"
      ]
     },
     "execution_count": 110,
     "metadata": {},
     "output_type": "execute_result"
    }
   ],
   "source": [
    "ms1.split('_',4)"
   ]
  },
  {
   "cell_type": "code",
   "execution_count": 113,
   "id": "70b938bc",
   "metadata": {},
   "outputs": [
    {
     "data": {
      "text/plain": [
       "['Jitendra', 'Singh', 'Engineer_Resume_SA']"
      ]
     },
     "execution_count": 113,
     "metadata": {},
     "output_type": "execute_result"
    }
   ],
   "source": [
    "str1 = \"Jitendra_Singh_Engineer_Resume_SA\"\n",
    "str1.split('_',2)"
   ]
  },
  {
   "cell_type": "code",
   "execution_count": 117,
   "id": "c1a50005",
   "metadata": {},
   "outputs": [
    {
     "name": "stdout",
     "output_type": "stream",
     "text": [
      "average marks in pysics of 50 studeent is 98.22\n",
      "average marks in pysics of 50 studeent is 98.22\n"
     ]
    }
   ],
   "source": [
    "#3python way of printing things\n",
    "average = 98.22\n",
    "sub =\"pysics\"\n",
    "num =50\n",
    "print('average marks in {} of {} studeent is {}'.format(sub,num,average))\n",
    "print('average marks in {0} of {1} studeent is {2}'.format(sub,num,average))\n"
   ]
  },
  {
   "cell_type": "code",
   "execution_count": 120,
   "id": "c1cd3aa5",
   "metadata": {},
   "outputs": [
    {
     "data": {
      "text/plain": [
       "'python'"
      ]
     },
     "execution_count": 120,
     "metadata": {},
     "output_type": "execute_result"
    }
   ],
   "source": [
    "ns1 = '{:^1}'.format('python')\n",
    "ns1"
   ]
  },
  {
   "cell_type": "code",
   "execution_count": 127,
   "id": "b22b5cde",
   "metadata": {},
   "outputs": [
    {
     "name": "stdout",
     "output_type": "stream",
     "text": [
      "                        @                         \n",
      "                       @@@@                       \n",
      "                     @@@@@@@                      \n",
      "                    @@@@@@@@@@                    \n",
      "                  @@@@@@@@@@@@@                   \n",
      "                 @@@@@@@@@@@@@@@@                 \n",
      "               @@@@@@@@@@@@@@@@@@@                \n",
      "              @@@@@@@@@@@@@@@@@@@@@@              \n",
      "            @@@@@@@@@@@@@@@@@@@@@@@@@             \n",
      "           @@@@@@@@@@@@@@@@@@@@@@@@@@@@           \n",
      "         @@@@@@@@@@@@@@@@@@@@@@@@@@@@@@@          \n",
      "        @@@@@@@@@@@@@@@@@@@@@@@@@@@@@@@@@@        \n",
      "      @@@@@@@@@@@@@@@@@@@@@@@@@@@@@@@@@@@@@       \n"
     ]
    }
   ],
   "source": [
    "for i in range(1,40,3):\n",
    "    print('{:^50}'.format('@'*i))"
   ]
  },
  {
   "cell_type": "code",
   "execution_count": 137,
   "id": "b36ff29b",
   "metadata": {},
   "outputs": [
    {
     "name": "stdout",
     "output_type": "stream",
     "text": [
      "                   *                    \n",
      "                  ****                  \n",
      "                *******                 \n",
      "               **********               \n",
      "             *************              \n",
      "            ****************            \n",
      "          *******************           \n",
      "         **********************         \n",
      "       *************************        \n",
      "      ****************************      \n",
      "    *******************************     \n",
      "   **********************************   \n",
      " *************************************  \n"
     ]
    }
   ],
   "source": [
    "for i in range(1,40,3):\n",
    "    print('{:^40}'.format('*'*i))"
   ]
  },
  {
   "cell_type": "code",
   "execution_count": 1,
   "id": "e3573e8b",
   "metadata": {},
   "outputs": [
    {
     "data": {
      "text/plain": [
       "['j', 'i', 't', 'e', 'n', 'd', 'r', 'a']"
      ]
     },
     "execution_count": 1,
     "metadata": {},
     "output_type": "execute_result"
    }
   ],
   "source": [
    "## list\n",
    "\n",
    "mylist1=list('jitendra')\n",
    "mylist1\n",
    "str='jitendra'\n",
    "mylist2=list()\n",
    "for i in range(len(mylist1)):\n",
    "    mylist2.append(mylist1[i])\n",
    "mylist2"
   ]
  },
  {
   "cell_type": "code",
   "execution_count": 8,
   "id": "e6d323ad",
   "metadata": {},
   "outputs": [
    {
     "data": {
      "text/plain": [
       "'m'"
      ]
     },
     "execution_count": 8,
     "metadata": {},
     "output_type": "execute_result"
    }
   ],
   "source": [
    "str1='Welcom'\n",
    "str1[-1:-2:-5]"
   ]
  },
  {
   "cell_type": "code",
   "execution_count": 11,
   "id": "437bea9d",
   "metadata": {},
   "outputs": [
    {
     "data": {
      "text/plain": [
       "1.8333333333333333"
      ]
     },
     "execution_count": 11,
     "metadata": {},
     "output_type": "execute_result"
    }
   ],
   "source": [
    "def program(n):\n",
    "    total=0\n",
    "    for i in range(1,n+1):\n",
    "        total += 1/i\n",
    "    return total\n",
    "\n",
    "program(3)"
   ]
  },
  {
   "cell_type": "code",
   "execution_count": null,
   "id": "8d50785c",
   "metadata": {},
   "outputs": [],
   "source": []
  },
  {
   "cell_type": "code",
   "execution_count": 10,
   "id": "fc8e75f5",
   "metadata": {},
   "outputs": [
    {
     "name": "stdout",
     "output_type": "stream",
     "text": [
      "\n",
      "0\t1\t\n",
      "0\t1\t2\t\n",
      "0\t1\t2\t3\t"
     ]
    }
   ],
   "source": [
    "for i in range(2,5):\n",
    "    print(end='\\n')\n",
    "    for i in range(i):\n",
    "       print(i, end = '\\t')"
   ]
  },
  {
   "cell_type": "code",
   "execution_count": 13,
   "id": "cee23742",
   "metadata": {},
   "outputs": [
    {
     "name": "stdout",
     "output_type": "stream",
     "text": [
      "g\n",
      "r\n",
      "a\n",
      "t\n",
      "a\n",
      "r\n",
      "n\n",
      "i\n",
      "n\n",
      "g\n"
     ]
    }
   ],
   "source": [
    "str1='greatlearning'\n",
    "for i in str1:\n",
    "    str2='el'\n",
    "    if i in str2:\n",
    "        continue\n",
    "    \n",
    "    print(i)"
   ]
  },
  {
   "cell_type": "code",
   "execution_count": 14,
   "id": "30fb87ce",
   "metadata": {},
   "outputs": [],
   "source": [
    "list1 = [10, 20, 23, 11, 17]\n",
    "list2 = [13, 43, 24, 36, 12]"
   ]
  },
  {
   "cell_type": "code",
   "execution_count": 17,
   "id": "84497e26",
   "metadata": {},
   "outputs": [
    {
     "data": {
      "text/plain": [
       "[10, 20, 24, 36, 12]"
      ]
     },
     "execution_count": 17,
     "metadata": {},
     "output_type": "execute_result"
    }
   ],
   "source": [
    "def logicfunction():\n",
    "    list3=list()\n",
    "    for i in list1:\n",
    "        if i%2==0:\n",
    "            list3.append(i)\n",
    "    for y in list2:\n",
    "        if y%2==0:\n",
    "            list3.append(y)\n",
    "    return list3\n",
    "\n",
    "logicfunction()"
   ]
  },
  {
   "cell_type": "code",
   "execution_count": 28,
   "id": "48c917f6",
   "metadata": {},
   "outputs": [
    {
     "data": {
      "text/plain": [
       "'Great'"
      ]
     },
     "execution_count": 28,
     "metadata": {},
     "output_type": "execute_result"
    }
   ],
   "source": [
    "dict1={'1':'learning','2':'for','3':{'A':'life','B':'to','C':'Great'}}\n",
    "dict1['3']['C']"
   ]
  },
  {
   "cell_type": "code",
   "execution_count": 35,
   "id": "8cddbcdf",
   "metadata": {},
   "outputs": [
    {
     "name": "stdout",
     "output_type": "stream",
     "text": [
      "please provide operation you want to do select *,%,+,-*\n",
      "enter the first number521\n",
      "enter the second number54\n",
      "you have selected  *     for this opration\n"
     ]
    },
    {
     "data": {
      "text/plain": [
       "28134"
      ]
     },
     "execution_count": 35,
     "metadata": {},
     "output_type": "execute_result"
    }
   ],
   "source": [
    "def calcy():\n",
    "    operator=input('please provide operation you want to do select *,%,+,-')\n",
    "    num1=int(input('enter the first number'))\n",
    "    num2=int(input('enter the second number'))\n",
    "    print('you have selected ',operator,'   ','for this opration')\n",
    "    if operator=='+':\n",
    "        \n",
    "        return num1 + num2\n",
    "    elif operator=='*':\n",
    "        return(num1*num2)\n",
    "    elif operator=='%':\n",
    "        return num1%num2\n",
    "    else:\n",
    "        return num1-num2\n",
    "\n",
    "calcy()"
   ]
  },
  {
   "cell_type": "code",
   "execution_count": 41,
   "id": "c43b7768",
   "metadata": {},
   "outputs": [
    {
     "name": "stdout",
     "output_type": "stream",
     "text": [
      "91\n"
     ]
    }
   ],
   "source": [
    "a=[1,2,3,4,5,6]\n",
    "b=[]\n",
    "for i in a:\n",
    "    b.append(i**2)\n",
    "b\n",
    "print(sum(b))"
   ]
  },
  {
   "cell_type": "code",
   "execution_count": 46,
   "id": "693b47ef",
   "metadata": {},
   "outputs": [],
   "source": [
    "import numpy as np\n",
    "import pandas as pd\n",
    "import matplotlib.pyplot as plt\n",
    "import math\n",
    "import seaborn as sns"
   ]
  },
  {
   "cell_type": "code",
   "execution_count": 49,
   "id": "0481b1ea",
   "metadata": {},
   "outputs": [
    {
     "data": {
      "text/plain": [
       "array([ 93, 112,  50,  83,  64, 114,  41, 119,  86, 101,  49, 100])"
      ]
     },
     "execution_count": 49,
     "metadata": {},
     "output_type": "execute_result"
    }
   ],
   "source": [
    "np.random.seed(23)\n",
    "a=np.random.randint(10,130,12)\n",
    "a"
   ]
  },
  {
   "cell_type": "code",
   "execution_count": 51,
   "id": "b412e0fc",
   "metadata": {},
   "outputs": [
    {
     "name": "stdout",
     "output_type": "stream",
     "text": [
      "please provide temp55\n",
      "its moderate\n"
     ]
    }
   ],
   "source": [
    "## BUILD IN DATA STRUCTURES\n",
    "\n",
    "def tempcheck():\n",
    "    temp = int(input('please provide temp'))\n",
    "    if temp > 90:\n",
    "        print('its hot')\n",
    "    elif temp < 35:\n",
    "        print('its cold')\n",
    "    else:\n",
    "        print('its moderate')\n",
    "        \n",
    "tempcheck()"
   ]
  },
  {
   "cell_type": "code",
   "execution_count": 59,
   "id": "a0b48eaa",
   "metadata": {},
   "outputs": [
    {
     "name": "stdout",
     "output_type": "stream",
     "text": [
      "BCDEFGHIJKLMNOPQRSTUVWXYZ\n",
      "A\tB\tC\tD\tE\tF\tG\tH\tI\tJ\tK\tL\tM\tN\tO\tP\tQ\tR\tS\tT\tU\tV\tW\tX\tY\tZ\t"
     ]
    }
   ],
   "source": [
    "#string datatype\n",
    "\n",
    "abc ='ABCDEFGHIJKLMNOPQRSTUVWXYZ'\n",
    "print(abc[1:])\n",
    "for i in abc:\n",
    "    print(i,end='\\t')"
   ]
  },
  {
   "cell_type": "code",
   "execution_count": 72,
   "id": "5df2e95e",
   "metadata": {},
   "outputs": [
    {
     "data": {
      "text/plain": [
       "'ge'"
      ]
     },
     "execution_count": 72,
     "metadata": {},
     "output_type": "execute_result"
    }
   ],
   "source": [
    "mystr1='nationalexchange'\n",
    "index=mystr1.find('g')\n",
    "index\n",
    "mystr1[14::1]"
   ]
  },
  {
   "cell_type": "code",
   "execution_count": 74,
   "id": "ce53562f",
   "metadata": {},
   "outputs": [
    {
     "data": {
      "text/plain": [
       "['world', 'health', 'organization']"
      ]
     },
     "execution_count": 74,
     "metadata": {},
     "output_type": "execute_result"
    }
   ],
   "source": [
    "ms1='world health organization'\n",
    "ms1.split()"
   ]
  },
  {
   "cell_type": "code",
   "execution_count": 78,
   "id": "53c89add",
   "metadata": {},
   "outputs": [
    {
     "name": "stdout",
     "output_type": "stream",
     "text": [
      "Nationalexchange\n"
     ]
    }
   ],
   "source": [
    "mystr1.upper()\n",
    "mystr1.lower()\n",
    "print(mystr1.title())"
   ]
  },
  {
   "cell_type": "code",
   "execution_count": 87,
   "id": "368cd7c3",
   "metadata": {},
   "outputs": [
    {
     "data": {
      "text/plain": [
       "'world_health organization'"
      ]
     },
     "execution_count": 87,
     "metadata": {},
     "output_type": "execute_result"
    }
   ],
   "source": [
    "## split & Join\n",
    "\n",
    "ms1='world health organization'\n",
    "ab=ms1.split(' ',1)\n",
    "'_'.join(ab)\n"
   ]
  },
  {
   "cell_type": "code",
   "execution_count": 92,
   "id": "6cfc6a05",
   "metadata": {},
   "outputs": [
    {
     "data": {
      "text/plain": [
       "'                 python                 '"
      ]
     },
     "execution_count": 92,
     "metadata": {},
     "output_type": "execute_result"
    }
   ],
   "source": [
    "# format \n",
    "ns1 ='{:^40}'.format('python')\n",
    "ns1"
   ]
  },
  {
   "cell_type": "code",
   "execution_count": 93,
   "id": "0f310953",
   "metadata": {},
   "outputs": [
    {
     "name": "stdout",
     "output_type": "stream",
     "text": [
      "                   *                    \n",
      "                  ****                  \n",
      "                *******                 \n",
      "               **********               \n",
      "             *************              \n",
      "            ****************            \n",
      "          *******************           \n",
      "         **********************         \n",
      "       *************************        \n",
      "      ****************************      \n",
      "    *******************************     \n",
      "   **********************************   \n",
      " *************************************  \n"
     ]
    }
   ],
   "source": [
    "for i in range(1,40,3):\n",
    "    print('{:^40}'.format('*'*i))"
   ]
  },
  {
   "cell_type": "code",
   "execution_count": 94,
   "id": "c55d7bbd",
   "metadata": {},
   "outputs": [
    {
     "name": "stdout",
     "output_type": "stream",
     "text": [
      "nse\n",
      " mumbai\n"
     ]
    }
   ],
   "source": [
    "#escape sequence \n",
    "print('nse\\n mumbai')"
   ]
  },
  {
   "cell_type": "code",
   "execution_count": 95,
   "id": "fa7c2bd0",
   "metadata": {},
   "outputs": [
    {
     "name": "stdout",
     "output_type": "stream",
     "text": [
      "c:\tiger\n"
     ]
    }
   ],
   "source": [
    "print('c:\\tiger')"
   ]
  },
  {
   "cell_type": "code",
   "execution_count": 101,
   "id": "99953d28",
   "metadata": {},
   "outputs": [
    {
     "data": {
      "text/plain": [
       "'jitendra'"
      ]
     },
     "execution_count": 101,
     "metadata": {},
     "output_type": "execute_result"
    }
   ],
   "source": [
    "# list is ordered set of valueswhereeach value is identified by an index\n",
    "\n",
    "mylist1=list('jitendra')\n",
    "mylist1\n",
    "mylist1[5]\n",
    "a =''.join(mylist1)\n",
    "a"
   ]
  },
  {
   "cell_type": "code",
   "execution_count": 105,
   "id": "1684f40a",
   "metadata": {},
   "outputs": [
    {
     "name": "stdout",
     "output_type": "stream",
     "text": [
      "<class 'list'>\n"
     ]
    }
   ],
   "source": [
    "## matrix representation \n",
    "\n",
    "matrix34=[[11,12,13,14],\n",
    "          [15,16,17,18],\n",
    "          [19,20,21,22]\n",
    "          \n",
    "         ]\n",
    "matrix34\n",
    "print(type(matrix34))"
   ]
  },
  {
   "cell_type": "code",
   "execution_count": 114,
   "id": "38c63457",
   "metadata": {},
   "outputs": [
    {
     "data": {
      "text/plain": [
       "[1, 2, 3, 4, 54, 5, 5, 5]"
      ]
     },
     "execution_count": 114,
     "metadata": {},
     "output_type": "execute_result"
    }
   ],
   "source": [
    "mylist1=[1,2,3,4,54,5,5,5]\n",
    "mylist1\n"
   ]
  },
  {
   "cell_type": "code",
   "execution_count": 118,
   "id": "3cd34adf",
   "metadata": {},
   "outputs": [
    {
     "data": {
      "text/plain": [
       "(1, 2, 3, 4, 54, 5, 5, 5)"
      ]
     },
     "execution_count": 118,
     "metadata": {},
     "output_type": "execute_result"
    }
   ],
   "source": [
    "TUPLE1=(1,2,3,4,54,5,5,5)\n",
    "TUPLE1"
   ]
  },
  {
   "cell_type": "code",
   "execution_count": 124,
   "id": "c05b3b83",
   "metadata": {},
   "outputs": [
    {
     "data": {
      "text/plain": [
       "[1,\n",
       " 2,\n",
       " 3,\n",
       " 4,\n",
       " 54,\n",
       " 5,\n",
       " 5,\n",
       " 5,\n",
       " 11,\n",
       " 12,\n",
       " 32,\n",
       " 11,\n",
       " 12,\n",
       " 32,\n",
       " 11,\n",
       " 12,\n",
       " 32,\n",
       " 'ok',\n",
       " 'fine',\n",
       " 11,\n",
       " 12,\n",
       " 32,\n",
       " 'ok',\n",
       " 'fine',\n",
       " 11,\n",
       " 12,\n",
       " 32,\n",
       " 'ok',\n",
       " 'fine']"
      ]
     },
     "execution_count": 124,
     "metadata": {},
     "output_type": "execute_result"
    }
   ],
   "source": [
    "mylist1\n",
    "mylist1.extend([11,12,32])\n",
    "mylist1\n",
    "mylist1.extend(['ok','fine'])\n",
    "mylist1"
   ]
  },
  {
   "cell_type": "code",
   "execution_count": 129,
   "id": "88dc88fa",
   "metadata": {},
   "outputs": [
    {
     "data": {
      "text/plain": [
       "[1, 2, 3, 4, 'ok', 'fine']"
      ]
     },
     "execution_count": 129,
     "metadata": {},
     "output_type": "execute_result"
    }
   ],
   "source": [
    "mylist=[1,2,3,4]\n",
    "mylistt=mylist.extend(['ok','fine'])\n",
    "mylist"
   ]
  },
  {
   "cell_type": "code",
   "execution_count": 135,
   "id": "052449d3",
   "metadata": {},
   "outputs": [
    {
     "data": {
      "text/plain": [
       "[1, 2, 3, 4, 'ok', 'fine']"
      ]
     },
     "execution_count": 135,
     "metadata": {},
     "output_type": "execute_result"
    }
   ],
   "source": [
    "mylistcopy=mylist.copy()\n",
    "mylistcopy"
   ]
  },
  {
   "cell_type": "code",
   "execution_count": 141,
   "id": "7ac44a4d",
   "metadata": {},
   "outputs": [],
   "source": [
    "## split and join \n",
    "\n",
    "ms1= 'world health organization'\n",
    "\n",
    "ms2=ms1.split(' ',1)\n"
   ]
  },
  {
   "cell_type": "code",
   "execution_count": 145,
   "id": "dc163b5b",
   "metadata": {},
   "outputs": [
    {
     "data": {
      "text/plain": [
       "'worldhealth organization'"
      ]
     },
     "execution_count": 145,
     "metadata": {},
     "output_type": "execute_result"
    }
   ],
   "source": [
    "''.join(ms2)"
   ]
  },
  {
   "cell_type": "code",
   "execution_count": 147,
   "id": "166fbf52",
   "metadata": {},
   "outputs": [
    {
     "name": "stdout",
     "output_type": "stream",
     "text": [
      "avg marks in maths of 50 is 98.54\n"
     ]
    }
   ],
   "source": [
    "avg=98.54\n",
    "sub ='maths'\n",
    "num = 50\n",
    "\n",
    "print('avg marks in {} of {} is {}'.format(sub,num,avg))"
   ]
  },
  {
   "cell_type": "code",
   "execution_count": 154,
   "id": "5b50eeaf",
   "metadata": {},
   "outputs": [
    {
     "name": "stdout",
     "output_type": "stream",
     "text": [
      "                   #                    \n",
      "                  ####                  \n",
      "                #######                 \n",
      "               ##########               \n",
      "             #############              \n",
      "            ################            \n",
      "          ###################           \n",
      "         ######################         \n",
      "       #########################        \n",
      "      ############################      \n",
      "    ###############################     \n",
      "   ##################################   \n",
      " #####################################  \n"
     ]
    }
   ],
   "source": [
    "ns1='{:^40}'.format('python')\n",
    "ns1\n",
    "\n",
    "for i in range(1,40,3):\n",
    "    print('{:^40}'.format(i*'#'))"
   ]
  },
  {
   "cell_type": "code",
   "execution_count": 157,
   "id": "f5bbbe4d",
   "metadata": {},
   "outputs": [
    {
     "name": "stdout",
     "output_type": "stream",
     "text": [
      "nse \t mumbai\n"
     ]
    }
   ],
   "source": [
    "#escape sequence:\n",
    "\n",
    "print('nse \\t mumbai')"
   ]
  },
  {
   "cell_type": "code",
   "execution_count": 167,
   "id": "5778c483",
   "metadata": {},
   "outputs": [],
   "source": [
    "\n",
    "ms1=list('jitendra')\n"
   ]
  },
  {
   "cell_type": "code",
   "execution_count": 168,
   "id": "42a5ac1c",
   "metadata": {},
   "outputs": [
    {
     "name": "stdout",
     "output_type": "stream",
     "text": [
      "['Shardul', 'Rohit', 'Rahul', 'Virat', 'Pant']\n"
     ]
    }
   ],
   "source": [
    "# Replace Values in a List using indexing\n",
    " \n",
    "# define list\n",
    "l = [ 'Hardik','Rohit', 'Rahul', 'Virat', 'Pant']\n",
    " \n",
    "# replace first value\n",
    "l[0] = 'Shardul'\n",
    " \n",
    "# print list\n",
    "print(l)"
   ]
  },
  {
   "cell_type": "code",
   "execution_count": 169,
   "id": "6ca54bd3",
   "metadata": {},
   "outputs": [
    {
     "data": {
      "text/plain": [
       "['j', 'i', 't', 'e', 'n', 'd', 'r', 'a']"
      ]
     },
     "execution_count": 169,
     "metadata": {},
     "output_type": "execute_result"
    }
   ],
   "source": [
    "ms1=list('jitendra')\n",
    "ms1"
   ]
  },
  {
   "cell_type": "code",
   "execution_count": 182,
   "id": "2196d405",
   "metadata": {},
   "outputs": [
    {
     "data": {
      "text/plain": [
       "['j', 'i', 't', 'e', 'n', 'd', 'r', 'a']"
      ]
     },
     "execution_count": 182,
     "metadata": {},
     "output_type": "execute_result"
    }
   ],
   "source": [
    "ms2=list('jitendra')\n",
    "        \n",
    "ms2"
   ]
  },
  {
   "cell_type": "code",
   "execution_count": 189,
   "id": "1fa4d175",
   "metadata": {},
   "outputs": [
    {
     "data": {
      "text/plain": [
       "['j', 'L', 't', 'e', 'n', 'd', 'r', 'a']"
      ]
     },
     "execution_count": 189,
     "metadata": {},
     "output_type": "execute_result"
    }
   ],
   "source": [
    "list12=list('jitendra')\n",
    "list12[1]='L'\n",
    "list12"
   ]
  },
  {
   "cell_type": "code",
   "execution_count": 192,
   "id": "de6a3613",
   "metadata": {},
   "outputs": [
    {
     "data": {
      "text/plain": [
       "['j', 'i', 't', 'e', 'n', 'd', 'r', 'a']"
      ]
     },
     "execution_count": 192,
     "metadata": {},
     "output_type": "execute_result"
    }
   ],
   "source": [
    "for i in range(len(list12)):\n",
    "    if list12[i]=='L':\n",
    "        list12[i]='i'\n",
    "list12        "
   ]
  },
  {
   "cell_type": "code",
   "execution_count": 197,
   "id": "c29fe6cb",
   "metadata": {},
   "outputs": [
    {
     "data": {
      "text/plain": [
       "[23, 20, 17, 11, 10]"
      ]
     },
     "execution_count": 197,
     "metadata": {},
     "output_type": "execute_result"
    }
   ],
   "source": [
    "list1\n",
    "list1.sort(reverse=True)\n",
    "list1"
   ]
  },
  {
   "cell_type": "code",
   "execution_count": 198,
   "id": "5b306766",
   "metadata": {},
   "outputs": [
    {
     "ename": "TypeError",
     "evalue": "'<' not supported between instances of 'int' and 'str'",
     "output_type": "error",
     "traceback": [
      "\u001b[1;31m---------------------------------------------------------------------------\u001b[0m",
      "\u001b[1;31mTypeError\u001b[0m                                 Traceback (most recent call last)",
      "Cell \u001b[1;32mIn[198], line 2\u001b[0m\n\u001b[0;32m      1\u001b[0m mylist1 \u001b[38;5;241m=\u001b[39m [\u001b[38;5;241m2\u001b[39m,\u001b[38;5;241m4\u001b[39m,\u001b[38;5;241m6\u001b[39m,\u001b[38;5;241m8\u001b[39m,\u001b[38;5;241m9\u001b[39m,\u001b[38;5;241m4\u001b[39m,\u001b[38;5;241m3\u001b[39m,\u001b[38;5;241m9\u001b[39m,\u001b[38;5;124m\"\u001b[39m\u001b[38;5;124mHELLO\u001b[39m\u001b[38;5;124m\"\u001b[39m]\n\u001b[1;32m----> 2\u001b[0m mylist1\u001b[38;5;241m.\u001b[39msort(reverse\u001b[38;5;241m=\u001b[39m\u001b[38;5;28;01mTrue\u001b[39;00m)\n\u001b[0;32m      3\u001b[0m mylist1\n",
      "\u001b[1;31mTypeError\u001b[0m: '<' not supported between instances of 'int' and 'str'"
     ]
    }
   ],
   "source": [
    "mylist1 = [2,4,6,8,9,4,3,9,\"HELLO\"]\n",
    "mylist1.sort(reverse=True)\n",
    "mylist1"
   ]
  },
  {
   "cell_type": "code",
   "execution_count": 203,
   "id": "fa32d7fd",
   "metadata": {},
   "outputs": [
    {
     "data": {
      "text/plain": [
       "8"
      ]
     },
     "execution_count": 203,
     "metadata": {},
     "output_type": "execute_result"
    }
   ],
   "source": [
    "def key1(obj):\n",
    "    if isinstance(obj,(int,float)):\n",
    "        return(obj)\n",
    "    if isinstance(obj,str):\n",
    "        return len(obj)\n",
    "    return 0\n",
    "key1('jitendra')"
   ]
  },
  {
   "cell_type": "code",
   "execution_count": 206,
   "id": "bb9608fd",
   "metadata": {},
   "outputs": [
    {
     "name": "stdout",
     "output_type": "stream",
     "text": [
      "<class 'tuple'>\n"
     ]
    }
   ],
   "source": [
    "#tuple\n",
    "mult1=(123,)\n",
    "print(type(mult1))"
   ]
  },
  {
   "cell_type": "code",
   "execution_count": 212,
   "id": "cf5f887b",
   "metadata": {},
   "outputs": [
    {
     "data": {
      "text/plain": [
       "2"
      ]
     },
     "execution_count": 212,
     "metadata": {},
     "output_type": "execute_result"
    }
   ],
   "source": [
    "mt1=('a',[1,2,3])\n",
    "mt1[1][1]\n"
   ]
  },
  {
   "cell_type": "code",
   "execution_count": 223,
   "id": "8f128afe",
   "metadata": {},
   "outputs": [
    {
     "data": {
      "text/plain": [
       "(2, 4, 2, 1, 1, 3, 4, 4, 4, 55, 99)"
      ]
     },
     "execution_count": 223,
     "metadata": {},
     "output_type": "execute_result"
    }
   ],
   "source": [
    "mt2=(2,4,2,1,1,3,4,4,4,55)\n",
    "max(mt2)\n",
    "liststr=list(mt2)\n",
    "liststr.append(99)\n",
    "liststr\n",
    "\n",
    "mt2=tuple(liststr)\n",
    "mt2"
   ]
  },
  {
   "cell_type": "code",
   "execution_count": 235,
   "id": "c8f9e93a",
   "metadata": {},
   "outputs": [
    {
     "name": "stdout",
     "output_type": "stream",
     "text": [
      "None\n"
     ]
    }
   ],
   "source": [
    "## python dictionaries\n",
    "\n",
    "md1={'empname':'jitendra','roll':'Architect','salary':'10000'}\n",
    "md1\n",
    "lst1=list(md1.keys())\n",
    "lst1\n",
    "md1.items()\n",
    "md1['level']='ic5'\n",
    "print(md1.get('city'))\n"
   ]
  },
  {
   "cell_type": "code",
   "execution_count": 246,
   "id": "b811d02a",
   "metadata": {},
   "outputs": [
    {
     "data": {
      "text/plain": [
       "'BLR'"
      ]
     },
     "execution_count": 246,
     "metadata": {},
     "output_type": "execute_result"
    }
   ],
   "source": [
    "md1.setdefault('city','BLR')"
   ]
  },
  {
   "cell_type": "code",
   "execution_count": 248,
   "id": "2401e6bb",
   "metadata": {},
   "outputs": [
    {
     "data": {
      "text/plain": [
       "'BLR'"
      ]
     },
     "execution_count": 248,
     "metadata": {},
     "output_type": "execute_result"
    }
   ],
   "source": [
    "md1.get('city')"
   ]
  },
  {
   "cell_type": "code",
   "execution_count": 252,
   "id": "90e743a1",
   "metadata": {},
   "outputs": [
    {
     "data": {
      "text/plain": [
       "{'bank': 'axis', 'branch': 'mgroad', 'city': 'blr'}"
      ]
     },
     "execution_count": 252,
     "metadata": {},
     "output_type": "execute_result"
    }
   ],
   "source": [
    "md1={'bank':'sbi','branch':'mgroad'}\n",
    "\n",
    "md2={'bank':'axis','city':'blr'}\n",
    "\n",
    "md1.update(md2)\n",
    "md1"
   ]
  },
  {
   "cell_type": "code",
   "execution_count": 260,
   "id": "271a6d29",
   "metadata": {},
   "outputs": [
    {
     "name": "stdout",
     "output_type": "stream",
     "text": [
      "<class 'zip'>\n"
     ]
    },
    {
     "data": {
      "text/plain": [
       "'jitendra'"
      ]
     },
     "execution_count": 260,
     "metadata": {},
     "output_type": "execute_result"
    }
   ],
   "source": [
    "keylist=['name','empid','role']\n",
    "valuelist=['jitendra','10281','PSE']\n",
    "z=zip(keylist,valuelist)\n",
    "print(type(z))\n",
    "zlist=list(z)\n",
    "dict2=dict(zlist)\n",
    "dict2.get('name')"
   ]
  },
  {
   "cell_type": "code",
   "execution_count": null,
   "id": "196a6000",
   "metadata": {},
   "outputs": [],
   "source": []
  },
  {
   "cell_type": "code",
   "execution_count": 265,
   "id": "d945cdb5",
   "metadata": {},
   "outputs": [
    {
     "name": "stdout",
     "output_type": "stream",
     "text": [
      "['__and__', '__class__', '__class_getitem__', '__contains__', '__delattr__', '__dir__', '__doc__', '__eq__', '__format__', '__ge__', '__getattribute__', '__getstate__', '__gt__', '__hash__', '__iand__', '__init__', '__init_subclass__', '__ior__', '__isub__', '__iter__', '__ixor__', '__le__', '__len__', '__lt__', '__ne__', '__new__', '__or__', '__rand__', '__reduce__', '__reduce_ex__', '__repr__', '__ror__', '__rsub__', '__rxor__', '__setattr__', '__sizeof__', '__str__', '__sub__', '__subclasshook__', '__xor__', 'add', 'clear', 'copy', 'difference', 'difference_update', 'discard', 'intersection', 'intersection_update', 'isdisjoint', 'issubset', 'issuperset', 'pop', 'remove', 'symmetric_difference', 'symmetric_difference_update', 'union', 'update']\n"
     ]
    }
   ],
   "source": [
    "ms1=set()\n",
    "ms1.add(20)\n",
    "print(dir(ms1))"
   ]
  },
  {
   "cell_type": "code",
   "execution_count": 268,
   "id": "87bb53ba",
   "metadata": {},
   "outputs": [
    {
     "name": "stdout",
     "output_type": "stream",
     "text": [
      "please provide your marks that you got in exam55\n",
      "highschool results are out , see below for your roll number\n"
     ]
    },
    {
     "data": {
      "text/plain": [
       "(55, 'pass', 45)"
      ]
     },
     "execution_count": 268,
     "metadata": {},
     "output_type": "execute_result"
    }
   ],
   "source": [
    "#else if condition loop \n",
    "\n",
    "def gradecheck():\n",
    "    marks=int(input('please provide your marks that you got in exam'))\n",
    "    result=(marks,'distinction', 00-marks) if marks >80 else (marks,'pass',100-marks) if marks > 40 and marks < 80 else (marks,'fail',40-marks)\n",
    "    print('highschool results are out , see below for your roll number')\n",
    "    return result\n",
    "gradecheck()"
   ]
  },
  {
   "cell_type": "code",
   "execution_count": 272,
   "id": "21b0f785",
   "metadata": {},
   "outputs": [
    {
     "name": "stdout",
     "output_type": "stream",
     "text": [
      "please provide your temp check \n"
     ]
    },
    {
     "ename": "ValueError",
     "evalue": "invalid literal for int() with base 10: ''",
     "output_type": "error",
     "traceback": [
      "\u001b[1;31m---------------------------------------------------------------------------\u001b[0m",
      "\u001b[1;31mValueError\u001b[0m                                Traceback (most recent call last)",
      "Cell \u001b[1;32mIn[272], line 4\u001b[0m\n\u001b[0;32m      2\u001b[0m     temp\u001b[38;5;241m=\u001b[39m\u001b[38;5;28mint\u001b[39m(\u001b[38;5;28minput\u001b[39m(\u001b[38;5;124m'\u001b[39m\u001b[38;5;124mplease provide your temp check \u001b[39m\u001b[38;5;124m'\u001b[39m))\n\u001b[0;32m      3\u001b[0m     \u001b[38;5;28;01mreturn\u001b[39;00m \u001b[38;5;124m'\u001b[39m\u001b[38;5;124mhot\u001b[39m\u001b[38;5;124m'\u001b[39m \u001b[38;5;28;01mif\u001b[39;00m temp \u001b[38;5;241m>\u001b[39m \u001b[38;5;241m35\u001b[39m \u001b[38;5;28;01melse\u001b[39;00m \u001b[38;5;124m'\u001b[39m\u001b[38;5;124mcold\u001b[39m\u001b[38;5;124m'\u001b[39m \u001b[38;5;28;01mif\u001b[39;00m temp \u001b[38;5;241m<\u001b[39m \u001b[38;5;241m15\u001b[39m \u001b[38;5;28;01melse\u001b[39;00m \u001b[38;5;124m'\u001b[39m\u001b[38;5;124mmoderate\u001b[39m\u001b[38;5;124m'\u001b[39m\n\u001b[1;32m----> 4\u001b[0m tempcheck()\n",
      "Cell \u001b[1;32mIn[272], line 2\u001b[0m, in \u001b[0;36mtempcheck\u001b[1;34m()\u001b[0m\n\u001b[0;32m      1\u001b[0m \u001b[38;5;28;01mdef\u001b[39;00m \u001b[38;5;21mtempcheck\u001b[39m():\n\u001b[1;32m----> 2\u001b[0m     temp\u001b[38;5;241m=\u001b[39m\u001b[38;5;28mint\u001b[39m(\u001b[38;5;28minput\u001b[39m(\u001b[38;5;124m'\u001b[39m\u001b[38;5;124mplease provide your temp check \u001b[39m\u001b[38;5;124m'\u001b[39m))\n\u001b[0;32m      3\u001b[0m     \u001b[38;5;28;01mreturn\u001b[39;00m \u001b[38;5;124m'\u001b[39m\u001b[38;5;124mhot\u001b[39m\u001b[38;5;124m'\u001b[39m \u001b[38;5;28;01mif\u001b[39;00m temp \u001b[38;5;241m>\u001b[39m \u001b[38;5;241m35\u001b[39m \u001b[38;5;28;01melse\u001b[39;00m \u001b[38;5;124m'\u001b[39m\u001b[38;5;124mcold\u001b[39m\u001b[38;5;124m'\u001b[39m \u001b[38;5;28;01mif\u001b[39;00m temp \u001b[38;5;241m<\u001b[39m \u001b[38;5;241m15\u001b[39m \u001b[38;5;28;01melse\u001b[39;00m \u001b[38;5;124m'\u001b[39m\u001b[38;5;124mmoderate\u001b[39m\u001b[38;5;124m'\u001b[39m\n",
      "\u001b[1;31mValueError\u001b[0m: invalid literal for int() with base 10: ''"
     ]
    }
   ],
   "source": [
    "def tempcheck():\n",
    "    temp=int(input('please provide your temp check '))\n",
    "    return 'hot' if temp > 35 else 'cold' if temp < 15 else 'moderate'\n",
    "tempcheck() "
   ]
  },
  {
   "cell_type": "code",
   "execution_count": null,
   "id": "d4fb0d6c",
   "metadata": {},
   "outputs": [],
   "source": []
  },
  {
   "cell_type": "code",
   "execution_count": 278,
   "id": "447027b4",
   "metadata": {},
   "outputs": [
    {
     "data": {
      "text/plain": [
       "[10, 15, 20, 25, 30, 35, 40, 45, 50, 55, 60, 65, 70, 75, 80, 85, 90, 95]"
      ]
     },
     "execution_count": 278,
     "metadata": {},
     "output_type": "execute_result"
    }
   ],
   "source": [
    "# range\n",
    "r=range(10,100,5)\n",
    "list(r)"
   ]
  },
  {
   "cell_type": "code",
   "execution_count": 281,
   "id": "abdc7c01",
   "metadata": {},
   "outputs": [
    {
     "name": "stdout",
     "output_type": "stream",
     "text": [
      "input first naumber1\n",
      "input second naumber5\n",
      "1\n",
      "2\n",
      "3\n",
      "4\n"
     ]
    }
   ],
   "source": [
    "#loops\n",
    "\n",
    "n1=int(input('input first naumber'))\n",
    "n2=int(input('input second naumber'))\n",
    "while n1 < n2:\n",
    "    print(n1,end='\\n')\n",
    "    n1=n1+1"
   ]
  },
  {
   "cell_type": "code",
   "execution_count": 284,
   "id": "15d9a23e",
   "metadata": {},
   "outputs": [
    {
     "name": "stdout",
     "output_type": "stream",
     "text": [
      "bank sbi\n",
      "city bangalore\n"
     ]
    }
   ],
   "source": [
    "dc= {'bank':'sbi','city':'bangalore'}\n",
    "for k,v in dc.items():\n",
    "    print(k,v)\n",
    "    \n",
    "    "
   ]
  },
  {
   "cell_type": "code",
   "execution_count": 290,
   "id": "99622338",
   "metadata": {},
   "outputs": [
    {
     "name": "stdout",
     "output_type": "stream",
     "text": [
      "10\n",
      "does not match with request\n",
      "does not match with request\n"
     ]
    }
   ],
   "source": [
    "for a in [10,20,30]:\n",
    "    if a == 10:\n",
    "        print(a)\n",
    "        continue\n",
    "    else:\n",
    "        print('does not match with request')\n",
    "        "
   ]
  },
  {
   "cell_type": "code",
   "execution_count": 291,
   "id": "a712eb37",
   "metadata": {},
   "outputs": [
    {
     "ename": "SyntaxError",
     "evalue": "invalid syntax (1889853833.py, line 2)",
     "output_type": "error",
     "traceback": [
      "\u001b[1;36m  Cell \u001b[1;32mIn[291], line 2\u001b[1;36m\u001b[0m\n\u001b[1;33m    df mf12(r0,r1,d0=100,d1=200,)\u001b[0m\n\u001b[1;37m       ^\u001b[0m\n\u001b[1;31mSyntaxError\u001b[0m\u001b[1;31m:\u001b[0m invalid syntax\n"
     ]
    }
   ],
   "source": [
    "## function rules\n",
    "df mf12(r0,r1,d0=100,d1=200,)"
   ]
  },
  {
   "cell_type": "code",
   "execution_count": 292,
   "id": "3d67c84d",
   "metadata": {},
   "outputs": [],
   "source": [
    "# lambda function anonymous functions "
   ]
  },
  {
   "cell_type": "code",
   "execution_count": 295,
   "id": "5918dbd1",
   "metadata": {},
   "outputs": [
    {
     "data": {
      "text/plain": [
       "False"
      ]
     },
     "execution_count": 295,
     "metadata": {},
     "output_type": "execute_result"
    }
   ],
   "source": [
    "def ef(num):\n",
    "    return num%2==0\n",
    "ef(3)"
   ]
  },
  {
   "cell_type": "code",
   "execution_count": 298,
   "id": "92a9c1f3",
   "metadata": {},
   "outputs": [
    {
     "data": {
      "text/plain": [
       "False"
      ]
     },
     "execution_count": 298,
     "metadata": {},
     "output_type": "execute_result"
    }
   ],
   "source": [
    "iseven = lambda num :num%2==0\n",
    "iseven(3)"
   ]
  },
  {
   "cell_type": "code",
   "execution_count": 300,
   "id": "13a81f15",
   "metadata": {},
   "outputs": [
    {
     "data": {
      "text/plain": [
       "'odd'"
      ]
     },
     "execution_count": 300,
     "metadata": {},
     "output_type": "execute_result"
    }
   ],
   "source": [
    "evenodd = lambda num: 'even' if num/2==0 else 'odd'\n",
    "evenodd(3)"
   ]
  },
  {
   "cell_type": "code",
   "execution_count": 311,
   "id": "754fe872",
   "metadata": {},
   "outputs": [
    {
     "name": "stdout",
     "output_type": "stream",
     "text": [
      "outside function 100 200\n",
      "insiderfunction 100 200 99 222\n"
     ]
    }
   ],
   "source": [
    "## global name space area\n",
    "g1=100\n",
    "g2=200\n",
    "def mf99(v1):\n",
    "    v2=222\n",
    "    print('insiderfunction',g1,g2,v1,v2)\n",
    "print('outside function',g1,g2)\n",
    "mf99(99)"
   ]
  },
  {
   "cell_type": "code",
   "execution_count": 308,
   "id": "d6114945",
   "metadata": {},
   "outputs": [
    {
     "name": "stdout",
     "output_type": "stream",
     "text": [
      "outside function 100 200\n"
     ]
    }
   ],
   "source": [
    "g1 = 100\n",
    "g2 = 200\n",
    "def mf99(v1):\n",
    "    v2 = 222\n",
    "    print(\"insidefun\",g1,g2,v1,v2)\n",
    "print('outside function',g1,g2)"
   ]
  },
  {
   "cell_type": "code",
   "execution_count": 313,
   "id": "9e9abc34",
   "metadata": {},
   "outputs": [
    {
     "data": {
      "text/plain": [
       "120"
      ]
     },
     "execution_count": 313,
     "metadata": {},
     "output_type": "execute_result"
    }
   ],
   "source": [
    "# recursion method of solving problem \n",
    "\n",
    "def factorial(n):\n",
    "    if n ==0:\n",
    "        return 1\n",
    "    return n*factorial(n-1)\n",
    "factorial(5)"
   ]
  },
  {
   "cell_type": "code",
   "execution_count": 315,
   "id": "dbb39a13",
   "metadata": {},
   "outputs": [
    {
     "data": {
      "text/plain": [
       "[1, 4, 9, 16, 25]"
      ]
     },
     "execution_count": 315,
     "metadata": {},
     "output_type": "execute_result"
    }
   ],
   "source": [
    "# list comparision \n",
    "mylist1=[1,2,3,4,5]\n",
    "newlist=[]\n",
    "for num in mylist1:\n",
    "    newlist.append(num**2)\n",
    "newlist"
   ]
  },
  {
   "cell_type": "code",
   "execution_count": 318,
   "id": "13097fe6",
   "metadata": {},
   "outputs": [
    {
     "data": {
      "text/plain": [
       "[('u1', 'v1'),\n",
       " ('u1', 'v2'),\n",
       " ('u1', 'v3'),\n",
       " ('u2', 'v1'),\n",
       " ('u2', 'v2'),\n",
       " ('u2', 'v3'),\n",
       " ('u3', 'v1'),\n",
       " ('u3', 'v2'),\n",
       " ('u3', 'v3')]"
      ]
     },
     "execution_count": 318,
     "metadata": {},
     "output_type": "execute_result"
    }
   ],
   "source": [
    "ulist=['u1','u2','u3']\n",
    "vlist=['v1','v2','v3']\n",
    "uplist=[]\n",
    "for u in ulist:\n",
    "    for p in vlist:\n",
    "        uplist.append((u,p))\n",
    "uplist"
   ]
  },
  {
   "cell_type": "code",
   "execution_count": 321,
   "id": "db463502",
   "metadata": {},
   "outputs": [
    {
     "data": {
      "text/plain": [
       "[1, 27, 16, 125, 36, 343]"
      ]
     },
     "execution_count": 321,
     "metadata": {},
     "output_type": "execute_result"
    }
   ],
   "source": [
    "mylist20=[1,3,4,5,6,7]\n",
    "eventlist=[num**2 if num%2==0 else num**3 for num in mylist20]\n",
    "eventlist"
   ]
  },
  {
   "cell_type": "code",
   "execution_count": 323,
   "id": "228e061b",
   "metadata": {},
   "outputs": [
    {
     "data": {
      "text/plain": [
       "[(10, 100),\n",
       " (11, 121),\n",
       " (12, 1728),\n",
       " (13, 169),\n",
       " (14, 196),\n",
       " (15, 3375),\n",
       " (16, 256),\n",
       " (17, 289),\n",
       " (18, 5832),\n",
       " (19, 361),\n",
       " (20, 400),\n",
       " (21, 9261),\n",
       " (22, 484),\n",
       " (23, 529),\n",
       " (24, 13824),\n",
       " (25, 625),\n",
       " (26, 676),\n",
       " (27, 19683),\n",
       " (28, 784),\n",
       " (29, 841),\n",
       " (30, 27000),\n",
       " (31, 961),\n",
       " (32, 1024),\n",
       " (33, 35937),\n",
       " (34, 1156),\n",
       " (35, 1225),\n",
       " (36, 46656),\n",
       " (37, 1369),\n",
       " (38, 1444),\n",
       " (39, 59319)]"
      ]
     },
     "execution_count": 323,
     "metadata": {},
     "output_type": "execute_result"
    }
   ],
   "source": [
    "plist=[]\n",
    "for num in range(10,40):\n",
    "    if num%3==0:\n",
    "        plist.append((num,num**3))\n",
    "    else:\n",
    "        plist.append((num,num**2))\n",
    "plist"
   ]
  },
  {
   "cell_type": "code",
   "execution_count": 326,
   "id": "b63c318a",
   "metadata": {},
   "outputs": [
    {
     "data": {
      "text/plain": [
       "[(1, 1), (2, 4), (3, 9), (4, 16), (5, 25), (6, 36)]"
      ]
     },
     "execution_count": 326,
     "metadata": {},
     "output_type": "execute_result"
    }
   ],
   "source": [
    "list=[1,2,3,4,5,6]\n",
    "plist=[(num,num**2) for num in list]\n",
    "plist"
   ]
  },
  {
   "cell_type": "code",
   "execution_count": 332,
   "id": "92433955",
   "metadata": {},
   "outputs": [],
   "source": [
    "import pandas as pd\n",
    "import numpy as np\n",
    "mylist1=[100,200,300,400]\n",
    "ps1=pd.Series(mylist1)\n"
   ]
  },
  {
   "cell_type": "code",
   "execution_count": 337,
   "id": "59eba0ad",
   "metadata": {},
   "outputs": [
    {
     "data": {
      "text/plain": [
       "100"
      ]
     },
     "execution_count": 337,
     "metadata": {},
     "output_type": "execute_result"
    }
   ],
   "source": [
    "mylist1=[100,200,300,400,500,600]\n",
    "index_list=['tata','hcl','infy','wipro','vmware','microsoft']\n",
    "pds=pd.Series(mylist1,index=index_list)\n",
    "pds\n",
    "pds['tata']"
   ]
  },
  {
   "cell_type": "code",
   "execution_count": 340,
   "id": "b54fcec6",
   "metadata": {},
   "outputs": [
    {
     "data": {
      "text/plain": [
       "array([100, 200, 300, 400, 500, 600], dtype=int64)"
      ]
     },
     "execution_count": 340,
     "metadata": {},
     "output_type": "execute_result"
    }
   ],
   "source": [
    "pds.shape\n",
    "pds.values"
   ]
  },
  {
   "cell_type": "code",
   "execution_count": 343,
   "id": "e36595ba",
   "metadata": {},
   "outputs": [
    {
     "data": {
      "text/plain": [
       "tcs      100\n",
       "wipro    200\n",
       "infy     300\n",
       "hcl      400\n",
       "dtype: int64"
      ]
     },
     "execution_count": 343,
     "metadata": {},
     "output_type": "execute_result"
    }
   ],
   "source": [
    "# user disctionary to create a series\n",
    "dict1={'tcs':100,'wipro':200,'infy':300,'hcl':400}\n",
    "pd2=pd.Series(dict1)\n",
    "pd2"
   ]
  },
  {
   "cell_type": "code",
   "execution_count": 345,
   "id": "f5c63ce5",
   "metadata": {},
   "outputs": [
    {
     "data": {
      "text/plain": [
       "wipro    200\n",
       "infy     300\n",
       "hcl      400\n",
       "dtype: int64"
      ]
     },
     "execution_count": 345,
     "metadata": {},
     "output_type": "execute_result"
    }
   ],
   "source": [
    "pd2[1:4]\n"
   ]
  },
  {
   "cell_type": "code",
   "execution_count": 347,
   "id": "8f1877ba",
   "metadata": {},
   "outputs": [
    {
     "data": {
      "text/plain": [
       "tcs      100\n",
       "wipro    200\n",
       "infy     300\n",
       "hcl      400\n",
       "dtype: int64"
      ]
     },
     "execution_count": 347,
     "metadata": {},
     "output_type": "execute_result"
    }
   ],
   "source": [
    "pd2['tcs':'hcl']"
   ]
  },
  {
   "cell_type": "code",
   "execution_count": 350,
   "id": "73ac9c24",
   "metadata": {},
   "outputs": [
    {
     "data": {
      "text/plain": [
       "wipro    200\n",
       "dtype: int64"
      ]
     },
     "execution_count": 350,
     "metadata": {},
     "output_type": "execute_result"
    }
   ],
   "source": [
    "pd2[1:2:3]"
   ]
  },
  {
   "cell_type": "code",
   "execution_count": null,
   "id": "3999e57b",
   "metadata": {},
   "outputs": [],
   "source": []
  },
  {
   "cell_type": "code",
   "execution_count": 354,
   "id": "0117b305",
   "metadata": {
    "scrolled": true
   },
   "outputs": [
    {
     "data": {
      "text/plain": [
       "tcs      False\n",
       "wipro    False\n",
       "infy     False\n",
       "hcl       True\n",
       "dtype: bool"
      ]
     },
     "execution_count": 354,
     "metadata": {},
     "output_type": "execute_result"
    }
   ],
   "source": [
    "mask1= pd2 > 300\n",
    "mask1"
   ]
  },
  {
   "cell_type": "code",
   "execution_count": 366,
   "id": "3f56df60",
   "metadata": {},
   "outputs": [
    {
     "data": {
      "text/html": [
       "<div>\n",
       "<style scoped>\n",
       "    .dataframe tbody tr th:only-of-type {\n",
       "        vertical-align: middle;\n",
       "    }\n",
       "\n",
       "    .dataframe tbody tr th {\n",
       "        vertical-align: top;\n",
       "    }\n",
       "\n",
       "    .dataframe thead th {\n",
       "        text-align: right;\n",
       "    }\n",
       "</style>\n",
       "<table border=\"1\" class=\"dataframe\">\n",
       "  <thead>\n",
       "    <tr style=\"text-align: right;\">\n",
       "      <th></th>\n",
       "      <th>REV</th>\n",
       "      <th>EXP</th>\n",
       "      <th>HQ</th>\n",
       "    </tr>\n",
       "  </thead>\n",
       "  <tbody>\n",
       "    <tr>\n",
       "      <th>tata</th>\n",
       "      <td>200</td>\n",
       "      <td>10</td>\n",
       "      <td>del</td>\n",
       "    </tr>\n",
       "    <tr>\n",
       "      <th>hcl</th>\n",
       "      <td>300</td>\n",
       "      <td>30</td>\n",
       "      <td>mum</td>\n",
       "    </tr>\n",
       "    <tr>\n",
       "      <th>infy</th>\n",
       "      <td>500</td>\n",
       "      <td>40</td>\n",
       "      <td>blr</td>\n",
       "    </tr>\n",
       "  </tbody>\n",
       "</table>\n",
       "</div>"
      ],
      "text/plain": [
       "      REV  EXP   HQ\n",
       "tata  200   10  del\n",
       "hcl   300   30  mum\n",
       "infy  500   40  blr"
      ]
     },
     "execution_count": 366,
     "metadata": {},
     "output_type": "execute_result"
    }
   ],
   "source": [
    "## pandas \n",
    "mylist53 = [\n",
    "    [200,10,'del'],\n",
    "    [300,30,'mum'],\n",
    "    [500,40,'blr']\n",
    "]\n",
    "index_list=['tata','hcl','infy']\n",
    "col_list=['REV','EXP','HQ']\n",
    "df1=pd.DataFrame(mylist53,index=index_list,columns=col_list)\n",
    "df1"
   ]
  },
  {
   "cell_type": "code",
   "execution_count": 377,
   "id": "006d9102",
   "metadata": {},
   "outputs": [
    {
     "data": {
      "text/html": [
       "<div>\n",
       "<style scoped>\n",
       "    .dataframe tbody tr th:only-of-type {\n",
       "        vertical-align: middle;\n",
       "    }\n",
       "\n",
       "    .dataframe tbody tr th {\n",
       "        vertical-align: top;\n",
       "    }\n",
       "\n",
       "    .dataframe thead th {\n",
       "        text-align: right;\n",
       "    }\n",
       "</style>\n",
       "<table border=\"1\" class=\"dataframe\">\n",
       "  <thead>\n",
       "    <tr style=\"text-align: right;\">\n",
       "      <th></th>\n",
       "      <th>Vol</th>\n",
       "      <th>Rev</th>\n",
       "      <th>Exp</th>\n",
       "      <th>Sector</th>\n",
       "      <th>EmpCnt</th>\n",
       "      <th>HQ</th>\n",
       "      <th>MNC</th>\n",
       "      <th>StockID</th>\n",
       "      <th>GST</th>\n",
       "      <th>Started</th>\n",
       "    </tr>\n",
       "  </thead>\n",
       "  <tbody>\n",
       "    <tr>\n",
       "      <th>Deccan_Sporting</th>\n",
       "      <td>931</td>\n",
       "      <td>839.80</td>\n",
       "      <td>615</td>\n",
       "      <td>Pvt</td>\n",
       "      <td>154</td>\n",
       "      <td>Hyd</td>\n",
       "      <td>1</td>\n",
       "      <td>SPRT</td>\n",
       "      <td>Services</td>\n",
       "      <td>Mar 1943</td>\n",
       "    </tr>\n",
       "    <tr>\n",
       "      <th>Kolkata_FMCG</th>\n",
       "      <td>925</td>\n",
       "      <td>874.40</td>\n",
       "      <td>676</td>\n",
       "      <td>Pub</td>\n",
       "      <td>1379</td>\n",
       "      <td>Kol</td>\n",
       "      <td>0</td>\n",
       "      <td>KFMC</td>\n",
       "      <td>Goods</td>\n",
       "      <td>Jan 1920</td>\n",
       "    </tr>\n",
       "    <tr>\n",
       "      <th>NCR_Leagles</th>\n",
       "      <td>931</td>\n",
       "      <td>863.50</td>\n",
       "      <td>605</td>\n",
       "      <td>Pub</td>\n",
       "      <td>1935</td>\n",
       "      <td>NCR</td>\n",
       "      <td>0</td>\n",
       "      <td>NCRL</td>\n",
       "      <td>Services</td>\n",
       "      <td>Feb 1960</td>\n",
       "    </tr>\n",
       "    <tr>\n",
       "      <th>Bangalore_Systems</th>\n",
       "      <td>900</td>\n",
       "      <td>881.60</td>\n",
       "      <td>650</td>\n",
       "      <td>Gov</td>\n",
       "      <td>1361</td>\n",
       "      <td>Blr</td>\n",
       "      <td>0</td>\n",
       "      <td>BSYS</td>\n",
       "      <td>Services</td>\n",
       "      <td>Apr 1950</td>\n",
       "    </tr>\n",
       "    <tr>\n",
       "      <th>Chennai_Chemicals</th>\n",
       "      <td>966</td>\n",
       "      <td>863.20</td>\n",
       "      <td>608</td>\n",
       "      <td>Pub</td>\n",
       "      <td>1656</td>\n",
       "      <td>Che</td>\n",
       "      <td>1</td>\n",
       "      <td>CHEM</td>\n",
       "      <td>Goods</td>\n",
       "      <td>Aug 1928</td>\n",
       "    </tr>\n",
       "    <tr>\n",
       "      <th>Indi_Services</th>\n",
       "      <td>954</td>\n",
       "      <td>733.00</td>\n",
       "      <td>609</td>\n",
       "      <td>Gov</td>\n",
       "      <td>13023</td>\n",
       "      <td>NCR</td>\n",
       "      <td>0</td>\n",
       "      <td>INDI</td>\n",
       "      <td>Services</td>\n",
       "      <td>Mar 1920</td>\n",
       "    </tr>\n",
       "    <tr>\n",
       "      <th>Bangalore_Breweries</th>\n",
       "      <td>966</td>\n",
       "      <td>805.00</td>\n",
       "      <td>895</td>\n",
       "      <td>Pvt</td>\n",
       "      <td>119</td>\n",
       "      <td>Blr</td>\n",
       "      <td>1</td>\n",
       "      <td>BREW</td>\n",
       "      <td>Goods</td>\n",
       "      <td>Oct 1971</td>\n",
       "    </tr>\n",
       "    <tr>\n",
       "      <th>Bombay_Finance</th>\n",
       "      <td>899</td>\n",
       "      <td>917.00</td>\n",
       "      <td>674</td>\n",
       "      <td>Pub</td>\n",
       "      <td>1443</td>\n",
       "      <td>Mum</td>\n",
       "      <td>0</td>\n",
       "      <td>BFIN</td>\n",
       "      <td>Services</td>\n",
       "      <td>Apr 1925</td>\n",
       "    </tr>\n",
       "    <tr>\n",
       "      <th>Chennai_Shipping</th>\n",
       "      <td>992</td>\n",
       "      <td>821.00</td>\n",
       "      <td>665</td>\n",
       "      <td>Pub</td>\n",
       "      <td>1154</td>\n",
       "      <td>Che</td>\n",
       "      <td>1</td>\n",
       "      <td>SHIP</td>\n",
       "      <td>Goods</td>\n",
       "      <td>Nov 1930</td>\n",
       "    </tr>\n",
       "    <tr>\n",
       "      <th>Eastern_Estates</th>\n",
       "      <td>945</td>\n",
       "      <td>834.23</td>\n",
       "      <td>789</td>\n",
       "      <td>Pvt</td>\n",
       "      <td>1873</td>\n",
       "      <td>Kol</td>\n",
       "      <td>1</td>\n",
       "      <td>EEST</td>\n",
       "      <td>Goods</td>\n",
       "      <td>Jan 1994</td>\n",
       "    </tr>\n",
       "  </tbody>\n",
       "</table>\n",
       "</div>"
      ],
      "text/plain": [
       "                     Vol     Rev  Exp Sector  EmpCnt   HQ  MNC StockID  \\\n",
       "Deccan_Sporting      931  839.80  615    Pvt     154  Hyd    1    SPRT   \n",
       "Kolkata_FMCG         925  874.40  676    Pub    1379  Kol    0    KFMC   \n",
       "NCR_Leagles          931  863.50  605    Pub    1935  NCR    0    NCRL   \n",
       "Bangalore_Systems    900  881.60  650    Gov    1361  Blr    0    BSYS   \n",
       "Chennai_Chemicals    966  863.20  608    Pub    1656  Che    1    CHEM   \n",
       "Indi_Services        954  733.00  609    Gov   13023  NCR    0    INDI   \n",
       "Bangalore_Breweries  966  805.00  895    Pvt     119  Blr    1    BREW   \n",
       "Bombay_Finance       899  917.00  674    Pub    1443  Mum    0    BFIN   \n",
       "Chennai_Shipping     992  821.00  665    Pub    1154  Che    1    SHIP   \n",
       "Eastern_Estates      945  834.23  789    Pvt    1873  Kol    1    EEST   \n",
       "\n",
       "                          GST   Started  \n",
       "Deccan_Sporting      Services  Mar 1943  \n",
       "Kolkata_FMCG            Goods  Jan 1920  \n",
       "NCR_Leagles          Services  Feb 1960  \n",
       "Bangalore_Systems    Services  Apr 1950  \n",
       "Chennai_Chemicals       Goods  Aug 1928  \n",
       "Indi_Services        Services  Mar 1920  \n",
       "Bangalore_Breweries     Goods  Oct 1971  \n",
       "Bombay_Finance       Services  Apr 1925  \n",
       "Chennai_Shipping        Goods  Nov 1930  \n",
       "Eastern_Estates         Goods  Jan 1994  "
      ]
     },
     "execution_count": 377,
     "metadata": {},
     "output_type": "execute_result"
    }
   ],
   "source": [
    "df1=pd.read_csv('https://raw.githubusercontent.com/vcsgithub/vcsgithub.github.io/master/lds1.csv')\n",
    "df1\n",
    "df1.to_excel('abc.xlsx')\n",
    "\n",
    "df1.to_json('abc.json')\n",
    "\n",
    "\n",
    "\n",
    "df99=pd.read_json('abc.json')\n",
    "df99"
   ]
  },
  {
   "cell_type": "code",
   "execution_count": 381,
   "id": "ba9a05bc",
   "metadata": {},
   "outputs": [
    {
     "data": {
      "text/plain": [
       "Vol        0\n",
       "Rev        0\n",
       "Exp        0\n",
       "Sector     0\n",
       "EmpCnt     0\n",
       "HQ         0\n",
       "MNC        0\n",
       "StockID    0\n",
       "GST        0\n",
       "Started    0\n",
       "dtype: int64"
      ]
     },
     "execution_count": 381,
     "metadata": {},
     "output_type": "execute_result"
    }
   ],
   "source": [
    "df99.isna().sum()"
   ]
  },
  {
   "cell_type": "code",
   "execution_count": 384,
   "id": "922e40e5",
   "metadata": {},
   "outputs": [
    {
     "data": {
      "text/plain": [
       "0"
      ]
     },
     "execution_count": 384,
     "metadata": {},
     "output_type": "execute_result"
    }
   ],
   "source": [
    "df99.isna().sum().sum()"
   ]
  },
  {
   "cell_type": "code",
   "execution_count": 386,
   "id": "aecb3906",
   "metadata": {},
   "outputs": [
    {
     "name": "stdout",
     "output_type": "stream",
     "text": [
      "<class 'pandas.core.frame.DataFrame'>\n",
      "Index: 10 entries, Deccan_Sporting to Eastern_Estates\n",
      "Data columns (total 10 columns):\n",
      " #   Column   Non-Null Count  Dtype  \n",
      "---  ------   --------------  -----  \n",
      " 0   Vol      10 non-null     int64  \n",
      " 1   Rev      10 non-null     float64\n",
      " 2   Exp      10 non-null     int64  \n",
      " 3   Sector   10 non-null     object \n",
      " 4   EmpCnt   10 non-null     int64  \n",
      " 5   HQ       10 non-null     object \n",
      " 6   MNC      10 non-null     int64  \n",
      " 7   StockID  10 non-null     object \n",
      " 8   GST      10 non-null     object \n",
      " 9   Started  10 non-null     object \n",
      "dtypes: float64(1), int64(4), object(5)\n",
      "memory usage: 880.0+ bytes\n"
     ]
    }
   ],
   "source": [
    "df99.info()"
   ]
  },
  {
   "cell_type": "code",
   "execution_count": 390,
   "id": "9b50ddb2",
   "metadata": {},
   "outputs": [
    {
     "data": {
      "text/html": [
       "<div>\n",
       "<style scoped>\n",
       "    .dataframe tbody tr th:only-of-type {\n",
       "        vertical-align: middle;\n",
       "    }\n",
       "\n",
       "    .dataframe tbody tr th {\n",
       "        vertical-align: top;\n",
       "    }\n",
       "\n",
       "    .dataframe thead th {\n",
       "        text-align: right;\n",
       "    }\n",
       "</style>\n",
       "<table border=\"1\" class=\"dataframe\">\n",
       "  <thead>\n",
       "    <tr style=\"text-align: right;\">\n",
       "      <th></th>\n",
       "      <th>Vol</th>\n",
       "      <th>Rev</th>\n",
       "      <th>Exp</th>\n",
       "      <th>Sector</th>\n",
       "      <th>EmpCnt</th>\n",
       "      <th>HQ</th>\n",
       "      <th>MNC</th>\n",
       "      <th>StockID</th>\n",
       "      <th>GST</th>\n",
       "      <th>Started</th>\n",
       "    </tr>\n",
       "  </thead>\n",
       "  <tbody>\n",
       "    <tr>\n",
       "      <th>count</th>\n",
       "      <td>10.000000</td>\n",
       "      <td>10.000000</td>\n",
       "      <td>10.000000</td>\n",
       "      <td>10</td>\n",
       "      <td>10.000000</td>\n",
       "      <td>10</td>\n",
       "      <td>10.000000</td>\n",
       "      <td>10</td>\n",
       "      <td>10</td>\n",
       "      <td>10</td>\n",
       "    </tr>\n",
       "    <tr>\n",
       "      <th>unique</th>\n",
       "      <td>NaN</td>\n",
       "      <td>NaN</td>\n",
       "      <td>NaN</td>\n",
       "      <td>3</td>\n",
       "      <td>NaN</td>\n",
       "      <td>6</td>\n",
       "      <td>NaN</td>\n",
       "      <td>10</td>\n",
       "      <td>2</td>\n",
       "      <td>10</td>\n",
       "    </tr>\n",
       "    <tr>\n",
       "      <th>top</th>\n",
       "      <td>NaN</td>\n",
       "      <td>NaN</td>\n",
       "      <td>NaN</td>\n",
       "      <td>Pub</td>\n",
       "      <td>NaN</td>\n",
       "      <td>Kol</td>\n",
       "      <td>NaN</td>\n",
       "      <td>SPRT</td>\n",
       "      <td>Services</td>\n",
       "      <td>Mar 1943</td>\n",
       "    </tr>\n",
       "    <tr>\n",
       "      <th>freq</th>\n",
       "      <td>NaN</td>\n",
       "      <td>NaN</td>\n",
       "      <td>NaN</td>\n",
       "      <td>5</td>\n",
       "      <td>NaN</td>\n",
       "      <td>2</td>\n",
       "      <td>NaN</td>\n",
       "      <td>1</td>\n",
       "      <td>5</td>\n",
       "      <td>1</td>\n",
       "    </tr>\n",
       "    <tr>\n",
       "      <th>mean</th>\n",
       "      <td>940.900000</td>\n",
       "      <td>843.273000</td>\n",
       "      <td>678.600000</td>\n",
       "      <td>NaN</td>\n",
       "      <td>2409.700000</td>\n",
       "      <td>NaN</td>\n",
       "      <td>0.500000</td>\n",
       "      <td>NaN</td>\n",
       "      <td>NaN</td>\n",
       "      <td>NaN</td>\n",
       "    </tr>\n",
       "    <tr>\n",
       "      <th>std</th>\n",
       "      <td>29.696427</td>\n",
       "      <td>50.436558</td>\n",
       "      <td>93.890243</td>\n",
       "      <td>NaN</td>\n",
       "      <td>3782.011254</td>\n",
       "      <td>NaN</td>\n",
       "      <td>0.527046</td>\n",
       "      <td>NaN</td>\n",
       "      <td>NaN</td>\n",
       "      <td>NaN</td>\n",
       "    </tr>\n",
       "    <tr>\n",
       "      <th>min</th>\n",
       "      <td>899.000000</td>\n",
       "      <td>733.000000</td>\n",
       "      <td>605.000000</td>\n",
       "      <td>NaN</td>\n",
       "      <td>119.000000</td>\n",
       "      <td>NaN</td>\n",
       "      <td>0.000000</td>\n",
       "      <td>NaN</td>\n",
       "      <td>NaN</td>\n",
       "      <td>NaN</td>\n",
       "    </tr>\n",
       "    <tr>\n",
       "      <th>25%</th>\n",
       "      <td>926.500000</td>\n",
       "      <td>824.307500</td>\n",
       "      <td>610.500000</td>\n",
       "      <td>NaN</td>\n",
       "      <td>1205.750000</td>\n",
       "      <td>NaN</td>\n",
       "      <td>0.000000</td>\n",
       "      <td>NaN</td>\n",
       "      <td>NaN</td>\n",
       "      <td>NaN</td>\n",
       "    </tr>\n",
       "    <tr>\n",
       "      <th>50%</th>\n",
       "      <td>938.000000</td>\n",
       "      <td>851.500000</td>\n",
       "      <td>657.500000</td>\n",
       "      <td>NaN</td>\n",
       "      <td>1411.000000</td>\n",
       "      <td>NaN</td>\n",
       "      <td>0.500000</td>\n",
       "      <td>NaN</td>\n",
       "      <td>NaN</td>\n",
       "      <td>NaN</td>\n",
       "    </tr>\n",
       "    <tr>\n",
       "      <th>75%</th>\n",
       "      <td>963.000000</td>\n",
       "      <td>871.675000</td>\n",
       "      <td>675.500000</td>\n",
       "      <td>NaN</td>\n",
       "      <td>1818.750000</td>\n",
       "      <td>NaN</td>\n",
       "      <td>1.000000</td>\n",
       "      <td>NaN</td>\n",
       "      <td>NaN</td>\n",
       "      <td>NaN</td>\n",
       "    </tr>\n",
       "    <tr>\n",
       "      <th>max</th>\n",
       "      <td>992.000000</td>\n",
       "      <td>917.000000</td>\n",
       "      <td>895.000000</td>\n",
       "      <td>NaN</td>\n",
       "      <td>13023.000000</td>\n",
       "      <td>NaN</td>\n",
       "      <td>1.000000</td>\n",
       "      <td>NaN</td>\n",
       "      <td>NaN</td>\n",
       "      <td>NaN</td>\n",
       "    </tr>\n",
       "  </tbody>\n",
       "</table>\n",
       "</div>"
      ],
      "text/plain": [
       "               Vol         Rev         Exp Sector        EmpCnt   HQ  \\\n",
       "count    10.000000   10.000000   10.000000     10     10.000000   10   \n",
       "unique         NaN         NaN         NaN      3           NaN    6   \n",
       "top            NaN         NaN         NaN    Pub           NaN  Kol   \n",
       "freq           NaN         NaN         NaN      5           NaN    2   \n",
       "mean    940.900000  843.273000  678.600000    NaN   2409.700000  NaN   \n",
       "std      29.696427   50.436558   93.890243    NaN   3782.011254  NaN   \n",
       "min     899.000000  733.000000  605.000000    NaN    119.000000  NaN   \n",
       "25%     926.500000  824.307500  610.500000    NaN   1205.750000  NaN   \n",
       "50%     938.000000  851.500000  657.500000    NaN   1411.000000  NaN   \n",
       "75%     963.000000  871.675000  675.500000    NaN   1818.750000  NaN   \n",
       "max     992.000000  917.000000  895.000000    NaN  13023.000000  NaN   \n",
       "\n",
       "              MNC StockID       GST   Started  \n",
       "count   10.000000      10        10        10  \n",
       "unique        NaN      10         2        10  \n",
       "top           NaN    SPRT  Services  Mar 1943  \n",
       "freq          NaN       1         5         1  \n",
       "mean     0.500000     NaN       NaN       NaN  \n",
       "std      0.527046     NaN       NaN       NaN  \n",
       "min      0.000000     NaN       NaN       NaN  \n",
       "25%      0.000000     NaN       NaN       NaN  \n",
       "50%      0.500000     NaN       NaN       NaN  \n",
       "75%      1.000000     NaN       NaN       NaN  \n",
       "max      1.000000     NaN       NaN       NaN  "
      ]
     },
     "execution_count": 390,
     "metadata": {},
     "output_type": "execute_result"
    }
   ],
   "source": [
    "df99.describe(include='all')"
   ]
  },
  {
   "cell_type": "code",
   "execution_count": 392,
   "id": "6d11347d",
   "metadata": {},
   "outputs": [
    {
     "data": {
      "text/html": [
       "<div>\n",
       "<style scoped>\n",
       "    .dataframe tbody tr th:only-of-type {\n",
       "        vertical-align: middle;\n",
       "    }\n",
       "\n",
       "    .dataframe tbody tr th {\n",
       "        vertical-align: top;\n",
       "    }\n",
       "\n",
       "    .dataframe thead th {\n",
       "        text-align: right;\n",
       "    }\n",
       "</style>\n",
       "<table border=\"1\" class=\"dataframe\">\n",
       "  <thead>\n",
       "    <tr style=\"text-align: right;\">\n",
       "      <th></th>\n",
       "      <th>Sector</th>\n",
       "      <th>HQ</th>\n",
       "      <th>StockID</th>\n",
       "      <th>GST</th>\n",
       "      <th>Started</th>\n",
       "    </tr>\n",
       "  </thead>\n",
       "  <tbody>\n",
       "    <tr>\n",
       "      <th>count</th>\n",
       "      <td>10</td>\n",
       "      <td>10</td>\n",
       "      <td>10</td>\n",
       "      <td>10</td>\n",
       "      <td>10</td>\n",
       "    </tr>\n",
       "    <tr>\n",
       "      <th>unique</th>\n",
       "      <td>3</td>\n",
       "      <td>6</td>\n",
       "      <td>10</td>\n",
       "      <td>2</td>\n",
       "      <td>10</td>\n",
       "    </tr>\n",
       "    <tr>\n",
       "      <th>top</th>\n",
       "      <td>Pub</td>\n",
       "      <td>Kol</td>\n",
       "      <td>SPRT</td>\n",
       "      <td>Services</td>\n",
       "      <td>Mar 1943</td>\n",
       "    </tr>\n",
       "    <tr>\n",
       "      <th>freq</th>\n",
       "      <td>5</td>\n",
       "      <td>2</td>\n",
       "      <td>1</td>\n",
       "      <td>5</td>\n",
       "      <td>1</td>\n",
       "    </tr>\n",
       "  </tbody>\n",
       "</table>\n",
       "</div>"
      ],
      "text/plain": [
       "       Sector   HQ StockID       GST   Started\n",
       "count      10   10      10        10        10\n",
       "unique      3    6      10         2        10\n",
       "top       Pub  Kol    SPRT  Services  Mar 1943\n",
       "freq        5    2       1         5         1"
      ]
     },
     "execution_count": 392,
     "metadata": {},
     "output_type": "execute_result"
    }
   ],
   "source": [
    "df99.describe(include='object')"
   ]
  },
  {
   "cell_type": "code",
   "execution_count": 395,
   "id": "7aff0f81",
   "metadata": {},
   "outputs": [
    {
     "data": {
      "text/plain": [
       "Deccan_Sporting        Mar 1943\n",
       "Kolkata_FMCG           Jan 1920\n",
       "NCR_Leagles            Feb 1960\n",
       "Bangalore_Systems      Apr 1950\n",
       "Chennai_Chemicals      Aug 1928\n",
       "Indi_Services          Mar 1920\n",
       "Bangalore_Breweries    Oct 1971\n",
       "Bombay_Finance         Apr 1925\n",
       "Chennai_Shipping       Nov 1930\n",
       "Eastern_Estates        Jan 1994\n",
       "Name: Started, dtype: object"
      ]
     },
     "execution_count": 395,
     "metadata": {},
     "output_type": "execute_result"
    }
   ],
   "source": [
    "df99['Started']"
   ]
  },
  {
   "cell_type": "code",
   "execution_count": 402,
   "id": "39d6fce0",
   "metadata": {},
   "outputs": [
    {
     "data": {
      "text/plain": [
       "851.5"
      ]
     },
     "execution_count": 402,
     "metadata": {},
     "output_type": "execute_result"
    }
   ],
   "source": [
    "df99['Rev'].median()"
   ]
  },
  {
   "cell_type": "code",
   "execution_count": 413,
   "id": "64d4c3a0",
   "metadata": {},
   "outputs": [
    {
     "data": {
      "text/html": [
       "<div>\n",
       "<style scoped>\n",
       "    .dataframe tbody tr th:only-of-type {\n",
       "        vertical-align: middle;\n",
       "    }\n",
       "\n",
       "    .dataframe tbody tr th {\n",
       "        vertical-align: top;\n",
       "    }\n",
       "\n",
       "    .dataframe thead th {\n",
       "        text-align: right;\n",
       "    }\n",
       "</style>\n",
       "<table border=\"1\" class=\"dataframe\">\n",
       "  <thead>\n",
       "    <tr style=\"text-align: right;\">\n",
       "      <th></th>\n",
       "      <th>Vol</th>\n",
       "      <th>Rev</th>\n",
       "      <th>Exp</th>\n",
       "      <th>Sector</th>\n",
       "      <th>EmpCnt</th>\n",
       "      <th>HQ</th>\n",
       "      <th>MNC</th>\n",
       "      <th>StockID</th>\n",
       "      <th>GST</th>\n",
       "      <th>Started</th>\n",
       "    </tr>\n",
       "  </thead>\n",
       "  <tbody>\n",
       "    <tr>\n",
       "      <th>Deccan_Sporting</th>\n",
       "      <td>931</td>\n",
       "      <td>839.8</td>\n",
       "      <td>615</td>\n",
       "      <td>Pvt</td>\n",
       "      <td>154</td>\n",
       "      <td>Hyd</td>\n",
       "      <td>1</td>\n",
       "      <td>SPRT</td>\n",
       "      <td>Services</td>\n",
       "      <td>Mar 1943</td>\n",
       "    </tr>\n",
       "    <tr>\n",
       "      <th>Bangalore_Systems</th>\n",
       "      <td>900</td>\n",
       "      <td>881.6</td>\n",
       "      <td>650</td>\n",
       "      <td>Gov</td>\n",
       "      <td>1361</td>\n",
       "      <td>Blr</td>\n",
       "      <td>0</td>\n",
       "      <td>BSYS</td>\n",
       "      <td>Services</td>\n",
       "      <td>Apr 1950</td>\n",
       "    </tr>\n",
       "    <tr>\n",
       "      <th>Bangalore_Breweries</th>\n",
       "      <td>966</td>\n",
       "      <td>805.0</td>\n",
       "      <td>895</td>\n",
       "      <td>Pvt</td>\n",
       "      <td>119</td>\n",
       "      <td>Blr</td>\n",
       "      <td>1</td>\n",
       "      <td>BREW</td>\n",
       "      <td>Goods</td>\n",
       "      <td>Oct 1971</td>\n",
       "    </tr>\n",
       "  </tbody>\n",
       "</table>\n",
       "</div>"
      ],
      "text/plain": [
       "                     Vol    Rev  Exp Sector  EmpCnt   HQ  MNC StockID  \\\n",
       "Deccan_Sporting      931  839.8  615    Pvt     154  Hyd    1    SPRT   \n",
       "Bangalore_Systems    900  881.6  650    Gov    1361  Blr    0    BSYS   \n",
       "Bangalore_Breweries  966  805.0  895    Pvt     119  Blr    1    BREW   \n",
       "\n",
       "                          GST   Started  \n",
       "Deccan_Sporting      Services  Mar 1943  \n",
       "Bangalore_Systems    Services  Apr 1950  \n",
       "Bangalore_Breweries     Goods  Oct 1971  "
      ]
     },
     "execution_count": 413,
     "metadata": {},
     "output_type": "execute_result"
    }
   ],
   "source": [
    "df99=df1\n",
    "df1['Deccan_Sporting':'Bombay_Finance':3]"
   ]
  },
  {
   "cell_type": "code",
   "execution_count": 433,
   "id": "9f69ad80",
   "metadata": {},
   "outputs": [
    {
     "data": {
      "text/html": [
       "<div>\n",
       "<style scoped>\n",
       "    .dataframe tbody tr th:only-of-type {\n",
       "        vertical-align: middle;\n",
       "    }\n",
       "\n",
       "    .dataframe tbody tr th {\n",
       "        vertical-align: top;\n",
       "    }\n",
       "\n",
       "    .dataframe thead th {\n",
       "        text-align: right;\n",
       "    }\n",
       "</style>\n",
       "<table border=\"1\" class=\"dataframe\">\n",
       "  <thead>\n",
       "    <tr style=\"text-align: right;\">\n",
       "      <th></th>\n",
       "      <th>Vol</th>\n",
       "      <th>Exp</th>\n",
       "      <th>Started</th>\n",
       "      <th>GST</th>\n",
       "    </tr>\n",
       "  </thead>\n",
       "  <tbody>\n",
       "    <tr>\n",
       "      <th>Deccan_Sporting</th>\n",
       "      <td>931</td>\n",
       "      <td>615</td>\n",
       "      <td>Mar 1943</td>\n",
       "      <td>Services</td>\n",
       "    </tr>\n",
       "    <tr>\n",
       "      <th>NCR_Leagles</th>\n",
       "      <td>931</td>\n",
       "      <td>605</td>\n",
       "      <td>Feb 1960</td>\n",
       "      <td>Services</td>\n",
       "    </tr>\n",
       "    <tr>\n",
       "      <th>Eastern_Estates</th>\n",
       "      <td>945</td>\n",
       "      <td>789</td>\n",
       "      <td>Jan 1994</td>\n",
       "      <td>Goods</td>\n",
       "    </tr>\n",
       "    <tr>\n",
       "      <th>Chennai_Shipping</th>\n",
       "      <td>992</td>\n",
       "      <td>665</td>\n",
       "      <td>Nov 1930</td>\n",
       "      <td>Goods</td>\n",
       "    </tr>\n",
       "  </tbody>\n",
       "</table>\n",
       "</div>"
      ],
      "text/plain": [
       "                  Vol  Exp   Started       GST\n",
       "Deccan_Sporting   931  615  Mar 1943  Services\n",
       "NCR_Leagles       931  605  Feb 1960  Services\n",
       "Eastern_Estates   945  789  Jan 1994     Goods\n",
       "Chennai_Shipping  992  665  Nov 1930     Goods"
      ]
     },
     "execution_count": 433,
     "metadata": {},
     "output_type": "execute_result"
    }
   ],
   "source": [
    "df1.iloc[[0,2,-1,-2],[0,2,-1,-2]]"
   ]
  },
  {
   "cell_type": "code",
   "execution_count": 425,
   "id": "fbe20ee4",
   "metadata": {},
   "outputs": [
    {
     "name": "stdout",
     "output_type": "stream",
     "text": [
      "Original DataFrame:\n",
      "       Weight    Name  Age\n",
      "Row_1      45     Sam   14\n",
      "Row_2      88  Andrea   25\n",
      "Row_3      56    Alex   55\n",
      "Row_4      15   Robin    8\n",
      "Row_5      71     Kia   21\n"
     ]
    }
   ],
   "source": [
    "# Creating the DataFrame\n",
    "df = pd.DataFrame({'Weight': [45, 88, 56, 15, 71],\n",
    "                   'Name': ['Sam', 'Andrea', 'Alex', 'Robin', 'Kia'],\n",
    "                   'Age': [14, 25, 55, 8, 21]})\n",
    " \n",
    "# Create the index\n",
    "index_ = ['Row_1', 'Row_2', 'Row_3', 'Row_4', 'Row_5']\n",
    " \n",
    "# Set the index\n",
    "df.index = index_\n",
    " \n",
    "# Print the DataFrame\n",
    "print(\"Original DataFrame:\")\n",
    "print(df)"
   ]
  },
  {
   "cell_type": "code",
   "execution_count": 434,
   "id": "d814f6ca",
   "metadata": {},
   "outputs": [
    {
     "data": {
      "text/html": [
       "<div>\n",
       "<style scoped>\n",
       "    .dataframe tbody tr th:only-of-type {\n",
       "        vertical-align: middle;\n",
       "    }\n",
       "\n",
       "    .dataframe tbody tr th {\n",
       "        vertical-align: top;\n",
       "    }\n",
       "\n",
       "    .dataframe thead th {\n",
       "        text-align: right;\n",
       "    }\n",
       "</style>\n",
       "<table border=\"1\" class=\"dataframe\">\n",
       "  <thead>\n",
       "    <tr style=\"text-align: right;\">\n",
       "      <th></th>\n",
       "      <th>HQ</th>\n",
       "      <th>StockID</th>\n",
       "    </tr>\n",
       "  </thead>\n",
       "  <tbody>\n",
       "    <tr>\n",
       "      <th>Indi_Services</th>\n",
       "      <td>NCR</td>\n",
       "      <td>INDI</td>\n",
       "    </tr>\n",
       "    <tr>\n",
       "      <th>Bombay_Finance</th>\n",
       "      <td>Mum</td>\n",
       "      <td>BFIN</td>\n",
       "    </tr>\n",
       "  </tbody>\n",
       "</table>\n",
       "</div>"
      ],
      "text/plain": [
       "                 HQ StockID\n",
       "Indi_Services   NCR    INDI\n",
       "Bombay_Finance  Mum    BFIN"
      ]
     },
     "execution_count": 434,
     "metadata": {},
     "output_type": "execute_result"
    }
   ],
   "source": [
    "df1.iloc[-5:-1:2,-5:-1:2]\n",
    "\n"
   ]
  },
  {
   "cell_type": "code",
   "execution_count": 435,
   "id": "21bca232",
   "metadata": {},
   "outputs": [],
   "source": [
    "## conditional access dataframes"
   ]
  },
  {
   "cell_type": "code",
   "execution_count": 439,
   "id": "7f62413a",
   "metadata": {},
   "outputs": [
    {
     "data": {
      "text/html": [
       "<div>\n",
       "<style scoped>\n",
       "    .dataframe tbody tr th:only-of-type {\n",
       "        vertical-align: middle;\n",
       "    }\n",
       "\n",
       "    .dataframe tbody tr th {\n",
       "        vertical-align: top;\n",
       "    }\n",
       "\n",
       "    .dataframe thead th {\n",
       "        text-align: right;\n",
       "    }\n",
       "</style>\n",
       "<table border=\"1\" class=\"dataframe\">\n",
       "  <thead>\n",
       "    <tr style=\"text-align: right;\">\n",
       "      <th></th>\n",
       "      <th>Vol</th>\n",
       "      <th>Rev</th>\n",
       "      <th>Exp</th>\n",
       "      <th>Sector</th>\n",
       "      <th>EmpCnt</th>\n",
       "      <th>HQ</th>\n",
       "      <th>MNC</th>\n",
       "      <th>StockID</th>\n",
       "      <th>GST</th>\n",
       "      <th>Started</th>\n",
       "    </tr>\n",
       "  </thead>\n",
       "  <tbody>\n",
       "    <tr>\n",
       "      <th>Bombay_Finance</th>\n",
       "      <td>899</td>\n",
       "      <td>917.0</td>\n",
       "      <td>674</td>\n",
       "      <td>Pub</td>\n",
       "      <td>1443</td>\n",
       "      <td>Mum</td>\n",
       "      <td>0</td>\n",
       "      <td>BFIN</td>\n",
       "      <td>Services</td>\n",
       "      <td>Apr 1925</td>\n",
       "    </tr>\n",
       "  </tbody>\n",
       "</table>\n",
       "</div>"
      ],
      "text/plain": [
       "                Vol    Rev  Exp Sector  EmpCnt   HQ  MNC StockID       GST  \\\n",
       "Bombay_Finance  899  917.0  674    Pub    1443  Mum    0    BFIN  Services   \n",
       "\n",
       "                 Started  \n",
       "Bombay_Finance  Apr 1925  "
      ]
     },
     "execution_count": 439,
     "metadata": {},
     "output_type": "execute_result"
    }
   ],
   "source": [
    "df1[(df1['GST']=='Services') & (df1['HQ']=='Mum')]"
   ]
  },
  {
   "cell_type": "code",
   "execution_count": 444,
   "id": "4710ffdd",
   "metadata": {},
   "outputs": [
    {
     "data": {
      "text/plain": [
       "Vol        5\n",
       "Rev        5\n",
       "Exp        5\n",
       "Sector     5\n",
       "EmpCnt     5\n",
       "HQ         5\n",
       "MNC        5\n",
       "StockID    5\n",
       "GST        5\n",
       "Started    5\n",
       "dtype: int64"
      ]
     },
     "execution_count": 444,
     "metadata": {},
     "output_type": "execute_result"
    }
   ],
   "source": [
    "df1[df1.Rev > df1.Rev.mean()].count()"
   ]
  },
  {
   "cell_type": "code",
   "execution_count": 447,
   "id": "32044a4b",
   "metadata": {},
   "outputs": [
    {
     "data": {
      "text/html": [
       "<div>\n",
       "<style scoped>\n",
       "    .dataframe tbody tr th:only-of-type {\n",
       "        vertical-align: middle;\n",
       "    }\n",
       "\n",
       "    .dataframe tbody tr th {\n",
       "        vertical-align: top;\n",
       "    }\n",
       "\n",
       "    .dataframe thead th {\n",
       "        text-align: right;\n",
       "    }\n",
       "</style>\n",
       "<table border=\"1\" class=\"dataframe\">\n",
       "  <thead>\n",
       "    <tr style=\"text-align: right;\">\n",
       "      <th></th>\n",
       "      <th>EmpCnt</th>\n",
       "      <th>Exp</th>\n",
       "      <th>GST</th>\n",
       "      <th>HQ</th>\n",
       "      <th>MNC</th>\n",
       "      <th>Rev</th>\n",
       "      <th>Sector</th>\n",
       "      <th>Started</th>\n",
       "      <th>StockID</th>\n",
       "      <th>Vol</th>\n",
       "    </tr>\n",
       "  </thead>\n",
       "  <tbody>\n",
       "    <tr>\n",
       "      <th>Deccan_Sporting</th>\n",
       "      <td>154</td>\n",
       "      <td>615</td>\n",
       "      <td>Services</td>\n",
       "      <td>Hyd</td>\n",
       "      <td>1</td>\n",
       "      <td>839.80</td>\n",
       "      <td>Pvt</td>\n",
       "      <td>Mar 1943</td>\n",
       "      <td>SPRT</td>\n",
       "      <td>931</td>\n",
       "    </tr>\n",
       "    <tr>\n",
       "      <th>Kolkata_FMCG</th>\n",
       "      <td>1379</td>\n",
       "      <td>676</td>\n",
       "      <td>Goods</td>\n",
       "      <td>Kol</td>\n",
       "      <td>0</td>\n",
       "      <td>874.40</td>\n",
       "      <td>Pub</td>\n",
       "      <td>Jan 1920</td>\n",
       "      <td>KFMC</td>\n",
       "      <td>925</td>\n",
       "    </tr>\n",
       "    <tr>\n",
       "      <th>NCR_Leagles</th>\n",
       "      <td>1935</td>\n",
       "      <td>605</td>\n",
       "      <td>Services</td>\n",
       "      <td>NCR</td>\n",
       "      <td>0</td>\n",
       "      <td>863.50</td>\n",
       "      <td>Pub</td>\n",
       "      <td>Feb 1960</td>\n",
       "      <td>NCRL</td>\n",
       "      <td>931</td>\n",
       "    </tr>\n",
       "    <tr>\n",
       "      <th>Bangalore_Systems</th>\n",
       "      <td>1361</td>\n",
       "      <td>650</td>\n",
       "      <td>Services</td>\n",
       "      <td>Blr</td>\n",
       "      <td>0</td>\n",
       "      <td>881.60</td>\n",
       "      <td>Gov</td>\n",
       "      <td>Apr 1950</td>\n",
       "      <td>BSYS</td>\n",
       "      <td>900</td>\n",
       "    </tr>\n",
       "    <tr>\n",
       "      <th>Chennai_Chemicals</th>\n",
       "      <td>1656</td>\n",
       "      <td>608</td>\n",
       "      <td>Goods</td>\n",
       "      <td>Che</td>\n",
       "      <td>1</td>\n",
       "      <td>863.20</td>\n",
       "      <td>Pub</td>\n",
       "      <td>Aug 1928</td>\n",
       "      <td>CHEM</td>\n",
       "      <td>966</td>\n",
       "    </tr>\n",
       "    <tr>\n",
       "      <th>Indi_Services</th>\n",
       "      <td>13023</td>\n",
       "      <td>609</td>\n",
       "      <td>Services</td>\n",
       "      <td>NCR</td>\n",
       "      <td>0</td>\n",
       "      <td>733.00</td>\n",
       "      <td>Gov</td>\n",
       "      <td>Mar 1920</td>\n",
       "      <td>INDI</td>\n",
       "      <td>954</td>\n",
       "    </tr>\n",
       "    <tr>\n",
       "      <th>Bangalore_Breweries</th>\n",
       "      <td>119</td>\n",
       "      <td>895</td>\n",
       "      <td>Goods</td>\n",
       "      <td>Blr</td>\n",
       "      <td>1</td>\n",
       "      <td>805.00</td>\n",
       "      <td>Pvt</td>\n",
       "      <td>Oct 1971</td>\n",
       "      <td>BREW</td>\n",
       "      <td>966</td>\n",
       "    </tr>\n",
       "    <tr>\n",
       "      <th>Bombay_Finance</th>\n",
       "      <td>1443</td>\n",
       "      <td>674</td>\n",
       "      <td>Services</td>\n",
       "      <td>Mum</td>\n",
       "      <td>0</td>\n",
       "      <td>917.00</td>\n",
       "      <td>Pub</td>\n",
       "      <td>Apr 1925</td>\n",
       "      <td>BFIN</td>\n",
       "      <td>899</td>\n",
       "    </tr>\n",
       "    <tr>\n",
       "      <th>Chennai_Shipping</th>\n",
       "      <td>1154</td>\n",
       "      <td>665</td>\n",
       "      <td>Goods</td>\n",
       "      <td>Che</td>\n",
       "      <td>1</td>\n",
       "      <td>821.00</td>\n",
       "      <td>Pub</td>\n",
       "      <td>Nov 1930</td>\n",
       "      <td>SHIP</td>\n",
       "      <td>992</td>\n",
       "    </tr>\n",
       "    <tr>\n",
       "      <th>Eastern_Estates</th>\n",
       "      <td>1873</td>\n",
       "      <td>789</td>\n",
       "      <td>Goods</td>\n",
       "      <td>Kol</td>\n",
       "      <td>1</td>\n",
       "      <td>834.23</td>\n",
       "      <td>Pvt</td>\n",
       "      <td>Jan 1994</td>\n",
       "      <td>EEST</td>\n",
       "      <td>945</td>\n",
       "    </tr>\n",
       "  </tbody>\n",
       "</table>\n",
       "</div>"
      ],
      "text/plain": [
       "                     EmpCnt  Exp       GST   HQ  MNC     Rev Sector   Started  \\\n",
       "Deccan_Sporting         154  615  Services  Hyd    1  839.80    Pvt  Mar 1943   \n",
       "Kolkata_FMCG           1379  676     Goods  Kol    0  874.40    Pub  Jan 1920   \n",
       "NCR_Leagles            1935  605  Services  NCR    0  863.50    Pub  Feb 1960   \n",
       "Bangalore_Systems      1361  650  Services  Blr    0  881.60    Gov  Apr 1950   \n",
       "Chennai_Chemicals      1656  608     Goods  Che    1  863.20    Pub  Aug 1928   \n",
       "Indi_Services         13023  609  Services  NCR    0  733.00    Gov  Mar 1920   \n",
       "Bangalore_Breweries     119  895     Goods  Blr    1  805.00    Pvt  Oct 1971   \n",
       "Bombay_Finance         1443  674  Services  Mum    0  917.00    Pub  Apr 1925   \n",
       "Chennai_Shipping       1154  665     Goods  Che    1  821.00    Pub  Nov 1930   \n",
       "Eastern_Estates        1873  789     Goods  Kol    1  834.23    Pvt  Jan 1994   \n",
       "\n",
       "                    StockID  Vol  \n",
       "Deccan_Sporting        SPRT  931  \n",
       "Kolkata_FMCG           KFMC  925  \n",
       "NCR_Leagles            NCRL  931  \n",
       "Bangalore_Systems      BSYS  900  \n",
       "Chennai_Chemicals      CHEM  966  \n",
       "Indi_Services          INDI  954  \n",
       "Bangalore_Breweries    BREW  966  \n",
       "Bombay_Finance         BFIN  899  \n",
       "Chennai_Shipping       SHIP  992  \n",
       "Eastern_Estates        EEST  945  "
      ]
     },
     "execution_count": 447,
     "metadata": {},
     "output_type": "execute_result"
    }
   ],
   "source": [
    "df1.sort_index(axis=1)"
   ]
  },
  {
   "cell_type": "code",
   "execution_count": 448,
   "id": "cdb4e47f",
   "metadata": {},
   "outputs": [
    {
     "data": {
      "text/html": [
       "<div>\n",
       "<style scoped>\n",
       "    .dataframe tbody tr th:only-of-type {\n",
       "        vertical-align: middle;\n",
       "    }\n",
       "\n",
       "    .dataframe tbody tr th {\n",
       "        vertical-align: top;\n",
       "    }\n",
       "\n",
       "    .dataframe thead th {\n",
       "        text-align: right;\n",
       "    }\n",
       "</style>\n",
       "<table border=\"1\" class=\"dataframe\">\n",
       "  <thead>\n",
       "    <tr style=\"text-align: right;\">\n",
       "      <th></th>\n",
       "      <th>Vol</th>\n",
       "      <th>Rev</th>\n",
       "      <th>Exp</th>\n",
       "      <th>Sector</th>\n",
       "      <th>EmpCnt</th>\n",
       "      <th>HQ</th>\n",
       "      <th>MNC</th>\n",
       "      <th>StockID</th>\n",
       "      <th>GST</th>\n",
       "      <th>Started</th>\n",
       "    </tr>\n",
       "  </thead>\n",
       "  <tbody>\n",
       "    <tr>\n",
       "      <th>Deccan_Sporting</th>\n",
       "      <td>931</td>\n",
       "      <td>839.80</td>\n",
       "      <td>615</td>\n",
       "      <td>Pvt</td>\n",
       "      <td>154</td>\n",
       "      <td>Hyd</td>\n",
       "      <td>1</td>\n",
       "      <td>SPRT</td>\n",
       "      <td>Services</td>\n",
       "      <td>Mar 1943</td>\n",
       "    </tr>\n",
       "    <tr>\n",
       "      <th>Kolkata_FMCG</th>\n",
       "      <td>925</td>\n",
       "      <td>874.40</td>\n",
       "      <td>676</td>\n",
       "      <td>Pub</td>\n",
       "      <td>1379</td>\n",
       "      <td>Kol</td>\n",
       "      <td>0</td>\n",
       "      <td>KFMC</td>\n",
       "      <td>Goods</td>\n",
       "      <td>Jan 1920</td>\n",
       "    </tr>\n",
       "    <tr>\n",
       "      <th>NCR_Leagles</th>\n",
       "      <td>931</td>\n",
       "      <td>863.50</td>\n",
       "      <td>605</td>\n",
       "      <td>Pub</td>\n",
       "      <td>1935</td>\n",
       "      <td>NCR</td>\n",
       "      <td>0</td>\n",
       "      <td>NCRL</td>\n",
       "      <td>Services</td>\n",
       "      <td>Feb 1960</td>\n",
       "    </tr>\n",
       "    <tr>\n",
       "      <th>Bangalore_Systems</th>\n",
       "      <td>900</td>\n",
       "      <td>881.60</td>\n",
       "      <td>650</td>\n",
       "      <td>Gov</td>\n",
       "      <td>1361</td>\n",
       "      <td>Blr</td>\n",
       "      <td>0</td>\n",
       "      <td>BSYS</td>\n",
       "      <td>Services</td>\n",
       "      <td>Apr 1950</td>\n",
       "    </tr>\n",
       "    <tr>\n",
       "      <th>Chennai_Chemicals</th>\n",
       "      <td>966</td>\n",
       "      <td>863.20</td>\n",
       "      <td>608</td>\n",
       "      <td>Pub</td>\n",
       "      <td>1656</td>\n",
       "      <td>Che</td>\n",
       "      <td>1</td>\n",
       "      <td>CHEM</td>\n",
       "      <td>Goods</td>\n",
       "      <td>Aug 1928</td>\n",
       "    </tr>\n",
       "    <tr>\n",
       "      <th>Indi_Services</th>\n",
       "      <td>954</td>\n",
       "      <td>733.00</td>\n",
       "      <td>609</td>\n",
       "      <td>Gov</td>\n",
       "      <td>13023</td>\n",
       "      <td>NCR</td>\n",
       "      <td>0</td>\n",
       "      <td>INDI</td>\n",
       "      <td>Services</td>\n",
       "      <td>Mar 1920</td>\n",
       "    </tr>\n",
       "    <tr>\n",
       "      <th>Bangalore_Breweries</th>\n",
       "      <td>966</td>\n",
       "      <td>805.00</td>\n",
       "      <td>895</td>\n",
       "      <td>Pvt</td>\n",
       "      <td>119</td>\n",
       "      <td>Blr</td>\n",
       "      <td>1</td>\n",
       "      <td>BREW</td>\n",
       "      <td>Goods</td>\n",
       "      <td>Oct 1971</td>\n",
       "    </tr>\n",
       "    <tr>\n",
       "      <th>Bombay_Finance</th>\n",
       "      <td>899</td>\n",
       "      <td>917.00</td>\n",
       "      <td>674</td>\n",
       "      <td>Pub</td>\n",
       "      <td>1443</td>\n",
       "      <td>Mum</td>\n",
       "      <td>0</td>\n",
       "      <td>BFIN</td>\n",
       "      <td>Services</td>\n",
       "      <td>Apr 1925</td>\n",
       "    </tr>\n",
       "    <tr>\n",
       "      <th>Chennai_Shipping</th>\n",
       "      <td>992</td>\n",
       "      <td>821.00</td>\n",
       "      <td>665</td>\n",
       "      <td>Pub</td>\n",
       "      <td>1154</td>\n",
       "      <td>Che</td>\n",
       "      <td>1</td>\n",
       "      <td>SHIP</td>\n",
       "      <td>Goods</td>\n",
       "      <td>Nov 1930</td>\n",
       "    </tr>\n",
       "    <tr>\n",
       "      <th>Eastern_Estates</th>\n",
       "      <td>945</td>\n",
       "      <td>834.23</td>\n",
       "      <td>789</td>\n",
       "      <td>Pvt</td>\n",
       "      <td>1873</td>\n",
       "      <td>Kol</td>\n",
       "      <td>1</td>\n",
       "      <td>EEST</td>\n",
       "      <td>Goods</td>\n",
       "      <td>Jan 1994</td>\n",
       "    </tr>\n",
       "  </tbody>\n",
       "</table>\n",
       "</div>"
      ],
      "text/plain": [
       "                     Vol     Rev  Exp Sector  EmpCnt   HQ  MNC StockID  \\\n",
       "Deccan_Sporting      931  839.80  615    Pvt     154  Hyd    1    SPRT   \n",
       "Kolkata_FMCG         925  874.40  676    Pub    1379  Kol    0    KFMC   \n",
       "NCR_Leagles          931  863.50  605    Pub    1935  NCR    0    NCRL   \n",
       "Bangalore_Systems    900  881.60  650    Gov    1361  Blr    0    BSYS   \n",
       "Chennai_Chemicals    966  863.20  608    Pub    1656  Che    1    CHEM   \n",
       "Indi_Services        954  733.00  609    Gov   13023  NCR    0    INDI   \n",
       "Bangalore_Breweries  966  805.00  895    Pvt     119  Blr    1    BREW   \n",
       "Bombay_Finance       899  917.00  674    Pub    1443  Mum    0    BFIN   \n",
       "Chennai_Shipping     992  821.00  665    Pub    1154  Che    1    SHIP   \n",
       "Eastern_Estates      945  834.23  789    Pvt    1873  Kol    1    EEST   \n",
       "\n",
       "                          GST   Started  \n",
       "Deccan_Sporting      Services  Mar 1943  \n",
       "Kolkata_FMCG            Goods  Jan 1920  \n",
       "NCR_Leagles          Services  Feb 1960  \n",
       "Bangalore_Systems    Services  Apr 1950  \n",
       "Chennai_Chemicals       Goods  Aug 1928  \n",
       "Indi_Services        Services  Mar 1920  \n",
       "Bangalore_Breweries     Goods  Oct 1971  \n",
       "Bombay_Finance       Services  Apr 1925  \n",
       "Chennai_Shipping        Goods  Nov 1930  \n",
       "Eastern_Estates         Goods  Jan 1994  "
      ]
     },
     "execution_count": 448,
     "metadata": {},
     "output_type": "execute_result"
    }
   ],
   "source": [
    "df1=pd.read_csv('https://raw.githubusercontent.com/vcsgithub/vcsgithub.github.io/master/lds1.csv')\n",
    "df1"
   ]
  },
  {
   "cell_type": "code",
   "execution_count": 454,
   "id": "1928fb68",
   "metadata": {},
   "outputs": [
    {
     "data": {
      "text/html": [
       "<div>\n",
       "<style scoped>\n",
       "    .dataframe tbody tr th:only-of-type {\n",
       "        vertical-align: middle;\n",
       "    }\n",
       "\n",
       "    .dataframe tbody tr th {\n",
       "        vertical-align: top;\n",
       "    }\n",
       "\n",
       "    .dataframe thead th {\n",
       "        text-align: right;\n",
       "    }\n",
       "</style>\n",
       "<table border=\"1\" class=\"dataframe\">\n",
       "  <thead>\n",
       "    <tr style=\"text-align: right;\">\n",
       "      <th></th>\n",
       "      <th>Vol</th>\n",
       "      <th>Rev</th>\n",
       "      <th>Exp</th>\n",
       "      <th>Sector</th>\n",
       "      <th>EmpCnt</th>\n",
       "      <th>HQ</th>\n",
       "      <th>MNC</th>\n",
       "      <th>StockID</th>\n",
       "      <th>GST</th>\n",
       "      <th>Started</th>\n",
       "    </tr>\n",
       "  </thead>\n",
       "  <tbody>\n",
       "    <tr>\n",
       "      <th>Bombay_Finance</th>\n",
       "      <td>899</td>\n",
       "      <td>917.00</td>\n",
       "      <td>674</td>\n",
       "      <td>Pub</td>\n",
       "      <td>1443</td>\n",
       "      <td>Mum</td>\n",
       "      <td>0</td>\n",
       "      <td>BFIN</td>\n",
       "      <td>Services</td>\n",
       "      <td>Apr 1925</td>\n",
       "    </tr>\n",
       "    <tr>\n",
       "      <th>Bangalore_Systems</th>\n",
       "      <td>900</td>\n",
       "      <td>881.60</td>\n",
       "      <td>650</td>\n",
       "      <td>Gov</td>\n",
       "      <td>1361</td>\n",
       "      <td>Blr</td>\n",
       "      <td>0</td>\n",
       "      <td>BSYS</td>\n",
       "      <td>Services</td>\n",
       "      <td>Apr 1950</td>\n",
       "    </tr>\n",
       "    <tr>\n",
       "      <th>Kolkata_FMCG</th>\n",
       "      <td>925</td>\n",
       "      <td>874.40</td>\n",
       "      <td>676</td>\n",
       "      <td>Pub</td>\n",
       "      <td>1379</td>\n",
       "      <td>Kol</td>\n",
       "      <td>0</td>\n",
       "      <td>KFMC</td>\n",
       "      <td>Goods</td>\n",
       "      <td>Jan 1920</td>\n",
       "    </tr>\n",
       "    <tr>\n",
       "      <th>Deccan_Sporting</th>\n",
       "      <td>931</td>\n",
       "      <td>839.80</td>\n",
       "      <td>615</td>\n",
       "      <td>Pvt</td>\n",
       "      <td>154</td>\n",
       "      <td>Hyd</td>\n",
       "      <td>1</td>\n",
       "      <td>SPRT</td>\n",
       "      <td>Services</td>\n",
       "      <td>Mar 1943</td>\n",
       "    </tr>\n",
       "    <tr>\n",
       "      <th>NCR_Leagles</th>\n",
       "      <td>931</td>\n",
       "      <td>863.50</td>\n",
       "      <td>605</td>\n",
       "      <td>Pub</td>\n",
       "      <td>1935</td>\n",
       "      <td>NCR</td>\n",
       "      <td>0</td>\n",
       "      <td>NCRL</td>\n",
       "      <td>Services</td>\n",
       "      <td>Feb 1960</td>\n",
       "    </tr>\n",
       "    <tr>\n",
       "      <th>Eastern_Estates</th>\n",
       "      <td>945</td>\n",
       "      <td>834.23</td>\n",
       "      <td>789</td>\n",
       "      <td>Pvt</td>\n",
       "      <td>1873</td>\n",
       "      <td>Kol</td>\n",
       "      <td>1</td>\n",
       "      <td>EEST</td>\n",
       "      <td>Goods</td>\n",
       "      <td>Jan 1994</td>\n",
       "    </tr>\n",
       "    <tr>\n",
       "      <th>Indi_Services</th>\n",
       "      <td>954</td>\n",
       "      <td>733.00</td>\n",
       "      <td>609</td>\n",
       "      <td>Gov</td>\n",
       "      <td>13023</td>\n",
       "      <td>NCR</td>\n",
       "      <td>0</td>\n",
       "      <td>INDI</td>\n",
       "      <td>Services</td>\n",
       "      <td>Mar 1920</td>\n",
       "    </tr>\n",
       "    <tr>\n",
       "      <th>Chennai_Chemicals</th>\n",
       "      <td>966</td>\n",
       "      <td>863.20</td>\n",
       "      <td>608</td>\n",
       "      <td>Pub</td>\n",
       "      <td>1656</td>\n",
       "      <td>Che</td>\n",
       "      <td>1</td>\n",
       "      <td>CHEM</td>\n",
       "      <td>Goods</td>\n",
       "      <td>Aug 1928</td>\n",
       "    </tr>\n",
       "    <tr>\n",
       "      <th>Bangalore_Breweries</th>\n",
       "      <td>966</td>\n",
       "      <td>805.00</td>\n",
       "      <td>895</td>\n",
       "      <td>Pvt</td>\n",
       "      <td>119</td>\n",
       "      <td>Blr</td>\n",
       "      <td>1</td>\n",
       "      <td>BREW</td>\n",
       "      <td>Goods</td>\n",
       "      <td>Oct 1971</td>\n",
       "    </tr>\n",
       "    <tr>\n",
       "      <th>Chennai_Shipping</th>\n",
       "      <td>992</td>\n",
       "      <td>821.00</td>\n",
       "      <td>665</td>\n",
       "      <td>Pub</td>\n",
       "      <td>1154</td>\n",
       "      <td>Che</td>\n",
       "      <td>1</td>\n",
       "      <td>SHIP</td>\n",
       "      <td>Goods</td>\n",
       "      <td>Nov 1930</td>\n",
       "    </tr>\n",
       "  </tbody>\n",
       "</table>\n",
       "</div>"
      ],
      "text/plain": [
       "                     Vol     Rev  Exp Sector  EmpCnt   HQ  MNC StockID  \\\n",
       "Bombay_Finance       899  917.00  674    Pub    1443  Mum    0    BFIN   \n",
       "Bangalore_Systems    900  881.60  650    Gov    1361  Blr    0    BSYS   \n",
       "Kolkata_FMCG         925  874.40  676    Pub    1379  Kol    0    KFMC   \n",
       "Deccan_Sporting      931  839.80  615    Pvt     154  Hyd    1    SPRT   \n",
       "NCR_Leagles          931  863.50  605    Pub    1935  NCR    0    NCRL   \n",
       "Eastern_Estates      945  834.23  789    Pvt    1873  Kol    1    EEST   \n",
       "Indi_Services        954  733.00  609    Gov   13023  NCR    0    INDI   \n",
       "Chennai_Chemicals    966  863.20  608    Pub    1656  Che    1    CHEM   \n",
       "Bangalore_Breweries  966  805.00  895    Pvt     119  Blr    1    BREW   \n",
       "Chennai_Shipping     992  821.00  665    Pub    1154  Che    1    SHIP   \n",
       "\n",
       "                          GST   Started  \n",
       "Bombay_Finance       Services  Apr 1925  \n",
       "Bangalore_Systems    Services  Apr 1950  \n",
       "Kolkata_FMCG            Goods  Jan 1920  \n",
       "Deccan_Sporting      Services  Mar 1943  \n",
       "NCR_Leagles          Services  Feb 1960  \n",
       "Eastern_Estates         Goods  Jan 1994  \n",
       "Indi_Services        Services  Mar 1920  \n",
       "Chennai_Chemicals       Goods  Aug 1928  \n",
       "Bangalore_Breweries     Goods  Oct 1971  \n",
       "Chennai_Shipping        Goods  Nov 1930  "
      ]
     },
     "execution_count": 454,
     "metadata": {},
     "output_type": "execute_result"
    }
   ],
   "source": [
    "df1.sort_values(by='Vol',ascending=True,axis=0)"
   ]
  },
  {
   "cell_type": "code",
   "execution_count": 459,
   "id": "f536803a",
   "metadata": {},
   "outputs": [
    {
     "data": {
      "text/html": [
       "<div>\n",
       "<style scoped>\n",
       "    .dataframe tbody tr th:only-of-type {\n",
       "        vertical-align: middle;\n",
       "    }\n",
       "\n",
       "    .dataframe tbody tr th {\n",
       "        vertical-align: top;\n",
       "    }\n",
       "\n",
       "    .dataframe thead th {\n",
       "        text-align: right;\n",
       "    }\n",
       "</style>\n",
       "<table border=\"1\" class=\"dataframe\">\n",
       "  <thead>\n",
       "    <tr style=\"text-align: right;\">\n",
       "      <th></th>\n",
       "      <th>Vol</th>\n",
       "      <th>Rev</th>\n",
       "      <th>Exp</th>\n",
       "      <th>Sector</th>\n",
       "      <th>EmpCnt</th>\n",
       "      <th>HQ</th>\n",
       "      <th>MNC</th>\n",
       "      <th>StockID</th>\n",
       "      <th>GST</th>\n",
       "      <th>Started</th>\n",
       "      <th>Rank</th>\n",
       "    </tr>\n",
       "  </thead>\n",
       "  <tbody>\n",
       "    <tr>\n",
       "      <th>Deccan_Sporting</th>\n",
       "      <td>931</td>\n",
       "      <td>839.80</td>\n",
       "      <td>615</td>\n",
       "      <td>Pvt</td>\n",
       "      <td>154</td>\n",
       "      <td>Hyd</td>\n",
       "      <td>1</td>\n",
       "      <td>SPRT</td>\n",
       "      <td>Services</td>\n",
       "      <td>Mar 1943</td>\n",
       "      <td>4.5</td>\n",
       "    </tr>\n",
       "    <tr>\n",
       "      <th>Kolkata_FMCG</th>\n",
       "      <td>925</td>\n",
       "      <td>874.40</td>\n",
       "      <td>676</td>\n",
       "      <td>Pub</td>\n",
       "      <td>1379</td>\n",
       "      <td>Kol</td>\n",
       "      <td>0</td>\n",
       "      <td>KFMC</td>\n",
       "      <td>Goods</td>\n",
       "      <td>Jan 1920</td>\n",
       "      <td>3.0</td>\n",
       "    </tr>\n",
       "    <tr>\n",
       "      <th>NCR_Leagles</th>\n",
       "      <td>931</td>\n",
       "      <td>863.50</td>\n",
       "      <td>605</td>\n",
       "      <td>Pub</td>\n",
       "      <td>1935</td>\n",
       "      <td>NCR</td>\n",
       "      <td>0</td>\n",
       "      <td>NCRL</td>\n",
       "      <td>Services</td>\n",
       "      <td>Feb 1960</td>\n",
       "      <td>4.5</td>\n",
       "    </tr>\n",
       "    <tr>\n",
       "      <th>Bangalore_Systems</th>\n",
       "      <td>900</td>\n",
       "      <td>881.60</td>\n",
       "      <td>650</td>\n",
       "      <td>Gov</td>\n",
       "      <td>1361</td>\n",
       "      <td>Blr</td>\n",
       "      <td>0</td>\n",
       "      <td>BSYS</td>\n",
       "      <td>Services</td>\n",
       "      <td>Apr 1950</td>\n",
       "      <td>2.0</td>\n",
       "    </tr>\n",
       "    <tr>\n",
       "      <th>Chennai_Chemicals</th>\n",
       "      <td>966</td>\n",
       "      <td>863.20</td>\n",
       "      <td>608</td>\n",
       "      <td>Pub</td>\n",
       "      <td>1656</td>\n",
       "      <td>Che</td>\n",
       "      <td>1</td>\n",
       "      <td>CHEM</td>\n",
       "      <td>Goods</td>\n",
       "      <td>Aug 1928</td>\n",
       "      <td>8.5</td>\n",
       "    </tr>\n",
       "    <tr>\n",
       "      <th>Indi_Services</th>\n",
       "      <td>954</td>\n",
       "      <td>733.00</td>\n",
       "      <td>609</td>\n",
       "      <td>Gov</td>\n",
       "      <td>13023</td>\n",
       "      <td>NCR</td>\n",
       "      <td>0</td>\n",
       "      <td>INDI</td>\n",
       "      <td>Services</td>\n",
       "      <td>Mar 1920</td>\n",
       "      <td>7.0</td>\n",
       "    </tr>\n",
       "    <tr>\n",
       "      <th>Bangalore_Breweries</th>\n",
       "      <td>966</td>\n",
       "      <td>805.00</td>\n",
       "      <td>895</td>\n",
       "      <td>Pvt</td>\n",
       "      <td>119</td>\n",
       "      <td>Blr</td>\n",
       "      <td>1</td>\n",
       "      <td>BREW</td>\n",
       "      <td>Goods</td>\n",
       "      <td>Oct 1971</td>\n",
       "      <td>8.5</td>\n",
       "    </tr>\n",
       "    <tr>\n",
       "      <th>Bombay_Finance</th>\n",
       "      <td>899</td>\n",
       "      <td>917.00</td>\n",
       "      <td>674</td>\n",
       "      <td>Pub</td>\n",
       "      <td>1443</td>\n",
       "      <td>Mum</td>\n",
       "      <td>0</td>\n",
       "      <td>BFIN</td>\n",
       "      <td>Services</td>\n",
       "      <td>Apr 1925</td>\n",
       "      <td>1.0</td>\n",
       "    </tr>\n",
       "    <tr>\n",
       "      <th>Chennai_Shipping</th>\n",
       "      <td>992</td>\n",
       "      <td>821.00</td>\n",
       "      <td>665</td>\n",
       "      <td>Pub</td>\n",
       "      <td>1154</td>\n",
       "      <td>Che</td>\n",
       "      <td>1</td>\n",
       "      <td>SHIP</td>\n",
       "      <td>Goods</td>\n",
       "      <td>Nov 1930</td>\n",
       "      <td>10.0</td>\n",
       "    </tr>\n",
       "    <tr>\n",
       "      <th>Eastern_Estates</th>\n",
       "      <td>945</td>\n",
       "      <td>834.23</td>\n",
       "      <td>789</td>\n",
       "      <td>Pvt</td>\n",
       "      <td>1873</td>\n",
       "      <td>Kol</td>\n",
       "      <td>1</td>\n",
       "      <td>EEST</td>\n",
       "      <td>Goods</td>\n",
       "      <td>Jan 1994</td>\n",
       "      <td>6.0</td>\n",
       "    </tr>\n",
       "  </tbody>\n",
       "</table>\n",
       "</div>"
      ],
      "text/plain": [
       "                     Vol     Rev  Exp Sector  EmpCnt   HQ  MNC StockID  \\\n",
       "Deccan_Sporting      931  839.80  615    Pvt     154  Hyd    1    SPRT   \n",
       "Kolkata_FMCG         925  874.40  676    Pub    1379  Kol    0    KFMC   \n",
       "NCR_Leagles          931  863.50  605    Pub    1935  NCR    0    NCRL   \n",
       "Bangalore_Systems    900  881.60  650    Gov    1361  Blr    0    BSYS   \n",
       "Chennai_Chemicals    966  863.20  608    Pub    1656  Che    1    CHEM   \n",
       "Indi_Services        954  733.00  609    Gov   13023  NCR    0    INDI   \n",
       "Bangalore_Breweries  966  805.00  895    Pvt     119  Blr    1    BREW   \n",
       "Bombay_Finance       899  917.00  674    Pub    1443  Mum    0    BFIN   \n",
       "Chennai_Shipping     992  821.00  665    Pub    1154  Che    1    SHIP   \n",
       "Eastern_Estates      945  834.23  789    Pvt    1873  Kol    1    EEST   \n",
       "\n",
       "                          GST   Started  Rank  \n",
       "Deccan_Sporting      Services  Mar 1943   4.5  \n",
       "Kolkata_FMCG            Goods  Jan 1920   3.0  \n",
       "NCR_Leagles          Services  Feb 1960   4.5  \n",
       "Bangalore_Systems    Services  Apr 1950   2.0  \n",
       "Chennai_Chemicals       Goods  Aug 1928   8.5  \n",
       "Indi_Services        Services  Mar 1920   7.0  \n",
       "Bangalore_Breweries     Goods  Oct 1971   8.5  \n",
       "Bombay_Finance       Services  Apr 1925   1.0  \n",
       "Chennai_Shipping        Goods  Nov 1930  10.0  \n",
       "Eastern_Estates         Goods  Jan 1994   6.0  "
      ]
     },
     "execution_count": 459,
     "metadata": {},
     "output_type": "execute_result"
    }
   ],
   "source": [
    "df1['Rank']=df1.Vol.rank(method='average',ascending=True)\n",
    "df1"
   ]
  },
  {
   "cell_type": "code",
   "execution_count": 460,
   "id": "943f5b1f",
   "metadata": {},
   "outputs": [
    {
     "ename": "FileNotFoundError",
     "evalue": "[Errno 2] No such file or directory: 'marks'",
     "output_type": "error",
     "traceback": [
      "\u001b[1;31m---------------------------------------------------------------------------\u001b[0m",
      "\u001b[1;31mFileNotFoundError\u001b[0m                         Traceback (most recent call last)",
      "Cell \u001b[1;32mIn[460], line 1\u001b[0m\n\u001b[1;32m----> 1\u001b[0m result\u001b[38;5;241m=\u001b[39mpd\u001b[38;5;241m.\u001b[39mread_csv(\u001b[38;5;124m'\u001b[39m\u001b[38;5;124mmarks\u001b[39m\u001b[38;5;124m'\u001b[39m)\n",
      "File \u001b[1;32mC:\\Program Files\\conda\\Lib\\site-packages\\pandas\\io\\parsers\\readers.py:912\u001b[0m, in \u001b[0;36mread_csv\u001b[1;34m(filepath_or_buffer, sep, delimiter, header, names, index_col, usecols, dtype, engine, converters, true_values, false_values, skipinitialspace, skiprows, skipfooter, nrows, na_values, keep_default_na, na_filter, verbose, skip_blank_lines, parse_dates, infer_datetime_format, keep_date_col, date_parser, date_format, dayfirst, cache_dates, iterator, chunksize, compression, thousands, decimal, lineterminator, quotechar, quoting, doublequote, escapechar, comment, encoding, encoding_errors, dialect, on_bad_lines, delim_whitespace, low_memory, memory_map, float_precision, storage_options, dtype_backend)\u001b[0m\n\u001b[0;32m    899\u001b[0m kwds_defaults \u001b[38;5;241m=\u001b[39m _refine_defaults_read(\n\u001b[0;32m    900\u001b[0m     dialect,\n\u001b[0;32m    901\u001b[0m     delimiter,\n\u001b[1;32m   (...)\u001b[0m\n\u001b[0;32m    908\u001b[0m     dtype_backend\u001b[38;5;241m=\u001b[39mdtype_backend,\n\u001b[0;32m    909\u001b[0m )\n\u001b[0;32m    910\u001b[0m kwds\u001b[38;5;241m.\u001b[39mupdate(kwds_defaults)\n\u001b[1;32m--> 912\u001b[0m \u001b[38;5;28;01mreturn\u001b[39;00m _read(filepath_or_buffer, kwds)\n",
      "File \u001b[1;32mC:\\Program Files\\conda\\Lib\\site-packages\\pandas\\io\\parsers\\readers.py:577\u001b[0m, in \u001b[0;36m_read\u001b[1;34m(filepath_or_buffer, kwds)\u001b[0m\n\u001b[0;32m    574\u001b[0m _validate_names(kwds\u001b[38;5;241m.\u001b[39mget(\u001b[38;5;124m\"\u001b[39m\u001b[38;5;124mnames\u001b[39m\u001b[38;5;124m\"\u001b[39m, \u001b[38;5;28;01mNone\u001b[39;00m))\n\u001b[0;32m    576\u001b[0m \u001b[38;5;66;03m# Create the parser.\u001b[39;00m\n\u001b[1;32m--> 577\u001b[0m parser \u001b[38;5;241m=\u001b[39m TextFileReader(filepath_or_buffer, \u001b[38;5;241m*\u001b[39m\u001b[38;5;241m*\u001b[39mkwds)\n\u001b[0;32m    579\u001b[0m \u001b[38;5;28;01mif\u001b[39;00m chunksize \u001b[38;5;129;01mor\u001b[39;00m iterator:\n\u001b[0;32m    580\u001b[0m     \u001b[38;5;28;01mreturn\u001b[39;00m parser\n",
      "File \u001b[1;32mC:\\Program Files\\conda\\Lib\\site-packages\\pandas\\io\\parsers\\readers.py:1407\u001b[0m, in \u001b[0;36mTextFileReader.__init__\u001b[1;34m(self, f, engine, **kwds)\u001b[0m\n\u001b[0;32m   1404\u001b[0m     \u001b[38;5;28mself\u001b[39m\u001b[38;5;241m.\u001b[39moptions[\u001b[38;5;124m\"\u001b[39m\u001b[38;5;124mhas_index_names\u001b[39m\u001b[38;5;124m\"\u001b[39m] \u001b[38;5;241m=\u001b[39m kwds[\u001b[38;5;124m\"\u001b[39m\u001b[38;5;124mhas_index_names\u001b[39m\u001b[38;5;124m\"\u001b[39m]\n\u001b[0;32m   1406\u001b[0m \u001b[38;5;28mself\u001b[39m\u001b[38;5;241m.\u001b[39mhandles: IOHandles \u001b[38;5;241m|\u001b[39m \u001b[38;5;28;01mNone\u001b[39;00m \u001b[38;5;241m=\u001b[39m \u001b[38;5;28;01mNone\u001b[39;00m\n\u001b[1;32m-> 1407\u001b[0m \u001b[38;5;28mself\u001b[39m\u001b[38;5;241m.\u001b[39m_engine \u001b[38;5;241m=\u001b[39m \u001b[38;5;28mself\u001b[39m\u001b[38;5;241m.\u001b[39m_make_engine(f, \u001b[38;5;28mself\u001b[39m\u001b[38;5;241m.\u001b[39mengine)\n",
      "File \u001b[1;32mC:\\Program Files\\conda\\Lib\\site-packages\\pandas\\io\\parsers\\readers.py:1661\u001b[0m, in \u001b[0;36mTextFileReader._make_engine\u001b[1;34m(self, f, engine)\u001b[0m\n\u001b[0;32m   1659\u001b[0m     \u001b[38;5;28;01mif\u001b[39;00m \u001b[38;5;124m\"\u001b[39m\u001b[38;5;124mb\u001b[39m\u001b[38;5;124m\"\u001b[39m \u001b[38;5;129;01mnot\u001b[39;00m \u001b[38;5;129;01min\u001b[39;00m mode:\n\u001b[0;32m   1660\u001b[0m         mode \u001b[38;5;241m+\u001b[39m\u001b[38;5;241m=\u001b[39m \u001b[38;5;124m\"\u001b[39m\u001b[38;5;124mb\u001b[39m\u001b[38;5;124m\"\u001b[39m\n\u001b[1;32m-> 1661\u001b[0m \u001b[38;5;28mself\u001b[39m\u001b[38;5;241m.\u001b[39mhandles \u001b[38;5;241m=\u001b[39m get_handle(\n\u001b[0;32m   1662\u001b[0m     f,\n\u001b[0;32m   1663\u001b[0m     mode,\n\u001b[0;32m   1664\u001b[0m     encoding\u001b[38;5;241m=\u001b[39m\u001b[38;5;28mself\u001b[39m\u001b[38;5;241m.\u001b[39moptions\u001b[38;5;241m.\u001b[39mget(\u001b[38;5;124m\"\u001b[39m\u001b[38;5;124mencoding\u001b[39m\u001b[38;5;124m\"\u001b[39m, \u001b[38;5;28;01mNone\u001b[39;00m),\n\u001b[0;32m   1665\u001b[0m     compression\u001b[38;5;241m=\u001b[39m\u001b[38;5;28mself\u001b[39m\u001b[38;5;241m.\u001b[39moptions\u001b[38;5;241m.\u001b[39mget(\u001b[38;5;124m\"\u001b[39m\u001b[38;5;124mcompression\u001b[39m\u001b[38;5;124m\"\u001b[39m, \u001b[38;5;28;01mNone\u001b[39;00m),\n\u001b[0;32m   1666\u001b[0m     memory_map\u001b[38;5;241m=\u001b[39m\u001b[38;5;28mself\u001b[39m\u001b[38;5;241m.\u001b[39moptions\u001b[38;5;241m.\u001b[39mget(\u001b[38;5;124m\"\u001b[39m\u001b[38;5;124mmemory_map\u001b[39m\u001b[38;5;124m\"\u001b[39m, \u001b[38;5;28;01mFalse\u001b[39;00m),\n\u001b[0;32m   1667\u001b[0m     is_text\u001b[38;5;241m=\u001b[39mis_text,\n\u001b[0;32m   1668\u001b[0m     errors\u001b[38;5;241m=\u001b[39m\u001b[38;5;28mself\u001b[39m\u001b[38;5;241m.\u001b[39moptions\u001b[38;5;241m.\u001b[39mget(\u001b[38;5;124m\"\u001b[39m\u001b[38;5;124mencoding_errors\u001b[39m\u001b[38;5;124m\"\u001b[39m, \u001b[38;5;124m\"\u001b[39m\u001b[38;5;124mstrict\u001b[39m\u001b[38;5;124m\"\u001b[39m),\n\u001b[0;32m   1669\u001b[0m     storage_options\u001b[38;5;241m=\u001b[39m\u001b[38;5;28mself\u001b[39m\u001b[38;5;241m.\u001b[39moptions\u001b[38;5;241m.\u001b[39mget(\u001b[38;5;124m\"\u001b[39m\u001b[38;5;124mstorage_options\u001b[39m\u001b[38;5;124m\"\u001b[39m, \u001b[38;5;28;01mNone\u001b[39;00m),\n\u001b[0;32m   1670\u001b[0m )\n\u001b[0;32m   1671\u001b[0m \u001b[38;5;28;01massert\u001b[39;00m \u001b[38;5;28mself\u001b[39m\u001b[38;5;241m.\u001b[39mhandles \u001b[38;5;129;01mis\u001b[39;00m \u001b[38;5;129;01mnot\u001b[39;00m \u001b[38;5;28;01mNone\u001b[39;00m\n\u001b[0;32m   1672\u001b[0m f \u001b[38;5;241m=\u001b[39m \u001b[38;5;28mself\u001b[39m\u001b[38;5;241m.\u001b[39mhandles\u001b[38;5;241m.\u001b[39mhandle\n",
      "File \u001b[1;32mC:\\Program Files\\conda\\Lib\\site-packages\\pandas\\io\\common.py:859\u001b[0m, in \u001b[0;36mget_handle\u001b[1;34m(path_or_buf, mode, encoding, compression, memory_map, is_text, errors, storage_options)\u001b[0m\n\u001b[0;32m    854\u001b[0m \u001b[38;5;28;01melif\u001b[39;00m \u001b[38;5;28misinstance\u001b[39m(handle, \u001b[38;5;28mstr\u001b[39m):\n\u001b[0;32m    855\u001b[0m     \u001b[38;5;66;03m# Check whether the filename is to be opened in binary mode.\u001b[39;00m\n\u001b[0;32m    856\u001b[0m     \u001b[38;5;66;03m# Binary mode does not support 'encoding' and 'newline'.\u001b[39;00m\n\u001b[0;32m    857\u001b[0m     \u001b[38;5;28;01mif\u001b[39;00m ioargs\u001b[38;5;241m.\u001b[39mencoding \u001b[38;5;129;01mand\u001b[39;00m \u001b[38;5;124m\"\u001b[39m\u001b[38;5;124mb\u001b[39m\u001b[38;5;124m\"\u001b[39m \u001b[38;5;129;01mnot\u001b[39;00m \u001b[38;5;129;01min\u001b[39;00m ioargs\u001b[38;5;241m.\u001b[39mmode:\n\u001b[0;32m    858\u001b[0m         \u001b[38;5;66;03m# Encoding\u001b[39;00m\n\u001b[1;32m--> 859\u001b[0m         handle \u001b[38;5;241m=\u001b[39m \u001b[38;5;28mopen\u001b[39m(\n\u001b[0;32m    860\u001b[0m             handle,\n\u001b[0;32m    861\u001b[0m             ioargs\u001b[38;5;241m.\u001b[39mmode,\n\u001b[0;32m    862\u001b[0m             encoding\u001b[38;5;241m=\u001b[39mioargs\u001b[38;5;241m.\u001b[39mencoding,\n\u001b[0;32m    863\u001b[0m             errors\u001b[38;5;241m=\u001b[39merrors,\n\u001b[0;32m    864\u001b[0m             newline\u001b[38;5;241m=\u001b[39m\u001b[38;5;124m\"\u001b[39m\u001b[38;5;124m\"\u001b[39m,\n\u001b[0;32m    865\u001b[0m         )\n\u001b[0;32m    866\u001b[0m     \u001b[38;5;28;01melse\u001b[39;00m:\n\u001b[0;32m    867\u001b[0m         \u001b[38;5;66;03m# Binary mode\u001b[39;00m\n\u001b[0;32m    868\u001b[0m         handle \u001b[38;5;241m=\u001b[39m \u001b[38;5;28mopen\u001b[39m(handle, ioargs\u001b[38;5;241m.\u001b[39mmode)\n",
      "\u001b[1;31mFileNotFoundError\u001b[0m: [Errno 2] No such file or directory: 'marks'"
     ]
    }
   ],
   "source": [
    "result=pd.read_csv('marks')"
   ]
  },
  {
   "cell_type": "code",
   "execution_count": 462,
   "id": "12415403",
   "metadata": {},
   "outputs": [
    {
     "data": {
      "text/html": [
       "<div>\n",
       "<style scoped>\n",
       "    .dataframe tbody tr th:only-of-type {\n",
       "        vertical-align: middle;\n",
       "    }\n",
       "\n",
       "    .dataframe tbody tr th {\n",
       "        vertical-align: top;\n",
       "    }\n",
       "\n",
       "    .dataframe thead th {\n",
       "        text-align: right;\n",
       "    }\n",
       "</style>\n",
       "<table border=\"1\" class=\"dataframe\">\n",
       "  <thead>\n",
       "    <tr style=\"text-align: right;\">\n",
       "      <th></th>\n",
       "      <th>Vol</th>\n",
       "      <th>Rev</th>\n",
       "      <th>Exp</th>\n",
       "      <th>Sector</th>\n",
       "      <th>EmpCnt</th>\n",
       "      <th>HQ</th>\n",
       "      <th>MNC</th>\n",
       "      <th>StockID</th>\n",
       "      <th>GST</th>\n",
       "      <th>Started</th>\n",
       "    </tr>\n",
       "  </thead>\n",
       "  <tbody>\n",
       "    <tr>\n",
       "      <th>Deccan_Sporting</th>\n",
       "      <td>931</td>\n",
       "      <td>839.80</td>\n",
       "      <td>615</td>\n",
       "      <td>Pvt</td>\n",
       "      <td>154</td>\n",
       "      <td>Hyd</td>\n",
       "      <td>1</td>\n",
       "      <td>SPRT</td>\n",
       "      <td>Services</td>\n",
       "      <td>Mar 1943</td>\n",
       "    </tr>\n",
       "    <tr>\n",
       "      <th>Kolkata_FMCG</th>\n",
       "      <td>925</td>\n",
       "      <td>874.40</td>\n",
       "      <td>676</td>\n",
       "      <td>Pub</td>\n",
       "      <td>1379</td>\n",
       "      <td>Kol</td>\n",
       "      <td>0</td>\n",
       "      <td>KFMC</td>\n",
       "      <td>Goods</td>\n",
       "      <td>Jan 1920</td>\n",
       "    </tr>\n",
       "    <tr>\n",
       "      <th>NCR_Leagles</th>\n",
       "      <td>931</td>\n",
       "      <td>863.50</td>\n",
       "      <td>605</td>\n",
       "      <td>Pub</td>\n",
       "      <td>1935</td>\n",
       "      <td>NCR</td>\n",
       "      <td>0</td>\n",
       "      <td>NCRL</td>\n",
       "      <td>Services</td>\n",
       "      <td>Feb 1960</td>\n",
       "    </tr>\n",
       "    <tr>\n",
       "      <th>Bangalore_Systems</th>\n",
       "      <td>900</td>\n",
       "      <td>881.60</td>\n",
       "      <td>650</td>\n",
       "      <td>Gov</td>\n",
       "      <td>1361</td>\n",
       "      <td>Blr</td>\n",
       "      <td>0</td>\n",
       "      <td>BSYS</td>\n",
       "      <td>Services</td>\n",
       "      <td>Apr 1950</td>\n",
       "    </tr>\n",
       "    <tr>\n",
       "      <th>Chennai_Chemicals</th>\n",
       "      <td>966</td>\n",
       "      <td>863.20</td>\n",
       "      <td>608</td>\n",
       "      <td>Pub</td>\n",
       "      <td>1656</td>\n",
       "      <td>Che</td>\n",
       "      <td>1</td>\n",
       "      <td>CHEM</td>\n",
       "      <td>Goods</td>\n",
       "      <td>Aug 1928</td>\n",
       "    </tr>\n",
       "    <tr>\n",
       "      <th>Indi_Services</th>\n",
       "      <td>954</td>\n",
       "      <td>733.00</td>\n",
       "      <td>609</td>\n",
       "      <td>Gov</td>\n",
       "      <td>13023</td>\n",
       "      <td>NCR</td>\n",
       "      <td>0</td>\n",
       "      <td>INDI</td>\n",
       "      <td>Services</td>\n",
       "      <td>Mar 1920</td>\n",
       "    </tr>\n",
       "    <tr>\n",
       "      <th>Bangalore_Breweries</th>\n",
       "      <td>966</td>\n",
       "      <td>805.00</td>\n",
       "      <td>895</td>\n",
       "      <td>Pvt</td>\n",
       "      <td>119</td>\n",
       "      <td>Blr</td>\n",
       "      <td>1</td>\n",
       "      <td>BREW</td>\n",
       "      <td>Goods</td>\n",
       "      <td>Oct 1971</td>\n",
       "    </tr>\n",
       "    <tr>\n",
       "      <th>Bombay_Finance</th>\n",
       "      <td>899</td>\n",
       "      <td>917.00</td>\n",
       "      <td>674</td>\n",
       "      <td>Pub</td>\n",
       "      <td>1443</td>\n",
       "      <td>Mum</td>\n",
       "      <td>0</td>\n",
       "      <td>BFIN</td>\n",
       "      <td>Services</td>\n",
       "      <td>Apr 1925</td>\n",
       "    </tr>\n",
       "    <tr>\n",
       "      <th>Chennai_Shipping</th>\n",
       "      <td>992</td>\n",
       "      <td>821.00</td>\n",
       "      <td>665</td>\n",
       "      <td>Pub</td>\n",
       "      <td>1154</td>\n",
       "      <td>Che</td>\n",
       "      <td>1</td>\n",
       "      <td>SHIP</td>\n",
       "      <td>Goods</td>\n",
       "      <td>Nov 1930</td>\n",
       "    </tr>\n",
       "    <tr>\n",
       "      <th>Eastern_Estates</th>\n",
       "      <td>945</td>\n",
       "      <td>834.23</td>\n",
       "      <td>789</td>\n",
       "      <td>Pvt</td>\n",
       "      <td>1873</td>\n",
       "      <td>Kol</td>\n",
       "      <td>1</td>\n",
       "      <td>EEST</td>\n",
       "      <td>Goods</td>\n",
       "      <td>Jan 1994</td>\n",
       "    </tr>\n",
       "  </tbody>\n",
       "</table>\n",
       "</div>"
      ],
      "text/plain": [
       "                     Vol     Rev  Exp Sector  EmpCnt   HQ  MNC StockID  \\\n",
       "Deccan_Sporting      931  839.80  615    Pvt     154  Hyd    1    SPRT   \n",
       "Kolkata_FMCG         925  874.40  676    Pub    1379  Kol    0    KFMC   \n",
       "NCR_Leagles          931  863.50  605    Pub    1935  NCR    0    NCRL   \n",
       "Bangalore_Systems    900  881.60  650    Gov    1361  Blr    0    BSYS   \n",
       "Chennai_Chemicals    966  863.20  608    Pub    1656  Che    1    CHEM   \n",
       "Indi_Services        954  733.00  609    Gov   13023  NCR    0    INDI   \n",
       "Bangalore_Breweries  966  805.00  895    Pvt     119  Blr    1    BREW   \n",
       "Bombay_Finance       899  917.00  674    Pub    1443  Mum    0    BFIN   \n",
       "Chennai_Shipping     992  821.00  665    Pub    1154  Che    1    SHIP   \n",
       "Eastern_Estates      945  834.23  789    Pvt    1873  Kol    1    EEST   \n",
       "\n",
       "                          GST   Started  \n",
       "Deccan_Sporting      Services  Mar 1943  \n",
       "Kolkata_FMCG            Goods  Jan 1920  \n",
       "NCR_Leagles          Services  Feb 1960  \n",
       "Bangalore_Systems    Services  Apr 1950  \n",
       "Chennai_Chemicals       Goods  Aug 1928  \n",
       "Indi_Services        Services  Mar 1920  \n",
       "Bangalore_Breweries     Goods  Oct 1971  \n",
       "Bombay_Finance       Services  Apr 1925  \n",
       "Chennai_Shipping        Goods  Nov 1930  \n",
       "Eastern_Estates         Goods  Jan 1994  "
      ]
     },
     "execution_count": 462,
     "metadata": {},
     "output_type": "execute_result"
    }
   ],
   "source": [
    "import pandas as pd\n",
    "df1=pd.read_csv('https://raw.githubusercontent.com/vcsgithub/vcsgithub.github.io/master/lds1.csv')\n",
    "df1\n",
    "dfp = pd.pivot_table(data=df1,index='Sector',aggfunc='mean',values=['Exp','Rev'])\n",
    "dfp\n",
    "df1"
   ]
  },
  {
   "cell_type": "code",
   "execution_count": 464,
   "id": "4bf56dfe",
   "metadata": {},
   "outputs": [
    {
     "data": {
      "text/html": [
       "<div>\n",
       "<style scoped>\n",
       "    .dataframe tbody tr th:only-of-type {\n",
       "        vertical-align: middle;\n",
       "    }\n",
       "\n",
       "    .dataframe tbody tr th {\n",
       "        vertical-align: top;\n",
       "    }\n",
       "\n",
       "    .dataframe thead th {\n",
       "        text-align: right;\n",
       "    }\n",
       "</style>\n",
       "<table border=\"1\" class=\"dataframe\">\n",
       "  <thead>\n",
       "    <tr style=\"text-align: right;\">\n",
       "      <th></th>\n",
       "      <th>Vol</th>\n",
       "      <th>Rev</th>\n",
       "      <th>Exp</th>\n",
       "      <th>Sector</th>\n",
       "      <th>EmpCnt</th>\n",
       "      <th>HQ</th>\n",
       "      <th>MNC</th>\n",
       "      <th>StockID</th>\n",
       "      <th>GST</th>\n",
       "      <th>Started</th>\n",
       "    </tr>\n",
       "  </thead>\n",
       "  <tbody>\n",
       "    <tr>\n",
       "      <th>Deccan_Sporting</th>\n",
       "      <td>931</td>\n",
       "      <td>839.80</td>\n",
       "      <td>615</td>\n",
       "      <td>Pvt</td>\n",
       "      <td>154</td>\n",
       "      <td>Hyd</td>\n",
       "      <td>1</td>\n",
       "      <td>SPRT</td>\n",
       "      <td>Services</td>\n",
       "      <td>Mar 1943</td>\n",
       "    </tr>\n",
       "    <tr>\n",
       "      <th>Kolkata_FMCG</th>\n",
       "      <td>925</td>\n",
       "      <td>874.40</td>\n",
       "      <td>676</td>\n",
       "      <td>Pub</td>\n",
       "      <td>1379</td>\n",
       "      <td>Kol</td>\n",
       "      <td>0</td>\n",
       "      <td>KFMC</td>\n",
       "      <td>Goods</td>\n",
       "      <td>Jan 1920</td>\n",
       "    </tr>\n",
       "    <tr>\n",
       "      <th>NCR_Leagles</th>\n",
       "      <td>931</td>\n",
       "      <td>863.50</td>\n",
       "      <td>605</td>\n",
       "      <td>Pub</td>\n",
       "      <td>1935</td>\n",
       "      <td>NCR</td>\n",
       "      <td>0</td>\n",
       "      <td>NCRL</td>\n",
       "      <td>Services</td>\n",
       "      <td>Feb 1960</td>\n",
       "    </tr>\n",
       "    <tr>\n",
       "      <th>Bangalore_Systems</th>\n",
       "      <td>900</td>\n",
       "      <td>881.60</td>\n",
       "      <td>650</td>\n",
       "      <td>Gov</td>\n",
       "      <td>1361</td>\n",
       "      <td>Blr</td>\n",
       "      <td>0</td>\n",
       "      <td>BSYS</td>\n",
       "      <td>Services</td>\n",
       "      <td>Apr 1950</td>\n",
       "    </tr>\n",
       "    <tr>\n",
       "      <th>Chennai_Chemicals</th>\n",
       "      <td>966</td>\n",
       "      <td>863.20</td>\n",
       "      <td>608</td>\n",
       "      <td>Pub</td>\n",
       "      <td>1656</td>\n",
       "      <td>Che</td>\n",
       "      <td>1</td>\n",
       "      <td>CHEM</td>\n",
       "      <td>Goods</td>\n",
       "      <td>Aug 1928</td>\n",
       "    </tr>\n",
       "    <tr>\n",
       "      <th>Indi_Services</th>\n",
       "      <td>954</td>\n",
       "      <td>733.00</td>\n",
       "      <td>609</td>\n",
       "      <td>Gov</td>\n",
       "      <td>13023</td>\n",
       "      <td>NCR</td>\n",
       "      <td>0</td>\n",
       "      <td>INDI</td>\n",
       "      <td>Services</td>\n",
       "      <td>Mar 1920</td>\n",
       "    </tr>\n",
       "    <tr>\n",
       "      <th>Bangalore_Breweries</th>\n",
       "      <td>966</td>\n",
       "      <td>805.00</td>\n",
       "      <td>895</td>\n",
       "      <td>Pvt</td>\n",
       "      <td>119</td>\n",
       "      <td>Blr</td>\n",
       "      <td>1</td>\n",
       "      <td>BREW</td>\n",
       "      <td>Goods</td>\n",
       "      <td>Oct 1971</td>\n",
       "    </tr>\n",
       "    <tr>\n",
       "      <th>Bombay_Finance</th>\n",
       "      <td>899</td>\n",
       "      <td>917.00</td>\n",
       "      <td>674</td>\n",
       "      <td>Pub</td>\n",
       "      <td>1443</td>\n",
       "      <td>Mum</td>\n",
       "      <td>0</td>\n",
       "      <td>BFIN</td>\n",
       "      <td>Services</td>\n",
       "      <td>Apr 1925</td>\n",
       "    </tr>\n",
       "    <tr>\n",
       "      <th>Chennai_Shipping</th>\n",
       "      <td>992</td>\n",
       "      <td>821.00</td>\n",
       "      <td>665</td>\n",
       "      <td>Pub</td>\n",
       "      <td>1154</td>\n",
       "      <td>Che</td>\n",
       "      <td>1</td>\n",
       "      <td>SHIP</td>\n",
       "      <td>Goods</td>\n",
       "      <td>Nov 1930</td>\n",
       "    </tr>\n",
       "    <tr>\n",
       "      <th>Eastern_Estates</th>\n",
       "      <td>945</td>\n",
       "      <td>834.23</td>\n",
       "      <td>789</td>\n",
       "      <td>Pvt</td>\n",
       "      <td>1873</td>\n",
       "      <td>Kol</td>\n",
       "      <td>1</td>\n",
       "      <td>EEST</td>\n",
       "      <td>Goods</td>\n",
       "      <td>Jan 1994</td>\n",
       "    </tr>\n",
       "  </tbody>\n",
       "</table>\n",
       "</div>"
      ],
      "text/plain": [
       "                     Vol     Rev  Exp Sector  EmpCnt   HQ  MNC StockID  \\\n",
       "Deccan_Sporting      931  839.80  615    Pvt     154  Hyd    1    SPRT   \n",
       "Kolkata_FMCG         925  874.40  676    Pub    1379  Kol    0    KFMC   \n",
       "NCR_Leagles          931  863.50  605    Pub    1935  NCR    0    NCRL   \n",
       "Bangalore_Systems    900  881.60  650    Gov    1361  Blr    0    BSYS   \n",
       "Chennai_Chemicals    966  863.20  608    Pub    1656  Che    1    CHEM   \n",
       "Indi_Services        954  733.00  609    Gov   13023  NCR    0    INDI   \n",
       "Bangalore_Breweries  966  805.00  895    Pvt     119  Blr    1    BREW   \n",
       "Bombay_Finance       899  917.00  674    Pub    1443  Mum    0    BFIN   \n",
       "Chennai_Shipping     992  821.00  665    Pub    1154  Che    1    SHIP   \n",
       "Eastern_Estates      945  834.23  789    Pvt    1873  Kol    1    EEST   \n",
       "\n",
       "                          GST   Started  \n",
       "Deccan_Sporting      Services  Mar 1943  \n",
       "Kolkata_FMCG            Goods  Jan 1920  \n",
       "NCR_Leagles          Services  Feb 1960  \n",
       "Bangalore_Systems    Services  Apr 1950  \n",
       "Chennai_Chemicals       Goods  Aug 1928  \n",
       "Indi_Services        Services  Mar 1920  \n",
       "Bangalore_Breweries     Goods  Oct 1971  \n",
       "Bombay_Finance       Services  Apr 1925  \n",
       "Chennai_Shipping        Goods  Nov 1930  \n",
       "Eastern_Estates         Goods  Jan 1994  "
      ]
     },
     "execution_count": 464,
     "metadata": {},
     "output_type": "execute_result"
    }
   ],
   "source": [
    "df1"
   ]
  },
  {
   "cell_type": "code",
   "execution_count": 472,
   "id": "1da2894d",
   "metadata": {},
   "outputs": [],
   "source": [
    "dfp=pd.pivot_table(data=df1,index='Sector',aggfunc='mean',columns='GST',values=['Rev','Vol'])"
   ]
  },
  {
   "cell_type": "code",
   "execution_count": 476,
   "id": "c0ad5f3b",
   "metadata": {},
   "outputs": [
    {
     "data": {
      "text/html": [
       "<div>\n",
       "<style scoped>\n",
       "    .dataframe tbody tr th:only-of-type {\n",
       "        vertical-align: middle;\n",
       "    }\n",
       "\n",
       "    .dataframe tbody tr th {\n",
       "        vertical-align: top;\n",
       "    }\n",
       "\n",
       "    .dataframe thead tr th {\n",
       "        text-align: left;\n",
       "    }\n",
       "\n",
       "    .dataframe thead tr:last-of-type th {\n",
       "        text-align: right;\n",
       "    }\n",
       "</style>\n",
       "<table border=\"1\" class=\"dataframe\">\n",
       "  <thead>\n",
       "    <tr>\n",
       "      <th></th>\n",
       "      <th colspan=\"2\" halign=\"left\">Exp</th>\n",
       "      <th colspan=\"2\" halign=\"left\">Vol</th>\n",
       "    </tr>\n",
       "    <tr>\n",
       "      <th>GST</th>\n",
       "      <th>Goods</th>\n",
       "      <th>Services</th>\n",
       "      <th>Goods</th>\n",
       "      <th>Services</th>\n",
       "    </tr>\n",
       "    <tr>\n",
       "      <th>Sector</th>\n",
       "      <th></th>\n",
       "      <th></th>\n",
       "      <th></th>\n",
       "      <th></th>\n",
       "    </tr>\n",
       "  </thead>\n",
       "  <tbody>\n",
       "    <tr>\n",
       "      <th>Gov</th>\n",
       "      <td>NaN</td>\n",
       "      <td>2.0</td>\n",
       "      <td>NaN</td>\n",
       "      <td>2.0</td>\n",
       "    </tr>\n",
       "    <tr>\n",
       "      <th>Pub</th>\n",
       "      <td>3.0</td>\n",
       "      <td>2.0</td>\n",
       "      <td>3.0</td>\n",
       "      <td>2.0</td>\n",
       "    </tr>\n",
       "    <tr>\n",
       "      <th>Pvt</th>\n",
       "      <td>2.0</td>\n",
       "      <td>1.0</td>\n",
       "      <td>2.0</td>\n",
       "      <td>1.0</td>\n",
       "    </tr>\n",
       "  </tbody>\n",
       "</table>\n",
       "</div>"
      ],
      "text/plain": [
       "         Exp            Vol         \n",
       "GST    Goods Services Goods Services\n",
       "Sector                              \n",
       "Gov      NaN      2.0   NaN      2.0\n",
       "Pub      3.0      2.0   3.0      2.0\n",
       "Pvt      2.0      1.0   2.0      1.0"
      ]
     },
     "execution_count": 476,
     "metadata": {},
     "output_type": "execute_result"
    }
   ],
   "source": [
    "dfp\n",
    "\n",
    "dfs=pd.pivot_table(data=df1,index='Sector',aggfunc='count',columns='GST',values=['Exp','Vol'])\n",
    "dfs"
   ]
  },
  {
   "cell_type": "code",
   "execution_count": 481,
   "id": "480449b5",
   "metadata": {},
   "outputs": [
    {
     "data": {
      "text/html": [
       "<div>\n",
       "<style scoped>\n",
       "    .dataframe tbody tr th:only-of-type {\n",
       "        vertical-align: middle;\n",
       "    }\n",
       "\n",
       "    .dataframe tbody tr th {\n",
       "        vertical-align: top;\n",
       "    }\n",
       "\n",
       "    .dataframe thead tr th {\n",
       "        text-align: left;\n",
       "    }\n",
       "\n",
       "    .dataframe thead tr:last-of-type th {\n",
       "        text-align: right;\n",
       "    }\n",
       "</style>\n",
       "<table border=\"1\" class=\"dataframe\">\n",
       "  <thead>\n",
       "    <tr>\n",
       "      <th></th>\n",
       "      <th colspan=\"2\" halign=\"left\">Exp</th>\n",
       "      <th colspan=\"2\" halign=\"left\">Rev</th>\n",
       "    </tr>\n",
       "    <tr>\n",
       "      <th>GST</th>\n",
       "      <th>Goods</th>\n",
       "      <th>Services</th>\n",
       "      <th>Goods</th>\n",
       "      <th>Services</th>\n",
       "    </tr>\n",
       "    <tr>\n",
       "      <th>Sector</th>\n",
       "      <th></th>\n",
       "      <th></th>\n",
       "      <th></th>\n",
       "      <th></th>\n",
       "    </tr>\n",
       "  </thead>\n",
       "  <tbody>\n",
       "    <tr>\n",
       "      <th>Gov</th>\n",
       "      <td>NaN</td>\n",
       "      <td>629.5</td>\n",
       "      <td>NaN</td>\n",
       "      <td>807.30</td>\n",
       "    </tr>\n",
       "    <tr>\n",
       "      <th>Pub</th>\n",
       "      <td>649.666667</td>\n",
       "      <td>639.5</td>\n",
       "      <td>852.866667</td>\n",
       "      <td>890.25</td>\n",
       "    </tr>\n",
       "    <tr>\n",
       "      <th>Pvt</th>\n",
       "      <td>842.000000</td>\n",
       "      <td>615.0</td>\n",
       "      <td>819.615000</td>\n",
       "      <td>839.80</td>\n",
       "    </tr>\n",
       "  </tbody>\n",
       "</table>\n",
       "</div>"
      ],
      "text/plain": [
       "               Exp                  Rev         \n",
       "GST          Goods Services       Goods Services\n",
       "Sector                                          \n",
       "Gov            NaN    629.5         NaN   807.30\n",
       "Pub     649.666667    639.5  852.866667   890.25\n",
       "Pvt     842.000000    615.0  819.615000   839.80"
      ]
     },
     "execution_count": 481,
     "metadata": {},
     "output_type": "execute_result"
    }
   ],
   "source": [
    "dfp = pd.pivot_table(data=df1,index='Sector',columns='GST',values=['Exp','Rev'],aggfunc='mean')\n",
    "dfp\n",
    "#dfp.loc['Pub',('Rev','Services')]"
   ]
  },
  {
   "cell_type": "code",
   "execution_count": 486,
   "id": "9279d739",
   "metadata": {},
   "outputs": [
    {
     "name": "stdout",
     "output_type": "stream",
     "text": [
      "Gov\n",
      "                   Vol    Rev  Exp Sector  EmpCnt   HQ  MNC StockID       GST  \\\n",
      "Bangalore_Systems  900  881.6  650    Gov    1361  Blr    0    BSYS  Services   \n",
      "Indi_Services      954  733.0  609    Gov   13023  NCR    0    INDI  Services   \n",
      "\n",
      "                    Started  \n",
      "Bangalore_Systems  Apr 1950  \n",
      "Indi_Services      Mar 1920  \n",
      "Pub\n",
      "                   Vol    Rev  Exp Sector  EmpCnt   HQ  MNC StockID       GST  \\\n",
      "Kolkata_FMCG       925  874.4  676    Pub    1379  Kol    0    KFMC     Goods   \n",
      "NCR_Leagles        931  863.5  605    Pub    1935  NCR    0    NCRL  Services   \n",
      "Chennai_Chemicals  966  863.2  608    Pub    1656  Che    1    CHEM     Goods   \n",
      "Bombay_Finance     899  917.0  674    Pub    1443  Mum    0    BFIN  Services   \n",
      "Chennai_Shipping   992  821.0  665    Pub    1154  Che    1    SHIP     Goods   \n",
      "\n",
      "                    Started  \n",
      "Kolkata_FMCG       Jan 1920  \n",
      "NCR_Leagles        Feb 1960  \n",
      "Chennai_Chemicals  Aug 1928  \n",
      "Bombay_Finance     Apr 1925  \n",
      "Chennai_Shipping   Nov 1930  \n",
      "Pvt\n",
      "                     Vol     Rev  Exp Sector  EmpCnt   HQ  MNC StockID  \\\n",
      "Deccan_Sporting      931  839.80  615    Pvt     154  Hyd    1    SPRT   \n",
      "Bangalore_Breweries  966  805.00  895    Pvt     119  Blr    1    BREW   \n",
      "Eastern_Estates      945  834.23  789    Pvt    1873  Kol    1    EEST   \n",
      "\n",
      "                          GST   Started  \n",
      "Deccan_Sporting      Services  Mar 1943  \n",
      "Bangalore_Breweries     Goods  Oct 1971  \n",
      "Eastern_Estates         Goods  Jan 1994  \n"
     ]
    }
   ],
   "source": [
    "#group by \n",
    "\n",
    "dfg=df1.groupby(by='Sector')\n",
    "dfg\n",
    "\n",
    "for item in dfg:\n",
    "    print(item[0]),\n",
    "    print(item[1])"
   ]
  },
  {
   "cell_type": "code",
   "execution_count": 492,
   "id": "425182df",
   "metadata": {},
   "outputs": [
    {
     "data": {
      "text/html": [
       "<div>\n",
       "<style scoped>\n",
       "    .dataframe tbody tr th:only-of-type {\n",
       "        vertical-align: middle;\n",
       "    }\n",
       "\n",
       "    .dataframe tbody tr th {\n",
       "        vertical-align: top;\n",
       "    }\n",
       "\n",
       "    .dataframe thead th {\n",
       "        text-align: right;\n",
       "    }\n",
       "</style>\n",
       "<table border=\"1\" class=\"dataframe\">\n",
       "  <thead>\n",
       "    <tr style=\"text-align: right;\">\n",
       "      <th></th>\n",
       "      <th>Vol</th>\n",
       "      <th>Rev</th>\n",
       "      <th>Exp</th>\n",
       "      <th>Sector</th>\n",
       "      <th>EmpCnt</th>\n",
       "      <th>HQ</th>\n",
       "      <th>MNC</th>\n",
       "      <th>StockID</th>\n",
       "      <th>GST</th>\n",
       "      <th>Started</th>\n",
       "      <th>rank</th>\n",
       "    </tr>\n",
       "  </thead>\n",
       "  <tbody>\n",
       "    <tr>\n",
       "      <th>Bombay_Finance</th>\n",
       "      <td>899</td>\n",
       "      <td>917.00</td>\n",
       "      <td>674</td>\n",
       "      <td>Pub</td>\n",
       "      <td>1443</td>\n",
       "      <td>Mum</td>\n",
       "      <td>0</td>\n",
       "      <td>BFIN</td>\n",
       "      <td>Services</td>\n",
       "      <td>Apr 1925</td>\n",
       "      <td>1.0</td>\n",
       "    </tr>\n",
       "    <tr>\n",
       "      <th>Bangalore_Systems</th>\n",
       "      <td>900</td>\n",
       "      <td>881.60</td>\n",
       "      <td>650</td>\n",
       "      <td>Gov</td>\n",
       "      <td>1361</td>\n",
       "      <td>Blr</td>\n",
       "      <td>0</td>\n",
       "      <td>BSYS</td>\n",
       "      <td>Services</td>\n",
       "      <td>Apr 1950</td>\n",
       "      <td>2.0</td>\n",
       "    </tr>\n",
       "    <tr>\n",
       "      <th>Kolkata_FMCG</th>\n",
       "      <td>925</td>\n",
       "      <td>874.40</td>\n",
       "      <td>676</td>\n",
       "      <td>Pub</td>\n",
       "      <td>1379</td>\n",
       "      <td>Kol</td>\n",
       "      <td>0</td>\n",
       "      <td>KFMC</td>\n",
       "      <td>Goods</td>\n",
       "      <td>Jan 1920</td>\n",
       "      <td>3.0</td>\n",
       "    </tr>\n",
       "    <tr>\n",
       "      <th>Deccan_Sporting</th>\n",
       "      <td>931</td>\n",
       "      <td>839.80</td>\n",
       "      <td>615</td>\n",
       "      <td>Pvt</td>\n",
       "      <td>154</td>\n",
       "      <td>Hyd</td>\n",
       "      <td>1</td>\n",
       "      <td>SPRT</td>\n",
       "      <td>Services</td>\n",
       "      <td>Mar 1943</td>\n",
       "      <td>5.0</td>\n",
       "    </tr>\n",
       "    <tr>\n",
       "      <th>NCR_Leagles</th>\n",
       "      <td>931</td>\n",
       "      <td>863.50</td>\n",
       "      <td>605</td>\n",
       "      <td>Pub</td>\n",
       "      <td>1935</td>\n",
       "      <td>NCR</td>\n",
       "      <td>0</td>\n",
       "      <td>NCRL</td>\n",
       "      <td>Services</td>\n",
       "      <td>Feb 1960</td>\n",
       "      <td>5.0</td>\n",
       "    </tr>\n",
       "    <tr>\n",
       "      <th>Eastern_Estates</th>\n",
       "      <td>945</td>\n",
       "      <td>834.23</td>\n",
       "      <td>789</td>\n",
       "      <td>Pvt</td>\n",
       "      <td>1873</td>\n",
       "      <td>Kol</td>\n",
       "      <td>1</td>\n",
       "      <td>EEST</td>\n",
       "      <td>Goods</td>\n",
       "      <td>Jan 1994</td>\n",
       "      <td>6.0</td>\n",
       "    </tr>\n",
       "    <tr>\n",
       "      <th>Indi_Services</th>\n",
       "      <td>954</td>\n",
       "      <td>733.00</td>\n",
       "      <td>609</td>\n",
       "      <td>Gov</td>\n",
       "      <td>13023</td>\n",
       "      <td>NCR</td>\n",
       "      <td>0</td>\n",
       "      <td>INDI</td>\n",
       "      <td>Services</td>\n",
       "      <td>Mar 1920</td>\n",
       "      <td>7.0</td>\n",
       "    </tr>\n",
       "    <tr>\n",
       "      <th>Chennai_Chemicals</th>\n",
       "      <td>966</td>\n",
       "      <td>863.20</td>\n",
       "      <td>608</td>\n",
       "      <td>Pub</td>\n",
       "      <td>1656</td>\n",
       "      <td>Che</td>\n",
       "      <td>1</td>\n",
       "      <td>CHEM</td>\n",
       "      <td>Goods</td>\n",
       "      <td>Aug 1928</td>\n",
       "      <td>9.0</td>\n",
       "    </tr>\n",
       "    <tr>\n",
       "      <th>Bangalore_Breweries</th>\n",
       "      <td>966</td>\n",
       "      <td>805.00</td>\n",
       "      <td>895</td>\n",
       "      <td>Pvt</td>\n",
       "      <td>119</td>\n",
       "      <td>Blr</td>\n",
       "      <td>1</td>\n",
       "      <td>BREW</td>\n",
       "      <td>Goods</td>\n",
       "      <td>Oct 1971</td>\n",
       "      <td>9.0</td>\n",
       "    </tr>\n",
       "    <tr>\n",
       "      <th>Chennai_Shipping</th>\n",
       "      <td>992</td>\n",
       "      <td>821.00</td>\n",
       "      <td>665</td>\n",
       "      <td>Pub</td>\n",
       "      <td>1154</td>\n",
       "      <td>Che</td>\n",
       "      <td>1</td>\n",
       "      <td>SHIP</td>\n",
       "      <td>Goods</td>\n",
       "      <td>Nov 1930</td>\n",
       "      <td>10.0</td>\n",
       "    </tr>\n",
       "  </tbody>\n",
       "</table>\n",
       "</div>"
      ],
      "text/plain": [
       "                     Vol     Rev  Exp Sector  EmpCnt   HQ  MNC StockID  \\\n",
       "Bombay_Finance       899  917.00  674    Pub    1443  Mum    0    BFIN   \n",
       "Bangalore_Systems    900  881.60  650    Gov    1361  Blr    0    BSYS   \n",
       "Kolkata_FMCG         925  874.40  676    Pub    1379  Kol    0    KFMC   \n",
       "Deccan_Sporting      931  839.80  615    Pvt     154  Hyd    1    SPRT   \n",
       "NCR_Leagles          931  863.50  605    Pub    1935  NCR    0    NCRL   \n",
       "Eastern_Estates      945  834.23  789    Pvt    1873  Kol    1    EEST   \n",
       "Indi_Services        954  733.00  609    Gov   13023  NCR    0    INDI   \n",
       "Chennai_Chemicals    966  863.20  608    Pub    1656  Che    1    CHEM   \n",
       "Bangalore_Breweries  966  805.00  895    Pvt     119  Blr    1    BREW   \n",
       "Chennai_Shipping     992  821.00  665    Pub    1154  Che    1    SHIP   \n",
       "\n",
       "                          GST   Started  rank  \n",
       "Bombay_Finance       Services  Apr 1925   1.0  \n",
       "Bangalore_Systems    Services  Apr 1950   2.0  \n",
       "Kolkata_FMCG            Goods  Jan 1920   3.0  \n",
       "Deccan_Sporting      Services  Mar 1943   5.0  \n",
       "NCR_Leagles          Services  Feb 1960   5.0  \n",
       "Eastern_Estates         Goods  Jan 1994   6.0  \n",
       "Indi_Services        Services  Mar 1920   7.0  \n",
       "Chennai_Chemicals       Goods  Aug 1928   9.0  \n",
       "Bangalore_Breweries     Goods  Oct 1971   9.0  \n",
       "Chennai_Shipping        Goods  Nov 1930  10.0  "
      ]
     },
     "execution_count": 492,
     "metadata": {},
     "output_type": "execute_result"
    }
   ],
   "source": [
    "# map functions\n",
    "\n",
    "df1['rank']=df1.Vol.rank(method='max',ascending=True)\n",
    "df1.sort_values(by='rank')"
   ]
  },
  {
   "cell_type": "code",
   "execution_count": 493,
   "id": "40b26a0b",
   "metadata": {},
   "outputs": [
    {
     "data": {
      "text/plain": [
       "{'Kol': 'EZ', 'Mum': 'WZ', 'Blr': 'SZ', 'che': 'SZ', 'NCR': 'NZ'}"
      ]
     },
     "execution_count": 493,
     "metadata": {},
     "output_type": "execute_result"
    }
   ],
   "source": [
    "md1={'Kol':'EZ','Mum':'WZ','Blr':'SZ','che':'SZ','NCR':'NZ'}\n",
    "md1"
   ]
  },
  {
   "cell_type": "code",
   "execution_count": 497,
   "id": "34cc5215",
   "metadata": {},
   "outputs": [
    {
     "data": {
      "text/html": [
       "<div>\n",
       "<style scoped>\n",
       "    .dataframe tbody tr th:only-of-type {\n",
       "        vertical-align: middle;\n",
       "    }\n",
       "\n",
       "    .dataframe tbody tr th {\n",
       "        vertical-align: top;\n",
       "    }\n",
       "\n",
       "    .dataframe thead th {\n",
       "        text-align: right;\n",
       "    }\n",
       "</style>\n",
       "<table border=\"1\" class=\"dataframe\">\n",
       "  <thead>\n",
       "    <tr style=\"text-align: right;\">\n",
       "      <th></th>\n",
       "      <th>Vol</th>\n",
       "      <th>Rev</th>\n",
       "      <th>Exp</th>\n",
       "      <th>Sector</th>\n",
       "      <th>EmpCnt</th>\n",
       "      <th>HQ</th>\n",
       "      <th>MNC</th>\n",
       "      <th>StockID</th>\n",
       "      <th>GST</th>\n",
       "      <th>Started</th>\n",
       "      <th>rank</th>\n",
       "      <th>Zone</th>\n",
       "    </tr>\n",
       "  </thead>\n",
       "  <tbody>\n",
       "    <tr>\n",
       "      <th>Deccan_Sporting</th>\n",
       "      <td>931</td>\n",
       "      <td>839.80</td>\n",
       "      <td>615</td>\n",
       "      <td>Pvt</td>\n",
       "      <td>154</td>\n",
       "      <td>Hyd</td>\n",
       "      <td>1</td>\n",
       "      <td>SPRT</td>\n",
       "      <td>Services</td>\n",
       "      <td>Mar 1943</td>\n",
       "      <td>5.0</td>\n",
       "      <td>NaN</td>\n",
       "    </tr>\n",
       "    <tr>\n",
       "      <th>Kolkata_FMCG</th>\n",
       "      <td>925</td>\n",
       "      <td>874.40</td>\n",
       "      <td>676</td>\n",
       "      <td>Pub</td>\n",
       "      <td>1379</td>\n",
       "      <td>Kol</td>\n",
       "      <td>0</td>\n",
       "      <td>KFMC</td>\n",
       "      <td>Goods</td>\n",
       "      <td>Jan 1920</td>\n",
       "      <td>3.0</td>\n",
       "      <td>EZ</td>\n",
       "    </tr>\n",
       "    <tr>\n",
       "      <th>NCR_Leagles</th>\n",
       "      <td>931</td>\n",
       "      <td>863.50</td>\n",
       "      <td>605</td>\n",
       "      <td>Pub</td>\n",
       "      <td>1935</td>\n",
       "      <td>NCR</td>\n",
       "      <td>0</td>\n",
       "      <td>NCRL</td>\n",
       "      <td>Services</td>\n",
       "      <td>Feb 1960</td>\n",
       "      <td>5.0</td>\n",
       "      <td>NZ</td>\n",
       "    </tr>\n",
       "    <tr>\n",
       "      <th>Bangalore_Systems</th>\n",
       "      <td>900</td>\n",
       "      <td>881.60</td>\n",
       "      <td>650</td>\n",
       "      <td>Gov</td>\n",
       "      <td>1361</td>\n",
       "      <td>Blr</td>\n",
       "      <td>0</td>\n",
       "      <td>BSYS</td>\n",
       "      <td>Services</td>\n",
       "      <td>Apr 1950</td>\n",
       "      <td>2.0</td>\n",
       "      <td>SZ</td>\n",
       "    </tr>\n",
       "    <tr>\n",
       "      <th>Chennai_Chemicals</th>\n",
       "      <td>966</td>\n",
       "      <td>863.20</td>\n",
       "      <td>608</td>\n",
       "      <td>Pub</td>\n",
       "      <td>1656</td>\n",
       "      <td>Che</td>\n",
       "      <td>1</td>\n",
       "      <td>CHEM</td>\n",
       "      <td>Goods</td>\n",
       "      <td>Aug 1928</td>\n",
       "      <td>9.0</td>\n",
       "      <td>NaN</td>\n",
       "    </tr>\n",
       "    <tr>\n",
       "      <th>Indi_Services</th>\n",
       "      <td>954</td>\n",
       "      <td>733.00</td>\n",
       "      <td>609</td>\n",
       "      <td>Gov</td>\n",
       "      <td>13023</td>\n",
       "      <td>NCR</td>\n",
       "      <td>0</td>\n",
       "      <td>INDI</td>\n",
       "      <td>Services</td>\n",
       "      <td>Mar 1920</td>\n",
       "      <td>7.0</td>\n",
       "      <td>NZ</td>\n",
       "    </tr>\n",
       "    <tr>\n",
       "      <th>Bangalore_Breweries</th>\n",
       "      <td>966</td>\n",
       "      <td>805.00</td>\n",
       "      <td>895</td>\n",
       "      <td>Pvt</td>\n",
       "      <td>119</td>\n",
       "      <td>Blr</td>\n",
       "      <td>1</td>\n",
       "      <td>BREW</td>\n",
       "      <td>Goods</td>\n",
       "      <td>Oct 1971</td>\n",
       "      <td>9.0</td>\n",
       "      <td>SZ</td>\n",
       "    </tr>\n",
       "    <tr>\n",
       "      <th>Bombay_Finance</th>\n",
       "      <td>899</td>\n",
       "      <td>917.00</td>\n",
       "      <td>674</td>\n",
       "      <td>Pub</td>\n",
       "      <td>1443</td>\n",
       "      <td>Mum</td>\n",
       "      <td>0</td>\n",
       "      <td>BFIN</td>\n",
       "      <td>Services</td>\n",
       "      <td>Apr 1925</td>\n",
       "      <td>1.0</td>\n",
       "      <td>WZ</td>\n",
       "    </tr>\n",
       "    <tr>\n",
       "      <th>Chennai_Shipping</th>\n",
       "      <td>992</td>\n",
       "      <td>821.00</td>\n",
       "      <td>665</td>\n",
       "      <td>Pub</td>\n",
       "      <td>1154</td>\n",
       "      <td>Che</td>\n",
       "      <td>1</td>\n",
       "      <td>SHIP</td>\n",
       "      <td>Goods</td>\n",
       "      <td>Nov 1930</td>\n",
       "      <td>10.0</td>\n",
       "      <td>NaN</td>\n",
       "    </tr>\n",
       "    <tr>\n",
       "      <th>Eastern_Estates</th>\n",
       "      <td>945</td>\n",
       "      <td>834.23</td>\n",
       "      <td>789</td>\n",
       "      <td>Pvt</td>\n",
       "      <td>1873</td>\n",
       "      <td>Kol</td>\n",
       "      <td>1</td>\n",
       "      <td>EEST</td>\n",
       "      <td>Goods</td>\n",
       "      <td>Jan 1994</td>\n",
       "      <td>6.0</td>\n",
       "      <td>EZ</td>\n",
       "    </tr>\n",
       "  </tbody>\n",
       "</table>\n",
       "</div>"
      ],
      "text/plain": [
       "                     Vol     Rev  Exp Sector  EmpCnt   HQ  MNC StockID  \\\n",
       "Deccan_Sporting      931  839.80  615    Pvt     154  Hyd    1    SPRT   \n",
       "Kolkata_FMCG         925  874.40  676    Pub    1379  Kol    0    KFMC   \n",
       "NCR_Leagles          931  863.50  605    Pub    1935  NCR    0    NCRL   \n",
       "Bangalore_Systems    900  881.60  650    Gov    1361  Blr    0    BSYS   \n",
       "Chennai_Chemicals    966  863.20  608    Pub    1656  Che    1    CHEM   \n",
       "Indi_Services        954  733.00  609    Gov   13023  NCR    0    INDI   \n",
       "Bangalore_Breweries  966  805.00  895    Pvt     119  Blr    1    BREW   \n",
       "Bombay_Finance       899  917.00  674    Pub    1443  Mum    0    BFIN   \n",
       "Chennai_Shipping     992  821.00  665    Pub    1154  Che    1    SHIP   \n",
       "Eastern_Estates      945  834.23  789    Pvt    1873  Kol    1    EEST   \n",
       "\n",
       "                          GST   Started  rank Zone  \n",
       "Deccan_Sporting      Services  Mar 1943   5.0  NaN  \n",
       "Kolkata_FMCG            Goods  Jan 1920   3.0   EZ  \n",
       "NCR_Leagles          Services  Feb 1960   5.0   NZ  \n",
       "Bangalore_Systems    Services  Apr 1950   2.0   SZ  \n",
       "Chennai_Chemicals       Goods  Aug 1928   9.0  NaN  \n",
       "Indi_Services        Services  Mar 1920   7.0   NZ  \n",
       "Bangalore_Breweries     Goods  Oct 1971   9.0   SZ  \n",
       "Bombay_Finance       Services  Apr 1925   1.0   WZ  \n",
       "Chennai_Shipping        Goods  Nov 1930  10.0  NaN  \n",
       "Eastern_Estates         Goods  Jan 1994   6.0   EZ  "
      ]
     },
     "execution_count": 497,
     "metadata": {},
     "output_type": "execute_result"
    }
   ],
   "source": [
    "df1['Zone']=df1.HQ.map(md1)\n",
    "df1"
   ]
  },
  {
   "cell_type": "code",
   "execution_count": 500,
   "id": "82a078b2",
   "metadata": {},
   "outputs": [
    {
     "data": {
      "text/plain": [
       "'Excellent sales'"
      ]
     },
     "execution_count": 500,
     "metadata": {},
     "output_type": "execute_result"
    }
   ],
   "source": [
    "def sales_performance_cal(sales_values):\n",
    "    if sales_values > 950:\n",
    "        return \"Excellent sales\"\n",
    "    elif sales_values < 930:\n",
    "        return \"average sales\"\n",
    "    else:\n",
    "        return \"good sales\"\n",
    "sales_performance_cal(974)"
   ]
  },
  {
   "cell_type": "code",
   "execution_count": 503,
   "id": "1954b9b5",
   "metadata": {},
   "outputs": [
    {
     "data": {
      "text/html": [
       "<div>\n",
       "<style scoped>\n",
       "    .dataframe tbody tr th:only-of-type {\n",
       "        vertical-align: middle;\n",
       "    }\n",
       "\n",
       "    .dataframe tbody tr th {\n",
       "        vertical-align: top;\n",
       "    }\n",
       "\n",
       "    .dataframe thead th {\n",
       "        text-align: right;\n",
       "    }\n",
       "</style>\n",
       "<table border=\"1\" class=\"dataframe\">\n",
       "  <thead>\n",
       "    <tr style=\"text-align: right;\">\n",
       "      <th></th>\n",
       "      <th>Vol</th>\n",
       "      <th>Rev</th>\n",
       "      <th>Exp</th>\n",
       "      <th>Sector</th>\n",
       "      <th>EmpCnt</th>\n",
       "      <th>HQ</th>\n",
       "      <th>MNC</th>\n",
       "      <th>StockID</th>\n",
       "      <th>GST</th>\n",
       "      <th>Started</th>\n",
       "      <th>rank</th>\n",
       "      <th>Zone</th>\n",
       "      <th>sales performance</th>\n",
       "    </tr>\n",
       "  </thead>\n",
       "  <tbody>\n",
       "    <tr>\n",
       "      <th>Deccan_Sporting</th>\n",
       "      <td>931</td>\n",
       "      <td>839.80</td>\n",
       "      <td>615</td>\n",
       "      <td>Pvt</td>\n",
       "      <td>154</td>\n",
       "      <td>Hyd</td>\n",
       "      <td>1</td>\n",
       "      <td>SPRT</td>\n",
       "      <td>Services</td>\n",
       "      <td>Mar 1943</td>\n",
       "      <td>5.0</td>\n",
       "      <td>NaN</td>\n",
       "      <td>good sales</td>\n",
       "    </tr>\n",
       "    <tr>\n",
       "      <th>Kolkata_FMCG</th>\n",
       "      <td>925</td>\n",
       "      <td>874.40</td>\n",
       "      <td>676</td>\n",
       "      <td>Pub</td>\n",
       "      <td>1379</td>\n",
       "      <td>Kol</td>\n",
       "      <td>0</td>\n",
       "      <td>KFMC</td>\n",
       "      <td>Goods</td>\n",
       "      <td>Jan 1920</td>\n",
       "      <td>3.0</td>\n",
       "      <td>EZ</td>\n",
       "      <td>average sales</td>\n",
       "    </tr>\n",
       "    <tr>\n",
       "      <th>NCR_Leagles</th>\n",
       "      <td>931</td>\n",
       "      <td>863.50</td>\n",
       "      <td>605</td>\n",
       "      <td>Pub</td>\n",
       "      <td>1935</td>\n",
       "      <td>NCR</td>\n",
       "      <td>0</td>\n",
       "      <td>NCRL</td>\n",
       "      <td>Services</td>\n",
       "      <td>Feb 1960</td>\n",
       "      <td>5.0</td>\n",
       "      <td>NZ</td>\n",
       "      <td>good sales</td>\n",
       "    </tr>\n",
       "    <tr>\n",
       "      <th>Bangalore_Systems</th>\n",
       "      <td>900</td>\n",
       "      <td>881.60</td>\n",
       "      <td>650</td>\n",
       "      <td>Gov</td>\n",
       "      <td>1361</td>\n",
       "      <td>Blr</td>\n",
       "      <td>0</td>\n",
       "      <td>BSYS</td>\n",
       "      <td>Services</td>\n",
       "      <td>Apr 1950</td>\n",
       "      <td>2.0</td>\n",
       "      <td>SZ</td>\n",
       "      <td>average sales</td>\n",
       "    </tr>\n",
       "    <tr>\n",
       "      <th>Chennai_Chemicals</th>\n",
       "      <td>966</td>\n",
       "      <td>863.20</td>\n",
       "      <td>608</td>\n",
       "      <td>Pub</td>\n",
       "      <td>1656</td>\n",
       "      <td>Che</td>\n",
       "      <td>1</td>\n",
       "      <td>CHEM</td>\n",
       "      <td>Goods</td>\n",
       "      <td>Aug 1928</td>\n",
       "      <td>9.0</td>\n",
       "      <td>NaN</td>\n",
       "      <td>Excellent sales</td>\n",
       "    </tr>\n",
       "    <tr>\n",
       "      <th>Indi_Services</th>\n",
       "      <td>954</td>\n",
       "      <td>733.00</td>\n",
       "      <td>609</td>\n",
       "      <td>Gov</td>\n",
       "      <td>13023</td>\n",
       "      <td>NCR</td>\n",
       "      <td>0</td>\n",
       "      <td>INDI</td>\n",
       "      <td>Services</td>\n",
       "      <td>Mar 1920</td>\n",
       "      <td>7.0</td>\n",
       "      <td>NZ</td>\n",
       "      <td>Excellent sales</td>\n",
       "    </tr>\n",
       "    <tr>\n",
       "      <th>Bangalore_Breweries</th>\n",
       "      <td>966</td>\n",
       "      <td>805.00</td>\n",
       "      <td>895</td>\n",
       "      <td>Pvt</td>\n",
       "      <td>119</td>\n",
       "      <td>Blr</td>\n",
       "      <td>1</td>\n",
       "      <td>BREW</td>\n",
       "      <td>Goods</td>\n",
       "      <td>Oct 1971</td>\n",
       "      <td>9.0</td>\n",
       "      <td>SZ</td>\n",
       "      <td>Excellent sales</td>\n",
       "    </tr>\n",
       "    <tr>\n",
       "      <th>Bombay_Finance</th>\n",
       "      <td>899</td>\n",
       "      <td>917.00</td>\n",
       "      <td>674</td>\n",
       "      <td>Pub</td>\n",
       "      <td>1443</td>\n",
       "      <td>Mum</td>\n",
       "      <td>0</td>\n",
       "      <td>BFIN</td>\n",
       "      <td>Services</td>\n",
       "      <td>Apr 1925</td>\n",
       "      <td>1.0</td>\n",
       "      <td>WZ</td>\n",
       "      <td>average sales</td>\n",
       "    </tr>\n",
       "    <tr>\n",
       "      <th>Chennai_Shipping</th>\n",
       "      <td>992</td>\n",
       "      <td>821.00</td>\n",
       "      <td>665</td>\n",
       "      <td>Pub</td>\n",
       "      <td>1154</td>\n",
       "      <td>Che</td>\n",
       "      <td>1</td>\n",
       "      <td>SHIP</td>\n",
       "      <td>Goods</td>\n",
       "      <td>Nov 1930</td>\n",
       "      <td>10.0</td>\n",
       "      <td>NaN</td>\n",
       "      <td>Excellent sales</td>\n",
       "    </tr>\n",
       "    <tr>\n",
       "      <th>Eastern_Estates</th>\n",
       "      <td>945</td>\n",
       "      <td>834.23</td>\n",
       "      <td>789</td>\n",
       "      <td>Pvt</td>\n",
       "      <td>1873</td>\n",
       "      <td>Kol</td>\n",
       "      <td>1</td>\n",
       "      <td>EEST</td>\n",
       "      <td>Goods</td>\n",
       "      <td>Jan 1994</td>\n",
       "      <td>6.0</td>\n",
       "      <td>EZ</td>\n",
       "      <td>good sales</td>\n",
       "    </tr>\n",
       "  </tbody>\n",
       "</table>\n",
       "</div>"
      ],
      "text/plain": [
       "                     Vol     Rev  Exp Sector  EmpCnt   HQ  MNC StockID  \\\n",
       "Deccan_Sporting      931  839.80  615    Pvt     154  Hyd    1    SPRT   \n",
       "Kolkata_FMCG         925  874.40  676    Pub    1379  Kol    0    KFMC   \n",
       "NCR_Leagles          931  863.50  605    Pub    1935  NCR    0    NCRL   \n",
       "Bangalore_Systems    900  881.60  650    Gov    1361  Blr    0    BSYS   \n",
       "Chennai_Chemicals    966  863.20  608    Pub    1656  Che    1    CHEM   \n",
       "Indi_Services        954  733.00  609    Gov   13023  NCR    0    INDI   \n",
       "Bangalore_Breweries  966  805.00  895    Pvt     119  Blr    1    BREW   \n",
       "Bombay_Finance       899  917.00  674    Pub    1443  Mum    0    BFIN   \n",
       "Chennai_Shipping     992  821.00  665    Pub    1154  Che    1    SHIP   \n",
       "Eastern_Estates      945  834.23  789    Pvt    1873  Kol    1    EEST   \n",
       "\n",
       "                          GST   Started  rank Zone sales performance  \n",
       "Deccan_Sporting      Services  Mar 1943   5.0  NaN        good sales  \n",
       "Kolkata_FMCG            Goods  Jan 1920   3.0   EZ     average sales  \n",
       "NCR_Leagles          Services  Feb 1960   5.0   NZ        good sales  \n",
       "Bangalore_Systems    Services  Apr 1950   2.0   SZ     average sales  \n",
       "Chennai_Chemicals       Goods  Aug 1928   9.0  NaN   Excellent sales  \n",
       "Indi_Services        Services  Mar 1920   7.0   NZ   Excellent sales  \n",
       "Bangalore_Breweries     Goods  Oct 1971   9.0   SZ   Excellent sales  \n",
       "Bombay_Finance       Services  Apr 1925   1.0   WZ     average sales  \n",
       "Chennai_Shipping        Goods  Nov 1930  10.0  NaN   Excellent sales  \n",
       "Eastern_Estates         Goods  Jan 1994   6.0   EZ        good sales  "
      ]
     },
     "execution_count": 503,
     "metadata": {},
     "output_type": "execute_result"
    }
   ],
   "source": [
    "df1['sales performance']=df1.Vol.map(sales_performance_cal)\n",
    "df1"
   ]
  },
  {
   "cell_type": "code",
   "execution_count": 507,
   "id": "aa1f063c",
   "metadata": {},
   "outputs": [
    {
     "data": {
      "text/html": [
       "<div>\n",
       "<style scoped>\n",
       "    .dataframe tbody tr th:only-of-type {\n",
       "        vertical-align: middle;\n",
       "    }\n",
       "\n",
       "    .dataframe tbody tr th {\n",
       "        vertical-align: top;\n",
       "    }\n",
       "\n",
       "    .dataframe thead th {\n",
       "        text-align: right;\n",
       "    }\n",
       "</style>\n",
       "<table border=\"1\" class=\"dataframe\">\n",
       "  <thead>\n",
       "    <tr style=\"text-align: right;\">\n",
       "      <th></th>\n",
       "      <th>Vol</th>\n",
       "      <th>Rev</th>\n",
       "      <th>Exp</th>\n",
       "      <th>Sector</th>\n",
       "      <th>EmpCnt</th>\n",
       "      <th>HQ</th>\n",
       "      <th>MNC</th>\n",
       "      <th>StockID</th>\n",
       "      <th>GST</th>\n",
       "      <th>Started</th>\n",
       "      <th>rank</th>\n",
       "      <th>Zone</th>\n",
       "      <th>sales performance</th>\n",
       "    </tr>\n",
       "  </thead>\n",
       "  <tbody>\n",
       "    <tr>\n",
       "      <th>Deccan_Sporting</th>\n",
       "      <td>931</td>\n",
       "      <td>839.80</td>\n",
       "      <td>615</td>\n",
       "      <td>Pvt</td>\n",
       "      <td>154</td>\n",
       "      <td>Hyd</td>\n",
       "      <td>1</td>\n",
       "      <td>SPRT</td>\n",
       "      <td>Services</td>\n",
       "      <td>Mar 1943</td>\n",
       "      <td>5.0</td>\n",
       "      <td>NaN</td>\n",
       "      <td>good sales</td>\n",
       "    </tr>\n",
       "    <tr>\n",
       "      <th>Kolkata_FMCG</th>\n",
       "      <td>925</td>\n",
       "      <td>874.40</td>\n",
       "      <td>676</td>\n",
       "      <td>Pub</td>\n",
       "      <td>1379</td>\n",
       "      <td>Kol</td>\n",
       "      <td>0</td>\n",
       "      <td>KFMC</td>\n",
       "      <td>Goods</td>\n",
       "      <td>Jan 1920</td>\n",
       "      <td>3.0</td>\n",
       "      <td>EZ</td>\n",
       "      <td>average sales</td>\n",
       "    </tr>\n",
       "    <tr>\n",
       "      <th>NCR_Leagles</th>\n",
       "      <td>931</td>\n",
       "      <td>863.50</td>\n",
       "      <td>605</td>\n",
       "      <td>Pub</td>\n",
       "      <td>1935</td>\n",
       "      <td>NCR</td>\n",
       "      <td>0</td>\n",
       "      <td>NCRL</td>\n",
       "      <td>Services</td>\n",
       "      <td>Feb 1960</td>\n",
       "      <td>5.0</td>\n",
       "      <td>NZ</td>\n",
       "      <td>good sales</td>\n",
       "    </tr>\n",
       "    <tr>\n",
       "      <th>Bangalore_Systems</th>\n",
       "      <td>900</td>\n",
       "      <td>881.60</td>\n",
       "      <td>650</td>\n",
       "      <td>Gov</td>\n",
       "      <td>1361</td>\n",
       "      <td>Blr</td>\n",
       "      <td>0</td>\n",
       "      <td>BSYS</td>\n",
       "      <td>Services</td>\n",
       "      <td>Apr 1950</td>\n",
       "      <td>2.0</td>\n",
       "      <td>SZ</td>\n",
       "      <td>average sales</td>\n",
       "    </tr>\n",
       "    <tr>\n",
       "      <th>Chennai_Chemicals</th>\n",
       "      <td>966</td>\n",
       "      <td>863.20</td>\n",
       "      <td>608</td>\n",
       "      <td>Pub</td>\n",
       "      <td>1656</td>\n",
       "      <td>Che</td>\n",
       "      <td>1</td>\n",
       "      <td>CHEM</td>\n",
       "      <td>Goods</td>\n",
       "      <td>Aug 1928</td>\n",
       "      <td>9.0</td>\n",
       "      <td>NaN</td>\n",
       "      <td>Excellent sales</td>\n",
       "    </tr>\n",
       "    <tr>\n",
       "      <th>IR</th>\n",
       "      <td>954</td>\n",
       "      <td>733.00</td>\n",
       "      <td>609</td>\n",
       "      <td>Gov</td>\n",
       "      <td>13023</td>\n",
       "      <td>NCR</td>\n",
       "      <td>0</td>\n",
       "      <td>INDI</td>\n",
       "      <td>Services</td>\n",
       "      <td>Mar 1920</td>\n",
       "      <td>7.0</td>\n",
       "      <td>NZ</td>\n",
       "      <td>Excellent sales</td>\n",
       "    </tr>\n",
       "    <tr>\n",
       "      <th>kingfisher</th>\n",
       "      <td>966</td>\n",
       "      <td>805.00</td>\n",
       "      <td>895</td>\n",
       "      <td>Pvt</td>\n",
       "      <td>119</td>\n",
       "      <td>Blr</td>\n",
       "      <td>1</td>\n",
       "      <td>BREW</td>\n",
       "      <td>Goods</td>\n",
       "      <td>Oct 1971</td>\n",
       "      <td>9.0</td>\n",
       "      <td>SZ</td>\n",
       "      <td>Excellent sales</td>\n",
       "    </tr>\n",
       "    <tr>\n",
       "      <th>Bombay_Finance</th>\n",
       "      <td>899</td>\n",
       "      <td>917.00</td>\n",
       "      <td>674</td>\n",
       "      <td>Pub</td>\n",
       "      <td>1443</td>\n",
       "      <td>Mum</td>\n",
       "      <td>0</td>\n",
       "      <td>BFIN</td>\n",
       "      <td>Services</td>\n",
       "      <td>Apr 1925</td>\n",
       "      <td>1.0</td>\n",
       "      <td>WZ</td>\n",
       "      <td>average sales</td>\n",
       "    </tr>\n",
       "    <tr>\n",
       "      <th>Chennai_Shipping</th>\n",
       "      <td>992</td>\n",
       "      <td>821.00</td>\n",
       "      <td>665</td>\n",
       "      <td>Pub</td>\n",
       "      <td>1154</td>\n",
       "      <td>Che</td>\n",
       "      <td>1</td>\n",
       "      <td>SHIP</td>\n",
       "      <td>Goods</td>\n",
       "      <td>Nov 1930</td>\n",
       "      <td>10.0</td>\n",
       "      <td>NaN</td>\n",
       "      <td>Excellent sales</td>\n",
       "    </tr>\n",
       "    <tr>\n",
       "      <th>Eastern_Estates</th>\n",
       "      <td>945</td>\n",
       "      <td>834.23</td>\n",
       "      <td>789</td>\n",
       "      <td>Pvt</td>\n",
       "      <td>1873</td>\n",
       "      <td>Kol</td>\n",
       "      <td>1</td>\n",
       "      <td>EEST</td>\n",
       "      <td>Goods</td>\n",
       "      <td>Jan 1994</td>\n",
       "      <td>6.0</td>\n",
       "      <td>EZ</td>\n",
       "      <td>good sales</td>\n",
       "    </tr>\n",
       "  </tbody>\n",
       "</table>\n",
       "</div>"
      ],
      "text/plain": [
       "                   Vol     Rev  Exp Sector  EmpCnt   HQ  MNC StockID  \\\n",
       "Deccan_Sporting    931  839.80  615    Pvt     154  Hyd    1    SPRT   \n",
       "Kolkata_FMCG       925  874.40  676    Pub    1379  Kol    0    KFMC   \n",
       "NCR_Leagles        931  863.50  605    Pub    1935  NCR    0    NCRL   \n",
       "Bangalore_Systems  900  881.60  650    Gov    1361  Blr    0    BSYS   \n",
       "Chennai_Chemicals  966  863.20  608    Pub    1656  Che    1    CHEM   \n",
       "IR                 954  733.00  609    Gov   13023  NCR    0    INDI   \n",
       "kingfisher         966  805.00  895    Pvt     119  Blr    1    BREW   \n",
       "Bombay_Finance     899  917.00  674    Pub    1443  Mum    0    BFIN   \n",
       "Chennai_Shipping   992  821.00  665    Pub    1154  Che    1    SHIP   \n",
       "Eastern_Estates    945  834.23  789    Pvt    1873  Kol    1    EEST   \n",
       "\n",
       "                        GST   Started  rank Zone sales performance  \n",
       "Deccan_Sporting    Services  Mar 1943   5.0  NaN        good sales  \n",
       "Kolkata_FMCG          Goods  Jan 1920   3.0   EZ     average sales  \n",
       "NCR_Leagles        Services  Feb 1960   5.0   NZ        good sales  \n",
       "Bangalore_Systems  Services  Apr 1950   2.0   SZ     average sales  \n",
       "Chennai_Chemicals     Goods  Aug 1928   9.0  NaN   Excellent sales  \n",
       "IR                 Services  Mar 1920   7.0   NZ   Excellent sales  \n",
       "kingfisher            Goods  Oct 1971   9.0   SZ   Excellent sales  \n",
       "Bombay_Finance     Services  Apr 1925   1.0   WZ     average sales  \n",
       "Chennai_Shipping      Goods  Nov 1930  10.0  NaN   Excellent sales  \n",
       "Eastern_Estates       Goods  Jan 1994   6.0   EZ        good sales  "
      ]
     },
     "execution_count": 507,
     "metadata": {},
     "output_type": "execute_result"
    }
   ],
   "source": [
    "abc={'Bangalore_Breweries':'kingfisher','Indi_Services':'IR'}\n",
    "df1.rename(index=abc,inplace=True)\n",
    "df1"
   ]
  },
  {
   "cell_type": "code",
   "execution_count": 511,
   "id": "696c93c7",
   "metadata": {},
   "outputs": [
    {
     "data": {
      "text/plain": [
       "array([[93, 50, 83, 64],\n",
       "       [41, 86, 49, 35],\n",
       "       [61, 16, 55, 22],\n",
       "       [59, 76, 85, 95],\n",
       "       [79, 74, 22, 31],\n",
       "       [58, 51, 89, 72]])"
      ]
     },
     "execution_count": 511,
     "metadata": {},
     "output_type": "execute_result"
    }
   ],
   "source": [
    "np.random.seed(23)\n",
    "n64=np.random.randint(low=10,high=100,size=(6,4))\n",
    "n64"
   ]
  },
  {
   "cell_type": "code",
   "execution_count": 512,
   "id": "e33fa7d2",
   "metadata": {},
   "outputs": [],
   "source": [
    "row_level0_labels=['Tata','Birla','Wipro']\n",
    "row_level1_labels=['FMCG','Tech']\n",
    "col_level0_labels=[2020,2021]\n",
    "col_level1_labels=['q1','q2']\n",
    "row_label=pd.MultiIndex.from_product([row_level0_labels,row_level1_labels])\n",
    "colum_label=pd.MultiIndex.from_product([col_level0_labels,col_level1_labels])"
   ]
  },
  {
   "cell_type": "code",
   "execution_count": 515,
   "id": "cf4bd387",
   "metadata": {},
   "outputs": [
    {
     "data": {
      "text/html": [
       "<div>\n",
       "<style scoped>\n",
       "    .dataframe tbody tr th:only-of-type {\n",
       "        vertical-align: middle;\n",
       "    }\n",
       "\n",
       "    .dataframe tbody tr th {\n",
       "        vertical-align: top;\n",
       "    }\n",
       "\n",
       "    .dataframe thead tr th {\n",
       "        text-align: left;\n",
       "    }\n",
       "</style>\n",
       "<table border=\"1\" class=\"dataframe\">\n",
       "  <thead>\n",
       "    <tr>\n",
       "      <th></th>\n",
       "      <th></th>\n",
       "      <th colspan=\"2\" halign=\"left\">2020</th>\n",
       "      <th colspan=\"2\" halign=\"left\">2021</th>\n",
       "    </tr>\n",
       "    <tr>\n",
       "      <th></th>\n",
       "      <th></th>\n",
       "      <th>q1</th>\n",
       "      <th>q2</th>\n",
       "      <th>q1</th>\n",
       "      <th>q2</th>\n",
       "    </tr>\n",
       "  </thead>\n",
       "  <tbody>\n",
       "    <tr>\n",
       "      <th rowspan=\"2\" valign=\"top\">Tata</th>\n",
       "      <th>FMCG</th>\n",
       "      <td>93</td>\n",
       "      <td>50</td>\n",
       "      <td>83</td>\n",
       "      <td>64</td>\n",
       "    </tr>\n",
       "    <tr>\n",
       "      <th>Tech</th>\n",
       "      <td>41</td>\n",
       "      <td>86</td>\n",
       "      <td>49</td>\n",
       "      <td>35</td>\n",
       "    </tr>\n",
       "    <tr>\n",
       "      <th rowspan=\"2\" valign=\"top\">Birla</th>\n",
       "      <th>FMCG</th>\n",
       "      <td>61</td>\n",
       "      <td>16</td>\n",
       "      <td>55</td>\n",
       "      <td>22</td>\n",
       "    </tr>\n",
       "    <tr>\n",
       "      <th>Tech</th>\n",
       "      <td>59</td>\n",
       "      <td>76</td>\n",
       "      <td>85</td>\n",
       "      <td>95</td>\n",
       "    </tr>\n",
       "    <tr>\n",
       "      <th rowspan=\"2\" valign=\"top\">Wipro</th>\n",
       "      <th>FMCG</th>\n",
       "      <td>79</td>\n",
       "      <td>74</td>\n",
       "      <td>22</td>\n",
       "      <td>31</td>\n",
       "    </tr>\n",
       "    <tr>\n",
       "      <th>Tech</th>\n",
       "      <td>58</td>\n",
       "      <td>51</td>\n",
       "      <td>89</td>\n",
       "      <td>72</td>\n",
       "    </tr>\n",
       "  </tbody>\n",
       "</table>\n",
       "</div>"
      ],
      "text/plain": [
       "           2020     2021    \n",
       "             q1  q2   q1  q2\n",
       "Tata  FMCG   93  50   83  64\n",
       "      Tech   41  86   49  35\n",
       "Birla FMCG   61  16   55  22\n",
       "      Tech   59  76   85  95\n",
       "Wipro FMCG   79  74   22  31\n",
       "      Tech   58  51   89  72"
      ]
     },
     "execution_count": 515,
     "metadata": {},
     "output_type": "execute_result"
    }
   ],
   "source": [
    "df40=pd.DataFrame(n64,index=row_label,columns=colum_label)\n",
    "df40"
   ]
  },
  {
   "cell_type": "code",
   "execution_count": 520,
   "id": "53abe858",
   "metadata": {},
   "outputs": [
    {
     "data": {
      "text/html": [
       "<div>\n",
       "<style scoped>\n",
       "    .dataframe tbody tr th:only-of-type {\n",
       "        vertical-align: middle;\n",
       "    }\n",
       "\n",
       "    .dataframe tbody tr th {\n",
       "        vertical-align: top;\n",
       "    }\n",
       "\n",
       "    .dataframe thead th {\n",
       "        text-align: right;\n",
       "    }\n",
       "</style>\n",
       "<table border=\"1\" class=\"dataframe\">\n",
       "  <thead>\n",
       "    <tr style=\"text-align: right;\">\n",
       "      <th></th>\n",
       "      <th>Vol</th>\n",
       "      <th>Rev</th>\n",
       "      <th>Exp</th>\n",
       "      <th>Sector</th>\n",
       "      <th>EmpCnt</th>\n",
       "      <th>HQ</th>\n",
       "      <th>MNC</th>\n",
       "      <th>StockID</th>\n",
       "      <th>GST</th>\n",
       "      <th>Started</th>\n",
       "    </tr>\n",
       "  </thead>\n",
       "  <tbody>\n",
       "    <tr>\n",
       "      <th>Deccan_Sporting</th>\n",
       "      <td>931</td>\n",
       "      <td>839.8</td>\n",
       "      <td>615</td>\n",
       "      <td>Pvt</td>\n",
       "      <td>NaN</td>\n",
       "      <td>Hyd</td>\n",
       "      <td>1</td>\n",
       "      <td>SPRT</td>\n",
       "      <td>Services</td>\n",
       "      <td>Mar 1943</td>\n",
       "    </tr>\n",
       "    <tr>\n",
       "      <th>Kolkata_FMCG</th>\n",
       "      <td>925</td>\n",
       "      <td>NaN</td>\n",
       "      <td>676</td>\n",
       "      <td>NaN</td>\n",
       "      <td>1379.0</td>\n",
       "      <td>Kol</td>\n",
       "      <td>0</td>\n",
       "      <td>KFMC</td>\n",
       "      <td>Goods</td>\n",
       "      <td>Jan 1920</td>\n",
       "    </tr>\n",
       "    <tr>\n",
       "      <th>NCR_Leagles</th>\n",
       "      <td>931</td>\n",
       "      <td>863.5</td>\n",
       "      <td>605</td>\n",
       "      <td>NaN</td>\n",
       "      <td>1935.0</td>\n",
       "      <td>NCR</td>\n",
       "      <td>0</td>\n",
       "      <td>NCRL</td>\n",
       "      <td>Services</td>\n",
       "      <td>Feb 1960</td>\n",
       "    </tr>\n",
       "    <tr>\n",
       "      <th>Bangalore_Systems</th>\n",
       "      <td>900</td>\n",
       "      <td>NaN</td>\n",
       "      <td>650</td>\n",
       "      <td>Gov</td>\n",
       "      <td>1361.0</td>\n",
       "      <td>Blr</td>\n",
       "      <td>0</td>\n",
       "      <td>BSYS</td>\n",
       "      <td>Services</td>\n",
       "      <td>Apr 1950</td>\n",
       "    </tr>\n",
       "    <tr>\n",
       "      <th>Chennai_Chemicals</th>\n",
       "      <td>966</td>\n",
       "      <td>863.2</td>\n",
       "      <td>608</td>\n",
       "      <td>Pub</td>\n",
       "      <td>1656.0</td>\n",
       "      <td>Che</td>\n",
       "      <td>1</td>\n",
       "      <td>CHEM</td>\n",
       "      <td>Goods</td>\n",
       "      <td>Aug 1928</td>\n",
       "    </tr>\n",
       "    <tr>\n",
       "      <th>Indi_Services</th>\n",
       "      <td>954</td>\n",
       "      <td>733</td>\n",
       "      <td>609</td>\n",
       "      <td>Gov</td>\n",
       "      <td>13023.0</td>\n",
       "      <td>NCR</td>\n",
       "      <td>0</td>\n",
       "      <td>INDI</td>\n",
       "      <td>Services</td>\n",
       "      <td>Mar 1920</td>\n",
       "    </tr>\n",
       "    <tr>\n",
       "      <th>Bangalore_Breweries</th>\n",
       "      <td>966</td>\n",
       "      <td>NaN</td>\n",
       "      <td>895</td>\n",
       "      <td>NaN</td>\n",
       "      <td>119.0</td>\n",
       "      <td>Blr</td>\n",
       "      <td>1</td>\n",
       "      <td>BREW</td>\n",
       "      <td>Goods</td>\n",
       "      <td>Oct 1971</td>\n",
       "    </tr>\n",
       "    <tr>\n",
       "      <th>Bombay_Finance</th>\n",
       "      <td>899</td>\n",
       "      <td>?</td>\n",
       "      <td>674</td>\n",
       "      <td>Pub</td>\n",
       "      <td>1443.0</td>\n",
       "      <td>Mum</td>\n",
       "      <td>0</td>\n",
       "      <td>BFIN</td>\n",
       "      <td>Services</td>\n",
       "      <td>Apr 1925</td>\n",
       "    </tr>\n",
       "    <tr>\n",
       "      <th>Chennai_Shipping</th>\n",
       "      <td>992</td>\n",
       "      <td>821</td>\n",
       "      <td>665</td>\n",
       "      <td>?</td>\n",
       "      <td>1154.0</td>\n",
       "      <td>Che</td>\n",
       "      <td>1</td>\n",
       "      <td>SHIP</td>\n",
       "      <td>Goods</td>\n",
       "      <td>Nov 1930</td>\n",
       "    </tr>\n",
       "    <tr>\n",
       "      <th>Eastern_Estates</th>\n",
       "      <td>945</td>\n",
       "      <td>834.23</td>\n",
       "      <td>789</td>\n",
       "      <td>Pvt</td>\n",
       "      <td>1873.0</td>\n",
       "      <td>NaN</td>\n",
       "      <td>1</td>\n",
       "      <td>EEST</td>\n",
       "      <td>Goods</td>\n",
       "      <td>Jan 1994</td>\n",
       "    </tr>\n",
       "  </tbody>\n",
       "</table>\n",
       "</div>"
      ],
      "text/plain": [
       "                     Vol     Rev  Exp Sector   EmpCnt   HQ  MNC StockID  \\\n",
       "Deccan_Sporting      931   839.8  615    Pvt      NaN  Hyd    1    SPRT   \n",
       "Kolkata_FMCG         925     NaN  676    NaN   1379.0  Kol    0    KFMC   \n",
       "NCR_Leagles          931   863.5  605    NaN   1935.0  NCR    0    NCRL   \n",
       "Bangalore_Systems    900     NaN  650    Gov   1361.0  Blr    0    BSYS   \n",
       "Chennai_Chemicals    966   863.2  608    Pub   1656.0  Che    1    CHEM   \n",
       "Indi_Services        954     733  609    Gov  13023.0  NCR    0    INDI   \n",
       "Bangalore_Breweries  966     NaN  895    NaN    119.0  Blr    1    BREW   \n",
       "Bombay_Finance       899       ?  674    Pub   1443.0  Mum    0    BFIN   \n",
       "Chennai_Shipping     992     821  665      ?   1154.0  Che    1    SHIP   \n",
       "Eastern_Estates      945  834.23  789    Pvt   1873.0  NaN    1    EEST   \n",
       "\n",
       "                          GST   Started  \n",
       "Deccan_Sporting      Services  Mar 1943  \n",
       "Kolkata_FMCG            Goods  Jan 1920  \n",
       "NCR_Leagles          Services  Feb 1960  \n",
       "Bangalore_Systems    Services  Apr 1950  \n",
       "Chennai_Chemicals       Goods  Aug 1928  \n",
       "Indi_Services        Services  Mar 1920  \n",
       "Bangalore_Breweries     Goods  Oct 1971  \n",
       "Bombay_Finance       Services  Apr 1925  \n",
       "Chennai_Shipping        Goods  Nov 1930  \n",
       "Eastern_Estates         Goods  Jan 1994  "
      ]
     },
     "execution_count": 520,
     "metadata": {},
     "output_type": "execute_result"
    }
   ],
   "source": [
    "df1=pd.read_csv('https://raw.githubusercontent.com/vcsgithub/vcsgithub.github.io/master/lds0.csv')\n",
    "df1\n",
    "df1.dropna()\n",
    "df1\n"
   ]
  },
  {
   "cell_type": "code",
   "execution_count": 523,
   "id": "1ff4f53f",
   "metadata": {},
   "outputs": [],
   "source": [
    "df1.loc['NCR_Leagles','EmpCnt']=int(1234\n",
    "                                   )"
   ]
  },
  {
   "cell_type": "code",
   "execution_count": 527,
   "id": "b72f1fdc",
   "metadata": {},
   "outputs": [
    {
     "name": "stdout",
     "output_type": "stream",
     "text": [
      "        Date    City  Temperature  Humidity\n",
      "0  15/1/2019  Shimla           11        67\n",
      "1  15/2/2019  Shimla           12        65\n",
      "2  15/3/2019  Shimla           11        57\n",
      "3  15/1/2019  Shimla           11        67\n",
      "4  15/1/2019    Pune           29        34\n",
      "5  15/2/2019    Pune           32        26\n",
      "6  15/1/2020    Pune           29        21\n",
      "7  15/1/2019  Mysore           28        49\n",
      "8  15/2/2019  Mysore           31        47\n",
      "9  15/1/2020  Mysore           33        49\n"
     ]
    }
   ],
   "source": [
    "import pandas as pd \n",
    "df1=pd.read_csv('https://raw.githubusercontent.com/vcsgithub/vcsgithub.github.io/master/lds33.csv')\n",
    "df1\n",
    "print(df1.loc[::,::])"
   ]
  },
  {
   "cell_type": "code",
   "execution_count": 528,
   "id": "3a71ada7",
   "metadata": {},
   "outputs": [],
   "source": [
    "import numpy as np\n",
    "import pandas as pd\n",
    "import seaborn as sns\n",
    "import matplotlib.pyplot"
   ]
  },
  {
   "cell_type": "code",
   "execution_count": 530,
   "id": "57bbc761",
   "metadata": {},
   "outputs": [
    {
     "data": {
      "text/html": [
       "<div>\n",
       "<style scoped>\n",
       "    .dataframe tbody tr th:only-of-type {\n",
       "        vertical-align: middle;\n",
       "    }\n",
       "\n",
       "    .dataframe tbody tr th {\n",
       "        vertical-align: top;\n",
       "    }\n",
       "\n",
       "    .dataframe thead th {\n",
       "        text-align: right;\n",
       "    }\n",
       "</style>\n",
       "<table border=\"1\" class=\"dataframe\">\n",
       "  <thead>\n",
       "    <tr style=\"text-align: right;\">\n",
       "      <th></th>\n",
       "      <th>model</th>\n",
       "      <th>mpg</th>\n",
       "      <th>cyl</th>\n",
       "      <th>disp</th>\n",
       "      <th>hp</th>\n",
       "      <th>wt</th>\n",
       "      <th>qsec</th>\n",
       "      <th>am</th>\n",
       "      <th>gear</th>\n",
       "      <th>carb</th>\n",
       "    </tr>\n",
       "  </thead>\n",
       "  <tbody>\n",
       "    <tr>\n",
       "      <th>0</th>\n",
       "      <td>Mazda RX4</td>\n",
       "      <td>21.0</td>\n",
       "      <td>6</td>\n",
       "      <td>160.0</td>\n",
       "      <td>110</td>\n",
       "      <td>2.620</td>\n",
       "      <td>16.46</td>\n",
       "      <td>1</td>\n",
       "      <td>4</td>\n",
       "      <td>4</td>\n",
       "    </tr>\n",
       "    <tr>\n",
       "      <th>1</th>\n",
       "      <td>Mazda RX4 Wag</td>\n",
       "      <td>21.0</td>\n",
       "      <td>6</td>\n",
       "      <td>160.0</td>\n",
       "      <td>110</td>\n",
       "      <td>2.875</td>\n",
       "      <td>17.02</td>\n",
       "      <td>1</td>\n",
       "      <td>4</td>\n",
       "      <td>4</td>\n",
       "    </tr>\n",
       "    <tr>\n",
       "      <th>2</th>\n",
       "      <td>Datsun 710</td>\n",
       "      <td>22.8</td>\n",
       "      <td>4</td>\n",
       "      <td>108.0</td>\n",
       "      <td>93</td>\n",
       "      <td>2.320</td>\n",
       "      <td>18.61</td>\n",
       "      <td>1</td>\n",
       "      <td>4</td>\n",
       "      <td>1</td>\n",
       "    </tr>\n",
       "    <tr>\n",
       "      <th>3</th>\n",
       "      <td>Hornet 4 Drive</td>\n",
       "      <td>21.4</td>\n",
       "      <td>6</td>\n",
       "      <td>258.0</td>\n",
       "      <td>110</td>\n",
       "      <td>3.215</td>\n",
       "      <td>19.44</td>\n",
       "      <td>0</td>\n",
       "      <td>3</td>\n",
       "      <td>1</td>\n",
       "    </tr>\n",
       "    <tr>\n",
       "      <th>4</th>\n",
       "      <td>Hornet Sportabout</td>\n",
       "      <td>18.7</td>\n",
       "      <td>8</td>\n",
       "      <td>360.0</td>\n",
       "      <td>175</td>\n",
       "      <td>3.440</td>\n",
       "      <td>17.02</td>\n",
       "      <td>0</td>\n",
       "      <td>3</td>\n",
       "      <td>2</td>\n",
       "    </tr>\n",
       "    <tr>\n",
       "      <th>5</th>\n",
       "      <td>Valiant</td>\n",
       "      <td>18.1</td>\n",
       "      <td>6</td>\n",
       "      <td>225.0</td>\n",
       "      <td>105</td>\n",
       "      <td>3.460</td>\n",
       "      <td>20.22</td>\n",
       "      <td>0</td>\n",
       "      <td>3</td>\n",
       "      <td>1</td>\n",
       "    </tr>\n",
       "    <tr>\n",
       "      <th>6</th>\n",
       "      <td>Duster 360</td>\n",
       "      <td>14.3</td>\n",
       "      <td>8</td>\n",
       "      <td>360.0</td>\n",
       "      <td>245</td>\n",
       "      <td>3.570</td>\n",
       "      <td>15.84</td>\n",
       "      <td>0</td>\n",
       "      <td>3</td>\n",
       "      <td>4</td>\n",
       "    </tr>\n",
       "    <tr>\n",
       "      <th>7</th>\n",
       "      <td>Merc 240D</td>\n",
       "      <td>24.4</td>\n",
       "      <td>4</td>\n",
       "      <td>146.7</td>\n",
       "      <td>62</td>\n",
       "      <td>3.190</td>\n",
       "      <td>20.00</td>\n",
       "      <td>0</td>\n",
       "      <td>4</td>\n",
       "      <td>2</td>\n",
       "    </tr>\n",
       "    <tr>\n",
       "      <th>8</th>\n",
       "      <td>Merc 230</td>\n",
       "      <td>22.8</td>\n",
       "      <td>4</td>\n",
       "      <td>140.8</td>\n",
       "      <td>95</td>\n",
       "      <td>3.150</td>\n",
       "      <td>22.90</td>\n",
       "      <td>0</td>\n",
       "      <td>4</td>\n",
       "      <td>2</td>\n",
       "    </tr>\n",
       "    <tr>\n",
       "      <th>9</th>\n",
       "      <td>Merc 280</td>\n",
       "      <td>19.2</td>\n",
       "      <td>6</td>\n",
       "      <td>167.6</td>\n",
       "      <td>123</td>\n",
       "      <td>3.440</td>\n",
       "      <td>18.30</td>\n",
       "      <td>0</td>\n",
       "      <td>4</td>\n",
       "      <td>4</td>\n",
       "    </tr>\n",
       "    <tr>\n",
       "      <th>10</th>\n",
       "      <td>Merc 280C</td>\n",
       "      <td>17.8</td>\n",
       "      <td>6</td>\n",
       "      <td>167.6</td>\n",
       "      <td>123</td>\n",
       "      <td>3.440</td>\n",
       "      <td>18.90</td>\n",
       "      <td>0</td>\n",
       "      <td>4</td>\n",
       "      <td>4</td>\n",
       "    </tr>\n",
       "    <tr>\n",
       "      <th>11</th>\n",
       "      <td>Merc 450SE</td>\n",
       "      <td>16.4</td>\n",
       "      <td>8</td>\n",
       "      <td>275.8</td>\n",
       "      <td>180</td>\n",
       "      <td>4.070</td>\n",
       "      <td>17.40</td>\n",
       "      <td>0</td>\n",
       "      <td>3</td>\n",
       "      <td>3</td>\n",
       "    </tr>\n",
       "    <tr>\n",
       "      <th>12</th>\n",
       "      <td>Merc 450SL</td>\n",
       "      <td>17.3</td>\n",
       "      <td>8</td>\n",
       "      <td>275.8</td>\n",
       "      <td>180</td>\n",
       "      <td>3.730</td>\n",
       "      <td>17.60</td>\n",
       "      <td>0</td>\n",
       "      <td>3</td>\n",
       "      <td>3</td>\n",
       "    </tr>\n",
       "    <tr>\n",
       "      <th>13</th>\n",
       "      <td>Merc 450SLC</td>\n",
       "      <td>15.2</td>\n",
       "      <td>8</td>\n",
       "      <td>275.8</td>\n",
       "      <td>180</td>\n",
       "      <td>3.780</td>\n",
       "      <td>18.00</td>\n",
       "      <td>0</td>\n",
       "      <td>3</td>\n",
       "      <td>3</td>\n",
       "    </tr>\n",
       "    <tr>\n",
       "      <th>14</th>\n",
       "      <td>Cadillac Fleetwood</td>\n",
       "      <td>10.4</td>\n",
       "      <td>8</td>\n",
       "      <td>472.0</td>\n",
       "      <td>205</td>\n",
       "      <td>5.250</td>\n",
       "      <td>17.98</td>\n",
       "      <td>0</td>\n",
       "      <td>3</td>\n",
       "      <td>4</td>\n",
       "    </tr>\n",
       "    <tr>\n",
       "      <th>15</th>\n",
       "      <td>Lincoln Continental</td>\n",
       "      <td>10.4</td>\n",
       "      <td>8</td>\n",
       "      <td>460.0</td>\n",
       "      <td>215</td>\n",
       "      <td>5.424</td>\n",
       "      <td>17.82</td>\n",
       "      <td>0</td>\n",
       "      <td>3</td>\n",
       "      <td>4</td>\n",
       "    </tr>\n",
       "    <tr>\n",
       "      <th>16</th>\n",
       "      <td>Chrysler Imperial</td>\n",
       "      <td>14.7</td>\n",
       "      <td>8</td>\n",
       "      <td>440.0</td>\n",
       "      <td>230</td>\n",
       "      <td>5.345</td>\n",
       "      <td>17.42</td>\n",
       "      <td>0</td>\n",
       "      <td>3</td>\n",
       "      <td>4</td>\n",
       "    </tr>\n",
       "    <tr>\n",
       "      <th>17</th>\n",
       "      <td>Fiat 128</td>\n",
       "      <td>32.4</td>\n",
       "      <td>4</td>\n",
       "      <td>78.7</td>\n",
       "      <td>66</td>\n",
       "      <td>2.200</td>\n",
       "      <td>19.47</td>\n",
       "      <td>1</td>\n",
       "      <td>4</td>\n",
       "      <td>1</td>\n",
       "    </tr>\n",
       "    <tr>\n",
       "      <th>18</th>\n",
       "      <td>Honda Civic</td>\n",
       "      <td>30.4</td>\n",
       "      <td>4</td>\n",
       "      <td>75.7</td>\n",
       "      <td>52</td>\n",
       "      <td>1.615</td>\n",
       "      <td>18.52</td>\n",
       "      <td>1</td>\n",
       "      <td>4</td>\n",
       "      <td>2</td>\n",
       "    </tr>\n",
       "    <tr>\n",
       "      <th>19</th>\n",
       "      <td>Toyota Corolla</td>\n",
       "      <td>33.9</td>\n",
       "      <td>4</td>\n",
       "      <td>71.1</td>\n",
       "      <td>65</td>\n",
       "      <td>1.835</td>\n",
       "      <td>19.90</td>\n",
       "      <td>1</td>\n",
       "      <td>4</td>\n",
       "      <td>1</td>\n",
       "    </tr>\n",
       "    <tr>\n",
       "      <th>20</th>\n",
       "      <td>Toyota Corona</td>\n",
       "      <td>21.5</td>\n",
       "      <td>4</td>\n",
       "      <td>120.1</td>\n",
       "      <td>97</td>\n",
       "      <td>2.465</td>\n",
       "      <td>20.01</td>\n",
       "      <td>0</td>\n",
       "      <td>3</td>\n",
       "      <td>1</td>\n",
       "    </tr>\n",
       "    <tr>\n",
       "      <th>21</th>\n",
       "      <td>Dodge Challenger</td>\n",
       "      <td>15.5</td>\n",
       "      <td>8</td>\n",
       "      <td>318.0</td>\n",
       "      <td>150</td>\n",
       "      <td>3.520</td>\n",
       "      <td>16.87</td>\n",
       "      <td>0</td>\n",
       "      <td>3</td>\n",
       "      <td>2</td>\n",
       "    </tr>\n",
       "    <tr>\n",
       "      <th>22</th>\n",
       "      <td>AMC Javelin</td>\n",
       "      <td>15.2</td>\n",
       "      <td>8</td>\n",
       "      <td>304.0</td>\n",
       "      <td>150</td>\n",
       "      <td>3.435</td>\n",
       "      <td>17.30</td>\n",
       "      <td>0</td>\n",
       "      <td>3</td>\n",
       "      <td>2</td>\n",
       "    </tr>\n",
       "    <tr>\n",
       "      <th>23</th>\n",
       "      <td>Camaro Z28</td>\n",
       "      <td>13.3</td>\n",
       "      <td>8</td>\n",
       "      <td>350.0</td>\n",
       "      <td>245</td>\n",
       "      <td>3.840</td>\n",
       "      <td>15.41</td>\n",
       "      <td>0</td>\n",
       "      <td>3</td>\n",
       "      <td>4</td>\n",
       "    </tr>\n",
       "    <tr>\n",
       "      <th>24</th>\n",
       "      <td>Pontiac Firebird</td>\n",
       "      <td>19.2</td>\n",
       "      <td>8</td>\n",
       "      <td>400.0</td>\n",
       "      <td>175</td>\n",
       "      <td>3.845</td>\n",
       "      <td>17.05</td>\n",
       "      <td>0</td>\n",
       "      <td>3</td>\n",
       "      <td>2</td>\n",
       "    </tr>\n",
       "    <tr>\n",
       "      <th>25</th>\n",
       "      <td>Fiat X1-9</td>\n",
       "      <td>27.3</td>\n",
       "      <td>4</td>\n",
       "      <td>79.0</td>\n",
       "      <td>66</td>\n",
       "      <td>1.935</td>\n",
       "      <td>18.90</td>\n",
       "      <td>1</td>\n",
       "      <td>4</td>\n",
       "      <td>1</td>\n",
       "    </tr>\n",
       "    <tr>\n",
       "      <th>26</th>\n",
       "      <td>Porsche 914-2</td>\n",
       "      <td>26.0</td>\n",
       "      <td>4</td>\n",
       "      <td>120.3</td>\n",
       "      <td>91</td>\n",
       "      <td>2.140</td>\n",
       "      <td>16.70</td>\n",
       "      <td>1</td>\n",
       "      <td>5</td>\n",
       "      <td>2</td>\n",
       "    </tr>\n",
       "    <tr>\n",
       "      <th>27</th>\n",
       "      <td>Lotus Europa</td>\n",
       "      <td>30.4</td>\n",
       "      <td>4</td>\n",
       "      <td>95.1</td>\n",
       "      <td>113</td>\n",
       "      <td>1.513</td>\n",
       "      <td>16.90</td>\n",
       "      <td>1</td>\n",
       "      <td>5</td>\n",
       "      <td>2</td>\n",
       "    </tr>\n",
       "    <tr>\n",
       "      <th>28</th>\n",
       "      <td>Ford Pantera L</td>\n",
       "      <td>15.8</td>\n",
       "      <td>8</td>\n",
       "      <td>351.0</td>\n",
       "      <td>264</td>\n",
       "      <td>3.170</td>\n",
       "      <td>14.50</td>\n",
       "      <td>1</td>\n",
       "      <td>5</td>\n",
       "      <td>4</td>\n",
       "    </tr>\n",
       "    <tr>\n",
       "      <th>29</th>\n",
       "      <td>Ferrari Dino</td>\n",
       "      <td>19.7</td>\n",
       "      <td>6</td>\n",
       "      <td>145.0</td>\n",
       "      <td>175</td>\n",
       "      <td>2.770</td>\n",
       "      <td>15.50</td>\n",
       "      <td>1</td>\n",
       "      <td>5</td>\n",
       "      <td>6</td>\n",
       "    </tr>\n",
       "    <tr>\n",
       "      <th>30</th>\n",
       "      <td>Maserati Bora</td>\n",
       "      <td>15.0</td>\n",
       "      <td>8</td>\n",
       "      <td>301.0</td>\n",
       "      <td>335</td>\n",
       "      <td>3.570</td>\n",
       "      <td>14.60</td>\n",
       "      <td>1</td>\n",
       "      <td>5</td>\n",
       "      <td>8</td>\n",
       "    </tr>\n",
       "    <tr>\n",
       "      <th>31</th>\n",
       "      <td>Volvo 142E</td>\n",
       "      <td>21.4</td>\n",
       "      <td>4</td>\n",
       "      <td>121.0</td>\n",
       "      <td>109</td>\n",
       "      <td>2.780</td>\n",
       "      <td>18.60</td>\n",
       "      <td>1</td>\n",
       "      <td>4</td>\n",
       "      <td>2</td>\n",
       "    </tr>\n",
       "  </tbody>\n",
       "</table>\n",
       "</div>"
      ],
      "text/plain": [
       "                  model   mpg  cyl   disp   hp     wt   qsec  am  gear  carb\n",
       "0             Mazda RX4  21.0    6  160.0  110  2.620  16.46   1     4     4\n",
       "1         Mazda RX4 Wag  21.0    6  160.0  110  2.875  17.02   1     4     4\n",
       "2            Datsun 710  22.8    4  108.0   93  2.320  18.61   1     4     1\n",
       "3        Hornet 4 Drive  21.4    6  258.0  110  3.215  19.44   0     3     1\n",
       "4     Hornet Sportabout  18.7    8  360.0  175  3.440  17.02   0     3     2\n",
       "5               Valiant  18.1    6  225.0  105  3.460  20.22   0     3     1\n",
       "6            Duster 360  14.3    8  360.0  245  3.570  15.84   0     3     4\n",
       "7             Merc 240D  24.4    4  146.7   62  3.190  20.00   0     4     2\n",
       "8              Merc 230  22.8    4  140.8   95  3.150  22.90   0     4     2\n",
       "9              Merc 280  19.2    6  167.6  123  3.440  18.30   0     4     4\n",
       "10            Merc 280C  17.8    6  167.6  123  3.440  18.90   0     4     4\n",
       "11           Merc 450SE  16.4    8  275.8  180  4.070  17.40   0     3     3\n",
       "12           Merc 450SL  17.3    8  275.8  180  3.730  17.60   0     3     3\n",
       "13          Merc 450SLC  15.2    8  275.8  180  3.780  18.00   0     3     3\n",
       "14   Cadillac Fleetwood  10.4    8  472.0  205  5.250  17.98   0     3     4\n",
       "15  Lincoln Continental  10.4    8  460.0  215  5.424  17.82   0     3     4\n",
       "16    Chrysler Imperial  14.7    8  440.0  230  5.345  17.42   0     3     4\n",
       "17             Fiat 128  32.4    4   78.7   66  2.200  19.47   1     4     1\n",
       "18          Honda Civic  30.4    4   75.7   52  1.615  18.52   1     4     2\n",
       "19       Toyota Corolla  33.9    4   71.1   65  1.835  19.90   1     4     1\n",
       "20        Toyota Corona  21.5    4  120.1   97  2.465  20.01   0     3     1\n",
       "21     Dodge Challenger  15.5    8  318.0  150  3.520  16.87   0     3     2\n",
       "22          AMC Javelin  15.2    8  304.0  150  3.435  17.30   0     3     2\n",
       "23           Camaro Z28  13.3    8  350.0  245  3.840  15.41   0     3     4\n",
       "24     Pontiac Firebird  19.2    8  400.0  175  3.845  17.05   0     3     2\n",
       "25            Fiat X1-9  27.3    4   79.0   66  1.935  18.90   1     4     1\n",
       "26        Porsche 914-2  26.0    4  120.3   91  2.140  16.70   1     5     2\n",
       "27         Lotus Europa  30.4    4   95.1  113  1.513  16.90   1     5     2\n",
       "28       Ford Pantera L  15.8    8  351.0  264  3.170  14.50   1     5     4\n",
       "29         Ferrari Dino  19.7    6  145.0  175  2.770  15.50   1     5     6\n",
       "30        Maserati Bora  15.0    8  301.0  335  3.570  14.60   1     5     8\n",
       "31           Volvo 142E  21.4    4  121.0  109  2.780  18.60   1     4     2"
      ]
     },
     "execution_count": 530,
     "metadata": {},
     "output_type": "execute_result"
    }
   ],
   "source": [
    "import pandas as pd\n",
    "df1=pd.read_csv('https://raw.githubusercontent.com/vcsgithub/vcsgithub.github.io/master/lds41.csv')\n",
    "df1"
   ]
  },
  {
   "cell_type": "code",
   "execution_count": 537,
   "id": "ea1e3a43",
   "metadata": {},
   "outputs": [
    {
     "data": {
      "image/png": "[encoded data removed]",
      "text/plain": [
       "<Figure size 640x480 with 1 Axes>"
      ]
     },
     "metadata": {},
     "output_type": "display_data"
    }
   ],
   "source": [
    "X1=[1,2,3,4,5,6]\n",
    "Y1=[10,13,14,15,16,17]\n",
    "plt.scatter(x=X1,y=Y1,color='green',marker='*')\n",
    "plt.xlabel('x-asix')\n",
    "plt.ylabel('y-asix')\n",
    "plt.title('my first plot')\n",
    "plt.xticks([1,2,3])\n",
    "plt.xticks([10,15,20])\n",
    "plt.savefig('scatter.png')"
   ]
  },
  {
   "cell_type": "code",
   "execution_count": 539,
   "id": "2ae4d704",
   "metadata": {},
   "outputs": [
    {
     "data": {
      "text/plain": [
       "<matplotlib.collections.PathCollection at 0x2014f1f4310>"
      ]
     },
     "execution_count": 539,
     "metadata": {},
     "output_type": "execute_result"
    },
    {
     "data": {
      "image/png": "[encoded data removed]",
      "text/plain": [
       "<Figure size 640x480 with 1 Axes>"
      ]
     },
     "metadata": {},
     "output_type": "display_data"
    }
   ],
   "source": [
    "plt.scatter(x=df1.gear,y=df1.mpg)"
   ]
  },
  {
   "cell_type": "code",
   "execution_count": 542,
   "id": "d6a11df1",
   "metadata": {},
   "outputs": [
    {
     "data": {
      "text/plain": [
       "<Axes: xlabel='gear', ylabel='mpg'>"
      ]
     },
     "execution_count": 542,
     "metadata": {},
     "output_type": "execute_result"
    },
    {
     "data": {
      "image/png": "[encoded data removed]",
      "text/plain": [
       "<Figure size 640x480 with 1 Axes>"
      ]
     },
     "metadata": {},
     "output_type": "display_data"
    }
   ],
   "source": [
    "df1.plot(kind='scatter',x='gear',y='mpg')"
   ]
  },
  {
   "cell_type": "code",
   "execution_count": 544,
   "id": "99cc2f0e",
   "metadata": {},
   "outputs": [
    {
     "data": {
      "image/png": "[encoded data removed]",
      "text/plain": [
       "<Figure size 640x480 with 1 Axes>"
      ]
     },
     "metadata": {},
     "output_type": "display_data"
    }
   ],
   "source": [
    "x1 = [1,2,3,4,5,6]\n",
    "y1 = [10,13,14,15,16,17]\n",
    "\n",
    "plt.scatter(x=x1,y=y1,color='green',marker='>') #bivariant needs two values \n",
    "plt.xticks(ps1.index)\n",
    "plt.text(4,11,'hello')\n",
    "for x,y in zip(x1,y1):\n",
    "    ms1=str((x,y))\n",
    "    plt.text(x,y,ms1)\n",
    "plt.show()"
   ]
  },
  {
   "cell_type": "code",
   "execution_count": 548,
   "id": "69606944",
   "metadata": {},
   "outputs": [
    {
     "data": {
      "text/plain": [
       "[<matplotlib.lines.Line2D at 0x201502d4350>]"
      ]
     },
     "execution_count": 548,
     "metadata": {},
     "output_type": "execute_result"
    },
    {
     "data": {
      "image/png": "[encoded data removed]",
      "text/plain": [
       "<Figure size 640x480 with 1 Axes>"
      ]
     },
     "metadata": {},
     "output_type": "display_data"
    }
   ],
   "source": [
    "# line plot\n",
    "x1 = [1,2,3,4,5,6]\n",
    "y1 = [10,13,14,15,16,17]\n",
    "\n",
    "plt.plot(x1,y1,color='green',marker='*')"
   ]
  },
  {
   "cell_type": "code",
   "execution_count": 551,
   "id": "9219e443",
   "metadata": {},
   "outputs": [
    {
     "data": {
      "text/plain": [
       "<Axes: xlabel='wt'>"
      ]
     },
     "execution_count": 551,
     "metadata": {},
     "output_type": "execute_result"
    },
    {
     "data": {
      "image/png": "[encoded data removed]",
      "text/plain": [
       "<Figure size 640x480 with 1 Axes>"
      ]
     },
     "metadata": {},
     "output_type": "display_data"
    }
   ],
   "source": [
    "df1.sort_values(by='wt').plot(kind='line',x='wt',y='mpg')"
   ]
  },
  {
   "cell_type": "code",
   "execution_count": 553,
   "id": "79cc4315",
   "metadata": {},
   "outputs": [
    {
     "name": "stdout",
     "output_type": "stream",
     "text": [
      "[ 1  4  9 16 25 36]\n"
     ]
    },
    {
     "data": {
      "image/png": "[encoded data removed]",
      "text/plain": [
       "<Figure size 640x480 with 1 Axes>"
      ]
     },
     "metadata": {},
     "output_type": "display_data"
    }
   ],
   "source": [
    "import numpy as np \n",
    "\n",
    "x1 = np.array([1,2,3,4,5,6])\n",
    "y1 = x1 * 2\n",
    "y2 = x1 ** 2\n",
    "plt.plot(x1,y1,color='green',marker='*',label='linear plot')\n",
    "plt.plot(x1,y2,color='red',marker='>',label='expo plot')\n",
    "#plt.show()\n",
    "print(y2)"
   ]
  },
  {
   "cell_type": "code",
   "execution_count": 554,
   "id": "e3c21f10",
   "metadata": {},
   "outputs": [],
   "source": [
    "cname=['tata','birla','wirpo','infy','hcl']\n",
    "e1count=[100,200,300,900,800]\n",
    "e2count=[150,250,350,450,550]"
   ]
  },
  {
   "cell_type": "code",
   "execution_count": 562,
   "id": "cb496dc3",
   "metadata": {},
   "outputs": [
    {
     "data": {
      "text/plain": [
       "<BarContainer object of 5 artists>"
      ]
     },
     "execution_count": 562,
     "metadata": {},
     "output_type": "execute_result"
    },
    {
     "data": {
      "image/png": "[encoded data removed]",
      "text/plain": [
       "<Figure size 640x480 with 1 Axes>"
      ]
     },
     "metadata": {},
     "output_type": "display_data"
    }
   ],
   "source": [
    "plt.bar(x=cname,height=e1count,color='red',width=.6)\n",
    "plt.bar(x=cname,height=e2count,color='green',width=.5)"
   ]
  },
  {
   "cell_type": "code",
   "execution_count": 564,
   "id": "56ce7281",
   "metadata": {},
   "outputs": [
    {
     "data": {
      "text/html": [
       "<div>\n",
       "<style scoped>\n",
       "    .dataframe tbody tr th:only-of-type {\n",
       "        vertical-align: middle;\n",
       "    }\n",
       "\n",
       "    .dataframe tbody tr th {\n",
       "        vertical-align: top;\n",
       "    }\n",
       "\n",
       "    .dataframe thead th {\n",
       "        text-align: right;\n",
       "    }\n",
       "</style>\n",
       "<table border=\"1\" class=\"dataframe\">\n",
       "  <thead>\n",
       "    <tr style=\"text-align: right;\">\n",
       "      <th></th>\n",
       "      <th>model</th>\n",
       "      <th>mpg</th>\n",
       "      <th>cyl</th>\n",
       "      <th>disp</th>\n",
       "      <th>hp</th>\n",
       "      <th>wt</th>\n",
       "      <th>qsec</th>\n",
       "      <th>am</th>\n",
       "      <th>gear</th>\n",
       "      <th>carb</th>\n",
       "    </tr>\n",
       "  </thead>\n",
       "  <tbody>\n",
       "    <tr>\n",
       "      <th>0</th>\n",
       "      <td>Mazda RX4</td>\n",
       "      <td>21.0</td>\n",
       "      <td>6</td>\n",
       "      <td>160.0</td>\n",
       "      <td>110</td>\n",
       "      <td>2.620</td>\n",
       "      <td>16.46</td>\n",
       "      <td>1</td>\n",
       "      <td>4</td>\n",
       "      <td>4</td>\n",
       "    </tr>\n",
       "    <tr>\n",
       "      <th>1</th>\n",
       "      <td>Mazda RX4 Wag</td>\n",
       "      <td>21.0</td>\n",
       "      <td>6</td>\n",
       "      <td>160.0</td>\n",
       "      <td>110</td>\n",
       "      <td>2.875</td>\n",
       "      <td>17.02</td>\n",
       "      <td>1</td>\n",
       "      <td>4</td>\n",
       "      <td>4</td>\n",
       "    </tr>\n",
       "    <tr>\n",
       "      <th>2</th>\n",
       "      <td>Datsun 710</td>\n",
       "      <td>22.8</td>\n",
       "      <td>4</td>\n",
       "      <td>108.0</td>\n",
       "      <td>93</td>\n",
       "      <td>2.320</td>\n",
       "      <td>18.61</td>\n",
       "      <td>1</td>\n",
       "      <td>4</td>\n",
       "      <td>1</td>\n",
       "    </tr>\n",
       "    <tr>\n",
       "      <th>3</th>\n",
       "      <td>Hornet 4 Drive</td>\n",
       "      <td>21.4</td>\n",
       "      <td>6</td>\n",
       "      <td>258.0</td>\n",
       "      <td>110</td>\n",
       "      <td>3.215</td>\n",
       "      <td>19.44</td>\n",
       "      <td>0</td>\n",
       "      <td>3</td>\n",
       "      <td>1</td>\n",
       "    </tr>\n",
       "    <tr>\n",
       "      <th>4</th>\n",
       "      <td>Hornet Sportabout</td>\n",
       "      <td>18.7</td>\n",
       "      <td>8</td>\n",
       "      <td>360.0</td>\n",
       "      <td>175</td>\n",
       "      <td>3.440</td>\n",
       "      <td>17.02</td>\n",
       "      <td>0</td>\n",
       "      <td>3</td>\n",
       "      <td>2</td>\n",
       "    </tr>\n",
       "    <tr>\n",
       "      <th>5</th>\n",
       "      <td>Valiant</td>\n",
       "      <td>18.1</td>\n",
       "      <td>6</td>\n",
       "      <td>225.0</td>\n",
       "      <td>105</td>\n",
       "      <td>3.460</td>\n",
       "      <td>20.22</td>\n",
       "      <td>0</td>\n",
       "      <td>3</td>\n",
       "      <td>1</td>\n",
       "    </tr>\n",
       "    <tr>\n",
       "      <th>6</th>\n",
       "      <td>Duster 360</td>\n",
       "      <td>14.3</td>\n",
       "      <td>8</td>\n",
       "      <td>360.0</td>\n",
       "      <td>245</td>\n",
       "      <td>3.570</td>\n",
       "      <td>15.84</td>\n",
       "      <td>0</td>\n",
       "      <td>3</td>\n",
       "      <td>4</td>\n",
       "    </tr>\n",
       "    <tr>\n",
       "      <th>7</th>\n",
       "      <td>Merc 240D</td>\n",
       "      <td>24.4</td>\n",
       "      <td>4</td>\n",
       "      <td>146.7</td>\n",
       "      <td>62</td>\n",
       "      <td>3.190</td>\n",
       "      <td>20.00</td>\n",
       "      <td>0</td>\n",
       "      <td>4</td>\n",
       "      <td>2</td>\n",
       "    </tr>\n",
       "    <tr>\n",
       "      <th>8</th>\n",
       "      <td>Merc 230</td>\n",
       "      <td>22.8</td>\n",
       "      <td>4</td>\n",
       "      <td>140.8</td>\n",
       "      <td>95</td>\n",
       "      <td>3.150</td>\n",
       "      <td>22.90</td>\n",
       "      <td>0</td>\n",
       "      <td>4</td>\n",
       "      <td>2</td>\n",
       "    </tr>\n",
       "    <tr>\n",
       "      <th>9</th>\n",
       "      <td>Merc 280</td>\n",
       "      <td>19.2</td>\n",
       "      <td>6</td>\n",
       "      <td>167.6</td>\n",
       "      <td>123</td>\n",
       "      <td>3.440</td>\n",
       "      <td>18.30</td>\n",
       "      <td>0</td>\n",
       "      <td>4</td>\n",
       "      <td>4</td>\n",
       "    </tr>\n",
       "    <tr>\n",
       "      <th>10</th>\n",
       "      <td>Merc 280C</td>\n",
       "      <td>17.8</td>\n",
       "      <td>6</td>\n",
       "      <td>167.6</td>\n",
       "      <td>123</td>\n",
       "      <td>3.440</td>\n",
       "      <td>18.90</td>\n",
       "      <td>0</td>\n",
       "      <td>4</td>\n",
       "      <td>4</td>\n",
       "    </tr>\n",
       "    <tr>\n",
       "      <th>11</th>\n",
       "      <td>Merc 450SE</td>\n",
       "      <td>16.4</td>\n",
       "      <td>8</td>\n",
       "      <td>275.8</td>\n",
       "      <td>180</td>\n",
       "      <td>4.070</td>\n",
       "      <td>17.40</td>\n",
       "      <td>0</td>\n",
       "      <td>3</td>\n",
       "      <td>3</td>\n",
       "    </tr>\n",
       "    <tr>\n",
       "      <th>12</th>\n",
       "      <td>Merc 450SL</td>\n",
       "      <td>17.3</td>\n",
       "      <td>8</td>\n",
       "      <td>275.8</td>\n",
       "      <td>180</td>\n",
       "      <td>3.730</td>\n",
       "      <td>17.60</td>\n",
       "      <td>0</td>\n",
       "      <td>3</td>\n",
       "      <td>3</td>\n",
       "    </tr>\n",
       "    <tr>\n",
       "      <th>13</th>\n",
       "      <td>Merc 450SLC</td>\n",
       "      <td>15.2</td>\n",
       "      <td>8</td>\n",
       "      <td>275.8</td>\n",
       "      <td>180</td>\n",
       "      <td>3.780</td>\n",
       "      <td>18.00</td>\n",
       "      <td>0</td>\n",
       "      <td>3</td>\n",
       "      <td>3</td>\n",
       "    </tr>\n",
       "    <tr>\n",
       "      <th>14</th>\n",
       "      <td>Cadillac Fleetwood</td>\n",
       "      <td>10.4</td>\n",
       "      <td>8</td>\n",
       "      <td>472.0</td>\n",
       "      <td>205</td>\n",
       "      <td>5.250</td>\n",
       "      <td>17.98</td>\n",
       "      <td>0</td>\n",
       "      <td>3</td>\n",
       "      <td>4</td>\n",
       "    </tr>\n",
       "    <tr>\n",
       "      <th>15</th>\n",
       "      <td>Lincoln Continental</td>\n",
       "      <td>10.4</td>\n",
       "      <td>8</td>\n",
       "      <td>460.0</td>\n",
       "      <td>215</td>\n",
       "      <td>5.424</td>\n",
       "      <td>17.82</td>\n",
       "      <td>0</td>\n",
       "      <td>3</td>\n",
       "      <td>4</td>\n",
       "    </tr>\n",
       "    <tr>\n",
       "      <th>16</th>\n",
       "      <td>Chrysler Imperial</td>\n",
       "      <td>14.7</td>\n",
       "      <td>8</td>\n",
       "      <td>440.0</td>\n",
       "      <td>230</td>\n",
       "      <td>5.345</td>\n",
       "      <td>17.42</td>\n",
       "      <td>0</td>\n",
       "      <td>3</td>\n",
       "      <td>4</td>\n",
       "    </tr>\n",
       "    <tr>\n",
       "      <th>17</th>\n",
       "      <td>Fiat 128</td>\n",
       "      <td>32.4</td>\n",
       "      <td>4</td>\n",
       "      <td>78.7</td>\n",
       "      <td>66</td>\n",
       "      <td>2.200</td>\n",
       "      <td>19.47</td>\n",
       "      <td>1</td>\n",
       "      <td>4</td>\n",
       "      <td>1</td>\n",
       "    </tr>\n",
       "    <tr>\n",
       "      <th>18</th>\n",
       "      <td>Honda Civic</td>\n",
       "      <td>30.4</td>\n",
       "      <td>4</td>\n",
       "      <td>75.7</td>\n",
       "      <td>52</td>\n",
       "      <td>1.615</td>\n",
       "      <td>18.52</td>\n",
       "      <td>1</td>\n",
       "      <td>4</td>\n",
       "      <td>2</td>\n",
       "    </tr>\n",
       "    <tr>\n",
       "      <th>19</th>\n",
       "      <td>Toyota Corolla</td>\n",
       "      <td>33.9</td>\n",
       "      <td>4</td>\n",
       "      <td>71.1</td>\n",
       "      <td>65</td>\n",
       "      <td>1.835</td>\n",
       "      <td>19.90</td>\n",
       "      <td>1</td>\n",
       "      <td>4</td>\n",
       "      <td>1</td>\n",
       "    </tr>\n",
       "    <tr>\n",
       "      <th>20</th>\n",
       "      <td>Toyota Corona</td>\n",
       "      <td>21.5</td>\n",
       "      <td>4</td>\n",
       "      <td>120.1</td>\n",
       "      <td>97</td>\n",
       "      <td>2.465</td>\n",
       "      <td>20.01</td>\n",
       "      <td>0</td>\n",
       "      <td>3</td>\n",
       "      <td>1</td>\n",
       "    </tr>\n",
       "    <tr>\n",
       "      <th>21</th>\n",
       "      <td>Dodge Challenger</td>\n",
       "      <td>15.5</td>\n",
       "      <td>8</td>\n",
       "      <td>318.0</td>\n",
       "      <td>150</td>\n",
       "      <td>3.520</td>\n",
       "      <td>16.87</td>\n",
       "      <td>0</td>\n",
       "      <td>3</td>\n",
       "      <td>2</td>\n",
       "    </tr>\n",
       "    <tr>\n",
       "      <th>22</th>\n",
       "      <td>AMC Javelin</td>\n",
       "      <td>15.2</td>\n",
       "      <td>8</td>\n",
       "      <td>304.0</td>\n",
       "      <td>150</td>\n",
       "      <td>3.435</td>\n",
       "      <td>17.30</td>\n",
       "      <td>0</td>\n",
       "      <td>3</td>\n",
       "      <td>2</td>\n",
       "    </tr>\n",
       "    <tr>\n",
       "      <th>23</th>\n",
       "      <td>Camaro Z28</td>\n",
       "      <td>13.3</td>\n",
       "      <td>8</td>\n",
       "      <td>350.0</td>\n",
       "      <td>245</td>\n",
       "      <td>3.840</td>\n",
       "      <td>15.41</td>\n",
       "      <td>0</td>\n",
       "      <td>3</td>\n",
       "      <td>4</td>\n",
       "    </tr>\n",
       "    <tr>\n",
       "      <th>24</th>\n",
       "      <td>Pontiac Firebird</td>\n",
       "      <td>19.2</td>\n",
       "      <td>8</td>\n",
       "      <td>400.0</td>\n",
       "      <td>175</td>\n",
       "      <td>3.845</td>\n",
       "      <td>17.05</td>\n",
       "      <td>0</td>\n",
       "      <td>3</td>\n",
       "      <td>2</td>\n",
       "    </tr>\n",
       "    <tr>\n",
       "      <th>25</th>\n",
       "      <td>Fiat X1-9</td>\n",
       "      <td>27.3</td>\n",
       "      <td>4</td>\n",
       "      <td>79.0</td>\n",
       "      <td>66</td>\n",
       "      <td>1.935</td>\n",
       "      <td>18.90</td>\n",
       "      <td>1</td>\n",
       "      <td>4</td>\n",
       "      <td>1</td>\n",
       "    </tr>\n",
       "    <tr>\n",
       "      <th>26</th>\n",
       "      <td>Porsche 914-2</td>\n",
       "      <td>26.0</td>\n",
       "      <td>4</td>\n",
       "      <td>120.3</td>\n",
       "      <td>91</td>\n",
       "      <td>2.140</td>\n",
       "      <td>16.70</td>\n",
       "      <td>1</td>\n",
       "      <td>5</td>\n",
       "      <td>2</td>\n",
       "    </tr>\n",
       "    <tr>\n",
       "      <th>27</th>\n",
       "      <td>Lotus Europa</td>\n",
       "      <td>30.4</td>\n",
       "      <td>4</td>\n",
       "      <td>95.1</td>\n",
       "      <td>113</td>\n",
       "      <td>1.513</td>\n",
       "      <td>16.90</td>\n",
       "      <td>1</td>\n",
       "      <td>5</td>\n",
       "      <td>2</td>\n",
       "    </tr>\n",
       "    <tr>\n",
       "      <th>28</th>\n",
       "      <td>Ford Pantera L</td>\n",
       "      <td>15.8</td>\n",
       "      <td>8</td>\n",
       "      <td>351.0</td>\n",
       "      <td>264</td>\n",
       "      <td>3.170</td>\n",
       "      <td>14.50</td>\n",
       "      <td>1</td>\n",
       "      <td>5</td>\n",
       "      <td>4</td>\n",
       "    </tr>\n",
       "    <tr>\n",
       "      <th>29</th>\n",
       "      <td>Ferrari Dino</td>\n",
       "      <td>19.7</td>\n",
       "      <td>6</td>\n",
       "      <td>145.0</td>\n",
       "      <td>175</td>\n",
       "      <td>2.770</td>\n",
       "      <td>15.50</td>\n",
       "      <td>1</td>\n",
       "      <td>5</td>\n",
       "      <td>6</td>\n",
       "    </tr>\n",
       "    <tr>\n",
       "      <th>30</th>\n",
       "      <td>Maserati Bora</td>\n",
       "      <td>15.0</td>\n",
       "      <td>8</td>\n",
       "      <td>301.0</td>\n",
       "      <td>335</td>\n",
       "      <td>3.570</td>\n",
       "      <td>14.60</td>\n",
       "      <td>1</td>\n",
       "      <td>5</td>\n",
       "      <td>8</td>\n",
       "    </tr>\n",
       "    <tr>\n",
       "      <th>31</th>\n",
       "      <td>Volvo 142E</td>\n",
       "      <td>21.4</td>\n",
       "      <td>4</td>\n",
       "      <td>121.0</td>\n",
       "      <td>109</td>\n",
       "      <td>2.780</td>\n",
       "      <td>18.60</td>\n",
       "      <td>1</td>\n",
       "      <td>4</td>\n",
       "      <td>2</td>\n",
       "    </tr>\n",
       "  </tbody>\n",
       "</table>\n",
       "</div>"
      ],
      "text/plain": [
       "                  model   mpg  cyl   disp   hp     wt   qsec  am  gear  carb\n",
       "0             Mazda RX4  21.0    6  160.0  110  2.620  16.46   1     4     4\n",
       "1         Mazda RX4 Wag  21.0    6  160.0  110  2.875  17.02   1     4     4\n",
       "2            Datsun 710  22.8    4  108.0   93  2.320  18.61   1     4     1\n",
       "3        Hornet 4 Drive  21.4    6  258.0  110  3.215  19.44   0     3     1\n",
       "4     Hornet Sportabout  18.7    8  360.0  175  3.440  17.02   0     3     2\n",
       "5               Valiant  18.1    6  225.0  105  3.460  20.22   0     3     1\n",
       "6            Duster 360  14.3    8  360.0  245  3.570  15.84   0     3     4\n",
       "7             Merc 240D  24.4    4  146.7   62  3.190  20.00   0     4     2\n",
       "8              Merc 230  22.8    4  140.8   95  3.150  22.90   0     4     2\n",
       "9              Merc 280  19.2    6  167.6  123  3.440  18.30   0     4     4\n",
       "10            Merc 280C  17.8    6  167.6  123  3.440  18.90   0     4     4\n",
       "11           Merc 450SE  16.4    8  275.8  180  4.070  17.40   0     3     3\n",
       "12           Merc 450SL  17.3    8  275.8  180  3.730  17.60   0     3     3\n",
       "13          Merc 450SLC  15.2    8  275.8  180  3.780  18.00   0     3     3\n",
       "14   Cadillac Fleetwood  10.4    8  472.0  205  5.250  17.98   0     3     4\n",
       "15  Lincoln Continental  10.4    8  460.0  215  5.424  17.82   0     3     4\n",
       "16    Chrysler Imperial  14.7    8  440.0  230  5.345  17.42   0     3     4\n",
       "17             Fiat 128  32.4    4   78.7   66  2.200  19.47   1     4     1\n",
       "18          Honda Civic  30.4    4   75.7   52  1.615  18.52   1     4     2\n",
       "19       Toyota Corolla  33.9    4   71.1   65  1.835  19.90   1     4     1\n",
       "20        Toyota Corona  21.5    4  120.1   97  2.465  20.01   0     3     1\n",
       "21     Dodge Challenger  15.5    8  318.0  150  3.520  16.87   0     3     2\n",
       "22          AMC Javelin  15.2    8  304.0  150  3.435  17.30   0     3     2\n",
       "23           Camaro Z28  13.3    8  350.0  245  3.840  15.41   0     3     4\n",
       "24     Pontiac Firebird  19.2    8  400.0  175  3.845  17.05   0     3     2\n",
       "25            Fiat X1-9  27.3    4   79.0   66  1.935  18.90   1     4     1\n",
       "26        Porsche 914-2  26.0    4  120.3   91  2.140  16.70   1     5     2\n",
       "27         Lotus Europa  30.4    4   95.1  113  1.513  16.90   1     5     2\n",
       "28       Ford Pantera L  15.8    8  351.0  264  3.170  14.50   1     5     4\n",
       "29         Ferrari Dino  19.7    6  145.0  175  2.770  15.50   1     5     6\n",
       "30        Maserati Bora  15.0    8  301.0  335  3.570  14.60   1     5     8\n",
       "31           Volvo 142E  21.4    4  121.0  109  2.780  18.60   1     4     2"
      ]
     },
     "execution_count": 564,
     "metadata": {},
     "output_type": "execute_result"
    }
   ],
   "source": [
    "import pandas as pd\n",
    "df1=pd.read_csv('https://raw.githubusercontent.com/vcsgithub/vcsgithub.github.io/master/lds41.csv')\n",
    "df1"
   ]
  },
  {
   "cell_type": "code",
   "execution_count": 569,
   "id": "a1fd9b72",
   "metadata": {},
   "outputs": [
    {
     "data": {
      "image/png": "[encoded data removed]",
      "text/plain": [
       "<Figure size 1500x500 with 1 Axes>"
      ]
     },
     "metadata": {},
     "output_type": "display_data"
    }
   ],
   "source": [
    "plt.figure(figsize=(15,5),dpi=100)\n",
    "plt.bar(x=df1.model,height=df1.mpg)\n",
    "plt.xticks(rotation=90)\n",
    "plt.show()"
   ]
  },
  {
   "cell_type": "code",
   "execution_count": 1,
   "id": "e097dbf8",
   "metadata": {},
   "outputs": [
    {
     "name": "stdout",
     "output_type": "stream",
     "text": [
      "results is :3.45455\n",
      "(3+4j)\n"
     ]
    }
   ],
   "source": [
    "pi =3.45455\n",
    "print('results is :'+ str(pi))\n",
    "z=complex(3,4)\n",
    "print(z)"
   ]
  },
  {
   "cell_type": "code",
   "execution_count": 4,
   "id": "90f2d654",
   "metadata": {},
   "outputs": [
    {
     "name": "stdout",
     "output_type": "stream",
     "text": [
      "hello jitendra\n"
     ]
    }
   ],
   "source": [
    "def greet(name='world'):\n",
    "    print('hello',name)\n",
    "greet('jitendra')"
   ]
  },
  {
   "cell_type": "code",
   "execution_count": 7,
   "id": "c3d14a17",
   "metadata": {},
   "outputs": [
    {
     "name": "stdout",
     "output_type": "stream",
     "text": [
      "hello world\n"
     ]
    }
   ],
   "source": [
    "str1='hello'\n",
    "str2='world'\n",
    "print(str1+' '+str2)"
   ]
  },
  {
   "cell_type": "code",
   "execution_count": 9,
   "id": "3549d15a",
   "metadata": {},
   "outputs": [
    {
     "name": "stdout",
     "output_type": "stream",
     "text": [
      "rajarajaraja\n"
     ]
    }
   ],
   "source": [
    "str1='raja'\n",
    "print(str1*3)"
   ]
  },
  {
   "cell_type": "code",
   "execution_count": 21,
   "id": "f3d020eb",
   "metadata": {},
   "outputs": [
    {
     "name": "stdout",
     "output_type": "stream",
     "text": [
      "<class 'pandas.core.frame.DataFrame'>\n",
      "<class 'numpy.ndarray'>\n"
     ]
    }
   ],
   "source": [
    "import numpy as np\n",
    "numpy=np.random.randint(low=10,high=100,size=(6,4))\n",
    "import pandas as pd\n",
    "\n",
    "abc=pd.DataFrame(data=numpy,columns=['math','science','hindi','english'],index=['g1','g2','g3','g4','g5','g6'])\n",
    "print(type(abc))                                                                          \n",
    "print(type(numpy))                                                                            \n",
    "                   "
   ]
  },
  {
   "cell_type": "code",
   "execution_count": 25,
   "id": "7717098b",
   "metadata": {},
   "outputs": [
    {
     "data": {
      "text/plain": [
       "array([[238, 154, 348, 261],\n",
       "       [348, 419, 354, 168],\n",
       "       [418, 404, 296, 318],\n",
       "       [273, 356, 263, 303],\n",
       "       [399, 225, 333, 241],\n",
       "       [402, 290, 130, 299]])"
      ]
     },
     "execution_count": 25,
     "metadata": {},
     "output_type": "execute_result"
    }
   ],
   "source": [
    "numpy2=np.random.randint(low=100,high=400,size=(6,4))\n",
    "numpy3=numpy+numpy2\n",
    "numpy3\n"
   ]
  },
  {
   "cell_type": "code",
   "execution_count": 60,
   "id": "c9d20d35",
   "metadata": {},
   "outputs": [
    {
     "data": {
      "text/plain": [
       "array([ 0.02961344, -0.27468502,  0.29917566])"
      ]
     },
     "execution_count": 60,
     "metadata": {},
     "output_type": "execute_result"
    }
   ],
   "source": [
    "a=np.random.randn(3)\n",
    "a"
   ]
  },
  {
   "cell_type": "code",
   "execution_count": 65,
   "id": "1820b0fb",
   "metadata": {},
   "outputs": [
    {
     "data": {
      "text/plain": [
       "array([30, 37, 12, 45,  4, 46, 21, 41, 47, 35])"
      ]
     },
     "execution_count": 65,
     "metadata": {},
     "output_type": "execute_result"
    }
   ],
   "source": [
    "a=np.random.randint(3,50,10)\n",
    "a"
   ]
  },
  {
   "cell_type": "code",
   "execution_count": 69,
   "id": "977a4b69",
   "metadata": {},
   "outputs": [
    {
     "data": {
      "text/plain": [
       "array([7.67629115e-01, 7.55524280e-01, 9.57973898e-04, 1.42398047e-01,\n",
       "       2.31096868e-02, 7.52857774e-01, 8.21623689e-01, 4.06174074e-01,\n",
       "       7.51833283e-01, 5.71656787e-01, 2.63331182e-01, 9.05965819e-01,\n",
       "       6.40202534e-01, 4.79908790e-01, 3.08257769e-01, 6.85591770e-01,\n",
       "       5.09820696e-01, 7.68372280e-01, 3.05114971e-01, 9.86944946e-01,\n",
       "       8.64768026e-01, 8.22414038e-01, 5.31781048e-01, 2.24972867e-02,\n",
       "       1.04706164e-01, 7.59808412e-01, 1.67556210e-01, 4.61755992e-01,\n",
       "       9.34736495e-01, 8.54061260e-01, 4.83524975e-01, 1.23429102e-01,\n",
       "       5.89052547e-01, 8.98153536e-01, 8.54427483e-01, 8.12686325e-01,\n",
       "       9.94371041e-01, 2.80031111e-01, 1.09259250e-02, 3.05888465e-01,\n",
       "       6.45854650e-01, 4.37667704e-02, 3.28006777e-01, 1.46753913e-01,\n",
       "       1.42838200e-01, 8.42110008e-01, 4.97148457e-01, 4.08424365e-01,\n",
       "       4.07203109e-01, 2.22860369e-01])"
      ]
     },
     "execution_count": 69,
     "metadata": {},
     "output_type": "execute_result"
    }
   ],
   "source": [
    "a=np.random.random(50)\n",
    "a"
   ]
  },
  {
   "cell_type": "code",
   "execution_count": 83,
   "id": "7e4c6a69",
   "metadata": {},
   "outputs": [
    {
     "data": {
      "text/plain": [
       "[3, 5, 2, 4, 1]"
      ]
     },
     "execution_count": 83,
     "metadata": {},
     "output_type": "execute_result"
    }
   ],
   "source": [
    "b=[1,2,3,4,5]\n",
    "np.random.shuffle(b)\n",
    "b"
   ]
  },
  {
   "cell_type": "code",
   "execution_count": 146,
   "id": "46e99da6",
   "metadata": {},
   "outputs": [
    {
     "data": {
      "text/html": [
       "<div>\n",
       "<style scoped>\n",
       "    .dataframe tbody tr th:only-of-type {\n",
       "        vertical-align: middle;\n",
       "    }\n",
       "\n",
       "    .dataframe tbody tr th {\n",
       "        vertical-align: top;\n",
       "    }\n",
       "\n",
       "    .dataframe thead th {\n",
       "        text-align: right;\n",
       "    }\n",
       "</style>\n",
       "<table border=\"1\" class=\"dataframe\">\n",
       "  <thead>\n",
       "    <tr style=\"text-align: right;\">\n",
       "      <th></th>\n",
       "      <th>model</th>\n",
       "      <th>mpg</th>\n",
       "      <th>cyl</th>\n",
       "      <th>disp</th>\n",
       "      <th>hp</th>\n",
       "      <th>wt</th>\n",
       "      <th>qsec</th>\n",
       "      <th>am</th>\n",
       "      <th>gear</th>\n",
       "      <th>carb</th>\n",
       "    </tr>\n",
       "  </thead>\n",
       "  <tbody>\n",
       "    <tr>\n",
       "      <th>0</th>\n",
       "      <td>Mazda RX4</td>\n",
       "      <td>21.0</td>\n",
       "      <td>6</td>\n",
       "      <td>160.0</td>\n",
       "      <td>110</td>\n",
       "      <td>2.620</td>\n",
       "      <td>16.46</td>\n",
       "      <td>1</td>\n",
       "      <td>4</td>\n",
       "      <td>4</td>\n",
       "    </tr>\n",
       "    <tr>\n",
       "      <th>1</th>\n",
       "      <td>Mazda RX4 Wag</td>\n",
       "      <td>21.0</td>\n",
       "      <td>6</td>\n",
       "      <td>160.0</td>\n",
       "      <td>110</td>\n",
       "      <td>2.875</td>\n",
       "      <td>17.02</td>\n",
       "      <td>1</td>\n",
       "      <td>4</td>\n",
       "      <td>4</td>\n",
       "    </tr>\n",
       "    <tr>\n",
       "      <th>2</th>\n",
       "      <td>Datsun 710</td>\n",
       "      <td>22.8</td>\n",
       "      <td>4</td>\n",
       "      <td>108.0</td>\n",
       "      <td>93</td>\n",
       "      <td>2.320</td>\n",
       "      <td>18.61</td>\n",
       "      <td>1</td>\n",
       "      <td>4</td>\n",
       "      <td>1</td>\n",
       "    </tr>\n",
       "    <tr>\n",
       "      <th>3</th>\n",
       "      <td>Hornet 4 Drive</td>\n",
       "      <td>21.4</td>\n",
       "      <td>6</td>\n",
       "      <td>258.0</td>\n",
       "      <td>110</td>\n",
       "      <td>3.215</td>\n",
       "      <td>19.44</td>\n",
       "      <td>0</td>\n",
       "      <td>3</td>\n",
       "      <td>1</td>\n",
       "    </tr>\n",
       "    <tr>\n",
       "      <th>4</th>\n",
       "      <td>Hornet Sportabout</td>\n",
       "      <td>18.7</td>\n",
       "      <td>8</td>\n",
       "      <td>360.0</td>\n",
       "      <td>175</td>\n",
       "      <td>3.440</td>\n",
       "      <td>17.02</td>\n",
       "      <td>0</td>\n",
       "      <td>3</td>\n",
       "      <td>2</td>\n",
       "    </tr>\n",
       "    <tr>\n",
       "      <th>5</th>\n",
       "      <td>Valiant</td>\n",
       "      <td>18.1</td>\n",
       "      <td>6</td>\n",
       "      <td>225.0</td>\n",
       "      <td>105</td>\n",
       "      <td>3.460</td>\n",
       "      <td>20.22</td>\n",
       "      <td>0</td>\n",
       "      <td>3</td>\n",
       "      <td>1</td>\n",
       "    </tr>\n",
       "    <tr>\n",
       "      <th>6</th>\n",
       "      <td>Duster 360</td>\n",
       "      <td>14.3</td>\n",
       "      <td>8</td>\n",
       "      <td>360.0</td>\n",
       "      <td>245</td>\n",
       "      <td>3.570</td>\n",
       "      <td>15.84</td>\n",
       "      <td>0</td>\n",
       "      <td>3</td>\n",
       "      <td>4</td>\n",
       "    </tr>\n",
       "    <tr>\n",
       "      <th>7</th>\n",
       "      <td>Merc 240D</td>\n",
       "      <td>24.4</td>\n",
       "      <td>4</td>\n",
       "      <td>146.7</td>\n",
       "      <td>62</td>\n",
       "      <td>3.190</td>\n",
       "      <td>20.00</td>\n",
       "      <td>0</td>\n",
       "      <td>4</td>\n",
       "      <td>2</td>\n",
       "    </tr>\n",
       "    <tr>\n",
       "      <th>8</th>\n",
       "      <td>Merc 230</td>\n",
       "      <td>22.8</td>\n",
       "      <td>4</td>\n",
       "      <td>140.8</td>\n",
       "      <td>95</td>\n",
       "      <td>3.150</td>\n",
       "      <td>22.90</td>\n",
       "      <td>0</td>\n",
       "      <td>4</td>\n",
       "      <td>2</td>\n",
       "    </tr>\n",
       "    <tr>\n",
       "      <th>9</th>\n",
       "      <td>Merc 280</td>\n",
       "      <td>19.2</td>\n",
       "      <td>6</td>\n",
       "      <td>167.6</td>\n",
       "      <td>123</td>\n",
       "      <td>3.440</td>\n",
       "      <td>18.30</td>\n",
       "      <td>0</td>\n",
       "      <td>4</td>\n",
       "      <td>4</td>\n",
       "    </tr>\n",
       "    <tr>\n",
       "      <th>10</th>\n",
       "      <td>Merc 280C</td>\n",
       "      <td>17.8</td>\n",
       "      <td>6</td>\n",
       "      <td>167.6</td>\n",
       "      <td>123</td>\n",
       "      <td>3.440</td>\n",
       "      <td>18.90</td>\n",
       "      <td>0</td>\n",
       "      <td>4</td>\n",
       "      <td>4</td>\n",
       "    </tr>\n",
       "    <tr>\n",
       "      <th>11</th>\n",
       "      <td>Merc 450SE</td>\n",
       "      <td>16.4</td>\n",
       "      <td>8</td>\n",
       "      <td>275.8</td>\n",
       "      <td>180</td>\n",
       "      <td>4.070</td>\n",
       "      <td>17.40</td>\n",
       "      <td>0</td>\n",
       "      <td>3</td>\n",
       "      <td>3</td>\n",
       "    </tr>\n",
       "    <tr>\n",
       "      <th>12</th>\n",
       "      <td>Merc 450SL</td>\n",
       "      <td>17.3</td>\n",
       "      <td>8</td>\n",
       "      <td>275.8</td>\n",
       "      <td>180</td>\n",
       "      <td>3.730</td>\n",
       "      <td>17.60</td>\n",
       "      <td>0</td>\n",
       "      <td>3</td>\n",
       "      <td>3</td>\n",
       "    </tr>\n",
       "    <tr>\n",
       "      <th>13</th>\n",
       "      <td>Merc 450SLC</td>\n",
       "      <td>15.2</td>\n",
       "      <td>8</td>\n",
       "      <td>275.8</td>\n",
       "      <td>180</td>\n",
       "      <td>3.780</td>\n",
       "      <td>18.00</td>\n",
       "      <td>0</td>\n",
       "      <td>3</td>\n",
       "      <td>3</td>\n",
       "    </tr>\n",
       "    <tr>\n",
       "      <th>14</th>\n",
       "      <td>Cadillac Fleetwood</td>\n",
       "      <td>10.4</td>\n",
       "      <td>8</td>\n",
       "      <td>472.0</td>\n",
       "      <td>205</td>\n",
       "      <td>5.250</td>\n",
       "      <td>17.98</td>\n",
       "      <td>0</td>\n",
       "      <td>3</td>\n",
       "      <td>4</td>\n",
       "    </tr>\n",
       "    <tr>\n",
       "      <th>15</th>\n",
       "      <td>Lincoln Continental</td>\n",
       "      <td>10.4</td>\n",
       "      <td>8</td>\n",
       "      <td>460.0</td>\n",
       "      <td>215</td>\n",
       "      <td>5.424</td>\n",
       "      <td>17.82</td>\n",
       "      <td>0</td>\n",
       "      <td>3</td>\n",
       "      <td>4</td>\n",
       "    </tr>\n",
       "    <tr>\n",
       "      <th>16</th>\n",
       "      <td>Chrysler Imperial</td>\n",
       "      <td>14.7</td>\n",
       "      <td>8</td>\n",
       "      <td>440.0</td>\n",
       "      <td>230</td>\n",
       "      <td>5.345</td>\n",
       "      <td>17.42</td>\n",
       "      <td>0</td>\n",
       "      <td>3</td>\n",
       "      <td>4</td>\n",
       "    </tr>\n",
       "    <tr>\n",
       "      <th>17</th>\n",
       "      <td>Fiat 128</td>\n",
       "      <td>32.4</td>\n",
       "      <td>4</td>\n",
       "      <td>78.7</td>\n",
       "      <td>66</td>\n",
       "      <td>2.200</td>\n",
       "      <td>19.47</td>\n",
       "      <td>1</td>\n",
       "      <td>4</td>\n",
       "      <td>1</td>\n",
       "    </tr>\n",
       "    <tr>\n",
       "      <th>18</th>\n",
       "      <td>Honda Civic</td>\n",
       "      <td>30.4</td>\n",
       "      <td>4</td>\n",
       "      <td>75.7</td>\n",
       "      <td>52</td>\n",
       "      <td>1.615</td>\n",
       "      <td>18.52</td>\n",
       "      <td>1</td>\n",
       "      <td>4</td>\n",
       "      <td>2</td>\n",
       "    </tr>\n",
       "    <tr>\n",
       "      <th>19</th>\n",
       "      <td>Toyota Corolla</td>\n",
       "      <td>33.9</td>\n",
       "      <td>4</td>\n",
       "      <td>71.1</td>\n",
       "      <td>65</td>\n",
       "      <td>1.835</td>\n",
       "      <td>19.90</td>\n",
       "      <td>1</td>\n",
       "      <td>4</td>\n",
       "      <td>1</td>\n",
       "    </tr>\n",
       "    <tr>\n",
       "      <th>20</th>\n",
       "      <td>Toyota Corona</td>\n",
       "      <td>21.5</td>\n",
       "      <td>4</td>\n",
       "      <td>120.1</td>\n",
       "      <td>97</td>\n",
       "      <td>2.465</td>\n",
       "      <td>20.01</td>\n",
       "      <td>0</td>\n",
       "      <td>3</td>\n",
       "      <td>1</td>\n",
       "    </tr>\n",
       "    <tr>\n",
       "      <th>21</th>\n",
       "      <td>Dodge Challenger</td>\n",
       "      <td>15.5</td>\n",
       "      <td>8</td>\n",
       "      <td>318.0</td>\n",
       "      <td>150</td>\n",
       "      <td>3.520</td>\n",
       "      <td>16.87</td>\n",
       "      <td>0</td>\n",
       "      <td>3</td>\n",
       "      <td>2</td>\n",
       "    </tr>\n",
       "    <tr>\n",
       "      <th>22</th>\n",
       "      <td>AMC Javelin</td>\n",
       "      <td>15.2</td>\n",
       "      <td>8</td>\n",
       "      <td>304.0</td>\n",
       "      <td>150</td>\n",
       "      <td>3.435</td>\n",
       "      <td>17.30</td>\n",
       "      <td>0</td>\n",
       "      <td>3</td>\n",
       "      <td>2</td>\n",
       "    </tr>\n",
       "    <tr>\n",
       "      <th>23</th>\n",
       "      <td>Camaro Z28</td>\n",
       "      <td>13.3</td>\n",
       "      <td>8</td>\n",
       "      <td>350.0</td>\n",
       "      <td>245</td>\n",
       "      <td>3.840</td>\n",
       "      <td>15.41</td>\n",
       "      <td>0</td>\n",
       "      <td>3</td>\n",
       "      <td>4</td>\n",
       "    </tr>\n",
       "    <tr>\n",
       "      <th>24</th>\n",
       "      <td>Pontiac Firebird</td>\n",
       "      <td>19.2</td>\n",
       "      <td>8</td>\n",
       "      <td>400.0</td>\n",
       "      <td>175</td>\n",
       "      <td>3.845</td>\n",
       "      <td>17.05</td>\n",
       "      <td>0</td>\n",
       "      <td>3</td>\n",
       "      <td>2</td>\n",
       "    </tr>\n",
       "    <tr>\n",
       "      <th>25</th>\n",
       "      <td>Fiat X1-9</td>\n",
       "      <td>27.3</td>\n",
       "      <td>4</td>\n",
       "      <td>79.0</td>\n",
       "      <td>66</td>\n",
       "      <td>1.935</td>\n",
       "      <td>18.90</td>\n",
       "      <td>1</td>\n",
       "      <td>4</td>\n",
       "      <td>1</td>\n",
       "    </tr>\n",
       "    <tr>\n",
       "      <th>26</th>\n",
       "      <td>Porsche 914-2</td>\n",
       "      <td>26.0</td>\n",
       "      <td>4</td>\n",
       "      <td>120.3</td>\n",
       "      <td>91</td>\n",
       "      <td>2.140</td>\n",
       "      <td>16.70</td>\n",
       "      <td>1</td>\n",
       "      <td>5</td>\n",
       "      <td>2</td>\n",
       "    </tr>\n",
       "    <tr>\n",
       "      <th>27</th>\n",
       "      <td>Lotus Europa</td>\n",
       "      <td>30.4</td>\n",
       "      <td>4</td>\n",
       "      <td>95.1</td>\n",
       "      <td>113</td>\n",
       "      <td>1.513</td>\n",
       "      <td>16.90</td>\n",
       "      <td>1</td>\n",
       "      <td>5</td>\n",
       "      <td>2</td>\n",
       "    </tr>\n",
       "    <tr>\n",
       "      <th>28</th>\n",
       "      <td>Ford Pantera L</td>\n",
       "      <td>15.8</td>\n",
       "      <td>8</td>\n",
       "      <td>351.0</td>\n",
       "      <td>264</td>\n",
       "      <td>3.170</td>\n",
       "      <td>14.50</td>\n",
       "      <td>1</td>\n",
       "      <td>5</td>\n",
       "      <td>4</td>\n",
       "    </tr>\n",
       "    <tr>\n",
       "      <th>29</th>\n",
       "      <td>Ferrari Dino</td>\n",
       "      <td>19.7</td>\n",
       "      <td>6</td>\n",
       "      <td>145.0</td>\n",
       "      <td>175</td>\n",
       "      <td>2.770</td>\n",
       "      <td>15.50</td>\n",
       "      <td>1</td>\n",
       "      <td>5</td>\n",
       "      <td>6</td>\n",
       "    </tr>\n",
       "    <tr>\n",
       "      <th>30</th>\n",
       "      <td>Maserati Bora</td>\n",
       "      <td>15.0</td>\n",
       "      <td>8</td>\n",
       "      <td>301.0</td>\n",
       "      <td>335</td>\n",
       "      <td>3.570</td>\n",
       "      <td>14.60</td>\n",
       "      <td>1</td>\n",
       "      <td>5</td>\n",
       "      <td>8</td>\n",
       "    </tr>\n",
       "    <tr>\n",
       "      <th>31</th>\n",
       "      <td>Volvo 142E</td>\n",
       "      <td>21.4</td>\n",
       "      <td>4</td>\n",
       "      <td>121.0</td>\n",
       "      <td>109</td>\n",
       "      <td>2.780</td>\n",
       "      <td>18.60</td>\n",
       "      <td>1</td>\n",
       "      <td>4</td>\n",
       "      <td>2</td>\n",
       "    </tr>\n",
       "  </tbody>\n",
       "</table>\n",
       "</div>"
      ],
      "text/plain": [
       "                  model   mpg  cyl   disp   hp     wt   qsec  am  gear  carb\n",
       "0             Mazda RX4  21.0    6  160.0  110  2.620  16.46   1     4     4\n",
       "1         Mazda RX4 Wag  21.0    6  160.0  110  2.875  17.02   1     4     4\n",
       "2            Datsun 710  22.8    4  108.0   93  2.320  18.61   1     4     1\n",
       "3        Hornet 4 Drive  21.4    6  258.0  110  3.215  19.44   0     3     1\n",
       "4     Hornet Sportabout  18.7    8  360.0  175  3.440  17.02   0     3     2\n",
       "5               Valiant  18.1    6  225.0  105  3.460  20.22   0     3     1\n",
       "6            Duster 360  14.3    8  360.0  245  3.570  15.84   0     3     4\n",
       "7             Merc 240D  24.4    4  146.7   62  3.190  20.00   0     4     2\n",
       "8              Merc 230  22.8    4  140.8   95  3.150  22.90   0     4     2\n",
       "9              Merc 280  19.2    6  167.6  123  3.440  18.30   0     4     4\n",
       "10            Merc 280C  17.8    6  167.6  123  3.440  18.90   0     4     4\n",
       "11           Merc 450SE  16.4    8  275.8  180  4.070  17.40   0     3     3\n",
       "12           Merc 450SL  17.3    8  275.8  180  3.730  17.60   0     3     3\n",
       "13          Merc 450SLC  15.2    8  275.8  180  3.780  18.00   0     3     3\n",
       "14   Cadillac Fleetwood  10.4    8  472.0  205  5.250  17.98   0     3     4\n",
       "15  Lincoln Continental  10.4    8  460.0  215  5.424  17.82   0     3     4\n",
       "16    Chrysler Imperial  14.7    8  440.0  230  5.345  17.42   0     3     4\n",
       "17             Fiat 128  32.4    4   78.7   66  2.200  19.47   1     4     1\n",
       "18          Honda Civic  30.4    4   75.7   52  1.615  18.52   1     4     2\n",
       "19       Toyota Corolla  33.9    4   71.1   65  1.835  19.90   1     4     1\n",
       "20        Toyota Corona  21.5    4  120.1   97  2.465  20.01   0     3     1\n",
       "21     Dodge Challenger  15.5    8  318.0  150  3.520  16.87   0     3     2\n",
       "22          AMC Javelin  15.2    8  304.0  150  3.435  17.30   0     3     2\n",
       "23           Camaro Z28  13.3    8  350.0  245  3.840  15.41   0     3     4\n",
       "24     Pontiac Firebird  19.2    8  400.0  175  3.845  17.05   0     3     2\n",
       "25            Fiat X1-9  27.3    4   79.0   66  1.935  18.90   1     4     1\n",
       "26        Porsche 914-2  26.0    4  120.3   91  2.140  16.70   1     5     2\n",
       "27         Lotus Europa  30.4    4   95.1  113  1.513  16.90   1     5     2\n",
       "28       Ford Pantera L  15.8    8  351.0  264  3.170  14.50   1     5     4\n",
       "29         Ferrari Dino  19.7    6  145.0  175  2.770  15.50   1     5     6\n",
       "30        Maserati Bora  15.0    8  301.0  335  3.570  14.60   1     5     8\n",
       "31           Volvo 142E  21.4    4  121.0  109  2.780  18.60   1     4     2"
      ]
     },
     "execution_count": 146,
     "metadata": {},
     "output_type": "execute_result"
    }
   ],
   "source": [
    "import pandas as pd\n",
    "df1=pd.read_csv('https://raw.githubusercontent.com/vcsgithub/vcsgithub.github.io/master/lds41.csv')\n",
    "df1\n",
    "\n",
    "\n"
   ]
  },
  {
   "cell_type": "markdown",
   "id": "70b5e4cf",
   "metadata": {},
   "source": [
    "# df1.drop(columns=['model','mpg'],inplace=True)\n",
    "#df1.drop(0,inplace=True)\n",
    "df1['Rank']=df1['hp'].rank(method='average',ascending=True)\n"
   ]
  },
  {
   "cell_type": "code",
   "execution_count": 147,
   "id": "b5cda980",
   "metadata": {},
   "outputs": [
    {
     "data": {
      "text/html": [
       "<div>\n",
       "<style scoped>\n",
       "    .dataframe tbody tr th:only-of-type {\n",
       "        vertical-align: middle;\n",
       "    }\n",
       "\n",
       "    .dataframe tbody tr th {\n",
       "        vertical-align: top;\n",
       "    }\n",
       "\n",
       "    .dataframe thead th {\n",
       "        text-align: right;\n",
       "    }\n",
       "</style>\n",
       "<table border=\"1\" class=\"dataframe\">\n",
       "  <thead>\n",
       "    <tr style=\"text-align: right;\">\n",
       "      <th></th>\n",
       "      <th>model</th>\n",
       "      <th>mpg</th>\n",
       "      <th>cyl</th>\n",
       "      <th>disp</th>\n",
       "      <th>hp</th>\n",
       "      <th>wt</th>\n",
       "      <th>qsec</th>\n",
       "      <th>am</th>\n",
       "      <th>gear</th>\n",
       "      <th>carb</th>\n",
       "      <th>ABRank</th>\n",
       "    </tr>\n",
       "  </thead>\n",
       "  <tbody>\n",
       "    <tr>\n",
       "      <th>15</th>\n",
       "      <td>Lincoln Continental</td>\n",
       "      <td>10.4</td>\n",
       "      <td>8</td>\n",
       "      <td>460.0</td>\n",
       "      <td>215</td>\n",
       "      <td>5.424</td>\n",
       "      <td>17.82</td>\n",
       "      <td>0</td>\n",
       "      <td>3</td>\n",
       "      <td>4</td>\n",
       "      <td>15.0</td>\n",
       "    </tr>\n",
       "    <tr>\n",
       "      <th>22</th>\n",
       "      <td>AMC Javelin</td>\n",
       "      <td>15.2</td>\n",
       "      <td>8</td>\n",
       "      <td>304.0</td>\n",
       "      <td>150</td>\n",
       "      <td>3.435</td>\n",
       "      <td>17.30</td>\n",
       "      <td>0</td>\n",
       "      <td>3</td>\n",
       "      <td>2</td>\n",
       "      <td>15.0</td>\n",
       "    </tr>\n",
       "    <tr>\n",
       "      <th>16</th>\n",
       "      <td>Chrysler Imperial</td>\n",
       "      <td>14.7</td>\n",
       "      <td>8</td>\n",
       "      <td>440.0</td>\n",
       "      <td>230</td>\n",
       "      <td>5.345</td>\n",
       "      <td>17.42</td>\n",
       "      <td>0</td>\n",
       "      <td>3</td>\n",
       "      <td>4</td>\n",
       "      <td>15.0</td>\n",
       "    </tr>\n",
       "    <tr>\n",
       "      <th>23</th>\n",
       "      <td>Camaro Z28</td>\n",
       "      <td>13.3</td>\n",
       "      <td>8</td>\n",
       "      <td>350.0</td>\n",
       "      <td>245</td>\n",
       "      <td>3.840</td>\n",
       "      <td>15.41</td>\n",
       "      <td>0</td>\n",
       "      <td>3</td>\n",
       "      <td>4</td>\n",
       "      <td>15.0</td>\n",
       "    </tr>\n",
       "    <tr>\n",
       "      <th>14</th>\n",
       "      <td>Cadillac Fleetwood</td>\n",
       "      <td>10.4</td>\n",
       "      <td>8</td>\n",
       "      <td>472.0</td>\n",
       "      <td>205</td>\n",
       "      <td>5.250</td>\n",
       "      <td>17.98</td>\n",
       "      <td>0</td>\n",
       "      <td>3</td>\n",
       "      <td>4</td>\n",
       "      <td>15.0</td>\n",
       "    </tr>\n",
       "    <tr>\n",
       "      <th>13</th>\n",
       "      <td>Merc 450SLC</td>\n",
       "      <td>15.2</td>\n",
       "      <td>8</td>\n",
       "      <td>275.8</td>\n",
       "      <td>180</td>\n",
       "      <td>3.780</td>\n",
       "      <td>18.00</td>\n",
       "      <td>0</td>\n",
       "      <td>3</td>\n",
       "      <td>3</td>\n",
       "      <td>15.0</td>\n",
       "    </tr>\n",
       "    <tr>\n",
       "      <th>12</th>\n",
       "      <td>Merc 450SL</td>\n",
       "      <td>17.3</td>\n",
       "      <td>8</td>\n",
       "      <td>275.8</td>\n",
       "      <td>180</td>\n",
       "      <td>3.730</td>\n",
       "      <td>17.60</td>\n",
       "      <td>0</td>\n",
       "      <td>3</td>\n",
       "      <td>3</td>\n",
       "      <td>15.0</td>\n",
       "    </tr>\n",
       "    <tr>\n",
       "      <th>11</th>\n",
       "      <td>Merc 450SE</td>\n",
       "      <td>16.4</td>\n",
       "      <td>8</td>\n",
       "      <td>275.8</td>\n",
       "      <td>180</td>\n",
       "      <td>4.070</td>\n",
       "      <td>17.40</td>\n",
       "      <td>0</td>\n",
       "      <td>3</td>\n",
       "      <td>3</td>\n",
       "      <td>15.0</td>\n",
       "    </tr>\n",
       "    <tr>\n",
       "      <th>21</th>\n",
       "      <td>Dodge Challenger</td>\n",
       "      <td>15.5</td>\n",
       "      <td>8</td>\n",
       "      <td>318.0</td>\n",
       "      <td>150</td>\n",
       "      <td>3.520</td>\n",
       "      <td>16.87</td>\n",
       "      <td>0</td>\n",
       "      <td>3</td>\n",
       "      <td>2</td>\n",
       "      <td>15.0</td>\n",
       "    </tr>\n",
       "    <tr>\n",
       "      <th>20</th>\n",
       "      <td>Toyota Corona</td>\n",
       "      <td>21.5</td>\n",
       "      <td>4</td>\n",
       "      <td>120.1</td>\n",
       "      <td>97</td>\n",
       "      <td>2.465</td>\n",
       "      <td>20.01</td>\n",
       "      <td>0</td>\n",
       "      <td>3</td>\n",
       "      <td>1</td>\n",
       "      <td>15.0</td>\n",
       "    </tr>\n",
       "    <tr>\n",
       "      <th>6</th>\n",
       "      <td>Duster 360</td>\n",
       "      <td>14.3</td>\n",
       "      <td>8</td>\n",
       "      <td>360.0</td>\n",
       "      <td>245</td>\n",
       "      <td>3.570</td>\n",
       "      <td>15.84</td>\n",
       "      <td>0</td>\n",
       "      <td>3</td>\n",
       "      <td>4</td>\n",
       "      <td>15.0</td>\n",
       "    </tr>\n",
       "    <tr>\n",
       "      <th>5</th>\n",
       "      <td>Valiant</td>\n",
       "      <td>18.1</td>\n",
       "      <td>6</td>\n",
       "      <td>225.0</td>\n",
       "      <td>105</td>\n",
       "      <td>3.460</td>\n",
       "      <td>20.22</td>\n",
       "      <td>0</td>\n",
       "      <td>3</td>\n",
       "      <td>1</td>\n",
       "      <td>15.0</td>\n",
       "    </tr>\n",
       "    <tr>\n",
       "      <th>4</th>\n",
       "      <td>Hornet Sportabout</td>\n",
       "      <td>18.7</td>\n",
       "      <td>8</td>\n",
       "      <td>360.0</td>\n",
       "      <td>175</td>\n",
       "      <td>3.440</td>\n",
       "      <td>17.02</td>\n",
       "      <td>0</td>\n",
       "      <td>3</td>\n",
       "      <td>2</td>\n",
       "      <td>15.0</td>\n",
       "    </tr>\n",
       "    <tr>\n",
       "      <th>3</th>\n",
       "      <td>Hornet 4 Drive</td>\n",
       "      <td>21.4</td>\n",
       "      <td>6</td>\n",
       "      <td>258.0</td>\n",
       "      <td>110</td>\n",
       "      <td>3.215</td>\n",
       "      <td>19.44</td>\n",
       "      <td>0</td>\n",
       "      <td>3</td>\n",
       "      <td>1</td>\n",
       "      <td>15.0</td>\n",
       "    </tr>\n",
       "    <tr>\n",
       "      <th>24</th>\n",
       "      <td>Pontiac Firebird</td>\n",
       "      <td>19.2</td>\n",
       "      <td>8</td>\n",
       "      <td>400.0</td>\n",
       "      <td>175</td>\n",
       "      <td>3.845</td>\n",
       "      <td>17.05</td>\n",
       "      <td>0</td>\n",
       "      <td>3</td>\n",
       "      <td>2</td>\n",
       "      <td>15.0</td>\n",
       "    </tr>\n",
       "    <tr>\n",
       "      <th>10</th>\n",
       "      <td>Merc 280C</td>\n",
       "      <td>17.8</td>\n",
       "      <td>6</td>\n",
       "      <td>167.6</td>\n",
       "      <td>123</td>\n",
       "      <td>3.440</td>\n",
       "      <td>18.90</td>\n",
       "      <td>0</td>\n",
       "      <td>4</td>\n",
       "      <td>4</td>\n",
       "      <td>19.0</td>\n",
       "    </tr>\n",
       "    <tr>\n",
       "      <th>7</th>\n",
       "      <td>Merc 240D</td>\n",
       "      <td>24.4</td>\n",
       "      <td>4</td>\n",
       "      <td>146.7</td>\n",
       "      <td>62</td>\n",
       "      <td>3.190</td>\n",
       "      <td>20.00</td>\n",
       "      <td>0</td>\n",
       "      <td>4</td>\n",
       "      <td>2</td>\n",
       "      <td>19.0</td>\n",
       "    </tr>\n",
       "    <tr>\n",
       "      <th>8</th>\n",
       "      <td>Merc 230</td>\n",
       "      <td>22.8</td>\n",
       "      <td>4</td>\n",
       "      <td>140.8</td>\n",
       "      <td>95</td>\n",
       "      <td>3.150</td>\n",
       "      <td>22.90</td>\n",
       "      <td>0</td>\n",
       "      <td>4</td>\n",
       "      <td>2</td>\n",
       "      <td>19.0</td>\n",
       "    </tr>\n",
       "    <tr>\n",
       "      <th>9</th>\n",
       "      <td>Merc 280</td>\n",
       "      <td>19.2</td>\n",
       "      <td>6</td>\n",
       "      <td>167.6</td>\n",
       "      <td>123</td>\n",
       "      <td>3.440</td>\n",
       "      <td>18.30</td>\n",
       "      <td>0</td>\n",
       "      <td>4</td>\n",
       "      <td>4</td>\n",
       "      <td>19.0</td>\n",
       "    </tr>\n",
       "    <tr>\n",
       "      <th>25</th>\n",
       "      <td>Fiat X1-9</td>\n",
       "      <td>27.3</td>\n",
       "      <td>4</td>\n",
       "      <td>79.0</td>\n",
       "      <td>66</td>\n",
       "      <td>1.935</td>\n",
       "      <td>18.90</td>\n",
       "      <td>1</td>\n",
       "      <td>4</td>\n",
       "      <td>1</td>\n",
       "      <td>27.0</td>\n",
       "    </tr>\n",
       "    <tr>\n",
       "      <th>0</th>\n",
       "      <td>Mazda RX4</td>\n",
       "      <td>21.0</td>\n",
       "      <td>6</td>\n",
       "      <td>160.0</td>\n",
       "      <td>110</td>\n",
       "      <td>2.620</td>\n",
       "      <td>16.46</td>\n",
       "      <td>1</td>\n",
       "      <td>4</td>\n",
       "      <td>4</td>\n",
       "      <td>27.0</td>\n",
       "    </tr>\n",
       "    <tr>\n",
       "      <th>18</th>\n",
       "      <td>Honda Civic</td>\n",
       "      <td>30.4</td>\n",
       "      <td>4</td>\n",
       "      <td>75.7</td>\n",
       "      <td>52</td>\n",
       "      <td>1.615</td>\n",
       "      <td>18.52</td>\n",
       "      <td>1</td>\n",
       "      <td>4</td>\n",
       "      <td>2</td>\n",
       "      <td>27.0</td>\n",
       "    </tr>\n",
       "    <tr>\n",
       "      <th>17</th>\n",
       "      <td>Fiat 128</td>\n",
       "      <td>32.4</td>\n",
       "      <td>4</td>\n",
       "      <td>78.7</td>\n",
       "      <td>66</td>\n",
       "      <td>2.200</td>\n",
       "      <td>19.47</td>\n",
       "      <td>1</td>\n",
       "      <td>4</td>\n",
       "      <td>1</td>\n",
       "      <td>27.0</td>\n",
       "    </tr>\n",
       "    <tr>\n",
       "      <th>2</th>\n",
       "      <td>Datsun 710</td>\n",
       "      <td>22.8</td>\n",
       "      <td>4</td>\n",
       "      <td>108.0</td>\n",
       "      <td>93</td>\n",
       "      <td>2.320</td>\n",
       "      <td>18.61</td>\n",
       "      <td>1</td>\n",
       "      <td>4</td>\n",
       "      <td>1</td>\n",
       "      <td>27.0</td>\n",
       "    </tr>\n",
       "    <tr>\n",
       "      <th>1</th>\n",
       "      <td>Mazda RX4 Wag</td>\n",
       "      <td>21.0</td>\n",
       "      <td>6</td>\n",
       "      <td>160.0</td>\n",
       "      <td>110</td>\n",
       "      <td>2.875</td>\n",
       "      <td>17.02</td>\n",
       "      <td>1</td>\n",
       "      <td>4</td>\n",
       "      <td>4</td>\n",
       "      <td>27.0</td>\n",
       "    </tr>\n",
       "    <tr>\n",
       "      <th>19</th>\n",
       "      <td>Toyota Corolla</td>\n",
       "      <td>33.9</td>\n",
       "      <td>4</td>\n",
       "      <td>71.1</td>\n",
       "      <td>65</td>\n",
       "      <td>1.835</td>\n",
       "      <td>19.90</td>\n",
       "      <td>1</td>\n",
       "      <td>4</td>\n",
       "      <td>1</td>\n",
       "      <td>27.0</td>\n",
       "    </tr>\n",
       "    <tr>\n",
       "      <th>31</th>\n",
       "      <td>Volvo 142E</td>\n",
       "      <td>21.4</td>\n",
       "      <td>4</td>\n",
       "      <td>121.0</td>\n",
       "      <td>109</td>\n",
       "      <td>2.780</td>\n",
       "      <td>18.60</td>\n",
       "      <td>1</td>\n",
       "      <td>4</td>\n",
       "      <td>2</td>\n",
       "      <td>27.0</td>\n",
       "    </tr>\n",
       "    <tr>\n",
       "      <th>30</th>\n",
       "      <td>Maserati Bora</td>\n",
       "      <td>15.0</td>\n",
       "      <td>8</td>\n",
       "      <td>301.0</td>\n",
       "      <td>335</td>\n",
       "      <td>3.570</td>\n",
       "      <td>14.60</td>\n",
       "      <td>1</td>\n",
       "      <td>5</td>\n",
       "      <td>8</td>\n",
       "      <td>32.0</td>\n",
       "    </tr>\n",
       "    <tr>\n",
       "      <th>26</th>\n",
       "      <td>Porsche 914-2</td>\n",
       "      <td>26.0</td>\n",
       "      <td>4</td>\n",
       "      <td>120.3</td>\n",
       "      <td>91</td>\n",
       "      <td>2.140</td>\n",
       "      <td>16.70</td>\n",
       "      <td>1</td>\n",
       "      <td>5</td>\n",
       "      <td>2</td>\n",
       "      <td>32.0</td>\n",
       "    </tr>\n",
       "    <tr>\n",
       "      <th>27</th>\n",
       "      <td>Lotus Europa</td>\n",
       "      <td>30.4</td>\n",
       "      <td>4</td>\n",
       "      <td>95.1</td>\n",
       "      <td>113</td>\n",
       "      <td>1.513</td>\n",
       "      <td>16.90</td>\n",
       "      <td>1</td>\n",
       "      <td>5</td>\n",
       "      <td>2</td>\n",
       "      <td>32.0</td>\n",
       "    </tr>\n",
       "    <tr>\n",
       "      <th>28</th>\n",
       "      <td>Ford Pantera L</td>\n",
       "      <td>15.8</td>\n",
       "      <td>8</td>\n",
       "      <td>351.0</td>\n",
       "      <td>264</td>\n",
       "      <td>3.170</td>\n",
       "      <td>14.50</td>\n",
       "      <td>1</td>\n",
       "      <td>5</td>\n",
       "      <td>4</td>\n",
       "      <td>32.0</td>\n",
       "    </tr>\n",
       "    <tr>\n",
       "      <th>29</th>\n",
       "      <td>Ferrari Dino</td>\n",
       "      <td>19.7</td>\n",
       "      <td>6</td>\n",
       "      <td>145.0</td>\n",
       "      <td>175</td>\n",
       "      <td>2.770</td>\n",
       "      <td>15.50</td>\n",
       "      <td>1</td>\n",
       "      <td>5</td>\n",
       "      <td>6</td>\n",
       "      <td>32.0</td>\n",
       "    </tr>\n",
       "  </tbody>\n",
       "</table>\n",
       "</div>"
      ],
      "text/plain": [
       "                  model   mpg  cyl   disp   hp     wt   qsec  am  gear  carb  \\\n",
       "15  Lincoln Continental  10.4    8  460.0  215  5.424  17.82   0     3     4   \n",
       "22          AMC Javelin  15.2    8  304.0  150  3.435  17.30   0     3     2   \n",
       "16    Chrysler Imperial  14.7    8  440.0  230  5.345  17.42   0     3     4   \n",
       "23           Camaro Z28  13.3    8  350.0  245  3.840  15.41   0     3     4   \n",
       "14   Cadillac Fleetwood  10.4    8  472.0  205  5.250  17.98   0     3     4   \n",
       "13          Merc 450SLC  15.2    8  275.8  180  3.780  18.00   0     3     3   \n",
       "12           Merc 450SL  17.3    8  275.8  180  3.730  17.60   0     3     3   \n",
       "11           Merc 450SE  16.4    8  275.8  180  4.070  17.40   0     3     3   \n",
       "21     Dodge Challenger  15.5    8  318.0  150  3.520  16.87   0     3     2   \n",
       "20        Toyota Corona  21.5    4  120.1   97  2.465  20.01   0     3     1   \n",
       "6            Duster 360  14.3    8  360.0  245  3.570  15.84   0     3     4   \n",
       "5               Valiant  18.1    6  225.0  105  3.460  20.22   0     3     1   \n",
       "4     Hornet Sportabout  18.7    8  360.0  175  3.440  17.02   0     3     2   \n",
       "3        Hornet 4 Drive  21.4    6  258.0  110  3.215  19.44   0     3     1   \n",
       "24     Pontiac Firebird  19.2    8  400.0  175  3.845  17.05   0     3     2   \n",
       "10            Merc 280C  17.8    6  167.6  123  3.440  18.90   0     4     4   \n",
       "7             Merc 240D  24.4    4  146.7   62  3.190  20.00   0     4     2   \n",
       "8              Merc 230  22.8    4  140.8   95  3.150  22.90   0     4     2   \n",
       "9              Merc 280  19.2    6  167.6  123  3.440  18.30   0     4     4   \n",
       "25            Fiat X1-9  27.3    4   79.0   66  1.935  18.90   1     4     1   \n",
       "0             Mazda RX4  21.0    6  160.0  110  2.620  16.46   1     4     4   \n",
       "18          Honda Civic  30.4    4   75.7   52  1.615  18.52   1     4     2   \n",
       "17             Fiat 128  32.4    4   78.7   66  2.200  19.47   1     4     1   \n",
       "2            Datsun 710  22.8    4  108.0   93  2.320  18.61   1     4     1   \n",
       "1         Mazda RX4 Wag  21.0    6  160.0  110  2.875  17.02   1     4     4   \n",
       "19       Toyota Corolla  33.9    4   71.1   65  1.835  19.90   1     4     1   \n",
       "31           Volvo 142E  21.4    4  121.0  109  2.780  18.60   1     4     2   \n",
       "30        Maserati Bora  15.0    8  301.0  335  3.570  14.60   1     5     8   \n",
       "26        Porsche 914-2  26.0    4  120.3   91  2.140  16.70   1     5     2   \n",
       "27         Lotus Europa  30.4    4   95.1  113  1.513  16.90   1     5     2   \n",
       "28       Ford Pantera L  15.8    8  351.0  264  3.170  14.50   1     5     4   \n",
       "29         Ferrari Dino  19.7    6  145.0  175  2.770  15.50   1     5     6   \n",
       "\n",
       "    ABRank  \n",
       "15    15.0  \n",
       "22    15.0  \n",
       "16    15.0  \n",
       "23    15.0  \n",
       "14    15.0  \n",
       "13    15.0  \n",
       "12    15.0  \n",
       "11    15.0  \n",
       "21    15.0  \n",
       "20    15.0  \n",
       "6     15.0  \n",
       "5     15.0  \n",
       "4     15.0  \n",
       "3     15.0  \n",
       "24    15.0  \n",
       "10    19.0  \n",
       "7     19.0  \n",
       "8     19.0  \n",
       "9     19.0  \n",
       "25    27.0  \n",
       "0     27.0  \n",
       "18    27.0  \n",
       "17    27.0  \n",
       "2     27.0  \n",
       "1     27.0  \n",
       "19    27.0  \n",
       "31    27.0  \n",
       "30    32.0  \n",
       "26    32.0  \n",
       "27    32.0  \n",
       "28    32.0  \n",
       "29    32.0  "
      ]
     },
     "execution_count": 147,
     "metadata": {},
     "output_type": "execute_result"
    }
   ],
   "source": [
    "df1['ABRank']=(df1['am']+df1['gear']).rank(method='max')\n",
    "df1.sort_values('ABRank',ascending=True)"
   ]
  },
  {
   "cell_type": "markdown",
   "id": "f5c5a6fd",
   "metadata": {},
   "source": [
    "df1"
   ]
  },
  {
   "cell_type": "code",
   "execution_count": 187,
   "id": "bfc554cc",
   "metadata": {},
   "outputs": [],
   "source": [
    "import pandas as pd\n",
    "df1=pd.read_csv('https://raw.githubusercontent.com/vcsgithub/vcsgithub.github.io/master/lds41.csv')\n",
    "series_one = pd.Series(df1.cyl) \n",
    "series_one.index.to_list()\n",
    "sm=series_one.to_list()"
   ]
  },
  {
   "cell_type": "code",
   "execution_count": null,
   "id": "a65396a1",
   "metadata": {},
   "outputs": [],
   "source": []
  }
 ],
 "metadata": {
  "kernelspec": {
   "display_name": "Python 3 (ipykernel)",
   "language": "python",
   "name": "python3"
  },
  "language_info": {
   "codemirror_mode": {
    "name": "ipython",
    "version": 3
   },
   "file_extension": ".py",
   "mimetype": "text/x-python",
   "name": "python",
   "nbconvert_exporter": "python",
   "pygments_lexer": "ipython3",
   "version": "3.11.5"
  }
 },
 "nbformat": 4,
 "nbformat_minor": 5
}
