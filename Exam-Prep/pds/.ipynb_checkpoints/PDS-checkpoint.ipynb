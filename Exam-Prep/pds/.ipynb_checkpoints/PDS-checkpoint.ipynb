{
 "cells": [
  {
   "cell_type": "code",
   "execution_count": null,
   "id": "46a43aa6",
   "metadata": {},
   "outputs": [],
   "source": [
    "print(\"national stock \\nexchange\",\"  \",\"abc\")"
   ]
  },
  {
   "cell_type": "code",
   "execution_count": null,
   "id": "e0546840",
   "metadata": {},
   "outputs": [],
   "source": [
    "print('Hello\\nWorld')"
   ]
  },
  {
   "cell_type": "code",
   "execution_count": null,
   "id": "6a495e4c",
   "metadata": {},
   "outputs": [],
   "source": [
    "print(\"national stock exchange\",\"  \",\"abc\")"
   ]
  },
  {
   "cell_type": "code",
   "execution_count": null,
   "id": "35f76668",
   "metadata": {},
   "outputs": [],
   "source": [
    "exchange='abc';print('exchange')"
   ]
  },
  {
   "cell_type": "code",
   "execution_count": null,
   "id": "bc2e533b",
   "metadata": {},
   "outputs": [],
   "source": [
    "ms1='line 1 of string'\n",
    "ms1"
   ]
  },
  {
   "cell_type": "code",
   "execution_count": null,
   "id": "a83fd487",
   "metadata": {},
   "outputs": [],
   "source": [
    "## pragraph strings\n",
    "\n",
    "pragraph='''cow is animal'''\n",
    "print(pragraph)"
   ]
  },
  {
   "cell_type": "code",
   "execution_count": null,
   "id": "59b91f5c",
   "metadata": {},
   "outputs": [],
   "source": [
    "a =10\n",
    "b = 'abc'\n",
    "\n",
    "print(a)\n",
    "print(b)\n",
    "\n",
    "print(type(a))\n",
    "print(type(b))\n"
   ]
  },
  {
   "cell_type": "code",
   "execution_count": null,
   "id": "fe60b3ea",
   "metadata": {},
   "outputs": [],
   "source": [
    "import keyword\n",
    "print(keyword.kwlist)"
   ]
  },
  {
   "cell_type": "code",
   "execution_count": null,
   "id": "4c0ea870",
   "metadata": {},
   "outputs": [],
   "source": [
    "print(type(keyword))"
   ]
  },
  {
   "cell_type": "code",
   "execution_count": null,
   "id": "602b3874",
   "metadata": {},
   "outputs": [],
   "source": [
    "\n",
    "\n",
    "sensor=input('give value')\n",
    "if sensor ==0:\n",
    "    print('level is low')\n",
    "    print('switch motor one')\n",
    "else:\n",
    "    print('level is high')\n",
    "    print('swithc off motor')"
   ]
  },
  {
   "cell_type": "code",
   "execution_count": null,
   "id": "331fa23f",
   "metadata": {},
   "outputs": [],
   "source": [
    "a=10\n",
    "while a > 1:\n",
    "    for a in range(5):\n",
    "        print('a')\n",
    "    a = a-1"
   ]
  },
  {
   "cell_type": "code",
   "execution_count": 8,
   "id": "37ff111d",
   "metadata": {},
   "outputs": [
    {
     "ename": "SyntaxError",
     "evalue": "invalid syntax (3450015014.py, line 3)",
     "output_type": "error",
     "traceback": [
      "\u001b[1;36m  Cell \u001b[1;32mIn[8], line 3\u001b[1;36m\u001b[0m\n\u001b[1;33m    myint1=\u001b[0m\n\u001b[1;37m           ^\u001b[0m\n\u001b[1;31mSyntaxError\u001b[0m\u001b[1;31m:\u001b[0m invalid syntax\n"
     ]
    }
   ],
   "source": [
    "## assignments\n",
    "\n",
    "myint1=\n",
    "\n",
    "\n",
    "myint2=int(20)\n",
    "print(myint1)\n",
    "print(id(myint1))\n",
    "print(id(myint2))\n",
    "print(type(myint1))\n",
    "print(type(myint2))"
   ]
  },
  {
   "cell_type": "code",
   "execution_count": 11,
   "id": "9a4207a6",
   "metadata": {},
   "outputs": [
    {
     "name": "stdout",
     "output_type": "stream",
     "text": [
      "(20, 30, 'python')\n",
      "<class 'tuple'>\n"
     ]
    }
   ],
   "source": [
    "var1=(20,30,'python')\n",
    "\n",
    "print(var1)\n",
    "print(type(var1))"
   ]
  },
  {
   "cell_type": "code",
   "execution_count": 14,
   "id": "f70b17a1",
   "metadata": {},
   "outputs": [
    {
     "ename": "TypeError",
     "evalue": "'tuple' object does not support item assignment",
     "output_type": "error",
     "traceback": [
      "\u001b[1;31m---------------------------------------------------------------------------\u001b[0m",
      "\u001b[1;31mTypeError\u001b[0m                                 Traceback (most recent call last)",
      "Cell \u001b[1;32mIn[14], line 2\u001b[0m\n\u001b[0;32m      1\u001b[0m myint\u001b[38;5;241m=\u001b[39m(\u001b[38;5;241m10\u001b[39m,\u001b[38;5;241m20\u001b[39m,\u001b[38;5;241m30\u001b[39m)\n\u001b[1;32m----> 2\u001b[0m myint[\u001b[38;5;241m0\u001b[39m]\u001b[38;5;241m=\u001b[39m\u001b[38;5;241m33\u001b[39m\n\u001b[0;32m      3\u001b[0m \u001b[38;5;28mprint\u001b[39m(\u001b[38;5;28mtype\u001b[39m(myint))\n",
      "\u001b[1;31mTypeError\u001b[0m: 'tuple' object does not support item assignment"
     ]
    }
   ],
   "source": [
    "myint=(10,20,30)\n",
    "myint[0]=33\n",
    "print(type(myint))"
   ]
  },
  {
   "cell_type": "code",
   "execution_count": 17,
   "id": "673e07ee",
   "metadata": {},
   "outputs": [
    {
     "name": "stdout",
     "output_type": "stream",
     "text": [
      "2697798517808\n",
      "2697798517808\n",
      "2697798517808\n"
     ]
    }
   ],
   "source": [
    "a =b=c=2345\n",
    "print(id(a))\n",
    "print(id(b))\n",
    "print(id(c))\n"
   ]
  },
  {
   "cell_type": "code",
   "execution_count": 19,
   "id": "f46af222",
   "metadata": {},
   "outputs": [
    {
     "name": "stdout",
     "output_type": "stream",
     "text": [
      "2697798517680\n",
      "2697798517040\n",
      "2697798516880\n"
     ]
    }
   ],
   "source": [
    "a =2345\n",
    "b=2345\n",
    "c=2345\n",
    "print(id(a))\n",
    "print(id(b))\n",
    "print(id(c))"
   ]
  },
  {
   "cell_type": "code",
   "execution_count": 1,
   "id": "6c078e3a",
   "metadata": {},
   "outputs": [
    {
     "name": "stdout",
     "output_type": "stream",
     "text": [
      "what is your namejitendra singh\n",
      "may name is :   jitendra singh\n"
     ]
    }
   ],
   "source": [
    "name = input(\"what is your name\")\n",
    "print('may name is :' ,' ',name)"
   ]
  },
  {
   "cell_type": "code",
   "execution_count": 4,
   "id": "426567bb",
   "metadata": {},
   "outputs": [
    {
     "name": "stdout",
     "output_type": "stream",
     "text": [
      "provide your marks55\n",
      "40\n"
     ]
    }
   ],
   "source": [
    "marks =int(input('provide your marks'))\n",
    "marks1 = marks + (40-marks)\n",
    "print(marks1)"
   ]
  },
  {
   "cell_type": "code",
   "execution_count": 5,
   "id": "d4a5e671",
   "metadata": {},
   "outputs": [],
   "source": [
    "## operators\n"
   ]
  },
  {
   "cell_type": "code",
   "execution_count": 10,
   "id": "b56c3395",
   "metadata": {},
   "outputs": [
    {
     "name": "stdout",
     "output_type": "stream",
     "text": [
      "9765625\n",
      "<class 'int'>\n"
     ]
    }
   ],
   "source": [
    "x = 25 \n",
    "y = 5 \n",
    "z = x**5\n",
    "print(str(z))\n",
    "print(type(z))"
   ]
  },
  {
   "cell_type": "code",
   "execution_count": 11,
   "id": "8b2ac063",
   "metadata": {},
   "outputs": [],
   "source": [
    "## functions in python\n"
   ]
  },
  {
   "cell_type": "code",
   "execution_count": 31,
   "id": "b838fa32",
   "metadata": {},
   "outputs": [
    {
     "name": "stdout",
     "output_type": "stream",
     "text": [
      "provide your marks33\n",
      "\u001b[31msorry you failed the exam\n",
      "\u001b[31mThis is red\n",
      "\u001b[42mThis has a green background\n",
      "\u001b[33m\u001b[44mThis has yellow foreground and blue background\n"
     ]
    }
   ],
   "source": [
    "from colorama import Fore, Back, Style\n",
    "def examResult():\n",
    "    marks =int(input('provide your marks'))\n",
    "    if marks > 40:\n",
    "        print(f'{Fore.GREEN}you passed the exam')\n",
    "    else:\n",
    "        print(f\"{Fore.RED}sorry you failed the exam\")\n",
    "        print(f\"{Fore.RED}This is red\")\n",
    "        print(f\"{Back.GREEN}This has a green background\")\n",
    "        print(f\"{Fore.YELLOW}{Back.BLUE}This has yellow foreground and blue background\")\n",
    "        \n",
    "examResult()        \n",
    "        "
   ]
  },
  {
   "cell_type": "code",
   "execution_count": 38,
   "id": "21be6e30",
   "metadata": {},
   "outputs": [
    {
     "name": "stdout",
     "output_type": "stream",
     "text": [
      "please provide temprator feels like25\n",
      "\u001b[32m its pleasant\n"
     ]
    }
   ],
   "source": [
    "def tempcheck():\n",
    "    temp = int(input('please provide temprator feels like'))\n",
    "    if temp > 30:\n",
    "        print(f'{Fore.RED}its hot')\n",
    "    elif temp < 20:\n",
    "        print(f'{Fore.BLUE} its cold')\n",
    "    else:\n",
    "        print(f'{Fore.GREEN} its pleasant')\n",
    "        \n",
    "tempcheck()"
   ]
  },
  {
   "cell_type": "code",
   "execution_count": 39,
   "id": "06d0e33b",
   "metadata": {},
   "outputs": [],
   "source": [
    "## accessing values in string\n",
    "\n",
    "abc = \"jitendrakumarsingh\""
   ]
  },
  {
   "cell_type": "code",
   "execution_count": 53,
   "id": "32c1c5f5",
   "metadata": {},
   "outputs": [
    {
     "name": "stdout",
     "output_type": "stream",
     "text": [
      "18\n",
      "t\n"
     ]
    }
   ],
   "source": [
    "print(len(abc))\n",
    "print(abc[2:3])"
   ]
  },
  {
   "cell_type": "code",
   "execution_count": 54,
   "id": "03f3f15f",
   "metadata": {},
   "outputs": [
    {
     "name": "stdout",
     "output_type": "stream",
     "text": [
      "approximate value = 2.79\n",
      "car = {'tires': 4, 'doors': 2}\n"
     ]
    }
   ],
   "source": [
    "  value = 2.791514\n",
    "  print(f'approximate value = {value:.2f}')  # approximate value = 2.79\n",
    "\n",
    "  car = {'tires':4, 'doors':2}\n",
    "  print(f'car = {car}') # car = {'tires': 4, 'doors': 2}\n"
   ]
  },
  {
   "cell_type": "code",
   "execution_count": 62,
   "id": "2cf8addf",
   "metadata": {},
   "outputs": [
    {
     "name": "stdout",
     "output_type": "stream",
     "text": [
      "provide your acc number2121\n",
      "\u001b[31m customer does not exist\n"
     ]
    }
   ],
   "source": [
    "account=['12344','23454','29272']\n",
    "cs=input('provide your acc number')\n",
    "if cs in account:\n",
    "    print(f'{Fore.GREEN}existing customer')\n",
    "else:\n",
    "    print(f'{Fore.RED} customer does not exist')\n",
    "          \n",
    "          "
   ]
  },
  {
   "cell_type": "code",
   "execution_count": 66,
   "id": "219d41b3",
   "metadata": {},
   "outputs": [
    {
     "name": "stdout",
     "output_type": "stream",
     "text": [
      "['__add__', '__class__', '__contains__', '__delattr__', '__dir__', '__doc__', '__eq__', '__format__', '__ge__', '__getattribute__', '__getitem__', '__getnewargs__', '__getstate__', '__gt__', '__hash__', '__init__', '__init_subclass__', '__iter__', '__le__', '__len__', '__lt__', '__mod__', '__mul__', '__ne__', '__new__', '__reduce__', '__reduce_ex__', '__repr__', '__rmod__', '__rmul__', '__setattr__', '__sizeof__', '__str__', '__subclasshook__', 'capitalize', 'casefold', 'center', 'count', 'encode', 'endswith', 'expandtabs', 'find', 'format', 'format_map', 'index', 'isalnum', 'isalpha', 'isascii', 'isdecimal', 'isdigit', 'isidentifier', 'islower', 'isnumeric', 'isprintable', 'isspace', 'istitle', 'isupper', 'join', 'ljust', 'lower', 'lstrip', 'maketrans', 'partition', 'removeprefix', 'removesuffix', 'replace', 'rfind', 'rindex', 'rjust', 'rpartition', 'rsplit', 'rstrip', 'split', 'splitlines', 'startswith', 'strip', 'swapcase', 'title', 'translate', 'upper', 'zfill']\n"
     ]
    },
    {
     "data": {
      "text/plain": [
       "'jitendrakumarsingh'"
      ]
     },
     "execution_count": 66,
     "metadata": {},
     "output_type": "execute_result"
    }
   ],
   "source": [
    "print(dir(str))\n",
    "abc"
   ]
  },
  {
   "cell_type": "code",
   "execution_count": 73,
   "id": "09019aa5",
   "metadata": {},
   "outputs": [
    {
     "name": "stdout",
     "output_type": "stream",
     "text": [
      "JITENDRAKUMARSINGH\n"
     ]
    },
    {
     "ename": "TypeError",
     "evalue": "unbound method str.replace() needs an argument",
     "output_type": "error",
     "traceback": [
      "\u001b[1;31m---------------------------------------------------------------------------\u001b[0m",
      "\u001b[1;31mTypeError\u001b[0m                                 Traceback (most recent call last)",
      "Cell \u001b[1;32mIn[73], line 3\u001b[0m\n\u001b[0;32m      1\u001b[0m abc\n\u001b[0;32m      2\u001b[0m \u001b[38;5;28mprint\u001b[39m(abc\u001b[38;5;241m.\u001b[39mupper())\n\u001b[1;32m----> 3\u001b[0m help(\u001b[38;5;28mstr\u001b[39m\u001b[38;5;241m.\u001b[39mreplace())\n",
      "\u001b[1;31mTypeError\u001b[0m: unbound method str.replace() needs an argument"
     ]
    }
   ],
   "source": [
    "abc\n",
    "print(abc.upper())\n",
    "help(str.replace())"
   ]
  },
  {
   "cell_type": "code",
   "execution_count": 75,
   "id": "f70a1104",
   "metadata": {},
   "outputs": [
    {
     "name": "stdout",
     "output_type": "stream",
     "text": [
      "Help on method_descriptor:\n",
      "\n",
      "replace(self, old, new, count=-1, /)\n",
      "    Return a copy with all occurrences of substring old replaced by new.\n",
      "    \n",
      "      count\n",
      "        Maximum number of occurrences to replace.\n",
      "        -1 (the default value) means replace all occurrences.\n",
      "    \n",
      "    If the optional argument count is given, only the first count occurrences are\n",
      "    replaced.\n",
      "\n"
     ]
    }
   ],
   "source": [
    "help(str.replace)"
   ]
  },
  {
   "cell_type": "code",
   "execution_count": 79,
   "id": "e96b6c5e",
   "metadata": {},
   "outputs": [
    {
     "data": {
      "text/plain": [
       "'ittendrakumarsingh'"
      ]
     },
     "execution_count": 79,
     "metadata": {},
     "output_type": "execute_result"
    }
   ],
   "source": [
    "abc\n",
    "abc.replace('ji','it')"
   ]
  },
  {
   "cell_type": "code",
   "execution_count": 82,
   "id": "028cca1c",
   "metadata": {},
   "outputs": [
    {
     "name": "stdout",
     "output_type": "stream",
     "text": [
      "kids rids singh\n"
     ]
    }
   ],
   "source": [
    "ms1 = \"king ring singh\"\n",
    "ns1 = ms1.replace('ng','ds',2)\n",
    "print(ns1)"
   ]
  },
  {
   "cell_type": "code",
   "execution_count": 86,
   "id": "bc7798ee",
   "metadata": {},
   "outputs": [
    {
     "data": {
      "text/plain": [
       "1"
      ]
     },
     "execution_count": 86,
     "metadata": {},
     "output_type": "execute_result"
    }
   ],
   "source": [
    "abc.find('i',0,5)\n"
   ]
  },
  {
   "cell_type": "code",
   "execution_count": 89,
   "id": "73ef339d",
   "metadata": {},
   "outputs": [
    {
     "name": "stdout",
     "output_type": "stream",
     "text": [
      "['__add__', '__class__', '__contains__', '__delattr__', '__dir__', '__doc__', '__eq__', '__format__', '__ge__', '__getattribute__', '__getitem__', '__getnewargs__', '__getstate__', '__gt__', '__hash__', '__init__', '__init_subclass__', '__iter__', '__le__', '__len__', '__lt__', '__mod__', '__mul__', '__ne__', '__new__', '__reduce__', '__reduce_ex__', '__repr__', '__rmod__', '__rmul__', '__setattr__', '__sizeof__', '__str__', '__subclasshook__', 'capitalize', 'casefold', 'center', 'count', 'encode', 'endswith', 'expandtabs', 'find', 'format', 'format_map', 'index', 'isalnum', 'isalpha', 'isascii', 'isdecimal', 'isdigit', 'isidentifier', 'islower', 'isnumeric', 'isprintable', 'isspace', 'istitle', 'isupper', 'join', 'ljust', 'lower', 'lstrip', 'maketrans', 'partition', 'removeprefix', 'removesuffix', 'replace', 'rfind', 'rindex', 'rjust', 'rpartition', 'rsplit', 'rstrip', 'split', 'splitlines', 'startswith', 'strip', 'swapcase', 'title', 'translate', 'upper', 'zfill']\n"
     ]
    }
   ],
   "source": [
    "print(dir(str))"
   ]
  },
  {
   "cell_type": "code",
   "execution_count": 97,
   "id": "cbe3b948",
   "metadata": {},
   "outputs": [
    {
     "name": "stdout",
     "output_type": "stream",
     "text": [
      "jitendrakumarsingh\n",
      "jtn\n"
     ]
    }
   ],
   "source": [
    "print(abc)\n",
    "\n",
    "print(abc[0:5:2])"
   ]
  },
  {
   "cell_type": "code",
   "execution_count": 99,
   "id": "b4068fc4",
   "metadata": {},
   "outputs": [
    {
     "name": "stdout",
     "output_type": "stream",
     "text": [
      "provide your acc numberdfd\n",
      "\u001b[31m customer does not exist\n"
     ]
    }
   ],
   "source": [
    "account=['12344','23454','29272']\n",
    "cs=input('provide your acc number')\n",
    "if cs in account:\n",
    "    print(f'{Fore.GREEN}existing customer')\n",
    "else:\n",
    "    print(f'{Fore.RED} customer does not exist')\n",
    "          \n",
    "  "
   ]
  },
  {
   "cell_type": "code",
   "execution_count": 102,
   "id": "6e42d15d",
   "metadata": {},
   "outputs": [
    {
     "data": {
      "text/plain": [
       "'srag is krag'"
      ]
     },
     "execution_count": 102,
     "metadata": {},
     "output_type": "execute_result"
    }
   ],
   "source": [
    "abc = \"sing is king\"\n",
    "abc.replace('in','ra',2)\n",
    "\n",
    "\n"
   ]
  },
  {
   "cell_type": "code",
   "execution_count": 104,
   "id": "3dab4ffb",
   "metadata": {},
   "outputs": [
    {
     "data": {
      "text/plain": [
       "['world', 'health', 'organization']"
      ]
     },
     "execution_count": 104,
     "metadata": {},
     "output_type": "execute_result"
    }
   ],
   "source": [
    "## split and join \n",
    "\n",
    "ms1 = \"world health organization\"\n",
    "ms1.split()"
   ]
  },
  {
   "cell_type": "code",
   "execution_count": 110,
   "id": "0289329e",
   "metadata": {},
   "outputs": [
    {
     "data": {
      "text/plain": [
       "['world health organization']"
      ]
     },
     "execution_count": 110,
     "metadata": {},
     "output_type": "execute_result"
    }
   ],
   "source": [
    "ms1.split('_',4)"
   ]
  },
  {
   "cell_type": "code",
   "execution_count": 113,
   "id": "70b938bc",
   "metadata": {},
   "outputs": [
    {
     "data": {
      "text/plain": [
       "['Jitendra', 'Singh', 'Engineer_Resume_SA']"
      ]
     },
     "execution_count": 113,
     "metadata": {},
     "output_type": "execute_result"
    }
   ],
   "source": [
    "str1 = \"Jitendra_Singh_Engineer_Resume_SA\"\n",
    "str1.split('_',2)"
   ]
  },
  {
   "cell_type": "code",
   "execution_count": 117,
   "id": "c1a50005",
   "metadata": {},
   "outputs": [
    {
     "name": "stdout",
     "output_type": "stream",
     "text": [
      "average marks in pysics of 50 studeent is 98.22\n",
      "average marks in pysics of 50 studeent is 98.22\n"
     ]
    }
   ],
   "source": [
    "#3python way of printing things\n",
    "average = 98.22\n",
    "sub =\"pysics\"\n",
    "num =50\n",
    "print('average marks in {} of {} studeent is {}'.format(sub,num,average))\n",
    "print('average marks in {0} of {1} studeent is {2}'.format(sub,num,average))\n"
   ]
  },
  {
   "cell_type": "code",
   "execution_count": 120,
   "id": "c1cd3aa5",
   "metadata": {},
   "outputs": [
    {
     "data": {
      "text/plain": [
       "'python'"
      ]
     },
     "execution_count": 120,
     "metadata": {},
     "output_type": "execute_result"
    }
   ],
   "source": [
    "ns1 = '{:^1}'.format('python')\n",
    "ns1"
   ]
  },
  {
   "cell_type": "code",
   "execution_count": 127,
   "id": "b22b5cde",
   "metadata": {},
   "outputs": [
    {
     "name": "stdout",
     "output_type": "stream",
     "text": [
      "                        @                         \n",
      "                       @@@@                       \n",
      "                     @@@@@@@                      \n",
      "                    @@@@@@@@@@                    \n",
      "                  @@@@@@@@@@@@@                   \n",
      "                 @@@@@@@@@@@@@@@@                 \n",
      "               @@@@@@@@@@@@@@@@@@@                \n",
      "              @@@@@@@@@@@@@@@@@@@@@@              \n",
      "            @@@@@@@@@@@@@@@@@@@@@@@@@             \n",
      "           @@@@@@@@@@@@@@@@@@@@@@@@@@@@           \n",
      "         @@@@@@@@@@@@@@@@@@@@@@@@@@@@@@@          \n",
      "        @@@@@@@@@@@@@@@@@@@@@@@@@@@@@@@@@@        \n",
      "      @@@@@@@@@@@@@@@@@@@@@@@@@@@@@@@@@@@@@       \n"
     ]
    }
   ],
   "source": [
    "for i in range(1,40,3):\n",
    "    print('{:^50}'.format('@'*i))"
   ]
  },
  {
   "cell_type": "code",
   "execution_count": 137,
   "id": "b36ff29b",
   "metadata": {},
   "outputs": [
    {
     "name": "stdout",
     "output_type": "stream",
     "text": [
      "                   *                    \n",
      "                  ****                  \n",
      "                *******                 \n",
      "               **********               \n",
      "             *************              \n",
      "            ****************            \n",
      "          *******************           \n",
      "         **********************         \n",
      "       *************************        \n",
      "      ****************************      \n",
      "    *******************************     \n",
      "   **********************************   \n",
      " *************************************  \n"
     ]
    }
   ],
   "source": [
    "for i in range(1,40,3):\n",
    "    print('{:^40}'.format('*'*i))"
   ]
  },
  {
   "cell_type": "code",
   "execution_count": 1,
   "id": "e3573e8b",
   "metadata": {},
   "outputs": [
    {
     "data": {
      "text/plain": [
       "['j', 'i', 't', 'e', 'n', 'd', 'r', 'a']"
      ]
     },
     "execution_count": 1,
     "metadata": {},
     "output_type": "execute_result"
    }
   ],
   "source": [
    "## list\n",
    "\n",
    "mylist1=list('jitendra')\n",
    "mylist1\n",
    "str='jitendra'\n",
    "mylist2=list()\n",
    "for i in range(len(mylist1)):\n",
    "    mylist2.append(mylist1[i])\n",
    "mylist2"
   ]
  },
  {
   "cell_type": "code",
   "execution_count": 7,
   "id": "65bbd2ed",
   "metadata": {},
   "outputs": [
    {
     "data": {
      "text/plain": [
       "'m'"
      ]
     },
     "execution_count": 7,
     "metadata": {},
     "output_type": "execute_result"
    }
   ],
   "source": [
    "str1='Welcom'\n",
    "str1[-1:-2:-5]"
   ]
  }
 ],
 "metadata": {
  "kernelspec": {
   "display_name": "Python 3 (ipykernel)",
   "language": "python",
   "name": "python3"
  },
  "language_info": {
   "codemirror_mode": {
    "name": "ipython",
    "version": 3
   },
   "file_extension": ".py",
   "mimetype": "text/x-python",
   "name": "python",
   "nbconvert_exporter": "python",
   "pygments_lexer": "ipython3",
   "version": "3.11.5"
  }
 },
 "nbformat": 4,
 "nbformat_minor": 5
}
