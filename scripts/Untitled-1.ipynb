{
 "cells": [
  {
   "cell_type": "code",
   "execution_count": 4,
   "metadata": {},
   "outputs": [
    {
     "name": "stdout",
     "output_type": "stream",
     "text": [
      "Requirement already satisfied: instaloader in /Users/joanna/anaconda3/lib/python3.10/site-packages (4.10)\n",
      "Requirement already satisfied: requests>=2.4 in /Users/joanna/anaconda3/lib/python3.10/site-packages (from instaloader) (2.28.1)\n",
      "Requirement already satisfied: idna<4,>=2.5 in /Users/joanna/anaconda3/lib/python3.10/site-packages (from requests>=2.4->instaloader) (3.4)\n",
      "Requirement already satisfied: urllib3<1.27,>=1.21.1 in /Users/joanna/anaconda3/lib/python3.10/site-packages (from requests>=2.4->instaloader) (1.26.14)\n",
      "Requirement already satisfied: charset-normalizer<3,>=2 in /Users/joanna/anaconda3/lib/python3.10/site-packages (from requests>=2.4->instaloader) (2.0.4)\n",
      "Requirement already satisfied: certifi>=2017.4.17 in /Users/joanna/anaconda3/lib/python3.10/site-packages (from requests>=2.4->instaloader) (2022.12.7)\n"
     ]
    },
    {
     "ename": "NameError",
     "evalue": "name 'instaloader' is not defined",
     "output_type": "error",
     "traceback": [
      "\u001b[0;31m---------------------------------------------------------------------------\u001b[0m",
      "\u001b[0;31mNameError\u001b[0m                                 Traceback (most recent call last)",
      "Cell \u001b[0;32mIn[4], line 5\u001b[0m\n\u001b[1;32m      2\u001b[0m get_ipython()\u001b[39m.\u001b[39msystem(\u001b[39m'\u001b[39m\u001b[39m{sys.executable}\u001b[39;00m\u001b[39m -m pip install instaloader\u001b[39m\u001b[39m'\u001b[39m)\n\u001b[1;32m      3\u001b[0m \u001b[39m#help(instaloader)\u001b[39;00m\n\u001b[1;32m      4\u001b[0m \u001b[39m# connect to instalgram\u001b[39;00m\n\u001b[0;32m----> 5\u001b[0m a \u001b[39m=\u001b[39m instaloader\u001b[39m.\u001b[39mInstaloader()\n\u001b[1;32m      6\u001b[0m \u001b[39m#print(a)\u001b[39;00m\n\u001b[1;32m      7\u001b[0m \u001b[39m# lets downloade profile \u001b[39;00m\n\u001b[1;32m      8\u001b[0m a\u001b[39m.\u001b[39mdownload_profile(nomadicjeetu)\n",
      "\u001b[0;31mNameError\u001b[0m: name 'instaloader' is not defined"
     ]
    }
   ],
   "source": [
    "import sys\n",
    "!{sys.executable} -m pip install instaloader\n",
    "#help(instaloader)\n",
    "# connect to instalgram\n",
    "a = instaloader.Instaloader()\n",
    "#print(a)\n",
    "# lets downloade profile \n",
    "a.download_profile(nomadicjeetu)\n",
    "a.download_profilepic('music_lover_vikasroyal',profile_pic_only= True)\n",
    "\n"
   ]
  }
 ],
 "metadata": {
  "kernelspec": {
   "display_name": "base",
   "language": "python",
   "name": "python3"
  },
  "language_info": {
   "codemirror_mode": {
    "name": "ipython",
    "version": 3
   },
   "file_extension": ".py",
   "mimetype": "text/x-python",
   "name": "python",
   "nbconvert_exporter": "python",
   "pygments_lexer": "ipython3",
   "version": "3.10.9"
  },
  "orig_nbformat": 4
 },
 "nbformat": 4,
 "nbformat_minor": 2
}
