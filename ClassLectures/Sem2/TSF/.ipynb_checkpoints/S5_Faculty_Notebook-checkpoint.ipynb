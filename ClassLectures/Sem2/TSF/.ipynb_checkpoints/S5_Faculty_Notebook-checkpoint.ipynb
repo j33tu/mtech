{
 "cells": [
  {
   "cell_type": "code",
   "execution_count": 1,
   "metadata": {
    "ExecuteTime": {
     "end_time": "2020-09-28T12:43:09.141037Z",
     "start_time": "2020-09-28T12:43:08.067621Z"
    },
    "id": "d8PFoEDn1Jxf"
   },
   "outputs": [],
   "source": [
    "# loading packages\n",
    "# basic + dates \n",
    "import numpy as np\n",
    "import pandas as pd\n",
    "from datetime import datetime\n",
    "from sklearn import metrics\n",
    "\n",
    "# data visualization\n",
    "import matplotlib.pyplot as plt\n",
    "import seaborn as sns # advanced vizs\n",
    "%matplotlib inline\n",
    "from timeit import default_timer as timer\n",
    "from statsmodels.tsa.statespace.varmax import VARMAX\n",
    "from statsmodels.tsa.stattools import adfuller\n",
    "\n",
    "\n",
    "\n",
    "# time series analysis\n",
    "from statsmodels.graphics.tsaplots import plot_acf, plot_pacf\n",
    "\n",
    "import warnings\n",
    "warnings.filterwarnings(\"ignore\")"
   ]
  },
  {
   "cell_type": "markdown",
   "metadata": {
    "id": "LSN6gKO31JxX"
   },
   "source": [
    "- Store id \n",
    "- Day of Week \n",
    "- Date\n",
    "- Customers: the number of customers on a given day.(Target Variable)\n",
    "- Open: an indicator for whether the store was open: 0 = closed, 1 = open.\n",
    "- Promo: indicates whether a store is running a promo on that day.\n",
    "- StateHoliday: indicates a state holiday. Normally all stores, with few exceptions, are closed on state holidays. This has value as \"0\", \"a\", \"b\", \"c\"\n",
    "- SchoolHoliday: indicates if the (Store, Date) was affected by the closure of public schools.\n"
   ]
  },
  {
   "cell_type": "code",
   "execution_count": null,
   "metadata": {
    "ExecuteTime": {
     "end_time": "2020-09-28T12:43:12.826163Z",
     "start_time": "2020-09-28T12:43:09.142828Z"
    },
    "id": "bksFCfWS1Jxs"
   },
   "outputs": [],
   "source": [
    "Store50 = pd.read_excel(\"Store_50.xlsx\", parse_dates = True, index_col = 'Date')"
   ]
  },
  {
   "cell_type": "code",
   "execution_count": null,
   "metadata": {
    "ExecuteTime": {
     "end_time": "2020-09-28T12:43:12.844925Z",
     "start_time": "2020-09-28T12:43:12.829963Z"
    },
    "colab": {
     "base_uri": "https://localhost:8080/",
     "height": 235
    },
    "id": "8kqBDtZQ1Jx6",
    "outputId": "fb3553bc-1fed-4da2-99d5-dff6b75c6111"
   },
   "outputs": [
    {
     "data": {
      "text/html": [
       "<div>\n",
       "<style scoped>\n",
       "    .dataframe tbody tr th:only-of-type {\n",
       "        vertical-align: middle;\n",
       "    }\n",
       "\n",
       "    .dataframe tbody tr th {\n",
       "        vertical-align: top;\n",
       "    }\n",
       "\n",
       "    .dataframe thead th {\n",
       "        text-align: right;\n",
       "    }\n",
       "</style>\n",
       "<table border=\"1\" class=\"dataframe\">\n",
       "  <thead>\n",
       "    <tr style=\"text-align: right;\">\n",
       "      <th></th>\n",
       "      <th>Store</th>\n",
       "      <th>Day Of Week</th>\n",
       "      <th>Customers</th>\n",
       "      <th>Open</th>\n",
       "      <th>Promotion</th>\n",
       "      <th>State Holiday</th>\n",
       "      <th>School Holiday</th>\n",
       "    </tr>\n",
       "    <tr>\n",
       "      <th>Date</th>\n",
       "      <th></th>\n",
       "      <th></th>\n",
       "      <th></th>\n",
       "      <th></th>\n",
       "      <th></th>\n",
       "      <th></th>\n",
       "      <th></th>\n",
       "    </tr>\n",
       "  </thead>\n",
       "  <tbody>\n",
       "    <tr>\n",
       "      <th>2016-05-31</th>\n",
       "      <td>1044</td>\n",
       "      <td>1</td>\n",
       "      <td>884</td>\n",
       "      <td>1</td>\n",
       "      <td>1</td>\n",
       "      <td>0</td>\n",
       "      <td>0</td>\n",
       "    </tr>\n",
       "    <tr>\n",
       "      <th>2016-05-31</th>\n",
       "      <td>1041</td>\n",
       "      <td>1</td>\n",
       "      <td>1032</td>\n",
       "      <td>1</td>\n",
       "      <td>1</td>\n",
       "      <td>0</td>\n",
       "      <td>1</td>\n",
       "    </tr>\n",
       "    <tr>\n",
       "      <th>2016-05-31</th>\n",
       "      <td>1036</td>\n",
       "      <td>1</td>\n",
       "      <td>1070</td>\n",
       "      <td>1</td>\n",
       "      <td>1</td>\n",
       "      <td>0</td>\n",
       "      <td>0</td>\n",
       "    </tr>\n",
       "    <tr>\n",
       "      <th>2016-05-31</th>\n",
       "      <td>1047</td>\n",
       "      <td>1</td>\n",
       "      <td>2043</td>\n",
       "      <td>1</td>\n",
       "      <td>1</td>\n",
       "      <td>0</td>\n",
       "      <td>0</td>\n",
       "    </tr>\n",
       "    <tr>\n",
       "      <th>2016-05-31</th>\n",
       "      <td>1012</td>\n",
       "      <td>1</td>\n",
       "      <td>1239</td>\n",
       "      <td>1</td>\n",
       "      <td>1</td>\n",
       "      <td>0</td>\n",
       "      <td>0</td>\n",
       "    </tr>\n",
       "  </tbody>\n",
       "</table>\n",
       "</div>"
      ],
      "text/plain": [
       "            Store  Day Of Week  Customers  Open  Promotion State Holiday  \\\n",
       "Date                                                                       \n",
       "2016-05-31   1044            1        884     1          1             0   \n",
       "2016-05-31   1041            1       1032     1          1             0   \n",
       "2016-05-31   1036            1       1070     1          1             0   \n",
       "2016-05-31   1047            1       2043     1          1             0   \n",
       "2016-05-31   1012            1       1239     1          1             0   \n",
       "\n",
       "            School Holiday  \n",
       "Date                        \n",
       "2016-05-31               0  \n",
       "2016-05-31               1  \n",
       "2016-05-31               0  \n",
       "2016-05-31               0  \n",
       "2016-05-31               0  "
      ]
     },
     "execution_count": 3,
     "metadata": {
      "tags": []
     },
     "output_type": "execute_result"
    }
   ],
   "source": [
    "Store50.head()"
   ]
  },
  {
   "cell_type": "code",
   "execution_count": null,
   "metadata": {
    "ExecuteTime": {
     "end_time": "2020-09-28T12:43:12.977521Z",
     "start_time": "2020-09-28T12:43:12.846918Z"
    },
    "id": "V_1lbSBA0OlW",
    "outputId": "e2068606-dd00-4c15-bbe5-6072913bdb02"
   },
   "outputs": [
    {
     "name": "stdout",
     "output_type": "stream",
     "text": [
      "The number of rows:  43326 \n",
      "The number of columns:  7\n"
     ]
    }
   ],
   "source": [
    "print(\"The number of rows: \",Store50.shape[0], \"\\n\"\"The number of columns: \",Store50.shape[1])"
   ]
  },
  {
   "cell_type": "code",
   "execution_count": null,
   "metadata": {
    "ExecuteTime": {
     "end_time": "2020-09-28T12:43:13.086990Z",
     "start_time": "2020-09-28T12:43:12.979516Z"
    },
    "id": "8AQmPeYy0OlX",
    "outputId": "56c81074-44c1-41ef-8c33-b73a46b2a74b"
   },
   "outputs": [
    {
     "data": {
      "text/plain": [
       "array([1044, 1041, 1036, 1047, 1012, 1037, 1027, 1005, 1011, 1004, 1043,\n",
       "       1001, 1048, 1030, 1035, 1013, 1029, 1042, 1017, 1032, 1024, 1006,\n",
       "       1007, 1002, 1019, 1000, 1009, 1023, 1016, 1050, 1031, 1010, 1034,\n",
       "       1039, 1033, 1045, 1015, 1022, 1040, 1046, 1021, 1028, 1008, 1025,\n",
       "       1014, 1020, 1038, 1003, 1018, 1026, 1049], dtype=int64)"
      ]
     },
     "execution_count": 5,
     "metadata": {
      "tags": []
     },
     "output_type": "execute_result"
    }
   ],
   "source": [
    "## Checking the number of stores for which we have the data\n",
    "\n",
    "Store50['Store'].unique()"
   ]
  },
  {
   "cell_type": "code",
   "execution_count": null,
   "metadata": {
    "ExecuteTime": {
     "end_time": "2020-09-28T12:43:13.200402Z",
     "start_time": "2020-09-28T12:43:13.088941Z"
    },
    "id": "0T5mvn310OlX"
   },
   "outputs": [],
   "source": [
    "## Selecting the store 1044 only for analysis.\n",
    "## Here, we are also reversing the data as we need to contiguous data in the ascending order for a Time Series Analysis.\n",
    "\n",
    "Store50_1044 = Store50[Store50.Store == 1044]. sort_index(ascending=True)"
   ]
  },
  {
   "cell_type": "code",
   "execution_count": null,
   "metadata": {
    "ExecuteTime": {
     "end_time": "2020-09-28T12:43:13.318438Z",
     "start_time": "2020-09-28T12:43:13.208395Z"
    },
    "id": "sThPwo840OlX",
    "outputId": "e42324b6-f025-4d28-fb30-d9d6cde66860"
   },
   "outputs": [
    {
     "data": {
      "text/html": [
       "<div>\n",
       "<style scoped>\n",
       "    .dataframe tbody tr th:only-of-type {\n",
       "        vertical-align: middle;\n",
       "    }\n",
       "\n",
       "    .dataframe tbody tr th {\n",
       "        vertical-align: top;\n",
       "    }\n",
       "\n",
       "    .dataframe thead th {\n",
       "        text-align: right;\n",
       "    }\n",
       "</style>\n",
       "<table border=\"1\" class=\"dataframe\">\n",
       "  <thead>\n",
       "    <tr style=\"text-align: right;\">\n",
       "      <th></th>\n",
       "      <th>Store</th>\n",
       "      <th>Day Of Week</th>\n",
       "      <th>Customers</th>\n",
       "      <th>Open</th>\n",
       "      <th>Promotion</th>\n",
       "      <th>State Holiday</th>\n",
       "      <th>School Holiday</th>\n",
       "    </tr>\n",
       "    <tr>\n",
       "      <th>Date</th>\n",
       "      <th></th>\n",
       "      <th></th>\n",
       "      <th></th>\n",
       "      <th></th>\n",
       "      <th></th>\n",
       "      <th></th>\n",
       "      <th></th>\n",
       "    </tr>\n",
       "  </thead>\n",
       "  <tbody>\n",
       "    <tr>\n",
       "      <th>2014-01-01</th>\n",
       "      <td>1044</td>\n",
       "      <td>2</td>\n",
       "      <td>0</td>\n",
       "      <td>0</td>\n",
       "      <td>0</td>\n",
       "      <td>a</td>\n",
       "      <td>1</td>\n",
       "    </tr>\n",
       "    <tr>\n",
       "      <th>2014-01-02</th>\n",
       "      <td>1044</td>\n",
       "      <td>5</td>\n",
       "      <td>473</td>\n",
       "      <td>1</td>\n",
       "      <td>0</td>\n",
       "      <td>0</td>\n",
       "      <td>0</td>\n",
       "    </tr>\n",
       "    <tr>\n",
       "      <th>2014-01-03</th>\n",
       "      <td>1044</td>\n",
       "      <td>5</td>\n",
       "      <td>483</td>\n",
       "      <td>1</td>\n",
       "      <td>0</td>\n",
       "      <td>0</td>\n",
       "      <td>0</td>\n",
       "    </tr>\n",
       "    <tr>\n",
       "      <th>2014-01-04</th>\n",
       "      <td>1044</td>\n",
       "      <td>1</td>\n",
       "      <td>0</td>\n",
       "      <td>0</td>\n",
       "      <td>0</td>\n",
       "      <td>b</td>\n",
       "      <td>1</td>\n",
       "    </tr>\n",
       "    <tr>\n",
       "      <th>2014-01-05</th>\n",
       "      <td>1044</td>\n",
       "      <td>3</td>\n",
       "      <td>0</td>\n",
       "      <td>0</td>\n",
       "      <td>1</td>\n",
       "      <td>a</td>\n",
       "      <td>0</td>\n",
       "    </tr>\n",
       "  </tbody>\n",
       "</table>\n",
       "</div>"
      ],
      "text/plain": [
       "            Store  Day Of Week  Customers  Open  Promotion State Holiday  \\\n",
       "Date                                                                       \n",
       "2014-01-01   1044            2          0     0          0             a   \n",
       "2014-01-02   1044            5        473     1          0             0   \n",
       "2014-01-03   1044            5        483     1          0             0   \n",
       "2014-01-04   1044            1          0     0          0             b   \n",
       "2014-01-05   1044            3          0     0          1             a   \n",
       "\n",
       "            School Holiday  \n",
       "Date                        \n",
       "2014-01-01               1  \n",
       "2014-01-02               0  \n",
       "2014-01-03               0  \n",
       "2014-01-04               1  \n",
       "2014-01-05               0  "
      ]
     },
     "execution_count": 7,
     "metadata": {
      "tags": []
     },
     "output_type": "execute_result"
    }
   ],
   "source": [
    "Store50_1044.head()"
   ]
  },
  {
   "cell_type": "code",
   "execution_count": null,
   "metadata": {
    "ExecuteTime": {
     "end_time": "2020-09-28T12:43:13.434459Z",
     "start_time": "2020-09-28T12:43:13.322408Z"
    },
    "id": "9v9PmAGW0OlY",
    "outputId": "9a93cc58-09a7-4563-c184-95ff9378225a"
   },
   "outputs": [
    {
     "data": {
      "text/html": [
       "<div>\n",
       "<style scoped>\n",
       "    .dataframe tbody tr th:only-of-type {\n",
       "        vertical-align: middle;\n",
       "    }\n",
       "\n",
       "    .dataframe tbody tr th {\n",
       "        vertical-align: top;\n",
       "    }\n",
       "\n",
       "    .dataframe thead th {\n",
       "        text-align: right;\n",
       "    }\n",
       "</style>\n",
       "<table border=\"1\" class=\"dataframe\">\n",
       "  <thead>\n",
       "    <tr style=\"text-align: right;\">\n",
       "      <th></th>\n",
       "      <th>Store</th>\n",
       "      <th>Day Of Week</th>\n",
       "      <th>Customers</th>\n",
       "      <th>Open</th>\n",
       "      <th>Promotion</th>\n",
       "      <th>State Holiday</th>\n",
       "      <th>School Holiday</th>\n",
       "    </tr>\n",
       "    <tr>\n",
       "      <th>Date</th>\n",
       "      <th></th>\n",
       "      <th></th>\n",
       "      <th></th>\n",
       "      <th></th>\n",
       "      <th></th>\n",
       "      <th></th>\n",
       "      <th></th>\n",
       "    </tr>\n",
       "  </thead>\n",
       "  <tbody>\n",
       "    <tr>\n",
       "      <th>2014-01-01</th>\n",
       "      <td>1041</td>\n",
       "      <td>2</td>\n",
       "      <td>0</td>\n",
       "      <td>0</td>\n",
       "      <td>0</td>\n",
       "      <td>a</td>\n",
       "      <td>1</td>\n",
       "    </tr>\n",
       "    <tr>\n",
       "      <th>2014-01-02</th>\n",
       "      <td>1041</td>\n",
       "      <td>5</td>\n",
       "      <td>742</td>\n",
       "      <td>1</td>\n",
       "      <td>0</td>\n",
       "      <td>0</td>\n",
       "      <td>0</td>\n",
       "    </tr>\n",
       "    <tr>\n",
       "      <th>2014-01-03</th>\n",
       "      <td>1041</td>\n",
       "      <td>5</td>\n",
       "      <td>864</td>\n",
       "      <td>1</td>\n",
       "      <td>0</td>\n",
       "      <td>0</td>\n",
       "      <td>0</td>\n",
       "    </tr>\n",
       "    <tr>\n",
       "      <th>2014-01-04</th>\n",
       "      <td>1041</td>\n",
       "      <td>1</td>\n",
       "      <td>0</td>\n",
       "      <td>0</td>\n",
       "      <td>0</td>\n",
       "      <td>b</td>\n",
       "      <td>1</td>\n",
       "    </tr>\n",
       "    <tr>\n",
       "      <th>2014-01-05</th>\n",
       "      <td>1041</td>\n",
       "      <td>3</td>\n",
       "      <td>0</td>\n",
       "      <td>0</td>\n",
       "      <td>1</td>\n",
       "      <td>a</td>\n",
       "      <td>0</td>\n",
       "    </tr>\n",
       "  </tbody>\n",
       "</table>\n",
       "</div>"
      ],
      "text/plain": [
       "            Store  Day Of Week  Customers  Open  Promotion State Holiday  \\\n",
       "Date                                                                       \n",
       "2014-01-01   1041            2          0     0          0             a   \n",
       "2014-01-02   1041            5        742     1          0             0   \n",
       "2014-01-03   1041            5        864     1          0             0   \n",
       "2014-01-04   1041            1          0     0          0             b   \n",
       "2014-01-05   1041            3          0     0          1             a   \n",
       "\n",
       "            School Holiday  \n",
       "Date                        \n",
       "2014-01-01               1  \n",
       "2014-01-02               0  \n",
       "2014-01-03               0  \n",
       "2014-01-04               1  \n",
       "2014-01-05               0  "
      ]
     },
     "execution_count": 8,
     "metadata": {
      "tags": []
     },
     "output_type": "execute_result"
    }
   ],
   "source": [
    "Store50_1041 = Store50[Store50.Store == 1041]. sort_index(ascending=True)\n",
    "Store50_1041.head()"
   ]
  },
  {
   "cell_type": "code",
   "execution_count": null,
   "metadata": {
    "ExecuteTime": {
     "end_time": "2020-09-28T12:43:13.565053Z",
     "start_time": "2020-09-28T12:43:13.435424Z"
    },
    "id": "POJnSZhm0OlY",
    "outputId": "0be60049-cc43-4681-df16-6deb08a91595"
   },
   "outputs": [
    {
     "data": {
      "text/html": [
       "<div>\n",
       "<style scoped>\n",
       "    .dataframe tbody tr th:only-of-type {\n",
       "        vertical-align: middle;\n",
       "    }\n",
       "\n",
       "    .dataframe tbody tr th {\n",
       "        vertical-align: top;\n",
       "    }\n",
       "\n",
       "    .dataframe thead th {\n",
       "        text-align: right;\n",
       "    }\n",
       "</style>\n",
       "<table border=\"1\" class=\"dataframe\">\n",
       "  <thead>\n",
       "    <tr style=\"text-align: right;\">\n",
       "      <th></th>\n",
       "      <th>Store_1044</th>\n",
       "      <th>Store_1041</th>\n",
       "    </tr>\n",
       "  </thead>\n",
       "  <tbody>\n",
       "  </tbody>\n",
       "</table>\n",
       "</div>"
      ],
      "text/plain": [
       "Empty DataFrame\n",
       "Columns: [Store_1044, Store_1041]\n",
       "Index: []"
      ]
     },
     "execution_count": 9,
     "metadata": {
      "tags": []
     },
     "output_type": "execute_result"
    }
   ],
   "source": [
    "df = pd.DataFrame(columns=['Store_1044','Store_1041'])\n",
    "df"
   ]
  },
  {
   "cell_type": "code",
   "execution_count": null,
   "metadata": {
    "ExecuteTime": {
     "end_time": "2020-09-28T12:43:13.726446Z",
     "start_time": "2020-09-28T12:43:13.567047Z"
    },
    "id": "gufFIVTM0OlZ",
    "outputId": "bd874f1c-b26e-4122-cb99-22b2c37deb7c",
    "scrolled": true
   },
   "outputs": [
    {
     "data": {
      "text/html": [
       "<div>\n",
       "<style scoped>\n",
       "    .dataframe tbody tr th:only-of-type {\n",
       "        vertical-align: middle;\n",
       "    }\n",
       "\n",
       "    .dataframe tbody tr th {\n",
       "        vertical-align: top;\n",
       "    }\n",
       "\n",
       "    .dataframe thead th {\n",
       "        text-align: right;\n",
       "    }\n",
       "</style>\n",
       "<table border=\"1\" class=\"dataframe\">\n",
       "  <thead>\n",
       "    <tr style=\"text-align: right;\">\n",
       "      <th></th>\n",
       "      <th>Store_1044</th>\n",
       "      <th>Store_1041</th>\n",
       "    </tr>\n",
       "    <tr>\n",
       "      <th>Date</th>\n",
       "      <th></th>\n",
       "      <th></th>\n",
       "    </tr>\n",
       "  </thead>\n",
       "  <tbody>\n",
       "    <tr>\n",
       "      <th>2014-01-01</th>\n",
       "      <td>0</td>\n",
       "      <td>0</td>\n",
       "    </tr>\n",
       "    <tr>\n",
       "      <th>2014-01-02</th>\n",
       "      <td>473</td>\n",
       "      <td>742</td>\n",
       "    </tr>\n",
       "    <tr>\n",
       "      <th>2014-01-03</th>\n",
       "      <td>483</td>\n",
       "      <td>864</td>\n",
       "    </tr>\n",
       "    <tr>\n",
       "      <th>2014-01-04</th>\n",
       "      <td>0</td>\n",
       "      <td>0</td>\n",
       "    </tr>\n",
       "    <tr>\n",
       "      <th>2014-01-05</th>\n",
       "      <td>0</td>\n",
       "      <td>0</td>\n",
       "    </tr>\n",
       "    <tr>\n",
       "      <th>2014-01-06</th>\n",
       "      <td>498</td>\n",
       "      <td>518</td>\n",
       "    </tr>\n",
       "    <tr>\n",
       "      <th>2014-01-07</th>\n",
       "      <td>684</td>\n",
       "      <td>1095</td>\n",
       "    </tr>\n",
       "    <tr>\n",
       "      <th>2014-01-08</th>\n",
       "      <td>539</td>\n",
       "      <td>909</td>\n",
       "    </tr>\n",
       "    <tr>\n",
       "      <th>2014-01-09</th>\n",
       "      <td>0</td>\n",
       "      <td>0</td>\n",
       "    </tr>\n",
       "    <tr>\n",
       "      <th>2014-01-10</th>\n",
       "      <td>542</td>\n",
       "      <td>917</td>\n",
       "    </tr>\n",
       "    <tr>\n",
       "      <th>2014-01-11</th>\n",
       "      <td>0</td>\n",
       "      <td>0</td>\n",
       "    </tr>\n",
       "    <tr>\n",
       "      <th>2014-01-12</th>\n",
       "      <td>0</td>\n",
       "      <td>0</td>\n",
       "    </tr>\n",
       "    <tr>\n",
       "      <th>2014-01-13</th>\n",
       "      <td>0</td>\n",
       "      <td>0</td>\n",
       "    </tr>\n",
       "    <tr>\n",
       "      <th>2014-01-14</th>\n",
       "      <td>455</td>\n",
       "      <td>837</td>\n",
       "    </tr>\n",
       "    <tr>\n",
       "      <th>2014-01-15</th>\n",
       "      <td>297</td>\n",
       "      <td>819</td>\n",
       "    </tr>\n",
       "    <tr>\n",
       "      <th>2014-01-16</th>\n",
       "      <td>367</td>\n",
       "      <td>732</td>\n",
       "    </tr>\n",
       "    <tr>\n",
       "      <th>2014-01-17</th>\n",
       "      <td>362</td>\n",
       "      <td>683</td>\n",
       "    </tr>\n",
       "    <tr>\n",
       "      <th>2014-01-18</th>\n",
       "      <td>487</td>\n",
       "      <td>668</td>\n",
       "    </tr>\n",
       "    <tr>\n",
       "      <th>2014-01-19</th>\n",
       "      <td>444</td>\n",
       "      <td>460</td>\n",
       "    </tr>\n",
       "    <tr>\n",
       "      <th>2014-01-20</th>\n",
       "      <td>0</td>\n",
       "      <td>0</td>\n",
       "    </tr>\n",
       "    <tr>\n",
       "      <th>2014-01-21</th>\n",
       "      <td>437</td>\n",
       "      <td>957</td>\n",
       "    </tr>\n",
       "    <tr>\n",
       "      <th>2014-01-22</th>\n",
       "      <td>524</td>\n",
       "      <td>916</td>\n",
       "    </tr>\n",
       "    <tr>\n",
       "      <th>2014-01-23</th>\n",
       "      <td>460</td>\n",
       "      <td>909</td>\n",
       "    </tr>\n",
       "    <tr>\n",
       "      <th>2014-01-24</th>\n",
       "      <td>466</td>\n",
       "      <td>799</td>\n",
       "    </tr>\n",
       "    <tr>\n",
       "      <th>2014-01-25</th>\n",
       "      <td>488</td>\n",
       "      <td>836</td>\n",
       "    </tr>\n",
       "    <tr>\n",
       "      <th>2014-01-26</th>\n",
       "      <td>414</td>\n",
       "      <td>520</td>\n",
       "    </tr>\n",
       "    <tr>\n",
       "      <th>2014-01-27</th>\n",
       "      <td>0</td>\n",
       "      <td>0</td>\n",
       "    </tr>\n",
       "    <tr>\n",
       "      <th>2014-01-28</th>\n",
       "      <td>458</td>\n",
       "      <td>823</td>\n",
       "    </tr>\n",
       "    <tr>\n",
       "      <th>2014-01-29</th>\n",
       "      <td>382</td>\n",
       "      <td>763</td>\n",
       "    </tr>\n",
       "    <tr>\n",
       "      <th>2014-01-30</th>\n",
       "      <td>415</td>\n",
       "      <td>743</td>\n",
       "    </tr>\n",
       "    <tr>\n",
       "      <th>...</th>\n",
       "      <td>...</td>\n",
       "      <td>...</td>\n",
       "    </tr>\n",
       "    <tr>\n",
       "      <th>2016-07-01</th>\n",
       "      <td>603</td>\n",
       "      <td>1166</td>\n",
       "    </tr>\n",
       "    <tr>\n",
       "      <th>2016-07-02</th>\n",
       "      <td>627</td>\n",
       "      <td>584</td>\n",
       "    </tr>\n",
       "    <tr>\n",
       "      <th>2016-07-03</th>\n",
       "      <td>0</td>\n",
       "      <td>0</td>\n",
       "    </tr>\n",
       "    <tr>\n",
       "      <th>2016-07-04</th>\n",
       "      <td>559</td>\n",
       "      <td>870</td>\n",
       "    </tr>\n",
       "    <tr>\n",
       "      <th>2016-07-05</th>\n",
       "      <td>716</td>\n",
       "      <td>1011</td>\n",
       "    </tr>\n",
       "    <tr>\n",
       "      <th>2016-08-01</th>\n",
       "      <td>520</td>\n",
       "      <td>946</td>\n",
       "    </tr>\n",
       "    <tr>\n",
       "      <th>2016-08-02</th>\n",
       "      <td>0</td>\n",
       "      <td>0</td>\n",
       "    </tr>\n",
       "    <tr>\n",
       "      <th>2016-08-03</th>\n",
       "      <td>651</td>\n",
       "      <td>955</td>\n",
       "    </tr>\n",
       "    <tr>\n",
       "      <th>2016-08-04</th>\n",
       "      <td>604</td>\n",
       "      <td>847</td>\n",
       "    </tr>\n",
       "    <tr>\n",
       "      <th>2016-08-05</th>\n",
       "      <td>651</td>\n",
       "      <td>616</td>\n",
       "    </tr>\n",
       "    <tr>\n",
       "      <th>2016-09-01</th>\n",
       "      <td>597</td>\n",
       "      <td>923</td>\n",
       "    </tr>\n",
       "    <tr>\n",
       "      <th>2016-09-02</th>\n",
       "      <td>625</td>\n",
       "      <td>885</td>\n",
       "    </tr>\n",
       "    <tr>\n",
       "      <th>2016-09-03</th>\n",
       "      <td>544</td>\n",
       "      <td>891</td>\n",
       "    </tr>\n",
       "    <tr>\n",
       "      <th>2016-09-04</th>\n",
       "      <td>544</td>\n",
       "      <td>812</td>\n",
       "    </tr>\n",
       "    <tr>\n",
       "      <th>2016-09-05</th>\n",
       "      <td>0</td>\n",
       "      <td>0</td>\n",
       "    </tr>\n",
       "    <tr>\n",
       "      <th>2016-10-01</th>\n",
       "      <td>532</td>\n",
       "      <td>557</td>\n",
       "    </tr>\n",
       "    <tr>\n",
       "      <th>2016-10-02</th>\n",
       "      <td>559</td>\n",
       "      <td>865</td>\n",
       "    </tr>\n",
       "    <tr>\n",
       "      <th>2016-10-03</th>\n",
       "      <td>573</td>\n",
       "      <td>892</td>\n",
       "    </tr>\n",
       "    <tr>\n",
       "      <th>2016-10-04</th>\n",
       "      <td>576</td>\n",
       "      <td>561</td>\n",
       "    </tr>\n",
       "    <tr>\n",
       "      <th>2016-10-05</th>\n",
       "      <td>616</td>\n",
       "      <td>902</td>\n",
       "    </tr>\n",
       "    <tr>\n",
       "      <th>2016-11-01</th>\n",
       "      <td>0</td>\n",
       "      <td>0</td>\n",
       "    </tr>\n",
       "    <tr>\n",
       "      <th>2016-11-02</th>\n",
       "      <td>608</td>\n",
       "      <td>881</td>\n",
       "    </tr>\n",
       "    <tr>\n",
       "      <th>2016-11-03</th>\n",
       "      <td>530</td>\n",
       "      <td>866</td>\n",
       "    </tr>\n",
       "    <tr>\n",
       "      <th>2016-11-04</th>\n",
       "      <td>0</td>\n",
       "      <td>0</td>\n",
       "    </tr>\n",
       "    <tr>\n",
       "      <th>2016-11-05</th>\n",
       "      <td>581</td>\n",
       "      <td>968</td>\n",
       "    </tr>\n",
       "    <tr>\n",
       "      <th>2016-12-01</th>\n",
       "      <td>759</td>\n",
       "      <td>1003</td>\n",
       "    </tr>\n",
       "    <tr>\n",
       "      <th>2016-12-02</th>\n",
       "      <td>558</td>\n",
       "      <td>841</td>\n",
       "    </tr>\n",
       "    <tr>\n",
       "      <th>2016-12-03</th>\n",
       "      <td>556</td>\n",
       "      <td>875</td>\n",
       "    </tr>\n",
       "    <tr>\n",
       "      <th>2016-12-04</th>\n",
       "      <td>912</td>\n",
       "      <td>1107</td>\n",
       "    </tr>\n",
       "    <tr>\n",
       "      <th>2016-12-05</th>\n",
       "      <td>679</td>\n",
       "      <td>1027</td>\n",
       "    </tr>\n",
       "  </tbody>\n",
       "</table>\n",
       "<p>882 rows × 2 columns</p>\n",
       "</div>"
      ],
      "text/plain": [
       "            Store_1044  Store_1041\n",
       "Date                              \n",
       "2014-01-01           0           0\n",
       "2014-01-02         473         742\n",
       "2014-01-03         483         864\n",
       "2014-01-04           0           0\n",
       "2014-01-05           0           0\n",
       "2014-01-06         498         518\n",
       "2014-01-07         684        1095\n",
       "2014-01-08         539         909\n",
       "2014-01-09           0           0\n",
       "2014-01-10         542         917\n",
       "2014-01-11           0           0\n",
       "2014-01-12           0           0\n",
       "2014-01-13           0           0\n",
       "2014-01-14         455         837\n",
       "2014-01-15         297         819\n",
       "2014-01-16         367         732\n",
       "2014-01-17         362         683\n",
       "2014-01-18         487         668\n",
       "2014-01-19         444         460\n",
       "2014-01-20           0           0\n",
       "2014-01-21         437         957\n",
       "2014-01-22         524         916\n",
       "2014-01-23         460         909\n",
       "2014-01-24         466         799\n",
       "2014-01-25         488         836\n",
       "2014-01-26         414         520\n",
       "2014-01-27           0           0\n",
       "2014-01-28         458         823\n",
       "2014-01-29         382         763\n",
       "2014-01-30         415         743\n",
       "...                ...         ...\n",
       "2016-07-01         603        1166\n",
       "2016-07-02         627         584\n",
       "2016-07-03           0           0\n",
       "2016-07-04         559         870\n",
       "2016-07-05         716        1011\n",
       "2016-08-01         520         946\n",
       "2016-08-02           0           0\n",
       "2016-08-03         651         955\n",
       "2016-08-04         604         847\n",
       "2016-08-05         651         616\n",
       "2016-09-01         597         923\n",
       "2016-09-02         625         885\n",
       "2016-09-03         544         891\n",
       "2016-09-04         544         812\n",
       "2016-09-05           0           0\n",
       "2016-10-01         532         557\n",
       "2016-10-02         559         865\n",
       "2016-10-03         573         892\n",
       "2016-10-04         576         561\n",
       "2016-10-05         616         902\n",
       "2016-11-01           0           0\n",
       "2016-11-02         608         881\n",
       "2016-11-03         530         866\n",
       "2016-11-04           0           0\n",
       "2016-11-05         581         968\n",
       "2016-12-01         759        1003\n",
       "2016-12-02         558         841\n",
       "2016-12-03         556         875\n",
       "2016-12-04         912        1107\n",
       "2016-12-05         679        1027\n",
       "\n",
       "[882 rows x 2 columns]"
      ]
     },
     "execution_count": 11,
     "metadata": {
      "tags": []
     },
     "output_type": "execute_result"
    }
   ],
   "source": [
    "## Putting the two desired Time Series together in one dataframe\n",
    "\n",
    "df['Store_1044'] = Store50_1044['Customers']\n",
    "df['Store_1041'] = Store50_1041['Customers']\n",
    "df"
   ]
  },
  {
   "cell_type": "code",
   "execution_count": null,
   "metadata": {
    "ExecuteTime": {
     "end_time": "2020-09-28T12:43:13.838142Z",
     "start_time": "2020-09-28T12:43:13.728441Z"
    },
    "id": "up2RIJ5I0OlZ",
    "outputId": "c36efbef-b494-4732-d51f-56382563ef04"
   },
   "outputs": [
    {
     "name": "stdout",
     "output_type": "stream",
     "text": [
      "<class 'pandas.core.frame.DataFrame'>\n",
      "DatetimeIndex: 882 entries, 2014-01-01 to 2016-12-05\n",
      "Data columns (total 2 columns):\n",
      "Store_1044    882 non-null int64\n",
      "Store_1041    882 non-null int64\n",
      "dtypes: int64(2)\n",
      "memory usage: 20.7 KB\n"
     ]
    }
   ],
   "source": [
    "df.info()"
   ]
  },
  {
   "cell_type": "markdown",
   "metadata": {
    "id": "YJGYNZUA0OlZ"
   },
   "source": [
    "The 'Customers' variable is our desired Time Series. So let us plot it to understand how the series looks like. This is a daily series."
   ]
  },
  {
   "cell_type": "code",
   "execution_count": null,
   "metadata": {
    "ExecuteTime": {
     "end_time": "2020-09-28T12:43:14.071995Z",
     "start_time": "2020-09-28T12:43:13.840137Z"
    },
    "id": "vH1lBdnu0Ola"
   },
   "outputs": [],
   "source": [
    "from pylab import rcParams\n",
    "rcParams['figure.figsize'] = 15,8"
   ]
  },
  {
   "cell_type": "code",
   "execution_count": null,
   "metadata": {
    "ExecuteTime": {
     "end_time": "2020-09-28T12:43:14.564461Z",
     "start_time": "2020-09-28T12:43:14.075927Z"
    },
    "id": "-hOa6tsJ0Ola",
    "outputId": "650379e9-da50-48f6-d413-d8532458a3ce"
   },
   "outputs": [
    {
     "data": {
      "image/png": "[encoded data removed]",
      "text/plain": [
       "<Figure size 1080x576 with 1 Axes>"
      ]
     },
     "metadata": {
      "needs_background": "light",
      "tags": []
     },
     "output_type": "display_data"
    }
   ],
   "source": [
    "df.plot(grid=True);"
   ]
  },
  {
   "cell_type": "code",
   "execution_count": null,
   "metadata": {
    "ExecuteTime": {
     "end_time": "2020-09-28T12:43:14.809802Z",
     "start_time": "2020-09-28T12:43:14.565423Z"
    },
    "id": "eAIWVTRN0Ola",
    "outputId": "96694ad0-177c-4960-b7be-e82ea0d040c5"
   },
   "outputs": [
    {
     "data": {
      "image/png": "[encoded data removed]",
      "text/plain": [
       "<Figure size 1080x576 with 1 Axes>"
      ]
     },
     "metadata": {
      "needs_background": "light",
      "tags": []
     },
     "output_type": "display_data"
    }
   ],
   "source": [
    "## Let us resample the data into a weekly time series to understand how the footfall of the customers change weekly.\n",
    "\n",
    "df.resample('W').sum().plot(grid=True);"
   ]
  },
  {
   "cell_type": "markdown",
   "metadata": {
    "id": "5VAWlrEn0Ola"
   },
   "source": [
    "We see that the Store_1041 has a higher footfall of customers as compared to the Store_1044."
   ]
  },
  {
   "cell_type": "code",
   "execution_count": null,
   "metadata": {
    "ExecuteTime": {
     "end_time": "2020-09-28T12:43:14.817748Z",
     "start_time": "2020-09-28T12:43:14.810766Z"
    },
    "id": "49jc1a8h0Olb",
    "outputId": "74ed9780-0cb1-4367-afcc-e1f643c3baf5"
   },
   "outputs": [
    {
     "data": {
      "text/plain": [
       "Int64Index([2014, 2015, 2016], dtype='int64', name='Date')"
      ]
     },
     "execution_count": 16,
     "metadata": {
      "tags": []
     },
     "output_type": "execute_result"
    }
   ],
   "source": [
    "df.index.year.unique()"
   ]
  },
  {
   "cell_type": "markdown",
   "metadata": {
    "id": "TMkHd0uU0Olb"
   },
   "source": [
    "Split the data into training and test. The test data starts from 2016 and onwards."
   ]
  },
  {
   "cell_type": "code",
   "execution_count": null,
   "metadata": {
    "ExecuteTime": {
     "end_time": "2020-09-28T12:43:14.934598Z",
     "start_time": "2020-09-28T12:43:14.819743Z"
    },
    "id": "kSh1TDQg1J5D"
   },
   "outputs": [],
   "source": [
    "train=df[df.index.year !=2016]\n",
    "test=df[df.index.year ==2016]"
   ]
  },
  {
   "cell_type": "code",
   "execution_count": null,
   "metadata": {
    "ExecuteTime": {
     "end_time": "2020-09-28T12:43:15.078235Z",
     "start_time": "2020-09-28T12:43:14.938538Z"
    },
    "id": "3tBiUk500Olb",
    "outputId": "4e855bc1-7597-4d97-d3d6-bf6f08663cc4"
   },
   "outputs": [
    {
     "name": "stdout",
     "output_type": "stream",
     "text": [
      "First 5 rows of the training data\n"
     ]
    },
    {
     "data": {
      "text/html": [
       "<div>\n",
       "<style scoped>\n",
       "    .dataframe tbody tr th:only-of-type {\n",
       "        vertical-align: middle;\n",
       "    }\n",
       "\n",
       "    .dataframe tbody tr th {\n",
       "        vertical-align: top;\n",
       "    }\n",
       "\n",
       "    .dataframe thead th {\n",
       "        text-align: right;\n",
       "    }\n",
       "</style>\n",
       "<table border=\"1\" class=\"dataframe\">\n",
       "  <thead>\n",
       "    <tr style=\"text-align: right;\">\n",
       "      <th></th>\n",
       "      <th>Store_1044</th>\n",
       "      <th>Store_1041</th>\n",
       "    </tr>\n",
       "    <tr>\n",
       "      <th>Date</th>\n",
       "      <th></th>\n",
       "      <th></th>\n",
       "    </tr>\n",
       "  </thead>\n",
       "  <tbody>\n",
       "    <tr>\n",
       "      <th>2014-01-01</th>\n",
       "      <td>0</td>\n",
       "      <td>0</td>\n",
       "    </tr>\n",
       "    <tr>\n",
       "      <th>2014-01-02</th>\n",
       "      <td>473</td>\n",
       "      <td>742</td>\n",
       "    </tr>\n",
       "    <tr>\n",
       "      <th>2014-01-03</th>\n",
       "      <td>483</td>\n",
       "      <td>864</td>\n",
       "    </tr>\n",
       "    <tr>\n",
       "      <th>2014-01-04</th>\n",
       "      <td>0</td>\n",
       "      <td>0</td>\n",
       "    </tr>\n",
       "    <tr>\n",
       "      <th>2014-01-05</th>\n",
       "      <td>0</td>\n",
       "      <td>0</td>\n",
       "    </tr>\n",
       "  </tbody>\n",
       "</table>\n",
       "</div>"
      ],
      "text/plain": [
       "            Store_1044  Store_1041\n",
       "Date                              \n",
       "2014-01-01           0           0\n",
       "2014-01-02         473         742\n",
       "2014-01-03         483         864\n",
       "2014-01-04           0           0\n",
       "2014-01-05           0           0"
      ]
     },
     "metadata": {
      "tags": []
     },
     "output_type": "display_data"
    },
    {
     "name": "stdout",
     "output_type": "stream",
     "text": [
      "Last 5 rows of the training data\n"
     ]
    },
    {
     "data": {
      "text/html": [
       "<div>\n",
       "<style scoped>\n",
       "    .dataframe tbody tr th:only-of-type {\n",
       "        vertical-align: middle;\n",
       "    }\n",
       "\n",
       "    .dataframe tbody tr th {\n",
       "        vertical-align: top;\n",
       "    }\n",
       "\n",
       "    .dataframe thead th {\n",
       "        text-align: right;\n",
       "    }\n",
       "</style>\n",
       "<table border=\"1\" class=\"dataframe\">\n",
       "  <thead>\n",
       "    <tr style=\"text-align: right;\">\n",
       "      <th></th>\n",
       "      <th>Store_1044</th>\n",
       "      <th>Store_1041</th>\n",
       "    </tr>\n",
       "    <tr>\n",
       "      <th>Date</th>\n",
       "      <th></th>\n",
       "      <th></th>\n",
       "    </tr>\n",
       "  </thead>\n",
       "  <tbody>\n",
       "    <tr>\n",
       "      <th>2015-12-27</th>\n",
       "      <td>537</td>\n",
       "      <td>535</td>\n",
       "    </tr>\n",
       "    <tr>\n",
       "      <th>2015-12-28</th>\n",
       "      <td>0</td>\n",
       "      <td>0</td>\n",
       "    </tr>\n",
       "    <tr>\n",
       "      <th>2015-12-29</th>\n",
       "      <td>667</td>\n",
       "      <td>806</td>\n",
       "    </tr>\n",
       "    <tr>\n",
       "      <th>2015-12-30</th>\n",
       "      <td>668</td>\n",
       "      <td>765</td>\n",
       "    </tr>\n",
       "    <tr>\n",
       "      <th>2015-12-31</th>\n",
       "      <td>462</td>\n",
       "      <td>473</td>\n",
       "    </tr>\n",
       "  </tbody>\n",
       "</table>\n",
       "</div>"
      ],
      "text/plain": [
       "            Store_1044  Store_1041\n",
       "Date                              \n",
       "2015-12-27         537         535\n",
       "2015-12-28           0           0\n",
       "2015-12-29         667         806\n",
       "2015-12-30         668         765\n",
       "2015-12-31         462         473"
      ]
     },
     "metadata": {
      "tags": []
     },
     "output_type": "display_data"
    },
    {
     "name": "stdout",
     "output_type": "stream",
     "text": [
      "First 5 rows of the test data\n"
     ]
    },
    {
     "data": {
      "text/html": [
       "<div>\n",
       "<style scoped>\n",
       "    .dataframe tbody tr th:only-of-type {\n",
       "        vertical-align: middle;\n",
       "    }\n",
       "\n",
       "    .dataframe tbody tr th {\n",
       "        vertical-align: top;\n",
       "    }\n",
       "\n",
       "    .dataframe thead th {\n",
       "        text-align: right;\n",
       "    }\n",
       "</style>\n",
       "<table border=\"1\" class=\"dataframe\">\n",
       "  <thead>\n",
       "    <tr style=\"text-align: right;\">\n",
       "      <th></th>\n",
       "      <th>Store_1044</th>\n",
       "      <th>Store_1041</th>\n",
       "    </tr>\n",
       "    <tr>\n",
       "      <th>Date</th>\n",
       "      <th></th>\n",
       "      <th></th>\n",
       "    </tr>\n",
       "  </thead>\n",
       "  <tbody>\n",
       "    <tr>\n",
       "      <th>2016-01-01</th>\n",
       "      <td>0</td>\n",
       "      <td>0</td>\n",
       "    </tr>\n",
       "    <tr>\n",
       "      <th>2016-01-02</th>\n",
       "      <td>0</td>\n",
       "      <td>0</td>\n",
       "    </tr>\n",
       "    <tr>\n",
       "      <th>2016-01-03</th>\n",
       "      <td>828</td>\n",
       "      <td>1070</td>\n",
       "    </tr>\n",
       "    <tr>\n",
       "      <th>2016-01-04</th>\n",
       "      <td>833</td>\n",
       "      <td>1016</td>\n",
       "    </tr>\n",
       "    <tr>\n",
       "      <th>2016-01-05</th>\n",
       "      <td>732</td>\n",
       "      <td>724</td>\n",
       "    </tr>\n",
       "  </tbody>\n",
       "</table>\n",
       "</div>"
      ],
      "text/plain": [
       "            Store_1044  Store_1041\n",
       "Date                              \n",
       "2016-01-01           0           0\n",
       "2016-01-02           0           0\n",
       "2016-01-03         828        1070\n",
       "2016-01-04         833        1016\n",
       "2016-01-05         732         724"
      ]
     },
     "metadata": {
      "tags": []
     },
     "output_type": "display_data"
    },
    {
     "name": "stdout",
     "output_type": "stream",
     "text": [
      "Last 5 rows of the test data\n"
     ]
    },
    {
     "data": {
      "text/html": [
       "<div>\n",
       "<style scoped>\n",
       "    .dataframe tbody tr th:only-of-type {\n",
       "        vertical-align: middle;\n",
       "    }\n",
       "\n",
       "    .dataframe tbody tr th {\n",
       "        vertical-align: top;\n",
       "    }\n",
       "\n",
       "    .dataframe thead th {\n",
       "        text-align: right;\n",
       "    }\n",
       "</style>\n",
       "<table border=\"1\" class=\"dataframe\">\n",
       "  <thead>\n",
       "    <tr style=\"text-align: right;\">\n",
       "      <th></th>\n",
       "      <th>Store_1044</th>\n",
       "      <th>Store_1041</th>\n",
       "    </tr>\n",
       "    <tr>\n",
       "      <th>Date</th>\n",
       "      <th></th>\n",
       "      <th></th>\n",
       "    </tr>\n",
       "  </thead>\n",
       "  <tbody>\n",
       "    <tr>\n",
       "      <th>2016-12-01</th>\n",
       "      <td>759</td>\n",
       "      <td>1003</td>\n",
       "    </tr>\n",
       "    <tr>\n",
       "      <th>2016-12-02</th>\n",
       "      <td>558</td>\n",
       "      <td>841</td>\n",
       "    </tr>\n",
       "    <tr>\n",
       "      <th>2016-12-03</th>\n",
       "      <td>556</td>\n",
       "      <td>875</td>\n",
       "    </tr>\n",
       "    <tr>\n",
       "      <th>2016-12-04</th>\n",
       "      <td>912</td>\n",
       "      <td>1107</td>\n",
       "    </tr>\n",
       "    <tr>\n",
       "      <th>2016-12-05</th>\n",
       "      <td>679</td>\n",
       "      <td>1027</td>\n",
       "    </tr>\n",
       "  </tbody>\n",
       "</table>\n",
       "</div>"
      ],
      "text/plain": [
       "            Store_1044  Store_1041\n",
       "Date                              \n",
       "2016-12-01         759        1003\n",
       "2016-12-02         558         841\n",
       "2016-12-03         556         875\n",
       "2016-12-04         912        1107\n",
       "2016-12-05         679        1027"
      ]
     },
     "metadata": {
      "tags": []
     },
     "output_type": "display_data"
    }
   ],
   "source": [
    "print('First 5 rows of the training data')\n",
    "display(train.head())\n",
    "print('Last 5 rows of the training data')\n",
    "display(train.tail())\n",
    "print('First 5 rows of the test data')\n",
    "display(test.head())\n",
    "print('Last 5 rows of the test data')\n",
    "display(test.tail())"
   ]
  },
  {
   "cell_type": "markdown",
   "metadata": {
    "id": "JwNCNSc50Olc"
   },
   "source": [
    "Let us check the number of rows and columns of the training and test set."
   ]
  },
  {
   "cell_type": "code",
   "execution_count": null,
   "metadata": {
    "ExecuteTime": {
     "end_time": "2020-09-28T12:43:15.163453Z",
     "start_time": "2020-09-28T12:43:15.079233Z"
    },
    "colab": {
     "base_uri": "https://localhost:8080/",
     "height": 51
    },
    "id": "So15h7Me1J5c",
    "outputId": "b28f96dd-4f9e-4ead-ebac-69ff898e120b"
   },
   "outputs": [
    {
     "name": "stdout",
     "output_type": "stream",
     "text": [
      "(730, 2)\n",
      "(152, 2)\n"
     ]
    }
   ],
   "source": [
    "print(train.shape)\n",
    "print(test.shape)"
   ]
  },
  {
   "cell_type": "markdown",
   "metadata": {
    "id": "8e2XaG-H0Olg"
   },
   "source": [
    "Checking whether the training data is stationary."
   ]
  },
  {
   "cell_type": "code",
   "execution_count": null,
   "metadata": {
    "ExecuteTime": {
     "end_time": "2020-09-28T12:43:15.284885Z",
     "start_time": "2020-09-28T12:43:15.164262Z"
    },
    "id": "Km0-Uy_N0Olg"
   },
   "outputs": [],
   "source": [
    "## Importing the Augmented Dickey-Fuller test from the statsmodels library\n",
    "\n",
    "from statsmodels.tsa.stattools import adfuller"
   ]
  },
  {
   "cell_type": "code",
   "execution_count": null,
   "metadata": {
    "ExecuteTime": {
     "end_time": "2020-09-28T12:43:15.395250Z",
     "start_time": "2020-09-28T12:43:15.288873Z"
    },
    "id": "RORbasuj1J5k"
   },
   "outputs": [],
   "source": [
    "## Defning a function\n",
    "def adf_test(timeseries):\n",
    "    #Perform Dickey-Fuller test:\n",
    "    print ('Results of Dickey-Fuller Test:')\n",
    "    dftest = adfuller(timeseries,regression='ct')#running the adf test on the input time series\n",
    "    dfoutput = pd.Series(dftest[0:4], index=['Test Statistic','p-value','#Lags Used','Number of Observations Used'])\n",
    "    ## creating a series to format the output\n",
    "    for key,value in dftest[4].items():##running a for loop to format the critical values of the test statistic\n",
    "       dfoutput['Critical Value (%s)'%key] = value\n",
    "    print (dfoutput)"
   ]
  },
  {
   "cell_type": "code",
   "execution_count": null,
   "metadata": {
    "ExecuteTime": {
     "end_time": "2020-09-28T12:43:15.620802Z",
     "start_time": "2020-09-28T12:43:15.399190Z"
    },
    "colab": {
     "base_uri": "https://localhost:8080/",
     "height": 604
    },
    "id": "gs-Lwhns1J5r",
    "outputId": "e5b1c4c8-7b00-438d-9d7d-cdf70c77ed42"
   },
   "outputs": [
    {
     "name": "stdout",
     "output_type": "stream",
     "text": [
      "Results of Dickey-Fuller Test:\n",
      "Test Statistic                -6.690539e+00\n",
      "p-value                        6.994789e-08\n",
      "#Lags Used                     2.000000e+01\n",
      "Number of Observations Used    7.090000e+02\n",
      "Critical Value (1%)           -3.971596e+00\n",
      "Critical Value (5%)           -3.416700e+00\n",
      "Critical Value (10%)          -3.130705e+00\n",
      "dtype: float64\n"
     ]
    }
   ],
   "source": [
    "adf_test(train['Store_1044'])"
   ]
  },
  {
   "cell_type": "code",
   "execution_count": null,
   "metadata": {
    "ExecuteTime": {
     "end_time": "2020-09-28T12:43:15.796584Z",
     "start_time": "2020-09-28T12:43:15.624777Z"
    },
    "id": "VNVJWPZM0Olh",
    "outputId": "b9e43490-73fd-4f13-e955-00fd5b57e4b3"
   },
   "outputs": [
    {
     "name": "stdout",
     "output_type": "stream",
     "text": [
      "Results of Dickey-Fuller Test:\n",
      "Test Statistic                  -6.147834\n",
      "p-value                          0.000001\n",
      "#Lags Used                      20.000000\n",
      "Number of Observations Used    709.000000\n",
      "Critical Value (1%)             -3.971596\n",
      "Critical Value (5%)             -3.416700\n",
      "Critical Value (10%)            -3.130705\n",
      "dtype: float64\n"
     ]
    }
   ],
   "source": [
    "adf_test(train['Store_1041'])"
   ]
  },
  {
   "cell_type": "markdown",
   "metadata": {
    "id": "1yihHf6O1J5y"
   },
   "source": [
    "Series is stationary and hence no need for differentiation."
   ]
  },
  {
   "cell_type": "markdown",
   "metadata": {
    "id": "FbLw64QE0Olh"
   },
   "source": [
    "# Vector Auto-Regressive"
   ]
  },
  {
   "cell_type": "markdown",
   "metadata": {
    "id": "HgdVjhTc0Olh"
   },
   "source": [
    "Now, we are going to build a Vector Auto-Regressive Model. In this model, we will be using the lagged or past values of a particular Time Series to predict the other Time Series."
   ]
  },
  {
   "cell_type": "markdown",
   "metadata": {
    "id": "EKtzd3dR0Oli"
   },
   "source": [
    "In this case, we have two stationary Time Series and we will be using these to build a VAR model.\n",
    "\n",
    "Before we code up this model, let us understand how this model is interpreted and how the equation of this model looks like for two time-series."
   ]
  },
  {
   "cell_type": "markdown",
   "metadata": {
    "id": "FB3Xv04J0Oli"
   },
   "source": [
    "The following is the example of a two-dimensional VAR(1) model.\n",
    "\n",
    "# $y_{1,t}$ = $c_1$ + $\\phi_{11,1}$$y_{1,t-1}$ + $\\phi_{12,1}$$y_{2,t-1}$ + $e_{1,t}$\n",
    "# $y_{2,t}$ = $c_2$ + $\\phi_{21,1}$$y_{1,t-1}$ + $\\phi_{22,1}$$y_{2,t-1}$ + $e_{2,t}$\n",
    "\n",
    "Here e is the error term (white noise)."
   ]
  },
  {
   "cell_type": "markdown",
   "metadata": {
    "id": "3U0iYCRk0Oli"
   },
   "source": [
    "We can include the moving average terms to this kind of models as well. We can think of VAR models to AR models extended to multiple Time Series.\n",
    "\n",
    "But we need to very careful in incorporating the number of variables in a VAR model and also be wary of the order of the VAR model. A complicated model by definition would work well on the training data but not so much on the test data. Introducing more time series would also include the error terms from those time series for the prediction of another time series.\n",
    "\n",
    "VAR models are very powerful in a sense that it gives us an idea about the causation property a bit as well. If we get an improvement in the prediction accuracy by using a VAR model instead of an AR model, we can say that the past values of another time series aids in the prediction of our desired time series. "
   ]
  },
  {
   "cell_type": "markdown",
   "metadata": {
    "id": "VT9JMEMK0Oli"
   },
   "source": [
    "# Build a VAR model."
   ]
  },
  {
   "cell_type": "code",
   "execution_count": null,
   "metadata": {
    "ExecuteTime": {
     "end_time": "2020-09-28T12:43:16.039422Z",
     "start_time": "2020-09-28T12:43:15.799599Z"
    },
    "id": "g9n3v_g_0Oli"
   },
   "outputs": [],
   "source": [
    "import statsmodels.api as sm"
   ]
  },
  {
   "cell_type": "code",
   "execution_count": null,
   "metadata": {
    "ExecuteTime": {
     "end_time": "2020-09-28T12:43:16.048007Z",
     "start_time": "2020-09-28T12:43:16.039991Z"
    },
    "id": "D7skemhz0Olj",
    "outputId": "0650df3a-810e-42be-b5b9-91f7a29b739f"
   },
   "outputs": [
    {
     "name": "stdout",
     "output_type": "stream",
     "text": [
      "<class 'pandas.core.frame.DataFrame'>\n",
      "DatetimeIndex: 730 entries, 2014-01-01 to 2015-12-31\n",
      "Data columns (total 2 columns):\n",
      "Store_1044    730 non-null float64\n",
      "Store_1041    730 non-null float64\n",
      "dtypes: float64(2)\n",
      "memory usage: 17.1 KB\n"
     ]
    }
   ],
   "source": [
    "## We need to convert these variables into float as that is the input that statsmodels api takes\n",
    "\n",
    "train['Store_1044'] = train['Store_1044'].astype('float64')\n",
    "train['Store_1041'] = train['Store_1041'].astype('float64')\n",
    "train.info()"
   ]
  },
  {
   "cell_type": "code",
   "execution_count": null,
   "metadata": {
    "ExecuteTime": {
     "end_time": "2020-09-28T12:45:50.080349Z",
     "start_time": "2020-09-28T12:43:16.048969Z"
    },
    "colab": {
     "base_uri": "https://localhost:8080/",
     "height": 1000
    },
    "id": "2hZXzyzu1J5-",
    "outputId": "7a1fd77c-45cb-4180-81fb-c5f0654dbe6f",
    "scrolled": true
   },
   "outputs": [
    {
     "name": "stdout",
     "output_type": "stream",
     "text": [
      "Order = 1\n",
      "AIC: 19230.833991125226\n",
      "Order = 2\n",
      "AIC: 19181.933268520806\n",
      "Order = 3\n",
      "AIC: 19185.015107959807\n",
      "Order = 4\n",
      "AIC: 19149.910545855873\n",
      "Order = 5\n",
      "AIC: 19143.80985901448\n",
      "Order = 6\n",
      "AIC: 19118.19579946341\n",
      "Order = 7\n",
      "AIC: 19051.762446638415\n"
     ]
    }
   ],
   "source": [
    "## We are running this iteration upto 7 days since this is a daily data and we have seen that the customer footfall\n",
    "## of Store 1044 has a seasonality of 7.\n",
    "\n",
    "for i in range(1,8):\n",
    "    model = sm.tsa.VARMAX(train,order=(i,0),trend='c')\n",
    "    model_result = model.fit()\n",
    "    print('Order =',i)\n",
    "    print('AIC:',model_result.aic)"
   ]
  },
  {
   "cell_type": "code",
   "execution_count": null,
   "metadata": {
    "ExecuteTime": {
     "end_time": "2020-09-28T12:46:44.424319Z",
     "start_time": "2020-09-28T12:45:50.081347Z"
    },
    "id": "IoLLimbN0Olj",
    "outputId": "ff6366e8-8c6c-41fc-8dfb-1fc1b173658a",
    "scrolled": true
   },
   "outputs": [
    {
     "data": {
      "text/html": [
       "<table class=\"simpletable\">\n",
       "<caption>Statespace Model Results</caption>\n",
       "<tr>\n",
       "  <th>Dep. Variable:</th>   <td>['Store_1044', 'Store_1041']</td> <th>  No. Observations:  </th>    <td>730</td>   \n",
       "</tr>\n",
       "<tr>\n",
       "  <th>Model:</th>                      <td>VAR(7)</td>            <th>  Log Likelihood     </th> <td>-9492.881</td>\n",
       "</tr>\n",
       "<tr>\n",
       "  <th></th>                          <td>+ intercept</td>         <th>  AIC                </th> <td>19051.762</td>\n",
       "</tr>\n",
       "<tr>\n",
       "  <th>Date:</th>                  <td>Tue, 16 Feb 2021</td>       <th>  BIC                </th> <td>19203.333</td>\n",
       "</tr>\n",
       "<tr>\n",
       "  <th>Time:</th>                      <td>17:59:32</td>           <th>  HQIC               </th> <td>19110.239</td>\n",
       "</tr>\n",
       "<tr>\n",
       "  <th>Sample:</th>                   <td>01-01-2014</td>          <th>                     </th>     <td> </td>    \n",
       "</tr>\n",
       "<tr>\n",
       "  <th></th>                         <td>- 12-31-2015</td>         <th>                     </th>     <td> </td>    \n",
       "</tr>\n",
       "<tr>\n",
       "  <th>Covariance Type:</th>              <td>opg</td>             <th>                     </th>     <td> </td>    \n",
       "</tr>\n",
       "</table>\n",
       "<table class=\"simpletable\">\n",
       "<tr>\n",
       "  <th>Ljung-Box (Q):</th>          <td>115.84, 85.90</td> <th>  Jarque-Bera (JB):  </th> <td>65.83, 1688.68</td>\n",
       "</tr>\n",
       "<tr>\n",
       "  <th>Prob(Q):</th>                 <td>0.00, 0.00</td>   <th>  Prob(JB):          </th>   <td>0.00, 0.00</td>  \n",
       "</tr>\n",
       "<tr>\n",
       "  <th>Heteroskedasticity (H):</th>  <td>1.33, 1.65</td>   <th>  Skew:              </th>  <td>-0.70, -1.07</td> \n",
       "</tr>\n",
       "<tr>\n",
       "  <th>Prob(H) (two-sided):</th>     <td>0.03, 0.00</td>   <th>  Kurtosis:          </th>   <td>3.44, 10.13</td> \n",
       "</tr>\n",
       "</table>\n",
       "<table class=\"simpletable\">\n",
       "<caption>Results for equation Store_1044</caption>\n",
       "<tr>\n",
       "        <td></td>           <th>coef</th>     <th>std err</th>      <th>z</th>      <th>P>|z|</th>  <th>[0.025</th>    <th>0.975]</th>  \n",
       "</tr>\n",
       "<tr>\n",
       "  <th>const</th>         <td>  466.9118</td> <td>   50.655</td> <td>    9.217</td> <td> 0.000</td> <td>  367.629</td> <td>  566.195</td>\n",
       "</tr>\n",
       "<tr>\n",
       "  <th>L1.Store_1044</th> <td>   -0.4580</td> <td>    0.091</td> <td>   -5.021</td> <td> 0.000</td> <td>   -0.637</td> <td>   -0.279</td>\n",
       "</tr>\n",
       "<tr>\n",
       "  <th>L1.Store_1041</th> <td>    0.3380</td> <td>    0.061</td> <td>    5.515</td> <td> 0.000</td> <td>    0.218</td> <td>    0.458</td>\n",
       "</tr>\n",
       "<tr>\n",
       "  <th>L2.Store_1044</th> <td>    0.5198</td> <td>    0.085</td> <td>    6.115</td> <td> 0.000</td> <td>    0.353</td> <td>    0.686</td>\n",
       "</tr>\n",
       "<tr>\n",
       "  <th>L2.Store_1041</th> <td>   -0.4062</td> <td>    0.056</td> <td>   -7.193</td> <td> 0.000</td> <td>   -0.517</td> <td>   -0.296</td>\n",
       "</tr>\n",
       "<tr>\n",
       "  <th>L3.Store_1044</th> <td>   -0.1101</td> <td>    0.085</td> <td>   -1.289</td> <td> 0.197</td> <td>   -0.277</td> <td>    0.057</td>\n",
       "</tr>\n",
       "<tr>\n",
       "  <th>L3.Store_1041</th> <td>    0.1002</td> <td>    0.058</td> <td>    1.716</td> <td> 0.086</td> <td>   -0.014</td> <td>    0.215</td>\n",
       "</tr>\n",
       "<tr>\n",
       "  <th>L4.Store_1044</th> <td>    0.2252</td> <td>    0.104</td> <td>    2.176</td> <td> 0.030</td> <td>    0.022</td> <td>    0.428</td>\n",
       "</tr>\n",
       "<tr>\n",
       "  <th>L4.Store_1041</th> <td>   -0.1697</td> <td>    0.070</td> <td>   -2.421</td> <td> 0.015</td> <td>   -0.307</td> <td>   -0.032</td>\n",
       "</tr>\n",
       "<tr>\n",
       "  <th>L5.Store_1044</th> <td>   -0.1770</td> <td>    0.096</td> <td>   -1.849</td> <td> 0.065</td> <td>   -0.365</td> <td>    0.011</td>\n",
       "</tr>\n",
       "<tr>\n",
       "  <th>L5.Store_1041</th> <td>    0.0618</td> <td>    0.064</td> <td>    0.967</td> <td> 0.333</td> <td>   -0.063</td> <td>    0.187</td>\n",
       "</tr>\n",
       "<tr>\n",
       "  <th>L6.Store_1044</th> <td>   -0.1001</td> <td>    0.086</td> <td>   -1.169</td> <td> 0.242</td> <td>   -0.268</td> <td>    0.068</td>\n",
       "</tr>\n",
       "<tr>\n",
       "  <th>L6.Store_1041</th> <td>    0.0003</td> <td>    0.057</td> <td>    0.006</td> <td> 0.995</td> <td>   -0.111</td> <td>    0.112</td>\n",
       "</tr>\n",
       "<tr>\n",
       "  <th>L7.Store_1044</th> <td>    0.2594</td> <td>    0.112</td> <td>    2.308</td> <td> 0.021</td> <td>    0.039</td> <td>    0.480</td>\n",
       "</tr>\n",
       "<tr>\n",
       "  <th>L7.Store_1041</th> <td>   -0.0334</td> <td>    0.075</td> <td>   -0.447</td> <td> 0.655</td> <td>   -0.180</td> <td>    0.113</td>\n",
       "</tr>\n",
       "</table>\n",
       "<table class=\"simpletable\">\n",
       "<caption>Results for equation Store_1041</caption>\n",
       "<tr>\n",
       "        <td></td>           <th>coef</th>     <th>std err</th>      <th>z</th>      <th>P>|z|</th>  <th>[0.025</th>    <th>0.975]</th>  \n",
       "</tr>\n",
       "<tr>\n",
       "  <th>const</th>         <td>  760.6248</td> <td>   80.037</td> <td>    9.503</td> <td> 0.000</td> <td>  603.754</td> <td>  917.495</td>\n",
       "</tr>\n",
       "<tr>\n",
       "  <th>L1.Store_1044</th> <td>   -0.8413</td> <td>    0.138</td> <td>   -6.101</td> <td> 0.000</td> <td>   -1.112</td> <td>   -0.571</td>\n",
       "</tr>\n",
       "<tr>\n",
       "  <th>L1.Store_1041</th> <td>    0.5908</td> <td>    0.090</td> <td>    6.533</td> <td> 0.000</td> <td>    0.414</td> <td>    0.768</td>\n",
       "</tr>\n",
       "<tr>\n",
       "  <th>L2.Store_1044</th> <td>    0.6229</td> <td>    0.136</td> <td>    4.591</td> <td> 0.000</td> <td>    0.357</td> <td>    0.889</td>\n",
       "</tr>\n",
       "<tr>\n",
       "  <th>L2.Store_1041</th> <td>   -0.5782</td> <td>    0.090</td> <td>   -6.394</td> <td> 0.000</td> <td>   -0.755</td> <td>   -0.401</td>\n",
       "</tr>\n",
       "<tr>\n",
       "  <th>L3.Store_1044</th> <td>   -0.2673</td> <td>    0.139</td> <td>   -1.916</td> <td> 0.055</td> <td>   -0.541</td> <td>    0.006</td>\n",
       "</tr>\n",
       "<tr>\n",
       "  <th>L3.Store_1041</th> <td>    0.2105</td> <td>    0.094</td> <td>    2.230</td> <td> 0.026</td> <td>    0.026</td> <td>    0.395</td>\n",
       "</tr>\n",
       "<tr>\n",
       "  <th>L4.Store_1044</th> <td>    0.4051</td> <td>    0.156</td> <td>    2.592</td> <td> 0.010</td> <td>    0.099</td> <td>    0.711</td>\n",
       "</tr>\n",
       "<tr>\n",
       "  <th>L4.Store_1041</th> <td>   -0.3743</td> <td>    0.106</td> <td>   -3.517</td> <td> 0.000</td> <td>   -0.583</td> <td>   -0.166</td>\n",
       "</tr>\n",
       "<tr>\n",
       "  <th>L5.Store_1044</th> <td>   -0.3825</td> <td>    0.136</td> <td>   -2.815</td> <td> 0.005</td> <td>   -0.649</td> <td>   -0.116</td>\n",
       "</tr>\n",
       "<tr>\n",
       "  <th>L5.Store_1041</th> <td>    0.1910</td> <td>    0.091</td> <td>    2.091</td> <td> 0.037</td> <td>    0.012</td> <td>    0.370</td>\n",
       "</tr>\n",
       "<tr>\n",
       "  <th>L6.Store_1044</th> <td>   -0.1086</td> <td>    0.137</td> <td>   -0.791</td> <td> 0.429</td> <td>   -0.378</td> <td>    0.161</td>\n",
       "</tr>\n",
       "<tr>\n",
       "  <th>L6.Store_1041</th> <td>    0.0234</td> <td>    0.091</td> <td>    0.257</td> <td> 0.797</td> <td>   -0.155</td> <td>    0.202</td>\n",
       "</tr>\n",
       "<tr>\n",
       "  <th>L7.Store_1044</th> <td>    0.0663</td> <td>    0.161</td> <td>    0.412</td> <td> 0.681</td> <td>   -0.249</td> <td>    0.382</td>\n",
       "</tr>\n",
       "<tr>\n",
       "  <th>L7.Store_1041</th> <td>    0.1836</td> <td>    0.107</td> <td>    1.709</td> <td> 0.087</td> <td>   -0.027</td> <td>    0.394</td>\n",
       "</tr>\n",
       "</table>\n",
       "<table class=\"simpletable\">\n",
       "<caption>Error covariance matrix</caption>\n",
       "<tr>\n",
       "                 <td></td>                   <th>coef</th>     <th>std err</th>      <th>z</th>      <th>P>|z|</th>  <th>[0.025</th>    <th>0.975]</th>  \n",
       "</tr>\n",
       "<tr>\n",
       "  <th>sqrt.var.Store_1044</th>            <td>  211.4331</td> <td>    6.579</td> <td>   32.136</td> <td> 0.000</td> <td>  198.538</td> <td>  224.328</td>\n",
       "</tr>\n",
       "<tr>\n",
       "  <th>sqrt.cov.Store_1044.Store_1041</th> <td>  296.0145</td> <td>   13.872</td> <td>   21.338</td> <td> 0.000</td> <td>  268.825</td> <td>  323.204</td>\n",
       "</tr>\n",
       "<tr>\n",
       "  <th>sqrt.var.Store_1041</th>            <td>  124.7277</td> <td>    3.026</td> <td>   41.216</td> <td> 0.000</td> <td>  118.797</td> <td>  130.659</td>\n",
       "</tr>\n",
       "</table><br/><br/>Warnings:<br/>[1] Covariance matrix calculated using the outer product of gradients (complex-step)."
      ],
      "text/plain": [
       "<class 'statsmodels.iolib.summary.Summary'>\n",
       "\"\"\"\n",
       "                                Statespace Model Results                                \n",
       "========================================================================================\n",
       "Dep. Variable:     ['Store_1044', 'Store_1041']   No. Observations:                  730\n",
       "Model:                                   VAR(7)   Log Likelihood               -9492.881\n",
       "                                    + intercept   AIC                          19051.762\n",
       "Date:                          Tue, 16 Feb 2021   BIC                          19203.333\n",
       "Time:                                  17:59:32   HQIC                         19110.239\n",
       "Sample:                              01-01-2014                                         \n",
       "                                   - 12-31-2015                                         \n",
       "Covariance Type:                            opg                                         \n",
       "===================================================================================\n",
       "Ljung-Box (Q):               115.84, 85.90   Jarque-Bera (JB):       65.83, 1688.68\n",
       "Prob(Q):                        0.00, 0.00   Prob(JB):                   0.00, 0.00\n",
       "Heteroskedasticity (H):         1.33, 1.65   Skew:                     -0.70, -1.07\n",
       "Prob(H) (two-sided):            0.03, 0.00   Kurtosis:                  3.44, 10.13\n",
       "                         Results for equation Store_1044                         \n",
       "=================================================================================\n",
       "                    coef    std err          z      P>|z|      [0.025      0.975]\n",
       "---------------------------------------------------------------------------------\n",
       "const           466.9118     50.655      9.217      0.000     367.629     566.195\n",
       "L1.Store_1044    -0.4580      0.091     -5.021      0.000      -0.637      -0.279\n",
       "L1.Store_1041     0.3380      0.061      5.515      0.000       0.218       0.458\n",
       "L2.Store_1044     0.5198      0.085      6.115      0.000       0.353       0.686\n",
       "L2.Store_1041    -0.4062      0.056     -7.193      0.000      -0.517      -0.296\n",
       "L3.Store_1044    -0.1101      0.085     -1.289      0.197      -0.277       0.057\n",
       "L3.Store_1041     0.1002      0.058      1.716      0.086      -0.014       0.215\n",
       "L4.Store_1044     0.2252      0.104      2.176      0.030       0.022       0.428\n",
       "L4.Store_1041    -0.1697      0.070     -2.421      0.015      -0.307      -0.032\n",
       "L5.Store_1044    -0.1770      0.096     -1.849      0.065      -0.365       0.011\n",
       "L5.Store_1041     0.0618      0.064      0.967      0.333      -0.063       0.187\n",
       "L6.Store_1044    -0.1001      0.086     -1.169      0.242      -0.268       0.068\n",
       "L6.Store_1041     0.0003      0.057      0.006      0.995      -0.111       0.112\n",
       "L7.Store_1044     0.2594      0.112      2.308      0.021       0.039       0.480\n",
       "L7.Store_1041    -0.0334      0.075     -0.447      0.655      -0.180       0.113\n",
       "                         Results for equation Store_1041                         \n",
       "=================================================================================\n",
       "                    coef    std err          z      P>|z|      [0.025      0.975]\n",
       "---------------------------------------------------------------------------------\n",
       "const           760.6248     80.037      9.503      0.000     603.754     917.495\n",
       "L1.Store_1044    -0.8413      0.138     -6.101      0.000      -1.112      -0.571\n",
       "L1.Store_1041     0.5908      0.090      6.533      0.000       0.414       0.768\n",
       "L2.Store_1044     0.6229      0.136      4.591      0.000       0.357       0.889\n",
       "L2.Store_1041    -0.5782      0.090     -6.394      0.000      -0.755      -0.401\n",
       "L3.Store_1044    -0.2673      0.139     -1.916      0.055      -0.541       0.006\n",
       "L3.Store_1041     0.2105      0.094      2.230      0.026       0.026       0.395\n",
       "L4.Store_1044     0.4051      0.156      2.592      0.010       0.099       0.711\n",
       "L4.Store_1041    -0.3743      0.106     -3.517      0.000      -0.583      -0.166\n",
       "L5.Store_1044    -0.3825      0.136     -2.815      0.005      -0.649      -0.116\n",
       "L5.Store_1041     0.1910      0.091      2.091      0.037       0.012       0.370\n",
       "L6.Store_1044    -0.1086      0.137     -0.791      0.429      -0.378       0.161\n",
       "L6.Store_1041     0.0234      0.091      0.257      0.797      -0.155       0.202\n",
       "L7.Store_1044     0.0663      0.161      0.412      0.681      -0.249       0.382\n",
       "L7.Store_1041     0.1836      0.107      1.709      0.087      -0.027       0.394\n",
       "                                     Error covariance matrix                                      \n",
       "==================================================================================================\n",
       "                                     coef    std err          z      P>|z|      [0.025      0.975]\n",
       "--------------------------------------------------------------------------------------------------\n",
       "sqrt.var.Store_1044              211.4331      6.579     32.136      0.000     198.538     224.328\n",
       "sqrt.cov.Store_1044.Store_1041   296.0145     13.872     21.338      0.000     268.825     323.204\n",
       "sqrt.var.Store_1041              124.7277      3.026     41.216      0.000     118.797     130.659\n",
       "==================================================================================================\n",
       "\n",
       "Warnings:\n",
       "[1] Covariance matrix calculated using the outer product of gradients (complex-step).\n",
       "\"\"\""
      ]
     },
     "execution_count": 28,
     "metadata": {
      "tags": []
     },
     "output_type": "execute_result"
    }
   ],
   "source": [
    "model = sm.tsa.VARMAX(train,order=(7,0),trend='c')\n",
    "model_result = model.fit()\n",
    "model_result.summary()"
   ]
  },
  {
   "cell_type": "code",
   "execution_count": null,
   "metadata": {
    "ExecuteTime": {
     "end_time": "2020-09-28T12:46:44.463174Z",
     "start_time": "2020-09-28T12:46:44.428267Z"
    },
    "id": "345DIhj50Olk",
    "outputId": "8a81fad8-36eb-4d63-92eb-2b023610bc08",
    "scrolled": true
   },
   "outputs": [
    {
     "data": {
      "text/html": [
       "<div>\n",
       "<style scoped>\n",
       "    .dataframe tbody tr th:only-of-type {\n",
       "        vertical-align: middle;\n",
       "    }\n",
       "\n",
       "    .dataframe tbody tr th {\n",
       "        vertical-align: top;\n",
       "    }\n",
       "\n",
       "    .dataframe thead th {\n",
       "        text-align: right;\n",
       "    }\n",
       "</style>\n",
       "<table border=\"1\" class=\"dataframe\">\n",
       "  <thead>\n",
       "    <tr style=\"text-align: right;\">\n",
       "      <th></th>\n",
       "      <th>Store_1044</th>\n",
       "      <th>Store_1041</th>\n",
       "    </tr>\n",
       "  </thead>\n",
       "  <tbody>\n",
       "    <tr>\n",
       "      <th>2016-01-01</th>\n",
       "      <td>396.938653</td>\n",
       "      <td>513.361758</td>\n",
       "    </tr>\n",
       "    <tr>\n",
       "      <th>2016-01-02</th>\n",
       "      <td>469.559427</td>\n",
       "      <td>649.430068</td>\n",
       "    </tr>\n",
       "    <tr>\n",
       "      <th>2016-01-03</th>\n",
       "      <td>539.414903</td>\n",
       "      <td>692.643263</td>\n",
       "    </tr>\n",
       "    <tr>\n",
       "      <th>2016-01-04</th>\n",
       "      <td>328.202395</td>\n",
       "      <td>482.117648</td>\n",
       "    </tr>\n",
       "    <tr>\n",
       "      <th>2016-01-05</th>\n",
       "      <td>521.092410</td>\n",
       "      <td>735.864244</td>\n",
       "    </tr>\n",
       "    <tr>\n",
       "      <th>2016-01-06</th>\n",
       "      <td>520.307164</td>\n",
       "      <td>723.240300</td>\n",
       "    </tr>\n",
       "    <tr>\n",
       "      <th>2016-01-07</th>\n",
       "      <td>482.554076</td>\n",
       "      <td>653.105674</td>\n",
       "    </tr>\n",
       "    <tr>\n",
       "      <th>2016-01-08</th>\n",
       "      <td>438.052011</td>\n",
       "      <td>625.273907</td>\n",
       "    </tr>\n",
       "    <tr>\n",
       "      <th>2016-01-09</th>\n",
       "      <td>488.794689</td>\n",
       "      <td>707.800341</td>\n",
       "    </tr>\n",
       "    <tr>\n",
       "      <th>2016-01-10</th>\n",
       "      <td>499.999911</td>\n",
       "      <td>707.234569</td>\n",
       "    </tr>\n",
       "    <tr>\n",
       "      <th>2016-01-11</th>\n",
       "      <td>425.412044</td>\n",
       "      <td>628.594339</td>\n",
       "    </tr>\n",
       "    <tr>\n",
       "      <th>2016-01-12</th>\n",
       "      <td>480.415906</td>\n",
       "      <td>708.595317</td>\n",
       "    </tr>\n",
       "    <tr>\n",
       "      <th>2016-01-13</th>\n",
       "      <td>481.701654</td>\n",
       "      <td>706.936323</td>\n",
       "    </tr>\n",
       "    <tr>\n",
       "      <th>2016-01-14</th>\n",
       "      <td>472.712688</td>\n",
       "      <td>686.173818</td>\n",
       "    </tr>\n",
       "    <tr>\n",
       "      <th>2016-01-15</th>\n",
       "      <td>451.973383</td>\n",
       "      <td>668.558128</td>\n",
       "    </tr>\n",
       "    <tr>\n",
       "      <th>2016-01-16</th>\n",
       "      <td>475.414052</td>\n",
       "      <td>704.437659</td>\n",
       "    </tr>\n",
       "    <tr>\n",
       "      <th>2016-01-17</th>\n",
       "      <td>478.233478</td>\n",
       "      <td>703.495742</td>\n",
       "    </tr>\n",
       "    <tr>\n",
       "      <th>2016-01-18</th>\n",
       "      <td>453.718789</td>\n",
       "      <td>676.099111</td>\n",
       "    </tr>\n",
       "    <tr>\n",
       "      <th>2016-01-19</th>\n",
       "      <td>468.642610</td>\n",
       "      <td>699.945313</td>\n",
       "    </tr>\n",
       "    <tr>\n",
       "      <th>2016-01-20</th>\n",
       "      <td>470.903679</td>\n",
       "      <td>701.999752</td>\n",
       "    </tr>\n",
       "    <tr>\n",
       "      <th>2016-01-21</th>\n",
       "      <td>467.882497</td>\n",
       "      <td>694.420286</td>\n",
       "    </tr>\n",
       "    <tr>\n",
       "      <th>2016-01-22</th>\n",
       "      <td>459.235188</td>\n",
       "      <td>686.487052</td>\n",
       "    </tr>\n",
       "    <tr>\n",
       "      <th>2016-01-23</th>\n",
       "      <td>468.541017</td>\n",
       "      <td>700.478756</td>\n",
       "    </tr>\n",
       "    <tr>\n",
       "      <th>2016-01-24</th>\n",
       "      <td>469.508879</td>\n",
       "      <td>700.357062</td>\n",
       "    </tr>\n",
       "    <tr>\n",
       "      <th>2016-01-25</th>\n",
       "      <td>461.737482</td>\n",
       "      <td>691.243078</td>\n",
       "    </tr>\n",
       "    <tr>\n",
       "      <th>2016-01-26</th>\n",
       "      <td>465.460455</td>\n",
       "      <td>697.871975</td>\n",
       "    </tr>\n",
       "    <tr>\n",
       "      <th>2016-01-27</th>\n",
       "      <td>467.119594</td>\n",
       "      <td>699.802648</td>\n",
       "    </tr>\n",
       "    <tr>\n",
       "      <th>2016-01-28</th>\n",
       "      <td>465.985741</td>\n",
       "      <td>696.904992</td>\n",
       "    </tr>\n",
       "    <tr>\n",
       "      <th>2016-01-29</th>\n",
       "      <td>462.570295</td>\n",
       "      <td>693.621753</td>\n",
       "    </tr>\n",
       "    <tr>\n",
       "      <th>2016-01-30</th>\n",
       "      <td>465.999278</td>\n",
       "      <td>698.823350</td>\n",
       "    </tr>\n",
       "    <tr>\n",
       "      <th>...</th>\n",
       "      <td>...</td>\n",
       "      <td>...</td>\n",
       "    </tr>\n",
       "    <tr>\n",
       "      <th>2016-05-02</th>\n",
       "      <td>464.754586</td>\n",
       "      <td>697.977445</td>\n",
       "    </tr>\n",
       "    <tr>\n",
       "      <th>2016-05-03</th>\n",
       "      <td>464.754582</td>\n",
       "      <td>697.977439</td>\n",
       "    </tr>\n",
       "    <tr>\n",
       "      <th>2016-05-04</th>\n",
       "      <td>464.754583</td>\n",
       "      <td>697.977441</td>\n",
       "    </tr>\n",
       "    <tr>\n",
       "      <th>2016-05-05</th>\n",
       "      <td>464.754585</td>\n",
       "      <td>697.977443</td>\n",
       "    </tr>\n",
       "    <tr>\n",
       "      <th>2016-05-06</th>\n",
       "      <td>464.754584</td>\n",
       "      <td>697.977442</td>\n",
       "    </tr>\n",
       "    <tr>\n",
       "      <th>2016-05-07</th>\n",
       "      <td>464.754583</td>\n",
       "      <td>697.977442</td>\n",
       "    </tr>\n",
       "    <tr>\n",
       "      <th>2016-05-08</th>\n",
       "      <td>464.754585</td>\n",
       "      <td>697.977444</td>\n",
       "    </tr>\n",
       "    <tr>\n",
       "      <th>2016-05-09</th>\n",
       "      <td>464.754585</td>\n",
       "      <td>697.977443</td>\n",
       "    </tr>\n",
       "    <tr>\n",
       "      <th>2016-05-10</th>\n",
       "      <td>464.754583</td>\n",
       "      <td>697.977441</td>\n",
       "    </tr>\n",
       "    <tr>\n",
       "      <th>2016-05-11</th>\n",
       "      <td>464.754584</td>\n",
       "      <td>697.977442</td>\n",
       "    </tr>\n",
       "    <tr>\n",
       "      <th>2016-05-12</th>\n",
       "      <td>464.754584</td>\n",
       "      <td>697.977443</td>\n",
       "    </tr>\n",
       "    <tr>\n",
       "      <th>2016-05-13</th>\n",
       "      <td>464.754584</td>\n",
       "      <td>697.977442</td>\n",
       "    </tr>\n",
       "    <tr>\n",
       "      <th>2016-05-14</th>\n",
       "      <td>464.754584</td>\n",
       "      <td>697.977442</td>\n",
       "    </tr>\n",
       "    <tr>\n",
       "      <th>2016-05-15</th>\n",
       "      <td>464.754584</td>\n",
       "      <td>697.977443</td>\n",
       "    </tr>\n",
       "    <tr>\n",
       "      <th>2016-05-16</th>\n",
       "      <td>464.754584</td>\n",
       "      <td>697.977443</td>\n",
       "    </tr>\n",
       "    <tr>\n",
       "      <th>2016-05-17</th>\n",
       "      <td>464.754584</td>\n",
       "      <td>697.977442</td>\n",
       "    </tr>\n",
       "    <tr>\n",
       "      <th>2016-05-18</th>\n",
       "      <td>464.754584</td>\n",
       "      <td>697.977442</td>\n",
       "    </tr>\n",
       "    <tr>\n",
       "      <th>2016-05-19</th>\n",
       "      <td>464.754584</td>\n",
       "      <td>697.977443</td>\n",
       "    </tr>\n",
       "    <tr>\n",
       "      <th>2016-05-20</th>\n",
       "      <td>464.754584</td>\n",
       "      <td>697.977443</td>\n",
       "    </tr>\n",
       "    <tr>\n",
       "      <th>2016-05-21</th>\n",
       "      <td>464.754584</td>\n",
       "      <td>697.977443</td>\n",
       "    </tr>\n",
       "    <tr>\n",
       "      <th>2016-05-22</th>\n",
       "      <td>464.754584</td>\n",
       "      <td>697.977443</td>\n",
       "    </tr>\n",
       "    <tr>\n",
       "      <th>2016-05-23</th>\n",
       "      <td>464.754584</td>\n",
       "      <td>697.977443</td>\n",
       "    </tr>\n",
       "    <tr>\n",
       "      <th>2016-05-24</th>\n",
       "      <td>464.754584</td>\n",
       "      <td>697.977442</td>\n",
       "    </tr>\n",
       "    <tr>\n",
       "      <th>2016-05-25</th>\n",
       "      <td>464.754584</td>\n",
       "      <td>697.977442</td>\n",
       "    </tr>\n",
       "    <tr>\n",
       "      <th>2016-05-26</th>\n",
       "      <td>464.754584</td>\n",
       "      <td>697.977443</td>\n",
       "    </tr>\n",
       "    <tr>\n",
       "      <th>2016-05-27</th>\n",
       "      <td>464.754584</td>\n",
       "      <td>697.977443</td>\n",
       "    </tr>\n",
       "    <tr>\n",
       "      <th>2016-05-28</th>\n",
       "      <td>464.754584</td>\n",
       "      <td>697.977443</td>\n",
       "    </tr>\n",
       "    <tr>\n",
       "      <th>2016-05-29</th>\n",
       "      <td>464.754584</td>\n",
       "      <td>697.977443</td>\n",
       "    </tr>\n",
       "    <tr>\n",
       "      <th>2016-05-30</th>\n",
       "      <td>464.754584</td>\n",
       "      <td>697.977443</td>\n",
       "    </tr>\n",
       "    <tr>\n",
       "      <th>2016-05-31</th>\n",
       "      <td>464.754584</td>\n",
       "      <td>697.977443</td>\n",
       "    </tr>\n",
       "  </tbody>\n",
       "</table>\n",
       "<p>152 rows × 2 columns</p>\n",
       "</div>"
      ],
      "text/plain": [
       "            Store_1044  Store_1041\n",
       "2016-01-01  396.938653  513.361758\n",
       "2016-01-02  469.559427  649.430068\n",
       "2016-01-03  539.414903  692.643263\n",
       "2016-01-04  328.202395  482.117648\n",
       "2016-01-05  521.092410  735.864244\n",
       "2016-01-06  520.307164  723.240300\n",
       "2016-01-07  482.554076  653.105674\n",
       "2016-01-08  438.052011  625.273907\n",
       "2016-01-09  488.794689  707.800341\n",
       "2016-01-10  499.999911  707.234569\n",
       "2016-01-11  425.412044  628.594339\n",
       "2016-01-12  480.415906  708.595317\n",
       "2016-01-13  481.701654  706.936323\n",
       "2016-01-14  472.712688  686.173818\n",
       "2016-01-15  451.973383  668.558128\n",
       "2016-01-16  475.414052  704.437659\n",
       "2016-01-17  478.233478  703.495742\n",
       "2016-01-18  453.718789  676.099111\n",
       "2016-01-19  468.642610  699.945313\n",
       "2016-01-20  470.903679  701.999752\n",
       "2016-01-21  467.882497  694.420286\n",
       "2016-01-22  459.235188  686.487052\n",
       "2016-01-23  468.541017  700.478756\n",
       "2016-01-24  469.508879  700.357062\n",
       "2016-01-25  461.737482  691.243078\n",
       "2016-01-26  465.460455  697.871975\n",
       "2016-01-27  467.119594  699.802648\n",
       "2016-01-28  465.985741  696.904992\n",
       "2016-01-29  462.570295  693.621753\n",
       "2016-01-30  465.999278  698.823350\n",
       "...                ...         ...\n",
       "2016-05-02  464.754586  697.977445\n",
       "2016-05-03  464.754582  697.977439\n",
       "2016-05-04  464.754583  697.977441\n",
       "2016-05-05  464.754585  697.977443\n",
       "2016-05-06  464.754584  697.977442\n",
       "2016-05-07  464.754583  697.977442\n",
       "2016-05-08  464.754585  697.977444\n",
       "2016-05-09  464.754585  697.977443\n",
       "2016-05-10  464.754583  697.977441\n",
       "2016-05-11  464.754584  697.977442\n",
       "2016-05-12  464.754584  697.977443\n",
       "2016-05-13  464.754584  697.977442\n",
       "2016-05-14  464.754584  697.977442\n",
       "2016-05-15  464.754584  697.977443\n",
       "2016-05-16  464.754584  697.977443\n",
       "2016-05-17  464.754584  697.977442\n",
       "2016-05-18  464.754584  697.977442\n",
       "2016-05-19  464.754584  697.977443\n",
       "2016-05-20  464.754584  697.977443\n",
       "2016-05-21  464.754584  697.977443\n",
       "2016-05-22  464.754584  697.977443\n",
       "2016-05-23  464.754584  697.977443\n",
       "2016-05-24  464.754584  697.977442\n",
       "2016-05-25  464.754584  697.977442\n",
       "2016-05-26  464.754584  697.977443\n",
       "2016-05-27  464.754584  697.977443\n",
       "2016-05-28  464.754584  697.977443\n",
       "2016-05-29  464.754584  697.977443\n",
       "2016-05-30  464.754584  697.977443\n",
       "2016-05-31  464.754584  697.977443\n",
       "\n",
       "[152 rows x 2 columns]"
      ]
     },
     "execution_count": 29,
     "metadata": {
      "tags": []
     },
     "output_type": "execute_result"
    }
   ],
   "source": [
    "pred = model_result.forecast(steps=len(test))\n",
    "pred"
   ]
  },
  {
   "cell_type": "code",
   "execution_count": null,
   "metadata": {
    "ExecuteTime": {
     "end_time": "2020-09-28T12:46:44.623191Z",
     "start_time": "2020-09-28T12:46:44.467164Z"
    },
    "id": "vp-3WGWh0Olk",
    "outputId": "ae0a695e-22cc-4e15-f134-b6553f300266"
   },
   "outputs": [
    {
     "name": "stdout",
     "output_type": "stream",
     "text": [
      "Store_1044: 73059.25169450957\n",
      "Store_1044: 270.29474966138275\n"
     ]
    }
   ],
   "source": [
    "## Calculating the RMSE for Store 1044\n",
    "\n",
    "import math\n",
    "from sklearn.metrics import mean_squared_error\n",
    "mse = mean_squared_error(test['Store_1044'],pred['Store_1044'])\n",
    "rmse = math. sqrt(mse)\n",
    "print('Store_1044:',mse)\n",
    "print('Store_1044:',rmse)"
   ]
  },
  {
   "cell_type": "code",
   "execution_count": null,
   "metadata": {
    "ExecuteTime": {
     "end_time": "2020-09-28T12:46:44.738022Z",
     "start_time": "2020-09-28T12:46:44.626187Z"
    },
    "id": "pF2TfIh20Olk",
    "outputId": "43651e71-d2c0-49c9-a5d1-5f44832636f8"
   },
   "outputs": [
    {
     "name": "stdout",
     "output_type": "stream",
     "text": [
      "Store_1041: 139460.80032572057\n",
      "Store_1041: 373.444507692536\n"
     ]
    }
   ],
   "source": [
    "## Calculating the RMSE for Store 1041\n",
    "\n",
    "mse = mean_squared_error(test['Store_1041'],pred['Store_1041'])\n",
    "rmse = math. sqrt(mse)\n",
    "print('Store_1041:',mse)\n",
    "print('Store_1041:',rmse)\n",
    "\n"
   ]
  },
  {
   "cell_type": "markdown",
   "metadata": {
    "id": "_YizQCd67azp"
   },
   "source": [
    "# Vector Auto-regression and Moving Average - (VARMA)"
   ]
  },
  {
   "cell_type": "code",
   "execution_count": null,
   "metadata": {
    "id": "fQF6sq9W7azp"
   },
   "outputs": [],
   "source": [
    "import os"
   ]
  },
  {
   "cell_type": "code",
   "execution_count": null,
   "metadata": {
    "colab": {
     "base_uri": "https://localhost:8080/"
    },
    "id": "YsYvruQs7azq",
    "outputId": "33a4f9e1-6992-42b7-cdd0-7b1e9a75e750"
   },
   "outputs": [
    {
     "name": "stdout",
     "output_type": "stream",
     "text": [
      "Drive already mounted at /content/drive; to attempt to forcibly remount, call drive.mount(\"/content/drive\", force_remount=True).\n"
     ]
    }
   ],
   "source": [
    "from google.colab import drive \n",
    "drive.mount('/content/drive')"
   ]
  },
  {
   "cell_type": "code",
   "execution_count": null,
   "metadata": {
    "colab": {
     "base_uri": "https://localhost:8080/"
    },
    "id": "pDDoDVmV84On",
    "outputId": "a946e3b8-0ab9-48bf-d2ff-a474a9989766"
   },
   "outputs": [
    {
     "name": "stdout",
     "output_type": "stream",
     "text": [
      "/content/drive/My Drive\n"
     ]
    }
   ],
   "source": [
    "%cd /content/drive/My\\ Drive/\n"
   ]
  },
  {
   "cell_type": "code",
   "execution_count": null,
   "metadata": {
    "id": "Qiq_rD9G7azq"
   },
   "outputs": [],
   "source": [
    "df1=pd.read_csv('varma_data.csv')"
   ]
  },
  {
   "cell_type": "code",
   "execution_count": null,
   "metadata": {
    "id": "DDi_OYIy7azq"
   },
   "outputs": [],
   "source": [
    "df2 = df1[(df1['Date'] > '2016-01-14') & (df1['Date'] <= '2017-01-30')]"
   ]
  },
  {
   "cell_type": "code",
   "execution_count": null,
   "metadata": {
    "colab": {
     "base_uri": "https://localhost:8080/",
     "height": 204
    },
    "id": "tbL_lWDE7azr",
    "outputId": "98a97148-7e54-4b31-e387-08c1ca80f10d"
   },
   "outputs": [
    {
     "data": {
      "text/html": [
       "<div>\n",
       "<style scoped>\n",
       "    .dataframe tbody tr th:only-of-type {\n",
       "        vertical-align: middle;\n",
       "    }\n",
       "\n",
       "    .dataframe tbody tr th {\n",
       "        vertical-align: top;\n",
       "    }\n",
       "\n",
       "    .dataframe thead th {\n",
       "        text-align: right;\n",
       "    }\n",
       "</style>\n",
       "<table border=\"1\" class=\"dataframe\">\n",
       "  <thead>\n",
       "    <tr style=\"text-align: right;\">\n",
       "      <th></th>\n",
       "      <th>Date</th>\n",
       "      <th>Open</th>\n",
       "      <th>High</th>\n",
       "      <th>Low</th>\n",
       "      <th>Close</th>\n",
       "      <th>Adj Close</th>\n",
       "      <th>Volume</th>\n",
       "    </tr>\n",
       "  </thead>\n",
       "  <tbody>\n",
       "    <tr>\n",
       "      <th>1</th>\n",
       "      <td>2016-01-15</td>\n",
       "      <td>16354.330078</td>\n",
       "      <td>16354.330078</td>\n",
       "      <td>15842.110352</td>\n",
       "      <td>15988.080078</td>\n",
       "      <td>15988.080078</td>\n",
       "      <td>239210000</td>\n",
       "    </tr>\n",
       "    <tr>\n",
       "      <th>2</th>\n",
       "      <td>2016-01-19</td>\n",
       "      <td>16009.450195</td>\n",
       "      <td>16171.959961</td>\n",
       "      <td>15900.250000</td>\n",
       "      <td>16016.019531</td>\n",
       "      <td>16016.019531</td>\n",
       "      <td>144360000</td>\n",
       "    </tr>\n",
       "    <tr>\n",
       "      <th>3</th>\n",
       "      <td>2016-01-20</td>\n",
       "      <td>15989.450195</td>\n",
       "      <td>15989.450195</td>\n",
       "      <td>15450.559570</td>\n",
       "      <td>15766.740234</td>\n",
       "      <td>15766.740234</td>\n",
       "      <td>191870000</td>\n",
       "    </tr>\n",
       "    <tr>\n",
       "      <th>4</th>\n",
       "      <td>2016-01-21</td>\n",
       "      <td>15768.870117</td>\n",
       "      <td>16038.589844</td>\n",
       "      <td>15704.660156</td>\n",
       "      <td>15882.679688</td>\n",
       "      <td>15882.679688</td>\n",
       "      <td>145140000</td>\n",
       "    </tr>\n",
       "    <tr>\n",
       "      <th>5</th>\n",
       "      <td>2016-01-22</td>\n",
       "      <td>15921.099609</td>\n",
       "      <td>16136.790039</td>\n",
       "      <td>15921.099609</td>\n",
       "      <td>16093.509766</td>\n",
       "      <td>16093.509766</td>\n",
       "      <td>145850000</td>\n",
       "    </tr>\n",
       "  </tbody>\n",
       "</table>\n",
       "</div>"
      ],
      "text/plain": [
       "         Date          Open  ...     Adj Close     Volume\n",
       "1  2016-01-15  16354.330078  ...  15988.080078  239210000\n",
       "2  2016-01-19  16009.450195  ...  16016.019531  144360000\n",
       "3  2016-01-20  15989.450195  ...  15766.740234  191870000\n",
       "4  2016-01-21  15768.870117  ...  15882.679688  145140000\n",
       "5  2016-01-22  15921.099609  ...  16093.509766  145850000\n",
       "\n",
       "[5 rows x 7 columns]"
      ]
     },
     "execution_count": 13,
     "metadata": {
      "tags": []
     },
     "output_type": "execute_result"
    }
   ],
   "source": [
    "df2.head()"
   ]
  },
  {
   "cell_type": "markdown",
   "metadata": {
    "id": "dIoDUUON7azr"
   },
   "source": [
    "**A Standard define functions for an Time-Series model evaluation metrics**"
   ]
  },
  {
   "cell_type": "code",
   "execution_count": null,
   "metadata": {
    "id": "sr4EbY-47azs"
   },
   "outputs": [],
   "source": [
    "def timeseries_evaluation_metrics_func(y_true, y_pred):\n",
    "    \n",
    "    def mean_absolute_percentage_error(y_true, y_pred): \n",
    "        y_true, y_pred = np.array(y_true), np.array(y_pred)\n",
    "        return np.mean(np.abs((y_true - y_pred) / y_true)) * 100\n",
    "    print('Evaluation metric results:-')\n",
    "    print(f'MSE is : {metrics.mean_squared_error(y_true, y_pred)}')\n",
    "    print(f'MAE is : {metrics.mean_absolute_error(y_true, y_pred)}')\n",
    "    print(f'RMSE is : {np.sqrt(metrics.mean_squared_error(y_true, y_pred))}')\n",
    "    print(f'MAPE is : {mean_absolute_percentage_error(y_true, y_pred)}')\n",
    "    print(f'R2 is : {metrics.r2_score(y_true, y_pred)}',end='\\n\\n')"
   ]
  },
  {
   "cell_type": "markdown",
   "metadata": {
    "id": "rkJDMT307azs"
   },
   "source": [
    "**Checking for stationarity of data using ADF test function:**\n"
   ]
  },
  {
   "cell_type": "code",
   "execution_count": null,
   "metadata": {
    "id": "Rx6kEgHM7azt"
   },
   "outputs": [],
   "source": [
    "def Augmented_Dickey_Fuller_Test_func(series , column_name):\n",
    "    print (f'Results of Dickey-Fuller Test for column: {column_name}')\n",
    "    dftest = adfuller(series, autolag='AIC')\n",
    "    dfoutput = pd.Series(dftest[0:4], index=['Test Statistic','p-value','No Lags Used','Number of Observations Used'])\n",
    "    for key,value in dftest[4].items():\n",
    "       dfoutput['Critical Value (%s)'%key] = value\n",
    "    print (dfoutput)\n",
    "    if dftest[1] <= 0.05:\n",
    "        print(\"Conclusion:====>\")\n",
    "        print(\"Reject the null hypothesis\")\n",
    "        print(\"Data is stationary\")\n",
    "    else:\n",
    "        print(\"Conclusion:====>\")\n",
    "        print(\"Fail to reject the null hypothesis\")\n",
    "        print(\"Data is non-stationary\")"
   ]
  },
  {
   "cell_type": "code",
   "execution_count": null,
   "metadata": {
    "colab": {
     "base_uri": "https://localhost:8080/"
    },
    "id": "g_EmjYi_7azt",
    "outputId": "0b98cc83-4c28-40a3-80a4-43cc68607a8b"
   },
   "outputs": [
    {
     "data": {
      "text/plain": [
       "Index(['Date', 'Open', 'High', 'Low', 'Close', 'Adj Close', 'Volume'], dtype='object')"
      ]
     },
     "execution_count": 16,
     "metadata": {
      "tags": []
     },
     "output_type": "execute_result"
    }
   ],
   "source": [
    "df2.columns"
   ]
  },
  {
   "cell_type": "markdown",
   "metadata": {
    "id": "EIHyqWhF7azt"
   },
   "source": [
    "**Infere the variables are stationary:**"
   ]
  },
  {
   "cell_type": "code",
   "execution_count": null,
   "metadata": {
    "colab": {
     "base_uri": "https://localhost:8080/"
    },
    "id": "gMKPA4Ux7azu",
    "outputId": "7a8bc706-728a-426a-9b91-7ee12e2c1b97",
    "scrolled": true
   },
   "outputs": [
    {
     "name": "stdout",
     "output_type": "stream",
     "text": [
      "Results of Dickey-Fuller Test for column: Open\n",
      "Test Statistic                  -0.776223\n",
      "p-value                          0.826007\n",
      "No Lags Used                     0.000000\n",
      "Number of Observations Used    261.000000\n",
      "Critical Value (1%)             -3.455656\n",
      "Critical Value (5%)             -2.872678\n",
      "Critical Value (10%)            -2.572705\n",
      "dtype: float64\n",
      "Conclusion:====>\n",
      "Fail to reject the null hypothesis\n",
      "Data is non-stationary\n",
      "\n",
      "\n",
      "Results of Dickey-Fuller Test for column: High\n",
      "Test Statistic                  -1.240162\n",
      "p-value                          0.656085\n",
      "No Lags Used                     2.000000\n",
      "Number of Observations Used    259.000000\n",
      "Critical Value (1%)             -3.455853\n",
      "Critical Value (5%)             -2.872765\n",
      "Critical Value (10%)            -2.572752\n",
      "dtype: float64\n",
      "Conclusion:====>\n",
      "Fail to reject the null hypothesis\n",
      "Data is non-stationary\n",
      "\n",
      "\n",
      "Results of Dickey-Fuller Test for column: Low\n",
      "Test Statistic                  -0.981046\n",
      "p-value                          0.760114\n",
      "No Lags Used                    13.000000\n",
      "Number of Observations Used    248.000000\n",
      "Critical Value (1%)             -3.456996\n",
      "Critical Value (5%)             -2.873266\n",
      "Critical Value (10%)            -2.573019\n",
      "dtype: float64\n",
      "Conclusion:====>\n",
      "Fail to reject the null hypothesis\n",
      "Data is non-stationary\n",
      "\n",
      "\n",
      "Results of Dickey-Fuller Test for column: Close\n",
      "Test Statistic                  -1.265244\n",
      "p-value                          0.644919\n",
      "No Lags Used                     0.000000\n",
      "Number of Observations Used    261.000000\n",
      "Critical Value (1%)             -3.455656\n",
      "Critical Value (5%)             -2.872678\n",
      "Critical Value (10%)            -2.572705\n",
      "dtype: float64\n",
      "Conclusion:====>\n",
      "Fail to reject the null hypothesis\n",
      "Data is non-stationary\n",
      "\n",
      "\n"
     ]
    }
   ],
   "source": [
    "for name, column in df2[['Open', 'High', 'Low', 'Close']].iteritems():\n",
    "    Augmented_Dickey_Fuller_Test_func(df2[name],name)\n",
    "    print('\\n')"
   ]
  },
  {
   "cell_type": "markdown",
   "metadata": {
    "id": "1cc6-DB67azu"
   },
   "source": [
    "**We would be considering the train data that consists of all the data except the last 30 days, and the test data which consists of only the last 30 days to evaluate on future forcasting.**\n"
   ]
  },
  {
   "cell_type": "code",
   "execution_count": null,
   "metadata": {
    "id": "8XG7YTI07azu"
   },
   "outputs": [],
   "source": [
    "X = df2[['Open', 'High', 'Low', 'Close' ]]\n",
    "train, test = X[0:-30], X[-30:]"
   ]
  },
  {
   "cell_type": "markdown",
   "metadata": {
    "id": "U4Po4ncN7azv"
   },
   "source": [
    "**Perform the Pandas differencing on data to stationarize**"
   ]
  },
  {
   "cell_type": "code",
   "execution_count": null,
   "metadata": {
    "id": "3ZfAbTYf7azv"
   },
   "outputs": [],
   "source": [
    "train_diff = train.diff()\n",
    "train_diff.dropna(inplace = True)"
   ]
  },
  {
   "cell_type": "markdown",
   "metadata": {
    "id": "AbF-NcF07azw"
   },
   "source": [
    "**Infere the variables are they stationarised after performing the first differencing.**\n"
   ]
  },
  {
   "cell_type": "code",
   "execution_count": null,
   "metadata": {
    "colab": {
     "base_uri": "https://localhost:8080/"
    },
    "id": "19rMKcrG7azw",
    "outputId": "93a875e8-1d1c-4aa9-f9fa-333027f4b144"
   },
   "outputs": [
    {
     "name": "stdout",
     "output_type": "stream",
     "text": [
      "Results of Dickey-Fuller Test for column: Open\n",
      "Test Statistic                -1.579687e+01\n",
      "p-value                        1.085613e-28\n",
      "No Lags Used                   0.000000e+00\n",
      "Number of Observations Used    2.300000e+02\n",
      "Critical Value (1%)           -3.459106e+00\n",
      "Critical Value (5%)           -2.874190e+00\n",
      "Critical Value (10%)          -2.573512e+00\n",
      "dtype: float64\n",
      "Conclusion:====>\n",
      "Reject the null hypothesis\n",
      "Data is stationary\n",
      "\n",
      "\n",
      "Results of Dickey-Fuller Test for column: High\n",
      "Test Statistic                -1.172782e+01\n",
      "p-value                        1.364178e-21\n",
      "No Lags Used                   1.000000e+00\n",
      "Number of Observations Used    2.290000e+02\n",
      "Critical Value (1%)           -3.459233e+00\n",
      "Critical Value (5%)           -2.874245e+00\n",
      "Critical Value (10%)          -2.573541e+00\n",
      "dtype: float64\n",
      "Conclusion:====>\n",
      "Reject the null hypothesis\n",
      "Data is stationary\n",
      "\n",
      "\n",
      "Results of Dickey-Fuller Test for column: Low\n",
      "Test Statistic                  -3.997846\n",
      "p-value                          0.001422\n",
      "No Lags Used                    12.000000\n",
      "Number of Observations Used    218.000000\n",
      "Critical Value (1%)             -3.460708\n",
      "Critical Value (5%)             -2.874891\n",
      "Critical Value (10%)            -2.573886\n",
      "dtype: float64\n",
      "Conclusion:====>\n",
      "Reject the null hypothesis\n",
      "Data is stationary\n",
      "\n",
      "\n",
      "Results of Dickey-Fuller Test for column: Close\n",
      "Test Statistic                -1.649354e+01\n",
      "p-value                        2.181200e-29\n",
      "No Lags Used                   0.000000e+00\n",
      "Number of Observations Used    2.300000e+02\n",
      "Critical Value (1%)           -3.459106e+00\n",
      "Critical Value (5%)           -2.874190e+00\n",
      "Critical Value (10%)          -2.573512e+00\n",
      "dtype: float64\n",
      "Conclusion:====>\n",
      "Reject the null hypothesis\n",
      "Data is stationary\n",
      "\n",
      "\n"
     ]
    }
   ],
   "source": [
    "for name, column in train_diff[['Open', 'High', 'Low', 'Close' ]].iteritems():\n",
    "    Augmented_Dickey_Fuller_Test_func(train_diff[name],name)\n",
    "    print('\\n')"
   ]
  },
  {
   "cell_type": "markdown",
   "metadata": {
    "id": "whwY6hpo7azw"
   },
   "source": [
    "**Cointegration is used to check for the existence of a long-run relationship between two or more variables. However, the correlation does not necessarily mean “long run.”**\n",
    "\n",
    "**We can see the test says that there is the presence of a long-run relationship between features.**\n"
   ]
  },
  {
   "cell_type": "code",
   "execution_count": null,
   "metadata": {
    "id": "kj6pDOeg7azx"
   },
   "outputs": [],
   "source": [
    "from statsmodels.tsa.vector_ar.vecm import coint_johansen\n",
    "\n",
    "def cointegration_test(df2): \n",
    "    res = coint_johansen(df2,-1,5)\n",
    "    d = {'0.90':0, '0.95':1, '0.99':2}\n",
    "    traces = res.lr1\n",
    "    cvts = res.cvt[:, d[str(1-0.05)]]\n",
    "    def adjust(val, length= 6): \n",
    "        return str(val).ljust(length)\n",
    "    print('Column Name   >  Test Stat > C(95%)    =>   Signif  \\n', '--'*20)\n",
    "    for col, trace, cvt in zip(df2.columns, traces, cvts):\n",
    "        print(adjust(col), '> ', adjust(round(trace,2), 9),\n",
    "              \">\", adjust(cvt, 8), ' =>  ' , trace > cvt)\n"
   ]
  },
  {
   "cell_type": "code",
   "execution_count": null,
   "metadata": {
    "colab": {
     "base_uri": "https://localhost:8080/"
    },
    "id": "VWBbqv-y7azx",
    "outputId": "b9a3e274-134f-4be9-e5a9-fc7798b84cda"
   },
   "outputs": [
    {
     "name": "stdout",
     "output_type": "stream",
     "text": [
      "Column Name   >  Test Stat > C(95%)    =>   Signif  \n",
      " ----------------------------------------\n",
      "Open   >  311.57    > 40.1749   =>   True\n",
      "High   >  201.62    > 24.2761   =>   True\n",
      "Low    >  102.52    > 12.3212   =>   True\n",
      "Close  >  32.21     > 4.1296    =>   True\n"
     ]
    }
   ],
   "source": [
    "cointegration_test(train_diff[['Open', 'High', 'Low', 'Close']])"
   ]
  },
  {
   "cell_type": "code",
   "execution_count": null,
   "metadata": {
    "colab": {
     "base_uri": "https://localhost:8080/",
     "height": 598
    },
    "id": "3b4LC6eV7azx",
    "outputId": "08d5c380-2361-4a44-9cc7-80b7e392b558",
    "scrolled": true
   },
   "outputs": [
    {
     "name": "stdout",
     "output_type": "stream",
     "text": [
      "Collecting pmdarima\n",
      "\u001b[?25l  Downloading https://files.pythonhosted.org/packages/c9/d7/61af1897449638822f97c8b43ef0c2fce2ec68a6cda9a43ebbbdd12b967c/pmdarima-1.8.0-cp36-cp36m-manylinux1_x86_64.whl (1.5MB)\n",
      "\u001b[K     |████████████████████████████████| 1.5MB 5.7MB/s \n",
      "\u001b[?25hRequirement already satisfied: scipy>=1.3.2 in /usr/local/lib/python3.6/dist-packages (from pmdarima) (1.4.1)\n",
      "Requirement already satisfied: urllib3 in /usr/local/lib/python3.6/dist-packages (from pmdarima) (1.24.3)\n",
      "Requirement already satisfied: scikit-learn>=0.22 in /usr/local/lib/python3.6/dist-packages (from pmdarima) (0.22.2.post1)\n",
      "Requirement already satisfied: pandas>=0.19 in /usr/local/lib/python3.6/dist-packages (from pmdarima) (1.1.5)\n",
      "Collecting Cython<0.29.18,>=0.29\n",
      "\u001b[?25l  Downloading https://files.pythonhosted.org/packages/e7/d7/510ddef0248f3e1e91f9cc7e31c0f35f8954d0af92c5c3fd4c853e859ebe/Cython-0.29.17-cp36-cp36m-manylinux1_x86_64.whl (2.1MB)\n",
      "\u001b[K     |████████████████████████████████| 2.1MB 21.7MB/s \n",
      "\u001b[?25hRequirement already satisfied: numpy>=1.17.3 in /usr/local/lib/python3.6/dist-packages (from pmdarima) (1.19.5)\n",
      "Collecting statsmodels!=0.12.0,>=0.11\n",
      "\u001b[?25l  Downloading https://files.pythonhosted.org/packages/0d/7b/c17815648dc31396af865b9c6627cc3f95705954e30f61106795361c39ee/statsmodels-0.12.2-cp36-cp36m-manylinux1_x86_64.whl (9.5MB)\n",
      "\u001b[K     |████████████████████████████████| 9.5MB 33.8MB/s \n",
      "\u001b[?25hRequirement already satisfied: setuptools!=50.0.0,>=38.6.0 in /usr/local/lib/python3.6/dist-packages (from pmdarima) (53.0.0)\n",
      "Requirement already satisfied: joblib>=0.11 in /usr/local/lib/python3.6/dist-packages (from pmdarima) (1.0.0)\n",
      "Requirement already satisfied: python-dateutil>=2.7.3 in /usr/local/lib/python3.6/dist-packages (from pandas>=0.19->pmdarima) (2.8.1)\n",
      "Requirement already satisfied: pytz>=2017.2 in /usr/local/lib/python3.6/dist-packages (from pandas>=0.19->pmdarima) (2018.9)\n",
      "Requirement already satisfied: patsy>=0.5 in /usr/local/lib/python3.6/dist-packages (from statsmodels!=0.12.0,>=0.11->pmdarima) (0.5.1)\n",
      "Requirement already satisfied: six>=1.5 in /usr/local/lib/python3.6/dist-packages (from python-dateutil>=2.7.3->pandas>=0.19->pmdarima) (1.15.0)\n",
      "Installing collected packages: Cython, statsmodels, pmdarima\n",
      "  Found existing installation: Cython 0.29.21\n",
      "    Uninstalling Cython-0.29.21:\n",
      "      Successfully uninstalled Cython-0.29.21\n",
      "  Found existing installation: statsmodels 0.10.2\n",
      "    Uninstalling statsmodels-0.10.2:\n",
      "      Successfully uninstalled statsmodels-0.10.2\n",
      "Successfully installed Cython-0.29.17 pmdarima-1.8.0 statsmodels-0.12.2\n"
     ]
    },
    {
     "data": {
      "application/vnd.colab-display-data+json": {
       "pip_warning": {
        "packages": [
         "statsmodels"
        ]
       }
      }
     },
     "metadata": {
      "tags": []
     },
     "output_type": "display_data"
    }
   ],
   "source": [
    "#pip install pmdarima\n"
   ]
  },
  {
   "cell_type": "code",
   "execution_count": null,
   "metadata": {
    "id": "Qjy57fbF7azy"
   },
   "outputs": [],
   "source": [
    "from pmdarima import auto_arima"
   ]
  },
  {
   "cell_type": "code",
   "execution_count": null,
   "metadata": {
    "colab": {
     "base_uri": "https://localhost:8080/"
    },
    "id": "OLqPPzNi7azy",
    "outputId": "56300da6-3215-4e3a-915c-463ac6420cc7"
   },
   "outputs": [
    {
     "name": "stdout",
     "output_type": "stream",
     "text": [
      "Searching order of p and q for : Open\n",
      "Performing stepwise search to minimize aic\n",
      " ARIMA(1,0,1)(0,0,0)[0]             : AIC=2891.139, Time=0.10 sec\n",
      " ARIMA(0,0,0)(0,0,0)[0]             : AIC=2887.158, Time=0.01 sec\n",
      " ARIMA(1,0,0)(0,0,0)[0]             : AIC=2889.136, Time=0.04 sec\n",
      " ARIMA(0,0,1)(0,0,0)[0]             : AIC=2889.135, Time=0.05 sec\n",
      " ARIMA(0,0,0)(0,0,0)[0] intercept   : AIC=2885.680, Time=0.02 sec\n",
      " ARIMA(1,0,0)(0,0,0)[0] intercept   : AIC=2887.514, Time=0.11 sec\n",
      " ARIMA(0,0,1)(0,0,0)[0] intercept   : AIC=2887.501, Time=0.14 sec\n",
      " ARIMA(1,0,1)(0,0,0)[0] intercept   : AIC=2889.092, Time=0.29 sec\n",
      "\n",
      "Best model:  ARIMA(0,0,0)(0,0,0)[0] intercept\n",
      "Total fit time: 0.793 seconds\n",
      "optimal order for:Open is: (0, 0, 0) \n",
      "\n",
      "\n",
      "Searching order of p and q for : High\n",
      "Performing stepwise search to minimize aic\n",
      " ARIMA(1,0,1)(0,0,0)[0]             : AIC=2806.440, Time=0.08 sec\n",
      " ARIMA(0,0,0)(0,0,0)[0]             : AIC=2811.486, Time=0.01 sec\n",
      " ARIMA(1,0,0)(0,0,0)[0]             : AIC=2808.164, Time=0.04 sec\n",
      " ARIMA(0,0,1)(0,0,0)[0]             : AIC=2806.467, Time=0.04 sec\n",
      " ARIMA(2,0,1)(0,0,0)[0]             : AIC=2807.648, Time=0.12 sec\n",
      " ARIMA(1,0,2)(0,0,0)[0]             : AIC=2807.891, Time=0.06 sec\n",
      " ARIMA(0,0,2)(0,0,0)[0]             : AIC=2805.904, Time=0.03 sec\n",
      " ARIMA(0,0,3)(0,0,0)[0]             : AIC=2807.869, Time=0.10 sec\n",
      " ARIMA(1,0,3)(0,0,0)[0]             : AIC=2808.401, Time=0.40 sec\n",
      " ARIMA(0,0,2)(0,0,0)[0] intercept   : AIC=2803.157, Time=0.13 sec\n",
      " ARIMA(0,0,1)(0,0,0)[0] intercept   : AIC=2804.845, Time=0.10 sec\n",
      " ARIMA(1,0,2)(0,0,0)[0] intercept   : AIC=2805.136, Time=0.31 sec\n",
      " ARIMA(0,0,3)(0,0,0)[0] intercept   : AIC=2805.124, Time=0.30 sec\n",
      " ARIMA(1,0,1)(0,0,0)[0] intercept   : AIC=2804.389, Time=0.23 sec\n",
      " ARIMA(1,0,3)(0,0,0)[0] intercept   : AIC=2807.131, Time=0.23 sec\n",
      "\n",
      "Best model:  ARIMA(0,0,2)(0,0,0)[0] intercept\n",
      "Total fit time: 2.199 seconds\n",
      "optimal order for:High is: (0, 0, 2) \n",
      "\n",
      "\n",
      "Searching order of p and q for : Low\n",
      "Performing stepwise search to minimize aic\n",
      " ARIMA(1,0,1)(0,0,0)[0]             : AIC=inf, Time=0.18 sec\n",
      " ARIMA(0,0,0)(0,0,0)[0]             : AIC=2891.145, Time=0.01 sec\n",
      " ARIMA(1,0,0)(0,0,0)[0]             : AIC=2891.633, Time=0.02 sec\n",
      " ARIMA(0,0,1)(0,0,0)[0]             : AIC=2891.129, Time=0.04 sec\n",
      " ARIMA(0,0,2)(0,0,0)[0]             : AIC=2888.213, Time=0.08 sec\n",
      " ARIMA(1,0,2)(0,0,0)[0]             : AIC=2889.274, Time=0.11 sec\n",
      " ARIMA(0,0,3)(0,0,0)[0]             : AIC=2889.060, Time=0.11 sec\n",
      " ARIMA(1,0,3)(0,0,0)[0]             : AIC=2890.961, Time=0.17 sec\n",
      " ARIMA(0,0,2)(0,0,0)[0] intercept   : AIC=2885.194, Time=0.15 sec\n",
      " ARIMA(0,0,1)(0,0,0)[0] intercept   : AIC=2889.623, Time=0.15 sec\n",
      " ARIMA(1,0,2)(0,0,0)[0] intercept   : AIC=2886.651, Time=0.35 sec\n",
      " ARIMA(0,0,3)(0,0,0)[0] intercept   : AIC=2886.739, Time=0.27 sec\n",
      " ARIMA(1,0,1)(0,0,0)[0] intercept   : AIC=inf, Time=0.27 sec\n",
      " ARIMA(1,0,3)(0,0,0)[0] intercept   : AIC=2888.616, Time=0.48 sec\n",
      "\n",
      "Best model:  ARIMA(0,0,2)(0,0,0)[0] intercept\n",
      "Total fit time: 2.427 seconds\n",
      "optimal order for:Low is: (0, 0, 2) \n",
      "\n",
      "\n",
      "Searching order of p and q for : Close\n",
      "Performing stepwise search to minimize aic\n",
      " ARIMA(1,0,1)(0,0,0)[0]             : AIC=2917.053, Time=0.08 sec\n",
      " ARIMA(0,0,0)(0,0,0)[0]             : AIC=2914.350, Time=0.01 sec\n",
      " ARIMA(1,0,0)(0,0,0)[0]             : AIC=2915.132, Time=0.02 sec\n",
      " ARIMA(0,0,1)(0,0,0)[0]             : AIC=2915.077, Time=0.04 sec\n",
      " ARIMA(0,0,0)(0,0,0)[0] intercept   : AIC=2912.741, Time=0.02 sec\n",
      " ARIMA(1,0,0)(0,0,0)[0] intercept   : AIC=2912.866, Time=0.04 sec\n",
      " ARIMA(0,0,1)(0,0,0)[0] intercept   : AIC=2912.699, Time=0.12 sec\n",
      " ARIMA(1,0,1)(0,0,0)[0] intercept   : AIC=2914.239, Time=0.26 sec\n",
      " ARIMA(0,0,2)(0,0,0)[0] intercept   : AIC=2914.385, Time=0.21 sec\n",
      " ARIMA(1,0,2)(0,0,0)[0] intercept   : AIC=2916.232, Time=0.39 sec\n",
      "\n",
      "Best model:  ARIMA(0,0,1)(0,0,0)[0] intercept\n",
      "Total fit time: 1.213 seconds\n",
      "optimal order for:Close is: (0, 0, 1) \n",
      "\n",
      "\n"
     ]
    }
   ],
   "source": [
    "pq = []\n",
    "for name, column in train_diff[[ 'Open', 'High', 'Low', 'Close'  ]].iteritems():\n",
    "    print(f'Searching order of p and q for : {name}')\n",
    "    stepwise_model = auto_arima(train_diff[name],start_p=1, start_q=1,max_p=7, max_q=7, seasonal=False,\n",
    "        trace=True,error_action='ignore',suppress_warnings=True, stepwise=True,maxiter=1000)\n",
    "    parameter = stepwise_model.get_params().get('order')\n",
    "    print(f'optimal order for:{name} is: {parameter} \\n\\n')\n",
    "    pq.append(stepwise_model.get_params().get('order'))\n"
   ]
  },
  {
   "cell_type": "markdown",
   "metadata": {
    "id": "rM0q5lGj7azy"
   },
   "source": [
    "**Lets perform the inverse differencing function .**\n"
   ]
  },
  {
   "cell_type": "code",
   "execution_count": null,
   "metadata": {
    "id": "W8LvfARx7azy"
   },
   "outputs": [],
   "source": [
    "def inverse_diff(actual_df, pred_df):\n",
    "    df_res = pred_df.copy()\n",
    "    columns = actual_df.columns\n",
    "    for col in columns: \n",
    "        df_res[str(col)+'_1st_inv_diff'] = actual_df[col].iloc[-1] + df_res[str(col)].cumsum()\n",
    "    return df_res\n"
   ]
  },
  {
   "cell_type": "code",
   "execution_count": null,
   "metadata": {
    "colab": {
     "base_uri": "https://localhost:8080/"
    },
    "id": "miQ2huWA7azz",
    "outputId": "33d297bd-9c5a-4e26-b477-f9d499f7f62f"
   },
   "outputs": [
    {
     "data": {
      "text/plain": [
       "[(0, 0, 0), (0, 0, 2), (0, 0, 2), (0, 0, 1)]"
      ]
     },
     "execution_count": 27,
     "metadata": {
      "tags": []
     },
     "output_type": "execute_result"
    }
   ],
   "source": [
    "pq"
   ]
  },
  {
   "cell_type": "code",
   "execution_count": null,
   "metadata": {
    "colab": {
     "base_uri": "https://localhost:8080/"
    },
    "id": "eAh4C4qc7azz",
    "outputId": "2b0ea993-e04c-4848-b367-59bccc30b409"
   },
   "outputs": [
    {
     "name": "stdout",
     "output_type": "stream",
     "text": [
      "Grid Search Started\n",
      " Running for (0, 0, 2)\n",
      " Running for (0, 0, 2)\n",
      " Running for (0, 0, 1)\n",
      " Total time taken to complete grid search in seconds: 25.104957567000383\n"
     ]
    }
   ],
   "source": [
    "\n",
    "df_results = pd.DataFrame(columns=['p', 'q','RMSE Open','RMSE High','RMSE Low','RMSE Close'])\n",
    "print('Grid Search Started')\n",
    "start = timer()\n",
    "for i in pq:\n",
    "    if i[0]== 0 and i[2] ==0:\n",
    "        pass\n",
    "    else:\n",
    "        print(f' Running for {i}')\n",
    "        model = VARMAX(train_diff[[ 'Open', 'High', 'Low', 'Close'   ]], order=(i[0],i[2])).fit( disp=False)\n",
    "        result = model.forecast(steps = 30)\n",
    "        inv_res = inverse_diff(df2[[ 'Open', 'High', 'Low', 'Close'   ]] , result)\n",
    "        Opensrmse = np.sqrt(metrics.mean_squared_error(test['Open'], inv_res.Open_1st_inv_diff))\n",
    "        Highrmse = np.sqrt(metrics.mean_squared_error(test['High'], inv_res.High_1st_inv_diff))\n",
    "        Lowrmse = np.sqrt(metrics.mean_squared_error(test['Low'], inv_res.Low_1st_inv_diff))\n",
    "        Closermse = np.sqrt(metrics.mean_squared_error(test['Close'], inv_res.Close_1st_inv_diff))\n",
    "        df_results = df_results.append({'p': i[0], 'q': i[2], 'RMSE Open':Opensrmse,'RMSE High':Highrmse,'RMSE Low':Lowrmse,'RMSE Close':Closermse }, ignore_index=True)\n",
    "end = timer()\n",
    "print(f' Total time taken to complete grid search in seconds: {(end - start)}')"
   ]
  },
  {
   "cell_type": "code",
   "execution_count": null,
   "metadata": {
    "colab": {
     "base_uri": "https://localhost:8080/",
     "height": 142
    },
    "id": "jXN_80bA7az0",
    "outputId": "65e95e87-2140-4813-cfff-cdc54aa9c591"
   },
   "outputs": [
    {
     "data": {
      "text/html": [
       "<div>\n",
       "<style scoped>\n",
       "    .dataframe tbody tr th:only-of-type {\n",
       "        vertical-align: middle;\n",
       "    }\n",
       "\n",
       "    .dataframe tbody tr th {\n",
       "        vertical-align: top;\n",
       "    }\n",
       "\n",
       "    .dataframe thead th {\n",
       "        text-align: right;\n",
       "    }\n",
       "</style>\n",
       "<table border=\"1\" class=\"dataframe\">\n",
       "  <thead>\n",
       "    <tr style=\"text-align: right;\">\n",
       "      <th></th>\n",
       "      <th>p</th>\n",
       "      <th>q</th>\n",
       "      <th>RMSE Open</th>\n",
       "      <th>RMSE High</th>\n",
       "      <th>RMSE Low</th>\n",
       "      <th>RMSE Close</th>\n",
       "    </tr>\n",
       "  </thead>\n",
       "  <tbody>\n",
       "    <tr>\n",
       "      <th>0</th>\n",
       "      <td>0.0</td>\n",
       "      <td>2.0</td>\n",
       "      <td>263.292055</td>\n",
       "      <td>190.769946</td>\n",
       "      <td>286.703322</td>\n",
       "      <td>319.011671</td>\n",
       "    </tr>\n",
       "    <tr>\n",
       "      <th>1</th>\n",
       "      <td>0.0</td>\n",
       "      <td>2.0</td>\n",
       "      <td>263.292055</td>\n",
       "      <td>190.769946</td>\n",
       "      <td>286.703322</td>\n",
       "      <td>319.011671</td>\n",
       "    </tr>\n",
       "    <tr>\n",
       "      <th>2</th>\n",
       "      <td>0.0</td>\n",
       "      <td>1.0</td>\n",
       "      <td>314.116822</td>\n",
       "      <td>209.738485</td>\n",
       "      <td>336.623834</td>\n",
       "      <td>345.694531</td>\n",
       "    </tr>\n",
       "  </tbody>\n",
       "</table>\n",
       "</div>"
      ],
      "text/plain": [
       "     p    q   RMSE Open   RMSE High    RMSE Low  RMSE Close\n",
       "0  0.0  2.0  263.292055  190.769946  286.703322  319.011671\n",
       "1  0.0  2.0  263.292055  190.769946  286.703322  319.011671\n",
       "2  0.0  1.0  314.116822  209.738485  336.623834  345.694531"
      ]
     },
     "execution_count": 30,
     "metadata": {
      "tags": []
     },
     "output_type": "execute_result"
    }
   ],
   "source": [
    "df_results.sort_values(by = ['RMSE Open','RMSE High','RMSE Low','RMSE Close'] )"
   ]
  },
  {
   "cell_type": "markdown",
   "metadata": {
    "id": "OTt1xObx7az0"
   },
   "source": [
    "**We can Infere that p=0, q=2 are the optimal which provides an the least RMSE.**"
   ]
  },
  {
   "cell_type": "markdown",
   "metadata": {
    "id": "vpRumQXO7az0"
   },
   "source": [
    "**Model building - fit and forecast, the time series data:**\n"
   ]
  },
  {
   "cell_type": "code",
   "execution_count": null,
   "metadata": {
    "id": "BBf8O-k27az0"
   },
   "outputs": [],
   "source": [
    "# from above example we can see that p=0 and q=2 gives least RMSE\n",
    "model = VARMAX(train_diff[[ 'Open', 'High', 'Low', 'Close' ]], order=(0,2)).fit( disp=False)\n",
    "result = model.forecast(steps = 30)\n"
   ]
  },
  {
   "cell_type": "markdown",
   "metadata": {
    "id": "qTHzZjfC7az1"
   },
   "source": [
    "**let’s inverse the forecasted results, as shown here:**\n"
   ]
  },
  {
   "cell_type": "code",
   "execution_count": null,
   "metadata": {
    "id": "odMGUKkv7az1"
   },
   "outputs": [],
   "source": [
    "results = inverse_diff(df2[['Open', 'High', 'Low', 'Close' ]],result)"
   ]
  },
  {
   "cell_type": "code",
   "execution_count": null,
   "metadata": {
    "colab": {
     "base_uri": "https://localhost:8080/",
     "height": 979
    },
    "id": "OWWho_QX7az1",
    "outputId": "4b326d78-a9a5-4184-8e2e-a766fa11ce5d"
   },
   "outputs": [
    {
     "data": {
      "text/html": [
       "<div>\n",
       "<style scoped>\n",
       "    .dataframe tbody tr th:only-of-type {\n",
       "        vertical-align: middle;\n",
       "    }\n",
       "\n",
       "    .dataframe tbody tr th {\n",
       "        vertical-align: top;\n",
       "    }\n",
       "\n",
       "    .dataframe thead th {\n",
       "        text-align: right;\n",
       "    }\n",
       "</style>\n",
       "<table border=\"1\" class=\"dataframe\">\n",
       "  <thead>\n",
       "    <tr style=\"text-align: right;\">\n",
       "      <th></th>\n",
       "      <th>Open</th>\n",
       "      <th>High</th>\n",
       "      <th>Low</th>\n",
       "      <th>Close</th>\n",
       "      <th>Open_1st_inv_diff</th>\n",
       "      <th>High_1st_inv_diff</th>\n",
       "      <th>Low_1st_inv_diff</th>\n",
       "      <th>Close_1st_inv_diff</th>\n",
       "    </tr>\n",
       "  </thead>\n",
       "  <tbody>\n",
       "    <tr>\n",
       "      <th>231</th>\n",
       "      <td>-97.539406</td>\n",
       "      <td>-125.338014</td>\n",
       "      <td>-18.161534</td>\n",
       "      <td>-4.520417</td>\n",
       "      <td>19931.079735</td>\n",
       "      <td>19903.281127</td>\n",
       "      <td>19852.229091</td>\n",
       "      <td>19966.610442</td>\n",
       "    </tr>\n",
       "    <tr>\n",
       "      <th>232</th>\n",
       "      <td>-13.712003</td>\n",
       "      <td>-35.694011</td>\n",
       "      <td>-2.271214</td>\n",
       "      <td>-7.055839</td>\n",
       "      <td>19917.367733</td>\n",
       "      <td>19867.587116</td>\n",
       "      <td>19849.957876</td>\n",
       "      <td>19959.554603</td>\n",
       "    </tr>\n",
       "    <tr>\n",
       "      <th>233</th>\n",
       "      <td>15.363224</td>\n",
       "      <td>15.536692</td>\n",
       "      <td>16.851177</td>\n",
       "      <td>16.495423</td>\n",
       "      <td>19932.730957</td>\n",
       "      <td>19883.123807</td>\n",
       "      <td>19866.809054</td>\n",
       "      <td>19976.050026</td>\n",
       "    </tr>\n",
       "    <tr>\n",
       "      <th>234</th>\n",
       "      <td>15.363224</td>\n",
       "      <td>15.536692</td>\n",
       "      <td>16.851177</td>\n",
       "      <td>16.495423</td>\n",
       "      <td>19948.094181</td>\n",
       "      <td>19898.660499</td>\n",
       "      <td>19883.660231</td>\n",
       "      <td>19992.545449</td>\n",
       "    </tr>\n",
       "    <tr>\n",
       "      <th>235</th>\n",
       "      <td>15.363224</td>\n",
       "      <td>15.536692</td>\n",
       "      <td>16.851177</td>\n",
       "      <td>16.495423</td>\n",
       "      <td>19963.457406</td>\n",
       "      <td>19914.197190</td>\n",
       "      <td>19900.511408</td>\n",
       "      <td>20009.040871</td>\n",
       "    </tr>\n",
       "    <tr>\n",
       "      <th>236</th>\n",
       "      <td>15.363224</td>\n",
       "      <td>15.536692</td>\n",
       "      <td>16.851177</td>\n",
       "      <td>16.495423</td>\n",
       "      <td>19978.820630</td>\n",
       "      <td>19929.733882</td>\n",
       "      <td>19917.362586</td>\n",
       "      <td>20025.536294</td>\n",
       "    </tr>\n",
       "    <tr>\n",
       "      <th>237</th>\n",
       "      <td>15.363224</td>\n",
       "      <td>15.536692</td>\n",
       "      <td>16.851177</td>\n",
       "      <td>16.495423</td>\n",
       "      <td>19994.183854</td>\n",
       "      <td>19945.270573</td>\n",
       "      <td>19934.213763</td>\n",
       "      <td>20042.031716</td>\n",
       "    </tr>\n",
       "    <tr>\n",
       "      <th>238</th>\n",
       "      <td>15.363224</td>\n",
       "      <td>15.536692</td>\n",
       "      <td>16.851177</td>\n",
       "      <td>16.495423</td>\n",
       "      <td>20009.547078</td>\n",
       "      <td>19960.807265</td>\n",
       "      <td>19951.064940</td>\n",
       "      <td>20058.527139</td>\n",
       "    </tr>\n",
       "    <tr>\n",
       "      <th>239</th>\n",
       "      <td>15.363224</td>\n",
       "      <td>15.536692</td>\n",
       "      <td>16.851177</td>\n",
       "      <td>16.495423</td>\n",
       "      <td>20024.910303</td>\n",
       "      <td>19976.343956</td>\n",
       "      <td>19967.916118</td>\n",
       "      <td>20075.022562</td>\n",
       "    </tr>\n",
       "    <tr>\n",
       "      <th>240</th>\n",
       "      <td>15.363224</td>\n",
       "      <td>15.536692</td>\n",
       "      <td>16.851177</td>\n",
       "      <td>16.495423</td>\n",
       "      <td>20040.273527</td>\n",
       "      <td>19991.880648</td>\n",
       "      <td>19984.767295</td>\n",
       "      <td>20091.517984</td>\n",
       "    </tr>\n",
       "    <tr>\n",
       "      <th>241</th>\n",
       "      <td>15.363224</td>\n",
       "      <td>15.536692</td>\n",
       "      <td>16.851177</td>\n",
       "      <td>16.495423</td>\n",
       "      <td>20055.636751</td>\n",
       "      <td>20007.417339</td>\n",
       "      <td>20001.618472</td>\n",
       "      <td>20108.013407</td>\n",
       "    </tr>\n",
       "    <tr>\n",
       "      <th>242</th>\n",
       "      <td>15.363224</td>\n",
       "      <td>15.536692</td>\n",
       "      <td>16.851177</td>\n",
       "      <td>16.495423</td>\n",
       "      <td>20070.999975</td>\n",
       "      <td>20022.954031</td>\n",
       "      <td>20018.469650</td>\n",
       "      <td>20124.508829</td>\n",
       "    </tr>\n",
       "    <tr>\n",
       "      <th>243</th>\n",
       "      <td>15.363224</td>\n",
       "      <td>15.536692</td>\n",
       "      <td>16.851177</td>\n",
       "      <td>16.495423</td>\n",
       "      <td>20086.363200</td>\n",
       "      <td>20038.490722</td>\n",
       "      <td>20035.320827</td>\n",
       "      <td>20141.004252</td>\n",
       "    </tr>\n",
       "    <tr>\n",
       "      <th>244</th>\n",
       "      <td>15.363224</td>\n",
       "      <td>15.536692</td>\n",
       "      <td>16.851177</td>\n",
       "      <td>16.495423</td>\n",
       "      <td>20101.726424</td>\n",
       "      <td>20054.027414</td>\n",
       "      <td>20052.172004</td>\n",
       "      <td>20157.499675</td>\n",
       "    </tr>\n",
       "    <tr>\n",
       "      <th>245</th>\n",
       "      <td>15.363224</td>\n",
       "      <td>15.536692</td>\n",
       "      <td>16.851177</td>\n",
       "      <td>16.495423</td>\n",
       "      <td>20117.089648</td>\n",
       "      <td>20069.564105</td>\n",
       "      <td>20069.023182</td>\n",
       "      <td>20173.995097</td>\n",
       "    </tr>\n",
       "    <tr>\n",
       "      <th>246</th>\n",
       "      <td>15.363224</td>\n",
       "      <td>15.536692</td>\n",
       "      <td>16.851177</td>\n",
       "      <td>16.495423</td>\n",
       "      <td>20132.452873</td>\n",
       "      <td>20085.100797</td>\n",
       "      <td>20085.874359</td>\n",
       "      <td>20190.490520</td>\n",
       "    </tr>\n",
       "    <tr>\n",
       "      <th>247</th>\n",
       "      <td>15.363224</td>\n",
       "      <td>15.536692</td>\n",
       "      <td>16.851177</td>\n",
       "      <td>16.495423</td>\n",
       "      <td>20147.816097</td>\n",
       "      <td>20100.637489</td>\n",
       "      <td>20102.725536</td>\n",
       "      <td>20206.985942</td>\n",
       "    </tr>\n",
       "    <tr>\n",
       "      <th>248</th>\n",
       "      <td>15.363224</td>\n",
       "      <td>15.536692</td>\n",
       "      <td>16.851177</td>\n",
       "      <td>16.495423</td>\n",
       "      <td>20163.179321</td>\n",
       "      <td>20116.174180</td>\n",
       "      <td>20119.576714</td>\n",
       "      <td>20223.481365</td>\n",
       "    </tr>\n",
       "    <tr>\n",
       "      <th>249</th>\n",
       "      <td>15.363224</td>\n",
       "      <td>15.536692</td>\n",
       "      <td>16.851177</td>\n",
       "      <td>16.495423</td>\n",
       "      <td>20178.542545</td>\n",
       "      <td>20131.710872</td>\n",
       "      <td>20136.427891</td>\n",
       "      <td>20239.976787</td>\n",
       "    </tr>\n",
       "    <tr>\n",
       "      <th>250</th>\n",
       "      <td>15.363224</td>\n",
       "      <td>15.536692</td>\n",
       "      <td>16.851177</td>\n",
       "      <td>16.495423</td>\n",
       "      <td>20193.905770</td>\n",
       "      <td>20147.247563</td>\n",
       "      <td>20153.279068</td>\n",
       "      <td>20256.472210</td>\n",
       "    </tr>\n",
       "    <tr>\n",
       "      <th>251</th>\n",
       "      <td>15.363224</td>\n",
       "      <td>15.536692</td>\n",
       "      <td>16.851177</td>\n",
       "      <td>16.495423</td>\n",
       "      <td>20209.268994</td>\n",
       "      <td>20162.784255</td>\n",
       "      <td>20170.130246</td>\n",
       "      <td>20272.967633</td>\n",
       "    </tr>\n",
       "    <tr>\n",
       "      <th>252</th>\n",
       "      <td>15.363224</td>\n",
       "      <td>15.536692</td>\n",
       "      <td>16.851177</td>\n",
       "      <td>16.495423</td>\n",
       "      <td>20224.632218</td>\n",
       "      <td>20178.320946</td>\n",
       "      <td>20186.981423</td>\n",
       "      <td>20289.463055</td>\n",
       "    </tr>\n",
       "    <tr>\n",
       "      <th>253</th>\n",
       "      <td>15.363224</td>\n",
       "      <td>15.536692</td>\n",
       "      <td>16.851177</td>\n",
       "      <td>16.495423</td>\n",
       "      <td>20239.995442</td>\n",
       "      <td>20193.857638</td>\n",
       "      <td>20203.832600</td>\n",
       "      <td>20305.958478</td>\n",
       "    </tr>\n",
       "    <tr>\n",
       "      <th>254</th>\n",
       "      <td>15.363224</td>\n",
       "      <td>15.536692</td>\n",
       "      <td>16.851177</td>\n",
       "      <td>16.495423</td>\n",
       "      <td>20255.358667</td>\n",
       "      <td>20209.394329</td>\n",
       "      <td>20220.683778</td>\n",
       "      <td>20322.453900</td>\n",
       "    </tr>\n",
       "    <tr>\n",
       "      <th>255</th>\n",
       "      <td>15.363224</td>\n",
       "      <td>15.536692</td>\n",
       "      <td>16.851177</td>\n",
       "      <td>16.495423</td>\n",
       "      <td>20270.721891</td>\n",
       "      <td>20224.931021</td>\n",
       "      <td>20237.534955</td>\n",
       "      <td>20338.949323</td>\n",
       "    </tr>\n",
       "    <tr>\n",
       "      <th>256</th>\n",
       "      <td>15.363224</td>\n",
       "      <td>15.536692</td>\n",
       "      <td>16.851177</td>\n",
       "      <td>16.495423</td>\n",
       "      <td>20286.085115</td>\n",
       "      <td>20240.467712</td>\n",
       "      <td>20254.386132</td>\n",
       "      <td>20355.444746</td>\n",
       "    </tr>\n",
       "    <tr>\n",
       "      <th>257</th>\n",
       "      <td>15.363224</td>\n",
       "      <td>15.536692</td>\n",
       "      <td>16.851177</td>\n",
       "      <td>16.495423</td>\n",
       "      <td>20301.448339</td>\n",
       "      <td>20256.004404</td>\n",
       "      <td>20271.237310</td>\n",
       "      <td>20371.940168</td>\n",
       "    </tr>\n",
       "    <tr>\n",
       "      <th>258</th>\n",
       "      <td>15.363224</td>\n",
       "      <td>15.536692</td>\n",
       "      <td>16.851177</td>\n",
       "      <td>16.495423</td>\n",
       "      <td>20316.811564</td>\n",
       "      <td>20271.541095</td>\n",
       "      <td>20288.088487</td>\n",
       "      <td>20388.435591</td>\n",
       "    </tr>\n",
       "    <tr>\n",
       "      <th>259</th>\n",
       "      <td>15.363224</td>\n",
       "      <td>15.536692</td>\n",
       "      <td>16.851177</td>\n",
       "      <td>16.495423</td>\n",
       "      <td>20332.174788</td>\n",
       "      <td>20287.077787</td>\n",
       "      <td>20304.939664</td>\n",
       "      <td>20404.931013</td>\n",
       "    </tr>\n",
       "    <tr>\n",
       "      <th>260</th>\n",
       "      <td>15.363224</td>\n",
       "      <td>15.536692</td>\n",
       "      <td>16.851177</td>\n",
       "      <td>16.495423</td>\n",
       "      <td>20347.538012</td>\n",
       "      <td>20302.614478</td>\n",
       "      <td>20321.790842</td>\n",
       "      <td>20421.426436</td>\n",
       "    </tr>\n",
       "  </tbody>\n",
       "</table>\n",
       "</div>"
      ],
      "text/plain": [
       "          Open        High  ...  Low_1st_inv_diff  Close_1st_inv_diff\n",
       "231 -97.539406 -125.338014  ...      19852.229091        19966.610442\n",
       "232 -13.712003  -35.694011  ...      19849.957876        19959.554603\n",
       "233  15.363224   15.536692  ...      19866.809054        19976.050026\n",
       "234  15.363224   15.536692  ...      19883.660231        19992.545449\n",
       "235  15.363224   15.536692  ...      19900.511408        20009.040871\n",
       "236  15.363224   15.536692  ...      19917.362586        20025.536294\n",
       "237  15.363224   15.536692  ...      19934.213763        20042.031716\n",
       "238  15.363224   15.536692  ...      19951.064940        20058.527139\n",
       "239  15.363224   15.536692  ...      19967.916118        20075.022562\n",
       "240  15.363224   15.536692  ...      19984.767295        20091.517984\n",
       "241  15.363224   15.536692  ...      20001.618472        20108.013407\n",
       "242  15.363224   15.536692  ...      20018.469650        20124.508829\n",
       "243  15.363224   15.536692  ...      20035.320827        20141.004252\n",
       "244  15.363224   15.536692  ...      20052.172004        20157.499675\n",
       "245  15.363224   15.536692  ...      20069.023182        20173.995097\n",
       "246  15.363224   15.536692  ...      20085.874359        20190.490520\n",
       "247  15.363224   15.536692  ...      20102.725536        20206.985942\n",
       "248  15.363224   15.536692  ...      20119.576714        20223.481365\n",
       "249  15.363224   15.536692  ...      20136.427891        20239.976787\n",
       "250  15.363224   15.536692  ...      20153.279068        20256.472210\n",
       "251  15.363224   15.536692  ...      20170.130246        20272.967633\n",
       "252  15.363224   15.536692  ...      20186.981423        20289.463055\n",
       "253  15.363224   15.536692  ...      20203.832600        20305.958478\n",
       "254  15.363224   15.536692  ...      20220.683778        20322.453900\n",
       "255  15.363224   15.536692  ...      20237.534955        20338.949323\n",
       "256  15.363224   15.536692  ...      20254.386132        20355.444746\n",
       "257  15.363224   15.536692  ...      20271.237310        20371.940168\n",
       "258  15.363224   15.536692  ...      20288.088487        20388.435591\n",
       "259  15.363224   15.536692  ...      20304.939664        20404.931013\n",
       "260  15.363224   15.536692  ...      20321.790842        20421.426436\n",
       "\n",
       "[30 rows x 8 columns]"
      ]
     },
     "execution_count": 37,
     "metadata": {
      "tags": []
     },
     "output_type": "execute_result"
    }
   ],
   "source": [
    "results"
   ]
  },
  {
   "cell_type": "markdown",
   "metadata": {
    "id": "NBZq5JG07az1"
   },
   "source": [
    "**Let's Evaluate the results individually,and infere from the output**\n"
   ]
  },
  {
   "cell_type": "code",
   "execution_count": null,
   "metadata": {
    "colab": {
     "base_uri": "https://localhost:8080/"
    },
    "id": "O8tq-3Rv7az2",
    "outputId": "10bf54af-94ea-4960-f83e-cda940c0f035"
   },
   "outputs": [
    {
     "name": "stdout",
     "output_type": "stream",
     "text": [
      "Evaluation metric for Open\n",
      "Evaluation metric results:-\n",
      "MSE is : 69322.70648306681\n",
      "MAE is : 224.24223243977565\n",
      "RMSE is : 263.2920554879444\n",
      "MAPE is : 1.1277702479939442\n",
      "R2 is : -10.34006693369997\n",
      "\n",
      "Evaluation metric for High\n",
      "Evaluation metric results:-\n",
      "MSE is : 36393.17247139601\n",
      "MAE is : 152.9002013818139\n",
      "RMSE is : 190.7699464574963\n",
      "MAPE is : 0.7673581832223293\n",
      "R2 is : -5.539038158041874\n",
      "\n",
      "Evaluation metric for Low\n",
      "Evaluation metric results:-\n",
      "MSE is : 82198.79470416254\n",
      "MAE is : 238.7760429063243\n",
      "RMSE is : 286.70332175292725\n",
      "MAPE is : 1.2050807754416397\n",
      "R2 is : -8.625550649982372\n",
      "\n",
      "Evaluation metric for Close\n",
      "Evaluation metric results:-\n",
      "MSE is : 101768.44638431296\n",
      "MAE is : 282.75981653930563\n",
      "RMSE is : 319.011671235259\n",
      "MAPE is : 1.4221000273357538\n",
      "R2 is : -12.43348780600549\n",
      "\n"
     ]
    }
   ],
   "source": [
    "for i in ['Open', 'High', 'Low', 'Close' ]:\n",
    "    print(f'Evaluation metric for {i}')\n",
    "    timeseries_evaluation_metrics_func(test[str(i)] , results[str(i)+'_1st_inv_diff'])"
   ]
  },
  {
   "cell_type": "markdown",
   "metadata": {
    "id": "x3bzgNPN7az2"
   },
   "source": [
    "**Visualize the results and infere from plots:**"
   ]
  },
  {
   "cell_type": "code",
   "execution_count": null,
   "metadata": {
    "colab": {
     "base_uri": "https://localhost:8080/",
     "height": 1000
    },
    "id": "Mw_M5Eyr7az2",
    "outputId": "8848737e-ee94-4de4-a7b0-ed1ed5902aa4"
   },
   "outputs": [
    {
     "data": {
      "image/png": "[encoded data removed]",
      "text/plain": [
       "<Figure size 720x504 with 1 Axes>"
      ]
     },
     "metadata": {
      "needs_background": "light",
      "tags": []
     },
     "output_type": "display_data"
    },
    {
     "data": {
      "image/png": "[encoded data removed]",
      "text/plain": [
       "<Figure size 720x504 with 1 Axes>"
      ]
     },
     "metadata": {
      "needs_background": "light",
      "tags": []
     },
     "output_type": "display_data"
    },
    {
     "data": {
      "image/png": "[encoded data removed]",
      "text/plain": [
       "<Figure size 720x504 with 1 Axes>"
      ]
     },
     "metadata": {
      "needs_background": "light",
      "tags": []
     },
     "output_type": "display_data"
    },
    {
     "data": {
      "image/png": "[encoded data removed]",
      "text/plain": [
       "<Figure size 720x504 with 1 Axes>"
      ]
     },
     "metadata": {
      "needs_background": "light",
      "tags": []
     },
     "output_type": "display_data"
    }
   ],
   "source": [
    "import matplotlib.pyplot as plt\n",
    "%matplotlib inline\n",
    "for i in ['Open', 'High', 'Low', 'Close' ]:\n",
    "    \n",
    "    plt.rcParams[\"figure.figsize\"] = [10,7]\n",
    "    plt.plot( train[str(i)], label='Train '+str(i))\n",
    "    plt.plot(test[str(i)], label='Test '+str(i))\n",
    "    plt.plot(results[str(i)+'_1st_inv_diff'], label='Predicted '+str(i))\n",
    "    plt.legend(loc='best')\n",
    "    plt.show()"
   ]
  },
  {
   "cell_type": "code",
   "execution_count": null,
   "metadata": {
    "id": "-KOvpDdh7az3"
   },
   "outputs": [],
   "source": []
  },
  {
   "cell_type": "code",
   "execution_count": null,
   "metadata": {
    "id": "k4KXy6TG7az3"
   },
   "outputs": [],
   "source": []
  },
  {
   "cell_type": "code",
   "execution_count": null,
   "metadata": {
    "id": "sqAEnUoc7az3"
   },
   "outputs": [],
   "source": []
  },
  {
   "cell_type": "markdown",
   "metadata": {
    "id": "rbAiT__Z0Oll"
   },
   "source": [
    "# END"
   ]
  }
 ],
 "metadata": {
  "colab": {
   "collapsed_sections": [
    "FbLw64QE0Olh",
    "FB3Xv04J0Oli",
    "VT9JMEMK0Oli",
    "rbAiT__Z0Oll"
   ],
   "name": "S5_Faculty_Notebook.ipynb",
   "provenance": []
  },
  "kernelspec": {
   "display_name": "Python 3 (ipykernel)",
   "language": "python",
   "name": "python3"
  },
  "language_info": {
   "codemirror_mode": {
    "name": "ipython",
    "version": 3
   },
   "file_extension": ".py",
   "mimetype": "text/x-python",
   "name": "python",
   "nbconvert_exporter": "python",
   "pygments_lexer": "ipython3",
   "version": "3.10.9"
  },
  "toc": {
   "base_numbering": 1,
   "nav_menu": {},
   "number_sections": true,
   "sideBar": true,
   "skip_h1_title": false,
   "title_cell": "Table of Contents",
   "title_sidebar": "Contents",
   "toc_cell": false,
   "toc_position": {},
   "toc_section_display": true,
   "toc_window_display": false
  },
  "varInspector": {
   "cols": {
    "lenName": 16,
    "lenType": 16,
    "lenVar": 40
   },
   "kernels_config": {
    "python": {
     "delete_cmd_postfix": "",
     "delete_cmd_prefix": "del ",
     "library": "var_list.py",
     "varRefreshCmd": "print(var_dic_list())"
    },
    "r": {
     "delete_cmd_postfix": ") ",
     "delete_cmd_prefix": "rm(",
     "library": "var_list.r",
     "varRefreshCmd": "cat(var_dic_list()) "
    }
   },
   "types_to_exclude": [
    "module",
    "function",
    "builtin_function_or_method",
    "instance",
    "_Feature"
   ],
   "window_display": false
  }
 },
 "nbformat": 4,
 "nbformat_minor": 1
}
