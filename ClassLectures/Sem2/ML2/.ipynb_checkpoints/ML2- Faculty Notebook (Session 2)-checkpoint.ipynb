{
 "cells": [
  {
   "cell_type": "markdown",
   "metadata": {},
   "source": [
    "<table align=\"left\" width=100%>\n",
    "    <tr>\n",
    "        <td width=\"20%\">\n",
    "            <img src=\"faculty.png\">\n",
    "        </td>\n",
    "        <td>\n",
    "            <div align=\"center\">\n",
    "                <font color=\"#21618C\" size=8px>\n",
    "                  <b> Faculty Notebook <br> (Session 2) </b>\n",
    "                </font>\n",
    "            </div>\n",
    "        </td>\n",
    "    </tr>\n",
    "</table>"
   ]
  },
  {
   "cell_type": "markdown",
   "metadata": {},
   "source": [
    "## Problem Statement\n",
    "\n",
    "This dataset is created for the prediction of Graduate admissions from an Indian perspective. The dataset contains various features that are important during the application for the Master's Program. The predicted output obtained from the classification algorithm gives a fair idea about the chances of a student for admission."
   ]
  },
  {
   "cell_type": "markdown",
   "metadata": {},
   "source": [
    "## About the dataset (Graduate admissions prediction data)\n",
    "\n",
    "**Serial No.:** Serial number of student \n",
    "\n",
    "**GRE Scores:** GRE score (out of 340)\n",
    "\n",
    "**TOEFL Scores:** TOEFL score (out of 120)\n",
    "\n",
    "**University Rating:** University rating (out of 5)\n",
    "\n",
    "**SOP:** Strength of Statement of Purpose (out of 5)\n",
    "\n",
    "**LOR:** Strength of Letter of Recommendation (out of 5)\n",
    "\n",
    "**CGPA:** Undergraduate CGPA (out of 10)\n",
    "\n",
    "**Research:** Research experience (either 0 or 1)\n",
    "\n",
    "**Chance of Admit:** Chance of admission (target/dependent variable)"
   ]
  },
  {
   "cell_type": "markdown",
   "metadata": {},
   "source": [
    "## Table of Content\n",
    "\n",
    "1. **[Import Libraries](#lib)**\n",
    "2. **[Data Preparation](#prep)**\n",
    "    - 2.1 - **[Read the Data](#read)**\n",
    "    - 2.2 - **[Check the Data Type](#dtype)**\n",
    "    - 2.3 - **[Remove Insignificant Variables](#drop)**\n",
    "    - 2.4 - **[Distribution of Variables](#dist)**\n",
    "    - 2.5 - **[Missing Value Treatment](#null)**\n",
    "    - 2.6 - **[Dummy Encode the Categorical Variables](#dummy)**\n",
    "    - 2.7 - **[Scale the Data](#scale)**\n",
    "    - 2.8 - **[Train-Test Split](#split)**\n",
    "3. **[Logistic Regression (Full Model)](#logit)**\n",
    "    - 3.1 - **[Identify the Best Cut-off Value](#cut_off)**\n",
    "        - 3.1.1 - **[Youden's Index](#youden)**\n",
    "        - 3.1.2 - **[Cost-based Method](#cost)**\n",
    "4. **[Recursive Feature Elimination (RFE)](#rfe)**"
   ]
  },
  {
   "cell_type": "markdown",
   "metadata": {},
   "source": [
    "<a id=\"lib\"></a>\n",
    "# 1. Import Libraries"
   ]
  },
  {
   "cell_type": "markdown",
   "metadata": {},
   "source": [
    "**Let us import the required libraries.**"
   ]
  },
  {
   "cell_type": "code",
   "execution_count": 1,
   "metadata": {},
   "outputs": [],
   "source": [
    "# import 'Pandas' \n",
    "import pandas as pd \n",
    "\n",
    "# import 'Numpy' \n",
    "import numpy as np\n",
    "\n",
    "# import subpackage of Matplotlib\n",
    "import matplotlib.pyplot as plt\n",
    "from matplotlib.colors import ListedColormap\n",
    "\n",
    "# import 'Seaborn' \n",
    "import seaborn as sns\n",
    "\n",
    "# to suppress warnings \n",
    "from warnings import filterwarnings\n",
    "filterwarnings('ignore')\n",
    "\n",
    "# display all columns of the dataframe\n",
    "pd.options.display.max_columns = None\n",
    "\n",
    "# display all rows of the dataframe\n",
    "pd.options.display.max_rows = None\n",
    " \n",
    "# to display the float values upto 6 decimal places     \n",
    "pd.options.display.float_format = '{:.6f}'.format\n",
    "\n",
    "# import train-test split \n",
    "from sklearn.model_selection import train_test_split\n",
    "\n",
    "# import various functions from statsmodels\n",
    "import statsmodels\n",
    "import statsmodels.api as sm\n",
    "\n",
    "# import StandardScaler to perform scaling\n",
    "from sklearn.preprocessing import StandardScaler \n",
    "\n",
    "# import various functions from sklearn \n",
    "from sklearn import metrics\n",
    "from sklearn.linear_model import LogisticRegression\n",
    "from sklearn.metrics import classification_report\n",
    "from sklearn.metrics import cohen_kappa_score\n",
    "from sklearn.metrics import confusion_matrix\n",
    "from sklearn.metrics import roc_curve\n",
    "from sklearn.metrics import accuracy_score\n",
    "\n",
    "# import function to perform feature selection\n",
    "from sklearn.feature_selection import RFE"
   ]
  },
  {
   "cell_type": "code",
   "execution_count": 2,
   "metadata": {},
   "outputs": [],
   "source": [
    "# set the plot size using 'rcParams'\n",
    "# once the plot size is set using 'rcParams', it sets the size of all the forthcoming plots in the file\n",
    "# pass width and height in inches to 'figure.figsize' \n",
    "plt.rcParams['figure.figsize'] = [15,8]"
   ]
  },
  {
   "cell_type": "markdown",
   "metadata": {},
   "source": [
    "<a id=\"prep\"></a>\n",
    "# 2. Data Preparation"
   ]
  },
  {
   "cell_type": "markdown",
   "metadata": {},
   "source": [
    "<a id=\"read\"></a>\n",
    "## 2.1 Read the Data"
   ]
  },
  {
   "cell_type": "markdown",
   "metadata": {},
   "source": [
    "#### Read the dataset and print the first five observations."
   ]
  },
  {
   "cell_type": "code",
   "execution_count": 3,
   "metadata": {
    "scrolled": false
   },
   "outputs": [
    {
     "data": {
      "text/html": [
       "<div>\n",
       "<style scoped>\n",
       "    .dataframe tbody tr th:only-of-type {\n",
       "        vertical-align: middle;\n",
       "    }\n",
       "\n",
       "    .dataframe tbody tr th {\n",
       "        vertical-align: top;\n",
       "    }\n",
       "\n",
       "    .dataframe thead th {\n",
       "        text-align: right;\n",
       "    }\n",
       "</style>\n",
       "<table border=\"1\" class=\"dataframe\">\n",
       "  <thead>\n",
       "    <tr style=\"text-align: right;\">\n",
       "      <th></th>\n",
       "      <th>Serial No.</th>\n",
       "      <th>GRE Score</th>\n",
       "      <th>TOEFL Score</th>\n",
       "      <th>University Rating</th>\n",
       "      <th>SOP</th>\n",
       "      <th>LOR</th>\n",
       "      <th>CGPA</th>\n",
       "      <th>Research</th>\n",
       "      <th>Chance of Admit</th>\n",
       "    </tr>\n",
       "  </thead>\n",
       "  <tbody>\n",
       "    <tr>\n",
       "      <td>0</td>\n",
       "      <td>1</td>\n",
       "      <td>337</td>\n",
       "      <td>118</td>\n",
       "      <td>4</td>\n",
       "      <td>4.500000</td>\n",
       "      <td>4.500000</td>\n",
       "      <td>9.650000</td>\n",
       "      <td>1</td>\n",
       "      <td>1</td>\n",
       "    </tr>\n",
       "    <tr>\n",
       "      <td>1</td>\n",
       "      <td>2</td>\n",
       "      <td>324</td>\n",
       "      <td>107</td>\n",
       "      <td>4</td>\n",
       "      <td>4.000000</td>\n",
       "      <td>4.500000</td>\n",
       "      <td>8.870000</td>\n",
       "      <td>1</td>\n",
       "      <td>1</td>\n",
       "    </tr>\n",
       "    <tr>\n",
       "      <td>2</td>\n",
       "      <td>3</td>\n",
       "      <td>316</td>\n",
       "      <td>104</td>\n",
       "      <td>3</td>\n",
       "      <td>3.000000</td>\n",
       "      <td>3.500000</td>\n",
       "      <td>8.000000</td>\n",
       "      <td>1</td>\n",
       "      <td>0</td>\n",
       "    </tr>\n",
       "    <tr>\n",
       "      <td>3</td>\n",
       "      <td>4</td>\n",
       "      <td>322</td>\n",
       "      <td>110</td>\n",
       "      <td>3</td>\n",
       "      <td>3.500000</td>\n",
       "      <td>2.500000</td>\n",
       "      <td>8.670000</td>\n",
       "      <td>1</td>\n",
       "      <td>1</td>\n",
       "    </tr>\n",
       "    <tr>\n",
       "      <td>4</td>\n",
       "      <td>5</td>\n",
       "      <td>314</td>\n",
       "      <td>103</td>\n",
       "      <td>2</td>\n",
       "      <td>2.000000</td>\n",
       "      <td>3.000000</td>\n",
       "      <td>8.210000</td>\n",
       "      <td>0</td>\n",
       "      <td>0</td>\n",
       "    </tr>\n",
       "  </tbody>\n",
       "</table>\n",
       "</div>"
      ],
      "text/plain": [
       "   Serial No.  GRE Score  TOEFL Score  University Rating      SOP      LOR  \\\n",
       "0           1        337          118                  4 4.500000 4.500000   \n",
       "1           2        324          107                  4 4.000000 4.500000   \n",
       "2           3        316          104                  3 3.000000 3.500000   \n",
       "3           4        322          110                  3 3.500000 2.500000   \n",
       "4           5        314          103                  2 2.000000 3.000000   \n",
       "\n",
       "      CGPA  Research  Chance of Admit  \n",
       "0 9.650000         1                1  \n",
       "1 8.870000         1                1  \n",
       "2 8.000000         1                0  \n",
       "3 8.670000         1                1  \n",
       "4 8.210000         0                0  "
      ]
     },
     "execution_count": 3,
     "metadata": {},
     "output_type": "execute_result"
    }
   ],
   "source": [
    "# load the csv file\n",
    "# store the data in 'df_admissions'\n",
    "df_admissions = pd.read_csv('Admission_predict-1.csv')\n",
    "\n",
    "# display first five observations using head()\n",
    "df_admissions.head()"
   ]
  },
  {
   "cell_type": "markdown",
   "metadata": {},
   "source": [
    "**Let us now see the number of variables and observations in the data.**"
   ]
  },
  {
   "cell_type": "code",
   "execution_count": 4,
   "metadata": {},
   "outputs": [
    {
     "data": {
      "text/plain": [
       "(400, 9)"
      ]
     },
     "execution_count": 4,
     "metadata": {},
     "output_type": "execute_result"
    }
   ],
   "source": [
    "# use 'shape' to check the dimension of data\n",
    "df_admissions.shape"
   ]
  },
  {
   "cell_type": "markdown",
   "metadata": {},
   "source": [
    "**Interpretation:** The data has 400 observations and 9 variables."
   ]
  },
  {
   "cell_type": "markdown",
   "metadata": {},
   "source": [
    "<a id=\"dtype\"></a>\n",
    "## 2.2 Check the Data Type"
   ]
  },
  {
   "cell_type": "markdown",
   "metadata": {},
   "source": [
    "**Check the data type of each variable. If the data type is not as per the data definition, change the data type.**"
   ]
  },
  {
   "cell_type": "code",
   "execution_count": 5,
   "metadata": {
    "scrolled": false
   },
   "outputs": [
    {
     "data": {
      "text/plain": [
       "Serial No.             int64\n",
       "GRE Score              int64\n",
       "TOEFL Score            int64\n",
       "University Rating      int64\n",
       "SOP                  float64\n",
       "LOR                  float64\n",
       "CGPA                 float64\n",
       "Research               int64\n",
       "Chance of Admit        int64\n",
       "dtype: object"
      ]
     },
     "execution_count": 5,
     "metadata": {},
     "output_type": "execute_result"
    }
   ],
   "source": [
    "# use 'dtypes' to check the data type of a variable\n",
    "df_admissions.dtypes"
   ]
  },
  {
   "cell_type": "markdown",
   "metadata": {},
   "source": [
    "**Interpretation:** The variables `GRE Score`, `TOEFL Score`, `University Rating`, `SOP`, `LOR` and `CGPA` are numerical.\n",
    "\n",
    "From the above output, we see that the data type of `Research` is 'int64'.\n",
    "\n",
    "But according to the data definition, `Research` is a categorical variable, which is wrongly interpreted as 'int64', so we will convert these variables data type to 'object'."
   ]
  },
  {
   "cell_type": "markdown",
   "metadata": {},
   "source": [
    "#### Change the data type as per the data definition."
   ]
  },
  {
   "cell_type": "code",
   "execution_count": 6,
   "metadata": {},
   "outputs": [],
   "source": [
    "# convert numerical variables to categorical (object) \n",
    "# use astype() to change the data type\n",
    "\n",
    "# change the data type of 'Research'\n",
    "df_admissions['Research'] = df_admissions['Research'].astype(object)"
   ]
  },
  {
   "cell_type": "markdown",
   "metadata": {},
   "source": [
    "#### Recheck the data type after the conversion. "
   ]
  },
  {
   "cell_type": "code",
   "execution_count": 7,
   "metadata": {},
   "outputs": [
    {
     "data": {
      "text/plain": [
       "Serial No.             int64\n",
       "GRE Score              int64\n",
       "TOEFL Score            int64\n",
       "University Rating      int64\n",
       "SOP                  float64\n",
       "LOR                  float64\n",
       "CGPA                 float64\n",
       "Research              object\n",
       "Chance of Admit        int64\n",
       "dtype: object"
      ]
     },
     "execution_count": 7,
     "metadata": {},
     "output_type": "execute_result"
    }
   ],
   "source": [
    "# recheck the data types using 'dtypes'\n",
    "df_admissions.dtypes"
   ]
  },
  {
   "cell_type": "markdown",
   "metadata": {},
   "source": [
    "**Interpretation:** Now, all the variables have the correct data type."
   ]
  },
  {
   "cell_type": "markdown",
   "metadata": {},
   "source": [
    "<a id=\"drop\"></a>\n",
    "## 2.3 Remove Insignificant Variables"
   ]
  },
  {
   "cell_type": "markdown",
   "metadata": {},
   "source": [
    "The column `Serial No.` contains the serial number of the student, which is redundant for further analysis. Thus, we drop the column."
   ]
  },
  {
   "cell_type": "code",
   "execution_count": 8,
   "metadata": {},
   "outputs": [],
   "source": [
    "# drop the column 'Serial No.' using drop()\n",
    "# 'axis = 1' drops the specified column\n",
    "df_admissions = df_admissions.drop('Serial No.', axis = 1)"
   ]
  },
  {
   "cell_type": "markdown",
   "metadata": {},
   "source": [
    "<a id=\"dist\"></a>\n",
    "## 2.4 Distribution of Variables"
   ]
  },
  {
   "cell_type": "markdown",
   "metadata": {},
   "source": [
    "**Distribution of numeric independent variables.**"
   ]
  },
  {
   "cell_type": "code",
   "execution_count": 9,
   "metadata": {},
   "outputs": [
    {
     "data": {
      "image/png": "[encoded data removed]",
      "text/plain": [
       "<Figure size 1080x576 with 6 Axes>"
      ]
     },
     "metadata": {
      "needs_background": "light"
     },
     "output_type": "display_data"
    },
    {
     "name": "stdout",
     "output_type": "stream",
     "text": [
      "Skewness:\n"
     ]
    },
    {
     "data": {
      "text/plain": [
       "GRE Score           -0.062893\n",
       "TOEFL Score          0.057216\n",
       "University Rating    0.171260\n",
       "SOP                 -0.275761\n",
       "LOR                 -0.106991\n",
       "CGPA                -0.065991\n",
       "Research            -0.191582\n",
       "dtype: float64"
      ]
     },
     "execution_count": 9,
     "metadata": {},
     "output_type": "execute_result"
    }
   ],
   "source": [
    "# for the independent numeric variables, we plot the histogram to check the distribution of the variables\n",
    "# Note: the hist() function considers the numeric variables only, by default\n",
    "# we drop the target variable using drop()\n",
    "# 'axis=1' drops the specified column\n",
    "df_admissions.drop('Chance of Admit', axis = 1).hist()\n",
    "\n",
    "# adjust the subplots\n",
    "plt.tight_layout()\n",
    "\n",
    "# display the plot\n",
    "plt.show()  \n",
    "\n",
    "# print the skewness for each numeric independent variable\n",
    "print('Skewness:')\n",
    "# we drop the target variable using drop()\n",
    "# 'axis=1' drops the specified column\n",
    "# skew() returns the coefficient of skewness for each variable\n",
    "df_admissions.drop('Chance of Admit', axis = 1).skew()"
   ]
  },
  {
   "cell_type": "markdown",
   "metadata": {},
   "source": [
    "**Interpretation:** The above plot indicates that all the variables are near normally distributed."
   ]
  },
  {
   "cell_type": "markdown",
   "metadata": {},
   "source": [
    "**Distribution of categoric independent variable.**"
   ]
  },
  {
   "cell_type": "code",
   "execution_count": 10,
   "metadata": {},
   "outputs": [
    {
     "data": {
      "image/png": "[encoded data removed]",
      "text/plain": [
       "<Figure size 1080x576 with 1 Axes>"
      ]
     },
     "metadata": {
      "needs_background": "light"
     },
     "output_type": "display_data"
    }
   ],
   "source": [
    "# for the independent categoric variable, we plot the count plot to check the distribution of the variable 'Research'\n",
    "# use countplot() to plot the count of each label in the categorical variable \n",
    "sns.countplot(df_admissions.Research)\n",
    "\n",
    "# add plot and axes labels\n",
    "# set text size using 'fontsize'\n",
    "plt.title('Count Plot for Categorical Variable (Research)', fontsize = 15)\n",
    "plt.xlabel('Research', fontsize = 15)\n",
    "plt.ylabel('Count', fontsize = 15)\n",
    "\n",
    "# display the plot\n",
    "plt.show()"
   ]
  },
  {
   "cell_type": "markdown",
   "metadata": {},
   "source": [
    "#### Distribution of dependent variable."
   ]
  },
  {
   "cell_type": "code",
   "execution_count": 11,
   "metadata": {},
   "outputs": [
    {
     "data": {
      "image/png": "[encoded data removed]",
      "text/plain": [
       "<Figure size 1080x576 with 1 Axes>"
      ]
     },
     "metadata": {
      "needs_background": "light"
     },
     "output_type": "display_data"
    }
   ],
   "source": [
    "# consider only the target variable\n",
    "df_target = df_admissions['Chance of Admit'].copy()\n",
    "\n",
    "# get counts of 0's and 1's in the 'Chance of Admit' variable\n",
    "df_target.value_counts()\n",
    "\n",
    "# plot the countplot of the variable 'Chance of Admit'\n",
    "sns.countplot(x = df_target)\n",
    "\n",
    "# use below code to print the values in the graph\n",
    "# 'x' and 'y' gives position of the text\n",
    "# 's' is the text \n",
    "plt.text(x = -0.05, y = df_target.value_counts()[0] + 1, s = str(round((df_target.value_counts()[0])*100/len(df_target),2)) + '%')\n",
    "plt.text(x = 0.95, y = df_target.value_counts()[1] +1, s = str(round((df_target.value_counts()[1])*100/len(df_target),2)) + '%')\n",
    "\n",
    "# add plot and axes labels\n",
    "# set text size using 'fontsize'\n",
    "plt.title('Count Plot for Target Variable (Chance of Admit)', fontsize = 15)\n",
    "plt.xlabel('Target Variable', fontsize = 15)\n",
    "plt.ylabel('Count', fontsize = 15)\n",
    "\n",
    "# to show the plot\n",
    "plt.show()"
   ]
  },
  {
   "cell_type": "markdown",
   "metadata": {},
   "source": [
    "**Interpretation:** The above plot shows that there is no imbalance in the target variable."
   ]
  },
  {
   "cell_type": "markdown",
   "metadata": {},
   "source": [
    "<a id=\"null\"></a>\n",
    "## 2.5 Missing Value Treatment"
   ]
  },
  {
   "cell_type": "markdown",
   "metadata": {},
   "source": [
    "First run a check for the presence of missing values and their percentage for each column. Then choose the right approach to treat them."
   ]
  },
  {
   "cell_type": "code",
   "execution_count": 12,
   "metadata": {},
   "outputs": [
    {
     "data": {
      "text/html": [
       "<div>\n",
       "<style scoped>\n",
       "    .dataframe tbody tr th:only-of-type {\n",
       "        vertical-align: middle;\n",
       "    }\n",
       "\n",
       "    .dataframe tbody tr th {\n",
       "        vertical-align: top;\n",
       "    }\n",
       "\n",
       "    .dataframe thead th {\n",
       "        text-align: right;\n",
       "    }\n",
       "</style>\n",
       "<table border=\"1\" class=\"dataframe\">\n",
       "  <thead>\n",
       "    <tr style=\"text-align: right;\">\n",
       "      <th></th>\n",
       "      <th>Total</th>\n",
       "      <th>Percentage of Missing Values</th>\n",
       "    </tr>\n",
       "  </thead>\n",
       "  <tbody>\n",
       "    <tr>\n",
       "      <td>Chance of Admit</td>\n",
       "      <td>0</td>\n",
       "      <td>0.000000</td>\n",
       "    </tr>\n",
       "    <tr>\n",
       "      <td>Research</td>\n",
       "      <td>0</td>\n",
       "      <td>0.000000</td>\n",
       "    </tr>\n",
       "    <tr>\n",
       "      <td>CGPA</td>\n",
       "      <td>0</td>\n",
       "      <td>0.000000</td>\n",
       "    </tr>\n",
       "    <tr>\n",
       "      <td>LOR</td>\n",
       "      <td>0</td>\n",
       "      <td>0.000000</td>\n",
       "    </tr>\n",
       "    <tr>\n",
       "      <td>SOP</td>\n",
       "      <td>0</td>\n",
       "      <td>0.000000</td>\n",
       "    </tr>\n",
       "    <tr>\n",
       "      <td>University Rating</td>\n",
       "      <td>0</td>\n",
       "      <td>0.000000</td>\n",
       "    </tr>\n",
       "    <tr>\n",
       "      <td>TOEFL Score</td>\n",
       "      <td>0</td>\n",
       "      <td>0.000000</td>\n",
       "    </tr>\n",
       "    <tr>\n",
       "      <td>GRE Score</td>\n",
       "      <td>0</td>\n",
       "      <td>0.000000</td>\n",
       "    </tr>\n",
       "  </tbody>\n",
       "</table>\n",
       "</div>"
      ],
      "text/plain": [
       "                   Total  Percentage of Missing Values\n",
       "Chance of Admit        0                      0.000000\n",
       "Research               0                      0.000000\n",
       "CGPA                   0                      0.000000\n",
       "LOR                    0                      0.000000\n",
       "SOP                    0                      0.000000\n",
       "University Rating      0                      0.000000\n",
       "TOEFL Score            0                      0.000000\n",
       "GRE Score              0                      0.000000"
      ]
     },
     "execution_count": 12,
     "metadata": {},
     "output_type": "execute_result"
    }
   ],
   "source": [
    "# sort the variables on the basis of total null values in the variable\n",
    "# 'isnull().sum()' returns the number of missing values in each variable\n",
    "# 'ascending = False' sorts values in the descending order\n",
    "# the variable with highest number of missing values will appear first\n",
    "Total = df_admissions.isnull().sum().sort_values(ascending=False)          \n",
    "\n",
    "# calculate percentage of missing values\n",
    "# 'ascending = False' sorts values in the descending order\n",
    "# the variable with highest percentage of missing values will appear first\n",
    "Percent = (df_admissions.isnull().sum()*100/df_admissions.isnull().count()).sort_values(ascending=False)   \n",
    "\n",
    "# concat the 'Total' and 'Percent' columns using 'concat' function\n",
    "# pass a list of column names in parameter 'keys' \n",
    "# 'axis = 1' concats along the columns\n",
    "missing_data = pd.concat([Total, Percent], axis = 1, keys = ['Total', 'Percentage of Missing Values'])    \n",
    "missing_data"
   ]
  },
  {
   "cell_type": "markdown",
   "metadata": {},
   "source": [
    "**Interpretation:** The above output shows that there are no missing values in the data."
   ]
  },
  {
   "cell_type": "markdown",
   "metadata": {},
   "source": [
    "<a id=\"dummy\"></a>\n",
    "## 2.6 Dummy Encode the Categorical Variables"
   ]
  },
  {
   "cell_type": "markdown",
   "metadata": {},
   "source": [
    "#### Split the dependent and independent variables."
   ]
  },
  {
   "cell_type": "code",
   "execution_count": 13,
   "metadata": {},
   "outputs": [],
   "source": [
    "# store the target variable 'Chance of Admit' in a dataframe 'df_target'\n",
    "df_target = df_admissions['Chance of Admit']\n",
    "\n",
    "# store all the independent variables in a dataframe 'df_feature' \n",
    "# drop the column 'Chance of Admit' using drop()\n",
    "# 'axis = 1' drops the specified column\n",
    "df_feature = df_admissions.drop('Chance of Admit', axis = 1)"
   ]
  },
  {
   "cell_type": "markdown",
   "metadata": {},
   "source": [
    "#### Filter numerical and categorical variables."
   ]
  },
  {
   "cell_type": "code",
   "execution_count": 14,
   "metadata": {},
   "outputs": [
    {
     "data": {
      "text/plain": [
       "Index(['GRE Score', 'TOEFL Score', 'University Rating', 'SOP', 'LOR', 'CGPA'], dtype='object')"
      ]
     },
     "execution_count": 14,
     "metadata": {},
     "output_type": "execute_result"
    }
   ],
   "source": [
    "# filter the numerical features in the dataset\n",
    "# 'select_dtypes' is used to select the variables with given data type\n",
    "# 'include = [np.number]' will include all the numerical variables\n",
    "df_num = df_feature.select_dtypes(include = [np.number])\n",
    "\n",
    "# display numerical features\n",
    "df_num.columns"
   ]
  },
  {
   "cell_type": "code",
   "execution_count": 15,
   "metadata": {},
   "outputs": [
    {
     "data": {
      "text/plain": [
       "Index(['Research'], dtype='object')"
      ]
     },
     "execution_count": 15,
     "metadata": {},
     "output_type": "execute_result"
    }
   ],
   "source": [
    "# filter the categorical features in the dataset\n",
    "# 'select_dtypes' is used to select the variables with given data type\n",
    "# 'include = [np.object]' will include all the categorical variables\n",
    "df_cat = df_feature.select_dtypes(include = [np.object])\n",
    "\n",
    "# display categorical features\n",
    "df_cat.columns"
   ]
  },
  {
   "cell_type": "markdown",
   "metadata": {},
   "source": [
    "The logistic regression method fails in presence of categorical variables. To overcome this we use (n-1) dummy encoding. \n",
    "\n",
    "**Encode the each categorical variable and create (n-1) dummy variables for n categories of the variable.**"
   ]
  },
  {
   "cell_type": "code",
   "execution_count": 16,
   "metadata": {},
   "outputs": [],
   "source": [
    "# use 'get_dummies' from pandas to create dummy variables\n",
    "# use 'drop_first' to create (n-1) dummy variables\n",
    "dummy_var = pd.get_dummies(data = df_cat, drop_first = True)"
   ]
  },
  {
   "cell_type": "markdown",
   "metadata": {},
   "source": [
    "<a id=\"scale\"></a>\n",
    "## 2.7 Scale the Data "
   ]
  },
  {
   "cell_type": "markdown",
   "metadata": {},
   "source": [
    "We scale the variables to get all the variables in the same range. With this, we can avoid a problem in which some features come to dominate solely because they tend to have larger values than others."
   ]
  },
  {
   "cell_type": "code",
   "execution_count": 17,
   "metadata": {},
   "outputs": [],
   "source": [
    "# initialize the standard scalar\n",
    "X_scaler = StandardScaler()\n",
    "\n",
    "# scale all the numerical columns\n",
    "# standardize all the columns of the dataframe 'df_num'\n",
    "num_scaled = X_scaler.fit_transform(df_num)\n",
    "\n",
    "# create a dataframe of scaled numerical variables\n",
    "# pass the required column names to the parameter 'columns'\n",
    "df_num_scaled = pd.DataFrame(num_scaled, columns = df_num.columns)"
   ]
  },
  {
   "cell_type": "markdown",
   "metadata": {},
   "source": [
    "#### Concatenate scaled numerical and dummy encoded categorical variables."
   ]
  },
  {
   "cell_type": "code",
   "execution_count": 18,
   "metadata": {},
   "outputs": [
    {
     "data": {
      "text/html": [
       "<div>\n",
       "<style scoped>\n",
       "    .dataframe tbody tr th:only-of-type {\n",
       "        vertical-align: middle;\n",
       "    }\n",
       "\n",
       "    .dataframe tbody tr th {\n",
       "        vertical-align: top;\n",
       "    }\n",
       "\n",
       "    .dataframe thead th {\n",
       "        text-align: right;\n",
       "    }\n",
       "</style>\n",
       "<table border=\"1\" class=\"dataframe\">\n",
       "  <thead>\n",
       "    <tr style=\"text-align: right;\">\n",
       "      <th></th>\n",
       "      <th>GRE Score</th>\n",
       "      <th>TOEFL Score</th>\n",
       "      <th>University Rating</th>\n",
       "      <th>SOP</th>\n",
       "      <th>LOR</th>\n",
       "      <th>CGPA</th>\n",
       "      <th>Research_1</th>\n",
       "    </tr>\n",
       "  </thead>\n",
       "  <tbody>\n",
       "    <tr>\n",
       "      <td>0</td>\n",
       "      <td>1.762107</td>\n",
       "      <td>1.746971</td>\n",
       "      <td>0.798829</td>\n",
       "      <td>1.093864</td>\n",
       "      <td>1.167321</td>\n",
       "      <td>1.764818</td>\n",
       "      <td>1</td>\n",
       "    </tr>\n",
       "    <tr>\n",
       "      <td>1</td>\n",
       "      <td>0.627656</td>\n",
       "      <td>-0.067635</td>\n",
       "      <td>0.798829</td>\n",
       "      <td>0.596653</td>\n",
       "      <td>1.167321</td>\n",
       "      <td>0.455151</td>\n",
       "      <td>1</td>\n",
       "    </tr>\n",
       "    <tr>\n",
       "      <td>2</td>\n",
       "      <td>-0.070467</td>\n",
       "      <td>-0.562528</td>\n",
       "      <td>-0.076600</td>\n",
       "      <td>-0.397769</td>\n",
       "      <td>0.052933</td>\n",
       "      <td>-1.005631</td>\n",
       "      <td>1</td>\n",
       "    </tr>\n",
       "    <tr>\n",
       "      <td>3</td>\n",
       "      <td>0.453126</td>\n",
       "      <td>0.427257</td>\n",
       "      <td>-0.076600</td>\n",
       "      <td>0.099442</td>\n",
       "      <td>-1.061454</td>\n",
       "      <td>0.119339</td>\n",
       "      <td>1</td>\n",
       "    </tr>\n",
       "    <tr>\n",
       "      <td>4</td>\n",
       "      <td>-0.244998</td>\n",
       "      <td>-0.727492</td>\n",
       "      <td>-0.952029</td>\n",
       "      <td>-1.392191</td>\n",
       "      <td>-0.504260</td>\n",
       "      <td>-0.653029</td>\n",
       "      <td>0</td>\n",
       "    </tr>\n",
       "  </tbody>\n",
       "</table>\n",
       "</div>"
      ],
      "text/plain": [
       "   GRE Score  TOEFL Score  University Rating       SOP       LOR      CGPA  \\\n",
       "0   1.762107     1.746971           0.798829  1.093864  1.167321  1.764818   \n",
       "1   0.627656    -0.067635           0.798829  0.596653  1.167321  0.455151   \n",
       "2  -0.070467    -0.562528          -0.076600 -0.397769  0.052933 -1.005631   \n",
       "3   0.453126     0.427257          -0.076600  0.099442 -1.061454  0.119339   \n",
       "4  -0.244998    -0.727492          -0.952029 -1.392191 -0.504260 -0.653029   \n",
       "\n",
       "   Research_1  \n",
       "0           1  \n",
       "1           1  \n",
       "2           1  \n",
       "3           1  \n",
       "4           0  "
      ]
     },
     "execution_count": 18,
     "metadata": {},
     "output_type": "execute_result"
    }
   ],
   "source": [
    "# concat the dummy variables with numeric features to create a dataframe of all independent variables\n",
    "# 'axis=1' concats the dataframes along columns \n",
    "X = pd.concat([df_num_scaled, dummy_var], axis = 1)\n",
    "\n",
    "# display first five observations\n",
    "X.head()"
   ]
  },
  {
   "cell_type": "markdown",
   "metadata": {},
   "source": [
    "<a id=\"split\"></a>\n",
    "## 2.8 Train-Test Split"
   ]
  },
  {
   "cell_type": "markdown",
   "metadata": {},
   "source": [
    "Before applying various classification techniques to predict the admission status of the student, let us split the dataset in train and test set."
   ]
  },
  {
   "cell_type": "code",
   "execution_count": 19,
   "metadata": {},
   "outputs": [
    {
     "name": "stdout",
     "output_type": "stream",
     "text": [
      "X_train (320, 8)\n",
      "y_train (320,)\n",
      "X_test (80, 8)\n",
      "y_test (80,)\n"
     ]
    }
   ],
   "source": [
    "# add a constant column to the dataframe\n",
    "# while using the 'Logit' method in the Statsmodels library, the method do not consider the intercept by default\n",
    "# we can add the intercept to the set of independent variables using 'add_constant()'\n",
    "X = sm.add_constant(X)\n",
    "\n",
    "# split data into train subset and test subset\n",
    "# set 'random_state' to generate the same dataset each time you run the code \n",
    "# 'test_size' returns the proportion of data to be included in the testing set\n",
    "X_train, X_test, y_train, y_test = train_test_split(X, df_target, random_state = 10, test_size = 0.2)\n",
    "\n",
    "# check the dimensions of the train & test subset using 'shape'\n",
    "# print dimension of train set\n",
    "print('X_train', X_train.shape)\n",
    "print('y_train', y_train.shape)\n",
    "\n",
    "# print dimension of test set\n",
    "print('X_test', X_test.shape)\n",
    "print('y_test', y_test.shape)"
   ]
  },
  {
   "cell_type": "markdown",
   "metadata": {},
   "source": [
    "#### Create a generalized function to create a dataframe containing the scores for the models."
   ]
  },
  {
   "cell_type": "code",
   "execution_count": 20,
   "metadata": {},
   "outputs": [],
   "source": [
    "# create an empty dataframe to store the scores for various algorithms\n",
    "score_card = pd.DataFrame(columns=['Probability Cutoff', 'AUC Score', 'Precision Score', 'Recall Score',\n",
    "                                       'Accuracy Score', 'Kappa Score', 'f1-score'])\n",
    "\n",
    "# append the result table for all performance scores\n",
    "# performance measures considered for model comparision are 'AUC Score', 'Precision Score', 'Recall Score','Accuracy Score',\n",
    "# 'Kappa Score', and 'f1-score'\n",
    "# compile the required information in a user defined function \n",
    "def update_score_card(model, cutoff):\n",
    "    \n",
    "    # let 'y_pred_prob' be the predicted values of y\n",
    "    y_pred_prob = logreg.predict(X_test)\n",
    "\n",
    "    # convert probabilities to 0 and 1 using 'if_else'\n",
    "    y_pred = [ 0 if x < cutoff else 1 for x in y_pred_prob]\n",
    "    \n",
    "    # assign 'score_card' as global variable\n",
    "    global score_card\n",
    "\n",
    "    # append the results to the dataframe 'score_card'\n",
    "    # 'ignore_index = True' do not consider the index labels\n",
    "    score_card = score_card.append({'Probability Cutoff': cutoff,\n",
    "                                    'AUC Score' : metrics.roc_auc_score(y_test, y_pred),\n",
    "                                    'Precision Score': metrics.precision_score(y_test, y_pred),\n",
    "                                    'Recall Score': metrics.recall_score(y_test, y_pred),\n",
    "                                    'Accuracy Score': metrics.accuracy_score(y_test, y_pred),\n",
    "                                    'Kappa Score':metrics.cohen_kappa_score(y_test, y_pred),\n",
    "                                    'f1-score': metrics.f1_score(y_test, y_pred)}, \n",
    "                                    ignore_index = True)"
   ]
  },
  {
   "cell_type": "markdown",
   "metadata": {},
   "source": [
    "<a id=\"logit\"></a>\n",
    "# 3. Logistic Regression (Full Model)"
   ]
  },
  {
   "cell_type": "markdown",
   "metadata": {},
   "source": [
    "#### Build a full logistic model on a training dataset."
   ]
  },
  {
   "cell_type": "code",
   "execution_count": 21,
   "metadata": {
    "scrolled": false
   },
   "outputs": [
    {
     "name": "stdout",
     "output_type": "stream",
     "text": [
      "Optimization terminated successfully.\n",
      "         Current function value: 0.241326\n",
      "         Iterations 8\n",
      "                           Logit Regression Results                           \n",
      "==============================================================================\n",
      "Dep. Variable:        Chance of Admit   No. Observations:                  320\n",
      "Model:                          Logit   Df Residuals:                      312\n",
      "Method:                           MLE   Df Model:                            7\n",
      "Date:                Fri, 18 Sep 2020   Pseudo R-squ.:                  0.6486\n",
      "Time:                        11:16:05   Log-Likelihood:                -77.224\n",
      "converged:                       True   LL-Null:                       -219.78\n",
      "Covariance Type:            nonrobust   LLR p-value:                 9.137e-58\n",
      "=====================================================================================\n",
      "                        coef    std err          z      P>|z|      [0.025      0.975]\n",
      "-------------------------------------------------------------------------------------\n",
      "const                -0.7119      0.330     -2.157      0.031      -1.359      -0.065\n",
      "GRE Score             0.6095      0.447      1.365      0.172      -0.266       1.485\n",
      "TOEFL Score           0.1989      0.403      0.493      0.622      -0.592       0.990\n",
      "University Rating     0.5883      0.383      1.535      0.125      -0.163       1.339\n",
      "SOP                   0.1768      0.374      0.473      0.636      -0.555       0.909\n",
      "LOR                   0.5118      0.308      1.662      0.096      -0.092       1.115\n",
      "CGPA                  2.6273      0.544      4.832      0.000       1.562       3.693\n",
      "Research_1            0.5819      0.465      1.251      0.211      -0.329       1.493\n",
      "=====================================================================================\n"
     ]
    }
   ],
   "source": [
    "# build the model on train data (X_train and y_train)\n",
    "# use fit() to fit the logistic regression model\n",
    "logreg = sm.Logit(y_train, X_train).fit()\n",
    "\n",
    "# print the summary of the model\n",
    "print(logreg.summary())"
   ]
  },
  {
   "cell_type": "markdown",
   "metadata": {},
   "source": [
    "**Interpretation:** The `Pseudo R-squ.` obtained from the above model summary is the value of `McFadden's R-squared`. This value can be obtained from the formula:\n",
    "\n",
    "<p style='text-indent:25em'> <strong> McFadden's R-squared = $ 1 - \\frac{Log-Likelihood}{LL-Null} $</strong> </p>\n",
    "\n",
    "Where,<br>\n",
    "Log-Likelihood: It is the maximum value of the log-likelihood function<br>\n",
    "LL-Null: It is the maximum value of the log-likelihood function for the model containing only the intercept \n",
    "\n",
    "The LLR p-value is less than 0.05, implies that the model is significant."
   ]
  },
  {
   "cell_type": "markdown",
   "metadata": {},
   "source": [
    "There are different types of `pseudo R-squared` such as `Cox & Snell R-squared`, `Nagelkerke R-squared` and so on.\n",
    "\n",
    "**Cox & Snell R-squared:** The convergence of the logistic model can be determined by the R-squared value. It is given by the formula:\n",
    "\n",
    "<p style='text-indent:25em'> <strong> Cox & Snell R-squared = $ 1 - (\\frac{L(M_{Intercept})}{L(M_{Full})})^{2/N} $</strong> </p>\n",
    "\n",
    "Where,<br> \n",
    "L(M): The conditional probability of target variable given the independent variables<br>\n",
    "N: Total number of observations\n",
    "\n",
    "**Note:** The maximum of Cox & Snell R-squared is always less than 1. It is equal to $(1 - (L(M_{Intercept})^{2/N})$\n",
    "\n",
    "\n",
    "\n",
    "**Nagelkerke R-squared:** It is defined as the ratio of Cox & Snell R-squared to the maximum of Cox & Snell R-squared. The formula is given as:\n",
    "\n",
    "<p style='text-indent:25em'> <strong>Nagelkerke  R-squared = $ \\frac{1 - (\\frac{L(M_{Intercept})}{L(M_{Full})})^{2/N}}{1 -  (L(M_{Intercept})^{2/N}} $</strong> </p>\n",
    "\n",
    "\n",
    "\n",
    "Thus, Nagelkerke R-squared can be equal to 1, if $L(M_{Full}) = 1$\n"
   ]
  },
  {
   "cell_type": "markdown",
   "metadata": {},
   "source": [
    "**Calculate the AIC (Akaike Information Criterion) value.**\n",
    "\n",
    "It is a relative measure of model evaluation. It gives a trade-off between model accuracy and model complexity."
   ]
  },
  {
   "cell_type": "code",
   "execution_count": 22,
   "metadata": {},
   "outputs": [
    {
     "name": "stdout",
     "output_type": "stream",
     "text": [
      "AIC: 170.44859325107456\n"
     ]
    }
   ],
   "source": [
    "# 'aic' retuns the AIC value for the model\n",
    "print('AIC:', logreg.aic)"
   ]
  },
  {
   "cell_type": "markdown",
   "metadata": {},
   "source": [
    "We can use the AIC value to compare different models created on the same dataset."
   ]
  },
  {
   "cell_type": "markdown",
   "metadata": {},
   "source": [
    "### Interpret the odds for each variable "
   ]
  },
  {
   "cell_type": "code",
   "execution_count": 23,
   "metadata": {},
   "outputs": [
    {
     "data": {
      "text/html": [
       "<div>\n",
       "<style scoped>\n",
       "    .dataframe tbody tr th:only-of-type {\n",
       "        vertical-align: middle;\n",
       "    }\n",
       "\n",
       "    .dataframe tbody tr th {\n",
       "        vertical-align: top;\n",
       "    }\n",
       "\n",
       "    .dataframe thead th {\n",
       "        text-align: right;\n",
       "    }\n",
       "</style>\n",
       "<table border=\"1\" class=\"dataframe\">\n",
       "  <thead>\n",
       "    <tr style=\"text-align: right;\">\n",
       "      <th></th>\n",
       "      <th>Odds</th>\n",
       "    </tr>\n",
       "  </thead>\n",
       "  <tbody>\n",
       "    <tr>\n",
       "      <td>const</td>\n",
       "      <td>0.490694</td>\n",
       "    </tr>\n",
       "    <tr>\n",
       "      <td>GRE Score</td>\n",
       "      <td>1.839477</td>\n",
       "    </tr>\n",
       "    <tr>\n",
       "      <td>TOEFL Score</td>\n",
       "      <td>1.220082</td>\n",
       "    </tr>\n",
       "    <tr>\n",
       "      <td>University Rating</td>\n",
       "      <td>1.800906</td>\n",
       "    </tr>\n",
       "    <tr>\n",
       "      <td>SOP</td>\n",
       "      <td>1.193371</td>\n",
       "    </tr>\n",
       "    <tr>\n",
       "      <td>LOR</td>\n",
       "      <td>1.668273</td>\n",
       "    </tr>\n",
       "    <tr>\n",
       "      <td>CGPA</td>\n",
       "      <td>13.836155</td>\n",
       "    </tr>\n",
       "    <tr>\n",
       "      <td>Research_1</td>\n",
       "      <td>1.789418</td>\n",
       "    </tr>\n",
       "  </tbody>\n",
       "</table>\n",
       "</div>"
      ],
      "text/plain": [
       "                       Odds\n",
       "const              0.490694\n",
       "GRE Score          1.839477\n",
       "TOEFL Score        1.220082\n",
       "University Rating  1.800906\n",
       "SOP                1.193371\n",
       "LOR                1.668273\n",
       "CGPA              13.836155\n",
       "Research_1         1.789418"
      ]
     },
     "execution_count": 23,
     "metadata": {},
     "output_type": "execute_result"
    }
   ],
   "source": [
    "# take the exponential of the coefficient of a variable to calculate the odds\n",
    "# 'params' returns the coefficients of all the independent variables\n",
    "# pass the required column name to the parameter, 'columns'\n",
    "df_odds = pd.DataFrame(np.exp(logreg.params), columns= ['Odds']) \n",
    "\n",
    "# print the dataframe\n",
    "df_odds"
   ]
  },
  {
   "cell_type": "markdown",
   "metadata": {},
   "source": [
    "**Interpretation:** \n",
    "\n",
    "odds_const: The odds of getting an admission is 0.490694, considering all other variables take zero value \n",
    "\n",
    "odds_GRE_Score = 1.839477, it implies that the odds of getting admission increases by a factor of 1.839477 due to one unit increase in the GRE score, keeping other variables constant\n",
    "\n",
    "odds_TOEFL_Score = 1.220082, it implies that the odds of getting admission increases by a factor of 1.220082 due to one unit increase in the TOEFL score, keeping other variables constant\n",
    "\n",
    "odds_University_Rating = 1.800906, it implies that the odds of getting admission increases by a factor of 1.800906 due to one unit increase in the university rating, keeping other variables constant\n",
    "\n",
    "odds_SOP = 1.193371, it implies that the odds of getting admission increases by a factor of 1.193371 due to one unit increase in the SOP strength, keeping other variables constant\n",
    "\n",
    "odds_LOR = 1.668273, it implies that the odds of getting admission increases by a factor of 1.668273 due to one unit increase in the LOR strength, keeping other variables constant\n",
    "\n",
    "odds_CGPA = 13.836155, it implies that the odds of getting admission increases by a factor of 13.836155 due to one unit increase in the CGPA, keeping other variables constant\n",
    " \n",
    "odds_Research_1 = 1.789418, it implies that the odds of getting admission for the students with research experience over the odds of getting admission for the students with no research experience is 1.789418, keeping other variables constant"
   ]
  },
  {
   "cell_type": "markdown",
   "metadata": {},
   "source": [
    "**Do predictions on the test set.**"
   ]
  },
  {
   "cell_type": "code",
   "execution_count": 24,
   "metadata": {
    "colab": {},
    "colab_type": "code",
    "id": "UP5DA9_qebpC",
    "scrolled": true
   },
   "outputs": [
    {
     "data": {
      "text/plain": [
       "332   0.050634\n",
       "111   0.800663\n",
       "352   0.016492\n",
       "205   0.000668\n",
       "56    0.001146\n",
       "dtype: float64"
      ]
     },
     "execution_count": 24,
     "metadata": {},
     "output_type": "execute_result"
    }
   ],
   "source": [
    "# let 'y_pred_prob' be the predicted values of y\n",
    "y_pred_prob = logreg.predict(X_test)\n",
    "\n",
    "# print the y_pred_prob\n",
    "y_pred_prob.head()"
   ]
  },
  {
   "cell_type": "markdown",
   "metadata": {},
   "source": [
    "Since the target variable can take only two values either 0 or 1. We decide the cut-off of 0.5. i.e. if 'y_pred_prob' is less than 0.5, then consider it to be 0 else consider it to be 1."
   ]
  },
  {
   "cell_type": "code",
   "execution_count": 25,
   "metadata": {
    "colab": {},
    "colab_type": "code",
    "id": "s-aj8refebpI"
   },
   "outputs": [],
   "source": [
    "# convert probabilities to 0 and 1 using 'if_else'\n",
    "y_pred = [ 0 if x < 0.5 else 1 for x in y_pred_prob]"
   ]
  },
  {
   "cell_type": "code",
   "execution_count": 26,
   "metadata": {},
   "outputs": [
    {
     "data": {
      "text/plain": [
       "[0, 1, 0, 0, 0]"
      ]
     },
     "execution_count": 26,
     "metadata": {},
     "output_type": "execute_result"
    }
   ],
   "source": [
    "# print the first five observations of y_pred\n",
    "y_pred[0:5]"
   ]
  },
  {
   "cell_type": "markdown",
   "metadata": {},
   "source": [
    "#### Plot the confusion matrix."
   ]
  },
  {
   "cell_type": "code",
   "execution_count": 27,
   "metadata": {
    "colab": {},
    "colab_type": "code",
    "id": "Av39nL7SebpS",
    "outputId": "eb72d174-cce1-49f2-abcc-b8a6111b2008"
   },
   "outputs": [
    {
     "data": {
      "image/png": "[encoded data removed]",
      "text/plain": [
       "<Figure size 1080x576 with 1 Axes>"
      ]
     },
     "metadata": {
      "needs_background": "light"
     },
     "output_type": "display_data"
    }
   ],
   "source": [
    "# create a confusion matrix\n",
    "# pass the actual and predicted target values to the confusion_matrix()\n",
    "cm = confusion_matrix(y_test, y_pred)\n",
    "\n",
    "# label the confusion matrix  \n",
    "# pass the matrix as 'data'\n",
    "# pass the required column names to the parameter, 'columns'\n",
    "# pass the required row names to the parameter, 'index'\n",
    "conf_matrix = pd.DataFrame(data = cm,columns = ['Predicted:0','Predicted:1'], index = ['Actual:0','Actual:1'])\n",
    "\n",
    "# plot a heatmap to visualize the confusion matrix\n",
    "# 'annot' prints the value of each grid \n",
    "# 'fmt = d' returns the integer value in each grid\n",
    "# 'cmap' assigns color to each grid\n",
    "# as we do not require different colors for each grid in the heatmap,\n",
    "# use 'ListedColormap' to assign the specified color to the grid\n",
    "# 'cbar = False' will not return the color bar to the right side of the heatmap\n",
    "# 'linewidths' assigns the width to the line that divides each grid\n",
    "# 'annot_kws = {'size':25})' assigns the font size of the annotated text \n",
    "sns.heatmap(conf_matrix, annot = True, fmt = 'd', cmap = ListedColormap(['lightskyblue']), cbar = False, \n",
    "            linewidths = 0.1, annot_kws = {'size':25})\n",
    "\n",
    "# set the font size of x-axis ticks using 'fontsize'\n",
    "plt.xticks(fontsize = 20)\n",
    "\n",
    "# set the font size of y-axis ticks using 'fontsize'\n",
    "plt.yticks(fontsize = 20)\n",
    "\n",
    "# display the plot\n",
    "plt.show()"
   ]
  },
  {
   "cell_type": "code",
   "execution_count": 28,
   "metadata": {},
   "outputs": [],
   "source": [
    "# True Negatives are denoted by 'TN'\n",
    "# Actual 'O' values which are classified correctly\n",
    "TN = cm[0,0]\n",
    "\n",
    "# True Positives are denoted by 'TP'\n",
    "# Actual '1' values which are classified correctly\n",
    "TP = cm[1,1]\n",
    "\n",
    "# False Positives are denoted by 'FP'\n",
    "# it is the type 1 error\n",
    "# Actual 'O' values which are classified wrongly as '1'\n",
    "FP = cm[0,1]\n",
    "\n",
    "# False Negatives are denoted by 'FN'\n",
    "# it is the type 2 error\n",
    "# Actual '1' values which are classified wrongly as '0'\n",
    "FN = cm[1,0]"
   ]
  },
  {
   "cell_type": "markdown",
   "metadata": {},
   "source": [
    "**Compute various performance metrics.**"
   ]
  },
  {
   "cell_type": "markdown",
   "metadata": {},
   "source": [
    "**Precision:** It is defined as the ratio of true positives to the total positive predictions."
   ]
  },
  {
   "cell_type": "code",
   "execution_count": 29,
   "metadata": {},
   "outputs": [
    {
     "data": {
      "text/plain": [
       "0.7857142857142857"
      ]
     },
     "execution_count": 29,
     "metadata": {},
     "output_type": "execute_result"
    }
   ],
   "source": [
    "# calculate the precision value\n",
    "precision = TP / (TP+FP)\n",
    "\n",
    "# print the value\n",
    "precision"
   ]
  },
  {
   "cell_type": "markdown",
   "metadata": {},
   "source": [
    "**Recall:** It is the ratio of true positives to the total actual positive observations. It is also known as, `Sensitivity` or `True Positive Rate`."
   ]
  },
  {
   "cell_type": "code",
   "execution_count": 30,
   "metadata": {},
   "outputs": [
    {
     "data": {
      "text/plain": [
       "0.868421052631579"
      ]
     },
     "execution_count": 30,
     "metadata": {},
     "output_type": "execute_result"
    }
   ],
   "source": [
    "# calculate the recall value\n",
    "recall = TP / (TP+FN)\n",
    "\n",
    "# print the value\n",
    "recall"
   ]
  },
  {
   "cell_type": "markdown",
   "metadata": {},
   "source": [
    "**Specificity:** It is the ratio of true negatives to the total actual negative observations."
   ]
  },
  {
   "cell_type": "code",
   "execution_count": 31,
   "metadata": {},
   "outputs": [
    {
     "data": {
      "text/plain": [
       "0.7857142857142857"
      ]
     },
     "execution_count": 31,
     "metadata": {},
     "output_type": "execute_result"
    }
   ],
   "source": [
    "# calculate the specificity value\n",
    "specificity = TN / (TN+FP)\n",
    "\n",
    "# print the value\n",
    "specificity"
   ]
  },
  {
   "cell_type": "markdown",
   "metadata": {},
   "source": [
    "**f1-score:** It is defined as the harmonic mean of precision and recall."
   ]
  },
  {
   "cell_type": "code",
   "execution_count": 32,
   "metadata": {},
   "outputs": [
    {
     "data": {
      "text/plain": [
       "0.825"
      ]
     },
     "execution_count": 32,
     "metadata": {},
     "output_type": "execute_result"
    }
   ],
   "source": [
    "# calculate the f1_score\n",
    "f1_score = 2*((precision*recall)/(precision+recall))\n",
    "\n",
    "# print the f1_score\n",
    "f1_score"
   ]
  },
  {
   "cell_type": "markdown",
   "metadata": {},
   "source": [
    "**Accuracy:** It is the ratio of correct predictions (i.e. TN+TP) to the total observations. According to the confusion matrix, it is the ratio of the sum of diagonal elements to the sum of all the in the matrix. It is not a very good measure if the dataset is imbalanced."
   ]
  },
  {
   "cell_type": "code",
   "execution_count": 33,
   "metadata": {},
   "outputs": [
    {
     "data": {
      "text/plain": [
       "0.825"
      ]
     },
     "execution_count": 33,
     "metadata": {},
     "output_type": "execute_result"
    }
   ],
   "source": [
    "# calculate the accuracy\n",
    "accuracy = (TN+TP) / (TN+FP+FN+TP)\n",
    "\n",
    "# print the accuracy\n",
    "accuracy"
   ]
  },
  {
   "cell_type": "markdown",
   "metadata": {},
   "source": [
    "**Interpretation:** For our dataset, both the values for accuracy and f1-score are equal. We can say that our model is 82.5% accurate."
   ]
  },
  {
   "cell_type": "markdown",
   "metadata": {},
   "source": [
    "We can also calculate the above measures using the `classification_report()`"
   ]
  },
  {
   "cell_type": "code",
   "execution_count": 34,
   "metadata": {},
   "outputs": [
    {
     "name": "stdout",
     "output_type": "stream",
     "text": [
      "              precision    recall  f1-score   support\n",
      "\n",
      "           0       0.87      0.79      0.82        42\n",
      "           1       0.79      0.87      0.82        38\n",
      "\n",
      "    accuracy                           0.82        80\n",
      "   macro avg       0.83      0.83      0.82        80\n",
      "weighted avg       0.83      0.82      0.82        80\n",
      "\n"
     ]
    }
   ],
   "source": [
    "# calculate various performance measures\n",
    "acc_table = classification_report(y_test, y_pred)\n",
    "\n",
    "# print the table\n",
    "print(acc_table)"
   ]
  },
  {
   "cell_type": "markdown",
   "metadata": {},
   "source": [
    "**Interpretation:** \n",
    "\n",
    "From the above output, we can infer that the recall of the positive class is known as `sensitivity` and the recall of the negative class is `specificity`.\n",
    "\n",
    "`support` is the number of observations in the corresponding class.\n",
    "\n",
    "The `macro average` in the output is obtained by averaging the unweighted mean per label and the `weighted average` is given by averaging the support-weighted mean per label."
   ]
  },
  {
   "cell_type": "markdown",
   "metadata": {},
   "source": [
    "**Kappa score:** It is a measure of inter-rater reliability. For logistic regression, the actual and predicted values of the target variable are the raters."
   ]
  },
  {
   "cell_type": "code",
   "execution_count": 35,
   "metadata": {},
   "outputs": [
    {
     "name": "stdout",
     "output_type": "stream",
     "text": [
      "kappa value: 0.6508728179551122\n"
     ]
    }
   ],
   "source": [
    "# compute the kappa value\n",
    "kappa = cohen_kappa_score(y_test, y_pred)\n",
    "\n",
    "# print the kappa value\n",
    "print('kappa value:',kappa)"
   ]
  },
  {
   "cell_type": "markdown",
   "metadata": {},
   "source": [
    "**Interpretation:** As the kappa score for the full model (with cut-off probability 0.5) is 0.6509, we can say that there is substantial agreement between the actual and predicted values."
   ]
  },
  {
   "cell_type": "markdown",
   "metadata": {},
   "source": [
    "#### Plot the ROC curve.\n",
    "\n",
    "ROC curve is plotted with the true positive rate (tpr) on the y-axis and false positive rate (fpr) on the x-axis. The area under this curve is used as a measure of separability of the model."
   ]
  },
  {
   "cell_type": "code",
   "execution_count": 36,
   "metadata": {
    "colab": {},
    "colab_type": "code",
    "id": "Edtmcgdlebpe"
   },
   "outputs": [
    {
     "data": {
      "image/png": "[encoded data removed]",
      "text/plain": [
       "<Figure size 1080x576 with 1 Axes>"
      ]
     },
     "metadata": {
      "needs_background": "light"
     },
     "output_type": "display_data"
    }
   ],
   "source": [
    "# the roc_curve() returns the values for false positive rate, true positive rate and threshold\n",
    "# pass the actual target values and predicted probabilities to the function\n",
    "fpr, tpr, thresholds = roc_curve(y_test, y_pred_prob)\n",
    "\n",
    "# plot the ROC curve\n",
    "plt.plot(fpr, tpr)\n",
    "\n",
    "# set limits for x and y axes\n",
    "plt.xlim([0.0, 1.0])\n",
    "plt.ylim([0.0, 1.0])\n",
    "\n",
    "# plot the straight line showing worst prediction for the model\n",
    "plt.plot([0, 1], [0, 1],'r--')\n",
    "\n",
    "# add plot and axes labels\n",
    "# set text size using 'fontsize'\n",
    "plt.title('ROC curve for Admission Prediction Classifier (Full Model)', fontsize = 15)\n",
    "plt.xlabel('False positive rate (1-Specificity)', fontsize = 15)\n",
    "plt.ylabel('True positive rate (Sensitivity)', fontsize = 15)\n",
    "\n",
    "# add the AUC score to the plot\n",
    "# 'x' and 'y' gives position of the text\n",
    "# 's' is the text \n",
    "# use round() to round-off the AUC score upto 4 digits\n",
    "plt.text(x = 0.02, y = 0.9, s = ('AUC Score:', round(metrics.roc_auc_score(y_test, y_pred_prob),4)))\n",
    "                               \n",
    "# plot the grid\n",
    "plt.grid(True)"
   ]
  },
  {
   "cell_type": "markdown",
   "metadata": {},
   "source": [
    "**Interpretation:** The red dotted line represents the ROC curve of a purely random classifier; a good classifier stays as far away from that line as possible (toward the top-left corner).<br>\n",
    "From the above plot, we can see that our classifier (logistic regression) is away from the dotted line; with the AUC score 0.9367."
   ]
  },
  {
   "cell_type": "markdown",
   "metadata": {},
   "source": [
    "<a id=\"cut_off\"></a>\n",
    "## 3.1 Identify the Best Cut-off Value"
   ]
  },
  {
   "cell_type": "markdown",
   "metadata": {},
   "source": [
    "**Tabulate the performance measures for different cut-offs.**\n",
    "\n",
    "The performance measures that we obtained above, are for the cut_off = 0.5. Now, let us consider a list of values as cut-off and calculate the different performance measures."
   ]
  },
  {
   "cell_type": "code",
   "execution_count": 37,
   "metadata": {},
   "outputs": [],
   "source": [
    "# consider a list of values for cut-off\n",
    "cutoff = [0.1, 0.2, 0.3, 0.4, 0.5, 0.6, 0.7, 0.8, 0.9]\n",
    "\n",
    "# use the for loop to compute performance measures for each value of the cut-off\n",
    "# call the update_score_card() to update the score card for each cut-off\n",
    "# pass the model and cut-off value to the function\n",
    "for value in cutoff:\n",
    "    update_score_card(logreg, value)"
   ]
  },
  {
   "cell_type": "code",
   "execution_count": 38,
   "metadata": {},
   "outputs": [
    {
     "name": "stdout",
     "output_type": "stream",
     "text": [
      "Score Card for Logistic regression:\n"
     ]
    },
    {
     "data": {
      "text/html": [
       "<style  type=\"text/css\" >\n",
       "    #T_3f7f8ac8_f972_11ea_ad3e_9c5a444e0ce9row5_col1 {\n",
       "            background-color:  lightblue;\n",
       "        }    #T_3f7f8ac8_f972_11ea_ad3e_9c5a444e0ce9row5_col4 {\n",
       "            background-color:  lightblue;\n",
       "        }    #T_3f7f8ac8_f972_11ea_ad3e_9c5a444e0ce9row5_col5 {\n",
       "            background-color:  lightblue;\n",
       "        }    #T_3f7f8ac8_f972_11ea_ad3e_9c5a444e0ce9row5_col6 {\n",
       "            background-color:  lightblue;\n",
       "        }</style><table id=\"T_3f7f8ac8_f972_11ea_ad3e_9c5a444e0ce9\" ><thead>    <tr>        <th class=\"blank level0\" ></th>        <th class=\"col_heading level0 col0\" >Probability Cutoff</th>        <th class=\"col_heading level0 col1\" >AUC Score</th>        <th class=\"col_heading level0 col2\" >Precision Score</th>        <th class=\"col_heading level0 col3\" >Recall Score</th>        <th class=\"col_heading level0 col4\" >Accuracy Score</th>        <th class=\"col_heading level0 col5\" >Kappa Score</th>        <th class=\"col_heading level0 col6\" >f1-score</th>    </tr></thead><tbody>\n",
       "                <tr>\n",
       "                        <th id=\"T_3f7f8ac8_f972_11ea_ad3e_9c5a444e0ce9level0_row0\" class=\"row_heading level0 row0\" >0</th>\n",
       "                        <td id=\"T_3f7f8ac8_f972_11ea_ad3e_9c5a444e0ce9row0_col0\" class=\"data row0 col0\" >0.1</td>\n",
       "                        <td id=\"T_3f7f8ac8_f972_11ea_ad3e_9c5a444e0ce9row0_col1\" class=\"data row0 col1\" >0.760652</td>\n",
       "                        <td id=\"T_3f7f8ac8_f972_11ea_ad3e_9c5a444e0ce9row0_col2\" class=\"data row0 col2\" >0.660714</td>\n",
       "                        <td id=\"T_3f7f8ac8_f972_11ea_ad3e_9c5a444e0ce9row0_col3\" class=\"data row0 col3\" >0.973684</td>\n",
       "                        <td id=\"T_3f7f8ac8_f972_11ea_ad3e_9c5a444e0ce9row0_col4\" class=\"data row0 col4\" >0.75</td>\n",
       "                        <td id=\"T_3f7f8ac8_f972_11ea_ad3e_9c5a444e0ce9row0_col5\" class=\"data row0 col5\" >0.509804</td>\n",
       "                        <td id=\"T_3f7f8ac8_f972_11ea_ad3e_9c5a444e0ce9row0_col6\" class=\"data row0 col6\" >0.787234</td>\n",
       "            </tr>\n",
       "            <tr>\n",
       "                        <th id=\"T_3f7f8ac8_f972_11ea_ad3e_9c5a444e0ce9level0_row1\" class=\"row_heading level0 row1\" >1</th>\n",
       "                        <td id=\"T_3f7f8ac8_f972_11ea_ad3e_9c5a444e0ce9row1_col0\" class=\"data row1 col0\" >0.2</td>\n",
       "                        <td id=\"T_3f7f8ac8_f972_11ea_ad3e_9c5a444e0ce9row1_col1\" class=\"data row1 col1\" >0.807018</td>\n",
       "                        <td id=\"T_3f7f8ac8_f972_11ea_ad3e_9c5a444e0ce9row1_col2\" class=\"data row1 col2\" >0.72</td>\n",
       "                        <td id=\"T_3f7f8ac8_f972_11ea_ad3e_9c5a444e0ce9row1_col3\" class=\"data row1 col3\" >0.947368</td>\n",
       "                        <td id=\"T_3f7f8ac8_f972_11ea_ad3e_9c5a444e0ce9row1_col4\" class=\"data row1 col4\" >0.8</td>\n",
       "                        <td id=\"T_3f7f8ac8_f972_11ea_ad3e_9c5a444e0ce9row1_col5\" class=\"data row1 col5\" >0.604938</td>\n",
       "                        <td id=\"T_3f7f8ac8_f972_11ea_ad3e_9c5a444e0ce9row1_col6\" class=\"data row1 col6\" >0.818182</td>\n",
       "            </tr>\n",
       "            <tr>\n",
       "                        <th id=\"T_3f7f8ac8_f972_11ea_ad3e_9c5a444e0ce9level0_row2\" class=\"row_heading level0 row2\" >2</th>\n",
       "                        <td id=\"T_3f7f8ac8_f972_11ea_ad3e_9c5a444e0ce9row2_col0\" class=\"data row2 col0\" >0.3</td>\n",
       "                        <td id=\"T_3f7f8ac8_f972_11ea_ad3e_9c5a444e0ce9row2_col1\" class=\"data row2 col1\" >0.829574</td>\n",
       "                        <td id=\"T_3f7f8ac8_f972_11ea_ad3e_9c5a444e0ce9row2_col2\" class=\"data row2 col2\" >0.76087</td>\n",
       "                        <td id=\"T_3f7f8ac8_f972_11ea_ad3e_9c5a444e0ce9row2_col3\" class=\"data row2 col3\" >0.921053</td>\n",
       "                        <td id=\"T_3f7f8ac8_f972_11ea_ad3e_9c5a444e0ce9row2_col4\" class=\"data row2 col4\" >0.825</td>\n",
       "                        <td id=\"T_3f7f8ac8_f972_11ea_ad3e_9c5a444e0ce9row2_col5\" class=\"data row2 col5\" >0.652605</td>\n",
       "                        <td id=\"T_3f7f8ac8_f972_11ea_ad3e_9c5a444e0ce9row2_col6\" class=\"data row2 col6\" >0.833333</td>\n",
       "            </tr>\n",
       "            <tr>\n",
       "                        <th id=\"T_3f7f8ac8_f972_11ea_ad3e_9c5a444e0ce9level0_row3\" class=\"row_heading level0 row3\" >3</th>\n",
       "                        <td id=\"T_3f7f8ac8_f972_11ea_ad3e_9c5a444e0ce9row3_col0\" class=\"data row3 col0\" >0.4</td>\n",
       "                        <td id=\"T_3f7f8ac8_f972_11ea_ad3e_9c5a444e0ce9row3_col1\" class=\"data row3 col1\" >0.828321</td>\n",
       "                        <td id=\"T_3f7f8ac8_f972_11ea_ad3e_9c5a444e0ce9row3_col2\" class=\"data row3 col2\" >0.772727</td>\n",
       "                        <td id=\"T_3f7f8ac8_f972_11ea_ad3e_9c5a444e0ce9row3_col3\" class=\"data row3 col3\" >0.894737</td>\n",
       "                        <td id=\"T_3f7f8ac8_f972_11ea_ad3e_9c5a444e0ce9row3_col4\" class=\"data row3 col4\" >0.825</td>\n",
       "                        <td id=\"T_3f7f8ac8_f972_11ea_ad3e_9c5a444e0ce9row3_col5\" class=\"data row3 col5\" >0.651741</td>\n",
       "                        <td id=\"T_3f7f8ac8_f972_11ea_ad3e_9c5a444e0ce9row3_col6\" class=\"data row3 col6\" >0.829268</td>\n",
       "            </tr>\n",
       "            <tr>\n",
       "                        <th id=\"T_3f7f8ac8_f972_11ea_ad3e_9c5a444e0ce9level0_row4\" class=\"row_heading level0 row4\" >4</th>\n",
       "                        <td id=\"T_3f7f8ac8_f972_11ea_ad3e_9c5a444e0ce9row4_col0\" class=\"data row4 col0\" >0.5</td>\n",
       "                        <td id=\"T_3f7f8ac8_f972_11ea_ad3e_9c5a444e0ce9row4_col1\" class=\"data row4 col1\" >0.827068</td>\n",
       "                        <td id=\"T_3f7f8ac8_f972_11ea_ad3e_9c5a444e0ce9row4_col2\" class=\"data row4 col2\" >0.785714</td>\n",
       "                        <td id=\"T_3f7f8ac8_f972_11ea_ad3e_9c5a444e0ce9row4_col3\" class=\"data row4 col3\" >0.868421</td>\n",
       "                        <td id=\"T_3f7f8ac8_f972_11ea_ad3e_9c5a444e0ce9row4_col4\" class=\"data row4 col4\" >0.825</td>\n",
       "                        <td id=\"T_3f7f8ac8_f972_11ea_ad3e_9c5a444e0ce9row4_col5\" class=\"data row4 col5\" >0.650873</td>\n",
       "                        <td id=\"T_3f7f8ac8_f972_11ea_ad3e_9c5a444e0ce9row4_col6\" class=\"data row4 col6\" >0.825</td>\n",
       "            </tr>\n",
       "            <tr>\n",
       "                        <th id=\"T_3f7f8ac8_f972_11ea_ad3e_9c5a444e0ce9level0_row5\" class=\"row_heading level0 row5\" >5</th>\n",
       "                        <td id=\"T_3f7f8ac8_f972_11ea_ad3e_9c5a444e0ce9row5_col0\" class=\"data row5 col0\" >0.6</td>\n",
       "                        <td id=\"T_3f7f8ac8_f972_11ea_ad3e_9c5a444e0ce9row5_col1\" class=\"data row5 col1\" >0.862782</td>\n",
       "                        <td id=\"T_3f7f8ac8_f972_11ea_ad3e_9c5a444e0ce9row5_col2\" class=\"data row5 col2\" >0.846154</td>\n",
       "                        <td id=\"T_3f7f8ac8_f972_11ea_ad3e_9c5a444e0ce9row5_col3\" class=\"data row5 col3\" >0.868421</td>\n",
       "                        <td id=\"T_3f7f8ac8_f972_11ea_ad3e_9c5a444e0ce9row5_col4\" class=\"data row5 col4\" >0.8625</td>\n",
       "                        <td id=\"T_3f7f8ac8_f972_11ea_ad3e_9c5a444e0ce9row5_col5\" class=\"data row5 col5\" >0.724656</td>\n",
       "                        <td id=\"T_3f7f8ac8_f972_11ea_ad3e_9c5a444e0ce9row5_col6\" class=\"data row5 col6\" >0.857143</td>\n",
       "            </tr>\n",
       "            <tr>\n",
       "                        <th id=\"T_3f7f8ac8_f972_11ea_ad3e_9c5a444e0ce9level0_row6\" class=\"row_heading level0 row6\" >6</th>\n",
       "                        <td id=\"T_3f7f8ac8_f972_11ea_ad3e_9c5a444e0ce9row6_col0\" class=\"data row6 col0\" >0.7</td>\n",
       "                        <td id=\"T_3f7f8ac8_f972_11ea_ad3e_9c5a444e0ce9row6_col1\" class=\"data row6 col1\" >0.823308</td>\n",
       "                        <td id=\"T_3f7f8ac8_f972_11ea_ad3e_9c5a444e0ce9row6_col2\" class=\"data row6 col2\" >0.833333</td>\n",
       "                        <td id=\"T_3f7f8ac8_f972_11ea_ad3e_9c5a444e0ce9row6_col3\" class=\"data row6 col3\" >0.789474</td>\n",
       "                        <td id=\"T_3f7f8ac8_f972_11ea_ad3e_9c5a444e0ce9row6_col4\" class=\"data row6 col4\" >0.825</td>\n",
       "                        <td id=\"T_3f7f8ac8_f972_11ea_ad3e_9c5a444e0ce9row6_col5\" class=\"data row6 col5\" >0.648241</td>\n",
       "                        <td id=\"T_3f7f8ac8_f972_11ea_ad3e_9c5a444e0ce9row6_col6\" class=\"data row6 col6\" >0.810811</td>\n",
       "            </tr>\n",
       "            <tr>\n",
       "                        <th id=\"T_3f7f8ac8_f972_11ea_ad3e_9c5a444e0ce9level0_row7\" class=\"row_heading level0 row7\" >7</th>\n",
       "                        <td id=\"T_3f7f8ac8_f972_11ea_ad3e_9c5a444e0ce9row7_col0\" class=\"data row7 col0\" >0.8</td>\n",
       "                        <td id=\"T_3f7f8ac8_f972_11ea_ad3e_9c5a444e0ce9row7_col1\" class=\"data row7 col1\" >0.822055</td>\n",
       "                        <td id=\"T_3f7f8ac8_f972_11ea_ad3e_9c5a444e0ce9row7_col2\" class=\"data row7 col2\" >0.852941</td>\n",
       "                        <td id=\"T_3f7f8ac8_f972_11ea_ad3e_9c5a444e0ce9row7_col3\" class=\"data row7 col3\" >0.763158</td>\n",
       "                        <td id=\"T_3f7f8ac8_f972_11ea_ad3e_9c5a444e0ce9row7_col4\" class=\"data row7 col4\" >0.825</td>\n",
       "                        <td id=\"T_3f7f8ac8_f972_11ea_ad3e_9c5a444e0ce9row7_col5\" class=\"data row7 col5\" >0.647355</td>\n",
       "                        <td id=\"T_3f7f8ac8_f972_11ea_ad3e_9c5a444e0ce9row7_col6\" class=\"data row7 col6\" >0.805556</td>\n",
       "            </tr>\n",
       "            <tr>\n",
       "                        <th id=\"T_3f7f8ac8_f972_11ea_ad3e_9c5a444e0ce9level0_row8\" class=\"row_heading level0 row8\" >8</th>\n",
       "                        <td id=\"T_3f7f8ac8_f972_11ea_ad3e_9c5a444e0ce9row8_col0\" class=\"data row8 col0\" >0.9</td>\n",
       "                        <td id=\"T_3f7f8ac8_f972_11ea_ad3e_9c5a444e0ce9row8_col1\" class=\"data row8 col1\" >0.803885</td>\n",
       "                        <td id=\"T_3f7f8ac8_f972_11ea_ad3e_9c5a444e0ce9row8_col2\" class=\"data row8 col2\" >0.96</td>\n",
       "                        <td id=\"T_3f7f8ac8_f972_11ea_ad3e_9c5a444e0ce9row8_col3\" class=\"data row8 col3\" >0.631579</td>\n",
       "                        <td id=\"T_3f7f8ac8_f972_11ea_ad3e_9c5a444e0ce9row8_col4\" class=\"data row8 col4\" >0.8125</td>\n",
       "                        <td id=\"T_3f7f8ac8_f972_11ea_ad3e_9c5a444e0ce9row8_col5\" class=\"data row8 col5\" >0.617834</td>\n",
       "                        <td id=\"T_3f7f8ac8_f972_11ea_ad3e_9c5a444e0ce9row8_col6\" class=\"data row8 col6\" >0.761905</td>\n",
       "            </tr>\n",
       "    </tbody></table>"
      ],
      "text/plain": [
       "<pandas.io.formats.style.Styler at 0x272678b4b48>"
      ]
     },
     "execution_count": 38,
     "metadata": {},
     "output_type": "execute_result"
    }
   ],
   "source": [
    "# print the score card \n",
    "print('Score Card for Logistic regression:')\n",
    "\n",
    "# sort the dataframe based on the probability cut-off values ascending order\n",
    "# 'reset_index' resets the index of the dataframe\n",
    "# 'drop = True' drops the previous index\n",
    "score_card = score_card.sort_values('Probability Cutoff').reset_index(drop = True)\n",
    "\n",
    "# color the cell in the columns 'AUC Score', 'Accuracy Score', 'Kappa Score', 'f1-score' having maximum values\n",
    "# 'style.highlight_max' assigns color to the maximum value\n",
    "# pass specified color to the parameter, 'color'\n",
    "# pass the data to limit the color assignment to the parameter, 'subset' \n",
    "score_card.style.highlight_max(color = 'lightblue', subset = ['AUC Score', 'Accuracy Score', 'Kappa Score', 'f1-score'])"
   ]
  },
  {
   "cell_type": "markdown",
   "metadata": {},
   "source": [
    "**Interpretation:** The above dataframe shows that, the model cut_off probability 0.6, returns the highest AUC score, f1-score, kappa score and accuracy."
   ]
  },
  {
   "cell_type": "markdown",
   "metadata": {},
   "source": [
    "#### In the above method, we passed the list of values for the cut-off. But, this method is not efficient as one can pass different values and obtain a cut-off based on the passed values.\n",
    "\n",
    "#### To obtain the optimal cut-off value we use the following methods:\n",
    "\n",
    "1. Youden's Index\n",
    "2. Cost-based Method"
   ]
  },
  {
   "cell_type": "markdown",
   "metadata": {},
   "source": [
    "<a id=\"youden\"></a>\n",
    "### 3.1.1 Youden's Index"
   ]
  },
  {
   "cell_type": "markdown",
   "metadata": {},
   "source": [
    "Youden's Index is the classification cut-off probability for which the (Sensitivity + Specificity - 1) is maximized.<br>\n",
    "\n",
    "<p style='text-indent:12em'> <strong>Youden's Index = max(Sensitivity + Specificity - 1) = max(TPR + TNR - 1) = max(TPR - FPR) </strong> </p>\n",
    "\n",
    "i.e. select the cut-off probability for which the (TPR - FPR) is maximum."
   ]
  },
  {
   "cell_type": "code",
   "execution_count": 39,
   "metadata": {},
   "outputs": [
    {
     "data": {
      "text/html": [
       "<div>\n",
       "<style scoped>\n",
       "    .dataframe tbody tr th:only-of-type {\n",
       "        vertical-align: middle;\n",
       "    }\n",
       "\n",
       "    .dataframe tbody tr th {\n",
       "        vertical-align: top;\n",
       "    }\n",
       "\n",
       "    .dataframe thead th {\n",
       "        text-align: right;\n",
       "    }\n",
       "</style>\n",
       "<table border=\"1\" class=\"dataframe\">\n",
       "  <thead>\n",
       "    <tr style=\"text-align: right;\">\n",
       "      <th></th>\n",
       "      <th>TPR</th>\n",
       "      <th>FPR</th>\n",
       "      <th>Threshold</th>\n",
       "      <th>Difference</th>\n",
       "    </tr>\n",
       "  </thead>\n",
       "  <tbody>\n",
       "    <tr>\n",
       "      <td>0</td>\n",
       "      <td>0.868421</td>\n",
       "      <td>0.142857</td>\n",
       "      <td>0.618555</td>\n",
       "      <td>0.725564</td>\n",
       "    </tr>\n",
       "    <tr>\n",
       "      <td>1</td>\n",
       "      <td>0.763158</td>\n",
       "      <td>0.047619</td>\n",
       "      <td>0.841912</td>\n",
       "      <td>0.715539</td>\n",
       "    </tr>\n",
       "    <tr>\n",
       "      <td>2</td>\n",
       "      <td>0.710526</td>\n",
       "      <td>0.023810</td>\n",
       "      <td>0.860956</td>\n",
       "      <td>0.686717</td>\n",
       "    </tr>\n",
       "    <tr>\n",
       "      <td>3</td>\n",
       "      <td>0.921053</td>\n",
       "      <td>0.238095</td>\n",
       "      <td>0.380299</td>\n",
       "      <td>0.682957</td>\n",
       "    </tr>\n",
       "    <tr>\n",
       "      <td>4</td>\n",
       "      <td>0.710526</td>\n",
       "      <td>0.047619</td>\n",
       "      <td>0.858806</td>\n",
       "      <td>0.662907</td>\n",
       "    </tr>\n",
       "  </tbody>\n",
       "</table>\n",
       "</div>"
      ],
      "text/plain": [
       "       TPR      FPR  Threshold  Difference\n",
       "0 0.868421 0.142857   0.618555    0.725564\n",
       "1 0.763158 0.047619   0.841912    0.715539\n",
       "2 0.710526 0.023810   0.860956    0.686717\n",
       "3 0.921053 0.238095   0.380299    0.682957\n",
       "4 0.710526 0.047619   0.858806    0.662907"
      ]
     },
     "execution_count": 39,
     "metadata": {},
     "output_type": "execute_result"
    }
   ],
   "source": [
    "# create a dataframe to store the values for false positive rate, true positive rate and threshold\n",
    "youdens_table = pd.DataFrame({'TPR': tpr,\n",
    "                             'FPR': fpr,\n",
    "                             'Threshold': thresholds})\n",
    "\n",
    "# calculate the difference between TPR and FPR for each threshold and store the values in a new column 'Difference'\n",
    "youdens_table['Difference'] = youdens_table.TPR - youdens_table.FPR\n",
    "\n",
    "# sort the dataframe based on the values of difference \n",
    "# 'ascending = False' sorts the data in descending order\n",
    "# 'reset_index' resets the index of the dataframe\n",
    "# 'drop = True' drops the previous index\n",
    "youdens_table = youdens_table.sort_values('Difference', ascending = False).reset_index(drop = True)\n",
    "\n",
    "# print the first five observations\n",
    "youdens_table.head()"
   ]
  },
  {
   "cell_type": "markdown",
   "metadata": {},
   "source": [
    "As we can see that the optimal cut-off probability is approximately 0.62. Let us consider this cut-off to predict the target values. i.e. if 'y_pred_prob' is less than 0.62, then consider it to be 0 else consider it to be 1."
   ]
  },
  {
   "cell_type": "code",
   "execution_count": 40,
   "metadata": {},
   "outputs": [],
   "source": [
    "# convert probabilities to 0 and 1 using 'if_else'\n",
    "y_pred_youden = [ 0 if x < 0.62 else 1 for x in y_pred_prob]"
   ]
  },
  {
   "cell_type": "markdown",
   "metadata": {},
   "source": [
    "#### Plot the confusion matrix."
   ]
  },
  {
   "cell_type": "code",
   "execution_count": 41,
   "metadata": {
    "colab": {},
    "colab_type": "code",
    "id": "Av39nL7SebpS",
    "outputId": "eb72d174-cce1-49f2-abcc-b8a6111b2008"
   },
   "outputs": [
    {
     "data": {
      "image/png": "[encoded data removed]",
      "text/plain": [
       "<Figure size 1080x576 with 1 Axes>"
      ]
     },
     "metadata": {
      "needs_background": "light"
     },
     "output_type": "display_data"
    }
   ],
   "source": [
    "# create a confusion matrix\n",
    "# pass the actual and predicted target values to the confusion_matrix()\n",
    "cm = confusion_matrix(y_test, y_pred_youden)\n",
    "\n",
    "# label the confusion matrix  \n",
    "# pass the matrix as 'data'\n",
    "# pass the required column names to the parameter, 'columns'\n",
    "# pass the required row names to the parameter, 'index'\n",
    "conf_matrix = pd.DataFrame(data = cm,columns = ['Predicted:0','Predicted:1'], index = ['Actual:0','Actual:1'])\n",
    "\n",
    "# plot a heatmap to visualize the confusion matrix\n",
    "# 'annot' prints the value of each grid \n",
    "# 'fmt = d' returns the integer value in each grid\n",
    "# 'cmap' assigns color to each grid\n",
    "# as we do not require different colors for each grid in the heatmap,\n",
    "# use 'ListedColormap' to assign the specified color to the grid\n",
    "# 'cbar = False' will not return the color bar to the right side of the heatmap\n",
    "# 'linewidths' assigns the width to the line that divides each grid\n",
    "# 'annot_kws = {'size':25})' assigns the font size of the annotated text \n",
    "sns.heatmap(conf_matrix, annot = True, fmt = 'd', cmap = ListedColormap(['lightskyblue']), cbar = False, \n",
    "            linewidths = 0.1, annot_kws = {'size':25})\n",
    "\n",
    "# set the font size of x-axis ticks using 'fontsize'\n",
    "plt.xticks(fontsize = 20)\n",
    "\n",
    "# set the font size of y-axis ticks using 'fontsize'\n",
    "plt.yticks(fontsize = 20)\n",
    "\n",
    "# display the plot\n",
    "plt.show()"
   ]
  },
  {
   "cell_type": "markdown",
   "metadata": {},
   "source": [
    "**Compute various performance metrics.**"
   ]
  },
  {
   "cell_type": "code",
   "execution_count": 42,
   "metadata": {
    "scrolled": true
   },
   "outputs": [
    {
     "name": "stdout",
     "output_type": "stream",
     "text": [
      "              precision    recall  f1-score   support\n",
      "\n",
      "           0       0.86      0.86      0.86        42\n",
      "           1       0.84      0.84      0.84        38\n",
      "\n",
      "    accuracy                           0.85        80\n",
      "   macro avg       0.85      0.85      0.85        80\n",
      "weighted avg       0.85      0.85      0.85        80\n",
      "\n"
     ]
    }
   ],
   "source": [
    "# calculate various performance measures\n",
    "acc_table = classification_report(y_test, y_pred_youden)\n",
    "\n",
    "# print the table\n",
    "print(acc_table)"
   ]
  },
  {
   "cell_type": "markdown",
   "metadata": {},
   "source": [
    "**Interpretation:** From the above output, we can see that the model with cut-off = 0.62, is 85% accurate. The specificity and the sensitivity are nearly balanced."
   ]
  },
  {
   "cell_type": "code",
   "execution_count": 43,
   "metadata": {},
   "outputs": [
    {
     "name": "stdout",
     "output_type": "stream",
     "text": [
      "kappa value: 0.6992481203007519\n"
     ]
    }
   ],
   "source": [
    "# compute the kappa value\n",
    "kappa = cohen_kappa_score(y_test, y_pred_youden)\n",
    "\n",
    "# print the kappa value\n",
    "print('kappa value:',kappa)"
   ]
  },
  {
   "cell_type": "markdown",
   "metadata": {},
   "source": [
    "**Interpretation:** As the kappa score for the full model (with cut-off probability 0.62) is 0.6992, we can say that there is substantial agreement between the actual and predicted values."
   ]
  },
  {
   "cell_type": "markdown",
   "metadata": {},
   "source": [
    "<a id=\"cost\"></a>\n",
    "### 3.1.2 Cost-based Method"
   ]
  },
  {
   "cell_type": "markdown",
   "metadata": {},
   "source": [
    "The full logistic regression model (build in section 3), have different values for false positives (FP) and false negatives (FN). Thus, we can use the cost-based method to calculate the optimal value of the cut-off. In this method, we find the optimal value of the cut-off for which the total cost is minimum. The total cost is given by the formula:\n",
    "\n",
    "<p style='text-indent:25em'> <strong>total_cost = FN x C_1 + FP x C_2 </strong> </p>\n",
    "\n",
    "Where,<br>\n",
    "C_1: It is the cost of false negatives <br>\n",
    "C_2: It is the cost of false positives\n",
    "\n",
    "The cost values can be decided using business knowledge."
   ]
  },
  {
   "cell_type": "code",
   "execution_count": 44,
   "metadata": {},
   "outputs": [],
   "source": [
    "# define a function to calculate the total_cost for a cut-off value\n",
    "# pass the actual values of y, predicted probabilities of y, cost for FN and FP\n",
    "def calculate_total_cost(actual_value, predicted_value, cost_FN, cost_FP):\n",
    "\n",
    "    # pass the actual and predicted values to calculate the confusion matrix\n",
    "    cm = confusion_matrix(actual_value, predicted_value)           \n",
    "    \n",
    "    # create an array of the confusion matrix\n",
    "    cm_array = np.array(cm)\n",
    "    \n",
    "    # return the total_cost\n",
    "    return cm_array[1,0] * cost_FN + cm_array[0,1] * cost_FP\n",
    "\n",
    "# create an empty dataframe to store the cost for different probability cut-offs\n",
    "df_total_cost = pd.DataFrame(columns = ['cut-off', 'total_cost'])\n",
    "\n",
    "# initialize i to '0' corresponding to the 1st row in the dataframe\n",
    "i = 0\n",
    "\n",
    "# use for loop to calculate 'total_cost' for each cut-off probability value\n",
    "# call the function 'calculate_total_cost' to calculate the cost\n",
    "# pass the actual y-values\n",
    "# calculate the predicted y-values from 'y_pred_prob' for the cut-off probability value\n",
    "# assign the costs 3.5 and 2 to False Negatives and False Positives respectively\n",
    "# add the obtained 'cut_off' and 'total_cost' at the ith index of the dataframe\n",
    "for cut_off in range(10, 100):\n",
    "    total_cost = calculate_total_cost(y_test,  y_pred_prob.map(lambda x: 1 if x > (cut_off/100) else 0), 3.5, 2) \n",
    "    df_total_cost.loc[i] = [(cut_off/100), total_cost] \n",
    "    \n",
    "    # increment the value of 'i' for each row index in the dataframe 'df_total_cost'\n",
    "    i += 1"
   ]
  },
  {
   "cell_type": "code",
   "execution_count": 45,
   "metadata": {
    "scrolled": true
   },
   "outputs": [
    {
     "data": {
      "text/html": [
       "<div>\n",
       "<style scoped>\n",
       "    .dataframe tbody tr th:only-of-type {\n",
       "        vertical-align: middle;\n",
       "    }\n",
       "\n",
       "    .dataframe tbody tr th {\n",
       "        vertical-align: top;\n",
       "    }\n",
       "\n",
       "    .dataframe thead th {\n",
       "        text-align: right;\n",
       "    }\n",
       "</style>\n",
       "<table border=\"1\" class=\"dataframe\">\n",
       "  <thead>\n",
       "    <tr style=\"text-align: right;\">\n",
       "      <th></th>\n",
       "      <th>cut-off</th>\n",
       "      <th>total_cost</th>\n",
       "    </tr>\n",
       "  </thead>\n",
       "  <tbody>\n",
       "    <tr>\n",
       "      <td>46</td>\n",
       "      <td>0.560000</td>\n",
       "      <td>29.500000</td>\n",
       "    </tr>\n",
       "    <tr>\n",
       "      <td>47</td>\n",
       "      <td>0.570000</td>\n",
       "      <td>29.500000</td>\n",
       "    </tr>\n",
       "    <tr>\n",
       "      <td>48</td>\n",
       "      <td>0.580000</td>\n",
       "      <td>29.500000</td>\n",
       "    </tr>\n",
       "    <tr>\n",
       "      <td>49</td>\n",
       "      <td>0.590000</td>\n",
       "      <td>29.500000</td>\n",
       "    </tr>\n",
       "    <tr>\n",
       "      <td>50</td>\n",
       "      <td>0.600000</td>\n",
       "      <td>29.500000</td>\n",
       "    </tr>\n",
       "    <tr>\n",
       "      <td>51</td>\n",
       "      <td>0.610000</td>\n",
       "      <td>29.500000</td>\n",
       "    </tr>\n",
       "    <tr>\n",
       "      <td>26</td>\n",
       "      <td>0.360000</td>\n",
       "      <td>30.500000</td>\n",
       "    </tr>\n",
       "    <tr>\n",
       "      <td>27</td>\n",
       "      <td>0.370000</td>\n",
       "      <td>30.500000</td>\n",
       "    </tr>\n",
       "    <tr>\n",
       "      <td>28</td>\n",
       "      <td>0.380000</td>\n",
       "      <td>30.500000</td>\n",
       "    </tr>\n",
       "    <tr>\n",
       "      <td>25</td>\n",
       "      <td>0.350000</td>\n",
       "      <td>30.500000</td>\n",
       "    </tr>\n",
       "  </tbody>\n",
       "</table>\n",
       "</div>"
      ],
      "text/plain": [
       "    cut-off  total_cost\n",
       "46 0.560000   29.500000\n",
       "47 0.570000   29.500000\n",
       "48 0.580000   29.500000\n",
       "49 0.590000   29.500000\n",
       "50 0.600000   29.500000\n",
       "51 0.610000   29.500000\n",
       "26 0.360000   30.500000\n",
       "27 0.370000   30.500000\n",
       "28 0.380000   30.500000\n",
       "25 0.350000   30.500000"
      ]
     },
     "execution_count": 45,
     "metadata": {},
     "output_type": "execute_result"
    }
   ],
   "source": [
    "# sort the dataframe based on the 'total_cost' in the ascending order\n",
    "# print the first ten rows in the dataframe\n",
    "df_total_cost.sort_values('total_cost', ascending = True).head(10)"
   ]
  },
  {
   "cell_type": "markdown",
   "metadata": {},
   "source": [
    "From the above output we can see that, the 'total_cost' is same for the cut-off probability values 0.56, 0.57, 0.58, 0.59, 0.60 and 0.61. Thus, we can consider any of these value as the cut-off probability.\n",
    "\n",
    "Here, we are considering the cut-off value as 0.58. i.e. if 'y_pred_prob' is less than 0.58, then consider it to be 0 else consider it to be 1."
   ]
  },
  {
   "cell_type": "code",
   "execution_count": 46,
   "metadata": {},
   "outputs": [],
   "source": [
    "# convert probabilities to 0 and 1 using 'if_else'\n",
    "y_pred_cost = [ 0 if x < 0.58 else 1 for x in y_pred_prob]"
   ]
  },
  {
   "cell_type": "markdown",
   "metadata": {},
   "source": [
    "#### Plot the confusion matrix."
   ]
  },
  {
   "cell_type": "code",
   "execution_count": 47,
   "metadata": {
    "colab": {},
    "colab_type": "code",
    "id": "Av39nL7SebpS",
    "outputId": "eb72d174-cce1-49f2-abcc-b8a6111b2008"
   },
   "outputs": [
    {
     "data": {
      "image/png": "[encoded data removed]",
      "text/plain": [
       "<Figure size 1080x576 with 1 Axes>"
      ]
     },
     "metadata": {
      "needs_background": "light"
     },
     "output_type": "display_data"
    }
   ],
   "source": [
    "# create a confusion matrix\n",
    "# pass the actual and predicted target values to the confusion_matrix()\n",
    "cm = confusion_matrix(y_test, y_pred_cost)\n",
    "\n",
    "# label the confusion matrix  \n",
    "# pass the matrix as 'data'\n",
    "# pass the required column names to the parameter, 'columns'\n",
    "# pass the required row names to the parameter, 'index'\n",
    "conf_matrix = pd.DataFrame(data = cm,columns = ['Predicted:0','Predicted:1'], index = ['Actual:0','Actual:1'])\n",
    "\n",
    "# plot a heatmap to visualize the confusion matrix\n",
    "# 'annot' prints the value of each grid \n",
    "# 'fmt = d' returns the integer value in each grid\n",
    "# 'cmap' assigns color to each grid\n",
    "# as we do not require different colors for each grid in the heatmap,\n",
    "# use 'ListedColormap' to assign the specified color to the grid\n",
    "# 'cbar = False' will not return the color bar to the right side of the heatmap\n",
    "# 'linewidths' assigns the width to the line that divides each grid\n",
    "# 'annot_kws = {'size':25})' assigns the font size of the annotated text \n",
    "sns.heatmap(conf_matrix, annot = True, fmt = 'd', cmap = ListedColormap(['lightskyblue']), cbar = False, \n",
    "            linewidths = 0.1, annot_kws = {'size':25})\n",
    "\n",
    "# set the font size of x-axis ticks using 'fontsize'\n",
    "plt.xticks(fontsize = 20)\n",
    "\n",
    "# set the font size of y-axis ticks using 'fontsize'\n",
    "plt.yticks(fontsize = 20)\n",
    "\n",
    "# display the plot\n",
    "plt.show()"
   ]
  },
  {
   "cell_type": "markdown",
   "metadata": {},
   "source": [
    "**Compute various performance metrics.**"
   ]
  },
  {
   "cell_type": "code",
   "execution_count": 48,
   "metadata": {
    "scrolled": false
   },
   "outputs": [
    {
     "name": "stdout",
     "output_type": "stream",
     "text": [
      "              precision    recall  f1-score   support\n",
      "\n",
      "           0       0.88      0.86      0.87        42\n",
      "           1       0.85      0.87      0.86        38\n",
      "\n",
      "    accuracy                           0.86        80\n",
      "   macro avg       0.86      0.86      0.86        80\n",
      "weighted avg       0.86      0.86      0.86        80\n",
      "\n"
     ]
    }
   ],
   "source": [
    "# calculate various performance measures\n",
    "acc_table = classification_report(y_test, y_pred_cost)\n",
    "\n",
    "# print the table\n",
    "print(acc_table)"
   ]
  },
  {
   "cell_type": "markdown",
   "metadata": {},
   "source": [
    "**Interpretation:** From the above output, we can see that the model with cut-off = 0.58 is 86% accurate. "
   ]
  },
  {
   "cell_type": "code",
   "execution_count": 49,
   "metadata": {},
   "outputs": [
    {
     "name": "stdout",
     "output_type": "stream",
     "text": [
      "kappa value: 0.7246558197747184\n"
     ]
    }
   ],
   "source": [
    "# compute the kappa value\n",
    "kappa = cohen_kappa_score(y_test, y_pred_cost)\n",
    "\n",
    "# print the kappa value\n",
    "print('kappa value:',kappa)"
   ]
  },
  {
   "cell_type": "markdown",
   "metadata": {},
   "source": [
    "**Interpretation:** As the kappa score for the full model (with cut-off probability 0.58) is 0.7247, we can say that there is substantial agreement between the actual and predicted values."
   ]
  },
  {
   "cell_type": "markdown",
   "metadata": {},
   "source": [
    "<a id=\"rfe\"></a>\n",
    "# 4. Recursive Feature Elimination (RFE)"
   ]
  },
  {
   "cell_type": "markdown",
   "metadata": {},
   "source": [
    "In the linear regression module, we learn about various techniques for selecting the significant features in the dataset. In this example, let us consider the RFE method for feature selection."
   ]
  },
  {
   "cell_type": "code",
   "execution_count": 50,
   "metadata": {},
   "outputs": [
    {
     "name": "stdout",
     "output_type": "stream",
     "text": [
      "Index(['GRE Score', 'University Rating', 'CGPA'], dtype='object')\n"
     ]
    }
   ],
   "source": [
    "# consider the independent variables (without the intercept term)\n",
    "# as, X_train and X_test contains the intercept term\n",
    "# use 'iloc' to select the variables wthout intercept term \n",
    "X_train_rfe = X_train.iloc[:,1:]\n",
    "X_test_rfe = X_test.iloc[:,1:]\n",
    "\n",
    "# initiate logistic regression model to use in feature selection\n",
    "logreg = LogisticRegression()\n",
    "\n",
    "# build the RFE model\n",
    "# pass the logistic regression model to 'estimator'\n",
    "# pass number of required features to 'n_features_to_select'\n",
    "# if we do not pass the number of features, RFE considers half of the features\n",
    "rfe_model = RFE(estimator = logreg, n_features_to_select = 3)\n",
    "\n",
    "# fit the RFE model on the train dataset using fit()\n",
    "rfe_model = rfe_model.fit(X_train_rfe, y_train)\n",
    "\n",
    "# create a series containing feature and its corresponding rank obtained from RFE\n",
    "# 'ranking_' returns the rank of each variable after applying RFE\n",
    "# pass the ranks as the 'data' of a series\n",
    "# 'index' assigns feature names as index of a series \n",
    "feat_index = pd.Series(data = rfe_model.ranking_, index = X_train_rfe.columns)\n",
    "\n",
    "# select the features with rank = 1\n",
    "# 'index' returns the indices of a series (i.e. features with rank=1) \n",
    "signi_feat_rfe = feat_index[feat_index==1].index\n",
    "\n",
    "# print the significant features obtained from RFE\n",
    "print(signi_feat_rfe)"
   ]
  },
  {
   "cell_type": "markdown",
   "metadata": {},
   "source": [
    "#### Build the logisitc regression model using the variables obtained from RFE."
   ]
  },
  {
   "cell_type": "code",
   "execution_count": 51,
   "metadata": {},
   "outputs": [
    {
     "name": "stdout",
     "output_type": "stream",
     "text": [
      "Optimization terminated successfully.\n",
      "         Current function value: 0.251732\n",
      "         Iterations 8\n",
      "                           Logit Regression Results                           \n",
      "==============================================================================\n",
      "Dep. Variable:        Chance of Admit   No. Observations:                  320\n",
      "Model:                          Logit   Df Residuals:                      316\n",
      "Method:                           MLE   Df Model:                            3\n",
      "Date:                Fri, 18 Sep 2020   Pseudo R-squ.:                  0.6335\n",
      "Time:                        11:16:09   Log-Likelihood:                -80.554\n",
      "converged:                       True   LL-Null:                       -219.78\n",
      "Covariance Type:            nonrobust   LLR p-value:                 4.590e-60\n",
      "=====================================================================================\n",
      "                        coef    std err          z      P>|z|      [0.025      0.975]\n",
      "-------------------------------------------------------------------------------------\n",
      "const                -0.4202      0.205     -2.046      0.041      -0.823      -0.018\n",
      "GRE Score             0.8531      0.372      2.294      0.022       0.124       1.582\n",
      "University Rating     0.8757      0.332      2.637      0.008       0.225       1.527\n",
      "CGPA                  2.8644      0.508      5.635      0.000       1.868       3.861\n",
      "=====================================================================================\n"
     ]
    }
   ],
   "source": [
    "# build the model on train data (X_train and y_train)\n",
    "# use fit() to fit the logistic regression model\n",
    "# consider the variables obtained from RFE method and the intercept term\n",
    "logreg_rfe = sm.Logit(y_train, X_train[['const', 'GRE Score', 'University Rating', 'CGPA']]).fit()\n",
    "\n",
    "# print the summary of the model\n",
    "print(logreg_rfe.summary())"
   ]
  },
  {
   "cell_type": "markdown",
   "metadata": {},
   "source": [
    "**Calculate the AIC (Akaike Information Criterion) value.**\n",
    "\n",
    "It is a relative measure of model evaluation. It gives a trade-off between model accuracy and model complexity."
   ]
  },
  {
   "cell_type": "code",
   "execution_count": 52,
   "metadata": {},
   "outputs": [
    {
     "name": "stdout",
     "output_type": "stream",
     "text": [
      "AIC: 169.1085789639927\n"
     ]
    }
   ],
   "source": [
    "# 'aic' retuns the AIC value for the model\n",
    "print('AIC:', logreg_rfe.aic)"
   ]
  },
  {
   "cell_type": "markdown",
   "metadata": {},
   "source": [
    "**Do predictions on the test set.**"
   ]
  },
  {
   "cell_type": "code",
   "execution_count": 53,
   "metadata": {
    "colab": {},
    "colab_type": "code",
    "id": "UP5DA9_qebpC",
    "scrolled": true
   },
   "outputs": [
    {
     "data": {
      "text/plain": [
       "332   0.046820\n",
       "111   0.727388\n",
       "352   0.007586\n",
       "205   0.000586\n",
       "56    0.001808\n",
       "dtype: float64"
      ]
     },
     "execution_count": 53,
     "metadata": {},
     "output_type": "execute_result"
    }
   ],
   "source": [
    "# let 'y_pred_prob_rfe' be the predicted values of y\n",
    "y_pred_prob_rfe = logreg_rfe.predict(X_test[['const', 'GRE Score', 'University Rating', 'CGPA']])\n",
    "\n",
    "# print the y_pred_prob_rfe\n",
    "y_pred_prob_rfe.head()"
   ]
  },
  {
   "cell_type": "markdown",
   "metadata": {},
   "source": [
    "Since the target variable can take only two values either 0 or 1. We consider the cut-off value 0.6. i.e. if 'y_pred_prob_rfe' is less than 0.6, then consider it to be 0 else consider it to be 1."
   ]
  },
  {
   "cell_type": "code",
   "execution_count": 54,
   "metadata": {
    "colab": {},
    "colab_type": "code",
    "id": "s-aj8refebpI"
   },
   "outputs": [],
   "source": [
    "# convert probabilities to 0 and 1 using 'if_else'\n",
    "y_pred_rfe = [ 0 if x < 0.6 else 1 for x in y_pred_prob_rfe]"
   ]
  },
  {
   "cell_type": "code",
   "execution_count": 55,
   "metadata": {},
   "outputs": [
    {
     "data": {
      "text/plain": [
       "[0, 1, 0, 0, 0]"
      ]
     },
     "execution_count": 55,
     "metadata": {},
     "output_type": "execute_result"
    }
   ],
   "source": [
    "# print the first five observations of y_pred_rfe\n",
    "y_pred_rfe[0:5]"
   ]
  },
  {
   "cell_type": "markdown",
   "metadata": {},
   "source": [
    "#### Plot the confusion matrix."
   ]
  },
  {
   "cell_type": "code",
   "execution_count": 56,
   "metadata": {
    "colab": {},
    "colab_type": "code",
    "id": "Av39nL7SebpS",
    "outputId": "eb72d174-cce1-49f2-abcc-b8a6111b2008"
   },
   "outputs": [
    {
     "data": {
      "image/png": "[encoded data removed]",
      "text/plain": [
       "<Figure size 1080x576 with 1 Axes>"
      ]
     },
     "metadata": {
      "needs_background": "light"
     },
     "output_type": "display_data"
    }
   ],
   "source": [
    "# create a confusion matrix\n",
    "# pass the actual and predicted target values to the confusion_matrix()\n",
    "cm = confusion_matrix(y_test, y_pred_rfe)\n",
    "\n",
    "# label the confusion matrix  \n",
    "# pass the matrix as 'data'\n",
    "# pass the required column names to the parameter, 'columns'\n",
    "# pass the required row names to the parameter, 'index'\n",
    "conf_matrix = pd.DataFrame(data = cm,columns = ['Predicted:0','Predicted:1'], index = ['Actual:0','Actual:1'])\n",
    "\n",
    "# plot a heatmap to visualize the confusion matrix\n",
    "# 'annot' prints the value of each grid \n",
    "# 'fmt = d' returns the integer value in each grid\n",
    "# 'cmap' assigns color to each grid\n",
    "# as we do not require different colors for each grid in the heatmap,\n",
    "# use 'ListedColormap' to assign the specified color to the grid\n",
    "# 'cbar = False' will not return the color bar to the right side of the heatmap\n",
    "# 'linewidths' assigns the width to the line that divides each grid\n",
    "# 'annot_kws = {'size':25})' assigns the font size of the annotated text \n",
    "sns.heatmap(conf_matrix, annot = True, fmt = 'd', cmap = ListedColormap(['lightskyblue']), cbar = False, \n",
    "            linewidths = 0.1, annot_kws = {'size':25})\n",
    "\n",
    "# set the font size of x-axis ticks using 'fontsize'\n",
    "plt.xticks(fontsize = 20)\n",
    "\n",
    "# set the font size of y-axis ticks using 'fontsize'\n",
    "plt.yticks(fontsize = 20)\n",
    "\n",
    "# display the plot\n",
    "plt.show()"
   ]
  },
  {
   "cell_type": "markdown",
   "metadata": {},
   "source": [
    "#### Compute the performance measures."
   ]
  },
  {
   "cell_type": "code",
   "execution_count": 57,
   "metadata": {
    "scrolled": true
   },
   "outputs": [
    {
     "name": "stdout",
     "output_type": "stream",
     "text": [
      "              precision    recall  f1-score   support\n",
      "\n",
      "           0       0.84      0.86      0.85        42\n",
      "           1       0.84      0.82      0.83        38\n",
      "\n",
      "    accuracy                           0.84        80\n",
      "   macro avg       0.84      0.84      0.84        80\n",
      "weighted avg       0.84      0.84      0.84        80\n",
      "\n"
     ]
    }
   ],
   "source": [
    "# performance measures obtained by classification_report()\n",
    "result = classification_report(y_test, y_pred_rfe)\n",
    "\n",
    "# print the result\n",
    "print(result)"
   ]
  },
  {
   "cell_type": "markdown",
   "metadata": {},
   "source": [
    "**Interpretation:** From the above output, we can see that the model with cut-off = 0.6 is 84% accurate. "
   ]
  },
  {
   "cell_type": "code",
   "execution_count": 58,
   "metadata": {},
   "outputs": [
    {
     "name": "stdout",
     "output_type": "stream",
     "text": [
      "kappa value: 0.6737766624843162\n"
     ]
    }
   ],
   "source": [
    "# compute the kappa value\n",
    "kappa = cohen_kappa_score(y_test, y_pred_rfe)\n",
    "\n",
    "# print the kappa value\n",
    "print('kappa value:',kappa)"
   ]
  },
  {
   "cell_type": "markdown",
   "metadata": {},
   "source": [
    "**Interpretation:** As the kappa score for the full model (with cut-off probability 0.6) is 0.6738, we can say that there is substantial agreement between the actual and predicted values."
   ]
  },
  {
   "cell_type": "markdown",
   "metadata": {},
   "source": [
    "#### Plot the ROC curve."
   ]
  },
  {
   "cell_type": "code",
   "execution_count": 59,
   "metadata": {
    "colab": {},
    "colab_type": "code",
    "id": "Edtmcgdlebpe"
   },
   "outputs": [
    {
     "data": {
      "image/png": "[encoded data removed]",
      "text/plain": [
       "<Figure size 1080x576 with 1 Axes>"
      ]
     },
     "metadata": {
      "needs_background": "light"
     },
     "output_type": "display_data"
    }
   ],
   "source": [
    "# the roc_curve() returns the values for false positive rate, true positive rate and threshold\n",
    "# pass the actual target values and predicted probabilities to the function\n",
    "fpr, tpr, thresholds = roc_curve(y_test, y_pred_prob_rfe)\n",
    "\n",
    "# plot the ROC curve\n",
    "plt.plot(fpr, tpr)\n",
    "\n",
    "# set limits for x and y axes\n",
    "plt.xlim([0.0, 1.0])\n",
    "plt.ylim([0.0, 1.0])\n",
    "\n",
    "# plot the straight line showing worst prediction for the model\n",
    "plt.plot([0, 1], [0, 1],'r--')\n",
    "\n",
    "# add plot and axes labels\n",
    "# set text size using 'fontsize'\n",
    "plt.title('ROC curve for Admission Prediction Classifier (RFE Model)', fontsize = 15)\n",
    "plt.xlabel('False positive rate (1-Specificity)', fontsize = 15)\n",
    "plt.ylabel('True positive rate (Sensitivity)', fontsize = 15)\n",
    "\n",
    "# add the AUC score to the plot\n",
    "# 'x' and 'y' gives position of the text\n",
    "# 's' is the text \n",
    "# use round() to round-off the AUC score upto 4 digits\n",
    "plt.text(x = 0.02, y = 0.9, s = ('AUC Score:', round(metrics.roc_auc_score(y_test, y_pred_prob_rfe),4)))\n",
    "                               \n",
    "# plot the grid\n",
    "plt.grid(True)"
   ]
  },
  {
   "cell_type": "markdown",
   "metadata": {},
   "source": [
    "**Interpretation:** The red dotted line represents the ROC curve of a purely random classifier; a good classifier stays as far away from that line as possible (toward the top-left corner).<br>\n",
    "From the above plot, we can see that our classifier (logistic regression with features obtained from RFE method) is away from the dotted line; with the AUC score 0.9273"
   ]
  }
 ],
 "metadata": {
  "kernelspec": {
   "display_name": "Python 3 (ipykernel)",
   "language": "python",
   "name": "python3"
  },
  "language_info": {
   "codemirror_mode": {
    "name": "ipython",
    "version": 3
   },
   "file_extension": ".py",
   "mimetype": "text/x-python",
   "name": "python",
   "nbconvert_exporter": "python",
   "pygments_lexer": "ipython3",
   "version": "3.10.9"
  }
 },
 "nbformat": 4,
 "nbformat_minor": 2
}
