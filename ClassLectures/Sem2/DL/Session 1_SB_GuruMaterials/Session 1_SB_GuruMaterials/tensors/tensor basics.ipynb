{
 "cells": [
  {
   "cell_type": "code",
   "execution_count": 2,
   "metadata": {
    "executionInfo": {
     "elapsed": 7951,
     "status": "ok",
     "timestamp": 1716206284781,
     "user": {
      "displayName": "Sagarika Borah",
      "userId": "16033830323295691159"
     },
     "user_tz": -330
    },
    "id": "co6NKvAFe8p8"
   },
   "outputs": [],
   "source": [
    "import numpy as np\n",
    "import matplotlib.pyplot as plt\n",
    "import tensorflow as tf"
   ]
  },
  {
   "cell_type": "markdown",
   "metadata": {
    "id": "sGxB3HLg8Kw9"
   },
   "source": [
    "## \"Hello world\" in TF"
   ]
  },
  {
   "cell_type": "code",
   "execution_count": 3,
   "metadata": {
    "colab": {
     "base_uri": "https://localhost:8080/"
    },
    "executionInfo": {
     "elapsed": 14,
     "status": "ok",
     "timestamp": 1716206284781,
     "user": {
      "displayName": "Sagarika Borah",
      "userId": "16033830323295691159"
     },
     "user_tz": -330
    },
    "id": "oGx5ntMd8Gqt",
    "outputId": "10198a8a-62fe-4cde-8c31-cfc9bf285d67"
   },
   "outputs": [
    {
     "name": "stdout",
     "output_type": "stream",
     "text": [
      "tf.Tensor(b'hello world', shape=(), dtype=string)\n"
     ]
    }
   ],
   "source": [
    "# Create a Tensor.\n",
    "hello = tf.constant(\"hello world\")\n",
    "print(hello)"
   ]
  },
  {
   "cell_type": "code",
   "execution_count": 4,
   "metadata": {
    "colab": {
     "base_uri": "https://localhost:8080/"
    },
    "executionInfo": {
     "elapsed": 4,
     "status": "ok",
     "timestamp": 1716206292376,
     "user": {
      "displayName": "Sagarika Borah",
      "userId": "16033830323295691159"
     },
     "user_tz": -330
    },
    "id": "7MI-TICn3WIu",
    "outputId": "303c2f35-0707-48dc-b541-5847aa53d246"
   },
   "outputs": [
    {
     "data": {
      "text/plain": [
       "<tf.Tensor: shape=(), dtype=string, numpy=b'hello world'>"
      ]
     },
     "execution_count": 4,
     "metadata": {},
     "output_type": "execute_result"
    }
   ],
   "source": [
    "hello"
   ]
  },
  {
   "cell_type": "code",
   "execution_count": null,
   "metadata": {
    "id": "gG4nx85D8J4Y"
   },
   "outputs": [],
   "source": [
    "# To access a Tensor value, call numpy().\n",
    "print(hello.numpy())"
   ]
  },
  {
   "cell_type": "markdown",
   "metadata": {
    "id": "RK6dMgMjgHMa"
   },
   "source": [
    "##Data representations in tensors\n",
    "\n",
    "1. Scalar (0D tensor)\n",
    "\n",
    "tensor that contain only 1 number is called a scalar tensor."
   ]
  },
  {
   "cell_type": "code",
   "execution_count": 2,
   "metadata": {
    "colab": {
     "base_uri": "https://localhost:8080/"
    },
    "executionInfo": {
     "elapsed": 522,
     "status": "ok",
     "timestamp": 1716184235004,
     "user": {
      "displayName": "Sagarika Borah",
      "userId": "16033830323295691159"
     },
     "user_tz": -330
    },
    "id": "aTLDierxf0o9",
    "outputId": "e59adc08-517c-49c8-a22e-56eff99e066a"
   },
   "outputs": [
    {
     "data": {
      "text/plain": [
       "array(10)"
      ]
     },
     "execution_count": 2,
     "metadata": {},
     "output_type": "execute_result"
    }
   ],
   "source": [
    "x=np.array(10)\n",
    "x"
   ]
  },
  {
   "cell_type": "code",
   "execution_count": 3,
   "metadata": {
    "colab": {
     "base_uri": "https://localhost:8080/"
    },
    "executionInfo": {
     "elapsed": 3,
     "status": "ok",
     "timestamp": 1716184253424,
     "user": {
      "displayName": "Sagarika Borah",
      "userId": "16033830323295691159"
     },
     "user_tz": -330
    },
    "id": "cN92tIinjV-_",
    "outputId": "f9fa2de9-2a07-4cce-a580-00d5fc005c38"
   },
   "outputs": [
    {
     "data": {
      "text/plain": [
       "0"
      ]
     },
     "execution_count": 3,
     "metadata": {},
     "output_type": "execute_result"
    }
   ],
   "source": [
    "x.ndim"
   ]
  },
  {
   "cell_type": "code",
   "execution_count": 23,
   "metadata": {
    "executionInfo": {
     "elapsed": 4,
     "status": "ok",
     "timestamp": 1716189862561,
     "user": {
      "displayName": "Sagarika Borah",
      "userId": "16033830323295691159"
     },
     "user_tz": -330
    },
    "id": "25PtO3It4wqy"
   },
   "outputs": [],
   "source": [
    "\n",
    "\n"
   ]
  },
  {
   "cell_type": "code",
   "execution_count": 24,
   "metadata": {
    "colab": {
     "base_uri": "https://localhost:8080/"
    },
    "executionInfo": {
     "elapsed": 5,
     "status": "ok",
     "timestamp": 1716189869365,
     "user": {
      "displayName": "Sagarika Borah",
      "userId": "16033830323295691159"
     },
     "user_tz": -330
    },
    "id": "v5Q_zUHc4yhR",
    "outputId": "3bdc7ff9-9834-427f-c8e1-643578bb5670"
   },
   "outputs": [
    {
     "data": {
      "text/plain": [
       "<tf.Tensor: shape=(), dtype=int32, numpy=2>"
      ]
     },
     "execution_count": 24,
     "metadata": {},
     "output_type": "execute_result"
    }
   ],
   "source": [
    "a"
   ]
  },
  {
   "cell_type": "markdown",
   "metadata": {
    "id": "nL8BmclviCOP"
   },
   "source": [
    "\n",
    "2. Vectors (1D tensor)\n",
    "\n",
    "An array of numbers id called a vector or 1D tensor. 1D tensor has exactly 1 axis.\n",
    "\n",
    "A 5D vector has only one axis and has 5 dimensions along its axis whereas, a 5D tensor has 5 axes (and may have any number of entries along each axis.)"
   ]
  },
  {
   "cell_type": "code",
   "execution_count": null,
   "metadata": {
    "id": "BQ5jAV9e4wOc"
   },
   "outputs": [],
   "source": []
  },
  {
   "cell_type": "code",
   "execution_count": 4,
   "metadata": {
    "colab": {
     "base_uri": "https://localhost:8080/"
    },
    "executionInfo": {
     "elapsed": 4,
     "status": "ok",
     "timestamp": 1716184288960,
     "user": {
      "displayName": "Sagarika Borah",
      "userId": "16033830323295691159"
     },
     "user_tz": -330
    },
    "id": "ggt5Ir08jVRa",
    "outputId": "f3b3b9d1-5e11-4af8-9ec9-e9560382b55b"
   },
   "outputs": [
    {
     "data": {
      "text/plain": [
       "array([10, 13, 15])"
      ]
     },
     "execution_count": 4,
     "metadata": {},
     "output_type": "execute_result"
    }
   ],
   "source": [
    "x1=np.array([10,13,15])\n",
    "x1"
   ]
  },
  {
   "cell_type": "code",
   "execution_count": 5,
   "metadata": {
    "colab": {
     "base_uri": "https://localhost:8080/"
    },
    "executionInfo": {
     "elapsed": 2,
     "status": "ok",
     "timestamp": 1716184295305,
     "user": {
      "displayName": "Sagarika Borah",
      "userId": "16033830323295691159"
     },
     "user_tz": -330
    },
    "id": "qfGN6JiniyQc",
    "outputId": "12ddd8f5-a8a1-4449-86b8-2666b9aecf38"
   },
   "outputs": [
    {
     "data": {
      "text/plain": [
       "1"
      ]
     },
     "execution_count": 5,
     "metadata": {},
     "output_type": "execute_result"
    }
   ],
   "source": [
    "x1.ndim"
   ]
  },
  {
   "cell_type": "code",
   "execution_count": 28,
   "metadata": {
    "colab": {
     "base_uri": "https://localhost:8080/"
    },
    "executionInfo": {
     "elapsed": 4,
     "status": "ok",
     "timestamp": 1716189967217,
     "user": {
      "displayName": "Sagarika Borah",
      "userId": "16033830323295691159"
     },
     "user_tz": -330
    },
    "id": "DvCK4CTC43aU",
    "outputId": "3ea6e94a-6307-422b-a4f5-e85ee9bd81b6"
   },
   "outputs": [
    {
     "data": {
      "text/plain": [
       "<tf.Tensor: shape=(2,), dtype=int32, numpy=array([2, 4], dtype=int32)>"
      ]
     },
     "execution_count": 28,
     "metadata": {},
     "output_type": "execute_result"
    }
   ],
   "source": [
    "b = tf.constant([2,4])\n",
    "b"
   ]
  },
  {
   "cell_type": "markdown",
   "metadata": {
    "id": "t4deiftTi2oR"
   },
   "source": [
    "3. Matrices (2D tensor)\n",
    "\n",
    "An array of vectors is a matrix or a 2D tensor. A matrix has 2 axes (rows and columns)"
   ]
  },
  {
   "cell_type": "code",
   "execution_count": 6,
   "metadata": {
    "colab": {
     "base_uri": "https://localhost:8080/"
    },
    "executionInfo": {
     "elapsed": 410,
     "status": "ok",
     "timestamp": 1716184349537,
     "user": {
      "displayName": "Sagarika Borah",
      "userId": "16033830323295691159"
     },
     "user_tz": -330
    },
    "id": "4-WvQ0S-jNM_",
    "outputId": "b581e548-c281-48e3-b805-474e7b3154cc"
   },
   "outputs": [
    {
     "data": {
      "text/plain": [
       "array([[ 2,  3,  4],\n",
       "       [ 4,  5,  6],\n",
       "       [11, 13,  7]])"
      ]
     },
     "execution_count": 6,
     "metadata": {},
     "output_type": "execute_result"
    }
   ],
   "source": [
    "x2=np.array([[2,3,4],\n",
    "             [4,5,6],\n",
    "             [11,13,7]])\n",
    "x2"
   ]
  },
  {
   "cell_type": "code",
   "execution_count": 30,
   "metadata": {
    "colab": {
     "base_uri": "https://localhost:8080/"
    },
    "executionInfo": {
     "elapsed": 5,
     "status": "ok",
     "timestamp": 1716190003642,
     "user": {
      "displayName": "Sagarika Borah",
      "userId": "16033830323295691159"
     },
     "user_tz": -330
    },
    "id": "IH2R4lOi5Mbq",
    "outputId": "3df07857-2af1-4f55-8f42-d20bd6236a75"
   },
   "outputs": [
    {
     "data": {
      "text/plain": [
       "<tf.Tensor: shape=(2, 2), dtype=int32, numpy=\n",
       "array([[2, 3],\n",
       "       [4, 5]], dtype=int32)>"
      ]
     },
     "execution_count": 30,
     "metadata": {},
     "output_type": "execute_result"
    }
   ],
   "source": [
    "c = tf.constant([[2,3],[4,5]])\n",
    "c"
   ]
  },
  {
   "cell_type": "markdown",
   "metadata": {
    "id": "Tf3eFq2mk5gw"
   },
   "source": [
    "##Key attributes\n",
    "1. ndim: number of axes\n",
    "2. shape: how many dimension the tensor has in each axis\n",
    "3. datatype (float32, int64, float64 etc.)"
   ]
  },
  {
   "cell_type": "code",
   "execution_count": 7,
   "metadata": {
    "colab": {
     "base_uri": "https://localhost:8080/"
    },
    "executionInfo": {
     "elapsed": 5,
     "status": "ok",
     "timestamp": 1716184354191,
     "user": {
      "displayName": "Sagarika Borah",
      "userId": "16033830323295691159"
     },
     "user_tz": -330
    },
    "id": "6hkww86SjvKt",
    "outputId": "cfb6f851-5484-442f-f41d-5afa047b903c"
   },
   "outputs": [
    {
     "data": {
      "text/plain": [
       "2"
      ]
     },
     "execution_count": 7,
     "metadata": {},
     "output_type": "execute_result"
    }
   ],
   "source": [
    "x2.ndim"
   ]
  },
  {
   "cell_type": "code",
   "execution_count": 8,
   "metadata": {
    "colab": {
     "base_uri": "https://localhost:8080/"
    },
    "executionInfo": {
     "elapsed": 2,
     "status": "ok",
     "timestamp": 1716184578551,
     "user": {
      "displayName": "Sagarika Borah",
      "userId": "16033830323295691159"
     },
     "user_tz": -330
    },
    "id": "eiL3wbzQjwdl",
    "outputId": "97064db9-7321-4b31-cdd5-411344407585"
   },
   "outputs": [
    {
     "data": {
      "text/plain": [
       "(3, 3)"
      ]
     },
     "execution_count": 8,
     "metadata": {},
     "output_type": "execute_result"
    }
   ],
   "source": [
    "x2.shape"
   ]
  },
  {
   "cell_type": "code",
   "execution_count": 16,
   "metadata": {
    "colab": {
     "base_uri": "https://localhost:8080/"
    },
    "executionInfo": {
     "elapsed": 508,
     "status": "ok",
     "timestamp": 1716185835096,
     "user": {
      "displayName": "Sagarika Borah",
      "userId": "16033830323295691159"
     },
     "user_tz": -330
    },
    "id": "1OpbYnDqknWl",
    "outputId": "87ac0559-f7ab-474c-ec87-2ca18db07472"
   },
   "outputs": [
    {
     "data": {
      "text/plain": [
       "dtype('int64')"
      ]
     },
     "execution_count": 16,
     "metadata": {},
     "output_type": "execute_result"
    }
   ],
   "source": [
    "x2.dtype"
   ]
  },
  {
   "cell_type": "code",
   "execution_count": null,
   "metadata": {
    "id": "ypscDsm3ksAl"
   },
   "outputs": [],
   "source": []
  },
  {
   "cell_type": "markdown",
   "metadata": {
    "id": "7Et-_LLAppkO"
   },
   "source": [
    "## Manipulating tensors in numpy"
   ]
  },
  {
   "cell_type": "markdown",
   "metadata": {
    "id": "61I4omCzBGGs"
   },
   "source": [
    "#### 1. Create a random tensor with 5 rows and 4 columns. Output random values should form a normal distribution"
   ]
  },
  {
   "cell_type": "code",
   "execution_count": 41,
   "metadata": {
    "colab": {
     "base_uri": "https://localhost:8080/"
    },
    "executionInfo": {
     "elapsed": 748,
     "status": "ok",
     "timestamp": 1716192979917,
     "user": {
      "displayName": "Sagarika Borah",
      "userId": "16033830323295691159"
     },
     "user_tz": -330
    },
    "id": "BhNr308P3WYE",
    "outputId": "5bc8cd1d-2486-4f41-8730-fb0fc55848d1"
   },
   "outputs": [
    {
     "data": {
      "text/plain": [
       "<tf.Tensor: shape=(5, 4), dtype=float32, numpy=\n",
       "array([[-0.76205766, -1.4211569 ,  0.53417665, -0.6680408 ],\n",
       "       [-0.5562921 , -0.4938856 , -0.97492856,  0.7417359 ],\n",
       "       [-0.06042152, -0.01167426, -0.67512995,  0.22219472],\n",
       "       [ 0.35617793, -1.1586422 ,  2.1597333 ,  0.3333806 ],\n",
       "       [-0.05545443,  1.5207409 , -0.4858815 , -0.07932742]],\n",
       "      dtype=float32)>"
      ]
     },
     "execution_count": 41,
     "metadata": {},
     "output_type": "execute_result"
    }
   ],
   "source": [
    "t1=tf.random.normal([5,4])\n",
    "t1"
   ]
  },
  {
   "cell_type": "raw",
   "metadata": {
    "id": "QOi0VGb3rMCI"
   },
   "source": [
    "Each operation you will do with TensorFlow involves the manipulation of a tensor. There are four main tensor type you can create:\n",
    "\n",
    "tf.Variable\n",
    "tf.constant\n",
    "\n",
    "Return type: tf.Tensor\n",
    "\n",
    "In TensorFlow the differences between constants and variables are that when you declare some constant, its value can't be changed in the future (also the initialization should be with a value, not with operation).\n",
    "\n",
    "Nevertheless, when you declare a Variable, you can change its value in the future with tf.assign() method (and the initialization can be achieved with a value or operation).\n",
    "\n",
    "With tf.constant I can create scalar (rank 0), vector(rank 1) and matrix (rank 2)\n",
    "Tensors may have more axes; here is a tensor with three axes:\n",
    "\n",
    "\n"
   ]
  },
  {
   "cell_type": "markdown",
   "metadata": {
    "id": "z9cipex-3WYF"
   },
   "source": [
    "#### 2. Access the third row of the above matrix and print its value alone"
   ]
  },
  {
   "cell_type": "code",
   "execution_count": 42,
   "metadata": {
    "colab": {
     "base_uri": "https://localhost:8080/"
    },
    "executionInfo": {
     "elapsed": 3,
     "status": "ok",
     "timestamp": 1716192980385,
     "user": {
      "displayName": "Sagarika Borah",
      "userId": "16033830323295691159"
     },
     "user_tz": -330
    },
    "id": "mrbFjkLU3WYF",
    "outputId": "742ddec8-b4d4-4615-907b-d30354877bb6"
   },
   "outputs": [
    {
     "data": {
      "text/plain": [
       "array([-0.06042152, -0.01167426, -0.67512995,  0.22219472], dtype=float32)"
      ]
     },
     "execution_count": 42,
     "metadata": {},
     "output_type": "execute_result"
    }
   ],
   "source": [
    "t1[2,:].numpy()"
   ]
  },
  {
   "cell_type": "markdown",
   "metadata": {
    "id": "ee-TwFYX3WYF"
   },
   "source": [
    "#### 3. Replace all the values of third row to zero"
   ]
  },
  {
   "cell_type": "code",
   "execution_count": 43,
   "metadata": {
    "colab": {
     "base_uri": "https://localhost:8080/"
    },
    "executionInfo": {
     "elapsed": 2,
     "status": "ok",
     "timestamp": 1716192981467,
     "user": {
      "displayName": "Sagarika Borah",
      "userId": "16033830323295691159"
     },
     "user_tz": -330
    },
    "id": "8-pTLpsC3WYG",
    "outputId": "27481d84-3ada-4f92-8a14-2d5eee44e959"
   },
   "outputs": [
    {
     "data": {
      "text/plain": [
       "<tf.Variable 'UnreadVariable' shape=(5, 4) dtype=float32, numpy=\n",
       "array([[-0.76205766, -1.4211569 ,  0.53417665, -0.6680408 ],\n",
       "       [-0.5562921 , -0.4938856 , -0.97492856,  0.7417359 ],\n",
       "       [ 0.        ,  0.        ,  0.        ,  0.        ],\n",
       "       [ 0.35617793, -1.1586422 ,  2.1597333 ,  0.3333806 ],\n",
       "       [-0.05545443,  1.5207409 , -0.4858815 , -0.07932742]],\n",
       "      dtype=float32)>"
      ]
     },
     "execution_count": 43,
     "metadata": {},
     "output_type": "execute_result"
    }
   ],
   "source": [
    "t2=tf.Variable(t1)\n",
    "t2[2,:].assign(0)"
   ]
  },
  {
   "cell_type": "markdown",
   "metadata": {
    "id": "wK1Y0_wqqZ2a"
   },
   "source": [
    "##Basic tensor operations\n",
    "\n",
    "1. Element wise operations\n",
    "\n",
    "Arithmetic Operations Are Element-Wise Operations"
   ]
  },
  {
   "cell_type": "code",
   "execution_count": 32,
   "metadata": {
    "colab": {
     "base_uri": "https://localhost:8080/"
    },
    "executionInfo": {
     "elapsed": 5,
     "status": "ok",
     "timestamp": 1716190047979,
     "user": {
      "displayName": "Sagarika Borah",
      "userId": "16033830323295691159"
     },
     "user_tz": -330
    },
    "id": "RjWlljborV-f",
    "outputId": "dd8973df-15c4-416f-831e-1c1d7bd9e91f"
   },
   "outputs": [
    {
     "name": "stdout",
     "output_type": "stream",
     "text": [
      "tf.Tensor([6 6], shape=(2,), dtype=int32)\n",
      "tf.Tensor([8 9], shape=(2,), dtype=int32)\n"
     ]
    }
   ],
   "source": [
    "a=tf.constant([2,3])\n",
    "b=tf.constant([4,3])\n",
    "\n",
    "print(a+b)\n",
    "print(a*b)"
   ]
  },
  {
   "cell_type": "code",
   "execution_count": 33,
   "metadata": {
    "colab": {
     "base_uri": "https://localhost:8080/"
    },
    "executionInfo": {
     "elapsed": 5,
     "status": "ok",
     "timestamp": 1716190048399,
     "user": {
      "displayName": "Sagarika Borah",
      "userId": "16033830323295691159"
     },
     "user_tz": -330
    },
    "id": "cbs4TZ-7rdXk",
    "outputId": "d9c3bcf6-884c-4d84-9235-13e40869cfa8"
   },
   "outputs": [
    {
     "name": "stdout",
     "output_type": "stream",
     "text": [
      "add = [6 6]\n",
      "sub = [-2  0]\n",
      "mul = [8 9]\n",
      "div = [0.5 1. ]\n"
     ]
    }
   ],
   "source": [
    "add = tf.add(a, b)\n",
    "sub = tf.subtract(a, b)\n",
    "mul = tf.multiply(a, b)\n",
    "div = tf.divide(a, b)\n",
    "\n",
    "# Access tensors value.\n",
    "print(\"add =\", add.numpy())\n",
    "print(\"sub =\", sub.numpy())\n",
    "print(\"mul =\", mul.numpy())\n",
    "print(\"div =\", div.numpy())"
   ]
  },
  {
   "cell_type": "code",
   "execution_count": null,
   "metadata": {
    "id": "Ih7iFO3P5qV2"
   },
   "outputs": [],
   "source": [
    "mean = tf.reduce_mean([a, b, c])\n",
    "sum = tf.reduce_sum([a, b, c])\n",
    "\n",
    "# Access tensors value.\n",
    "print(\"mean =\", mean.numpy())\n",
    "print(\"sum =\", sum.numpy())"
   ]
  },
  {
   "cell_type": "markdown",
   "metadata": {
    "id": "HksvlgbJsF8u"
   },
   "source": [
    "##Broadcasting\n",
    "Broadcasting is the concept whose implementation allows us to add scalars to higher dimensional tensors.\n",
    "\n",
    "eg, what happens with addition if the shapes of the two tensors are different?\n",
    "the smaller tensor willl be broadcasted to match the shape of the larger tensor.\n",
    "\n"
   ]
  },
  {
   "cell_type": "code",
   "execution_count": 47,
   "metadata": {
    "colab": {
     "base_uri": "https://localhost:8080/"
    },
    "executionInfo": {
     "elapsed": 923,
     "status": "ok",
     "timestamp": 1716193563390,
     "user": {
      "displayName": "Sagarika Borah",
      "userId": "16033830323295691159"
     },
     "user_tz": -330
    },
    "id": "cTC-LaF4sIvs",
    "outputId": "aebca797-c0ee-4c12-9021-3a1a4b1f3f79"
   },
   "outputs": [
    {
     "name": "stdout",
     "output_type": "stream",
     "text": [
      "tf.Tensor(\n",
      "[[21 22 23]\n",
      " [24 25 28]], shape=(2, 3), dtype=int32)\n"
     ]
    }
   ],
   "source": [
    "T1 =tf.constant([[1, 2, 3],      # Rank 2 , shape (2,3)\n",
    "              [4, 5, 8]])\n",
    "T2 =tf.constant (20)           # Rank 0 , shape()\n",
    "#arithmetic operation\n",
    "T3 =T1+T2\n",
    "print(T3)"
   ]
  },
  {
   "cell_type": "code",
   "execution_count": 48,
   "metadata": {
    "colab": {
     "base_uri": "https://localhost:8080/"
    },
    "executionInfo": {
     "elapsed": 5,
     "status": "ok",
     "timestamp": 1716193563391,
     "user": {
      "displayName": "Sagarika Borah",
      "userId": "16033830323295691159"
     },
     "user_tz": -330
    },
    "id": "oE51mWYLG3kE",
    "outputId": "d1b433aa-3187-4c6d-be4e-b1d488436cec"
   },
   "outputs": [
    {
     "name": "stdout",
     "output_type": "stream",
     "text": [
      "tf.Tensor(\n",
      "[[[11 12]\n",
      "  [22 22]\n",
      "  [33 33]]\n",
      "\n",
      " [[44 45]\n",
      "  [55 55]\n",
      "  [66 66]]], shape=(2, 3, 2), dtype=int32)\n"
     ]
    }
   ],
   "source": [
    "\n",
    "# tensor T1\n",
    "T1 =tf. constant([[[10, 11],   #Rank 3 and shape(2,3,2)\n",
    "                   [20, 20],\n",
    "                   [30, 30]],\n",
    "\n",
    "                 [ [40, 41],\n",
    "                   [50, 50],\n",
    "                   [60, 60]   ]])\n",
    "\n",
    "# tensor T2\n",
    "T2= tf.constant([[1, 2, 3],    # Rank 2 and shape (2,3)\n",
    "                 [4, 5, 6]])\n",
    "\n",
    "#Adding new axis to T2 by .expand_dims() at its trailing end\n",
    "broadcasted_T2 = tf.expand_dims(T2, axis=-1)\n",
    "\n",
    "# arithmetic operation\n",
    "T3=broadcasted_T2+ T1\n",
    "print(T3)"
   ]
  },
  {
   "cell_type": "markdown",
   "metadata": {
    "id": "DM1OGOu9sJVt"
   },
   "source": [
    "## Tensor Dot\n",
    "\n",
    "Dot operation is also called as tensor product, which is the most used operation in neural networks. Its not same as elementwise prosuct (*).\n",
    "\n",
    "A dot product operation (multiply and sum) is performed on all corresponding dimensions in the tensors, so the operation returns a scalar value\n",
    "\n",
    "Dot product shape compatibility:\n",
    "(mxn) . (nxp)=(mxp)\n",
    "\n",
    "the 2nd dimension of the first matrix should be same with first dimension of   the second matrix."
   ]
  },
  {
   "cell_type": "code",
   "execution_count": null,
   "metadata": {
    "id": "dN1pytDCDpOd"
   },
   "outputs": [],
   "source": []
  },
  {
   "cell_type": "markdown",
   "metadata": {
    "id": "Y0xFTQ-ornkJ"
   },
   "source": [
    "5. Create 2 random matrices of size [3,3] and [3,3] with minimum value 1 and maximum value 10 and perform element wise multiplication and Matrix Multiplications"
   ]
  },
  {
   "cell_type": "code",
   "execution_count": 34,
   "metadata": {
    "colab": {
     "base_uri": "https://localhost:8080/"
    },
    "executionInfo": {
     "elapsed": 814,
     "status": "ok",
     "timestamp": 1716192688480,
     "user": {
      "displayName": "Sagarika Borah",
      "userId": "16033830323295691159"
     },
     "user_tz": -330
    },
    "id": "VAXeVM-jrpUm",
    "outputId": "76fc7267-38bc-4955-d4e2-5898dec3560f"
   },
   "outputs": [
    {
     "name": "stdout",
     "output_type": "stream",
     "text": [
      "<tf.Variable 'Variable:0' shape=(3, 3) dtype=int64, numpy=\n",
      "array([[4, 3, 8],\n",
      "       [6, 2, 6],\n",
      "       [5, 2, 6]])>\n",
      "<tf.Variable 'Variable:0' shape=(3, 3) dtype=int64, numpy=\n",
      "array([[ 1,  9, 10],\n",
      "       [ 8,  4, 10],\n",
      "       [ 9,  4,  4]])>\n"
     ]
    }
   ],
   "source": [
    "a= tf.Variable(np.random.randint(1,11,[3,3]))\n",
    "b= tf.Variable(np.random.randint(1,11,[3,3]))\n",
    "print(a)\n",
    "print(b)"
   ]
  },
  {
   "cell_type": "code",
   "execution_count": 35,
   "metadata": {
    "colab": {
     "base_uri": "https://localhost:8080/"
    },
    "executionInfo": {
     "elapsed": 3,
     "status": "ok",
     "timestamp": 1716192688480,
     "user": {
      "displayName": "Sagarika Borah",
      "userId": "16033830323295691159"
     },
     "user_tz": -330
    },
    "id": "kMJjhU0H3eGs",
    "outputId": "3fc8d3f6-f374-42bd-a7bd-4d3ede82e1c1"
   },
   "outputs": [
    {
     "data": {
      "text/plain": [
       "<tf.Tensor: shape=(3, 3), dtype=int64, numpy=\n",
       "array([[100,  80, 102],\n",
       "       [ 76,  86, 104],\n",
       "       [ 75,  77,  94]])>"
      ]
     },
     "execution_count": 35,
     "metadata": {},
     "output_type": "execute_result"
    }
   ],
   "source": [
    "a@b"
   ]
  },
  {
   "cell_type": "code",
   "execution_count": 37,
   "metadata": {
    "colab": {
     "base_uri": "https://localhost:8080/"
    },
    "executionInfo": {
     "elapsed": 5,
     "status": "ok",
     "timestamp": 1716192700923,
     "user": {
      "displayName": "Sagarika Borah",
      "userId": "16033830323295691159"
     },
     "user_tz": -330
    },
    "id": "-cvWrGmO3iPH",
    "outputId": "72fcf361-7b1b-433c-fb99-3d821947712a"
   },
   "outputs": [
    {
     "data": {
      "text/plain": [
       "<tf.Tensor: shape=(3, 3), dtype=int64, numpy=\n",
       "array([[100,  80, 102],\n",
       "       [ 76,  86, 104],\n",
       "       [ 75,  77,  94]])>"
      ]
     },
     "execution_count": 37,
     "metadata": {},
     "output_type": "execute_result"
    }
   ],
   "source": [
    "tf.matmul(a,b)"
   ]
  },
  {
   "cell_type": "code",
   "execution_count": null,
   "metadata": {
    "id": "HW0IXW8LDj1X"
   },
   "outputs": [],
   "source": []
  },
  {
   "cell_type": "markdown",
   "metadata": {
    "id": "vGvF21oEE1mE"
   },
   "source": [
    "## Tensor Reshaping\n",
    ".\n",
    "Reshaping a tensor means rearranging its rows and columns to match the output shape"
   ]
  },
  {
   "cell_type": "code",
   "execution_count": 54,
   "metadata": {
    "colab": {
     "base_uri": "https://localhost:8080/"
    },
    "executionInfo": {
     "elapsed": 6,
     "status": "ok",
     "timestamp": 1716193816829,
     "user": {
      "displayName": "Sagarika Borah",
      "userId": "16033830323295691159"
     },
     "user_tz": -330
    },
    "id": "3w_wKZDWGiOi",
    "outputId": "84c693ff-4afa-4179-a636-0fef1afbe5fb"
   },
   "outputs": [
    {
     "data": {
      "text/plain": [
       "<tf.Tensor: shape=(2, 3), dtype=int32, numpy=\n",
       "array([[6, 1, 2],\n",
       "       [3, 4, 5]], dtype=int32)>"
      ]
     },
     "execution_count": 54,
     "metadata": {},
     "output_type": "execute_result"
    }
   ],
   "source": [
    "x=tf.constant([[6,1,2],\n",
    "              [3,4,5]])\n",
    "x"
   ]
  },
  {
   "cell_type": "code",
   "execution_count": 60,
   "metadata": {
    "colab": {
     "base_uri": "https://localhost:8080/"
    },
    "executionInfo": {
     "elapsed": 4,
     "status": "ok",
     "timestamp": 1716194096819,
     "user": {
      "displayName": "Sagarika Borah",
      "userId": "16033830323295691159"
     },
     "user_tz": -330
    },
    "id": "TW9FVrw3GnAA",
    "outputId": "8960edbf-2b04-40dd-902f-ac9d64db7074"
   },
   "outputs": [
    {
     "data": {
      "text/plain": [
       "<tf.Tensor: shape=(3, 2), dtype=int32, numpy=\n",
       "array([[6, 1],\n",
       "       [2, 3],\n",
       "       [4, 5]], dtype=int32)>"
      ]
     },
     "execution_count": 60,
     "metadata": {},
     "output_type": "execute_result"
    }
   ],
   "source": [
    "x1=tf.reshape(x,[3,2])\n",
    "x1"
   ]
  },
  {
   "cell_type": "code",
   "execution_count": null,
   "metadata": {
    "id": "1_QGV7jfGt5k"
   },
   "outputs": [],
   "source": []
  }
 ],
 "metadata": {
  "colab": {
   "authorship_tag": "ABX9TyOVZvNAVyiILo9Syqvx5jam",
   "provenance": []
  },
  "kernelspec": {
   "display_name": "Python 3 (ipykernel)",
   "language": "python",
   "name": "python3"
  },
  "language_info": {
   "codemirror_mode": {
    "name": "ipython",
    "version": 3
   },
   "file_extension": ".py",
   "mimetype": "text/x-python",
   "name": "python",
   "nbconvert_exporter": "python",
   "pygments_lexer": "ipython3",
   "version": "3.11.5"
  }
 },
 "nbformat": 4,
 "nbformat_minor": 1
}
