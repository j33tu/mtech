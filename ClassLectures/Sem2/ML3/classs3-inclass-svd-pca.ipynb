{
 "cells": [
  {
   "cell_type": "code",
   "execution_count": 2,
   "id": "78141c5a",
   "metadata": {},
   "outputs": [],
   "source": [
    "import pandas as pd \n",
    "import numpy as np"
   ]
  },
  {
   "cell_type": "code",
   "execution_count": 42,
   "id": "c8d0fcb4",
   "metadata": {},
   "outputs": [
    {
     "data": {
      "text/plain": [
       "array([[7, 3],\n",
       "       [5, 6],\n",
       "       [7, 4]])"
      ]
     },
     "execution_count": 42,
     "metadata": {},
     "output_type": "execute_result"
    }
   ],
   "source": [
    "A = np.array([[7,3],[5,6],[7,4]])\n",
    "A"
   ]
  },
  {
   "cell_type": "code",
   "execution_count": 43,
   "id": "8b015598",
   "metadata": {},
   "outputs": [],
   "source": [
    "U,S,V = np.linalg.svd(A)"
   ]
  },
  {
   "cell_type": "code",
   "execution_count": 44,
   "id": "2012fffb",
   "metadata": {},
   "outputs": [
    {
     "data": {
      "text/plain": [
       "(3, 3)"
      ]
     },
     "execution_count": 44,
     "metadata": {},
     "output_type": "execute_result"
    }
   ],
   "source": [
    "U.shape\n"
   ]
  },
  {
   "cell_type": "code",
   "execution_count": 45,
   "id": "1800f346",
   "metadata": {},
   "outputs": [
    {
     "data": {
      "text/plain": [
       "array([[-0.56196439,  0.54834095, -0.61928848],\n",
       "       [-0.56479059, -0.80136405, -0.19704634],\n",
       "       [-0.6043241 ,  0.23903528,  0.76003587]])"
      ]
     },
     "execution_count": 45,
     "metadata": {},
     "output_type": "execute_result"
    }
   ],
   "source": [
    "U"
   ]
  },
  {
   "cell_type": "code",
   "execution_count": 33,
   "id": "1e4755f8",
   "metadata": {},
   "outputs": [],
   "source": [
    "a = np.dot(np.dot(U[:,:2],np.diag(S)),V)"
   ]
  },
  {
   "cell_type": "code",
   "execution_count": 46,
   "id": "0a7c29c3",
   "metadata": {},
   "outputs": [
    {
     "data": {
      "text/plain": [
       "array([[7., 3.],\n",
       "       [5., 6.],\n",
       "       [7., 4.]])"
      ]
     },
     "execution_count": 46,
     "metadata": {},
     "output_type": "execute_result"
    }
   ],
   "source": [
    "a"
   ]
  },
  {
   "cell_type": "code",
   "execution_count": 47,
   "id": "549c259e",
   "metadata": {},
   "outputs": [
    {
     "data": {
      "text/plain": [
       "array([[13.299045  ,  0.        ],\n",
       "       [ 0.        ,  2.67121732]])"
      ]
     },
     "execution_count": 47,
     "metadata": {},
     "output_type": "execute_result"
    }
   ],
   "source": [
    "np.diag(S)"
   ]
  },
  {
   "cell_type": "code",
   "execution_count": 48,
   "id": "6edd9cf0",
   "metadata": {},
   "outputs": [
    {
     "data": {
      "text/plain": [
       "array([[6.17484917, 4.2101996 ],\n",
       "       [6.20590337, 4.2313733 ],\n",
       "       [6.6402965 , 4.52755572]])"
      ]
     },
     "execution_count": 48,
     "metadata": {},
     "output_type": "execute_result"
    }
   ],
   "source": [
    "b = np.dot(np.dot(U[:,:1],S[0]),V[:1,:])\n",
    "b"
   ]
  },
  {
   "cell_type": "code",
   "execution_count": 49,
   "id": "2c3c3830",
   "metadata": {},
   "outputs": [
    {
     "data": {
      "text/plain": [
       "0.8327380437166624"
      ]
     },
     "execution_count": 49,
     "metadata": {},
     "output_type": "execute_result"
    }
   ],
   "source": [
    "S[0]/np.sum(S) ## this is the information that we have captured. "
   ]
  },
  {
   "cell_type": "code",
   "execution_count": 50,
   "id": "4d29712e",
   "metadata": {},
   "outputs": [
    {
     "data": {
      "text/plain": [
       "0.16726195628333762"
      ]
     },
     "execution_count": 50,
     "metadata": {},
     "output_type": "execute_result"
    }
   ],
   "source": [
    "S[1]/np.sum(S) ## this is the information that is lost"
   ]
  },
  {
   "cell_type": "code",
   "execution_count": 51,
   "id": "1ccc6ec3",
   "metadata": {},
   "outputs": [],
   "source": [
    "A = np.array([\n",
    "    [1,1,1,0,0],\n",
    "    [3,3,3,0,0],\n",
    "    [4,4,4,0,0],\n",
    "    [5,5,5,0,0],\n",
    "    [0,2,0,4,4],\n",
    "    [0,0,0,5,5],\n",
    "    [0,1,0,2,2]\n",
    "])"
   ]
  },
  {
   "cell_type": "code",
   "execution_count": 52,
   "id": "62eccc1d",
   "metadata": {},
   "outputs": [],
   "source": [
    "U,S,V= np.linalg.svd(A)"
   ]
  },
  {
   "cell_type": "code",
   "execution_count": 53,
   "id": "7efe1489",
   "metadata": {},
   "outputs": [
    {
     "data": {
      "text/plain": [
       "array([12.48,  9.51,  1.35,  0.  ,  0.  ])"
      ]
     },
     "execution_count": 53,
     "metadata": {},
     "output_type": "execute_result"
    }
   ],
   "source": [
    "S.round(2)"
   ]
  },
  {
   "cell_type": "code",
   "execution_count": 54,
   "id": "ca78baf3",
   "metadata": {},
   "outputs": [
    {
     "data": {
      "text/plain": [
       "array([[ 1.00000000e+00,  1.00000000e+00,  1.00000000e+00,\n",
       "        -1.45688500e-16, -1.45688500e-16],\n",
       "       [ 3.00000000e+00,  3.00000000e+00,  3.00000000e+00,\n",
       "        -2.03558451e-16, -2.03558451e-16],\n",
       "       [ 4.00000000e+00,  4.00000000e+00,  4.00000000e+00,\n",
       "        -1.12552469e-16, -1.12552469e-16],\n",
       "       [ 5.00000000e+00,  5.00000000e+00,  5.00000000e+00,\n",
       "        -7.70317187e-17, -7.70317187e-17],\n",
       "       [ 2.40680179e-16,  2.00000000e+00, -8.84928174e-16,\n",
       "         4.00000000e+00,  4.00000000e+00],\n",
       "       [ 1.18292943e-16,  3.99091262e-16, -4.65938276e-16,\n",
       "         5.00000000e+00,  5.00000000e+00],\n",
       "       [ 1.20340089e-16,  1.00000000e+00, -4.42464087e-16,\n",
       "         2.00000000e+00,  2.00000000e+00]])"
      ]
     },
     "execution_count": 54,
     "metadata": {},
     "output_type": "execute_result"
    }
   ],
   "source": [
    "a_ = np.dot(np.dot(U[:,:3],np.diag(S[:3])),V[:3,:])\n",
    "a_"
   ]
  },
  {
   "cell_type": "code",
   "execution_count": 55,
   "id": "a8a9ab51",
   "metadata": {},
   "outputs": [
    {
     "data": {
      "text/plain": [
       "array([[ 1.,  1.,  1., -0., -0.],\n",
       "       [ 3.,  3.,  3., -0., -0.],\n",
       "       [ 4.,  4.,  4., -0., -0.],\n",
       "       [ 5.,  5.,  5., -0., -0.],\n",
       "       [ 0.,  2., -0.,  4.,  4.],\n",
       "       [ 0.,  0., -0.,  5.,  5.],\n",
       "       [ 0.,  1., -0.,  2.,  2.]])"
      ]
     },
     "execution_count": 55,
     "metadata": {},
     "output_type": "execute_result"
    }
   ],
   "source": [
    "a_.round(2)"
   ]
  },
  {
   "cell_type": "code",
   "execution_count": 56,
   "id": "f6f48ede",
   "metadata": {},
   "outputs": [],
   "source": [
    "a_2 = np.dot(np.dot(U[:,:2],np.diag(S[:2])),V[:2,:])"
   ]
  },
  {
   "cell_type": "code",
   "execution_count": 57,
   "id": "7106919b",
   "metadata": {},
   "outputs": [
    {
     "data": {
      "text/plain": [
       "array([[ 0.99,  1.01,  0.99, -0.  , -0.  ],\n",
       "       [ 2.98,  3.04,  2.98, -0.  , -0.  ],\n",
       "       [ 3.98,  4.05,  3.98, -0.01, -0.01],\n",
       "       [ 4.97,  5.06,  4.97, -0.01, -0.01],\n",
       "       [ 0.36,  1.29,  0.36,  4.08,  4.08],\n",
       "       [-0.37,  0.73, -0.37,  4.92,  4.92],\n",
       "       [ 0.18,  0.65,  0.18,  2.04,  2.04]])"
      ]
     },
     "execution_count": 57,
     "metadata": {},
     "output_type": "execute_result"
    }
   ],
   "source": [
    "a_2.round(2)"
   ]
  },
  {
   "cell_type": "code",
   "execution_count": 58,
   "id": "5a2d4a76",
   "metadata": {},
   "outputs": [
    {
     "data": {
      "text/plain": [
       "0.9423377396381534"
      ]
     },
     "execution_count": 58,
     "metadata": {},
     "output_type": "execute_result"
    }
   ],
   "source": [
    "(S[0]+S[1])/S.sum()"
   ]
  },
  {
   "cell_type": "code",
   "execution_count": 59,
   "id": "4013c3cb",
   "metadata": {},
   "outputs": [
    {
     "data": {
      "text/plain": [
       "0.05766226036184652"
      ]
     },
     "execution_count": 59,
     "metadata": {},
     "output_type": "execute_result"
    }
   ],
   "source": [
    "S[2]/S.sum()"
   ]
  },
  {
   "cell_type": "code",
   "execution_count": 60,
   "id": "98895605",
   "metadata": {},
   "outputs": [],
   "source": [
    "A1 = pd.DataFrame(A,columns=['m1','m2','m3','m4','m5'],index=['u1','u2','u3','u4','u5','u6','u7'])"
   ]
  },
  {
   "cell_type": "code",
   "execution_count": 61,
   "id": "eae34d0a",
   "metadata": {},
   "outputs": [
    {
     "data": {
      "text/html": [
       "<div>\n",
       "<style scoped>\n",
       "    .dataframe tbody tr th:only-of-type {\n",
       "        vertical-align: middle;\n",
       "    }\n",
       "\n",
       "    .dataframe tbody tr th {\n",
       "        vertical-align: top;\n",
       "    }\n",
       "\n",
       "    .dataframe thead th {\n",
       "        text-align: right;\n",
       "    }\n",
       "</style>\n",
       "<table border=\"1\" class=\"dataframe\">\n",
       "  <thead>\n",
       "    <tr style=\"text-align: right;\">\n",
       "      <th></th>\n",
       "      <th>m1</th>\n",
       "      <th>m2</th>\n",
       "      <th>m3</th>\n",
       "      <th>m4</th>\n",
       "      <th>m5</th>\n",
       "    </tr>\n",
       "  </thead>\n",
       "  <tbody>\n",
       "    <tr>\n",
       "      <th>u1</th>\n",
       "      <td>1</td>\n",
       "      <td>1</td>\n",
       "      <td>1</td>\n",
       "      <td>0</td>\n",
       "      <td>0</td>\n",
       "    </tr>\n",
       "    <tr>\n",
       "      <th>u2</th>\n",
       "      <td>3</td>\n",
       "      <td>3</td>\n",
       "      <td>3</td>\n",
       "      <td>0</td>\n",
       "      <td>0</td>\n",
       "    </tr>\n",
       "    <tr>\n",
       "      <th>u3</th>\n",
       "      <td>4</td>\n",
       "      <td>4</td>\n",
       "      <td>4</td>\n",
       "      <td>0</td>\n",
       "      <td>0</td>\n",
       "    </tr>\n",
       "    <tr>\n",
       "      <th>u4</th>\n",
       "      <td>5</td>\n",
       "      <td>5</td>\n",
       "      <td>5</td>\n",
       "      <td>0</td>\n",
       "      <td>0</td>\n",
       "    </tr>\n",
       "    <tr>\n",
       "      <th>u5</th>\n",
       "      <td>0</td>\n",
       "      <td>2</td>\n",
       "      <td>0</td>\n",
       "      <td>4</td>\n",
       "      <td>4</td>\n",
       "    </tr>\n",
       "    <tr>\n",
       "      <th>u6</th>\n",
       "      <td>0</td>\n",
       "      <td>0</td>\n",
       "      <td>0</td>\n",
       "      <td>5</td>\n",
       "      <td>5</td>\n",
       "    </tr>\n",
       "    <tr>\n",
       "      <th>u7</th>\n",
       "      <td>0</td>\n",
       "      <td>1</td>\n",
       "      <td>0</td>\n",
       "      <td>2</td>\n",
       "      <td>2</td>\n",
       "    </tr>\n",
       "  </tbody>\n",
       "</table>\n",
       "</div>"
      ],
      "text/plain": [
       "    m1  m2  m3  m4  m5\n",
       "u1   1   1   1   0   0\n",
       "u2   3   3   3   0   0\n",
       "u3   4   4   4   0   0\n",
       "u4   5   5   5   0   0\n",
       "u5   0   2   0   4   4\n",
       "u6   0   0   0   5   5\n",
       "u7   0   1   0   2   2"
      ]
     },
     "execution_count": 61,
     "metadata": {},
     "output_type": "execute_result"
    }
   ],
   "source": [
    "A1"
   ]
  },
  {
   "cell_type": "code",
   "execution_count": 62,
   "id": "de8dad36",
   "metadata": {},
   "outputs": [
    {
     "data": {
      "text/html": [
       "<div>\n",
       "<style scoped>\n",
       "    .dataframe tbody tr th:only-of-type {\n",
       "        vertical-align: middle;\n",
       "    }\n",
       "\n",
       "    .dataframe tbody tr th {\n",
       "        vertical-align: top;\n",
       "    }\n",
       "\n",
       "    .dataframe thead th {\n",
       "        text-align: right;\n",
       "    }\n",
       "</style>\n",
       "<table border=\"1\" class=\"dataframe\">\n",
       "  <thead>\n",
       "    <tr style=\"text-align: right;\">\n",
       "      <th></th>\n",
       "      <th>concept1</th>\n",
       "      <th>concept2</th>\n",
       "    </tr>\n",
       "  </thead>\n",
       "  <tbody>\n",
       "    <tr>\n",
       "      <th>u1</th>\n",
       "      <td>-0.14</td>\n",
       "      <td>-0.02</td>\n",
       "    </tr>\n",
       "    <tr>\n",
       "      <th>u2</th>\n",
       "      <td>-0.41</td>\n",
       "      <td>-0.07</td>\n",
       "    </tr>\n",
       "    <tr>\n",
       "      <th>u3</th>\n",
       "      <td>-0.55</td>\n",
       "      <td>-0.09</td>\n",
       "    </tr>\n",
       "    <tr>\n",
       "      <th>u4</th>\n",
       "      <td>-0.69</td>\n",
       "      <td>-0.12</td>\n",
       "    </tr>\n",
       "    <tr>\n",
       "      <th>u5</th>\n",
       "      <td>-0.15</td>\n",
       "      <td>0.59</td>\n",
       "    </tr>\n",
       "    <tr>\n",
       "      <th>u6</th>\n",
       "      <td>-0.07</td>\n",
       "      <td>0.73</td>\n",
       "    </tr>\n",
       "    <tr>\n",
       "      <th>u7</th>\n",
       "      <td>-0.08</td>\n",
       "      <td>0.30</td>\n",
       "    </tr>\n",
       "  </tbody>\n",
       "</table>\n",
       "</div>"
      ],
      "text/plain": [
       "    concept1  concept2\n",
       "u1     -0.14     -0.02\n",
       "u2     -0.41     -0.07\n",
       "u3     -0.55     -0.09\n",
       "u4     -0.69     -0.12\n",
       "u5     -0.15      0.59\n",
       "u6     -0.07      0.73\n",
       "u7     -0.08      0.30"
      ]
     },
     "execution_count": 62,
     "metadata": {},
     "output_type": "execute_result"
    }
   ],
   "source": [
    "pd.DataFrame(U[:,:2].round(2),columns=['concept1','concept2'],\n",
    "            index=['u1','u2','u3','u4','u5','u6','u7'])\n"
   ]
  },
  {
   "cell_type": "code",
   "execution_count": 63,
   "id": "4866961f",
   "metadata": {},
   "outputs": [],
   "source": [
    "# v matrix concept and movies"
   ]
  },
  {
   "cell_type": "code",
   "execution_count": 65,
   "id": "3a1f76cf",
   "metadata": {},
   "outputs": [
    {
     "data": {
      "text/plain": [
       "array([[-5.62258405e-01, -5.92859901e-01, -5.62258405e-01,\n",
       "        -9.01335372e-02, -9.01335372e-02],\n",
       "       [-1.26641382e-01,  2.87705846e-02, -1.26641382e-01,\n",
       "         6.95376220e-01,  6.95376220e-01],\n",
       "       [-4.09667482e-01,  8.04791520e-01, -4.09667482e-01,\n",
       "        -9.12571001e-02, -9.12571001e-02],\n",
       "       [-7.07106781e-01,  1.11022302e-16,  7.07106781e-01,\n",
       "         5.55111512e-17,  0.00000000e+00],\n",
       "       [ 0.00000000e+00, -4.87723954e-17,  4.87723954e-17,\n",
       "        -7.07106781e-01,  7.07106781e-01]])"
      ]
     },
     "execution_count": 65,
     "metadata": {},
     "output_type": "execute_result"
    }
   ],
   "source": [
    "V"
   ]
  },
  {
   "cell_type": "code",
   "execution_count": null,
   "id": "62e54929",
   "metadata": {},
   "outputs": [],
   "source": [
    "pd.DataFrame(V[:,:2].round(2),columns=['concept1','concept2'],\n",
    "            index=['u1','u2','u3','u4','u5','u6','u7'])\n"
   ]
  }
 ],
 "metadata": {
  "kernelspec": {
   "display_name": "Python 3 (ipykernel)",
   "language": "python",
   "name": "python3"
  },
  "language_info": {
   "codemirror_mode": {
    "name": "ipython",
    "version": 3
   },
   "file_extension": ".py",
   "mimetype": "text/x-python",
   "name": "python",
   "nbconvert_exporter": "python",
   "pygments_lexer": "ipython3",
   "version": "3.10.9"
  }
 },
 "nbformat": 4,
 "nbformat_minor": 5
}
