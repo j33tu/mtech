{
 "cells": [
  {
   "cell_type": "code",
   "execution_count": 2,
   "id": "78141c5a",
   "metadata": {},
   "outputs": [],
   "source": [
    "import pandas as pd \n",
    "import numpy as np"
   ]
  },
  {
   "cell_type": "code",
   "execution_count": 3,
   "id": "c8d0fcb4",
   "metadata": {},
   "outputs": [
    {
     "data": {
      "text/plain": [
       "array([[7, 3],\n",
       "       [5, 6],\n",
       "       [7, 4]])"
      ]
     },
     "execution_count": 3,
     "metadata": {},
     "output_type": "execute_result"
    }
   ],
   "source": [
    "A = np.array([[7,3],[5,6],[7,4]])\n",
    "A"
   ]
  },
  {
   "cell_type": "code",
   "execution_count": 4,
   "id": "8b015598",
   "metadata": {},
   "outputs": [],
   "source": [
    "U,S,V = np.linalg.svd(A)"
   ]
  },
  {
   "cell_type": "code",
   "execution_count": 23,
   "id": "2012fffb",
   "metadata": {},
   "outputs": [
    {
     "data": {
      "text/plain": [
       "array([[-1.37599126e-01, -2.36114514e-02, -1.08084718e-02,\n",
       "         5.60112034e-01, -3.75734575e-01, -7.00140042e-01,\n",
       "        -1.87867287e-01],\n",
       "       [-4.12797378e-01, -7.08343543e-02, -3.24254153e-02,\n",
       "         2.06393278e-01,  7.55974371e-01, -2.57991597e-01,\n",
       "         3.77987186e-01],\n",
       "       [-5.50396503e-01, -9.44458057e-02, -4.32338870e-02,\n",
       "        -7.24808963e-01, -1.84603760e-01, -3.43988797e-01,\n",
       "        -9.23018799e-02],\n",
       "       [-6.87995629e-01, -1.18057257e-01, -5.40423588e-02,\n",
       "         3.43988797e-01, -2.30754700e-01,  5.70014004e-01,\n",
       "        -1.15377350e-01],\n",
       "       [-1.52775087e-01,  5.91100963e-01,  6.53650843e-01,\n",
       "         2.58497890e-16,  2.00000000e-01,  0.00000000e+00,\n",
       "        -4.00000000e-01],\n",
       "       [-7.22165140e-02,  7.31311857e-01, -6.78209218e-01,\n",
       "         0.00000000e+00,  0.00000000e+00,  0.00000000e+00,\n",
       "         0.00000000e+00],\n",
       "       [-7.63875433e-02,  2.95550482e-01,  3.26825421e-01,\n",
       "         1.29248945e-16, -4.00000000e-01,  0.00000000e+00,\n",
       "         8.00000000e-01]])"
      ]
     },
     "execution_count": 23,
     "metadata": {},
     "output_type": "execute_result"
    }
   ],
   "source": [
    "U.shape\n"
   ]
  },
  {
   "cell_type": "code",
   "execution_count": 6,
   "id": "1e4755f8",
   "metadata": {},
   "outputs": [],
   "source": [
    "a = np.dot(np.dot(U[:,:2],np.diag(S)),V)"
   ]
  },
  {
   "cell_type": "code",
   "execution_count": 7,
   "id": "0a7c29c3",
   "metadata": {},
   "outputs": [
    {
     "data": {
      "text/plain": [
       "array([[7., 3.],\n",
       "       [5., 6.],\n",
       "       [7., 4.]])"
      ]
     },
     "execution_count": 7,
     "metadata": {},
     "output_type": "execute_result"
    }
   ],
   "source": [
    "a"
   ]
  },
  {
   "cell_type": "code",
   "execution_count": 8,
   "id": "549c259e",
   "metadata": {},
   "outputs": [
    {
     "data": {
      "text/plain": [
       "array([[13.299045  ,  0.        ],\n",
       "       [ 0.        ,  2.67121732]])"
      ]
     },
     "execution_count": 8,
     "metadata": {},
     "output_type": "execute_result"
    }
   ],
   "source": [
    "np.diag(S)"
   ]
  },
  {
   "cell_type": "code",
   "execution_count": 9,
   "id": "6edd9cf0",
   "metadata": {},
   "outputs": [
    {
     "data": {
      "text/plain": [
       "array([[6.17484917, 4.2101996 ],\n",
       "       [6.20590337, 4.2313733 ],\n",
       "       [6.6402965 , 4.52755572]])"
      ]
     },
     "execution_count": 9,
     "metadata": {},
     "output_type": "execute_result"
    }
   ],
   "source": [
    "b = np.dot(np.dot(U[:,:1],S[0]),V[:1,:])\n",
    "b"
   ]
  },
  {
   "cell_type": "code",
   "execution_count": 10,
   "id": "2c3c3830",
   "metadata": {},
   "outputs": [
    {
     "data": {
      "text/plain": [
       "0.8327380437166624"
      ]
     },
     "execution_count": 10,
     "metadata": {},
     "output_type": "execute_result"
    }
   ],
   "source": [
    "S[0]/np.sum(S) ## this is the information that we have captured. "
   ]
  },
  {
   "cell_type": "code",
   "execution_count": 11,
   "id": "4d29712e",
   "metadata": {},
   "outputs": [
    {
     "data": {
      "text/plain": [
       "0.16726195628333762"
      ]
     },
     "execution_count": 11,
     "metadata": {},
     "output_type": "execute_result"
    }
   ],
   "source": [
    "S[1]/np.sum(S) ## this is the information that is lost"
   ]
  },
  {
   "cell_type": "code",
   "execution_count": 12,
   "id": "1ccc6ec3",
   "metadata": {},
   "outputs": [],
   "source": [
    "A = np.array([\n",
    "    [1,1,1,0,0],\n",
    "    [3,3,3,0,0],\n",
    "    [4,4,4,0,0],\n",
    "    [5,5,5,0,0],\n",
    "    [0,2,0,4,4],\n",
    "    [0,0,0,5,5],\n",
    "    [0,1,0,2,2]\n",
    "])"
   ]
  },
  {
   "cell_type": "code",
   "execution_count": 13,
   "id": "62eccc1d",
   "metadata": {},
   "outputs": [],
   "source": [
    "U,S,V= np.linalg.svd(A)"
   ]
  },
  {
   "cell_type": "code",
   "execution_count": 14,
   "id": "7efe1489",
   "metadata": {},
   "outputs": [
    {
     "data": {
      "text/plain": [
       "array([12.48,  9.51,  1.35,  0.  ,  0.  ])"
      ]
     },
     "execution_count": 14,
     "metadata": {},
     "output_type": "execute_result"
    }
   ],
   "source": [
    "S.round(2)"
   ]
  },
  {
   "cell_type": "code",
   "execution_count": 15,
   "id": "ca78baf3",
   "metadata": {},
   "outputs": [
    {
     "data": {
      "text/plain": [
       "array([[ 1.00000000e+00,  1.00000000e+00,  1.00000000e+00,\n",
       "        -1.45688500e-16, -1.45688500e-16],\n",
       "       [ 3.00000000e+00,  3.00000000e+00,  3.00000000e+00,\n",
       "        -2.03558451e-16, -2.03558451e-16],\n",
       "       [ 4.00000000e+00,  4.00000000e+00,  4.00000000e+00,\n",
       "        -1.12552469e-16, -1.12552469e-16],\n",
       "       [ 5.00000000e+00,  5.00000000e+00,  5.00000000e+00,\n",
       "        -7.70317187e-17, -7.70317187e-17],\n",
       "       [ 2.40680179e-16,  2.00000000e+00, -8.84928174e-16,\n",
       "         4.00000000e+00,  4.00000000e+00],\n",
       "       [ 1.18292943e-16,  3.99091262e-16, -4.65938276e-16,\n",
       "         5.00000000e+00,  5.00000000e+00],\n",
       "       [ 1.20340089e-16,  1.00000000e+00, -4.42464087e-16,\n",
       "         2.00000000e+00,  2.00000000e+00]])"
      ]
     },
     "execution_count": 15,
     "metadata": {},
     "output_type": "execute_result"
    }
   ],
   "source": [
    "a_ = np.dot(np.dot(U[:,:3],np.diag(S[:3])),V[:3,:])\n",
    "a_"
   ]
  },
  {
   "cell_type": "code",
   "execution_count": 16,
   "id": "a8a9ab51",
   "metadata": {},
   "outputs": [
    {
     "data": {
      "text/plain": [
       "array([[ 1.,  1.,  1., -0., -0.],\n",
       "       [ 3.,  3.,  3., -0., -0.],\n",
       "       [ 4.,  4.,  4., -0., -0.],\n",
       "       [ 5.,  5.,  5., -0., -0.],\n",
       "       [ 0.,  2., -0.,  4.,  4.],\n",
       "       [ 0.,  0., -0.,  5.,  5.],\n",
       "       [ 0.,  1., -0.,  2.,  2.]])"
      ]
     },
     "execution_count": 16,
     "metadata": {},
     "output_type": "execute_result"
    }
   ],
   "source": [
    "a_.round(2)"
   ]
  },
  {
   "cell_type": "code",
   "execution_count": 17,
   "id": "f6f48ede",
   "metadata": {},
   "outputs": [],
   "source": [
    "a_2 = np.dot(np.dot(U[:,:2],np.diag(S[:2])),V[:2,:])"
   ]
  },
  {
   "cell_type": "code",
   "execution_count": 18,
   "id": "7106919b",
   "metadata": {},
   "outputs": [
    {
     "data": {
      "text/plain": [
       "array([[ 0.99,  1.01,  0.99, -0.  , -0.  ],\n",
       "       [ 2.98,  3.04,  2.98, -0.  , -0.  ],\n",
       "       [ 3.98,  4.05,  3.98, -0.01, -0.01],\n",
       "       [ 4.97,  5.06,  4.97, -0.01, -0.01],\n",
       "       [ 0.36,  1.29,  0.36,  4.08,  4.08],\n",
       "       [-0.37,  0.73, -0.37,  4.92,  4.92],\n",
       "       [ 0.18,  0.65,  0.18,  2.04,  2.04]])"
      ]
     },
     "execution_count": 18,
     "metadata": {},
     "output_type": "execute_result"
    }
   ],
   "source": [
    "a_2.round(2)"
   ]
  },
  {
   "cell_type": "code",
   "execution_count": 19,
   "id": "5a2d4a76",
   "metadata": {},
   "outputs": [
    {
     "data": {
      "text/plain": [
       "0.9423377396381534"
      ]
     },
     "execution_count": 19,
     "metadata": {},
     "output_type": "execute_result"
    }
   ],
   "source": [
    "(S[0]+S[1])/S.sum()"
   ]
  },
  {
   "cell_type": "code",
   "execution_count": 20,
   "id": "4013c3cb",
   "metadata": {},
   "outputs": [
    {
     "data": {
      "text/plain": [
       "0.05766226036184652"
      ]
     },
     "execution_count": 20,
     "metadata": {},
     "output_type": "execute_result"
    }
   ],
   "source": [
    "S[2]/S.sum()"
   ]
  },
  {
   "cell_type": "code",
   "execution_count": 21,
   "id": "98895605",
   "metadata": {},
   "outputs": [],
   "source": [
    "A1 = pd.DataFrame(A,columns=['m1','m2','m3','m4','m5'],index=['u1','u2','u3','u4','u5','u6','u7'])"
   ]
  },
  {
   "cell_type": "code",
   "execution_count": 22,
   "id": "eae34d0a",
   "metadata": {},
   "outputs": [
    {
     "data": {
      "text/html": [
       "<div>\n",
       "<style scoped>\n",
       "    .dataframe tbody tr th:only-of-type {\n",
       "        vertical-align: middle;\n",
       "    }\n",
       "\n",
       "    .dataframe tbody tr th {\n",
       "        vertical-align: top;\n",
       "    }\n",
       "\n",
       "    .dataframe thead th {\n",
       "        text-align: right;\n",
       "    }\n",
       "</style>\n",
       "<table border=\"1\" class=\"dataframe\">\n",
       "  <thead>\n",
       "    <tr style=\"text-align: right;\">\n",
       "      <th></th>\n",
       "      <th>m1</th>\n",
       "      <th>m2</th>\n",
       "      <th>m3</th>\n",
       "      <th>m4</th>\n",
       "      <th>m5</th>\n",
       "    </tr>\n",
       "  </thead>\n",
       "  <tbody>\n",
       "    <tr>\n",
       "      <th>u1</th>\n",
       "      <td>1</td>\n",
       "      <td>1</td>\n",
       "      <td>1</td>\n",
       "      <td>0</td>\n",
       "      <td>0</td>\n",
       "    </tr>\n",
       "    <tr>\n",
       "      <th>u2</th>\n",
       "      <td>3</td>\n",
       "      <td>3</td>\n",
       "      <td>3</td>\n",
       "      <td>0</td>\n",
       "      <td>0</td>\n",
       "    </tr>\n",
       "    <tr>\n",
       "      <th>u3</th>\n",
       "      <td>4</td>\n",
       "      <td>4</td>\n",
       "      <td>4</td>\n",
       "      <td>0</td>\n",
       "      <td>0</td>\n",
       "    </tr>\n",
       "    <tr>\n",
       "      <th>u4</th>\n",
       "      <td>5</td>\n",
       "      <td>5</td>\n",
       "      <td>5</td>\n",
       "      <td>0</td>\n",
       "      <td>0</td>\n",
       "    </tr>\n",
       "    <tr>\n",
       "      <th>u5</th>\n",
       "      <td>0</td>\n",
       "      <td>2</td>\n",
       "      <td>0</td>\n",
       "      <td>4</td>\n",
       "      <td>4</td>\n",
       "    </tr>\n",
       "    <tr>\n",
       "      <th>u6</th>\n",
       "      <td>0</td>\n",
       "      <td>0</td>\n",
       "      <td>0</td>\n",
       "      <td>5</td>\n",
       "      <td>5</td>\n",
       "    </tr>\n",
       "    <tr>\n",
       "      <th>u7</th>\n",
       "      <td>0</td>\n",
       "      <td>1</td>\n",
       "      <td>0</td>\n",
       "      <td>2</td>\n",
       "      <td>2</td>\n",
       "    </tr>\n",
       "  </tbody>\n",
       "</table>\n",
       "</div>"
      ],
      "text/plain": [
       "    m1  m2  m3  m4  m5\n",
       "u1   1   1   1   0   0\n",
       "u2   3   3   3   0   0\n",
       "u3   4   4   4   0   0\n",
       "u4   5   5   5   0   0\n",
       "u5   0   2   0   4   4\n",
       "u6   0   0   0   5   5\n",
       "u7   0   1   0   2   2"
      ]
     },
     "execution_count": 22,
     "metadata": {},
     "output_type": "execute_result"
    }
   ],
   "source": [
    "A1"
   ]
  },
  {
   "cell_type": "code",
   "execution_count": null,
   "id": "de8dad36",
   "metadata": {},
   "outputs": [],
   "source": []
  }
 ],
 "metadata": {
  "kernelspec": {
   "display_name": "Python 3 (ipykernel)",
   "language": "python",
   "name": "python3"
  },
  "language_info": {
   "codemirror_mode": {
    "name": "ipython",
    "version": 3
   },
   "file_extension": ".py",
   "mimetype": "text/x-python",
   "name": "python",
   "nbconvert_exporter": "python",
   "pygments_lexer": "ipython3",
   "version": "3.10.9"
  }
 },
 "nbformat": 4,
 "nbformat_minor": 5
}
