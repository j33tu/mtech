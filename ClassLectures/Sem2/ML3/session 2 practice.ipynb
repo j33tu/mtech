{
 "cells": [
  {
   "cell_type": "code",
   "execution_count": 1,
   "id": "9dd61272",
   "metadata": {},
   "outputs": [],
   "source": [
    "import pandas as pd\n",
    "import numpy as np\n",
    "import matplotlib.pyplot as plt\n",
    "import warnings\n",
    "warnings.filterwarnings('ignore')"
   ]
  },
  {
   "cell_type": "code",
   "execution_count": 4,
   "id": "5c49dc45",
   "metadata": {},
   "outputs": [],
   "source": [
    "data=pd.read_csv('customer.csv')"
   ]
  },
  {
   "cell_type": "code",
   "execution_count": 6,
   "id": "1b7933e2",
   "metadata": {},
   "outputs": [
    {
     "data": {
      "text/html": [
       "<div>\n",
       "<style scoped>\n",
       "    .dataframe tbody tr th:only-of-type {\n",
       "        vertical-align: middle;\n",
       "    }\n",
       "\n",
       "    .dataframe tbody tr th {\n",
       "        vertical-align: top;\n",
       "    }\n",
       "\n",
       "    .dataframe thead th {\n",
       "        text-align: right;\n",
       "    }\n",
       "</style>\n",
       "<table border=\"1\" class=\"dataframe\">\n",
       "  <thead>\n",
       "    <tr style=\"text-align: right;\">\n",
       "      <th></th>\n",
       "      <th>Cust_Number</th>\n",
       "      <th>Yearly_Income</th>\n",
       "      <th>Age</th>\n",
       "      <th>Cust_Spend_Score</th>\n",
       "      <th>Sex</th>\n",
       "    </tr>\n",
       "  </thead>\n",
       "  <tbody>\n",
       "    <tr>\n",
       "      <th>0</th>\n",
       "      <td>CUSTID1</td>\n",
       "      <td>15000</td>\n",
       "      <td>18</td>\n",
       "      <td>44</td>\n",
       "      <td>0</td>\n",
       "    </tr>\n",
       "    <tr>\n",
       "      <th>1</th>\n",
       "      <td>CUSTID2</td>\n",
       "      <td>15000</td>\n",
       "      <td>18</td>\n",
       "      <td>79</td>\n",
       "      <td>0</td>\n",
       "    </tr>\n",
       "    <tr>\n",
       "      <th>2</th>\n",
       "      <td>CUSTID3</td>\n",
       "      <td>16000</td>\n",
       "      <td>23</td>\n",
       "      <td>8</td>\n",
       "      <td>1</td>\n",
       "    </tr>\n",
       "    <tr>\n",
       "      <th>3</th>\n",
       "      <td>CUSTID4</td>\n",
       "      <td>16000</td>\n",
       "      <td>25</td>\n",
       "      <td>79</td>\n",
       "      <td>1</td>\n",
       "    </tr>\n",
       "    <tr>\n",
       "      <th>4</th>\n",
       "      <td>CUSTID5</td>\n",
       "      <td>17000</td>\n",
       "      <td>32</td>\n",
       "      <td>41</td>\n",
       "      <td>1</td>\n",
       "    </tr>\n",
       "  </tbody>\n",
       "</table>\n",
       "</div>"
      ],
      "text/plain": [
       "  Cust_Number  Yearly_Income  Age  Cust_Spend_Score  Sex\n",
       "0     CUSTID1          15000   18                44    0\n",
       "1     CUSTID2          15000   18                79    0\n",
       "2     CUSTID3          16000   23                 8    1\n",
       "3     CUSTID4          16000   25                79    1\n",
       "4     CUSTID5          17000   32                41    1"
      ]
     },
     "execution_count": 6,
     "metadata": {},
     "output_type": "execute_result"
    }
   ],
   "source": [
    "data.head()"
   ]
  },
  {
   "cell_type": "code",
   "execution_count": 11,
   "id": "26f203d2",
   "metadata": {},
   "outputs": [],
   "source": [
    "data1=data.iloc[:,1:4]"
   ]
  },
  {
   "cell_type": "code",
   "execution_count": 14,
   "id": "bbcd426c",
   "metadata": {},
   "outputs": [],
   "source": [
    "data1=data1.set_index(data['Cust_Number'])"
   ]
  },
  {
   "cell_type": "code",
   "execution_count": 16,
   "id": "40c3c36e",
   "metadata": {},
   "outputs": [
    {
     "data": {
      "text/html": [
       "<div>\n",
       "<style scoped>\n",
       "    .dataframe tbody tr th:only-of-type {\n",
       "        vertical-align: middle;\n",
       "    }\n",
       "\n",
       "    .dataframe tbody tr th {\n",
       "        vertical-align: top;\n",
       "    }\n",
       "\n",
       "    .dataframe thead th {\n",
       "        text-align: right;\n",
       "    }\n",
       "</style>\n",
       "<table border=\"1\" class=\"dataframe\">\n",
       "  <thead>\n",
       "    <tr style=\"text-align: right;\">\n",
       "      <th></th>\n",
       "      <th>Yearly_Income</th>\n",
       "      <th>Age</th>\n",
       "      <th>Cust_Spend_Score</th>\n",
       "    </tr>\n",
       "    <tr>\n",
       "      <th>Cust_Number</th>\n",
       "      <th></th>\n",
       "      <th></th>\n",
       "      <th></th>\n",
       "    </tr>\n",
       "  </thead>\n",
       "  <tbody>\n",
       "    <tr>\n",
       "      <th>CUSTID1</th>\n",
       "      <td>15000</td>\n",
       "      <td>18</td>\n",
       "      <td>44</td>\n",
       "    </tr>\n",
       "    <tr>\n",
       "      <th>CUSTID2</th>\n",
       "      <td>15000</td>\n",
       "      <td>18</td>\n",
       "      <td>79</td>\n",
       "    </tr>\n",
       "    <tr>\n",
       "      <th>CUSTID3</th>\n",
       "      <td>16000</td>\n",
       "      <td>23</td>\n",
       "      <td>8</td>\n",
       "    </tr>\n",
       "    <tr>\n",
       "      <th>CUSTID4</th>\n",
       "      <td>16000</td>\n",
       "      <td>25</td>\n",
       "      <td>79</td>\n",
       "    </tr>\n",
       "    <tr>\n",
       "      <th>CUSTID5</th>\n",
       "      <td>17000</td>\n",
       "      <td>32</td>\n",
       "      <td>41</td>\n",
       "    </tr>\n",
       "  </tbody>\n",
       "</table>\n",
       "</div>"
      ],
      "text/plain": [
       "             Yearly_Income  Age  Cust_Spend_Score\n",
       "Cust_Number                                      \n",
       "CUSTID1              15000   18                44\n",
       "CUSTID2              15000   18                79\n",
       "CUSTID3              16000   23                 8\n",
       "CUSTID4              16000   25                79\n",
       "CUSTID5              17000   32                41"
      ]
     },
     "execution_count": 16,
     "metadata": {},
     "output_type": "execute_result"
    }
   ],
   "source": [
    "data1.head()"
   ]
  },
  {
   "cell_type": "code",
   "execution_count": 18,
   "id": "d0448494",
   "metadata": {},
   "outputs": [
    {
     "data": {
      "text/plain": [
       "Yearly_Income       0\n",
       "Age                 0\n",
       "Cust_Spend_Score    0\n",
       "dtype: int64"
      ]
     },
     "execution_count": 18,
     "metadata": {},
     "output_type": "execute_result"
    }
   ],
   "source": [
    "data1.isnull().sum()"
   ]
  },
  {
   "cell_type": "code",
   "execution_count": 22,
   "id": "b995355f",
   "metadata": {},
   "outputs": [],
   "source": [
    "from sklearn.preprocessing import StandardScaler\n",
    "sc=StandardScaler()\n",
    "data_sc=sc.fit_transform(data1)"
   ]
  },
  {
   "cell_type": "code",
   "execution_count": 23,
   "id": "93dedcbf",
   "metadata": {},
   "outputs": [],
   "source": [
    "data_Sc=pd.DataFrame(data_sc,columns=data1.columns,index=data1.index)"
   ]
  },
  {
   "cell_type": "code",
   "execution_count": 24,
   "id": "bd4b03f1",
   "metadata": {},
   "outputs": [
    {
     "data": {
      "text/html": [
       "<div>\n",
       "<style scoped>\n",
       "    .dataframe tbody tr th:only-of-type {\n",
       "        vertical-align: middle;\n",
       "    }\n",
       "\n",
       "    .dataframe tbody tr th {\n",
       "        vertical-align: top;\n",
       "    }\n",
       "\n",
       "    .dataframe thead th {\n",
       "        text-align: right;\n",
       "    }\n",
       "</style>\n",
       "<table border=\"1\" class=\"dataframe\">\n",
       "  <thead>\n",
       "    <tr style=\"text-align: right;\">\n",
       "      <th></th>\n",
       "      <th>Yearly_Income</th>\n",
       "      <th>Age</th>\n",
       "      <th>Cust_Spend_Score</th>\n",
       "    </tr>\n",
       "    <tr>\n",
       "      <th>Cust_Number</th>\n",
       "      <th></th>\n",
       "      <th></th>\n",
       "      <th></th>\n",
       "    </tr>\n",
       "  </thead>\n",
       "  <tbody>\n",
       "    <tr>\n",
       "      <th>CUSTID1</th>\n",
       "      <td>-1.738999</td>\n",
       "      <td>-1.501068</td>\n",
       "      <td>-0.284181</td>\n",
       "    </tr>\n",
       "    <tr>\n",
       "      <th>CUSTID2</th>\n",
       "      <td>-1.738999</td>\n",
       "      <td>-1.501068</td>\n",
       "      <td>1.063563</td>\n",
       "    </tr>\n",
       "    <tr>\n",
       "      <th>CUSTID3</th>\n",
       "      <td>-1.700830</td>\n",
       "      <td>-1.145280</td>\n",
       "      <td>-1.670433</td>\n",
       "    </tr>\n",
       "    <tr>\n",
       "      <th>CUSTID4</th>\n",
       "      <td>-1.700830</td>\n",
       "      <td>-1.002965</td>\n",
       "      <td>1.063563</td>\n",
       "    </tr>\n",
       "    <tr>\n",
       "      <th>CUSTID5</th>\n",
       "      <td>-1.662660</td>\n",
       "      <td>-0.504863</td>\n",
       "      <td>-0.399702</td>\n",
       "    </tr>\n",
       "    <tr>\n",
       "      <th>...</th>\n",
       "      <td>...</td>\n",
       "      <td>...</td>\n",
       "      <td>...</td>\n",
       "    </tr>\n",
       "    <tr>\n",
       "      <th>CUSTID196</th>\n",
       "      <td>2.268791</td>\n",
       "      <td>-0.220233</td>\n",
       "      <td>1.063563</td>\n",
       "    </tr>\n",
       "    <tr>\n",
       "      <th>CUSTID197</th>\n",
       "      <td>2.497807</td>\n",
       "      <td>0.491343</td>\n",
       "      <td>-0.746265</td>\n",
       "    </tr>\n",
       "    <tr>\n",
       "      <th>CUSTID198</th>\n",
       "      <td>2.497807</td>\n",
       "      <td>-0.718335</td>\n",
       "      <td>0.794014</td>\n",
       "    </tr>\n",
       "    <tr>\n",
       "      <th>CUSTID199</th>\n",
       "      <td>2.917671</td>\n",
       "      <td>-0.504863</td>\n",
       "      <td>-1.131335</td>\n",
       "    </tr>\n",
       "    <tr>\n",
       "      <th>CUSTID200</th>\n",
       "      <td>2.917671</td>\n",
       "      <td>-0.789493</td>\n",
       "      <td>1.410125</td>\n",
       "    </tr>\n",
       "  </tbody>\n",
       "</table>\n",
       "<p>200 rows × 3 columns</p>\n",
       "</div>"
      ],
      "text/plain": [
       "             Yearly_Income       Age  Cust_Spend_Score\n",
       "Cust_Number                                           \n",
       "CUSTID1          -1.738999 -1.501068         -0.284181\n",
       "CUSTID2          -1.738999 -1.501068          1.063563\n",
       "CUSTID3          -1.700830 -1.145280         -1.670433\n",
       "CUSTID4          -1.700830 -1.002965          1.063563\n",
       "CUSTID5          -1.662660 -0.504863         -0.399702\n",
       "...                    ...       ...               ...\n",
       "CUSTID196         2.268791 -0.220233          1.063563\n",
       "CUSTID197         2.497807  0.491343         -0.746265\n",
       "CUSTID198         2.497807 -0.718335          0.794014\n",
       "CUSTID199         2.917671 -0.504863         -1.131335\n",
       "CUSTID200         2.917671 -0.789493          1.410125\n",
       "\n",
       "[200 rows x 3 columns]"
      ]
     },
     "execution_count": 24,
     "metadata": {},
     "output_type": "execute_result"
    }
   ],
   "source": [
    "data_Sc"
   ]
  },
  {
   "cell_type": "code",
   "execution_count": 25,
   "id": "c08fde82",
   "metadata": {},
   "outputs": [],
   "source": [
    "from scipy.cluster.hierarchy import linkage,dendrogram,fcluster"
   ]
  },
  {
   "cell_type": "code",
   "execution_count": 39,
   "id": "6ba0a1c1",
   "metadata": {},
   "outputs": [],
   "source": [
    "merg_single=linkage(data_Sc,method='single')"
   ]
  },
  {
   "cell_type": "code",
   "execution_count": 40,
   "id": "7e7061a2",
   "metadata": {},
   "outputs": [
    {
     "data": {
      "text/html": [
       "<div>\n",
       "<style scoped>\n",
       "    .dataframe tbody tr th:only-of-type {\n",
       "        vertical-align: middle;\n",
       "    }\n",
       "\n",
       "    .dataframe tbody tr th {\n",
       "        vertical-align: top;\n",
       "    }\n",
       "\n",
       "    .dataframe thead th {\n",
       "        text-align: right;\n",
       "    }\n",
       "</style>\n",
       "<table border=\"1\" class=\"dataframe\">\n",
       "  <thead>\n",
       "    <tr style=\"text-align: right;\">\n",
       "      <th></th>\n",
       "      <th>0</th>\n",
       "      <th>1</th>\n",
       "      <th>2</th>\n",
       "      <th>3</th>\n",
       "    </tr>\n",
       "  </thead>\n",
       "  <tbody>\n",
       "    <tr>\n",
       "      <th>194</th>\n",
       "      <td>199.0</td>\n",
       "      <td>393.0</td>\n",
       "      <td>0.748961</td>\n",
       "      <td>195.0</td>\n",
       "    </tr>\n",
       "    <tr>\n",
       "      <th>195</th>\n",
       "      <td>2.0</td>\n",
       "      <td>394.0</td>\n",
       "      <td>0.786447</td>\n",
       "      <td>196.0</td>\n",
       "    </tr>\n",
       "    <tr>\n",
       "      <th>196</th>\n",
       "      <td>389.0</td>\n",
       "      <td>395.0</td>\n",
       "      <td>0.884405</td>\n",
       "      <td>198.0</td>\n",
       "    </tr>\n",
       "    <tr>\n",
       "      <th>197</th>\n",
       "      <td>198.0</td>\n",
       "      <td>396.0</td>\n",
       "      <td>0.996253</td>\n",
       "      <td>199.0</td>\n",
       "    </tr>\n",
       "    <tr>\n",
       "      <th>198</th>\n",
       "      <td>0.0</td>\n",
       "      <td>397.0</td>\n",
       "      <td>1.005782</td>\n",
       "      <td>200.0</td>\n",
       "    </tr>\n",
       "  </tbody>\n",
       "</table>\n",
       "</div>"
      ],
      "text/plain": [
       "         0      1         2      3\n",
       "194  199.0  393.0  0.748961  195.0\n",
       "195    2.0  394.0  0.786447  196.0\n",
       "196  389.0  395.0  0.884405  198.0\n",
       "197  198.0  396.0  0.996253  199.0\n",
       "198    0.0  397.0  1.005782  200.0"
      ]
     },
     "execution_count": 40,
     "metadata": {},
     "output_type": "execute_result"
    }
   ],
   "source": [
    "pd.DataFrame(merg_single).tail()"
   ]
  },
  {
   "cell_type": "code",
   "execution_count": 41,
   "id": "95a6cf8a",
   "metadata": {},
   "outputs": [
    {
     "data": {
      "image/png": "[encoded data removed]",
      "text/plain": [
       "<Figure size 640x480 with 1 Axes>"
      ]
     },
     "metadata": {},
     "output_type": "display_data"
    }
   ],
   "source": [
    "dendrogram(merg_single,truncate_mode='lastp',p=50)\n",
    "plt.show()"
   ]
  },
  {
   "cell_type": "code",
   "execution_count": null,
   "id": "cd7b50a9",
   "metadata": {},
   "outputs": [],
   "source": []
  }
 ],
 "metadata": {
  "kernelspec": {
   "display_name": "Python 3 (ipykernel)",
   "language": "python",
   "name": "python3"
  },
  "language_info": {
   "codemirror_mode": {
    "name": "ipython",
    "version": 3
   },
   "file_extension": ".py",
   "mimetype": "text/x-python",
   "name": "python",
   "nbconvert_exporter": "python",
   "pygments_lexer": "ipython3",
   "version": "3.11.5"
  }
 },
 "nbformat": 4,
 "nbformat_minor": 5
}
