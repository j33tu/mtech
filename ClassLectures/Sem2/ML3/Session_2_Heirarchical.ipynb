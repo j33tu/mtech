{
 "cells": [
  {
   "cell_type": "code",
   "execution_count": 1,
   "id": "7b9e8a97",
   "metadata": {},
   "outputs": [],
   "source": [
    "import pandas as pd\n",
    "import numpy as np\n",
    "import matplotlib.pyplot as plt\n",
    "import warnings\n",
    "warnings.filterwarnings('ignore')"
   ]
  },
  {
   "cell_type": "code",
   "execution_count": 2,
   "id": "84617280",
   "metadata": {},
   "outputs": [],
   "source": [
    "# https://scikit-learn.org/stable/auto_examples/cluster/plot_linkage_comparison.html#sphx-glr-auto-examples-cluster-plot-linkage-comparison-py"
   ]
  },
  {
   "cell_type": "code",
   "execution_count": 3,
   "id": "4e820094",
   "metadata": {},
   "outputs": [],
   "source": [
    "#!pip install openpyxl"
   ]
  },
  {
   "cell_type": "code",
   "execution_count": 4,
   "id": "65e71225",
   "metadata": {},
   "outputs": [],
   "source": [
    "#!pip install threadpoolctl==3.1.0"
   ]
  },
  {
   "cell_type": "code",
   "execution_count": 5,
   "id": "7809ef83",
   "metadata": {},
   "outputs": [],
   "source": [
    "# !pip install yellowbrick"
   ]
  },
  {
   "cell_type": "code",
   "execution_count": 6,
   "id": "f6d6b53d",
   "metadata": {},
   "outputs": [],
   "source": [
    "data=pd.read_excel('customer.xlsx')"
   ]
  },
  {
   "cell_type": "code",
   "execution_count": 7,
   "id": "e1c49c1b",
   "metadata": {},
   "outputs": [
    {
     "data": {
      "text/html": [
       "<div>\n",
       "<style scoped>\n",
       "    .dataframe tbody tr th:only-of-type {\n",
       "        vertical-align: middle;\n",
       "    }\n",
       "\n",
       "    .dataframe tbody tr th {\n",
       "        vertical-align: top;\n",
       "    }\n",
       "\n",
       "    .dataframe thead th {\n",
       "        text-align: right;\n",
       "    }\n",
       "</style>\n",
       "<table border=\"1\" class=\"dataframe\">\n",
       "  <thead>\n",
       "    <tr style=\"text-align: right;\">\n",
       "      <th></th>\n",
       "      <th>Cust_Number</th>\n",
       "      <th>Yearly_Income</th>\n",
       "      <th>Age</th>\n",
       "      <th>Cust_Spend_Score</th>\n",
       "      <th>Sex</th>\n",
       "    </tr>\n",
       "  </thead>\n",
       "  <tbody>\n",
       "    <tr>\n",
       "      <th>0</th>\n",
       "      <td>CUSTID1</td>\n",
       "      <td>15000</td>\n",
       "      <td>18</td>\n",
       "      <td>44</td>\n",
       "      <td>0</td>\n",
       "    </tr>\n",
       "    <tr>\n",
       "      <th>1</th>\n",
       "      <td>CUSTID2</td>\n",
       "      <td>15000</td>\n",
       "      <td>18</td>\n",
       "      <td>79</td>\n",
       "      <td>0</td>\n",
       "    </tr>\n",
       "  </tbody>\n",
       "</table>\n",
       "</div>"
      ],
      "text/plain": [
       "  Cust_Number  Yearly_Income  Age  Cust_Spend_Score  Sex\n",
       "0     CUSTID1          15000   18                44    0\n",
       "1     CUSTID2          15000   18                79    0"
      ]
     },
     "execution_count": 7,
     "metadata": {},
     "output_type": "execute_result"
    }
   ],
   "source": [
    "data.head(2)"
   ]
  },
  {
   "cell_type": "code",
   "execution_count": 8,
   "id": "d67efd4b",
   "metadata": {},
   "outputs": [],
   "source": [
    "data1=data.iloc[:,1:4]"
   ]
  },
  {
   "cell_type": "code",
   "execution_count": 9,
   "id": "05153dd3",
   "metadata": {},
   "outputs": [
    {
     "data": {
      "text/html": [
       "<div>\n",
       "<style scoped>\n",
       "    .dataframe tbody tr th:only-of-type {\n",
       "        vertical-align: middle;\n",
       "    }\n",
       "\n",
       "    .dataframe tbody tr th {\n",
       "        vertical-align: top;\n",
       "    }\n",
       "\n",
       "    .dataframe thead th {\n",
       "        text-align: right;\n",
       "    }\n",
       "</style>\n",
       "<table border=\"1\" class=\"dataframe\">\n",
       "  <thead>\n",
       "    <tr style=\"text-align: right;\">\n",
       "      <th></th>\n",
       "      <th>Yearly_Income</th>\n",
       "      <th>Age</th>\n",
       "      <th>Cust_Spend_Score</th>\n",
       "    </tr>\n",
       "  </thead>\n",
       "  <tbody>\n",
       "    <tr>\n",
       "      <th>0</th>\n",
       "      <td>15000</td>\n",
       "      <td>18</td>\n",
       "      <td>44</td>\n",
       "    </tr>\n",
       "    <tr>\n",
       "      <th>1</th>\n",
       "      <td>15000</td>\n",
       "      <td>18</td>\n",
       "      <td>79</td>\n",
       "    </tr>\n",
       "  </tbody>\n",
       "</table>\n",
       "</div>"
      ],
      "text/plain": [
       "   Yearly_Income  Age  Cust_Spend_Score\n",
       "0          15000   18                44\n",
       "1          15000   18                79"
      ]
     },
     "execution_count": 9,
     "metadata": {},
     "output_type": "execute_result"
    }
   ],
   "source": [
    "data1.head(2)"
   ]
  },
  {
   "cell_type": "code",
   "execution_count": 10,
   "id": "b4ad8727",
   "metadata": {},
   "outputs": [],
   "source": [
    "data1=data1.set_index(data['Cust_Number'])"
   ]
  },
  {
   "cell_type": "code",
   "execution_count": 11,
   "id": "8ad27a0a",
   "metadata": {},
   "outputs": [
    {
     "data": {
      "text/html": [
       "<div>\n",
       "<style scoped>\n",
       "    .dataframe tbody tr th:only-of-type {\n",
       "        vertical-align: middle;\n",
       "    }\n",
       "\n",
       "    .dataframe tbody tr th {\n",
       "        vertical-align: top;\n",
       "    }\n",
       "\n",
       "    .dataframe thead th {\n",
       "        text-align: right;\n",
       "    }\n",
       "</style>\n",
       "<table border=\"1\" class=\"dataframe\">\n",
       "  <thead>\n",
       "    <tr style=\"text-align: right;\">\n",
       "      <th></th>\n",
       "      <th>Yearly_Income</th>\n",
       "      <th>Age</th>\n",
       "      <th>Cust_Spend_Score</th>\n",
       "    </tr>\n",
       "    <tr>\n",
       "      <th>Cust_Number</th>\n",
       "      <th></th>\n",
       "      <th></th>\n",
       "      <th></th>\n",
       "    </tr>\n",
       "  </thead>\n",
       "  <tbody>\n",
       "    <tr>\n",
       "      <th>CUSTID1</th>\n",
       "      <td>15000</td>\n",
       "      <td>18</td>\n",
       "      <td>44</td>\n",
       "    </tr>\n",
       "    <tr>\n",
       "      <th>CUSTID2</th>\n",
       "      <td>15000</td>\n",
       "      <td>18</td>\n",
       "      <td>79</td>\n",
       "    </tr>\n",
       "  </tbody>\n",
       "</table>\n",
       "</div>"
      ],
      "text/plain": [
       "             Yearly_Income  Age  Cust_Spend_Score\n",
       "Cust_Number                                      \n",
       "CUSTID1              15000   18                44\n",
       "CUSTID2              15000   18                79"
      ]
     },
     "execution_count": 11,
     "metadata": {},
     "output_type": "execute_result"
    }
   ],
   "source": [
    "data1.head(2)"
   ]
  },
  {
   "cell_type": "code",
   "execution_count": 12,
   "id": "77241dda",
   "metadata": {},
   "outputs": [
    {
     "data": {
      "text/plain": [
       "Yearly_Income       0\n",
       "Age                 0\n",
       "Cust_Spend_Score    0\n",
       "dtype: int64"
      ]
     },
     "execution_count": 12,
     "metadata": {},
     "output_type": "execute_result"
    }
   ],
   "source": [
    "data1.isnull().sum()"
   ]
  },
  {
   "cell_type": "code",
   "execution_count": 13,
   "id": "d14de4b5",
   "metadata": {},
   "outputs": [],
   "source": [
    "from sklearn.preprocessing import StandardScaler\n",
    "sc=StandardScaler()\n",
    "data1_sc=sc.fit_transform(data1)\n",
    "data1_sc=pd.DataFrame(data1_sc,columns=data1.columns,index=data1.index)"
   ]
  },
  {
   "cell_type": "code",
   "execution_count": 14,
   "id": "ba62b9e6",
   "metadata": {},
   "outputs": [
    {
     "data": {
      "text/html": [
       "<div>\n",
       "<style scoped>\n",
       "    .dataframe tbody tr th:only-of-type {\n",
       "        vertical-align: middle;\n",
       "    }\n",
       "\n",
       "    .dataframe tbody tr th {\n",
       "        vertical-align: top;\n",
       "    }\n",
       "\n",
       "    .dataframe thead th {\n",
       "        text-align: right;\n",
       "    }\n",
       "</style>\n",
       "<table border=\"1\" class=\"dataframe\">\n",
       "  <thead>\n",
       "    <tr style=\"text-align: right;\">\n",
       "      <th></th>\n",
       "      <th>Yearly_Income</th>\n",
       "      <th>Age</th>\n",
       "      <th>Cust_Spend_Score</th>\n",
       "    </tr>\n",
       "    <tr>\n",
       "      <th>Cust_Number</th>\n",
       "      <th></th>\n",
       "      <th></th>\n",
       "      <th></th>\n",
       "    </tr>\n",
       "  </thead>\n",
       "  <tbody>\n",
       "    <tr>\n",
       "      <th>CUSTID1</th>\n",
       "      <td>-1.738999</td>\n",
       "      <td>-1.501068</td>\n",
       "      <td>-0.284181</td>\n",
       "    </tr>\n",
       "    <tr>\n",
       "      <th>CUSTID2</th>\n",
       "      <td>-1.738999</td>\n",
       "      <td>-1.501068</td>\n",
       "      <td>1.063563</td>\n",
       "    </tr>\n",
       "  </tbody>\n",
       "</table>\n",
       "</div>"
      ],
      "text/plain": [
       "             Yearly_Income       Age  Cust_Spend_Score\n",
       "Cust_Number                                           \n",
       "CUSTID1          -1.738999 -1.501068         -0.284181\n",
       "CUSTID2          -1.738999 -1.501068          1.063563"
      ]
     },
     "execution_count": 14,
     "metadata": {},
     "output_type": "execute_result"
    }
   ],
   "source": [
    "data1_sc.head(2)"
   ]
  },
  {
   "cell_type": "code",
   "execution_count": 15,
   "id": "cd1d3af3",
   "metadata": {},
   "outputs": [],
   "source": [
    "from scipy.cluster.hierarchy import linkage,dendrogram,fcluster"
   ]
  },
  {
   "cell_type": "code",
   "execution_count": 16,
   "id": "2f2f7f34",
   "metadata": {},
   "outputs": [],
   "source": [
    "merg_single=linkage(data1_sc,method='single')\n",
    "merg_complete=linkage(data1_sc,method='complete')\n",
    "merg_avg=linkage(data1_sc,method='average')\n",
    "merg_centroid = linkage(data1_sc, method='centroid')\n",
    "merg_ward=linkage(data1_sc,method='ward')"
   ]
  },
  {
   "cell_type": "code",
   "execution_count": 17,
   "id": "682db9ce",
   "metadata": {},
   "outputs": [
    {
     "data": {
      "text/html": [
       "<div>\n",
       "<style scoped>\n",
       "    .dataframe tbody tr th:only-of-type {\n",
       "        vertical-align: middle;\n",
       "    }\n",
       "\n",
       "    .dataframe tbody tr th {\n",
       "        vertical-align: top;\n",
       "    }\n",
       "\n",
       "    .dataframe thead th {\n",
       "        text-align: right;\n",
       "    }\n",
       "</style>\n",
       "<table border=\"1\" class=\"dataframe\">\n",
       "  <thead>\n",
       "    <tr style=\"text-align: right;\">\n",
       "      <th></th>\n",
       "      <th>0</th>\n",
       "      <th>1</th>\n",
       "      <th>2</th>\n",
       "      <th>3</th>\n",
       "    </tr>\n",
       "  </thead>\n",
       "  <tbody>\n",
       "    <tr>\n",
       "      <th>0</th>\n",
       "      <td>114.0</td>\n",
       "      <td>115.0</td>\n",
       "      <td>0.000000</td>\n",
       "      <td>2.0</td>\n",
       "    </tr>\n",
       "    <tr>\n",
       "      <th>1</th>\n",
       "      <td>94.0</td>\n",
       "      <td>97.0</td>\n",
       "      <td>0.038507</td>\n",
       "      <td>2.0</td>\n",
       "    </tr>\n",
       "    <tr>\n",
       "      <th>2</th>\n",
       "      <td>157.0</td>\n",
       "      <td>161.0</td>\n",
       "      <td>0.054219</td>\n",
       "      <td>2.0</td>\n",
       "    </tr>\n",
       "    <tr>\n",
       "      <th>3</th>\n",
       "      <td>54.0</td>\n",
       "      <td>55.0</td>\n",
       "      <td>0.077014</td>\n",
       "      <td>2.0</td>\n",
       "    </tr>\n",
       "    <tr>\n",
       "      <th>4</th>\n",
       "      <td>76.0</td>\n",
       "      <td>85.0</td>\n",
       "      <td>0.080908</td>\n",
       "      <td>2.0</td>\n",
       "    </tr>\n",
       "    <tr>\n",
       "      <th>...</th>\n",
       "      <td>...</td>\n",
       "      <td>...</td>\n",
       "      <td>...</td>\n",
       "      <td>...</td>\n",
       "    </tr>\n",
       "    <tr>\n",
       "      <th>194</th>\n",
       "      <td>199.0</td>\n",
       "      <td>393.0</td>\n",
       "      <td>0.748961</td>\n",
       "      <td>195.0</td>\n",
       "    </tr>\n",
       "    <tr>\n",
       "      <th>195</th>\n",
       "      <td>2.0</td>\n",
       "      <td>394.0</td>\n",
       "      <td>0.786447</td>\n",
       "      <td>196.0</td>\n",
       "    </tr>\n",
       "    <tr>\n",
       "      <th>196</th>\n",
       "      <td>389.0</td>\n",
       "      <td>395.0</td>\n",
       "      <td>0.884405</td>\n",
       "      <td>198.0</td>\n",
       "    </tr>\n",
       "    <tr>\n",
       "      <th>197</th>\n",
       "      <td>198.0</td>\n",
       "      <td>396.0</td>\n",
       "      <td>0.996253</td>\n",
       "      <td>199.0</td>\n",
       "    </tr>\n",
       "    <tr>\n",
       "      <th>198</th>\n",
       "      <td>0.0</td>\n",
       "      <td>397.0</td>\n",
       "      <td>1.005782</td>\n",
       "      <td>200.0</td>\n",
       "    </tr>\n",
       "  </tbody>\n",
       "</table>\n",
       "<p>199 rows × 4 columns</p>\n",
       "</div>"
      ],
      "text/plain": [
       "         0      1         2      3\n",
       "0    114.0  115.0  0.000000    2.0\n",
       "1     94.0   97.0  0.038507    2.0\n",
       "2    157.0  161.0  0.054219    2.0\n",
       "3     54.0   55.0  0.077014    2.0\n",
       "4     76.0   85.0  0.080908    2.0\n",
       "..     ...    ...       ...    ...\n",
       "194  199.0  393.0  0.748961  195.0\n",
       "195    2.0  394.0  0.786447  196.0\n",
       "196  389.0  395.0  0.884405  198.0\n",
       "197  198.0  396.0  0.996253  199.0\n",
       "198    0.0  397.0  1.005782  200.0\n",
       "\n",
       "[199 rows x 4 columns]"
      ]
     },
     "execution_count": 17,
     "metadata": {},
     "output_type": "execute_result"
    }
   ],
   "source": [
    "pd.DataFrame(merg_single)"
   ]
  },
  {
   "cell_type": "code",
   "execution_count": 18,
   "id": "2a727379",
   "metadata": {},
   "outputs": [
    {
     "data": {
      "text/plain": [
       "(200, 3)"
      ]
     },
     "execution_count": 18,
     "metadata": {},
     "output_type": "execute_result"
    }
   ],
   "source": [
    "data1_sc.shape"
   ]
  },
  {
   "cell_type": "code",
   "execution_count": 19,
   "id": "52e48018",
   "metadata": {},
   "outputs": [
    {
     "data": {
      "image/png": "[encoded data removed]",
      "text/plain": [
       "<Figure size 432x288 with 1 Axes>"
      ]
     },
     "metadata": {
      "needs_background": "light"
     },
     "output_type": "display_data"
    }
   ],
   "source": [
    "dendrogram(merg_single,truncate_mode='lastp',p=50)\n",
    "plt.show()"
   ]
  },
  {
   "cell_type": "code",
   "execution_count": 20,
   "id": "1f99465d",
   "metadata": {},
   "outputs": [
    {
     "data": {
      "image/png": "[encoded data removed]",
      "text/plain": [
       "<Figure size 432x288 with 1 Axes>"
      ]
     },
     "metadata": {
      "needs_background": "light"
     },
     "output_type": "display_data"
    }
   ],
   "source": [
    "dendrogram(merg_complete,truncate_mode='lastp',p=50)\n",
    "plt.show()"
   ]
  },
  {
   "cell_type": "code",
   "execution_count": 21,
   "id": "72f9246e",
   "metadata": {},
   "outputs": [
    {
     "data": {
      "image/png": "[encoded data removed]",
      "text/plain": [
       "<Figure size 432x288 with 1 Axes>"
      ]
     },
     "metadata": {
      "needs_background": "light"
     },
     "output_type": "display_data"
    }
   ],
   "source": [
    "dendrogram(merg_avg,truncate_mode='lastp',p=50)\n",
    "plt.show()"
   ]
  },
  {
   "cell_type": "code",
   "execution_count": 22,
   "id": "320cee8f",
   "metadata": {},
   "outputs": [
    {
     "data": {
      "image/png": "[encoded data removed]",
      "text/plain": [
       "<Figure size 432x288 with 1 Axes>"
      ]
     },
     "metadata": {
      "needs_background": "light"
     },
     "output_type": "display_data"
    }
   ],
   "source": [
    "dendrogram(merg_ward,truncate_mode='lastp',p=50)\n",
    "plt.show()"
   ]
  },
  {
   "cell_type": "code",
   "execution_count": 23,
   "id": "2e18ca0e",
   "metadata": {},
   "outputs": [
    {
     "data": {
      "image/png": "[encoded data removed]",
      "text/plain": [
       "<Figure size 432x288 with 1 Axes>"
      ]
     },
     "metadata": {
      "needs_background": "light"
     },
     "output_type": "display_data"
    }
   ],
   "source": [
    "dendrogram(merg_centroid,truncate_mode='lastp',p=50)\n",
    "plt.show()"
   ]
  },
  {
   "cell_type": "code",
   "execution_count": 24,
   "id": "0464da29",
   "metadata": {},
   "outputs": [],
   "source": [
    "from scipy.cluster.hierarchy import cophenet,linkage,dendrogram,fcluster\n",
    "from scipy.spatial.distance import pdist "
   ]
  },
  {
   "cell_type": "code",
   "execution_count": 25,
   "id": "2408f91c",
   "metadata": {},
   "outputs": [
    {
     "name": "stdout",
     "output_type": "stream",
     "text": [
      "The cophenet of  single is :  0.4976362567018477\n",
      "The cophenet of  complete is :  0.5802671732995099\n",
      "The cophenet of  centroid is :  0.6471874851072724\n",
      "The cophenet of  average is :  0.6595977493519807\n",
      "The cophenet of  ward is :  0.6384840439686307\n"
     ]
    }
   ],
   "source": [
    "link=['single','complete','centroid','average','ward']\n",
    "for i in link:\n",
    "    l=linkage(data1_sc,method=i)\n",
    "    c,cop_dst=(cophenet(l,pdist(data1_sc)))\n",
    "    print('The cophenet of ',i,'is : ',c)"
   ]
  },
  {
   "cell_type": "code",
   "execution_count": 26,
   "id": "1bb36202",
   "metadata": {},
   "outputs": [
    {
     "name": "stdout",
     "output_type": "stream",
     "text": [
      "The number of cluster for the distance of  5  is  7\n",
      "The number of cluster for the distance of  7  is  6\n",
      "The number of cluster for the distance of  8  is  6\n",
      "The number of cluster for the distance of  9  is  5\n",
      "The number of cluster for the distance of  10  is  4\n",
      "The number of cluster for the distance of  11  is  4\n",
      "The number of cluster for the distance of  12  is  4\n",
      "The number of cluster for the distance of  13  is  3\n",
      "The number of cluster for the distance of  14  is  2\n",
      "The number of cluster for the distance of  15  is  2\n",
      "The number of cluster for the distance of  17  is  2\n",
      "The number of cluster for the distance of  19  is  2\n",
      "The number of cluster for the distance of  20  is  2\n",
      "The number of cluster for the distance of  21  is  1\n"
     ]
    }
   ],
   "source": [
    "for i in [5,7,8,9,10,11,12,13,14,15,17,19,20,21]:\n",
    "    nclust=fcluster(merg_ward,i,criterion='distance')\n",
    "    print('The number of cluster for the distance of ',i,' is ',len(np.unique(nclust)))"
   ]
  },
  {
   "cell_type": "code",
   "execution_count": 27,
   "id": "ea3255d7",
   "metadata": {},
   "outputs": [],
   "source": [
    "# from the distance 14 to 20, for the range of 6 units, the number of cluster is remained as 2 \n",
    "# which is more than other clusters,\n",
    "# Hence as per dendogram 2 can be the optimal number of cluster"
   ]
  },
  {
   "cell_type": "code",
   "execution_count": 28,
   "id": "de7e2d4a",
   "metadata": {},
   "outputs": [],
   "source": [
    "lab=fcluster(merg_ward,9,criterion='distance')\n",
    "# for a distance of 14, the hierarichal clustering is giving 2 clusters ( We can see that from the dendogram)"
   ]
  },
  {
   "cell_type": "code",
   "execution_count": 29,
   "id": "25fb2947",
   "metadata": {},
   "outputs": [
    {
     "data": {
      "text/plain": [
       "0.4090063627129395"
      ]
     },
     "execution_count": 29,
     "metadata": {},
     "output_type": "execute_result"
    }
   ],
   "source": [
    "from sklearn.metrics import silhouette_score\n",
    "silhouette_score(data1_sc,lab)"
   ]
  },
  {
   "cell_type": "code",
   "execution_count": 30,
   "id": "ec04cc60",
   "metadata": {},
   "outputs": [
    {
     "data": {
      "text/plain": [
       "0.4090063627129395"
      ]
     },
     "execution_count": 30,
     "metadata": {},
     "output_type": "execute_result"
    }
   ],
   "source": [
    "lab=fcluster(merg_ward,9,criterion='distance')\n",
    "silhouette_score(data1_sc,lab)"
   ]
  },
  {
   "cell_type": "code",
   "execution_count": 31,
   "id": "4f437002",
   "metadata": {},
   "outputs": [],
   "source": [
    "from sklearn.cluster import AgglomerativeClustering"
   ]
  },
  {
   "cell_type": "code",
   "execution_count": 32,
   "id": "d0edf8ca",
   "metadata": {},
   "outputs": [],
   "source": [
    "agg_mod=AgglomerativeClustering(n_clusters=5,linkage='ward')\n",
    "agg_mod.fit(data1_sc)\n",
    "agg_lab=agg_mod.labels_"
   ]
  },
  {
   "cell_type": "code",
   "execution_count": 33,
   "id": "8033ff12",
   "metadata": {},
   "outputs": [
    {
     "data": {
      "text/plain": [
       "array([0, 0, 4, 0, 4, 0, 4, 0, 4, 0, 4, 0, 4, 0, 4, 0, 4, 0, 4, 0, 4, 0,\n",
       "       4, 0, 4, 0, 4, 0, 4, 0, 4, 0, 4, 0, 4, 0, 4, 0, 4, 0, 1, 0, 1, 0,\n",
       "       1, 0, 1, 0, 0, 0, 1, 0, 0, 1, 1, 1, 1, 1, 0, 1, 1, 0, 1, 1, 1, 0,\n",
       "       1, 1, 0, 0, 1, 1, 1, 1, 1, 0, 1, 1, 0, 1, 1, 0, 1, 1, 0, 1, 1, 0,\n",
       "       0, 1, 1, 0, 1, 1, 0, 0, 1, 0, 1, 0, 0, 1, 1, 0, 1, 0, 1, 1, 1, 1,\n",
       "       1, 0, 1, 0, 0, 0, 1, 1, 1, 1, 0, 1, 3, 3, 0, 3, 1, 3, 2, 3, 2, 3,\n",
       "       0, 3, 2, 3, 2, 3, 2, 3, 2, 3, 0, 3, 2, 3, 1, 3, 2, 3, 2, 3, 2, 3,\n",
       "       2, 3, 2, 3, 2, 3, 2, 3, 2, 3, 2, 3, 2, 3, 2, 3, 2, 3, 2, 3, 2, 3,\n",
       "       2, 3, 2, 3, 2, 3, 2, 3, 2, 3, 2, 3, 2, 3, 2, 3, 2, 3, 2, 3, 2, 3,\n",
       "       2, 3])"
      ]
     },
     "execution_count": 33,
     "metadata": {},
     "output_type": "execute_result"
    }
   ],
   "source": [
    "agg_lab"
   ]
  }
 ],
 "metadata": {
  "kernelspec": {
   "display_name": "Python 3 (ipykernel)",
   "language": "python",
   "name": "python3"
  },
  "language_info": {
   "codemirror_mode": {
    "name": "ipython",
    "version": 3
   },
   "file_extension": ".py",
   "mimetype": "text/x-python",
   "name": "python",
   "nbconvert_exporter": "python",
   "pygments_lexer": "ipython3",
   "version": "3.11.5"
  }
 },
 "nbformat": 4,
 "nbformat_minor": 5
}
