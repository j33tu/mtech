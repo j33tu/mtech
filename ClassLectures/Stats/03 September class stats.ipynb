{
 "cells": [
  {
   "cell_type": "code",
   "execution_count": 6,
   "id": "1ba2b7f2",
   "metadata": {},
   "outputs": [],
   "source": [
    "import pandas as pd\n",
    "import numpy as np\n",
    "import matplotlib.pyplot as plt\n",
    "import scipy.stats as st\n",
    "import seaborn as sns\n",
    "import matplotlib.pyplot as plt\n",
    "import scipy.stats as st"
   ]
  },
  {
   "cell_type": "code",
   "execution_count": 10,
   "id": "57bbab86",
   "metadata": {},
   "outputs": [
    {
     "data": {
      "text/html": [
       "<div>\n",
       "<style scoped>\n",
       "    .dataframe tbody tr th:only-of-type {\n",
       "        vertical-align: middle;\n",
       "    }\n",
       "\n",
       "    .dataframe tbody tr th {\n",
       "        vertical-align: top;\n",
       "    }\n",
       "\n",
       "    .dataframe thead th {\n",
       "        text-align: right;\n",
       "    }\n",
       "</style>\n",
       "<table border=\"1\" class=\"dataframe\">\n",
       "  <thead>\n",
       "    <tr style=\"text-align: right;\">\n",
       "      <th></th>\n",
       "      <th>total_bill</th>\n",
       "      <th>tip</th>\n",
       "      <th>sex</th>\n",
       "      <th>smoker</th>\n",
       "      <th>day</th>\n",
       "      <th>time</th>\n",
       "      <th>size</th>\n",
       "    </tr>\n",
       "  </thead>\n",
       "  <tbody>\n",
       "    <tr>\n",
       "      <th>0</th>\n",
       "      <td>16.99</td>\n",
       "      <td>1.01</td>\n",
       "      <td>Female</td>\n",
       "      <td>No</td>\n",
       "      <td>Sun</td>\n",
       "      <td>Dinner</td>\n",
       "      <td>2</td>\n",
       "    </tr>\n",
       "    <tr>\n",
       "      <th>1</th>\n",
       "      <td>10.34</td>\n",
       "      <td>1.66</td>\n",
       "      <td>Male</td>\n",
       "      <td>No</td>\n",
       "      <td>Sun</td>\n",
       "      <td>Dinner</td>\n",
       "      <td>3</td>\n",
       "    </tr>\n",
       "    <tr>\n",
       "      <th>2</th>\n",
       "      <td>21.01</td>\n",
       "      <td>3.50</td>\n",
       "      <td>Male</td>\n",
       "      <td>No</td>\n",
       "      <td>Sun</td>\n",
       "      <td>Dinner</td>\n",
       "      <td>3</td>\n",
       "    </tr>\n",
       "    <tr>\n",
       "      <th>3</th>\n",
       "      <td>23.68</td>\n",
       "      <td>3.31</td>\n",
       "      <td>Male</td>\n",
       "      <td>No</td>\n",
       "      <td>Sun</td>\n",
       "      <td>Dinner</td>\n",
       "      <td>2</td>\n",
       "    </tr>\n",
       "    <tr>\n",
       "      <th>4</th>\n",
       "      <td>24.59</td>\n",
       "      <td>3.61</td>\n",
       "      <td>Female</td>\n",
       "      <td>No</td>\n",
       "      <td>Sun</td>\n",
       "      <td>Dinner</td>\n",
       "      <td>4</td>\n",
       "    </tr>\n",
       "    <tr>\n",
       "      <th>...</th>\n",
       "      <td>...</td>\n",
       "      <td>...</td>\n",
       "      <td>...</td>\n",
       "      <td>...</td>\n",
       "      <td>...</td>\n",
       "      <td>...</td>\n",
       "      <td>...</td>\n",
       "    </tr>\n",
       "    <tr>\n",
       "      <th>239</th>\n",
       "      <td>29.03</td>\n",
       "      <td>5.92</td>\n",
       "      <td>Male</td>\n",
       "      <td>No</td>\n",
       "      <td>Sat</td>\n",
       "      <td>Dinner</td>\n",
       "      <td>3</td>\n",
       "    </tr>\n",
       "    <tr>\n",
       "      <th>240</th>\n",
       "      <td>27.18</td>\n",
       "      <td>2.00</td>\n",
       "      <td>Female</td>\n",
       "      <td>Yes</td>\n",
       "      <td>Sat</td>\n",
       "      <td>Dinner</td>\n",
       "      <td>2</td>\n",
       "    </tr>\n",
       "    <tr>\n",
       "      <th>241</th>\n",
       "      <td>22.67</td>\n",
       "      <td>2.00</td>\n",
       "      <td>Male</td>\n",
       "      <td>Yes</td>\n",
       "      <td>Sat</td>\n",
       "      <td>Dinner</td>\n",
       "      <td>2</td>\n",
       "    </tr>\n",
       "    <tr>\n",
       "      <th>242</th>\n",
       "      <td>17.82</td>\n",
       "      <td>1.75</td>\n",
       "      <td>Male</td>\n",
       "      <td>No</td>\n",
       "      <td>Sat</td>\n",
       "      <td>Dinner</td>\n",
       "      <td>2</td>\n",
       "    </tr>\n",
       "    <tr>\n",
       "      <th>243</th>\n",
       "      <td>18.78</td>\n",
       "      <td>3.00</td>\n",
       "      <td>Female</td>\n",
       "      <td>No</td>\n",
       "      <td>Thur</td>\n",
       "      <td>Dinner</td>\n",
       "      <td>2</td>\n",
       "    </tr>\n",
       "  </tbody>\n",
       "</table>\n",
       "<p>244 rows × 7 columns</p>\n",
       "</div>"
      ],
      "text/plain": [
       "     total_bill   tip     sex smoker   day    time  size\n",
       "0         16.99  1.01  Female     No   Sun  Dinner     2\n",
       "1         10.34  1.66    Male     No   Sun  Dinner     3\n",
       "2         21.01  3.50    Male     No   Sun  Dinner     3\n",
       "3         23.68  3.31    Male     No   Sun  Dinner     2\n",
       "4         24.59  3.61  Female     No   Sun  Dinner     4\n",
       "..          ...   ...     ...    ...   ...     ...   ...\n",
       "239       29.03  5.92    Male     No   Sat  Dinner     3\n",
       "240       27.18  2.00  Female    Yes   Sat  Dinner     2\n",
       "241       22.67  2.00    Male    Yes   Sat  Dinner     2\n",
       "242       17.82  1.75    Male     No   Sat  Dinner     2\n",
       "243       18.78  3.00  Female     No  Thur  Dinner     2\n",
       "\n",
       "[244 rows x 7 columns]"
      ]
     },
     "execution_count": 10,
     "metadata": {},
     "output_type": "execute_result"
    }
   ],
   "source": [
    "df=sns.load_dataset('tips')\n",
    "df"
   ]
  },
  {
   "cell_type": "code",
   "execution_count": 7,
   "id": "ae87f1ee",
   "metadata": {},
   "outputs": [],
   "source": [
    "#hypothesis Tests "
   ]
  },
  {
   "cell_type": "code",
   "execution_count": 8,
   "id": "c962fa95",
   "metadata": {},
   "outputs": [],
   "source": [
    "#problem statement 1 : is the total bill same  for lunch and dinner verify @ 5 % leval of significance\n",
    "#problem statement 2 : is the tip same for male and female transactions ? verify @ 5 % level of significance\n",
    "#problem statement 3 : is the proportion of smoking 40 % of transaction ? verify @ 1 % level of significane\n",
    "#problem statement 4 : is the smoking proportion smame for both mail and female verify @ 3%  level of significance \n",
    "#problem statement 5 : is there any relationship bw total bill and tip? verify @4% level of significance \n",
    "#problem statement 6 : is  the smoking proportion varies from thursday to sunday ? verify @ 2% level of significance\n",
    "#problem statement 7 : is the total bill varies from thursday to sunday ? verify @ 6% level of significance\n"
   ]
  },
  {
   "cell_type": "code",
   "execution_count": 9,
   "id": "c163eab9",
   "metadata": {},
   "outputs": [],
   "source": [
    "#problem statement 1 : is the total bill same  for lunch and dinner verify @ 5 % leval of significance\n",
    "#here we have 1 numarical  and 1 catagorical data with two options in catagory \n",
    "# 2 sample test independent test"
   ]
  },
  {
   "cell_type": "code",
   "execution_count": 45,
   "id": "39c22f65",
   "metadata": {},
   "outputs": [],
   "source": [
    "#problem statement 2 : is the tip same for male and female transactions ? verify @ 5 % level of significance\n",
    "#1 catagorical and 1 catagorical data with 2 catagory values\n",
    "# 2 sample test independent test"
   ]
  },
  {
   "cell_type": "code",
   "execution_count": 64,
   "id": "59b89eea",
   "metadata": {},
   "outputs": [],
   "source": [
    "#problem statement 3 : is the proportion of smoking 40 % of transaction ? verify @ 1 % level of significane\n",
    "#1 sample test of propotion "
   ]
  },
  {
   "cell_type": "code",
   "execution_count": 17,
   "id": "cf5898cf",
   "metadata": {},
   "outputs": [],
   "source": [
    "\n",
    "#problem statement 4 : is the smoking proportion smame for both mail and female verify @ 3%  level of significance \n",
    "#2 sample test of proportion "
   ]
  },
  {
   "cell_type": "code",
   "execution_count": 14,
   "id": "e3f7dac4",
   "metadata": {},
   "outputs": [],
   "source": [
    "#problem statement 5 : is there any relationship bw total bill and tip? verify @4% level of significance \n",
    "#correlation test both numarical (pearson R test)"
   ]
  },
  {
   "cell_type": "code",
   "execution_count": 18,
   "id": "b94d5dae",
   "metadata": {},
   "outputs": [],
   "source": [
    "#problem statement 6 : is  the smoking proportion varies from thursday to sunday ? verify @ 2% level of significance\n",
    "# 2 by 4 matrix chi square test of association "
   ]
  },
  {
   "cell_type": "code",
   "execution_count": 19,
   "id": "b0e10837",
   "metadata": {},
   "outputs": [],
   "source": [
    "#problem statement 7 : is the total bill varies from thursday to sunday ? verify @ 6% level of significance\n",
    "#1 way Anuva test "
   ]
  },
  {
   "cell_type": "code",
   "execution_count": 21,
   "id": "06780c33",
   "metadata": {},
   "outputs": [
    {
     "data": {
      "text/plain": [
       "'\\n# Step 0 : Assumption Test (important while doing paramatrics)\\n   # Test of normality :\\nsince the sample size is > 30 >>> as per CLT the population follows normal distribution \\n\\n'"
      ]
     },
     "execution_count": 21,
     "metadata": {},
     "output_type": "execute_result"
    }
   ],
   "source": [
    "#problem statement 1 : is the total bill is  same  for lunch and dinner verify @ 5 % leval of significance\n",
    "#here we have 1 numarical  and 1 catagorical data with two options in catagory \n",
    "# 2 sample test independent test\n",
    "Step 0 : Assumption Test (important while doing paramatrics):\n",
    "        #1  Test of normality :\n",
    "since the sample size is > 30 >>> as per CLT the population follows normal distribution \n",
    "#2  Variance Equality test (levene test):\n",
    "    H0=Population variances are equel \n",
    "    H1= any two population variances are not equal \n",
    "    if p value > alpha >>> accept H0 else reject H0\n"
   ]
  },
  {
   "cell_type": "code",
   "execution_count": 42,
   "id": "1ca8d764",
   "metadata": {},
   "outputs": [
    {
     "data": {
      "text/plain": [
       "'\\nH0 : population_var_tb_lunch = population_var_tb_dinner\\nH1 : population_var_tb_lunch != population_var_tb_dinner\\n'"
      ]
     },
     "execution_count": 42,
     "metadata": {},
     "output_type": "execute_result"
    }
   ],
   "source": [
    "#leven test to check variance equality bw tb of lunch and dinner \n",
    "'''\n",
    "H0 : population_var_tb_lunch = population_var_tb_dinner\n",
    "H1 : population_var_tb_lunch != population_var_tb_dinner\n",
    "'''\n"
   ]
  },
  {
   "cell_type": "code",
   "execution_count": 54,
   "id": "269a1b16",
   "metadata": {},
   "outputs": [
    {
     "ename": "TypeError",
     "evalue": "'tb_lunch' is an invalid keyword argument for print()",
     "output_type": "error",
     "traceback": [
      "\u001b[0;31m---------------------------------------------------------------------------\u001b[0m",
      "\u001b[0;31mTypeError\u001b[0m                                 Traceback (most recent call last)",
      "Cell \u001b[0;32mIn[54], line 1\u001b[0m\n\u001b[0;32m----> 1\u001b[0m \u001b[38;5;28;43mprint\u001b[39;49m\u001b[43m(\u001b[49m\u001b[43mtb_lunch\u001b[49m\u001b[38;5;241;43m=\u001b[39;49m\u001b[43mdf\u001b[49m\u001b[43m[\u001b[49m\u001b[43mdf\u001b[49m\u001b[38;5;241;43m.\u001b[39;49m\u001b[43mtime\u001b[49m\u001b[38;5;241;43m==\u001b[39;49m\u001b[38;5;124;43m'\u001b[39;49m\u001b[38;5;124;43mLunch\u001b[39;49m\u001b[38;5;124;43m'\u001b[39;49m\u001b[43m]\u001b[49m\u001b[43m[\u001b[49m\u001b[38;5;124;43m'\u001b[39;49m\u001b[38;5;124;43mtotal_bill\u001b[39;49m\u001b[38;5;124;43m'\u001b[39;49m\u001b[43m]\u001b[49m\u001b[43m)\u001b[49m\n\u001b[1;32m      2\u001b[0m tb_dinner\u001b[38;5;241m=\u001b[39mdf[df\u001b[38;5;241m.\u001b[39mtime\u001b[38;5;241m==\u001b[39m\u001b[38;5;124m'\u001b[39m\u001b[38;5;124mDinner\u001b[39m\u001b[38;5;124m'\u001b[39m][\u001b[38;5;124m'\u001b[39m\u001b[38;5;124mtotal_bill\u001b[39m\u001b[38;5;124m'\u001b[39m]\n\u001b[1;32m      3\u001b[0m st\u001b[38;5;241m.\u001b[39mlevene(tb_lunch,tb_dinner)\n",
      "\u001b[0;31mTypeError\u001b[0m: 'tb_lunch' is an invalid keyword argument for print()"
     ]
    }
   ],
   "source": [
    "tb_lunch=df[df.time=='Lunch']['total_bill']\n",
    "tb_dinner=df[df.time=='Dinner']['total_bill']\n",
    "st.levene(tb_lunch,tb_dinner)"
   ]
  },
  {
   "cell_type": "code",
   "execution_count": 30,
   "id": "da6b2524",
   "metadata": {},
   "outputs": [],
   "source": [
    "#since p value 0.1022346107726258 > alpha  0.05 >>> accept H0 : which concludes that the\n",
    "# >>>population variances are equal "
   ]
  },
  {
   "cell_type": "code",
   "execution_count": 41,
   "id": "0a02b548",
   "metadata": {},
   "outputs": [],
   "source": [
    "#H0: mu_tb_lunch = mu_tb_dinner\n",
    "#H1: mu_tb_lunch != mu_tb_dinner\n"
   ]
  },
  {
   "cell_type": "code",
   "execution_count": 39,
   "id": "5d679ffd",
   "metadata": {},
   "outputs": [
    {
     "data": {
      "text/plain": [
       "Ttest_indResult(statistic=-2.8976375218366424, pvalue=0.004104621407595674)"
      ]
     },
     "execution_count": 39,
     "metadata": {},
     "output_type": "execute_result"
    }
   ],
   "source": [
    "alpha = 0.05 \n",
    "st.ttest_ind(tb_lunch,tb_dinner,equal_var=True)"
   ]
  },
  {
   "cell_type": "code",
   "execution_count": 40,
   "id": "53069adc",
   "metadata": {},
   "outputs": [
    {
     "data": {
      "text/plain": [
       "0.004104621407595674"
      ]
     },
     "execution_count": 40,
     "metadata": {},
     "output_type": "execute_result"
    }
   ],
   "source": [
    "0.004104621407595674 > 0.05 #  reject the theory \n",
    "#p value\n",
    "nl=len(tb_lunch)\n",
    "nd=len(tb_dinner)\n",
    "dof = nl + nd -2 #  degree of freedom \n",
    "st.t.sf(abs(-2.8976375218366424),dof)*2"
   ]
  },
  {
   "cell_type": "code",
   "execution_count": 46,
   "id": "b484537d",
   "metadata": {},
   "outputs": [
    {
     "data": {
      "text/plain": [
       "False"
      ]
     },
     "execution_count": 46,
     "metadata": {},
     "output_type": "execute_result"
    }
   ],
   "source": [
    "#result total bill for lunch is not equal to total bill for dinner as , there is a difference in them \n",
    ".004104621407595674 > 0.05"
   ]
  },
  {
   "cell_type": "code",
   "execution_count": 47,
   "id": "ee07b54d",
   "metadata": {},
   "outputs": [
    {
     "ename": "SyntaxError",
     "evalue": "invalid syntax (4058469150.py, line 4)",
     "output_type": "error",
     "traceback": [
      "\u001b[0;36m  Cell \u001b[0;32mIn[47], line 4\u001b[0;36m\u001b[0m\n\u001b[0;31m    Step 0 : Assumption Test (important while doing paramatrics):\u001b[0m\n\u001b[0m         ^\u001b[0m\n\u001b[0;31mSyntaxError\u001b[0m\u001b[0;31m:\u001b[0m invalid syntax\n"
     ]
    }
   ],
   "source": [
    "#problem statement 2 : is the tip same for male and female transactions ? verify @ 5 % level of significance\n",
    "#1 catagorical and 1 catagorical data with 2 catagory values\n",
    "# 2 sample test independent test\n",
    "Step 0 : Assumption Test (important while doing paramatrics):\n",
    "        #1  Test of normality :\n",
    "since the sample size is > 30 >>> as per CLT the population follows normal distribution \n",
    "#2  Variance Equality test (levene test):\n",
    "    H0=Population variances are equel \n",
    "    H1= any two population variances are not equal \n",
    "    if p value > alpha >>> accept H0 else reject H0\n",
    "  \n"
   ]
  },
  {
   "cell_type": "code",
   "execution_count": 58,
   "id": "4eef55fa",
   "metadata": {},
   "outputs": [
    {
     "data": {
      "text/plain": [
       "LeveneResult(statistic=1.9909710178779405, pvalue=0.1595236359896614)"
      ]
     },
     "execution_count": 58,
     "metadata": {},
     "output_type": "execute_result"
    }
   ],
   "source": [
    "alpha=0.05\n",
    "tip_male=df[df.sex=='Male']['tip']\n",
    "tip_female=df[df.sex=='Female']['tip']\n",
    "st.levene(tip_male,tip_female)"
   ]
  },
  {
   "cell_type": "code",
   "execution_count": 60,
   "id": "8cd56c50",
   "metadata": {},
   "outputs": [
    {
     "data": {
      "text/plain": [
       "True"
      ]
     },
     "execution_count": 60,
     "metadata": {},
     "output_type": "execute_result"
    }
   ],
   "source": [
    "0.1595236359896614 > 0.05\n",
    "#H0 is good"
   ]
  },
  {
   "cell_type": "code",
   "execution_count": 62,
   "id": "27cf0666",
   "metadata": {},
   "outputs": [
    {
     "data": {
      "text/plain": [
       "Ttest_indResult(statistic=1.387859705421269, pvalue=0.16645623503456755)"
      ]
     },
     "execution_count": 62,
     "metadata": {},
     "output_type": "execute_result"
    }
   ],
   "source": [
    "st.ttest_ind(tip_male,tip_female,equal_var=True)"
   ]
  },
  {
   "cell_type": "code",
   "execution_count": 65,
   "id": "c15d77bb",
   "metadata": {},
   "outputs": [
    {
     "data": {
      "text/plain": [
       "True"
      ]
     },
     "execution_count": 65,
     "metadata": {},
     "output_type": "execute_result"
    }
   ],
   "source": [
    "0.16645623503456755 > 0.05\n",
    "# H0 is good  tip for male and female transaction is same "
   ]
  },
  {
   "cell_type": "code",
   "execution_count": 66,
   "id": "43655cab",
   "metadata": {},
   "outputs": [],
   "source": [
    "#problem statement 3 : is the proportion of smoking 40 % of transaction ? verify @ 1 % level of significane\n",
    "#1 sample test of propotion "
   ]
  },
  {
   "cell_type": "code",
   "execution_count": 69,
   "id": "c8f54424",
   "metadata": {},
   "outputs": [
    {
     "data": {
      "text/plain": [
       "No     0.618852\n",
       "Yes    0.381148\n",
       "Name: smoker, dtype: float64"
      ]
     },
     "execution_count": 69,
     "metadata": {},
     "output_type": "execute_result"
    }
   ],
   "source": [
    "df.smoker.value_counts(normalize=True) # % "
   ]
  },
  {
   "cell_type": "code",
   "execution_count": 71,
   "id": "d9a2a50c",
   "metadata": {},
   "outputs": [
    {
     "data": {
      "text/plain": [
       "No     151\n",
       "Yes     93\n",
       "Name: smoker, dtype: int64"
      ]
     },
     "execution_count": 71,
     "metadata": {},
     "output_type": "execute_result"
    }
   ],
   "source": [
    "df.smoker.value_counts() "
   ]
  },
  {
   "cell_type": "code",
   "execution_count": 77,
   "id": "7bda7798",
   "metadata": {},
   "outputs": [
    {
     "name": "stdout",
     "output_type": "stream",
     "text": [
      "-0.6063491832694735\n"
     ]
    },
    {
     "data": {
      "text/plain": [
       "0.5442829052719291"
      ]
     },
     "execution_count": 77,
     "metadata": {},
     "output_type": "execute_result"
    }
   ],
   "source": [
    "#H0: ps = 0.4 # sample belongs to population whose smoking propotion is .4 \n",
    "#H1: ps !=0.4  # sample does not belong to that proportion \n",
    "\n",
    "alpha =.01\n",
    "#z stattisctics \n",
    "P=0.4\n",
    "x= 93 \n",
    "n=244\n",
    "p = x/n \n",
    "q = 1-p \n",
    "se = np.sqrt(p*q/n)\n",
    "z_stat=(p-P)/se\n",
    "print(z_stat)\n",
    "\n",
    "z_critical=st.norm.ppf(0.005)\n",
    "st.norm.cdf(z_stat)*2\n",
    "\n",
    "\n",
    "### manual calculations \n",
    "\n"
   ]
  },
  {
   "cell_type": "code",
   "execution_count": 86,
   "id": "440ebfc1",
   "metadata": {},
   "outputs": [],
   "source": [
    "from statsmodels.stats.proportion import proportions_ztest ,proportion_confint"
   ]
  },
  {
   "cell_type": "code",
   "execution_count": 88,
   "id": "23d0197c",
   "metadata": {},
   "outputs": [
    {
     "data": {
      "text/plain": [
       "(-0.6063491832694735, 0.5442829052719291)"
      ]
     },
     "execution_count": 88,
     "metadata": {},
     "output_type": "execute_result"
    }
   ],
   "source": [
    "proportions_ztest(x,n,P) # x people smoke , n total number P given sample proportion \n",
    " # find the range for accepting or rejecting\n",
    "\n",
    "#since  p value is > alpha we accept H0 that means 40 %  transactions are from smokers\n"
   ]
  },
  {
   "cell_type": "code",
   "execution_count": 89,
   "id": "6358e5bf",
   "metadata": {},
   "outputs": [
    {
     "data": {
      "text/plain": [
       "(0.301060492599145, 0.46123458936806805)"
      ]
     },
     "execution_count": 89,
     "metadata": {},
     "output_type": "execute_result"
    }
   ],
   "source": [
    "proportion_confint(x,n,0.01)"
   ]
  },
  {
   "cell_type": "code",
   "execution_count": 84,
   "id": "a3f6b75d",
   "metadata": {},
   "outputs": [],
   "source": [
    "\n",
    "#problem statement 4 : is the smoking proportion smame for both male and female verify @ 3%  level of significance \n",
    "#2 sample test of proportion "
   ]
  },
  {
   "cell_type": "code",
   "execution_count": 91,
   "id": "f29655f8",
   "metadata": {},
   "outputs": [],
   "source": [
    "#H0 Pm = Pf\n",
    "#H1 Pm != Pf\n",
    "pd.crosstab(df.sex,df.smoker)\n"
   ]
  },
  {
   "cell_type": "code",
   "execution_count": 97,
   "id": "98e08185",
   "metadata": {},
   "outputs": [
    {
     "name": "stdout",
     "output_type": "stream",
     "text": [
      "-0.6063491832694735 2.1700903775845606\n"
     ]
    }
   ],
   "source": [
    "alpha = 0.03 \n",
    "xm=60\n",
    "xf=33\n",
    "nm=157\n",
    "nf=87\n",
    "pm = xm / nm\n",
    "pf = xf/nf\n",
    "p = (xm + xf)/(nm+nf)\n",
    "q=1-p\n",
    "se = np.sqrt(p*q*((1/nm)+(1/nf)))\n",
    "z_state=(pm-pf)/se\n",
    "z_critical=st.norm.isf(alpha/2)\n",
    "print(z_stat,z_critical)"
   ]
  },
  {
   "cell_type": "code",
   "execution_count": 99,
   "id": "6cbe61e8",
   "metadata": {},
   "outputs": [
    {
     "data": {
      "text/plain": [
       "(0.043986572230939734, 0.9649151073157315)"
      ]
     },
     "execution_count": 99,
     "metadata": {},
     "output_type": "execute_result"
    }
   ],
   "source": [
    "proportions_ztest([xm,xf],[nm,nf])"
   ]
  },
  {
   "cell_type": "code",
   "execution_count": 100,
   "id": "6e7f36d6",
   "metadata": {},
   "outputs": [
    {
     "data": {
      "text/plain": [
       "True"
      ]
     },
     "execution_count": 100,
     "metadata": {},
     "output_type": "execute_result"
    }
   ],
   "source": [
    "\n",
    "9649151073157315 >  0.03 "
   ]
  },
  {
   "cell_type": "code",
   "execution_count": 101,
   "id": "e036e62b",
   "metadata": {},
   "outputs": [],
   "source": [
    "#since p value is greater tan alpha there is no significance diff between proportino of smokers between maile nad femails\n",
    "\n"
   ]
  },
  {
   "cell_type": "code",
   "execution_count": 102,
   "id": "3bef220b",
   "metadata": {},
   "outputs": [],
   "source": [
    "#problem statement 5 : is there any relationship bw total bill and tip? verify @4% level of significance \n",
    "#correlation test both numarical (pearson R test)"
   ]
  },
  {
   "cell_type": "code",
   "execution_count": 104,
   "id": "007507eb",
   "metadata": {},
   "outputs": [
    {
     "data": {
      "text/html": [
       "<div>\n",
       "<style scoped>\n",
       "    .dataframe tbody tr th:only-of-type {\n",
       "        vertical-align: middle;\n",
       "    }\n",
       "\n",
       "    .dataframe tbody tr th {\n",
       "        vertical-align: top;\n",
       "    }\n",
       "\n",
       "    .dataframe thead th {\n",
       "        text-align: right;\n",
       "    }\n",
       "</style>\n",
       "<table border=\"1\" class=\"dataframe\">\n",
       "  <thead>\n",
       "    <tr style=\"text-align: right;\">\n",
       "      <th></th>\n",
       "      <th>total_bill</th>\n",
       "      <th>tip</th>\n",
       "    </tr>\n",
       "  </thead>\n",
       "  <tbody>\n",
       "    <tr>\n",
       "      <th>total_bill</th>\n",
       "      <td>1.000000</td>\n",
       "      <td>0.675734</td>\n",
       "    </tr>\n",
       "    <tr>\n",
       "      <th>tip</th>\n",
       "      <td>0.675734</td>\n",
       "      <td>1.000000</td>\n",
       "    </tr>\n",
       "  </tbody>\n",
       "</table>\n",
       "</div>"
      ],
      "text/plain": [
       "            total_bill       tip\n",
       "total_bill    1.000000  0.675734\n",
       "tip           0.675734  1.000000"
      ]
     },
     "execution_count": 104,
     "metadata": {},
     "output_type": "execute_result"
    }
   ],
   "source": [
    "df[['total_bill','tip']].corr()"
   ]
  },
  {
   "cell_type": "code",
   "execution_count": null,
   "id": "ff99aaf4",
   "metadata": {},
   "outputs": [],
   "source": [
    "alpha = .04\n",
    "H0 population_correlation coeff = 0 \n",
    "H1  Population_Correlation coeff != 0 \n"
   ]
  },
  {
   "cell_type": "code",
   "execution_count": 106,
   "id": "45ec1899",
   "metadata": {},
   "outputs": [
    {
     "data": {
      "text/plain": [
       "PearsonRResult(statistic=0.6757341092113647, pvalue=6.6924706468630016e-34)"
      ]
     },
     "execution_count": 106,
     "metadata": {},
     "output_type": "execute_result"
    }
   ],
   "source": [
    "st.pearsonr(df.total_bill,df.tip)"
   ]
  },
  {
   "cell_type": "code",
   "execution_count": 108,
   "id": "a075ee9e",
   "metadata": {},
   "outputs": [],
   "source": [
    "#since P value is less than alpha then we need to reject h0 \n",
    "#conclude that there is significant  relationship  between the total bill "
   ]
  },
  {
   "cell_type": "code",
   "execution_count": 103,
   "id": "f04c1e2b",
   "metadata": {},
   "outputs": [],
   "source": [
    "#problem statement 6 : is  the smoking proportion varies from thursday to sunday ? verify @ 2% level of significance\n",
    "# 2 by 4 matrix chi square test of association "
   ]
  },
  {
   "cell_type": "code",
   "execution_count": 109,
   "id": "e543df0a",
   "metadata": {},
   "outputs": [
    {
     "data": {
      "text/html": [
       "<div>\n",
       "<style scoped>\n",
       "    .dataframe tbody tr th:only-of-type {\n",
       "        vertical-align: middle;\n",
       "    }\n",
       "\n",
       "    .dataframe tbody tr th {\n",
       "        vertical-align: top;\n",
       "    }\n",
       "\n",
       "    .dataframe thead th {\n",
       "        text-align: right;\n",
       "    }\n",
       "</style>\n",
       "<table border=\"1\" class=\"dataframe\">\n",
       "  <thead>\n",
       "    <tr style=\"text-align: right;\">\n",
       "      <th>day</th>\n",
       "      <th>Thur</th>\n",
       "      <th>Fri</th>\n",
       "      <th>Sat</th>\n",
       "      <th>Sun</th>\n",
       "    </tr>\n",
       "    <tr>\n",
       "      <th>smoker</th>\n",
       "      <th></th>\n",
       "      <th></th>\n",
       "      <th></th>\n",
       "      <th></th>\n",
       "    </tr>\n",
       "  </thead>\n",
       "  <tbody>\n",
       "    <tr>\n",
       "      <th>Yes</th>\n",
       "      <td>17</td>\n",
       "      <td>15</td>\n",
       "      <td>42</td>\n",
       "      <td>19</td>\n",
       "    </tr>\n",
       "    <tr>\n",
       "      <th>No</th>\n",
       "      <td>45</td>\n",
       "      <td>4</td>\n",
       "      <td>45</td>\n",
       "      <td>57</td>\n",
       "    </tr>\n",
       "  </tbody>\n",
       "</table>\n",
       "</div>"
      ],
      "text/plain": [
       "day     Thur  Fri  Sat  Sun\n",
       "smoker                     \n",
       "Yes       17   15   42   19\n",
       "No        45    4   45   57"
      ]
     },
     "execution_count": 109,
     "metadata": {},
     "output_type": "execute_result"
    }
   ],
   "source": [
    "pd.crosstab(df.smoker,df.day)"
   ]
  },
  {
   "cell_type": "code",
   "execution_count": 110,
   "id": "7472bc8c",
   "metadata": {},
   "outputs": [
    {
     "data": {
      "text/html": [
       "<div>\n",
       "<style scoped>\n",
       "    .dataframe tbody tr th:only-of-type {\n",
       "        vertical-align: middle;\n",
       "    }\n",
       "\n",
       "    .dataframe tbody tr th {\n",
       "        vertical-align: top;\n",
       "    }\n",
       "\n",
       "    .dataframe thead th {\n",
       "        text-align: right;\n",
       "    }\n",
       "</style>\n",
       "<table border=\"1\" class=\"dataframe\">\n",
       "  <thead>\n",
       "    <tr style=\"text-align: right;\">\n",
       "      <th>day</th>\n",
       "      <th>Thur</th>\n",
       "      <th>Fri</th>\n",
       "      <th>Sat</th>\n",
       "      <th>Sun</th>\n",
       "    </tr>\n",
       "    <tr>\n",
       "      <th>smoker</th>\n",
       "      <th></th>\n",
       "      <th></th>\n",
       "      <th></th>\n",
       "      <th></th>\n",
       "    </tr>\n",
       "  </thead>\n",
       "  <tbody>\n",
       "    <tr>\n",
       "      <th>Yes</th>\n",
       "      <td>0.069672</td>\n",
       "      <td>0.061475</td>\n",
       "      <td>0.172131</td>\n",
       "      <td>0.077869</td>\n",
       "    </tr>\n",
       "    <tr>\n",
       "      <th>No</th>\n",
       "      <td>0.184426</td>\n",
       "      <td>0.016393</td>\n",
       "      <td>0.184426</td>\n",
       "      <td>0.233607</td>\n",
       "    </tr>\n",
       "  </tbody>\n",
       "</table>\n",
       "</div>"
      ],
      "text/plain": [
       "day         Thur       Fri       Sat       Sun\n",
       "smoker                                        \n",
       "Yes     0.069672  0.061475  0.172131  0.077869\n",
       "No      0.184426  0.016393  0.184426  0.233607"
      ]
     },
     "execution_count": 110,
     "metadata": {},
     "output_type": "execute_result"
    }
   ],
   "source": [
    "pd.crosstab(df.smoker,df.day,normalize=True)"
   ]
  },
  {
   "cell_type": "code",
   "execution_count": 112,
   "id": "12c1341b",
   "metadata": {},
   "outputs": [
    {
     "data": {
      "text/plain": [
       "Chi2ContingencyResult(statistic=25.787216672396262, pvalue=1.0567572499836523e-05, dof=3, expected_freq=array([[23.63114754,  7.24180328, 33.15983607, 28.96721311],\n",
       "       [38.36885246, 11.75819672, 53.84016393, 47.03278689]]))"
      ]
     },
     "execution_count": 112,
     "metadata": {},
     "output_type": "execute_result"
    }
   ],
   "source": [
    "#h0 : pth = pfr=psun=psat ther eis no association of bw smoking and day \n",
    "#h1 : any two proportion are difference, there is association of smoking and day \n",
    "    \n",
    "#test of association , test of independence \n",
    "\n",
    "st.chi2_contingency(pd.crosstab(df.smoker,df.day))"
   ]
  },
  {
   "cell_type": "code",
   "execution_count": null,
   "id": "a6041916",
   "metadata": {},
   "outputs": [],
   "source": [
    "#Degree of freedom (m-1)(n-1) number of rows and number of columes "
   ]
  },
  {
   "cell_type": "code",
   "execution_count": 114,
   "id": "6aa27194",
   "metadata": {},
   "outputs": [
    {
     "data": {
      "text/plain": [
       "1.0567572499836523e-05"
      ]
     },
     "execution_count": 114,
     "metadata": {},
     "output_type": "execute_result"
    }
   ],
   "source": [
    "#p value  : \n",
    "st.chi2.sf(25.787216672396262,3)\n"
   ]
  },
  {
   "cell_type": "code",
   "execution_count": 116,
   "id": "9e4512d6",
   "metadata": {},
   "outputs": [
    {
     "data": {
      "text/plain": [
       "9.837409311192594"
      ]
     },
     "execution_count": 116,
     "metadata": {},
     "output_type": "execute_result"
    }
   ],
   "source": [
    "alpha = .02\n",
    "#critical value\n",
    "st.chi2.isf(alpha,3)"
   ]
  },
  {
   "cell_type": "code",
   "execution_count": 117,
   "id": "954cda7c",
   "metadata": {},
   "outputs": [],
   "source": [
    "#since the p value is close to zero which is less thatn alpha \n",
    "#reject H0 \n",
    "#hence we cna conclude there is an associate bw smoking and days \n"
   ]
  },
  {
   "cell_type": "code",
   "execution_count": 120,
   "id": "6a234631",
   "metadata": {},
   "outputs": [
    {
     "data": {
      "text/html": [
       "<div>\n",
       "<style scoped>\n",
       "    .dataframe tbody tr th:only-of-type {\n",
       "        vertical-align: middle;\n",
       "    }\n",
       "\n",
       "    .dataframe tbody tr th {\n",
       "        vertical-align: top;\n",
       "    }\n",
       "\n",
       "    .dataframe thead th {\n",
       "        text-align: right;\n",
       "    }\n",
       "</style>\n",
       "<table border=\"1\" class=\"dataframe\">\n",
       "  <thead>\n",
       "    <tr style=\"text-align: right;\">\n",
       "      <th>day</th>\n",
       "      <th>Thur</th>\n",
       "      <th>Fri</th>\n",
       "      <th>Sat</th>\n",
       "      <th>Sun</th>\n",
       "    </tr>\n",
       "    <tr>\n",
       "      <th>time</th>\n",
       "      <th></th>\n",
       "      <th></th>\n",
       "      <th></th>\n",
       "      <th></th>\n",
       "    </tr>\n",
       "  </thead>\n",
       "  <tbody>\n",
       "    <tr>\n",
       "      <th>Lunch</th>\n",
       "      <td>61</td>\n",
       "      <td>7</td>\n",
       "      <td>0</td>\n",
       "      <td>0</td>\n",
       "    </tr>\n",
       "    <tr>\n",
       "      <th>Dinner</th>\n",
       "      <td>1</td>\n",
       "      <td>12</td>\n",
       "      <td>87</td>\n",
       "      <td>76</td>\n",
       "    </tr>\n",
       "  </tbody>\n",
       "</table>\n",
       "</div>"
      ],
      "text/plain": [
       "day     Thur  Fri  Sat  Sun\n",
       "time                       \n",
       "Lunch     61    7    0    0\n",
       "Dinner     1   12   87   76"
      ]
     },
     "execution_count": 120,
     "metadata": {},
     "output_type": "execute_result"
    }
   ],
   "source": [
    "#check the associate between type and day \n",
    "pd.crosstab(df.time,df.day)"
   ]
  },
  {
   "cell_type": "code",
   "execution_count": 121,
   "id": "a5baa247",
   "metadata": {},
   "outputs": [
    {
     "data": {
      "text/plain": [
       "Chi2ContingencyResult(statistic=217.1126728434853, pvalue=8.449897551777147e-47, dof=3, expected_freq=array([[17.27868852,  5.29508197, 24.24590164, 21.18032787],\n",
       "       [44.72131148, 13.70491803, 62.75409836, 54.81967213]]))"
      ]
     },
     "execution_count": 121,
     "metadata": {},
     "output_type": "execute_result"
    }
   ],
   "source": [
    "st.chi2_contingency(pd.crosstab(df.time,df.day))"
   ]
  },
  {
   "cell_type": "code",
   "execution_count": 123,
   "id": "449af65e",
   "metadata": {},
   "outputs": [
    {
     "data": {
      "text/plain": [
       "8.449897551777147e-47"
      ]
     },
     "execution_count": 123,
     "metadata": {},
     "output_type": "execute_result"
    }
   ],
   "source": [
    "st.chi2.sf(217.1126728434853,3)"
   ]
  },
  {
   "cell_type": "code",
   "execution_count": 124,
   "id": "ab8b0665",
   "metadata": {},
   "outputs": [
    {
     "data": {
      "text/plain": [
       "9.837409311192594"
      ]
     },
     "execution_count": 124,
     "metadata": {},
     "output_type": "execute_result"
    }
   ],
   "source": [
    "alpha = .02\n",
    "#critical value\n",
    "st.chi2.isf(alpha,3)"
   ]
  },
  {
   "cell_type": "code",
   "execution_count": null,
   "id": "972b87ca",
   "metadata": {},
   "outputs": [],
   "source": [
    "#problem statement 7 : is the total bill varies from thursday to sunday ? verify @ 6% level of significance\n",
    "#1 way Anuva test \n",
    "#analysis of variance \n"
   ]
  }
 ],
 "metadata": {
  "kernelspec": {
   "display_name": "Python 3 (ipykernel)",
   "language": "python",
   "name": "python3"
  },
  "language_info": {
   "codemirror_mode": {
    "name": "ipython",
    "version": 3
   },
   "file_extension": ".py",
   "mimetype": "text/x-python",
   "name": "python",
   "nbconvert_exporter": "python",
   "pygments_lexer": "ipython3",
   "version": "3.10.9"
  }
 },
 "nbformat": 4,
 "nbformat_minor": 5
}
