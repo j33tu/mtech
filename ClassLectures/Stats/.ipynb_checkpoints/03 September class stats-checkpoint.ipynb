{
 "cells": [
  {
   "cell_type": "code",
   "execution_count": 6,
   "id": "c7a74132",
   "metadata": {},
   "outputs": [],
   "source": [
    "import pandas as pd\n",
    "import numpy as np\n",
    "import matplotlib.pyplot as plt\n",
    "import scipy.stats as st\n",
    "import seaborn as sns\n",
    "import matplotlib.pyplot as plt\n",
    "import scipy.stats as st"
   ]
  },
  {
   "cell_type": "code",
   "execution_count": 10,
   "id": "f5ab8dea",
   "metadata": {},
   "outputs": [
    {
     "data": {
      "text/html": [
       "<div>\n",
       "<style scoped>\n",
       "    .dataframe tbody tr th:only-of-type {\n",
       "        vertical-align: middle;\n",
       "    }\n",
       "\n",
       "    .dataframe tbody tr th {\n",
       "        vertical-align: top;\n",
       "    }\n",
       "\n",
       "    .dataframe thead th {\n",
       "        text-align: right;\n",
       "    }\n",
       "</style>\n",
       "<table border=\"1\" class=\"dataframe\">\n",
       "  <thead>\n",
       "    <tr style=\"text-align: right;\">\n",
       "      <th></th>\n",
       "      <th>total_bill</th>\n",
       "      <th>tip</th>\n",
       "      <th>sex</th>\n",
       "      <th>smoker</th>\n",
       "      <th>day</th>\n",
       "      <th>time</th>\n",
       "      <th>size</th>\n",
       "    </tr>\n",
       "  </thead>\n",
       "  <tbody>\n",
       "    <tr>\n",
       "      <th>0</th>\n",
       "      <td>16.99</td>\n",
       "      <td>1.01</td>\n",
       "      <td>Female</td>\n",
       "      <td>No</td>\n",
       "      <td>Sun</td>\n",
       "      <td>Dinner</td>\n",
       "      <td>2</td>\n",
       "    </tr>\n",
       "    <tr>\n",
       "      <th>1</th>\n",
       "      <td>10.34</td>\n",
       "      <td>1.66</td>\n",
       "      <td>Male</td>\n",
       "      <td>No</td>\n",
       "      <td>Sun</td>\n",
       "      <td>Dinner</td>\n",
       "      <td>3</td>\n",
       "    </tr>\n",
       "    <tr>\n",
       "      <th>2</th>\n",
       "      <td>21.01</td>\n",
       "      <td>3.50</td>\n",
       "      <td>Male</td>\n",
       "      <td>No</td>\n",
       "      <td>Sun</td>\n",
       "      <td>Dinner</td>\n",
       "      <td>3</td>\n",
       "    </tr>\n",
       "    <tr>\n",
       "      <th>3</th>\n",
       "      <td>23.68</td>\n",
       "      <td>3.31</td>\n",
       "      <td>Male</td>\n",
       "      <td>No</td>\n",
       "      <td>Sun</td>\n",
       "      <td>Dinner</td>\n",
       "      <td>2</td>\n",
       "    </tr>\n",
       "    <tr>\n",
       "      <th>4</th>\n",
       "      <td>24.59</td>\n",
       "      <td>3.61</td>\n",
       "      <td>Female</td>\n",
       "      <td>No</td>\n",
       "      <td>Sun</td>\n",
       "      <td>Dinner</td>\n",
       "      <td>4</td>\n",
       "    </tr>\n",
       "    <tr>\n",
       "      <th>...</th>\n",
       "      <td>...</td>\n",
       "      <td>...</td>\n",
       "      <td>...</td>\n",
       "      <td>...</td>\n",
       "      <td>...</td>\n",
       "      <td>...</td>\n",
       "      <td>...</td>\n",
       "    </tr>\n",
       "    <tr>\n",
       "      <th>239</th>\n",
       "      <td>29.03</td>\n",
       "      <td>5.92</td>\n",
       "      <td>Male</td>\n",
       "      <td>No</td>\n",
       "      <td>Sat</td>\n",
       "      <td>Dinner</td>\n",
       "      <td>3</td>\n",
       "    </tr>\n",
       "    <tr>\n",
       "      <th>240</th>\n",
       "      <td>27.18</td>\n",
       "      <td>2.00</td>\n",
       "      <td>Female</td>\n",
       "      <td>Yes</td>\n",
       "      <td>Sat</td>\n",
       "      <td>Dinner</td>\n",
       "      <td>2</td>\n",
       "    </tr>\n",
       "    <tr>\n",
       "      <th>241</th>\n",
       "      <td>22.67</td>\n",
       "      <td>2.00</td>\n",
       "      <td>Male</td>\n",
       "      <td>Yes</td>\n",
       "      <td>Sat</td>\n",
       "      <td>Dinner</td>\n",
       "      <td>2</td>\n",
       "    </tr>\n",
       "    <tr>\n",
       "      <th>242</th>\n",
       "      <td>17.82</td>\n",
       "      <td>1.75</td>\n",
       "      <td>Male</td>\n",
       "      <td>No</td>\n",
       "      <td>Sat</td>\n",
       "      <td>Dinner</td>\n",
       "      <td>2</td>\n",
       "    </tr>\n",
       "    <tr>\n",
       "      <th>243</th>\n",
       "      <td>18.78</td>\n",
       "      <td>3.00</td>\n",
       "      <td>Female</td>\n",
       "      <td>No</td>\n",
       "      <td>Thur</td>\n",
       "      <td>Dinner</td>\n",
       "      <td>2</td>\n",
       "    </tr>\n",
       "  </tbody>\n",
       "</table>\n",
       "<p>244 rows × 7 columns</p>\n",
       "</div>"
      ],
      "text/plain": [
       "     total_bill   tip     sex smoker   day    time  size\n",
       "0         16.99  1.01  Female     No   Sun  Dinner     2\n",
       "1         10.34  1.66    Male     No   Sun  Dinner     3\n",
       "2         21.01  3.50    Male     No   Sun  Dinner     3\n",
       "3         23.68  3.31    Male     No   Sun  Dinner     2\n",
       "4         24.59  3.61  Female     No   Sun  Dinner     4\n",
       "..          ...   ...     ...    ...   ...     ...   ...\n",
       "239       29.03  5.92    Male     No   Sat  Dinner     3\n",
       "240       27.18  2.00  Female    Yes   Sat  Dinner     2\n",
       "241       22.67  2.00    Male    Yes   Sat  Dinner     2\n",
       "242       17.82  1.75    Male     No   Sat  Dinner     2\n",
       "243       18.78  3.00  Female     No  Thur  Dinner     2\n",
       "\n",
       "[244 rows x 7 columns]"
      ]
     },
     "execution_count": 10,
     "metadata": {},
     "output_type": "execute_result"
    }
   ],
   "source": [
    "df=sns.load_dataset('tips')\n",
    "df"
   ]
  },
  {
   "cell_type": "code",
   "execution_count": 7,
   "id": "b8f44be7",
   "metadata": {},
   "outputs": [],
   "source": [
    "#hypothesis Tests "
   ]
  },
  {
   "cell_type": "code",
   "execution_count": 8,
   "id": "1da5409c",
   "metadata": {},
   "outputs": [],
   "source": [
    "#problem statement 1 : is the total bill same  for lunch and dinner verify @ 5 % leval of significance\n",
    "#problem statement 2 : is the tip same for male and female transactions ? verify @ 5 % level of significance\n",
    "#problem statement 3 : is the proportion of smoking 40 % of transaction ? verify @ 1 % level of significane\n",
    "#problem statement 4 : is the smoking proportion smame for both mail and female verify @ 3%  level of significance \n",
    "#problem statement 5 : is there any relationship bw total bill and tip? verify @4% level of significance \n",
    "#problem statement 6 : is  the smoking proportion varies from thursday to sunday ? verify @ 2% level of significance\n",
    "#problem statement 7 : is the total bill varies from thursday to sunday ? verify @ 6% level of significance\n"
   ]
  },
  {
   "cell_type": "code",
   "execution_count": 9,
   "id": "89c2e684",
   "metadata": {},
   "outputs": [],
   "source": [
    "#problem statement 1 : is the total bill same  for lunch and dinner verify @ 5 % leval of significance\n",
    "#here we have 1 numarical  and 1 catagorical data with two options in catagory \n",
    "# 2 sample test independent test"
   ]
  },
  {
   "cell_type": "code",
   "execution_count": 45,
   "id": "9dd5394f",
   "metadata": {},
   "outputs": [],
   "source": [
    "#problem statement 2 : is the tip same for male and female transactions ? verify @ 5 % level of significance\n",
    "#1 catagorical and 1 catagorical data with 2 catagory values\n",
    "# 2 sample test independent test"
   ]
  },
  {
   "cell_type": "code",
   "execution_count": 64,
   "id": "9b905c30",
   "metadata": {},
   "outputs": [],
   "source": [
    "#problem statement 3 : is the proportion of smoking 40 % of transaction ? verify @ 1 % level of significane\n",
    "#1 sample test of propotion "
   ]
  },
  {
   "cell_type": "code",
   "execution_count": 17,
   "id": "9ecdf3a7",
   "metadata": {},
   "outputs": [],
   "source": [
    "\n",
    "#problem statement 4 : is the smoking proportion smame for both mail and female verify @ 3%  level of significance \n",
    "#2 sample test of proportion "
   ]
  },
  {
   "cell_type": "code",
   "execution_count": 14,
   "id": "5cb9a154",
   "metadata": {},
   "outputs": [],
   "source": [
    "#problem statement 5 : is there any relationship bw total bill and tip? verify @4% level of significance \n",
    "#correlation test both numarical (pearson R test)"
   ]
  },
  {
   "cell_type": "code",
   "execution_count": 18,
   "id": "bab3cfa9",
   "metadata": {},
   "outputs": [],
   "source": [
    "#problem statement 6 : is  the smoking proportion varies from thursday to sunday ? verify @ 2% level of significance\n",
    "# 2 by 4 matrix chi square test of association "
   ]
  },
  {
   "cell_type": "code",
   "execution_count": 19,
   "id": "16c6c51f",
   "metadata": {},
   "outputs": [],
   "source": [
    "#problem statement 7 : is the total bill varies from thursday to sunday ? verify @ 6% level of significance\n",
    "#1 way Anuva test "
   ]
  },
  {
   "cell_type": "code",
   "execution_count": 21,
   "id": "200ec41b",
   "metadata": {},
   "outputs": [
    {
     "data": {
      "text/plain": [
       "'\\n# Step 0 : Assumption Test (important while doing paramatrics)\\n   # Test of normality :\\nsince the sample size is > 30 >>> as per CLT the population follows normal distribution \\n\\n'"
      ]
     },
     "execution_count": 21,
     "metadata": {},
     "output_type": "execute_result"
    }
   ],
   "source": [
    "#problem statement 1 : is the total bill is  same  for lunch and dinner verify @ 5 % leval of significance\n",
    "#here we have 1 numarical  and 1 catagorical data with two options in catagory \n",
    "# 2 sample test independent test\n",
    "Step 0 : Assumption Test (important while doing paramatrics):\n",
    "        #1  Test of normality :\n",
    "since the sample size is > 30 >>> as per CLT the population follows normal distribution \n",
    "#2  Variance Equality test (levene test):\n",
    "    H0=Population variances are equel \n",
    "    H1= any two population variances are not equal \n",
    "    if p value > alpha >>> accept H0 else reject H0\n"
   ]
  },
  {
   "cell_type": "code",
   "execution_count": 42,
   "id": "778ffe0a",
   "metadata": {},
   "outputs": [
    {
     "data": {
      "text/plain": [
       "'\\nH0 : population_var_tb_lunch = population_var_tb_dinner\\nH1 : population_var_tb_lunch != population_var_tb_dinner\\n'"
      ]
     },
     "execution_count": 42,
     "metadata": {},
     "output_type": "execute_result"
    }
   ],
   "source": [
    "#leven test to check variance equality bw tb of lunch and dinner \n",
    "'''\n",
    "H0 : population_var_tb_lunch = population_var_tb_dinner\n",
    "H1 : population_var_tb_lunch != population_var_tb_dinner\n",
    "'''\n"
   ]
  },
  {
   "cell_type": "code",
   "execution_count": 54,
   "id": "39665bfd",
   "metadata": {},
   "outputs": [
    {
     "ename": "TypeError",
     "evalue": "'tb_lunch' is an invalid keyword argument for print()",
     "output_type": "error",
     "traceback": [
      "\u001b[0;31m---------------------------------------------------------------------------\u001b[0m",
      "\u001b[0;31mTypeError\u001b[0m                                 Traceback (most recent call last)",
      "Cell \u001b[0;32mIn[54], line 1\u001b[0m\n\u001b[0;32m----> 1\u001b[0m \u001b[38;5;28;43mprint\u001b[39;49m\u001b[43m(\u001b[49m\u001b[43mtb_lunch\u001b[49m\u001b[38;5;241;43m=\u001b[39;49m\u001b[43mdf\u001b[49m\u001b[43m[\u001b[49m\u001b[43mdf\u001b[49m\u001b[38;5;241;43m.\u001b[39;49m\u001b[43mtime\u001b[49m\u001b[38;5;241;43m==\u001b[39;49m\u001b[38;5;124;43m'\u001b[39;49m\u001b[38;5;124;43mLunch\u001b[39;49m\u001b[38;5;124;43m'\u001b[39;49m\u001b[43m]\u001b[49m\u001b[43m[\u001b[49m\u001b[38;5;124;43m'\u001b[39;49m\u001b[38;5;124;43mtotal_bill\u001b[39;49m\u001b[38;5;124;43m'\u001b[39;49m\u001b[43m]\u001b[49m\u001b[43m)\u001b[49m\n\u001b[1;32m      2\u001b[0m tb_dinner\u001b[38;5;241m=\u001b[39mdf[df\u001b[38;5;241m.\u001b[39mtime\u001b[38;5;241m==\u001b[39m\u001b[38;5;124m'\u001b[39m\u001b[38;5;124mDinner\u001b[39m\u001b[38;5;124m'\u001b[39m][\u001b[38;5;124m'\u001b[39m\u001b[38;5;124mtotal_bill\u001b[39m\u001b[38;5;124m'\u001b[39m]\n\u001b[1;32m      3\u001b[0m st\u001b[38;5;241m.\u001b[39mlevene(tb_lunch,tb_dinner)\n",
      "\u001b[0;31mTypeError\u001b[0m: 'tb_lunch' is an invalid keyword argument for print()"
     ]
    }
   ],
   "source": [
    "tb_lunch=df[df.time=='Lunch']['total_bill']\n",
    "tb_dinner=df[df.time=='Dinner']['total_bill']\n",
    "st.levene(tb_lunch,tb_dinner)"
   ]
  },
  {
   "cell_type": "code",
   "execution_count": 30,
   "id": "c467a9df",
   "metadata": {},
   "outputs": [],
   "source": [
    "#since p value 0.1022346107726258 > alpha  0.05 >>> accept H0 : which concludes that the\n",
    "# >>>population variances are equal "
   ]
  },
  {
   "cell_type": "code",
   "execution_count": 41,
   "id": "55fa8621",
   "metadata": {},
   "outputs": [],
   "source": [
    "#H0: mu_tb_lunch = mu_tb_dinner\n",
    "#H1: mu_tb_lunch != mu_tb_dinner\n"
   ]
  },
  {
   "cell_type": "code",
   "execution_count": 39,
   "id": "1ca6c273",
   "metadata": {},
   "outputs": [
    {
     "data": {
      "text/plain": [
       "Ttest_indResult(statistic=-2.8976375218366424, pvalue=0.004104621407595674)"
      ]
     },
     "execution_count": 39,
     "metadata": {},
     "output_type": "execute_result"
    }
   ],
   "source": [
    "alpha = 0.05 \n",
    "st.ttest_ind(tb_lunch,tb_dinner,equal_var=True)"
   ]
  },
  {
   "cell_type": "code",
   "execution_count": 40,
   "id": "d16386b0",
   "metadata": {},
   "outputs": [
    {
     "data": {
      "text/plain": [
       "0.004104621407595674"
      ]
     },
     "execution_count": 40,
     "metadata": {},
     "output_type": "execute_result"
    }
   ],
   "source": [
    "0.004104621407595674 > 0.05 #  reject the theory \n",
    "#p value\n",
    "nl=len(tb_lunch)\n",
    "nd=len(tb_dinner)\n",
    "dof = nl + nd -2 #  degree of freedom \n",
    "st.t.sf(abs(-2.8976375218366424),dof)*2"
   ]
  },
  {
   "cell_type": "code",
   "execution_count": 46,
   "id": "1d09200e",
   "metadata": {},
   "outputs": [
    {
     "data": {
      "text/plain": [
       "False"
      ]
     },
     "execution_count": 46,
     "metadata": {},
     "output_type": "execute_result"
    }
   ],
   "source": [
    "#result total bill for lunch is not equal to total bill for dinner as , there is a difference in them \n",
    ".004104621407595674 > 0.05"
   ]
  },
  {
   "cell_type": "code",
   "execution_count": 47,
   "id": "e7593471",
   "metadata": {},
   "outputs": [
    {
     "ename": "SyntaxError",
     "evalue": "invalid syntax (4058469150.py, line 4)",
     "output_type": "error",
     "traceback": [
      "\u001b[0;36m  Cell \u001b[0;32mIn[47], line 4\u001b[0;36m\u001b[0m\n\u001b[0;31m    Step 0 : Assumption Test (important while doing paramatrics):\u001b[0m\n\u001b[0m         ^\u001b[0m\n\u001b[0;31mSyntaxError\u001b[0m\u001b[0;31m:\u001b[0m invalid syntax\n"
     ]
    }
   ],
   "source": [
    "#problem statement 2 : is the tip same for male and female transactions ? verify @ 5 % level of significance\n",
    "#1 catagorical and 1 catagorical data with 2 catagory values\n",
    "# 2 sample test independent test\n",
    "Step 0 : Assumption Test (important while doing paramatrics):\n",
    "        #1  Test of normality :\n",
    "since the sample size is > 30 >>> as per CLT the population follows normal distribution \n",
    "#2  Variance Equality test (levene test):\n",
    "    H0=Population variances are equel \n",
    "    H1= any two population variances are not equal \n",
    "    if p value > alpha >>> accept H0 else reject H0\n",
    "  \n"
   ]
  },
  {
   "cell_type": "code",
   "execution_count": 58,
   "id": "2d7c42ae",
   "metadata": {},
   "outputs": [
    {
     "data": {
      "text/plain": [
       "LeveneResult(statistic=1.9909710178779405, pvalue=0.1595236359896614)"
      ]
     },
     "execution_count": 58,
     "metadata": {},
     "output_type": "execute_result"
    }
   ],
   "source": [
    "alpha=0.05\n",
    "tip_male=df[df.sex=='Male']['tip']\n",
    "tip_female=df[df.sex=='Female']['tip']\n",
    "st.levene(tip_male,tip_female)"
   ]
  },
  {
   "cell_type": "code",
   "execution_count": 60,
   "id": "54fd575c",
   "metadata": {},
   "outputs": [
    {
     "data": {
      "text/plain": [
       "True"
      ]
     },
     "execution_count": 60,
     "metadata": {},
     "output_type": "execute_result"
    }
   ],
   "source": [
    "0.1595236359896614 > 0.05\n",
    "#H0 is good"
   ]
  },
  {
   "cell_type": "code",
   "execution_count": 62,
   "id": "a9e667e3",
   "metadata": {},
   "outputs": [
    {
     "data": {
      "text/plain": [
       "Ttest_indResult(statistic=1.387859705421269, pvalue=0.16645623503456755)"
      ]
     },
     "execution_count": 62,
     "metadata": {},
     "output_type": "execute_result"
    }
   ],
   "source": [
    "st.ttest_ind(tip_male,tip_female,equal_var=True)"
   ]
  },
  {
   "cell_type": "code",
   "execution_count": 65,
   "id": "a0326ac7",
   "metadata": {},
   "outputs": [
    {
     "data": {
      "text/plain": [
       "True"
      ]
     },
     "execution_count": 65,
     "metadata": {},
     "output_type": "execute_result"
    }
   ],
   "source": [
    "0.16645623503456755 > 0.05\n",
    "# H0 is good  tip for male and female transaction is same "
   ]
  },
  {
   "cell_type": "code",
   "execution_count": 66,
   "id": "5f60aa33",
   "metadata": {},
   "outputs": [],
   "source": [
    "#problem statement 3 : is the proportion of smoking 40 % of transaction ? verify @ 1 % level of significane\n",
    "#1 sample test of propotion "
   ]
  },
  {
   "cell_type": "code",
   "execution_count": 69,
   "id": "1da97181",
   "metadata": {},
   "outputs": [
    {
     "data": {
      "text/plain": [
       "No     0.618852\n",
       "Yes    0.381148\n",
       "Name: smoker, dtype: float64"
      ]
     },
     "execution_count": 69,
     "metadata": {},
     "output_type": "execute_result"
    }
   ],
   "source": [
    "df.smoker.value_counts(normalize=True) # % "
   ]
  },
  {
   "cell_type": "code",
   "execution_count": 71,
   "id": "eb80fb22",
   "metadata": {},
   "outputs": [
    {
     "data": {
      "text/plain": [
       "No     151\n",
       "Yes     93\n",
       "Name: smoker, dtype: int64"
      ]
     },
     "execution_count": 71,
     "metadata": {},
     "output_type": "execute_result"
    }
   ],
   "source": [
    "df.smoker.value_counts() "
   ]
  },
  {
   "cell_type": "code",
   "execution_count": 77,
   "id": "7abb6f48",
   "metadata": {},
   "outputs": [
    {
     "name": "stdout",
     "output_type": "stream",
     "text": [
      "-0.6063491832694735\n"
     ]
    },
    {
     "data": {
      "text/plain": [
       "0.5442829052719291"
      ]
     },
     "execution_count": 77,
     "metadata": {},
     "output_type": "execute_result"
    }
   ],
   "source": [
    "#H0: ps = 0.4 # sample belongs to population whose smoking propotion is .4 \n",
    "#H1: ps !=0.4  # sample does not belong to that proportion \n",
    "\n",
    "alpha =.01\n",
    "#z stattisctics \n",
    "P=0.4\n",
    "x= 93 \n",
    "n=244\n",
    "p = x/n \n",
    "q = 1-p \n",
    "se = np.sqrt(p*q/n)\n",
    "z_stat=(p-P)/se\n",
    "print(z_stat)\n",
    "\n",
    "z_critical=st.norm.ppf(0.005)\n",
    "st.norm.cdf(z_stat)*2\n",
    "\n",
    "\n",
    "### manual calculations \n",
    "\n"
   ]
  },
  {
   "cell_type": "code",
   "execution_count": 86,
   "id": "abea25e2",
   "metadata": {},
   "outputs": [],
   "source": [
    "from statsmodels.stats.proportion import proportions_ztest ,proportion_confint"
   ]
  },
  {
   "cell_type": "code",
   "execution_count": 88,
   "id": "3ce4d5fc",
   "metadata": {},
   "outputs": [
    {
     "data": {
      "text/plain": [
       "(-0.6063491832694735, 0.5442829052719291)"
      ]
     },
     "execution_count": 88,
     "metadata": {},
     "output_type": "execute_result"
    }
   ],
   "source": [
    "proportions_ztest(x,n,P) # x people smoke , n total number P given sample proportion \n",
    " # find the range for accepting or rejecting\n",
    "\n",
    "#since  p value is > alpha we accept H0 that means 40 %  transactions are from smokers\n"
   ]
  },
  {
   "cell_type": "code",
   "execution_count": 89,
   "id": "16c5272c",
   "metadata": {},
   "outputs": [
    {
     "data": {
      "text/plain": [
       "(0.301060492599145, 0.46123458936806805)"
      ]
     },
     "execution_count": 89,
     "metadata": {},
     "output_type": "execute_result"
    }
   ],
   "source": [
    "proportion_confint(x,n,0.01)"
   ]
  },
  {
   "cell_type": "code",
   "execution_count": 84,
   "id": "f440c4d5",
   "metadata": {},
   "outputs": [],
   "source": [
    "\n",
    "#problem statement 4 : is the smoking proportion smame for both male and female verify @ 3%  level of significance \n",
    "#2 sample test of proportion "
   ]
  },
  {
   "cell_type": "code",
   "execution_count": 91,
   "id": "b0a3149a",
   "metadata": {},
   "outputs": [],
   "source": [
    "#H0 Pm = Pf\n",
    "#H1 Pm != Pf\n",
    "pd.crosstab(df.sex,df.smoker)\n"
   ]
  },
  {
   "cell_type": "code",
   "execution_count": 97,
   "id": "08c2b540",
   "metadata": {},
   "outputs": [
    {
     "name": "stdout",
     "output_type": "stream",
     "text": [
      "-0.6063491832694735 2.1700903775845606\n"
     ]
    }
   ],
   "source": [
    "alpha = 0.03 \n",
    "xm=60\n",
    "xf=33\n",
    "nm=157\n",
    "nf=87\n",
    "pm = xm / nm\n",
    "pf = xf/nf\n",
    "p = (xm + xf)/(nm+nf)\n",
    "q=1-p\n",
    "se = np.sqrt(p*q*((1/nm)+(1/nf)))\n",
    "z_state=(pm-pf)/se\n",
    "z_critical=st.norm.isf(alpha/2)\n",
    "print(z_stat,z_critical)"
   ]
  },
  {
   "cell_type": "code",
   "execution_count": 99,
   "id": "7ee2bbb3",
   "metadata": {},
   "outputs": [
    {
     "data": {
      "text/plain": [
       "(0.043986572230939734, 0.9649151073157315)"
      ]
     },
     "execution_count": 99,
     "metadata": {},
     "output_type": "execute_result"
    }
   ],
   "source": [
    "proportions_ztest([xm,xf],[nm,nf])"
   ]
  },
  {
   "cell_type": "code",
   "execution_count": 100,
   "id": "4fa53592",
   "metadata": {},
   "outputs": [
    {
     "data": {
      "text/plain": [
       "True"
      ]
     },
     "execution_count": 100,
     "metadata": {},
     "output_type": "execute_result"
    }
   ],
   "source": [
    "\n",
    "9649151073157315 >  0.03 "
   ]
  },
  {
   "cell_type": "code",
   "execution_count": 101,
   "id": "4b702df6",
   "metadata": {},
   "outputs": [],
   "source": [
    "#since p value is greater tan alpha there is no significance diff between proportino of smokers between maile nad femails\n",
    "\n"
   ]
  },
  {
   "cell_type": "code",
   "execution_count": 102,
   "id": "f0b0f97c",
   "metadata": {},
   "outputs": [],
   "source": [
    "#problem statement 5 : is there any relationship bw total bill and tip? verify @4% level of significance \n",
    "#correlation test both numarical (pearson R test)"
   ]
  },
  {
   "cell_type": "code",
   "execution_count": 104,
   "id": "8cefeb3e",
   "metadata": {},
   "outputs": [
    {
     "data": {
      "text/html": [
       "<div>\n",
       "<style scoped>\n",
       "    .dataframe tbody tr th:only-of-type {\n",
       "        vertical-align: middle;\n",
       "    }\n",
       "\n",
       "    .dataframe tbody tr th {\n",
       "        vertical-align: top;\n",
       "    }\n",
       "\n",
       "    .dataframe thead th {\n",
       "        text-align: right;\n",
       "    }\n",
       "</style>\n",
       "<table border=\"1\" class=\"dataframe\">\n",
       "  <thead>\n",
       "    <tr style=\"text-align: right;\">\n",
       "      <th></th>\n",
       "      <th>total_bill</th>\n",
       "      <th>tip</th>\n",
       "    </tr>\n",
       "  </thead>\n",
       "  <tbody>\n",
       "    <tr>\n",
       "      <th>total_bill</th>\n",
       "      <td>1.000000</td>\n",
       "      <td>0.675734</td>\n",
       "    </tr>\n",
       "    <tr>\n",
       "      <th>tip</th>\n",
       "      <td>0.675734</td>\n",
       "      <td>1.000000</td>\n",
       "    </tr>\n",
       "  </tbody>\n",
       "</table>\n",
       "</div>"
      ],
      "text/plain": [
       "            total_bill       tip\n",
       "total_bill    1.000000  0.675734\n",
       "tip           0.675734  1.000000"
      ]
     },
     "execution_count": 104,
     "metadata": {},
     "output_type": "execute_result"
    }
   ],
   "source": [
    "df[['total_bill','tip']].corr()"
   ]
  },
  {
   "cell_type": "code",
   "execution_count": null,
   "id": "c8e7ac66",
   "metadata": {},
   "outputs": [],
   "source": [
    "alpha = .04\n",
    "H0 population_correlation coeff = 0 \n",
    "H1  Population_Correlation coeff != 0 \n"
   ]
  },
  {
   "cell_type": "code",
   "execution_count": 106,
   "id": "2c989171",
   "metadata": {},
   "outputs": [
    {
     "data": {
      "text/plain": [
       "PearsonRResult(statistic=0.6757341092113647, pvalue=6.6924706468630016e-34)"
      ]
     },
     "execution_count": 106,
     "metadata": {},
     "output_type": "execute_result"
    }
   ],
   "source": [
    "st.pearsonr(df.total_bill,df.tip)"
   ]
  },
  {
   "cell_type": "code",
   "execution_count": 108,
   "id": "6061051b",
   "metadata": {},
   "outputs": [],
   "source": [
    "#since P value is less than alpha then we need to reject h0 \n",
    "#conclude that there is significant  relationship  between the total bill "
   ]
  },
  {
   "cell_type": "code",
   "execution_count": 103,
   "id": "a65b066d",
   "metadata": {},
   "outputs": [],
   "source": [
    "#problem statement 6 : is  the smoking proportion varies from thursday to sunday ? verify @ 2% level of significance\n",
    "# 2 by 4 matrix chi square test of association "
   ]
  },
  {
   "cell_type": "code",
   "execution_count": 109,
   "id": "f2629ca1",
   "metadata": {},
   "outputs": [
    {
     "data": {
      "text/html": [
       "<div>\n",
       "<style scoped>\n",
       "    .dataframe tbody tr th:only-of-type {\n",
       "        vertical-align: middle;\n",
       "    }\n",
       "\n",
       "    .dataframe tbody tr th {\n",
       "        vertical-align: top;\n",
       "    }\n",
       "\n",
       "    .dataframe thead th {\n",
       "        text-align: right;\n",
       "    }\n",
       "</style>\n",
       "<table border=\"1\" class=\"dataframe\">\n",
       "  <thead>\n",
       "    <tr style=\"text-align: right;\">\n",
       "      <th>day</th>\n",
       "      <th>Thur</th>\n",
       "      <th>Fri</th>\n",
       "      <th>Sat</th>\n",
       "      <th>Sun</th>\n",
       "    </tr>\n",
       "    <tr>\n",
       "      <th>smoker</th>\n",
       "      <th></th>\n",
       "      <th></th>\n",
       "      <th></th>\n",
       "      <th></th>\n",
       "    </tr>\n",
       "  </thead>\n",
       "  <tbody>\n",
       "    <tr>\n",
       "      <th>Yes</th>\n",
       "      <td>17</td>\n",
       "      <td>15</td>\n",
       "      <td>42</td>\n",
       "      <td>19</td>\n",
       "    </tr>\n",
       "    <tr>\n",
       "      <th>No</th>\n",
       "      <td>45</td>\n",
       "      <td>4</td>\n",
       "      <td>45</td>\n",
       "      <td>57</td>\n",
       "    </tr>\n",
       "  </tbody>\n",
       "</table>\n",
       "</div>"
      ],
      "text/plain": [
       "day     Thur  Fri  Sat  Sun\n",
       "smoker                     \n",
       "Yes       17   15   42   19\n",
       "No        45    4   45   57"
      ]
     },
     "execution_count": 109,
     "metadata": {},
     "output_type": "execute_result"
    }
   ],
   "source": [
    "pd.crosstab(df.smoker,df.day)"
   ]
  },
  {
   "cell_type": "code",
   "execution_count": 110,
   "id": "5f9bd9d6",
   "metadata": {},
   "outputs": [
    {
     "data": {
      "text/html": [
       "<div>\n",
       "<style scoped>\n",
       "    .dataframe tbody tr th:only-of-type {\n",
       "        vertical-align: middle;\n",
       "    }\n",
       "\n",
       "    .dataframe tbody tr th {\n",
       "        vertical-align: top;\n",
       "    }\n",
       "\n",
       "    .dataframe thead th {\n",
       "        text-align: right;\n",
       "    }\n",
       "</style>\n",
       "<table border=\"1\" class=\"dataframe\">\n",
       "  <thead>\n",
       "    <tr style=\"text-align: right;\">\n",
       "      <th>day</th>\n",
       "      <th>Thur</th>\n",
       "      <th>Fri</th>\n",
       "      <th>Sat</th>\n",
       "      <th>Sun</th>\n",
       "    </tr>\n",
       "    <tr>\n",
       "      <th>smoker</th>\n",
       "      <th></th>\n",
       "      <th></th>\n",
       "      <th></th>\n",
       "      <th></th>\n",
       "    </tr>\n",
       "  </thead>\n",
       "  <tbody>\n",
       "    <tr>\n",
       "      <th>Yes</th>\n",
       "      <td>0.069672</td>\n",
       "      <td>0.061475</td>\n",
       "      <td>0.172131</td>\n",
       "      <td>0.077869</td>\n",
       "    </tr>\n",
       "    <tr>\n",
       "      <th>No</th>\n",
       "      <td>0.184426</td>\n",
       "      <td>0.016393</td>\n",
       "      <td>0.184426</td>\n",
       "      <td>0.233607</td>\n",
       "    </tr>\n",
       "  </tbody>\n",
       "</table>\n",
       "</div>"
      ],
      "text/plain": [
       "day         Thur       Fri       Sat       Sun\n",
       "smoker                                        \n",
       "Yes     0.069672  0.061475  0.172131  0.077869\n",
       "No      0.184426  0.016393  0.184426  0.233607"
      ]
     },
     "execution_count": 110,
     "metadata": {},
     "output_type": "execute_result"
    }
   ],
   "source": [
    "pd.crosstab(df.smoker,df.day,normalize=True)"
   ]
  },
  {
   "cell_type": "code",
   "execution_count": 112,
   "id": "c436b58c",
   "metadata": {},
   "outputs": [
    {
     "data": {
      "text/plain": [
       "Chi2ContingencyResult(statistic=25.787216672396262, pvalue=1.0567572499836523e-05, dof=3, expected_freq=array([[23.63114754,  7.24180328, 33.15983607, 28.96721311],\n",
       "       [38.36885246, 11.75819672, 53.84016393, 47.03278689]]))"
      ]
     },
     "execution_count": 112,
     "metadata": {},
     "output_type": "execute_result"
    }
   ],
   "source": [
    "#h0 : pth = pfr=psun=psat ther eis no association of bw smoking and day \n",
    "#h1 : any two proportion are difference, there is association of smoking and day \n",
    "    \n",
    "#test of association , test of independence \n",
    "\n",
    "st.chi2_contingency(pd.crosstab(df.smoker,df.day))"
   ]
  },
  {
   "cell_type": "code",
   "execution_count": null,
   "id": "f6ea984e",
   "metadata": {},
   "outputs": [],
   "source": [
    "#Degree of freedom (m-1)(n-1) number of rows and number of columes "
   ]
  },
  {
   "cell_type": "code",
   "execution_count": 114,
   "id": "e2f645dd",
   "metadata": {},
   "outputs": [
    {
     "data": {
      "text/plain": [
       "1.0567572499836523e-05"
      ]
     },
     "execution_count": 114,
     "metadata": {},
     "output_type": "execute_result"
    }
   ],
   "source": [
    "#p value  : \n",
    "st.chi2.sf(25.787216672396262,3)\n"
   ]
  },
  {
   "cell_type": "code",
   "execution_count": 116,
   "id": "1f789fd7",
   "metadata": {},
   "outputs": [
    {
     "data": {
      "text/plain": [
       "9.837409311192594"
      ]
     },
     "execution_count": 116,
     "metadata": {},
     "output_type": "execute_result"
    }
   ],
   "source": [
    "alpha = .02\n",
    "#critical value\n",
    "st.chi2.isf(alpha,3)"
   ]
  },
  {
   "cell_type": "code",
   "execution_count": 117,
   "id": "3f0b87d9",
   "metadata": {},
   "outputs": [],
   "source": [
    "#since the p value is close to zero which is less thatn alpha \n",
    "#reject H0 \n",
    "#hence we cna conclude there is an associate bw smoking and days \n"
   ]
  },
  {
   "cell_type": "code",
   "execution_count": 120,
   "id": "2fc3fd4e",
   "metadata": {},
   "outputs": [
    {
     "data": {
      "text/html": [
       "<div>\n",
       "<style scoped>\n",
       "    .dataframe tbody tr th:only-of-type {\n",
       "        vertical-align: middle;\n",
       "    }\n",
       "\n",
       "    .dataframe tbody tr th {\n",
       "        vertical-align: top;\n",
       "    }\n",
       "\n",
       "    .dataframe thead th {\n",
       "        text-align: right;\n",
       "    }\n",
       "</style>\n",
       "<table border=\"1\" class=\"dataframe\">\n",
       "  <thead>\n",
       "    <tr style=\"text-align: right;\">\n",
       "      <th>day</th>\n",
       "      <th>Thur</th>\n",
       "      <th>Fri</th>\n",
       "      <th>Sat</th>\n",
       "      <th>Sun</th>\n",
       "    </tr>\n",
       "    <tr>\n",
       "      <th>time</th>\n",
       "      <th></th>\n",
       "      <th></th>\n",
       "      <th></th>\n",
       "      <th></th>\n",
       "    </tr>\n",
       "  </thead>\n",
       "  <tbody>\n",
       "    <tr>\n",
       "      <th>Lunch</th>\n",
       "      <td>61</td>\n",
       "      <td>7</td>\n",
       "      <td>0</td>\n",
       "      <td>0</td>\n",
       "    </tr>\n",
       "    <tr>\n",
       "      <th>Dinner</th>\n",
       "      <td>1</td>\n",
       "      <td>12</td>\n",
       "      <td>87</td>\n",
       "      <td>76</td>\n",
       "    </tr>\n",
       "  </tbody>\n",
       "</table>\n",
       "</div>"
      ],
      "text/plain": [
       "day     Thur  Fri  Sat  Sun\n",
       "time                       \n",
       "Lunch     61    7    0    0\n",
       "Dinner     1   12   87   76"
      ]
     },
     "execution_count": 120,
     "metadata": {},
     "output_type": "execute_result"
    }
   ],
   "source": [
    "#check the associate between type and day \n",
    "pd.crosstab(df.time,df.day)"
   ]
  },
  {
   "cell_type": "code",
   "execution_count": 121,
   "id": "93f735b2",
   "metadata": {},
   "outputs": [
    {
     "data": {
      "text/plain": [
       "Chi2ContingencyResult(statistic=217.1126728434853, pvalue=8.449897551777147e-47, dof=3, expected_freq=array([[17.27868852,  5.29508197, 24.24590164, 21.18032787],\n",
       "       [44.72131148, 13.70491803, 62.75409836, 54.81967213]]))"
      ]
     },
     "execution_count": 121,
     "metadata": {},
     "output_type": "execute_result"
    }
   ],
   "source": [
    "st.chi2_contingency(pd.crosstab(df.time,df.day))"
   ]
  },
  {
   "cell_type": "code",
   "execution_count": 123,
   "id": "35e9db4d",
   "metadata": {},
   "outputs": [
    {
     "data": {
      "text/plain": [
       "8.449897551777147e-47"
      ]
     },
     "execution_count": 123,
     "metadata": {},
     "output_type": "execute_result"
    }
   ],
   "source": [
    "st.chi2.sf(217.1126728434853,3)"
   ]
  },
  {
   "cell_type": "code",
   "execution_count": 124,
   "id": "75816a4b",
   "metadata": {},
   "outputs": [
    {
     "data": {
      "text/plain": [
       "9.837409311192594"
      ]
     },
     "execution_count": 124,
     "metadata": {},
     "output_type": "execute_result"
    }
   ],
   "source": [
    "alpha = .02\n",
    "#critical value\n",
    "st.chi2.isf(alpha,3)"
   ]
  },
  {
   "cell_type": "code",
   "execution_count": 125,
   "id": "8f931267",
   "metadata": {},
   "outputs": [],
   "source": [
    "#problem statement 7 : is the total bill varies from thursday to sunday ? verify @ 6% level of significance\n",
    "#1 way Anuva test \n",
    "#analysis of variance \n"
   ]
  },
  {
   "cell_type": "code",
   "execution_count": 130,
   "id": "db89236d",
   "metadata": {},
   "outputs": [
    {
     "data": {
      "text/html": [
       "<div>\n",
       "<style scoped>\n",
       "    .dataframe tbody tr th:only-of-type {\n",
       "        vertical-align: middle;\n",
       "    }\n",
       "\n",
       "    .dataframe tbody tr th {\n",
       "        vertical-align: top;\n",
       "    }\n",
       "\n",
       "    .dataframe thead th {\n",
       "        text-align: right;\n",
       "    }\n",
       "</style>\n",
       "<table border=\"1\" class=\"dataframe\">\n",
       "  <thead>\n",
       "    <tr style=\"text-align: right;\">\n",
       "      <th></th>\n",
       "      <th>count</th>\n",
       "      <th>mean</th>\n",
       "      <th>std</th>\n",
       "      <th>min</th>\n",
       "      <th>25%</th>\n",
       "      <th>50%</th>\n",
       "      <th>75%</th>\n",
       "      <th>max</th>\n",
       "    </tr>\n",
       "    <tr>\n",
       "      <th>day</th>\n",
       "      <th></th>\n",
       "      <th></th>\n",
       "      <th></th>\n",
       "      <th></th>\n",
       "      <th></th>\n",
       "      <th></th>\n",
       "      <th></th>\n",
       "      <th></th>\n",
       "    </tr>\n",
       "  </thead>\n",
       "  <tbody>\n",
       "    <tr>\n",
       "      <th>Thur</th>\n",
       "      <td>62.0</td>\n",
       "      <td>17.682742</td>\n",
       "      <td>7.886170</td>\n",
       "      <td>7.51</td>\n",
       "      <td>12.4425</td>\n",
       "      <td>16.20</td>\n",
       "      <td>20.1550</td>\n",
       "      <td>43.11</td>\n",
       "    </tr>\n",
       "    <tr>\n",
       "      <th>Fri</th>\n",
       "      <td>19.0</td>\n",
       "      <td>17.151579</td>\n",
       "      <td>8.302660</td>\n",
       "      <td>5.75</td>\n",
       "      <td>12.0950</td>\n",
       "      <td>15.38</td>\n",
       "      <td>21.7500</td>\n",
       "      <td>40.17</td>\n",
       "    </tr>\n",
       "    <tr>\n",
       "      <th>Sat</th>\n",
       "      <td>87.0</td>\n",
       "      <td>20.441379</td>\n",
       "      <td>9.480419</td>\n",
       "      <td>3.07</td>\n",
       "      <td>13.9050</td>\n",
       "      <td>18.24</td>\n",
       "      <td>24.7400</td>\n",
       "      <td>50.81</td>\n",
       "    </tr>\n",
       "    <tr>\n",
       "      <th>Sun</th>\n",
       "      <td>76.0</td>\n",
       "      <td>21.410000</td>\n",
       "      <td>8.832122</td>\n",
       "      <td>7.25</td>\n",
       "      <td>14.9875</td>\n",
       "      <td>19.63</td>\n",
       "      <td>25.5975</td>\n",
       "      <td>48.17</td>\n",
       "    </tr>\n",
       "  </tbody>\n",
       "</table>\n",
       "</div>"
      ],
      "text/plain": [
       "      count       mean       std   min      25%    50%      75%    max\n",
       "day                                                                   \n",
       "Thur   62.0  17.682742  7.886170  7.51  12.4425  16.20  20.1550  43.11\n",
       "Fri    19.0  17.151579  8.302660  5.75  12.0950  15.38  21.7500  40.17\n",
       "Sat    87.0  20.441379  9.480419  3.07  13.9050  18.24  24.7400  50.81\n",
       "Sun    76.0  21.410000  8.832122  7.25  14.9875  19.63  25.5975  48.17"
      ]
     },
     "execution_count": 130,
     "metadata": {},
     "output_type": "execute_result"
    }
   ],
   "source": [
    "df.groupby('day')['total_bill'].describe() #for sample "
   ]
  },
  {
   "cell_type": "code",
   "execution_count": 128,
   "id": "fb731f8d",
   "metadata": {},
   "outputs": [],
   "source": [
    "#need to check for Population using Anova "
   ]
  },
  {
   "cell_type": "code",
   "execution_count": 131,
   "id": "66f43315",
   "metadata": {},
   "outputs": [
    {
     "data": {
      "text/plain": [
       "<Axes: xlabel='day', ylabel='total_bill'>"
      ]
     },
     "execution_count": 131,
     "metadata": {},
     "output_type": "execute_result"
    },
    {
     "data": {
      "image/png": "[encoded data removed]",
      "text/plain": [
       "<Figure size 640x480 with 1 Axes>"
      ]
     },
     "metadata": {},
     "output_type": "display_data"
    }
   ],
   "source": [
    "sns.boxplot(y=df.total_bill,x=df.day)\n"
   ]
  },
  {
   "cell_type": "code",
   "execution_count": 133,
   "id": "51530a0b",
   "metadata": {},
   "outputs": [
    {
     "data": {
      "text/plain": [
       "day\n",
       "Thur    Axes(0.125,0.11;0.775x0.77)\n",
       "Fri     Axes(0.125,0.11;0.775x0.77)\n",
       "Sat     Axes(0.125,0.11;0.775x0.77)\n",
       "Sun     Axes(0.125,0.11;0.775x0.77)\n",
       "Name: total_bill, dtype: object"
      ]
     },
     "execution_count": 133,
     "metadata": {},
     "output_type": "execute_result"
    },
    {
     "data": {
      "image/png": "[encoded data removed]",
      "text/plain": [
       "<Figure size 640x480 with 1 Axes>"
      ]
     },
     "metadata": {},
     "output_type": "display_data"
    }
   ],
   "source": [
    "df.groupby('day')['total_bill'].plot(kind='kde')"
   ]
  },
  {
   "cell_type": "code",
   "execution_count": 145,
   "id": "da781532",
   "metadata": {},
   "outputs": [],
   "source": [
    "tb_th=df[df.day=='Thur']['total_bill']\n",
    "tb_fr=df[df.day=='Fri']['total_bill']\n",
    "tb_st=df[df.day=='Sat']['total_bill']\n",
    "tb_sn=df[df.day=='Sun']['total_bill']"
   ]
  },
  {
   "cell_type": "code",
   "execution_count": 140,
   "id": "94986b27",
   "metadata": {},
   "outputs": [],
   "source": [
    "## test of normality for tb_fr sample ?\n",
    "## shapiro test (no of observations < 5000 )\n",
    "#H0 population data = normal\n",
    "#H1 population data ! = normal"
   ]
  },
  {
   "cell_type": "code",
   "execution_count": 147,
   "id": "c0df0b42",
   "metadata": {},
   "outputs": [
    {
     "data": {
      "text/plain": [
       "ShapiroResult(statistic=0.8957934379577637, pvalue=0.04085628688335419)"
      ]
     },
     "execution_count": 147,
     "metadata": {},
     "output_type": "execute_result"
    }
   ],
   "source": [
    "st.shapiro(tb_fr)\n",
    "\n",
    " "
   ]
  },
  {
   "cell_type": "code",
   "execution_count": 148,
   "id": "a73af8d5",
   "metadata": {},
   "outputs": [
    {
     "ename": "SyntaxError",
     "evalue": "invalid syntax (3630454418.py, line 1)",
     "output_type": "error",
     "traceback": [
      "\u001b[0;36m  Cell \u001b[0;32mIn[148], line 1\u001b[0;36m\u001b[0m\n\u001b[0;31m    Since p value (0.04 < alpha (0.06) >>>> reject H0\u001b[0m\n\u001b[0m          ^\u001b[0m\n\u001b[0;31mSyntaxError\u001b[0m\u001b[0;31m:\u001b[0m invalid syntax\n"
     ]
    }
   ],
   "source": [
    "Since p value (0.04 < alpha (0.06) >>>> reject H0\n",
    "               \n",
    "We can conclude that the population not follow nromal : \n",
    "               \n",
    "               Hence we have to proceed non parametrix test krushkal wallis test \n",
    "              "
   ]
  },
  {
   "cell_type": "code",
   "execution_count": 151,
   "id": "d9f9b173",
   "metadata": {},
   "outputs": [],
   "source": [
    "## Kruskal wallis \n",
    "#H0 all the Populations median are same\n",
    "#H1 Any two population median are same \n",
    "\n",
    "st.kruskal(tb_th,tb_fr,tb_st,tb_sn)\n",
    "alpha=  0.06"
   ]
  },
  {
   "cell_type": "code",
   "execution_count": 154,
   "id": "eabd0106",
   "metadata": {},
   "outputs": [
    {
     "data": {
      "text/plain": [
       "False"
      ]
     },
     "execution_count": 154,
     "metadata": {},
     "output_type": "execute_result"
    }
   ],
   "source": [
    " 0.04085628688335419 >  0.06"
   ]
  },
  {
   "cell_type": "code",
   "execution_count": 155,
   "id": "3e5115b0",
   "metadata": {},
   "outputs": [],
   "source": [
    "# since p value is less than alfa reject H0 \n",
    "\n",
    "# we can conclude that all medians are diff "
   ]
  },
  {
   "cell_type": "code",
   "execution_count": 156,
   "id": "dda349d9",
   "metadata": {},
   "outputs": [],
   "source": [
    "##machine problem \n",
    "A= np.array([23,32,21])\n",
    "B= np.array([34,27,33])\n",
    "C= np.array([21,25,32])"
   ]
  },
  {
   "cell_type": "code",
   "execution_count": 158,
   "id": "3dceeb9b",
   "metadata": {},
   "outputs": [
    {
     "name": "stdout",
     "output_type": "stream",
     "text": [
      "ShapiroResult(statistic=0.8810681104660034, pvalue=0.3275471329689026) \n",
      " ShapiroResult(statistic=0.854651153087616, pvalue=0.25296875834465027) \n",
      " ShapiroResult(statistic=0.9758065938949585, pvalue=0.7017234563827515)\n"
     ]
    }
   ],
   "source": [
    "## test of normality \n",
    "print(st.shapiro(A),'\\n',st.shapiro(B),'\\n',st.shapiro(C))\n"
   ]
  },
  {
   "cell_type": "code",
   "execution_count": 159,
   "id": "cd1b1f80",
   "metadata": {},
   "outputs": [],
   "source": [
    "#All 3 cases p is more than 0.5 so it all 3 population follows normla distribution \n"
   ]
  },
  {
   "cell_type": "code",
   "execution_count": 161,
   "id": "eac8536b",
   "metadata": {},
   "outputs": [
    {
     "data": {
      "text/plain": [
       "LeveneResult(statistic=0.11851851851851845, pvalue=0.8902639388394786)"
      ]
     },
     "execution_count": 161,
     "metadata": {},
     "output_type": "execute_result"
    }
   ],
   "source": [
    "# test of variance equality \n",
    "st.levene(A,B,C)\n"
   ]
  },
  {
   "cell_type": "code",
   "execution_count": 179,
   "id": "efce40c8",
   "metadata": {},
   "outputs": [],
   "source": [
    "#p value is more than alpha >>> accept H0 \n",
    "#which says all the  population variance are same "
   ]
  },
  {
   "cell_type": "code",
   "execution_count": 163,
   "id": "b582bacf",
   "metadata": {},
   "outputs": [],
   "source": [
    "#H0 : all the means are same \n",
    "#H1 : any two means are not same \n",
    "    "
   ]
  },
  {
   "cell_type": "code",
   "execution_count": 165,
   "id": "50fdda1a",
   "metadata": {},
   "outputs": [
    {
     "data": {
      "text/plain": [
       "F_onewayResult(statistic=1.221757322175732, pvalue=0.3588260532471941)"
      ]
     },
     "execution_count": 165,
     "metadata": {},
     "output_type": "execute_result"
    }
   ],
   "source": [
    "st.f_oneway(A,B,C)"
   ]
  },
  {
   "cell_type": "code",
   "execution_count": 178,
   "id": "75a1bebe",
   "metadata": {},
   "outputs": [],
   "source": [
    "#p value is more than "
   ]
  },
  {
   "cell_type": "code",
   "execution_count": 186,
   "id": "1e5c0f73",
   "metadata": {},
   "outputs": [
    {
     "data": {
      "text/html": [
       "<div>\n",
       "<style scoped>\n",
       "    .dataframe tbody tr th:only-of-type {\n",
       "        vertical-align: middle;\n",
       "    }\n",
       "\n",
       "    .dataframe tbody tr th {\n",
       "        vertical-align: top;\n",
       "    }\n",
       "\n",
       "    .dataframe thead th {\n",
       "        text-align: right;\n",
       "    }\n",
       "</style>\n",
       "<table border=\"1\" class=\"dataframe\">\n",
       "  <thead>\n",
       "    <tr style=\"text-align: right;\">\n",
       "      <th></th>\n",
       "      <th>Machine</th>\n",
       "      <th>TS</th>\n",
       "    </tr>\n",
       "  </thead>\n",
       "  <tbody>\n",
       "    <tr>\n",
       "      <th>0</th>\n",
       "      <td>A</td>\n",
       "      <td>23</td>\n",
       "    </tr>\n",
       "    <tr>\n",
       "      <th>1</th>\n",
       "      <td>A</td>\n",
       "      <td>32</td>\n",
       "    </tr>\n",
       "    <tr>\n",
       "      <th>2</th>\n",
       "      <td>A</td>\n",
       "      <td>21</td>\n",
       "    </tr>\n",
       "    <tr>\n",
       "      <th>3</th>\n",
       "      <td>B</td>\n",
       "      <td>34</td>\n",
       "    </tr>\n",
       "    <tr>\n",
       "      <th>4</th>\n",
       "      <td>B</td>\n",
       "      <td>27</td>\n",
       "    </tr>\n",
       "    <tr>\n",
       "      <th>5</th>\n",
       "      <td>B</td>\n",
       "      <td>33</td>\n",
       "    </tr>\n",
       "    <tr>\n",
       "      <th>6</th>\n",
       "      <td>C</td>\n",
       "      <td>21</td>\n",
       "    </tr>\n",
       "    <tr>\n",
       "      <th>7</th>\n",
       "      <td>C</td>\n",
       "      <td>25</td>\n",
       "    </tr>\n",
       "    <tr>\n",
       "      <th>8</th>\n",
       "      <td>C</td>\n",
       "      <td>32</td>\n",
       "    </tr>\n",
       "  </tbody>\n",
       "</table>\n",
       "</div>"
      ],
      "text/plain": [
       "  Machine  TS\n",
       "0       A  23\n",
       "1       A  32\n",
       "2       A  21\n",
       "3       B  34\n",
       "4       B  27\n",
       "5       B  33\n",
       "6       C  21\n",
       "7       C  25\n",
       "8       C  32"
      ]
     },
     "execution_count": 186,
     "metadata": {},
     "output_type": "execute_result"
    }
   ],
   "source": [
    "df1 = pd.DataFrame({'A': A, 'B': B, 'C': C}).melt(var_name = 'Machine',value_name = 'TS')\n",
    "df1"
   ]
  },
  {
   "cell_type": "code",
   "execution_count": 189,
   "id": "d1ab464a",
   "metadata": {},
   "outputs": [
    {
     "data": {
      "text/html": [
       "<div>\n",
       "<style scoped>\n",
       "    .dataframe tbody tr th:only-of-type {\n",
       "        vertical-align: middle;\n",
       "    }\n",
       "\n",
       "    .dataframe tbody tr th {\n",
       "        vertical-align: top;\n",
       "    }\n",
       "\n",
       "    .dataframe thead th {\n",
       "        text-align: right;\n",
       "    }\n",
       "</style>\n",
       "<table border=\"1\" class=\"dataframe\">\n",
       "  <thead>\n",
       "    <tr style=\"text-align: right;\">\n",
       "      <th></th>\n",
       "      <th>df</th>\n",
       "      <th>sum_sq</th>\n",
       "      <th>mean_sq</th>\n",
       "      <th>F</th>\n",
       "      <th>PR(&gt;F)</th>\n",
       "    </tr>\n",
       "  </thead>\n",
       "  <tbody>\n",
       "    <tr>\n",
       "      <th>Machine</th>\n",
       "      <td>2.0</td>\n",
       "      <td>64.888889</td>\n",
       "      <td>32.444444</td>\n",
       "      <td>1.221757</td>\n",
       "      <td>0.358826</td>\n",
       "    </tr>\n",
       "    <tr>\n",
       "      <th>Residual</th>\n",
       "      <td>6.0</td>\n",
       "      <td>159.333333</td>\n",
       "      <td>26.555556</td>\n",
       "      <td>NaN</td>\n",
       "      <td>NaN</td>\n",
       "    </tr>\n",
       "  </tbody>\n",
       "</table>\n",
       "</div>"
      ],
      "text/plain": [
       "           df      sum_sq    mean_sq         F    PR(>F)\n",
       "Machine   2.0   64.888889  32.444444  1.221757  0.358826\n",
       "Residual  6.0  159.333333  26.555556       NaN       NaN"
      ]
     },
     "execution_count": 189,
     "metadata": {},
     "output_type": "execute_result"
    }
   ],
   "source": [
    "from statsmodels.formula.api import ols\n",
    "from statsmodels.stats.anova import anova_lm\n",
    "m1=ols('TS~Machine',data=df1).fit()\n",
    "anova_table=anova_lm(m1)\n",
    "anova_table"
   ]
  },
  {
   "cell_type": "code",
   "execution_count": null,
   "id": "f3111e65",
   "metadata": {},
   "outputs": [],
   "source": [
    "#F_stats or F values "
   ]
  },
  {
   "cell_type": "code",
   "execution_count": 190,
   "id": "66bcdcda",
   "metadata": {},
   "outputs": [],
   "source": [
    "# verify the wt reduction is effective for the below Data @ 5 % leval of significance"
   ]
  },
  {
   "cell_type": "code",
   "execution_count": 222,
   "id": "095607b0",
   "metadata": {},
   "outputs": [
    {
     "name": "stdout",
     "output_type": "stream",
     "text": [
      "10\n"
     ]
    }
   ],
   "source": [
    "wt_before=np.array([96,77,88,126,88,99,86,100,120,89])\n",
    "wt_after=np.array([92,72,83,112,79,94,82,95,115,81])\n",
    "n=len(wt_after)\n",
    "print(n)"
   ]
  },
  {
   "cell_type": "code",
   "execution_count": 195,
   "id": "c7ebac06",
   "metadata": {},
   "outputs": [],
   "source": [
    "# H0 : mu_st_after > = mu_wt_before mu_diff > = 0 \n",
    "# H1 : mu_st_after < mu_wt_before : Mu_diff < 0 \n"
   ]
  },
  {
   "cell_type": "code",
   "execution_count": 223,
   "id": "da63b9d2",
   "metadata": {},
   "outputs": [
    {
     "data": {
      "text/plain": [
       "array([ -4,  -5,  -5, -14,  -9,  -5,  -4,  -5,  -5,  -8])"
      ]
     },
     "execution_count": 223,
     "metadata": {},
     "output_type": "execute_result"
    }
   ],
   "source": [
    "alpha = 0.05\n",
    "diff=wt_after-wt_before\n",
    "diff"
   ]
  },
  {
   "cell_type": "code",
   "execution_count": 224,
   "id": "fa7c79a6",
   "metadata": {},
   "outputs": [
    {
     "data": {
      "text/plain": [
       "ShapiroResult(statistic=0.728522002696991, pvalue=0.0019549869466573)"
      ]
     },
     "execution_count": 224,
     "metadata": {},
     "output_type": "execute_result"
    }
   ],
   "source": [
    "#test of normality\n",
    "st.shapiro(diff)\n",
    "# Since P value is more than alpha accept Null "
   ]
  },
  {
   "cell_type": "code",
   "execution_count": 210,
   "id": "c0782ba0",
   "metadata": {},
   "outputs": [
    {
     "data": {
      "text/plain": [
       "False"
      ]
     },
     "execution_count": 210,
     "metadata": {},
     "output_type": "execute_result"
    }
   ],
   "source": [
    "0.001997445710003376 > 0.05"
   ]
  },
  {
   "cell_type": "code",
   "execution_count": 225,
   "id": "bd779e24",
   "metadata": {},
   "outputs": [
    {
     "data": {
      "text/plain": [
       "-6.4"
      ]
     },
     "execution_count": 225,
     "metadata": {},
     "output_type": "execute_result"
    }
   ],
   "source": [
    "dbar=np.mean(diff)\n",
    "dbar"
   ]
  },
  {
   "cell_type": "code",
   "execution_count": 226,
   "id": "6c18188c",
   "metadata": {},
   "outputs": [],
   "source": [
    "sd=np.std(diff,ddof=1)\n",
    "sd\n",
    "mu_d=0\n",
    "n=len(diff )"
   ]
  },
  {
   "cell_type": "code",
   "execution_count": 227,
   "id": "38e9a707",
   "metadata": {},
   "outputs": [],
   "source": [
    "se=sd/np.sqrt(n)"
   ]
  },
  {
   "cell_type": "code",
   "execution_count": 229,
   "id": "131c06b4",
   "metadata": {},
   "outputs": [
    {
     "data": {
      "text/plain": [
       "-6.4"
      ]
     },
     "execution_count": 229,
     "metadata": {},
     "output_type": "execute_result"
    }
   ],
   "source": [
    "t_stat=dbar-mu_d/se\n",
    "t_stat"
   ]
  },
  {
   "cell_type": "code",
   "execution_count": 231,
   "id": "b549a6e6",
   "metadata": {},
   "outputs": [
    {
     "data": {
      "text/plain": [
       "TtestResult(statistic=-6.4576588223646, pvalue=5.8544469827017596e-05, df=9)"
      ]
     },
     "execution_count": 231,
     "metadata": {},
     "output_type": "execute_result"
    }
   ],
   "source": [
    "st.ttest_rel(wt_after,wt_before,alternative='less')\n",
    "#sales equestio as well "
   ]
  },
  {
   "cell_type": "code",
   "execution_count": 238,
   "id": "a8434b05",
   "metadata": {},
   "outputs": [
    {
     "data": {
      "text/plain": [
       "array([-2, 28, 16, 14, 30, 53, 13, 32, 19, -1])"
      ]
     },
     "execution_count": 238,
     "metadata": {},
     "output_type": "execute_result"
    }
   ],
   "source": [
    "sales_before=np.array([65,95,89,99,80,108,95,77,98,71])\n",
    "sales_after=np.array([67,67,73,85,50,55,82,45,79,72])\n",
    "diff=sales_before-sales_after\n",
    "diff\n"
   ]
  },
  {
   "cell_type": "code",
   "execution_count": 240,
   "id": "b09256b6",
   "metadata": {},
   "outputs": [
    {
     "data": {
      "text/plain": [
       "ShapiroResult(statistic=0.946441650390625, pvalue=0.6266330480575562)"
      ]
     },
     "execution_count": 240,
     "metadata": {},
     "output_type": "execute_result"
    }
   ],
   "source": [
    "#test of normality\n",
    "st.shapiro(diff)\n",
    "# Since P value is more than alpha accept Null "
   ]
  },
  {
   "cell_type": "code",
   "execution_count": 243,
   "id": "d28c1748",
   "metadata": {},
   "outputs": [
    {
     "data": {
      "text/plain": [
       "TtestResult(statistic=-3.892621277829291, pvalue=0.0018301547525253748, df=9)"
      ]
     },
     "execution_count": 243,
     "metadata": {},
     "output_type": "execute_result"
    }
   ],
   "source": [
    "st.ttest_rel(sales_after,sales_before,alternative='less')"
   ]
  },
  {
   "cell_type": "code",
   "execution_count": 250,
   "id": "8e9fdd09",
   "metadata": {},
   "outputs": [
    {
     "data": {
      "text/plain": [
       "array([24, 26, 30, 20])"
      ]
     },
     "execution_count": 250,
     "metadata": {},
     "output_type": "execute_result"
    }
   ],
   "source": [
    "#verify the random machine is goodfit for frandomness @ 5 % level o significance with the below data \n",
    "\n",
    "\n",
    "## good ness of fit\n",
    "obs=np.array([24,26,30,20])\n",
    "exp=np.array([25]*4)\n",
    "obs"
   ]
  },
  {
   "cell_type": "code",
   "execution_count": 251,
   "id": "7261c369",
   "metadata": {},
   "outputs": [
    {
     "data": {
      "text/plain": [
       "array([25, 25, 25, 25])"
      ]
     },
     "execution_count": 251,
     "metadata": {},
     "output_type": "execute_result"
    }
   ],
   "source": [
    "exp"
   ]
  },
  {
   "cell_type": "code",
   "execution_count": 253,
   "id": "55510450",
   "metadata": {},
   "outputs": [],
   "source": [
    "#H0 exp = obs (good fit  for randomness)\n",
    "#H1 exp !  = obs (not good fit for randomness)"
   ]
  },
  {
   "cell_type": "code",
   "execution_count": 255,
   "id": "ec53cca6",
   "metadata": {},
   "outputs": [
    {
     "data": {
      "text/plain": [
       "True"
      ]
     },
     "execution_count": 255,
     "metadata": {},
     "output_type": "execute_result"
    }
   ],
   "source": [
    "alpha = 0.05\n",
    "st.chisquare(obs,exp)\n",
    "0.5559694842870644 > 0.05 # accept "
   ]
  }
 ],
 "metadata": {
  "kernelspec": {
   "display_name": "Python 3 (ipykernel)",
   "language": "python",
   "name": "python3"
  },
  "language_info": {
   "codemirror_mode": {
    "name": "ipython",
    "version": 3
   },
   "file_extension": ".py",
   "mimetype": "text/x-python",
   "name": "python",
   "nbconvert_exporter": "python",
   "pygments_lexer": "ipython3",
   "version": "3.10.9"
  }
 },
 "nbformat": 4,
 "nbformat_minor": 5
}
