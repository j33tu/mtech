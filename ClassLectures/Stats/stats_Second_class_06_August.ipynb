{
 "cells": [
  {
   "cell_type": "code",
   "execution_count": null,
   "id": "ea39b45e",
   "metadata": {},
   "outputs": [],
   "source": [
    "#stats start here "
   ]
  },
  {
   "cell_type": "code",
   "execution_count": 2,
   "id": "0b79ebd5",
   "metadata": {},
   "outputs": [],
   "source": [
    "import numpy as np\n",
    "import pandas as pd\n",
    "import matplotlib.pyplot as plt\n",
    "import seaborn as sns\n",
    "import scipy.stats as st\n"
   ]
  },
  {
   "cell_type": "code",
   "execution_count": null,
   "id": "dd9c7994",
   "metadata": {},
   "outputs": [],
   "source": [
    "df=sns.load_dataset('tips')\n",
    "df"
   ]
  },
  {
   "cell_type": "markdown",
   "id": "e44f4944",
   "metadata": {},
   "source": [
    "# do the descriptive stats for data in tips "
   ]
  },
  {
   "cell_type": "code",
   "execution_count": null,
   "id": "30aa2333",
   "metadata": {},
   "outputs": [],
   "source": [
    "df.shape"
   ]
  },
  {
   "cell_type": "code",
   "execution_count": null,
   "id": "d2d0221e",
   "metadata": {},
   "outputs": [],
   "source": [
    "df.info"
   ]
  },
  {
   "cell_type": "markdown",
   "id": "b3fb0043",
   "metadata": {},
   "source": [
    "# describing numarical Data  Measures of location"
   ]
  },
  {
   "cell_type": "code",
   "execution_count": null,
   "id": "b0e55a8e",
   "metadata": {},
   "outputs": [],
   "source": [
    "#find five point summy for total bill and tip"
   ]
  },
  {
   "cell_type": "code",
   "execution_count": null,
   "id": "4dcc3862",
   "metadata": {},
   "outputs": [],
   "source": [
    "df.total_bill.describe()"
   ]
  },
  {
   "cell_type": "code",
   "execution_count": null,
   "id": "674ffb92",
   "metadata": {},
   "outputs": [],
   "source": [
    "df.total_bill.quantile(.25)"
   ]
  },
  {
   "cell_type": "code",
   "execution_count": null,
   "id": "7fcc592e",
   "metadata": {},
   "outputs": [],
   "source": [
    "df.total_bill.sort_values(ascending=True)"
   ]
  },
  {
   "cell_type": "code",
   "execution_count": null,
   "id": "faecd5a0",
   "metadata": {},
   "outputs": [],
   "source": []
  },
  {
   "cell_type": "code",
   "execution_count": null,
   "id": "4b5f0121",
   "metadata": {},
   "outputs": [],
   "source": [
    "df.total_bill.quantile(0.655)\n",
    "#df.total_bill.quantile(0) min value\n",
    "#df.total_bill.quantile(0) max value"
   ]
  },
  {
   "cell_type": "code",
   "execution_count": null,
   "id": "d54179bd",
   "metadata": {},
   "outputs": [],
   "source": [
    "sns.boxplot(y=df.total_bill)"
   ]
  },
  {
   "cell_type": "code",
   "execution_count": null,
   "id": "65ef8138",
   "metadata": {},
   "outputs": [],
   "source": [
    "import plotly.express as pltx"
   ]
  },
  {
   "cell_type": "code",
   "execution_count": null,
   "id": "f3e37f55",
   "metadata": {},
   "outputs": [],
   "source": [
    "pltx.box(y=df.total_bill)\n",
    "#calculate upper viskar line \n"
   ]
  },
  {
   "cell_type": "code",
   "execution_count": null,
   "id": "1ec7d4e1",
   "metadata": {},
   "outputs": [],
   "source": [
    "df[df.total_bill<20]"
   ]
  },
  {
   "cell_type": "code",
   "execution_count": null,
   "id": "8fb584cf",
   "metadata": {},
   "outputs": [],
   "source": [
    "sns.displot(df.total_bill)"
   ]
  },
  {
   "cell_type": "code",
   "execution_count": null,
   "id": "1bd36a2a",
   "metadata": {},
   "outputs": [],
   "source": [
    "sns.distplot(df.total_bill)"
   ]
  },
  {
   "cell_type": "code",
   "execution_count": null,
   "id": "3848dbf7",
   "metadata": {},
   "outputs": [],
   "source": [
    "#measures of cental tendency"
   ]
  },
  {
   "cell_type": "code",
   "execution_count": null,
   "id": "00719360",
   "metadata": {},
   "outputs": [],
   "source": [
    "plt.hist(df.total_bill,edgecolor='black')"
   ]
  },
  {
   "cell_type": "code",
   "execution_count": null,
   "id": "bb9b44fe",
   "metadata": {},
   "outputs": [],
   "source": [
    "sns.distplot(df.total_bill,hist=False)"
   ]
  },
  {
   "cell_type": "code",
   "execution_count": null,
   "id": "4b674aa8",
   "metadata": {},
   "outputs": [],
   "source": [
    "df.total_bill.mean()"
   ]
  },
  {
   "cell_type": "code",
   "execution_count": null,
   "id": "2668f865",
   "metadata": {},
   "outputs": [],
   "source": [
    "df.total_bill.median()"
   ]
  },
  {
   "cell_type": "code",
   "execution_count": null,
   "id": "c2035657",
   "metadata": {},
   "outputs": [],
   "source": [
    "df.total_bill.mode()"
   ]
  },
  {
   "cell_type": "markdown",
   "id": "13403901",
   "metadata": {},
   "source": [
    "# measures of dispersion"
   ]
  },
  {
   "cell_type": "code",
   "execution_count": null,
   "id": "56a51c4d",
   "metadata": {},
   "outputs": [],
   "source": [
    "##range :\n",
    "df.total_bill.max()-df.total_bill.min()"
   ]
  },
  {
   "cell_type": "code",
   "execution_count": null,
   "id": "74a754d0",
   "metadata": {},
   "outputs": [],
   "source": [
    "#MAD\n",
    "df.total_bill.mad()"
   ]
  },
  {
   "cell_type": "code",
   "execution_count": null,
   "id": "a18c53a8",
   "metadata": {},
   "outputs": [],
   "source": [
    "#msd variance\n",
    "df.total_bill.var()"
   ]
  },
  {
   "cell_type": "code",
   "execution_count": null,
   "id": "d3411e45",
   "metadata": {},
   "outputs": [],
   "source": [
    "##rmsd standard deviation\n",
    "df.total_bill.std()"
   ]
  },
  {
   "cell_type": "code",
   "execution_count": null,
   "id": "f4025fb9",
   "metadata": {},
   "outputs": [],
   "source": [
    "np.sqrt(df.total_bill.var())"
   ]
  },
  {
   "cell_type": "code",
   "execution_count": null,
   "id": "f22819b7",
   "metadata": {},
   "outputs": [],
   "source": [
    "df.total_bill.std()*100/df.total_bill.mean()\n",
    "#coneficient of variation"
   ]
  },
  {
   "cell_type": "code",
   "execution_count": null,
   "id": "b602bf11",
   "metadata": {},
   "outputs": [],
   "source": [
    "#measures of distribution Shape "
   ]
  },
  {
   "cell_type": "code",
   "execution_count": null,
   "id": "9038c586",
   "metadata": {},
   "outputs": [],
   "source": [
    "#skewness\n",
    "df.total_bill.skew()\n",
    "#this is right or positive skew "
   ]
  },
  {
   "cell_type": "code",
   "execution_count": null,
   "id": "c7d873b9",
   "metadata": {},
   "outputs": [],
   "source": [
    "#kurtosis\n",
    "df.total_bill.kurtosis()\n",
    "#its lepto kurtic"
   ]
  },
  {
   "cell_type": "code",
   "execution_count": null,
   "id": "cbe598e5",
   "metadata": {},
   "outputs": [],
   "source": [
    "#measures of cor relation"
   ]
  },
  {
   "cell_type": "code",
   "execution_count": null,
   "id": "d1377f4d",
   "metadata": {},
   "outputs": [],
   "source": [
    "df.cov()"
   ]
  },
  {
   "cell_type": "code",
   "execution_count": null,
   "id": "bfb951fe",
   "metadata": {},
   "outputs": [],
   "source": [
    "df.corr()"
   ]
  },
  {
   "cell_type": "code",
   "execution_count": null,
   "id": "b26fa350",
   "metadata": {},
   "outputs": [],
   "source": [
    "#based on covariance value , we can conclude that total bill and tip are moving in same direction"
   ]
  },
  {
   "cell_type": "code",
   "execution_count": null,
   "id": "f4c9d276",
   "metadata": {},
   "outputs": [],
   "source": [
    "#based on correlation value , we can conclude that total bill and tip are moving in same direction they are modereate related "
   ]
  },
  {
   "cell_type": "code",
   "execution_count": null,
   "id": "4639ef7b",
   "metadata": {},
   "outputs": [],
   "source": [
    "#describing ctagorial data \n",
    "df.sex.value_counts()"
   ]
  },
  {
   "cell_type": "code",
   "execution_count": null,
   "id": "85cd6afb",
   "metadata": {},
   "outputs": [],
   "source": [
    "(df.sex.value_counts(normalize=True)*100.2)"
   ]
  },
  {
   "cell_type": "code",
   "execution_count": null,
   "id": "b093a7ad",
   "metadata": {},
   "outputs": [],
   "source": [
    "#what is total number of customers\n",
    "df['size'].sum()"
   ]
  },
  {
   "cell_type": "code",
   "execution_count": null,
   "id": "b8bf5b9c",
   "metadata": {},
   "outputs": [],
   "source": [
    "#smoking proption\n",
    "round(df.smoker.value_counts(normalize=True)*100,0)"
   ]
  },
  {
   "cell_type": "code",
   "execution_count": null,
   "id": "f6953faa",
   "metadata": {},
   "outputs": [],
   "source": [
    "#lunch dinner time proption\n",
    "round(df.time.value_counts(normalize=True)*100,0)"
   ]
  },
  {
   "cell_type": "code",
   "execution_count": null,
   "id": "f6303878",
   "metadata": {},
   "outputs": [],
   "source": [
    "#size of people coming in groupd time\n",
    "pltx.bar(round(df['size'].value_counts(normalize=True)*100,0))"
   ]
  },
  {
   "cell_type": "code",
   "execution_count": null,
   "id": "8485d077",
   "metadata": {
    "scrolled": true
   },
   "outputs": [],
   "source": [
    "#% of transactions on varias days \n",
    "#round(df['day'].value_counts(normalize=True)*100,0)\n",
    "pltx.bar(round(df['day'].value_counts(normalize=True)*100,0))"
   ]
  },
  {
   "cell_type": "code",
   "execution_count": null,
   "id": "4711c795",
   "metadata": {
    "scrolled": false
   },
   "outputs": [],
   "source": [
    "#total revenues by day\n",
    "df.groupby('day')['total_bill'].sum().sort_values(ascending=True)\n",
    "pltx.bar(df.groupby('day')['total_bill'].sum().sort_values(ascending=True))"
   ]
  },
  {
   "cell_type": "code",
   "execution_count": null,
   "id": "71196139",
   "metadata": {},
   "outputs": [],
   "source": [
    "#probablity distributions binomial "
   ]
  },
  {
   "cell_type": "code",
   "execution_count": null,
   "id": "417eb409",
   "metadata": {},
   "outputs": [],
   "source": [
    "#Wht ia probablity of getting 0123 heads in an experiement of toossing a chon 3 times "
   ]
  },
  {
   "cell_type": "code",
   "execution_count": null,
   "id": "08d0323b",
   "metadata": {},
   "outputs": [],
   "source": [
    "#pmf probablity msss function , find the probalblity at a given desrete rv value\n",
    "import numpy as np\n",
    "n=3\n",
    "p =0.5\n",
    "x = np.arange(0,4)\n",
    "st.binom.pmf(x,n,p)"
   ]
  },
  {
   "cell_type": "code",
   "execution_count": null,
   "id": "d6c9affe",
   "metadata": {},
   "outputs": [],
   "source": [
    "prob=st.binom.pmf(x,n,p)"
   ]
  },
  {
   "cell_type": "code",
   "execution_count": null,
   "id": "0a58b1c1",
   "metadata": {},
   "outputs": [],
   "source": [
    "plt.bar(x,prob,edgecolor='black')"
   ]
  },
  {
   "cell_type": "code",
   "execution_count": null,
   "id": "401481fb",
   "metadata": {},
   "outputs": [],
   "source": [
    "## what is probablity of getting at most 2 heads\n",
    "#p(x<=2)=px(x=0)+p(x=1)+p(x+2)\n",
    "x1=[0,1,2]\n",
    "round(st.binom.pmf(x1,n,p).sum(),3)"
   ]
  },
  {
   "cell_type": "code",
   "execution_count": null,
   "id": "440281b1",
   "metadata": {},
   "outputs": [],
   "source": [
    "#cummulaive distribution Function sum of probablities in a sequeenctial order from lowest value to given Value\n",
    "st.binom.pmf(2,n,p)"
   ]
  },
  {
   "cell_type": "code",
   "execution_count": null,
   "id": "a6a137bd",
   "metadata": {},
   "outputs": [],
   "source": [
    "#what is probablity of getting atleast two heads\n",
    "#p(x>=2) 1-cum prob of upto 1\n",
    "x2=[2,3]\n",
    "st.binom.pmf(x2,n,p).sum()"
   ]
  },
  {
   "cell_type": "code",
   "execution_count": null,
   "id": "96597e78",
   "metadata": {},
   "outputs": [],
   "source": [
    "1-st.binom.cdf(1,n,p)"
   ]
  },
  {
   "cell_type": "code",
   "execution_count": null,
   "id": "98eeec2a",
   "metadata": {},
   "outputs": [],
   "source": [
    "#sf = survival function  sum of probablities added sequencially from highest value to lowest\n",
    "#sf = 1-cdf\n",
    "#cdf+sf=1"
   ]
  },
  {
   "cell_type": "code",
   "execution_count": null,
   "id": "d2231d47",
   "metadata": {},
   "outputs": [],
   "source": [
    "st.binom.sf(1,n,p)\n",
    "cum_prob=st.binom.cdf(x,n,p)\n",
    "cum_prob"
   ]
  },
  {
   "cell_type": "code",
   "execution_count": null,
   "id": "faa2f06f",
   "metadata": {},
   "outputs": [],
   "source": [
    "sf_prob=st.binom.sf(x,n,p)\n",
    "sf_prob"
   ]
  },
  {
   "cell_type": "code",
   "execution_count": null,
   "id": "1aee1260",
   "metadata": {},
   "outputs": [],
   "source": [
    "sf_prob=st.binom.sf(x-1,n,p)\n",
    "sf_prob"
   ]
  },
  {
   "cell_type": "code",
   "execution_count": null,
   "id": "221d71b3",
   "metadata": {},
   "outputs": [],
   "source": [
    "plt.bar(x,sf_prob,edgecolor='red')"
   ]
  },
  {
   "cell_type": "code",
   "execution_count": null,
   "id": "a1d7774e",
   "metadata": {},
   "outputs": [],
   "source": [
    "#what is probablity of getting 10 heads when we toss coin 30 times"
   ]
  },
  {
   "cell_type": "code",
   "execution_count": null,
   "id": "2131c304",
   "metadata": {},
   "outputs": [],
   "source": [
    "n=30\n",
    "x=10\n",
    "p=.5\n",
    "st.binom.pmf(x,n,p)\n"
   ]
  },
  {
   "cell_type": "code",
   "execution_count": null,
   "id": "b676ebb7",
   "metadata": {},
   "outputs": [],
   "source": [
    "x3=np.arange(0,31)\n",
    "prob1=st.binom.pmf(x3,n,p)\n",
    "plt.bar(x3,prob1,edgecolor='cyan')"
   ]
  },
  {
   "cell_type": "code",
   "execution_count": null,
   "id": "e5b6d6d7",
   "metadata": {},
   "outputs": [],
   "source": [
    "#in abc store the manage observed that out of 20 customers vist \n",
    "#2 customer buy a product , on a perticulaar day there are 50 customers visited\n",
    "\n",
    "\n",
    "\n",
    "\n"
   ]
  },
  {
   "cell_type": "code",
   "execution_count": 4,
   "id": "68adcca1",
   "metadata": {},
   "outputs": [
    {
     "data": {
      "text/plain": [
       "0.00515377520732012"
      ]
     },
     "execution_count": 4,
     "metadata": {},
     "output_type": "execute_result"
    }
   ],
   "source": [
    "n=50\n",
    "p = 2 / 20  # probablity of success\n",
    "#1) wht ia probablity for non buy a product \n",
    "st.binom.pmf(0,50,p)\n"
   ]
  },
  {
   "cell_type": "code",
   "execution_count": 10,
   "id": "cae09954",
   "metadata": {},
   "outputs": [
    {
     "data": {
      "text/plain": [
       "0.01518333411726241"
      ]
     },
     "execution_count": 10,
     "metadata": {},
     "output_type": "execute_result"
    }
   ],
   "source": [
    "#what is probabity of 10 buy product\n",
    "st.binom.pmf(10,50,.1)"
   ]
  },
  {
   "cell_type": "code",
   "execution_count": 14,
   "id": "3f404f0c",
   "metadata": {},
   "outputs": [
    {
     "data": {
      "text/plain": [
       "0.024537935704591486"
      ]
     },
     "execution_count": 14,
     "metadata": {},
     "output_type": "execute_result"
    }
   ],
   "source": [
    "# what is the probablity at least 10 customers buy product\n",
    "x= np.arange(10,51)\n",
    "st.binom.pmf(x,50,0.1).sum()"
   ]
  },
  {
   "cell_type": "code",
   "execution_count": 15,
   "id": "0a0a3841",
   "metadata": {},
   "outputs": [
    {
     "data": {
      "text/plain": [
       "0.990645398412671"
      ]
     },
     "execution_count": 15,
     "metadata": {},
     "output_type": "execute_result"
    }
   ],
   "source": [
    "# what is probablity of at most 10 customers buy product ?\n",
    "st.binom.cdf(10,50,0.1)"
   ]
  },
  {
   "cell_type": "code",
   "execution_count": 16,
   "id": "912a9629",
   "metadata": {},
   "outputs": [
    {
     "name": "stdout",
     "output_type": "stream",
     "text": [
      "Probability of not buying a product: 0.96\n",
      "Probability of 10 customers buying a product: 2.1043404643013807e-05\n",
      "Probability of at least 10 customers buying a product: 2.472257480742799e-05\n",
      "Probability of at most 10 customers buying a product: 0.9999963208298354\n"
     ]
    }
   ],
   "source": [
    "from scipy.stats import binom\n",
    "\n",
    "n = 50\n",
    "x = 2\n",
    "p = x / n\n",
    "q = 1 - p\n",
    "\n",
    "# 1) Probability of not buying a product\n",
    "prob_not_buy = q\n",
    "\n",
    "# 2) Probability of exactly 10 customers buying a product\n",
    "prob_10_buy = binom.pmf(10, n, p)\n",
    "\n",
    "# 3) Probability of at least 10 customers buying a product\n",
    "prob_at_least_10_buy = sum(binom.pmf(k, n, p) for k in range(10, n + 1))\n",
    "\n",
    "# 4) Probability of at most 10 customers buying a product\n",
    "prob_at_most_10_buy = sum(binom.pmf(k, n, p) for k in range(0, 11))\n",
    "\n",
    "print(\"Probability of not buying a product:\", prob_not_buy)\n",
    "print(\"Probability of 10 customers buying a product:\", prob_10_buy)\n",
    "print(\"Probability of at least 10 customers buying a product:\", prob_at_least_10_buy)\n",
    "print(\"Probability of at most 10 customers buying a product:\", prob_at_most_10_buy)\n"
   ]
  },
  {
   "cell_type": "code",
   "execution_count": null,
   "id": "3d6a6708",
   "metadata": {},
   "outputs": [],
   "source": []
  }
 ],
 "metadata": {
  "kernelspec": {
   "display_name": "Python 3 (ipykernel)",
   "language": "python",
   "name": "python3"
  },
  "language_info": {
   "codemirror_mode": {
    "name": "ipython",
    "version": 3
   },
   "file_extension": ".py",
   "mimetype": "text/x-python",
   "name": "python",
   "nbconvert_exporter": "python",
   "pygments_lexer": "ipython3",
   "version": "3.10.9"
  }
 },
 "nbformat": 4,
 "nbformat_minor": 5
}
