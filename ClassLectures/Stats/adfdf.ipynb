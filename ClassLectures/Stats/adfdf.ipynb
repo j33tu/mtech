{
 "cells": [
  {
   "cell_type": "code",
   "execution_count": 872,
   "id": "a4ffdb28",
   "metadata": {},
   "outputs": [],
   "source": [
    "import numpy as np\n",
    "import pandas as pd\n",
    "import matplotlib.pyplot as plt\n",
    "import seaborn as sns\n",
    "import scipy.stats as st\n",
    "import math as math\n",
    "import statistics as stats"
   ]
  },
  {
   "cell_type": "code",
   "execution_count": 5,
   "id": "f6f0ec15",
   "metadata": {},
   "outputs": [
    {
     "data": {
      "text/html": [
       "<div>\n",
       "<style scoped>\n",
       "    .dataframe tbody tr th:only-of-type {\n",
       "        vertical-align: middle;\n",
       "    }\n",
       "\n",
       "    .dataframe tbody tr th {\n",
       "        vertical-align: top;\n",
       "    }\n",
       "\n",
       "    .dataframe thead th {\n",
       "        text-align: right;\n",
       "    }\n",
       "</style>\n",
       "<table border=\"1\" class=\"dataframe\">\n",
       "  <thead>\n",
       "    <tr style=\"text-align: right;\">\n",
       "      <th></th>\n",
       "      <th>total_bill</th>\n",
       "      <th>tip</th>\n",
       "      <th>sex</th>\n",
       "      <th>smoker</th>\n",
       "      <th>day</th>\n",
       "      <th>time</th>\n",
       "      <th>size</th>\n",
       "    </tr>\n",
       "  </thead>\n",
       "  <tbody>\n",
       "    <tr>\n",
       "      <th>0</th>\n",
       "      <td>16.99</td>\n",
       "      <td>1.01</td>\n",
       "      <td>Female</td>\n",
       "      <td>No</td>\n",
       "      <td>Sun</td>\n",
       "      <td>Dinner</td>\n",
       "      <td>2</td>\n",
       "    </tr>\n",
       "    <tr>\n",
       "      <th>1</th>\n",
       "      <td>10.34</td>\n",
       "      <td>1.66</td>\n",
       "      <td>Male</td>\n",
       "      <td>No</td>\n",
       "      <td>Sun</td>\n",
       "      <td>Dinner</td>\n",
       "      <td>3</td>\n",
       "    </tr>\n",
       "    <tr>\n",
       "      <th>2</th>\n",
       "      <td>21.01</td>\n",
       "      <td>3.50</td>\n",
       "      <td>Male</td>\n",
       "      <td>No</td>\n",
       "      <td>Sun</td>\n",
       "      <td>Dinner</td>\n",
       "      <td>3</td>\n",
       "    </tr>\n",
       "    <tr>\n",
       "      <th>3</th>\n",
       "      <td>23.68</td>\n",
       "      <td>3.31</td>\n",
       "      <td>Male</td>\n",
       "      <td>No</td>\n",
       "      <td>Sun</td>\n",
       "      <td>Dinner</td>\n",
       "      <td>2</td>\n",
       "    </tr>\n",
       "    <tr>\n",
       "      <th>4</th>\n",
       "      <td>24.59</td>\n",
       "      <td>3.61</td>\n",
       "      <td>Female</td>\n",
       "      <td>No</td>\n",
       "      <td>Sun</td>\n",
       "      <td>Dinner</td>\n",
       "      <td>4</td>\n",
       "    </tr>\n",
       "    <tr>\n",
       "      <th>...</th>\n",
       "      <td>...</td>\n",
       "      <td>...</td>\n",
       "      <td>...</td>\n",
       "      <td>...</td>\n",
       "      <td>...</td>\n",
       "      <td>...</td>\n",
       "      <td>...</td>\n",
       "    </tr>\n",
       "    <tr>\n",
       "      <th>239</th>\n",
       "      <td>29.03</td>\n",
       "      <td>5.92</td>\n",
       "      <td>Male</td>\n",
       "      <td>No</td>\n",
       "      <td>Sat</td>\n",
       "      <td>Dinner</td>\n",
       "      <td>3</td>\n",
       "    </tr>\n",
       "    <tr>\n",
       "      <th>240</th>\n",
       "      <td>27.18</td>\n",
       "      <td>2.00</td>\n",
       "      <td>Female</td>\n",
       "      <td>Yes</td>\n",
       "      <td>Sat</td>\n",
       "      <td>Dinner</td>\n",
       "      <td>2</td>\n",
       "    </tr>\n",
       "    <tr>\n",
       "      <th>241</th>\n",
       "      <td>22.67</td>\n",
       "      <td>2.00</td>\n",
       "      <td>Male</td>\n",
       "      <td>Yes</td>\n",
       "      <td>Sat</td>\n",
       "      <td>Dinner</td>\n",
       "      <td>2</td>\n",
       "    </tr>\n",
       "    <tr>\n",
       "      <th>242</th>\n",
       "      <td>17.82</td>\n",
       "      <td>1.75</td>\n",
       "      <td>Male</td>\n",
       "      <td>No</td>\n",
       "      <td>Sat</td>\n",
       "      <td>Dinner</td>\n",
       "      <td>2</td>\n",
       "    </tr>\n",
       "    <tr>\n",
       "      <th>243</th>\n",
       "      <td>18.78</td>\n",
       "      <td>3.00</td>\n",
       "      <td>Female</td>\n",
       "      <td>No</td>\n",
       "      <td>Thur</td>\n",
       "      <td>Dinner</td>\n",
       "      <td>2</td>\n",
       "    </tr>\n",
       "  </tbody>\n",
       "</table>\n",
       "<p>244 rows × 7 columns</p>\n",
       "</div>"
      ],
      "text/plain": [
       "     total_bill   tip     sex smoker   day    time  size\n",
       "0         16.99  1.01  Female     No   Sun  Dinner     2\n",
       "1         10.34  1.66    Male     No   Sun  Dinner     3\n",
       "2         21.01  3.50    Male     No   Sun  Dinner     3\n",
       "3         23.68  3.31    Male     No   Sun  Dinner     2\n",
       "4         24.59  3.61  Female     No   Sun  Dinner     4\n",
       "..          ...   ...     ...    ...   ...     ...   ...\n",
       "239       29.03  5.92    Male     No   Sat  Dinner     3\n",
       "240       27.18  2.00  Female    Yes   Sat  Dinner     2\n",
       "241       22.67  2.00    Male    Yes   Sat  Dinner     2\n",
       "242       17.82  1.75    Male     No   Sat  Dinner     2\n",
       "243       18.78  3.00  Female     No  Thur  Dinner     2\n",
       "\n",
       "[244 rows x 7 columns]"
      ]
     },
     "execution_count": 5,
     "metadata": {},
     "output_type": "execute_result"
    }
   ],
   "source": [
    "df=sns.load_dataset('tips')\n",
    "df"
   ]
  },
  {
   "cell_type": "code",
   "execution_count": 10,
   "id": "f23e4285",
   "metadata": {},
   "outputs": [
    {
     "data": {
      "text/html": [
       "<div>\n",
       "<style scoped>\n",
       "    .dataframe tbody tr th:only-of-type {\n",
       "        vertical-align: middle;\n",
       "    }\n",
       "\n",
       "    .dataframe tbody tr th {\n",
       "        vertical-align: top;\n",
       "    }\n",
       "\n",
       "    .dataframe thead th {\n",
       "        text-align: right;\n",
       "    }\n",
       "</style>\n",
       "<table border=\"1\" class=\"dataframe\">\n",
       "  <thead>\n",
       "    <tr style=\"text-align: right;\">\n",
       "      <th></th>\n",
       "      <th>total_bill</th>\n",
       "      <th>tip</th>\n",
       "      <th>size</th>\n",
       "    </tr>\n",
       "  </thead>\n",
       "  <tbody>\n",
       "    <tr>\n",
       "      <th>count</th>\n",
       "      <td>244.000000</td>\n",
       "      <td>244.000000</td>\n",
       "      <td>244.000000</td>\n",
       "    </tr>\n",
       "    <tr>\n",
       "      <th>mean</th>\n",
       "      <td>19.785943</td>\n",
       "      <td>2.998279</td>\n",
       "      <td>2.569672</td>\n",
       "    </tr>\n",
       "    <tr>\n",
       "      <th>std</th>\n",
       "      <td>8.902412</td>\n",
       "      <td>1.383638</td>\n",
       "      <td>0.951100</td>\n",
       "    </tr>\n",
       "    <tr>\n",
       "      <th>min</th>\n",
       "      <td>3.070000</td>\n",
       "      <td>1.000000</td>\n",
       "      <td>1.000000</td>\n",
       "    </tr>\n",
       "    <tr>\n",
       "      <th>25%</th>\n",
       "      <td>13.347500</td>\n",
       "      <td>2.000000</td>\n",
       "      <td>2.000000</td>\n",
       "    </tr>\n",
       "    <tr>\n",
       "      <th>50%</th>\n",
       "      <td>17.795000</td>\n",
       "      <td>2.900000</td>\n",
       "      <td>2.000000</td>\n",
       "    </tr>\n",
       "    <tr>\n",
       "      <th>75%</th>\n",
       "      <td>24.127500</td>\n",
       "      <td>3.562500</td>\n",
       "      <td>3.000000</td>\n",
       "    </tr>\n",
       "    <tr>\n",
       "      <th>max</th>\n",
       "      <td>50.810000</td>\n",
       "      <td>10.000000</td>\n",
       "      <td>6.000000</td>\n",
       "    </tr>\n",
       "  </tbody>\n",
       "</table>\n",
       "</div>"
      ],
      "text/plain": [
       "       total_bill         tip        size\n",
       "count  244.000000  244.000000  244.000000\n",
       "mean    19.785943    2.998279    2.569672\n",
       "std      8.902412    1.383638    0.951100\n",
       "min      3.070000    1.000000    1.000000\n",
       "25%     13.347500    2.000000    2.000000\n",
       "50%     17.795000    2.900000    2.000000\n",
       "75%     24.127500    3.562500    3.000000\n",
       "max     50.810000   10.000000    6.000000"
      ]
     },
     "execution_count": 10,
     "metadata": {},
     "output_type": "execute_result"
    }
   ],
   "source": [
    "df.shape\n",
    "df.describe()"
   ]
  },
  {
   "cell_type": "code",
   "execution_count": 12,
   "id": "fe6ae065",
   "metadata": {},
   "outputs": [
    {
     "data": {
      "text/plain": [
       "count    244.000000\n",
       "mean      19.785943\n",
       "std        8.902412\n",
       "min        3.070000\n",
       "25%       13.347500\n",
       "50%       17.795000\n",
       "75%       24.127500\n",
       "max       50.810000\n",
       "Name: total_bill, dtype: float64"
      ]
     },
     "execution_count": 12,
     "metadata": {},
     "output_type": "execute_result"
    }
   ],
   "source": [
    "## describing numarical data measures of locations\n",
    "df.total_bill.describe()"
   ]
  },
  {
   "cell_type": "code",
   "execution_count": 16,
   "id": "313e7fec",
   "metadata": {},
   "outputs": [
    {
     "name": "stdout",
     "output_type": "stream",
     "text": [
      "8.902411954856856\n",
      "3.07\n",
      "50.81\n"
     ]
    }
   ],
   "source": [
    "import statistics as st\n",
    "print(st.stdev(df.total_bill))\n",
    "print(df.total_bill.min())\n",
    "print(df.total_bill.max())"
   ]
  },
  {
   "cell_type": "code",
   "execution_count": 23,
   "id": "a4a43074",
   "metadata": {},
   "outputs": [
    {
     "data": {
      "text/plain": [
       "17.795"
      ]
     },
     "execution_count": 23,
     "metadata": {},
     "output_type": "execute_result"
    }
   ],
   "source": [
    "df.total_bill.quantile(.50)\n"
   ]
  },
  {
   "cell_type": "code",
   "execution_count": 29,
   "id": "a1fa6e2f",
   "metadata": {},
   "outputs": [
    {
     "ename": "TypeError",
     "evalue": "boxplot() got an unexpected keyword argument 'y'",
     "output_type": "error",
     "traceback": [
      "\u001b[1;31m---------------------------------------------------------------------------\u001b[0m",
      "\u001b[1;31mTypeError\u001b[0m                                 Traceback (most recent call last)",
      "Cell \u001b[1;32mIn[29], line 2\u001b[0m\n\u001b[0;32m      1\u001b[0m plt\u001b[38;5;241m.\u001b[39mboxplot(df\u001b[38;5;241m.\u001b[39mtotal_bill)\n\u001b[1;32m----> 2\u001b[0m plt\u001b[38;5;241m.\u001b[39mboxplot(y\u001b[38;5;241m=\u001b[39mdf\u001b[38;5;241m.\u001b[39mtotal_bill)\n",
      "\u001b[1;31mTypeError\u001b[0m: boxplot() got an unexpected keyword argument 'y'"
     ]
    },
    {
     "data": {
      "image/png": "[encoded data removed]",
      "text/plain": [
       "<Figure size 640x480 with 1 Axes>"
      ]
     },
     "metadata": {},
     "output_type": "display_data"
    }
   ],
   "source": [
    "plt.boxplot(df.total_bill)\n",
    "plt.boxplot(y=df.total_bill)\n",
    "#calculate upper viskar line \n"
   ]
  },
  {
   "cell_type": "code",
   "execution_count": 35,
   "id": "3b6319cc",
   "metadata": {},
   "outputs": [
    {
     "data": {
      "text/html": [
       "<div>\n",
       "<style scoped>\n",
       "    .dataframe tbody tr th:only-of-type {\n",
       "        vertical-align: middle;\n",
       "    }\n",
       "\n",
       "    .dataframe tbody tr th {\n",
       "        vertical-align: top;\n",
       "    }\n",
       "\n",
       "    .dataframe thead th {\n",
       "        text-align: right;\n",
       "    }\n",
       "</style>\n",
       "<table border=\"1\" class=\"dataframe\">\n",
       "  <thead>\n",
       "    <tr style=\"text-align: right;\">\n",
       "      <th></th>\n",
       "      <th>total_bill</th>\n",
       "      <th>tip</th>\n",
       "      <th>sex</th>\n",
       "      <th>smoker</th>\n",
       "      <th>day</th>\n",
       "      <th>time</th>\n",
       "      <th>size</th>\n",
       "    </tr>\n",
       "  </thead>\n",
       "  <tbody>\n",
       "    <tr>\n",
       "      <th>0</th>\n",
       "      <td>16.99</td>\n",
       "      <td>1.01</td>\n",
       "      <td>Female</td>\n",
       "      <td>No</td>\n",
       "      <td>Sun</td>\n",
       "      <td>Dinner</td>\n",
       "      <td>2</td>\n",
       "    </tr>\n",
       "    <tr>\n",
       "      <th>1</th>\n",
       "      <td>10.34</td>\n",
       "      <td>1.66</td>\n",
       "      <td>Male</td>\n",
       "      <td>No</td>\n",
       "      <td>Sun</td>\n",
       "      <td>Dinner</td>\n",
       "      <td>3</td>\n",
       "    </tr>\n",
       "    <tr>\n",
       "      <th>6</th>\n",
       "      <td>8.77</td>\n",
       "      <td>2.00</td>\n",
       "      <td>Male</td>\n",
       "      <td>No</td>\n",
       "      <td>Sun</td>\n",
       "      <td>Dinner</td>\n",
       "      <td>2</td>\n",
       "    </tr>\n",
       "    <tr>\n",
       "      <th>8</th>\n",
       "      <td>15.04</td>\n",
       "      <td>1.96</td>\n",
       "      <td>Male</td>\n",
       "      <td>No</td>\n",
       "      <td>Sun</td>\n",
       "      <td>Dinner</td>\n",
       "      <td>2</td>\n",
       "    </tr>\n",
       "    <tr>\n",
       "      <th>9</th>\n",
       "      <td>14.78</td>\n",
       "      <td>3.23</td>\n",
       "      <td>Male</td>\n",
       "      <td>No</td>\n",
       "      <td>Sun</td>\n",
       "      <td>Dinner</td>\n",
       "      <td>2</td>\n",
       "    </tr>\n",
       "    <tr>\n",
       "      <th>...</th>\n",
       "      <td>...</td>\n",
       "      <td>...</td>\n",
       "      <td>...</td>\n",
       "      <td>...</td>\n",
       "      <td>...</td>\n",
       "      <td>...</td>\n",
       "      <td>...</td>\n",
       "    </tr>\n",
       "    <tr>\n",
       "      <th>234</th>\n",
       "      <td>15.53</td>\n",
       "      <td>3.00</td>\n",
       "      <td>Male</td>\n",
       "      <td>Yes</td>\n",
       "      <td>Sat</td>\n",
       "      <td>Dinner</td>\n",
       "      <td>2</td>\n",
       "    </tr>\n",
       "    <tr>\n",
       "      <th>235</th>\n",
       "      <td>10.07</td>\n",
       "      <td>1.25</td>\n",
       "      <td>Male</td>\n",
       "      <td>No</td>\n",
       "      <td>Sat</td>\n",
       "      <td>Dinner</td>\n",
       "      <td>2</td>\n",
       "    </tr>\n",
       "    <tr>\n",
       "      <th>236</th>\n",
       "      <td>12.60</td>\n",
       "      <td>1.00</td>\n",
       "      <td>Male</td>\n",
       "      <td>Yes</td>\n",
       "      <td>Sat</td>\n",
       "      <td>Dinner</td>\n",
       "      <td>2</td>\n",
       "    </tr>\n",
       "    <tr>\n",
       "      <th>242</th>\n",
       "      <td>17.82</td>\n",
       "      <td>1.75</td>\n",
       "      <td>Male</td>\n",
       "      <td>No</td>\n",
       "      <td>Sat</td>\n",
       "      <td>Dinner</td>\n",
       "      <td>2</td>\n",
       "    </tr>\n",
       "    <tr>\n",
       "      <th>243</th>\n",
       "      <td>18.78</td>\n",
       "      <td>3.00</td>\n",
       "      <td>Female</td>\n",
       "      <td>No</td>\n",
       "      <td>Thur</td>\n",
       "      <td>Dinner</td>\n",
       "      <td>2</td>\n",
       "    </tr>\n",
       "  </tbody>\n",
       "</table>\n",
       "<p>147 rows × 7 columns</p>\n",
       "</div>"
      ],
      "text/plain": [
       "     total_bill   tip     sex smoker   day    time  size\n",
       "0         16.99  1.01  Female     No   Sun  Dinner     2\n",
       "1         10.34  1.66    Male     No   Sun  Dinner     3\n",
       "6          8.77  2.00    Male     No   Sun  Dinner     2\n",
       "8         15.04  1.96    Male     No   Sun  Dinner     2\n",
       "9         14.78  3.23    Male     No   Sun  Dinner     2\n",
       "..          ...   ...     ...    ...   ...     ...   ...\n",
       "234       15.53  3.00    Male    Yes   Sat  Dinner     2\n",
       "235       10.07  1.25    Male     No   Sat  Dinner     2\n",
       "236       12.60  1.00    Male    Yes   Sat  Dinner     2\n",
       "242       17.82  1.75    Male     No   Sat  Dinner     2\n",
       "243       18.78  3.00  Female     No  Thur  Dinner     2\n",
       "\n",
       "[147 rows x 7 columns]"
      ]
     },
     "execution_count": 35,
     "metadata": {},
     "output_type": "execute_result"
    }
   ],
   "source": [
    "df[df.total_bill <20]"
   ]
  },
  {
   "cell_type": "code",
   "execution_count": 37,
   "id": "c8fb7f28",
   "metadata": {},
   "outputs": [
    {
     "name": "stderr",
     "output_type": "stream",
     "text": [
      "C:\\Program Files\\conda\\Lib\\site-packages\\seaborn\\axisgrid.py:118: UserWarning: The figure layout has changed to tight\n",
      "  self._figure.tight_layout(*args, **kwargs)\n"
     ]
    },
    {
     "data": {
      "text/plain": [
       "<seaborn.axisgrid.FacetGrid at 0x26ae4ac62d0>"
      ]
     },
     "execution_count": 37,
     "metadata": {},
     "output_type": "execute_result"
    },
    {
     "data": {
      "image/png": "[encoded data removed]",
      "text/plain": [
       "<Figure size 500x500 with 1 Axes>"
      ]
     },
     "metadata": {},
     "output_type": "display_data"
    }
   ],
   "source": [
    "sns.displot(df.total_bill)"
   ]
  },
  {
   "cell_type": "code",
   "execution_count": 39,
   "id": "98f27f6b",
   "metadata": {},
   "outputs": [
    {
     "data": {
      "text/plain": [
       "(array([ 7., 42., 68., 51., 31., 19., 12.,  7.,  3.,  4.]),\n",
       " array([ 3.07 ,  7.844, 12.618, 17.392, 22.166, 26.94 , 31.714, 36.488,\n",
       "        41.262, 46.036, 50.81 ]),\n",
       " <BarContainer object of 10 artists>)"
      ]
     },
     "execution_count": 39,
     "metadata": {},
     "output_type": "execute_result"
    },
    {
     "data": {
      "image/png": "[encoded data removed]",
      "text/plain": [
       "<Figure size 640x480 with 1 Axes>"
      ]
     },
     "metadata": {},
     "output_type": "display_data"
    }
   ],
   "source": [
    "plt.hist(df.total_bill,edgecolor='black')"
   ]
  },
  {
   "cell_type": "code",
   "execution_count": 41,
   "id": "5aa40dc8",
   "metadata": {},
   "outputs": [
    {
     "data": {
      "text/plain": [
       "19.78594262295082"
      ]
     },
     "execution_count": 41,
     "metadata": {},
     "output_type": "execute_result"
    }
   ],
   "source": [
    "df.total_bill.mean()\n"
   ]
  },
  {
   "cell_type": "code",
   "execution_count": 44,
   "id": "eca730cd",
   "metadata": {},
   "outputs": [
    {
     "data": {
      "text/plain": [
       "0    13.42\n",
       "Name: total_bill, dtype: float64"
      ]
     },
     "execution_count": 44,
     "metadata": {},
     "output_type": "execute_result"
    }
   ],
   "source": [
    "df.total_bill.mode()"
   ]
  },
  {
   "cell_type": "code",
   "execution_count": 46,
   "id": "32323ce1",
   "metadata": {},
   "outputs": [
    {
     "data": {
      "text/plain": [
       "17.795"
      ]
     },
     "execution_count": 46,
     "metadata": {},
     "output_type": "execute_result"
    }
   ],
   "source": [
    "df.total_bill.median()"
   ]
  },
  {
   "cell_type": "code",
   "execution_count": 60,
   "id": "6f42d0a6",
   "metadata": {},
   "outputs": [
    {
     "name": "stdout",
     "output_type": "stream",
     "text": [
      "high_wp 40.29749999999999\n",
      "low_wp -2.8224999999999945\n"
     ]
    }
   ],
   "source": [
    "q1=df.total_bill.quantile(.25)\n",
    "q3=df.total_bill.quantile(.75)\n",
    "high_wp=q3+1.5*(q3-q1)\n",
    "low_wp=q1-1.5*(q3-q1)\n",
    "print('high_wp',high_wp)\n",
    "print('low_wp',low_wp)"
   ]
  },
  {
   "cell_type": "code",
   "execution_count": 61,
   "id": "5409ad11",
   "metadata": {},
   "outputs": [
    {
     "name": "stdout",
     "output_type": "stream",
     "text": [
      "24.127499999999998\n",
      "40.29749999999999\n"
     ]
    }
   ],
   "source": [
    "print(q3)\n",
    "print(q3+1.5*(q3-q1))"
   ]
  },
  {
   "cell_type": "code",
   "execution_count": 74,
   "id": "c11ad30e",
   "metadata": {},
   "outputs": [
    {
     "name": "stdout",
     "output_type": "stream",
     "text": [
      "17.795\n"
     ]
    },
    {
     "data": {
      "text/plain": [
       "17.795"
      ]
     },
     "execution_count": 74,
     "metadata": {},
     "output_type": "execute_result"
    }
   ],
   "source": [
    "print(df.total_bill.median())\n",
    "df.total_bill.describe\n",
    "df.total_bill.quantile(.50)"
   ]
  },
  {
   "cell_type": "code",
   "execution_count": 85,
   "id": "07d07fe1",
   "metadata": {},
   "outputs": [
    {
     "name": "stdout",
     "output_type": "stream",
     "text": [
      "8.884150577771132\n"
     ]
    }
   ],
   "source": [
    "def stddev(nums,xbar):\n",
    "    sumofnum=[(x-xbar)**2 for x in nums]\n",
    "    return print(math.sqrt(sum(sumofnum)/len(nums)))\n",
    "stddev(df.total_bill,df.total_bill.mean())\n",
    "\n"
   ]
  },
  {
   "cell_type": "code",
   "execution_count": 90,
   "id": "92b2dc5a",
   "metadata": {},
   "outputs": [
    {
     "name": "stdout",
     "output_type": "stream",
     "text": [
      "8.902411954856856\n"
     ]
    }
   ],
   "source": [
    "print(stats.stdev(df.total_bill))"
   ]
  },
  {
   "cell_type": "code",
   "execution_count": 94,
   "id": "256f1ef7",
   "metadata": {},
   "outputs": [
    {
     "name": "stdout",
     "output_type": "stream",
     "text": [
      "1.2184840156638854\n",
      "1.1332130376158205\n"
     ]
    }
   ],
   "source": [
    "print(df.total_bill.kurtosis())\n",
    "print(df.total_bill.skew())"
   ]
  },
  {
   "cell_type": "code",
   "execution_count": 97,
   "id": "7314b848",
   "metadata": {},
   "outputs": [
    {
     "name": "stderr",
     "output_type": "stream",
     "text": [
      "C:\\Users\\jitendra\\AppData\\Local\\Temp\\ipykernel_11956\\2206588322.py:1: UserWarning: \n",
      "\n",
      "`distplot` is a deprecated function and will be removed in seaborn v0.14.0.\n",
      "\n",
      "Please adapt your code to use either `displot` (a figure-level function with\n",
      "similar flexibility) or `histplot` (an axes-level function for histograms).\n",
      "\n",
      "For a guide to updating your code to use the new functions, please see\n",
      "https://gist.github.com/mwaskom/de44147ed2974457ad6372750bbe5751\n",
      "\n",
      "  sns.distplot(df.total_bill)\n"
     ]
    },
    {
     "data": {
      "text/plain": [
       "<Axes: xlabel='total_bill', ylabel='Density'>"
      ]
     },
     "execution_count": 97,
     "metadata": {},
     "output_type": "execute_result"
    },
    {
     "data": {
      "image/png": "[encoded data removed]",
      "text/plain": [
       "<Figure size 640x480 with 1 Axes>"
      ]
     },
     "metadata": {},
     "output_type": "display_data"
    }
   ],
   "source": [
    "sns.distplot(df.total_bill)"
   ]
  },
  {
   "cell_type": "code",
   "execution_count": 99,
   "id": "404c16c3",
   "metadata": {},
   "outputs": [
    {
     "data": {
      "text/plain": [
       "<Axes: xlabel='total_bill', ylabel='Count'>"
      ]
     },
     "execution_count": 99,
     "metadata": {},
     "output_type": "execute_result"
    },
    {
     "data": {
      "image/png": "[encoded data removed]",
      "text/plain": [
       "<Figure size 640x480 with 1 Axes>"
      ]
     },
     "metadata": {},
     "output_type": "display_data"
    }
   ],
   "source": [
    "sns.histplot(df.total_bill)"
   ]
  },
  {
   "cell_type": "code",
   "execution_count": 103,
   "id": "7ec59c0f",
   "metadata": {},
   "outputs": [
    {
     "data": {
      "text/plain": [
       "array([[79.25293861,  8.32350163],\n",
       "       [ 8.32350163,  1.91445464]])"
      ]
     },
     "execution_count": 103,
     "metadata": {},
     "output_type": "execute_result"
    }
   ],
   "source": [
    "np.cov(df.total_bill,df.tip)\n",
    "\n"
   ]
  },
  {
   "cell_type": "code",
   "execution_count": 106,
   "id": "76596fbc",
   "metadata": {},
   "outputs": [
    {
     "data": {
      "text/plain": [
       "0.6630400000000001"
      ]
     },
     "execution_count": 106,
     "metadata": {},
     "output_type": "execute_result"
    }
   ],
   "source": [
    "n=5\n",
    "# total attempts\n",
    "k=3\n",
    "# succcess events\n",
    "p = 0.6\n",
    "st.binom.pmf(3,5,0.6) # descreate value getting 3 head out of 5\n",
    "# value gettting up to 3 out of 5 \n",
    "\n",
    "st.binom.cdf(3,5,0.6)"
   ]
  },
  {
   "cell_type": "code",
   "execution_count": 112,
   "id": "eb467bc3",
   "metadata": {},
   "outputs": [
    {
     "data": {
      "text/plain": [
       "0.7978845608028654"
      ]
     },
     "execution_count": 112,
     "metadata": {},
     "output_type": "execute_result"
    }
   ],
   "source": [
    "mu = 5.5\n",
    "sigma=.5\n",
    "cdf=st.norm.cdf(5.5,5.5,.5)\n",
    "\n",
    "cdf"
   ]
  },
  {
   "cell_type": "code",
   "execution_count": 115,
   "id": "e74021ee",
   "metadata": {},
   "outputs": [
    {
     "data": {
      "text/plain": [
       "0.5"
      ]
     },
     "execution_count": 115,
     "metadata": {},
     "output_type": "execute_result"
    }
   ],
   "source": [
    "sf=st.norm.sf(5.5,5.5,.5)\n",
    "sf"
   ]
  },
  {
   "cell_type": "code",
   "execution_count": 118,
   "id": "a0ca7707",
   "metadata": {},
   "outputs": [
    {
     "data": {
      "image/png": "[encoded data removed]",
      "text/plain": [
       "<Figure size 640x480 with 1 Axes>"
      ]
     },
     "metadata": {},
     "output_type": "display_data"
    }
   ],
   "source": [
    "from scipy.stats import norm\n",
    "import numpy as np\n",
    "import matplotlib.pyplot as plt\n",
    "\n",
    "# Parameters for the standard normal distribution\n",
    "mu = 0  # Mean\n",
    "sigma = 1  # Standard deviation\n",
    "\n",
    "# Generate a range of values to evaluate the PDF\n",
    "x_values = np.linspace(-4, 4, 100)  # Choose a range typically from -4 to 4 standard deviations\n",
    "\n",
    "# Calculate the probability density function (PDF) for standard normal distribution at each x value\n",
    "pdf_values = norm.pdf(x_values, mu, sigma)\n",
    "\n",
    "# Plot the PDF\n",
    "plt.plot(x_values, pdf_values, label='PDF')\n",
    "plt.title('Standard Normal Distribution PDF')\n",
    "plt.xlabel('Z-score')\n",
    "plt.ylabel('Probability Density')\n",
    "plt.legend()\n",
    "plt.grid(True)\n",
    "plt.show()"
   ]
  },
  {
   "cell_type": "code",
   "execution_count": 121,
   "id": "127afb61",
   "metadata": {},
   "outputs": [
    {
     "data": {
      "text/plain": [
       "array([-4.        , -3.91919192, -3.83838384, -3.75757576, -3.67676768,\n",
       "       -3.5959596 , -3.51515152, -3.43434343, -3.35353535, -3.27272727,\n",
       "       -3.19191919, -3.11111111, -3.03030303, -2.94949495, -2.86868687,\n",
       "       -2.78787879, -2.70707071, -2.62626263, -2.54545455, -2.46464646,\n",
       "       -2.38383838, -2.3030303 , -2.22222222, -2.14141414, -2.06060606,\n",
       "       -1.97979798, -1.8989899 , -1.81818182, -1.73737374, -1.65656566,\n",
       "       -1.57575758, -1.49494949, -1.41414141, -1.33333333, -1.25252525,\n",
       "       -1.17171717, -1.09090909, -1.01010101, -0.92929293, -0.84848485,\n",
       "       -0.76767677, -0.68686869, -0.60606061, -0.52525253, -0.44444444,\n",
       "       -0.36363636, -0.28282828, -0.2020202 , -0.12121212, -0.04040404,\n",
       "        0.04040404,  0.12121212,  0.2020202 ,  0.28282828,  0.36363636,\n",
       "        0.44444444,  0.52525253,  0.60606061,  0.68686869,  0.76767677,\n",
       "        0.84848485,  0.92929293,  1.01010101,  1.09090909,  1.17171717,\n",
       "        1.25252525,  1.33333333,  1.41414141,  1.49494949,  1.57575758,\n",
       "        1.65656566,  1.73737374,  1.81818182,  1.8989899 ,  1.97979798,\n",
       "        2.06060606,  2.14141414,  2.22222222,  2.3030303 ,  2.38383838,\n",
       "        2.46464646,  2.54545455,  2.62626263,  2.70707071,  2.78787879,\n",
       "        2.86868687,  2.94949495,  3.03030303,  3.11111111,  3.19191919,\n",
       "        3.27272727,  3.35353535,  3.43434343,  3.51515152,  3.5959596 ,\n",
       "        3.67676768,  3.75757576,  3.83838384,  3.91919192,  4.        ])"
      ]
     },
     "execution_count": 121,
     "metadata": {},
     "output_type": "execute_result"
    }
   ],
   "source": [
    "x_values = np.linspace(-4, 4, 100)\n",
    "x_values"
   ]
  },
  {
   "cell_type": "code",
   "execution_count": 129,
   "id": "9b089da4",
   "metadata": {},
   "outputs": [
    {
     "name": "stdout",
     "output_type": "stream",
     "text": [
      "[10, 15, 20, 25, 30]\n",
      "[-1.41421356 -0.70710678  0.          0.70710678  1.41421356]\n",
      "20.0\n"
     ]
    },
    {
     "data": {
      "text/plain": [
       "[<matplotlib.lines.Line2D at 0x26aeb951c50>]"
      ]
     },
     "execution_count": 129,
     "metadata": {},
     "output_type": "execute_result"
    },
    {
     "data": {
      "image/png": "[encoded data removed]",
      "text/plain": [
       "<Figure size 640x480 with 1 Axes>"
      ]
     },
     "metadata": {},
     "output_type": "display_data"
    }
   ],
   "source": [
    "import numpy as np\n",
    "\n",
    "# Original distribution data\n",
    "data = [10, 15, 20, 25, 30]\n",
    "mu=np.mean(data)\n",
    "sigma=np.std(data)\n",
    "\n",
    "centered_data=np.array(data) - mu\n",
    "std_data=centered_data/sigma\n",
    "print(data)\n",
    "print(std_data)\n",
    "print(mu)\n",
    "pdf_values= norm.pdf(std_data, 0, 1)\n",
    "plt.plot(std_data,pdf_values)\n"
   ]
  },
  {
   "cell_type": "code",
   "execution_count": 130,
   "id": "08920696",
   "metadata": {},
   "outputs": [],
   "source": [
    "#high of a lernede folws normal distrbutions with a mean of 5.5 Feet and stt.deviation of 0.25 Feet\n",
    "#Find the probablity of the person is having height of \n",
    "#1. Less than 5 Feet\n",
    "#2. more than 5 feet\n",
    "#3. nte betweeen 5 and 5.7\n",
    "#4. in between  5.25 and 5.75? mu +- 1 sigma\n",
    "#5 in bw 5 and 6  mu +- 2 sigma\n",
    "#in between 4.75 and 6.25 (mu +- 3 Sigma)"
   ]
  },
  {
   "cell_type": "code",
   "execution_count": 139,
   "id": "99f54087",
   "metadata": {},
   "outputs": [
    {
     "name": "stderr",
     "output_type": "stream",
     "text": [
      "C:\\Users\\jitendra\\AppData\\Local\\Temp\\ipykernel_11956\\3943153112.py:4: UserWarning: \n",
      "\n",
      "`distplot` is a deprecated function and will be removed in seaborn v0.14.0.\n",
      "\n",
      "Please adapt your code to use either `displot` (a figure-level function with\n",
      "similar flexibility) or `histplot` (an axes-level function for histograms).\n",
      "\n",
      "For a guide to updating your code to use the new functions, please see\n",
      "https://gist.github.com/mwaskom/de44147ed2974457ad6372750bbe5751\n",
      "\n",
      "  sns.distplot(data)\n"
     ]
    },
    {
     "data": {
      "text/plain": [
       "<Axes: ylabel='Density'>"
      ]
     },
     "execution_count": 139,
     "metadata": {},
     "output_type": "execute_result"
    },
    {
     "data": {
      "image/png": "[encoded data removed]",
      "text/plain": [
       "<Figure size 640x480 with 1 Axes>"
      ]
     },
     "metadata": {},
     "output_type": "display_data"
    }
   ],
   "source": [
    "mean=5.5\n",
    "std=0.25\n",
    "data=st.norm.rvs(5.5,.25,100)\n",
    "sns.distplot(data)"
   ]
  },
  {
   "cell_type": "code",
   "execution_count": 142,
   "id": "95087208",
   "metadata": {},
   "outputs": [
    {
     "data": {
      "text/plain": [
       "5.0"
      ]
     },
     "execution_count": 142,
     "metadata": {},
     "output_type": "execute_result"
    }
   ],
   "source": [
    "st.norm.isf(.9772498680518208,mean,std)\n"
   ]
  },
  {
   "cell_type": "code",
   "execution_count": 144,
   "id": "863511a6",
   "metadata": {},
   "outputs": [
    {
     "name": "stderr",
     "output_type": "stream",
     "text": [
      "C:\\Users\\jitendra\\AppData\\Local\\Temp\\ipykernel_11956\\3629964200.py:5: UserWarning: \n",
      "\n",
      "`distplot` is a deprecated function and will be removed in seaborn v0.14.0.\n",
      "\n",
      "Please adapt your code to use either `displot` (a figure-level function with\n",
      "similar flexibility) or `histplot` (an axes-level function for histograms).\n",
      "\n",
      "For a guide to updating your code to use the new functions, please see\n",
      "https://gist.github.com/mwaskom/de44147ed2974457ad6372750bbe5751\n",
      "\n",
      "  sns.distplot(z_tb)\n"
     ]
    },
    {
     "data": {
      "text/plain": [
       "<Axes: xlabel='total_bill', ylabel='Density'>"
      ]
     },
     "execution_count": 144,
     "metadata": {},
     "output_type": "execute_result"
    },
    {
     "data": {
      "image/png": "[encoded data removed]",
      "text/plain": [
       "<Figure size 640x480 with 1 Axes>"
      ]
     },
     "metadata": {},
     "output_type": "display_data"
    }
   ],
   "source": [
    "df=sns.load_dataset('tips')\n",
    "xbar=df.total_bill.mean()\n",
    "sd=df.total_bill.std()\n",
    "z_tb=(df.total_bill-xbar)/sd\n",
    "sns.distplot(z_tb)\n"
   ]
  },
  {
   "cell_type": "code",
   "execution_count": 145,
   "id": "9d69f0e8",
   "metadata": {},
   "outputs": [],
   "source": [
    "#excercise 02091 \n",
    "#estimating confidence interval :\n",
    "#estimate the population average of bangla DS salry given that sample data as follow\n",
    "#at confidence level of 95 % , 99 % , 90 $"
   ]
  },
  {
   "cell_type": "code",
   "execution_count": 148,
   "id": "c1ef4f11",
   "metadata": {},
   "outputs": [],
   "source": [
    "# x bar is your sample mean\n",
    "\n",
    "xbar=51\n",
    "sigma=\n",
    "# population standard deviation\n",
    "n = 200"
   ]
  },
  {
   "cell_type": "code",
   "execution_count": 171,
   "id": "6030e8f8",
   "metadata": {},
   "outputs": [
    {
     "name": "stdout",
     "output_type": "stream",
     "text": [
      "2.575829303548901\n",
      "0.035355339059327376\n",
      "49.90893068161408\n",
      "50.09106931838592\n"
     ]
    }
   ],
   "source": [
    "#confidence interval 90 %\n",
    "xbar = 50\n",
    "alpha=.01\n",
    "sigma=.5\n",
    "zalphaby2=st.norm.isf(alpha/2)\n",
    "print(zalphaby2)\n",
    "std_error=sigma/(np.sqrt(n))\n",
    "print(std_error)\n",
    "marginoferror=std_error*zalphaby2\n",
    "lower_ci=xbar-marginoferror\n",
    "upper_ci=xbar+marginoferror\n",
    "print(lower_ci)\n",
    "print(upper_ci)"
   ]
  },
  {
   "cell_type": "code",
   "execution_count": 173,
   "id": "b767fe75",
   "metadata": {},
   "outputs": [
    {
     "data": {
      "text/plain": [
       "(49.90893068161408, 50.09106931838592)"
      ]
     },
     "execution_count": 173,
     "metadata": {},
     "output_type": "execute_result"
    }
   ],
   "source": [
    "st.norm.interval(1-0.01,xbar,std_error)"
   ]
  },
  {
   "cell_type": "code",
   "execution_count": 183,
   "id": "0ebf43cd",
   "metadata": {},
   "outputs": [
    {
     "name": "stdout",
     "output_type": "stream",
     "text": [
      "19.78594262295082\n",
      "0.1\n",
      "8.902411954856856\n",
      "244\n",
      "0.5699185252885925\n"
     ]
    },
    {
     "data": {
      "text/plain": [
       "(18.848510069563044, 20.723375176338596)"
      ]
     },
     "execution_count": 183,
     "metadata": {},
     "output_type": "execute_result"
    }
   ],
   "source": [
    "df=sns.load_dataset('tips')\n",
    "xbar=df.total_bill.mean()\n",
    "print(xbar)\n",
    "alpha=.10\n",
    "print(alpha)\n",
    "sigma=df.total_bill.std()\n",
    "print(sigma)\n",
    "n=len(df.total_bill)\n",
    "print(n)\n",
    "std_error=sigma/np.sqrt(n)\n",
    "print(std_error)\n",
    "st.norm.interval(1-alpha,xbar,std_error)"
   ]
  },
  {
   "cell_type": "code",
   "execution_count": 184,
   "id": "37285595",
   "metadata": {},
   "outputs": [
    {
     "data": {
      "text/plain": [
       "smoker\n",
       "No     0.618852\n",
       "Yes    0.381148\n",
       "Name: proportion, dtype: float64"
      ]
     },
     "execution_count": 184,
     "metadata": {},
     "output_type": "execute_result"
    }
   ],
   "source": [
    "# proportaion smoking catagory\n",
    "df.smoker.value_counts(normalize=True)"
   ]
  },
  {
   "cell_type": "code",
   "execution_count": 185,
   "id": "7cf30aba",
   "metadata": {},
   "outputs": [],
   "source": [
    "#estimate the population proportion of smoking for tipss data at 90 % 95 % and 99 % level of confidence "
   ]
  },
  {
   "cell_type": "code",
   "execution_count": 192,
   "id": "20c8e2e4",
   "metadata": {},
   "outputs": [
    {
     "name": "stdout",
     "output_type": "stream",
     "text": [
      "0.299959496953909 0.460040503046091\n"
     ]
    }
   ],
   "source": [
    "alpha = 0.01\n",
    "p = 0.38\n",
    "q = 1-p\n",
    "n=244\n",
    "zalphaby2=st.norm.isf(alpha/2)\n",
    "std_error=np.sqrt(p*q/n)\n",
    "me=zalphaby2*std_error\n",
    "l_ci=p-me\n",
    "u_ci=p+me\n",
    "print(l_ci,u_ci)"
   ]
  },
  {
   "cell_type": "code",
   "execution_count": 204,
   "id": "af3cea96",
   "metadata": {},
   "outputs": [
    {
     "data": {
      "text/plain": [
       "19.78594262295082"
      ]
     },
     "execution_count": 204,
     "metadata": {},
     "output_type": "execute_result"
    }
   ],
   "source": [
    "df.total_bill.mean()"
   ]
  },
  {
   "cell_type": "code",
   "execution_count": 216,
   "id": "00a78a4d",
   "metadata": {},
   "outputs": [
    {
     "name": "stdout",
     "output_type": "stream",
     "text": [
      "-0.37559294451919506\n",
      "-1.9697743954258797\n"
     ]
    }
   ],
   "source": [
    "alpha=0.05\n",
    "xbar=df.total_bill.mean()\n",
    "hmean=20\n",
    "std_dev=df.total_bill.std()\n",
    "n=len(df.total_bill)\n",
    "s=std_dev/np.sqrt(n)\n",
    "t_stat=(xbar-hmean)/s\n",
    "print(t_stat)\n",
    "\n",
    "talfphaby2=st.t.ppf(alpha/2,n-1)\n",
    "print(talfphaby2)"
   ]
  },
  {
   "cell_type": "code",
   "execution_count": 220,
   "id": "90cb1dea",
   "metadata": {},
   "outputs": [
    {
     "data": {
      "text/plain": [
       "0.7079875513815284"
      ]
     },
     "execution_count": 220,
     "metadata": {},
     "output_type": "execute_result"
    }
   ],
   "source": [
    "#pvalue methoda\n",
    "p=st.t.cdf(-0.375,n-1)*2\n",
    "p"
   ]
  },
  {
   "cell_type": "code",
   "execution_count": null,
   "id": "410a80be",
   "metadata": {},
   "outputs": [],
   "source": []
  },
  {
   "cell_type": "code",
   "execution_count": 222,
   "id": "77e9bd53",
   "metadata": {},
   "outputs": [
    {
     "data": {
      "text/html": [
       "<div>\n",
       "<style scoped>\n",
       "    .dataframe tbody tr th:only-of-type {\n",
       "        vertical-align: middle;\n",
       "    }\n",
       "\n",
       "    .dataframe tbody tr th {\n",
       "        vertical-align: top;\n",
       "    }\n",
       "\n",
       "    .dataframe thead th {\n",
       "        text-align: right;\n",
       "    }\n",
       "</style>\n",
       "<table border=\"1\" class=\"dataframe\">\n",
       "  <thead>\n",
       "    <tr style=\"text-align: right;\">\n",
       "      <th></th>\n",
       "      <th>total_bill</th>\n",
       "      <th>tip</th>\n",
       "      <th>sex</th>\n",
       "      <th>smoker</th>\n",
       "      <th>day</th>\n",
       "      <th>time</th>\n",
       "      <th>size</th>\n",
       "    </tr>\n",
       "  </thead>\n",
       "  <tbody>\n",
       "    <tr>\n",
       "      <th>0</th>\n",
       "      <td>16.99</td>\n",
       "      <td>1.01</td>\n",
       "      <td>Female</td>\n",
       "      <td>No</td>\n",
       "      <td>Sun</td>\n",
       "      <td>Dinner</td>\n",
       "      <td>2</td>\n",
       "    </tr>\n",
       "    <tr>\n",
       "      <th>1</th>\n",
       "      <td>10.34</td>\n",
       "      <td>1.66</td>\n",
       "      <td>Male</td>\n",
       "      <td>No</td>\n",
       "      <td>Sun</td>\n",
       "      <td>Dinner</td>\n",
       "      <td>3</td>\n",
       "    </tr>\n",
       "    <tr>\n",
       "      <th>2</th>\n",
       "      <td>21.01</td>\n",
       "      <td>3.50</td>\n",
       "      <td>Male</td>\n",
       "      <td>No</td>\n",
       "      <td>Sun</td>\n",
       "      <td>Dinner</td>\n",
       "      <td>3</td>\n",
       "    </tr>\n",
       "    <tr>\n",
       "      <th>3</th>\n",
       "      <td>23.68</td>\n",
       "      <td>3.31</td>\n",
       "      <td>Male</td>\n",
       "      <td>No</td>\n",
       "      <td>Sun</td>\n",
       "      <td>Dinner</td>\n",
       "      <td>2</td>\n",
       "    </tr>\n",
       "    <tr>\n",
       "      <th>4</th>\n",
       "      <td>24.59</td>\n",
       "      <td>3.61</td>\n",
       "      <td>Female</td>\n",
       "      <td>No</td>\n",
       "      <td>Sun</td>\n",
       "      <td>Dinner</td>\n",
       "      <td>4</td>\n",
       "    </tr>\n",
       "    <tr>\n",
       "      <th>...</th>\n",
       "      <td>...</td>\n",
       "      <td>...</td>\n",
       "      <td>...</td>\n",
       "      <td>...</td>\n",
       "      <td>...</td>\n",
       "      <td>...</td>\n",
       "      <td>...</td>\n",
       "    </tr>\n",
       "    <tr>\n",
       "      <th>239</th>\n",
       "      <td>29.03</td>\n",
       "      <td>5.92</td>\n",
       "      <td>Male</td>\n",
       "      <td>No</td>\n",
       "      <td>Sat</td>\n",
       "      <td>Dinner</td>\n",
       "      <td>3</td>\n",
       "    </tr>\n",
       "    <tr>\n",
       "      <th>240</th>\n",
       "      <td>27.18</td>\n",
       "      <td>2.00</td>\n",
       "      <td>Female</td>\n",
       "      <td>Yes</td>\n",
       "      <td>Sat</td>\n",
       "      <td>Dinner</td>\n",
       "      <td>2</td>\n",
       "    </tr>\n",
       "    <tr>\n",
       "      <th>241</th>\n",
       "      <td>22.67</td>\n",
       "      <td>2.00</td>\n",
       "      <td>Male</td>\n",
       "      <td>Yes</td>\n",
       "      <td>Sat</td>\n",
       "      <td>Dinner</td>\n",
       "      <td>2</td>\n",
       "    </tr>\n",
       "    <tr>\n",
       "      <th>242</th>\n",
       "      <td>17.82</td>\n",
       "      <td>1.75</td>\n",
       "      <td>Male</td>\n",
       "      <td>No</td>\n",
       "      <td>Sat</td>\n",
       "      <td>Dinner</td>\n",
       "      <td>2</td>\n",
       "    </tr>\n",
       "    <tr>\n",
       "      <th>243</th>\n",
       "      <td>18.78</td>\n",
       "      <td>3.00</td>\n",
       "      <td>Female</td>\n",
       "      <td>No</td>\n",
       "      <td>Thur</td>\n",
       "      <td>Dinner</td>\n",
       "      <td>2</td>\n",
       "    </tr>\n",
       "  </tbody>\n",
       "</table>\n",
       "<p>244 rows × 7 columns</p>\n",
       "</div>"
      ],
      "text/plain": [
       "     total_bill   tip     sex smoker   day    time  size\n",
       "0         16.99  1.01  Female     No   Sun  Dinner     2\n",
       "1         10.34  1.66    Male     No   Sun  Dinner     3\n",
       "2         21.01  3.50    Male     No   Sun  Dinner     3\n",
       "3         23.68  3.31    Male     No   Sun  Dinner     2\n",
       "4         24.59  3.61  Female     No   Sun  Dinner     4\n",
       "..          ...   ...     ...    ...   ...     ...   ...\n",
       "239       29.03  5.92    Male     No   Sat  Dinner     3\n",
       "240       27.18  2.00  Female    Yes   Sat  Dinner     2\n",
       "241       22.67  2.00    Male    Yes   Sat  Dinner     2\n",
       "242       17.82  1.75    Male     No   Sat  Dinner     2\n",
       "243       18.78  3.00  Female     No  Thur  Dinner     2\n",
       "\n",
       "[244 rows x 7 columns]"
      ]
     },
     "execution_count": 222,
     "metadata": {},
     "output_type": "execute_result"
    }
   ],
   "source": [
    "find "
   ]
  },
  {
   "cell_type": "code",
   "execution_count": 236,
   "id": "5edd35c9",
   "metadata": {},
   "outputs": [
    {
     "name": "stdout",
     "output_type": "stream",
     "text": [
      "-0.37559294451919506\n",
      "-1.9697743954258797\n",
      "1.6448536269514729\n"
     ]
    }
   ],
   "source": [
    "# avg bill is 30 statemenmt put as 5 % level of significance\n",
    "\n",
    "# define hypothesis\n",
    "#h0 mu_tb =20\n",
    "#h1 mu_tb !=20\n",
    "mu_tb=20\n",
    "mean=df.total_bill.mean()\n",
    "n=len(df.total_bill)\n",
    "std_dev=df.total_bill.std()\n",
    "\n",
    "se=std_dev/np.sqrt(n)\n",
    "alpha=0.05\n",
    "# one sample t test \n",
    "t_stat=(mean-mu_tb)/se\n",
    "print(t_stat)\n",
    "\n",
    "#ritical value approach\n",
    "talphaby2=st.t.ppf(alpha,n-1)\n",
    "print(talfphaby2)\n",
    "print(st.norm.isf(0.05))"
   ]
  },
  {
   "cell_type": "code",
   "execution_count": 234,
   "id": "d7301dd8",
   "metadata": {},
   "outputs": [
    {
     "name": "stdout",
     "output_type": "stream",
     "text": [
      "True\n"
     ]
    }
   ],
   "source": [
    "#since state is less than cricial values thenh0 is accepted \n",
    "\n",
    "# p value approach \n",
    "pvalue=st.t.cdf(t_stat,n-1)\n",
    "print(pvalue > alpha)"
   ]
  },
  {
   "cell_type": "code",
   "execution_count": 237,
   "id": "e5040891",
   "metadata": {},
   "outputs": [
    {
     "data": {
      "text/plain": [
       "(18.663331704358473, 20.908553541543167)"
      ]
     },
     "execution_count": 237,
     "metadata": {},
     "output_type": "execute_result"
    }
   ],
   "source": [
    "#confidence internalapproahc\n",
    "st.t.interval(1-alpha,n-1,mean,se)"
   ]
  },
  {
   "cell_type": "code",
   "execution_count": 239,
   "id": "de54a711",
   "metadata": {},
   "outputs": [
    {
     "name": "stdout",
     "output_type": "stream",
     "text": [
      "Z-score for alpha = 0.01 in a two-tailed test: 2.5758293035489004\n"
     ]
    }
   ],
   "source": [
    "from scipy.stats import norm\n",
    "\n",
    "def z_score_two_tailed(alpha):\n",
    "    # Calculate the critical z-value for the given alpha level\n",
    "    z_critical = norm.ppf(1 - alpha / 2)  # Two-tailed test, alpha split between two tails\n",
    "    return z_critical\n",
    "\n",
    "# Example: Calculate the z-score for a two-tailed test with alpha = 0.05\n",
    "alpha = 0.01\n",
    "z_score = z_score_two_tailed(alpha)\n",
    "print(\"Z-score for alpha =\", alpha, \"in a two-tailed test:\", z_score)\n"
   ]
  },
  {
   "cell_type": "code",
   "execution_count": 243,
   "id": "2cc6ffc3",
   "metadata": {},
   "outputs": [
    {
     "name": "stdout",
     "output_type": "stream",
     "text": [
      "2.5758293035489004\n",
      "2.5758293035489004\n"
     ]
    }
   ],
   "source": [
    "z_critical = norm.ppf(1 - 0.01 / 2)\n",
    "print(z_critical)\n",
    "print(st.norm.ppf(1-0.01/2))"
   ]
  },
  {
   "cell_type": "code",
   "execution_count": 246,
   "id": "fed8b90d",
   "metadata": {},
   "outputs": [
    {
     "name": "stdout",
     "output_type": "stream",
     "text": [
      "-1.9599639845400545\n"
     ]
    }
   ],
   "source": [
    "talphay2=st.norm.ppf(.05/2)\n",
    "print(talphay2)"
   ]
  },
  {
   "cell_type": "code",
   "execution_count": null,
   "id": "08359909",
   "metadata": {},
   "outputs": [],
   "source": []
  },
  {
   "cell_type": "code",
   "execution_count": 259,
   "id": "0150f448",
   "metadata": {},
   "outputs": [
    {
     "name": "stdout",
     "output_type": "stream",
     "text": [
      "0.01\n",
      "2.5758293035489004\n"
     ]
    }
   ],
   "source": [
    "alpha=0.01\n",
    "print(alpha)\n",
    "talphaby2=st.norm.ppf(1-alpha/2)\n",
    "print(talphaby2)"
   ]
  },
  {
   "cell_type": "code",
   "execution_count": 265,
   "id": "53ed72f5",
   "metadata": {},
   "outputs": [
    {
     "name": "stdout",
     "output_type": "stream",
     "text": [
      "2.0452296421327034\n"
     ]
    }
   ],
   "source": [
    "n=30\n",
    "alpha=0.05\n",
    "alphaby2=st.t.isf(alpha/2,n-1)\n",
    "print(alphaby2)"
   ]
  },
  {
   "cell_type": "code",
   "execution_count": 297,
   "id": "132a94d2",
   "metadata": {},
   "outputs": [
    {
     "data": {
      "text/plain": [
       "-0.741249316661101"
      ]
     },
     "execution_count": 297,
     "metadata": {},
     "output_type": "execute_result"
    }
   ],
   "source": [
    "(15/50-.35)/np.sqrt((.35*.65)/50)\n",
    "\n"
   ]
  },
  {
   "cell_type": "code",
   "execution_count": 303,
   "id": "81fcbb33",
   "metadata": {},
   "outputs": [
    {
     "name": "stdout",
     "output_type": "stream",
     "text": [
      "4.542228269825232 0.1031971404730939 2 [[223.87343533 266.00834492 240.11821975]\n",
      " [217.12656467 257.99165508 232.88178025]]\n"
     ]
    }
   ],
   "source": [
    "from scipy.stats import chi2_contingency\n",
    "data = [[207, 282, 241], [234, 242, 232]]\n",
    "alpha=0.05\n",
    "a,b,c,d=chi2_contingency(data)\n",
    "print(a,b,c,d)"
   ]
  },
  {
   "cell_type": "code",
   "execution_count": 304,
   "id": "44123077",
   "metadata": {},
   "outputs": [
    {
     "name": "stdout",
     "output_type": "stream",
     "text": [
      "p value is 0.1031971404730939\n",
      "Independent (H0 holds true)\n"
     ]
    }
   ],
   "source": [
    "from scipy.stats import chi2_contingency\n",
    " \n",
    "# defining the table\n",
    "data = [[207, 282, 241], [234, 242, 232]]\n",
    "stat, p, dof, expected = chi2_contingency(data)\n",
    " \n",
    "# interpret p-value\n",
    "alpha = 0.05\n",
    "print(\"p value is \" + str(p))\n",
    "if p <= alpha:\n",
    "    print('Dependent (reject H0)')\n",
    "else:\n",
    "    print('Independent (H0 holds true)')"
   ]
  },
  {
   "cell_type": "code",
   "execution_count": 309,
   "id": "666af8ca",
   "metadata": {},
   "outputs": [],
   "source": [
    "from scipy.stats import chi2\n",
    "chi2.isf(alpha,2)\n",
    "\n",
    "\n",
    "from scipy.stats import f\n"
   ]
  },
  {
   "cell_type": "code",
   "execution_count": 317,
   "id": "3e963fdc",
   "metadata": {},
   "outputs": [
    {
     "name": "stdout",
     "output_type": "stream",
     "text": [
      "6.552312557515209\n",
      "1.8789625360230546\n"
     ]
    }
   ],
   "source": [
    "fstat=st.f.isf(0.01,3,10)\n",
    "f= 6.52/3.47\n",
    "print(fstat)\n",
    "print(f)"
   ]
  },
  {
   "cell_type": "code",
   "execution_count": 318,
   "id": "5dee9b80",
   "metadata": {},
   "outputs": [
    {
     "ename": "TypeError",
     "evalue": "at least two inputs are required; got 0.",
     "output_type": "error",
     "traceback": [
      "\u001b[1;31m---------------------------------------------------------------------------\u001b[0m",
      "\u001b[1;31mTypeError\u001b[0m                                 Traceback (most recent call last)",
      "\u001b[1;32m~\\AppData\\Local\\Temp\\ipykernel_11956\\3880436059.py\u001b[0m in \u001b[0;36m?\u001b[1;34m()\u001b[0m\n\u001b[1;32m----> 1\u001b[1;33m \u001b[0mst\u001b[0m\u001b[1;33m.\u001b[0m\u001b[0mf_oneway\u001b[0m\u001b[1;33m(\u001b[0m\u001b[1;33m)\u001b[0m\u001b[1;33m\u001b[0m\u001b[1;33m\u001b[0m\u001b[0m\n\u001b[0m",
      "\u001b[1;32mC:\\Program Files\\conda\\Lib\\site-packages\\scipy\\stats\\_stats_py.py\u001b[0m in \u001b[0;36m?\u001b[1;34m(axis, *samples)\u001b[0m\n\u001b[0;32m   4111\u001b[0m     \u001b[0marray\u001b[0m\u001b[1;33m(\u001b[0m\u001b[1;33m[\u001b[0m\u001b[1;36m0.20630784\u001b[0m\u001b[1;33m,\u001b[0m \u001b[1;36m0.96375203\u001b[0m\u001b[1;33m,\u001b[0m \u001b[1;36m0.04733157\u001b[0m\u001b[1;33m]\u001b[0m\u001b[1;33m)\u001b[0m\u001b[1;33m\u001b[0m\u001b[1;33m\u001b[0m\u001b[0m\n\u001b[0;32m   4112\u001b[0m \u001b[1;33m\u001b[0m\u001b[0m\n\u001b[0;32m   4113\u001b[0m     \"\"\"\n\u001b[0;32m   4114\u001b[0m     \u001b[1;32mif\u001b[0m \u001b[0mlen\u001b[0m\u001b[1;33m(\u001b[0m\u001b[0msamples\u001b[0m\u001b[1;33m)\u001b[0m \u001b[1;33m<\u001b[0m \u001b[1;36m2\u001b[0m\u001b[1;33m:\u001b[0m\u001b[1;33m\u001b[0m\u001b[1;33m\u001b[0m\u001b[0m\n\u001b[1;32m-> 4115\u001b[1;33m         raise TypeError('at least two inputs are required;'\n\u001b[0m\u001b[0;32m   4116\u001b[0m                         f' got {len(samples)}.')\n\u001b[0;32m   4117\u001b[0m \u001b[1;33m\u001b[0m\u001b[0m\n\u001b[0;32m   4118\u001b[0m     \u001b[0msamples\u001b[0m \u001b[1;33m=\u001b[0m \u001b[1;33m[\u001b[0m\u001b[0mnp\u001b[0m\u001b[1;33m.\u001b[0m\u001b[0masarray\u001b[0m\u001b[1;33m(\u001b[0m\u001b[0msample\u001b[0m\u001b[1;33m,\u001b[0m \u001b[0mdtype\u001b[0m\u001b[1;33m=\u001b[0m\u001b[0mfloat\u001b[0m\u001b[1;33m)\u001b[0m \u001b[1;32mfor\u001b[0m \u001b[0msample\u001b[0m \u001b[1;32min\u001b[0m \u001b[0msamples\u001b[0m\u001b[1;33m]\u001b[0m\u001b[1;33m\u001b[0m\u001b[1;33m\u001b[0m\u001b[0m\n",
      "\u001b[1;31mTypeError\u001b[0m: at least two inputs are required; got 0."
     ]
    }
   ],
   "source": [
    "st.f_oneway()"
   ]
  },
  {
   "cell_type": "code",
   "execution_count": 339,
   "id": "5a91bff8",
   "metadata": {},
   "outputs": [],
   "source": [
    "dailyintake=np.array([5260,5470,5640,6180,6390,6515,805,7515,7515,8230,8770])"
   ]
  },
  {
   "cell_type": "code",
   "execution_count": 345,
   "id": "ecab4392",
   "metadata": {},
   "outputs": [
    {
     "name": "stdout",
     "output_type": "stream",
     "text": [
      "6208.181818181818\n",
      "2124.9791442826827\n",
      "2.3674193687101703\n"
     ]
    }
   ],
   "source": [
    "mu=dailyintake.mean()\n",
    "print(mu)\n",
    "std_dev=np.std(dailyintake,ddof=1)\n",
    "print(std_dev)\n",
    "n=len(dailyintake)\n",
    "T_state=(7725-mu)/((std_dev)/np.sqrt(n))\n",
    "print(T_state)"
   ]
  },
  {
   "cell_type": "code",
   "execution_count": 343,
   "id": "e663b046",
   "metadata": {},
   "outputs": [
    {
     "name": "stdout",
     "output_type": "stream",
     "text": [
      "population_mean 6208.181818181818\n",
      "sample_stddev 2124.9791442826827\n",
      "t-statistic for one-sample t-test: 2.3674193687101703\n"
     ]
    }
   ],
   "source": [
    "import numpy as np\n",
    "\n",
    "# Daily intake data\n",
    "dailyintake = np.array([5260, 5470, 5640, 6180, 6390, 6515, 805, 7515, 7515, 8230, 8770])\n",
    "\n",
    "# Sample mean\n",
    "sample_mean = 7725\n",
    "\n",
    "# Sample size\n",
    "sample_size = len(dailyintake)\n",
    "\n",
    "# Population mean (if provided)\n",
    "population_mean = np.mean(dailyintake)\n",
    "\n",
    "print('population_mean',population_mean)\n",
    "# Sample standard deviation (if provided)\n",
    "sample_stddev = np.std(dailyintake, ddof=1)\n",
    "print('sample_stddev',sample_stddev)\n",
    "\n",
    "# Calculate t-statistic for one-sample t-test\n",
    "t_statistic = (sample_mean - population_mean) / (sample_stddev / np.sqrt(sample_size))\n",
    "\n",
    "print(\"t-statistic for one-sample t-test:\", t_statistic)"
   ]
  },
  {
   "cell_type": "code",
   "execution_count": 363,
   "id": "c462228f",
   "metadata": {},
   "outputs": [
    {
     "data": {
      "text/plain": [
       "TtestResult(statistic=-2.36741936871017, pvalue=0.039450612979421935, df=10)"
      ]
     },
     "execution_count": 363,
     "metadata": {},
     "output_type": "execute_result"
    }
   ],
   "source": [
    "st.ttest_1samp(dailyintake,7725)\n",
    "\n"
   ]
  },
  {
   "cell_type": "code",
   "execution_count": 364,
   "id": "2267c2fe",
   "metadata": {},
   "outputs": [
    {
     "data": {
      "text/plain": [
       "1.8331129326536337"
      ]
     },
     "execution_count": 364,
     "metadata": {},
     "output_type": "execute_result"
    }
   ],
   "source": [
    "st.t.isf(0.05,9)"
   ]
  },
  {
   "cell_type": "code",
   "execution_count": 365,
   "id": "36afcb52",
   "metadata": {},
   "outputs": [
    {
     "data": {
      "text/plain": [
       "0.5193927676430926"
      ]
     },
     "execution_count": 365,
     "metadata": {},
     "output_type": "execute_result"
    }
   ],
   "source": [
    "st.ttest_1samp(dailyintake,7725)\n",
    "st.t.cdf(0.05,9)\n"
   ]
  },
  {
   "cell_type": "code",
   "execution_count": 372,
   "id": "31a3bc40",
   "metadata": {},
   "outputs": [
    {
     "data": {
      "text/html": [
       "<div>\n",
       "<style scoped>\n",
       "    .dataframe tbody tr th:only-of-type {\n",
       "        vertical-align: middle;\n",
       "    }\n",
       "\n",
       "    .dataframe tbody tr th {\n",
       "        vertical-align: top;\n",
       "    }\n",
       "\n",
       "    .dataframe thead th {\n",
       "        text-align: right;\n",
       "    }\n",
       "</style>\n",
       "<table border=\"1\" class=\"dataframe\">\n",
       "  <thead>\n",
       "    <tr style=\"text-align: right;\">\n",
       "      <th></th>\n",
       "      <th>age</th>\n",
       "      <th>sex</th>\n",
       "      <th>bmi</th>\n",
       "      <th>children</th>\n",
       "      <th>smoker</th>\n",
       "      <th>region</th>\n",
       "      <th>charges</th>\n",
       "    </tr>\n",
       "  </thead>\n",
       "  <tbody>\n",
       "    <tr>\n",
       "      <th>0</th>\n",
       "      <td>19</td>\n",
       "      <td>female</td>\n",
       "      <td>27.900</td>\n",
       "      <td>0</td>\n",
       "      <td>yes</td>\n",
       "      <td>southwest</td>\n",
       "      <td>16884.92400</td>\n",
       "    </tr>\n",
       "    <tr>\n",
       "      <th>1</th>\n",
       "      <td>18</td>\n",
       "      <td>male</td>\n",
       "      <td>33.770</td>\n",
       "      <td>1</td>\n",
       "      <td>no</td>\n",
       "      <td>southeast</td>\n",
       "      <td>1725.55230</td>\n",
       "    </tr>\n",
       "    <tr>\n",
       "      <th>2</th>\n",
       "      <td>28</td>\n",
       "      <td>male</td>\n",
       "      <td>33.000</td>\n",
       "      <td>3</td>\n",
       "      <td>no</td>\n",
       "      <td>southeast</td>\n",
       "      <td>4449.46200</td>\n",
       "    </tr>\n",
       "    <tr>\n",
       "      <th>3</th>\n",
       "      <td>33</td>\n",
       "      <td>male</td>\n",
       "      <td>22.705</td>\n",
       "      <td>0</td>\n",
       "      <td>no</td>\n",
       "      <td>northwest</td>\n",
       "      <td>21984.47061</td>\n",
       "    </tr>\n",
       "    <tr>\n",
       "      <th>4</th>\n",
       "      <td>32</td>\n",
       "      <td>male</td>\n",
       "      <td>28.880</td>\n",
       "      <td>0</td>\n",
       "      <td>no</td>\n",
       "      <td>northwest</td>\n",
       "      <td>3866.85520</td>\n",
       "    </tr>\n",
       "  </tbody>\n",
       "</table>\n",
       "</div>"
      ],
      "text/plain": [
       "   age     sex     bmi  children smoker     region      charges\n",
       "0   19  female  27.900         0    yes  southwest  16884.92400\n",
       "1   18    male  33.770         1     no  southeast   1725.55230\n",
       "2   28    male  33.000         3     no  southeast   4449.46200\n",
       "3   33    male  22.705         0     no  northwest  21984.47061\n",
       "4   32    male  28.880         0     no  northwest   3866.85520"
      ]
     },
     "execution_count": 372,
     "metadata": {},
     "output_type": "execute_result"
    }
   ],
   "source": [
    "df=pd.read_csv('insurance.csv')\n",
    "df.head()"
   ]
  },
  {
   "cell_type": "code",
   "execution_count": 394,
   "id": "28a4632d",
   "metadata": {},
   "outputs": [
    {
     "name": "stdout",
     "output_type": "stream",
     "text": [
      "female_smokers 115\n",
      "male_smokers 159\n",
      "psm 23.5207100591716\n",
      "psf 17.39788199697428\n"
     ]
    }
   ],
   "source": [
    "# sex and smoker aretwo catagorical vairable \n",
    "# we wantto see proportaion of smokers in female is less than male\n",
    "\n",
    "#H0proportion are equal\n",
    "#H1 two proportion are notequel\n",
    "\n",
    "\n",
    "female_smokers=df[df['sex']=='female'].smoker.value_counts()[1]\n",
    "print('female_smokers',female_smokers)\n",
    "male_smokers=df[df['sex']=='male'].smoker.value_counts()[1]\n",
    "print('male_smokers',male_smokers)\n",
    "df.sex.value_counts()\n",
    "psm=159/676*100\n",
    "psf=115/661*100\n",
    "print('psm',psm)\n",
    "print('psf',psf)\n",
    "males=df.sex.value_counts()[0]\n",
    "females=males=df.sex.value_counts()[1]"
   ]
  },
  {
   "cell_type": "code",
   "execution_count": 400,
   "id": "46596397",
   "metadata": {},
   "outputs": [
    {
     "name": "stdout",
     "output_type": "stream",
     "text": [
      "-2.984879051899165 0.0028369047057782595\n"
     ]
    }
   ],
   "source": [
    "from statsmodels.stats.proportion import proportions_ztest\n",
    "stat,pvalue=proportions_ztest([female_smokers,male_smokers],[females,males])\n",
    "print(stat,pvalue)"
   ]
  },
  {
   "cell_type": "code",
   "execution_count": 2,
   "id": "343404a5",
   "metadata": {},
   "outputs": [
    {
     "name": "stdout",
     "output_type": "stream",
     "text": [
      "t-statistic: -0.35359086434617987\n",
      "p-value: 0.7289136186068217\n"
     ]
    }
   ],
   "source": [
    "import numpy as np\n",
    "from scipy.stats import ttest_ind\n",
    "\n",
    "# Given data\n",
    "catalyst1 = np.array([91.50, 94.18, 92.18, 95.39, 91.79, 89.07, 94.72, 89.21])\n",
    "catalyst2 = np.array([89.19, 90.95, 90.46, 93.21, 97.19, 97.04, 91.07, 92.75])\n",
    "\n",
    "# Perform two-sample t-test\n",
    "t_statistic, p_value = ttest_ind(catalyst1, catalyst2)\n",
    "\n",
    "# Print results\n",
    "print(\"t-statistic:\", t_statistic)\n",
    "print(\"p-value:\", p_value)"
   ]
  },
  {
   "cell_type": "code",
   "execution_count": 407,
   "id": "c79deb58",
   "metadata": {},
   "outputs": [
    {
     "name": "stdout",
     "output_type": "stream",
     "text": [
      "44\n"
     ]
    }
   ],
   "source": [
    "def udf(x=20,y=2):\n",
    "    print(x*y)\n",
    "udf(22,2)"
   ]
  },
  {
   "cell_type": "code",
   "execution_count": 422,
   "id": "4dd33766",
   "metadata": {},
   "outputs": [
    {
     "data": {
      "text/plain": [
       "array([0.35070682, 0.36594663, 0.73248003, 0.17665944, 0.93589025,\n",
       "       0.73157179, 0.4317458 , 0.55741709, 0.50218724, 0.48411437])"
      ]
     },
     "execution_count": 422,
     "metadata": {},
     "output_type": "execute_result"
    }
   ],
   "source": [
    "ab=np.random.random(10)\n",
    "ab\n"
   ]
  },
  {
   "cell_type": "code",
   "execution_count": 431,
   "id": "016b1ec5",
   "metadata": {},
   "outputs": [
    {
     "data": {
      "text/html": [
       "<div>\n",
       "<style scoped>\n",
       "    .dataframe tbody tr th:only-of-type {\n",
       "        vertical-align: middle;\n",
       "    }\n",
       "\n",
       "    .dataframe tbody tr th {\n",
       "        vertical-align: top;\n",
       "    }\n",
       "\n",
       "    .dataframe thead th {\n",
       "        text-align: right;\n",
       "    }\n",
       "</style>\n",
       "<table border=\"1\" class=\"dataframe\">\n",
       "  <thead>\n",
       "    <tr style=\"text-align: right;\">\n",
       "      <th></th>\n",
       "      <th>sex</th>\n",
       "      <th>smoker</th>\n",
       "      <th>day</th>\n",
       "      <th>time</th>\n",
       "      <th>size</th>\n",
       "    </tr>\n",
       "  </thead>\n",
       "  <tbody>\n",
       "    <tr>\n",
       "      <th>0</th>\n",
       "      <td>Female</td>\n",
       "      <td>No</td>\n",
       "      <td>Sun</td>\n",
       "      <td>Dinner</td>\n",
       "      <td>2</td>\n",
       "    </tr>\n",
       "    <tr>\n",
       "      <th>1</th>\n",
       "      <td>Male</td>\n",
       "      <td>No</td>\n",
       "      <td>Sun</td>\n",
       "      <td>Dinner</td>\n",
       "      <td>3</td>\n",
       "    </tr>\n",
       "    <tr>\n",
       "      <th>2</th>\n",
       "      <td>Male</td>\n",
       "      <td>No</td>\n",
       "      <td>Sun</td>\n",
       "      <td>Dinner</td>\n",
       "      <td>3</td>\n",
       "    </tr>\n",
       "    <tr>\n",
       "      <th>3</th>\n",
       "      <td>Male</td>\n",
       "      <td>No</td>\n",
       "      <td>Sun</td>\n",
       "      <td>Dinner</td>\n",
       "      <td>2</td>\n",
       "    </tr>\n",
       "    <tr>\n",
       "      <th>4</th>\n",
       "      <td>Female</td>\n",
       "      <td>No</td>\n",
       "      <td>Sun</td>\n",
       "      <td>Dinner</td>\n",
       "      <td>4</td>\n",
       "    </tr>\n",
       "    <tr>\n",
       "      <th>...</th>\n",
       "      <td>...</td>\n",
       "      <td>...</td>\n",
       "      <td>...</td>\n",
       "      <td>...</td>\n",
       "      <td>...</td>\n",
       "    </tr>\n",
       "    <tr>\n",
       "      <th>239</th>\n",
       "      <td>Male</td>\n",
       "      <td>No</td>\n",
       "      <td>Sat</td>\n",
       "      <td>Dinner</td>\n",
       "      <td>3</td>\n",
       "    </tr>\n",
       "    <tr>\n",
       "      <th>240</th>\n",
       "      <td>Female</td>\n",
       "      <td>Yes</td>\n",
       "      <td>Sat</td>\n",
       "      <td>Dinner</td>\n",
       "      <td>2</td>\n",
       "    </tr>\n",
       "    <tr>\n",
       "      <th>241</th>\n",
       "      <td>Male</td>\n",
       "      <td>Yes</td>\n",
       "      <td>Sat</td>\n",
       "      <td>Dinner</td>\n",
       "      <td>2</td>\n",
       "    </tr>\n",
       "    <tr>\n",
       "      <th>242</th>\n",
       "      <td>Male</td>\n",
       "      <td>No</td>\n",
       "      <td>Sat</td>\n",
       "      <td>Dinner</td>\n",
       "      <td>2</td>\n",
       "    </tr>\n",
       "    <tr>\n",
       "      <th>243</th>\n",
       "      <td>Female</td>\n",
       "      <td>No</td>\n",
       "      <td>Thur</td>\n",
       "      <td>Dinner</td>\n",
       "      <td>2</td>\n",
       "    </tr>\n",
       "  </tbody>\n",
       "</table>\n",
       "<p>244 rows × 5 columns</p>\n",
       "</div>"
      ],
      "text/plain": [
       "        sex smoker   day    time  size\n",
       "0    Female     No   Sun  Dinner     2\n",
       "1      Male     No   Sun  Dinner     3\n",
       "2      Male     No   Sun  Dinner     3\n",
       "3      Male     No   Sun  Dinner     2\n",
       "4    Female     No   Sun  Dinner     4\n",
       "..      ...    ...   ...     ...   ...\n",
       "239    Male     No   Sat  Dinner     3\n",
       "240  Female    Yes   Sat  Dinner     2\n",
       "241    Male    Yes   Sat  Dinner     2\n",
       "242    Male     No   Sat  Dinner     2\n",
       "243  Female     No  Thur  Dinner     2\n",
       "\n",
       "[244 rows x 5 columns]"
      ]
     },
     "execution_count": 431,
     "metadata": {},
     "output_type": "execute_result"
    }
   ],
   "source": [
    "df=sns.load_dataset('tips')\n",
    "df.drop([1,2])\n",
    "df.drop(columns=['total_bill','tip'])"
   ]
  },
  {
   "cell_type": "code",
   "execution_count": 439,
   "id": "0edb700c",
   "metadata": {},
   "outputs": [
    {
     "data": {
      "text/html": [
       "<div>\n",
       "<style scoped>\n",
       "    .dataframe tbody tr th:only-of-type {\n",
       "        vertical-align: middle;\n",
       "    }\n",
       "\n",
       "    .dataframe tbody tr th {\n",
       "        vertical-align: top;\n",
       "    }\n",
       "\n",
       "    .dataframe thead th {\n",
       "        text-align: right;\n",
       "    }\n",
       "</style>\n",
       "<table border=\"1\" class=\"dataframe\">\n",
       "  <thead>\n",
       "    <tr style=\"text-align: right;\">\n",
       "      <th></th>\n",
       "      <th>A</th>\n",
       "      <th>B</th>\n",
       "      <th>C</th>\n",
       "    </tr>\n",
       "  </thead>\n",
       "  <tbody>\n",
       "    <tr>\n",
       "      <th>0</th>\n",
       "      <td>1</td>\n",
       "      <td>4</td>\n",
       "      <td>7</td>\n",
       "    </tr>\n",
       "    <tr>\n",
       "      <th>1</th>\n",
       "      <td>2</td>\n",
       "      <td>5</td>\n",
       "      <td>8</td>\n",
       "    </tr>\n",
       "    <tr>\n",
       "      <th>2</th>\n",
       "      <td>3</td>\n",
       "      <td>6</td>\n",
       "      <td>9</td>\n",
       "    </tr>\n",
       "  </tbody>\n",
       "</table>\n",
       "</div>"
      ],
      "text/plain": [
       "   A  B  C\n",
       "0  1  4  7\n",
       "1  2  5  8\n",
       "2  3  6  9"
      ]
     },
     "execution_count": 439,
     "metadata": {},
     "output_type": "execute_result"
    }
   ],
   "source": [
    "df['rank']=df['tip'].rank(ascending=True)\n",
    "df\n",
    "# Create a DataFrame\n",
    "df1 = pd.DataFrame({'A': [1, 2, 3], 'B': [4, 5, 6], 'C': [7, 8, 9]})\n",
    "df1"
   ]
  },
  {
   "cell_type": "code",
   "execution_count": 444,
   "id": "40ad2782",
   "metadata": {},
   "outputs": [
    {
     "data": {
      "text/plain": [
       "'iten'"
      ]
     },
     "execution_count": 444,
     "metadata": {},
     "output_type": "execute_result"
    }
   ],
   "source": [
    "str1='jitendra'\n",
    "str1[1:5:1]"
   ]
  },
  {
   "cell_type": "code",
   "execution_count": 451,
   "id": "7738ea6b",
   "metadata": {},
   "outputs": [
    {
     "name": "stdout",
     "output_type": "stream",
     "text": [
      "15\n",
      "[2, 4, 8, 10]\n"
     ]
    }
   ],
   "source": [
    "abc=[1,2,3,4,5,8,9,10]\n",
    "square=list(map(lambda x: x**2,abc))\n",
    "square\n",
    "from functools import reduce\n",
    "# Compute the sum of elements in a list\n",
    "numbers = [1, 2, 3, 4, 5]\n",
    "total = reduce(lambda x, y: x + y, numbers)\n",
    "print(total)  # Output: 15\n",
    "\n",
    "\n",
    "result=list(filter(lambda x:x%2==0,abc))\n",
    "print(result)"
   ]
  },
  {
   "cell_type": "code",
   "execution_count": 453,
   "id": "16146eff",
   "metadata": {},
   "outputs": [
    {
     "name": "stdout",
     "output_type": "stream",
     "text": [
      "Index(['Female', 'Male'], dtype='object')\n",
      "0    1\n",
      "1    0\n",
      "2    0\n",
      "3    1\n",
      "4    1\n",
      "dtype: int8\n",
      "gender\n",
      "Female    2\n",
      "Male      3\n",
      "dtype: int64\n"
     ]
    }
   ],
   "source": [
    "import pandas as pd\n",
    "\n",
    "# Create a DataFrame with categorical data\n",
    "data = {'gender': ['Male', 'Female', 'Female', 'Male', 'Male']}\n",
    "df = pd.DataFrame(data)\n",
    "\n",
    "# Convert 'gender' column to categorical data type\n",
    "df['gender'] = df['gender'].astype('category')\n",
    "\n",
    "# Display the categories and their codes\n",
    "print(df['gender'].cat.categories)  # Output: Index(['Female', 'Male'], dtype='object')\n",
    "print(df['gender'].cat.codes)        # Output: [1, 0, 0, 1, 1]\n",
    "\n",
    "# Perform group-by operation on categorical data\n",
    "grouped = df.groupby('gender').size()\n",
    "print(grouped)\n",
    "# Output:\n",
    "# gender\n",
    "# Female    2\n",
    "# Male      3\n",
    "# dtype: int64"
   ]
  },
  {
   "cell_type": "code",
   "execution_count": 460,
   "id": "55053d5a",
   "metadata": {},
   "outputs": [
    {
     "name": "stdout",
     "output_type": "stream",
     "text": [
      "0    1\n",
      "1    0\n",
      "2    1\n",
      "3    0\n",
      "dtype: int8\n"
     ]
    }
   ],
   "source": [
    "data={'gender':['male','female','male','female']}\n",
    "df=pd.DataFrame(data)\n",
    "df['gender']=df['gender'].astype('category')\n",
    "print(df['gender'].cat.codes)   "
   ]
  },
  {
   "cell_type": "code",
   "execution_count": 469,
   "id": "fcf13b92",
   "metadata": {},
   "outputs": [
    {
     "data": {
      "text/plain": [
       "array([[1, 2],\n",
       "       [3, 4],\n",
       "       [5, 6]])"
      ]
     },
     "execution_count": 469,
     "metadata": {},
     "output_type": "execute_result"
    }
   ],
   "source": [
    "arr1=np.array([1,2,3,4,5,6])\n",
    "arra2=arr1.reshape(3,2)\n",
    "arra2\n"
   ]
  },
  {
   "cell_type": "code",
   "execution_count": 477,
   "id": "e328106e",
   "metadata": {},
   "outputs": [
    {
     "data": {
      "text/plain": [
       "b    1\n",
       "c    2\n",
       "a    3\n",
       "d    4\n",
       "dtype: int64"
      ]
     },
     "execution_count": 477,
     "metadata": {},
     "output_type": "execute_result"
    }
   ],
   "source": [
    "s=pd.Series([3,1,2,4], index=['a','b','c','d'])\n",
    "s.sort_index()\n",
    "s.sort_values()"
   ]
  },
  {
   "cell_type": "code",
   "execution_count": 480,
   "id": "2ed77036",
   "metadata": {},
   "outputs": [
    {
     "ename": "AttributeError",
     "evalue": "'list' object has no attribute 'min'",
     "output_type": "error",
     "traceback": [
      "\u001b[1;31m---------------------------------------------------------------------------\u001b[0m",
      "\u001b[1;31mAttributeError\u001b[0m                            Traceback (most recent call last)",
      "Cell \u001b[1;32mIn[480], line 2\u001b[0m\n\u001b[0;32m      1\u001b[0m list1 \u001b[38;5;241m=\u001b[39m[[\u001b[38;5;241m20\u001b[39m,\u001b[38;5;241m25\u001b[39m,\u001b[38;5;241m30\u001b[39m],\u001b[38;5;241m24\u001b[39m,\u001b[38;5;241m56\u001b[39m,[\u001b[38;5;241m10\u001b[39m,\u001b[38;5;241m15\u001b[39m,\u001b[38;5;241m18\u001b[39m],[\u001b[38;5;241m12\u001b[39m,\u001b[38;5;241m45\u001b[39m,\u001b[38;5;241m20\u001b[39m],\u001b[38;5;241m35\u001b[39m,\u001b[38;5;241m20\u001b[39m,\u001b[38;5;241m23\u001b[39m,\u001b[38;5;241m28\u001b[39m]\n\u001b[1;32m----> 2\u001b[0m list1\u001b[38;5;241m.\u001b[39mmin()\n",
      "\u001b[1;31mAttributeError\u001b[0m: 'list' object has no attribute 'min'"
     ]
    }
   ],
   "source": [
    "list1 =[[20,25,30],24,56,[10,15,18],[12,45,20],35,20,23,28]\n",
    "list1.min()"
   ]
  },
  {
   "cell_type": "code",
   "execution_count": 487,
   "id": "8aebbb7d",
   "metadata": {},
   "outputs": [
    {
     "data": {
      "text/html": [
       "<div>\n",
       "<style scoped>\n",
       "    .dataframe tbody tr th:only-of-type {\n",
       "        vertical-align: middle;\n",
       "    }\n",
       "\n",
       "    .dataframe tbody tr th {\n",
       "        vertical-align: top;\n",
       "    }\n",
       "\n",
       "    .dataframe thead th {\n",
       "        text-align: right;\n",
       "    }\n",
       "</style>\n",
       "<table border=\"1\" class=\"dataframe\">\n",
       "  <thead>\n",
       "    <tr style=\"text-align: right;\">\n",
       "      <th></th>\n",
       "      <th>A</th>\n",
       "      <th>B</th>\n",
       "    </tr>\n",
       "  </thead>\n",
       "  <tbody>\n",
       "    <tr>\n",
       "      <th>a</th>\n",
       "      <td>1</td>\n",
       "      <td>4</td>\n",
       "    </tr>\n",
       "    <tr>\n",
       "      <th>b</th>\n",
       "      <td>2</td>\n",
       "      <td>5</td>\n",
       "    </tr>\n",
       "    <tr>\n",
       "      <th>c</th>\n",
       "      <td>3</td>\n",
       "      <td>6</td>\n",
       "    </tr>\n",
       "  </tbody>\n",
       "</table>\n",
       "</div>"
      ],
      "text/plain": [
       "   A  B\n",
       "a  1  4\n",
       "b  2  5\n",
       "c  3  6"
      ]
     },
     "execution_count": 487,
     "metadata": {},
     "output_type": "execute_result"
    }
   ],
   "source": [
    "import pandas as pd\n",
    "\n",
    "# Create a DataFrame\n",
    "df = pd.DataFrame({'A': [1, 2, 3], 'B': [4, 5, 6]}, index=['a', 'b', 'c'])\n",
    "df\n"
   ]
  },
  {
   "cell_type": "code",
   "execution_count": 492,
   "id": "388388c9",
   "metadata": {},
   "outputs": [
    {
     "name": "stdout",
     "output_type": "stream",
     "text": [
      "   A\n",
      "a  1\n"
     ]
    }
   ],
   "source": [
    "# Select a single row by label\n",
    "print(df.loc[['a'],['A']])"
   ]
  },
  {
   "cell_type": "code",
   "execution_count": 495,
   "id": "1a876b80",
   "metadata": {},
   "outputs": [
    {
     "data": {
      "text/html": [
       "<div>\n",
       "<style scoped>\n",
       "    .dataframe tbody tr th:only-of-type {\n",
       "        vertical-align: middle;\n",
       "    }\n",
       "\n",
       "    .dataframe tbody tr th {\n",
       "        vertical-align: top;\n",
       "    }\n",
       "\n",
       "    .dataframe thead th {\n",
       "        text-align: right;\n",
       "    }\n",
       "</style>\n",
       "<table border=\"1\" class=\"dataframe\">\n",
       "  <thead>\n",
       "    <tr style=\"text-align: right;\">\n",
       "      <th></th>\n",
       "      <th>A</th>\n",
       "      <th>B</th>\n",
       "    </tr>\n",
       "  </thead>\n",
       "  <tbody>\n",
       "    <tr>\n",
       "      <th>a</th>\n",
       "      <td>1</td>\n",
       "      <td>4</td>\n",
       "    </tr>\n",
       "    <tr>\n",
       "      <th>b</th>\n",
       "      <td>2</td>\n",
       "      <td>5</td>\n",
       "    </tr>\n",
       "    <tr>\n",
       "      <th>c</th>\n",
       "      <td>3</td>\n",
       "      <td>6</td>\n",
       "    </tr>\n",
       "  </tbody>\n",
       "</table>\n",
       "</div>"
      ],
      "text/plain": [
       "   A  B\n",
       "a  1  4\n",
       "b  2  5\n",
       "c  3  6"
      ]
     },
     "execution_count": 495,
     "metadata": {},
     "output_type": "execute_result"
    }
   ],
   "source": [
    "import pandas as pd\n",
    "\n",
    "# Create a DataFrame\n",
    "df = pd.DataFrame({'A': [1, 2, 3], 'B': [4, 5, 6]}, index=['a', 'b', 'c'])\n",
    "df\n"
   ]
  },
  {
   "cell_type": "code",
   "execution_count": 496,
   "id": "d688469e",
   "metadata": {},
   "outputs": [
    {
     "name": "stdout",
     "output_type": "stream",
     "text": [
      "A    1\n",
      "B    4\n",
      "Name: a, dtype: int64\n"
     ]
    }
   ],
   "source": [
    "# Select a single row by integer position\n",
    "print(df.iloc[0])\n"
   ]
  },
  {
   "cell_type": "code",
   "execution_count": 498,
   "id": "96150be3",
   "metadata": {},
   "outputs": [
    {
     "name": "stdout",
     "output_type": "stream",
     "text": [
      "   A  B\n",
      "a  1  4\n",
      "b  2  5\n"
     ]
    }
   ],
   "source": [
    "\n",
    "# Select multiple rows and columns by integer position\n",
    "print(df.iloc[0:2, 0:2])\n",
    "\n"
   ]
  },
  {
   "cell_type": "code",
   "execution_count": 508,
   "id": "2cf755ff",
   "metadata": {},
   "outputs": [
    {
     "name": "stdout",
     "output_type": "stream",
     "text": [
      "(array([2, 3, 4], dtype=int64),)\n",
      "0    0\n",
      "1    0\n",
      "2    3\n",
      "3    4\n",
      "4    5\n",
      "dtype: int64\n"
     ]
    }
   ],
   "source": [
    "ar=np.array([1,2,3,4,5])\n",
    "x=np.where(ar>2)\n",
    "print(x)\n",
    "se=pd.Series([1,2,3,4,5])\n",
    "se1=se.where(se>2,other=0)\n",
    "print(se1)"
   ]
  },
  {
   "cell_type": "code",
   "execution_count": 510,
   "id": "8e86fbb8",
   "metadata": {},
   "outputs": [
    {
     "data": {
      "text/plain": [
       "{'a': 2, 'b': 2, 'c': 3}"
      ]
     },
     "execution_count": 510,
     "metadata": {},
     "output_type": "execute_result"
    }
   ],
   "source": [
    "my_dict = {'a': 1, 'b': 2, 'c': 3}\n",
    "my_dict['a']=2\n",
    "my_dict"
   ]
  },
  {
   "cell_type": "code",
   "execution_count": 516,
   "id": "34ac21dd",
   "metadata": {},
   "outputs": [
    {
     "data": {
      "text/plain": [
       "array([[1., 0., 0.],\n",
       "       [0., 1., 0.],\n",
       "       [0., 0., 1.]])"
      ]
     },
     "execution_count": 516,
     "metadata": {},
     "output_type": "execute_result"
    }
   ],
   "source": [
    "# whati s anonymous function in Python\n",
    "\n",
    "\n",
    "\n",
    "imetrix=np.eye(3)\n",
    "imetrix"
   ]
  },
  {
   "cell_type": "code",
   "execution_count": 518,
   "id": "d8c23122",
   "metadata": {},
   "outputs": [
    {
     "data": {
      "text/plain": [
       "array([[ 0,  1,  2,  3],\n",
       "       [ 4,  5,  6,  7],\n",
       "       [ 8,  9, 10, 11]])"
      ]
     },
     "execution_count": 518,
     "metadata": {},
     "output_type": "execute_result"
    }
   ],
   "source": [
    "arr = np.arange(12)\n",
    "arr.reshape(3,4)\n"
   ]
  },
  {
   "cell_type": "code",
   "execution_count": 529,
   "id": "a6b2fded",
   "metadata": {},
   "outputs": [
    {
     "data": {
      "text/plain": [
       "<function matplotlib.pyplot.show(close=None, block=None)>"
      ]
     },
     "execution_count": 529,
     "metadata": {},
     "output_type": "execute_result"
    },
    {
     "data": {
      "image/png": "[encoded data removed]",
      "text/plain": [
       "<Figure size 640x480 with 1 Axes>"
      ]
     },
     "metadata": {},
     "output_type": "display_data"
    }
   ],
   "source": [
    "import matplotlib.pyplot as plt\n",
    "abc=np.random.randn(1000)\n",
    "plt.hist(abc,edgecolor='black')\n",
    "plt.show"
   ]
  },
  {
   "cell_type": "code",
   "execution_count": 534,
   "id": "d6b81815",
   "metadata": {},
   "outputs": [
    {
     "data": {
      "text/plain": [
       "<Axes: ylabel='Count'>"
      ]
     },
     "execution_count": 534,
     "metadata": {},
     "output_type": "execute_result"
    },
    {
     "data": {
      "image/png": "[encoded data removed]",
      "text/plain": [
       "<Figure size 640x480 with 1 Axes>"
      ]
     },
     "metadata": {},
     "output_type": "display_data"
    }
   ],
   "source": [
    "sns.histplot(abc,kde=True)"
   ]
  },
  {
   "cell_type": "code",
   "execution_count": 537,
   "id": "04a080a6",
   "metadata": {},
   "outputs": [
    {
     "name": "stdout",
     "output_type": "stream",
     "text": [
      "3\n"
     ]
    }
   ],
   "source": [
    "float_num = 3.14\n",
    "int_num = int(float_num)\n",
    "print(int_num)\n"
   ]
  },
  {
   "cell_type": "code",
   "execution_count": 540,
   "id": "9a526e8f",
   "metadata": {},
   "outputs": [
    {
     "data": {
      "text/plain": [
       "[]"
      ]
     },
     "execution_count": 540,
     "metadata": {},
     "output_type": "execute_result"
    }
   ],
   "source": [
    "list1=[1,2,3,4,5]\n",
    "list1.clear()\n",
    "list1"
   ]
  },
  {
   "cell_type": "code",
   "execution_count": 543,
   "id": "0505a784",
   "metadata": {},
   "outputs": [
    {
     "data": {
      "text/plain": [
       "[2, 3, 4, 5]"
      ]
     },
     "execution_count": 543,
     "metadata": {},
     "output_type": "execute_result"
    }
   ],
   "source": [
    "\n",
    "list1=[1,2,3,4,5]\n",
    "del(list1[0])\n",
    "list1"
   ]
  },
  {
   "cell_type": "code",
   "execution_count": 548,
   "id": "dc8db1bd",
   "metadata": {},
   "outputs": [
    {
     "data": {
      "text/plain": [
       "3"
      ]
     },
     "execution_count": 548,
     "metadata": {},
     "output_type": "execute_result"
    }
   ],
   "source": [
    "list1=[1,2,3,4,5]\n",
    "list1.remove(3)\n",
    "list1\n",
    "\n",
    "my_list = [1, 2, 3, 4, 5]\n",
    "popped_item = my_list.pop(2)  # Remove and return item at index 2\n",
    "popped_item\n"
   ]
  },
  {
   "cell_type": "code",
   "execution_count": 552,
   "id": "63aca25c",
   "metadata": {},
   "outputs": [
    {
     "data": {
      "text/html": [
       "<div>\n",
       "<style scoped>\n",
       "    .dataframe tbody tr th:only-of-type {\n",
       "        vertical-align: middle;\n",
       "    }\n",
       "\n",
       "    .dataframe tbody tr th {\n",
       "        vertical-align: top;\n",
       "    }\n",
       "\n",
       "    .dataframe thead th {\n",
       "        text-align: right;\n",
       "    }\n",
       "</style>\n",
       "<table border=\"1\" class=\"dataframe\">\n",
       "  <thead>\n",
       "    <tr style=\"text-align: right;\">\n",
       "      <th></th>\n",
       "      <th>A</th>\n",
       "      <th>B</th>\n",
       "    </tr>\n",
       "  </thead>\n",
       "  <tbody>\n",
       "    <tr>\n",
       "      <th>0</th>\n",
       "      <td>1</td>\n",
       "      <td>4</td>\n",
       "    </tr>\n",
       "    <tr>\n",
       "      <th>1</th>\n",
       "      <td>2</td>\n",
       "      <td>5</td>\n",
       "    </tr>\n",
       "    <tr>\n",
       "      <th>2</th>\n",
       "      <td>3</td>\n",
       "      <td>6</td>\n",
       "    </tr>\n",
       "  </tbody>\n",
       "</table>\n",
       "</div>"
      ],
      "text/plain": [
       "   A  B\n",
       "0  1  4\n",
       "1  2  5\n",
       "2  3  6"
      ]
     },
     "execution_count": 552,
     "metadata": {},
     "output_type": "execute_result"
    }
   ],
   "source": [
    "df = pd.DataFrame({'A': [1, 2, 3], 'B': [4, 5, 6]})\n",
    "df\n"
   ]
  },
  {
   "cell_type": "code",
   "execution_count": 555,
   "id": "e0595b96",
   "metadata": {},
   "outputs": [
    {
     "data": {
      "text/plain": [
       "0  A    1\n",
       "   B    4\n",
       "1  A    2\n",
       "   B    5\n",
       "2  A    3\n",
       "   B    6\n",
       "dtype: int64"
      ]
     },
     "execution_count": 555,
     "metadata": {},
     "output_type": "execute_result"
    }
   ],
   "source": [
    "df1=df.stack()\n",
    "df1"
   ]
  },
  {
   "cell_type": "code",
   "execution_count": 561,
   "id": "7f404305",
   "metadata": {},
   "outputs": [
    {
     "data": {
      "text/html": [
       "<div>\n",
       "<style scoped>\n",
       "    .dataframe tbody tr th:only-of-type {\n",
       "        vertical-align: middle;\n",
       "    }\n",
       "\n",
       "    .dataframe tbody tr th {\n",
       "        vertical-align: top;\n",
       "    }\n",
       "\n",
       "    .dataframe thead th {\n",
       "        text-align: right;\n",
       "    }\n",
       "</style>\n",
       "<table border=\"1\" class=\"dataframe\">\n",
       "  <thead>\n",
       "    <tr style=\"text-align: right;\">\n",
       "      <th></th>\n",
       "      <th>A</th>\n",
       "      <th>B</th>\n",
       "      <th>C</th>\n",
       "      <th>D</th>\n",
       "    </tr>\n",
       "  </thead>\n",
       "  <tbody>\n",
       "    <tr>\n",
       "      <th>0</th>\n",
       "      <td>foo</td>\n",
       "      <td>one</td>\n",
       "      <td>small</td>\n",
       "      <td>1</td>\n",
       "    </tr>\n",
       "    <tr>\n",
       "      <th>1</th>\n",
       "      <td>foo</td>\n",
       "      <td>one</td>\n",
       "      <td>large</td>\n",
       "      <td>2</td>\n",
       "    </tr>\n",
       "    <tr>\n",
       "      <th>2</th>\n",
       "      <td>foo</td>\n",
       "      <td>two</td>\n",
       "      <td>large</td>\n",
       "      <td>2</td>\n",
       "    </tr>\n",
       "    <tr>\n",
       "      <th>3</th>\n",
       "      <td>bar</td>\n",
       "      <td>two</td>\n",
       "      <td>small</td>\n",
       "      <td>3</td>\n",
       "    </tr>\n",
       "    <tr>\n",
       "      <th>4</th>\n",
       "      <td>bar</td>\n",
       "      <td>one</td>\n",
       "      <td>small</td>\n",
       "      <td>3</td>\n",
       "    </tr>\n",
       "    <tr>\n",
       "      <th>5</th>\n",
       "      <td>bar</td>\n",
       "      <td>one</td>\n",
       "      <td>large</td>\n",
       "      <td>4</td>\n",
       "    </tr>\n",
       "  </tbody>\n",
       "</table>\n",
       "</div>"
      ],
      "text/plain": [
       "     A    B      C  D\n",
       "0  foo  one  small  1\n",
       "1  foo  one  large  2\n",
       "2  foo  two  large  2\n",
       "3  bar  two  small  3\n",
       "4  bar  one  small  3\n",
       "5  bar  one  large  4"
      ]
     },
     "execution_count": 561,
     "metadata": {},
     "output_type": "execute_result"
    }
   ],
   "source": [
    "df = pd.DataFrame({'A': ['foo', 'foo', 'foo', 'bar', 'bar', 'bar'],\n",
    "                   'B': ['one', 'one', 'two', 'two', 'one', 'one'],\n",
    "                   'C': ['small', 'large', 'large', 'small', 'small', 'large'],\n",
    "                   'D': [1, 2, 2, 3, 3, 4]})\n",
    "df"
   ]
  },
  {
   "cell_type": "code",
   "execution_count": 562,
   "id": "b045a5f1",
   "metadata": {},
   "outputs": [
    {
     "data": {
      "text/html": [
       "<div>\n",
       "<style scoped>\n",
       "    .dataframe tbody tr th:only-of-type {\n",
       "        vertical-align: middle;\n",
       "    }\n",
       "\n",
       "    .dataframe tbody tr th {\n",
       "        vertical-align: top;\n",
       "    }\n",
       "\n",
       "    .dataframe thead th {\n",
       "        text-align: right;\n",
       "    }\n",
       "</style>\n",
       "<table border=\"1\" class=\"dataframe\">\n",
       "  <thead>\n",
       "    <tr style=\"text-align: right;\">\n",
       "      <th></th>\n",
       "      <th>C</th>\n",
       "      <th>large</th>\n",
       "      <th>small</th>\n",
       "    </tr>\n",
       "    <tr>\n",
       "      <th>A</th>\n",
       "      <th>B</th>\n",
       "      <th></th>\n",
       "      <th></th>\n",
       "    </tr>\n",
       "  </thead>\n",
       "  <tbody>\n",
       "    <tr>\n",
       "      <th rowspan=\"2\" valign=\"top\">bar</th>\n",
       "      <th>one</th>\n",
       "      <td>4.0</td>\n",
       "      <td>3.0</td>\n",
       "    </tr>\n",
       "    <tr>\n",
       "      <th>two</th>\n",
       "      <td>NaN</td>\n",
       "      <td>3.0</td>\n",
       "    </tr>\n",
       "    <tr>\n",
       "      <th rowspan=\"2\" valign=\"top\">foo</th>\n",
       "      <th>one</th>\n",
       "      <td>2.0</td>\n",
       "      <td>1.0</td>\n",
       "    </tr>\n",
       "    <tr>\n",
       "      <th>two</th>\n",
       "      <td>2.0</td>\n",
       "      <td>NaN</td>\n",
       "    </tr>\n",
       "  </tbody>\n",
       "</table>\n",
       "</div>"
      ],
      "text/plain": [
       "C        large  small\n",
       "A   B                \n",
       "bar one    4.0    3.0\n",
       "    two    NaN    3.0\n",
       "foo one    2.0    1.0\n",
       "    two    2.0    NaN"
      ]
     },
     "execution_count": 562,
     "metadata": {},
     "output_type": "execute_result"
    }
   ],
   "source": [
    "pdf=df.pivot_table(index=['A','B'],columns='C',values='D',aggfunc='mean')\n",
    "pdf"
   ]
  },
  {
   "cell_type": "code",
   "execution_count": 567,
   "id": "c03adcf6",
   "metadata": {},
   "outputs": [
    {
     "data": {
      "text/plain": [
       "array([[1, 2],\n",
       "       [3, 4],\n",
       "       [5, 6],\n",
       "       [7, 8]])"
      ]
     },
     "execution_count": 567,
     "metadata": {},
     "output_type": "execute_result"
    }
   ],
   "source": [
    "import numpy as np\n",
    "\n",
    "arr1 = np.array([[1, 2], [3, 4]])\n",
    "arr2 = np.array([[5, 6], [7, 8]])\n",
    "\n",
    "hstacked_arr = np.hstack((arr1, arr2))\n",
    "hstacked_arr\n",
    "vstacked_arr = np.vstack((arr1, arr2))\n",
    "vstacked_arr"
   ]
  },
  {
   "cell_type": "code",
   "execution_count": 569,
   "id": "11d90cd9",
   "metadata": {},
   "outputs": [
    {
     "data": {
      "text/plain": [
       "array([[1, 2, 5, 6],\n",
       "       [3, 4, 7, 8]])"
      ]
     },
     "execution_count": 569,
     "metadata": {},
     "output_type": "execute_result"
    }
   ],
   "source": [
    "hstacked_arr\n"
   ]
  },
  {
   "cell_type": "code",
   "execution_count": 582,
   "id": "7c09b607",
   "metadata": {},
   "outputs": [
    {
     "data": {
      "text/html": [
       "<div>\n",
       "<style scoped>\n",
       "    .dataframe tbody tr th:only-of-type {\n",
       "        vertical-align: middle;\n",
       "    }\n",
       "\n",
       "    .dataframe tbody tr th {\n",
       "        vertical-align: top;\n",
       "    }\n",
       "\n",
       "    .dataframe thead th {\n",
       "        text-align: right;\n",
       "    }\n",
       "</style>\n",
       "<table border=\"1\" class=\"dataframe\">\n",
       "  <thead>\n",
       "    <tr style=\"text-align: right;\">\n",
       "      <th></th>\n",
       "      <th>A</th>\n",
       "      <th>B</th>\n",
       "      <th>rankavg</th>\n",
       "    </tr>\n",
       "  </thead>\n",
       "  <tbody>\n",
       "    <tr>\n",
       "      <th>0</th>\n",
       "      <td>1</td>\n",
       "      <td>7</td>\n",
       "      <td>1.0</td>\n",
       "    </tr>\n",
       "    <tr>\n",
       "      <th>1</th>\n",
       "      <td>3</td>\n",
       "      <td>8</td>\n",
       "      <td>2.5</td>\n",
       "    </tr>\n",
       "    <tr>\n",
       "      <th>2</th>\n",
       "      <td>3</td>\n",
       "      <td>4</td>\n",
       "      <td>2.5</td>\n",
       "    </tr>\n",
       "    <tr>\n",
       "      <th>3</th>\n",
       "      <td>4</td>\n",
       "      <td>5</td>\n",
       "      <td>4.0</td>\n",
       "    </tr>\n",
       "  </tbody>\n",
       "</table>\n",
       "</div>"
      ],
      "text/plain": [
       "   A  B  rankavg\n",
       "0  1  7      1.0\n",
       "1  3  8      2.5\n",
       "2  3  4      2.5\n",
       "3  4  5      4.0"
      ]
     },
     "execution_count": 582,
     "metadata": {},
     "output_type": "execute_result"
    }
   ],
   "source": [
    "import pandas as pd\n",
    "\n",
    "data = {'A': [3, 1, 2, 2, 5]}\n",
    "df = pd.DataFrame(data)\n",
    "\n",
    "df['Rank'] = df['A'].rank()\n",
    "\n",
    "\n",
    "data=pd.DataFrame({'A':[1,3,3,4],'B':[7,8,4,5]})\n",
    "data['rankavg']=data.A.rank()\n",
    "data"
   ]
  },
  {
   "cell_type": "code",
   "execution_count": 587,
   "id": "42ce1290",
   "metadata": {},
   "outputs": [
    {
     "data": {
      "text/html": [
       "<div>\n",
       "<style scoped>\n",
       "    .dataframe tbody tr th:only-of-type {\n",
       "        vertical-align: middle;\n",
       "    }\n",
       "\n",
       "    .dataframe tbody tr th {\n",
       "        vertical-align: top;\n",
       "    }\n",
       "\n",
       "    .dataframe thead th {\n",
       "        text-align: right;\n",
       "    }\n",
       "</style>\n",
       "<table border=\"1\" class=\"dataframe\">\n",
       "  <thead>\n",
       "    <tr style=\"text-align: right;\">\n",
       "      <th></th>\n",
       "      <th>A</th>\n",
       "      <th>B</th>\n",
       "      <th>rankmin</th>\n",
       "    </tr>\n",
       "  </thead>\n",
       "  <tbody>\n",
       "    <tr>\n",
       "      <th>0</th>\n",
       "      <td>1</td>\n",
       "      <td>7</td>\n",
       "      <td>1.0</td>\n",
       "    </tr>\n",
       "    <tr>\n",
       "      <th>1</th>\n",
       "      <td>3</td>\n",
       "      <td>8</td>\n",
       "      <td>2.0</td>\n",
       "    </tr>\n",
       "    <tr>\n",
       "      <th>2</th>\n",
       "      <td>3</td>\n",
       "      <td>4</td>\n",
       "      <td>2.0</td>\n",
       "    </tr>\n",
       "    <tr>\n",
       "      <th>3</th>\n",
       "      <td>4</td>\n",
       "      <td>5</td>\n",
       "      <td>4.0</td>\n",
       "    </tr>\n",
       "  </tbody>\n",
       "</table>\n",
       "</div>"
      ],
      "text/plain": [
       "   A  B  rankmin\n",
       "0  1  7      1.0\n",
       "1  3  8      2.0\n",
       "2  3  4      2.0\n",
       "3  4  5      4.0"
      ]
     },
     "execution_count": 587,
     "metadata": {},
     "output_type": "execute_result"
    }
   ],
   "source": [
    "data=pd.DataFrame({'A':[1,3,3,4],'B':[7,8,4,5]})\n",
    "data['rankmin']=data.A.rank(method='min')\n",
    "data"
   ]
  },
  {
   "cell_type": "code",
   "execution_count": 591,
   "id": "469b8013",
   "metadata": {},
   "outputs": [
    {
     "data": {
      "text/html": [
       "<div>\n",
       "<style scoped>\n",
       "    .dataframe tbody tr th:only-of-type {\n",
       "        vertical-align: middle;\n",
       "    }\n",
       "\n",
       "    .dataframe tbody tr th {\n",
       "        vertical-align: top;\n",
       "    }\n",
       "\n",
       "    .dataframe thead th {\n",
       "        text-align: right;\n",
       "    }\n",
       "</style>\n",
       "<table border=\"1\" class=\"dataframe\">\n",
       "  <thead>\n",
       "    <tr style=\"text-align: right;\">\n",
       "      <th></th>\n",
       "      <th>A</th>\n",
       "      <th>B</th>\n",
       "      <th>rankmax</th>\n",
       "    </tr>\n",
       "  </thead>\n",
       "  <tbody>\n",
       "    <tr>\n",
       "      <th>0</th>\n",
       "      <td>1</td>\n",
       "      <td>7</td>\n",
       "      <td>1.0</td>\n",
       "    </tr>\n",
       "    <tr>\n",
       "      <th>1</th>\n",
       "      <td>3</td>\n",
       "      <td>8</td>\n",
       "      <td>2.0</td>\n",
       "    </tr>\n",
       "    <tr>\n",
       "      <th>2</th>\n",
       "      <td>3</td>\n",
       "      <td>4</td>\n",
       "      <td>2.0</td>\n",
       "    </tr>\n",
       "    <tr>\n",
       "      <th>3</th>\n",
       "      <td>4</td>\n",
       "      <td>5</td>\n",
       "      <td>3.0</td>\n",
       "    </tr>\n",
       "  </tbody>\n",
       "</table>\n",
       "</div>"
      ],
      "text/plain": [
       "   A  B  rankmax\n",
       "0  1  7      1.0\n",
       "1  3  8      2.0\n",
       "2  3  4      2.0\n",
       "3  4  5      3.0"
      ]
     },
     "execution_count": 591,
     "metadata": {},
     "output_type": "execute_result"
    }
   ],
   "source": [
    "data=pd.DataFrame({'A':[1,3,3,4],'B':[7,8,4,5]})\n",
    "data['rankmax']=data.A.rank(method='dense')\n",
    "data"
   ]
  },
  {
   "cell_type": "code",
   "execution_count": 598,
   "id": "6c93a81a",
   "metadata": {},
   "outputs": [
    {
     "data": {
      "text/plain": [
       "total_bill    244\n",
       "tip           244\n",
       "sex           244\n",
       "smoker        244\n",
       "day           244\n",
       "time          244\n",
       "size          244\n",
       "dtype: int64"
      ]
     },
     "execution_count": 598,
     "metadata": {},
     "output_type": "execute_result"
    }
   ],
   "source": [
    "\n",
    "df=sns.load_dataset('tips')\n",
    "df.isna().count()\n"
   ]
  },
  {
   "cell_type": "code",
   "execution_count": 600,
   "id": "f8664695",
   "metadata": {},
   "outputs": [
    {
     "data": {
      "text/plain": [
       "total_bill    244\n",
       "tip           244\n",
       "sex           244\n",
       "smoker        244\n",
       "day           244\n",
       "time          244\n",
       "size          244\n",
       "dtype: int64"
      ]
     },
     "execution_count": 600,
     "metadata": {},
     "output_type": "execute_result"
    }
   ],
   "source": [
    "df.isnull().count()\n"
   ]
  },
  {
   "cell_type": "code",
   "execution_count": 603,
   "id": "ef88f838",
   "metadata": {},
   "outputs": [
    {
     "ename": "TypeError",
     "evalue": "Cannot setitem on a Categorical with a new category (1), set the categories first",
     "output_type": "error",
     "traceback": [
      "\u001b[1;31m---------------------------------------------------------------------------\u001b[0m",
      "\u001b[1;31mTypeError\u001b[0m                                 Traceback (most recent call last)",
      "Cell \u001b[1;32mIn[603], line 2\u001b[0m\n\u001b[0;32m      1\u001b[0m df\u001b[38;5;241m.\u001b[39mdropna(inplace\u001b[38;5;241m=\u001b[39m\u001b[38;5;28;01mTrue\u001b[39;00m)\n\u001b[1;32m----> 2\u001b[0m df\u001b[38;5;241m.\u001b[39mfillna(\u001b[38;5;241m1\u001b[39m,inplace\u001b[38;5;241m=\u001b[39m\u001b[38;5;28;01mTrue\u001b[39;00m)\n",
      "File \u001b[1;32mC:\\Program Files\\conda\\Lib\\site-packages\\pandas\\core\\frame.py:5493\u001b[0m, in \u001b[0;36mDataFrame.fillna\u001b[1;34m(self, value, method, axis, inplace, limit, downcast)\u001b[0m\n\u001b[0;32m   5482\u001b[0m \u001b[38;5;129m@doc\u001b[39m(NDFrame\u001b[38;5;241m.\u001b[39mfillna, \u001b[38;5;241m*\u001b[39m\u001b[38;5;241m*\u001b[39m_shared_doc_kwargs)\n\u001b[0;32m   5483\u001b[0m \u001b[38;5;28;01mdef\u001b[39;00m \u001b[38;5;21mfillna\u001b[39m(\n\u001b[0;32m   5484\u001b[0m     \u001b[38;5;28mself\u001b[39m,\n\u001b[1;32m   (...)\u001b[0m\n\u001b[0;32m   5491\u001b[0m     downcast: \u001b[38;5;28mdict\u001b[39m \u001b[38;5;241m|\u001b[39m \u001b[38;5;28;01mNone\u001b[39;00m \u001b[38;5;241m=\u001b[39m \u001b[38;5;28;01mNone\u001b[39;00m,\n\u001b[0;32m   5492\u001b[0m ) \u001b[38;5;241m-\u001b[39m\u001b[38;5;241m>\u001b[39m DataFrame \u001b[38;5;241m|\u001b[39m \u001b[38;5;28;01mNone\u001b[39;00m:\n\u001b[1;32m-> 5493\u001b[0m     \u001b[38;5;28;01mreturn\u001b[39;00m \u001b[38;5;28msuper\u001b[39m()\u001b[38;5;241m.\u001b[39mfillna(\n\u001b[0;32m   5494\u001b[0m         value\u001b[38;5;241m=\u001b[39mvalue,\n\u001b[0;32m   5495\u001b[0m         method\u001b[38;5;241m=\u001b[39mmethod,\n\u001b[0;32m   5496\u001b[0m         axis\u001b[38;5;241m=\u001b[39maxis,\n\u001b[0;32m   5497\u001b[0m         inplace\u001b[38;5;241m=\u001b[39minplace,\n\u001b[0;32m   5498\u001b[0m         limit\u001b[38;5;241m=\u001b[39mlimit,\n\u001b[0;32m   5499\u001b[0m         downcast\u001b[38;5;241m=\u001b[39mdowncast,\n\u001b[0;32m   5500\u001b[0m     )\n",
      "File \u001b[1;32mC:\\Program Files\\conda\\Lib\\site-packages\\pandas\\core\\generic.py:6983\u001b[0m, in \u001b[0;36mNDFrame.fillna\u001b[1;34m(self, value, method, axis, inplace, limit, downcast)\u001b[0m\n\u001b[0;32m   6981\u001b[0m         new_data \u001b[38;5;241m=\u001b[39m result\n\u001b[0;32m   6982\u001b[0m     \u001b[38;5;28;01melse\u001b[39;00m:\n\u001b[1;32m-> 6983\u001b[0m         new_data \u001b[38;5;241m=\u001b[39m \u001b[38;5;28mself\u001b[39m\u001b[38;5;241m.\u001b[39m_mgr\u001b[38;5;241m.\u001b[39mfillna(\n\u001b[0;32m   6984\u001b[0m             value\u001b[38;5;241m=\u001b[39mvalue, limit\u001b[38;5;241m=\u001b[39mlimit, inplace\u001b[38;5;241m=\u001b[39minplace, downcast\u001b[38;5;241m=\u001b[39mdowncast\n\u001b[0;32m   6985\u001b[0m         )\n\u001b[0;32m   6986\u001b[0m \u001b[38;5;28;01melif\u001b[39;00m \u001b[38;5;28misinstance\u001b[39m(value, ABCDataFrame) \u001b[38;5;129;01mand\u001b[39;00m \u001b[38;5;28mself\u001b[39m\u001b[38;5;241m.\u001b[39mndim \u001b[38;5;241m==\u001b[39m \u001b[38;5;241m2\u001b[39m:\n\u001b[0;32m   6987\u001b[0m     new_data \u001b[38;5;241m=\u001b[39m \u001b[38;5;28mself\u001b[39m\u001b[38;5;241m.\u001b[39mwhere(\u001b[38;5;28mself\u001b[39m\u001b[38;5;241m.\u001b[39mnotna(), value)\u001b[38;5;241m.\u001b[39m_mgr\n",
      "File \u001b[1;32mC:\\Program Files\\conda\\Lib\\site-packages\\pandas\\core\\internals\\managers.py:433\u001b[0m, in \u001b[0;36mBaseBlockManager.fillna\u001b[1;34m(self, value, limit, inplace, downcast)\u001b[0m\n\u001b[0;32m    429\u001b[0m \u001b[38;5;28;01mif\u001b[39;00m limit \u001b[38;5;129;01mis\u001b[39;00m \u001b[38;5;129;01mnot\u001b[39;00m \u001b[38;5;28;01mNone\u001b[39;00m:\n\u001b[0;32m    430\u001b[0m     \u001b[38;5;66;03m# Do this validation even if we go through one of the no-op paths\u001b[39;00m\n\u001b[0;32m    431\u001b[0m     limit \u001b[38;5;241m=\u001b[39m libalgos\u001b[38;5;241m.\u001b[39mvalidate_limit(\u001b[38;5;28;01mNone\u001b[39;00m, limit\u001b[38;5;241m=\u001b[39mlimit)\n\u001b[1;32m--> 433\u001b[0m \u001b[38;5;28;01mreturn\u001b[39;00m \u001b[38;5;28mself\u001b[39m\u001b[38;5;241m.\u001b[39mapply(\n\u001b[0;32m    434\u001b[0m     \u001b[38;5;124m\"\u001b[39m\u001b[38;5;124mfillna\u001b[39m\u001b[38;5;124m\"\u001b[39m,\n\u001b[0;32m    435\u001b[0m     value\u001b[38;5;241m=\u001b[39mvalue,\n\u001b[0;32m    436\u001b[0m     limit\u001b[38;5;241m=\u001b[39mlimit,\n\u001b[0;32m    437\u001b[0m     inplace\u001b[38;5;241m=\u001b[39minplace,\n\u001b[0;32m    438\u001b[0m     downcast\u001b[38;5;241m=\u001b[39mdowncast,\n\u001b[0;32m    439\u001b[0m     using_cow\u001b[38;5;241m=\u001b[39musing_copy_on_write(),\n\u001b[0;32m    440\u001b[0m )\n",
      "File \u001b[1;32mC:\\Program Files\\conda\\Lib\\site-packages\\pandas\\core\\internals\\managers.py:352\u001b[0m, in \u001b[0;36mBaseBlockManager.apply\u001b[1;34m(self, f, align_keys, **kwargs)\u001b[0m\n\u001b[0;32m    350\u001b[0m         applied \u001b[38;5;241m=\u001b[39m b\u001b[38;5;241m.\u001b[39mapply(f, \u001b[38;5;241m*\u001b[39m\u001b[38;5;241m*\u001b[39mkwargs)\n\u001b[0;32m    351\u001b[0m     \u001b[38;5;28;01melse\u001b[39;00m:\n\u001b[1;32m--> 352\u001b[0m         applied \u001b[38;5;241m=\u001b[39m \u001b[38;5;28mgetattr\u001b[39m(b, f)(\u001b[38;5;241m*\u001b[39m\u001b[38;5;241m*\u001b[39mkwargs)\n\u001b[0;32m    353\u001b[0m     result_blocks \u001b[38;5;241m=\u001b[39m extend_blocks(applied, result_blocks)\n\u001b[0;32m    355\u001b[0m out \u001b[38;5;241m=\u001b[39m \u001b[38;5;28mtype\u001b[39m(\u001b[38;5;28mself\u001b[39m)\u001b[38;5;241m.\u001b[39mfrom_blocks(result_blocks, \u001b[38;5;28mself\u001b[39m\u001b[38;5;241m.\u001b[39maxes)\n",
      "File \u001b[1;32mC:\\Program Files\\conda\\Lib\\site-packages\\pandas\\core\\internals\\blocks.py:1868\u001b[0m, in \u001b[0;36mExtensionBlock.fillna\u001b[1;34m(self, value, limit, inplace, downcast, using_cow)\u001b[0m\n\u001b[0;32m   1866\u001b[0m \u001b[38;5;28;01melse\u001b[39;00m:\n\u001b[0;32m   1867\u001b[0m     refs \u001b[38;5;241m=\u001b[39m \u001b[38;5;28;01mNone\u001b[39;00m\n\u001b[1;32m-> 1868\u001b[0m     new_values \u001b[38;5;241m=\u001b[39m \u001b[38;5;28mself\u001b[39m\u001b[38;5;241m.\u001b[39mvalues\u001b[38;5;241m.\u001b[39mfillna(value\u001b[38;5;241m=\u001b[39mvalue, method\u001b[38;5;241m=\u001b[39m\u001b[38;5;28;01mNone\u001b[39;00m, limit\u001b[38;5;241m=\u001b[39mlimit)\n\u001b[0;32m   1869\u001b[0m nb \u001b[38;5;241m=\u001b[39m \u001b[38;5;28mself\u001b[39m\u001b[38;5;241m.\u001b[39mmake_block_same_class(new_values, refs\u001b[38;5;241m=\u001b[39mrefs)\n\u001b[0;32m   1870\u001b[0m \u001b[38;5;28;01mreturn\u001b[39;00m nb\u001b[38;5;241m.\u001b[39m_maybe_downcast([nb], downcast, using_cow\u001b[38;5;241m=\u001b[39musing_cow)\n",
      "File \u001b[1;32mC:\\Program Files\\conda\\Lib\\site-packages\\pandas\\core\\arrays\\_mixins.py:328\u001b[0m, in \u001b[0;36mNDArrayBackedExtensionArray.fillna\u001b[1;34m(self, value, method, limit)\u001b[0m\n\u001b[0;32m    325\u001b[0m \u001b[38;5;28;01melse\u001b[39;00m:\n\u001b[0;32m    326\u001b[0m     \u001b[38;5;66;03m# We validate the fill_value even if there is nothing to fill\u001b[39;00m\n\u001b[0;32m    327\u001b[0m     \u001b[38;5;28;01mif\u001b[39;00m value \u001b[38;5;129;01mis\u001b[39;00m \u001b[38;5;129;01mnot\u001b[39;00m \u001b[38;5;28;01mNone\u001b[39;00m:\n\u001b[1;32m--> 328\u001b[0m         \u001b[38;5;28mself\u001b[39m\u001b[38;5;241m.\u001b[39m_validate_setitem_value(value)\n\u001b[0;32m    330\u001b[0m     new_values \u001b[38;5;241m=\u001b[39m \u001b[38;5;28mself\u001b[39m\u001b[38;5;241m.\u001b[39mcopy()\n\u001b[0;32m    331\u001b[0m \u001b[38;5;28;01mreturn\u001b[39;00m new_values\n",
      "File \u001b[1;32mC:\\Program Files\\conda\\Lib\\site-packages\\pandas\\core\\arrays\\categorical.py:1297\u001b[0m, in \u001b[0;36mCategorical._validate_setitem_value\u001b[1;34m(self, value)\u001b[0m\n\u001b[0;32m   1295\u001b[0m     \u001b[38;5;28;01mreturn\u001b[39;00m \u001b[38;5;28mself\u001b[39m\u001b[38;5;241m.\u001b[39m_validate_listlike(value)\n\u001b[0;32m   1296\u001b[0m \u001b[38;5;28;01melse\u001b[39;00m:\n\u001b[1;32m-> 1297\u001b[0m     \u001b[38;5;28;01mreturn\u001b[39;00m \u001b[38;5;28mself\u001b[39m\u001b[38;5;241m.\u001b[39m_validate_scalar(value)\n",
      "File \u001b[1;32mC:\\Program Files\\conda\\Lib\\site-packages\\pandas\\core\\arrays\\categorical.py:1322\u001b[0m, in \u001b[0;36mCategorical._validate_scalar\u001b[1;34m(self, fill_value)\u001b[0m\n\u001b[0;32m   1320\u001b[0m     fill_value \u001b[38;5;241m=\u001b[39m \u001b[38;5;28mself\u001b[39m\u001b[38;5;241m.\u001b[39m_unbox_scalar(fill_value)\n\u001b[0;32m   1321\u001b[0m \u001b[38;5;28;01melse\u001b[39;00m:\n\u001b[1;32m-> 1322\u001b[0m     \u001b[38;5;28;01mraise\u001b[39;00m \u001b[38;5;167;01mTypeError\u001b[39;00m(\n\u001b[0;32m   1323\u001b[0m         \u001b[38;5;124m\"\u001b[39m\u001b[38;5;124mCannot setitem on a Categorical with a new \u001b[39m\u001b[38;5;124m\"\u001b[39m\n\u001b[0;32m   1324\u001b[0m         \u001b[38;5;124mf\u001b[39m\u001b[38;5;124m\"\u001b[39m\u001b[38;5;124mcategory (\u001b[39m\u001b[38;5;132;01m{\u001b[39;00mfill_value\u001b[38;5;132;01m}\u001b[39;00m\u001b[38;5;124m), set the categories first\u001b[39m\u001b[38;5;124m\"\u001b[39m\n\u001b[0;32m   1325\u001b[0m     ) \u001b[38;5;28;01mfrom\u001b[39;00m \u001b[38;5;28;01mNone\u001b[39;00m\n\u001b[0;32m   1326\u001b[0m \u001b[38;5;28;01mreturn\u001b[39;00m fill_value\n",
      "\u001b[1;31mTypeError\u001b[0m: Cannot setitem on a Categorical with a new category (1), set the categories first"
     ]
    }
   ],
   "source": [
    "df.dropna(inplace=True)\n",
    "df.fillna(1,inplace=True)"
   ]
  },
  {
   "cell_type": "code",
   "execution_count": 606,
   "id": "5b365aa2",
   "metadata": {},
   "outputs": [
    {
     "data": {
      "text/html": [
       "<div>\n",
       "<style scoped>\n",
       "    .dataframe tbody tr th:only-of-type {\n",
       "        vertical-align: middle;\n",
       "    }\n",
       "\n",
       "    .dataframe tbody tr th {\n",
       "        vertical-align: top;\n",
       "    }\n",
       "\n",
       "    .dataframe thead th {\n",
       "        text-align: right;\n",
       "    }\n",
       "</style>\n",
       "<table border=\"1\" class=\"dataframe\">\n",
       "  <thead>\n",
       "    <tr style=\"text-align: right;\">\n",
       "      <th></th>\n",
       "      <th>A</th>\n",
       "    </tr>\n",
       "  </thead>\n",
       "  <tbody>\n",
       "    <tr>\n",
       "      <th>0</th>\n",
       "      <td>1.0</td>\n",
       "    </tr>\n",
       "    <tr>\n",
       "      <th>1</th>\n",
       "      <td>NaN</td>\n",
       "    </tr>\n",
       "    <tr>\n",
       "      <th>2</th>\n",
       "      <td>3.0</td>\n",
       "    </tr>\n",
       "    <tr>\n",
       "      <th>3</th>\n",
       "      <td>NaN</td>\n",
       "    </tr>\n",
       "    <tr>\n",
       "      <th>4</th>\n",
       "      <td>5.0</td>\n",
       "    </tr>\n",
       "  </tbody>\n",
       "</table>\n",
       "</div>"
      ],
      "text/plain": [
       "     A\n",
       "0  1.0\n",
       "1  NaN\n",
       "2  3.0\n",
       "3  NaN\n",
       "4  5.0"
      ]
     },
     "execution_count": 606,
     "metadata": {},
     "output_type": "execute_result"
    }
   ],
   "source": [
    "df = pd.DataFrame({'A': [1, None, 3, None, 5]})\n",
    "df"
   ]
  },
  {
   "cell_type": "code",
   "execution_count": 608,
   "id": "76106f42",
   "metadata": {},
   "outputs": [
    {
     "data": {
      "text/html": [
       "<div>\n",
       "<style scoped>\n",
       "    .dataframe tbody tr th:only-of-type {\n",
       "        vertical-align: middle;\n",
       "    }\n",
       "\n",
       "    .dataframe tbody tr th {\n",
       "        vertical-align: top;\n",
       "    }\n",
       "\n",
       "    .dataframe thead th {\n",
       "        text-align: right;\n",
       "    }\n",
       "</style>\n",
       "<table border=\"1\" class=\"dataframe\">\n",
       "  <thead>\n",
       "    <tr style=\"text-align: right;\">\n",
       "      <th></th>\n",
       "      <th>A</th>\n",
       "    </tr>\n",
       "  </thead>\n",
       "  <tbody>\n",
       "    <tr>\n",
       "      <th>0</th>\n",
       "      <td>1.0</td>\n",
       "    </tr>\n",
       "    <tr>\n",
       "      <th>1</th>\n",
       "      <td>1.0</td>\n",
       "    </tr>\n",
       "    <tr>\n",
       "      <th>2</th>\n",
       "      <td>3.0</td>\n",
       "    </tr>\n",
       "    <tr>\n",
       "      <th>3</th>\n",
       "      <td>3.0</td>\n",
       "    </tr>\n",
       "    <tr>\n",
       "      <th>4</th>\n",
       "      <td>5.0</td>\n",
       "    </tr>\n",
       "  </tbody>\n",
       "</table>\n",
       "</div>"
      ],
      "text/plain": [
       "     A\n",
       "0  1.0\n",
       "1  1.0\n",
       "2  3.0\n",
       "3  3.0\n",
       "4  5.0"
      ]
     },
     "execution_count": 608,
     "metadata": {},
     "output_type": "execute_result"
    }
   ],
   "source": [
    "df.ffill()\n"
   ]
  },
  {
   "cell_type": "code",
   "execution_count": 610,
   "id": "968d0bbb",
   "metadata": {},
   "outputs": [
    {
     "data": {
      "text/html": [
       "<div>\n",
       "<style scoped>\n",
       "    .dataframe tbody tr th:only-of-type {\n",
       "        vertical-align: middle;\n",
       "    }\n",
       "\n",
       "    .dataframe tbody tr th {\n",
       "        vertical-align: top;\n",
       "    }\n",
       "\n",
       "    .dataframe thead th {\n",
       "        text-align: right;\n",
       "    }\n",
       "</style>\n",
       "<table border=\"1\" class=\"dataframe\">\n",
       "  <thead>\n",
       "    <tr style=\"text-align: right;\">\n",
       "      <th></th>\n",
       "      <th>A</th>\n",
       "    </tr>\n",
       "  </thead>\n",
       "  <tbody>\n",
       "    <tr>\n",
       "      <th>0</th>\n",
       "      <td>1.0</td>\n",
       "    </tr>\n",
       "    <tr>\n",
       "      <th>1</th>\n",
       "      <td>3.0</td>\n",
       "    </tr>\n",
       "    <tr>\n",
       "      <th>2</th>\n",
       "      <td>3.0</td>\n",
       "    </tr>\n",
       "    <tr>\n",
       "      <th>3</th>\n",
       "      <td>5.0</td>\n",
       "    </tr>\n",
       "    <tr>\n",
       "      <th>4</th>\n",
       "      <td>5.0</td>\n",
       "    </tr>\n",
       "  </tbody>\n",
       "</table>\n",
       "</div>"
      ],
      "text/plain": [
       "     A\n",
       "0  1.0\n",
       "1  3.0\n",
       "2  3.0\n",
       "3  5.0\n",
       "4  5.0"
      ]
     },
     "execution_count": 610,
     "metadata": {},
     "output_type": "execute_result"
    }
   ],
   "source": [
    "df.bfill()\n"
   ]
  },
  {
   "cell_type": "code",
   "execution_count": 627,
   "id": "a7c6390b",
   "metadata": {},
   "outputs": [
    {
     "data": {
      "text/plain": [
       "['Ann', 'Pat']"
      ]
     },
     "execution_count": 627,
     "metadata": {},
     "output_type": "execute_result"
    }
   ],
   "source": [
    "list_name = ['Ann', 'Pat', 'David','Tisha','Sumantha']\n",
    "list_name\n",
    "list1=[len(x)for x in list_name]\n",
    "list2=[x for x in list_name if  len(x) < 5 ]\n",
    "#short_names = [name for name in list_name if len(name) < 5]\n",
    "short_names"
   ]
  },
  {
   "cell_type": "code",
   "execution_count": 628,
   "id": "002ef7ae",
   "metadata": {},
   "outputs": [],
   "source": [
    "list_key=list_name"
   ]
  },
  {
   "cell_type": "code",
   "execution_count": 632,
   "id": "3465a555",
   "metadata": {},
   "outputs": [
    {
     "data": {
      "text/plain": [
       "{'Ann': 3, 'Pat': 3, 'David': 5, 'Tisha': 5, 'Sumantha': 8}"
      ]
     },
     "execution_count": 632,
     "metadata": {},
     "output_type": "execute_result"
    }
   ],
   "source": [
    "list_value=list1\n",
    "dict1={name:len(name) for name in list_name}\n",
    "dict1"
   ]
  },
  {
   "cell_type": "code",
   "execution_count": 634,
   "id": "b92d8188",
   "metadata": {},
   "outputs": [],
   "source": [
    "list_name = ['Ann', 'Pat', 'David','Tisha','Sumantha']\n"
   ]
  },
  {
   "cell_type": "code",
   "execution_count": 637,
   "id": "dee98634",
   "metadata": {},
   "outputs": [
    {
     "data": {
      "text/plain": [
       "['Sumantha', 'David', 'Tisha', 'Ann', 'Pat']"
      ]
     },
     "execution_count": 637,
     "metadata": {},
     "output_type": "execute_result"
    }
   ],
   "source": [
    "sorte_list=sorted(list_name,key=len,reverse=True)\n",
    "sorte_list"
   ]
  },
  {
   "cell_type": "code",
   "execution_count": 641,
   "id": "40feeb65",
   "metadata": {},
   "outputs": [
    {
     "name": "stdout",
     "output_type": "stream",
     "text": [
      "Most frequently occurring character throughout the list: a\n"
     ]
    }
   ],
   "source": [
    "from collections import Counter\n",
    "\n",
    "# Given list of names\n",
    "list_name = ['Ann', 'Pat', 'David', 'Tisha', 'Sumantha']\n",
    "\n",
    "# Flatten the list of names into a single string\n",
    "all_names = ''.join(list_name)\n",
    "\n",
    "# Use Counter to count occurrences of each character\n",
    "char_counts = Counter(all_names)\n",
    "\n",
    "# Find the most common character\n",
    "most_common_char = char_counts.most_common(1)[0][0]\n",
    "\n",
    "print(\"Most frequently occurring character throughout the list:\", most_common_char)\n",
    "\n"
   ]
  },
  {
   "cell_type": "code",
   "execution_count": 658,
   "id": "6e3e4615",
   "metadata": {},
   "outputs": [
    {
     "data": {
      "text/plain": [
       "Counter({'a': 5,\n",
       "         'n': 3,\n",
       "         't': 2,\n",
       "         'i': 2,\n",
       "         'h': 2,\n",
       "         'A': 1,\n",
       "         'P': 1,\n",
       "         'D': 1,\n",
       "         'v': 1,\n",
       "         'd': 1,\n",
       "         'T': 1,\n",
       "         's': 1,\n",
       "         'S': 1,\n",
       "         'u': 1,\n",
       "         'm': 1})"
      ]
     },
     "execution_count": 658,
     "metadata": {},
     "output_type": "execute_result"
    }
   ],
   "source": [
    "list_name\n",
    "all_name=''.join(list_name)\n",
    "all_name\n",
    "char_count=Counter(all_names)\n",
    "char_count"
   ]
  },
  {
   "cell_type": "code",
   "execution_count": 664,
   "id": "1cf10f6c",
   "metadata": {},
   "outputs": [
    {
     "data": {
      "text/plain": [
       "'a'"
      ]
     },
     "execution_count": 664,
     "metadata": {},
     "output_type": "execute_result"
    }
   ],
   "source": [
    "msot_common_char=char_count.most_common(1)[0][0]\n",
    "msot_common_char"
   ]
  },
  {
   "cell_type": "code",
   "execution_count": 665,
   "id": "c5e731e6",
   "metadata": {},
   "outputs": [],
   "source": [
    "list_name = ['Ann', 'Pat', 'David','Tisha','Sumantha']"
   ]
  },
  {
   "cell_type": "code",
   "execution_count": 667,
   "id": "6efdb2e6",
   "metadata": {},
   "outputs": [
    {
     "data": {
      "text/plain": [
       "'AnnPatDavidTishaSumantha'"
      ]
     },
     "execution_count": 667,
     "metadata": {},
     "output_type": "execute_result"
    }
   ],
   "source": [
    "all_name=''.join(list_name)\n",
    "all_name"
   ]
  },
  {
   "cell_type": "code",
   "execution_count": 674,
   "id": "ebedf77c",
   "metadata": {},
   "outputs": [
    {
     "data": {
      "text/plain": [
       "'a'"
      ]
     },
     "execution_count": 674,
     "metadata": {},
     "output_type": "execute_result"
    }
   ],
   "source": [
    "count=Counter(all_name)\n",
    "final=count.most_common(1)[0][0]\n",
    "final"
   ]
  },
  {
   "cell_type": "code",
   "execution_count": 677,
   "id": "d9814012",
   "metadata": {},
   "outputs": [
    {
     "data": {
      "text/plain": [
       "['Sumantha', 'David', 'Tisha', 'Ann', 'Pat']"
      ]
     },
     "execution_count": 677,
     "metadata": {},
     "output_type": "execute_result"
    }
   ],
   "source": [
    "sorted_value=sorted(list_name,reverse=True,key=len)\n",
    "sorted_value"
   ]
  },
  {
   "cell_type": "code",
   "execution_count": 681,
   "id": "27a0d71e",
   "metadata": {},
   "outputs": [
    {
     "name": "stdout",
     "output_type": "stream",
     "text": [
      "Vegetables to carry for maximum revenue:\n",
      "Brinjals: 60 kg\n",
      "Tomato: 100 kg\n",
      "Garlic: 180 kg\n",
      "Potatoes: 130 kg\n"
     ]
    }
   ],
   "source": [
    "# Vegetable yields and selling prices (per 10kg unit)\n",
    "vegetables = {\n",
    "    'Tomato': {'yield': 150, 'price_per_unit': 500, 'must_sell': 50},\n",
    "    'Potatoes': {'yield': 200, 'price_per_unit': 420, 'must_sell': 70},\n",
    "    'Garlic': {'yield': 250, 'price_per_unit': 700, 'must_sell': 70},\n",
    "    'Brinjals': {'yield': 100, 'price_per_unit': 600, 'must_sell': 40}\n",
    "}\n",
    "\n",
    "# Calculate the price per kg for each vegetable\n",
    "for veg in vegetables:\n",
    "    price_per_kg = vegetables[veg]['price_per_unit'] / (vegetables[veg]['yield'] / 10)\n",
    "    vegetables[veg]['price_per_kg'] = price_per_kg\n",
    "\n",
    "# Sort vegetables by price per kg in descending order\n",
    "sorted_vegetables = sorted(vegetables.items(), key=lambda x: x[1]['price_per_kg'], reverse=True)\n",
    "\n",
    "# Initialize variables\n",
    "truck_capacity = 500\n",
    "total_weight = 0\n",
    "selected_vegetables = {}\n",
    "\n",
    "# Determine quantities to carry until truck's capacity is reached\n",
    "for veg, info in sorted_vegetables:\n",
    "    available_weight = min(info['yield'] - info['must_sell'], truck_capacity - total_weight)\n",
    "    if available_weight > 0:\n",
    "        selected_vegetables[veg] = available_weight\n",
    "        total_weight += available_weight\n",
    "\n",
    "print(\"Vegetables to carry for maximum revenue:\")\n",
    "for veg, quantity in selected_vegetables.items():\n",
    "    print(f\"{veg}: {quantity} kg\")\n"
   ]
  },
  {
   "cell_type": "code",
   "execution_count": 695,
   "id": "ea48390d",
   "metadata": {},
   "outputs": [
    {
     "data": {
      "text/plain": [
       "{'MH 12 XJ - 2234': 'even',\n",
       " 'UP 04 LG - 2455': 'odd',\n",
       " 'GJ 34 RV - 2442': 'even',\n",
       " 'KL07 AP-2433': 'odd'}"
      ]
     },
     "execution_count": 695,
     "metadata": {},
     "output_type": "execute_result"
    }
   ],
   "source": [
    "number_plates = ['MH 12 XJ - 2234', 'UP 04 LG - 2455', 'GJ 34 RV - 2442', 'KL07 AP-2433']\n",
    "number_plates\n",
    "def evenoddnumberplate(number_plates):\n",
    "    result_dict={}\n",
    "    for plate in number_plates:\n",
    "        #extract Numaric part\n",
    "        numaric_part=''.join(filter(str.isdigit,plate))\n",
    "        number=int(numaric_part)\n",
    "        label = 'even' if number%2==0 else 'odd'\n",
    "        result_dict[plate]=label\n",
    "    return result_dict\n",
    "    \n",
    "evenoddnumberplate(number_plates)"
   ]
  },
  {
   "cell_type": "code",
   "execution_count": 699,
   "id": "d9614055",
   "metadata": {},
   "outputs": [
    {
     "data": {
      "text/plain": [
       "{'MH 12 XJ - 2234': 'even',\n",
       " 'UP 04 LG - 2455': 'odd',\n",
       " 'GJ 34 RV - 2442': 'even',\n",
       " 'KL07 AP-2433': 'odd'}"
      ]
     },
     "execution_count": 699,
     "metadata": {},
     "output_type": "execute_result"
    }
   ],
   "source": [
    "number_plates = ['MH 12 XJ - 2234', 'UP 04 LG - 2455', 'GJ 34 RV - 2442', 'KL07 AP-2433']\n",
    "def evenoddnumber(number_plates):\n",
    "    result_dict={}\n",
    "    for plate in number_plates:\n",
    "        numaric_part=''.join(filter(str.isdigit,plate))\n",
    "        number=int(numaric_part)\n",
    "        label ='even' if number%2==0 else 'odd'\n",
    "        result_dict[plate]=label\n",
    "    return result_dict\n",
    "evenoddnumber(number_plates)"
   ]
  },
  {
   "cell_type": "code",
   "execution_count": 700,
   "id": "924822b1",
   "metadata": {},
   "outputs": [],
   "source": [
    "number_plates = ['MH 12 XJ - 2234', 'UP 04 LG - 2455', 'GJ 34 RV - 2442', 'KL07 AP-2433']"
   ]
  },
  {
   "cell_type": "code",
   "execution_count": 702,
   "id": "21fc26aa",
   "metadata": {},
   "outputs": [
    {
     "data": {
      "text/plain": [
       "{'MH 12 XJ - 2234': 'even',\n",
       " 'UP 04 LG - 2455': 'odd',\n",
       " 'GJ 34 RV - 2442': 'even',\n",
       " 'KL07 AP-2433': 'odd'}"
      ]
     },
     "execution_count": 702,
     "metadata": {},
     "output_type": "execute_result"
    }
   ],
   "source": [
    "def evenoddnumbers(number_plates):\n",
    "    result_dict={}\n",
    "    for plate in number_plates:\n",
    "        numaric_part=''.join(filter(str.isdigit,plate))\n",
    "        number=int(numaric_part)\n",
    "        label = 'even' if number%2==0 else 'odd'\n",
    "        result_dict[plate]=label\n",
    "    return result_dict\n",
    "evenoddnumbers(number_plates)"
   ]
  },
  {
   "cell_type": "code",
   "execution_count": 706,
   "id": "531192ad",
   "metadata": {},
   "outputs": [
    {
     "data": {
      "text/html": [
       "<div>\n",
       "<style scoped>\n",
       "    .dataframe tbody tr th:only-of-type {\n",
       "        vertical-align: middle;\n",
       "    }\n",
       "\n",
       "    .dataframe tbody tr th {\n",
       "        vertical-align: top;\n",
       "    }\n",
       "\n",
       "    .dataframe thead th {\n",
       "        text-align: right;\n",
       "    }\n",
       "</style>\n",
       "<table border=\"1\" class=\"dataframe\">\n",
       "  <thead>\n",
       "    <tr style=\"text-align: right;\">\n",
       "      <th></th>\n",
       "      <th>age</th>\n",
       "      <th>Medu</th>\n",
       "      <th>Fedu</th>\n",
       "      <th>studytime</th>\n",
       "      <th>famrel</th>\n",
       "      <th>freetime</th>\n",
       "      <th>goout</th>\n",
       "      <th>health</th>\n",
       "      <th>absences</th>\n",
       "      <th>G1</th>\n",
       "      <th>G2</th>\n",
       "      <th>G3</th>\n",
       "      <th>stress</th>\n",
       "    </tr>\n",
       "  </thead>\n",
       "  <tbody>\n",
       "    <tr>\n",
       "      <th>count</th>\n",
       "      <td>395.000000</td>\n",
       "      <td>395.000000</td>\n",
       "      <td>395.000000</td>\n",
       "      <td>395.000000</td>\n",
       "      <td>395.000000</td>\n",
       "      <td>395.000000</td>\n",
       "      <td>395.000000</td>\n",
       "      <td>395.000000</td>\n",
       "      <td>395.000000</td>\n",
       "      <td>395.000000</td>\n",
       "      <td>395.000000</td>\n",
       "      <td>395.000000</td>\n",
       "      <td>395.000000</td>\n",
       "    </tr>\n",
       "    <tr>\n",
       "      <th>mean</th>\n",
       "      <td>16.696203</td>\n",
       "      <td>2.749367</td>\n",
       "      <td>2.521519</td>\n",
       "      <td>2.035443</td>\n",
       "      <td>3.944304</td>\n",
       "      <td>3.235443</td>\n",
       "      <td>3.108861</td>\n",
       "      <td>3.554430</td>\n",
       "      <td>5.708861</td>\n",
       "      <td>10.908861</td>\n",
       "      <td>10.713924</td>\n",
       "      <td>10.415190</td>\n",
       "      <td>0.225316</td>\n",
       "    </tr>\n",
       "    <tr>\n",
       "      <th>std</th>\n",
       "      <td>1.276043</td>\n",
       "      <td>1.094735</td>\n",
       "      <td>1.088201</td>\n",
       "      <td>0.839240</td>\n",
       "      <td>0.896659</td>\n",
       "      <td>0.998862</td>\n",
       "      <td>1.113278</td>\n",
       "      <td>1.390303</td>\n",
       "      <td>8.003096</td>\n",
       "      <td>3.319195</td>\n",
       "      <td>3.761505</td>\n",
       "      <td>4.581443</td>\n",
       "      <td>0.418320</td>\n",
       "    </tr>\n",
       "    <tr>\n",
       "      <th>min</th>\n",
       "      <td>15.000000</td>\n",
       "      <td>0.000000</td>\n",
       "      <td>0.000000</td>\n",
       "      <td>1.000000</td>\n",
       "      <td>1.000000</td>\n",
       "      <td>1.000000</td>\n",
       "      <td>1.000000</td>\n",
       "      <td>1.000000</td>\n",
       "      <td>0.000000</td>\n",
       "      <td>3.000000</td>\n",
       "      <td>0.000000</td>\n",
       "      <td>0.000000</td>\n",
       "      <td>0.000000</td>\n",
       "    </tr>\n",
       "    <tr>\n",
       "      <th>25%</th>\n",
       "      <td>16.000000</td>\n",
       "      <td>2.000000</td>\n",
       "      <td>2.000000</td>\n",
       "      <td>1.000000</td>\n",
       "      <td>4.000000</td>\n",
       "      <td>3.000000</td>\n",
       "      <td>2.000000</td>\n",
       "      <td>3.000000</td>\n",
       "      <td>0.000000</td>\n",
       "      <td>8.000000</td>\n",
       "      <td>9.000000</td>\n",
       "      <td>8.000000</td>\n",
       "      <td>0.000000</td>\n",
       "    </tr>\n",
       "    <tr>\n",
       "      <th>50%</th>\n",
       "      <td>17.000000</td>\n",
       "      <td>3.000000</td>\n",
       "      <td>2.000000</td>\n",
       "      <td>2.000000</td>\n",
       "      <td>4.000000</td>\n",
       "      <td>3.000000</td>\n",
       "      <td>3.000000</td>\n",
       "      <td>4.000000</td>\n",
       "      <td>4.000000</td>\n",
       "      <td>11.000000</td>\n",
       "      <td>11.000000</td>\n",
       "      <td>11.000000</td>\n",
       "      <td>0.000000</td>\n",
       "    </tr>\n",
       "    <tr>\n",
       "      <th>75%</th>\n",
       "      <td>18.000000</td>\n",
       "      <td>4.000000</td>\n",
       "      <td>3.000000</td>\n",
       "      <td>2.000000</td>\n",
       "      <td>5.000000</td>\n",
       "      <td>4.000000</td>\n",
       "      <td>4.000000</td>\n",
       "      <td>5.000000</td>\n",
       "      <td>8.000000</td>\n",
       "      <td>13.000000</td>\n",
       "      <td>13.000000</td>\n",
       "      <td>14.000000</td>\n",
       "      <td>0.000000</td>\n",
       "    </tr>\n",
       "    <tr>\n",
       "      <th>max</th>\n",
       "      <td>22.000000</td>\n",
       "      <td>4.000000</td>\n",
       "      <td>4.000000</td>\n",
       "      <td>4.000000</td>\n",
       "      <td>5.000000</td>\n",
       "      <td>5.000000</td>\n",
       "      <td>5.000000</td>\n",
       "      <td>5.000000</td>\n",
       "      <td>75.000000</td>\n",
       "      <td>19.000000</td>\n",
       "      <td>19.000000</td>\n",
       "      <td>20.000000</td>\n",
       "      <td>1.000000</td>\n",
       "    </tr>\n",
       "  </tbody>\n",
       "</table>\n",
       "</div>"
      ],
      "text/plain": [
       "              age        Medu        Fedu   studytime      famrel    freetime  \\\n",
       "count  395.000000  395.000000  395.000000  395.000000  395.000000  395.000000   \n",
       "mean    16.696203    2.749367    2.521519    2.035443    3.944304    3.235443   \n",
       "std      1.276043    1.094735    1.088201    0.839240    0.896659    0.998862   \n",
       "min     15.000000    0.000000    0.000000    1.000000    1.000000    1.000000   \n",
       "25%     16.000000    2.000000    2.000000    1.000000    4.000000    3.000000   \n",
       "50%     17.000000    3.000000    2.000000    2.000000    4.000000    3.000000   \n",
       "75%     18.000000    4.000000    3.000000    2.000000    5.000000    4.000000   \n",
       "max     22.000000    4.000000    4.000000    4.000000    5.000000    5.000000   \n",
       "\n",
       "            goout      health    absences          G1          G2          G3  \\\n",
       "count  395.000000  395.000000  395.000000  395.000000  395.000000  395.000000   \n",
       "mean     3.108861    3.554430    5.708861   10.908861   10.713924   10.415190   \n",
       "std      1.113278    1.390303    8.003096    3.319195    3.761505    4.581443   \n",
       "min      1.000000    1.000000    0.000000    3.000000    0.000000    0.000000   \n",
       "25%      2.000000    3.000000    0.000000    8.000000    9.000000    8.000000   \n",
       "50%      3.000000    4.000000    4.000000   11.000000   11.000000   11.000000   \n",
       "75%      4.000000    5.000000    8.000000   13.000000   13.000000   14.000000   \n",
       "max      5.000000    5.000000   75.000000   19.000000   19.000000   20.000000   \n",
       "\n",
       "           stress  \n",
       "count  395.000000  \n",
       "mean     0.225316  \n",
       "std      0.418320  \n",
       "min      0.000000  \n",
       "25%      0.000000  \n",
       "50%      0.000000  \n",
       "75%      0.000000  \n",
       "max      1.000000  "
      ]
     },
     "execution_count": 706,
     "metadata": {},
     "output_type": "execute_result"
    }
   ],
   "source": [
    "df1=pd.read_csv('teenage_stress-1.csv')\n",
    "df1.describe()\n"
   ]
  },
  {
   "cell_type": "code",
   "execution_count": 708,
   "id": "28811f49",
   "metadata": {},
   "outputs": [
    {
     "data": {
      "text/html": [
       "<div>\n",
       "<style scoped>\n",
       "    .dataframe tbody tr th:only-of-type {\n",
       "        vertical-align: middle;\n",
       "    }\n",
       "\n",
       "    .dataframe tbody tr th {\n",
       "        vertical-align: top;\n",
       "    }\n",
       "\n",
       "    .dataframe thead th {\n",
       "        text-align: right;\n",
       "    }\n",
       "</style>\n",
       "<table border=\"1\" class=\"dataframe\">\n",
       "  <thead>\n",
       "    <tr style=\"text-align: right;\">\n",
       "      <th></th>\n",
       "      <th>sex</th>\n",
       "      <th>age</th>\n",
       "      <th>famsize</th>\n",
       "      <th>Pstatus</th>\n",
       "      <th>Medu</th>\n",
       "      <th>Fedu</th>\n",
       "      <th>Mjob</th>\n",
       "      <th>Fjob</th>\n",
       "      <th>guardian</th>\n",
       "      <th>studytime</th>\n",
       "      <th>...</th>\n",
       "      <th>romantic</th>\n",
       "      <th>famrel</th>\n",
       "      <th>freetime</th>\n",
       "      <th>goout</th>\n",
       "      <th>health</th>\n",
       "      <th>absences</th>\n",
       "      <th>G1</th>\n",
       "      <th>G2</th>\n",
       "      <th>G3</th>\n",
       "      <th>stress</th>\n",
       "    </tr>\n",
       "  </thead>\n",
       "  <tbody>\n",
       "    <tr>\n",
       "      <th>0</th>\n",
       "      <td>F</td>\n",
       "      <td>18</td>\n",
       "      <td>GT3</td>\n",
       "      <td>A</td>\n",
       "      <td>4</td>\n",
       "      <td>4</td>\n",
       "      <td>at_home</td>\n",
       "      <td>teacher</td>\n",
       "      <td>mother</td>\n",
       "      <td>2</td>\n",
       "      <td>...</td>\n",
       "      <td>no</td>\n",
       "      <td>4</td>\n",
       "      <td>3</td>\n",
       "      <td>4</td>\n",
       "      <td>3</td>\n",
       "      <td>6</td>\n",
       "      <td>5</td>\n",
       "      <td>6</td>\n",
       "      <td>6</td>\n",
       "      <td>0</td>\n",
       "    </tr>\n",
       "    <tr>\n",
       "      <th>1</th>\n",
       "      <td>F</td>\n",
       "      <td>17</td>\n",
       "      <td>GT3</td>\n",
       "      <td>T</td>\n",
       "      <td>1</td>\n",
       "      <td>1</td>\n",
       "      <td>at_home</td>\n",
       "      <td>other</td>\n",
       "      <td>father</td>\n",
       "      <td>2</td>\n",
       "      <td>...</td>\n",
       "      <td>no</td>\n",
       "      <td>5</td>\n",
       "      <td>3</td>\n",
       "      <td>3</td>\n",
       "      <td>3</td>\n",
       "      <td>4</td>\n",
       "      <td>5</td>\n",
       "      <td>5</td>\n",
       "      <td>6</td>\n",
       "      <td>0</td>\n",
       "    </tr>\n",
       "    <tr>\n",
       "      <th>2</th>\n",
       "      <td>F</td>\n",
       "      <td>15</td>\n",
       "      <td>LE3</td>\n",
       "      <td>T</td>\n",
       "      <td>1</td>\n",
       "      <td>1</td>\n",
       "      <td>at_home</td>\n",
       "      <td>other</td>\n",
       "      <td>mother</td>\n",
       "      <td>2</td>\n",
       "      <td>...</td>\n",
       "      <td>no</td>\n",
       "      <td>4</td>\n",
       "      <td>3</td>\n",
       "      <td>2</td>\n",
       "      <td>3</td>\n",
       "      <td>10</td>\n",
       "      <td>7</td>\n",
       "      <td>8</td>\n",
       "      <td>10</td>\n",
       "      <td>0</td>\n",
       "    </tr>\n",
       "    <tr>\n",
       "      <th>3</th>\n",
       "      <td>F</td>\n",
       "      <td>15</td>\n",
       "      <td>GT3</td>\n",
       "      <td>T</td>\n",
       "      <td>4</td>\n",
       "      <td>2</td>\n",
       "      <td>health</td>\n",
       "      <td>services</td>\n",
       "      <td>mother</td>\n",
       "      <td>3</td>\n",
       "      <td>...</td>\n",
       "      <td>yes</td>\n",
       "      <td>3</td>\n",
       "      <td>2</td>\n",
       "      <td>2</td>\n",
       "      <td>5</td>\n",
       "      <td>2</td>\n",
       "      <td>15</td>\n",
       "      <td>14</td>\n",
       "      <td>15</td>\n",
       "      <td>0</td>\n",
       "    </tr>\n",
       "    <tr>\n",
       "      <th>4</th>\n",
       "      <td>F</td>\n",
       "      <td>16</td>\n",
       "      <td>GT3</td>\n",
       "      <td>T</td>\n",
       "      <td>3</td>\n",
       "      <td>3</td>\n",
       "      <td>other</td>\n",
       "      <td>other</td>\n",
       "      <td>father</td>\n",
       "      <td>2</td>\n",
       "      <td>...</td>\n",
       "      <td>no</td>\n",
       "      <td>4</td>\n",
       "      <td>3</td>\n",
       "      <td>2</td>\n",
       "      <td>5</td>\n",
       "      <td>4</td>\n",
       "      <td>6</td>\n",
       "      <td>10</td>\n",
       "      <td>10</td>\n",
       "      <td>0</td>\n",
       "    </tr>\n",
       "  </tbody>\n",
       "</table>\n",
       "<p>5 rows × 25 columns</p>\n",
       "</div>"
      ],
      "text/plain": [
       "  sex  age famsize Pstatus  Medu  Fedu     Mjob      Fjob guardian  studytime  \\\n",
       "0   F   18     GT3       A     4     4  at_home   teacher   mother          2   \n",
       "1   F   17     GT3       T     1     1  at_home     other   father          2   \n",
       "2   F   15     LE3       T     1     1  at_home     other   mother          2   \n",
       "3   F   15     GT3       T     4     2   health  services   mother          3   \n",
       "4   F   16     GT3       T     3     3    other     other   father          2   \n",
       "\n",
       "   ... romantic famrel freetime goout health absences  G1  G2  G3  stress  \n",
       "0  ...       no      4        3     4      3        6   5   6   6       0  \n",
       "1  ...       no      5        3     3      3        4   5   5   6       0  \n",
       "2  ...       no      4        3     2      3       10   7   8  10       0  \n",
       "3  ...      yes      3        2     2      5        2  15  14  15       0  \n",
       "4  ...       no      4        3     2      5        4   6  10  10       0  \n",
       "\n",
       "[5 rows x 25 columns]"
      ]
     },
     "execution_count": 708,
     "metadata": {},
     "output_type": "execute_result"
    }
   ],
   "source": [
    "df1.head()"
   ]
  },
  {
   "cell_type": "code",
   "execution_count": 720,
   "id": "a4248059",
   "metadata": {},
   "outputs": [
    {
     "name": "stdout",
     "output_type": "stream",
     "text": [
      "% of stressed students:   0.22531645569620254\n"
     ]
    }
   ],
   "source": [
    "# Calculate the % of stressed students.\n",
    "print('% of stressed students:',' ',df1.stress.value_counts(normalize=True)[1])\n"
   ]
  },
  {
   "cell_type": "code",
   "execution_count": 725,
   "id": "e4e1beff",
   "metadata": {},
   "outputs": [
    {
     "name": "stdout",
     "output_type": "stream",
     "text": [
      "\n"
     ]
    }
   ],
   "source": [
    "#What is the average age of female students\n",
    "df1[df1['sex']=='F'].age.mean()\n",
    "\n",
    "print()\n"
   ]
  },
  {
   "cell_type": "code",
   "execution_count": 734,
   "id": "24f4bf51",
   "metadata": {},
   "outputs": [
    {
     "name": "stdout",
     "output_type": "stream",
     "text": [
      "0       5.666667\n",
      "1       5.333333\n",
      "2       8.333333\n",
      "3      14.666667\n",
      "4       8.666667\n",
      "         ...    \n",
      "390     9.000000\n",
      "391    15.333333\n",
      "392     8.333333\n",
      "393    11.000000\n",
      "394     8.666667\n",
      "Length: 395, dtype: float64\n"
     ]
    }
   ],
   "source": [
    "#Add a column as avg_grade which is equivalent to the average of 3 grades.\n",
    "\n",
    "columns=['G1','G2','G3']\n",
    "avg=df1[columns].mean(axis=1)\n",
    "print(avg)\n",
    "df1['avgGrade']=avg"
   ]
  },
  {
   "cell_type": "code",
   "execution_count": null,
   "id": "96d4dada",
   "metadata": {},
   "outputs": [],
   "source": []
  },
  {
   "cell_type": "code",
   "execution_count": 736,
   "id": "0c6e1dbe",
   "metadata": {},
   "outputs": [
    {
     "data": {
      "text/html": [
       "<div>\n",
       "<style scoped>\n",
       "    .dataframe tbody tr th:only-of-type {\n",
       "        vertical-align: middle;\n",
       "    }\n",
       "\n",
       "    .dataframe tbody tr th {\n",
       "        vertical-align: top;\n",
       "    }\n",
       "\n",
       "    .dataframe thead th {\n",
       "        text-align: right;\n",
       "    }\n",
       "</style>\n",
       "<table border=\"1\" class=\"dataframe\">\n",
       "  <thead>\n",
       "    <tr style=\"text-align: right;\">\n",
       "      <th></th>\n",
       "      <th>sex</th>\n",
       "      <th>age</th>\n",
       "      <th>famsize</th>\n",
       "      <th>Pstatus</th>\n",
       "      <th>Medu</th>\n",
       "      <th>Fedu</th>\n",
       "      <th>Mjob</th>\n",
       "      <th>Fjob</th>\n",
       "      <th>guardian</th>\n",
       "      <th>studytime</th>\n",
       "      <th>...</th>\n",
       "      <th>famrel</th>\n",
       "      <th>freetime</th>\n",
       "      <th>goout</th>\n",
       "      <th>health</th>\n",
       "      <th>absences</th>\n",
       "      <th>G1</th>\n",
       "      <th>G2</th>\n",
       "      <th>G3</th>\n",
       "      <th>stress</th>\n",
       "      <th>avgGrade</th>\n",
       "    </tr>\n",
       "  </thead>\n",
       "  <tbody>\n",
       "    <tr>\n",
       "      <th>0</th>\n",
       "      <td>F</td>\n",
       "      <td>18</td>\n",
       "      <td>GT3</td>\n",
       "      <td>A</td>\n",
       "      <td>4</td>\n",
       "      <td>4</td>\n",
       "      <td>at_home</td>\n",
       "      <td>teacher</td>\n",
       "      <td>mother</td>\n",
       "      <td>2</td>\n",
       "      <td>...</td>\n",
       "      <td>4</td>\n",
       "      <td>3</td>\n",
       "      <td>4</td>\n",
       "      <td>3</td>\n",
       "      <td>6</td>\n",
       "      <td>5</td>\n",
       "      <td>6</td>\n",
       "      <td>6</td>\n",
       "      <td>0</td>\n",
       "      <td>5.666667</td>\n",
       "    </tr>\n",
       "    <tr>\n",
       "      <th>1</th>\n",
       "      <td>F</td>\n",
       "      <td>17</td>\n",
       "      <td>GT3</td>\n",
       "      <td>T</td>\n",
       "      <td>1</td>\n",
       "      <td>1</td>\n",
       "      <td>at_home</td>\n",
       "      <td>other</td>\n",
       "      <td>father</td>\n",
       "      <td>2</td>\n",
       "      <td>...</td>\n",
       "      <td>5</td>\n",
       "      <td>3</td>\n",
       "      <td>3</td>\n",
       "      <td>3</td>\n",
       "      <td>4</td>\n",
       "      <td>5</td>\n",
       "      <td>5</td>\n",
       "      <td>6</td>\n",
       "      <td>0</td>\n",
       "      <td>5.333333</td>\n",
       "    </tr>\n",
       "    <tr>\n",
       "      <th>2</th>\n",
       "      <td>F</td>\n",
       "      <td>15</td>\n",
       "      <td>LE3</td>\n",
       "      <td>T</td>\n",
       "      <td>1</td>\n",
       "      <td>1</td>\n",
       "      <td>at_home</td>\n",
       "      <td>other</td>\n",
       "      <td>mother</td>\n",
       "      <td>2</td>\n",
       "      <td>...</td>\n",
       "      <td>4</td>\n",
       "      <td>3</td>\n",
       "      <td>2</td>\n",
       "      <td>3</td>\n",
       "      <td>10</td>\n",
       "      <td>7</td>\n",
       "      <td>8</td>\n",
       "      <td>10</td>\n",
       "      <td>0</td>\n",
       "      <td>8.333333</td>\n",
       "    </tr>\n",
       "    <tr>\n",
       "      <th>3</th>\n",
       "      <td>F</td>\n",
       "      <td>15</td>\n",
       "      <td>GT3</td>\n",
       "      <td>T</td>\n",
       "      <td>4</td>\n",
       "      <td>2</td>\n",
       "      <td>health</td>\n",
       "      <td>services</td>\n",
       "      <td>mother</td>\n",
       "      <td>3</td>\n",
       "      <td>...</td>\n",
       "      <td>3</td>\n",
       "      <td>2</td>\n",
       "      <td>2</td>\n",
       "      <td>5</td>\n",
       "      <td>2</td>\n",
       "      <td>15</td>\n",
       "      <td>14</td>\n",
       "      <td>15</td>\n",
       "      <td>0</td>\n",
       "      <td>14.666667</td>\n",
       "    </tr>\n",
       "    <tr>\n",
       "      <th>4</th>\n",
       "      <td>F</td>\n",
       "      <td>16</td>\n",
       "      <td>GT3</td>\n",
       "      <td>T</td>\n",
       "      <td>3</td>\n",
       "      <td>3</td>\n",
       "      <td>other</td>\n",
       "      <td>other</td>\n",
       "      <td>father</td>\n",
       "      <td>2</td>\n",
       "      <td>...</td>\n",
       "      <td>4</td>\n",
       "      <td>3</td>\n",
       "      <td>2</td>\n",
       "      <td>5</td>\n",
       "      <td>4</td>\n",
       "      <td>6</td>\n",
       "      <td>10</td>\n",
       "      <td>10</td>\n",
       "      <td>0</td>\n",
       "      <td>8.666667</td>\n",
       "    </tr>\n",
       "    <tr>\n",
       "      <th>...</th>\n",
       "      <td>...</td>\n",
       "      <td>...</td>\n",
       "      <td>...</td>\n",
       "      <td>...</td>\n",
       "      <td>...</td>\n",
       "      <td>...</td>\n",
       "      <td>...</td>\n",
       "      <td>...</td>\n",
       "      <td>...</td>\n",
       "      <td>...</td>\n",
       "      <td>...</td>\n",
       "      <td>...</td>\n",
       "      <td>...</td>\n",
       "      <td>...</td>\n",
       "      <td>...</td>\n",
       "      <td>...</td>\n",
       "      <td>...</td>\n",
       "      <td>...</td>\n",
       "      <td>...</td>\n",
       "      <td>...</td>\n",
       "      <td>...</td>\n",
       "    </tr>\n",
       "    <tr>\n",
       "      <th>390</th>\n",
       "      <td>M</td>\n",
       "      <td>20</td>\n",
       "      <td>LE3</td>\n",
       "      <td>A</td>\n",
       "      <td>2</td>\n",
       "      <td>2</td>\n",
       "      <td>services</td>\n",
       "      <td>services</td>\n",
       "      <td>other</td>\n",
       "      <td>2</td>\n",
       "      <td>...</td>\n",
       "      <td>5</td>\n",
       "      <td>5</td>\n",
       "      <td>4</td>\n",
       "      <td>4</td>\n",
       "      <td>11</td>\n",
       "      <td>9</td>\n",
       "      <td>9</td>\n",
       "      <td>9</td>\n",
       "      <td>1</td>\n",
       "      <td>9.000000</td>\n",
       "    </tr>\n",
       "    <tr>\n",
       "      <th>391</th>\n",
       "      <td>M</td>\n",
       "      <td>17</td>\n",
       "      <td>LE3</td>\n",
       "      <td>T</td>\n",
       "      <td>3</td>\n",
       "      <td>1</td>\n",
       "      <td>services</td>\n",
       "      <td>services</td>\n",
       "      <td>mother</td>\n",
       "      <td>1</td>\n",
       "      <td>...</td>\n",
       "      <td>2</td>\n",
       "      <td>4</td>\n",
       "      <td>5</td>\n",
       "      <td>2</td>\n",
       "      <td>3</td>\n",
       "      <td>14</td>\n",
       "      <td>16</td>\n",
       "      <td>16</td>\n",
       "      <td>0</td>\n",
       "      <td>15.333333</td>\n",
       "    </tr>\n",
       "    <tr>\n",
       "      <th>392</th>\n",
       "      <td>M</td>\n",
       "      <td>21</td>\n",
       "      <td>GT3</td>\n",
       "      <td>T</td>\n",
       "      <td>1</td>\n",
       "      <td>1</td>\n",
       "      <td>other</td>\n",
       "      <td>other</td>\n",
       "      <td>other</td>\n",
       "      <td>1</td>\n",
       "      <td>...</td>\n",
       "      <td>5</td>\n",
       "      <td>5</td>\n",
       "      <td>3</td>\n",
       "      <td>3</td>\n",
       "      <td>3</td>\n",
       "      <td>10</td>\n",
       "      <td>8</td>\n",
       "      <td>7</td>\n",
       "      <td>1</td>\n",
       "      <td>8.333333</td>\n",
       "    </tr>\n",
       "    <tr>\n",
       "      <th>393</th>\n",
       "      <td>M</td>\n",
       "      <td>18</td>\n",
       "      <td>LE3</td>\n",
       "      <td>T</td>\n",
       "      <td>3</td>\n",
       "      <td>2</td>\n",
       "      <td>services</td>\n",
       "      <td>other</td>\n",
       "      <td>mother</td>\n",
       "      <td>1</td>\n",
       "      <td>...</td>\n",
       "      <td>4</td>\n",
       "      <td>4</td>\n",
       "      <td>1</td>\n",
       "      <td>5</td>\n",
       "      <td>0</td>\n",
       "      <td>11</td>\n",
       "      <td>12</td>\n",
       "      <td>10</td>\n",
       "      <td>0</td>\n",
       "      <td>11.000000</td>\n",
       "    </tr>\n",
       "    <tr>\n",
       "      <th>394</th>\n",
       "      <td>M</td>\n",
       "      <td>19</td>\n",
       "      <td>LE3</td>\n",
       "      <td>T</td>\n",
       "      <td>1</td>\n",
       "      <td>1</td>\n",
       "      <td>other</td>\n",
       "      <td>at_home</td>\n",
       "      <td>father</td>\n",
       "      <td>1</td>\n",
       "      <td>...</td>\n",
       "      <td>3</td>\n",
       "      <td>2</td>\n",
       "      <td>3</td>\n",
       "      <td>5</td>\n",
       "      <td>5</td>\n",
       "      <td>8</td>\n",
       "      <td>9</td>\n",
       "      <td>9</td>\n",
       "      <td>0</td>\n",
       "      <td>8.666667</td>\n",
       "    </tr>\n",
       "  </tbody>\n",
       "</table>\n",
       "<p>395 rows × 26 columns</p>\n",
       "</div>"
      ],
      "text/plain": [
       "    sex  age famsize Pstatus  Medu  Fedu      Mjob      Fjob guardian  \\\n",
       "0     F   18     GT3       A     4     4   at_home   teacher   mother   \n",
       "1     F   17     GT3       T     1     1   at_home     other   father   \n",
       "2     F   15     LE3       T     1     1   at_home     other   mother   \n",
       "3     F   15     GT3       T     4     2    health  services   mother   \n",
       "4     F   16     GT3       T     3     3     other     other   father   \n",
       "..   ..  ...     ...     ...   ...   ...       ...       ...      ...   \n",
       "390   M   20     LE3       A     2     2  services  services    other   \n",
       "391   M   17     LE3       T     3     1  services  services   mother   \n",
       "392   M   21     GT3       T     1     1     other     other    other   \n",
       "393   M   18     LE3       T     3     2  services     other   mother   \n",
       "394   M   19     LE3       T     1     1     other   at_home   father   \n",
       "\n",
       "     studytime  ... famrel freetime goout health absences  G1  G2  G3  stress  \\\n",
       "0            2  ...      4        3     4      3        6   5   6   6       0   \n",
       "1            2  ...      5        3     3      3        4   5   5   6       0   \n",
       "2            2  ...      4        3     2      3       10   7   8  10       0   \n",
       "3            3  ...      3        2     2      5        2  15  14  15       0   \n",
       "4            2  ...      4        3     2      5        4   6  10  10       0   \n",
       "..         ...  ...    ...      ...   ...    ...      ...  ..  ..  ..     ...   \n",
       "390          2  ...      5        5     4      4       11   9   9   9       1   \n",
       "391          1  ...      2        4     5      2        3  14  16  16       0   \n",
       "392          1  ...      5        5     3      3        3  10   8   7       1   \n",
       "393          1  ...      4        4     1      5        0  11  12  10       0   \n",
       "394          1  ...      3        2     3      5        5   8   9   9       0   \n",
       "\n",
       "      avgGrade  \n",
       "0     5.666667  \n",
       "1     5.333333  \n",
       "2     8.333333  \n",
       "3    14.666667  \n",
       "4     8.666667  \n",
       "..         ...  \n",
       "390   9.000000  \n",
       "391  15.333333  \n",
       "392   8.333333  \n",
       "393  11.000000  \n",
       "394   8.666667  \n",
       "\n",
       "[395 rows x 26 columns]"
      ]
     },
     "execution_count": 736,
     "metadata": {},
     "output_type": "execute_result"
    }
   ],
   "source": [
    "df1"
   ]
  },
  {
   "cell_type": "code",
   "execution_count": 741,
   "id": "384b3c5f",
   "metadata": {},
   "outputs": [
    {
     "data": {
      "text/plain": [
       "0.13456471886640678"
      ]
     },
     "execution_count": 741,
     "metadata": {},
     "output_type": "execute_result"
    }
   ],
   "source": [
    "#Find the correlation between studytime and average grades\n",
    "correlation=df1['studytime'].corr(df1['avgGrade'])\n",
    "correlation"
   ]
  },
  {
   "cell_type": "code",
   "execution_count": 746,
   "id": "834ace88",
   "metadata": {},
   "outputs": [
    {
     "data": {
      "text/plain": [
       "(array([10., 17., 33., 43., 76., 73., 62., 52., 16., 13.]),\n",
       " array([ 1.33333333,  3.13333333,  4.93333333,  6.73333333,  8.53333333,\n",
       "        10.33333333, 12.13333333, 13.93333333, 15.73333333, 17.53333333,\n",
       "        19.33333333]),\n",
       " <BarContainer object of 10 artists>)"
      ]
     },
     "execution_count": 746,
     "metadata": {},
     "output_type": "execute_result"
    },
    {
     "data": {
      "image/png": "[encoded data removed]",
      "text/plain": [
       "<Figure size 640x480 with 1 Axes>"
      ]
     },
     "metadata": {},
     "output_type": "display_data"
    }
   ],
   "source": [
    "df1['avgGrade']\n",
    "plt.hist(df1['avgGrade'],edgecolor='black')"
   ]
  },
  {
   "cell_type": "code",
   "execution_count": 748,
   "id": "a6675048",
   "metadata": {},
   "outputs": [
    {
     "data": {
      "text/html": [
       "<div>\n",
       "<style scoped>\n",
       "    .dataframe tbody tr th:only-of-type {\n",
       "        vertical-align: middle;\n",
       "    }\n",
       "\n",
       "    .dataframe tbody tr th {\n",
       "        vertical-align: top;\n",
       "    }\n",
       "\n",
       "    .dataframe thead th {\n",
       "        text-align: right;\n",
       "    }\n",
       "</style>\n",
       "<table border=\"1\" class=\"dataframe\">\n",
       "  <thead>\n",
       "    <tr style=\"text-align: right;\">\n",
       "      <th></th>\n",
       "      <th>sex</th>\n",
       "      <th>age</th>\n",
       "      <th>famsize</th>\n",
       "      <th>Pstatus</th>\n",
       "      <th>Medu</th>\n",
       "      <th>Fedu</th>\n",
       "      <th>Mjob</th>\n",
       "      <th>Fjob</th>\n",
       "      <th>guardian</th>\n",
       "      <th>studytime</th>\n",
       "      <th>...</th>\n",
       "      <th>famrel</th>\n",
       "      <th>freetime</th>\n",
       "      <th>goout</th>\n",
       "      <th>health</th>\n",
       "      <th>absences</th>\n",
       "      <th>G1</th>\n",
       "      <th>G2</th>\n",
       "      <th>G3</th>\n",
       "      <th>stress</th>\n",
       "      <th>avgGrade</th>\n",
       "    </tr>\n",
       "  </thead>\n",
       "  <tbody>\n",
       "    <tr>\n",
       "      <th>0</th>\n",
       "      <td>F</td>\n",
       "      <td>18</td>\n",
       "      <td>GT3</td>\n",
       "      <td>A</td>\n",
       "      <td>4</td>\n",
       "      <td>4</td>\n",
       "      <td>at_home</td>\n",
       "      <td>teacher</td>\n",
       "      <td>mother</td>\n",
       "      <td>2</td>\n",
       "      <td>...</td>\n",
       "      <td>4</td>\n",
       "      <td>3</td>\n",
       "      <td>4</td>\n",
       "      <td>3</td>\n",
       "      <td>6</td>\n",
       "      <td>5</td>\n",
       "      <td>6</td>\n",
       "      <td>6</td>\n",
       "      <td>0</td>\n",
       "      <td>5.666667</td>\n",
       "    </tr>\n",
       "    <tr>\n",
       "      <th>1</th>\n",
       "      <td>F</td>\n",
       "      <td>17</td>\n",
       "      <td>GT3</td>\n",
       "      <td>T</td>\n",
       "      <td>1</td>\n",
       "      <td>1</td>\n",
       "      <td>at_home</td>\n",
       "      <td>other</td>\n",
       "      <td>father</td>\n",
       "      <td>2</td>\n",
       "      <td>...</td>\n",
       "      <td>5</td>\n",
       "      <td>3</td>\n",
       "      <td>3</td>\n",
       "      <td>3</td>\n",
       "      <td>4</td>\n",
       "      <td>5</td>\n",
       "      <td>5</td>\n",
       "      <td>6</td>\n",
       "      <td>0</td>\n",
       "      <td>5.333333</td>\n",
       "    </tr>\n",
       "    <tr>\n",
       "      <th>2</th>\n",
       "      <td>F</td>\n",
       "      <td>15</td>\n",
       "      <td>LE3</td>\n",
       "      <td>T</td>\n",
       "      <td>1</td>\n",
       "      <td>1</td>\n",
       "      <td>at_home</td>\n",
       "      <td>other</td>\n",
       "      <td>mother</td>\n",
       "      <td>2</td>\n",
       "      <td>...</td>\n",
       "      <td>4</td>\n",
       "      <td>3</td>\n",
       "      <td>2</td>\n",
       "      <td>3</td>\n",
       "      <td>10</td>\n",
       "      <td>7</td>\n",
       "      <td>8</td>\n",
       "      <td>10</td>\n",
       "      <td>0</td>\n",
       "      <td>8.333333</td>\n",
       "    </tr>\n",
       "    <tr>\n",
       "      <th>3</th>\n",
       "      <td>F</td>\n",
       "      <td>15</td>\n",
       "      <td>GT3</td>\n",
       "      <td>T</td>\n",
       "      <td>4</td>\n",
       "      <td>2</td>\n",
       "      <td>health</td>\n",
       "      <td>services</td>\n",
       "      <td>mother</td>\n",
       "      <td>3</td>\n",
       "      <td>...</td>\n",
       "      <td>3</td>\n",
       "      <td>2</td>\n",
       "      <td>2</td>\n",
       "      <td>5</td>\n",
       "      <td>2</td>\n",
       "      <td>15</td>\n",
       "      <td>14</td>\n",
       "      <td>15</td>\n",
       "      <td>0</td>\n",
       "      <td>14.666667</td>\n",
       "    </tr>\n",
       "    <tr>\n",
       "      <th>4</th>\n",
       "      <td>F</td>\n",
       "      <td>16</td>\n",
       "      <td>GT3</td>\n",
       "      <td>T</td>\n",
       "      <td>3</td>\n",
       "      <td>3</td>\n",
       "      <td>other</td>\n",
       "      <td>other</td>\n",
       "      <td>father</td>\n",
       "      <td>2</td>\n",
       "      <td>...</td>\n",
       "      <td>4</td>\n",
       "      <td>3</td>\n",
       "      <td>2</td>\n",
       "      <td>5</td>\n",
       "      <td>4</td>\n",
       "      <td>6</td>\n",
       "      <td>10</td>\n",
       "      <td>10</td>\n",
       "      <td>0</td>\n",
       "      <td>8.666667</td>\n",
       "    </tr>\n",
       "    <tr>\n",
       "      <th>...</th>\n",
       "      <td>...</td>\n",
       "      <td>...</td>\n",
       "      <td>...</td>\n",
       "      <td>...</td>\n",
       "      <td>...</td>\n",
       "      <td>...</td>\n",
       "      <td>...</td>\n",
       "      <td>...</td>\n",
       "      <td>...</td>\n",
       "      <td>...</td>\n",
       "      <td>...</td>\n",
       "      <td>...</td>\n",
       "      <td>...</td>\n",
       "      <td>...</td>\n",
       "      <td>...</td>\n",
       "      <td>...</td>\n",
       "      <td>...</td>\n",
       "      <td>...</td>\n",
       "      <td>...</td>\n",
       "      <td>...</td>\n",
       "      <td>...</td>\n",
       "    </tr>\n",
       "    <tr>\n",
       "      <th>390</th>\n",
       "      <td>M</td>\n",
       "      <td>20</td>\n",
       "      <td>LE3</td>\n",
       "      <td>A</td>\n",
       "      <td>2</td>\n",
       "      <td>2</td>\n",
       "      <td>services</td>\n",
       "      <td>services</td>\n",
       "      <td>other</td>\n",
       "      <td>2</td>\n",
       "      <td>...</td>\n",
       "      <td>5</td>\n",
       "      <td>5</td>\n",
       "      <td>4</td>\n",
       "      <td>4</td>\n",
       "      <td>11</td>\n",
       "      <td>9</td>\n",
       "      <td>9</td>\n",
       "      <td>9</td>\n",
       "      <td>1</td>\n",
       "      <td>9.000000</td>\n",
       "    </tr>\n",
       "    <tr>\n",
       "      <th>391</th>\n",
       "      <td>M</td>\n",
       "      <td>17</td>\n",
       "      <td>LE3</td>\n",
       "      <td>T</td>\n",
       "      <td>3</td>\n",
       "      <td>1</td>\n",
       "      <td>services</td>\n",
       "      <td>services</td>\n",
       "      <td>mother</td>\n",
       "      <td>1</td>\n",
       "      <td>...</td>\n",
       "      <td>2</td>\n",
       "      <td>4</td>\n",
       "      <td>5</td>\n",
       "      <td>2</td>\n",
       "      <td>3</td>\n",
       "      <td>14</td>\n",
       "      <td>16</td>\n",
       "      <td>16</td>\n",
       "      <td>0</td>\n",
       "      <td>15.333333</td>\n",
       "    </tr>\n",
       "    <tr>\n",
       "      <th>392</th>\n",
       "      <td>M</td>\n",
       "      <td>21</td>\n",
       "      <td>GT3</td>\n",
       "      <td>T</td>\n",
       "      <td>1</td>\n",
       "      <td>1</td>\n",
       "      <td>other</td>\n",
       "      <td>other</td>\n",
       "      <td>other</td>\n",
       "      <td>1</td>\n",
       "      <td>...</td>\n",
       "      <td>5</td>\n",
       "      <td>5</td>\n",
       "      <td>3</td>\n",
       "      <td>3</td>\n",
       "      <td>3</td>\n",
       "      <td>10</td>\n",
       "      <td>8</td>\n",
       "      <td>7</td>\n",
       "      <td>1</td>\n",
       "      <td>8.333333</td>\n",
       "    </tr>\n",
       "    <tr>\n",
       "      <th>393</th>\n",
       "      <td>M</td>\n",
       "      <td>18</td>\n",
       "      <td>LE3</td>\n",
       "      <td>T</td>\n",
       "      <td>3</td>\n",
       "      <td>2</td>\n",
       "      <td>services</td>\n",
       "      <td>other</td>\n",
       "      <td>mother</td>\n",
       "      <td>1</td>\n",
       "      <td>...</td>\n",
       "      <td>4</td>\n",
       "      <td>4</td>\n",
       "      <td>1</td>\n",
       "      <td>5</td>\n",
       "      <td>0</td>\n",
       "      <td>11</td>\n",
       "      <td>12</td>\n",
       "      <td>10</td>\n",
       "      <td>0</td>\n",
       "      <td>11.000000</td>\n",
       "    </tr>\n",
       "    <tr>\n",
       "      <th>394</th>\n",
       "      <td>M</td>\n",
       "      <td>19</td>\n",
       "      <td>LE3</td>\n",
       "      <td>T</td>\n",
       "      <td>1</td>\n",
       "      <td>1</td>\n",
       "      <td>other</td>\n",
       "      <td>at_home</td>\n",
       "      <td>father</td>\n",
       "      <td>1</td>\n",
       "      <td>...</td>\n",
       "      <td>3</td>\n",
       "      <td>2</td>\n",
       "      <td>3</td>\n",
       "      <td>5</td>\n",
       "      <td>5</td>\n",
       "      <td>8</td>\n",
       "      <td>9</td>\n",
       "      <td>9</td>\n",
       "      <td>0</td>\n",
       "      <td>8.666667</td>\n",
       "    </tr>\n",
       "  </tbody>\n",
       "</table>\n",
       "<p>395 rows × 26 columns</p>\n",
       "</div>"
      ],
      "text/plain": [
       "    sex  age famsize Pstatus  Medu  Fedu      Mjob      Fjob guardian  \\\n",
       "0     F   18     GT3       A     4     4   at_home   teacher   mother   \n",
       "1     F   17     GT3       T     1     1   at_home     other   father   \n",
       "2     F   15     LE3       T     1     1   at_home     other   mother   \n",
       "3     F   15     GT3       T     4     2    health  services   mother   \n",
       "4     F   16     GT3       T     3     3     other     other   father   \n",
       "..   ..  ...     ...     ...   ...   ...       ...       ...      ...   \n",
       "390   M   20     LE3       A     2     2  services  services    other   \n",
       "391   M   17     LE3       T     3     1  services  services   mother   \n",
       "392   M   21     GT3       T     1     1     other     other    other   \n",
       "393   M   18     LE3       T     3     2  services     other   mother   \n",
       "394   M   19     LE3       T     1     1     other   at_home   father   \n",
       "\n",
       "     studytime  ... famrel freetime goout health absences  G1  G2  G3  stress  \\\n",
       "0            2  ...      4        3     4      3        6   5   6   6       0   \n",
       "1            2  ...      5        3     3      3        4   5   5   6       0   \n",
       "2            2  ...      4        3     2      3       10   7   8  10       0   \n",
       "3            3  ...      3        2     2      5        2  15  14  15       0   \n",
       "4            2  ...      4        3     2      5        4   6  10  10       0   \n",
       "..         ...  ...    ...      ...   ...    ...      ...  ..  ..  ..     ...   \n",
       "390          2  ...      5        5     4      4       11   9   9   9       1   \n",
       "391          1  ...      2        4     5      2        3  14  16  16       0   \n",
       "392          1  ...      5        5     3      3        3  10   8   7       1   \n",
       "393          1  ...      4        4     1      5        0  11  12  10       0   \n",
       "394          1  ...      3        2     3      5        5   8   9   9       0   \n",
       "\n",
       "      avgGrade  \n",
       "0     5.666667  \n",
       "1     5.333333  \n",
       "2     8.333333  \n",
       "3    14.666667  \n",
       "4     8.666667  \n",
       "..         ...  \n",
       "390   9.000000  \n",
       "391  15.333333  \n",
       "392   8.333333  \n",
       "393  11.000000  \n",
       "394   8.666667  \n",
       "\n",
       "[395 rows x 26 columns]"
      ]
     },
     "execution_count": 748,
     "metadata": {},
     "output_type": "execute_result"
    }
   ],
   "source": [
    "df1"
   ]
  },
  {
   "cell_type": "code",
   "execution_count": 754,
   "id": "fbe05f35",
   "metadata": {},
   "outputs": [
    {
     "data": {
      "text/html": [
       "<div>\n",
       "<style scoped>\n",
       "    .dataframe tbody tr th:only-of-type {\n",
       "        vertical-align: middle;\n",
       "    }\n",
       "\n",
       "    .dataframe tbody tr th {\n",
       "        vertical-align: top;\n",
       "    }\n",
       "\n",
       "    .dataframe thead th {\n",
       "        text-align: right;\n",
       "    }\n",
       "</style>\n",
       "<table border=\"1\" class=\"dataframe\">\n",
       "  <thead>\n",
       "    <tr style=\"text-align: right;\">\n",
       "      <th>col_0</th>\n",
       "      <th>stress</th>\n",
       "    </tr>\n",
       "    <tr>\n",
       "      <th>famrel</th>\n",
       "      <th></th>\n",
       "    </tr>\n",
       "  </thead>\n",
       "  <tbody>\n",
       "    <tr>\n",
       "      <th>1</th>\n",
       "      <td>8</td>\n",
       "    </tr>\n",
       "    <tr>\n",
       "      <th>2</th>\n",
       "      <td>18</td>\n",
       "    </tr>\n",
       "    <tr>\n",
       "      <th>3</th>\n",
       "      <td>68</td>\n",
       "    </tr>\n",
       "    <tr>\n",
       "      <th>4</th>\n",
       "      <td>195</td>\n",
       "    </tr>\n",
       "    <tr>\n",
       "      <th>5</th>\n",
       "      <td>106</td>\n",
       "    </tr>\n",
       "  </tbody>\n",
       "</table>\n",
       "</div>"
      ],
      "text/plain": [
       "col_0   stress\n",
       "famrel        \n",
       "1            8\n",
       "2           18\n",
       "3           68\n",
       "4          195\n",
       "5          106"
      ]
     },
     "execution_count": 754,
     "metadata": {},
     "output_type": "execute_result"
    }
   ],
   "source": [
    "pd.crosstab(index=df1['famrel'],columns=['stress'])"
   ]
  },
  {
   "cell_type": "code",
   "execution_count": 759,
   "id": "572f1185",
   "metadata": {},
   "outputs": [
    {
     "data": {
      "text/plain": [
       "0       no\n",
       "1      yes\n",
       "2       no\n",
       "3      yes\n",
       "4      yes\n",
       "      ... \n",
       "390    yes\n",
       "391     no\n",
       "392     no\n",
       "393     no\n",
       "394     no\n",
       "Name: famsup, Length: 395, dtype: object"
      ]
     },
     "execution_count": 759,
     "metadata": {},
     "output_type": "execute_result"
    }
   ],
   "source": [
    "df1.famsup"
   ]
  },
  {
   "cell_type": "code",
   "execution_count": 764,
   "id": "d2800f0c",
   "metadata": {},
   "outputs": [
    {
     "data": {
      "text/html": [
       "<div>\n",
       "<style scoped>\n",
       "    .dataframe tbody tr th:only-of-type {\n",
       "        vertical-align: middle;\n",
       "    }\n",
       "\n",
       "    .dataframe tbody tr th {\n",
       "        vertical-align: top;\n",
       "    }\n",
       "\n",
       "    .dataframe thead tr th {\n",
       "        text-align: left;\n",
       "    }\n",
       "\n",
       "    .dataframe thead tr:last-of-type th {\n",
       "        text-align: right;\n",
       "    }\n",
       "</style>\n",
       "<table border=\"1\" class=\"dataframe\">\n",
       "  <thead>\n",
       "    <tr>\n",
       "      <th></th>\n",
       "      <th></th>\n",
       "      <th colspan=\"2\" halign=\"left\">Fedu</th>\n",
       "      <th colspan=\"2\" halign=\"left\">Fjob</th>\n",
       "      <th colspan=\"2\" halign=\"left\">G1</th>\n",
       "      <th colspan=\"2\" halign=\"left\">G2</th>\n",
       "      <th colspan=\"2\" halign=\"left\">G3</th>\n",
       "      <th>...</th>\n",
       "      <th colspan=\"2\" halign=\"left\">paid</th>\n",
       "      <th colspan=\"2\" halign=\"left\">romantic</th>\n",
       "      <th colspan=\"2\" halign=\"left\">schoolsup</th>\n",
       "      <th colspan=\"2\" halign=\"left\">sex</th>\n",
       "      <th colspan=\"2\" halign=\"left\">studytime</th>\n",
       "    </tr>\n",
       "    <tr>\n",
       "      <th></th>\n",
       "      <th>stress</th>\n",
       "      <th>0</th>\n",
       "      <th>1</th>\n",
       "      <th>0</th>\n",
       "      <th>1</th>\n",
       "      <th>0</th>\n",
       "      <th>1</th>\n",
       "      <th>0</th>\n",
       "      <th>1</th>\n",
       "      <th>0</th>\n",
       "      <th>1</th>\n",
       "      <th>...</th>\n",
       "      <th>0</th>\n",
       "      <th>1</th>\n",
       "      <th>0</th>\n",
       "      <th>1</th>\n",
       "      <th>0</th>\n",
       "      <th>1</th>\n",
       "      <th>0</th>\n",
       "      <th>1</th>\n",
       "      <th>0</th>\n",
       "      <th>1</th>\n",
       "    </tr>\n",
       "    <tr>\n",
       "      <th>famsize</th>\n",
       "      <th>famsup</th>\n",
       "      <th></th>\n",
       "      <th></th>\n",
       "      <th></th>\n",
       "      <th></th>\n",
       "      <th></th>\n",
       "      <th></th>\n",
       "      <th></th>\n",
       "      <th></th>\n",
       "      <th></th>\n",
       "      <th></th>\n",
       "      <th></th>\n",
       "      <th></th>\n",
       "      <th></th>\n",
       "      <th></th>\n",
       "      <th></th>\n",
       "      <th></th>\n",
       "      <th></th>\n",
       "      <th></th>\n",
       "      <th></th>\n",
       "      <th></th>\n",
       "      <th></th>\n",
       "    </tr>\n",
       "  </thead>\n",
       "  <tbody>\n",
       "    <tr>\n",
       "      <th rowspan=\"2\" valign=\"top\">GT3</th>\n",
       "      <th>no</th>\n",
       "      <td>81</td>\n",
       "      <td>18</td>\n",
       "      <td>81</td>\n",
       "      <td>18</td>\n",
       "      <td>81</td>\n",
       "      <td>18</td>\n",
       "      <td>81</td>\n",
       "      <td>18</td>\n",
       "      <td>81</td>\n",
       "      <td>18</td>\n",
       "      <td>...</td>\n",
       "      <td>81</td>\n",
       "      <td>18</td>\n",
       "      <td>81</td>\n",
       "      <td>18</td>\n",
       "      <td>81</td>\n",
       "      <td>18</td>\n",
       "      <td>81</td>\n",
       "      <td>18</td>\n",
       "      <td>81</td>\n",
       "      <td>18</td>\n",
       "    </tr>\n",
       "    <tr>\n",
       "      <th>yes</th>\n",
       "      <td>138</td>\n",
       "      <td>44</td>\n",
       "      <td>138</td>\n",
       "      <td>44</td>\n",
       "      <td>138</td>\n",
       "      <td>44</td>\n",
       "      <td>138</td>\n",
       "      <td>44</td>\n",
       "      <td>138</td>\n",
       "      <td>44</td>\n",
       "      <td>...</td>\n",
       "      <td>138</td>\n",
       "      <td>44</td>\n",
       "      <td>138</td>\n",
       "      <td>44</td>\n",
       "      <td>138</td>\n",
       "      <td>44</td>\n",
       "      <td>138</td>\n",
       "      <td>44</td>\n",
       "      <td>138</td>\n",
       "      <td>44</td>\n",
       "    </tr>\n",
       "    <tr>\n",
       "      <th rowspan=\"2\" valign=\"top\">LE3</th>\n",
       "      <th>no</th>\n",
       "      <td>42</td>\n",
       "      <td>12</td>\n",
       "      <td>42</td>\n",
       "      <td>12</td>\n",
       "      <td>42</td>\n",
       "      <td>12</td>\n",
       "      <td>42</td>\n",
       "      <td>12</td>\n",
       "      <td>42</td>\n",
       "      <td>12</td>\n",
       "      <td>...</td>\n",
       "      <td>42</td>\n",
       "      <td>12</td>\n",
       "      <td>42</td>\n",
       "      <td>12</td>\n",
       "      <td>42</td>\n",
       "      <td>12</td>\n",
       "      <td>42</td>\n",
       "      <td>12</td>\n",
       "      <td>42</td>\n",
       "      <td>12</td>\n",
       "    </tr>\n",
       "    <tr>\n",
       "      <th>yes</th>\n",
       "      <td>45</td>\n",
       "      <td>15</td>\n",
       "      <td>45</td>\n",
       "      <td>15</td>\n",
       "      <td>45</td>\n",
       "      <td>15</td>\n",
       "      <td>45</td>\n",
       "      <td>15</td>\n",
       "      <td>45</td>\n",
       "      <td>15</td>\n",
       "      <td>...</td>\n",
       "      <td>45</td>\n",
       "      <td>15</td>\n",
       "      <td>45</td>\n",
       "      <td>15</td>\n",
       "      <td>45</td>\n",
       "      <td>15</td>\n",
       "      <td>45</td>\n",
       "      <td>15</td>\n",
       "      <td>45</td>\n",
       "      <td>15</td>\n",
       "    </tr>\n",
       "  </tbody>\n",
       "</table>\n",
       "<p>4 rows × 46 columns</p>\n",
       "</div>"
      ],
      "text/plain": [
       "               Fedu     Fjob       G1       G2       G3      ... paid      \\\n",
       "stress            0   1    0   1    0   1    0   1    0   1  ...    0   1   \n",
       "famsize famsup                                               ...            \n",
       "GT3     no       81  18   81  18   81  18   81  18   81  18  ...   81  18   \n",
       "        yes     138  44  138  44  138  44  138  44  138  44  ...  138  44   \n",
       "LE3     no       42  12   42  12   42  12   42  12   42  12  ...   42  12   \n",
       "        yes      45  15   45  15   45  15   45  15   45  15  ...   45  15   \n",
       "\n",
       "               romantic     schoolsup      sex     studytime      \n",
       "stress                0   1         0   1    0   1         0   1  \n",
       "famsize famsup                                                    \n",
       "GT3     no           81  18        81  18   81  18        81  18  \n",
       "        yes         138  44       138  44  138  44       138  44  \n",
       "LE3     no           42  12        42  12   42  12        42  12  \n",
       "        yes          45  15        45  15   45  15        45  15  \n",
       "\n",
       "[4 rows x 46 columns]"
      ]
     },
     "execution_count": 764,
     "metadata": {},
     "output_type": "execute_result"
    }
   ],
   "source": [
    "#Create a pivot table to include stressed student's count with respect to\n",
    "#information of the size of family, family's support for education (3 Marks)\n",
    "\n",
    "pivot=pd.pivot_table(index=['famsize','famsup'],columns='stress',aggfunc='count',data=df1)\n",
    "pivot\n"
   ]
  },
  {
   "cell_type": "code",
   "execution_count": 766,
   "id": "38c8c556",
   "metadata": {},
   "outputs": [
    {
     "data": {
      "text/html": [
       "<div>\n",
       "<style scoped>\n",
       "    .dataframe tbody tr th:only-of-type {\n",
       "        vertical-align: middle;\n",
       "    }\n",
       "\n",
       "    .dataframe tbody tr th {\n",
       "        vertical-align: top;\n",
       "    }\n",
       "\n",
       "    .dataframe thead th {\n",
       "        text-align: right;\n",
       "    }\n",
       "</style>\n",
       "<table border=\"1\" class=\"dataframe\">\n",
       "  <thead>\n",
       "    <tr style=\"text-align: right;\">\n",
       "      <th></th>\n",
       "      <th>sex</th>\n",
       "      <th>age</th>\n",
       "      <th>famsize</th>\n",
       "      <th>Pstatus</th>\n",
       "      <th>Medu</th>\n",
       "      <th>Fedu</th>\n",
       "      <th>Mjob</th>\n",
       "      <th>Fjob</th>\n",
       "      <th>guardian</th>\n",
       "      <th>studytime</th>\n",
       "      <th>...</th>\n",
       "      <th>famrel</th>\n",
       "      <th>freetime</th>\n",
       "      <th>goout</th>\n",
       "      <th>health</th>\n",
       "      <th>absences</th>\n",
       "      <th>G1</th>\n",
       "      <th>G2</th>\n",
       "      <th>G3</th>\n",
       "      <th>stress</th>\n",
       "      <th>avgGrade</th>\n",
       "    </tr>\n",
       "  </thead>\n",
       "  <tbody>\n",
       "    <tr>\n",
       "      <th>0</th>\n",
       "      <td>F</td>\n",
       "      <td>18</td>\n",
       "      <td>GT3</td>\n",
       "      <td>A</td>\n",
       "      <td>4</td>\n",
       "      <td>4</td>\n",
       "      <td>at_home</td>\n",
       "      <td>teacher</td>\n",
       "      <td>mother</td>\n",
       "      <td>2</td>\n",
       "      <td>...</td>\n",
       "      <td>4</td>\n",
       "      <td>3</td>\n",
       "      <td>4</td>\n",
       "      <td>3</td>\n",
       "      <td>6</td>\n",
       "      <td>5</td>\n",
       "      <td>6</td>\n",
       "      <td>6</td>\n",
       "      <td>0</td>\n",
       "      <td>5.666667</td>\n",
       "    </tr>\n",
       "    <tr>\n",
       "      <th>1</th>\n",
       "      <td>F</td>\n",
       "      <td>17</td>\n",
       "      <td>GT3</td>\n",
       "      <td>T</td>\n",
       "      <td>1</td>\n",
       "      <td>1</td>\n",
       "      <td>at_home</td>\n",
       "      <td>other</td>\n",
       "      <td>father</td>\n",
       "      <td>2</td>\n",
       "      <td>...</td>\n",
       "      <td>5</td>\n",
       "      <td>3</td>\n",
       "      <td>3</td>\n",
       "      <td>3</td>\n",
       "      <td>4</td>\n",
       "      <td>5</td>\n",
       "      <td>5</td>\n",
       "      <td>6</td>\n",
       "      <td>0</td>\n",
       "      <td>5.333333</td>\n",
       "    </tr>\n",
       "    <tr>\n",
       "      <th>2</th>\n",
       "      <td>F</td>\n",
       "      <td>15</td>\n",
       "      <td>LE3</td>\n",
       "      <td>T</td>\n",
       "      <td>1</td>\n",
       "      <td>1</td>\n",
       "      <td>at_home</td>\n",
       "      <td>other</td>\n",
       "      <td>mother</td>\n",
       "      <td>2</td>\n",
       "      <td>...</td>\n",
       "      <td>4</td>\n",
       "      <td>3</td>\n",
       "      <td>2</td>\n",
       "      <td>3</td>\n",
       "      <td>10</td>\n",
       "      <td>7</td>\n",
       "      <td>8</td>\n",
       "      <td>10</td>\n",
       "      <td>0</td>\n",
       "      <td>8.333333</td>\n",
       "    </tr>\n",
       "    <tr>\n",
       "      <th>3</th>\n",
       "      <td>F</td>\n",
       "      <td>15</td>\n",
       "      <td>GT3</td>\n",
       "      <td>T</td>\n",
       "      <td>4</td>\n",
       "      <td>2</td>\n",
       "      <td>health</td>\n",
       "      <td>services</td>\n",
       "      <td>mother</td>\n",
       "      <td>3</td>\n",
       "      <td>...</td>\n",
       "      <td>3</td>\n",
       "      <td>2</td>\n",
       "      <td>2</td>\n",
       "      <td>5</td>\n",
       "      <td>2</td>\n",
       "      <td>15</td>\n",
       "      <td>14</td>\n",
       "      <td>15</td>\n",
       "      <td>0</td>\n",
       "      <td>14.666667</td>\n",
       "    </tr>\n",
       "    <tr>\n",
       "      <th>4</th>\n",
       "      <td>F</td>\n",
       "      <td>16</td>\n",
       "      <td>GT3</td>\n",
       "      <td>T</td>\n",
       "      <td>3</td>\n",
       "      <td>3</td>\n",
       "      <td>other</td>\n",
       "      <td>other</td>\n",
       "      <td>father</td>\n",
       "      <td>2</td>\n",
       "      <td>...</td>\n",
       "      <td>4</td>\n",
       "      <td>3</td>\n",
       "      <td>2</td>\n",
       "      <td>5</td>\n",
       "      <td>4</td>\n",
       "      <td>6</td>\n",
       "      <td>10</td>\n",
       "      <td>10</td>\n",
       "      <td>0</td>\n",
       "      <td>8.666667</td>\n",
       "    </tr>\n",
       "    <tr>\n",
       "      <th>...</th>\n",
       "      <td>...</td>\n",
       "      <td>...</td>\n",
       "      <td>...</td>\n",
       "      <td>...</td>\n",
       "      <td>...</td>\n",
       "      <td>...</td>\n",
       "      <td>...</td>\n",
       "      <td>...</td>\n",
       "      <td>...</td>\n",
       "      <td>...</td>\n",
       "      <td>...</td>\n",
       "      <td>...</td>\n",
       "      <td>...</td>\n",
       "      <td>...</td>\n",
       "      <td>...</td>\n",
       "      <td>...</td>\n",
       "      <td>...</td>\n",
       "      <td>...</td>\n",
       "      <td>...</td>\n",
       "      <td>...</td>\n",
       "      <td>...</td>\n",
       "    </tr>\n",
       "    <tr>\n",
       "      <th>390</th>\n",
       "      <td>M</td>\n",
       "      <td>20</td>\n",
       "      <td>LE3</td>\n",
       "      <td>A</td>\n",
       "      <td>2</td>\n",
       "      <td>2</td>\n",
       "      <td>services</td>\n",
       "      <td>services</td>\n",
       "      <td>other</td>\n",
       "      <td>2</td>\n",
       "      <td>...</td>\n",
       "      <td>5</td>\n",
       "      <td>5</td>\n",
       "      <td>4</td>\n",
       "      <td>4</td>\n",
       "      <td>11</td>\n",
       "      <td>9</td>\n",
       "      <td>9</td>\n",
       "      <td>9</td>\n",
       "      <td>1</td>\n",
       "      <td>9.000000</td>\n",
       "    </tr>\n",
       "    <tr>\n",
       "      <th>391</th>\n",
       "      <td>M</td>\n",
       "      <td>17</td>\n",
       "      <td>LE3</td>\n",
       "      <td>T</td>\n",
       "      <td>3</td>\n",
       "      <td>1</td>\n",
       "      <td>services</td>\n",
       "      <td>services</td>\n",
       "      <td>mother</td>\n",
       "      <td>1</td>\n",
       "      <td>...</td>\n",
       "      <td>2</td>\n",
       "      <td>4</td>\n",
       "      <td>5</td>\n",
       "      <td>2</td>\n",
       "      <td>3</td>\n",
       "      <td>14</td>\n",
       "      <td>16</td>\n",
       "      <td>16</td>\n",
       "      <td>0</td>\n",
       "      <td>15.333333</td>\n",
       "    </tr>\n",
       "    <tr>\n",
       "      <th>392</th>\n",
       "      <td>M</td>\n",
       "      <td>21</td>\n",
       "      <td>GT3</td>\n",
       "      <td>T</td>\n",
       "      <td>1</td>\n",
       "      <td>1</td>\n",
       "      <td>other</td>\n",
       "      <td>other</td>\n",
       "      <td>other</td>\n",
       "      <td>1</td>\n",
       "      <td>...</td>\n",
       "      <td>5</td>\n",
       "      <td>5</td>\n",
       "      <td>3</td>\n",
       "      <td>3</td>\n",
       "      <td>3</td>\n",
       "      <td>10</td>\n",
       "      <td>8</td>\n",
       "      <td>7</td>\n",
       "      <td>1</td>\n",
       "      <td>8.333333</td>\n",
       "    </tr>\n",
       "    <tr>\n",
       "      <th>393</th>\n",
       "      <td>M</td>\n",
       "      <td>18</td>\n",
       "      <td>LE3</td>\n",
       "      <td>T</td>\n",
       "      <td>3</td>\n",
       "      <td>2</td>\n",
       "      <td>services</td>\n",
       "      <td>other</td>\n",
       "      <td>mother</td>\n",
       "      <td>1</td>\n",
       "      <td>...</td>\n",
       "      <td>4</td>\n",
       "      <td>4</td>\n",
       "      <td>1</td>\n",
       "      <td>5</td>\n",
       "      <td>0</td>\n",
       "      <td>11</td>\n",
       "      <td>12</td>\n",
       "      <td>10</td>\n",
       "      <td>0</td>\n",
       "      <td>11.000000</td>\n",
       "    </tr>\n",
       "    <tr>\n",
       "      <th>394</th>\n",
       "      <td>M</td>\n",
       "      <td>19</td>\n",
       "      <td>LE3</td>\n",
       "      <td>T</td>\n",
       "      <td>1</td>\n",
       "      <td>1</td>\n",
       "      <td>other</td>\n",
       "      <td>at_home</td>\n",
       "      <td>father</td>\n",
       "      <td>1</td>\n",
       "      <td>...</td>\n",
       "      <td>3</td>\n",
       "      <td>2</td>\n",
       "      <td>3</td>\n",
       "      <td>5</td>\n",
       "      <td>5</td>\n",
       "      <td>8</td>\n",
       "      <td>9</td>\n",
       "      <td>9</td>\n",
       "      <td>0</td>\n",
       "      <td>8.666667</td>\n",
       "    </tr>\n",
       "  </tbody>\n",
       "</table>\n",
       "<p>395 rows × 26 columns</p>\n",
       "</div>"
      ],
      "text/plain": [
       "    sex  age famsize Pstatus  Medu  Fedu      Mjob      Fjob guardian  \\\n",
       "0     F   18     GT3       A     4     4   at_home   teacher   mother   \n",
       "1     F   17     GT3       T     1     1   at_home     other   father   \n",
       "2     F   15     LE3       T     1     1   at_home     other   mother   \n",
       "3     F   15     GT3       T     4     2    health  services   mother   \n",
       "4     F   16     GT3       T     3     3     other     other   father   \n",
       "..   ..  ...     ...     ...   ...   ...       ...       ...      ...   \n",
       "390   M   20     LE3       A     2     2  services  services    other   \n",
       "391   M   17     LE3       T     3     1  services  services   mother   \n",
       "392   M   21     GT3       T     1     1     other     other    other   \n",
       "393   M   18     LE3       T     3     2  services     other   mother   \n",
       "394   M   19     LE3       T     1     1     other   at_home   father   \n",
       "\n",
       "     studytime  ... famrel freetime goout health absences  G1  G2  G3  stress  \\\n",
       "0            2  ...      4        3     4      3        6   5   6   6       0   \n",
       "1            2  ...      5        3     3      3        4   5   5   6       0   \n",
       "2            2  ...      4        3     2      3       10   7   8  10       0   \n",
       "3            3  ...      3        2     2      5        2  15  14  15       0   \n",
       "4            2  ...      4        3     2      5        4   6  10  10       0   \n",
       "..         ...  ...    ...      ...   ...    ...      ...  ..  ..  ..     ...   \n",
       "390          2  ...      5        5     4      4       11   9   9   9       1   \n",
       "391          1  ...      2        4     5      2        3  14  16  16       0   \n",
       "392          1  ...      5        5     3      3        3  10   8   7       1   \n",
       "393          1  ...      4        4     1      5        0  11  12  10       0   \n",
       "394          1  ...      3        2     3      5        5   8   9   9       0   \n",
       "\n",
       "      avgGrade  \n",
       "0     5.666667  \n",
       "1     5.333333  \n",
       "2     8.333333  \n",
       "3    14.666667  \n",
       "4     8.666667  \n",
       "..         ...  \n",
       "390   9.000000  \n",
       "391  15.333333  \n",
       "392   8.333333  \n",
       "393  11.000000  \n",
       "394   8.666667  \n",
       "\n",
       "[395 rows x 26 columns]"
      ]
     },
     "execution_count": 766,
     "metadata": {},
     "output_type": "execute_result"
    }
   ],
   "source": [
    "df1"
   ]
  },
  {
   "cell_type": "code",
   "execution_count": 785,
   "id": "f729ee20",
   "metadata": {},
   "outputs": [
    {
     "data": {
      "text/plain": [
       "3.6666666666666665"
      ]
     },
     "execution_count": 785,
     "metadata": {},
     "output_type": "execute_result"
    }
   ],
   "source": [
    "filtered_df = df1[(df1['Fedu']==4) & (df1['Medu']==4)]\n",
    "#filtered_df = df1[(df1['Medu'] == 4) & (df1['Fedu'] == 4)]\n",
    "filtered_df['avgGrade'].mean()\n",
    "filtered_df['avgGrade'].max()\n",
    "filtered_df['avgGrade'].min()"
   ]
  },
  {
   "cell_type": "code",
   "execution_count": 786,
   "id": "4adae9b7",
   "metadata": {},
   "outputs": [],
   "source": [
    "#How much average free time does a student living in a family with greater than\n",
    "#3 members. How many students with free time less than average free time in such\n",
    "#families are stressed (5 Marks)"
   ]
  },
  {
   "cell_type": "code",
   "execution_count": 790,
   "id": "46913265",
   "metadata": {},
   "outputs": [
    {
     "data": {
      "text/plain": [
       "3.224199288256228"
      ]
     },
     "execution_count": 790,
     "metadata": {},
     "output_type": "execute_result"
    }
   ],
   "source": [
    "df1[df1['famsize'] == 'GT3']['freetime'].mean()"
   ]
  },
  {
   "cell_type": "code",
   "execution_count": 791,
   "id": "f54ac778",
   "metadata": {},
   "outputs": [
    {
     "data": {
      "text/plain": [
       "3.224199288256228"
      ]
     },
     "execution_count": 791,
     "metadata": {},
     "output_type": "execute_result"
    }
   ],
   "source": [
    "df1[df1['famsize'] == 'GT3']['freetime'].mean()"
   ]
  },
  {
   "cell_type": "code",
   "execution_count": 800,
   "id": "ab657a27",
   "metadata": {},
   "outputs": [
    {
     "data": {
      "text/plain": [
       "sex           155\n",
       "age           155\n",
       "famsize       155\n",
       "Pstatus       155\n",
       "Medu          155\n",
       "Fedu          155\n",
       "Mjob          155\n",
       "Fjob          155\n",
       "guardian      155\n",
       "studytime     155\n",
       "schoolsup     155\n",
       "famsup        155\n",
       "paid          155\n",
       "activities    155\n",
       "internet      155\n",
       "romantic      155\n",
       "famrel        155\n",
       "freetime      155\n",
       "goout         155\n",
       "health        155\n",
       "absences      155\n",
       "G1            155\n",
       "G2            155\n",
       "G3            155\n",
       "stress        155\n",
       "avgGrade      155\n",
       "dtype: int64"
      ]
     },
     "execution_count": 800,
     "metadata": {},
     "output_type": "execute_result"
    }
   ],
   "source": [
    "df1[df1['freetime'] > df1[df1['famsize'] == 'GT3']['freetime'].mean()].count()"
   ]
  },
  {
   "cell_type": "code",
   "execution_count": 802,
   "id": "b7b7ea19",
   "metadata": {},
   "outputs": [
    {
     "data": {
      "text/plain": [
       "sex           240\n",
       "age           240\n",
       "famsize       240\n",
       "Pstatus       240\n",
       "Medu          240\n",
       "Fedu          240\n",
       "Mjob          240\n",
       "Fjob          240\n",
       "guardian      240\n",
       "studytime     240\n",
       "schoolsup     240\n",
       "famsup        240\n",
       "paid          240\n",
       "activities    240\n",
       "internet      240\n",
       "romantic      240\n",
       "famrel        240\n",
       "freetime      240\n",
       "goout         240\n",
       "health        240\n",
       "absences      240\n",
       "G1            240\n",
       "G2            240\n",
       "G3            240\n",
       "stress        240\n",
       "avgGrade      240\n",
       "dtype: int64"
      ]
     },
     "execution_count": 802,
     "metadata": {},
     "output_type": "execute_result"
    }
   ],
   "source": [
    "df1[df1['freetime'] < df1[df1['famsize'] == 'GT3']['freetime'].mean()].count()"
   ]
  },
  {
   "cell_type": "code",
   "execution_count": 804,
   "id": "14dab041",
   "metadata": {},
   "outputs": [
    {
     "data": {
      "text/plain": [
       "395"
      ]
     },
     "execution_count": 804,
     "metadata": {},
     "output_type": "execute_result"
    }
   ],
   "source": [
    "240+155"
   ]
  },
  {
   "cell_type": "code",
   "execution_count": 806,
   "id": "b137a3eb",
   "metadata": {},
   "outputs": [],
   "source": [
    "#5. Create a new column to store the status of the mother's occupation. Keep only 2\n",
    "#status working_mother - yes/no. Plot the working mother's impact on the count of\n",
    "#the stress of students. (5 Marks)"
   ]
  },
  {
   "cell_type": "code",
   "execution_count": 820,
   "id": "10de6525",
   "metadata": {},
   "outputs": [
    {
     "ename": "KeyError",
     "evalue": "'mjob'",
     "output_type": "error",
     "traceback": [
      "\u001b[1;31m---------------------------------------------------------------------------\u001b[0m",
      "\u001b[1;31mKeyError\u001b[0m                                  Traceback (most recent call last)",
      "File \u001b[1;32mC:\\Program Files\\conda\\Lib\\site-packages\\pandas\\core\\indexes\\base.py:3653\u001b[0m, in \u001b[0;36mIndex.get_loc\u001b[1;34m(self, key)\u001b[0m\n\u001b[0;32m   3652\u001b[0m \u001b[38;5;28;01mtry\u001b[39;00m:\n\u001b[1;32m-> 3653\u001b[0m     \u001b[38;5;28;01mreturn\u001b[39;00m \u001b[38;5;28mself\u001b[39m\u001b[38;5;241m.\u001b[39m_engine\u001b[38;5;241m.\u001b[39mget_loc(casted_key)\n\u001b[0;32m   3654\u001b[0m \u001b[38;5;28;01mexcept\u001b[39;00m \u001b[38;5;167;01mKeyError\u001b[39;00m \u001b[38;5;28;01mas\u001b[39;00m err:\n",
      "File \u001b[1;32mC:\\Program Files\\conda\\Lib\\site-packages\\pandas\\_libs\\index.pyx:147\u001b[0m, in \u001b[0;36mpandas._libs.index.IndexEngine.get_loc\u001b[1;34m()\u001b[0m\n",
      "File \u001b[1;32mC:\\Program Files\\conda\\Lib\\site-packages\\pandas\\_libs\\index.pyx:176\u001b[0m, in \u001b[0;36mpandas._libs.index.IndexEngine.get_loc\u001b[1;34m()\u001b[0m\n",
      "File \u001b[1;32mpandas\\_libs\\hashtable_class_helper.pxi:7080\u001b[0m, in \u001b[0;36mpandas._libs.hashtable.PyObjectHashTable.get_item\u001b[1;34m()\u001b[0m\n",
      "File \u001b[1;32mpandas\\_libs\\hashtable_class_helper.pxi:7088\u001b[0m, in \u001b[0;36mpandas._libs.hashtable.PyObjectHashTable.get_item\u001b[1;34m()\u001b[0m\n",
      "\u001b[1;31mKeyError\u001b[0m: 'mjob'",
      "\nThe above exception was the direct cause of the following exception:\n",
      "\u001b[1;31mKeyError\u001b[0m                                  Traceback (most recent call last)",
      "Cell \u001b[1;32mIn[820], line 1\u001b[0m\n\u001b[1;32m----> 1\u001b[0m df1[\u001b[38;5;124m'\u001b[39m\u001b[38;5;124mworking_mother\u001b[39m\u001b[38;5;124m'\u001b[39m]\u001b[38;5;241m=\u001b[39m df1[\u001b[38;5;124m'\u001b[39m\u001b[38;5;124mmjob\u001b[39m\u001b[38;5;124m'\u001b[39m]\u001b[38;5;241m.\u001b[39mapply(\u001b[38;5;28;01mlambda\u001b[39;00m x:\u001b[38;5;124m'\u001b[39m\u001b[38;5;124myes\u001b[39m\u001b[38;5;124m'\u001b[39m \u001b[38;5;28;01mif\u001b[39;00m x\u001b[38;5;241m!=\u001b[39m \u001b[38;5;124m'\u001b[39m\u001b[38;5;124mat_home\u001b[39m\u001b[38;5;124m'\u001b[39m \u001b[38;5;28;01melse\u001b[39;00m \u001b[38;5;124m'\u001b[39m\u001b[38;5;124mno\u001b[39m\u001b[38;5;124m'\u001b[39m)\n",
      "File \u001b[1;32mC:\\Program Files\\conda\\Lib\\site-packages\\pandas\\core\\frame.py:3761\u001b[0m, in \u001b[0;36mDataFrame.__getitem__\u001b[1;34m(self, key)\u001b[0m\n\u001b[0;32m   3759\u001b[0m \u001b[38;5;28;01mif\u001b[39;00m \u001b[38;5;28mself\u001b[39m\u001b[38;5;241m.\u001b[39mcolumns\u001b[38;5;241m.\u001b[39mnlevels \u001b[38;5;241m>\u001b[39m \u001b[38;5;241m1\u001b[39m:\n\u001b[0;32m   3760\u001b[0m     \u001b[38;5;28;01mreturn\u001b[39;00m \u001b[38;5;28mself\u001b[39m\u001b[38;5;241m.\u001b[39m_getitem_multilevel(key)\n\u001b[1;32m-> 3761\u001b[0m indexer \u001b[38;5;241m=\u001b[39m \u001b[38;5;28mself\u001b[39m\u001b[38;5;241m.\u001b[39mcolumns\u001b[38;5;241m.\u001b[39mget_loc(key)\n\u001b[0;32m   3762\u001b[0m \u001b[38;5;28;01mif\u001b[39;00m is_integer(indexer):\n\u001b[0;32m   3763\u001b[0m     indexer \u001b[38;5;241m=\u001b[39m [indexer]\n",
      "File \u001b[1;32mC:\\Program Files\\conda\\Lib\\site-packages\\pandas\\core\\indexes\\base.py:3655\u001b[0m, in \u001b[0;36mIndex.get_loc\u001b[1;34m(self, key)\u001b[0m\n\u001b[0;32m   3653\u001b[0m     \u001b[38;5;28;01mreturn\u001b[39;00m \u001b[38;5;28mself\u001b[39m\u001b[38;5;241m.\u001b[39m_engine\u001b[38;5;241m.\u001b[39mget_loc(casted_key)\n\u001b[0;32m   3654\u001b[0m \u001b[38;5;28;01mexcept\u001b[39;00m \u001b[38;5;167;01mKeyError\u001b[39;00m \u001b[38;5;28;01mas\u001b[39;00m err:\n\u001b[1;32m-> 3655\u001b[0m     \u001b[38;5;28;01mraise\u001b[39;00m \u001b[38;5;167;01mKeyError\u001b[39;00m(key) \u001b[38;5;28;01mfrom\u001b[39;00m \u001b[38;5;21;01merr\u001b[39;00m\n\u001b[0;32m   3656\u001b[0m \u001b[38;5;28;01mexcept\u001b[39;00m \u001b[38;5;167;01mTypeError\u001b[39;00m:\n\u001b[0;32m   3657\u001b[0m     \u001b[38;5;66;03m# If we have a listlike key, _check_indexing_error will raise\u001b[39;00m\n\u001b[0;32m   3658\u001b[0m     \u001b[38;5;66;03m#  InvalidIndexError. Otherwise we fall through and re-raise\u001b[39;00m\n\u001b[0;32m   3659\u001b[0m     \u001b[38;5;66;03m#  the TypeError.\u001b[39;00m\n\u001b[0;32m   3660\u001b[0m     \u001b[38;5;28mself\u001b[39m\u001b[38;5;241m.\u001b[39m_check_indexing_error(key)\n",
      "\u001b[1;31mKeyError\u001b[0m: 'mjob'"
     ]
    }
   ],
   "source": []
  },
  {
   "cell_type": "code",
   "execution_count": 824,
   "id": "610508a9",
   "metadata": {},
   "outputs": [
    {
     "data": {
      "text/html": [
       "<div>\n",
       "<style scoped>\n",
       "    .dataframe tbody tr th:only-of-type {\n",
       "        vertical-align: middle;\n",
       "    }\n",
       "\n",
       "    .dataframe tbody tr th {\n",
       "        vertical-align: top;\n",
       "    }\n",
       "\n",
       "    .dataframe thead th {\n",
       "        text-align: right;\n",
       "    }\n",
       "</style>\n",
       "<table border=\"1\" class=\"dataframe\">\n",
       "  <thead>\n",
       "    <tr style=\"text-align: right;\">\n",
       "      <th></th>\n",
       "      <th>sex</th>\n",
       "      <th>age</th>\n",
       "      <th>famsize</th>\n",
       "      <th>Pstatus</th>\n",
       "      <th>Medu</th>\n",
       "      <th>Fedu</th>\n",
       "      <th>Mjob</th>\n",
       "      <th>Fjob</th>\n",
       "      <th>guardian</th>\n",
       "      <th>studytime</th>\n",
       "      <th>...</th>\n",
       "      <th>freetime</th>\n",
       "      <th>goout</th>\n",
       "      <th>health</th>\n",
       "      <th>absences</th>\n",
       "      <th>G1</th>\n",
       "      <th>G2</th>\n",
       "      <th>G3</th>\n",
       "      <th>stress</th>\n",
       "      <th>avgGrade</th>\n",
       "      <th>working_mother</th>\n",
       "    </tr>\n",
       "  </thead>\n",
       "  <tbody>\n",
       "    <tr>\n",
       "      <th>0</th>\n",
       "      <td>F</td>\n",
       "      <td>18</td>\n",
       "      <td>GT3</td>\n",
       "      <td>A</td>\n",
       "      <td>4</td>\n",
       "      <td>4</td>\n",
       "      <td>at_home</td>\n",
       "      <td>teacher</td>\n",
       "      <td>mother</td>\n",
       "      <td>2</td>\n",
       "      <td>...</td>\n",
       "      <td>3</td>\n",
       "      <td>4</td>\n",
       "      <td>3</td>\n",
       "      <td>6</td>\n",
       "      <td>5</td>\n",
       "      <td>6</td>\n",
       "      <td>6</td>\n",
       "      <td>0</td>\n",
       "      <td>5.666667</td>\n",
       "      <td>no</td>\n",
       "    </tr>\n",
       "    <tr>\n",
       "      <th>1</th>\n",
       "      <td>F</td>\n",
       "      <td>17</td>\n",
       "      <td>GT3</td>\n",
       "      <td>T</td>\n",
       "      <td>1</td>\n",
       "      <td>1</td>\n",
       "      <td>at_home</td>\n",
       "      <td>other</td>\n",
       "      <td>father</td>\n",
       "      <td>2</td>\n",
       "      <td>...</td>\n",
       "      <td>3</td>\n",
       "      <td>3</td>\n",
       "      <td>3</td>\n",
       "      <td>4</td>\n",
       "      <td>5</td>\n",
       "      <td>5</td>\n",
       "      <td>6</td>\n",
       "      <td>0</td>\n",
       "      <td>5.333333</td>\n",
       "      <td>no</td>\n",
       "    </tr>\n",
       "    <tr>\n",
       "      <th>2</th>\n",
       "      <td>F</td>\n",
       "      <td>15</td>\n",
       "      <td>LE3</td>\n",
       "      <td>T</td>\n",
       "      <td>1</td>\n",
       "      <td>1</td>\n",
       "      <td>at_home</td>\n",
       "      <td>other</td>\n",
       "      <td>mother</td>\n",
       "      <td>2</td>\n",
       "      <td>...</td>\n",
       "      <td>3</td>\n",
       "      <td>2</td>\n",
       "      <td>3</td>\n",
       "      <td>10</td>\n",
       "      <td>7</td>\n",
       "      <td>8</td>\n",
       "      <td>10</td>\n",
       "      <td>0</td>\n",
       "      <td>8.333333</td>\n",
       "      <td>no</td>\n",
       "    </tr>\n",
       "    <tr>\n",
       "      <th>3</th>\n",
       "      <td>F</td>\n",
       "      <td>15</td>\n",
       "      <td>GT3</td>\n",
       "      <td>T</td>\n",
       "      <td>4</td>\n",
       "      <td>2</td>\n",
       "      <td>health</td>\n",
       "      <td>services</td>\n",
       "      <td>mother</td>\n",
       "      <td>3</td>\n",
       "      <td>...</td>\n",
       "      <td>2</td>\n",
       "      <td>2</td>\n",
       "      <td>5</td>\n",
       "      <td>2</td>\n",
       "      <td>15</td>\n",
       "      <td>14</td>\n",
       "      <td>15</td>\n",
       "      <td>0</td>\n",
       "      <td>14.666667</td>\n",
       "      <td>yes</td>\n",
       "    </tr>\n",
       "    <tr>\n",
       "      <th>4</th>\n",
       "      <td>F</td>\n",
       "      <td>16</td>\n",
       "      <td>GT3</td>\n",
       "      <td>T</td>\n",
       "      <td>3</td>\n",
       "      <td>3</td>\n",
       "      <td>other</td>\n",
       "      <td>other</td>\n",
       "      <td>father</td>\n",
       "      <td>2</td>\n",
       "      <td>...</td>\n",
       "      <td>3</td>\n",
       "      <td>2</td>\n",
       "      <td>5</td>\n",
       "      <td>4</td>\n",
       "      <td>6</td>\n",
       "      <td>10</td>\n",
       "      <td>10</td>\n",
       "      <td>0</td>\n",
       "      <td>8.666667</td>\n",
       "      <td>yes</td>\n",
       "    </tr>\n",
       "    <tr>\n",
       "      <th>...</th>\n",
       "      <td>...</td>\n",
       "      <td>...</td>\n",
       "      <td>...</td>\n",
       "      <td>...</td>\n",
       "      <td>...</td>\n",
       "      <td>...</td>\n",
       "      <td>...</td>\n",
       "      <td>...</td>\n",
       "      <td>...</td>\n",
       "      <td>...</td>\n",
       "      <td>...</td>\n",
       "      <td>...</td>\n",
       "      <td>...</td>\n",
       "      <td>...</td>\n",
       "      <td>...</td>\n",
       "      <td>...</td>\n",
       "      <td>...</td>\n",
       "      <td>...</td>\n",
       "      <td>...</td>\n",
       "      <td>...</td>\n",
       "      <td>...</td>\n",
       "    </tr>\n",
       "    <tr>\n",
       "      <th>390</th>\n",
       "      <td>M</td>\n",
       "      <td>20</td>\n",
       "      <td>LE3</td>\n",
       "      <td>A</td>\n",
       "      <td>2</td>\n",
       "      <td>2</td>\n",
       "      <td>services</td>\n",
       "      <td>services</td>\n",
       "      <td>other</td>\n",
       "      <td>2</td>\n",
       "      <td>...</td>\n",
       "      <td>5</td>\n",
       "      <td>4</td>\n",
       "      <td>4</td>\n",
       "      <td>11</td>\n",
       "      <td>9</td>\n",
       "      <td>9</td>\n",
       "      <td>9</td>\n",
       "      <td>1</td>\n",
       "      <td>9.000000</td>\n",
       "      <td>yes</td>\n",
       "    </tr>\n",
       "    <tr>\n",
       "      <th>391</th>\n",
       "      <td>M</td>\n",
       "      <td>17</td>\n",
       "      <td>LE3</td>\n",
       "      <td>T</td>\n",
       "      <td>3</td>\n",
       "      <td>1</td>\n",
       "      <td>services</td>\n",
       "      <td>services</td>\n",
       "      <td>mother</td>\n",
       "      <td>1</td>\n",
       "      <td>...</td>\n",
       "      <td>4</td>\n",
       "      <td>5</td>\n",
       "      <td>2</td>\n",
       "      <td>3</td>\n",
       "      <td>14</td>\n",
       "      <td>16</td>\n",
       "      <td>16</td>\n",
       "      <td>0</td>\n",
       "      <td>15.333333</td>\n",
       "      <td>yes</td>\n",
       "    </tr>\n",
       "    <tr>\n",
       "      <th>392</th>\n",
       "      <td>M</td>\n",
       "      <td>21</td>\n",
       "      <td>GT3</td>\n",
       "      <td>T</td>\n",
       "      <td>1</td>\n",
       "      <td>1</td>\n",
       "      <td>other</td>\n",
       "      <td>other</td>\n",
       "      <td>other</td>\n",
       "      <td>1</td>\n",
       "      <td>...</td>\n",
       "      <td>5</td>\n",
       "      <td>3</td>\n",
       "      <td>3</td>\n",
       "      <td>3</td>\n",
       "      <td>10</td>\n",
       "      <td>8</td>\n",
       "      <td>7</td>\n",
       "      <td>1</td>\n",
       "      <td>8.333333</td>\n",
       "      <td>yes</td>\n",
       "    </tr>\n",
       "    <tr>\n",
       "      <th>393</th>\n",
       "      <td>M</td>\n",
       "      <td>18</td>\n",
       "      <td>LE3</td>\n",
       "      <td>T</td>\n",
       "      <td>3</td>\n",
       "      <td>2</td>\n",
       "      <td>services</td>\n",
       "      <td>other</td>\n",
       "      <td>mother</td>\n",
       "      <td>1</td>\n",
       "      <td>...</td>\n",
       "      <td>4</td>\n",
       "      <td>1</td>\n",
       "      <td>5</td>\n",
       "      <td>0</td>\n",
       "      <td>11</td>\n",
       "      <td>12</td>\n",
       "      <td>10</td>\n",
       "      <td>0</td>\n",
       "      <td>11.000000</td>\n",
       "      <td>yes</td>\n",
       "    </tr>\n",
       "    <tr>\n",
       "      <th>394</th>\n",
       "      <td>M</td>\n",
       "      <td>19</td>\n",
       "      <td>LE3</td>\n",
       "      <td>T</td>\n",
       "      <td>1</td>\n",
       "      <td>1</td>\n",
       "      <td>other</td>\n",
       "      <td>at_home</td>\n",
       "      <td>father</td>\n",
       "      <td>1</td>\n",
       "      <td>...</td>\n",
       "      <td>2</td>\n",
       "      <td>3</td>\n",
       "      <td>5</td>\n",
       "      <td>5</td>\n",
       "      <td>8</td>\n",
       "      <td>9</td>\n",
       "      <td>9</td>\n",
       "      <td>0</td>\n",
       "      <td>8.666667</td>\n",
       "      <td>yes</td>\n",
       "    </tr>\n",
       "  </tbody>\n",
       "</table>\n",
       "<p>395 rows × 27 columns</p>\n",
       "</div>"
      ],
      "text/plain": [
       "    sex  age famsize Pstatus  Medu  Fedu      Mjob      Fjob guardian  \\\n",
       "0     F   18     GT3       A     4     4   at_home   teacher   mother   \n",
       "1     F   17     GT3       T     1     1   at_home     other   father   \n",
       "2     F   15     LE3       T     1     1   at_home     other   mother   \n",
       "3     F   15     GT3       T     4     2    health  services   mother   \n",
       "4     F   16     GT3       T     3     3     other     other   father   \n",
       "..   ..  ...     ...     ...   ...   ...       ...       ...      ...   \n",
       "390   M   20     LE3       A     2     2  services  services    other   \n",
       "391   M   17     LE3       T     3     1  services  services   mother   \n",
       "392   M   21     GT3       T     1     1     other     other    other   \n",
       "393   M   18     LE3       T     3     2  services     other   mother   \n",
       "394   M   19     LE3       T     1     1     other   at_home   father   \n",
       "\n",
       "     studytime  ... freetime goout health absences  G1  G2  G3  stress  \\\n",
       "0            2  ...        3     4      3        6   5   6   6       0   \n",
       "1            2  ...        3     3      3        4   5   5   6       0   \n",
       "2            2  ...        3     2      3       10   7   8  10       0   \n",
       "3            3  ...        2     2      5        2  15  14  15       0   \n",
       "4            2  ...        3     2      5        4   6  10  10       0   \n",
       "..         ...  ...      ...   ...    ...      ...  ..  ..  ..     ...   \n",
       "390          2  ...        5     4      4       11   9   9   9       1   \n",
       "391          1  ...        4     5      2        3  14  16  16       0   \n",
       "392          1  ...        5     3      3        3  10   8   7       1   \n",
       "393          1  ...        4     1      5        0  11  12  10       0   \n",
       "394          1  ...        2     3      5        5   8   9   9       0   \n",
       "\n",
       "      avgGrade  working_mother  \n",
       "0     5.666667              no  \n",
       "1     5.333333              no  \n",
       "2     8.333333              no  \n",
       "3    14.666667             yes  \n",
       "4     8.666667             yes  \n",
       "..         ...             ...  \n",
       "390   9.000000             yes  \n",
       "391  15.333333             yes  \n",
       "392   8.333333             yes  \n",
       "393  11.000000             yes  \n",
       "394   8.666667             yes  \n",
       "\n",
       "[395 rows x 27 columns]"
      ]
     },
     "execution_count": 824,
     "metadata": {},
     "output_type": "execute_result"
    }
   ],
   "source": [
    "#df1['working_mother'] = df1['Mjob'].apply(lambda x: 'yes' if x != 'at_home' else 'no')\n",
    "df1['working_mother'] = df1['Mjob'].apply(lambda x: 'yes' if x != 'at_home' else 'no')\n",
    "df1"
   ]
  },
  {
   "cell_type": "code",
   "execution_count": 844,
   "id": "698f8a60",
   "metadata": {},
   "outputs": [
    {
     "data": {
      "text/plain": [
       "<Axes: xlabel='sex', ylabel='absences'>"
      ]
     },
     "execution_count": 844,
     "metadata": {},
     "output_type": "execute_result"
    },
    {
     "data": {
      "image/png": "[encoded data removed]",
      "text/plain": [
       "<Figure size 640x480 with 1 Axes>"
      ]
     },
     "metadata": {},
     "output_type": "display_data"
    }
   ],
   "source": [
    "sns.boxplot(x=df1.sex,y=df1.absences)"
   ]
  },
  {
   "cell_type": "code",
   "execution_count": 845,
   "id": "8c97d16c",
   "metadata": {},
   "outputs": [
    {
     "data": {
      "image/png": "[encoded data removed]",
      "text/plain": [
       "<Figure size 640x480 with 1 Axes>"
      ]
     },
     "metadata": {},
     "output_type": "display_data"
    }
   ],
   "source": [
    "import pandas as pd\n",
    "import seaborn as sns\n",
    "import matplotlib.pyplot as plt\n",
    "\n",
    "# Example DataFrame\n",
    "data = {\n",
    "    'sex': ['F', 'M', 'F', 'F', 'M', 'F', 'M', 'F', 'M', 'F'],\n",
    "    'absences': [6, 4, 10, 2, 4, 8, 3, 7, 5, 9]\n",
    "}\n",
    "\n",
    "df = pd.DataFrame(data)\n",
    "\n",
    "# Plot the boxplot of absences against the gender of students\n",
    "sns.boxplot(data=df, x='sex', y='absences')\n",
    "plt.title(\"Boxplot of Absences by Gender\")\n",
    "plt.xlabel(\"Gender\")\n",
    "plt.ylabel(\"Absences\")\n",
    "plt.show()"
   ]
  },
  {
   "cell_type": "code",
   "execution_count": 856,
   "id": "5538a0aa",
   "metadata": {},
   "outputs": [
    {
     "data": {
      "text/plain": [
       "([<matplotlib.patches.Wedge at 0x26a862f8e50>,\n",
       "  <matplotlib.patches.Wedge at 0x26a862f9e10>,\n",
       "  <matplotlib.patches.Wedge at 0x26a862faed0>,\n",
       "  <matplotlib.patches.Wedge at 0x26a862fbed0>,\n",
       "  <matplotlib.patches.Wedge at 0x26a86304dd0>],\n",
       " [Text(-0.16991745657616436, 1.0867971558440368, 'other'),\n",
       "  Text(-0.40574996920878953, -1.022431886478051, 'services'),\n",
       "  Text(0.7382086382213024, -0.8155047556301865, 'teacher'),\n",
       "  Text(0.9926870580033869, -0.4738907098399172, 'at_home'),\n",
       "  Text(1.0887470028550241, -0.1569393633675202, 'health')])"
      ]
     },
     "execution_count": 856,
     "metadata": {},
     "output_type": "execute_result"
    },
    {
     "data": {
      "image/png": "[encoded data removed]",
      "text/plain": [
       "<Figure size 640x480 with 1 Axes>"
      ]
     },
     "metadata": {},
     "output_type": "display_data"
    }
   ],
   "source": [
    "plt.pie(x=df1['Fjob'].value_counts(normalize=True),labels=df1['Fjob'].value_counts(normalize=True).index)\n"
   ]
  },
  {
   "cell_type": "code",
   "execution_count": 857,
   "id": "f92ef43b",
   "metadata": {},
   "outputs": [
    {
     "data": {
      "text/plain": [
       "0       teacher\n",
       "1         other\n",
       "2         other\n",
       "3      services\n",
       "4         other\n",
       "         ...   \n",
       "390    services\n",
       "391    services\n",
       "392       other\n",
       "393       other\n",
       "394     at_home\n",
       "Name: Fjob, Length: 395, dtype: object"
      ]
     },
     "execution_count": 857,
     "metadata": {},
     "output_type": "execute_result"
    }
   ],
   "source": [
    "df1['Fjob']\n"
   ]
  },
  {
   "cell_type": "code",
   "execution_count": 865,
   "id": "82e53eb4",
   "metadata": {},
   "outputs": [
    {
     "ename": "SyntaxError",
     "evalue": "invalid syntax. Perhaps you forgot a comma? (2203058094.py, line 1)",
     "output_type": "error",
     "traceback": [
      "\u001b[1;36m  Cell \u001b[1;32mIn[865], line 1\u001b[1;36m\u001b[0m\n\u001b[1;33m    df1[(df1['G2'] > df1['G1']) & (df1['G3']  > df1['G2']) & df1[]]\u001b[0m\n\u001b[1;37m        ^\u001b[0m\n\u001b[1;31mSyntaxError\u001b[0m\u001b[1;31m:\u001b[0m invalid syntax. Perhaps you forgot a comma?\n"
     ]
    }
   ],
   "source": [
    "df1[(df1['G2'] > df1['G1']) & (df1['G3']  > df1['G2']) & df1['romantic']]"
   ]
  },
  {
   "cell_type": "code",
   "execution_count": 873,
   "id": "3a6c859c",
   "metadata": {},
   "outputs": [
    {
     "data": {
      "text/plain": [
       "0       no\n",
       "1       no\n",
       "2       no\n",
       "3      yes\n",
       "4       no\n",
       "      ... \n",
       "390     no\n",
       "391     no\n",
       "392     no\n",
       "393     no\n",
       "394     no\n",
       "Name: romantic, Length: 395, dtype: object"
      ]
     },
     "execution_count": 873,
     "metadata": {},
     "output_type": "execute_result"
    }
   ],
   "source": [
    "df1['romantic']"
   ]
  },
  {
   "cell_type": "code",
   "execution_count": 879,
   "id": "5b63f1aa",
   "metadata": {},
   "outputs": [],
   "source": [
    "list1 =[\n",
    "    [20,25,30],\n",
    "    24,56,\n",
    "    [10,15,18],\n",
    "    [12,45,20],\n",
    "    35,20,23,28]\n"
   ]
  },
  {
   "cell_type": "code",
   "execution_count": 925,
   "id": "af505793",
   "metadata": {},
   "outputs": [
    {
     "name": "stdout",
     "output_type": "stream",
     "text": [
      "15\n",
      "381\n"
     ]
    }
   ],
   "source": [
    "list1 =[\n",
    "    [20,25,30],\n",
    "    24,56,\n",
    "    [10,15,18],\n",
    "    [12,45,20],\n",
    "    35,20,23,28]\n",
    "count=0\n",
    "min_element=float('inf')\n",
    "sum=0\n",
    "for item in list1:\n",
    "        if isinstance(item,list):\n",
    "            for y in item:\n",
    "                min_element=min(min_element,y)\n",
    "                sum+=y\n",
    "                count+=1\n",
    "        else:\n",
    "            min_element=min(min_element,item)\n",
    "            sum+=item\n",
    "            count+=1\n",
    "            \n",
    "print(count)   \n",
    "print(sum)\n"
   ]
  },
  {
   "cell_type": "code",
   "execution_count": 926,
   "id": "42db0c2a",
   "metadata": {},
   "outputs": [
    {
     "data": {
      "text/plain": [
       "int"
      ]
     },
     "execution_count": 926,
     "metadata": {},
     "output_type": "execute_result"
    }
   ],
   "source": [
    "type(list1[1])"
   ]
  },
  {
   "cell_type": "code",
   "execution_count": 937,
   "id": "f1e6b92b",
   "metadata": {},
   "outputs": [
    {
     "name": "stdout",
     "output_type": "stream",
     "text": [
      "306\n",
      "15\n",
      "20.4\n",
      "10\n"
     ]
    }
   ],
   "source": [
    "list1 =[\n",
    "    [20,25,30],\n",
    "    24,56,\n",
    "    [10,15,18],\n",
    "    [12,45,20],\n",
    "    35,20,23,28]\n",
    "min_element=float('inf')\n",
    "count=0\n",
    "sum=0\n",
    "for item in list1:\n",
    "    if isinstance(item,list):\n",
    "        for nested_item in item:\n",
    "            min_element=min(min_element,nested_item)\n",
    "            sum+=min_element\n",
    "            count+=1\n",
    "    else:\n",
    "        min_element=min(min_element,item)\n",
    "        sum+=item\n",
    "        count+=1\n",
    "\n",
    "\n",
    "print(sum)\n",
    "print(count)\n",
    "avg=306/15\n",
    "print(avg)\n",
    "print(min_element)"
   ]
  },
  {
   "cell_type": "code",
   "execution_count": 939,
   "id": "7dd1a988",
   "metadata": {},
   "outputs": [],
   "source": [
    "from datetime import datetime,timedelta"
   ]
  },
  {
   "cell_type": "code",
   "execution_count": 943,
   "id": "31e5e19f",
   "metadata": {},
   "outputs": [
    {
     "data": {
      "text/plain": [
       "-13"
      ]
     },
     "execution_count": 943,
     "metadata": {},
     "output_type": "execute_result"
    }
   ],
   "source": [
    "def multiply(x, y):\n",
    "    return x - y\n",
    "\n",
    "# Use reduce() to compute the product of all elements in a list\n",
    "numbers = [1, 2, 3, 4, 5]\n",
    "product = reduce(multiply, numbers)\n",
    "product"
   ]
  },
  {
   "cell_type": "code",
   "execution_count": 954,
   "id": "4be35f32",
   "metadata": {},
   "outputs": [
    {
     "name": "stdout",
     "output_type": "stream",
     "text": [
      "All numbers in the list are even.\n"
     ]
    }
   ],
   "source": [
    "from functools import reduce\n",
    "\n",
    "# User-defined function to check if a number is even\n",
    "def is_even(num):\n",
    "    return num % 2 == 0\n",
    "\n",
    "# Function to verify if every number in the list is even\n",
    "def verify_even(numbers):\n",
    "    # Apply the is_even function to each element in the list\n",
    "    even_check_result = map(is_even, numbers)\n",
    "    # Use reduce to check if all elements are True (i.e., all numbers are even)\n",
    "    return reduce(lambda x, y: x and y, even_check_result, True)\n",
    "\n",
    "# Test list\n",
    "numbers_list = [2, 4, 6, 8, 10]  # All numbers are even\n",
    "\n",
    "# Verify if every number in the list is even\n",
    "result = verify_even(numbers_list)\n",
    "\n",
    "if result:\n",
    "    print(\"All numbers in the list are even.\")\n",
    "else:\n",
    "    print(\"Not all numbers in the list are even.\")\n"
   ]
  },
  {
   "cell_type": "code",
   "execution_count": 955,
   "id": "88b217f8",
   "metadata": {},
   "outputs": [],
   "source": [
    "def even(num):\n",
    "    return num%2==0\n",
    "def even_check(numbers):\n",
    "    check_result=map(even,numbers)\n",
    "    "
   ]
  },
  {
   "cell_type": "code",
   "execution_count": null,
   "id": "ce14dce1",
   "metadata": {},
   "outputs": [],
   "source": []
  },
  {
   "cell_type": "code",
   "execution_count": 959,
   "id": "d1a7bc42",
   "metadata": {},
   "outputs": [
    {
     "data": {
      "text/html": [
       "<div>\n",
       "<style scoped>\n",
       "    .dataframe tbody tr th:only-of-type {\n",
       "        vertical-align: middle;\n",
       "    }\n",
       "\n",
       "    .dataframe tbody tr th {\n",
       "        vertical-align: top;\n",
       "    }\n",
       "\n",
       "    .dataframe thead th {\n",
       "        text-align: right;\n",
       "    }\n",
       "</style>\n",
       "<table border=\"1\" class=\"dataframe\">\n",
       "  <thead>\n",
       "    <tr style=\"text-align: right;\">\n",
       "      <th></th>\n",
       "      <th>pid</th>\n",
       "      <th>Age</th>\n",
       "      <th>Sex</th>\n",
       "      <th>cp</th>\n",
       "      <th>trtbps</th>\n",
       "      <th>chol</th>\n",
       "      <th>fbs</th>\n",
       "      <th>restecg</th>\n",
       "      <th>thalachh</th>\n",
       "      <th>Addiction</th>\n",
       "      <th>keratin_type</th>\n",
       "      <th>Diabetestype</th>\n",
       "      <th>Hemoglobin</th>\n",
       "      <th>blood_grp</th>\n",
       "      <th>Immunity</th>\n",
       "      <th>Affected_portion_lungs</th>\n",
       "      <th>Breath_ratio</th>\n",
       "      <th>Survive_status</th>\n",
       "    </tr>\n",
       "  </thead>\n",
       "  <tbody>\n",
       "    <tr>\n",
       "      <th>0</th>\n",
       "      <td>1199</td>\n",
       "      <td>45</td>\n",
       "      <td>Male</td>\n",
       "      <td>1</td>\n",
       "      <td>18.446340</td>\n",
       "      <td>264.022967</td>\n",
       "      <td>2</td>\n",
       "      <td>2</td>\n",
       "      <td>115.959625</td>\n",
       "      <td>Drug-type B</td>\n",
       "      <td>1</td>\n",
       "      <td>type 1</td>\n",
       "      <td>10</td>\n",
       "      <td>O+</td>\n",
       "      <td>1</td>\n",
       "      <td>19.189730</td>\n",
       "      <td>36.71</td>\n",
       "      <td>Survived</td>\n",
       "    </tr>\n",
       "    <tr>\n",
       "      <th>1</th>\n",
       "      <td>1200</td>\n",
       "      <td>45</td>\n",
       "      <td>Female</td>\n",
       "      <td>1</td>\n",
       "      <td>8.467375</td>\n",
       "      <td>255.918947</td>\n",
       "      <td>3</td>\n",
       "      <td>2</td>\n",
       "      <td>113.143735</td>\n",
       "      <td>Alcohol</td>\n",
       "      <td>3</td>\n",
       "      <td>type 2</td>\n",
       "      <td>8</td>\n",
       "      <td>O+</td>\n",
       "      <td>3</td>\n",
       "      <td>31.653627</td>\n",
       "      <td>36.84</td>\n",
       "      <td>Passed away</td>\n",
       "    </tr>\n",
       "    <tr>\n",
       "      <th>2</th>\n",
       "      <td>1201</td>\n",
       "      <td>46</td>\n",
       "      <td>Male</td>\n",
       "      <td>1</td>\n",
       "      <td>12.533739</td>\n",
       "      <td>245.116139</td>\n",
       "      <td>3</td>\n",
       "      <td>1</td>\n",
       "      <td>126.776133</td>\n",
       "      <td>others</td>\n",
       "      <td>2</td>\n",
       "      <td>type 1</td>\n",
       "      <td>6</td>\n",
       "      <td>B-</td>\n",
       "      <td>2</td>\n",
       "      <td>48.627739</td>\n",
       "      <td>39.65</td>\n",
       "      <td>Survived</td>\n",
       "    </tr>\n",
       "    <tr>\n",
       "      <th>3</th>\n",
       "      <td>1202</td>\n",
       "      <td>48</td>\n",
       "      <td>Male</td>\n",
       "      <td>0</td>\n",
       "      <td>16.737750</td>\n",
       "      <td>238.303832</td>\n",
       "      <td>3</td>\n",
       "      <td>0</td>\n",
       "      <td>119.382735</td>\n",
       "      <td>Nicotine - type B</td>\n",
       "      <td>1</td>\n",
       "      <td>type 1</td>\n",
       "      <td>10</td>\n",
       "      <td>B+</td>\n",
       "      <td>1</td>\n",
       "      <td>44.974129</td>\n",
       "      <td>10.44</td>\n",
       "      <td>Survived</td>\n",
       "    </tr>\n",
       "    <tr>\n",
       "      <th>4</th>\n",
       "      <td>1203</td>\n",
       "      <td>46</td>\n",
       "      <td>Male</td>\n",
       "      <td>1</td>\n",
       "      <td>18.711368</td>\n",
       "      <td>239.989524</td>\n",
       "      <td>0</td>\n",
       "      <td>0</td>\n",
       "      <td>115.050564</td>\n",
       "      <td>Drug-type C</td>\n",
       "      <td>1</td>\n",
       "      <td>type 1</td>\n",
       "      <td>7</td>\n",
       "      <td>B+</td>\n",
       "      <td>1</td>\n",
       "      <td>53.142999</td>\n",
       "      <td>45.50</td>\n",
       "      <td>Survived</td>\n",
       "    </tr>\n",
       "    <tr>\n",
       "      <th>...</th>\n",
       "      <td>...</td>\n",
       "      <td>...</td>\n",
       "      <td>...</td>\n",
       "      <td>...</td>\n",
       "      <td>...</td>\n",
       "      <td>...</td>\n",
       "      <td>...</td>\n",
       "      <td>...</td>\n",
       "      <td>...</td>\n",
       "      <td>...</td>\n",
       "      <td>...</td>\n",
       "      <td>...</td>\n",
       "      <td>...</td>\n",
       "      <td>...</td>\n",
       "      <td>...</td>\n",
       "      <td>...</td>\n",
       "      <td>...</td>\n",
       "      <td>...</td>\n",
       "    </tr>\n",
       "    <tr>\n",
       "      <th>165</th>\n",
       "      <td>1393</td>\n",
       "      <td>38</td>\n",
       "      <td>Male</td>\n",
       "      <td>3</td>\n",
       "      <td>21.871422</td>\n",
       "      <td>254.059725</td>\n",
       "      <td>2</td>\n",
       "      <td>0</td>\n",
       "      <td>120.153187</td>\n",
       "      <td>Nicotine - type B</td>\n",
       "      <td>1</td>\n",
       "      <td>type 1</td>\n",
       "      <td>12</td>\n",
       "      <td>O-</td>\n",
       "      <td>2</td>\n",
       "      <td>52.954861</td>\n",
       "      <td>46.29</td>\n",
       "      <td>Survived</td>\n",
       "    </tr>\n",
       "    <tr>\n",
       "      <th>166</th>\n",
       "      <td>1395</td>\n",
       "      <td>42</td>\n",
       "      <td>Male</td>\n",
       "      <td>3</td>\n",
       "      <td>9.365359</td>\n",
       "      <td>235.413982</td>\n",
       "      <td>3</td>\n",
       "      <td>2</td>\n",
       "      <td>122.391261</td>\n",
       "      <td>Drug-type B</td>\n",
       "      <td>2</td>\n",
       "      <td>type 1</td>\n",
       "      <td>9</td>\n",
       "      <td>B+</td>\n",
       "      <td>2</td>\n",
       "      <td>41.217986</td>\n",
       "      <td>49.88</td>\n",
       "      <td>Survived</td>\n",
       "    </tr>\n",
       "    <tr>\n",
       "      <th>167</th>\n",
       "      <td>1396</td>\n",
       "      <td>38</td>\n",
       "      <td>Female</td>\n",
       "      <td>1</td>\n",
       "      <td>17.115748</td>\n",
       "      <td>249.453278</td>\n",
       "      <td>2</td>\n",
       "      <td>1</td>\n",
       "      <td>99.302156</td>\n",
       "      <td>Alcohol</td>\n",
       "      <td>2</td>\n",
       "      <td>type 1</td>\n",
       "      <td>13</td>\n",
       "      <td>AB-</td>\n",
       "      <td>2</td>\n",
       "      <td>29.850714</td>\n",
       "      <td>51.21</td>\n",
       "      <td>Survived</td>\n",
       "    </tr>\n",
       "    <tr>\n",
       "      <th>168</th>\n",
       "      <td>1397</td>\n",
       "      <td>44</td>\n",
       "      <td>Male</td>\n",
       "      <td>3</td>\n",
       "      <td>15.268461</td>\n",
       "      <td>262.764098</td>\n",
       "      <td>1</td>\n",
       "      <td>0</td>\n",
       "      <td>111.037924</td>\n",
       "      <td>Alcohol</td>\n",
       "      <td>1</td>\n",
       "      <td>type 1</td>\n",
       "      <td>6</td>\n",
       "      <td>O+</td>\n",
       "      <td>4</td>\n",
       "      <td>52.586692</td>\n",
       "      <td>51.25</td>\n",
       "      <td>Survived</td>\n",
       "    </tr>\n",
       "    <tr>\n",
       "      <th>169</th>\n",
       "      <td>1398</td>\n",
       "      <td>44</td>\n",
       "      <td>Female</td>\n",
       "      <td>1</td>\n",
       "      <td>21.650905</td>\n",
       "      <td>241.515084</td>\n",
       "      <td>2</td>\n",
       "      <td>0</td>\n",
       "      <td>111.843023</td>\n",
       "      <td>Drug-type A</td>\n",
       "      <td>2</td>\n",
       "      <td>type 2</td>\n",
       "      <td>11</td>\n",
       "      <td>O-</td>\n",
       "      <td>4</td>\n",
       "      <td>44.792670</td>\n",
       "      <td>53.09</td>\n",
       "      <td>Survived</td>\n",
       "    </tr>\n",
       "  </tbody>\n",
       "</table>\n",
       "<p>170 rows × 18 columns</p>\n",
       "</div>"
      ],
      "text/plain": [
       "      pid  Age     Sex  cp     trtbps        chol  fbs  restecg    thalachh  \\\n",
       "0    1199   45    Male   1  18.446340  264.022967    2        2  115.959625   \n",
       "1    1200   45  Female   1   8.467375  255.918947    3        2  113.143735   \n",
       "2    1201   46    Male   1  12.533739  245.116139    3        1  126.776133   \n",
       "3    1202   48    Male   0  16.737750  238.303832    3        0  119.382735   \n",
       "4    1203   46    Male   1  18.711368  239.989524    0        0  115.050564   \n",
       "..    ...  ...     ...  ..        ...         ...  ...      ...         ...   \n",
       "165  1393   38    Male   3  21.871422  254.059725    2        0  120.153187   \n",
       "166  1395   42    Male   3   9.365359  235.413982    3        2  122.391261   \n",
       "167  1396   38  Female   1  17.115748  249.453278    2        1   99.302156   \n",
       "168  1397   44    Male   3  15.268461  262.764098    1        0  111.037924   \n",
       "169  1398   44  Female   1  21.650905  241.515084    2        0  111.843023   \n",
       "\n",
       "             Addiction  keratin_type Diabetestype  Hemoglobin blood_grp  \\\n",
       "0          Drug-type B             1       type 1          10        O+   \n",
       "1              Alcohol             3       type 2           8        O+   \n",
       "2               others             2       type 1           6        B-   \n",
       "3    Nicotine - type B             1       type 1          10        B+   \n",
       "4          Drug-type C             1       type 1           7        B+   \n",
       "..                 ...           ...          ...         ...       ...   \n",
       "165  Nicotine - type B             1       type 1          12        O-   \n",
       "166        Drug-type B             2       type 1           9        B+   \n",
       "167            Alcohol             2       type 1          13       AB-   \n",
       "168            Alcohol             1       type 1           6        O+   \n",
       "169        Drug-type A             2       type 2          11        O-   \n",
       "\n",
       "     Immunity  Affected_portion_lungs  Breath_ratio Survive_status  \n",
       "0           1               19.189730         36.71       Survived  \n",
       "1           3               31.653627         36.84    Passed away  \n",
       "2           2               48.627739         39.65       Survived  \n",
       "3           1               44.974129         10.44       Survived  \n",
       "4           1               53.142999         45.50       Survived  \n",
       "..        ...                     ...           ...            ...  \n",
       "165         2               52.954861         46.29       Survived  \n",
       "166         2               41.217986         49.88       Survived  \n",
       "167         2               29.850714         51.21       Survived  \n",
       "168         4               52.586692         51.25       Survived  \n",
       "169         4               44.792670         53.09       Survived  \n",
       "\n",
       "[170 rows x 18 columns]"
      ]
     },
     "execution_count": 959,
     "metadata": {},
     "output_type": "execute_result"
    }
   ],
   "source": [
    "df=pd.read_csv('covid_dataset.csv')\n",
    "df"
   ]
  },
  {
   "cell_type": "code",
   "execution_count": 964,
   "id": "32e4cf51",
   "metadata": {},
   "outputs": [],
   "source": [
    "df.drop(columns='pid',inplace=True)"
   ]
  },
  {
   "cell_type": "code",
   "execution_count": 971,
   "id": "9126bfcb",
   "metadata": {},
   "outputs": [
    {
     "data": {
      "text/html": [
       "<div>\n",
       "<style scoped>\n",
       "    .dataframe tbody tr th:only-of-type {\n",
       "        vertical-align: middle;\n",
       "    }\n",
       "\n",
       "    .dataframe tbody tr th {\n",
       "        vertical-align: top;\n",
       "    }\n",
       "\n",
       "    .dataframe thead th {\n",
       "        text-align: right;\n",
       "    }\n",
       "</style>\n",
       "<table border=\"1\" class=\"dataframe\">\n",
       "  <thead>\n",
       "    <tr style=\"text-align: right;\">\n",
       "      <th></th>\n",
       "      <th>Age</th>\n",
       "      <th>Sex</th>\n",
       "      <th>cp</th>\n",
       "      <th>trtbps</th>\n",
       "      <th>chol</th>\n",
       "      <th>fbs</th>\n",
       "      <th>restecg</th>\n",
       "      <th>thalachh</th>\n",
       "      <th>Addiction</th>\n",
       "      <th>keratin_type</th>\n",
       "      <th>Diabetestype</th>\n",
       "      <th>Hemoglobin</th>\n",
       "      <th>blood_grp</th>\n",
       "      <th>Immunity</th>\n",
       "      <th>Affected_portion_lungs</th>\n",
       "      <th>Breath_ratio</th>\n",
       "      <th>Survive_status</th>\n",
       "    </tr>\n",
       "  </thead>\n",
       "  <tbody>\n",
       "    <tr>\n",
       "      <th>0</th>\n",
       "      <td>45</td>\n",
       "      <td>Male</td>\n",
       "      <td>1</td>\n",
       "      <td>18.446340</td>\n",
       "      <td>264.022967</td>\n",
       "      <td>2</td>\n",
       "      <td>2</td>\n",
       "      <td>115.959625</td>\n",
       "      <td>Drug-type B</td>\n",
       "      <td>1</td>\n",
       "      <td>type 1</td>\n",
       "      <td>10</td>\n",
       "      <td>O+</td>\n",
       "      <td>1</td>\n",
       "      <td>19.189730</td>\n",
       "      <td>36.71</td>\n",
       "      <td>Survived</td>\n",
       "    </tr>\n",
       "    <tr>\n",
       "      <th>1</th>\n",
       "      <td>45</td>\n",
       "      <td>Female</td>\n",
       "      <td>1</td>\n",
       "      <td>8.467375</td>\n",
       "      <td>255.918947</td>\n",
       "      <td>3</td>\n",
       "      <td>2</td>\n",
       "      <td>113.143735</td>\n",
       "      <td>Alcohol</td>\n",
       "      <td>3</td>\n",
       "      <td>type 2</td>\n",
       "      <td>8</td>\n",
       "      <td>O+</td>\n",
       "      <td>3</td>\n",
       "      <td>31.653627</td>\n",
       "      <td>36.84</td>\n",
       "      <td>Passed away</td>\n",
       "    </tr>\n",
       "    <tr>\n",
       "      <th>2</th>\n",
       "      <td>46</td>\n",
       "      <td>Male</td>\n",
       "      <td>1</td>\n",
       "      <td>12.533739</td>\n",
       "      <td>245.116139</td>\n",
       "      <td>3</td>\n",
       "      <td>1</td>\n",
       "      <td>126.776133</td>\n",
       "      <td>others</td>\n",
       "      <td>2</td>\n",
       "      <td>type 1</td>\n",
       "      <td>6</td>\n",
       "      <td>B-</td>\n",
       "      <td>2</td>\n",
       "      <td>48.627739</td>\n",
       "      <td>39.65</td>\n",
       "      <td>Survived</td>\n",
       "    </tr>\n",
       "    <tr>\n",
       "      <th>3</th>\n",
       "      <td>48</td>\n",
       "      <td>Male</td>\n",
       "      <td>0</td>\n",
       "      <td>16.737750</td>\n",
       "      <td>238.303832</td>\n",
       "      <td>3</td>\n",
       "      <td>0</td>\n",
       "      <td>119.382735</td>\n",
       "      <td>Nicotine - type B</td>\n",
       "      <td>1</td>\n",
       "      <td>type 1</td>\n",
       "      <td>10</td>\n",
       "      <td>B+</td>\n",
       "      <td>1</td>\n",
       "      <td>44.974129</td>\n",
       "      <td>10.44</td>\n",
       "      <td>Survived</td>\n",
       "    </tr>\n",
       "    <tr>\n",
       "      <th>4</th>\n",
       "      <td>46</td>\n",
       "      <td>Male</td>\n",
       "      <td>1</td>\n",
       "      <td>18.711368</td>\n",
       "      <td>239.989524</td>\n",
       "      <td>0</td>\n",
       "      <td>0</td>\n",
       "      <td>115.050564</td>\n",
       "      <td>Drug-type C</td>\n",
       "      <td>1</td>\n",
       "      <td>type 1</td>\n",
       "      <td>7</td>\n",
       "      <td>B+</td>\n",
       "      <td>1</td>\n",
       "      <td>53.142999</td>\n",
       "      <td>45.50</td>\n",
       "      <td>Survived</td>\n",
       "    </tr>\n",
       "    <tr>\n",
       "      <th>...</th>\n",
       "      <td>...</td>\n",
       "      <td>...</td>\n",
       "      <td>...</td>\n",
       "      <td>...</td>\n",
       "      <td>...</td>\n",
       "      <td>...</td>\n",
       "      <td>...</td>\n",
       "      <td>...</td>\n",
       "      <td>...</td>\n",
       "      <td>...</td>\n",
       "      <td>...</td>\n",
       "      <td>...</td>\n",
       "      <td>...</td>\n",
       "      <td>...</td>\n",
       "      <td>...</td>\n",
       "      <td>...</td>\n",
       "      <td>...</td>\n",
       "    </tr>\n",
       "    <tr>\n",
       "      <th>165</th>\n",
       "      <td>38</td>\n",
       "      <td>Male</td>\n",
       "      <td>3</td>\n",
       "      <td>21.871422</td>\n",
       "      <td>254.059725</td>\n",
       "      <td>2</td>\n",
       "      <td>0</td>\n",
       "      <td>120.153187</td>\n",
       "      <td>Nicotine - type B</td>\n",
       "      <td>1</td>\n",
       "      <td>type 1</td>\n",
       "      <td>12</td>\n",
       "      <td>O-</td>\n",
       "      <td>2</td>\n",
       "      <td>52.954861</td>\n",
       "      <td>46.29</td>\n",
       "      <td>Survived</td>\n",
       "    </tr>\n",
       "    <tr>\n",
       "      <th>166</th>\n",
       "      <td>42</td>\n",
       "      <td>Male</td>\n",
       "      <td>3</td>\n",
       "      <td>9.365359</td>\n",
       "      <td>235.413982</td>\n",
       "      <td>3</td>\n",
       "      <td>2</td>\n",
       "      <td>122.391261</td>\n",
       "      <td>Drug-type B</td>\n",
       "      <td>2</td>\n",
       "      <td>type 1</td>\n",
       "      <td>9</td>\n",
       "      <td>B+</td>\n",
       "      <td>2</td>\n",
       "      <td>41.217986</td>\n",
       "      <td>49.88</td>\n",
       "      <td>Survived</td>\n",
       "    </tr>\n",
       "    <tr>\n",
       "      <th>167</th>\n",
       "      <td>38</td>\n",
       "      <td>Female</td>\n",
       "      <td>1</td>\n",
       "      <td>17.115748</td>\n",
       "      <td>249.453278</td>\n",
       "      <td>2</td>\n",
       "      <td>1</td>\n",
       "      <td>99.302156</td>\n",
       "      <td>Alcohol</td>\n",
       "      <td>2</td>\n",
       "      <td>type 1</td>\n",
       "      <td>13</td>\n",
       "      <td>AB-</td>\n",
       "      <td>2</td>\n",
       "      <td>29.850714</td>\n",
       "      <td>51.21</td>\n",
       "      <td>Survived</td>\n",
       "    </tr>\n",
       "    <tr>\n",
       "      <th>168</th>\n",
       "      <td>44</td>\n",
       "      <td>Male</td>\n",
       "      <td>3</td>\n",
       "      <td>15.268461</td>\n",
       "      <td>262.764098</td>\n",
       "      <td>1</td>\n",
       "      <td>0</td>\n",
       "      <td>111.037924</td>\n",
       "      <td>Alcohol</td>\n",
       "      <td>1</td>\n",
       "      <td>type 1</td>\n",
       "      <td>6</td>\n",
       "      <td>O+</td>\n",
       "      <td>4</td>\n",
       "      <td>52.586692</td>\n",
       "      <td>51.25</td>\n",
       "      <td>Survived</td>\n",
       "    </tr>\n",
       "    <tr>\n",
       "      <th>169</th>\n",
       "      <td>44</td>\n",
       "      <td>Female</td>\n",
       "      <td>1</td>\n",
       "      <td>21.650905</td>\n",
       "      <td>241.515084</td>\n",
       "      <td>2</td>\n",
       "      <td>0</td>\n",
       "      <td>111.843023</td>\n",
       "      <td>Drug-type A</td>\n",
       "      <td>2</td>\n",
       "      <td>type 2</td>\n",
       "      <td>11</td>\n",
       "      <td>O-</td>\n",
       "      <td>4</td>\n",
       "      <td>44.792670</td>\n",
       "      <td>53.09</td>\n",
       "      <td>Survived</td>\n",
       "    </tr>\n",
       "  </tbody>\n",
       "</table>\n",
       "<p>170 rows × 17 columns</p>\n",
       "</div>"
      ],
      "text/plain": [
       "     Age     Sex  cp     trtbps        chol  fbs  restecg    thalachh  \\\n",
       "0     45    Male   1  18.446340  264.022967    2        2  115.959625   \n",
       "1     45  Female   1   8.467375  255.918947    3        2  113.143735   \n",
       "2     46    Male   1  12.533739  245.116139    3        1  126.776133   \n",
       "3     48    Male   0  16.737750  238.303832    3        0  119.382735   \n",
       "4     46    Male   1  18.711368  239.989524    0        0  115.050564   \n",
       "..   ...     ...  ..        ...         ...  ...      ...         ...   \n",
       "165   38    Male   3  21.871422  254.059725    2        0  120.153187   \n",
       "166   42    Male   3   9.365359  235.413982    3        2  122.391261   \n",
       "167   38  Female   1  17.115748  249.453278    2        1   99.302156   \n",
       "168   44    Male   3  15.268461  262.764098    1        0  111.037924   \n",
       "169   44  Female   1  21.650905  241.515084    2        0  111.843023   \n",
       "\n",
       "             Addiction  keratin_type Diabetestype  Hemoglobin blood_grp  \\\n",
       "0          Drug-type B             1       type 1          10        O+   \n",
       "1              Alcohol             3       type 2           8        O+   \n",
       "2               others             2       type 1           6        B-   \n",
       "3    Nicotine - type B             1       type 1          10        B+   \n",
       "4          Drug-type C             1       type 1           7        B+   \n",
       "..                 ...           ...          ...         ...       ...   \n",
       "165  Nicotine - type B             1       type 1          12        O-   \n",
       "166        Drug-type B             2       type 1           9        B+   \n",
       "167            Alcohol             2       type 1          13       AB-   \n",
       "168            Alcohol             1       type 1           6        O+   \n",
       "169        Drug-type A             2       type 2          11        O-   \n",
       "\n",
       "     Immunity  Affected_portion_lungs  Breath_ratio Survive_status  \n",
       "0           1               19.189730         36.71       Survived  \n",
       "1           3               31.653627         36.84    Passed away  \n",
       "2           2               48.627739         39.65       Survived  \n",
       "3           1               44.974129         10.44       Survived  \n",
       "4           1               53.142999         45.50       Survived  \n",
       "..        ...                     ...           ...            ...  \n",
       "165         2               52.954861         46.29       Survived  \n",
       "166         2               41.217986         49.88       Survived  \n",
       "167         2               29.850714         51.21       Survived  \n",
       "168         4               52.586692         51.25       Survived  \n",
       "169         4               44.792670         53.09       Survived  \n",
       "\n",
       "[170 rows x 17 columns]"
      ]
     },
     "execution_count": 971,
     "metadata": {},
     "output_type": "execute_result"
    }
   ],
   "source": [
    "df"
   ]
  },
  {
   "cell_type": "code",
   "execution_count": 973,
   "id": "078aa967",
   "metadata": {},
   "outputs": [
    {
     "data": {
      "text/plain": [
       "<Axes: xlabel='blood_grp', ylabel='Age'>"
      ]
     },
     "execution_count": 973,
     "metadata": {},
     "output_type": "execute_result"
    },
    {
     "data": {
      "image/png": "[encoded data removed]",
      "text/plain": [
       "<Figure size 640x480 with 1 Axes>"
      ]
     },
     "metadata": {},
     "output_type": "display_data"
    }
   ],
   "source": [
    "sns.boxplot(data=df, x='blood_grp', y='Age')"
   ]
  },
  {
   "cell_type": "code",
   "execution_count": 977,
   "id": "204a9bd7",
   "metadata": {},
   "outputs": [
    {
     "data": {
      "text/plain": [
       "<matplotlib.collections.PathCollection at 0x26a86b35610>"
      ]
     },
     "execution_count": 977,
     "metadata": {},
     "output_type": "execute_result"
    },
    {
     "data": {
      "image/png": "[encoded data removed]",
      "text/plain": [
       "<Figure size 640x480 with 1 Axes>"
      ]
     },
     "metadata": {},
     "output_type": "display_data"
    }
   ],
   "source": [
    "plt.scatter(df['Age'], df['thalachh'], color='blue')"
   ]
  },
  {
   "cell_type": "code",
   "execution_count": 995,
   "id": "fd626d23",
   "metadata": {},
   "outputs": [
    {
     "data": {
      "text/html": [
       "<div>\n",
       "<style scoped>\n",
       "    .dataframe tbody tr th:only-of-type {\n",
       "        vertical-align: middle;\n",
       "    }\n",
       "\n",
       "    .dataframe tbody tr th {\n",
       "        vertical-align: top;\n",
       "    }\n",
       "\n",
       "    .dataframe thead th {\n",
       "        text-align: right;\n",
       "    }\n",
       "</style>\n",
       "<table border=\"1\" class=\"dataframe\">\n",
       "  <thead>\n",
       "    <tr style=\"text-align: right;\">\n",
       "      <th>Survive_status</th>\n",
       "      <th>Passed away</th>\n",
       "      <th>Survived</th>\n",
       "    </tr>\n",
       "    <tr>\n",
       "      <th>Diabetestype</th>\n",
       "      <th></th>\n",
       "      <th></th>\n",
       "    </tr>\n",
       "  </thead>\n",
       "  <tbody>\n",
       "    <tr>\n",
       "      <th>type 1</th>\n",
       "      <td>8</td>\n",
       "      <td>81</td>\n",
       "    </tr>\n",
       "    <tr>\n",
       "      <th>type 2</th>\n",
       "      <td>12</td>\n",
       "      <td>49</td>\n",
       "    </tr>\n",
       "    <tr>\n",
       "      <th>type 3</th>\n",
       "      <td>4</td>\n",
       "      <td>16</td>\n",
       "    </tr>\n",
       "  </tbody>\n",
       "</table>\n",
       "</div>"
      ],
      "text/plain": [
       "Survive_status  Passed away  Survived\n",
       "Diabetestype                         \n",
       "type 1                    8        81\n",
       "type 2                   12        49\n",
       "type 3                    4        16"
      ]
     },
     "execution_count": 995,
     "metadata": {},
     "output_type": "execute_result"
    }
   ],
   "source": [
    "cross=pd.crosstab(index=df['Diabetestype'],columns=df['Survive_status'])\n",
    "cross\n"
   ]
  },
  {
   "cell_type": "code",
   "execution_count": 1001,
   "id": "36de2425",
   "metadata": {},
   "outputs": [
    {
     "data": {
      "text/plain": [
       "Diabetestype\n",
       "type 1    89.900992\n",
       "type 2    61.792972\n",
       "type 3    20.770370\n",
       "dtype: float64"
      ]
     },
     "execution_count": 1001,
     "metadata": {},
     "output_type": "execute_result"
    }
   ],
   "source": [
    "cross['surveval_per']=(cross['Survived']/cross.sum(axis=1))\n",
    "cross\n",
    "cross.sum(axis=1)"
   ]
  },
  {
   "cell_type": "code",
   "execution_count": null,
   "id": "a74f4bb0",
   "metadata": {},
   "outputs": [],
   "source": [
    "pd.crosstab(index=)"
   ]
  }
 ],
 "metadata": {
  "kernelspec": {
   "display_name": "Python 3 (ipykernel)",
   "language": "python",
   "name": "python3"
  },
  "language_info": {
   "codemirror_mode": {
    "name": "ipython",
    "version": 3
   },
   "file_extension": ".py",
   "mimetype": "text/x-python",
   "name": "python",
   "nbconvert_exporter": "python",
   "pygments_lexer": "ipython3",
   "version": "3.11.5"
  }
 },
 "nbformat": 4,
 "nbformat_minor": 5
}
