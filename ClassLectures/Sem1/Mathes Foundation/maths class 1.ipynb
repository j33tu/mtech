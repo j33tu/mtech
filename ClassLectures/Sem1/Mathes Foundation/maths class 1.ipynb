{
 "cells": [
  {
   "cell_type": "code",
   "execution_count": null,
   "id": "1e31a883",
   "metadata": {},
   "outputs": [],
   "source": [
    "import matplotlib.pyplot as plt\n",
    "import pandas as pd\n",
    "import numpy as np\n",
    "import matplotlib.pyplot as plt\n",
    "import scipy.stats as st\n",
    "import seaborn as sns\n",
    "import matplotlib.pyplot as plt\n",
    "import scipy.stats as st\n"
   ]
  },
  {
   "cell_type": "code",
   "execution_count": null,
   "id": "c2c513ba",
   "metadata": {},
   "outputs": [],
   "source": [
    "'''\n",
    " Supoose Police is chasing a Bank Robber, police has speed of 160km/hr and Bank Robber has 130km/hr and 5 minute head start\n",
    "\n",
    "How long does it take the police to catch the robber ?\n",
    "\n",
    "What distance will they have traveled at that point?\n",
    "\n",
    "( For simplicity , let's ignore acceleration , traffic,etc)\n",
    "\n",
    "Note that160𝑘𝑚/ℎ𝑟\n",
    "\n",
    "= 2.6 km/hr and 130 km/hr is 2.16 km/hr\n",
    "\n",
    "Distance traveled by Robber𝑑=2.16𝑡\n",
    "\n",
    "in time time t ( It is a linear equation t)\n",
    "\n",
    "Distance Travelled by police 𝑑=2.6(𝑡−5)\n",
    "\n",
    "as police started 5 minitues late ( It is a linear equation in t)\n",
    "\n",
    "This problem is redcued solving two linear equations\n",
    "\n",
    "They will meet at 2.16𝑡=2.6(𝑡−5)\n",
    "\n",
    "Solving we get 𝑡=29.54\n",
    "\n",
    "approx 30 minitues\n",
    "\n",
    "Distance traveled 𝑑=2.16(29.54)=63.84𝑘𝑚\n",
    "'''"
   ]
  },
  {
   "cell_type": "code",
   "execution_count": null,
   "id": "c0d51924",
   "metadata": {},
   "outputs": [],
   "source": [
    "t = np.linspace(0, 40, 1000) # start, finish, n point"
   ]
  },
  {
   "cell_type": "code",
   "execution_count": null,
   "id": "f1e127f3",
   "metadata": {},
   "outputs": [],
   "source": [
    "a = np.array((-2,1))\n",
    "b = np.array((-1,-2))\n",
    "a_sum_b=a+b\n",
    "a_sum_b"
   ]
  },
  {
   "cell_type": "code",
   "execution_count": null,
   "id": "dac6bae4",
   "metadata": {},
   "outputs": [],
   "source": [
    "!pip install plot_helper"
   ]
  },
  {
   "cell_type": "code",
   "execution_count": 22,
   "id": "15d945c2",
   "metadata": {},
   "outputs": [],
   "source": [
    "#example and application of Dot and cross product"
   ]
  },
  {
   "cell_type": "code",
   "execution_count": 32,
   "id": "0d9cf3bd",
   "metadata": {},
   "outputs": [],
   "source": [
    "import numpy as np\n",
    "#consider the vectors of paitant \n",
    "p1= np.array([35,110,200])\n",
    "p2= np.array([30,100,250])\n",
    "p3= np.array([45,200,230])\n",
    "p= np.vstack([p1,p2,p3])\n",
    "\n",
    "def eucli(x,y):  # Input two arrays\n",
    "    dist=np.sqrt(np.sum((x-y)**2)) # First substarct and square each element and then sum\n",
    "    return dist\n"
   ]
  },
  {
   "cell_type": "code",
   "execution_count": 29,
   "id": "a0f1f663",
   "metadata": {},
   "outputs": [
    {
     "data": {
      "text/plain": [
       "array([[  0.  ,  51.23,  95.39],\n",
       "       [ 51.23,   0.  , 103.08],\n",
       "       [ 95.39, 103.08,   0.  ]])"
      ]
     },
     "execution_count": 29,
     "metadata": {},
     "output_type": "execute_result"
    }
   ],
   "source": [
    "DistanceMatrix = np.asarray([[np.round(eucli(p1, p2),2) for p2 in p] for p1 in p])\n",
    "DistanceMatrix"
   ]
  },
  {
   "cell_type": "code",
   "execution_count": 34,
   "id": "0039e60e",
   "metadata": {},
   "outputs": [
    {
     "data": {
      "text/plain": [
       "array([ 35, 110, 200])"
      ]
     },
     "execution_count": 34,
     "metadata": {},
     "output_type": "execute_result"
    }
   ],
   "source": [
    "p1"
   ]
  },
  {
   "cell_type": "code",
   "execution_count": null,
   "id": "913938b4",
   "metadata": {},
   "outputs": [],
   "source": []
  },
  {
   "cell_type": "code",
   "execution_count": 41,
   "id": "ab97bffa",
   "metadata": {},
   "outputs": [],
   "source": [
    "import numpy.linalg as la"
   ]
  },
  {
   "cell_type": "code",
   "execution_count": 39,
   "id": "d0654ae8",
   "metadata": {},
   "outputs": [],
   "source": [
    "#magnitude of vector"
   ]
  },
  {
   "cell_type": "code",
   "execution_count": 43,
   "id": "95e172e1",
   "metadata": {},
   "outputs": [
    {
     "data": {
      "text/plain": [
       "345.0"
      ]
     },
     "execution_count": 43,
     "metadata": {},
     "output_type": "execute_result"
    }
   ],
   "source": [
    "la.norm(p1,1) # x + y + z\n"
   ]
  },
  {
   "cell_type": "code",
   "execution_count": 47,
   "id": "21b9349e",
   "metadata": {},
   "outputs": [
    {
     "data": {
      "text/plain": [
       "230.9220647751098"
      ]
     },
     "execution_count": 47,
     "metadata": {},
     "output_type": "execute_result"
    }
   ],
   "source": [
    "la.norm(p1,2) # euclidian norm  sqrt of x2 + y2 \n"
   ]
  },
  {
   "cell_type": "code",
   "execution_count": 48,
   "id": "6f41244b",
   "metadata": {},
   "outputs": [
    {
     "data": {
      "text/plain": [
       "230.9220647751098"
      ]
     },
     "execution_count": 48,
     "metadata": {},
     "output_type": "execute_result"
    }
   ],
   "source": [
    "np.sqrt(35**2+ 110**2 + 200 **2)"
   ]
  },
  {
   "cell_type": "code",
   "execution_count": 50,
   "id": "9de072d1",
   "metadata": {},
   "outputs": [
    {
     "data": {
      "text/plain": [
       "200.0"
      ]
     },
     "execution_count": 50,
     "metadata": {},
     "output_type": "execute_result"
    }
   ],
   "source": [
    "la.norm(p1,np.inf)#\n"
   ]
  },
  {
   "cell_type": "code",
   "execution_count": 51,
   "id": "024530dc",
   "metadata": {},
   "outputs": [],
   "source": [
    "# Dot Product "
   ]
  },
  {
   "cell_type": "code",
   "execution_count": 52,
   "id": "6713b4f7",
   "metadata": {},
   "outputs": [
    {
     "name": "stdout",
     "output_type": "stream",
     "text": [
      "The scalar projection of u on v is :  1.8\n"
     ]
    }
   ],
   "source": [
    "u = np.array([-1,3])\n",
    "v = np.array([3,4]) \n",
    "# scalar Projection of V on U\n",
    "scUonV = np.dot(u,v)/la.norm(v)\n",
    "print('The scalar projection of u on v is : ',scUonV)"
   ]
  }
 ],
 "metadata": {
  "kernelspec": {
   "display_name": "Python 3 (ipykernel)",
   "language": "python",
   "name": "python3"
  },
  "language_info": {
   "codemirror_mode": {
    "name": "ipython",
    "version": 3
   },
   "file_extension": ".py",
   "mimetype": "text/x-python",
   "name": "python",
   "nbconvert_exporter": "python",
   "pygments_lexer": "ipython3",
   "version": "3.11.3"
  }
 },
 "nbformat": 4,
 "nbformat_minor": 5
}
