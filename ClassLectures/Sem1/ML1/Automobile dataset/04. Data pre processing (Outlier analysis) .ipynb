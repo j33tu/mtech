{
 "cells": [
  {
   "cell_type": "code",
   "execution_count": 1,
   "id": "c9773573",
   "metadata": {
    "executionInfo": {
     "elapsed": 1264,
     "status": "ok",
     "timestamp": 1687154559223,
     "user": {
      "displayName": "Sagarika Borah",
      "userId": "16033830323295691159"
     },
     "user_tz": -330
    },
    "id": "c9773573"
   },
   "outputs": [],
   "source": [
    "import pandas as pd\n",
    "import numpy as np\n",
    "import seaborn as sns\n",
    "import matplotlib.pyplot as plt\n",
    "from sklearn.preprocessing import minmax_scale, StandardScaler\n",
    "\n",
    "import warnings\n",
    "warnings.filterwarnings('ignore')"
   ]
  },
  {
   "cell_type": "code",
   "execution_count": 4,
   "id": "7422df9d",
   "metadata": {
    "colab": {
     "base_uri": "https://localhost:8080/",
     "height": 206
    },
    "executionInfo": {
     "elapsed": 467,
     "status": "ok",
     "timestamp": 1687154626642,
     "user": {
      "displayName": "Sagarika Borah",
      "userId": "16033830323295691159"
     },
     "user_tz": -330
    },
    "id": "7422df9d",
    "outputId": "06c19264-c306-4d68-bc0e-bae7bcff4d6b"
   },
   "outputs": [
    {
     "data": {
      "text/html": [
       "\n",
       "  <div id=\"df-9f22cc99-e195-48d5-8fed-2e45202c3e94\">\n",
       "    <div class=\"colab-df-container\">\n",
       "      <div>\n",
       "<style scoped>\n",
       "    .dataframe tbody tr th:only-of-type {\n",
       "        vertical-align: middle;\n",
       "    }\n",
       "\n",
       "    .dataframe tbody tr th {\n",
       "        vertical-align: top;\n",
       "    }\n",
       "\n",
       "    .dataframe thead th {\n",
       "        text-align: right;\n",
       "    }\n",
       "</style>\n",
       "<table border=\"1\" class=\"dataframe\">\n",
       "  <thead>\n",
       "    <tr style=\"text-align: right;\">\n",
       "      <th></th>\n",
       "      <th>normalized-losses</th>\n",
       "      <th>wheel-base</th>\n",
       "      <th>length</th>\n",
       "      <th>width</th>\n",
       "      <th>height</th>\n",
       "      <th>curb-weight</th>\n",
       "      <th>engine-size</th>\n",
       "      <th>bore</th>\n",
       "      <th>stroke</th>\n",
       "      <th>compression-ratio</th>\n",
       "      <th>horsepower</th>\n",
       "      <th>peak-rpm</th>\n",
       "      <th>city-mpg</th>\n",
       "      <th>highway-mpg</th>\n",
       "      <th>price</th>\n",
       "    </tr>\n",
       "  </thead>\n",
       "  <tbody>\n",
       "    <tr>\n",
       "      <th>0</th>\n",
       "      <td>115.0</td>\n",
       "      <td>88.6</td>\n",
       "      <td>168.8</td>\n",
       "      <td>64.1</td>\n",
       "      <td>48.8</td>\n",
       "      <td>2548</td>\n",
       "      <td>130</td>\n",
       "      <td>3.47</td>\n",
       "      <td>2.68</td>\n",
       "      <td>9.0</td>\n",
       "      <td>111.0</td>\n",
       "      <td>5000.0</td>\n",
       "      <td>21</td>\n",
       "      <td>27</td>\n",
       "      <td>13495.0</td>\n",
       "    </tr>\n",
       "    <tr>\n",
       "      <th>1</th>\n",
       "      <td>115.0</td>\n",
       "      <td>88.6</td>\n",
       "      <td>168.8</td>\n",
       "      <td>64.1</td>\n",
       "      <td>48.8</td>\n",
       "      <td>2548</td>\n",
       "      <td>130</td>\n",
       "      <td>3.47</td>\n",
       "      <td>2.68</td>\n",
       "      <td>9.0</td>\n",
       "      <td>111.0</td>\n",
       "      <td>5000.0</td>\n",
       "      <td>21</td>\n",
       "      <td>27</td>\n",
       "      <td>16500.0</td>\n",
       "    </tr>\n",
       "    <tr>\n",
       "      <th>2</th>\n",
       "      <td>115.0</td>\n",
       "      <td>94.5</td>\n",
       "      <td>171.2</td>\n",
       "      <td>65.5</td>\n",
       "      <td>52.4</td>\n",
       "      <td>2823</td>\n",
       "      <td>152</td>\n",
       "      <td>2.68</td>\n",
       "      <td>3.47</td>\n",
       "      <td>9.0</td>\n",
       "      <td>154.0</td>\n",
       "      <td>5000.0</td>\n",
       "      <td>19</td>\n",
       "      <td>26</td>\n",
       "      <td>16500.0</td>\n",
       "    </tr>\n",
       "    <tr>\n",
       "      <th>3</th>\n",
       "      <td>164.0</td>\n",
       "      <td>99.8</td>\n",
       "      <td>176.6</td>\n",
       "      <td>66.2</td>\n",
       "      <td>54.3</td>\n",
       "      <td>2337</td>\n",
       "      <td>109</td>\n",
       "      <td>3.19</td>\n",
       "      <td>3.40</td>\n",
       "      <td>10.0</td>\n",
       "      <td>102.0</td>\n",
       "      <td>5500.0</td>\n",
       "      <td>24</td>\n",
       "      <td>30</td>\n",
       "      <td>13950.0</td>\n",
       "    </tr>\n",
       "    <tr>\n",
       "      <th>4</th>\n",
       "      <td>164.0</td>\n",
       "      <td>99.4</td>\n",
       "      <td>176.6</td>\n",
       "      <td>66.4</td>\n",
       "      <td>54.3</td>\n",
       "      <td>2824</td>\n",
       "      <td>136</td>\n",
       "      <td>3.19</td>\n",
       "      <td>3.40</td>\n",
       "      <td>8.0</td>\n",
       "      <td>115.0</td>\n",
       "      <td>5500.0</td>\n",
       "      <td>18</td>\n",
       "      <td>22</td>\n",
       "      <td>17450.0</td>\n",
       "    </tr>\n",
       "  </tbody>\n",
       "</table>\n",
       "</div>\n",
       "      <button class=\"colab-df-convert\" onclick=\"convertToInteractive('df-9f22cc99-e195-48d5-8fed-2e45202c3e94')\"\n",
       "              title=\"Convert this dataframe to an interactive table.\"\n",
       "              style=\"display:none;\">\n",
       "        \n",
       "  <svg xmlns=\"http://www.w3.org/2000/svg\" height=\"24px\"viewBox=\"0 0 24 24\"\n",
       "       width=\"24px\">\n",
       "    <path d=\"M0 0h24v24H0V0z\" fill=\"none\"/>\n",
       "    <path d=\"M18.56 5.44l.94 2.06.94-2.06 2.06-.94-2.06-.94-.94-2.06-.94 2.06-2.06.94zm-11 1L8.5 8.5l.94-2.06 2.06-.94-2.06-.94L8.5 2.5l-.94 2.06-2.06.94zm10 10l.94 2.06.94-2.06 2.06-.94-2.06-.94-.94-2.06-.94 2.06-2.06.94z\"/><path d=\"M17.41 7.96l-1.37-1.37c-.4-.4-.92-.59-1.43-.59-.52 0-1.04.2-1.43.59L10.3 9.45l-7.72 7.72c-.78.78-.78 2.05 0 2.83L4 21.41c.39.39.9.59 1.41.59.51 0 1.02-.2 1.41-.59l7.78-7.78 2.81-2.81c.8-.78.8-2.07 0-2.86zM5.41 20L4 18.59l7.72-7.72 1.47 1.35L5.41 20z\"/>\n",
       "  </svg>\n",
       "      </button>\n",
       "      \n",
       "  <style>\n",
       "    .colab-df-container {\n",
       "      display:flex;\n",
       "      flex-wrap:wrap;\n",
       "      gap: 12px;\n",
       "    }\n",
       "\n",
       "    .colab-df-convert {\n",
       "      background-color: #E8F0FE;\n",
       "      border: none;\n",
       "      border-radius: 50%;\n",
       "      cursor: pointer;\n",
       "      display: none;\n",
       "      fill: #1967D2;\n",
       "      height: 32px;\n",
       "      padding: 0 0 0 0;\n",
       "      width: 32px;\n",
       "    }\n",
       "\n",
       "    .colab-df-convert:hover {\n",
       "      background-color: #E2EBFA;\n",
       "      box-shadow: 0px 1px 2px rgba(60, 64, 67, 0.3), 0px 1px 3px 1px rgba(60, 64, 67, 0.15);\n",
       "      fill: #174EA6;\n",
       "    }\n",
       "\n",
       "    [theme=dark] .colab-df-convert {\n",
       "      background-color: #3B4455;\n",
       "      fill: #D2E3FC;\n",
       "    }\n",
       "\n",
       "    [theme=dark] .colab-df-convert:hover {\n",
       "      background-color: #434B5C;\n",
       "      box-shadow: 0px 1px 3px 1px rgba(0, 0, 0, 0.15);\n",
       "      filter: drop-shadow(0px 1px 2px rgba(0, 0, 0, 0.3));\n",
       "      fill: #FFFFFF;\n",
       "    }\n",
       "  </style>\n",
       "\n",
       "      <script>\n",
       "        const buttonEl =\n",
       "          document.querySelector('#df-9f22cc99-e195-48d5-8fed-2e45202c3e94 button.colab-df-convert');\n",
       "        buttonEl.style.display =\n",
       "          google.colab.kernel.accessAllowed ? 'block' : 'none';\n",
       "\n",
       "        async function convertToInteractive(key) {\n",
       "          const element = document.querySelector('#df-9f22cc99-e195-48d5-8fed-2e45202c3e94');\n",
       "          const dataTable =\n",
       "            await google.colab.kernel.invokeFunction('convertToInteractive',\n",
       "                                                     [key], {});\n",
       "          if (!dataTable) return;\n",
       "\n",
       "          const docLinkHtml = 'Like what you see? Visit the ' +\n",
       "            '<a target=\"_blank\" href=https://colab.research.google.com/notebooks/data_table.ipynb>data table notebook</a>'\n",
       "            + ' to learn more about interactive tables.';\n",
       "          element.innerHTML = '';\n",
       "          dataTable['output_type'] = 'display_data';\n",
       "          await google.colab.output.renderOutput(dataTable, element);\n",
       "          const docLink = document.createElement('div');\n",
       "          docLink.innerHTML = docLinkHtml;\n",
       "          element.appendChild(docLink);\n",
       "        }\n",
       "      </script>\n",
       "    </div>\n",
       "  </div>\n",
       "  "
      ],
      "text/plain": [
       "   normalized-losses  wheel-base  length  width  height  curb-weight  \\\n",
       "0              115.0        88.6   168.8   64.1    48.8         2548   \n",
       "1              115.0        88.6   168.8   64.1    48.8         2548   \n",
       "2              115.0        94.5   171.2   65.5    52.4         2823   \n",
       "3              164.0        99.8   176.6   66.2    54.3         2337   \n",
       "4              164.0        99.4   176.6   66.4    54.3         2824   \n",
       "\n",
       "   engine-size  bore  stroke  compression-ratio  horsepower  peak-rpm  \\\n",
       "0          130  3.47    2.68                9.0       111.0    5000.0   \n",
       "1          130  3.47    2.68                9.0       111.0    5000.0   \n",
       "2          152  2.68    3.47                9.0       154.0    5000.0   \n",
       "3          109  3.19    3.40               10.0       102.0    5500.0   \n",
       "4          136  3.19    3.40                8.0       115.0    5500.0   \n",
       "\n",
       "   city-mpg  highway-mpg    price  \n",
       "0        21           27  13495.0  \n",
       "1        21           27  16500.0  \n",
       "2        19           26  16500.0  \n",
       "3        24           30  13950.0  \n",
       "4        18           22  17450.0  "
      ]
     },
     "execution_count": 4,
     "metadata": {},
     "output_type": "execute_result"
    }
   ],
   "source": [
    "df= pd.read_csv('autompg_num.csv')\n",
    "df.head()"
   ]
  },
  {
   "cell_type": "code",
   "execution_count": 5,
   "id": "a7e98977",
   "metadata": {
    "colab": {
     "base_uri": "https://localhost:8080/"
    },
    "executionInfo": {
     "elapsed": 4,
     "status": "ok",
     "timestamp": 1687154627261,
     "user": {
      "displayName": "Sagarika Borah",
      "userId": "16033830323295691159"
     },
     "user_tz": -330
    },
    "id": "a7e98977",
    "outputId": "6bbd31c0-d6b7-4f82-be6a-3fbff7f34d00"
   },
   "outputs": [
    {
     "data": {
      "text/plain": [
       "(201, 15)"
      ]
     },
     "execution_count": 5,
     "metadata": {},
     "output_type": "execute_result"
    }
   ],
   "source": [
    "df.shape"
   ]
  },
  {
   "cell_type": "code",
   "execution_count": 6,
   "id": "d0b75b18",
   "metadata": {
    "colab": {
     "base_uri": "https://localhost:8080/"
    },
    "executionInfo": {
     "elapsed": 2,
     "status": "ok",
     "timestamp": 1687154627625,
     "user": {
      "displayName": "Sagarika Borah",
      "userId": "16033830323295691159"
     },
     "user_tz": -330
    },
    "id": "d0b75b18",
    "outputId": "e021996f-3933-471b-fad7-9b683adcc7d6"
   },
   "outputs": [
    {
     "data": {
      "text/plain": [
       "normalized-losses    float64\n",
       "wheel-base           float64\n",
       "length               float64\n",
       "width                float64\n",
       "height               float64\n",
       "curb-weight            int64\n",
       "engine-size            int64\n",
       "bore                 float64\n",
       "stroke               float64\n",
       "compression-ratio    float64\n",
       "horsepower           float64\n",
       "peak-rpm             float64\n",
       "city-mpg               int64\n",
       "highway-mpg            int64\n",
       "price                float64\n",
       "dtype: object"
      ]
     },
     "execution_count": 6,
     "metadata": {},
     "output_type": "execute_result"
    }
   ],
   "source": [
    "df.dtypes"
   ]
  },
  {
   "cell_type": "code",
   "execution_count": 7,
   "id": "ZiRhgaA5lQwu",
   "metadata": {
    "colab": {
     "base_uri": "https://localhost:8080/"
    },
    "executionInfo": {
     "elapsed": 4,
     "status": "ok",
     "timestamp": 1687154628592,
     "user": {
      "displayName": "Sagarika Borah",
      "userId": "16033830323295691159"
     },
     "user_tz": -330
    },
    "id": "ZiRhgaA5lQwu",
    "outputId": "39fe1b3c-2c2c-4299-c0c0-807bf92048e8"
   },
   "outputs": [
    {
     "data": {
      "text/plain": [
       "normalized-losses    0.957177\n",
       "wheel-base           1.031261\n",
       "length               0.154446\n",
       "width                0.875029\n",
       "height               0.029173\n",
       "curb-weight          0.705804\n",
       "engine-size          1.979144\n",
       "bore                -0.032730\n",
       "stroke              -0.706744\n",
       "compression-ratio    2.584462\n",
       "horsepower           1.153019\n",
       "peak-rpm             0.103069\n",
       "city-mpg             0.680433\n",
       "highway-mpg          0.549507\n",
       "price                1.809675\n",
       "dtype: float64"
      ]
     },
     "execution_count": 7,
     "metadata": {},
     "output_type": "execute_result"
    }
   ],
   "source": [
    "df.skew()"
   ]
  },
  {
   "cell_type": "code",
   "execution_count": 8,
   "id": "ZB3BceUEnjun",
   "metadata": {
    "colab": {
     "base_uri": "https://localhost:8080/",
     "height": 1000
    },
    "executionInfo": {
     "elapsed": 4718,
     "status": "ok",
     "timestamp": 1687154636391,
     "user": {
      "displayName": "Sagarika Borah",
      "userId": "16033830323295691159"
     },
     "user_tz": -330
    },
    "id": "ZB3BceUEnjun",
    "outputId": "fcab79b0-d1e9-4182-80ca-44e036739e9f"
   },
   "outputs": [
    {
     "data": {
      "image/png": "[encoded data removed]",
      "text/plain": [
       "<Figure size 2000x2000 with 15 Axes>"
      ]
     },
     "metadata": {},
     "output_type": "display_data"
    }
   ],
   "source": [
    "plt.figure(figsize=(20,20))\n",
    "i=1\n",
    "for col in df:\n",
    "  ax=plt.subplot(4,4,i)\n",
    "  sns.distplot(df[col])\n",
    "  i+=1\n"
   ]
  },
  {
   "cell_type": "code",
   "execution_count": null,
   "id": "WX13gIwwpns8",
   "metadata": {
    "id": "WX13gIwwpns8"
   },
   "outputs": [],
   "source": []
  },
  {
   "cell_type": "code",
   "execution_count": null,
   "id": "ZvvitS6VQ2qw",
   "metadata": {
    "id": "ZvvitS6VQ2qw"
   },
   "outputs": [],
   "source": []
  },
  {
   "cell_type": "code",
   "execution_count": null,
   "id": "lYDdeh2MQ2tk",
   "metadata": {
    "id": "lYDdeh2MQ2tk"
   },
   "outputs": [],
   "source": []
  },
  {
   "cell_type": "code",
   "execution_count": null,
   "id": "mXSLE-lxQ2xR",
   "metadata": {
    "id": "mXSLE-lxQ2xR"
   },
   "outputs": [],
   "source": []
  },
  {
   "cell_type": "markdown",
   "id": "CcKUm5SPyv61",
   "metadata": {
    "id": "CcKUm5SPyv61"
   },
   "source": [
    "Length, Height, peak_rpm the skew values are in the range -0.5 to 0.5\n",
    "\n",
    "So they are in tolerable range"
   ]
  },
  {
   "cell_type": "markdown",
   "id": "7naALOPXpn6G",
   "metadata": {
    "id": "7naALOPXpn6G"
   },
   "source": [
    "Most of the attributes are skewed. As we can see following are right skewed or **positively skewed:**\n",
    "\n",
    "normalized-losses    0.957177\n",
    "\n",
    "**wheel-base           1.031261**\n",
    "\n",
    "width                0.875029\n",
    "\n",
    "curb-weight          0.705804\n",
    "\n",
    "**engine-size          1.979144**\n",
    "\n",
    "**compression-ratio    2.584462**\n",
    "\n",
    "**horsepower           1.153019**\n",
    "\n",
    "city-mpg             0.680433\n",
    "\n",
    "highway-mpg          0.549507\n",
    "\n",
    "*price                1.809675*\n",
    "\n",
    "\n",
    "---\n",
    "\n",
    "\n",
    "\n",
    "---\n",
    "\n",
    "\n",
    "\n",
    "Following are **negatively skewed**\n",
    "\n",
    "bore                -0.032730\n",
    "\n",
    "stroke              -0.706744\n",
    "\n",
    "\n",
    "Even the target column is also Skewed, so the model building will get effected with a skewed target.\n"
   ]
  },
  {
   "cell_type": "markdown",
   "id": "ell1ExBkqSvE",
   "metadata": {
    "id": "ell1ExBkqSvE"
   },
   "source": [
    "## Outlier handling\n",
    "\n",
    "1. Dropping\n",
    "2. Capping\n",
    "4. Transformation"
   ]
  },
  {
   "cell_type": "code",
   "execution_count": 22,
   "id": "yOgV3HioqTGS",
   "metadata": {
    "executionInfo": {
     "elapsed": 520,
     "status": "ok",
     "timestamp": 1687156566722,
     "user": {
      "displayName": "Sagarika Borah",
      "userId": "16033830323295691159"
     },
     "user_tz": -330
    },
    "id": "yOgV3HioqTGS"
   },
   "outputs": [],
   "source": [
    "# Dropping\n",
    "\n",
    "# highway-mpg, curb-weight, stroke"
   ]
  },
  {
   "cell_type": "code",
   "execution_count": 23,
   "id": "ofs-Xx9ZsOEz",
   "metadata": {
    "executionInfo": {
     "elapsed": 2,
     "status": "ok",
     "timestamp": 1687156567215,
     "user": {
      "displayName": "Sagarika Borah",
      "userId": "16033830323295691159"
     },
     "user_tz": -330
    },
    "id": "ofs-Xx9ZsOEz"
   },
   "outputs": [],
   "source": [
    "#IQR"
   ]
  },
  {
   "cell_type": "code",
   "execution_count": 24,
   "id": "a8cZHjmesOHZ",
   "metadata": {
    "colab": {
     "base_uri": "https://localhost:8080/"
    },
    "executionInfo": {
     "elapsed": 2,
     "status": "ok",
     "timestamp": 1687156567643,
     "user": {
      "displayName": "Sagarika Borah",
      "userId": "16033830323295691159"
     },
     "user_tz": -330
    },
    "id": "a8cZHjmesOHZ",
    "outputId": "94530666-3855-4551-c72a-e2ea21fab832"
   },
   "outputs": [
    {
     "data": {
      "text/plain": [
       "normalized-losses      36.00\n",
       "wheel-base              7.90\n",
       "length                 16.70\n",
       "width                   2.50\n",
       "height                  3.50\n",
       "curb-weight           757.00\n",
       "engine-size            43.00\n",
       "bore                    0.43\n",
       "stroke                  0.30\n",
       "compression-ratio       0.80\n",
       "horsepower             46.00\n",
       "peak-rpm              700.00\n",
       "city-mpg               11.00\n",
       "highway-mpg             9.00\n",
       "price                8725.00\n",
       "dtype: float64"
      ]
     },
     "execution_count": 24,
     "metadata": {},
     "output_type": "execute_result"
    }
   ],
   "source": [
    "q1=df.quantile(0.25)\n",
    "q3=df.quantile(0.75)\n",
    "IQR= q3-q1\n",
    "IQR"
   ]
  },
  {
   "cell_type": "code",
   "execution_count": 25,
   "id": "crEnHYQSC9IT",
   "metadata": {
    "executionInfo": {
     "elapsed": 3,
     "status": "ok",
     "timestamp": 1687156568491,
     "user": {
      "displayName": "Sagarika Borah",
      "userId": "16033830323295691159"
     },
     "user_tz": -330
    },
    "id": "crEnHYQSC9IT"
   },
   "outputs": [],
   "source": [
    "min= q1-1.5*IQR\n",
    "max= q3+1.5*IQR"
   ]
  },
  {
   "cell_type": "code",
   "execution_count": 26,
   "id": "XGK1UBe-zLb6",
   "metadata": {
    "executionInfo": {
     "elapsed": 3,
     "status": "ok",
     "timestamp": 1687156568974,
     "user": {
      "displayName": "Sagarika Borah",
      "userId": "16033830323295691159"
     },
     "user_tz": -330
    },
    "id": "XGK1UBe-zLb6"
   },
   "outputs": [],
   "source": [
    "df_drop=df[['highway-mpg','curb-weight','stroke']]"
   ]
  },
  {
   "cell_type": "code",
   "execution_count": 27,
   "id": "1P02l67_xYuC",
   "metadata": {
    "executionInfo": {
     "elapsed": 2,
     "status": "ok",
     "timestamp": 1687156569714,
     "user": {
      "displayName": "Sagarika Borah",
      "userId": "16033830323295691159"
     },
     "user_tz": -330
    },
    "id": "1P02l67_xYuC"
   },
   "outputs": [],
   "source": [
    "df_iqr=df_drop[~((df_drop<(q1-1.5*IQR)) | (df_drop>(q3+1.5*IQR))).any(axis=1)]"
   ]
  },
  {
   "cell_type": "code",
   "execution_count": null,
   "id": "gFCTbDVf9_uY",
   "metadata": {
    "colab": {
     "base_uri": "https://localhost:8080/"
    },
    "executionInfo": {
     "elapsed": 31,
     "status": "ok",
     "timestamp": 1686980964111,
     "user": {
      "displayName": "Sagarika Borah",
      "userId": "16033830323295691159"
     },
     "user_tz": -330
    },
    "id": "gFCTbDVf9_uY",
    "outputId": "008e697c-113e-45d8-d07a-6fc2910d08d0"
   },
   "outputs": [
    {
     "data": {
      "text/plain": [
       "highway-mpg    0.222421\n",
       "curb-weight    0.614632\n",
       "stroke        -0.168870\n",
       "dtype: float64"
      ]
     },
     "execution_count": 17,
     "metadata": {},
     "output_type": "execute_result"
    }
   ],
   "source": [
    "df_iqr.skew()"
   ]
  },
  {
   "cell_type": "code",
   "execution_count": null,
   "id": "i949wPzHsOKQ",
   "metadata": {
    "id": "i949wPzHsOKQ"
   },
   "outputs": [],
   "source": [
    "#Z-score"
   ]
  },
  {
   "cell_type": "code",
   "execution_count": 41,
   "id": "dj1Yn2C-t0ZQ",
   "metadata": {
    "executionInfo": {
     "elapsed": 527,
     "status": "ok",
     "timestamp": 1687157876883,
     "user": {
      "displayName": "Sagarika Borah",
      "userId": "16033830323295691159"
     },
     "user_tz": -330
    },
    "id": "dj1Yn2C-t0ZQ"
   },
   "outputs": [],
   "source": [
    "import scipy\n",
    "from scipy import stats"
   ]
  },
  {
   "cell_type": "code",
   "execution_count": null,
   "id": "oe8Y3KQm_ANw",
   "metadata": {
    "colab": {
     "base_uri": "https://localhost:8080/",
     "height": 424
    },
    "executionInfo": {
     "elapsed": 28,
     "status": "ok",
     "timestamp": 1686980964111,
     "user": {
      "displayName": "Sagarika Borah",
      "userId": "16033830323295691159"
     },
     "user_tz": -330
    },
    "id": "oe8Y3KQm_ANw",
    "outputId": "36ec3323-b287-48fc-f757-0e9f6d265455"
   },
   "outputs": [
    {
     "data": {
      "text/html": [
       "\n",
       "  <div id=\"df-5c2fc50b-a560-43a1-9462-34c66b66a460\">\n",
       "    <div class=\"colab-df-container\">\n",
       "      <div>\n",
       "<style scoped>\n",
       "    .dataframe tbody tr th:only-of-type {\n",
       "        vertical-align: middle;\n",
       "    }\n",
       "\n",
       "    .dataframe tbody tr th {\n",
       "        vertical-align: top;\n",
       "    }\n",
       "\n",
       "    .dataframe thead th {\n",
       "        text-align: right;\n",
       "    }\n",
       "</style>\n",
       "<table border=\"1\" class=\"dataframe\">\n",
       "  <thead>\n",
       "    <tr style=\"text-align: right;\">\n",
       "      <th></th>\n",
       "      <th>highway-mpg</th>\n",
       "      <th>curb-weight</th>\n",
       "      <th>stroke</th>\n",
       "    </tr>\n",
       "  </thead>\n",
       "  <tbody>\n",
       "    <tr>\n",
       "      <th>0</th>\n",
       "      <td>27.0</td>\n",
       "      <td>2548</td>\n",
       "      <td>2.68</td>\n",
       "    </tr>\n",
       "    <tr>\n",
       "      <th>1</th>\n",
       "      <td>27.0</td>\n",
       "      <td>2548</td>\n",
       "      <td>2.68</td>\n",
       "    </tr>\n",
       "    <tr>\n",
       "      <th>2</th>\n",
       "      <td>26.0</td>\n",
       "      <td>2823</td>\n",
       "      <td>3.47</td>\n",
       "    </tr>\n",
       "    <tr>\n",
       "      <th>3</th>\n",
       "      <td>30.0</td>\n",
       "      <td>2337</td>\n",
       "      <td>3.40</td>\n",
       "    </tr>\n",
       "    <tr>\n",
       "      <th>4</th>\n",
       "      <td>22.0</td>\n",
       "      <td>2824</td>\n",
       "      <td>3.40</td>\n",
       "    </tr>\n",
       "    <tr>\n",
       "      <th>...</th>\n",
       "      <td>...</td>\n",
       "      <td>...</td>\n",
       "      <td>...</td>\n",
       "    </tr>\n",
       "    <tr>\n",
       "      <th>196</th>\n",
       "      <td>28.0</td>\n",
       "      <td>2952</td>\n",
       "      <td>3.15</td>\n",
       "    </tr>\n",
       "    <tr>\n",
       "      <th>197</th>\n",
       "      <td>25.0</td>\n",
       "      <td>3049</td>\n",
       "      <td>3.15</td>\n",
       "    </tr>\n",
       "    <tr>\n",
       "      <th>198</th>\n",
       "      <td>23.0</td>\n",
       "      <td>3012</td>\n",
       "      <td>2.87</td>\n",
       "    </tr>\n",
       "    <tr>\n",
       "      <th>199</th>\n",
       "      <td>27.0</td>\n",
       "      <td>3217</td>\n",
       "      <td>3.40</td>\n",
       "    </tr>\n",
       "    <tr>\n",
       "      <th>200</th>\n",
       "      <td>25.0</td>\n",
       "      <td>3062</td>\n",
       "      <td>3.15</td>\n",
       "    </tr>\n",
       "  </tbody>\n",
       "</table>\n",
       "<p>201 rows × 3 columns</p>\n",
       "</div>\n",
       "      <button class=\"colab-df-convert\" onclick=\"convertToInteractive('df-5c2fc50b-a560-43a1-9462-34c66b66a460')\"\n",
       "              title=\"Convert this dataframe to an interactive table.\"\n",
       "              style=\"display:none;\">\n",
       "        \n",
       "  <svg xmlns=\"http://www.w3.org/2000/svg\" height=\"24px\"viewBox=\"0 0 24 24\"\n",
       "       width=\"24px\">\n",
       "    <path d=\"M0 0h24v24H0V0z\" fill=\"none\"/>\n",
       "    <path d=\"M18.56 5.44l.94 2.06.94-2.06 2.06-.94-2.06-.94-.94-2.06-.94 2.06-2.06.94zm-11 1L8.5 8.5l.94-2.06 2.06-.94-2.06-.94L8.5 2.5l-.94 2.06-2.06.94zm10 10l.94 2.06.94-2.06 2.06-.94-2.06-.94-.94-2.06-.94 2.06-2.06.94z\"/><path d=\"M17.41 7.96l-1.37-1.37c-.4-.4-.92-.59-1.43-.59-.52 0-1.04.2-1.43.59L10.3 9.45l-7.72 7.72c-.78.78-.78 2.05 0 2.83L4 21.41c.39.39.9.59 1.41.59.51 0 1.02-.2 1.41-.59l7.78-7.78 2.81-2.81c.8-.78.8-2.07 0-2.86zM5.41 20L4 18.59l7.72-7.72 1.47 1.35L5.41 20z\"/>\n",
       "  </svg>\n",
       "      </button>\n",
       "      \n",
       "  <style>\n",
       "    .colab-df-container {\n",
       "      display:flex;\n",
       "      flex-wrap:wrap;\n",
       "      gap: 12px;\n",
       "    }\n",
       "\n",
       "    .colab-df-convert {\n",
       "      background-color: #E8F0FE;\n",
       "      border: none;\n",
       "      border-radius: 50%;\n",
       "      cursor: pointer;\n",
       "      display: none;\n",
       "      fill: #1967D2;\n",
       "      height: 32px;\n",
       "      padding: 0 0 0 0;\n",
       "      width: 32px;\n",
       "    }\n",
       "\n",
       "    .colab-df-convert:hover {\n",
       "      background-color: #E2EBFA;\n",
       "      box-shadow: 0px 1px 2px rgba(60, 64, 67, 0.3), 0px 1px 3px 1px rgba(60, 64, 67, 0.15);\n",
       "      fill: #174EA6;\n",
       "    }\n",
       "\n",
       "    [theme=dark] .colab-df-convert {\n",
       "      background-color: #3B4455;\n",
       "      fill: #D2E3FC;\n",
       "    }\n",
       "\n",
       "    [theme=dark] .colab-df-convert:hover {\n",
       "      background-color: #434B5C;\n",
       "      box-shadow: 0px 1px 3px 1px rgba(0, 0, 0, 0.15);\n",
       "      filter: drop-shadow(0px 1px 2px rgba(0, 0, 0, 0.3));\n",
       "      fill: #FFFFFF;\n",
       "    }\n",
       "  </style>\n",
       "\n",
       "      <script>\n",
       "        const buttonEl =\n",
       "          document.querySelector('#df-5c2fc50b-a560-43a1-9462-34c66b66a460 button.colab-df-convert');\n",
       "        buttonEl.style.display =\n",
       "          google.colab.kernel.accessAllowed ? 'block' : 'none';\n",
       "\n",
       "        async function convertToInteractive(key) {\n",
       "          const element = document.querySelector('#df-5c2fc50b-a560-43a1-9462-34c66b66a460');\n",
       "          const dataTable =\n",
       "            await google.colab.kernel.invokeFunction('convertToInteractive',\n",
       "                                                     [key], {});\n",
       "          if (!dataTable) return;\n",
       "\n",
       "          const docLinkHtml = 'Like what you see? Visit the ' +\n",
       "            '<a target=\"_blank\" href=https://colab.research.google.com/notebooks/data_table.ipynb>data table notebook</a>'\n",
       "            + ' to learn more about interactive tables.';\n",
       "          element.innerHTML = '';\n",
       "          dataTable['output_type'] = 'display_data';\n",
       "          await google.colab.output.renderOutput(dataTable, element);\n",
       "          const docLink = document.createElement('div');\n",
       "          docLink.innerHTML = docLinkHtml;\n",
       "          element.appendChild(docLink);\n",
       "        }\n",
       "      </script>\n",
       "    </div>\n",
       "  </div>\n",
       "  "
      ],
      "text/plain": [
       "     highway-mpg  curb-weight  stroke\n",
       "0           27.0         2548    2.68\n",
       "1           27.0         2548    2.68\n",
       "2           26.0         2823    3.47\n",
       "3           30.0         2337    3.40\n",
       "4           22.0         2824    3.40\n",
       "..           ...          ...     ...\n",
       "196         28.0         2952    3.15\n",
       "197         25.0         3049    3.15\n",
       "198         23.0         3012    2.87\n",
       "199         27.0         3217    3.40\n",
       "200         25.0         3062    3.15\n",
       "\n",
       "[201 rows x 3 columns]"
      ]
     },
     "execution_count": 20,
     "metadata": {},
     "output_type": "execute_result"
    }
   ],
   "source": [
    "df_drop1=df[['highway-mpg','curb-weight','stroke']]\n",
    "zscore_df=scipy.stats.zscore(df_drop1)\n",
    "df_zscore= df_drop1[~((zscore_df>3)| (zscore_df<-3))]\n",
    "df_zscore"
   ]
  },
  {
   "cell_type": "code",
   "execution_count": null,
   "id": "J9A7qOMkAxs6",
   "metadata": {
    "colab": {
     "base_uri": "https://localhost:8080/"
    },
    "executionInfo": {
     "elapsed": 29,
     "status": "ok",
     "timestamp": 1686980964112,
     "user": {
      "displayName": "Sagarika Borah",
      "userId": "16033830323295691159"
     },
     "user_tz": -330
    },
    "id": "J9A7qOMkAxs6",
    "outputId": "c9e45397-c12c-4241-c11a-08730657bd24"
   },
   "outputs": [
    {
     "data": {
      "text/plain": [
       "highway-mpg    0.549507\n",
       "curb-weight    0.705804\n",
       "stroke        -0.706744\n",
       "dtype: float64"
      ]
     },
     "execution_count": 21,
     "metadata": {},
     "output_type": "execute_result"
    }
   ],
   "source": [
    "df_drop1.skew()"
   ]
  },
  {
   "cell_type": "code",
   "execution_count": null,
   "id": "xkXwV_B8uL6B",
   "metadata": {
    "id": "xkXwV_B8uL6B"
   },
   "outputs": [],
   "source": [
    "# boxplot"
   ]
  },
  {
   "cell_type": "code",
   "execution_count": null,
   "id": "xntKnwfWAiY_",
   "metadata": {
    "colab": {
     "base_uri": "https://localhost:8080/",
     "height": 447
    },
    "executionInfo": {
     "elapsed": 16,
     "status": "ok",
     "timestamp": 1686980965198,
     "user": {
      "displayName": "Sagarika Borah",
      "userId": "16033830323295691159"
     },
     "user_tz": -330
    },
    "id": "xntKnwfWAiY_",
    "outputId": "c469a2ed-9c3c-4537-d7c6-5ee5eb09461f"
   },
   "outputs": [
    {
     "data": {
      "text/plain": [
       "<Axes: >"
      ]
     },
     "execution_count": 23,
     "metadata": {},
     "output_type": "execute_result"
    },
    {
     "data": {
      "image/png": "[encoded data removed]",
      "text/plain": [
       "<Figure size 640x480 with 1 Axes>"
      ]
     },
     "metadata": {},
     "output_type": "display_data"
    }
   ],
   "source": [
    "sns.boxplot(df_drop)"
   ]
  },
  {
   "cell_type": "code",
   "execution_count": null,
   "id": "DhrOOmWFuMBm",
   "metadata": {
    "colab": {
     "base_uri": "https://localhost:8080/",
     "height": 447
    },
    "executionInfo": {
     "elapsed": 14,
     "status": "ok",
     "timestamp": 1686980965198,
     "user": {
      "displayName": "Sagarika Borah",
      "userId": "16033830323295691159"
     },
     "user_tz": -330
    },
    "id": "DhrOOmWFuMBm",
    "outputId": "040f8e3f-e2c1-445a-825e-4c131b90339b"
   },
   "outputs": [
    {
     "data": {
      "text/plain": [
       "<Axes: >"
      ]
     },
     "execution_count": 24,
     "metadata": {},
     "output_type": "execute_result"
    },
    {
     "data": {
      "image/png": "[encoded data removed]",
      "text/plain": [
       "<Figure size 640x480 with 1 Axes>"
      ]
     },
     "metadata": {},
     "output_type": "display_data"
    }
   ],
   "source": [
    "sns.boxplot(df_drop1)"
   ]
  },
  {
   "cell_type": "code",
   "execution_count": null,
   "id": "hVqIELcNsONZ",
   "metadata": {
    "id": "hVqIELcNsONZ"
   },
   "outputs": [],
   "source": [
    "# capping"
   ]
  },
  {
   "cell_type": "code",
   "execution_count": 15,
   "id": "IdGFRF7bB114",
   "metadata": {
    "executionInfo": {
     "elapsed": 364,
     "status": "ok",
     "timestamp": 1687156080922,
     "user": {
      "displayName": "Sagarika Borah",
      "userId": "16033830323295691159"
     },
     "user_tz": -330
    },
    "id": "IdGFRF7bB114"
   },
   "outputs": [],
   "source": [
    "df_cap=df[['highway-mpg','curb-weight','stroke']]\n"
   ]
  },
  {
   "cell_type": "code",
   "execution_count": 16,
   "id": "lZKc99NBB14m",
   "metadata": {
    "executionInfo": {
     "elapsed": 398,
     "status": "ok",
     "timestamp": 1687156083570,
     "user": {
      "displayName": "Sagarika Borah",
      "userId": "16033830323295691159"
     },
     "user_tz": -330
    },
    "id": "lZKc99NBB14m"
   },
   "outputs": [],
   "source": [
    "for i in df_cap.columns:\n",
    "    q1=df_cap[i].quantile(0.25)\n",
    "    q3=df_cap[i].quantile(0.75)\n",
    "    iqr=q3-q1\n",
    "    ub=q3+1.5*iqr\n",
    "    lb=q1-1.5*iqr\n",
    "    uc=df_cap[i].quantile(0.95)\n",
    "    lc=df_cap[i].quantile(0.05)\n",
    "    for ind1 in df_cap[i].index:\n",
    "        if df_cap.loc[ind1,i]>ub:\n",
    "            df_cap.loc[ind1,i]=uc\n",
    "        if df_cap.loc[ind1,i]<lb:\n",
    "            df_cap.loc[ind1,i]=lc"
   ]
  },
  {
   "cell_type": "code",
   "execution_count": 17,
   "id": "BZ9QOL8Vt3nB",
   "metadata": {
    "colab": {
     "base_uri": "https://localhost:8080/"
    },
    "executionInfo": {
     "elapsed": 5,
     "status": "ok",
     "timestamp": 1687156084608,
     "user": {
      "displayName": "Sagarika Borah",
      "userId": "16033830323295691159"
     },
     "user_tz": -330
    },
    "id": "BZ9QOL8Vt3nB",
    "outputId": "5fd8feea-88d0-42d4-c64f-06f3e3e59974"
   },
   "outputs": [
    {
     "data": {
      "text/plain": [
       "highway-mpg    0.221358\n",
       "curb-weight    0.593246\n",
       "stroke        -0.635971\n",
       "dtype: float64"
      ]
     },
     "execution_count": 17,
     "metadata": {},
     "output_type": "execute_result"
    }
   ],
   "source": [
    "df_cap.skew()"
   ]
  },
  {
   "cell_type": "code",
   "execution_count": 36,
   "id": "cLUtYstFt3pw",
   "metadata": {
    "executionInfo": {
     "elapsed": 413,
     "status": "ok",
     "timestamp": 1687157613382,
     "user": {
      "displayName": "Sagarika Borah",
      "userId": "16033830323295691159"
     },
     "user_tz": -330
    },
    "id": "cLUtYstFt3pw"
   },
   "outputs": [],
   "source": [
    "df[['highway-mpg','curb-weight','stroke']]=df_cap[['highway-mpg','curb-weight','stroke']]"
   ]
  },
  {
   "cell_type": "code",
   "execution_count": 37,
   "id": "FsAwrApBbizM",
   "metadata": {
    "colab": {
     "base_uri": "https://localhost:8080/"
    },
    "executionInfo": {
     "elapsed": 6,
     "status": "ok",
     "timestamp": 1687157621983,
     "user": {
      "displayName": "Sagarika Borah",
      "userId": "16033830323295691159"
     },
     "user_tz": -330
    },
    "id": "FsAwrApBbizM",
    "outputId": "0422112c-eedd-4592-8887-a2b2416fb28a"
   },
   "outputs": [
    {
     "data": {
      "text/plain": [
       "normalized-losses    0.957177\n",
       "wheel-base           1.031261\n",
       "length               0.154446\n",
       "width                0.875029\n",
       "height               0.029173\n",
       "curb-weight          0.593246\n",
       "engine-size          1.979144\n",
       "bore                -0.032730\n",
       "stroke              -0.635971\n",
       "compression-ratio    2.584462\n",
       "horsepower           1.153019\n",
       "peak-rpm             0.103069\n",
       "city-mpg             0.680433\n",
       "highway-mpg          0.221358\n",
       "price                1.809675\n",
       "dtype: float64"
      ]
     },
     "execution_count": 37,
     "metadata": {},
     "output_type": "execute_result"
    }
   ],
   "source": [
    "df."
   ]
  },
  {
   "cell_type": "code",
   "execution_count": null,
   "id": "ifP9iAlAt8BG",
   "metadata": {
    "id": "ifP9iAlAt8BG"
   },
   "outputs": [],
   "source": [
    "#Transformation (positively skewed)\n",
    "#log transform\n",
    "#square root transform\n",
    "#reciprocal transform\n",
    "\n",
    "\n",
    "#Transformation (negatively skewed)\n",
    "#exponential transform\n",
    "#squared transformation\n",
    "#cube transformation\n",
    "\n",
    "# smart way\n",
    "# Box-cox transform\n",
    "# yeo-Jhonson transform\n"
   ]
  },
  {
   "cell_type": "code",
   "execution_count": 53,
   "id": "kHTtWjxQePXM",
   "metadata": {
    "executionInfo": {
     "elapsed": 4,
     "status": "ok",
     "timestamp": 1687158325327,
     "user": {
      "displayName": "Sagarika Borah",
      "userId": "16033830323295691159"
     },
     "user_tz": -330
    },
    "id": "kHTtWjxQePXM"
   },
   "outputs": [],
   "source": [
    "df_trans=df[['wheel-base','compression-ratio','engine-size','horsepower','price']]"
   ]
  },
  {
   "cell_type": "code",
   "execution_count": null,
   "id": "yFSToWigamF4",
   "metadata": {
    "colab": {
     "base_uri": "https://localhost:8080/"
    },
    "executionInfo": {
     "elapsed": 4,
     "status": "ok",
     "timestamp": 1687158305398,
     "user": {
      "displayName": "Sagarika Borah",
      "userId": "16033830323295691159"
     },
     "user_tz": -330
    },
    "id": "yFSToWigamF4",
    "outputId": "7812e6b4-b6da-4903-84e3-e316d7aa099f"
   },
   "outputs": [
    {
     "data": {
      "text/plain": [
       "wheel-base           0.915397\n",
       "compression-ratio    2.435071\n",
       "engine-size          1.169475\n",
       "horsepower           0.605540\n",
       "price                0.996569\n",
       "dtype: float64"
      ]
     },
     "execution_count": 53,
     "metadata": {},
     "output_type": "execute_result"
    }
   ],
   "source": [
    "((df_trans)**0.3).skew()"
   ]
  },
  {
   "cell_type": "code",
   "execution_count": null,
   "id": "ql2YAXxiamIc",
   "metadata": {
    "colab": {
     "base_uri": "https://localhost:8080/"
    },
    "executionInfo": {
     "elapsed": 5,
     "status": "ok",
     "timestamp": 1687158269020,
     "user": {
      "displayName": "Sagarika Borah",
      "userId": "16033830323295691159"
     },
     "user_tz": -330
    },
    "id": "ql2YAXxiamIc",
    "outputId": "b0a4f18d-8ded-4378-bb3c-bde5f3314dbe"
   },
   "outputs": [
    {
     "data": {
      "text/plain": [
       "wheel-base           0.948483\n",
       "compression-ratio    2.486630\n",
       "engine-size          1.384786\n",
       "horsepower           0.753061\n",
       "price                1.221239\n",
       "dtype: float64"
      ]
     },
     "execution_count": 51,
     "metadata": {},
     "output_type": "execute_result"
    }
   ],
   "source": [
    "((df_trans)**0.5).skew()"
   ]
  },
  {
   "cell_type": "code",
   "execution_count": null,
   "id": "S8ng_hl6eC_S",
   "metadata": {
    "colab": {
     "base_uri": "https://localhost:8080/"
    },
    "executionInfo": {
     "elapsed": 409,
     "status": "ok",
     "timestamp": 1687158288301,
     "user": {
      "displayName": "Sagarika Borah",
      "userId": "16033830323295691159"
     },
     "user_tz": -330
    },
    "id": "S8ng_hl6eC_S",
    "outputId": "5f8eda72-dfa6-404d-bea4-d1a5d2fefe5b"
   },
   "outputs": [
    {
     "data": {
      "text/plain": [
       "wheel-base           0.867378\n",
       "compression-ratio    2.368595\n",
       "engine-size          0.873866\n",
       "horsepower           0.400728\n",
       "price                0.678728\n",
       "dtype: float64"
      ]
     },
     "execution_count": 52,
     "metadata": {},
     "output_type": "execute_result"
    }
   ],
   "source": [
    "(np.log1p(df_trans)).skew()"
   ]
  },
  {
   "cell_type": "code",
   "execution_count": 56,
   "id": "ckU93JuJlPlK",
   "metadata": {
    "executionInfo": {
     "elapsed": 377,
     "status": "ok",
     "timestamp": 1687160283562,
     "user": {
      "displayName": "Sagarika Borah",
      "userId": "16033830323295691159"
     },
     "user_tz": -330
    },
    "id": "ckU93JuJlPlK"
   },
   "outputs": [],
   "source": [
    "df_trans=df[['wheel-base','engine-size','horsepower','price']]\n",
    "df_trans= np.log1p(df_trans)\n",
    "df[['wheel-base','engine-size','horsepower','price']]=df_trans"
   ]
  },
  {
   "cell_type": "code",
   "execution_count": 57,
   "id": "qB00quWllyBB",
   "metadata": {
    "colab": {
     "base_uri": "https://localhost:8080/"
    },
    "executionInfo": {
     "elapsed": 380,
     "status": "ok",
     "timestamp": 1687160310036,
     "user": {
      "displayName": "Sagarika Borah",
      "userId": "16033830323295691159"
     },
     "user_tz": -330
    },
    "id": "qB00quWllyBB",
    "outputId": "08f41b1d-da18-4cf6-f6c9-faa6f072045f"
   },
   "outputs": [
    {
     "data": {
      "text/plain": [
       "normalized-losses    0.957177\n",
       "wheel-base           0.867378\n",
       "length               0.154446\n",
       "width                0.875029\n",
       "height               0.029173\n",
       "curb-weight          0.593246\n",
       "engine-size          0.873866\n",
       "bore                -0.032730\n",
       "stroke              -0.635971\n",
       "compression-ratio    2.584462\n",
       "horsepower           0.400728\n",
       "peak-rpm             0.103069\n",
       "city-mpg             0.680433\n",
       "highway-mpg          0.221358\n",
       "price                0.678728\n",
       "dtype: float64"
      ]
     },
     "execution_count": 57,
     "metadata": {},
     "output_type": "execute_result"
    }
   ],
   "source": [
    "df.skew()"
   ]
  },
  {
   "cell_type": "code",
   "execution_count": null,
   "id": "6nRPKLmIuLV0",
   "metadata": {
    "colab": {
     "base_uri": "https://localhost:8080/"
    },
    "executionInfo": {
     "elapsed": 6,
     "status": "ok",
     "timestamp": 1686980966242,
     "user": {
      "displayName": "Sagarika Borah",
      "userId": "16033830323295691159"
     },
     "user_tz": -330
    },
    "id": "6nRPKLmIuLV0",
    "outputId": "5b7388a6-9f75-41df-b1d5-8e062da831f1"
   },
   "outputs": [
    {
     "data": {
      "text/plain": [
       "2.3685954831157425"
      ]
     },
     "execution_count": 32,
     "metadata": {},
     "output_type": "execute_result"
    }
   ],
   "source": [
    "np.log1p(df['compression-ratio']).skew()"
   ]
  },
  {
   "cell_type": "code",
   "execution_count": null,
   "id": "pD-bYocg7bA8",
   "metadata": {
    "colab": {
     "base_uri": "https://localhost:8080/"
    },
    "executionInfo": {
     "elapsed": 3,
     "status": "ok",
     "timestamp": 1686980966885,
     "user": {
      "displayName": "Sagarika Borah",
      "userId": "16033830323295691159"
     },
     "user_tz": -330
    },
    "id": "pD-bYocg7bA8",
    "outputId": "969a93ba-1c25-4b0a-94d5-9b2e35b20575"
   },
   "outputs": [
    {
     "data": {
      "text/plain": [
       "2.4866297804171253"
      ]
     },
     "execution_count": 33,
     "metadata": {},
     "output_type": "execute_result"
    }
   ],
   "source": [
    "(df['compression-ratio']**.5).skew()"
   ]
  },
  {
   "cell_type": "code",
   "execution_count": null,
   "id": "j5UBew2C7bDn",
   "metadata": {
    "colab": {
     "base_uri": "https://localhost:8080/",
     "height": 466
    },
    "executionInfo": {
     "elapsed": 1236,
     "status": "ok",
     "timestamp": 1686980969898,
     "user": {
      "displayName": "Sagarika Borah",
      "userId": "16033830323295691159"
     },
     "user_tz": -330
    },
    "id": "j5UBew2C7bDn",
    "outputId": "8613d49b-9619-4d08-9feb-c2369693ee4b"
   },
   "outputs": [
    {
     "data": {
      "text/plain": [
       "<Axes: xlabel='compression-ratio', ylabel='price'>"
      ]
     },
     "execution_count": 34,
     "metadata": {},
     "output_type": "execute_result"
    },
    {
     "data": {
      "image/png": "[encoded data removed]",
      "text/plain": [
       "<Figure size 640x480 with 1 Axes>"
      ]
     },
     "metadata": {},
     "output_type": "display_data"
    }
   ],
   "source": [
    "sns.scatterplot(df,x='compression-ratio', y='price')"
   ]
  },
  {
   "cell_type": "code",
   "execution_count": null,
   "id": "zxSopKpHnEjk",
   "metadata": {
    "colab": {
     "base_uri": "https://localhost:8080/",
     "height": 466
    },
    "executionInfo": {
     "elapsed": 15,
     "status": "ok",
     "timestamp": 1686980969899,
     "user": {
      "displayName": "Sagarika Borah",
      "userId": "16033830323295691159"
     },
     "user_tz": -330
    },
    "id": "zxSopKpHnEjk",
    "outputId": "2dafbb62-8e20-461b-92da-31763babfe1f"
   },
   "outputs": [
    {
     "data": {
      "text/plain": [
       "<Axes: xlabel='horsepower', ylabel='compression-ratio'>"
      ]
     },
     "execution_count": 35,
     "metadata": {},
     "output_type": "execute_result"
    },
    {
     "data": {
      "image/png": "[encoded data removed]",
      "text/plain": [
       "<Figure size 640x480 with 1 Axes>"
      ]
     },
     "metadata": {},
     "output_type": "display_data"
    }
   ],
   "source": [
    "sns.scatterplot(df,x='horsepower', y='compression-ratio')"
   ]
  },
  {
   "cell_type": "code",
   "execution_count": 70,
   "id": "UMBCBePJmnBz",
   "metadata": {
    "colab": {
     "base_uri": "https://localhost:8080/",
     "height": 334
    },
    "executionInfo": {
     "elapsed": 7,
     "status": "ok",
     "timestamp": 1687161330652,
     "user": {
      "displayName": "Sagarika Borah",
      "userId": "16033830323295691159"
     },
     "user_tz": -330
    },
    "id": "UMBCBePJmnBz",
    "outputId": "2eaa037f-731f-4187-fcc2-211cfbd2505d"
   },
   "outputs": [
    {
     "data": {
      "text/html": [
       "\n",
       "  <div id=\"df-4761feba-afb2-4b4a-9363-63611d01ad54\">\n",
       "    <div class=\"colab-df-container\">\n",
       "      <div>\n",
       "<style scoped>\n",
       "    .dataframe tbody tr th:only-of-type {\n",
       "        vertical-align: middle;\n",
       "    }\n",
       "\n",
       "    .dataframe tbody tr th {\n",
       "        vertical-align: top;\n",
       "    }\n",
       "\n",
       "    .dataframe thead th {\n",
       "        text-align: right;\n",
       "    }\n",
       "</style>\n",
       "<table border=\"1\" class=\"dataframe\">\n",
       "  <thead>\n",
       "    <tr style=\"text-align: right;\">\n",
       "      <th></th>\n",
       "      <th>num-of-doors</th>\n",
       "      <th>body-style</th>\n",
       "      <th>drive-wheels</th>\n",
       "      <th>num-of-cylinders</th>\n",
       "      <th>fuel-system</th>\n",
       "      <th>price</th>\n",
       "      <th>aspiration_turbo</th>\n",
       "      <th>engine-location_rear</th>\n",
       "      <th>gas</th>\n",
       "      <th>diesel</th>\n",
       "      <th>...</th>\n",
       "      <th>curb-weight</th>\n",
       "      <th>engine-size</th>\n",
       "      <th>bore</th>\n",
       "      <th>stroke</th>\n",
       "      <th>compression-ratio</th>\n",
       "      <th>horsepower</th>\n",
       "      <th>peak-rpm</th>\n",
       "      <th>city-mpg</th>\n",
       "      <th>highway-mpg</th>\n",
       "      <th>price.1</th>\n",
       "    </tr>\n",
       "  </thead>\n",
       "  <tbody>\n",
       "    <tr>\n",
       "      <th>0</th>\n",
       "      <td>2</td>\n",
       "      <td>0</td>\n",
       "      <td>1.0</td>\n",
       "      <td>4</td>\n",
       "      <td>5</td>\n",
       "      <td>13495.0</td>\n",
       "      <td>0</td>\n",
       "      <td>0</td>\n",
       "      <td>0.0</td>\n",
       "      <td>1.0</td>\n",
       "      <td>...</td>\n",
       "      <td>2548</td>\n",
       "      <td>130</td>\n",
       "      <td>3.47</td>\n",
       "      <td>2.68</td>\n",
       "      <td>9.0</td>\n",
       "      <td>111.0</td>\n",
       "      <td>5000.0</td>\n",
       "      <td>21</td>\n",
       "      <td>27</td>\n",
       "      <td>13495.0</td>\n",
       "    </tr>\n",
       "    <tr>\n",
       "      <th>1</th>\n",
       "      <td>2</td>\n",
       "      <td>0</td>\n",
       "      <td>1.0</td>\n",
       "      <td>4</td>\n",
       "      <td>5</td>\n",
       "      <td>16500.0</td>\n",
       "      <td>0</td>\n",
       "      <td>0</td>\n",
       "      <td>0.0</td>\n",
       "      <td>1.0</td>\n",
       "      <td>...</td>\n",
       "      <td>2548</td>\n",
       "      <td>130</td>\n",
       "      <td>3.47</td>\n",
       "      <td>2.68</td>\n",
       "      <td>9.0</td>\n",
       "      <td>111.0</td>\n",
       "      <td>5000.0</td>\n",
       "      <td>21</td>\n",
       "      <td>27</td>\n",
       "      <td>16500.0</td>\n",
       "    </tr>\n",
       "    <tr>\n",
       "      <th>2</th>\n",
       "      <td>2</td>\n",
       "      <td>2</td>\n",
       "      <td>1.0</td>\n",
       "      <td>6</td>\n",
       "      <td>5</td>\n",
       "      <td>16500.0</td>\n",
       "      <td>0</td>\n",
       "      <td>0</td>\n",
       "      <td>0.0</td>\n",
       "      <td>1.0</td>\n",
       "      <td>...</td>\n",
       "      <td>2823</td>\n",
       "      <td>152</td>\n",
       "      <td>2.68</td>\n",
       "      <td>3.47</td>\n",
       "      <td>9.0</td>\n",
       "      <td>154.0</td>\n",
       "      <td>5000.0</td>\n",
       "      <td>19</td>\n",
       "      <td>26</td>\n",
       "      <td>16500.0</td>\n",
       "    </tr>\n",
       "    <tr>\n",
       "      <th>3</th>\n",
       "      <td>4</td>\n",
       "      <td>3</td>\n",
       "      <td>2.0</td>\n",
       "      <td>4</td>\n",
       "      <td>5</td>\n",
       "      <td>13950.0</td>\n",
       "      <td>0</td>\n",
       "      <td>0</td>\n",
       "      <td>0.0</td>\n",
       "      <td>1.0</td>\n",
       "      <td>...</td>\n",
       "      <td>2337</td>\n",
       "      <td>109</td>\n",
       "      <td>3.19</td>\n",
       "      <td>3.40</td>\n",
       "      <td>10.0</td>\n",
       "      <td>102.0</td>\n",
       "      <td>5500.0</td>\n",
       "      <td>24</td>\n",
       "      <td>30</td>\n",
       "      <td>13950.0</td>\n",
       "    </tr>\n",
       "    <tr>\n",
       "      <th>4</th>\n",
       "      <td>4</td>\n",
       "      <td>3</td>\n",
       "      <td>0.0</td>\n",
       "      <td>5</td>\n",
       "      <td>5</td>\n",
       "      <td>17450.0</td>\n",
       "      <td>0</td>\n",
       "      <td>0</td>\n",
       "      <td>0.0</td>\n",
       "      <td>1.0</td>\n",
       "      <td>...</td>\n",
       "      <td>2824</td>\n",
       "      <td>136</td>\n",
       "      <td>3.19</td>\n",
       "      <td>3.40</td>\n",
       "      <td>8.0</td>\n",
       "      <td>115.0</td>\n",
       "      <td>5500.0</td>\n",
       "      <td>18</td>\n",
       "      <td>22</td>\n",
       "      <td>17450.0</td>\n",
       "    </tr>\n",
       "  </tbody>\n",
       "</table>\n",
       "<p>5 rows × 29 columns</p>\n",
       "</div>\n",
       "      <button class=\"colab-df-convert\" onclick=\"convertToInteractive('df-4761feba-afb2-4b4a-9363-63611d01ad54')\"\n",
       "              title=\"Convert this dataframe to an interactive table.\"\n",
       "              style=\"display:none;\">\n",
       "        \n",
       "  <svg xmlns=\"http://www.w3.org/2000/svg\" height=\"24px\"viewBox=\"0 0 24 24\"\n",
       "       width=\"24px\">\n",
       "    <path d=\"M0 0h24v24H0V0z\" fill=\"none\"/>\n",
       "    <path d=\"M18.56 5.44l.94 2.06.94-2.06 2.06-.94-2.06-.94-.94-2.06-.94 2.06-2.06.94zm-11 1L8.5 8.5l.94-2.06 2.06-.94-2.06-.94L8.5 2.5l-.94 2.06-2.06.94zm10 10l.94 2.06.94-2.06 2.06-.94-2.06-.94-.94-2.06-.94 2.06-2.06.94z\"/><path d=\"M17.41 7.96l-1.37-1.37c-.4-.4-.92-.59-1.43-.59-.52 0-1.04.2-1.43.59L10.3 9.45l-7.72 7.72c-.78.78-.78 2.05 0 2.83L4 21.41c.39.39.9.59 1.41.59.51 0 1.02-.2 1.41-.59l7.78-7.78 2.81-2.81c.8-.78.8-2.07 0-2.86zM5.41 20L4 18.59l7.72-7.72 1.47 1.35L5.41 20z\"/>\n",
       "  </svg>\n",
       "      </button>\n",
       "      \n",
       "  <style>\n",
       "    .colab-df-container {\n",
       "      display:flex;\n",
       "      flex-wrap:wrap;\n",
       "      gap: 12px;\n",
       "    }\n",
       "\n",
       "    .colab-df-convert {\n",
       "      background-color: #E8F0FE;\n",
       "      border: none;\n",
       "      border-radius: 50%;\n",
       "      cursor: pointer;\n",
       "      display: none;\n",
       "      fill: #1967D2;\n",
       "      height: 32px;\n",
       "      padding: 0 0 0 0;\n",
       "      width: 32px;\n",
       "    }\n",
       "\n",
       "    .colab-df-convert:hover {\n",
       "      background-color: #E2EBFA;\n",
       "      box-shadow: 0px 1px 2px rgba(60, 64, 67, 0.3), 0px 1px 3px 1px rgba(60, 64, 67, 0.15);\n",
       "      fill: #174EA6;\n",
       "    }\n",
       "\n",
       "    [theme=dark] .colab-df-convert {\n",
       "      background-color: #3B4455;\n",
       "      fill: #D2E3FC;\n",
       "    }\n",
       "\n",
       "    [theme=dark] .colab-df-convert:hover {\n",
       "      background-color: #434B5C;\n",
       "      box-shadow: 0px 1px 3px 1px rgba(0, 0, 0, 0.15);\n",
       "      filter: drop-shadow(0px 1px 2px rgba(0, 0, 0, 0.3));\n",
       "      fill: #FFFFFF;\n",
       "    }\n",
       "  </style>\n",
       "\n",
       "      <script>\n",
       "        const buttonEl =\n",
       "          document.querySelector('#df-4761feba-afb2-4b4a-9363-63611d01ad54 button.colab-df-convert');\n",
       "        buttonEl.style.display =\n",
       "          google.colab.kernel.accessAllowed ? 'block' : 'none';\n",
       "\n",
       "        async function convertToInteractive(key) {\n",
       "          const element = document.querySelector('#df-4761feba-afb2-4b4a-9363-63611d01ad54');\n",
       "          const dataTable =\n",
       "            await google.colab.kernel.invokeFunction('convertToInteractive',\n",
       "                                                     [key], {});\n",
       "          if (!dataTable) return;\n",
       "\n",
       "          const docLinkHtml = 'Like what you see? Visit the ' +\n",
       "            '<a target=\"_blank\" href=https://colab.research.google.com/notebooks/data_table.ipynb>data table notebook</a>'\n",
       "            + ' to learn more about interactive tables.';\n",
       "          element.innerHTML = '';\n",
       "          dataTable['output_type'] = 'display_data';\n",
       "          await google.colab.output.renderOutput(dataTable, element);\n",
       "          const docLink = document.createElement('div');\n",
       "          docLink.innerHTML = docLinkHtml;\n",
       "          element.appendChild(docLink);\n",
       "        }\n",
       "      </script>\n",
       "    </div>\n",
       "  </div>\n",
       "  "
      ],
      "text/plain": [
       "   num-of-doors  body-style  drive-wheels  num-of-cylinders  fuel-system  \\\n",
       "0             2           0           1.0                 4            5   \n",
       "1             2           0           1.0                 4            5   \n",
       "2             2           2           1.0                 6            5   \n",
       "3             4           3           2.0                 4            5   \n",
       "4             4           3           0.0                 5            5   \n",
       "\n",
       "     price  aspiration_turbo  engine-location_rear  gas  diesel  ...  \\\n",
       "0  13495.0                 0                     0  0.0     1.0  ...   \n",
       "1  16500.0                 0                     0  0.0     1.0  ...   \n",
       "2  16500.0                 0                     0  0.0     1.0  ...   \n",
       "3  13950.0                 0                     0  0.0     1.0  ...   \n",
       "4  17450.0                 0                     0  0.0     1.0  ...   \n",
       "\n",
       "   curb-weight  engine-size  bore  stroke  compression-ratio  horsepower  \\\n",
       "0         2548          130  3.47    2.68                9.0       111.0   \n",
       "1         2548          130  3.47    2.68                9.0       111.0   \n",
       "2         2823          152  2.68    3.47                9.0       154.0   \n",
       "3         2337          109  3.19    3.40               10.0       102.0   \n",
       "4         2824          136  3.19    3.40                8.0       115.0   \n",
       "\n",
       "   peak-rpm  city-mpg  highway-mpg  price.1  \n",
       "0    5000.0        21           27  13495.0  \n",
       "1    5000.0        21           27  16500.0  \n",
       "2    5000.0        19           26  16500.0  \n",
       "3    5500.0        24           30  13950.0  \n",
       "4    5500.0        18           22  17450.0  \n",
       "\n",
       "[5 rows x 29 columns]"
      ]
     },
     "execution_count": 70,
     "metadata": {},
     "output_type": "execute_result"
    }
   ],
   "source": [
    "df1=pd.read_csv('preprocess.csv')\n",
    "df1.head()"
   ]
  },
  {
   "cell_type": "code",
   "execution_count": null,
   "id": "m1_kAc-RlH3E",
   "metadata": {
    "colab": {
     "base_uri": "https://localhost:8080/",
     "height": 466
    },
    "executionInfo": {
     "elapsed": 675,
     "status": "ok",
     "timestamp": 1686825007797,
     "user": {
      "displayName": "Sagarika Borah",
      "userId": "16033830323295691159"
     },
     "user_tz": -330
    },
    "id": "m1_kAc-RlH3E",
    "outputId": "96be9255-ce40-43c9-fbe8-86b9540d747a"
   },
   "outputs": [
    {
     "data": {
      "text/plain": [
       "<Axes: xlabel='engine-type', ylabel='compression-ratio'>"
      ]
     },
     "execution_count": 46,
     "metadata": {},
     "output_type": "execute_result"
    },
    {
     "data": {
      "image/png": "[encoded data removed]",
      "text/plain": [
       "<Figure size 640x480 with 1 Axes>"
      ]
     },
     "metadata": {},
     "output_type": "display_data"
    }
   ],
   "source": [
    "sns.boxplot(df1, x='engine-type', y='compression-ratio')\n",
    "\n",
    "# number of cylinders, drive wheels, bore"
   ]
  },
  {
   "cell_type": "code",
   "execution_count": null,
   "id": "aUXb21rgmxXT",
   "metadata": {
    "colab": {
     "base_uri": "https://localhost:8080/",
     "height": 466
    },
    "executionInfo": {
     "elapsed": 807,
     "status": "ok",
     "timestamp": 1686825041180,
     "user": {
      "displayName": "Sagarika Borah",
      "userId": "16033830323295691159"
     },
     "user_tz": -330
    },
    "id": "aUXb21rgmxXT",
    "outputId": "e8bbfb9e-2290-44dd-c1cb-2cd4dcac413d"
   },
   "outputs": [
    {
     "data": {
      "text/plain": [
       "<Axes: xlabel='drive-wheels', ylabel='compression-ratio'>"
      ]
     },
     "execution_count": 47,
     "metadata": {},
     "output_type": "execute_result"
    },
    {
     "data": {
      "image/png": "[encoded data removed]",
      "text/plain": [
       "<Figure size 640x480 with 1 Axes>"
      ]
     },
     "metadata": {},
     "output_type": "display_data"
    }
   ],
   "source": [
    "sns.boxplot(df1, x='drive-wheels', y='compression-ratio')"
   ]
  },
  {
   "cell_type": "code",
   "execution_count": null,
   "id": "tBM-q1AplzO5",
   "metadata": {
    "colab": {
     "base_uri": "https://localhost:8080/",
     "height": 466
    },
    "executionInfo": {
     "elapsed": 3522,
     "status": "ok",
     "timestamp": 1686825197931,
     "user": {
      "displayName": "Sagarika Borah",
      "userId": "16033830323295691159"
     },
     "user_tz": -330
    },
    "id": "tBM-q1AplzO5",
    "outputId": "260cff33-5be7-43fe-af0e-8f0eb9b01f00"
   },
   "outputs": [
    {
     "data": {
      "text/plain": [
       "<Axes: xlabel='num-of-cylinders', ylabel='compression-ratio'>"
      ]
     },
     "execution_count": 53,
     "metadata": {},
     "output_type": "execute_result"
    },
    {
     "data": {
      "image/png": "[encoded data removed]",
      "text/plain": [
       "<Figure size 640x480 with 1 Axes>"
      ]
     },
     "metadata": {},
     "output_type": "display_data"
    }
   ],
   "source": [
    "sns.boxplot(df1, x='num-of-cylinders', y='compression-ratio')"
   ]
  },
  {
   "cell_type": "code",
   "execution_count": 82,
   "id": "TwUF01nbal_k",
   "metadata": {
    "colab": {
     "base_uri": "https://localhost:8080/",
     "height": 522
    },
    "executionInfo": {
     "elapsed": 410,
     "status": "ok",
     "timestamp": 1687162774517,
     "user": {
      "displayName": "Sagarika Borah",
      "userId": "16033830323295691159"
     },
     "user_tz": -330
    },
    "id": "TwUF01nbal_k",
    "outputId": "03b9a938-e865-45ff-8bae-f1e568311ab9"
   },
   "outputs": [
    {
     "data": {
      "text/html": [
       "\n",
       "  <div id=\"df-88de1248-0c8c-4dab-9288-5e4d8d510903\">\n",
       "    <div class=\"colab-df-container\">\n",
       "      <div>\n",
       "<style scoped>\n",
       "    .dataframe tbody tr th:only-of-type {\n",
       "        vertical-align: middle;\n",
       "    }\n",
       "\n",
       "    .dataframe tbody tr th {\n",
       "        vertical-align: top;\n",
       "    }\n",
       "\n",
       "    .dataframe thead th {\n",
       "        text-align: right;\n",
       "    }\n",
       "</style>\n",
       "<table border=\"1\" class=\"dataframe\">\n",
       "  <thead>\n",
       "    <tr style=\"text-align: right;\">\n",
       "      <th></th>\n",
       "      <th>num-of-doors</th>\n",
       "      <th>body-style</th>\n",
       "      <th>drive-wheels</th>\n",
       "      <th>num-of-cylinders</th>\n",
       "      <th>fuel-system</th>\n",
       "      <th>price</th>\n",
       "      <th>aspiration_turbo</th>\n",
       "      <th>engine-location_rear</th>\n",
       "      <th>gas</th>\n",
       "      <th>diesel</th>\n",
       "      <th>...</th>\n",
       "      <th>height</th>\n",
       "      <th>curb-weight</th>\n",
       "      <th>engine-size</th>\n",
       "      <th>bore</th>\n",
       "      <th>stroke</th>\n",
       "      <th>compression-ratio</th>\n",
       "      <th>horsepower</th>\n",
       "      <th>peak-rpm</th>\n",
       "      <th>city-mpg</th>\n",
       "      <th>highway-mpg</th>\n",
       "    </tr>\n",
       "  </thead>\n",
       "  <tbody>\n",
       "    <tr>\n",
       "      <th>0</th>\n",
       "      <td>2</td>\n",
       "      <td>0</td>\n",
       "      <td>1.0</td>\n",
       "      <td>4</td>\n",
       "      <td>5</td>\n",
       "      <td>0.319261</td>\n",
       "      <td>0</td>\n",
       "      <td>0</td>\n",
       "      <td>0.0</td>\n",
       "      <td>1.0</td>\n",
       "      <td>...</td>\n",
       "      <td>-2.034081</td>\n",
       "      <td>-0.004148</td>\n",
       "      <td>0.238187</td>\n",
       "      <td>0.520966</td>\n",
       "      <td>-2.123963</td>\n",
       "      <td>-0.291435</td>\n",
       "      <td>0.386571</td>\n",
       "      <td>-0.248239</td>\n",
       "      <td>-0.652249</td>\n",
       "      <td>-0.551223</td>\n",
       "    </tr>\n",
       "    <tr>\n",
       "      <th>1</th>\n",
       "      <td>2</td>\n",
       "      <td>0</td>\n",
       "      <td>1.0</td>\n",
       "      <td>4</td>\n",
       "      <td>5</td>\n",
       "      <td>0.720545</td>\n",
       "      <td>0</td>\n",
       "      <td>0</td>\n",
       "      <td>0.0</td>\n",
       "      <td>1.0</td>\n",
       "      <td>...</td>\n",
       "      <td>-2.034081</td>\n",
       "      <td>-0.004148</td>\n",
       "      <td>0.238187</td>\n",
       "      <td>0.520966</td>\n",
       "      <td>-2.123963</td>\n",
       "      <td>-0.291435</td>\n",
       "      <td>0.386571</td>\n",
       "      <td>-0.248239</td>\n",
       "      <td>-0.652249</td>\n",
       "      <td>-0.551223</td>\n",
       "    </tr>\n",
       "    <tr>\n",
       "      <th>2</th>\n",
       "      <td>2</td>\n",
       "      <td>2</td>\n",
       "      <td>1.0</td>\n",
       "      <td>6</td>\n",
       "      <td>5</td>\n",
       "      <td>0.720545</td>\n",
       "      <td>0</td>\n",
       "      <td>0</td>\n",
       "      <td>0.0</td>\n",
       "      <td>1.0</td>\n",
       "      <td>...</td>\n",
       "      <td>-0.559713</td>\n",
       "      <td>0.543118</td>\n",
       "      <td>0.794608</td>\n",
       "      <td>-2.433363</td>\n",
       "      <td>0.783486</td>\n",
       "      <td>-0.291435</td>\n",
       "      <td>1.364889</td>\n",
       "      <td>-0.248239</td>\n",
       "      <td>-0.964397</td>\n",
       "      <td>-0.707273</td>\n",
       "    </tr>\n",
       "    <tr>\n",
       "      <th>3</th>\n",
       "      <td>4</td>\n",
       "      <td>3</td>\n",
       "      <td>2.0</td>\n",
       "      <td>4</td>\n",
       "      <td>5</td>\n",
       "      <td>0.385449</td>\n",
       "      <td>0</td>\n",
       "      <td>0</td>\n",
       "      <td>0.0</td>\n",
       "      <td>1.0</td>\n",
       "      <td>...</td>\n",
       "      <td>0.218425</td>\n",
       "      <td>-0.424051</td>\n",
       "      <td>-0.388042</td>\n",
       "      <td>-0.526138</td>\n",
       "      <td>0.525864</td>\n",
       "      <td>-0.041121</td>\n",
       "      <td>0.134349</td>\n",
       "      <td>0.799996</td>\n",
       "      <td>-0.184027</td>\n",
       "      <td>-0.083072</td>\n",
       "    </tr>\n",
       "    <tr>\n",
       "      <th>4</th>\n",
       "      <td>4</td>\n",
       "      <td>3</td>\n",
       "      <td>0.0</td>\n",
       "      <td>5</td>\n",
       "      <td>5</td>\n",
       "      <td>0.832283</td>\n",
       "      <td>0</td>\n",
       "      <td>0</td>\n",
       "      <td>0.0</td>\n",
       "      <td>1.0</td>\n",
       "      <td>...</td>\n",
       "      <td>0.218425</td>\n",
       "      <td>0.545108</td>\n",
       "      <td>0.398703</td>\n",
       "      <td>-0.526138</td>\n",
       "      <td>0.525864</td>\n",
       "      <td>-0.541748</td>\n",
       "      <td>0.492227</td>\n",
       "      <td>0.799996</td>\n",
       "      <td>-1.120471</td>\n",
       "      <td>-1.331474</td>\n",
       "    </tr>\n",
       "    <tr>\n",
       "      <th>...</th>\n",
       "      <td>...</td>\n",
       "      <td>...</td>\n",
       "      <td>...</td>\n",
       "      <td>...</td>\n",
       "      <td>...</td>\n",
       "      <td>...</td>\n",
       "      <td>...</td>\n",
       "      <td>...</td>\n",
       "      <td>...</td>\n",
       "      <td>...</td>\n",
       "      <td>...</td>\n",
       "      <td>...</td>\n",
       "      <td>...</td>\n",
       "      <td>...</td>\n",
       "      <td>...</td>\n",
       "      <td>...</td>\n",
       "      <td>...</td>\n",
       "      <td>...</td>\n",
       "      <td>...</td>\n",
       "      <td>...</td>\n",
       "      <td>...</td>\n",
       "    </tr>\n",
       "    <tr>\n",
       "      <th>196</th>\n",
       "      <td>4</td>\n",
       "      <td>3</td>\n",
       "      <td>1.0</td>\n",
       "      <td>4</td>\n",
       "      <td>5</td>\n",
       "      <td>0.761851</td>\n",
       "      <td>0</td>\n",
       "      <td>0</td>\n",
       "      <td>0.0</td>\n",
       "      <td>1.0</td>\n",
       "      <td>...</td>\n",
       "      <td>0.709881</td>\n",
       "      <td>0.799836</td>\n",
       "      <td>0.527184</td>\n",
       "      <td>1.680260</td>\n",
       "      <td>-0.394215</td>\n",
       "      <td>-0.166278</td>\n",
       "      <td>0.466159</td>\n",
       "      <td>0.590349</td>\n",
       "      <td>-0.340101</td>\n",
       "      <td>-0.395172</td>\n",
       "    </tr>\n",
       "    <tr>\n",
       "      <th>197</th>\n",
       "      <td>4</td>\n",
       "      <td>3</td>\n",
       "      <td>1.0</td>\n",
       "      <td>4</td>\n",
       "      <td>5</td>\n",
       "      <td>1.006868</td>\n",
       "      <td>1</td>\n",
       "      <td>0</td>\n",
       "      <td>0.0</td>\n",
       "      <td>1.0</td>\n",
       "      <td>...</td>\n",
       "      <td>0.709881</td>\n",
       "      <td>0.992872</td>\n",
       "      <td>0.527184</td>\n",
       "      <td>1.680260</td>\n",
       "      <td>-0.394215</td>\n",
       "      <td>-0.366529</td>\n",
       "      <td>1.479240</td>\n",
       "      <td>0.380702</td>\n",
       "      <td>-0.964397</td>\n",
       "      <td>-0.863323</td>\n",
       "    </tr>\n",
       "    <tr>\n",
       "      <th>198</th>\n",
       "      <td>4</td>\n",
       "      <td>3</td>\n",
       "      <td>1.0</td>\n",
       "      <td>6</td>\n",
       "      <td>5</td>\n",
       "      <td>1.247495</td>\n",
       "      <td>0</td>\n",
       "      <td>0</td>\n",
       "      <td>0.0</td>\n",
       "      <td>1.0</td>\n",
       "      <td>...</td>\n",
       "      <td>0.709881</td>\n",
       "      <td>0.919240</td>\n",
       "      <td>1.255605</td>\n",
       "      <td>0.932328</td>\n",
       "      <td>-1.424703</td>\n",
       "      <td>-0.341497</td>\n",
       "      <td>0.948933</td>\n",
       "      <td>0.799996</td>\n",
       "      <td>-1.120471</td>\n",
       "      <td>-1.175424</td>\n",
       "    </tr>\n",
       "    <tr>\n",
       "      <th>199</th>\n",
       "      <td>4</td>\n",
       "      <td>3</td>\n",
       "      <td>1.0</td>\n",
       "      <td>6</td>\n",
       "      <td>3</td>\n",
       "      <td>1.336971</td>\n",
       "      <td>1</td>\n",
       "      <td>0</td>\n",
       "      <td>1.0</td>\n",
       "      <td>0.0</td>\n",
       "      <td>...</td>\n",
       "      <td>0.709881</td>\n",
       "      <td>1.327203</td>\n",
       "      <td>0.626753</td>\n",
       "      <td>-1.199277</td>\n",
       "      <td>0.525864</td>\n",
       "      <td>3.212954</td>\n",
       "      <td>0.249064</td>\n",
       "      <td>-0.667532</td>\n",
       "      <td>0.128120</td>\n",
       "      <td>-0.551223</td>\n",
       "    </tr>\n",
       "    <tr>\n",
       "      <th>200</th>\n",
       "      <td>4</td>\n",
       "      <td>3</td>\n",
       "      <td>1.0</td>\n",
       "      <td>4</td>\n",
       "      <td>5</td>\n",
       "      <td>1.350693</td>\n",
       "      <td>1</td>\n",
       "      <td>0</td>\n",
       "      <td>0.0</td>\n",
       "      <td>1.0</td>\n",
       "      <td>...</td>\n",
       "      <td>0.709881</td>\n",
       "      <td>1.018743</td>\n",
       "      <td>0.527184</td>\n",
       "      <td>1.680260</td>\n",
       "      <td>-0.394215</td>\n",
       "      <td>-0.166278</td>\n",
       "      <td>0.466159</td>\n",
       "      <td>0.590349</td>\n",
       "      <td>-0.964397</td>\n",
       "      <td>-0.863323</td>\n",
       "    </tr>\n",
       "  </tbody>\n",
       "</table>\n",
       "<p>201 rows × 28 columns</p>\n",
       "</div>\n",
       "      <button class=\"colab-df-convert\" onclick=\"convertToInteractive('df-88de1248-0c8c-4dab-9288-5e4d8d510903')\"\n",
       "              title=\"Convert this dataframe to an interactive table.\"\n",
       "              style=\"display:none;\">\n",
       "        \n",
       "  <svg xmlns=\"http://www.w3.org/2000/svg\" height=\"24px\"viewBox=\"0 0 24 24\"\n",
       "       width=\"24px\">\n",
       "    <path d=\"M0 0h24v24H0V0z\" fill=\"none\"/>\n",
       "    <path d=\"M18.56 5.44l.94 2.06.94-2.06 2.06-.94-2.06-.94-.94-2.06-.94 2.06-2.06.94zm-11 1L8.5 8.5l.94-2.06 2.06-.94-2.06-.94L8.5 2.5l-.94 2.06-2.06.94zm10 10l.94 2.06.94-2.06 2.06-.94-2.06-.94-.94-2.06-.94 2.06-2.06.94z\"/><path d=\"M17.41 7.96l-1.37-1.37c-.4-.4-.92-.59-1.43-.59-.52 0-1.04.2-1.43.59L10.3 9.45l-7.72 7.72c-.78.78-.78 2.05 0 2.83L4 21.41c.39.39.9.59 1.41.59.51 0 1.02-.2 1.41-.59l7.78-7.78 2.81-2.81c.8-.78.8-2.07 0-2.86zM5.41 20L4 18.59l7.72-7.72 1.47 1.35L5.41 20z\"/>\n",
       "  </svg>\n",
       "      </button>\n",
       "      \n",
       "  <style>\n",
       "    .colab-df-container {\n",
       "      display:flex;\n",
       "      flex-wrap:wrap;\n",
       "      gap: 12px;\n",
       "    }\n",
       "\n",
       "    .colab-df-convert {\n",
       "      background-color: #E8F0FE;\n",
       "      border: none;\n",
       "      border-radius: 50%;\n",
       "      cursor: pointer;\n",
       "      display: none;\n",
       "      fill: #1967D2;\n",
       "      height: 32px;\n",
       "      padding: 0 0 0 0;\n",
       "      width: 32px;\n",
       "    }\n",
       "\n",
       "    .colab-df-convert:hover {\n",
       "      background-color: #E2EBFA;\n",
       "      box-shadow: 0px 1px 2px rgba(60, 64, 67, 0.3), 0px 1px 3px 1px rgba(60, 64, 67, 0.15);\n",
       "      fill: #174EA6;\n",
       "    }\n",
       "\n",
       "    [theme=dark] .colab-df-convert {\n",
       "      background-color: #3B4455;\n",
       "      fill: #D2E3FC;\n",
       "    }\n",
       "\n",
       "    [theme=dark] .colab-df-convert:hover {\n",
       "      background-color: #434B5C;\n",
       "      box-shadow: 0px 1px 3px 1px rgba(0, 0, 0, 0.15);\n",
       "      filter: drop-shadow(0px 1px 2px rgba(0, 0, 0, 0.3));\n",
       "      fill: #FFFFFF;\n",
       "    }\n",
       "  </style>\n",
       "\n",
       "      <script>\n",
       "        const buttonEl =\n",
       "          document.querySelector('#df-88de1248-0c8c-4dab-9288-5e4d8d510903 button.colab-df-convert');\n",
       "        buttonEl.style.display =\n",
       "          google.colab.kernel.accessAllowed ? 'block' : 'none';\n",
       "\n",
       "        async function convertToInteractive(key) {\n",
       "          const element = document.querySelector('#df-88de1248-0c8c-4dab-9288-5e4d8d510903');\n",
       "          const dataTable =\n",
       "            await google.colab.kernel.invokeFunction('convertToInteractive',\n",
       "                                                     [key], {});\n",
       "          if (!dataTable) return;\n",
       "\n",
       "          const docLinkHtml = 'Like what you see? Visit the ' +\n",
       "            '<a target=\"_blank\" href=https://colab.research.google.com/notebooks/data_table.ipynb>data table notebook</a>'\n",
       "            + ' to learn more about interactive tables.';\n",
       "          element.innerHTML = '';\n",
       "          dataTable['output_type'] = 'display_data';\n",
       "          await google.colab.output.renderOutput(dataTable, element);\n",
       "          const docLink = document.createElement('div');\n",
       "          docLink.innerHTML = docLinkHtml;\n",
       "          element.appendChild(docLink);\n",
       "        }\n",
       "      </script>\n",
       "    </div>\n",
       "  </div>\n",
       "  "
      ],
      "text/plain": [
       "     num-of-doors  body-style  drive-wheels  num-of-cylinders  fuel-system  \\\n",
       "0               2           0           1.0                 4            5   \n",
       "1               2           0           1.0                 4            5   \n",
       "2               2           2           1.0                 6            5   \n",
       "3               4           3           2.0                 4            5   \n",
       "4               4           3           0.0                 5            5   \n",
       "..            ...         ...           ...               ...          ...   \n",
       "196             4           3           1.0                 4            5   \n",
       "197             4           3           1.0                 4            5   \n",
       "198             4           3           1.0                 6            5   \n",
       "199             4           3           1.0                 6            3   \n",
       "200             4           3           1.0                 4            5   \n",
       "\n",
       "        price  aspiration_turbo  engine-location_rear  gas  diesel  ...  \\\n",
       "0    0.319261                 0                     0  0.0     1.0  ...   \n",
       "1    0.720545                 0                     0  0.0     1.0  ...   \n",
       "2    0.720545                 0                     0  0.0     1.0  ...   \n",
       "3    0.385449                 0                     0  0.0     1.0  ...   \n",
       "4    0.832283                 0                     0  0.0     1.0  ...   \n",
       "..        ...               ...                   ...  ...     ...  ...   \n",
       "196  0.761851                 0                     0  0.0     1.0  ...   \n",
       "197  1.006868                 1                     0  0.0     1.0  ...   \n",
       "198  1.247495                 0                     0  0.0     1.0  ...   \n",
       "199  1.336971                 1                     0  1.0     0.0  ...   \n",
       "200  1.350693                 1                     0  0.0     1.0  ...   \n",
       "\n",
       "       height  curb-weight  engine-size      bore    stroke  \\\n",
       "0   -2.034081    -0.004148     0.238187  0.520966 -2.123963   \n",
       "1   -2.034081    -0.004148     0.238187  0.520966 -2.123963   \n",
       "2   -0.559713     0.543118     0.794608 -2.433363  0.783486   \n",
       "3    0.218425    -0.424051    -0.388042 -0.526138  0.525864   \n",
       "4    0.218425     0.545108     0.398703 -0.526138  0.525864   \n",
       "..        ...          ...          ...       ...       ...   \n",
       "196  0.709881     0.799836     0.527184  1.680260 -0.394215   \n",
       "197  0.709881     0.992872     0.527184  1.680260 -0.394215   \n",
       "198  0.709881     0.919240     1.255605  0.932328 -1.424703   \n",
       "199  0.709881     1.327203     0.626753 -1.199277  0.525864   \n",
       "200  0.709881     1.018743     0.527184  1.680260 -0.394215   \n",
       "\n",
       "     compression-ratio  horsepower  peak-rpm  city-mpg  highway-mpg  \n",
       "0            -0.291435    0.386571 -0.248239 -0.652249    -0.551223  \n",
       "1            -0.291435    0.386571 -0.248239 -0.652249    -0.551223  \n",
       "2            -0.291435    1.364889 -0.248239 -0.964397    -0.707273  \n",
       "3            -0.041121    0.134349  0.799996 -0.184027    -0.083072  \n",
       "4            -0.541748    0.492227  0.799996 -1.120471    -1.331474  \n",
       "..                 ...         ...       ...       ...          ...  \n",
       "196          -0.166278    0.466159  0.590349 -0.340101    -0.395172  \n",
       "197          -0.366529    1.479240  0.380702 -0.964397    -0.863323  \n",
       "198          -0.341497    0.948933  0.799996 -1.120471    -1.175424  \n",
       "199           3.212954    0.249064 -0.667532  0.128120    -0.551223  \n",
       "200          -0.166278    0.466159  0.590349 -0.964397    -0.863323  \n",
       "\n",
       "[201 rows x 28 columns]"
      ]
     },
     "execution_count": 82,
     "metadata": {},
     "output_type": "execute_result"
    }
   ],
   "source": [
    "df1.drop('price.1',axis=1)"
   ]
  },
  {
   "cell_type": "code",
   "execution_count": null,
   "id": "8gq3pHzZscOl",
   "metadata": {
    "id": "8gq3pHzZscOl"
   },
   "outputs": [],
   "source": []
  },
  {
   "cell_type": "code",
   "execution_count": 55,
   "id": "zs65K8ZcamC2",
   "metadata": {
    "executionInfo": {
     "elapsed": 378,
     "status": "ok",
     "timestamp": 1687158905331,
     "user": {
      "displayName": "Sagarika Borah",
      "userId": "16033830323295691159"
     },
     "user_tz": -330
    },
    "id": "zs65K8ZcamC2"
   },
   "outputs": [],
   "source": [
    "#arr=np.asarray(df_trans.values)\n",
    "#data,l=stats.boxcox(arr)"
   ]
  },
  {
   "cell_type": "markdown",
   "id": "r_D-wbT8uMBg",
   "metadata": {
    "id": "r_D-wbT8uMBg"
   },
   "source": [
    "## **Scaling features**\n",
    "\n",
    "1. Min max scaler\n",
    "2. Standard Scaler"
   ]
  },
  {
   "cell_type": "code",
   "execution_count": 62,
   "id": "ZFGMEV6Wt8Hh",
   "metadata": {
    "executionInfo": {
     "elapsed": 3,
     "status": "ok",
     "timestamp": 1687160466067,
     "user": {
      "displayName": "Sagarika Borah",
      "userId": "16033830323295691159"
     },
     "user_tz": -330
    },
    "id": "ZFGMEV6Wt8Hh"
   },
   "outputs": [],
   "source": [
    "from sklearn.preprocessing import StandardScaler,MinMaxScaler"
   ]
  },
  {
   "cell_type": "code",
   "execution_count": null,
   "id": "LHho1Eu6vaxu",
   "metadata": {
    "id": "LHho1Eu6vaxu"
   },
   "outputs": [],
   "source": [
    "#for col in df:\n",
    " # df_scaled3=(df[col]-df[col].min())/(df[col].max()-df[col].min())"
   ]
  },
  {
   "cell_type": "code",
   "execution_count": null,
   "id": "G8Mr8YSSva0Y",
   "metadata": {
    "id": "G8Mr8YSSva0Y"
   },
   "outputs": [],
   "source": [
    "#for col in df:\n",
    " # df_scaled4=(df[col]-df[col].mean())/df[col].std()"
   ]
  },
  {
   "cell_type": "code",
   "execution_count": null,
   "id": "LnlHjiz3mb8y",
   "metadata": {
    "id": "LnlHjiz3mb8y"
   },
   "outputs": [],
   "source": [
    "#sc1=MinMaxScaler()\n",
    "#df_scaled1=pd.DataFrame(sc1.fit_transform(df),columns=df.column)\n",
    "#df_scaled1.head()\n"
   ]
  },
  {
   "cell_type": "code",
   "execution_count": 83,
   "id": "64jjO9yJva23",
   "metadata": {
    "colab": {
     "base_uri": "https://localhost:8080/",
     "height": 268
    },
    "executionInfo": {
     "elapsed": 625,
     "status": "ok",
     "timestamp": 1687162783798,
     "user": {
      "displayName": "Sagarika Borah",
      "userId": "16033830323295691159"
     },
     "user_tz": -330
    },
    "id": "64jjO9yJva23",
    "outputId": "05bb0e6a-b56b-4720-c1ec-5402102cbde3"
   },
   "outputs": [
    {
     "data": {
      "text/html": [
       "\n",
       "  <div id=\"df-ee00cb6c-96af-4051-83a8-8ce148402eb4\">\n",
       "    <div class=\"colab-df-container\">\n",
       "      <div>\n",
       "<style scoped>\n",
       "    .dataframe tbody tr th:only-of-type {\n",
       "        vertical-align: middle;\n",
       "    }\n",
       "\n",
       "    .dataframe tbody tr th {\n",
       "        vertical-align: top;\n",
       "    }\n",
       "\n",
       "    .dataframe thead th {\n",
       "        text-align: right;\n",
       "    }\n",
       "</style>\n",
       "<table border=\"1\" class=\"dataframe\">\n",
       "  <thead>\n",
       "    <tr style=\"text-align: right;\">\n",
       "      <th></th>\n",
       "      <th>normalized-losses</th>\n",
       "      <th>wheel-base</th>\n",
       "      <th>length</th>\n",
       "      <th>width</th>\n",
       "      <th>height</th>\n",
       "      <th>curb-weight</th>\n",
       "      <th>engine-size</th>\n",
       "      <th>bore</th>\n",
       "      <th>stroke</th>\n",
       "      <th>compression-ratio</th>\n",
       "      <th>horsepower</th>\n",
       "      <th>peak-rpm</th>\n",
       "      <th>city-mpg</th>\n",
       "      <th>highway-mpg</th>\n",
       "      <th>price</th>\n",
       "    </tr>\n",
       "  </thead>\n",
       "  <tbody>\n",
       "    <tr>\n",
       "      <th>0</th>\n",
       "      <td>-0.178306</td>\n",
       "      <td>-1.794724</td>\n",
       "      <td>-0.439409</td>\n",
       "      <td>-0.853460</td>\n",
       "      <td>-2.034081</td>\n",
       "      <td>-0.004148</td>\n",
       "      <td>0.238187</td>\n",
       "      <td>0.520966</td>\n",
       "      <td>-2.123963</td>\n",
       "      <td>-0.291435</td>\n",
       "      <td>0.386571</td>\n",
       "      <td>-0.248239</td>\n",
       "      <td>-0.652249</td>\n",
       "      <td>-0.551223</td>\n",
       "      <td>0.319261</td>\n",
       "    </tr>\n",
       "    <tr>\n",
       "      <th>1</th>\n",
       "      <td>-0.178306</td>\n",
       "      <td>-1.794724</td>\n",
       "      <td>-0.439409</td>\n",
       "      <td>-0.853460</td>\n",
       "      <td>-2.034081</td>\n",
       "      <td>-0.004148</td>\n",
       "      <td>0.238187</td>\n",
       "      <td>0.520966</td>\n",
       "      <td>-2.123963</td>\n",
       "      <td>-0.291435</td>\n",
       "      <td>0.386571</td>\n",
       "      <td>-0.248239</td>\n",
       "      <td>-0.652249</td>\n",
       "      <td>-0.551223</td>\n",
       "      <td>0.720545</td>\n",
       "    </tr>\n",
       "    <tr>\n",
       "      <th>2</th>\n",
       "      <td>-0.178306</td>\n",
       "      <td>-0.715084</td>\n",
       "      <td>-0.244152</td>\n",
       "      <td>-0.185597</td>\n",
       "      <td>-0.559713</td>\n",
       "      <td>0.543118</td>\n",
       "      <td>0.794608</td>\n",
       "      <td>-2.433363</td>\n",
       "      <td>0.783486</td>\n",
       "      <td>-0.291435</td>\n",
       "      <td>1.364889</td>\n",
       "      <td>-0.248239</td>\n",
       "      <td>-0.964397</td>\n",
       "      <td>-0.707273</td>\n",
       "      <td>0.720545</td>\n",
       "    </tr>\n",
       "    <tr>\n",
       "      <th>3</th>\n",
       "      <td>1.351431</td>\n",
       "      <td>0.199340</td>\n",
       "      <td>0.195176</td>\n",
       "      <td>0.148335</td>\n",
       "      <td>0.218425</td>\n",
       "      <td>-0.424051</td>\n",
       "      <td>-0.388042</td>\n",
       "      <td>-0.526138</td>\n",
       "      <td>0.525864</td>\n",
       "      <td>-0.041121</td>\n",
       "      <td>0.134349</td>\n",
       "      <td>0.799996</td>\n",
       "      <td>-0.184027</td>\n",
       "      <td>-0.083072</td>\n",
       "      <td>0.385449</td>\n",
       "    </tr>\n",
       "    <tr>\n",
       "      <th>4</th>\n",
       "      <td>1.351431</td>\n",
       "      <td>0.132024</td>\n",
       "      <td>0.195176</td>\n",
       "      <td>0.243744</td>\n",
       "      <td>0.218425</td>\n",
       "      <td>0.545108</td>\n",
       "      <td>0.398703</td>\n",
       "      <td>-0.526138</td>\n",
       "      <td>0.525864</td>\n",
       "      <td>-0.541748</td>\n",
       "      <td>0.492227</td>\n",
       "      <td>0.799996</td>\n",
       "      <td>-1.120471</td>\n",
       "      <td>-1.331474</td>\n",
       "      <td>0.832283</td>\n",
       "    </tr>\n",
       "  </tbody>\n",
       "</table>\n",
       "</div>\n",
       "      <button class=\"colab-df-convert\" onclick=\"convertToInteractive('df-ee00cb6c-96af-4051-83a8-8ce148402eb4')\"\n",
       "              title=\"Convert this dataframe to an interactive table.\"\n",
       "              style=\"display:none;\">\n",
       "        \n",
       "  <svg xmlns=\"http://www.w3.org/2000/svg\" height=\"24px\"viewBox=\"0 0 24 24\"\n",
       "       width=\"24px\">\n",
       "    <path d=\"M0 0h24v24H0V0z\" fill=\"none\"/>\n",
       "    <path d=\"M18.56 5.44l.94 2.06.94-2.06 2.06-.94-2.06-.94-.94-2.06-.94 2.06-2.06.94zm-11 1L8.5 8.5l.94-2.06 2.06-.94-2.06-.94L8.5 2.5l-.94 2.06-2.06.94zm10 10l.94 2.06.94-2.06 2.06-.94-2.06-.94-.94-2.06-.94 2.06-2.06.94z\"/><path d=\"M17.41 7.96l-1.37-1.37c-.4-.4-.92-.59-1.43-.59-.52 0-1.04.2-1.43.59L10.3 9.45l-7.72 7.72c-.78.78-.78 2.05 0 2.83L4 21.41c.39.39.9.59 1.41.59.51 0 1.02-.2 1.41-.59l7.78-7.78 2.81-2.81c.8-.78.8-2.07 0-2.86zM5.41 20L4 18.59l7.72-7.72 1.47 1.35L5.41 20z\"/>\n",
       "  </svg>\n",
       "      </button>\n",
       "      \n",
       "  <style>\n",
       "    .colab-df-container {\n",
       "      display:flex;\n",
       "      flex-wrap:wrap;\n",
       "      gap: 12px;\n",
       "    }\n",
       "\n",
       "    .colab-df-convert {\n",
       "      background-color: #E8F0FE;\n",
       "      border: none;\n",
       "      border-radius: 50%;\n",
       "      cursor: pointer;\n",
       "      display: none;\n",
       "      fill: #1967D2;\n",
       "      height: 32px;\n",
       "      padding: 0 0 0 0;\n",
       "      width: 32px;\n",
       "    }\n",
       "\n",
       "    .colab-df-convert:hover {\n",
       "      background-color: #E2EBFA;\n",
       "      box-shadow: 0px 1px 2px rgba(60, 64, 67, 0.3), 0px 1px 3px 1px rgba(60, 64, 67, 0.15);\n",
       "      fill: #174EA6;\n",
       "    }\n",
       "\n",
       "    [theme=dark] .colab-df-convert {\n",
       "      background-color: #3B4455;\n",
       "      fill: #D2E3FC;\n",
       "    }\n",
       "\n",
       "    [theme=dark] .colab-df-convert:hover {\n",
       "      background-color: #434B5C;\n",
       "      box-shadow: 0px 1px 3px 1px rgba(0, 0, 0, 0.15);\n",
       "      filter: drop-shadow(0px 1px 2px rgba(0, 0, 0, 0.3));\n",
       "      fill: #FFFFFF;\n",
       "    }\n",
       "  </style>\n",
       "\n",
       "      <script>\n",
       "        const buttonEl =\n",
       "          document.querySelector('#df-ee00cb6c-96af-4051-83a8-8ce148402eb4 button.colab-df-convert');\n",
       "        buttonEl.style.display =\n",
       "          google.colab.kernel.accessAllowed ? 'block' : 'none';\n",
       "\n",
       "        async function convertToInteractive(key) {\n",
       "          const element = document.querySelector('#df-ee00cb6c-96af-4051-83a8-8ce148402eb4');\n",
       "          const dataTable =\n",
       "            await google.colab.kernel.invokeFunction('convertToInteractive',\n",
       "                                                     [key], {});\n",
       "          if (!dataTable) return;\n",
       "\n",
       "          const docLinkHtml = 'Like what you see? Visit the ' +\n",
       "            '<a target=\"_blank\" href=https://colab.research.google.com/notebooks/data_table.ipynb>data table notebook</a>'\n",
       "            + ' to learn more about interactive tables.';\n",
       "          element.innerHTML = '';\n",
       "          dataTable['output_type'] = 'display_data';\n",
       "          await google.colab.output.renderOutput(dataTable, element);\n",
       "          const docLink = document.createElement('div');\n",
       "          docLink.innerHTML = docLinkHtml;\n",
       "          element.appendChild(docLink);\n",
       "        }\n",
       "      </script>\n",
       "    </div>\n",
       "  </div>\n",
       "  "
      ],
      "text/plain": [
       "   normalized-losses  wheel-base    length     width    height  curb-weight  \\\n",
       "0          -0.178306   -1.794724 -0.439409 -0.853460 -2.034081    -0.004148   \n",
       "1          -0.178306   -1.794724 -0.439409 -0.853460 -2.034081    -0.004148   \n",
       "2          -0.178306   -0.715084 -0.244152 -0.185597 -0.559713     0.543118   \n",
       "3           1.351431    0.199340  0.195176  0.148335  0.218425    -0.424051   \n",
       "4           1.351431    0.132024  0.195176  0.243744  0.218425     0.545108   \n",
       "\n",
       "   engine-size      bore    stroke  compression-ratio  horsepower  peak-rpm  \\\n",
       "0     0.238187  0.520966 -2.123963          -0.291435    0.386571 -0.248239   \n",
       "1     0.238187  0.520966 -2.123963          -0.291435    0.386571 -0.248239   \n",
       "2     0.794608 -2.433363  0.783486          -0.291435    1.364889 -0.248239   \n",
       "3    -0.388042 -0.526138  0.525864          -0.041121    0.134349  0.799996   \n",
       "4     0.398703 -0.526138  0.525864          -0.541748    0.492227  0.799996   \n",
       "\n",
       "   city-mpg  highway-mpg     price  \n",
       "0 -0.652249    -0.551223  0.319261  \n",
       "1 -0.652249    -0.551223  0.720545  \n",
       "2 -0.964397    -0.707273  0.720545  \n",
       "3 -0.184027    -0.083072  0.385449  \n",
       "4 -1.120471    -1.331474  0.832283  "
      ]
     },
     "execution_count": 83,
     "metadata": {},
     "output_type": "execute_result"
    }
   ],
   "source": [
    "sc2=StandardScaler()\n",
    "df_scaled2=pd.DataFrame(sc2.fit_transform(df),columns=df.columns)\n",
    "df_scaled2.head()"
   ]
  },
  {
   "cell_type": "code",
   "execution_count": 84,
   "id": "vJIB0EtamhEk",
   "metadata": {
    "colab": {
     "base_uri": "https://localhost:8080/"
    },
    "executionInfo": {
     "elapsed": 5,
     "status": "ok",
     "timestamp": 1687162784382,
     "user": {
      "displayName": "Sagarika Borah",
      "userId": "16033830323295691159"
     },
     "user_tz": -330
    },
    "id": "vJIB0EtamhEk",
    "outputId": "49383c85-241e-4666-85b8-b7947f6934a9"
   },
   "outputs": [
    {
     "data": {
      "text/plain": [
       "array([1.20711443e+02, 4.60136398e+00, 1.74200995e+02, 6.58890547e+01,\n",
       "       5.37666667e+01, 2.55008458e+03, 4.80874351e+00, 3.33069157e+00,\n",
       "       3.25711443e+00, 1.01642786e+01, 4.59010796e+00, 5.11840796e+03,\n",
       "       2.51791045e+01, 3.05323383e+01, 9.35021185e+00])"
      ]
     },
     "execution_count": 84,
     "metadata": {},
     "output_type": "execute_result"
    }
   ],
   "source": [
    "sc2.mean_"
   ]
  },
  {
   "cell_type": "code",
   "execution_count": 85,
   "id": "O3qMdPlYnvc9",
   "metadata": {
    "colab": {
     "base_uri": "https://localhost:8080/"
    },
    "executionInfo": {
     "elapsed": 8,
     "status": "ok",
     "timestamp": 1687162784772,
     "user": {
      "displayName": "Sagarika Borah",
      "userId": "16033830323295691159"
     },
     "user_tz": -330
    },
    "id": "O3qMdPlYnvc9",
    "outputId": "3a85cfb2-e301-4cfd-b911-d76de03ba381"
   },
   "outputs": [
    {
     "data": {
      "text/plain": [
       "array([1.02602619e+03, 3.48889014e-03, 1.51080596e+02, 4.39420856e+00,\n",
       "       5.96202322e+00, 2.52503341e+05, 7.78400904e-02, 7.15049956e-02,\n",
       "       7.38294844e-02, 1.59599489e+01, 1.10308702e-01, 2.27521844e+05,\n",
       "       4.10524987e+01, 4.10648746e+01, 2.50960885e-01])"
      ]
     },
     "execution_count": 85,
     "metadata": {},
     "output_type": "execute_result"
    }
   ],
   "source": [
    "sc2.var_"
   ]
  },
  {
   "cell_type": "code",
   "execution_count": 86,
   "id": "xA-1-QTon0c6",
   "metadata": {
    "colab": {
     "base_uri": "https://localhost:8080/"
    },
    "executionInfo": {
     "elapsed": 4,
     "status": "ok",
     "timestamp": 1687162784772,
     "user": {
      "displayName": "Sagarika Borah",
      "userId": "16033830323295691159"
     },
     "user_tz": -330
    },
    "id": "xA-1-QTon0c6",
    "outputId": "ea48355a-0f72-40f0-9310-801ceca1f641"
   },
   "outputs": [
    {
     "data": {
      "text/plain": [
       "True"
      ]
     },
     "execution_count": 86,
     "metadata": {},
     "output_type": "execute_result"
    }
   ],
   "source": [
    "sc2.with_std"
   ]
  },
  {
   "cell_type": "code",
   "execution_count": 87,
   "id": "1wh2FGnAn4Sg",
   "metadata": {
    "colab": {
     "base_uri": "https://localhost:8080/"
    },
    "executionInfo": {
     "elapsed": 6,
     "status": "ok",
     "timestamp": 1687162785679,
     "user": {
      "displayName": "Sagarika Borah",
      "userId": "16033830323295691159"
     },
     "user_tz": -330
    },
    "id": "1wh2FGnAn4Sg",
    "outputId": "8d6a2ae6-253c-479f-bb78-a3c9b205c497"
   },
   "outputs": [
    {
     "data": {
      "text/plain": [
       "Index(['normalized-losses', 'wheel-base', 'length', 'width', 'height',\n",
       "       'curb-weight', 'engine-size', 'bore', 'stroke', 'compression-ratio',\n",
       "       'horsepower', 'peak-rpm', 'city-mpg', 'highway-mpg', 'price'],\n",
       "      dtype='object')"
      ]
     },
     "execution_count": 87,
     "metadata": {},
     "output_type": "execute_result"
    }
   ],
   "source": [
    "#Join the cat and num\n",
    "\n",
    "df_scaled2.columns"
   ]
  },
  {
   "cell_type": "code",
   "execution_count": 88,
   "id": "PlFVIfuFt_BR",
   "metadata": {
    "executionInfo": {
     "elapsed": 3,
     "status": "ok",
     "timestamp": 1687162787024,
     "user": {
      "displayName": "Sagarika Borah",
      "userId": "16033830323295691159"
     },
     "user_tz": -330
    },
    "id": "PlFVIfuFt_BR"
   },
   "outputs": [],
   "source": [
    "df1[df_scaled2.columns]= df_scaled2.values"
   ]
  },
  {
   "cell_type": "code",
   "execution_count": 89,
   "id": "MikhzrhouJYm",
   "metadata": {
    "colab": {
     "base_uri": "https://localhost:8080/",
     "height": 240
    },
    "executionInfo": {
     "elapsed": 7,
     "status": "ok",
     "timestamp": 1687162788982,
     "user": {
      "displayName": "Sagarika Borah",
      "userId": "16033830323295691159"
     },
     "user_tz": -330
    },
    "id": "MikhzrhouJYm",
    "outputId": "66e768ee-71b7-43e2-e75b-6265c0a42522"
   },
   "outputs": [
    {
     "data": {
      "text/html": [
       "\n",
       "  <div id=\"df-38d164ed-3277-444b-9603-6e59d655734f\">\n",
       "    <div class=\"colab-df-container\">\n",
       "      <div>\n",
       "<style scoped>\n",
       "    .dataframe tbody tr th:only-of-type {\n",
       "        vertical-align: middle;\n",
       "    }\n",
       "\n",
       "    .dataframe tbody tr th {\n",
       "        vertical-align: top;\n",
       "    }\n",
       "\n",
       "    .dataframe thead th {\n",
       "        text-align: right;\n",
       "    }\n",
       "</style>\n",
       "<table border=\"1\" class=\"dataframe\">\n",
       "  <thead>\n",
       "    <tr style=\"text-align: right;\">\n",
       "      <th></th>\n",
       "      <th>num-of-doors</th>\n",
       "      <th>body-style</th>\n",
       "      <th>drive-wheels</th>\n",
       "      <th>num-of-cylinders</th>\n",
       "      <th>fuel-system</th>\n",
       "      <th>price</th>\n",
       "      <th>aspiration_turbo</th>\n",
       "      <th>engine-location_rear</th>\n",
       "      <th>gas</th>\n",
       "      <th>diesel</th>\n",
       "      <th>...</th>\n",
       "      <th>curb-weight</th>\n",
       "      <th>engine-size</th>\n",
       "      <th>bore</th>\n",
       "      <th>stroke</th>\n",
       "      <th>compression-ratio</th>\n",
       "      <th>horsepower</th>\n",
       "      <th>peak-rpm</th>\n",
       "      <th>city-mpg</th>\n",
       "      <th>highway-mpg</th>\n",
       "      <th>price.1</th>\n",
       "    </tr>\n",
       "  </thead>\n",
       "  <tbody>\n",
       "    <tr>\n",
       "      <th>0</th>\n",
       "      <td>2</td>\n",
       "      <td>0</td>\n",
       "      <td>1.0</td>\n",
       "      <td>4</td>\n",
       "      <td>5</td>\n",
       "      <td>0.319261</td>\n",
       "      <td>0</td>\n",
       "      <td>0</td>\n",
       "      <td>0.0</td>\n",
       "      <td>1.0</td>\n",
       "      <td>...</td>\n",
       "      <td>-0.004148</td>\n",
       "      <td>0.238187</td>\n",
       "      <td>0.520966</td>\n",
       "      <td>-2.123963</td>\n",
       "      <td>-0.291435</td>\n",
       "      <td>0.386571</td>\n",
       "      <td>-0.248239</td>\n",
       "      <td>-0.652249</td>\n",
       "      <td>-0.551223</td>\n",
       "      <td>13495.0</td>\n",
       "    </tr>\n",
       "    <tr>\n",
       "      <th>1</th>\n",
       "      <td>2</td>\n",
       "      <td>0</td>\n",
       "      <td>1.0</td>\n",
       "      <td>4</td>\n",
       "      <td>5</td>\n",
       "      <td>0.720545</td>\n",
       "      <td>0</td>\n",
       "      <td>0</td>\n",
       "      <td>0.0</td>\n",
       "      <td>1.0</td>\n",
       "      <td>...</td>\n",
       "      <td>-0.004148</td>\n",
       "      <td>0.238187</td>\n",
       "      <td>0.520966</td>\n",
       "      <td>-2.123963</td>\n",
       "      <td>-0.291435</td>\n",
       "      <td>0.386571</td>\n",
       "      <td>-0.248239</td>\n",
       "      <td>-0.652249</td>\n",
       "      <td>-0.551223</td>\n",
       "      <td>16500.0</td>\n",
       "    </tr>\n",
       "  </tbody>\n",
       "</table>\n",
       "<p>2 rows × 29 columns</p>\n",
       "</div>\n",
       "      <button class=\"colab-df-convert\" onclick=\"convertToInteractive('df-38d164ed-3277-444b-9603-6e59d655734f')\"\n",
       "              title=\"Convert this dataframe to an interactive table.\"\n",
       "              style=\"display:none;\">\n",
       "        \n",
       "  <svg xmlns=\"http://www.w3.org/2000/svg\" height=\"24px\"viewBox=\"0 0 24 24\"\n",
       "       width=\"24px\">\n",
       "    <path d=\"M0 0h24v24H0V0z\" fill=\"none\"/>\n",
       "    <path d=\"M18.56 5.44l.94 2.06.94-2.06 2.06-.94-2.06-.94-.94-2.06-.94 2.06-2.06.94zm-11 1L8.5 8.5l.94-2.06 2.06-.94-2.06-.94L8.5 2.5l-.94 2.06-2.06.94zm10 10l.94 2.06.94-2.06 2.06-.94-2.06-.94-.94-2.06-.94 2.06-2.06.94z\"/><path d=\"M17.41 7.96l-1.37-1.37c-.4-.4-.92-.59-1.43-.59-.52 0-1.04.2-1.43.59L10.3 9.45l-7.72 7.72c-.78.78-.78 2.05 0 2.83L4 21.41c.39.39.9.59 1.41.59.51 0 1.02-.2 1.41-.59l7.78-7.78 2.81-2.81c.8-.78.8-2.07 0-2.86zM5.41 20L4 18.59l7.72-7.72 1.47 1.35L5.41 20z\"/>\n",
       "  </svg>\n",
       "      </button>\n",
       "      \n",
       "  <style>\n",
       "    .colab-df-container {\n",
       "      display:flex;\n",
       "      flex-wrap:wrap;\n",
       "      gap: 12px;\n",
       "    }\n",
       "\n",
       "    .colab-df-convert {\n",
       "      background-color: #E8F0FE;\n",
       "      border: none;\n",
       "      border-radius: 50%;\n",
       "      cursor: pointer;\n",
       "      display: none;\n",
       "      fill: #1967D2;\n",
       "      height: 32px;\n",
       "      padding: 0 0 0 0;\n",
       "      width: 32px;\n",
       "    }\n",
       "\n",
       "    .colab-df-convert:hover {\n",
       "      background-color: #E2EBFA;\n",
       "      box-shadow: 0px 1px 2px rgba(60, 64, 67, 0.3), 0px 1px 3px 1px rgba(60, 64, 67, 0.15);\n",
       "      fill: #174EA6;\n",
       "    }\n",
       "\n",
       "    [theme=dark] .colab-df-convert {\n",
       "      background-color: #3B4455;\n",
       "      fill: #D2E3FC;\n",
       "    }\n",
       "\n",
       "    [theme=dark] .colab-df-convert:hover {\n",
       "      background-color: #434B5C;\n",
       "      box-shadow: 0px 1px 3px 1px rgba(0, 0, 0, 0.15);\n",
       "      filter: drop-shadow(0px 1px 2px rgba(0, 0, 0, 0.3));\n",
       "      fill: #FFFFFF;\n",
       "    }\n",
       "  </style>\n",
       "\n",
       "      <script>\n",
       "        const buttonEl =\n",
       "          document.querySelector('#df-38d164ed-3277-444b-9603-6e59d655734f button.colab-df-convert');\n",
       "        buttonEl.style.display =\n",
       "          google.colab.kernel.accessAllowed ? 'block' : 'none';\n",
       "\n",
       "        async function convertToInteractive(key) {\n",
       "          const element = document.querySelector('#df-38d164ed-3277-444b-9603-6e59d655734f');\n",
       "          const dataTable =\n",
       "            await google.colab.kernel.invokeFunction('convertToInteractive',\n",
       "                                                     [key], {});\n",
       "          if (!dataTable) return;\n",
       "\n",
       "          const docLinkHtml = 'Like what you see? Visit the ' +\n",
       "            '<a target=\"_blank\" href=https://colab.research.google.com/notebooks/data_table.ipynb>data table notebook</a>'\n",
       "            + ' to learn more about interactive tables.';\n",
       "          element.innerHTML = '';\n",
       "          dataTable['output_type'] = 'display_data';\n",
       "          await google.colab.output.renderOutput(dataTable, element);\n",
       "          const docLink = document.createElement('div');\n",
       "          docLink.innerHTML = docLinkHtml;\n",
       "          element.appendChild(docLink);\n",
       "        }\n",
       "      </script>\n",
       "    </div>\n",
       "  </div>\n",
       "  "
      ],
      "text/plain": [
       "   num-of-doors  body-style  drive-wheels  num-of-cylinders  fuel-system  \\\n",
       "0             2           0           1.0                 4            5   \n",
       "1             2           0           1.0                 4            5   \n",
       "\n",
       "      price  aspiration_turbo  engine-location_rear  gas  diesel  ...  \\\n",
       "0  0.319261                 0                     0  0.0     1.0  ...   \n",
       "1  0.720545                 0                     0  0.0     1.0  ...   \n",
       "\n",
       "   curb-weight  engine-size      bore    stroke  compression-ratio  \\\n",
       "0    -0.004148     0.238187  0.520966 -2.123963          -0.291435   \n",
       "1    -0.004148     0.238187  0.520966 -2.123963          -0.291435   \n",
       "\n",
       "   horsepower  peak-rpm  city-mpg  highway-mpg  price.1  \n",
       "0    0.386571 -0.248239 -0.652249    -0.551223  13495.0  \n",
       "1    0.386571 -0.248239 -0.652249    -0.551223  16500.0  \n",
       "\n",
       "[2 rows x 29 columns]"
      ]
     },
     "execution_count": 89,
     "metadata": {},
     "output_type": "execute_result"
    }
   ],
   "source": [
    "df1.head(2)"
   ]
  },
  {
   "cell_type": "markdown",
   "id": "C-YAJQ35n_oi",
   "metadata": {
    "id": "C-YAJQ35n_oi"
   },
   "source": [
    "## Train test split"
   ]
  },
  {
   "cell_type": "code",
   "execution_count": 91,
   "id": "GUbWyHf2oE8W",
   "metadata": {
    "colab": {
     "base_uri": "https://localhost:8080/"
    },
    "executionInfo": {
     "elapsed": 5,
     "status": "ok",
     "timestamp": 1687162883997,
     "user": {
      "displayName": "Sagarika Borah",
      "userId": "16033830323295691159"
     },
     "user_tz": -330
    },
    "id": "GUbWyHf2oE8W",
    "outputId": "9fe5ec5c-8cdb-40a9-91d4-f3e93a37de6d"
   },
   "outputs": [
    {
     "data": {
      "text/plain": [
       "(61, 28)"
      ]
     },
     "execution_count": 91,
     "metadata": {},
     "output_type": "execute_result"
    }
   ],
   "source": [
    "from sklearn.model_selection import train_test_split\n",
    "\n",
    "y=df1.price\n",
    "X=df1.drop('price', axis=1)\n",
    "X_train, X_test, y_train, y_test= train_test_split(X,y,test_size=0.3,random_state=10)\n",
    "\n"
   ]
  },
  {
   "cell_type": "code",
   "execution_count": 93,
   "id": "KK3UW4eZvTC3",
   "metadata": {
    "colab": {
     "base_uri": "https://localhost:8080/"
    },
    "executionInfo": {
     "elapsed": 3,
     "status": "ok",
     "timestamp": 1687162926482,
     "user": {
      "displayName": "Sagarika Borah",
      "userId": "16033830323295691159"
     },
     "user_tz": -330
    },
    "id": "KK3UW4eZvTC3",
    "outputId": "fa222f06-2596-431e-f037-fa5196b69023"
   },
   "outputs": [
    {
     "name": "stdout",
     "output_type": "stream",
     "text": [
      "(140, 28)\n",
      "(61, 28)\n"
     ]
    }
   ],
   "source": [
    "print(X_train.shape)\n",
    "print(X_test.shape)"
   ]
  },
  {
   "cell_type": "code",
   "execution_count": 94,
   "id": "MfYRQFUTvs2r",
   "metadata": {
    "colab": {
     "base_uri": "https://localhost:8080/"
    },
    "executionInfo": {
     "elapsed": 4,
     "status": "ok",
     "timestamp": 1687162940825,
     "user": {
      "displayName": "Sagarika Borah",
      "userId": "16033830323295691159"
     },
     "user_tz": -330
    },
    "id": "MfYRQFUTvs2r",
    "outputId": "7200354d-f6a5-4315-f241-48384673f4b1"
   },
   "outputs": [
    {
     "name": "stdout",
     "output_type": "stream",
     "text": [
      "(140,)\n",
      "(61,)\n"
     ]
    }
   ],
   "source": [
    "print(y_train.shape)\n",
    "print(y_test.shape)"
   ]
  },
  {
   "cell_type": "code",
   "execution_count": 95,
   "id": "3oWBx03qv2ke",
   "metadata": {
    "colab": {
     "base_uri": "https://localhost:8080/",
     "height": 17
    },
    "executionInfo": {
     "elapsed": 383,
     "status": "ok",
     "timestamp": 1687166173658,
     "user": {
      "displayName": "Sagarika Borah",
      "userId": "16033830323295691159"
     },
     "user_tz": -330
    },
    "id": "3oWBx03qv2ke",
    "outputId": "da0ed3a5-1f4f-43d8-f67a-454fab3742e6"
   },
   "outputs": [
    {
     "data": {
      "application/javascript": [
       "\n",
       "    async function download(id, filename, size) {\n",
       "      if (!google.colab.kernel.accessAllowed) {\n",
       "        return;\n",
       "      }\n",
       "      const div = document.createElement('div');\n",
       "      const label = document.createElement('label');\n",
       "      label.textContent = `Downloading \"${filename}\": `;\n",
       "      div.appendChild(label);\n",
       "      const progress = document.createElement('progress');\n",
       "      progress.max = size;\n",
       "      div.appendChild(progress);\n",
       "      document.body.appendChild(div);\n",
       "\n",
       "      const buffers = [];\n",
       "      let downloaded = 0;\n",
       "\n",
       "      const channel = await google.colab.kernel.comms.open(id);\n",
       "      // Send a message to notify the kernel that we're ready.\n",
       "      channel.send({})\n",
       "\n",
       "      for await (const message of channel.messages) {\n",
       "        // Send a message to notify the kernel that we're ready.\n",
       "        channel.send({})\n",
       "        if (message.buffers) {\n",
       "          for (const buffer of message.buffers) {\n",
       "            buffers.push(buffer);\n",
       "            downloaded += buffer.byteLength;\n",
       "            progress.value = downloaded;\n",
       "          }\n",
       "        }\n",
       "      }\n",
       "      const blob = new Blob(buffers, {type: 'application/binary'});\n",
       "      const a = document.createElement('a');\n",
       "      a.href = window.URL.createObjectURL(blob);\n",
       "      a.download = filename;\n",
       "      div.appendChild(a);\n",
       "      a.click();\n",
       "      div.remove();\n",
       "    }\n",
       "  "
      ],
      "text/plain": [
       "<IPython.core.display.Javascript object>"
      ]
     },
     "metadata": {},
     "output_type": "display_data"
    },
    {
     "data": {
      "application/javascript": [
       "download(\"download_dfb62f42-8de3-49d7-9b41-100e7ecf2885\", \"Final_preprocess.csv\", 76867)"
      ],
      "text/plain": [
       "<IPython.core.display.Javascript object>"
      ]
     },
     "metadata": {},
     "output_type": "display_data"
    }
   ],
   "source": [
    "from google.colab import files\n",
    "df1.to_csv('Final_preprocess.csv', encoding = 'utf-8-sig', index=None)\n",
    "files.download('Final_preprocess.csv')"
   ]
  },
  {
   "cell_type": "code",
   "execution_count": null,
   "id": "_2mXjPdm8Lu9",
   "metadata": {
    "id": "_2mXjPdm8Lu9"
   },
   "outputs": [],
   "source": []
  }
 ],
 "metadata": {
  "colab": {
   "provenance": []
  },
  "kernelspec": {
   "display_name": "Python 3 (ipykernel)",
   "language": "python",
   "name": "python3"
  },
  "language_info": {
   "codemirror_mode": {
    "name": "ipython",
    "version": 3
   },
   "file_extension": ".py",
   "mimetype": "text/x-python",
   "name": "python",
   "nbconvert_exporter": "python",
   "pygments_lexer": "ipython3",
   "version": "3.10.12"
  }
 },
 "nbformat": 4,
 "nbformat_minor": 5
}
