{
 "cells": [
  {
   "cell_type": "markdown",
   "id": "b492cebf",
   "metadata": {
    "id": "b492cebf"
   },
   "source": [
    "<table align=\"left\" width=100%>\n",
    "    <tr>\n",
    "        <td width=\"20%\">\n",
    "            <img src=\"faculty.png\">\n",
    "        </td>\n",
    "        <td>\n",
    "            <div align=\"center\">\n",
    "                <font color=\"#21618C\" size=8px>\n",
    "                  <b> Faculty Notebook <br> (Session 2 By HGN) </b>\n",
    "                </font>\n",
    "            </div>\n",
    "        </td>\n",
    "    </tr>\n",
    "</table>"
   ]
  },
  {
   "cell_type": "markdown",
   "id": "dca00dfe",
   "metadata": {
    "id": "dca00dfe"
   },
   "source": [
    "## Problem Statement\n",
    "predict vehicle insurance premium, It is important for insurers to develop models that accurately forecast premium for car insurance.  \n"
   ]
  },
  {
   "cell_type": "markdown",
   "id": "92f9f978",
   "metadata": {
    "id": "92f9f978"
   },
   "source": [
    "<a id=\"lib\"></a>\n",
    "# 1. Import Libraries"
   ]
  },
  {
   "cell_type": "code",
   "execution_count": 1,
   "id": "5f6b5e4c",
   "metadata": {
    "executionInfo": {
     "elapsed": 5436,
     "status": "ok",
     "timestamp": 1683095002401,
     "user": {
      "displayName": "Kaustuv Kunal",
      "userId": "06521881316414022508"
     },
     "user_tz": -330
    },
    "id": "5f6b5e4c"
   },
   "outputs": [],
   "source": [
    "# import 'Pandas' \n",
    "import pandas as pd \n",
    "\n",
    "# import 'Numpy' \n",
    "import numpy as np\n",
    "\n",
    "# import subpackage of Matplotlib\n",
    "import matplotlib.pyplot as plt\n",
    "\n",
    "# import 'Seaborn' \n",
    "import seaborn as sns\n",
    "\n",
    "# to suppress warnings \n",
    "from warnings import filterwarnings\n",
    "filterwarnings('ignore')\n",
    "\n",
    "# display all columns of the dataframe\n",
    "pd.options.display.max_columns = None\n",
    "\n",
    "# display all rows of the dataframe\n",
    "pd.options.display.max_rows = None\n",
    " \n",
    "# to display the float values upto 6 decimal places     \n",
    "pd.options.display.float_format = '{:.6f}'.format\n",
    "\n",
    "# import train-test split \n",
    "from sklearn.model_selection import train_test_split\n",
    "\n",
    "# import various functions from statsmodel to perform linear regression\n",
    "import statsmodels\n",
    "import statsmodels.api as sm\n",
    "import statsmodels.stats.api as sms\n",
    "from statsmodels.compat import lzip\n",
    "from statsmodels.stats.outliers_influence import variance_inflation_factor\n",
    "from statsmodels.graphics.gofplots import qqplot\n",
    "from statsmodels.stats.anova import anova_lm\n",
    "from statsmodels.formula.api import ols\n",
    "from statsmodels.tools.eval_measures import rmse\n",
    "\n",
    "# import various functions from scipy\n",
    "from scipy import stats\n",
    "from scipy.stats import shapiro\n",
    "\n",
    "# 'metrics' from sklearn is used for evaluating the model performance\n",
    "from sklearn.metrics import mean_absolute_error\n",
    "from sklearn.metrics import mean_squared_error"
   ]
  },
  {
   "cell_type": "markdown",
   "id": "59a32ea2",
   "metadata": {
    "id": "59a32ea2"
   },
   "source": [
    "<a id=\"prep\"></a>\n",
    "# 1.1 Read Data"
   ]
  },
  {
   "cell_type": "code",
   "execution_count": 2,
   "id": "0874ba6f",
   "metadata": {
    "colab": {
     "base_uri": "https://localhost:8080/",
     "height": 329
    },
    "executionInfo": {
     "elapsed": 25,
     "status": "error",
     "timestamp": 1683095002403,
     "user": {
      "displayName": "Kaustuv Kunal",
      "userId": "06521881316414022508"
     },
     "user_tz": -330
    },
    "id": "0874ba6f",
    "outputId": "32f0e9db-8f61-44e6-f2e2-b9667677280b"
   },
   "outputs": [
    {
     "ename": "FileNotFoundError",
     "evalue": "ignored",
     "output_type": "error",
     "traceback": [
      "\u001b[0;31m---------------------------------------------------------------------------\u001b[0m",
      "\u001b[0;31mFileNotFoundError\u001b[0m                         Traceback (most recent call last)",
      "\u001b[0;32m<ipython-input-2-60e93c262d85>\u001b[0m in \u001b[0;36m<cell line: 1>\u001b[0;34m()\u001b[0m\n\u001b[0;32m----> 1\u001b[0;31m \u001b[0mdf\u001b[0m \u001b[0;34m=\u001b[0m \u001b[0mpd\u001b[0m\u001b[0;34m.\u001b[0m\u001b[0mread_csv\u001b[0m\u001b[0;34m(\u001b[0m\u001b[0;34m'carpremium.csv'\u001b[0m\u001b[0;34m)\u001b[0m\u001b[0;34m\u001b[0m\u001b[0;34m\u001b[0m\u001b[0m\n\u001b[0m\u001b[1;32m      2\u001b[0m \u001b[0mdf\u001b[0m\u001b[0;34m.\u001b[0m\u001b[0mhead\u001b[0m\u001b[0;34m(\u001b[0m\u001b[0;34m)\u001b[0m\u001b[0;34m\u001b[0m\u001b[0;34m\u001b[0m\u001b[0m\n",
      "\u001b[0;32m/usr/local/lib/python3.10/dist-packages/pandas/util/_decorators.py\u001b[0m in \u001b[0;36mwrapper\u001b[0;34m(*args, **kwargs)\u001b[0m\n\u001b[1;32m    209\u001b[0m                 \u001b[0;32melse\u001b[0m\u001b[0;34m:\u001b[0m\u001b[0;34m\u001b[0m\u001b[0;34m\u001b[0m\u001b[0m\n\u001b[1;32m    210\u001b[0m                     \u001b[0mkwargs\u001b[0m\u001b[0;34m[\u001b[0m\u001b[0mnew_arg_name\u001b[0m\u001b[0;34m]\u001b[0m \u001b[0;34m=\u001b[0m \u001b[0mnew_arg_value\u001b[0m\u001b[0;34m\u001b[0m\u001b[0;34m\u001b[0m\u001b[0m\n\u001b[0;32m--> 211\u001b[0;31m             \u001b[0;32mreturn\u001b[0m \u001b[0mfunc\u001b[0m\u001b[0;34m(\u001b[0m\u001b[0;34m*\u001b[0m\u001b[0margs\u001b[0m\u001b[0;34m,\u001b[0m \u001b[0;34m**\u001b[0m\u001b[0mkwargs\u001b[0m\u001b[0;34m)\u001b[0m\u001b[0;34m\u001b[0m\u001b[0;34m\u001b[0m\u001b[0m\n\u001b[0m\u001b[1;32m    212\u001b[0m \u001b[0;34m\u001b[0m\u001b[0m\n\u001b[1;32m    213\u001b[0m         \u001b[0;32mreturn\u001b[0m \u001b[0mcast\u001b[0m\u001b[0;34m(\u001b[0m\u001b[0mF\u001b[0m\u001b[0;34m,\u001b[0m \u001b[0mwrapper\u001b[0m\u001b[0;34m)\u001b[0m\u001b[0;34m\u001b[0m\u001b[0;34m\u001b[0m\u001b[0m\n",
      "\u001b[0;32m/usr/local/lib/python3.10/dist-packages/pandas/util/_decorators.py\u001b[0m in \u001b[0;36mwrapper\u001b[0;34m(*args, **kwargs)\u001b[0m\n\u001b[1;32m    329\u001b[0m                     \u001b[0mstacklevel\u001b[0m\u001b[0;34m=\u001b[0m\u001b[0mfind_stack_level\u001b[0m\u001b[0;34m(\u001b[0m\u001b[0;34m)\u001b[0m\u001b[0;34m,\u001b[0m\u001b[0;34m\u001b[0m\u001b[0;34m\u001b[0m\u001b[0m\n\u001b[1;32m    330\u001b[0m                 )\n\u001b[0;32m--> 331\u001b[0;31m             \u001b[0;32mreturn\u001b[0m \u001b[0mfunc\u001b[0m\u001b[0;34m(\u001b[0m\u001b[0;34m*\u001b[0m\u001b[0margs\u001b[0m\u001b[0;34m,\u001b[0m \u001b[0;34m**\u001b[0m\u001b[0mkwargs\u001b[0m\u001b[0;34m)\u001b[0m\u001b[0;34m\u001b[0m\u001b[0;34m\u001b[0m\u001b[0m\n\u001b[0m\u001b[1;32m    332\u001b[0m \u001b[0;34m\u001b[0m\u001b[0m\n\u001b[1;32m    333\u001b[0m         \u001b[0;31m# error: \"Callable[[VarArg(Any), KwArg(Any)], Any]\" has no\u001b[0m\u001b[0;34m\u001b[0m\u001b[0;34m\u001b[0m\u001b[0m\n",
      "\u001b[0;32m/usr/local/lib/python3.10/dist-packages/pandas/io/parsers/readers.py\u001b[0m in \u001b[0;36mread_csv\u001b[0;34m(filepath_or_buffer, sep, delimiter, header, names, index_col, usecols, squeeze, prefix, mangle_dupe_cols, dtype, engine, converters, true_values, false_values, skipinitialspace, skiprows, skipfooter, nrows, na_values, keep_default_na, na_filter, verbose, skip_blank_lines, parse_dates, infer_datetime_format, keep_date_col, date_parser, dayfirst, cache_dates, iterator, chunksize, compression, thousands, decimal, lineterminator, quotechar, quoting, doublequote, escapechar, comment, encoding, encoding_errors, dialect, error_bad_lines, warn_bad_lines, on_bad_lines, delim_whitespace, low_memory, memory_map, float_precision, storage_options)\u001b[0m\n\u001b[1;32m    948\u001b[0m     \u001b[0mkwds\u001b[0m\u001b[0;34m.\u001b[0m\u001b[0mupdate\u001b[0m\u001b[0;34m(\u001b[0m\u001b[0mkwds_defaults\u001b[0m\u001b[0;34m)\u001b[0m\u001b[0;34m\u001b[0m\u001b[0;34m\u001b[0m\u001b[0m\n\u001b[1;32m    949\u001b[0m \u001b[0;34m\u001b[0m\u001b[0m\n\u001b[0;32m--> 950\u001b[0;31m     \u001b[0;32mreturn\u001b[0m \u001b[0m_read\u001b[0m\u001b[0;34m(\u001b[0m\u001b[0mfilepath_or_buffer\u001b[0m\u001b[0;34m,\u001b[0m \u001b[0mkwds\u001b[0m\u001b[0;34m)\u001b[0m\u001b[0;34m\u001b[0m\u001b[0;34m\u001b[0m\u001b[0m\n\u001b[0m\u001b[1;32m    951\u001b[0m \u001b[0;34m\u001b[0m\u001b[0m\n\u001b[1;32m    952\u001b[0m \u001b[0;34m\u001b[0m\u001b[0m\n",
      "\u001b[0;32m/usr/local/lib/python3.10/dist-packages/pandas/io/parsers/readers.py\u001b[0m in \u001b[0;36m_read\u001b[0;34m(filepath_or_buffer, kwds)\u001b[0m\n\u001b[1;32m    603\u001b[0m \u001b[0;34m\u001b[0m\u001b[0m\n\u001b[1;32m    604\u001b[0m     \u001b[0;31m# Create the parser.\u001b[0m\u001b[0;34m\u001b[0m\u001b[0;34m\u001b[0m\u001b[0m\n\u001b[0;32m--> 605\u001b[0;31m     \u001b[0mparser\u001b[0m \u001b[0;34m=\u001b[0m \u001b[0mTextFileReader\u001b[0m\u001b[0;34m(\u001b[0m\u001b[0mfilepath_or_buffer\u001b[0m\u001b[0;34m,\u001b[0m \u001b[0;34m**\u001b[0m\u001b[0mkwds\u001b[0m\u001b[0;34m)\u001b[0m\u001b[0;34m\u001b[0m\u001b[0;34m\u001b[0m\u001b[0m\n\u001b[0m\u001b[1;32m    606\u001b[0m \u001b[0;34m\u001b[0m\u001b[0m\n\u001b[1;32m    607\u001b[0m     \u001b[0;32mif\u001b[0m \u001b[0mchunksize\u001b[0m \u001b[0;32mor\u001b[0m \u001b[0miterator\u001b[0m\u001b[0;34m:\u001b[0m\u001b[0;34m\u001b[0m\u001b[0;34m\u001b[0m\u001b[0m\n",
      "\u001b[0;32m/usr/local/lib/python3.10/dist-packages/pandas/io/parsers/readers.py\u001b[0m in \u001b[0;36m__init__\u001b[0;34m(self, f, engine, **kwds)\u001b[0m\n\u001b[1;32m   1440\u001b[0m \u001b[0;34m\u001b[0m\u001b[0m\n\u001b[1;32m   1441\u001b[0m         \u001b[0mself\u001b[0m\u001b[0;34m.\u001b[0m\u001b[0mhandles\u001b[0m\u001b[0;34m:\u001b[0m \u001b[0mIOHandles\u001b[0m \u001b[0;34m|\u001b[0m \u001b[0;32mNone\u001b[0m \u001b[0;34m=\u001b[0m \u001b[0;32mNone\u001b[0m\u001b[0;34m\u001b[0m\u001b[0;34m\u001b[0m\u001b[0m\n\u001b[0;32m-> 1442\u001b[0;31m         \u001b[0mself\u001b[0m\u001b[0;34m.\u001b[0m\u001b[0m_engine\u001b[0m \u001b[0;34m=\u001b[0m \u001b[0mself\u001b[0m\u001b[0;34m.\u001b[0m\u001b[0m_make_engine\u001b[0m\u001b[0;34m(\u001b[0m\u001b[0mf\u001b[0m\u001b[0;34m,\u001b[0m \u001b[0mself\u001b[0m\u001b[0;34m.\u001b[0m\u001b[0mengine\u001b[0m\u001b[0;34m)\u001b[0m\u001b[0;34m\u001b[0m\u001b[0;34m\u001b[0m\u001b[0m\n\u001b[0m\u001b[1;32m   1443\u001b[0m \u001b[0;34m\u001b[0m\u001b[0m\n\u001b[1;32m   1444\u001b[0m     \u001b[0;32mdef\u001b[0m \u001b[0mclose\u001b[0m\u001b[0;34m(\u001b[0m\u001b[0mself\u001b[0m\u001b[0;34m)\u001b[0m \u001b[0;34m->\u001b[0m \u001b[0;32mNone\u001b[0m\u001b[0;34m:\u001b[0m\u001b[0;34m\u001b[0m\u001b[0;34m\u001b[0m\u001b[0m\n",
      "\u001b[0;32m/usr/local/lib/python3.10/dist-packages/pandas/io/parsers/readers.py\u001b[0m in \u001b[0;36m_make_engine\u001b[0;34m(self, f, engine)\u001b[0m\n\u001b[1;32m   1733\u001b[0m                 \u001b[0;32mif\u001b[0m \u001b[0;34m\"b\"\u001b[0m \u001b[0;32mnot\u001b[0m \u001b[0;32min\u001b[0m \u001b[0mmode\u001b[0m\u001b[0;34m:\u001b[0m\u001b[0;34m\u001b[0m\u001b[0;34m\u001b[0m\u001b[0m\n\u001b[1;32m   1734\u001b[0m                     \u001b[0mmode\u001b[0m \u001b[0;34m+=\u001b[0m \u001b[0;34m\"b\"\u001b[0m\u001b[0;34m\u001b[0m\u001b[0;34m\u001b[0m\u001b[0m\n\u001b[0;32m-> 1735\u001b[0;31m             self.handles = get_handle(\n\u001b[0m\u001b[1;32m   1736\u001b[0m                 \u001b[0mf\u001b[0m\u001b[0;34m,\u001b[0m\u001b[0;34m\u001b[0m\u001b[0;34m\u001b[0m\u001b[0m\n\u001b[1;32m   1737\u001b[0m                 \u001b[0mmode\u001b[0m\u001b[0;34m,\u001b[0m\u001b[0;34m\u001b[0m\u001b[0;34m\u001b[0m\u001b[0m\n",
      "\u001b[0;32m/usr/local/lib/python3.10/dist-packages/pandas/io/common.py\u001b[0m in \u001b[0;36mget_handle\u001b[0;34m(path_or_buf, mode, encoding, compression, memory_map, is_text, errors, storage_options)\u001b[0m\n\u001b[1;32m    854\u001b[0m         \u001b[0;32mif\u001b[0m \u001b[0mioargs\u001b[0m\u001b[0;34m.\u001b[0m\u001b[0mencoding\u001b[0m \u001b[0;32mand\u001b[0m \u001b[0;34m\"b\"\u001b[0m \u001b[0;32mnot\u001b[0m \u001b[0;32min\u001b[0m \u001b[0mioargs\u001b[0m\u001b[0;34m.\u001b[0m\u001b[0mmode\u001b[0m\u001b[0;34m:\u001b[0m\u001b[0;34m\u001b[0m\u001b[0;34m\u001b[0m\u001b[0m\n\u001b[1;32m    855\u001b[0m             \u001b[0;31m# Encoding\u001b[0m\u001b[0;34m\u001b[0m\u001b[0;34m\u001b[0m\u001b[0m\n\u001b[0;32m--> 856\u001b[0;31m             handle = open(\n\u001b[0m\u001b[1;32m    857\u001b[0m                 \u001b[0mhandle\u001b[0m\u001b[0;34m,\u001b[0m\u001b[0;34m\u001b[0m\u001b[0;34m\u001b[0m\u001b[0m\n\u001b[1;32m    858\u001b[0m                 \u001b[0mioargs\u001b[0m\u001b[0;34m.\u001b[0m\u001b[0mmode\u001b[0m\u001b[0;34m,\u001b[0m\u001b[0;34m\u001b[0m\u001b[0;34m\u001b[0m\u001b[0m\n",
      "\u001b[0;31mFileNotFoundError\u001b[0m: [Errno 2] No such file or directory: 'carpremium.csv'"
     ]
    }
   ],
   "source": [
    "df = pd.read_csv('carpremium.csv')\n",
    "df.head()"
   ]
  },
  {
   "cell_type": "markdown",
   "id": "570380e6",
   "metadata": {
    "id": "570380e6"
   },
   "source": [
    "<a id=\"prep\"></a>\n",
    "# 2. Data Preparation"
   ]
  },
  {
   "cell_type": "markdown",
   "id": "6e03be78",
   "metadata": {
    "id": "6e03be78"
   },
   "source": [
    "<a id=\"read\"></a>\n",
    "## 2.1 Understand the Data"
   ]
  },
  {
   "cell_type": "code",
   "execution_count": null,
   "id": "3f8fb3f0",
   "metadata": {
    "id": "3f8fb3f0",
    "outputId": "27110da6-008a-4bc0-8cb9-bc93a9d7180c",
    "scrolled": true
   },
   "outputs": [
    {
     "name": "stdout",
     "output_type": "stream",
     "text": [
      "<class 'pandas.core.frame.DataFrame'>\n",
      "RangeIndex: 16 entries, 0 to 15\n",
      "Data columns (total 2 columns):\n",
      " #   Column   Non-Null Count  Dtype  \n",
      "---  ------   --------------  -----  \n",
      " 0   Mileage  16 non-null     float64\n",
      " 1   Premium  16 non-null     float64\n",
      "dtypes: float64(2)\n",
      "memory usage: 384.0 bytes\n"
     ]
    }
   ],
   "source": [
    "# use 'info()' to understand the dataset\n",
    "df.info()"
   ]
  },
  {
   "cell_type": "code",
   "execution_count": null,
   "id": "71327406",
   "metadata": {
    "id": "71327406",
    "outputId": "e7f62703-e4b0-4e57-fe68-5f229e5afcdd"
   },
   "outputs": [
    {
     "data": {
      "text/plain": [
       "(16, 2)"
      ]
     },
     "execution_count": 8,
     "metadata": {},
     "output_type": "execute_result"
    }
   ],
   "source": [
    "# use 'shape' to check the dimension of data\n",
    "df.shape"
   ]
  },
  {
   "cell_type": "code",
   "execution_count": null,
   "id": "cfadca15",
   "metadata": {
    "id": "cfadca15",
    "outputId": "c5adceb5-208d-44f7-ac4e-3dff69ad5fe3"
   },
   "outputs": [
    {
     "data": {
      "text/plain": [
       "[<matplotlib.lines.Line2D at 0x20640b3f730>]"
      ]
     },
     "execution_count": 9,
     "metadata": {},
     "output_type": "execute_result"
    },
    {
     "data": {
      "image/png": "[encoded data removed]",
      "text/plain": [
       "<Figure size 432x288 with 1 Axes>"
      ]
     },
     "metadata": {
      "needs_background": "light"
     },
     "output_type": "display_data"
    }
   ],
   "source": [
    "plt.plot(df['Mileage'],df['Premium'],'*')"
   ]
  },
  {
   "cell_type": "code",
   "execution_count": null,
   "id": "6b9748b4",
   "metadata": {
    "id": "6b9748b4",
    "outputId": "ee6b0ef4-cfe3-4270-a8a6-6bba6c787fc2"
   },
   "outputs": [
    {
     "data": {
      "text/html": [
       "<div>\n",
       "<style scoped>\n",
       "    .dataframe tbody tr th:only-of-type {\n",
       "        vertical-align: middle;\n",
       "    }\n",
       "\n",
       "    .dataframe tbody tr th {\n",
       "        vertical-align: top;\n",
       "    }\n",
       "\n",
       "    .dataframe thead th {\n",
       "        text-align: right;\n",
       "    }\n",
       "</style>\n",
       "<table border=\"1\" class=\"dataframe\">\n",
       "  <thead>\n",
       "    <tr style=\"text-align: right;\">\n",
       "      <th></th>\n",
       "      <th>Mileage</th>\n",
       "      <th>Premium</th>\n",
       "    </tr>\n",
       "  </thead>\n",
       "  <tbody>\n",
       "    <tr>\n",
       "      <th>Mileage</th>\n",
       "      <td>1.000000</td>\n",
       "      <td>-0.475073</td>\n",
       "    </tr>\n",
       "    <tr>\n",
       "      <th>Premium</th>\n",
       "      <td>-0.475073</td>\n",
       "      <td>1.000000</td>\n",
       "    </tr>\n",
       "  </tbody>\n",
       "</table>\n",
       "</div>"
      ],
      "text/plain": [
       "          Mileage   Premium\n",
       "Mileage  1.000000 -0.475073\n",
       "Premium -0.475073  1.000000"
      ]
     },
     "execution_count": 10,
     "metadata": {},
     "output_type": "execute_result"
    }
   ],
   "source": [
    "df.corr()"
   ]
  },
  {
   "cell_type": "markdown",
   "id": "2495875e",
   "metadata": {
    "id": "2495875e"
   },
   "source": [
    "<a id=\"outlier\"></a>\n",
    "## 2.2 Outlier Analysis and Treatment"
   ]
  },
  {
   "cell_type": "markdown",
   "id": "df6796d1",
   "metadata": {
    "id": "df6796d1"
   },
   "source": [
    "**Check the outliers in all the variables and treat them using appropriate techniques.**"
   ]
  },
  {
   "cell_type": "code",
   "execution_count": null,
   "id": "4d9a7aa3",
   "metadata": {
    "id": "4d9a7aa3",
    "outputId": "76a46913-0c77-459d-a51c-05e168344f49"
   },
   "outputs": [
    {
     "data": {
      "image/png": "[encoded data removed]",
      "text/plain": [
       "<Figure size 1080x576 with 1 Axes>"
      ]
     },
     "metadata": {
      "needs_background": "light"
     },
     "output_type": "display_data"
    }
   ],
   "source": [
    "# set the plot size using figure()\n",
    "# pass width and height in inches to 'figsize' \n",
    "plt.figure(figsize = (15,8))\n",
    "\n",
    "# plot a boxplot to visualize the outliers in all the numeric variables\n",
    "df.boxplot()\n",
    "\n",
    "# set plot label\n",
    "# set text size using 'fontsize'\n",
    "plt.title('Distribution of all Numeric Variables', fontsize = 15)\n",
    "\n",
    "# xticks() returns the x-axis ticks\n",
    "# 'rotation = vertical' rotates the x-axis labels vertically\n",
    "plt.xticks(rotation = 'vertical', fontsize = 15)\n",
    "\n",
    "# display the plot\n",
    "plt.show()"
   ]
  },
  {
   "cell_type": "code",
   "execution_count": null,
   "id": "4c0e441f",
   "metadata": {
    "id": "4c0e441f",
    "outputId": "67feafd0-204d-483f-c938-762ed06babaf"
   },
   "outputs": [
    {
     "data": {
      "image/png": "[encoded data removed]",
      "text/plain": [
       "<Figure size 1080x576 with 1 Axes>"
      ]
     },
     "metadata": {
      "needs_background": "light"
     },
     "output_type": "display_data"
    }
   ],
   "source": [
    "# set the plot size using figure()\n",
    "# pass width and height in inches to 'figsize' \n",
    "plt.figure(figsize = (15,8))\n",
    "\n",
    "# plot boxplot for 'Total_Compensation' using seaborn library\n",
    "sns.boxplot(df['Mileage'])\n",
    "\n",
    "# add plot and axis labels\n",
    "# set text size using 'fontsize'\n",
    "plt.title('Distribution of Mileage Variable', fontsize = 15)\n",
    "plt.xlabel('Mileage', fontsize = 15)\n",
    "\n",
    "# display the plot\n",
    "plt.show()"
   ]
  },
  {
   "cell_type": "code",
   "execution_count": null,
   "id": "829826d0",
   "metadata": {
    "id": "829826d0"
   },
   "outputs": [],
   "source": [
    "# no outliers"
   ]
  },
  {
   "cell_type": "markdown",
   "id": "7c3b3edf",
   "metadata": {
    "id": "7c3b3edf"
   },
   "source": [
    "<a id=\"null\"></a>\n",
    "## 2.3 Missing Value Analysis and Treatment"
   ]
  },
  {
   "cell_type": "code",
   "execution_count": null,
   "id": "62fc8187",
   "metadata": {
    "id": "62fc8187",
    "outputId": "1bfa3a38-e9b5-4dac-bdd1-529770bee7b5"
   },
   "outputs": [
    {
     "data": {
      "text/plain": [
       "Mileage    0\n",
       "Premium    0\n",
       "dtype: int64"
      ]
     },
     "execution_count": 14,
     "metadata": {},
     "output_type": "execute_result"
    }
   ],
   "source": [
    "df.isnull().sum()"
   ]
  },
  {
   "cell_type": "code",
   "execution_count": null,
   "id": "e0f410d2",
   "metadata": {
    "id": "e0f410d2"
   },
   "outputs": [],
   "source": [
    "# No missing value"
   ]
  },
  {
   "cell_type": "markdown",
   "id": "ad706491",
   "metadata": {
    "id": "ad706491"
   },
   "source": [
    "<a id=\"def\"></a>\n",
    "# 3. What is Regression Analysis?"
   ]
  },
  {
   "cell_type": "markdown",
   "id": "d191d288",
   "metadata": {
    "id": "d191d288"
   },
   "source": [
    "**For bivariate regression, consider 'Premium' as target variable and 'Mileage' as an independent variable from 'df'.**\n",
    "\n",
    "The test hypothesis for SLR is given as:\n",
    "<p style='text-indent:25em'> <strong> H<sub>o</sub>: Slope (beta coefficient of x) is equal to zero</strong> </p>\n",
    "<p style='text-indent:25em'> <strong> H<sub>1</sub>: Slope (beta coefficient of x) is not equal to zero</strong> </p>"
   ]
  },
  {
   "cell_type": "markdown",
   "id": "e01bb19d",
   "metadata": {
    "id": "e01bb19d"
   },
   "source": [
    "<a id=\"lsm\"></a>\n",
    "## 4.1 Ordinary Least Square Method (OLS)"
   ]
  },
  {
   "cell_type": "markdown",
   "id": "1f758c95",
   "metadata": {
    "id": "1f758c95"
   },
   "source": [
    "Build the simple linear regression model using the OLS method."
   ]
  },
  {
   "cell_type": "code",
   "execution_count": null,
   "id": "3d48400d",
   "metadata": {
    "id": "3d48400d"
   },
   "outputs": [],
   "source": [
    "x=df['Mileage']\n",
    "y=df['Premium']"
   ]
  },
  {
   "cell_type": "code",
   "execution_count": null,
   "id": "8e1075fe",
   "metadata": {
    "id": "8e1075fe"
   },
   "outputs": [],
   "source": [
    "xc=sm.add_constant(x)"
   ]
  },
  {
   "cell_type": "code",
   "execution_count": null,
   "id": "4b8395ad",
   "metadata": {
    "id": "4b8395ad",
    "outputId": "bc70dd87-606e-4cd9-e1f6-273c986af4f6"
   },
   "outputs": [
    {
     "data": {
      "text/html": [
       "<div>\n",
       "<style scoped>\n",
       "    .dataframe tbody tr th:only-of-type {\n",
       "        vertical-align: middle;\n",
       "    }\n",
       "\n",
       "    .dataframe tbody tr th {\n",
       "        vertical-align: top;\n",
       "    }\n",
       "\n",
       "    .dataframe thead th {\n",
       "        text-align: right;\n",
       "    }\n",
       "</style>\n",
       "<table border=\"1\" class=\"dataframe\">\n",
       "  <thead>\n",
       "    <tr style=\"text-align: right;\">\n",
       "      <th></th>\n",
       "      <th>const</th>\n",
       "      <th>Mileage</th>\n",
       "    </tr>\n",
       "  </thead>\n",
       "  <tbody>\n",
       "    <tr>\n",
       "      <th>0</th>\n",
       "      <td>1.000000</td>\n",
       "      <td>15.000000</td>\n",
       "    </tr>\n",
       "    <tr>\n",
       "      <th>1</th>\n",
       "      <td>1.000000</td>\n",
       "      <td>14.000000</td>\n",
       "    </tr>\n",
       "    <tr>\n",
       "      <th>2</th>\n",
       "      <td>1.000000</td>\n",
       "      <td>17.000000</td>\n",
       "    </tr>\n",
       "    <tr>\n",
       "      <th>3</th>\n",
       "      <td>1.000000</td>\n",
       "      <td>7.000000</td>\n",
       "    </tr>\n",
       "    <tr>\n",
       "      <th>4</th>\n",
       "      <td>1.000000</td>\n",
       "      <td>10.000000</td>\n",
       "    </tr>\n",
       "    <tr>\n",
       "      <th>5</th>\n",
       "      <td>1.000000</td>\n",
       "      <td>7.000000</td>\n",
       "    </tr>\n",
       "    <tr>\n",
       "      <th>6</th>\n",
       "      <td>1.000000</td>\n",
       "      <td>20.000000</td>\n",
       "    </tr>\n",
       "    <tr>\n",
       "      <th>7</th>\n",
       "      <td>1.000000</td>\n",
       "      <td>21.000000</td>\n",
       "    </tr>\n",
       "    <tr>\n",
       "      <th>8</th>\n",
       "      <td>1.000000</td>\n",
       "      <td>18.000000</td>\n",
       "    </tr>\n",
       "    <tr>\n",
       "      <th>9</th>\n",
       "      <td>1.000000</td>\n",
       "      <td>11.000000</td>\n",
       "    </tr>\n",
       "    <tr>\n",
       "      <th>10</th>\n",
       "      <td>1.000000</td>\n",
       "      <td>7.900000</td>\n",
       "    </tr>\n",
       "    <tr>\n",
       "      <th>11</th>\n",
       "      <td>1.000000</td>\n",
       "      <td>8.600000</td>\n",
       "    </tr>\n",
       "    <tr>\n",
       "      <th>12</th>\n",
       "      <td>1.000000</td>\n",
       "      <td>12.300000</td>\n",
       "    </tr>\n",
       "    <tr>\n",
       "      <th>13</th>\n",
       "      <td>1.000000</td>\n",
       "      <td>17.100000</td>\n",
       "    </tr>\n",
       "    <tr>\n",
       "      <th>14</th>\n",
       "      <td>1.000000</td>\n",
       "      <td>19.400000</td>\n",
       "    </tr>\n",
       "    <tr>\n",
       "      <th>15</th>\n",
       "      <td>1.000000</td>\n",
       "      <td>13.686667</td>\n",
       "    </tr>\n",
       "  </tbody>\n",
       "</table>\n",
       "</div>"
      ],
      "text/plain": [
       "      const   Mileage\n",
       "0  1.000000 15.000000\n",
       "1  1.000000 14.000000\n",
       "2  1.000000 17.000000\n",
       "3  1.000000  7.000000\n",
       "4  1.000000 10.000000\n",
       "5  1.000000  7.000000\n",
       "6  1.000000 20.000000\n",
       "7  1.000000 21.000000\n",
       "8  1.000000 18.000000\n",
       "9  1.000000 11.000000\n",
       "10 1.000000  7.900000\n",
       "11 1.000000  8.600000\n",
       "12 1.000000 12.300000\n",
       "13 1.000000 17.100000\n",
       "14 1.000000 19.400000\n",
       "15 1.000000 13.686667"
      ]
     },
     "execution_count": 18,
     "metadata": {},
     "output_type": "execute_result"
    }
   ],
   "source": [
    "xc"
   ]
  },
  {
   "cell_type": "code",
   "execution_count": null,
   "id": "b0dcb5dc",
   "metadata": {
    "id": "b0dcb5dc"
   },
   "outputs": [],
   "source": [
    "mod=sm.OLS(y,xc)\n",
    "ols_mod=mod.fit()"
   ]
  },
  {
   "cell_type": "code",
   "execution_count": null,
   "id": "fefe2898",
   "metadata": {
    "id": "fefe2898",
    "outputId": "86f37958-4f62-4f7b-bc92-d0e855545124"
   },
   "outputs": [
    {
     "data": {
      "text/html": [
       "<table class=\"simpletable\">\n",
       "<caption>OLS Regression Results</caption>\n",
       "<tr>\n",
       "  <th>Dep. Variable:</th>         <td>Premium</td>     <th>  R-squared:         </th> <td>   0.226</td>\n",
       "</tr>\n",
       "<tr>\n",
       "  <th>Model:</th>                   <td>OLS</td>       <th>  Adj. R-squared:    </th> <td>   0.170</td>\n",
       "</tr>\n",
       "<tr>\n",
       "  <th>Method:</th>             <td>Least Squares</td>  <th>  F-statistic:       </th> <td>   4.081</td>\n",
       "</tr>\n",
       "<tr>\n",
       "  <th>Date:</th>             <td>Sat, 11 Feb 2023</td> <th>  Prob (F-statistic):</th>  <td>0.0629</td> \n",
       "</tr>\n",
       "<tr>\n",
       "  <th>Time:</th>                 <td>16:43:57</td>     <th>  Log-Likelihood:    </th> <td> -96.370</td>\n",
       "</tr>\n",
       "<tr>\n",
       "  <th>No. Observations:</th>      <td>    16</td>      <th>  AIC:               </th> <td>   196.7</td>\n",
       "</tr>\n",
       "<tr>\n",
       "  <th>Df Residuals:</th>          <td>    14</td>      <th>  BIC:               </th> <td>   198.3</td>\n",
       "</tr>\n",
       "<tr>\n",
       "  <th>Df Model:</th>              <td>     1</td>      <th>                     </th>     <td> </td>   \n",
       "</tr>\n",
       "<tr>\n",
       "  <th>Covariance Type:</th>      <td>nonrobust</td>    <th>                     </th>     <td> </td>   \n",
       "</tr>\n",
       "</table>\n",
       "<table class=\"simpletable\">\n",
       "<tr>\n",
       "     <td></td>        <th>coef</th>     <th>std err</th>      <th>t</th>      <th>P>|t|</th>  <th>[0.025</th>    <th>0.975]</th>  \n",
       "</tr>\n",
       "<tr>\n",
       "  <th>const</th>   <td>  327.0860</td> <td>   83.586</td> <td>    3.913</td> <td> 0.002</td> <td>  147.813</td> <td>  506.359</td>\n",
       "</tr>\n",
       "<tr>\n",
       "  <th>Mileage</th> <td>  -11.6905</td> <td>    5.787</td> <td>   -2.020</td> <td> 0.063</td> <td>  -24.103</td> <td>    0.722</td>\n",
       "</tr>\n",
       "</table>\n",
       "<table class=\"simpletable\">\n",
       "<tr>\n",
       "  <th>Omnibus:</th>       <td> 3.821</td> <th>  Durbin-Watson:     </th> <td>   2.347</td>\n",
       "</tr>\n",
       "<tr>\n",
       "  <th>Prob(Omnibus):</th> <td> 0.148</td> <th>  Jarque-Bera (JB):  </th> <td>   2.057</td>\n",
       "</tr>\n",
       "<tr>\n",
       "  <th>Skew:</th>          <td> 0.869</td> <th>  Prob(JB):          </th> <td>   0.357</td>\n",
       "</tr>\n",
       "<tr>\n",
       "  <th>Kurtosis:</th>      <td> 3.261</td> <th>  Cond. No.          </th> <td>    45.4</td>\n",
       "</tr>\n",
       "</table><br/><br/>Notes:<br/>[1] Standard Errors assume that the covariance matrix of the errors is correctly specified."
      ],
      "text/plain": [
       "<class 'statsmodels.iolib.summary.Summary'>\n",
       "\"\"\"\n",
       "                            OLS Regression Results                            \n",
       "==============================================================================\n",
       "Dep. Variable:                Premium   R-squared:                       0.226\n",
       "Model:                            OLS   Adj. R-squared:                  0.170\n",
       "Method:                 Least Squares   F-statistic:                     4.081\n",
       "Date:                Sat, 11 Feb 2023   Prob (F-statistic):             0.0629\n",
       "Time:                        16:43:57   Log-Likelihood:                -96.370\n",
       "No. Observations:                  16   AIC:                             196.7\n",
       "Df Residuals:                      14   BIC:                             198.3\n",
       "Df Model:                           1                                         \n",
       "Covariance Type:            nonrobust                                         \n",
       "==============================================================================\n",
       "                 coef    std err          t      P>|t|      [0.025      0.975]\n",
       "------------------------------------------------------------------------------\n",
       "const        327.0860     83.586      3.913      0.002     147.813     506.359\n",
       "Mileage      -11.6905      5.787     -2.020      0.063     -24.103       0.722\n",
       "==============================================================================\n",
       "Omnibus:                        3.821   Durbin-Watson:                   2.347\n",
       "Prob(Omnibus):                  0.148   Jarque-Bera (JB):                2.057\n",
       "Skew:                           0.869   Prob(JB):                        0.357\n",
       "Kurtosis:                       3.261   Cond. No.                         45.4\n",
       "==============================================================================\n",
       "\n",
       "Notes:\n",
       "[1] Standard Errors assume that the covariance matrix of the errors is correctly specified.\n",
       "\"\"\""
      ]
     },
     "execution_count": 20,
     "metadata": {},
     "output_type": "execute_result"
    }
   ],
   "source": [
    "ols_mod.summary()"
   ]
  },
  {
   "cell_type": "markdown",
   "id": "cbd7a68b",
   "metadata": {
    "id": "cbd7a68b"
   },
   "source": [
    "**Example: ypredicted = 327.0860 - 11.6905 *17**\n",
    "                    = Rs 128.3475 "
   ]
  },
  {
   "cell_type": "code",
   "execution_count": null,
   "id": "f7c48bd9",
   "metadata": {
    "id": "f7c48bd9",
    "outputId": "cd5adc09-d01a-44a9-ce5b-8facc7f8c931"
   },
   "outputs": [
    {
     "data": {
      "text/plain": [
       "0   151.728472\n",
       "1   163.418976\n",
       "2   128.347466\n",
       "3   245.252498\n",
       "4   210.180989\n",
       "dtype: float64"
      ]
     },
     "execution_count": 21,
     "metadata": {},
     "output_type": "execute_result"
    }
   ],
   "source": [
    "# predict the Premium using 'predict()' \n",
    "y_slr_pred = ols_mod.predict(xc)\n",
    "\n",
    "# display the first five predicted values \n",
    "y_slr_pred.head()"
   ]
  },
  {
   "cell_type": "markdown",
   "id": "f616c4fe",
   "metadata": {
    "id": "f616c4fe"
   },
   "source": [
    "<a id=\"mv\"></a>\n",
    "## 4.2 Measures of Variation"
   ]
  },
  {
   "cell_type": "code",
   "execution_count": null,
   "id": "6fb771e7",
   "metadata": {
    "id": "6fb771e7"
   },
   "outputs": [],
   "source": [
    "# Variance Measure\n",
    "# 1. SST = Sum of square Total       sum(ymean - yact)^2 - Total Variance\n",
    "# 2. SSR = Sum of Square Regression  sum(ymean-ypred)^2  - Explained Variance\n",
    "# 3. SSE = Sum of Square Error       sum(ypred-yact)^2   - Unexplained Variance"
   ]
  },
  {
   "cell_type": "code",
   "execution_count": null,
   "id": "6dc2e07e",
   "metadata": {
    "id": "6dc2e07e",
    "outputId": "e739fd0f-ee89-40ef-a311-d7dfafc8c8df"
   },
   "outputs": [
    {
     "data": {
      "text/plain": [
       "<matplotlib.lines.Line2D at 0x20640f96af0>"
      ]
     },
     "execution_count": 23,
     "metadata": {},
     "output_type": "execute_result"
    },
    {
     "data": {
      "image/png": "[encoded data removed]",
      "text/plain": [
       "<Figure size 432x288 with 1 Axes>"
      ]
     },
     "metadata": {
      "needs_background": "light"
     },
     "output_type": "display_data"
    }
   ],
   "source": [
    "plt.plot(df['Mileage'],df['Premium'],'*')\n",
    "plt.plot(df['Mileage'],-11.6905*df['Mileage']+327.0860)\n",
    "plt.axhline(df['Premium'].mean(), color='r')"
   ]
  },
  {
   "cell_type": "markdown",
   "id": "dc047356",
   "metadata": {
    "id": "dc047356"
   },
   "source": [
    "<a id=\"ssr\"></a>\n",
    "### 4.2.1  Sum of Squared Residuals (SSR)"
   ]
  },
  {
   "cell_type": "code",
   "execution_count": null,
   "id": "c737890a",
   "metadata": {
    "id": "c737890a",
    "outputId": "f55bb692-3fe6-4f4f-8826-54e7721b5f62"
   },
   "outputs": [
    {
     "data": {
      "text/plain": [
       "46543.24379450413"
      ]
     },
     "execution_count": 24,
     "metadata": {},
     "output_type": "execute_result"
    }
   ],
   "source": [
    "ssr=np.sum((y.mean()-y_slr_pred)**2)\n",
    "ssr"
   ]
  },
  {
   "cell_type": "markdown",
   "id": "b1f6cb98",
   "metadata": {
    "id": "b1f6cb98"
   },
   "source": [
    "<a id=\"sse\"></a>\n",
    "### 4.2.2 Sum of Squared Error (SSE)"
   ]
  },
  {
   "cell_type": "code",
   "execution_count": null,
   "id": "52b09a64",
   "metadata": {
    "id": "52b09a64",
    "outputId": "7901eaff-5061-4684-cb21-cda37ed89c53"
   },
   "outputs": [
    {
     "data": {
      "text/plain": [
       "159678.96224549584"
      ]
     },
     "execution_count": 25,
     "metadata": {},
     "output_type": "execute_result"
    }
   ],
   "source": [
    "sse=np.sum((y-y_slr_pred)**2)\n",
    "sse"
   ]
  },
  {
   "cell_type": "markdown",
   "id": "90586fb2",
   "metadata": {
    "id": "90586fb2"
   },
   "source": [
    "<a id=\"sst\"></a>\n",
    "### 4.2.3  Sum of Squared Total (SST)"
   ]
  },
  {
   "cell_type": "code",
   "execution_count": null,
   "id": "51e2a166",
   "metadata": {
    "id": "51e2a166",
    "outputId": "6917d688-193b-4dad-d248-7ba715bbc2a6"
   },
   "outputs": [
    {
     "data": {
      "text/plain": [
       "206222.20604000002"
      ]
     },
     "execution_count": 26,
     "metadata": {},
     "output_type": "execute_result"
    }
   ],
   "source": [
    "sst=np.sum((y.mean()-y)**2)\n",
    "sst"
   ]
  },
  {
   "cell_type": "code",
   "execution_count": null,
   "id": "d47defbd",
   "metadata": {
    "id": "d47defbd",
    "outputId": "35fd538e-721a-446a-b77d-7aa7a564a97d"
   },
   "outputs": [
    {
     "data": {
      "text/plain": [
       "206222.20603999996"
      ]
     },
     "execution_count": 27,
     "metadata": {},
     "output_type": "execute_result"
    }
   ],
   "source": [
    "ssr+sse"
   ]
  },
  {
   "cell_type": "markdown",
   "id": "f3b88892",
   "metadata": {
    "id": "f3b88892"
   },
   "source": [
    "<a id=\"r2\"></a>\n",
    "### 4.2.4 Coefficient of Determination (R-Squared)"
   ]
  },
  {
   "cell_type": "code",
   "execution_count": null,
   "id": "24d5b0ee",
   "metadata": {
    "id": "24d5b0ee",
    "outputId": "350441e4-f97d-453e-b7b1-9cf85bc5f27d"
   },
   "outputs": [
    {
     "data": {
      "text/plain": [
       "0.22569462662753403"
      ]
     },
     "execution_count": 28,
     "metadata": {},
     "output_type": "execute_result"
    }
   ],
   "source": [
    "# calculate R-Squared on  dataset\n",
    "# use 'rsquared' method from statsmodel\n",
    "r_sq = ols_mod.rsquared\n",
    "\n",
    "# print the R-squared value\n",
    "r_sq"
   ]
  },
  {
   "cell_type": "code",
   "execution_count": null,
   "id": "01a54e7a",
   "metadata": {
    "id": "01a54e7a",
    "outputId": "1b505fd5-fe9c-45e9-ba78-413dc4e92c23"
   },
   "outputs": [
    {
     "data": {
      "text/plain": [
       "0.2256946266275337"
      ]
     },
     "execution_count": 29,
     "metadata": {},
     "output_type": "execute_result"
    }
   ],
   "source": [
    "# calculate R-Squared on train dataset using the formula\n",
    "r_sq = ssr/sst\n",
    "\n",
    "# print the R-squared value\n",
    "r_sq"
   ]
  },
  {
   "cell_type": "markdown",
   "id": "b4e3ebdd",
   "metadata": {
    "id": "b4e3ebdd"
   },
   "source": [
    "<a id=\"see\"></a>\n",
    "### 4.2.5 Standard Error of Estimate (SEE)"
   ]
  },
  {
   "cell_type": "code",
   "execution_count": null,
   "id": "5417a6a8",
   "metadata": {
    "id": "5417a6a8",
    "outputId": "a847a5dc-9e6a-4551-8460-6d0f95a08d33"
   },
   "outputs": [
    {
     "data": {
      "text/plain": [
       "5.7871496726011"
      ]
     },
     "execution_count": 43,
     "metadata": {},
     "output_type": "execute_result"
    }
   ],
   "source": [
    "mse=sse/(len(df)-2)\n",
    "rmse=np.sqrt(mse)\n",
    "std_err= rmse / np.sqrt(np.sum((x-x.mean())**2))\n",
    "std_err"
   ]
  },
  {
   "cell_type": "code",
   "execution_count": null,
   "id": "8f583575",
   "metadata": {
    "id": "8f583575",
    "outputId": "73986d53-98ae-4ebc-f5b7-7d72ff4171aa"
   },
   "outputs": [
    {
     "data": {
      "image/png": "[encoded data removed]",
      "text/plain": [
       "<Figure size 1080x576 with 1 Axes>"
      ]
     },
     "metadata": {
      "needs_background": "light"
     },
     "output_type": "display_data"
    }
   ],
   "source": [
    "# set the plot size using figure()\n",
    "# pass width and height in inches to 'figsize' \n",
    "plt.figure(figsize = (15,8))\n",
    "\n",
    "# plot a regression plot\n",
    "# independent variable on x-axis and dependent variable on y-axis\n",
    "sns.regplot(x = xc['Mileage'], y = y)\n",
    "\n",
    "# add axes and plot labels\n",
    "# set text size using 'fontsize'\n",
    "plt.title('Variability Around the Predicted Line', fontsize = 15)\n",
    "plt.xlabel('Mileage', fontsize = 15)\n",
    "plt.ylabel('Premium', fontsize = 15)\n",
    "\n",
    "# display the plot\n",
    "plt.show()"
   ]
  },
  {
   "cell_type": "markdown",
   "id": "9add1165",
   "metadata": {
    "id": "9add1165"
   },
   "source": [
    "<a id=\"inf\"></a>\n",
    "## 4.3 Inferences about Slope and Intercept"
   ]
  },
  {
   "cell_type": "code",
   "execution_count": null,
   "id": "4a50aa97",
   "metadata": {
    "id": "4a50aa97",
    "outputId": "41538c6c-5fde-4d08-d25f-1550344a7438"
   },
   "outputs": [
    {
     "name": "stdout",
     "output_type": "stream",
     "text": [
      "                            OLS Regression Results                            \n",
      "==============================================================================\n",
      "Dep. Variable:                Premium   R-squared:                       0.226\n",
      "Model:                            OLS   Adj. R-squared:                  0.170\n",
      "Method:                 Least Squares   F-statistic:                     4.081\n",
      "Date:                Sat, 11 Feb 2023   Prob (F-statistic):             0.0629\n",
      "Time:                        16:43:58   Log-Likelihood:                -96.370\n",
      "No. Observations:                  16   AIC:                             196.7\n",
      "Df Residuals:                      14   BIC:                             198.3\n",
      "Df Model:                           1                                         \n",
      "Covariance Type:            nonrobust                                         \n",
      "==============================================================================\n",
      "                 coef    std err          t      P>|t|      [0.025      0.975]\n",
      "------------------------------------------------------------------------------\n",
      "const        327.0860     83.586      3.913      0.002     147.813     506.359\n",
      "Mileage      -11.6905      5.787     -2.020      0.063     -24.103       0.722\n",
      "==============================================================================\n",
      "Omnibus:                        3.821   Durbin-Watson:                   2.347\n",
      "Prob(Omnibus):                  0.148   Jarque-Bera (JB):                2.057\n",
      "Skew:                           0.869   Prob(JB):                        0.357\n",
      "Kurtosis:                       3.261   Cond. No.                         45.4\n",
      "==============================================================================\n",
      "\n",
      "Notes:\n",
      "[1] Standard Errors assume that the covariance matrix of the errors is correctly specified.\n"
     ]
    }
   ],
   "source": [
    "# print the model summary\n",
    "print(ols_mod.summary())"
   ]
  },
  {
   "cell_type": "markdown",
   "id": "2515d402",
   "metadata": {
    "id": "2515d402"
   },
   "source": [
    "<a id=\"inter\"></a>\n",
    "### 4.3.1 Interpretation of Slope and Intercept"
   ]
  },
  {
   "cell_type": "markdown",
   "id": "913fb2e1",
   "metadata": {
    "id": "913fb2e1"
   },
   "source": [
    "The output of the regression model returns the value of slope (β1) and Intercept (β0).\n",
    "\n",
    "Intercept (β0) = 327.0860, indicates that if the Mileage is zero, then the average Premium is 327.0860.\n",
    "\n",
    "The slope of 'Mileage' (β1) = -11.6905, indicates that by increasing the Mileage percentage by 1%, the average Premium increases by -11.6905.\n",
    "\n",
    "Thus, the equation of the line given by the model is:\n",
    "\n",
    "Total_Compensation = 327.0860 + (-11.6905*(Mileage))"
   ]
  },
  {
   "cell_type": "markdown",
   "id": "32168a25",
   "metadata": {
    "id": "32168a25"
   },
   "source": [
    "<a id=\"t_test\"></a>\n",
    "### 4.3.2 The t-test for Slope and Intercept"
   ]
  },
  {
   "cell_type": "markdown",
   "id": "ddbd72d8",
   "metadata": {
    "id": "ddbd72d8"
   },
   "source": [
    "The coefficient of regression captures the presence of a linear relationship between the independent and dependent variables. If the coefficient value is zero, we can infer that there is no linear relationship between the two variables which is statistically important. It is calculated as:\n",
    "<p style='text-indent:28em'> <strong> t_value = coefficient / Standard_error </strong>  </p>\n",
    "\n",
    "The test hypothesis for the t-test is given as:\n",
    "<p style='text-indent:35em'> <strong> H<sub>o</sub>: β<sub>1</sub> = 0 </strong> </p>\n",
    "<p style='text-indent:35em'> <strong> H<sub>1</sub>: β<sub>1</sub> ≠ 0 </strong> </p>\n",
    "                                    \n",
    "Now, let us see how to calculate the t_test value for slope and intercept."
   ]
  },
  {
   "cell_type": "code",
   "execution_count": null,
   "id": "ccc7ed6d",
   "metadata": {
    "id": "ccc7ed6d",
    "outputId": "04d220ac-7160-40ba-ba96-76cf7a081d87"
   },
   "outputs": [
    {
     "data": {
      "text/plain": [
       "3.9131819572574518"
      ]
     },
     "execution_count": 33,
     "metadata": {},
     "output_type": "execute_result"
    }
   ],
   "source": [
    "# perform t_test for intercept\n",
    "# 'params[0]' returns the value of intercept \n",
    "# 'bse[0]' returns the standard error of intercept\n",
    "t_intercept = ols_mod.params[0] / ols_mod.bse[0]\n",
    "\n",
    "# print the value of t-statistic\n",
    "t_intercept"
   ]
  },
  {
   "cell_type": "code",
   "execution_count": null,
   "id": "efafa712",
   "metadata": {
    "id": "efafa712",
    "outputId": "bdadf6a7-17f3-4448-afe3-be3aca0e00aa"
   },
   "outputs": [
    {
     "data": {
      "text/plain": [
       "-2.0200796377682786"
      ]
     },
     "execution_count": 34,
     "metadata": {},
     "output_type": "execute_result"
    }
   ],
   "source": [
    "# t_test for slope\n",
    "# 'params[1]' returns the value of slope\n",
    "# 'bse[1]' returns the standard error of slope\n",
    "t_slope = ols_mod.params[1] / ols_mod.bse[1]\n",
    "\n",
    "# print the value of t-statistic\n",
    "t_slope"
   ]
  },
  {
   "cell_type": "code",
   "execution_count": null,
   "id": "e2215330",
   "metadata": {
    "id": "e2215330",
    "outputId": "af3e2ab7-cf34-418d-fbea-3b0cac7e4e7b"
   },
   "outputs": [
    {
     "data": {
      "text/plain": [
       "0.0015607411857769837"
      ]
     },
     "execution_count": 35,
     "metadata": {},
     "output_type": "execute_result"
    }
   ],
   "source": [
    "# calculate p-value for intercept\n",
    "# use 'sf' (Survival function) from t-distribution to calculate the corresponding p-value\n",
    "\n",
    "# pass degrees of freedom and t-statistic value for intercept\n",
    "# degrees of freedom = n - 1 = 15 - 1 = 14\n",
    "pval = stats.t.sf(np.abs(t_intercept), 14)*2 \n",
    "pval"
   ]
  },
  {
   "cell_type": "code",
   "execution_count": null,
   "id": "c5a615b0",
   "metadata": {
    "id": "c5a615b0",
    "outputId": "d20c28a7-c859-4220-ebc9-d94f7a243679"
   },
   "outputs": [
    {
     "data": {
      "text/plain": [
       "0.06293775964850629"
      ]
     },
     "execution_count": 36,
     "metadata": {},
     "output_type": "execute_result"
    }
   ],
   "source": [
    "# calculate p-value for slope\n",
    "# use 'sf' (Survival function) from t-distribution to calculate the corresponding p-value\n",
    "\n",
    "# pass degrees of freedom and t-statistic value for slope\n",
    "# degrees of freedom = n - 1 = 15 - 1 = 14\n",
    "pval = stats.t.sf(np.abs(t_slope), 14)*2 \n",
    "pval"
   ]
  },
  {
   "cell_type": "markdown",
   "id": "98dcf022",
   "metadata": {
    "id": "98dcf022"
   },
   "source": [
    "<a id=\"ci\"></a>\n",
    "### 4.3.3 Confidence Interval for Slope and Intercept"
   ]
  },
  {
   "cell_type": "code",
   "execution_count": null,
   "id": "d0fdb843",
   "metadata": {
    "id": "d0fdb843"
   },
   "outputs": [],
   "source": [
    "from scipy import stats as stats\n",
    "t_table_value= stats.t.ppf(0.05/2,len(df)-2)"
   ]
  },
  {
   "cell_type": "code",
   "execution_count": null,
   "id": "c82e1672",
   "metadata": {
    "id": "c82e1672",
    "outputId": "c5c91392-5426-4bcd-bf7b-03779c755f7f"
   },
   "outputs": [
    {
     "data": {
      "text/plain": [
       "-2.1447866879169277"
      ]
     },
     "execution_count": 38,
     "metadata": {},
     "output_type": "execute_result"
    }
   ],
   "source": [
    "t_table_value"
   ]
  },
  {
   "cell_type": "code",
   "execution_count": null,
   "id": "873344c5",
   "metadata": {
    "id": "873344c5",
    "outputId": "c826f797-f1e8-44a6-9264-827039251e25"
   },
   "outputs": [
    {
     "name": "stdout",
     "output_type": "stream",
     "text": [
      "CI for intercept: [506.35949953069144, 147.81254179468183]\n"
     ]
    }
   ],
   "source": [
    "# CI for intercept\n",
    "# create a tuple using the above formula\n",
    "# here, t_table_value = 1.9622\n",
    "CI_inter_min, CI_inter_max = ols_mod.params[0] - (t_table_value*ols_mod.bse[0]), ols_mod.params[0] + (t_table_value*ols_mod.bse[0])\n",
    "\n",
    "# print the confidence interval for intercept \n",
    "print('CI for intercept:', [CI_inter_min , CI_inter_max])"
   ]
  },
  {
   "cell_type": "code",
   "execution_count": null,
   "id": "f53ac058",
   "metadata": {
    "id": "f53ac058",
    "outputId": "8365092a-b222-4a1a-d69b-2ec9a8f18114"
   },
   "outputs": [
    {
     "name": "stdout",
     "output_type": "stream",
     "text": [
      "CI for slope: [0.7216983644388044, -24.102704793116487]\n"
     ]
    }
   ],
   "source": [
    "# CI for slope\n",
    "# create a tuple using the above formula\n",
    "# here, t_table_value = 1.9622\n",
    "CI_slope_min, CI_slope_max = ols_mod.params[1] - (t_table_value*ols_mod.bse[1]), ols_mod.params[1] + (t_table_value*ols_mod.bse[1])\n",
    "\n",
    "# print the confidence interval for slope\n",
    "print('CI for slope:', [CI_slope_min,CI_slope_max])"
   ]
  },
  {
   "cell_type": "markdown",
   "id": "23d95578",
   "metadata": {
    "id": "23d95578"
   },
   "source": [
    "<a id=\"anova\"></a>\n",
    "### 4.3.4 ANOVA for SLR"
   ]
  },
  {
   "cell_type": "markdown",
   "id": "dd17a597",
   "metadata": {
    "id": "dd17a597"
   },
   "source": [
    "ANOVA (Analysis of Variance) is used to test the significance of the linear regression model. The test hypothesis for ANOVA is given as:\n",
    "<p style='text-indent:25em'> <strong> H<sub>o</sub>: β<sub>1</sub> = 0 </strong> (i.e. regression model is not significant) </p>\n",
    "<p style='text-indent:25em'> <strong> H<sub>1</sub>: β<sub>1</sub> ≠ 0 </strong> (i.e. regression model is significant) </p>"
   ]
  },
  {
   "cell_type": "code",
   "execution_count": null,
   "id": "1570c5a5",
   "metadata": {
    "id": "1570c5a5"
   },
   "outputs": [],
   "source": [
    "# build a SLR model using 'ols' method\n",
    "# pass the regression model to the parameter 'formula'\n",
    "# concatenate the training dataset and pass to the parameter 'data' to build the model on training dataset\n",
    "# 'axis=1' concats the data column-wise\n",
    "# 'fit()' is used to fit the model\n",
    "slr_ols = ols(formula = 'Premium ~ Mileage', data = pd.concat([xc, y], axis=1)).fit()\n",
    "# this model returns the same result as of model built using 'OLS' "
   ]
  },
  {
   "cell_type": "code",
   "execution_count": null,
   "id": "bb1d3a9a",
   "metadata": {
    "id": "bb1d3a9a",
    "outputId": "c1bd8fa0-7e4b-4044-9156-5bb298ee51de"
   },
   "outputs": [
    {
     "data": {
      "text/html": [
       "<div>\n",
       "<style scoped>\n",
       "    .dataframe tbody tr th:only-of-type {\n",
       "        vertical-align: middle;\n",
       "    }\n",
       "\n",
       "    .dataframe tbody tr th {\n",
       "        vertical-align: top;\n",
       "    }\n",
       "\n",
       "    .dataframe thead th {\n",
       "        text-align: right;\n",
       "    }\n",
       "</style>\n",
       "<table border=\"1\" class=\"dataframe\">\n",
       "  <thead>\n",
       "    <tr style=\"text-align: right;\">\n",
       "      <th></th>\n",
       "      <th>df</th>\n",
       "      <th>sum_sq</th>\n",
       "      <th>mean_sq</th>\n",
       "      <th>F</th>\n",
       "      <th>PR(&gt;F)</th>\n",
       "    </tr>\n",
       "  </thead>\n",
       "  <tbody>\n",
       "    <tr>\n",
       "      <th>Mileage</th>\n",
       "      <td>1.000000</td>\n",
       "      <td>46543.243795</td>\n",
       "      <td>46543.243795</td>\n",
       "      <td>4.080722</td>\n",
       "      <td>0.062938</td>\n",
       "    </tr>\n",
       "    <tr>\n",
       "      <th>Residual</th>\n",
       "      <td>14.000000</td>\n",
       "      <td>159678.962245</td>\n",
       "      <td>11405.640160</td>\n",
       "      <td>NaN</td>\n",
       "      <td>NaN</td>\n",
       "    </tr>\n",
       "  </tbody>\n",
       "</table>\n",
       "</div>"
      ],
      "text/plain": [
       "                df        sum_sq      mean_sq        F   PR(>F)\n",
       "Mileage   1.000000  46543.243795 46543.243795 4.080722 0.062938\n",
       "Residual 14.000000 159678.962245 11405.640160      NaN      NaN"
      ]
     },
     "execution_count": 42,
     "metadata": {},
     "output_type": "execute_result"
    }
   ],
   "source": [
    "# perform ANOVA on the above model using 'anova_lm'\n",
    "# pass the linear model to 'anova_lm'\n",
    "anova_slr = anova_lm(slr_ols)\n",
    "\n",
    "# print the ANOVA results\n",
    "anova_slr"
   ]
  }
 ],
 "metadata": {
  "colab": {
   "provenance": []
  },
  "kernelspec": {
   "display_name": "Python 3 (ipykernel)",
   "language": "python",
   "name": "python3"
  },
  "language_info": {
   "codemirror_mode": {
    "name": "ipython",
    "version": 3
   },
   "file_extension": ".py",
   "mimetype": "text/x-python",
   "name": "python",
   "nbconvert_exporter": "python",
   "pygments_lexer": "ipython3",
   "version": "3.11.5"
  }
 },
 "nbformat": 4,
 "nbformat_minor": 5
}
