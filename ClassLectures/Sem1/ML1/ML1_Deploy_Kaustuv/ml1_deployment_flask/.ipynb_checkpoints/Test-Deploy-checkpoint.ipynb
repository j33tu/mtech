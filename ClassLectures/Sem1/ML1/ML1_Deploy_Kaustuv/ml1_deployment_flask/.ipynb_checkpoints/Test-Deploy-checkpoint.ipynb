{
 "cells": [
  {
   "cell_type": "markdown",
   "metadata": {},
   "source": [
    "## Target perdition using pickle model"
   ]
  },
  {
   "cell_type": "code",
   "execution_count": null,
   "metadata": {},
   "outputs": [],
   "source": [
    "import pandas as pd\n",
    "import numpy as np\n",
    "import pickle\n",
    "import joblib"
   ]
  },
  {
   "cell_type": "markdown",
   "metadata": {},
   "source": [
    "## Create single record Test dataframe"
   ]
  },
  {
   "cell_type": "code",
   "execution_count": null,
   "metadata": {},
   "outputs": [],
   "source": [
    "# A general user detail input \n",
    "married='Yes'\n",
    "education='Graduate'\n",
    "applicant_income=1500\n",
    "loan_amount=150\n",
    "credit_history=1"
   ]
  },
  {
   "cell_type": "code",
   "execution_count": null,
   "metadata": {},
   "outputs": [],
   "source": [
    "data = {'Married': ['Yes'], \n",
    "        'Education': ['Graduate'], \n",
    "        'ApplicantIncome': [1500],\n",
    "       'LoanAmount' : [150],\n",
    "       'Credit_History': [1]}\n",
    "\n",
    "df = pd.DataFrame(data)\n",
    "\n",
    "df = df.astype({'Married': object, \n",
    "                'Education': object, \n",
    "                'ApplicantIncome': 'Int64',\n",
    "                 'LoanAmount': 'Int64',\n",
    "                 'Credit_History': 'Int64',\n",
    "               })\n",
    "df"
   ]
  },
  {
   "cell_type": "markdown",
   "metadata": {},
   "source": [
    "## Fetch Model from pickle file"
   ]
  },
  {
   "cell_type": "code",
   "execution_count": null,
   "metadata": {},
   "outputs": [],
   "source": [
    "#my_model=pickle.load(open('full_pipeline.pkl','rb'))\n",
    "my_model = joblib.load('full_pipeline.pkl') "
   ]
  },
  {
   "cell_type": "markdown",
   "metadata": {},
   "source": [
    "## Predict target"
   ]
  },
  {
   "cell_type": "code",
   "execution_count": null,
   "metadata": {},
   "outputs": [],
   "source": [
    "my_model.predict(df)[0]"
   ]
  },
  {
   "cell_type": "markdown",
   "metadata": {},
   "source": [
    "## Flask Web APP (on localhost)"
   ]
  },
  {
   "cell_type": "code",
   "execution_count": null,
   "metadata": {},
   "outputs": [],
   "source": [
    " "
   ]
  },
  {
   "cell_type": "code",
   "execution_count": null,
   "metadata": {},
   "outputs": [],
   "source": []
  }
 ],
 "metadata": {
  "authors": [
   {
    "Kaustuv Kunal": "Author1"
   }
  ],
  "kernelspec": {
   "display_name": "Python 3 (ipykernel)",
   "language": "python",
   "name": "python3"
  },
  "language_info": {
   "codemirror_mode": {
    "name": "ipython",
    "version": 3
   },
   "file_extension": ".py",
   "mimetype": "text/x-python",
   "name": "python",
   "nbconvert_exporter": "python",
   "pygments_lexer": "ipython3",
   "version": "3.10.7"
  },
  "title": "Test Model Deploy"
 },
 "nbformat": 4,
 "nbformat_minor": 4
}
