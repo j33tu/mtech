{
 "cells": [
  {
   "cell_type": "code",
   "execution_count": 13,
   "id": "83930240",
   "metadata": {},
   "outputs": [],
   "source": [
    "import pandas as pd\n",
    "import numpy as np\n",
    "import scipy.stats\n",
    "import seaborn as sns\n",
    "from sklearn.linear_model import LinearRegression\n",
    "from sklearn.metrics import r2_score\n",
    "import statsmodels.api as sm\n",
    "from sklearn.model_selection import train_test_split"
   ]
  },
  {
   "cell_type": "code",
   "execution_count": 9,
   "id": "662ef770",
   "metadata": {},
   "outputs": [
    {
     "data": {
      "text/html": [
       "<div>\n",
       "<style scoped>\n",
       "    .dataframe tbody tr th:only-of-type {\n",
       "        vertical-align: middle;\n",
       "    }\n",
       "\n",
       "    .dataframe tbody tr th {\n",
       "        vertical-align: top;\n",
       "    }\n",
       "\n",
       "    .dataframe thead th {\n",
       "        text-align: right;\n",
       "    }\n",
       "</style>\n",
       "<table border=\"1\" class=\"dataframe\">\n",
       "  <thead>\n",
       "    <tr style=\"text-align: right;\">\n",
       "      <th></th>\n",
       "      <th>TV</th>\n",
       "      <th>Radio</th>\n",
       "      <th>Newspaper</th>\n",
       "      <th>Sales</th>\n",
       "    </tr>\n",
       "  </thead>\n",
       "  <tbody>\n",
       "    <tr>\n",
       "      <th>0</th>\n",
       "      <td>230.1</td>\n",
       "      <td>37.8</td>\n",
       "      <td>69.2</td>\n",
       "      <td>22.1</td>\n",
       "    </tr>\n",
       "    <tr>\n",
       "      <th>1</th>\n",
       "      <td>44.5</td>\n",
       "      <td>39.3</td>\n",
       "      <td>45.1</td>\n",
       "      <td>10.4</td>\n",
       "    </tr>\n",
       "    <tr>\n",
       "      <th>2</th>\n",
       "      <td>17.2</td>\n",
       "      <td>45.9</td>\n",
       "      <td>69.3</td>\n",
       "      <td>12.0</td>\n",
       "    </tr>\n",
       "    <tr>\n",
       "      <th>3</th>\n",
       "      <td>151.5</td>\n",
       "      <td>41.3</td>\n",
       "      <td>58.5</td>\n",
       "      <td>16.5</td>\n",
       "    </tr>\n",
       "    <tr>\n",
       "      <th>4</th>\n",
       "      <td>180.8</td>\n",
       "      <td>10.8</td>\n",
       "      <td>58.4</td>\n",
       "      <td>17.9</td>\n",
       "    </tr>\n",
       "  </tbody>\n",
       "</table>\n",
       "</div>"
      ],
      "text/plain": [
       "      TV  Radio  Newspaper  Sales\n",
       "0  230.1   37.8       69.2   22.1\n",
       "1   44.5   39.3       45.1   10.4\n",
       "2   17.2   45.9       69.3   12.0\n",
       "3  151.5   41.3       58.5   16.5\n",
       "4  180.8   10.8       58.4   17.9"
      ]
     },
     "execution_count": 9,
     "metadata": {},
     "output_type": "execute_result"
    }
   ],
   "source": [
    "data = pd.read_csv(\"advertising.csv\")\n",
    "data.head()"
   ]
  },
  {
   "cell_type": "code",
   "execution_count": null,
   "id": "4e31afc5",
   "metadata": {},
   "outputs": [],
   "source": []
  },
  {
   "cell_type": "code",
   "execution_count": 12,
   "id": "5f231ff9",
   "metadata": {},
   "outputs": [],
   "source": [
    "x=data['TV']\n",
    "y=data['Sales']\n",
    "xc=sm.add_constant(x)"
   ]
  },
  {
   "cell_type": "code",
   "execution_count": 48,
   "id": "e8e65a54",
   "metadata": {},
   "outputs": [],
   "source": [
    "x_train,x_test,y_train,y_test=train_test_split(x,y,test_size=.2,random_state=10)"
   ]
  },
  {
   "cell_type": "code",
   "execution_count": 16,
   "id": "addaea13",
   "metadata": {},
   "outputs": [],
   "source": [
    "#$#Simple linear regression"
   ]
  },
  {
   "cell_type": "code",
   "execution_count": 49,
   "id": "3a95f96a",
   "metadata": {},
   "outputs": [
    {
     "name": "stdout",
     "output_type": "stream",
     "text": [
      "                                 OLS Regression Results                                \n",
      "=======================================================================================\n",
      "Dep. Variable:                  Sales   R-squared (uncentered):                   0.934\n",
      "Model:                            OLS   Adj. R-squared (uncentered):              0.933\n",
      "Method:                 Least Squares   F-statistic:                              2239.\n",
      "Date:                Fri, 29 Mar 2024   Prob (F-statistic):                    1.34e-95\n",
      "Time:                        15:56:58   Log-Likelihood:                         -450.91\n",
      "No. Observations:                 160   AIC:                                      903.8\n",
      "Df Residuals:                     159   BIC:                                      906.9\n",
      "Df Model:                           1                                                  \n",
      "Covariance Type:            nonrobust                                                  \n",
      "==============================================================================\n",
      "                 coef    std err          t      P>|t|      [0.025      0.975]\n",
      "------------------------------------------------------------------------------\n",
      "TV             0.0914      0.002     47.318      0.000       0.088       0.095\n",
      "==============================================================================\n",
      "Omnibus:                        7.754   Durbin-Watson:                   1.818\n",
      "Prob(Omnibus):                  0.021   Jarque-Bera (JB):                7.847\n",
      "Skew:                          -0.507   Prob(JB):                       0.0198\n",
      "Kurtosis:                       2.614   Cond. No.                         1.00\n",
      "==============================================================================\n",
      "\n",
      "Notes:\n",
      "[1] R² is computed without centering (uncentered) since the model does not contain a constant.\n",
      "[2] Standard Errors assume that the covariance matrix of the errors is correctly specified.\n"
     ]
    }
   ],
   "source": [
    "model12=sm.OLS(y_train,x_train)\n",
    "model12=model12.fit()\n",
    "print(model12.summary())"
   ]
  },
  {
   "cell_type": "code",
   "execution_count": 33,
   "id": "ad59452e",
   "metadata": {},
   "outputs": [
    {
     "data": {
      "text/plain": [
       "TV    0.001931\n",
       "dtype: float64"
      ]
     },
     "execution_count": 33,
     "metadata": {},
     "output_type": "execute_result"
    }
   ],
   "source": [
    "model12.bse"
   ]
  },
  {
   "cell_type": "code",
   "execution_count": 35,
   "id": "58f59f51",
   "metadata": {},
   "outputs": [
    {
     "data": {
      "text/plain": [
       "<Axes: xlabel='TV', ylabel='Sales'>"
      ]
     },
     "execution_count": 35,
     "metadata": {},
     "output_type": "execute_result"
    },
    {
     "data": {
      "image/png": "[encoded data removed]",
      "text/plain": [
       "<Figure size 640x480 with 1 Axes>"
      ]
     },
     "metadata": {},
     "output_type": "display_data"
    }
   ],
   "source": [
    "sns.regplot(x=x,y=y)"
   ]
  },
  {
   "cell_type": "code",
   "execution_count": 37,
   "id": "b3d5f3dc",
   "metadata": {},
   "outputs": [
    {
     "data": {
      "text/plain": [
       "59     19.255567\n",
       "5       0.795080\n",
       "20     19.959259\n",
       "198    25.917792\n",
       "52     19.776481\n",
       "19     13.461533\n",
       "162    17.217602\n",
       "55     18.177182\n",
       "69     19.813037\n",
       "2       1.571883\n",
       "98     26.475262\n",
       "10      6.040783\n",
       "75      1.544466\n",
       "142    20.151175\n",
       "124    20.973671\n",
       "63      9.385604\n",
       "109    23.340635\n",
       "78      0.493498\n",
       "111    22.088612\n",
       "185    18.734652\n",
       "154    17.162769\n",
       "130     0.063972\n",
       "61     23.879827\n",
       "87     10.116712\n",
       "102    25.607071\n",
       "121     1.718105\n",
       "136     2.339547\n",
       "1       4.066790\n",
       "47     21.924112\n",
       "172     1.791216\n",
       "159    12.035872\n",
       "39     20.836589\n",
       "76      2.513185\n",
       "91      2.613712\n",
       "35     26.566650\n",
       "178    25.287211\n",
       "127     7.329361\n",
       "169    25.981764\n",
       "46      8.197553\n",
       "174    20.324813\n",
       "dtype: float64"
      ]
     },
     "execution_count": 37,
     "metadata": {},
     "output_type": "execute_result"
    }
   ],
   "source": [
    "ypred=model12.predict(x_test)\n",
    "ypred"
   ]
  },
  {
   "cell_type": "code",
   "execution_count": 38,
   "id": "29cdfe23",
   "metadata": {},
   "outputs": [],
   "source": [
    "SSR=np.sum((ypred-y_test.mean())**2)"
   ]
  },
  {
   "cell_type": "code",
   "execution_count": 41,
   "id": "e2288e66",
   "metadata": {},
   "outputs": [],
   "source": [
    "SSE=np.sum((y_test-ypred)**2)"
   ]
  },
  {
   "cell_type": "code",
   "execution_count": 45,
   "id": "d5f1b0c5",
   "metadata": {},
   "outputs": [
    {
     "name": "stdout",
     "output_type": "stream",
     "text": [
      "882.239315285604\n",
      "3501.289833583469\n",
      "4383.529148869073\n"
     ]
    }
   ],
   "source": [
    "SST=SSE+SSR\n",
    "print(SSE)\n",
    "print(SSR)\n",
    "print(SST)\n"
   ]
  },
  {
   "cell_type": "code",
   "execution_count": 47,
   "id": "15b5f3d2",
   "metadata": {},
   "outputs": [
    {
     "data": {
      "text/plain": [
       "0.7987376642600365"
      ]
     },
     "execution_count": 47,
     "metadata": {},
     "output_type": "execute_result"
    }
   ],
   "source": [
    "r_sq=SSR/SST\n",
    "r_sq"
   ]
  }
 ],
 "metadata": {
  "kernelspec": {
   "display_name": "Python 3 (ipykernel)",
   "language": "python",
   "name": "python3"
  },
  "language_info": {
   "codemirror_mode": {
    "name": "ipython",
    "version": 3
   },
   "file_extension": ".py",
   "mimetype": "text/x-python",
   "name": "python",
   "nbconvert_exporter": "python",
   "pygments_lexer": "ipython3",
   "version": "3.11.5"
  }
 },
 "nbformat": 4,
 "nbformat_minor": 5
}
