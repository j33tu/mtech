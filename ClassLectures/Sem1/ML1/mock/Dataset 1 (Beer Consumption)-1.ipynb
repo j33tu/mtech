{
 "cells": [
  {
   "cell_type": "code",
   "execution_count": 3,
   "id": "09d87948",
   "metadata": {},
   "outputs": [],
   "source": [
    "# import 'Pandas' \n",
    "import pandas as pd \n",
    "\n",
    "# import 'Numpy' \n",
    "import numpy as np\n",
    "\n",
    "# import subpackage of Matplotlib\n",
    "import matplotlib.pyplot as plt\n",
    "\n",
    "# import 'Seaborn' \n",
    "import seaborn as sns\n",
    "\n",
    "# to suppress warnings \n",
    "from warnings import filterwarnings\n",
    "filterwarnings('ignore')\n",
    "\n",
    "# display all columns of the dataframe\n",
    "pd.options.display.max_columns = None\n",
    "\n",
    "# display all rows of the dataframe\n",
    "pd.options.display.max_rows = None\n",
    " \n",
    "# to display the float values upto 6 decimal places     \n",
    "pd.options.display.float_format = '{:.6f}'.format\n",
    "\n",
    "# import train-test split \n",
    "from sklearn.model_selection import train_test_split\n",
    "\n",
    "# import various functions from statsmodel to perform linear regression\n",
    "import statsmodels\n",
    "import statsmodels.api as sm\n",
    "import statsmodels.stats.api as sms\n",
    "from statsmodels.compat import lzip\n",
    "from statsmodels.stats.outliers_influence import variance_inflation_factor\n",
    "from statsmodels.graphics.gofplots import qqplot\n",
    "from statsmodels.stats.anova import anova_lm\n",
    "from statsmodels.formula.api import ols\n",
    "from statsmodels.tools.eval_measures import rmse\n",
    "\n",
    "# import various functions from scipy\n",
    "from scipy import stats\n",
    "from scipy.stats import shapiro\n",
    "\n",
    "# 'metrics' from sklearn is used for evaluating the model performance\n",
    "from sklearn.metrics import mean_absolute_error\n",
    "from sklearn.metrics import mean_squared_error\n",
    "from sklearn.preprocessing import StandardScaler,PowerTransformer\n",
    "from sklearn.model_selection import train_test_split,cross_val_score\n",
    "\n",
    "from sklearn.linear_model import LinearRegression, Ridge, Lasso, ElasticNet, SGDRegressor, HuberRegressor"
   ]
  },
  {
   "cell_type": "markdown",
   "id": "79f9786a",
   "metadata": {},
   "source": [
    "### DATA_SET:\n",
    "\n",
    "The data (sample) were collected in São Paulo — Brazil, in a university area, where there are some parties with groups of students from 18 to 28 years of age (average). The dataset used for this activity has 7 attributes, being a Target, with period of one year.\n",
    "\n",
    "* date\n",
    "* average_temperature\n",
    "*  minimum_temperature\n",
    "* maximum_temperature\n",
    "* precipitation\n",
    "* weekend\n",
    "* beer_consumption (target attribute)"
   ]
  },
  {
   "cell_type": "code",
   "execution_count": 5,
   "id": "42130913",
   "metadata": {},
   "outputs": [
    {
     "data": {
      "text/html": [
       "<div>\n",
       "<style scoped>\n",
       "    .dataframe tbody tr th:only-of-type {\n",
       "        vertical-align: middle;\n",
       "    }\n",
       "\n",
       "    .dataframe tbody tr th {\n",
       "        vertical-align: top;\n",
       "    }\n",
       "\n",
       "    .dataframe thead th {\n",
       "        text-align: right;\n",
       "    }\n",
       "</style>\n",
       "<table border=\"1\" class=\"dataframe\">\n",
       "  <thead>\n",
       "    <tr style=\"text-align: right;\">\n",
       "      <th></th>\n",
       "      <th>Data</th>\n",
       "      <th>Temperatura Media (C)</th>\n",
       "      <th>Temperatura Minima (C)</th>\n",
       "      <th>Temperatura Maxima (C)</th>\n",
       "      <th>Precipitacao (mm)</th>\n",
       "      <th>Final de Semana</th>\n",
       "      <th>Consumo de cerveja (litros)</th>\n",
       "    </tr>\n",
       "  </thead>\n",
       "  <tbody>\n",
       "    <tr>\n",
       "      <th>0</th>\n",
       "      <td>2015-01-01</td>\n",
       "      <td>27,3</td>\n",
       "      <td>23,9</td>\n",
       "      <td>32,5</td>\n",
       "      <td>0</td>\n",
       "      <td>0.000000</td>\n",
       "      <td>25.461000</td>\n",
       "    </tr>\n",
       "    <tr>\n",
       "      <th>1</th>\n",
       "      <td>2015-01-02</td>\n",
       "      <td>27,02</td>\n",
       "      <td>24,5</td>\n",
       "      <td>33,5</td>\n",
       "      <td>0</td>\n",
       "      <td>0.000000</td>\n",
       "      <td>28.972000</td>\n",
       "    </tr>\n",
       "    <tr>\n",
       "      <th>2</th>\n",
       "      <td>2015-01-03</td>\n",
       "      <td>24,82</td>\n",
       "      <td>22,4</td>\n",
       "      <td>29,9</td>\n",
       "      <td>0</td>\n",
       "      <td>1.000000</td>\n",
       "      <td>30.814000</td>\n",
       "    </tr>\n",
       "    <tr>\n",
       "      <th>3</th>\n",
       "      <td>2015-01-04</td>\n",
       "      <td>23,98</td>\n",
       "      <td>21,5</td>\n",
       "      <td>28,6</td>\n",
       "      <td>1,2</td>\n",
       "      <td>1.000000</td>\n",
       "      <td>29.799000</td>\n",
       "    </tr>\n",
       "    <tr>\n",
       "      <th>4</th>\n",
       "      <td>2015-01-05</td>\n",
       "      <td>23,82</td>\n",
       "      <td>21</td>\n",
       "      <td>28,3</td>\n",
       "      <td>0</td>\n",
       "      <td>0.000000</td>\n",
       "      <td>28.900000</td>\n",
       "    </tr>\n",
       "  </tbody>\n",
       "</table>\n",
       "</div>"
      ],
      "text/plain": [
       "         Data Temperatura Media (C) Temperatura Minima (C)  \\\n",
       "0  2015-01-01                  27,3                   23,9   \n",
       "1  2015-01-02                 27,02                   24,5   \n",
       "2  2015-01-03                 24,82                   22,4   \n",
       "3  2015-01-04                 23,98                   21,5   \n",
       "4  2015-01-05                 23,82                     21   \n",
       "\n",
       "  Temperatura Maxima (C) Precipitacao (mm)  Final de Semana  \\\n",
       "0                   32,5                 0         0.000000   \n",
       "1                   33,5                 0         0.000000   \n",
       "2                   29,9                 0         1.000000   \n",
       "3                   28,6               1,2         1.000000   \n",
       "4                   28,3                 0         0.000000   \n",
       "\n",
       "   Consumo de cerveja (litros)  \n",
       "0                    25.461000  \n",
       "1                    28.972000  \n",
       "2                    30.814000  \n",
       "3                    29.799000  \n",
       "4                    28.900000  "
      ]
     },
     "execution_count": 5,
     "metadata": {},
     "output_type": "execute_result"
    }
   ],
   "source": [
    "df = pd.read_csv(\"Consumo_cerveja.csv\")\n",
    "df.head()"
   ]
  },
  {
   "cell_type": "code",
   "execution_count": 52,
   "id": "d0ac0188",
   "metadata": {},
   "outputs": [
    {
     "data": {
      "text/html": [
       "<div>\n",
       "<style scoped>\n",
       "    .dataframe tbody tr th:only-of-type {\n",
       "        vertical-align: middle;\n",
       "    }\n",
       "\n",
       "    .dataframe tbody tr th {\n",
       "        vertical-align: top;\n",
       "    }\n",
       "\n",
       "    .dataframe thead th {\n",
       "        text-align: right;\n",
       "    }\n",
       "</style>\n",
       "<table border=\"1\" class=\"dataframe\">\n",
       "  <thead>\n",
       "    <tr style=\"text-align: right;\">\n",
       "      <th></th>\n",
       "      <th>Data</th>\n",
       "      <th>Temperatura Media (C)</th>\n",
       "      <th>Temperatura Minima (C)</th>\n",
       "      <th>Temperatura Maxima (C)</th>\n",
       "      <th>Precipitacao (mm)</th>\n",
       "      <th>Final de Semana</th>\n",
       "      <th>Consumo de cerveja (litros)</th>\n",
       "    </tr>\n",
       "  </thead>\n",
       "  <tbody>\n",
       "    <tr>\n",
       "      <th>936</th>\n",
       "      <td>NaN</td>\n",
       "      <td>NaN</td>\n",
       "      <td>NaN</td>\n",
       "      <td>NaN</td>\n",
       "      <td>NaN</td>\n",
       "      <td>NaN</td>\n",
       "      <td>NaN</td>\n",
       "    </tr>\n",
       "    <tr>\n",
       "      <th>937</th>\n",
       "      <td>NaN</td>\n",
       "      <td>NaN</td>\n",
       "      <td>NaN</td>\n",
       "      <td>NaN</td>\n",
       "      <td>NaN</td>\n",
       "      <td>NaN</td>\n",
       "      <td>NaN</td>\n",
       "    </tr>\n",
       "    <tr>\n",
       "      <th>938</th>\n",
       "      <td>NaN</td>\n",
       "      <td>NaN</td>\n",
       "      <td>NaN</td>\n",
       "      <td>NaN</td>\n",
       "      <td>NaN</td>\n",
       "      <td>NaN</td>\n",
       "      <td>NaN</td>\n",
       "    </tr>\n",
       "    <tr>\n",
       "      <th>939</th>\n",
       "      <td>NaN</td>\n",
       "      <td>NaN</td>\n",
       "      <td>NaN</td>\n",
       "      <td>NaN</td>\n",
       "      <td>NaN</td>\n",
       "      <td>NaN</td>\n",
       "      <td>NaN</td>\n",
       "    </tr>\n",
       "    <tr>\n",
       "      <th>940</th>\n",
       "      <td>NaN</td>\n",
       "      <td>NaN</td>\n",
       "      <td>NaN</td>\n",
       "      <td>NaN</td>\n",
       "      <td>NaN</td>\n",
       "      <td>NaN</td>\n",
       "      <td>NaN</td>\n",
       "    </tr>\n",
       "  </tbody>\n",
       "</table>\n",
       "</div>"
      ],
      "text/plain": [
       "    Data Temperatura Media (C) Temperatura Minima (C) Temperatura Maxima (C)  \\\n",
       "936  NaN                   NaN                    NaN                    NaN   \n",
       "937  NaN                   NaN                    NaN                    NaN   \n",
       "938  NaN                   NaN                    NaN                    NaN   \n",
       "939  NaN                   NaN                    NaN                    NaN   \n",
       "940  NaN                   NaN                    NaN                    NaN   \n",
       "\n",
       "    Precipitacao (mm)  Final de Semana  Consumo de cerveja (litros)  \n",
       "936               NaN              NaN                          NaN  \n",
       "937               NaN              NaN                          NaN  \n",
       "938               NaN              NaN                          NaN  \n",
       "939               NaN              NaN                          NaN  \n",
       "940               NaN              NaN                          NaN  "
      ]
     },
     "execution_count": 52,
     "metadata": {},
     "output_type": "execute_result"
    }
   ],
   "source": [
    "df.tail()"
   ]
  },
  {
   "cell_type": "code",
   "execution_count": 6,
   "id": "ac7abdbf",
   "metadata": {},
   "outputs": [
    {
     "name": "stdout",
     "output_type": "stream",
     "text": [
      "Number of rows = 941\n",
      "Number of columns = 7\n"
     ]
    }
   ],
   "source": [
    "# number of rows and no. of cols\n",
    "rows,cols = df.shape\n",
    "print('Number of rows =',rows)\n",
    "print('Number of columns =',cols)"
   ]
  },
  {
   "cell_type": "markdown",
   "id": "62265a0c",
   "metadata": {},
   "source": [
    "We need to change the name of the columns as given above"
   ]
  },
  {
   "cell_type": "code",
   "execution_count": 7,
   "id": "e208c345",
   "metadata": {},
   "outputs": [
    {
     "data": {
      "text/html": [
       "<div>\n",
       "<style scoped>\n",
       "    .dataframe tbody tr th:only-of-type {\n",
       "        vertical-align: middle;\n",
       "    }\n",
       "\n",
       "    .dataframe tbody tr th {\n",
       "        vertical-align: top;\n",
       "    }\n",
       "\n",
       "    .dataframe thead th {\n",
       "        text-align: right;\n",
       "    }\n",
       "</style>\n",
       "<table border=\"1\" class=\"dataframe\">\n",
       "  <thead>\n",
       "    <tr style=\"text-align: right;\">\n",
       "      <th></th>\n",
       "      <th>Date</th>\n",
       "      <th>Average_Temperature</th>\n",
       "      <th>Minimum_Temperature</th>\n",
       "      <th>Maximum_Temperature</th>\n",
       "      <th>Precipitation</th>\n",
       "      <th>Weekend</th>\n",
       "      <th>Beer_Consumption</th>\n",
       "    </tr>\n",
       "  </thead>\n",
       "  <tbody>\n",
       "    <tr>\n",
       "      <th>0</th>\n",
       "      <td>2015-01-01</td>\n",
       "      <td>27,3</td>\n",
       "      <td>23,9</td>\n",
       "      <td>32,5</td>\n",
       "      <td>0</td>\n",
       "      <td>0.000000</td>\n",
       "      <td>25.461000</td>\n",
       "    </tr>\n",
       "    <tr>\n",
       "      <th>1</th>\n",
       "      <td>2015-01-02</td>\n",
       "      <td>27,02</td>\n",
       "      <td>24,5</td>\n",
       "      <td>33,5</td>\n",
       "      <td>0</td>\n",
       "      <td>0.000000</td>\n",
       "      <td>28.972000</td>\n",
       "    </tr>\n",
       "    <tr>\n",
       "      <th>2</th>\n",
       "      <td>2015-01-03</td>\n",
       "      <td>24,82</td>\n",
       "      <td>22,4</td>\n",
       "      <td>29,9</td>\n",
       "      <td>0</td>\n",
       "      <td>1.000000</td>\n",
       "      <td>30.814000</td>\n",
       "    </tr>\n",
       "    <tr>\n",
       "      <th>3</th>\n",
       "      <td>2015-01-04</td>\n",
       "      <td>23,98</td>\n",
       "      <td>21,5</td>\n",
       "      <td>28,6</td>\n",
       "      <td>1,2</td>\n",
       "      <td>1.000000</td>\n",
       "      <td>29.799000</td>\n",
       "    </tr>\n",
       "    <tr>\n",
       "      <th>4</th>\n",
       "      <td>2015-01-05</td>\n",
       "      <td>23,82</td>\n",
       "      <td>21</td>\n",
       "      <td>28,3</td>\n",
       "      <td>0</td>\n",
       "      <td>0.000000</td>\n",
       "      <td>28.900000</td>\n",
       "    </tr>\n",
       "  </tbody>\n",
       "</table>\n",
       "</div>"
      ],
      "text/plain": [
       "         Date Average_Temperature Minimum_Temperature Maximum_Temperature  \\\n",
       "0  2015-01-01                27,3                23,9                32,5   \n",
       "1  2015-01-02               27,02                24,5                33,5   \n",
       "2  2015-01-03               24,82                22,4                29,9   \n",
       "3  2015-01-04               23,98                21,5                28,6   \n",
       "4  2015-01-05               23,82                  21                28,3   \n",
       "\n",
       "  Precipitation  Weekend  Beer_Consumption  \n",
       "0             0 0.000000         25.461000  \n",
       "1             0 0.000000         28.972000  \n",
       "2             0 1.000000         30.814000  \n",
       "3           1,2 1.000000         29.799000  \n",
       "4             0 0.000000         28.900000  "
      ]
     },
     "execution_count": 7,
     "metadata": {},
     "output_type": "execute_result"
    }
   ],
   "source": [
    "df.columns = [\"Date\", \"Average_Temperature\", \"Minimum_Temperature\",\n",
    "              \"Maximum_Temperature\", \"Precipitation\", \"Weekend\",\n",
    "              \"Beer_Consumption\"]\n",
    "df.head()"
   ]
  },
  {
   "cell_type": "code",
   "execution_count": 8,
   "id": "99afba52",
   "metadata": {},
   "outputs": [
    {
     "data": {
      "text/plain": [
       "Date                   576\n",
       "Average_Temperature    576\n",
       "Minimum_Temperature    576\n",
       "Maximum_Temperature    576\n",
       "Precipitation          576\n",
       "Weekend                576\n",
       "Beer_Consumption       576\n",
       "dtype: int64"
      ]
     },
     "execution_count": 8,
     "metadata": {},
     "output_type": "execute_result"
    }
   ],
   "source": [
    "df.isnull().sum()"
   ]
  },
  {
   "cell_type": "markdown",
   "id": "8ab40bab",
   "metadata": {},
   "source": [
    "To remove all columns having NaN"
   ]
  },
  {
   "cell_type": "code",
   "execution_count": 9,
   "id": "4a87eac9",
   "metadata": {},
   "outputs": [],
   "source": [
    "df.dropna(how=\"all\", inplace=True)"
   ]
  },
  {
   "cell_type": "code",
   "execution_count": 10,
   "id": "fb07f280",
   "metadata": {},
   "outputs": [
    {
     "data": {
      "text/html": [
       "<div>\n",
       "<style scoped>\n",
       "    .dataframe tbody tr th:only-of-type {\n",
       "        vertical-align: middle;\n",
       "    }\n",
       "\n",
       "    .dataframe tbody tr th {\n",
       "        vertical-align: top;\n",
       "    }\n",
       "\n",
       "    .dataframe thead th {\n",
       "        text-align: right;\n",
       "    }\n",
       "</style>\n",
       "<table border=\"1\" class=\"dataframe\">\n",
       "  <thead>\n",
       "    <tr style=\"text-align: right;\">\n",
       "      <th></th>\n",
       "      <th>Date</th>\n",
       "      <th>Average_Temperature</th>\n",
       "      <th>Minimum_Temperature</th>\n",
       "      <th>Maximum_Temperature</th>\n",
       "      <th>Precipitation</th>\n",
       "      <th>Weekend</th>\n",
       "      <th>Beer_Consumption</th>\n",
       "    </tr>\n",
       "  </thead>\n",
       "  <tbody>\n",
       "    <tr>\n",
       "      <th>360</th>\n",
       "      <td>2015-12-27</td>\n",
       "      <td>24</td>\n",
       "      <td>21,1</td>\n",
       "      <td>28,2</td>\n",
       "      <td>13,6</td>\n",
       "      <td>1.000000</td>\n",
       "      <td>32.307000</td>\n",
       "    </tr>\n",
       "    <tr>\n",
       "      <th>361</th>\n",
       "      <td>2015-12-28</td>\n",
       "      <td>22,64</td>\n",
       "      <td>21,1</td>\n",
       "      <td>26,7</td>\n",
       "      <td>0</td>\n",
       "      <td>0.000000</td>\n",
       "      <td>26.095000</td>\n",
       "    </tr>\n",
       "    <tr>\n",
       "      <th>362</th>\n",
       "      <td>2015-12-29</td>\n",
       "      <td>21,68</td>\n",
       "      <td>20,3</td>\n",
       "      <td>24,1</td>\n",
       "      <td>10,3</td>\n",
       "      <td>0.000000</td>\n",
       "      <td>22.309000</td>\n",
       "    </tr>\n",
       "    <tr>\n",
       "      <th>363</th>\n",
       "      <td>2015-12-30</td>\n",
       "      <td>21,38</td>\n",
       "      <td>19,3</td>\n",
       "      <td>22,4</td>\n",
       "      <td>6,3</td>\n",
       "      <td>0.000000</td>\n",
       "      <td>20.467000</td>\n",
       "    </tr>\n",
       "    <tr>\n",
       "      <th>364</th>\n",
       "      <td>2015-12-31</td>\n",
       "      <td>24,76</td>\n",
       "      <td>20,2</td>\n",
       "      <td>29</td>\n",
       "      <td>0</td>\n",
       "      <td>0.000000</td>\n",
       "      <td>22.446000</td>\n",
       "    </tr>\n",
       "  </tbody>\n",
       "</table>\n",
       "</div>"
      ],
      "text/plain": [
       "           Date Average_Temperature Minimum_Temperature Maximum_Temperature  \\\n",
       "360  2015-12-27                  24                21,1                28,2   \n",
       "361  2015-12-28               22,64                21,1                26,7   \n",
       "362  2015-12-29               21,68                20,3                24,1   \n",
       "363  2015-12-30               21,38                19,3                22,4   \n",
       "364  2015-12-31               24,76                20,2                  29   \n",
       "\n",
       "    Precipitation  Weekend  Beer_Consumption  \n",
       "360          13,6 1.000000         32.307000  \n",
       "361             0 0.000000         26.095000  \n",
       "362          10,3 0.000000         22.309000  \n",
       "363           6,3 0.000000         20.467000  \n",
       "364             0 0.000000         22.446000  "
      ]
     },
     "execution_count": 10,
     "metadata": {},
     "output_type": "execute_result"
    }
   ],
   "source": [
    "df.tail()"
   ]
  },
  {
   "cell_type": "code",
   "execution_count": 11,
   "id": "624f9663",
   "metadata": {},
   "outputs": [
    {
     "name": "stdout",
     "output_type": "stream",
     "text": [
      "Number of rows = 365\n",
      "Number of columns = 7\n"
     ]
    }
   ],
   "source": [
    "# number of rows and no. of cols\n",
    "rows,cols = df.shape\n",
    "print('Number of rows =',rows)\n",
    "print('Number of columns =',cols)"
   ]
  },
  {
   "cell_type": "code",
   "execution_count": 12,
   "id": "9bbfc101",
   "metadata": {},
   "outputs": [
    {
     "name": "stdout",
     "output_type": "stream",
     "text": [
      "<class 'pandas.core.frame.DataFrame'>\n",
      "Int64Index: 365 entries, 0 to 364\n",
      "Data columns (total 7 columns):\n",
      " #   Column               Non-Null Count  Dtype  \n",
      "---  ------               --------------  -----  \n",
      " 0   Date                 365 non-null    object \n",
      " 1   Average_Temperature  365 non-null    object \n",
      " 2   Minimum_Temperature  365 non-null    object \n",
      " 3   Maximum_Temperature  365 non-null    object \n",
      " 4   Precipitation        365 non-null    object \n",
      " 5   Weekend              365 non-null    float64\n",
      " 6   Beer_Consumption     365 non-null    float64\n",
      "dtypes: float64(2), object(5)\n",
      "memory usage: 22.8+ KB\n"
     ]
    }
   ],
   "source": [
    "df.info()"
   ]
  },
  {
   "cell_type": "code",
   "execution_count": 13,
   "id": "078570a6",
   "metadata": {},
   "outputs": [
    {
     "data": {
      "text/plain": [
       "Date                   0\n",
       "Average_Temperature    0\n",
       "Minimum_Temperature    0\n",
       "Maximum_Temperature    0\n",
       "Precipitation          0\n",
       "Weekend                0\n",
       "Beer_Consumption       0\n",
       "dtype: int64"
      ]
     },
     "execution_count": 13,
     "metadata": {},
     "output_type": "execute_result"
    }
   ],
   "source": [
    "df.isnull().sum()"
   ]
  },
  {
   "cell_type": "markdown",
   "id": "c2143c4e",
   "metadata": {},
   "source": [
    "Date set contains multiple “,” in four columns instead of decimal in numerical values, replacing every “,” with “.”\n",
    "And converting object to float"
   ]
  },
  {
   "cell_type": "code",
   "execution_count": 14,
   "id": "18efec6b",
   "metadata": {},
   "outputs": [],
   "source": [
    "cols = df.columns[1:5]\n",
    "for col in cols:\n",
    "    df[col] = df[col].str.replace(\",\", \".\")\n",
    "    df[col] = df[col].apply(pd.to_numeric)"
   ]
  },
  {
   "cell_type": "code",
   "execution_count": 62,
   "id": "1acccfa2",
   "metadata": {},
   "outputs": [
    {
     "data": {
      "text/html": [
       "<div>\n",
       "<style scoped>\n",
       "    .dataframe tbody tr th:only-of-type {\n",
       "        vertical-align: middle;\n",
       "    }\n",
       "\n",
       "    .dataframe tbody tr th {\n",
       "        vertical-align: top;\n",
       "    }\n",
       "\n",
       "    .dataframe thead th {\n",
       "        text-align: right;\n",
       "    }\n",
       "</style>\n",
       "<table border=\"1\" class=\"dataframe\">\n",
       "  <thead>\n",
       "    <tr style=\"text-align: right;\">\n",
       "      <th></th>\n",
       "      <th>Date</th>\n",
       "      <th>Average_Temperature</th>\n",
       "      <th>Minimum_Temperature</th>\n",
       "      <th>Maximum_Temperature</th>\n",
       "      <th>Precipitation</th>\n",
       "      <th>Weekend</th>\n",
       "      <th>Beer_Consumption</th>\n",
       "    </tr>\n",
       "  </thead>\n",
       "  <tbody>\n",
       "    <tr>\n",
       "      <th>0</th>\n",
       "      <td>2015-01-01</td>\n",
       "      <td>27.300000</td>\n",
       "      <td>23.900000</td>\n",
       "      <td>32.500000</td>\n",
       "      <td>0.000000</td>\n",
       "      <td>0.000000</td>\n",
       "      <td>25.461000</td>\n",
       "    </tr>\n",
       "    <tr>\n",
       "      <th>1</th>\n",
       "      <td>2015-01-02</td>\n",
       "      <td>27.020000</td>\n",
       "      <td>24.500000</td>\n",
       "      <td>33.500000</td>\n",
       "      <td>0.000000</td>\n",
       "      <td>0.000000</td>\n",
       "      <td>28.972000</td>\n",
       "    </tr>\n",
       "  </tbody>\n",
       "</table>\n",
       "</div>"
      ],
      "text/plain": [
       "         Date  Average_Temperature  Minimum_Temperature  Maximum_Temperature  \\\n",
       "0  2015-01-01            27.300000            23.900000            32.500000   \n",
       "1  2015-01-02            27.020000            24.500000            33.500000   \n",
       "\n",
       "   Precipitation  Weekend  Beer_Consumption  \n",
       "0       0.000000 0.000000         25.461000  \n",
       "1       0.000000 0.000000         28.972000  "
      ]
     },
     "execution_count": 62,
     "metadata": {},
     "output_type": "execute_result"
    }
   ],
   "source": [
    "df.head(2)"
   ]
  },
  {
   "cell_type": "code",
   "execution_count": 15,
   "id": "e4070dfa",
   "metadata": {},
   "outputs": [
    {
     "name": "stdout",
     "output_type": "stream",
     "text": [
      "<class 'pandas.core.frame.DataFrame'>\n",
      "Int64Index: 365 entries, 0 to 364\n",
      "Data columns (total 7 columns):\n",
      " #   Column               Non-Null Count  Dtype  \n",
      "---  ------               --------------  -----  \n",
      " 0   Date                 365 non-null    object \n",
      " 1   Average_Temperature  365 non-null    float64\n",
      " 2   Minimum_Temperature  365 non-null    float64\n",
      " 3   Maximum_Temperature  365 non-null    float64\n",
      " 4   Precipitation        365 non-null    float64\n",
      " 5   Weekend              365 non-null    float64\n",
      " 6   Beer_Consumption     365 non-null    float64\n",
      "dtypes: float64(6), object(1)\n",
      "memory usage: 22.8+ KB\n"
     ]
    }
   ],
   "source": [
    "df.info()"
   ]
  },
  {
   "cell_type": "markdown",
   "id": "13a5be4c",
   "metadata": {},
   "source": [
    "Splitting of Date column into multiple other columns like day, month, year."
   ]
  },
  {
   "cell_type": "code",
   "execution_count": 16,
   "id": "cee18946",
   "metadata": {},
   "outputs": [],
   "source": [
    "df[\"Date\"] = pd.to_datetime(df[\"Date\"])\n",
    "df[\"Day\"] = df[\"Date\"].dt.day\n",
    "df[\"Month\"] = df[\"Date\"].dt.month\n",
    "df[\"Year\"] = df[\"Date\"].dt.year"
   ]
  },
  {
   "cell_type": "code",
   "execution_count": 17,
   "id": "04d3e65f",
   "metadata": {},
   "outputs": [],
   "source": [
    "df.drop(\"Date\", axis=1, inplace=True)"
   ]
  },
  {
   "cell_type": "code",
   "execution_count": 18,
   "id": "0a387017",
   "metadata": {},
   "outputs": [
    {
     "data": {
      "text/html": [
       "<div>\n",
       "<style scoped>\n",
       "    .dataframe tbody tr th:only-of-type {\n",
       "        vertical-align: middle;\n",
       "    }\n",
       "\n",
       "    .dataframe tbody tr th {\n",
       "        vertical-align: top;\n",
       "    }\n",
       "\n",
       "    .dataframe thead th {\n",
       "        text-align: right;\n",
       "    }\n",
       "</style>\n",
       "<table border=\"1\" class=\"dataframe\">\n",
       "  <thead>\n",
       "    <tr style=\"text-align: right;\">\n",
       "      <th></th>\n",
       "      <th>Day</th>\n",
       "      <th>Month</th>\n",
       "      <th>Year</th>\n",
       "      <th>Average_Temperature</th>\n",
       "      <th>Minimum_Temperature</th>\n",
       "      <th>Maximum_Temperature</th>\n",
       "      <th>Precipitation</th>\n",
       "      <th>Weekend</th>\n",
       "      <th>Beer_Consumption</th>\n",
       "    </tr>\n",
       "  </thead>\n",
       "  <tbody>\n",
       "    <tr>\n",
       "      <th>0</th>\n",
       "      <td>1</td>\n",
       "      <td>1</td>\n",
       "      <td>2015</td>\n",
       "      <td>27.300000</td>\n",
       "      <td>23.900000</td>\n",
       "      <td>32.500000</td>\n",
       "      <td>0.000000</td>\n",
       "      <td>0.000000</td>\n",
       "      <td>25.461000</td>\n",
       "    </tr>\n",
       "    <tr>\n",
       "      <th>1</th>\n",
       "      <td>2</td>\n",
       "      <td>1</td>\n",
       "      <td>2015</td>\n",
       "      <td>27.020000</td>\n",
       "      <td>24.500000</td>\n",
       "      <td>33.500000</td>\n",
       "      <td>0.000000</td>\n",
       "      <td>0.000000</td>\n",
       "      <td>28.972000</td>\n",
       "    </tr>\n",
       "  </tbody>\n",
       "</table>\n",
       "</div>"
      ],
      "text/plain": [
       "   Day  Month  Year  Average_Temperature  Minimum_Temperature  \\\n",
       "0    1      1  2015            27.300000            23.900000   \n",
       "1    2      1  2015            27.020000            24.500000   \n",
       "\n",
       "   Maximum_Temperature  Precipitation  Weekend  Beer_Consumption  \n",
       "0            32.500000       0.000000 0.000000         25.461000  \n",
       "1            33.500000       0.000000 0.000000         28.972000  "
      ]
     },
     "execution_count": 18,
     "metadata": {},
     "output_type": "execute_result"
    }
   ],
   "source": [
    "df = df[[\"Day\", \"Month\", \"Year\", \"Average_Temperature\", \"Minimum_Temperature\",\n",
    "              \"Maximum_Temperature\", \"Precipitation\", \"Weekend\",\n",
    "              \"Beer_Consumption\"]]\n",
    "df.head(2)"
   ]
  },
  {
   "cell_type": "code",
   "execution_count": 19,
   "id": "4c908e12",
   "metadata": {},
   "outputs": [
    {
     "name": "stdout",
     "output_type": "stream",
     "text": [
      "<class 'pandas.core.frame.DataFrame'>\n",
      "Int64Index: 365 entries, 0 to 364\n",
      "Data columns (total 9 columns):\n",
      " #   Column               Non-Null Count  Dtype  \n",
      "---  ------               --------------  -----  \n",
      " 0   Day                  365 non-null    int64  \n",
      " 1   Month                365 non-null    int64  \n",
      " 2   Year                 365 non-null    int64  \n",
      " 3   Average_Temperature  365 non-null    float64\n",
      " 4   Minimum_Temperature  365 non-null    float64\n",
      " 5   Maximum_Temperature  365 non-null    float64\n",
      " 6   Precipitation        365 non-null    float64\n",
      " 7   Weekend              365 non-null    float64\n",
      " 8   Beer_Consumption     365 non-null    float64\n",
      "dtypes: float64(6), int64(3)\n",
      "memory usage: 28.5 KB\n"
     ]
    }
   ],
   "source": [
    "df.info()"
   ]
  },
  {
   "cell_type": "code",
   "execution_count": 20,
   "id": "7ec039bb",
   "metadata": {},
   "outputs": [
    {
     "data": {
      "text/html": [
       "<div>\n",
       "<style scoped>\n",
       "    .dataframe tbody tr th:only-of-type {\n",
       "        vertical-align: middle;\n",
       "    }\n",
       "\n",
       "    .dataframe tbody tr th {\n",
       "        vertical-align: top;\n",
       "    }\n",
       "\n",
       "    .dataframe thead th {\n",
       "        text-align: right;\n",
       "    }\n",
       "</style>\n",
       "<table border=\"1\" class=\"dataframe\">\n",
       "  <thead>\n",
       "    <tr style=\"text-align: right;\">\n",
       "      <th></th>\n",
       "      <th>Day</th>\n",
       "      <th>Month</th>\n",
       "      <th>Year</th>\n",
       "      <th>Average_Temperature</th>\n",
       "      <th>Minimum_Temperature</th>\n",
       "      <th>Maximum_Temperature</th>\n",
       "      <th>Precipitation</th>\n",
       "      <th>Weekend</th>\n",
       "      <th>Beer_Consumption</th>\n",
       "    </tr>\n",
       "  </thead>\n",
       "  <tbody>\n",
       "    <tr>\n",
       "      <th>count</th>\n",
       "      <td>365.000000</td>\n",
       "      <td>365.000000</td>\n",
       "      <td>365.000000</td>\n",
       "      <td>365.000000</td>\n",
       "      <td>365.000000</td>\n",
       "      <td>365.000000</td>\n",
       "      <td>365.000000</td>\n",
       "      <td>365.000000</td>\n",
       "      <td>365.000000</td>\n",
       "    </tr>\n",
       "    <tr>\n",
       "      <th>mean</th>\n",
       "      <td>15.720548</td>\n",
       "      <td>6.526027</td>\n",
       "      <td>2015.000000</td>\n",
       "      <td>21.226356</td>\n",
       "      <td>17.461370</td>\n",
       "      <td>26.611507</td>\n",
       "      <td>5.196712</td>\n",
       "      <td>0.284932</td>\n",
       "      <td>25.401367</td>\n",
       "    </tr>\n",
       "    <tr>\n",
       "      <th>std</th>\n",
       "      <td>8.808321</td>\n",
       "      <td>3.452584</td>\n",
       "      <td>0.000000</td>\n",
       "      <td>3.180108</td>\n",
       "      <td>2.826185</td>\n",
       "      <td>4.317366</td>\n",
       "      <td>12.417844</td>\n",
       "      <td>0.452001</td>\n",
       "      <td>4.399143</td>\n",
       "    </tr>\n",
       "    <tr>\n",
       "      <th>min</th>\n",
       "      <td>1.000000</td>\n",
       "      <td>1.000000</td>\n",
       "      <td>2015.000000</td>\n",
       "      <td>12.900000</td>\n",
       "      <td>10.600000</td>\n",
       "      <td>14.500000</td>\n",
       "      <td>0.000000</td>\n",
       "      <td>0.000000</td>\n",
       "      <td>14.343000</td>\n",
       "    </tr>\n",
       "    <tr>\n",
       "      <th>25%</th>\n",
       "      <td>8.000000</td>\n",
       "      <td>4.000000</td>\n",
       "      <td>2015.000000</td>\n",
       "      <td>19.020000</td>\n",
       "      <td>15.300000</td>\n",
       "      <td>23.800000</td>\n",
       "      <td>0.000000</td>\n",
       "      <td>0.000000</td>\n",
       "      <td>22.008000</td>\n",
       "    </tr>\n",
       "    <tr>\n",
       "      <th>50%</th>\n",
       "      <td>16.000000</td>\n",
       "      <td>7.000000</td>\n",
       "      <td>2015.000000</td>\n",
       "      <td>21.380000</td>\n",
       "      <td>17.900000</td>\n",
       "      <td>26.900000</td>\n",
       "      <td>0.000000</td>\n",
       "      <td>0.000000</td>\n",
       "      <td>24.867000</td>\n",
       "    </tr>\n",
       "    <tr>\n",
       "      <th>75%</th>\n",
       "      <td>23.000000</td>\n",
       "      <td>10.000000</td>\n",
       "      <td>2015.000000</td>\n",
       "      <td>23.280000</td>\n",
       "      <td>19.600000</td>\n",
       "      <td>29.400000</td>\n",
       "      <td>3.200000</td>\n",
       "      <td>1.000000</td>\n",
       "      <td>28.631000</td>\n",
       "    </tr>\n",
       "    <tr>\n",
       "      <th>max</th>\n",
       "      <td>31.000000</td>\n",
       "      <td>12.000000</td>\n",
       "      <td>2015.000000</td>\n",
       "      <td>28.860000</td>\n",
       "      <td>24.500000</td>\n",
       "      <td>36.500000</td>\n",
       "      <td>94.800000</td>\n",
       "      <td>1.000000</td>\n",
       "      <td>37.937000</td>\n",
       "    </tr>\n",
       "  </tbody>\n",
       "</table>\n",
       "</div>"
      ],
      "text/plain": [
       "             Day      Month        Year  Average_Temperature  \\\n",
       "count 365.000000 365.000000  365.000000           365.000000   \n",
       "mean   15.720548   6.526027 2015.000000            21.226356   \n",
       "std     8.808321   3.452584    0.000000             3.180108   \n",
       "min     1.000000   1.000000 2015.000000            12.900000   \n",
       "25%     8.000000   4.000000 2015.000000            19.020000   \n",
       "50%    16.000000   7.000000 2015.000000            21.380000   \n",
       "75%    23.000000  10.000000 2015.000000            23.280000   \n",
       "max    31.000000  12.000000 2015.000000            28.860000   \n",
       "\n",
       "       Minimum_Temperature  Maximum_Temperature  Precipitation    Weekend  \\\n",
       "count           365.000000           365.000000     365.000000 365.000000   \n",
       "mean             17.461370            26.611507       5.196712   0.284932   \n",
       "std               2.826185             4.317366      12.417844   0.452001   \n",
       "min              10.600000            14.500000       0.000000   0.000000   \n",
       "25%              15.300000            23.800000       0.000000   0.000000   \n",
       "50%              17.900000            26.900000       0.000000   0.000000   \n",
       "75%              19.600000            29.400000       3.200000   1.000000   \n",
       "max              24.500000            36.500000      94.800000   1.000000   \n",
       "\n",
       "       Beer_Consumption  \n",
       "count        365.000000  \n",
       "mean          25.401367  \n",
       "std            4.399143  \n",
       "min           14.343000  \n",
       "25%           22.008000  \n",
       "50%           24.867000  \n",
       "75%           28.631000  \n",
       "max           37.937000  "
      ]
     },
     "execution_count": 20,
     "metadata": {},
     "output_type": "execute_result"
    }
   ],
   "source": [
    "df.describe()"
   ]
  },
  {
   "cell_type": "markdown",
   "id": "580baed9",
   "metadata": {},
   "source": [
    "Finding outliers"
   ]
  },
  {
   "cell_type": "code",
   "execution_count": 69,
   "id": "ebd70973",
   "metadata": {},
   "outputs": [
    {
     "data": {
      "image/png": "[encoded data removed]",
      "text/plain": [
       "<Figure size 1000x300 with 1 Axes>"
      ]
     },
     "metadata": {},
     "output_type": "display_data"
    },
    {
     "data": {
      "image/png": "[encoded data removed]",
      "text/plain": [
       "<Figure size 1000x300 with 1 Axes>"
      ]
     },
     "metadata": {},
     "output_type": "display_data"
    },
    {
     "data": {
      "image/png": "[encoded data removed]",
      "text/plain": [
       "<Figure size 1000x300 with 1 Axes>"
      ]
     },
     "metadata": {},
     "output_type": "display_data"
    },
    {
     "data": {
      "image/png": "[encoded data removed]",
      "text/plain": [
       "<Figure size 1000x300 with 1 Axes>"
      ]
     },
     "metadata": {},
     "output_type": "display_data"
    },
    {
     "data": {
      "image/png": "[encoded data removed]",
      "text/plain": [
       "<Figure size 1000x300 with 1 Axes>"
      ]
     },
     "metadata": {},
     "output_type": "display_data"
    },
    {
     "data": {
      "image/png": "[encoded data removed]",
      "text/plain": [
       "<Figure size 1000x300 with 1 Axes>"
      ]
     },
     "metadata": {},
     "output_type": "display_data"
    },
    {
     "data": {
      "image/png": "[encoded data removed]",
      "text/plain": [
       "<Figure size 1000x300 with 1 Axes>"
      ]
     },
     "metadata": {},
     "output_type": "display_data"
    },
    {
     "data": {
      "image/png": "[encoded data removed]",
      "text/plain": [
       "<Figure size 1000x300 with 1 Axes>"
      ]
     },
     "metadata": {},
     "output_type": "display_data"
    }
   ],
   "source": [
    "for column in df.columns[0:-1]:\n",
    "    plt.figure(figsize=(10,3))\n",
    "    sns.boxplot(x=(column),data=df)"
   ]
  },
  {
   "cell_type": "code",
   "execution_count": null,
   "id": "eeb27313",
   "metadata": {},
   "outputs": [],
   "source": [
    "Removing outliers"
   ]
  },
  {
   "cell_type": "code",
   "execution_count": 70,
   "id": "44a23904",
   "metadata": {},
   "outputs": [],
   "source": [
    "for column in df.columns:\n",
    "    q1=df[column].quantile(0.25)\n",
    "    q3=df[column].quantile(0.75)\n",
    "    q2=q3-q1\n",
    "    lower_range=q1-(1.5*q2)\n",
    "    upper_range=q3+(1.5*q2)\n",
    "    df[column]=np.where(df[column]<lower_range,lower_range,df[column])\n",
    "    df[column]=np.where(df[column]>upper_range,upper_range,df[column])"
   ]
  },
  {
   "cell_type": "code",
   "execution_count": 71,
   "id": "b9aeca71",
   "metadata": {},
   "outputs": [
    {
     "data": {
      "image/png": "[encoded data removed]",
      "text/plain": [
       "<Figure size 1000x300 with 1 Axes>"
      ]
     },
     "metadata": {},
     "output_type": "display_data"
    },
    {
     "data": {
      "image/png": "[encoded data removed]",
      "text/plain": [
       "<Figure size 1000x300 with 1 Axes>"
      ]
     },
     "metadata": {},
     "output_type": "display_data"
    },
    {
     "data": {
      "image/png": "[encoded data removed]",
      "text/plain": [
       "<Figure size 1000x300 with 1 Axes>"
      ]
     },
     "metadata": {},
     "output_type": "display_data"
    },
    {
     "data": {
      "image/png": "[encoded data removed]",
      "text/plain": [
       "<Figure size 1000x300 with 1 Axes>"
      ]
     },
     "metadata": {},
     "output_type": "display_data"
    },
    {
     "data": {
      "image/png": "[encoded data removed]",
      "text/plain": [
       "<Figure size 1000x300 with 1 Axes>"
      ]
     },
     "metadata": {},
     "output_type": "display_data"
    },
    {
     "data": {
      "image/png": "[encoded data removed]",
      "text/plain": [
       "<Figure size 1000x300 with 1 Axes>"
      ]
     },
     "metadata": {},
     "output_type": "display_data"
    },
    {
     "data": {
      "image/png": "[encoded data removed]",
      "text/plain": [
       "<Figure size 1000x300 with 1 Axes>"
      ]
     },
     "metadata": {},
     "output_type": "display_data"
    },
    {
     "data": {
      "image/png": "[encoded data removed]",
      "text/plain": [
       "<Figure size 1000x300 with 1 Axes>"
      ]
     },
     "metadata": {},
     "output_type": "display_data"
    }
   ],
   "source": [
    "for column in df.columns[0:-1]:\n",
    "    plt.figure(figsize=(10,3))\n",
    "    sns.boxplot(x=(column),data=df)"
   ]
  },
  {
   "cell_type": "code",
   "execution_count": 21,
   "id": "9e7c68b3",
   "metadata": {},
   "outputs": [
    {
     "data": {
      "image/png": "[encoded data removed]",
      "text/plain": [
       "<Figure size 600x600 with 2 Axes>"
      ]
     },
     "metadata": {},
     "output_type": "display_data"
    }
   ],
   "source": [
    "corr = df.corr()\n",
    "features = corr.index\n",
    "plt.figure(figsize=(6,6))\n",
    "ax = sns.heatmap(df[features].corr(),annot=True)"
   ]
  },
  {
   "cell_type": "code",
   "execution_count": 22,
   "id": "e90ef122",
   "metadata": {},
   "outputs": [
    {
     "data": {
      "text/html": [
       "<div>\n",
       "<style scoped>\n",
       "    .dataframe tbody tr th:only-of-type {\n",
       "        vertical-align: middle;\n",
       "    }\n",
       "\n",
       "    .dataframe tbody tr th {\n",
       "        vertical-align: top;\n",
       "    }\n",
       "\n",
       "    .dataframe thead th {\n",
       "        text-align: right;\n",
       "    }\n",
       "</style>\n",
       "<table border=\"1\" class=\"dataframe\">\n",
       "  <thead>\n",
       "    <tr style=\"text-align: right;\">\n",
       "      <th></th>\n",
       "      <th>Day</th>\n",
       "      <th>Month</th>\n",
       "      <th>Year</th>\n",
       "      <th>Average_Temperature</th>\n",
       "      <th>Minimum_Temperature</th>\n",
       "      <th>Maximum_Temperature</th>\n",
       "      <th>Precipitation</th>\n",
       "      <th>Weekend</th>\n",
       "      <th>Beer_Consumption</th>\n",
       "    </tr>\n",
       "  </thead>\n",
       "  <tbody>\n",
       "    <tr>\n",
       "      <th>Day</th>\n",
       "      <td>1.000000</td>\n",
       "      <td>0.011893</td>\n",
       "      <td>NaN</td>\n",
       "      <td>0.012382</td>\n",
       "      <td>-0.011206</td>\n",
       "      <td>0.035079</td>\n",
       "      <td>-0.003414</td>\n",
       "      <td>0.006254</td>\n",
       "      <td>0.025969</td>\n",
       "    </tr>\n",
       "    <tr>\n",
       "      <th>Month</th>\n",
       "      <td>0.011893</td>\n",
       "      <td>1.000000</td>\n",
       "      <td>NaN</td>\n",
       "      <td>-0.103169</td>\n",
       "      <td>-0.172923</td>\n",
       "      <td>-0.074866</td>\n",
       "      <td>0.007089</td>\n",
       "      <td>-0.006526</td>\n",
       "      <td>0.039908</td>\n",
       "    </tr>\n",
       "    <tr>\n",
       "      <th>Year</th>\n",
       "      <td>NaN</td>\n",
       "      <td>NaN</td>\n",
       "      <td>NaN</td>\n",
       "      <td>NaN</td>\n",
       "      <td>NaN</td>\n",
       "      <td>NaN</td>\n",
       "      <td>NaN</td>\n",
       "      <td>NaN</td>\n",
       "      <td>NaN</td>\n",
       "    </tr>\n",
       "    <tr>\n",
       "      <th>Average_Temperature</th>\n",
       "      <td>0.012382</td>\n",
       "      <td>-0.103169</td>\n",
       "      <td>NaN</td>\n",
       "      <td>1.000000</td>\n",
       "      <td>0.862752</td>\n",
       "      <td>0.922513</td>\n",
       "      <td>0.024416</td>\n",
       "      <td>-0.050803</td>\n",
       "      <td>0.574615</td>\n",
       "    </tr>\n",
       "    <tr>\n",
       "      <th>Minimum_Temperature</th>\n",
       "      <td>-0.011206</td>\n",
       "      <td>-0.172923</td>\n",
       "      <td>NaN</td>\n",
       "      <td>0.862752</td>\n",
       "      <td>1.000000</td>\n",
       "      <td>0.672929</td>\n",
       "      <td>0.098625</td>\n",
       "      <td>-0.059534</td>\n",
       "      <td>0.392509</td>\n",
       "    </tr>\n",
       "    <tr>\n",
       "      <th>Maximum_Temperature</th>\n",
       "      <td>0.035079</td>\n",
       "      <td>-0.074866</td>\n",
       "      <td>NaN</td>\n",
       "      <td>0.922513</td>\n",
       "      <td>0.672929</td>\n",
       "      <td>1.000000</td>\n",
       "      <td>-0.049305</td>\n",
       "      <td>-0.040258</td>\n",
       "      <td>0.642672</td>\n",
       "    </tr>\n",
       "    <tr>\n",
       "      <th>Precipitation</th>\n",
       "      <td>-0.003414</td>\n",
       "      <td>0.007089</td>\n",
       "      <td>NaN</td>\n",
       "      <td>0.024416</td>\n",
       "      <td>0.098625</td>\n",
       "      <td>-0.049305</td>\n",
       "      <td>1.000000</td>\n",
       "      <td>0.001587</td>\n",
       "      <td>-0.193784</td>\n",
       "    </tr>\n",
       "    <tr>\n",
       "      <th>Weekend</th>\n",
       "      <td>0.006254</td>\n",
       "      <td>-0.006526</td>\n",
       "      <td>NaN</td>\n",
       "      <td>-0.050803</td>\n",
       "      <td>-0.059534</td>\n",
       "      <td>-0.040258</td>\n",
       "      <td>0.001587</td>\n",
       "      <td>1.000000</td>\n",
       "      <td>0.505981</td>\n",
       "    </tr>\n",
       "    <tr>\n",
       "      <th>Beer_Consumption</th>\n",
       "      <td>0.025969</td>\n",
       "      <td>0.039908</td>\n",
       "      <td>NaN</td>\n",
       "      <td>0.574615</td>\n",
       "      <td>0.392509</td>\n",
       "      <td>0.642672</td>\n",
       "      <td>-0.193784</td>\n",
       "      <td>0.505981</td>\n",
       "      <td>1.000000</td>\n",
       "    </tr>\n",
       "  </tbody>\n",
       "</table>\n",
       "</div>"
      ],
      "text/plain": [
       "                          Day     Month  Year  Average_Temperature  \\\n",
       "Day                  1.000000  0.011893   NaN             0.012382   \n",
       "Month                0.011893  1.000000   NaN            -0.103169   \n",
       "Year                      NaN       NaN   NaN                  NaN   \n",
       "Average_Temperature  0.012382 -0.103169   NaN             1.000000   \n",
       "Minimum_Temperature -0.011206 -0.172923   NaN             0.862752   \n",
       "Maximum_Temperature  0.035079 -0.074866   NaN             0.922513   \n",
       "Precipitation       -0.003414  0.007089   NaN             0.024416   \n",
       "Weekend              0.006254 -0.006526   NaN            -0.050803   \n",
       "Beer_Consumption     0.025969  0.039908   NaN             0.574615   \n",
       "\n",
       "                     Minimum_Temperature  Maximum_Temperature  Precipitation  \\\n",
       "Day                            -0.011206             0.035079      -0.003414   \n",
       "Month                          -0.172923            -0.074866       0.007089   \n",
       "Year                                 NaN                  NaN            NaN   \n",
       "Average_Temperature             0.862752             0.922513       0.024416   \n",
       "Minimum_Temperature             1.000000             0.672929       0.098625   \n",
       "Maximum_Temperature             0.672929             1.000000      -0.049305   \n",
       "Precipitation                   0.098625            -0.049305       1.000000   \n",
       "Weekend                        -0.059534            -0.040258       0.001587   \n",
       "Beer_Consumption                0.392509             0.642672      -0.193784   \n",
       "\n",
       "                      Weekend  Beer_Consumption  \n",
       "Day                  0.006254          0.025969  \n",
       "Month               -0.006526          0.039908  \n",
       "Year                      NaN               NaN  \n",
       "Average_Temperature -0.050803          0.574615  \n",
       "Minimum_Temperature -0.059534          0.392509  \n",
       "Maximum_Temperature -0.040258          0.642672  \n",
       "Precipitation        0.001587         -0.193784  \n",
       "Weekend              1.000000          0.505981  \n",
       "Beer_Consumption     0.505981          1.000000  "
      ]
     },
     "execution_count": 22,
     "metadata": {},
     "output_type": "execute_result"
    }
   ],
   "source": [
    "correlation = df.corr(method='pearson')\n",
    "correlation"
   ]
  },
  {
   "cell_type": "code",
   "execution_count": 23,
   "id": "da8642bc",
   "metadata": {},
   "outputs": [
    {
     "name": "stdout",
     "output_type": "stream",
     "text": [
      "Beer_Consumption       1.000000\n",
      "Maximum_Temperature    0.642672\n",
      "Average_Temperature    0.574615\n",
      "Weekend                0.505981\n",
      "Minimum_Temperature    0.392509\n",
      "Month                  0.039908\n",
      "Day                    0.025969\n",
      "Precipitation         -0.193784\n",
      "Year                        NaN\n"
     ]
    }
   ],
   "source": [
    "print(correlation ['Beer_Consumption'].sort_values(ascending=False).to_string())"
   ]
  },
  {
   "cell_type": "code",
   "execution_count": 75,
   "id": "91e74e97",
   "metadata": {},
   "outputs": [
    {
     "data": {
      "image/png": "[encoded data removed]",
      "text/plain": [
       "<Figure size 1500x1500 with 9 Axes>"
      ]
     },
     "metadata": {},
     "output_type": "display_data"
    }
   ],
   "source": [
    "plot = df.hist(figsize=(15,15))"
   ]
  },
  {
   "cell_type": "markdown",
   "id": "e426662e",
   "metadata": {},
   "source": [
    "Data splitting"
   ]
  },
  {
   "cell_type": "code",
   "execution_count": 25,
   "id": "b9401c91",
   "metadata": {},
   "outputs": [],
   "source": [
    "X = df.drop(\"Beer_Consumption\", axis=1)\n",
    "y = df[\"Beer_Consumption\"]"
   ]
  },
  {
   "cell_type": "markdown",
   "id": "abf7de9d",
   "metadata": {},
   "source": [
    "train_test_split"
   ]
  },
  {
   "cell_type": "code",
   "execution_count": 26,
   "id": "91c1658b",
   "metadata": {},
   "outputs": [],
   "source": [
    "from sklearn.model_selection import train_test_split\n",
    "\n",
    "X_train, X_test, y_train, y_test = train_test_split(X, y, test_size=0.2)"
   ]
  },
  {
   "cell_type": "code",
   "execution_count": 78,
   "id": "971070cb",
   "metadata": {},
   "outputs": [
    {
     "name": "stdout",
     "output_type": "stream",
     "text": [
      "X_train shape:  (292, 8)\n",
      "X_test shape:  (73, 8)\n",
      "y_train shape:  (292,)\n",
      "y_test shape:  (73,)\n"
     ]
    }
   ],
   "source": [
    "print('X_train shape: ',X_train.shape)\n",
    "print('X_test shape: ',X_test.shape)\n",
    "print('y_train shape: ',y_train.shape)\n",
    "print('y_test shape: ',y_test.shape)"
   ]
  },
  {
   "cell_type": "markdown",
   "id": "9af63004",
   "metadata": {},
   "source": [
    "### Construct models and metrics"
   ]
  },
  {
   "cell_type": "code",
   "execution_count": 27,
   "id": "8db2acd4",
   "metadata": {},
   "outputs": [
    {
     "data": {
      "text/html": [
       "<style>#sk-container-id-1 {color: black;background-color: white;}#sk-container-id-1 pre{padding: 0;}#sk-container-id-1 div.sk-toggleable {background-color: white;}#sk-container-id-1 label.sk-toggleable__label {cursor: pointer;display: block;width: 100%;margin-bottom: 0;padding: 0.3em;box-sizing: border-box;text-align: center;}#sk-container-id-1 label.sk-toggleable__label-arrow:before {content: \"▸\";float: left;margin-right: 0.25em;color: #696969;}#sk-container-id-1 label.sk-toggleable__label-arrow:hover:before {color: black;}#sk-container-id-1 div.sk-estimator:hover label.sk-toggleable__label-arrow:before {color: black;}#sk-container-id-1 div.sk-toggleable__content {max-height: 0;max-width: 0;overflow: hidden;text-align: left;background-color: #f0f8ff;}#sk-container-id-1 div.sk-toggleable__content pre {margin: 0.2em;color: black;border-radius: 0.25em;background-color: #f0f8ff;}#sk-container-id-1 input.sk-toggleable__control:checked~div.sk-toggleable__content {max-height: 200px;max-width: 100%;overflow: auto;}#sk-container-id-1 input.sk-toggleable__control:checked~label.sk-toggleable__label-arrow:before {content: \"▾\";}#sk-container-id-1 div.sk-estimator input.sk-toggleable__control:checked~label.sk-toggleable__label {background-color: #d4ebff;}#sk-container-id-1 div.sk-label input.sk-toggleable__control:checked~label.sk-toggleable__label {background-color: #d4ebff;}#sk-container-id-1 input.sk-hidden--visually {border: 0;clip: rect(1px 1px 1px 1px);clip: rect(1px, 1px, 1px, 1px);height: 1px;margin: -1px;overflow: hidden;padding: 0;position: absolute;width: 1px;}#sk-container-id-1 div.sk-estimator {font-family: monospace;background-color: #f0f8ff;border: 1px dotted black;border-radius: 0.25em;box-sizing: border-box;margin-bottom: 0.5em;}#sk-container-id-1 div.sk-estimator:hover {background-color: #d4ebff;}#sk-container-id-1 div.sk-parallel-item::after {content: \"\";width: 100%;border-bottom: 1px solid gray;flex-grow: 1;}#sk-container-id-1 div.sk-label:hover label.sk-toggleable__label {background-color: #d4ebff;}#sk-container-id-1 div.sk-serial::before {content: \"\";position: absolute;border-left: 1px solid gray;box-sizing: border-box;top: 0;bottom: 0;left: 50%;z-index: 0;}#sk-container-id-1 div.sk-serial {display: flex;flex-direction: column;align-items: center;background-color: white;padding-right: 0.2em;padding-left: 0.2em;position: relative;}#sk-container-id-1 div.sk-item {position: relative;z-index: 1;}#sk-container-id-1 div.sk-parallel {display: flex;align-items: stretch;justify-content: center;background-color: white;position: relative;}#sk-container-id-1 div.sk-item::before, #sk-container-id-1 div.sk-parallel-item::before {content: \"\";position: absolute;border-left: 1px solid gray;box-sizing: border-box;top: 0;bottom: 0;left: 50%;z-index: -1;}#sk-container-id-1 div.sk-parallel-item {display: flex;flex-direction: column;z-index: 1;position: relative;background-color: white;}#sk-container-id-1 div.sk-parallel-item:first-child::after {align-self: flex-end;width: 50%;}#sk-container-id-1 div.sk-parallel-item:last-child::after {align-self: flex-start;width: 50%;}#sk-container-id-1 div.sk-parallel-item:only-child::after {width: 0;}#sk-container-id-1 div.sk-dashed-wrapped {border: 1px dashed gray;margin: 0 0.4em 0.5em 0.4em;box-sizing: border-box;padding-bottom: 0.4em;background-color: white;}#sk-container-id-1 div.sk-label label {font-family: monospace;font-weight: bold;display: inline-block;line-height: 1.2em;}#sk-container-id-1 div.sk-label-container {text-align: center;}#sk-container-id-1 div.sk-container {/* jupyter's `normalize.less` sets `[hidden] { display: none; }` but bootstrap.min.css set `[hidden] { display: none !important; }` so we also need the `!important` here to be able to override the default hidden behavior on the sphinx rendered scikit-learn.org. See: https://github.com/scikit-learn/scikit-learn/issues/21755 */display: inline-block !important;position: relative;}#sk-container-id-1 div.sk-text-repr-fallback {display: none;}</style><div id=\"sk-container-id-1\" class=\"sk-top-container\"><div class=\"sk-text-repr-fallback\"><pre>LinearRegression()</pre><b>In a Jupyter environment, please rerun this cell to show the HTML representation or trust the notebook. <br />On GitHub, the HTML representation is unable to render, please try loading this page with nbviewer.org.</b></div><div class=\"sk-container\" hidden><div class=\"sk-item\"><div class=\"sk-estimator sk-toggleable\"><input class=\"sk-toggleable__control sk-hidden--visually\" id=\"sk-estimator-id-1\" type=\"checkbox\" checked><label for=\"sk-estimator-id-1\" class=\"sk-toggleable__label sk-toggleable__label-arrow\">LinearRegression</label><div class=\"sk-toggleable__content\"><pre>LinearRegression()</pre></div></div></div></div></div>"
      ],
      "text/plain": [
       "LinearRegression()"
      ]
     },
     "execution_count": 27,
     "metadata": {},
     "output_type": "execute_result"
    }
   ],
   "source": [
    "from sklearn.linear_model import LinearRegression,Lasso,Ridge\n",
    "\n",
    "model1 = LinearRegression()\n",
    "model1.fit(X_train, y_train)"
   ]
  },
  {
   "cell_type": "markdown",
   "id": "7da1bc74",
   "metadata": {},
   "source": [
    "#### Regression Metrics\n",
    "1. R-squared (R²): \n",
    "    The best possible score is 1.0 \n",
    "    \n",
    "2. Root Mean Square Error (RMSE):\n",
    "    The best possible score of Root Mean Square Error (RMSE) is 0.\n",
    "    \n",
    "3. Mean Absolute Percentage Error (MAPE):MAPE = (Actual - Prediction) / Actual   \n",
    "The best possible value for Mean Absolute Percentage Error (MAPE) is 0.0\n",
    "A MAPE of 0.0 means that there is no difference between the predicted and actual values, indicating a perfect fit of the model to the data2"
   ]
  },
  {
   "cell_type": "code",
   "execution_count": 28,
   "id": "d1c923b1",
   "metadata": {},
   "outputs": [
    {
     "name": "stdout",
     "output_type": "stream",
     "text": [
      "R2 = 0.6822303630366764\n",
      "RMSE = 2.448914208833912\n",
      "MAPE 8.038782633310475\n"
     ]
    }
   ],
   "source": [
    "from sklearn.metrics import mean_squared_error, r2_score\n",
    "import numpy as np\n",
    "\n",
    "# Make predictions\n",
    "y_pred = model1.predict(X_test)\n",
    "\n",
    "# Calculate metrics\n",
    "r_squared = r2_score(y_test, y_pred)\n",
    "rmse = np.sqrt(mean_squared_error(y_test, y_pred))\n",
    "mape = np.mean(np.abs((y_test - y_pred) / y_test)) * 100\n",
    "print(\"R2 =\",r_squared)\n",
    "print(\"RMSE =\",rmse)\n",
    "print(\"MAPE\",mape)"
   ]
  },
  {
   "cell_type": "code",
   "execution_count": 84,
   "id": "3ba7515d",
   "metadata": {},
   "outputs": [
    {
     "name": "stdout",
     "output_type": "stream",
     "text": [
      "                            OLS Regression Results                            \n",
      "==============================================================================\n",
      "Dep. Variable:       Beer_Consumption   R-squared:                       0.724\n",
      "Model:                            OLS   Adj. R-squared:                  0.719\n",
      "Method:                 Least Squares   F-statistic:                     150.3\n",
      "Date:                Fri, 08 Dec 2023   Prob (F-statistic):           7.81e-78\n",
      "Time:                        23:00:34   Log-Likelihood:                -663.46\n",
      "No. Observations:                 292   AIC:                             1339.\n",
      "Df Residuals:                     286   BIC:                             1361.\n",
      "Df Model:                           5                                         \n",
      "Covariance Type:            nonrobust                                         \n",
      "=======================================================================================\n",
      "                          coef    std err          t      P>|t|      [0.025      0.975]\n",
      "---------------------------------------------------------------------------------------\n",
      "const                   5.2173      1.025      5.089      0.000       3.200       7.235\n",
      "Month                   0.1198      0.041      2.903      0.004       0.039       0.201\n",
      "Minimum_Temperature     0.0550      0.070      0.790      0.430      -0.082       0.192\n",
      "Maximum_Temperature     0.6525      0.045     14.538      0.000       0.564       0.741\n",
      "Precipitation          -0.2030      0.046     -4.425      0.000      -0.293      -0.113\n",
      "Weekend                 5.2158      0.309     16.860      0.000       4.607       5.825\n",
      "==============================================================================\n",
      "Omnibus:                        0.911   Durbin-Watson:                   2.025\n",
      "Prob(Omnibus):                  0.634   Jarque-Bera (JB):                0.958\n",
      "Skew:                          -0.031   Prob(JB):                        0.620\n",
      "Kurtosis:                       2.727   Cond. No.                         244.\n",
      "==============================================================================\n",
      "\n",
      "Notes:\n",
      "[1] Standard Errors assume that the covariance matrix of the errors is correctly specified.\n"
     ]
    }
   ],
   "source": [
    "df_try1 = df.copy()\n",
    "\n",
    "X = df_try1.drop(['Beer_Consumption','Year','Average_Temperature','Day'],axis=1)\n",
    "\n",
    "y= df_try1['Beer_Consumption']\n",
    "\n",
    "X = sm.add_constant(X)\n",
    "\n",
    "x_tr, x_te, y_tr, y_te = train_test_split(X, y, test_size=0.2)\n",
    "\n",
    "\n",
    "m1 = sm.OLS(y_tr,x_tr).fit()\n",
    "\n",
    "print(m1.summary())"
   ]
  },
  {
   "cell_type": "raw",
   "id": "38ba8854",
   "metadata": {},
   "source": [
    "******* By treating Precipitation value *******"
   ]
  },
  {
   "cell_type": "code",
   "execution_count": 33,
   "id": "89b861fb",
   "metadata": {},
   "outputs": [],
   "source": [
    "df_pr = df.copy()"
   ]
  },
  {
   "cell_type": "code",
   "execution_count": 35,
   "id": "f7d6246e",
   "metadata": {},
   "outputs": [
    {
     "data": {
      "text/plain": [
       "5.196712     218\n",
       "0.100000       6\n",
       "2.400000       5\n",
       "3.000000       4\n",
       "0.200000       4\n",
       "1.000000       4\n",
       "1.200000       4\n",
       "0.600000       4\n",
       "2.000000       4\n",
       "1.600000       3\n",
       "3.400000       3\n",
       "0.400000       3\n",
       "4.400000       3\n",
       "12.200000      3\n",
       "27.200000      3\n",
       "0.300000       2\n",
       "3.800000       2\n",
       "6.800000       2\n",
       "13.600000      2\n",
       "25.000000      2\n",
       "2.200000       2\n",
       "14.600000      2\n",
       "1.800000       2\n",
       "7.200000       2\n",
       "17.400000      2\n",
       "13.400000      2\n",
       "5.600000       2\n",
       "10.400000      2\n",
       "0.800000       2\n",
       "4.500000       2\n",
       "3.200000       2\n",
       "39.000000      1\n",
       "1.300000       1\n",
       "8.400000       1\n",
       "23.600000      1\n",
       "43.000000      1\n",
       "23.400000      1\n",
       "58.000000      1\n",
       "94.800000      1\n",
       "2.600000       1\n",
       "16.600000      1\n",
       "15.200000      1\n",
       "10.300000      1\n",
       "1.500000       1\n",
       "27.600000      1\n",
       "31.800000      1\n",
       "7.000000       1\n",
       "28.600000      1\n",
       "7.600000       1\n",
       "28.400000      1\n",
       "39.600000      1\n",
       "39.300000      1\n",
       "16.400000      1\n",
       "8.000000       1\n",
       "14.100000      1\n",
       "4.000000       1\n",
       "47.800000      1\n",
       "17.800000      1\n",
       "7.100000       1\n",
       "9.000000       1\n",
       "18.400000      1\n",
       "38.200000      1\n",
       "34.400000      1\n",
       "85.300000      1\n",
       "22.700000      1\n",
       "32.200000      1\n",
       "16.700000      1\n",
       "4.900000       1\n",
       "0.500000       1\n",
       "20.800000      1\n",
       "13.000000      1\n",
       "3.600000       1\n",
       "31.000000      1\n",
       "3.700000       1\n",
       "48.600000      1\n",
       "69.200000      1\n",
       "77.000000      1\n",
       "9.700000       1\n",
       "9.500000       1\n",
       "22.400000      1\n",
       "24.200000      1\n",
       "7.400000       1\n",
       "14.700000      1\n",
       "1.700000       1\n",
       "19.200000      1\n",
       "18.600000      1\n",
       "25.400000      1\n",
       "37.200000      1\n",
       "20.200000      1\n",
       "9.900000       1\n",
       "22.200000      1\n",
       "2.800000       1\n",
       "6.300000       1\n",
       "Name: Precipitation, dtype: int64"
      ]
     },
     "execution_count": 35,
     "metadata": {},
     "output_type": "execute_result"
    }
   ],
   "source": [
    "ind = np.where(df_pr['Precipitation']==0.000000)\n",
    "ind\n",
    "\n",
    "for i in ind :\n",
    "    df.iloc[i,-3] = df.groupby('Month')['Precipitation'].transform(np.mean)\n",
    "\n",
    "df['Precipitation'].value_counts()"
   ]
  },
  {
   "cell_type": "code",
   "execution_count": 36,
   "id": "3d2026e7",
   "metadata": {},
   "outputs": [],
   "source": [
    "df_try1 = df_pr.copy()"
   ]
  },
  {
   "cell_type": "code",
   "execution_count": 37,
   "id": "5ffff133",
   "metadata": {},
   "outputs": [
    {
     "name": "stdout",
     "output_type": "stream",
     "text": [
      "                            OLS Regression Results                            \n",
      "==============================================================================\n",
      "Dep. Variable:       Beer_Consumption   R-squared:                       0.742\n",
      "Model:                            OLS   Adj. R-squared:                  0.739\n",
      "Method:                 Least Squares   F-statistic:                     206.5\n",
      "Date:                Sat, 09 Dec 2023   Prob (F-statistic):           3.63e-83\n",
      "Time:                        11:07:30   Log-Likelihood:                -646.80\n",
      "No. Observations:                 292   AIC:                             1304.\n",
      "Df Residuals:                     287   BIC:                             1322.\n",
      "Df Model:                           4                                         \n",
      "Covariance Type:            nonrobust                                         \n",
      "=======================================================================================\n",
      "                          coef    std err          t      P>|t|      [0.025      0.975]\n",
      "---------------------------------------------------------------------------------------\n",
      "const                   4.9824      0.905      5.505      0.000       3.201       6.764\n",
      "Month                   0.1496      0.038      3.939      0.000       0.075       0.224\n",
      "Maximum_Temperature     0.6944      0.031     22.320      0.000       0.633       0.756\n",
      "Precipitation          -0.0512      0.012     -4.379      0.000      -0.074      -0.028\n",
      "Weekend                 5.1608      0.295     17.478      0.000       4.580       5.742\n",
      "==============================================================================\n",
      "Omnibus:                       20.546   Durbin-Watson:                   2.119\n",
      "Prob(Omnibus):                  0.000   Jarque-Bera (JB):                8.385\n",
      "Skew:                           0.141   Prob(JB):                       0.0151\n",
      "Kurtosis:                       2.220   Cond. No.                         201.\n",
      "==============================================================================\n",
      "\n",
      "Notes:\n",
      "[1] Standard Errors assume that the covariance matrix of the errors is correctly specified.\n"
     ]
    }
   ],
   "source": [
    "X = df_try1.drop(['Beer_Consumption','Minimum_Temperature','Year','Day','Average_Temperature'],axis=1)\n",
    "\n",
    "y= df_try1['Beer_Consumption']\n",
    "\n",
    "X = sm.add_constant(X)\n",
    "\n",
    "x_tr, x_te, y_tr, y_te = train_test_split(X, y, test_size=0.2)\n",
    "\n",
    "\n",
    "m1 = sm.OLS(y_tr,x_tr).fit()\n",
    "\n",
    "print(m1.summary())"
   ]
  },
  {
   "cell_type": "code",
   "execution_count": null,
   "id": "6d06e5ae",
   "metadata": {},
   "outputs": [],
   "source": []
  }
 ],
 "metadata": {
  "kernelspec": {
   "display_name": "Python 3 (ipykernel)",
   "language": "python",
   "name": "python3"
  },
  "language_info": {
   "codemirror_mode": {
    "name": "ipython",
    "version": 3
   },
   "file_extension": ".py",
   "mimetype": "text/x-python",
   "name": "python",
   "nbconvert_exporter": "python",
   "pygments_lexer": "ipython3",
   "version": "3.11.5"
  }
 },
 "nbformat": 4,
 "nbformat_minor": 5
}
