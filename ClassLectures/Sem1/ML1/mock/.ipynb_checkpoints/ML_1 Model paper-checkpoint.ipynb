{
 "cells": [
  {
   "cell_type": "markdown",
   "metadata": {
    "id": "5lq7lV6tjlea"
   },
   "source": [
    "# ML-1 Graded Assessment"
   ]
  },
  {
   "cell_type": "markdown",
   "metadata": {
    "id": "cril6mpHjleh"
   },
   "source": [
    "### DATA_SET:"
   ]
  },
  {
   "cell_type": "markdown",
   "metadata": {
    "id": "gpMIITF1jlei"
   },
   "source": [
    "A Chinese automobile company Geely Auto contracted an automobile consulting company to understand the factors on which the pricing of cars depends. Specifically, they want to understand the factors affecting the pricing of cars in the American market, since those may be very different from the Chinese market. The company wants to know\n",
    "\n",
    "Based on various market surveys, the consulting firm has gathered a large dataset of different types of cars across the Americal market."
   ]
  },
  {
   "cell_type": "markdown",
   "metadata": {
    "id": "efMZ_zNjjlen"
   },
   "source": [
    "* Car_ID==\t\t\tUnique id of each observation (Interger)\t\t\n",
    "* Symboling== \t\t\tIts assigned insurance risk rating, A value of +3 indicates that the auto is risky, -3 that it is probably pretty safe.(Categorical) \t\t\n",
    "* carCompany==\t\t\tName of car company (Categorical)\t\t\n",
    "* fueltype==\t\t\tCar fuel type i.e gas or diesel (Categorical)\t\t\n",
    "* aspiration==\t\t\tAspiration used in a car (Categorical)\t\t\n",
    "* doornumber==\t\t\tNumber of doors in a car (Categorical)\t\t\n",
    "* carbody==\t\t\tbody of car (Categorical)\t\t\n",
    "* drivewheel==\t\t\ttype of drive wheel (Categorical)\t\t\n",
    "* enginelocation==\t\t\tLocation of car engine (Categorical)\t\t\n",
    "* wheelbase==\t\t\tWeelbase of car (Numeric)\t\t\n",
    "* carlength==\t\t\tLength of car (Numeric)\t\t\n",
    "* carwidth==\t\t\tWidth of car (Numeric)\t\t\n",
    "* carheight==\t\t\theight of car (Numeric)\t\t\n",
    "* curbweight==\t\t\tThe weight of a car without occupants or baggage. (Numeric)\t\t\n",
    "* enginetype==\t\t\tType of engine. (Categorical)\t\t\n",
    "* cylindernumber==\t\t\tcylinder placed in the car (Categorical)\t\t\n",
    "* enginesize==\t\t\tSize of car (Numeric)\t\t\n",
    "* fuelsystem==\t\t\tFuel system of car (Categorical)\t\t\n",
    "* boreratio==\t\t\tBoreratio of car (Numeric)\t\t\n",
    "* stroke==\t\t\tStroke or volume inside the engine (Numeric)\t\t\n",
    "* compressionratio==\t\t\tcompression ratio of car (Numeric)\t\t\n",
    "* horsepower==\t\t\tHorsepower (Numeric)\t\t\n",
    "* peakrpm==\t\t\tcar peak rpm (Numeric)\t\t\n",
    "* citympg==\t\t\tMileage in city (Numeric)\t\t\n",
    "* highwaympg==\t\t\tMileage on highway (Numeric)\t\t\n",
    "* price(Dependent variable)==\t\t\tPrice of car (Numeric)\t\t\n"
   ]
  },
  {
   "cell_type": "code",
   "execution_count": null,
   "metadata": {
    "id": "B2Mb_Ydhjleo"
   },
   "outputs": [],
   "source": [
    "# Kindly change the below cells from markdown to code and execute it "
   ]
  },
  {
   "cell_type": "code",
   "execution_count": null,
   "metadata": {
    "id": "wXnno4Zbjle5"
   },
   "outputs": [],
   "source": [
    "import pandas as pd\n",
    "\n",
    "import csv\n",
    "\n",
    "with open(\"data_set.csv\",\"r\")as file:\n",
    "\n",
    "    reader=csv.reader(file)\n",
    "    \n",
    "df=pd.read_csv(\"data_set.csv\")\n",
    "\n",
    "df.head()\n"
   ]
  },
  {
   "cell_type": "markdown",
   "metadata": {
    "id": "U3btL9v0jlfk"
   },
   "source": [
    "#### 1.\tData Understanding (5 marks)\n",
    "\n",
    "\n",
    "a.\tRead the dataset (tab, csv, xls, txt, inbuilt dataset). What are the number of rows and no. of cols & types of variables (continuous, categorical etc.)? (1 MARK)\n",
    "\n",
    "b.\tCalculate five-point summary for numerical variables (1 MARK)\n",
    "\n",
    "c.\tSummarize observations for categorical variables – no. of categories, % observations in each category. (1 marks)\n",
    "\n",
    "d.\tCheck for defects in the data such as missing values, null, outliers, etc. (2 marks)\n"
   ]
  },
  {
   "cell_type": "code",
   "execution_count": null,
   "metadata": {
    "id": "mtxl0ITtjlfl"
   },
   "outputs": [],
   "source": []
  },
  {
   "cell_type": "markdown",
   "metadata": {
    "id": "8CIMfrcrjlfv"
   },
   "source": [
    "#### 2.\tData Preparation (15 marks)\n",
    "\n",
    "a.\tFix the defects found above and do appropriate treatment if any. (5 marks)\n",
    "\n",
    "b.\tVisualize the data using relevant plots. Find out the variables which are highly correlated with target variable? (5 marks)\n",
    "\n",
    "c.\tDo you want to exclude some variables from the model based on this analysis? What other actions will you take? (2 marks)\n",
    "\n",
    "d.\tSplit dataset into train and test (70:30). Are both train and test representative of the overall data? How would you ascertain this statistically? (3 marks)\n",
    "\n"
   ]
  },
  {
   "cell_type": "code",
   "execution_count": null,
   "metadata": {
    "id": "NLgueLYDjlfw"
   },
   "outputs": [],
   "source": []
  },
  {
   "cell_type": "markdown",
   "metadata": {
    "id": "WidgRK9vjlf2"
   },
   "source": [
    "\n",
    "### 3.\tModel Building (20 marks)\n",
    "\n",
    "a.\tFit a base model and observe the overall R- Squared, RMSE and MAPE values of the model. Please comment on whether it is good or not.  (5 marks)\n",
    "\n",
    "b.\tCheck for multi-collinearity and treat the same. (3 marks)\n",
    "\n",
    "c.\tHow would you improve the model? Write clearly the changes that you will make before re-fitting the model. Fit the final model.   (6 marks)\n",
    "\n",
    "d.\tWrite down a business interpretation/explanation of the model – which variables are affecting the target the most and explain the relationship. Feel free to use charts or graphs to explain. (4 marks) \n",
    "\n",
    "e.\tWhat changes from the base model had the most effect on model performance? (2 marks)\n"
   ]
  },
  {
   "cell_type": "code",
   "execution_count": null,
   "metadata": {
    "id": "c9WoDg0Qjlf4"
   },
   "outputs": [],
   "source": []
  }
 ],
 "metadata": {
  "colab": {
   "collapsed_sections": [],
   "name": "SLR_30_MARKS_SET_2_EXAM_Paper.ipynb",
   "provenance": []
  },
  "kernelspec": {
   "display_name": "Python 3 (ipykernel)",
   "language": "python",
   "name": "python3"
  },
  "language_info": {
   "codemirror_mode": {
    "name": "ipython",
    "version": 3
   },
   "file_extension": ".py",
   "mimetype": "text/x-python",
   "name": "python",
   "nbconvert_exporter": "python",
   "pygments_lexer": "ipython3",
   "version": "3.11.5"
  }
 },
 "nbformat": 4,
 "nbformat_minor": 1
}
