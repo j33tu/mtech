{
 "cells": [
  {
   "cell_type": "code",
   "execution_count": 2,
   "id": "1245044c",
   "metadata": {},
   "outputs": [],
   "source": [
    "import pandas as pd\n",
    "import numpy as np\n",
    "import matplotlib.pyplot as plt\n",
    "import scipy.stats as st\n",
    "import seaborn as sns\n",
    "import matplotlib.pyplot as plt\n",
    "import scipy.stats as st"
   ]
  },
  {
   "cell_type": "code",
   "execution_count": 5,
   "id": "1ea5838f",
   "metadata": {},
   "outputs": [
    {
     "data": {
      "text/plain": [
       "0.957379076417462"
      ]
     },
     "execution_count": 5,
     "metadata": {},
     "output_type": "execute_result"
    }
   ],
   "source": [
    "#lambda = 4 # per hr \n",
    "##\n",
    "lambda1=4*1.5\n",
    "st.poisson.cdf(10,lambda1)"
   ]
  },
  {
   "cell_type": "code",
   "execution_count": 9,
   "id": "6f47e712",
   "metadata": {},
   "outputs": [
    {
     "data": {
      "text/plain": [
       "0.9573790764174617"
      ]
     },
     "execution_count": 9,
     "metadata": {},
     "output_type": "execute_result"
    }
   ],
   "source": [
    "x=np.arange(0,11)\n",
    "st.poisson.pmf(x,lambda1).sum()"
   ]
  },
  {
   "cell_type": "code",
   "execution_count": 11,
   "id": "cc223950",
   "metadata": {},
   "outputs": [
    {
     "data": {
      "text/html": [
       "<div>\n",
       "<style scoped>\n",
       "    .dataframe tbody tr th:only-of-type {\n",
       "        vertical-align: middle;\n",
       "    }\n",
       "\n",
       "    .dataframe tbody tr th {\n",
       "        vertical-align: top;\n",
       "    }\n",
       "\n",
       "    .dataframe thead th {\n",
       "        text-align: right;\n",
       "    }\n",
       "</style>\n",
       "<table border=\"1\" class=\"dataframe\">\n",
       "  <thead>\n",
       "    <tr style=\"text-align: right;\">\n",
       "      <th></th>\n",
       "      <th>total_bill</th>\n",
       "      <th>tip</th>\n",
       "      <th>sex</th>\n",
       "      <th>smoker</th>\n",
       "      <th>day</th>\n",
       "      <th>time</th>\n",
       "      <th>size</th>\n",
       "    </tr>\n",
       "  </thead>\n",
       "  <tbody>\n",
       "    <tr>\n",
       "      <th>0</th>\n",
       "      <td>16.99</td>\n",
       "      <td>1.01</td>\n",
       "      <td>Female</td>\n",
       "      <td>No</td>\n",
       "      <td>Sun</td>\n",
       "      <td>Dinner</td>\n",
       "      <td>2</td>\n",
       "    </tr>\n",
       "    <tr>\n",
       "      <th>1</th>\n",
       "      <td>10.34</td>\n",
       "      <td>1.66</td>\n",
       "      <td>Male</td>\n",
       "      <td>No</td>\n",
       "      <td>Sun</td>\n",
       "      <td>Dinner</td>\n",
       "      <td>3</td>\n",
       "    </tr>\n",
       "    <tr>\n",
       "      <th>2</th>\n",
       "      <td>21.01</td>\n",
       "      <td>3.50</td>\n",
       "      <td>Male</td>\n",
       "      <td>No</td>\n",
       "      <td>Sun</td>\n",
       "      <td>Dinner</td>\n",
       "      <td>3</td>\n",
       "    </tr>\n",
       "    <tr>\n",
       "      <th>3</th>\n",
       "      <td>23.68</td>\n",
       "      <td>3.31</td>\n",
       "      <td>Male</td>\n",
       "      <td>No</td>\n",
       "      <td>Sun</td>\n",
       "      <td>Dinner</td>\n",
       "      <td>2</td>\n",
       "    </tr>\n",
       "    <tr>\n",
       "      <th>4</th>\n",
       "      <td>24.59</td>\n",
       "      <td>3.61</td>\n",
       "      <td>Female</td>\n",
       "      <td>No</td>\n",
       "      <td>Sun</td>\n",
       "      <td>Dinner</td>\n",
       "      <td>4</td>\n",
       "    </tr>\n",
       "    <tr>\n",
       "      <th>...</th>\n",
       "      <td>...</td>\n",
       "      <td>...</td>\n",
       "      <td>...</td>\n",
       "      <td>...</td>\n",
       "      <td>...</td>\n",
       "      <td>...</td>\n",
       "      <td>...</td>\n",
       "    </tr>\n",
       "    <tr>\n",
       "      <th>239</th>\n",
       "      <td>29.03</td>\n",
       "      <td>5.92</td>\n",
       "      <td>Male</td>\n",
       "      <td>No</td>\n",
       "      <td>Sat</td>\n",
       "      <td>Dinner</td>\n",
       "      <td>3</td>\n",
       "    </tr>\n",
       "    <tr>\n",
       "      <th>240</th>\n",
       "      <td>27.18</td>\n",
       "      <td>2.00</td>\n",
       "      <td>Female</td>\n",
       "      <td>Yes</td>\n",
       "      <td>Sat</td>\n",
       "      <td>Dinner</td>\n",
       "      <td>2</td>\n",
       "    </tr>\n",
       "    <tr>\n",
       "      <th>241</th>\n",
       "      <td>22.67</td>\n",
       "      <td>2.00</td>\n",
       "      <td>Male</td>\n",
       "      <td>Yes</td>\n",
       "      <td>Sat</td>\n",
       "      <td>Dinner</td>\n",
       "      <td>2</td>\n",
       "    </tr>\n",
       "    <tr>\n",
       "      <th>242</th>\n",
       "      <td>17.82</td>\n",
       "      <td>1.75</td>\n",
       "      <td>Male</td>\n",
       "      <td>No</td>\n",
       "      <td>Sat</td>\n",
       "      <td>Dinner</td>\n",
       "      <td>2</td>\n",
       "    </tr>\n",
       "    <tr>\n",
       "      <th>243</th>\n",
       "      <td>18.78</td>\n",
       "      <td>3.00</td>\n",
       "      <td>Female</td>\n",
       "      <td>No</td>\n",
       "      <td>Thur</td>\n",
       "      <td>Dinner</td>\n",
       "      <td>2</td>\n",
       "    </tr>\n",
       "  </tbody>\n",
       "</table>\n",
       "<p>244 rows × 7 columns</p>\n",
       "</div>"
      ],
      "text/plain": [
       "     total_bill   tip     sex smoker   day    time  size\n",
       "0         16.99  1.01  Female     No   Sun  Dinner     2\n",
       "1         10.34  1.66    Male     No   Sun  Dinner     3\n",
       "2         21.01  3.50    Male     No   Sun  Dinner     3\n",
       "3         23.68  3.31    Male     No   Sun  Dinner     2\n",
       "4         24.59  3.61  Female     No   Sun  Dinner     4\n",
       "..          ...   ...     ...    ...   ...     ...   ...\n",
       "239       29.03  5.92    Male     No   Sat  Dinner     3\n",
       "240       27.18  2.00  Female    Yes   Sat  Dinner     2\n",
       "241       22.67  2.00    Male    Yes   Sat  Dinner     2\n",
       "242       17.82  1.75    Male     No   Sat  Dinner     2\n",
       "243       18.78  3.00  Female     No  Thur  Dinner     2\n",
       "\n",
       "[244 rows x 7 columns]"
      ]
     },
     "execution_count": 11,
     "metadata": {},
     "output_type": "execute_result"
    }
   ],
   "source": [
    "df=sns.load_dataset('tips')\n",
    "df"
   ]
  },
  {
   "cell_type": "code",
   "execution_count": 13,
   "id": "7d72b7f7",
   "metadata": {},
   "outputs": [
    {
     "data": {
      "text/plain": [
       "No     61.885246\n",
       "Yes    38.114754\n",
       "Name: smoker, dtype: float64"
      ]
     },
     "execution_count": 13,
     "metadata": {},
     "output_type": "execute_result"
    }
   ],
   "source": [
    "df.smoker.value_counts(normalize=True)*100"
   ]
  },
  {
   "cell_type": "code",
   "execution_count": 14,
   "id": "b6af9ddf",
   "metadata": {},
   "outputs": [],
   "source": [
    "from sklearn.model_selection import train_test_split\n",
    "#model for Train and test "
   ]
  },
  {
   "cell_type": "code",
   "execution_count": 18,
   "id": "39cd195f",
   "metadata": {},
   "outputs": [
    {
     "data": {
      "text/html": [
       "<div>\n",
       "<style scoped>\n",
       "    .dataframe tbody tr th:only-of-type {\n",
       "        vertical-align: middle;\n",
       "    }\n",
       "\n",
       "    .dataframe tbody tr th {\n",
       "        vertical-align: top;\n",
       "    }\n",
       "\n",
       "    .dataframe thead th {\n",
       "        text-align: right;\n",
       "    }\n",
       "</style>\n",
       "<table border=\"1\" class=\"dataframe\">\n",
       "  <thead>\n",
       "    <tr style=\"text-align: right;\">\n",
       "      <th></th>\n",
       "      <th>total_bill</th>\n",
       "      <th>tip</th>\n",
       "      <th>sex</th>\n",
       "      <th>day</th>\n",
       "      <th>time</th>\n",
       "      <th>size</th>\n",
       "    </tr>\n",
       "  </thead>\n",
       "  <tbody>\n",
       "    <tr>\n",
       "      <th>0</th>\n",
       "      <td>16.99</td>\n",
       "      <td>1.01</td>\n",
       "      <td>Female</td>\n",
       "      <td>Sun</td>\n",
       "      <td>Dinner</td>\n",
       "      <td>2</td>\n",
       "    </tr>\n",
       "    <tr>\n",
       "      <th>1</th>\n",
       "      <td>10.34</td>\n",
       "      <td>1.66</td>\n",
       "      <td>Male</td>\n",
       "      <td>Sun</td>\n",
       "      <td>Dinner</td>\n",
       "      <td>3</td>\n",
       "    </tr>\n",
       "    <tr>\n",
       "      <th>2</th>\n",
       "      <td>21.01</td>\n",
       "      <td>3.50</td>\n",
       "      <td>Male</td>\n",
       "      <td>Sun</td>\n",
       "      <td>Dinner</td>\n",
       "      <td>3</td>\n",
       "    </tr>\n",
       "    <tr>\n",
       "      <th>3</th>\n",
       "      <td>23.68</td>\n",
       "      <td>3.31</td>\n",
       "      <td>Male</td>\n",
       "      <td>Sun</td>\n",
       "      <td>Dinner</td>\n",
       "      <td>2</td>\n",
       "    </tr>\n",
       "    <tr>\n",
       "      <th>4</th>\n",
       "      <td>24.59</td>\n",
       "      <td>3.61</td>\n",
       "      <td>Female</td>\n",
       "      <td>Sun</td>\n",
       "      <td>Dinner</td>\n",
       "      <td>4</td>\n",
       "    </tr>\n",
       "    <tr>\n",
       "      <th>...</th>\n",
       "      <td>...</td>\n",
       "      <td>...</td>\n",
       "      <td>...</td>\n",
       "      <td>...</td>\n",
       "      <td>...</td>\n",
       "      <td>...</td>\n",
       "    </tr>\n",
       "    <tr>\n",
       "      <th>239</th>\n",
       "      <td>29.03</td>\n",
       "      <td>5.92</td>\n",
       "      <td>Male</td>\n",
       "      <td>Sat</td>\n",
       "      <td>Dinner</td>\n",
       "      <td>3</td>\n",
       "    </tr>\n",
       "    <tr>\n",
       "      <th>240</th>\n",
       "      <td>27.18</td>\n",
       "      <td>2.00</td>\n",
       "      <td>Female</td>\n",
       "      <td>Sat</td>\n",
       "      <td>Dinner</td>\n",
       "      <td>2</td>\n",
       "    </tr>\n",
       "    <tr>\n",
       "      <th>241</th>\n",
       "      <td>22.67</td>\n",
       "      <td>2.00</td>\n",
       "      <td>Male</td>\n",
       "      <td>Sat</td>\n",
       "      <td>Dinner</td>\n",
       "      <td>2</td>\n",
       "    </tr>\n",
       "    <tr>\n",
       "      <th>242</th>\n",
       "      <td>17.82</td>\n",
       "      <td>1.75</td>\n",
       "      <td>Male</td>\n",
       "      <td>Sat</td>\n",
       "      <td>Dinner</td>\n",
       "      <td>2</td>\n",
       "    </tr>\n",
       "    <tr>\n",
       "      <th>243</th>\n",
       "      <td>18.78</td>\n",
       "      <td>3.00</td>\n",
       "      <td>Female</td>\n",
       "      <td>Thur</td>\n",
       "      <td>Dinner</td>\n",
       "      <td>2</td>\n",
       "    </tr>\n",
       "  </tbody>\n",
       "</table>\n",
       "<p>244 rows × 6 columns</p>\n",
       "</div>"
      ],
      "text/plain": [
       "     total_bill   tip     sex   day    time  size\n",
       "0         16.99  1.01  Female   Sun  Dinner     2\n",
       "1         10.34  1.66    Male   Sun  Dinner     3\n",
       "2         21.01  3.50    Male   Sun  Dinner     3\n",
       "3         23.68  3.31    Male   Sun  Dinner     2\n",
       "4         24.59  3.61  Female   Sun  Dinner     4\n",
       "..          ...   ...     ...   ...     ...   ...\n",
       "239       29.03  5.92    Male   Sat  Dinner     3\n",
       "240       27.18  2.00  Female   Sat  Dinner     2\n",
       "241       22.67  2.00    Male   Sat  Dinner     2\n",
       "242       17.82  1.75    Male   Sat  Dinner     2\n",
       "243       18.78  3.00  Female  Thur  Dinner     2\n",
       "\n",
       "[244 rows x 6 columns]"
      ]
     },
     "execution_count": 18,
     "metadata": {},
     "output_type": "execute_result"
    }
   ],
   "source": [
    "x=df.drop('smoker',axis=1)\n",
    "y=df.smoker\n",
    "y\n",
    "x"
   ]
  },
  {
   "cell_type": "code",
   "execution_count": 22,
   "id": "4b1e8950",
   "metadata": {},
   "outputs": [
    {
     "data": {
      "text/plain": [
       "No     0.620513\n",
       "Yes    0.379487\n",
       "Name: smoker, dtype: float64"
      ]
     },
     "execution_count": 22,
     "metadata": {},
     "output_type": "execute_result"
    }
   ],
   "source": [
    "x_train,x_test,y_train,y_test=train_test_split(x,y,test_size=0.2,stratify=y)\n",
    "y_train.value_counts(normalize=True)"
   ]
  },
  {
   "cell_type": "code",
   "execution_count": 24,
   "id": "f4c15f4e",
   "metadata": {},
   "outputs": [
    {
     "data": {
      "text/plain": [
       "No     0.612245\n",
       "Yes    0.387755\n",
       "Name: smoker, dtype: float64"
      ]
     },
     "execution_count": 24,
     "metadata": {},
     "output_type": "execute_result"
    }
   ],
   "source": [
    "y_test.value_counts(normalize=True)"
   ]
  },
  {
   "cell_type": "code",
   "execution_count": 29,
   "id": "cec62032",
   "metadata": {},
   "outputs": [
    {
     "ename": "NameError",
     "evalue": "name 'sample_mean_calculator' is not defined",
     "output_type": "error",
     "traceback": [
      "\u001b[0;31m---------------------------------------------------------------------------\u001b[0m",
      "\u001b[0;31mNameError\u001b[0m                                 Traceback (most recent call last)",
      "Cell \u001b[0;32mIn[29], line 4\u001b[0m\n\u001b[1;32m      2\u001b[0m gs \u001b[38;5;241m=\u001b[39m plt\u001b[38;5;241m.\u001b[39mGridSpec(\u001b[38;5;241m10\u001b[39m, \u001b[38;5;241m4\u001b[39m) \n\u001b[1;32m      3\u001b[0m c10\u001b[38;5;241m=\u001b[39mplt\u001b[38;5;241m.\u001b[39msubplot(gs[\u001b[38;5;241m9\u001b[39m,\u001b[38;5;241m3\u001b[39m])\n\u001b[0;32m----> 4\u001b[0m c10\u001b[38;5;241m=\u001b[39msns\u001b[38;5;241m.\u001b[39mdistplot(\u001b[43msample_mean_calculator\u001b[49m(rskew_population,\u001b[38;5;241m5000\u001b[39m))\n",
      "\u001b[0;31mNameError\u001b[0m: name 'sample_mean_calculator' is not defined"
     ]
    },
    {
     "data": {
      "image/png": "[encoded data removed]",
      "text/plain": [
       "<Figure size 640x480 with 1 Axes>"
      ]
     },
     "metadata": {},
     "output_type": "display_data"
    }
   ],
   "source": [
    "#Central limit Theorem by laplas \n",
    "gs = plt.GridSpec(10, 4) \n",
    "c10=plt.subplot(gs[9,3])\n",
    "c10=sns.distplot(sample_mean_calculator(rskew_population,5000))#"
   ]
  },
  {
   "cell_type": "code",
   "execution_count": 32,
   "id": "7f63dc90",
   "metadata": {},
   "outputs": [
    {
     "data": {
      "text/plain": [
       "1.9599639845400545"
      ]
     },
     "execution_count": 32,
     "metadata": {},
     "output_type": "execute_result"
    }
   ],
   "source": [
    "# \n",
    "alpha=0.05\n",
    "sazlpyaby2=st.norm.isf(alpha/2)\n",
    "sazlpyaby2"
   ]
  },
  {
   "cell_type": "code",
   "execution_count": 35,
   "id": "016939fb",
   "metadata": {},
   "outputs": [
    {
     "data": {
      "text/plain": [
       "0.9544997361036416"
      ]
     },
     "execution_count": 35,
     "metadata": {},
     "output_type": "execute_result"
    }
   ],
   "source": [
    "st.norm.cdf(2)-st.norm.cdf(-2)"
   ]
  },
  {
   "cell_type": "code",
   "execution_count": 37,
   "id": "f9bc78e4",
   "metadata": {},
   "outputs": [
    {
     "data": {
      "text/plain": [
       "0.95"
      ]
     },
     "execution_count": 37,
     "metadata": {},
     "output_type": "execute_result"
    }
   ],
   "source": [
    "st.norm.cdf(1.9599639845400545)-st.norm.cdf(-1.9599639845400545)\n"
   ]
  },
  {
   "cell_type": "code",
   "execution_count": 40,
   "id": "257b5865",
   "metadata": {},
   "outputs": [
    {
     "data": {
      "text/plain": [
       "2.1447866879169277"
      ]
     },
     "execution_count": 40,
     "metadata": {},
     "output_type": "execute_result"
    }
   ],
   "source": [
    "#Talphaby2\n",
    "n=15\n",
    "st.t.isf(alpha/2,n-1)"
   ]
  },
  {
   "cell_type": "code",
   "execution_count": 42,
   "id": "7aed2c4a",
   "metadata": {},
   "outputs": [
    {
     "data": {
      "text/plain": [
       "2.0452296421327034"
      ]
     },
     "execution_count": 42,
     "metadata": {},
     "output_type": "execute_result"
    }
   ],
   "source": [
    "#Talphaby2\n",
    "n=30\n",
    "st.t.isf(alpha/2,n-1)"
   ]
  },
  {
   "cell_type": "code",
   "execution_count": 44,
   "id": "fad85693",
   "metadata": {},
   "outputs": [
    {
     "data": {
      "text/plain": [
       "1.9679296690653623"
      ]
     },
     "execution_count": 44,
     "metadata": {},
     "output_type": "execute_result"
    }
   ],
   "source": [
    "#Talphaby2\n",
    "n=300\n",
    "st.t.isf(alpha/2,n-1)"
   ]
  },
  {
   "cell_type": "code",
   "execution_count": 45,
   "id": "b0eda88b",
   "metadata": {},
   "outputs": [
    {
     "ename": "SyntaxError",
     "evalue": "invalid syntax (4176467322.py, line 4)",
     "output_type": "error",
     "traceback": [
      "\u001b[0;36m  Cell \u001b[0;32mIn[45], line 4\u001b[0;36m\u001b[0m\n\u001b[0;31m    xbar=51 pa # sample Mean\u001b[0m\n\u001b[0m            ^\u001b[0m\n\u001b[0;31mSyntaxError\u001b[0m\u001b[0;31m:\u001b[0m invalid syntax\n"
     ]
    }
   ],
   "source": [
    "#excercise 02091 \n",
    "#estimating confidence interval :\n",
    "#estimate the population average of bangla DS salry given that sample data as follow\n",
    "#at confidence level of 95 % , 99 % , 90 $\n",
    "xbar=51 pa # sample Mean\n",
    "\n",
    "sigma=0.5 lakhs # population standard deviation  \n",
    "n=200 #sample size\n",
    "#\n",
    "st.it.isf()\n",
    "\n"
   ]
  },
  {
   "cell_type": "code",
   "execution_count": 69,
   "id": "529925fb",
   "metadata": {},
   "outputs": [
    {
     "name": "stdout",
     "output_type": "stream",
     "text": [
      "509999.9525171658\n",
      "510000.0474828342\n"
     ]
    }
   ],
   "source": [
    "#confidence level 90 % \n",
    "xbar=510000\n",
    "alpha=0.1 \n",
    "sigma=0.5\n",
    "zalphaby2=st.norm.isf(alpha/2)\n",
    "zalphaby2\n",
    "std_error=sigma/(np.sqrt(n))\n",
    "marginoferror=std_error*zalphaby2\n",
    "marginoferror\n",
    "std_error\n",
    "lower_ci=xbar-marginoferror\n",
    "uppar_ci=xbar+marginoferror\n",
    "print(lower_ci)\n",
    "print(uppar_ci)"
   ]
  },
  {
   "cell_type": "code",
   "execution_count": 70,
   "id": "dcacb277",
   "metadata": {},
   "outputs": [
    {
     "data": {
      "text/plain": [
       "(509999.9525171658, 510000.0474828342)"
      ]
     },
     "execution_count": 70,
     "metadata": {},
     "output_type": "execute_result"
    }
   ],
   "source": [
    "st.norm.interval(1-alpha,xbar,std_error)"
   ]
  },
  {
   "cell_type": "code",
   "execution_count": 66,
   "id": "f523e6e6",
   "metadata": {},
   "outputs": [
    {
     "name": "stdout",
     "output_type": "stream",
     "text": [
      "49999.943420713294\n",
      "50000.056579286706\n"
     ]
    }
   ],
   "source": [
    "#confidence level 95 % \n",
    "xbar=50000 \n",
    "alpha=0.05 \n",
    "sigma=0.5\n",
    "zalphaby2=st.norm.isf(alpha/2)\n",
    "zalphaby2\n",
    "std_error=sigma/(np.sqrt(n))\n",
    "marginoferror=std_error*zalphaby2\n",
    "marginoferror\n",
    "std_error\n",
    "lower_ci=xbar-marginoferror\n",
    "uppar_ci=xbar+marginoferror\n",
    "print(lower_ci)\n",
    "print(uppar_ci)"
   ]
  },
  {
   "cell_type": "code",
   "execution_count": 71,
   "id": "8bc6d4c9",
   "metadata": {},
   "outputs": [
    {
     "name": "stdout",
     "output_type": "stream",
     "text": [
      "49999.92564221291\n",
      "50000.07435778709\n"
     ]
    }
   ],
   "source": [
    "#confidence level 99 % \n",
    "xbar=50000 \n",
    "alpha=0.01 \n",
    "sigma=0.5\n",
    "zalphaby2=st.norm.isf(alpha/2)\n",
    "zalphaby2\n",
    "std_error=sigma/(np.sqrt(n))\n",
    "marginoferror=std_error*zalphaby2\n",
    "marginoferror\n",
    "std_error\n",
    "lower_ci=xbar-marginoferror\n",
    "uppar_ci=xbar+marginoferror\n",
    "print(lower_ci)\n",
    "print(uppar_ci)"
   ]
  },
  {
   "cell_type": "code",
   "execution_count": 94,
   "id": "82e13659",
   "metadata": {},
   "outputs": [
    {
     "name": "stdout",
     "output_type": "stream",
     "text": [
      "18.848510069563044 20.723375176338596\n"
     ]
    }
   ],
   "source": [
    "#estimate the population total bill (refer tips data)in a avg at 90 % 95 99 %\n",
    "\n",
    "\n",
    "df=sns.load_dataset('tips')\n",
    "xbar=df.total_bill.mean()\n",
    "xbar\n",
    "alpha=0.1\n",
    "s=df.total_bill.std()\n",
    "n=len(df.total_bill)\n",
    "#zalphaby2=st.norm.isf(alpha/2)\n",
    "talphaby2=st.t.isf(alpha/2,n-1)\n",
    "std_error=s/np.sqrt(n)\n",
    "me=zalphaby2*std_error\n",
    "L_ci=xbar-me\n",
    "u_ci=xbar+me\n",
    "print(L_ci,u_ci)"
   ]
  },
  {
   "cell_type": "code",
   "execution_count": 90,
   "id": "528dc3b4",
   "metadata": {},
   "outputs": [
    {
     "data": {
      "text/plain": [
       "(18.663331704358473, 20.908553541543167)"
      ]
     },
     "execution_count": 90,
     "metadata": {},
     "output_type": "execute_result"
    }
   ],
   "source": [
    "#line code\n",
    "st.t.interval(0.95,n-1,xbar,std_error)"
   ]
  },
  {
   "cell_type": "code",
   "execution_count": 95,
   "id": "0eff66ba",
   "metadata": {},
   "outputs": [
    {
     "data": {
      "text/plain": [
       "(18.30631303672219, 21.26557220917945)"
      ]
     },
     "execution_count": 95,
     "metadata": {},
     "output_type": "execute_result"
    }
   ],
   "source": [
    "#line code\n",
    "st.t.interval(0.99,n-1,xbar,std_error)"
   ]
  },
  {
   "cell_type": "code",
   "execution_count": 97,
   "id": "acd99893",
   "metadata": {},
   "outputs": [
    {
     "data": {
      "text/plain": [
       "(18.30631303672219, 21.26557220917945)"
      ]
     },
     "execution_count": 97,
     "metadata": {},
     "output_type": "execute_result"
    }
   ],
   "source": [
    "#line code\n",
    "st.t.interval(0.99,n-1,xbar,std_error)"
   ]
  },
  {
   "cell_type": "code",
   "execution_count": 104,
   "id": "b4537c3a",
   "metadata": {},
   "outputs": [
    {
     "data": {
      "text/plain": [
       "No     0.618852\n",
       "Yes    0.381148\n",
       "Name: smoker, dtype: float64"
      ]
     },
     "execution_count": 104,
     "metadata": {},
     "output_type": "execute_result"
    }
   ],
   "source": [
    "#propotion smoking catagorical \n",
    "df.smoker.value_counts(normalize=True)\n"
   ]
  },
  {
   "cell_type": "code",
   "execution_count": 107,
   "id": "95d84abf",
   "metadata": {},
   "outputs": [
    {
     "name": "stdout",
     "output_type": "stream",
     "text": [
      "0.3288883399389109 0.4311116600610891\n"
     ]
    }
   ],
   "source": [
    "#estimate the population proportion of smoking for tipss data at 90 % 95 % and 99 % level of confidence \n",
    "alpha = 0.1\n",
    "p = 0.38\n",
    "q = 1-p\n",
    "n=244\n",
    "zalphaby2=st.norm.isf(alpha/2)\n",
    "std_error=np.sqrt(p*q/n)\n",
    "me=zalphaby2*std_error\n",
    "l_ci=p-me\n",
    "u_ci=p+me\n",
    "print(l_ci,u_ci)\n"
   ]
  },
  {
   "cell_type": "code",
   "execution_count": 109,
   "id": "3725d390",
   "metadata": {},
   "outputs": [
    {
     "name": "stdout",
     "output_type": "stream",
     "text": [
      "0.3190967006009804 0.4409032993990196\n"
     ]
    }
   ],
   "source": [
    "#estimate the population proportion of smoking for tipss data at 90 % 95 % and 99 % level of confidence \n",
    "alpha = 0.05\n",
    "p = 0.38\n",
    "q = 1-p\n",
    "n=244\n",
    "zalphaby2=st.norm.isf(alpha/2)\n",
    "std_error=np.sqrt(p*q/n)\n",
    "me=zalphaby2*std_error\n",
    "l_ci=p-me\n",
    "u_ci=p+me\n",
    "print(l_ci,u_ci)\n"
   ]
  },
  {
   "cell_type": "code",
   "execution_count": 111,
   "id": "5d32099d",
   "metadata": {},
   "outputs": [
    {
     "name": "stdout",
     "output_type": "stream",
     "text": [
      "0.299959496953909 0.460040503046091\n"
     ]
    }
   ],
   "source": [
    "#estimate the population proportion of smoking for tipss data at 90 % 95 % and 99 % level of confidence \n",
    "alpha = 0.01\n",
    "p = 0.38\n",
    "q = 1-p\n",
    "n=244\n",
    "zalphaby2=st.norm.isf(alpha/2)\n",
    "std_error=np.sqrt(p*q/n)\n",
    "me=zalphaby2*std_error\n",
    "l_ci=p-me\n",
    "u_ci=p+me\n",
    "print(l_ci,u_ci)\n"
   ]
  },
  {
   "cell_type": "code",
   "execution_count": 113,
   "id": "6fff44f0",
   "metadata": {},
   "outputs": [
    {
     "data": {
      "text/plain": [
       "(0.3288883399389109, 0.43111166006108903)"
      ]
     },
     "execution_count": 113,
     "metadata": {},
     "output_type": "execute_result"
    }
   ],
   "source": [
    "st.norm.interval(0.9,p,std_error)"
   ]
  },
  {
   "cell_type": "code",
   "execution_count": 115,
   "id": "3cae36e1",
   "metadata": {},
   "outputs": [
    {
     "data": {
      "text/plain": [
       "(0.3190967006009804, 0.4409032993990196)"
      ]
     },
     "execution_count": 115,
     "metadata": {},
     "output_type": "execute_result"
    }
   ],
   "source": [
    "st.norm.interval(0.95,p,std_error)"
   ]
  },
  {
   "cell_type": "code",
   "execution_count": 117,
   "id": "173b1dd5",
   "metadata": {},
   "outputs": [
    {
     "data": {
      "text/plain": [
       "(0.299959496953909, 0.460040503046091)"
      ]
     },
     "execution_count": 117,
     "metadata": {},
     "output_type": "execute_result"
    }
   ],
   "source": [
    "st.norm.interval(0.99,p,std_error)"
   ]
  },
  {
   "cell_type": "code",
   "execution_count": 118,
   "id": "ab65e866",
   "metadata": {},
   "outputs": [],
   "source": [
    "#hypothisis rejection or selection accepted or not right or no \n",
    "# data to support your parameters about population \n"
   ]
  },
  {
   "cell_type": "code",
   "execution_count": 121,
   "id": "94ddca16",
   "metadata": {},
   "outputs": [
    {
     "data": {
      "text/html": [
       "<div>\n",
       "<style scoped>\n",
       "    .dataframe tbody tr th:only-of-type {\n",
       "        vertical-align: middle;\n",
       "    }\n",
       "\n",
       "    .dataframe tbody tr th {\n",
       "        vertical-align: top;\n",
       "    }\n",
       "\n",
       "    .dataframe thead th {\n",
       "        text-align: right;\n",
       "    }\n",
       "</style>\n",
       "<table border=\"1\" class=\"dataframe\">\n",
       "  <thead>\n",
       "    <tr style=\"text-align: right;\">\n",
       "      <th></th>\n",
       "      <th>total_bill</th>\n",
       "      <th>tip</th>\n",
       "      <th>sex</th>\n",
       "      <th>smoker</th>\n",
       "      <th>day</th>\n",
       "      <th>time</th>\n",
       "      <th>size</th>\n",
       "    </tr>\n",
       "  </thead>\n",
       "  <tbody>\n",
       "    <tr>\n",
       "      <th>0</th>\n",
       "      <td>16.99</td>\n",
       "      <td>1.01</td>\n",
       "      <td>Female</td>\n",
       "      <td>No</td>\n",
       "      <td>Sun</td>\n",
       "      <td>Dinner</td>\n",
       "      <td>2</td>\n",
       "    </tr>\n",
       "    <tr>\n",
       "      <th>1</th>\n",
       "      <td>10.34</td>\n",
       "      <td>1.66</td>\n",
       "      <td>Male</td>\n",
       "      <td>No</td>\n",
       "      <td>Sun</td>\n",
       "      <td>Dinner</td>\n",
       "      <td>3</td>\n",
       "    </tr>\n",
       "    <tr>\n",
       "      <th>2</th>\n",
       "      <td>21.01</td>\n",
       "      <td>3.50</td>\n",
       "      <td>Male</td>\n",
       "      <td>No</td>\n",
       "      <td>Sun</td>\n",
       "      <td>Dinner</td>\n",
       "      <td>3</td>\n",
       "    </tr>\n",
       "    <tr>\n",
       "      <th>3</th>\n",
       "      <td>23.68</td>\n",
       "      <td>3.31</td>\n",
       "      <td>Male</td>\n",
       "      <td>No</td>\n",
       "      <td>Sun</td>\n",
       "      <td>Dinner</td>\n",
       "      <td>2</td>\n",
       "    </tr>\n",
       "    <tr>\n",
       "      <th>4</th>\n",
       "      <td>24.59</td>\n",
       "      <td>3.61</td>\n",
       "      <td>Female</td>\n",
       "      <td>No</td>\n",
       "      <td>Sun</td>\n",
       "      <td>Dinner</td>\n",
       "      <td>4</td>\n",
       "    </tr>\n",
       "    <tr>\n",
       "      <th>...</th>\n",
       "      <td>...</td>\n",
       "      <td>...</td>\n",
       "      <td>...</td>\n",
       "      <td>...</td>\n",
       "      <td>...</td>\n",
       "      <td>...</td>\n",
       "      <td>...</td>\n",
       "    </tr>\n",
       "    <tr>\n",
       "      <th>239</th>\n",
       "      <td>29.03</td>\n",
       "      <td>5.92</td>\n",
       "      <td>Male</td>\n",
       "      <td>No</td>\n",
       "      <td>Sat</td>\n",
       "      <td>Dinner</td>\n",
       "      <td>3</td>\n",
       "    </tr>\n",
       "    <tr>\n",
       "      <th>240</th>\n",
       "      <td>27.18</td>\n",
       "      <td>2.00</td>\n",
       "      <td>Female</td>\n",
       "      <td>Yes</td>\n",
       "      <td>Sat</td>\n",
       "      <td>Dinner</td>\n",
       "      <td>2</td>\n",
       "    </tr>\n",
       "    <tr>\n",
       "      <th>241</th>\n",
       "      <td>22.67</td>\n",
       "      <td>2.00</td>\n",
       "      <td>Male</td>\n",
       "      <td>Yes</td>\n",
       "      <td>Sat</td>\n",
       "      <td>Dinner</td>\n",
       "      <td>2</td>\n",
       "    </tr>\n",
       "    <tr>\n",
       "      <th>242</th>\n",
       "      <td>17.82</td>\n",
       "      <td>1.75</td>\n",
       "      <td>Male</td>\n",
       "      <td>No</td>\n",
       "      <td>Sat</td>\n",
       "      <td>Dinner</td>\n",
       "      <td>2</td>\n",
       "    </tr>\n",
       "    <tr>\n",
       "      <th>243</th>\n",
       "      <td>18.78</td>\n",
       "      <td>3.00</td>\n",
       "      <td>Female</td>\n",
       "      <td>No</td>\n",
       "      <td>Thur</td>\n",
       "      <td>Dinner</td>\n",
       "      <td>2</td>\n",
       "    </tr>\n",
       "  </tbody>\n",
       "</table>\n",
       "<p>244 rows × 7 columns</p>\n",
       "</div>"
      ],
      "text/plain": [
       "     total_bill   tip     sex smoker   day    time  size\n",
       "0         16.99  1.01  Female     No   Sun  Dinner     2\n",
       "1         10.34  1.66    Male     No   Sun  Dinner     3\n",
       "2         21.01  3.50    Male     No   Sun  Dinner     3\n",
       "3         23.68  3.31    Male     No   Sun  Dinner     2\n",
       "4         24.59  3.61  Female     No   Sun  Dinner     4\n",
       "..          ...   ...     ...    ...   ...     ...   ...\n",
       "239       29.03  5.92    Male     No   Sat  Dinner     3\n",
       "240       27.18  2.00  Female    Yes   Sat  Dinner     2\n",
       "241       22.67  2.00    Male    Yes   Sat  Dinner     2\n",
       "242       17.82  1.75    Male     No   Sat  Dinner     2\n",
       "243       18.78  3.00  Female     No  Thur  Dinner     2\n",
       "\n",
       "[244 rows x 7 columns]"
      ]
     },
     "execution_count": 121,
     "metadata": {},
     "output_type": "execute_result"
    }
   ],
   "source": [
    "df"
   ]
  },
  {
   "cell_type": "code",
   "execution_count": 130,
   "id": "04e209dd",
   "metadata": {},
   "outputs": [
    {
     "data": {
      "text/plain": [
       "-0.37559294451919506"
      ]
     },
     "execution_count": 130,
     "metadata": {},
     "output_type": "execute_result"
    }
   ],
   "source": [
    "#avg vill is = 20 \n",
    "#verify the statement made by restourant manage a@ 5 % leval of singificance\n",
    "#step 1 #defining the state h0 and h1 \n",
    "#H0: mu_tb =20\n",
    "#H1: mu_tb !=20 \n",
    "\n",
    "#step  2 assume leval of sgnificance = 0.05 \n",
    "\n",
    "alpha=0.05 \n",
    "\n",
    "#step 3 : select appropriate test and find coresponding \n",
    "#test stastics one sample t test (test of mean)\n",
    "\n",
    "## t_statistic = xbar (sample mean) - hypothysis mean / standard error \n",
    "## std error = s / sqrt(n)\n",
    "xbar=df.total_bill.mean()\n",
    "s=df.total_bill.std()\n",
    "n=len(df.total_bill)\n",
    "se=s/np.sqrt(n)\n",
    "mu=20\n",
    "t_Stat=(xbar-mu)/se\n",
    "\n",
    "t_Stat\n",
    "\n"
   ]
  },
  {
   "cell_type": "code",
   "execution_count": 132,
   "id": "e3aa433d",
   "metadata": {},
   "outputs": [
    {
     "data": {
      "text/plain": [
       "-1.9697743954258797"
      ]
     },
     "execution_count": 132,
     "metadata": {},
     "output_type": "execute_result"
    }
   ],
   "source": [
    "#step 4  establitsh critcal regions and find the critical values \n",
    "\n",
    "talphay2=st.t.ppf(alpha/2,n-1)\n",
    "talphay2\n"
   ]
  },
  {
   "cell_type": "code",
   "execution_count": 145,
   "id": "a196d210",
   "metadata": {},
   "outputs": [
    {
     "name": "stdout",
     "output_type": "stream",
     "text": [
      "True\n",
      "since probablity is more than alpa H0 is true\n"
     ]
    },
    {
     "data": {
      "text/plain": [
       "(18.663331704358473, 20.908553541543167)"
      ]
     },
     "execution_count": 145,
     "metadata": {},
     "output_type": "execute_result"
    }
   ],
   "source": [
    "# step 5\n",
    "# CVA = crtical value pproach Decision Rule \n",
    "# s_stat > \n",
    "# Decision rule \n",
    "# infrerence  since abs (t_stat) = 0.375 < abs(t_critial) = 1.96 >>>> accept H0 : Claimed statement is true \n",
    "# P value methode \n",
    "#managed is true\n",
    "#statisctical consusion \n",
    "#hence we can condlude that te samep belongs to the population whos mena is 20\n",
    "#P Value Methode\n",
    "p= st.t.cdf(-0.375,n-1)*2\n",
    "print(p > alpha)\n",
    "\n",
    "if p > alpha:\n",
    "    print('since probablity is more than alpa H0 is true')\n",
    "    \n",
    "#Statistical conslusion\n",
    "#managed is true\n",
    "#statisctical consusion \n",
    "#hence we can condlude that te samep belongs to the population whos mena is 20\n",
    "#P Value Methode\n",
    "\n",
    "\n",
    "# third approach CIA confident interval approach \n",
    "st.t.interval(0.95,n-1,xbar,se)"
   ]
  },
  {
   "cell_type": "code",
   "execution_count": 146,
   "id": "274a33d9",
   "metadata": {},
   "outputs": [],
   "source": [
    "#since hypothesis mean lies btween ci limits accesspt H0:\n",
    "\n",
    "#redo other statements conclustions"
   ]
  },
  {
   "cell_type": "code",
   "execution_count": 148,
   "id": "36e8dbdf",
   "metadata": {},
   "outputs": [
    {
     "data": {
      "text/plain": [
       "TtestResult(statistic=-0.37559294451919506, pvalue=0.7075471935626723, df=243)"
      ]
     },
     "execution_count": 148,
     "metadata": {},
     "output_type": "execute_result"
    }
   ],
   "source": [
    "## one line \n",
    "\n",
    "st.ttest_1samp(df.total_bill,mu)"
   ]
  },
  {
   "cell_type": "code",
   "execution_count": 169,
   "id": "8798fc40",
   "metadata": {},
   "outputs": [
    {
     "data": {
      "text/plain": [
       "(2.7683104494155213, 3.2282469276336583)"
      ]
     },
     "execution_count": 169,
     "metadata": {},
     "output_type": "execute_result"
    }
   ],
   "source": [
    "##verify the statement : the average tip is  usd\n",
    "alpha=.01\n",
    "mu=df.tip.mean()\n",
    "st.ttest_1samp(df.tip,mu)\n",
    "s=df.tip.std()\n",
    "se=s/np.sqrt(n)\n",
    "st.t.interval(0.99,n-1,mu,se)"
   ]
  },
  {
   "cell_type": "code",
   "execution_count": 162,
   "id": "05850ef6",
   "metadata": {},
   "outputs": [
    {
     "data": {
      "text/plain": [
       "False"
      ]
     },
     "execution_count": 162,
     "metadata": {},
     "output_type": "execute_result"
    }
   ],
   "source": []
  }
 ],
 "metadata": {
  "kernelspec": {
   "display_name": "Python 3 (ipykernel)",
   "language": "python",
   "name": "python3"
  },
  "language_info": {
   "codemirror_mode": {
    "name": "ipython",
    "version": 3
   },
   "file_extension": ".py",
   "mimetype": "text/x-python",
   "name": "python",
   "nbconvert_exporter": "python",
   "pygments_lexer": "ipython3",
   "version": "3.10.9"
  }
 },
 "nbformat": 4,
 "nbformat_minor": 5
}
