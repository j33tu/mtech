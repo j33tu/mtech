{
 "cells": [
  {
   "cell_type": "markdown",
   "metadata": {
    "id": "mdho7r7eedA4"
   },
   "source": [
    "# SVD step-by-step"
   ]
  },
  {
   "cell_type": "code",
   "execution_count": 1,
   "metadata": {
    "id": "cwwNA8MVedA5"
   },
   "outputs": [
    {
     "data": {
      "text/plain": [
       "(20, 18)"
      ]
     },
     "execution_count": 1,
     "metadata": {},
     "output_type": "execute_result"
    }
   ],
   "source": [
    "import numpy as np\n",
    "A = np.array([[ 8.87527583e-01,  1.24122329e+00,  6.46039833e-01,\n",
    "        -2.74955535e-01,  2.43664729e-01,  4.71542633e-01,\n",
    "        -4.11624849e-01,  2.26245831e+00,  3.18887855e+00,\n",
    "        -1.61608519e+00,  1.97405283e+00, -1.20845603e+00,\n",
    "        -4.63301139e-01, -9.29716978e-01, -1.09391392e-02,\n",
    "        -5.46536763e-01, -2.87911328e-02, -1.45283351e+00],\n",
    "       [ 6.60347539e-01,  1.36323706e+00, -1.29995501e+00,\n",
    "         7.71354377e-01, -7.19404881e-01, -3.88208737e-01,\n",
    "        -1.07692146e+00, -1.66667490e+00, -7.83457970e-01,\n",
    "         1.05158399e+00, -1.10034459e+00, -8.77421973e-01,\n",
    "        -7.86289102e-01, -9.63233078e-01, -6.52765522e-01,\n",
    "        -1.22044885e-01, -4.63311537e-01, -3.22043711e-01],\n",
    "       [ 3.21198957e-01,  1.61935613e+00, -1.04122001e+00,\n",
    "        -2.04453305e+00,  2.67677001e+00,  1.01935027e+00,\n",
    "        -5.20280078e-03, -5.37561871e-01, -3.18105623e-01,\n",
    "        -2.15137465e-01,  1.46717267e+00, -3.10127094e-01,\n",
    "         6.27813046e-02, -5.76294774e-01,  8.74371031e-01,\n",
    "        -4.56549897e-01, -3.36510769e-02, -1.47805577e+00],\n",
    "       [-5.85941768e-01, -1.01019317e+00,  3.75726842e-01,\n",
    "        -4.65158228e-01, -5.19547278e-01, -6.49315761e-01,\n",
    "         7.44022955e-01,  2.56446386e-01,  1.46162889e-01,\n",
    "         9.37305832e-01,  1.09663824e+00, -1.71941069e+00,\n",
    "        -1.85229368e+00,  1.37297048e+00,  1.04947563e+00,\n",
    "         4.10860694e-01,  7.57855579e-01,  1.81607236e-01],\n",
    "       [-1.87251546e+00,  1.47858364e+00, -4.91175419e-02,\n",
    "         4.03212186e-01, -8.43324344e-01,  1.66877216e+00,\n",
    "        -1.10583511e+00,  5.81532928e-01, -2.58438305e+00,\n",
    "         1.94776978e+00, -7.85319429e-01, -6.88701315e-01,\n",
    "         6.19759941e-01,  6.06867417e-01, -9.63391619e-02,\n",
    "        -4.79546583e-01,  6.23115110e-01, -7.06468322e-01],\n",
    "       [-4.56854595e-01,  8.64722548e-01, -4.73111105e-01,\n",
    "        -3.29556141e-01, -1.25447718e+00,  1.41694995e+00,\n",
    "        -1.32262206e-01,  7.79027797e-01,  1.40427908e+00,\n",
    "        -1.30328840e-01,  4.10515652e-01, -1.01116773e+00,\n",
    "        -2.29587924e+00, -9.35804567e-01, -2.13056621e+00,\n",
    "        -9.37598426e-01,  4.60978806e-01,  4.84504483e-01],\n",
    "       [ 1.07156701e+00,  6.53147069e-01,  5.65726743e-01,\n",
    "        -1.14918038e+00,  9.55947922e-01,  5.31493869e-01,\n",
    "         4.87398508e-02,  5.16313917e-01, -1.21328948e-02,\n",
    "        -6.89399160e-01,  5.12424502e-03, -1.34647591e+00,\n",
    "         2.02218028e-01, -1.61289866e-01,  5.21563186e-02,\n",
    "         9.47423575e-01, -1.26507366e+00,  1.64007840e+00],\n",
    "       [-2.43536429e+00, -1.98394990e-01,  1.52246400e+00,\n",
    "         8.09875288e-01,  1.38763753e+00,  6.17065489e-01,\n",
    "        -5.75584789e-02,  1.31889117e-01, -7.07579584e-03,\n",
    "        -9.35405100e-01,  1.16789799e+00, -1.51946897e-02,\n",
    "         1.72325264e+00, -2.62581892e+00,  1.57204829e+00,\n",
    "         2.00801477e-01,  4.66953507e-01, -1.11341945e+00],\n",
    "       [-9.57431014e-03, -6.79262281e-01, -2.14070508e+00,\n",
    "         6.56339756e-01, -2.50608653e-01,  2.55043683e+00,\n",
    "         3.27761569e-02, -7.16637291e-01, -4.05716018e-01,\n",
    "        -3.15379253e-01,  7.85593300e-01, -1.31528065e+00,\n",
    "         2.40852139e+00,  1.16304817e+00, -1.10130342e+00,\n",
    "        -5.94411440e-01,  6.14903944e-01, -1.98447930e+00],\n",
    "       [ 2.63158509e-01, -5.54308989e-01,  5.83749895e-01,\n",
    "        -2.75022360e-01, -5.72141624e-01, -6.21679185e-01,\n",
    "         1.53542857e+00, -2.55336752e-01,  7.03625919e-01,\n",
    "        -1.29725085e+00, -1.18292321e+00, -2.27360130e-01,\n",
    "        -8.40529213e-01,  1.11162751e+00,  3.66416940e-01,\n",
    "         5.26083311e-01, -1.27628305e+00,  1.45811185e+00],\n",
    "       [ 4.70134710e-01,  4.38377896e-01,  1.11869119e+00,\n",
    "         4.27162254e-01,  1.30041064e-01,  1.60776344e+00,\n",
    "         2.24989200e-01, -8.73659349e-01, -1.12250069e+00,\n",
    "        -8.84938569e-01, -1.83911668e+00, -1.78167366e+00,\n",
    "        -1.41140642e+00,  1.56241809e+00, -1.80369012e+00,\n",
    "        -8.44294994e-01, -6.84380688e-01, -1.09438530e+00],\n",
    "       [-1.03144883e+00,  1.57721930e-01,  1.02789263e+00,\n",
    "         2.33172697e-01, -8.62882135e-01,  1.65059037e+00,\n",
    "        -1.27953249e-01,  1.26924872e+00,  2.18077202e-01,\n",
    "        -1.74391950e+00,  1.14349148e+00, -1.78598007e+00,\n",
    "        -7.92223465e-01,  4.81297638e-01,  5.97570385e-01,\n",
    "        -2.08504444e-01,  4.59344556e-02, -1.76250833e+00],\n",
    "       [-9.80083742e-01,  8.54491827e-01,  1.04842965e+00,\n",
    "        -8.18898087e-01, -4.37375624e-02,  1.24406017e+00,\n",
    "        -1.14408791e+00,  7.32440960e-02, -1.20059452e-03,\n",
    "        -1.03860795e+00,  1.14075662e+00, -6.08323874e-01,\n",
    "         2.03758087e-01, -4.02847693e-01,  4.35339173e-01,\n",
    "        -9.73025955e-01, -8.57467462e-01,  2.72278718e-01],\n",
    "       [-1.01583535e-01, -1.65569639e-01, -6.80134553e-01,\n",
    "        -1.13049926e+00,  6.31999523e-01, -5.01501016e-01,\n",
    "        -1.02192225e+00,  3.34639188e-01,  8.22339057e-01,\n",
    "         7.09369206e-01, -3.48494464e-01, -5.16903702e-01,\n",
    "        -1.99642765e+00, -1.18531145e+00, -1.56579343e+00,\n",
    "        -6.47371699e-01,  8.80262668e-01, -7.80236165e-01],\n",
    "       [ 5.59612944e-01, -1.36200612e+00,  1.51244930e+00,\n",
    "        -1.41665392e+00,  1.40501047e+00,  6.02192794e-01,\n",
    "         8.72101908e-01, -1.00341676e+00, -2.32474680e+00,\n",
    "         3.11303344e-01,  1.39708492e+00, -2.07371601e-01,\n",
    "        -3.12897198e-01,  2.01573203e+00,  2.01134530e-01,\n",
    "        -1.84793086e+00,  9.35044039e-01, -6.68211826e-01],\n",
    "       [-1.72935416e+00,  1.09790396e+00, -1.19141736e-01,\n",
    "        -8.48702169e-01,  1.49562459e+00,  6.59459299e-01,\n",
    "         5.96669590e-01, -2.24961121e+00,  6.39841881e-01,\n",
    "        -1.37691069e+00, -1.35002908e+00, -1.40182759e+00,\n",
    "        -2.11424169e-01, -6.26534323e-01, -2.32185360e-01,\n",
    "        -3.61546474e-01,  6.44384105e-01,  6.40410862e-01],\n",
    "       [ 8.12907134e-01, -1.97775193e-01,  2.57824946e-01,\n",
    "         1.97926633e-01,  4.73752019e-01, -1.53066620e+00,\n",
    "         4.84663409e-01,  3.56919864e-01, -1.06887254e+00,\n",
    "        -6.73684863e-01, -1.04422995e+00, -1.37030278e+00,\n",
    "        -7.07438912e-01, -9.23831825e-01, -7.54917642e-01,\n",
    "         1.23111820e-01, -5.97816650e-01,  1.98698340e-01],\n",
    "       [-4.86993463e-01,  5.05978433e-01, -9.62920202e-01,\n",
    "         3.45552735e-01, -1.89070127e+00, -4.83685721e-01,\n",
    "         9.16749117e-01,  8.70521513e-02,  2.36434500e-01,\n",
    "        -1.03743572e+00,  3.29007110e-01,  1.80114951e-01,\n",
    "        -1.56053457e+00, -8.51477195e-01,  3.22455555e-01,\n",
    "        -1.01895820e+00,  5.38074610e-01, -2.93102274e+00],\n",
    "       [ 4.19512169e-01, -1.25527399e-02, -1.08535152e+00,\n",
    "        -5.22888264e-01, -3.91848292e-01,  1.51233555e+00,\n",
    "        -2.49440770e-01,  7.81456576e-01,  1.56018768e+00,\n",
    "         1.25419472e-01, -1.09250298e+00,  1.34601253e+00,\n",
    "         1.40845924e+00, -8.71929615e-01, -4.47628934e-01,\n",
    "        -9.53498394e-01,  1.22191417e+00, -1.26468670e+00],\n",
    "       [-5.80552236e-01,  2.66709210e-01,  4.42056244e-01,\n",
    "         1.16667532e+00, -2.60379510e-02,  7.37232406e-01,\n",
    "        -1.50499151e+00,  2.41193998e-01, -1.24553341e-02,\n",
    "         1.58411962e-02, -1.52284867e+00,  9.36671432e-01,\n",
    "         1.72711182e+00, -7.27231404e-01, -4.33301423e-01,        \n",
    "        -4.20498702e-01,  1.15362859e+00,  1.91174282e+00]])\n",
    "A.shape"
   ]
  },
  {
   "cell_type": "markdown",
   "metadata": {
    "id": "lmg3LN8gedA-"
   },
   "source": [
    "### Determine P"
   ]
  },
  {
   "cell_type": "code",
   "execution_count": null,
   "metadata": {
    "id": "FVIjeFEyedA-"
   },
   "outputs": [],
   "source": [
    "## Transpose of A\n",
    "A_T= A.transpose()\n",
    "## Multiply A with A-transpose\n",
    "B = np.matmul( A , A_T)\n",
    "## Find the eigen value and eigen vector of  the new resulted matrix\n",
    "val , vec = np.linalg.eig(B) #Here, eigenvectors are normalized and orthogonal\n",
    "## Slice out the eigen vector as the size of each vector\n",
    "P = vec[:,:A.shape[1]]  ##P"
   ]
  },
  {
   "cell_type": "code",
   "execution_count": null,
   "metadata": {
    "id": "l8Z3NozXg6qz"
   },
   "outputs": [],
   "source": [
    "P"
   ]
  },
  {
   "cell_type": "markdown",
   "metadata": {
    "id": "reQbFyV5edBB"
   },
   "source": [
    "### Determine D"
   ]
  },
  {
   "cell_type": "code",
   "execution_count": null,
   "metadata": {
    "id": "mHDL4JE0edBB"
   },
   "outputs": [],
   "source": [
    "## Multiply  A-transpose with A\n",
    "C = np.matmul( A_T , A )\n",
    "## Find the eigen value and eigen vector of the new resulted matrix\n",
    "val_ , vec_ = np.linalg.eig(C)  #Here, eigenvectors are normalized and orthogonal\n",
    "## Find the square root of eigen values of the new resulted matrix\n",
    "D = np.sqrt(val_) ##D\n",
    "D.shape"
   ]
  },
  {
   "cell_type": "code",
   "execution_count": null,
   "metadata": {
    "id": "EXgK_fkRhSWT"
   },
   "outputs": [],
   "source": [
    "D"
   ]
  },
  {
   "cell_type": "markdown",
   "metadata": {
    "id": "mCUTq1LyedBE"
   },
   "source": [
    "### Determine Q"
   ]
  },
  {
   "cell_type": "code",
   "execution_count": null,
   "metadata": {
    "id": "1pJcvUKjedBE"
   },
   "outputs": [],
   "source": [
    "## Transpose of the eigen value of the new resulted matrix\n",
    "Q = vec_.transpose() ##Q\n",
    "print(Q.shape)"
   ]
  },
  {
   "cell_type": "code",
   "execution_count": null,
   "metadata": {
    "id": "U00N92vbhUdg"
   },
   "outputs": [],
   "source": [
    "Q"
   ]
  },
  {
   "cell_type": "markdown",
   "metadata": {
    "id": "Py7GW11jedBH"
   },
   "source": [
    "### A = PDQ"
   ]
  },
  {
   "cell_type": "code",
   "execution_count": null,
   "metadata": {
    "id": "Gffwa81MedBH"
   },
   "outputs": [],
   "source": [
    "##Formulating the original matrix by multiplying P , D and Q matrices\n",
    "AA_a = np.matmul(np.matmul(P, np.diag(D)), Q)\n",
    "AA_a"
   ]
  },
  {
   "cell_type": "markdown",
   "metadata": {
    "id": "kygkT1jsedBK"
   },
   "source": [
    "### Let's see the variance of the original matrix and the new matrix"
   ]
  },
  {
   "cell_type": "code",
   "execution_count": null,
   "metadata": {
    "id": "AG1SHRVoedBK"
   },
   "outputs": [],
   "source": [
    "print(np.std(A), np.std(AA_a))"
   ]
  },
  {
   "cell_type": "markdown",
   "metadata": {
    "id": "N7cqrHWDedBN"
   },
   "source": [
    "## Code at once"
   ]
  },
  {
   "cell_type": "code",
   "execution_count": null,
   "metadata": {
    "id": "mvGH5X1zedBO"
   },
   "outputs": [],
   "source": [
    "A_T= A.transpose()\n",
    "B = np.matmul( A , A_T)\n",
    "val , vec = np.linalg.eig(B)\n",
    "\n",
    "P = vec[:,:A.shape[1]]  ##P\n",
    "C = np.matmul( A_T , A )\n",
    "val_ , vec_ = np.linalg.eig(C)\n",
    "D = np.sqrt(val_) ##D\n",
    "Q = vec_.transpose() ##Q\n",
    "A_a = np.matmul(np.matmul(P, np.diag(D)), Q)\n",
    "print(np.std(A), np.std(A_a))"
   ]
  },
  {
   "cell_type": "code",
   "execution_count": null,
   "metadata": {
    "id": "lYu1mzqjgDhH"
   },
   "outputs": [],
   "source": [
    "U, S, V = np.linalg.svd(A)"
   ]
  },
  {
   "cell_type": "code",
   "execution_count": null,
   "metadata": {
    "id": "CaQaXSQSgsGl"
   },
   "outputs": [],
   "source": [
    "print(U)"
   ]
  },
  {
   "cell_type": "code",
   "execution_count": null,
   "metadata": {
    "id": "n8JWqcq5hIon"
   },
   "outputs": [],
   "source": [
    "print(S)"
   ]
  },
  {
   "cell_type": "code",
   "execution_count": null,
   "metadata": {
    "id": "x5WDjVufhK6C"
   },
   "outputs": [],
   "source": [
    "print(V)"
   ]
  },
  {
   "cell_type": "markdown",
   "metadata": {
    "id": "r2qrV4fbedBR"
   },
   "source": [
    "# SVD Application on Image"
   ]
  },
  {
   "cell_type": "code",
   "execution_count": 2,
   "metadata": {
    "id": "6WfvHjweedBR"
   },
   "outputs": [],
   "source": [
    "# get the image from \"https://cdn.pixabay.com/photo/2017/03/27/16/50/beach-2179624_960_720.jpg\"\n",
    "import numpy as np\n",
    "import pandas as pd\n",
    "import matplotlib.pyplot as plt\n",
    "import skimage.io as io\n",
    "from skimage.color import rgb2gray"
   ]
  },
  {
   "cell_type": "code",
   "execution_count": 3,
   "metadata": {
    "id": "HvQkLr3DedBT"
   },
   "outputs": [
    {
     "ename": "FileNotFoundError",
     "evalue": "No such file: '/Users/joanna/Desktop/G2/DevOps/mtech/ClassLectures/Mathes Foundation/Faculty notebooks S4/flower.jpg'",
     "output_type": "error",
     "traceback": [
      "\u001b[0;31m---------------------------------------------------------------------------\u001b[0m",
      "\u001b[0;31mFileNotFoundError\u001b[0m                         Traceback (most recent call last)",
      "Cell \u001b[0;32mIn[3], line 2\u001b[0m\n\u001b[1;32m      1\u001b[0m \u001b[38;5;66;03m# read image in grayscale\u001b[39;00m\n\u001b[0;32m----> 2\u001b[0m img \u001b[38;5;241m=\u001b[39m \u001b[43mio\u001b[49m\u001b[38;5;241;43m.\u001b[39;49m\u001b[43mimread\u001b[49m\u001b[43m(\u001b[49m\u001b[38;5;124;43m'\u001b[39;49m\u001b[38;5;124;43mflower.jpg\u001b[39;49m\u001b[38;5;124;43m'\u001b[39;49m\u001b[43m,\u001b[49m\u001b[43m \u001b[49m\u001b[43mas_gray\u001b[49m\u001b[38;5;241;43m=\u001b[39;49m\u001b[38;5;28;43;01mTrue\u001b[39;49;00m\u001b[43m)\u001b[49m\n",
      "File \u001b[0;32m~/anaconda3/lib/python3.10/site-packages/skimage/io/_io.py:53\u001b[0m, in \u001b[0;36mimread\u001b[0;34m(fname, as_gray, plugin, **plugin_args)\u001b[0m\n\u001b[1;32m     50\u001b[0m         plugin \u001b[38;5;241m=\u001b[39m \u001b[38;5;124m'\u001b[39m\u001b[38;5;124mtifffile\u001b[39m\u001b[38;5;124m'\u001b[39m\n\u001b[1;32m     52\u001b[0m \u001b[38;5;28;01mwith\u001b[39;00m file_or_url_context(fname) \u001b[38;5;28;01mas\u001b[39;00m fname:\n\u001b[0;32m---> 53\u001b[0m     img \u001b[38;5;241m=\u001b[39m \u001b[43mcall_plugin\u001b[49m\u001b[43m(\u001b[49m\u001b[38;5;124;43m'\u001b[39;49m\u001b[38;5;124;43mimread\u001b[39;49m\u001b[38;5;124;43m'\u001b[39;49m\u001b[43m,\u001b[49m\u001b[43m \u001b[49m\u001b[43mfname\u001b[49m\u001b[43m,\u001b[49m\u001b[43m \u001b[49m\u001b[43mplugin\u001b[49m\u001b[38;5;241;43m=\u001b[39;49m\u001b[43mplugin\u001b[49m\u001b[43m,\u001b[49m\u001b[43m \u001b[49m\u001b[38;5;241;43m*\u001b[39;49m\u001b[38;5;241;43m*\u001b[39;49m\u001b[43mplugin_args\u001b[49m\u001b[43m)\u001b[49m\n\u001b[1;32m     55\u001b[0m \u001b[38;5;28;01mif\u001b[39;00m \u001b[38;5;129;01mnot\u001b[39;00m \u001b[38;5;28mhasattr\u001b[39m(img, \u001b[38;5;124m'\u001b[39m\u001b[38;5;124mndim\u001b[39m\u001b[38;5;124m'\u001b[39m):\n\u001b[1;32m     56\u001b[0m     \u001b[38;5;28;01mreturn\u001b[39;00m img\n",
      "File \u001b[0;32m~/anaconda3/lib/python3.10/site-packages/skimage/io/manage_plugins.py:207\u001b[0m, in \u001b[0;36mcall_plugin\u001b[0;34m(kind, *args, **kwargs)\u001b[0m\n\u001b[1;32m    203\u001b[0m     \u001b[38;5;28;01mexcept\u001b[39;00m \u001b[38;5;167;01mIndexError\u001b[39;00m:\n\u001b[1;32m    204\u001b[0m         \u001b[38;5;28;01mraise\u001b[39;00m \u001b[38;5;167;01mRuntimeError\u001b[39;00m(\u001b[38;5;124m'\u001b[39m\u001b[38;5;124mCould not find the plugin \u001b[39m\u001b[38;5;124m\"\u001b[39m\u001b[38;5;132;01m%s\u001b[39;00m\u001b[38;5;124m\"\u001b[39m\u001b[38;5;124m for \u001b[39m\u001b[38;5;132;01m%s\u001b[39;00m\u001b[38;5;124m.\u001b[39m\u001b[38;5;124m'\u001b[39m \u001b[38;5;241m%\u001b[39m\n\u001b[1;32m    205\u001b[0m                            (plugin, kind))\n\u001b[0;32m--> 207\u001b[0m \u001b[38;5;28;01mreturn\u001b[39;00m \u001b[43mfunc\u001b[49m\u001b[43m(\u001b[49m\u001b[38;5;241;43m*\u001b[39;49m\u001b[43margs\u001b[49m\u001b[43m,\u001b[49m\u001b[43m \u001b[49m\u001b[38;5;241;43m*\u001b[39;49m\u001b[38;5;241;43m*\u001b[39;49m\u001b[43mkwargs\u001b[49m\u001b[43m)\u001b[49m\n",
      "File \u001b[0;32m~/anaconda3/lib/python3.10/site-packages/skimage/io/_plugins/imageio_plugin.py:15\u001b[0m, in \u001b[0;36mimread\u001b[0;34m(*args, **kwargs)\u001b[0m\n\u001b[1;32m     13\u001b[0m \u001b[38;5;129m@wraps\u001b[39m(imageio_imread)\n\u001b[1;32m     14\u001b[0m \u001b[38;5;28;01mdef\u001b[39;00m \u001b[38;5;21mimread\u001b[39m(\u001b[38;5;241m*\u001b[39margs, \u001b[38;5;241m*\u001b[39m\u001b[38;5;241m*\u001b[39mkwargs):\n\u001b[0;32m---> 15\u001b[0m     \u001b[38;5;28;01mreturn\u001b[39;00m np\u001b[38;5;241m.\u001b[39masarray(\u001b[43mimageio_imread\u001b[49m\u001b[43m(\u001b[49m\u001b[38;5;241;43m*\u001b[39;49m\u001b[43margs\u001b[49m\u001b[43m,\u001b[49m\u001b[43m \u001b[49m\u001b[38;5;241;43m*\u001b[39;49m\u001b[38;5;241;43m*\u001b[39;49m\u001b[43mkwargs\u001b[49m\u001b[43m)\u001b[49m)\n",
      "File \u001b[0;32m~/anaconda3/lib/python3.10/site-packages/imageio/v2.py:226\u001b[0m, in \u001b[0;36mimread\u001b[0;34m(uri, format, **kwargs)\u001b[0m\n\u001b[1;32m    223\u001b[0m imopen_args \u001b[38;5;241m=\u001b[39m decypher_format_arg(\u001b[38;5;28mformat\u001b[39m)\n\u001b[1;32m    224\u001b[0m imopen_args[\u001b[38;5;124m\"\u001b[39m\u001b[38;5;124mlegacy_mode\u001b[39m\u001b[38;5;124m\"\u001b[39m] \u001b[38;5;241m=\u001b[39m \u001b[38;5;28;01mTrue\u001b[39;00m\n\u001b[0;32m--> 226\u001b[0m \u001b[38;5;28;01mwith\u001b[39;00m \u001b[43mimopen\u001b[49m\u001b[43m(\u001b[49m\u001b[43muri\u001b[49m\u001b[43m,\u001b[49m\u001b[43m \u001b[49m\u001b[38;5;124;43m\"\u001b[39;49m\u001b[38;5;124;43mri\u001b[39;49m\u001b[38;5;124;43m\"\u001b[39;49m\u001b[43m,\u001b[49m\u001b[43m \u001b[49m\u001b[38;5;241;43m*\u001b[39;49m\u001b[38;5;241;43m*\u001b[39;49m\u001b[43mimopen_args\u001b[49m\u001b[43m)\u001b[49m \u001b[38;5;28;01mas\u001b[39;00m file:\n\u001b[1;32m    227\u001b[0m     result \u001b[38;5;241m=\u001b[39m file\u001b[38;5;241m.\u001b[39mread(index\u001b[38;5;241m=\u001b[39m\u001b[38;5;241m0\u001b[39m, \u001b[38;5;241m*\u001b[39m\u001b[38;5;241m*\u001b[39mkwargs)\n\u001b[1;32m    229\u001b[0m \u001b[38;5;28;01mreturn\u001b[39;00m result\n",
      "File \u001b[0;32m~/anaconda3/lib/python3.10/site-packages/imageio/core/imopen.py:113\u001b[0m, in \u001b[0;36mimopen\u001b[0;34m(uri, io_mode, plugin, extension, format_hint, legacy_mode, **kwargs)\u001b[0m\n\u001b[1;32m    111\u001b[0m     request\u001b[38;5;241m.\u001b[39mformat_hint \u001b[38;5;241m=\u001b[39m format_hint\n\u001b[1;32m    112\u001b[0m \u001b[38;5;28;01melse\u001b[39;00m:\n\u001b[0;32m--> 113\u001b[0m     request \u001b[38;5;241m=\u001b[39m \u001b[43mRequest\u001b[49m\u001b[43m(\u001b[49m\u001b[43muri\u001b[49m\u001b[43m,\u001b[49m\u001b[43m \u001b[49m\u001b[43mio_mode\u001b[49m\u001b[43m,\u001b[49m\u001b[43m \u001b[49m\u001b[43mformat_hint\u001b[49m\u001b[38;5;241;43m=\u001b[39;49m\u001b[43mformat_hint\u001b[49m\u001b[43m,\u001b[49m\u001b[43m \u001b[49m\u001b[43mextension\u001b[49m\u001b[38;5;241;43m=\u001b[39;49m\u001b[43mextension\u001b[49m\u001b[43m)\u001b[49m\n\u001b[1;32m    115\u001b[0m source \u001b[38;5;241m=\u001b[39m \u001b[38;5;124m\"\u001b[39m\u001b[38;5;124m<bytes>\u001b[39m\u001b[38;5;124m\"\u001b[39m \u001b[38;5;28;01mif\u001b[39;00m \u001b[38;5;28misinstance\u001b[39m(uri, \u001b[38;5;28mbytes\u001b[39m) \u001b[38;5;28;01melse\u001b[39;00m uri\n\u001b[1;32m    117\u001b[0m \u001b[38;5;66;03m# fast-path based on plugin\u001b[39;00m\n\u001b[1;32m    118\u001b[0m \u001b[38;5;66;03m# (except in legacy mode)\u001b[39;00m\n",
      "File \u001b[0;32m~/anaconda3/lib/python3.10/site-packages/imageio/core/request.py:247\u001b[0m, in \u001b[0;36mRequest.__init__\u001b[0;34m(self, uri, mode, extension, format_hint, **kwargs)\u001b[0m\n\u001b[1;32m    244\u001b[0m     \u001b[38;5;28;01mraise\u001b[39;00m \u001b[38;5;167;01mValueError\u001b[39;00m(\u001b[38;5;124mf\u001b[39m\u001b[38;5;124m\"\u001b[39m\u001b[38;5;124mInvalid Request.Mode: \u001b[39m\u001b[38;5;132;01m{\u001b[39;00mmode\u001b[38;5;132;01m}\u001b[39;00m\u001b[38;5;124m\"\u001b[39m)\n\u001b[1;32m    246\u001b[0m \u001b[38;5;66;03m# Parse what was given\u001b[39;00m\n\u001b[0;32m--> 247\u001b[0m \u001b[38;5;28;43mself\u001b[39;49m\u001b[38;5;241;43m.\u001b[39;49m\u001b[43m_parse_uri\u001b[49m\u001b[43m(\u001b[49m\u001b[43muri\u001b[49m\u001b[43m)\u001b[49m\n\u001b[1;32m    249\u001b[0m \u001b[38;5;66;03m# Set extension\u001b[39;00m\n\u001b[1;32m    250\u001b[0m \u001b[38;5;28;01mif\u001b[39;00m extension \u001b[38;5;129;01mis\u001b[39;00m \u001b[38;5;129;01mnot\u001b[39;00m \u001b[38;5;28;01mNone\u001b[39;00m:\n",
      "File \u001b[0;32m~/anaconda3/lib/python3.10/site-packages/imageio/core/request.py:407\u001b[0m, in \u001b[0;36mRequest._parse_uri\u001b[0;34m(self, uri)\u001b[0m\n\u001b[1;32m    404\u001b[0m \u001b[38;5;28;01mif\u001b[39;00m is_read_request:\n\u001b[1;32m    405\u001b[0m     \u001b[38;5;66;03m# Reading: check that the file exists (but is allowed a dir)\u001b[39;00m\n\u001b[1;32m    406\u001b[0m     \u001b[38;5;28;01mif\u001b[39;00m \u001b[38;5;129;01mnot\u001b[39;00m os\u001b[38;5;241m.\u001b[39mpath\u001b[38;5;241m.\u001b[39mexists(fn):\n\u001b[0;32m--> 407\u001b[0m         \u001b[38;5;28;01mraise\u001b[39;00m \u001b[38;5;167;01mFileNotFoundError\u001b[39;00m(\u001b[38;5;124m\"\u001b[39m\u001b[38;5;124mNo such file: \u001b[39m\u001b[38;5;124m'\u001b[39m\u001b[38;5;132;01m%s\u001b[39;00m\u001b[38;5;124m'\u001b[39m\u001b[38;5;124m\"\u001b[39m \u001b[38;5;241m%\u001b[39m fn)\n\u001b[1;32m    408\u001b[0m \u001b[38;5;28;01melse\u001b[39;00m:\n\u001b[1;32m    409\u001b[0m     \u001b[38;5;66;03m# Writing: check that the directory to write to does exist\u001b[39;00m\n\u001b[1;32m    410\u001b[0m     dn \u001b[38;5;241m=\u001b[39m os\u001b[38;5;241m.\u001b[39mpath\u001b[38;5;241m.\u001b[39mdirname(fn)\n",
      "\u001b[0;31mFileNotFoundError\u001b[0m: No such file: '/Users/joanna/Desktop/G2/DevOps/mtech/ClassLectures/Mathes Foundation/Faculty notebooks S4/flower.jpg'"
     ]
    }
   ],
   "source": [
    "# read image in grayscale\n",
    "img = io.imread('flower.jpg', as_gray=True)"
   ]
  },
  {
   "cell_type": "code",
   "execution_count": null,
   "metadata": {
    "id": "KGpTsFKkedBa"
   },
   "outputs": [],
   "source": [
    "# obtain svd\n",
    "U, S, V = np.linalg.svd(img)"
   ]
  },
  {
   "cell_type": "code",
   "execution_count": null,
   "metadata": {
    "id": "CBofrSEGedBd"
   },
   "outputs": [],
   "source": [
    "# inspect shapes of the matrices\n",
    "print(U.shape, S.shape, V.shape)"
   ]
  },
  {
   "cell_type": "code",
   "execution_count": null,
   "metadata": {
    "id": "-hy5VhBaedBg"
   },
   "outputs": [],
   "source": [
    "U"
   ]
  },
  {
   "cell_type": "code",
   "execution_count": null,
   "metadata": {
    "id": "ob0hIjt9edBi"
   },
   "outputs": [],
   "source": [
    "# plot images with different number of components\n",
    "comps = [300, 200, 100, 50, 25, 10]\n",
    "\n",
    "plt.figure(figsize = (16, 8))\n",
    "for i in range(6):\n",
    "    low_rank = U[:, :comps[i]] @ np.diag(S[:comps[i]]) @ V[:comps[i], :]\n",
    "    if(i  == 0):\n",
    "        a = plt.imshow(low_rank, cmap = 'gray')   \n",
    "        plt.subplot(2, 3, i+1), plt.imshow(low_rank, cmap = 'gray'), plt.axis('off'), plt.title(\"Original Image with n_components =\" + str(comps[i]))\n",
    "    else:\n",
    "        a = plt.imshow(low_rank, cmap = 'gray')\n",
    "        plt.subplot(2, 3, i+1), plt.imshow(low_rank, cmap = 'gray'), plt.axis('off'), plt.title(\"n_components =\" + str(comps[i]))\n"
   ]
  }
 ],
 "metadata": {
  "colab": {
   "collapsed_sections": [],
   "name": "SVD_updated.ipynb",
   "provenance": []
  },
  "kernelspec": {
   "display_name": "Python 3 (ipykernel)",
   "language": "python",
   "name": "python3"
  },
  "language_info": {
   "codemirror_mode": {
    "name": "ipython",
    "version": 3
   },
   "file_extension": ".py",
   "mimetype": "text/x-python",
   "name": "python",
   "nbconvert_exporter": "python",
   "pygments_lexer": "ipython3",
   "version": "3.10.9"
  }
 },
 "nbformat": 4,
 "nbformat_minor": 1
}
