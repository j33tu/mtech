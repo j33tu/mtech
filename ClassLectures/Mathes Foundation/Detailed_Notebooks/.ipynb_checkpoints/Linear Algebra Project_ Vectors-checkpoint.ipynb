{
 "cells": [
  {
   "cell_type": "markdown",
   "metadata": {},
   "source": [
    "# I -Vectors \n",
    "-------------------------------------------------------------------------------------------------------------------------\n",
    "- 1\\. **Vectors**\n",
    "- 1.1\\. Vectors \n",
    "- 1.2\\. Vector addition / Substarction/Scalar-vector multiplication \n",
    "- 1.3 \\. Norms\n",
    "- 1.4\\. dot produt Inner product \n",
    "- 1.5\\. Orthogoanlity and projection\n",
    "- 1.6\\. Span\n",
    "- 1.7\\. Linear dependance \\ Independance\n",
    "- ====================================================================================================================="
   ]
  },
  {
   "cell_type": "markdown",
   "metadata": {},
   "source": [
    "- The word vector comes from the Latin for “carrier”\n",
    "- A vector is an ordered finite list of numbers(**When working with Data**). \n",
    "- Vectors are usually written as vertical arrays, surrounded by square or curved brackets, as in \n",
    "- $\\begin{bmatrix} -1.1\\\\0.0\\\\3.6\\\\-7.2 \\end{bmatrix}$ or $\\begin{pmatrix} -1.1\\\\0.0\\\\3.6\\\\-7.2 \\end{pmatrix}$ or $\\left ( - 1.1,0.0,3.6,-7.2 \\right )$ or$ \\begin{bmatrix} -1.1,0.0,3.6,-7.2 \\end{bmatrix}$ \n",
    "\n",
    "- $\\begin{bmatrix} -1.1\\\\0.0\\\\3.6\\\\-7.2 \\end{bmatrix}$ is called column vector\n",
    "- $ \\begin{bmatrix} -1.1,0.0,3.6,-7.2 \\end{bmatrix}$  is called row vector\n",
    "\n",
    "- Numbers in the list are the elements (entries, coefficients, components)\n",
    "- Number of elements is the size (dimension, length) of the vector.\n",
    "- Vector above has dimension 4; its third entry is 3.6\n",
    "- We also write $\\begin{bmatrix} -1.1\\\\0.0\\\\3.6\\\\-7.2 \\end{bmatrix}$ $\\in$ $\\mathbb{R^4}$ or $ \\begin{bmatrix} -1.1,0.0,3.6,-7.2 \\end{bmatrix}$ $\\in$ $\\mathbb{R^4}$ \n",
    "- Vector of size n is called an $n-vector$.\n",
    "- Numbers are called scalars\n",
    "- We’ll use symbols to denote vectors, e.g., $ \\vec v , \\vec X , \\vec a $ etc. \n",
    "- Other notations are $  \\textbf {v}, \\textbf {a}  $ etc \n",
    "- $i^{th}$ element of $n-vector$  $\\vec a $ is denoted by $a_i$ Where $\\vec a = \\begin{bmatrix} a_1\\\\a_2\\\\a_3\\\\ \\vdots \\\\ a_i\\\\ \\vdots \\\\ a_n\\end{bmatrix}$\n",
    "\n",
    "-  If $\\vec a = \\begin{bmatrix} -1.1\\\\0.0\\\\3.6\\\\-7.2 \\end{bmatrix}$ then $a_3=3.6$\n",
    "\n",
    "- Two vectors $\\vec a$ and $\\vec b$ of the same size are equal if $a_i = b_i$ $\\forall$  ( for all) $i$\n",
    "\n",
    "- If $ \\begin{bmatrix} -1\\\\0\\\\3\\\\-0.2 \\end{bmatrix}$ = $ \\begin{bmatrix} -1\\\\x_2\\\\3\\\\-0.2 \\end{bmatrix}$ then $x_2$ is = ?\n",
    "\n",
    "- $n-vector$ with all entries 0 is denoted $\\vec 0_n$ or just $\\vec 0$ \n",
    "- $n-vector$ with all entries 1 is denoted $\\vec 1_n$ or just $\\vec1$ \n",
    "- A **unit vector** has one entry 1 and all others 0 denoted $\\vec e_i$ where $i$ is entry that is 1 unit vectors of length 3:\n",
    "- $\\vec e_1 = \\begin{bmatrix} 1\\\\0\\\\0 \\end{bmatrix}$ $\\vec e_2 = \\begin{bmatrix} 0\\\\1\\\\0 \\end{bmatrix}$ $\\vec e_3 = \\begin{bmatrix} 0\\\\0\\\\1 \\end{bmatrix}$  $\\vec e_i = \\begin{bmatrix} 0\\\\0\\\\0\\\\\\vdots \\\\1_i\\\\ \\vdots\\\\0  \\end{bmatrix}$ \n",
    "\n",
    "- A vector is **sparse** if many of its entries are 0.It can be stored and manipulated efficiently on a computer\n",
    "- **nnz(x)** is number of entries that are nonzero in sparse vector.\n",
    "- Examples of **sparse** vector: zero vectors, unit vectors"
   ]
  },
  {
   "cell_type": "markdown",
   "metadata": {},
   "source": [
    "# Motivation"
   ]
  },
  {
   "cell_type": "markdown",
   "metadata": {},
   "source": [
    "- Supoose Police is chasing a Bank Robber, police has speed of 160km/hr and Bank Robber has 130km/hr and 5 minute head start\n",
    "- How long does it take the police to catch the robber ?\n",
    "- What distance will they have traveled at that point?\n",
    "- ( For simplicity , let's ignore acceleration , traffic,etc)\n",
    "\n",
    "\n",
    "- Note that$ 160 km/hr$ = 2.6 km/hr and 130 km/hr is 2.16 km/hr\n",
    "- Distance traveled by Robber$ d = 2.16t$ in time time t ( It is a linear equation t)\n",
    "- Distance Travelled by police $d = 2.6(t-5)$ as police started 5 minitues late ( It is a linear equation in t)\n",
    "- This problem is redcued solving two linear equations\n",
    "- They will meet at $2.16t = 2.6(t-5)$\n",
    "- Solving we get $t = 29.54$ approx 30 minitues\n",
    "- Distance traveled $ d = 2.16(29.54) = 63.84 km$"
   ]
  },
  {
   "cell_type": "markdown",
   "metadata": {},
   "source": [
    "### Solving it graphically "
   ]
  },
  {
   "cell_type": "code",
   "execution_count": 1,
   "metadata": {},
   "outputs": [
    {
     "ename": "NameError",
     "evalue": "name 'np' is not defined",
     "output_type": "error",
     "traceback": [
      "\u001b[0;31m---------------------------------------------------------------------------\u001b[0m",
      "\u001b[0;31mNameError\u001b[0m                                 Traceback (most recent call last)",
      "Cell \u001b[0;32mIn [1], line 2\u001b[0m\n\u001b[1;32m      1\u001b[0m \u001b[38;5;28;01mimport\u001b[39;00m \u001b[38;5;21;01mmatplotlib\u001b[39;00m\u001b[38;5;21;01m.\u001b[39;00m\u001b[38;5;21;01mpyplot\u001b[39;00m \u001b[38;5;28;01mas\u001b[39;00m \u001b[38;5;21;01mplt\u001b[39;00m\n\u001b[0;32m----> 2\u001b[0m t \u001b[38;5;241m=\u001b[39m \u001b[43mnp\u001b[49m\u001b[38;5;241m.\u001b[39mlinspace(\u001b[38;5;241m0\u001b[39m, \u001b[38;5;241m40\u001b[39m, \u001b[38;5;241m1000\u001b[39m)\n",
      "\u001b[0;31mNameError\u001b[0m: name 'np' is not defined"
     ]
    }
   ],
   "source": [
    "import matplotlib.pyplot as plt\n",
    "t = np.linspace(0, 40, 1000) # start, finish, n points"
   ]
  },
  {
   "cell_type": "markdown",
   "metadata": {},
   "source": [
    "-distance taravlled by robber $d_r = 2.16t$ $\\\\$\n",
    "-distance traveled by poloice $d_p=2.6(t-5)$"
   ]
  },
  {
   "cell_type": "code",
   "execution_count": null,
   "metadata": {},
   "outputs": [],
   "source": [
    "d_r = 2.16 * t \n",
    "d_p = 2.6*(t-5)"
   ]
  },
  {
   "cell_type": "code",
   "execution_count": null,
   "metadata": {},
   "outputs": [],
   "source": [
    "fig, ax = plt.subplots()\n",
    "plt.title('A Bank Robber Caught')\n",
    "plt.xlabel('time (in minutes)')\n",
    "plt.ylabel('distance (in km)')\n",
    "ax.set_xlim([0, 40])\n",
    "ax.set_ylim([0, 100])\n",
    "ax.plot(t, d_r, c='green')\n",
    "ax.plot(t, d_p, c='brown')\n",
    "plt.axvline(x=30, color='purple', linestyle='--')\n",
    "_ = plt.axhline(y=64, color='purple', linestyle='--')"
   ]
  },
  {
   "cell_type": "markdown",
   "metadata": {},
   "source": [
    "# Python Libraries for Computional sciences / Mathematics"
   ]
  },
  {
   "cell_type": "markdown",
   "metadata": {},
   "source": [
    "- Numpy\n",
    "- SciPy\n",
    "- SymPy\n",
    "- Statsmodel\n",
    "- Pandas"
   ]
  },
  {
   "cell_type": "code",
   "execution_count": null,
   "metadata": {},
   "outputs": [],
   "source": [
    "import numpy\n",
    "%matplotlib inline\n",
    "from matplotlib import pyplot\n",
    "from plot_helper import *"
   ]
  },
  {
   "cell_type": "markdown",
   "metadata": {},
   "source": [
    "# Vectors in Numpy\n",
    "\n",
    "Vectors are represented as one-dimensional Array objects, and assigned with '='\n",
    "\n",
    "- Let $\\vec v = \\begin{bmatrix} 2\\\\1\\\\5 \\end{bmatrix}$ $\\rightarrow$ Column vector ( Vertical)\n",
    "- $\\vec v = \\begin{bmatrix} 2 &1&5 \\end{bmatrix}$ $\\rightarrow$ Row vector ( Horizontal)"
   ]
  },
  {
   "cell_type": "code",
   "execution_count": null,
   "metadata": {},
   "outputs": [],
   "source": [
    "from IPython.display import display, Math, Latex\n",
    "# importing Numpy\n",
    "import numpy as np\n",
    "# Defining horizontal vector or Row using numpy array\n",
    "x = np.array([2, 1, 5]) # type argument is optional, e.g.: dtype=np.float16\n",
    "print(x)\n",
    "display(Math(r'\\vec x = \\begin{bmatrix} 2&1&5 \\end{bmatrix} '))\n",
    "display(Math(r'\\vec x = \\begin{bmatrix} 2\\\\1\\\\5 \\end{bmatrix} '))\n",
    "display(Math(r'\\vec {x}  = 2\\hat{i}+1\\hat{j}+5\\hat{k}\\text{ or we can also write } \\vec x\\text { as}  ')) \n",
    "display(Math(r'\\vec {x}  = 2e_1+1e_2+5e_3  '))"
   ]
  },
  {
   "cell_type": "code",
   "execution_count": null,
   "metadata": {},
   "outputs": [],
   "source": [
    "# vertical vector or column vector\n",
    "x=x.reshape(-1,1)\n",
    "print(x)\n",
    "display(Math(r'\\vec x = \\begin{bmatrix} -1.1\\\\0\\\\3.6\\\\-7.2 \\end{bmatrix} '))"
   ]
  },
  {
   "cell_type": "markdown",
   "metadata": {},
   "source": [
    "# Size or dimension of Vector"
   ]
  },
  {
   "cell_type": "code",
   "execution_count": null,
   "metadata": {},
   "outputs": [],
   "source": [
    "x = np.array([-1.1,0.0,3.6,-7.2])\n",
    "print('x =',x)\n",
    "print(62*'==')\n",
    "print(f'x is {len(x)} dimensional vector ')\n",
    "display(Math(r'\\vec x = \\begin{bmatrix} -1.1\\\\0.0\\\\3.6\\\\-7.2 \\end{bmatrix} \\in \\mathbb{R^4} ->\\text{is 4 dimesional vector}'))\n",
    "print(62*'==')\n",
    "display(Math(r'\\vec x \\text{  has four components}'))\n",
    "for i in range(0,len(x)):\n",
    "    print(f'{i+1}th component of x is {x[i]}')"
   ]
  },
  {
   "cell_type": "markdown",
   "metadata": {},
   "source": [
    "### Solve?\n",
    "- **Symptoms vector**: \n",
    "A 20-vector s records whether each of 20 different symptoms is present\n",
    "in a medical patient, with si = 1 meaning the patient has the symptom and si = 0\n",
    "meaning she does not. Express the following using vector notation.\n",
    "- (a) The total number of symptoms the patient has.\n",
    "- (b) The patient exhibits five out of the first ten symptoms.\n",
    "\n",
    "- **Periodic energy usage**. \n",
    "The 168-vector w gives the hourly electricity consumption of\n",
    "a manufacturing plant, starting on Sunday midnight to 1AM, over one week, in MWh\n",
    "(megawatt-hours). The consumption pattern is the same each day, i.e., it is 24-periodic,\n",
    "which means that wt+24 = wt for t = 1, . . . , 144. Let d be the 24-vector that gives the\n",
    "energy consumption over one day, starting at midnight.\n",
    "- (a) Use vector notation to express w in terms of d.\n",
    "- (b) Use vector notation to express d in terms of w"
   ]
  },
  {
   "cell_type": "markdown",
   "metadata": {},
   "source": [
    "## Coordinate System \n",
    "\n",
    "Geometric vectors are oriented segments. Therse are the kind of vectors you probably learned about in high-school physics and geometry. Many linear algebra concepts come from the geometric point of view of vectors: space, plane, distance, etc.\n",
    "\n",
    "<div style=\"text-align: right\"><img src=\"coordinate.png\"  width=\"900\" height = 700 /></div>"
   ]
  },
  {
   "cell_type": "markdown",
   "metadata": {},
   "source": [
    "## We Can Plot Vectors in 2D plane/ All vectors represents the same vectors"
   ]
  },
  {
   "cell_type": "code",
   "execution_count": null,
   "metadata": {},
   "outputs": [],
   "source": [
    "vectors = [(2,2)]\n",
    "tails = [(-3,-2), (-3,1), (0,0), (1,-3)]\n",
    "plot_vector(vectors, tails)\n",
    "pyplot.title(\"The same vector, with its tail at four locations.\");"
   ]
  },
  {
   "cell_type": "markdown",
   "metadata": {},
   "source": [
    "## 2D vector coordinates\n",
    "\n",
    "The Coordinates are $\\begin{bmatrix} -2\\\\3 \\end{bmatrix}$\n",
    "\n",
    "\n",
    "<div style=\"text-align: right\"><img src=\"vec1.svg\" width=\"600\" /></div>\n",
    "\n",
    "\n",
    "## 3D vector coordinates\n",
    "\n",
    "The Coordinates are $\\begin{bmatrix} 2\\\\1\\\\3 \\end{bmatrix}$\n",
    "\n",
    "\n",
    "<div style=\"text-align: right\"><img src=\"vec2.png\" width=\"600\" /></div>\n",
    "\n"
   ]
  },
  {
   "cell_type": "markdown",
   "metadata": {},
   "source": [
    "# Operations on Vectors\n",
    "- Addition Substraction Scalar Multiplication"
   ]
  },
  {
   "cell_type": "markdown",
   "metadata": {},
   "source": [
    "# Vector-vector addition\n",
    "- We used vector-vector addition to define vectors without defining vector-vector addition. \n",
    "- Vector-vector addition is an element-wise operation, only defined for vectors of the same size (i.e., number of elements).\n",
    "- Consider two vectors of the same size, then:"
   ]
  },
  {
   "cell_type": "markdown",
   "metadata": {},
   "source": [
    "$\n",
    "\\vec{x} = \n",
    "\\begin{bmatrix}\n",
    "x_1 \\\\ x_2 \\\\ \\vdots \\\\ x_n\n",
    "\\end{bmatrix}\n",
    "\\in \\mathbb{R}^n\n",
    "$,\n",
    "$\n",
    "\\vec{y} = \n",
    "\\begin{bmatrix}\n",
    "y_1 \\\\ y_2 \\\\ \\vdots \\\\ y_n\n",
    "\\end{bmatrix}\n",
    "\\in \\mathbb{R}^n\n",
    "$,\n",
    "$,\n",
    "\\vec x \\pm \\vec y = \n",
    "\\begin{bmatrix}\n",
    "x_1\\\\\n",
    "\\vdots\\\\\n",
    "x_n\n",
    "\\end{bmatrix} \\pm\n",
    "\\begin{bmatrix}\n",
    "y_1\\\\\n",
    "\\vdots\\\\\n",
    "y_n\n",
    "\\end{bmatrix} =\n",
    "\\begin{bmatrix}\n",
    "x_1 \\pm y_1\\\\\n",
    "\\vdots\\\\\n",
    "x_n \\pm y_n\n",
    "\\end{bmatrix}\n",
    "$,\n",
    "\n",
    "<div style=\"text-align: right\"><img src=\"alg.png\" width=\"600\" /></div>"
   ]
  },
  {
   "cell_type": "code",
   "execution_count": null,
   "metadata": {},
   "outputs": [],
   "source": [
    "from IPython.display import HTML\n",
    "HTML(\"\"\"\n",
    "<video width=\"600\" height=\"600\" controls>\n",
    "  <source src=\"vector_addition.mp4\" type=\"video/mp4\">\n",
    "</video>\n",
    "\"\"\")\n"
   ]
  },
  {
   "cell_type": "markdown",
   "metadata": {},
   "source": [
    "$\n",
    "\\bf{x} + \\bf{y} = \n",
    "\\begin{bmatrix}\n",
    "1\\\\\n",
    "2\\\\\n",
    "3\n",
    "\\end{bmatrix}+\n",
    "\\begin{bmatrix}\n",
    "1\\\\\n",
    "2\\\\\n",
    "3\n",
    "\\end{bmatrix} =\n",
    "\\begin{bmatrix}\n",
    "1 + 1\\\\\n",
    "2 + 2\\\\\n",
    "3 + 3\n",
    "\\end{bmatrix} =\n",
    "\\begin{bmatrix}\n",
    "2\\\\\n",
    "4\\\\\n",
    "6\n",
    "\\end{bmatrix}\n",
    "$"
   ]
  },
  {
   "cell_type": "code",
   "execution_count": null,
   "metadata": {},
   "outputs": [],
   "source": [
    "# vector addition\n",
    "a = numpy.array((-2,1))\n",
    "b = numpy.array((1,-3))\n",
    "origin = numpy.array((0,0))\n",
    "\n",
    "vectors = [a, b, a+b]\n",
    "tails   = [origin, a, origin]\n",
    "plot_vector(vectors, tails)\n",
    "pyplot.title(\"Adding vectors with coordinates $(-2, 1)$ and $(1,-3)$.\\n\");"
   ]
  },
  {
   "cell_type": "markdown",
   "metadata": {},
   "source": [
    "## Vector addition has a series of fundamental properties worth mentioning:\n",
    "- Commutativity:$x + y = y + x$\n",
    "- Associativity: $(x + y) + z = x + (y + z)$ \n",
    "- Adding the zero vector has no effect:$x + 0 = 0 + x = x$\n",
    "- Substracting a vector from itself returns the zero vector:$x - x = 0$"
   ]
  },
  {
   "cell_type": "code",
   "execution_count": null,
   "metadata": {},
   "outputs": [],
   "source": [
    "import numpy as np\n",
    "x = np.array([1,2,3])\n",
    "y = np.array([100,200,300])\n",
    "alpha = 2.5\n",
    "print('Sum of Vectors:', x+y)\n",
    "print('Difference of Vectors:', x-y)\n",
    "print('Scalar Multiplication with x=', 2.5*x)\n",
    "print(96*'=')\n",
    "display(Math(r'\\vec x = \\begin{bmatrix} 1\\\\2\\\\3 \\end{bmatrix}, \\vec y = \\begin{bmatrix} 100\\\\200\\\\300 \\end{bmatrix}'))\n",
    "display(Math(r'\\vec x + \\vec y = \\begin{bmatrix} 101\\\\202\\\\303 \\end{bmatrix}'))\n",
    "display(Math(r'\\vec x - \\vec y = \\begin{bmatrix} -99\\\\-198\\\\-297 \\end{bmatrix}'))\n",
    "display(Math(r'2\\times \\vec x= \\begin{bmatrix} 2.5\\\\5\\\\7.5 \\end{bmatrix}'))\n"
   ]
  },
  {
   "cell_type": "code",
   "execution_count": null,
   "metadata": {},
   "outputs": [],
   "source": [
    "# vector scaling\n",
    "import math\n",
    "c = numpy.array((2,1))\n",
    "vectors = [c, 2.5*c]\n",
    "plot_vector(vectors)\n",
    "pyplot.title(\"Scaling of the vector $(2,1)$ by the scalar $2$.\");"
   ]
  },
  {
   "cell_type": "markdown",
   "metadata": {},
   "source": [
    "## Q: Verify Properties of vector addition for above vectors\n",
    "- $ \\vec x +\\vec y = \\vec y + \\vec x$\n",
    "- $ \\vec x -\\vec y \\neq \\vec y - \\vec x$\n",
    "- $ \\vec x +\\vec o = \\vec x $\n",
    "- $ \\vec x -\\vec x = \\vec o$"
   ]
  },
  {
   "cell_type": "markdown",
   "metadata": {},
   "source": [
    "## Vector-scalar multiplication"
   ]
  },
  {
   "cell_type": "markdown",
   "metadata": {},
   "source": [
    "- Vector-scalar multiplication is an element-wise operation. It’s defined as:\n",
    "- $ \n",
    "\\alpha \\vec {x} = \n",
    "\\begin{bmatrix}\n",
    "\\alpha \\bf{x_1}\\\\\n",
    "\\vdots \\\\\n",
    "\\alpha \\bf{x_n}\n",
    "\\end{bmatrix}\n",
    "$"
   ]
  },
  {
   "cell_type": "markdown",
   "metadata": {},
   "source": [
    "- Consider $\\alpha =2$ and $\\vec x= \\begin{bmatrix} 1\\\\2\\\\3 \\end{bmatrix}$,\n",
    "$\n",
    "\\alpha \\bf{x} = \n",
    "\\begin{bmatrix}\n",
    "2 \\times 1\\\\\n",
    "2 \\times 2\\\\\n",
    "2 \\times 3\n",
    "\\end{bmatrix} = \n",
    "\\begin{bmatrix}\n",
    "2\\\\\n",
    "4\\\\\n",
    "6\n",
    "\\end{bmatrix}\n",
    "$"
   ]
  },
  {
   "cell_type": "code",
   "execution_count": null,
   "metadata": {},
   "outputs": [],
   "source": [
    "from IPython.display import HTML\n",
    "HTML(\"\"\"\n",
    "<video width=\"600\" height=\"600\" controls>\n",
    "  <source src=\"multiply_2.mp4\" type=\"video/mp4\">\n",
    "</video>\n",
    "\"\"\")\n"
   ]
  },
  {
   "cell_type": "markdown",
   "metadata": {},
   "source": [
    "## Properties \n",
    "- Associativity:$(\\alpha \\beta) \\vec{x} = \\alpha (\\beta \\vec{x})$\n",
    "- Left-distributive property:$ (\\alpha + \\beta) \\vec{x} = \\alpha \\vec{x} + \\beta \\vec{x}$\n",
    "- Right-distributive property: $\\vec {x} (\\alpha + \\beta) = \\vec{x} \\alpha + \\vec{x} \\beta$\n",
    "- Right-distributive property for vector addition:: $\\alpha (\\vec{x} + \\vec{y}) = \\alpha \\vec{x} + \\alpha \\vec{y}$"
   ]
  },
  {
   "cell_type": "markdown",
   "metadata": {},
   "source": [
    "## Linear combinations of vectors"
   ]
  },
  {
   "cell_type": "markdown",
   "metadata": {},
   "source": [
    "- There are only two legal operations with vectors in linear algebra:\n",
    "- Addition and multiplication by numbers. When we combine those, we get a linear combination.\n",
    "$\n",
    "\\alpha \\bf{x} + \\beta \\bf{y} = \n",
    "\\alpha\n",
    "\\begin{bmatrix}\n",
    "x_1 \\\\ \n",
    "x_2\n",
    "\\end{bmatrix}+\n",
    "\\beta\n",
    "\\begin{bmatrix}\n",
    "y_1 \\\\ \n",
    "y_2\n",
    "\\end{bmatrix}=\n",
    "\\begin{bmatrix}\n",
    "\\alpha x_1 + \\alpha x_2\\\\ \n",
    "\\beta y_1 + \\beta y_2\n",
    "\\end{bmatrix}\n",
    "$"
   ]
  },
  {
   "cell_type": "markdown",
   "metadata": {},
   "source": [
    "- $\n",
    "\\alpha \\bf{x} + \\beta \\bf{y} = \n",
    "2\n",
    "\\begin{bmatrix}\n",
    "2 \\\\ \n",
    "3\n",
    "\\end{bmatrix}+\n",
    "3\n",
    "\\begin{bmatrix}\n",
    "4 \\\\ \n",
    "5\n",
    "\\end{bmatrix}=\n",
    "\\begin{bmatrix}\n",
    "2 \\times 2 + 2 \\times 4\\\\ \n",
    "2 \\times 3 + 3 \\times 5\n",
    "\\end{bmatrix}=\n",
    "\\begin{bmatrix}\n",
    "10 \\\\\n",
    "21\n",
    "\\end{bmatrix}\n",
    "$"
   ]
  },
  {
   "cell_type": "markdown",
   "metadata": {},
   "source": [
    "# Basis vectors: Standard Basis"
   ]
  },
  {
   "cell_type": "markdown",
   "metadata": {},
   "source": [
    "- With the ideas of vector addition and multiplication by a scalar fresh in your mind, now imagine this. \n",
    "- Any horizontal vector (i.e., having zero as its second component) can be scaled to have length 1.\n",
    "- For example, the vector  $\\,\\mathbf{u} = \\left[ \\begin{array}{c} u \\\\ 0  \\end{array} \\right]$  scaled by $\\frac{1}{u}$ becomes  $\\left[ \\begin{array}{c} 1 \\\\ 0  \\end{array} \\right]$\n",
    "- Similarly, any vertical vector (having zero as its first component) can be scaled to have length 1.\n",
    "- Going the opposite way,\n",
    "- scaling the vector $\\,\\mathbf{i}=\\left[ \\begin{array}{c} 1 \\\\ 0  \\end{array} \\right]$ can give us all possible horizontal vectors, and\n",
    "- scaling the vector $\\,\\mathbf{j}=\\left[ \\begin{array}{c} 0 \\\\ 1 \\end{array} \\right]$ can give us all possible vertical vectors.\n",
    "- Since every vector is the sum of a horizontal and a vertical one, it means we can generate all vectors by adding scaled versions of $\\bf{i}$ and $\\bf{j}$ That's why they are called basis vectors.\n",
    "- For any vector, its components are the scalars we need to multiply the basis vectors by to generate it. For example:\n",
    "\n",
    "- $\\left[ \\begin{array}{c} 3 \\\\ 2  \\end{array} \\right] =\n",
    " 3\\cdot\\left[ \\begin{array}{c} 1 \\\\ 0  \\end{array} \\right] +\n",
    " 2\\cdot\\left[ \\begin{array}{c} 0 \\\\ 1  \\end{array} \\right] =\n",
    " 3\\,\\mathbf{i} + 2\\,\\mathbf{j}$  \n",
    "  \n",
    " \n",
    "- Lets **Visualize** it"
   ]
  },
  {
   "cell_type": "code",
   "execution_count": null,
   "metadata": {},
   "outputs": [],
   "source": [
    "from numpy.random import randint\n",
    "# span\n",
    "vectors = []\n",
    "i = numpy.array((1,0))\n",
    "j = numpy.array((0,1))\n",
    "\n",
    "for _ in range(30):\n",
    "    m = randint(-10,10)\n",
    "    n = randint(-10,10)\n",
    "    vectors.append(m*i + n*j)\n",
    "    \n",
    "plot_vector(vectors)\n",
    "pyplot.title(\"Thirty random vectors, created from the basis vectors\");"
   ]
  },
  {
   "cell_type": "markdown",
   "metadata": {},
   "source": [
    "- You can imagine that if we created more and more random vectors in this way, eventually we will fill up the 2D plane.\n",
    "- Indeed, the span of the basis vectors is the whole 2D space."
   ]
  },
  {
   "cell_type": "code",
   "execution_count": null,
   "metadata": {},
   "outputs": [],
   "source": [
    "vectors = []\n",
    "for _ in range(30):\n",
    "    m = randint(-10,10)\n",
    "    n = randint(-10,10)\n",
    "    vectors.append(m*a + n*b)\n",
    "    \n",
    "plot_vector(vectors)\n",
    "pyplot.title(\"Thirty random vectors, created as linear combinations of $\\mathbf{a}$ and $\\mathbf{b}$.\");"
   ]
  },
  {
   "cell_type": "code",
   "execution_count": null,
   "metadata": {},
   "outputs": [],
   "source": [
    "d = numpy.array((-1,0.5))\n",
    "vectors = []\n",
    "for _ in range(30):\n",
    "    m = randint(-10,10)\n",
    "    n = randint(-10,10)\n",
    "    vectors.append(m*a + n*d)\n",
    "    \n",
    "plot_vector(vectors)\n",
    "pyplot.title(\"Thirty linear combinations of the vectors $\\mathbf{a}$ and $\\mathbf{d}$.\");"
   ]
  },
  {
   "cell_type": "code",
   "execution_count": null,
   "metadata": {},
   "outputs": [],
   "source": [
    "from IPython.display import HTML\n",
    "HTML(\"\"\"\n",
    "<video width=\"600\" height=\"600\" controls>\n",
    "  <source src=\"linear_combination_def.mp4\" type=\"video/mp4\">\n",
    "</video>\n",
    "\"\"\")\n"
   ]
  },
  {
   "cell_type": "code",
   "execution_count": null,
   "metadata": {},
   "outputs": [],
   "source": [
    "import numpy as np\n",
    "a = np.array([1,2])\n",
    "b = np.array([3,4])\n",
    "alpha = -0.5\n",
    "beta = 1.5\n",
    "c = alpha*a + beta*b\n",
    "print(c)"
   ]
  },
  {
   "cell_type": "code",
   "execution_count": null,
   "metadata": {},
   "outputs": [],
   "source": [
    "a = np.array([1,2])\n",
    "b = np.array([3,4])\n",
    "alpha = -0.5\n",
    "beta = 1.5\n",
    "def lincomb(coef, vectors):\n",
    "    n = len(vectors[0])\n",
    "    comb = np.zeros(n)\n",
    "    for i in range(len(vectors)):\n",
    "        comb = comb + coef[i] * vectors[i]\n",
    "    return comb\n",
    "lincomb([alpha, beta], [a,b])"
   ]
  },
  {
   "cell_type": "markdown",
   "metadata": {},
   "source": [
    "### Interactive Linear Combination"
   ]
  },
  {
   "cell_type": "code",
   "execution_count": null,
   "metadata": {},
   "outputs": [],
   "source": [
    "# Imports\n",
    "import numpy as np\n",
    "import matplotlib.pyplot as plt\n",
    "#@title Figure settings\n",
    "import ipywidgets as widgets  # interactive display\n",
    "from ipywidgets import fixed\n",
    "%config InlineBackend.figure_format = 'retina'\n",
    "plt.style.use(\"https://raw.githubusercontent.com/NeuromatchAcademy/course-content/master/nma.mplstyle\")"
   ]
  },
  {
   "cell_type": "code",
   "execution_count": null,
   "metadata": {},
   "outputs": [],
   "source": [
    "def plot_arrows(x, y, a_times_x, b_times_y):\n",
    "  fig, ax = plt.subplots(figsize=(10, 7))\n",
    "\n",
    "  ax.spines['top'].set_color('none')\n",
    "  ax.spines['bottom'].set_position('zero')\n",
    "  ax.spines['left'].set_position('zero')\n",
    "  ax.spines['right'].set_color('none')\n",
    "\n",
    "  ax.set_aspect('equal', adjustable='box')\n",
    "  ax.set(xlim = [-10, 10], ylim = [-10, 10], xticks = np.arange(-10, 10), yticks = np.arange(-10, 10), xticklabels = [], yticklabels = [])\n",
    "\n",
    "  ax.grid(alpha=.4)\n",
    "\n",
    "  z = a_times_x + b_times_y\n",
    "  z_arr = ax.arrow(0, 0, z[0], z[1], width=.08, color='k', length_includes_head = True);\n",
    "\n",
    "  x_orig, = ax.plot([0, x[0]], [0, x[1]], '--', color='#648FFF')\n",
    "  y_orig, = ax.plot([0, y[0]], [0, y[1]], '--',  color='#DC267F')\n",
    "\n",
    "  ax_arr = ax.arrow(0, 0, a_times_x[0], a_times_x[1], width=.08, color='#648FFF', length_includes_head = True);\n",
    "  by_arr = ax.arrow(0, 0, b_times_y[0], b_times_y[1], width=.08, color='#DC267F', length_includes_head = True);\n",
    "\n",
    "  ax.plot([a_times_x[0], z[0]], [a_times_x[1], z[1]], '--k')\n",
    "  ax.plot([b_times_y[0], z[0]], [b_times_y[1], z[1]], '--k')\n",
    "\n",
    "\n",
    "  leg = ax.legend([x_orig, y_orig, ax_arr, by_arr, z_arr], [r\"$\\mathbf{x}$\", r\"$\\mathbf{y}$\", r\"$a\\mathbf{x}$\", r\"$b\\mathbf{y}$\", r\"$\\mathbf{z} = a\\mathbf{x} + b\\mathbf{y}$\"], handlelength = 2, fontsize = 25, loc = 'center left', bbox_to_anchor=(1.05, .5))\n",
    "  for handle, label in zip(leg.legendHandles, leg.texts):\n",
    "      try:\n",
    "          label.set_color(handle.get_facecolor())\n",
    "      except:\n",
    "          label.set_color(handle.get_color())\n",
    "      #handle.set_visible(False)\n",
    "\n",
    "@widgets.interact(a = widgets.FloatSlider(value=1.0, min=-2, max=2, step=0.1), b = widgets.FloatSlider(value=1.0, min=-2, max=2, step=0.1))\n",
    "def plot_linear_combination(a, b):\n",
    "  x = np.array([3, 1])\n",
    "  y = np.array([-1, 2])\n",
    "\n",
    "  plot_arrows(x, y, a*x, b*y)"
   ]
  },
  {
   "cell_type": "markdown",
   "metadata": {},
   "source": [
    "# Vector span"
   ]
  },
  {
   "cell_type": "markdown",
   "metadata": {},
   "source": [
    "- Consider the vectors $x$ and $y$ and the scalars α and β. If we take all possible linear combinations of αx+βy \n",
    "- then we would obtain the span of such vectors\n",
    "\n",
    "- $ S = \\{\\vec x,\\vec y\\}$\n",
    "- Then Span of $S$ denoted by $L(S) = \\{\\alpha \\vec x+\\beta \\vec y  : \\alpha , \\beta \\text{ are scalars}\\}$\n",
    "\n",
    "- ![title](span.PNG)"
   ]
  },
  {
   "cell_type": "markdown",
   "metadata": {},
   "source": [
    "# Span of  $\\left[ \\begin{array}{c} 1 \\\\ 2 \\end{array} \\right]$ and $\\left[ \\begin{array}{c} 3 \\\\ 4 \\end{array} \\right]$ \n",
    " \n",
    "\n"
   ]
  },
  {
   "cell_type": "code",
   "execution_count": null,
   "metadata": {},
   "outputs": [],
   "source": [
    "a = numpy.array((1,2))\n",
    "b = numpy.array((3,4))\n",
    "\n",
    "for _ in range(30):\n",
    "    m = randint(-10,10)\n",
    "    n = randint(-10,10)\n",
    "    vectors.append(m*a + n*d)\n",
    "    \n",
    "plot_vector(vectors)\n",
    "pyplot.title(\"Thirty linear combinations of the vectors $\\mathbf{a}$ and $\\mathbf{b}$.\");"
   ]
  },
  {
   "cell_type": "code",
   "execution_count": null,
   "metadata": {},
   "outputs": [],
   "source": [
    "from IPython.display import HTML\n",
    "HTML(\"\"\"\n",
    "<video width=\"600\" height=\"600\" controls>\n",
    "  <source src=\"span_def.mp4\" type=\"video/mp4\">\n",
    "</video>\n",
    "\"\"\")"
   ]
  },
  {
   "cell_type": "code",
   "execution_count": null,
   "metadata": {},
   "outputs": [],
   "source": [
    "from IPython.display import HTML\n",
    "HTML(\"\"\"\n",
    "<video width=\"600\" height=\"600\" controls>\n",
    "  <source src=\"arrow.mp4\" type=\"video/mp4\">\n",
    "</video>\n",
    "\"\"\")"
   ]
  },
  {
   "cell_type": "markdown",
   "metadata": {},
   "source": [
    "## Vector-vector multiplication: dot product / Inner Product"
   ]
  },
  {
   "cell_type": "markdown",
   "metadata": {},
   "source": [
    "$\n",
    "\\bf{x} \\cdot \\bf{y} :=\n",
    "\\begin{bmatrix}\n",
    "x_1 \\\\\n",
    "x_2\n",
    "\\end{bmatrix}^T\n",
    "\\begin{bmatrix}\n",
    "y_1 \\\\\n",
    "y_2\n",
    "\\end{bmatrix} =\n",
    "\\begin{bmatrix}\n",
    "x_1 & x_2\n",
    "\\end{bmatrix}\n",
    "\\begin{bmatrix}\n",
    "y_1 \\\\\n",
    "y_2\n",
    "\\end{bmatrix} =\n",
    "x_1 \\times y_1 + x_2 \\times y_2 \n",
    "$"
   ]
  },
  {
   "cell_type": "markdown",
   "metadata": {},
   "source": [
    "$\n",
    "\\bf{x} \\cdot \\bf{y} =\n",
    "\\begin{bmatrix}\n",
    "-2 \\\\\n",
    "2\n",
    "\\end{bmatrix}\n",
    "\\begin{bmatrix}\n",
    "4 \\\\\n",
    "-3\n",
    "\\end{bmatrix} =\n",
    "\\begin{bmatrix}\n",
    "-2 & 2\n",
    "\\end{bmatrix}\n",
    "\\begin{bmatrix}\n",
    "4 \\\\\n",
    "-3\n",
    "\\end{bmatrix} =\n",
    "-2 \\times 4 + 2 \\times -3 = (-8) + (-6) = -14 \n",
    "$"
   ]
  },
  {
   "cell_type": "code",
   "execution_count": null,
   "metadata": {},
   "outputs": [],
   "source": [
    "import numpy as np\n",
    "x = np.array([1,2,3])\n",
    "y = np.array([3,-4,3])\n",
    "# Three Ways to compute dot product\n",
    "print(np.inner(x,y))\n",
    "print(np.dot(x,y))\n",
    "print(x.T @ y)"
   ]
  },
  {
   "cell_type": "markdown",
   "metadata": {},
   "source": [
    "## Examples and Applications Dot Product\n",
    "**Model** .Weights, features, and score. When the vector f represents a set of features of\n",
    "an object, and w is a vector of the same size (often called a weight vector ), the\n",
    "inner product $W^{T}f$ is the sum of the feature values, scaled (or weighted) by\n",
    "the weights, and is sometimes called a score. For example, if the features are\n",
    "associated with a loan applicant (e.g., age, income, . . . ), we might interpret\n",
    "$s = w^{T}f$ as a credit score. In this example we can interpret $w_i$ as the weight\n",
    "given to feature i in forming the score.\n",
    "\n",
    "• **Price-quantity**. If $p$ represents a vector of prices of n goods, and $q$ is a vector\n",
    "of quantities of the n goods (say, the bill of materials for a product), then\n",
    "their inner product $p^{T}q$ is the total cost of the goods given by the vector q.\n",
    "\n",
    "• **Speed-time**. A vehicle travels over n segments with constant speed in each\n",
    "segment. Suppose the n-vector s gives the speed in the segments, and the\n",
    "n-vector t gives the times taken to traverse the segments. Then $s^{T}Tt$ is the\n",
    "total distance traveled.\n"
   ]
  },
  {
   "cell_type": "markdown",
   "metadata": {},
   "source": [
    "# Norms length Distance Metric\n",
    "\n",
    "### Properties of distance or norm \n",
    "- $d(x,y)\\geq 0$ ---> $||x-y||\\geq 0$\n",
    "- $d(x,y)=d(y,x) \\iff x =y$ ----> $||x-y|| = ||y-x||$\n",
    "- $d(x,z)\\leq d(x,y)+d(y,z)$---> $||x-z|| \\leq ||x-y||+||y-z||$"
   ]
  },
  {
   "cell_type": "markdown",
   "metadata": {},
   "source": [
    "# Minkowaski Distance or $L_p$ Norm\n",
    "- Suppose $\\vec x=\\{x_1,x_2,\\dots,x_n\\}$\n",
    "- $||\\vec x||_p$ = $({\\sum_{i=1}^{n}||x||^{p}})^\\frac{1}{p}$\n",
    "- $||\\vec x-\\vec y||_p$= $[{(x_1-y_1)^p+(x_2-y_2)^p+...+(x_n-y_n)^p}]^\\frac{1}{p}$\n",
    "- We consider $p =2, p = 1 ,p = \\infty$ and obtain following Norms"
   ]
  },
  {
   "cell_type": "markdown",
   "metadata": {},
   "source": [
    "## Euclidean Norm or $L_2$ Norm \n",
    " - Suppose $\\vec x=\\{x_1,x_2,\\dots,x_n\\}$ and $\\vec y=\\{y_1,y_2,\\dots,y_n\\}$\n",
    " - $||\\vec x||_2$= $\\sqrt{(x_1)^2+(x_2)^2+...+(x_n)^2}$\n",
    " - Then Euclidean distance or $L_2$ norm is defined as \n",
    " - $||\\vec x-\\vec y||_2$= $\\sqrt{(x_1-y_1)^2+(x_2-y_2)^2+...+(x_n-y_n)^2}$"
   ]
  },
  {
   "cell_type": "code",
   "execution_count": null,
   "metadata": {},
   "outputs": [],
   "source": [
    "import numpy as np\n",
    "#consider the vectors of paitant \n",
    "p1= np.array([35,110,200])\n",
    "p2= np.array([30,100,250])\n",
    "p3= np.array([45,200,230])\n",
    "p= np.vstack([p1,p2,p3])\n",
    "\n",
    "def eucli(x,y):  # Input two arrays\n",
    "    dist=np.sqrt(np.sum((x-y)**2)) # First substarct and square each element and then sum\n",
    "    return dist"
   ]
  },
  {
   "cell_type": "markdown",
   "metadata": {},
   "source": [
    "- $Distance Matrix$\n",
    "$D = \\begin{bmatrix}\n",
    " d(p1,p1)&d(p1,p2)&d(p1,p3)\\\\\n",
    " d(p2,p1)&d(p2,p2)&d(p2,p3)\\\\\n",
    " d(p3,p1)&d(p3,p2)&d(p3,p3)\n",
    "\\end{bmatrix}$"
   ]
  },
  {
   "cell_type": "code",
   "execution_count": null,
   "metadata": {},
   "outputs": [],
   "source": [
    "DistanceMatrix = np.asarray([[np.round(eucli(p1, p2),2) for p2 in p] for p1 in p])\n",
    "DistanceMatrix"
   ]
  },
  {
   "cell_type": "code",
   "execution_count": null,
   "metadata": {},
   "outputs": [],
   "source": [
    "from numpy import linalg as la\n",
    "u = np.array([1,2,3])\n",
    "round(la.norm(u),2)\n"
   ]
  },
  {
   "cell_type": "markdown",
   "metadata": {},
   "source": [
    "# Manhatten Distance or $L_1$ Norm or Taxicab Metric\n",
    "- Suppose $\\vec x=\\{x_1,x_2,\\dots,x_n\\}$ and $\\vec y=\\{y_1,y_2,\\dots,y_n\\}$ \n",
    "\n",
    "- Then Euclidean distance or $L_1$ norm is defined as \n",
    "- $||\\vec x-\\vec y||_1$= $|x_1-y_1|+|x_2-y_2|+...+|x_n-y_n|$\n",
    "- $||\\vec x||_1$= $|x_1|+|x_2|+...+|x_n|$\n",
    "- $\\vec x =  \\begin{bmatrix}\n",
    " 1\\\\\n",
    " 2\\\\\n",
    " 3\n",
    "\\end{bmatrix}$ --->\n",
    "$\\vec x =  $|1|+|2|+...+|3|"
   ]
  },
  {
   "cell_type": "code",
   "execution_count": null,
   "metadata": {},
   "outputs": [],
   "source": [
    "def manh(x,y):  # Input two arrays\n",
    "    dist=np.sum(np.abs((x-y))) # First substarct and square each element and then sum\n",
    "    return dist\n"
   ]
  },
  {
   "cell_type": "code",
   "execution_count": null,
   "metadata": {},
   "outputs": [],
   "source": [
    "u = np.array([1,2,3])\n",
    "round(la.norm(u),1)"
   ]
  },
  {
   "cell_type": "markdown",
   "metadata": {},
   "source": [
    "# Chebyshev Distance $L_\\infty$ Norm Chess Board distance\n",
    "- Suppose $\\vec x=\\{x_1,x_2,\\dots,x_n\\}$ and $\\vec y=\\{y_1,y_2,\\dots,y_n\\}$ \n",
    "- Then Chebyshev or $L_ \\infty $ norm is defined as \n",
    "- $||\\vec x-\\vec y||$= Max\\{$|x_1-y_1|,|x_2-y_2|,...|x_n-y_n|\\}$\n",
    "- $||\\vec x||$= Max\\{$|x_1|,|x_2|,...,|x_n|\\}$\n",
    "- $\\vec x = \\begin{bmatrix}\n",
    " 1\\\\\n",
    " 2\\\\\n",
    " 3\n",
    "\\end{bmatrix}$ \n",
    "\n",
    "$\\vec x = Max\\{|1|,|2|,|3|\\} = 3 $"
   ]
  },
  {
   "cell_type": "code",
   "execution_count": null,
   "metadata": {},
   "outputs": [],
   "source": [
    "def cheb(x,y):  # Input two arrays\n",
    "    dist=np.max(np.abs((x-y))) # First substarct and square each element and then sum\n",
    "    return dist"
   ]
  },
  {
   "cell_type": "code",
   "execution_count": null,
   "metadata": {},
   "outputs": [],
   "source": [
    "u = np.array([1,2,3])\n",
    "la.norm(u,np.inf)"
   ]
  },
  {
   "cell_type": "markdown",
   "metadata": {},
   "source": [
    "# Norms \n",
    "<div style=\"text-align: right\"><img src=\"norms.png\" width=\"900\" /></div>"
   ]
  },
  {
   "cell_type": "markdown",
   "metadata": {},
   "source": [
    "# Dot Product\n",
    "\n",
    "$ \\vec u . \\vec v = ||u||_2||v||_2 cos(\\theta)$\n",
    "- Where $\\theta$ is angle between $\\vec u $ and  $\\vec v$\n",
    "- $||u||$ or $|u|$ is length of $u$ defined as \n",
    "- Suppose $\\vec u=\\{u_1,u_2,\\dots,u_n\\}$ and $\\vec v=\\{v_1,v_2,\\dots,v_n\\}$ \n",
    " - Then Euclidean distance or $L_2$ norm is defined as \n",
    " - $||\\vec u||_2 = \\sqrt{(u_1)^2+(u_2)^2+...+(u_n)^2}$\n",
    " - $||\\vec u-\\vec v||_2$= $\\sqrt{(u_1-v_1)^2+(u_2-v_2)^2+...+(u_n-v_n)^2}$"
   ]
  },
  {
   "cell_type": "code",
   "execution_count": null,
   "metadata": {},
   "outputs": [],
   "source": [
    "from IPython.display import HTML\n",
    "print( 'Dot Product Traingle law of cosine')\n",
    "HTML(\"\"\"\n",
    "<video width=\"600\" height=\"600\" controls>\n",
    "  <source src=\"DProduct.mp4\" type=\"video/mp4\">\n",
    "</video>\n",
    "\"\"\")\n"
   ]
  },
  {
   "cell_type": "markdown",
   "metadata": {},
   "source": [
    "# Dot Product Measures Similarity\n",
    "<div style=\"text-align: right\"><img src=\"dot.gif\" width=\"700\" /></div>"
   ]
  },
  {
   "cell_type": "markdown",
   "metadata": {},
   "source": [
    "# Properties of dot product or Inner Product"
   ]
  },
  {
   "cell_type": "markdown",
   "metadata": {},
   "source": [
    "$\n",
    "\\Bigg \\langle\n",
    "\\begin{bmatrix} \n",
    "x_1 \\\\ \n",
    "\\vdots\\\\\n",
    "x_n\n",
    "\\end{bmatrix},\n",
    "\\begin{bmatrix} \n",
    "y_1 \\\\ \n",
    "\\vdots\\\\\n",
    "y_n\n",
    "\\end{bmatrix}\n",
    "\\Bigg \\rangle :=\n",
    "x \\cdot y = \\sum_{i=1}^n x_iy_i\n",
    "$\n",
    "- $x \\cdot y = y \\cdot x$\n",
    "- $ x \\cdot ( y+z)= x \\cdot y+x \\cdot z$\n",
    "- Two vectors are called **orthogonal** if there dot product is zero $ x \\cdot y = 0$\n",
    "- Two vectors are called **orthonrmal** if  $||x||=||y||=1$ and there dot product is zero $ x \\cdot y = 0$\n",
    "- **orthonormal**\n",
    "- $\\textbf{x}^T \\textbf{y}= \n",
    "\\begin{cases}\n",
    "    0, & \\text{when} & i\\ne j & \\text{orthogonal vectors}\\\\\n",
    "    1, & \\text{when} & i = j & \\text{unit vectors}\n",
    "\\end{cases}\n",
    "$\n",
    "\n",
    "<div style=\"text-align: right\"><img src=\"nor.png\" width=\"300\" /></div>\n",
    "\n",
    "- we know $\\cos \\theta = \\frac{x \\cdot y}{\\Vert x \\Vert \\Vert y \\Vert}$\n",
    "- If $\\cos \\theta = 0$ then $\\theta = \\frac{\\pi}{2}$\n",
    "\n",
    "- $ x \\cdot x = ||x||^{2}$\n",
    "\n"
   ]
  },
  {
   "cell_type": "markdown",
   "metadata": {},
   "source": [
    "## Projections"
   ]
  },
  {
   "cell_type": "markdown",
   "metadata": {},
   "source": [
    "- Projections are a fundamental type of linear (and affine) mappings for machine learning. \n",
    "- If you have ever heard concepts like “embeddings”, “low-dimensional representation”, or “dimensionality reduction”, \n",
    "- they all are examples of projections. Even linear regression and principal component analysis are exemplars of projections.\n",
    "- Thus, projections allow working with high-dimensional spaces (i.e., problems with many features or variables) more efficiently, by projecting such spaces into lower-dimensional spaces. this works because is often the case that a few dimensions contain most of the information to understand the relation between inputs and outputs. Moreover, projections can be represented as matrices acting on vectors."
   ]
  },
  {
   "cell_type": "markdown",
   "metadata": {},
   "source": [
    "# Projection of $\\vec u $ on $\\vec v$\n",
    "\n",
    "- Scalar projection $ Proj_{\\vec u}(\\vec v)$ = $\\frac{\\vec u . \\vec v }{||\\vec v||}$\n",
    "- Vector Projection $ Proj_{\\vec u}(\\vec v)$ = $\\frac{\\vec u . \\vec v }{||\\vec v||^2} \\times \\vec v $\n",
    "![title](proj.png)"
   ]
  },
  {
   "cell_type": "code",
   "execution_count": null,
   "metadata": {},
   "outputs": [],
   "source": [
    "u = np.array([-1,3])\n",
    "v = np.array([3,4]) \n",
    "# scalar Projection of V on U\n",
    "scUonV = np.dot(u,v)/la.norm(v)\n",
    "print('The scalar projection of u on v is : ',scUonV)"
   ]
  },
  {
   "cell_type": "code",
   "execution_count": null,
   "metadata": {},
   "outputs": [],
   "source": [
    "# Vector projection of V on U\n",
    "vecUonV= ((np.dot(u,v))/(la.norm(v))**2)*v\n",
    "vecUonV"
   ]
  },
  {
   "cell_type": "code",
   "execution_count": null,
   "metadata": {},
   "outputs": [],
   "source": [
    "cosinUV = np.dot(u,v)/(la.norm(u)*la.norm(v))\n",
    "print( 'Cosine similarity between u and v :',cosinUV)"
   ]
  },
  {
   "cell_type": "code",
   "execution_count": null,
   "metadata": {},
   "outputs": [],
   "source": [
    "\n",
    "print(f'Angle between u and v :{np.rad2deg(np.arccos(cosinUV))} degree')"
   ]
  },
  {
   "cell_type": "code",
   "execution_count": null,
   "metadata": {},
   "outputs": [],
   "source": [
    "from IPython.display import HTML\n",
    "HTML(\"\"\"\n",
    "<video width=\"400\" height=\"400\" controls>\n",
    "  <source src=\"VectorProjection.mp4\" type=\"video/mp4\">\n",
    "</video>\n",
    "\"\"\")\n"
   ]
  },
  {
   "cell_type": "markdown",
   "metadata": {},
   "source": [
    "## Orthogonal Projections"
   ]
  },
  {
   "cell_type": "markdown",
   "metadata": {},
   "source": [
    "Consider a vector $\\vec u$. This vector can be written as a sum of two vectors that are respectively perpendicular to one another, that is $\\vec{u} = \\vec{w_1} + \\vec{w_2}$ where $\\vec{w_1} \\perp \\vec{w_2}$\n",
    "\n",
    "First construct a vector $\\vec b$  that has its initial point coincide with $\\vec u$ :"
   ]
  },
  {
   "cell_type": "markdown",
   "metadata": {},
   "source": [
    "<div style=\"text-align: right\"><img src=\"ortho.png\" width=\"200\" /></div>"
   ]
  },
  {
   "cell_type": "markdown",
   "metadata": {},
   "source": [
    "-We will now construct a $\\vec w_1$ that also has its initial point coinciding with $\\vec u$  and $\\vec b$ . \n",
    "This vector will run along $\\vec b$ .\n",
    "\n"
   ]
  },
  {
   "cell_type": "markdown",
   "metadata": {},
   "source": [
    "<div style=\"text-align: right\"><img src=\"ortho2.png\" width=\"200\" /></div>"
   ]
  },
  {
   "cell_type": "markdown",
   "metadata": {},
   "source": [
    "We will now drop a perpendicular vector $\\vec w_2$ that has its initial point at the terminal point of $\\vec w1$,\n",
    "and whose terminal point is at the terminal point of $\\vec u $ . Thus we get that $\\vec u =\\vec w_1+ \\vec w_2$\n",
    ", and $\\vec{w_1} \\perp \\vec{w_2}$ like we wanted.\n",
    "\n"
   ]
  },
  {
   "cell_type": "markdown",
   "metadata": {},
   "source": [
    "<div style=\"text-align: right\"><img src=\"ortho3.png\" width=\"200\" /></div>"
   ]
  },
  {
   "cell_type": "markdown",
   "metadata": {},
   "source": [
    "If $\\vec{w_1} \\perp \\vec{w_2}$ and $\\vec{w_1} \\| \\vec{b}$ and $\\vec{w_1} \\perp \\vec{w_2}$ then $\\vec w_1$ is called\n",
    "the Orthogonal Projection of $\\vec u$  Along $\\vec b$ denoted by\n",
    " $\\vec w_1 = \\mathrm{proj}_{\\vec{b}} \\vec{u} =\\frac{(\\vec{u} \\cdot \\vec{b})}{\\| \\vec{b} \\|^2} \\vec{b}$\n",
    " \n",
    " \n",
    " and $\\vec w_2$is the Vector Component of $\\vec u$  Orthogonal to $\\vec b$  and $\\vec{w_2} = \\vec{u} - \\mathrm{proj}_{\\vec{b}} \\vec{u}$"
   ]
  },
  {
   "cell_type": "markdown",
   "metadata": {},
   "source": [
    "# Linear dependence and independence"
   ]
  },
  {
   "cell_type": "markdown",
   "metadata": {},
   "source": [
    "- A set of vectors is **linearly dependent** if at least one vector can be obtained as a linear combination of other vectors in the set\n",
    "- As you can see , we can combine vectors x and y to obtain z.\n",
    "\n",
    "<div style=\"text-align: right\"><img src=\"ld.png\" width=\"400\" /></div>"
   ]
  },
  {
   "cell_type": "markdown",
   "metadata": {},
   "source": [
    "-Consider a set of vectors $ S = \\{ \\vec v_1,…,\\vec v_k \\}$ and scalars $\\beta_1 , \\beta_2,\\dots ,\\beta_k$, \n",
    "- If there is a way to get $\\sum_{i=1}^{k} \\beta_i \\vec v_i = \\beta_1 \\vec v_1+\\beta_2 \\vec v_2+\\dots+ \\beta_k \\vec v_k=0 $ with at least one $\\beta_i \\neq 0$, we have linearly dependent vectors.\n",
    "- In other words, if we can get the zero vector as a linear combination of the vectors in the set, with weights that are not all zero, we have a linearly dependent set.\n",
    "\n",
    "- If $\\sum_{i=1}^{k} \\beta_i \\vec v_i = \\beta_1 \\vec v_1+\\beta_2 \\vec v_2+\\dots+ \\beta_k \\vec v_k=0 $ \n",
    "- and all $\\beta_i = 0$ , we say $ S = \\{ \\vec v_1,…,\\vec v_k \\}$ is linearly independant"
   ]
  },
  {
   "cell_type": "markdown",
   "metadata": {},
   "source": [
    "- A set of vectors is **linearly independent** if none vector can be obtained as a linear combination of other vectors in the set. As you can see, there is no way for us to combine vectors x and y to obtain z. Again\n",
    "<div style=\"text-align: right\"><img src=\"ind.png\" width=\"400\" /></div>"
   ]
  },
  {
   "cell_type": "markdown",
   "metadata": {},
   "source": [
    "## Computational Complexity and sparse Vectors"
   ]
  },
  {
   "cell_type": "code",
   "execution_count": null,
   "metadata": {},
   "outputs": [],
   "source": [
    "import timeit\n",
    "a,b = np.random.randn(10**5),np.random.randn(10**5)\n",
    "%timeit sum(a*b) #@time in J"
   ]
  },
  {
   "cell_type": "code",
   "execution_count": null,
   "metadata": {},
   "outputs": [],
   "source": [
    "%timeit sum(a*b)"
   ]
  },
  {
   "cell_type": "code",
   "execution_count": null,
   "metadata": {},
   "outputs": [],
   "source": [
    "sparsevec = np.zeros(10**6)\n",
    "sparsevec[123456],sparsevec[123457] = [1.0,-1.0] \n",
    "#this is a one line operation in J using the SparseVec package: \n",
    "#sparsevec([list of indices to set], [values for those indices], vec size)\n",
    "np.nonzero(sparsevec),len(np.nonzero(sparsevec))"
   ]
  },
  {
   "cell_type": "code",
   "execution_count": null,
   "metadata": {},
   "outputs": [],
   "source": [
    "b = np.random.randn(10**6)\n",
    "%timeit c = sparsevec + b "
   ]
  },
  {
   "cell_type": "markdown",
   "metadata": {},
   "source": [
    "## Tensor Operations\n",
    "\n",
    "- Tensor Transposition\n",
    "- Basic Tensor Arithmetic\n",
    "- Reduction\n",
    "- The Dot Product\n",
    "- Solving Linear Systems\n",
    "\n",
    "\n",
    "- tf.Variable\n",
    "- tf.constant\n",
    "- tf.placeholder\n",
    "- tf.SparseTensor\n",
    "- Most widely-used is tf.Variable, which we'll use here."
   ]
  },
  {
   "cell_type": "code",
   "execution_count": null,
   "metadata": {},
   "outputs": [],
   "source": [
    "# # tensorFlow not working\n",
    "# import tensorflow as tf\n",
    "\n",
    "# x_tf = tf.Variable(25, dtype=tf.int16) # dtype is optional\n",
    "# x_tf\n",
    "# x_tf = tf.Variable([25, 2, 5])\n",
    "# x_tf\n",
    "# X_tf = tf.Variable([[25, 2], [5, 26], [3, 7]])\n",
    "# X_tf\n",
    "# images_tf = tf.zeros([32, 28, 28, 3])\n",
    "# images_tf"
   ]
  },
  {
   "cell_type": "code",
   "execution_count": null,
   "metadata": {},
   "outputs": [],
   "source": []
  }
 ],
 "metadata": {
  "kernelspec": {
   "display_name": "Python 3 (ipykernel)",
   "language": "python",
   "name": "python3"
  },
  "language_info": {
   "codemirror_mode": {
    "name": "ipython",
    "version": 3
   },
   "file_extension": ".py",
   "mimetype": "text/x-python",
   "name": "python",
   "nbconvert_exporter": "python",
   "pygments_lexer": "ipython3",
   "version": "3.9.6"
  }
 },
 "nbformat": 4,
 "nbformat_minor": 4
}
