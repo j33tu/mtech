<<<<<<< HEAD
{
 "cells": [
  {
   "cell_type": "code",
   "execution_count": 29,
   "metadata": {},
   "outputs": [],
   "source": [
    "import pandas as pd\n",
    "import numpy as np\n",
    "import matplotlib.pyplot as plt\n",
    "import seaborn as sns\n",
    "from sklearn.linear_model import LinearRegression\n",
    "from sklearn.metrics import r2_score\n",
    "import statsmodels.api as sm"
   ]
  },
  {
   "cell_type": "raw",
   "metadata": {},
   "source": [
    "The advertising dataset captures the sales revenue generated with respect to advertisement costs across multiple channels like radio, tv, and newspapers.\n",
    "\n",
    "TV: Budget for TV Advertisements in 1000$\n",
    "Radio:Budget for Radio Advertisements in 1000$\n",
    "Newspaper:Budget for Newspaper Advertisements in 1000$\n",
    "\n",
    "Target: Sales Revenue in M$"
   ]
  },
  {
   "cell_type": "code",
   "execution_count": 30,
   "metadata": {},
   "outputs": [],
   "source": [
    "data = pd.read_csv(\"advertising.csv\")"
   ]
  },
  {
   "cell_type": "code",
   "execution_count": 31,
   "metadata": {},
   "outputs": [
    {
     "data": {
      "text/html": [
       "<div>\n",
       "<style scoped>\n",
       "    .dataframe tbody tr th:only-of-type {\n",
       "        vertical-align: middle;\n",
       "    }\n",
       "\n",
       "    .dataframe tbody tr th {\n",
       "        vertical-align: top;\n",
       "    }\n",
       "\n",
       "    .dataframe thead th {\n",
       "        text-align: right;\n",
       "    }\n",
       "</style>\n",
       "<table border=\"1\" class=\"dataframe\">\n",
       "  <thead>\n",
       "    <tr style=\"text-align: right;\">\n",
       "      <th></th>\n",
       "      <th>TV</th>\n",
       "      <th>Radio</th>\n",
       "      <th>Newspaper</th>\n",
       "      <th>Sales</th>\n",
       "    </tr>\n",
       "  </thead>\n",
       "  <tbody>\n",
       "    <tr>\n",
       "      <th>0</th>\n",
       "      <td>230.1</td>\n",
       "      <td>37.8</td>\n",
       "      <td>69.2</td>\n",
       "      <td>22.1</td>\n",
       "    </tr>\n",
       "    <tr>\n",
       "      <th>1</th>\n",
       "      <td>44.5</td>\n",
       "      <td>39.3</td>\n",
       "      <td>45.1</td>\n",
       "      <td>10.4</td>\n",
       "    </tr>\n",
       "    <tr>\n",
       "      <th>2</th>\n",
       "      <td>17.2</td>\n",
       "      <td>45.9</td>\n",
       "      <td>69.3</td>\n",
       "      <td>12.0</td>\n",
       "    </tr>\n",
       "    <tr>\n",
       "      <th>3</th>\n",
       "      <td>151.5</td>\n",
       "      <td>41.3</td>\n",
       "      <td>58.5</td>\n",
       "      <td>16.5</td>\n",
       "    </tr>\n",
       "    <tr>\n",
       "      <th>4</th>\n",
       "      <td>180.8</td>\n",
       "      <td>10.8</td>\n",
       "      <td>58.4</td>\n",
       "      <td>17.9</td>\n",
       "    </tr>\n",
       "  </tbody>\n",
       "</table>\n",
       "</div>"
      ],
      "text/plain": [
       "      TV  Radio  Newspaper  Sales\n",
       "0  230.1   37.8       69.2   22.1\n",
       "1   44.5   39.3       45.1   10.4\n",
       "2   17.2   45.9       69.3   12.0\n",
       "3  151.5   41.3       58.5   16.5\n",
       "4  180.8   10.8       58.4   17.9"
      ]
     },
     "execution_count": 31,
     "metadata": {},
     "output_type": "execute_result"
    }
   ],
   "source": [
    "data.head()"
   ]
  },
  {
   "cell_type": "code",
   "execution_count": 32,
   "metadata": {},
   "outputs": [
    {
     "data": {
      "text/html": [
       "<div>\n",
       "<style scoped>\n",
       "    .dataframe tbody tr th:only-of-type {\n",
       "        vertical-align: middle;\n",
       "    }\n",
       "\n",
       "    .dataframe tbody tr th {\n",
       "        vertical-align: top;\n",
       "    }\n",
       "\n",
       "    .dataframe thead th {\n",
       "        text-align: right;\n",
       "    }\n",
       "</style>\n",
       "<table border=\"1\" class=\"dataframe\">\n",
       "  <thead>\n",
       "    <tr style=\"text-align: right;\">\n",
       "      <th></th>\n",
       "      <th>TV</th>\n",
       "      <th>Radio</th>\n",
       "      <th>Newspaper</th>\n",
       "      <th>Sales</th>\n",
       "    </tr>\n",
       "  </thead>\n",
       "  <tbody>\n",
       "    <tr>\n",
       "      <th>count</th>\n",
       "      <td>200.000000</td>\n",
       "      <td>200.000000</td>\n",
       "      <td>200.000000</td>\n",
       "      <td>200.000000</td>\n",
       "    </tr>\n",
       "    <tr>\n",
       "      <th>mean</th>\n",
       "      <td>147.042500</td>\n",
       "      <td>23.264000</td>\n",
       "      <td>30.554000</td>\n",
       "      <td>15.130500</td>\n",
       "    </tr>\n",
       "    <tr>\n",
       "      <th>std</th>\n",
       "      <td>85.854236</td>\n",
       "      <td>14.846809</td>\n",
       "      <td>21.778621</td>\n",
       "      <td>5.283892</td>\n",
       "    </tr>\n",
       "    <tr>\n",
       "      <th>min</th>\n",
       "      <td>0.700000</td>\n",
       "      <td>0.000000</td>\n",
       "      <td>0.300000</td>\n",
       "      <td>1.600000</td>\n",
       "    </tr>\n",
       "    <tr>\n",
       "      <th>25%</th>\n",
       "      <td>74.375000</td>\n",
       "      <td>9.975000</td>\n",
       "      <td>12.750000</td>\n",
       "      <td>11.000000</td>\n",
       "    </tr>\n",
       "    <tr>\n",
       "      <th>50%</th>\n",
       "      <td>149.750000</td>\n",
       "      <td>22.900000</td>\n",
       "      <td>25.750000</td>\n",
       "      <td>16.000000</td>\n",
       "    </tr>\n",
       "    <tr>\n",
       "      <th>75%</th>\n",
       "      <td>218.825000</td>\n",
       "      <td>36.525000</td>\n",
       "      <td>45.100000</td>\n",
       "      <td>19.050000</td>\n",
       "    </tr>\n",
       "    <tr>\n",
       "      <th>max</th>\n",
       "      <td>296.400000</td>\n",
       "      <td>49.600000</td>\n",
       "      <td>114.000000</td>\n",
       "      <td>27.000000</td>\n",
       "    </tr>\n",
       "  </tbody>\n",
       "</table>\n",
       "</div>"
      ],
      "text/plain": [
       "               TV       Radio   Newspaper       Sales\n",
       "count  200.000000  200.000000  200.000000  200.000000\n",
       "mean   147.042500   23.264000   30.554000   15.130500\n",
       "std     85.854236   14.846809   21.778621    5.283892\n",
       "min      0.700000    0.000000    0.300000    1.600000\n",
       "25%     74.375000    9.975000   12.750000   11.000000\n",
       "50%    149.750000   22.900000   25.750000   16.000000\n",
       "75%    218.825000   36.525000   45.100000   19.050000\n",
       "max    296.400000   49.600000  114.000000   27.000000"
      ]
     },
     "execution_count": 32,
     "metadata": {},
     "output_type": "execute_result"
    }
   ],
   "source": [
    "data.describe()"
   ]
  },
  {
   "cell_type": "code",
   "execution_count": 33,
   "metadata": {
    "scrolled": true
   },
   "outputs": [],
   "source": [
    "#data.drop(['Unnamed: 0'], axis=1)"
   ]
  },
  {
   "cell_type": "code",
   "execution_count": 34,
   "metadata": {},
   "outputs": [
    {
     "data": {
      "image/png": "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\n",
      "text/plain": [
       "<Figure size 720x576 with 1 Axes>"
      ]
     },
     "metadata": {
      "needs_background": "light"
     },
     "output_type": "display_data"
    }
   ],
   "source": [
    "plt.figure(figsize=(10, 8))\n",
    "plt.scatter(\n",
    "    data['TV'],\n",
    "    data['Sales'],\n",
    "    c='blue'\n",
    ")\n",
    "plt.xlabel(\"Money spent on TV ads ($)\")\n",
    "plt.ylabel(\"Sales ($)\")\n",
    "plt.title(\"Tv vs Sales\")\n",
    "plt.show()"
   ]
  },
  {
   "cell_type": "code",
   "execution_count": 35,
   "metadata": {},
   "outputs": [],
   "source": [
    "X = data['TV']\n",
    "y = data['Sales']\n",
    "\n",
    "Xc= sm.add_constant(X)"
   ]
  },
  {
   "cell_type": "code",
   "execution_count": 36,
   "metadata": {},
   "outputs": [],
   "source": [
    "#train test split\n",
    "\n",
    "from sklearn.model_selection import train_test_split\n",
    "\n",
    "x_train,x_test,y_train,y_test=train_test_split(Xc,y,test_size=.2,random_state=10)"
   ]
  },
  {
   "cell_type": "markdown",
   "metadata": {},
   "source": [
    "## Simple linear regression "
   ]
  },
  {
   "cell_type": "code",
   "execution_count": 37,
   "metadata": {},
   "outputs": [
    {
     "data": {
      "text/plain": [
       "(40,)"
      ]
     },
     "execution_count": 37,
     "metadata": {},
     "output_type": "execute_result"
    }
   ],
   "source": [
    "y_test.shape"
   ]
  },
  {
   "cell_type": "code",
   "execution_count": 11,
   "metadata": {},
   "outputs": [],
   "source": [
    "# OLS (Statsmodels)"
   ]
  },
  {
   "cell_type": "code",
   "execution_count": 12,
   "metadata": {},
   "outputs": [],
   "source": [
    "# 1st part of the table\n",
    "# DF\n",
    "# F stat\n",
    "# Measures of variations : Rsquared (Explained + unexplained variations)"
   ]
  },
  {
   "cell_type": "code",
   "execution_count": 13,
   "metadata": {},
   "outputs": [],
   "source": [
    "#SSE\n",
    "#SSR\n",
    "#SST"
   ]
  },
  {
   "cell_type": "code",
   "execution_count": 14,
   "metadata": {},
   "outputs": [],
   "source": [
    "#2nd part of the table\n",
    "# Coefficients\n",
    "# std error\n",
    "# t- stat\n",
    "# P values\n",
    "# confidance Interval"
   ]
  },
  {
   "cell_type": "code",
   "execution_count": 15,
   "metadata": {},
   "outputs": [],
   "source": [
    "# Error metrics\n",
    "\n",
    "# RMSE\n",
    "# MAPE\n"
   ]
  },
  {
   "cell_type": "code",
   "execution_count": null,
   "metadata": {},
   "outputs": [],
   "source": []
  },
  {
   "cell_type": "code",
   "execution_count": 16,
   "metadata": {},
   "outputs": [],
   "source": [
    "# if categorical?  "
   ]
  },
  {
   "cell_type": "markdown",
   "metadata": {},
   "source": [
    "## Multiple linear regression "
   ]
  },
  {
   "cell_type": "code",
   "execution_count": 17,
   "metadata": {},
   "outputs": [],
   "source": [
    "# Adjusted r-square"
   ]
  },
  {
   "cell_type": "code",
   "execution_count": 18,
   "metadata": {},
   "outputs": [],
   "source": [
    "#3rd part of the table-----Assumptions\n",
    "\n",
    "#1. linearity\n",
    "# ccorrelation function\n",
    "# scatter plot\n",
    "# Linear rainbow test\n",
    " \n",
    "\n"
   ]
  },
  {
   "cell_type": "code",
   "execution_count": 19,
   "metadata": {},
   "outputs": [],
   "source": [
    "#2. Multi colinearity\n",
    "# Correlation function\n",
    "# VIF\n",
    "# Condition number"
   ]
  },
  {
   "cell_type": "code",
   "execution_count": 20,
   "metadata": {},
   "outputs": [],
   "source": [
    "#3. Normality of residuals\n",
    "# plots\n",
    "# Shapiro wilk test\n",
    "# Jerque bera test"
   ]
  },
  {
   "cell_type": "code",
   "execution_count": 21,
   "metadata": {},
   "outputs": [],
   "source": [
    "#4. Heteroskadasticity\n",
    "# residual plot\n",
    "# breusch pagan test"
   ]
  },
  {
   "cell_type": "code",
   "execution_count": 22,
   "metadata": {},
   "outputs": [],
   "source": []
  },
  {
   "cell_type": "code",
   "execution_count": 23,
   "metadata": {},
   "outputs": [],
   "source": [
    "#5. auto corelation\n",
    "# Residual plot\n",
    "# Durbin watson test\n",
    "\n"
   ]
  },
  {
   "cell_type": "code",
   "execution_count": 24,
   "metadata": {},
   "outputs": [],
   "source": [
    "# SKlearn function\n",
    "\n"
   ]
  },
  {
   "cell_type": "code",
   "execution_count": 25,
   "metadata": {},
   "outputs": [],
   "source": [
    "# cross validation\n",
    "\n"
   ]
  },
  {
   "cell_type": "code",
   "execution_count": 26,
   "metadata": {},
   "outputs": [],
   "source": [
    "# bias variance tradeoff"
   ]
  },
  {
   "cell_type": "code",
   "execution_count": null,
   "metadata": {},
   "outputs": [],
   "source": []
  }
 ],
 "metadata": {
  "kernelspec": {
   "display_name": "Python 3 (ipykernel)",
   "language": "python",
   "name": "python3"
  },
  "language_info": {
   "codemirror_mode": {
    "name": "ipython",
    "version": 3
   },
   "file_extension": ".py",
   "mimetype": "text/x-python",
   "name": "python",
   "nbconvert_exporter": "python",
   "pygments_lexer": "ipython3",
   "version": "3.10.12"
  }
 },
 "nbformat": 4,
 "nbformat_minor": 2
}
=======
{
 "cells": [
  {
   "cell_type": "code",
   "execution_count": 29,
   "metadata": {},
   "outputs": [],
   "source": [
    "import pandas as pd\n",
    "import numpy as np\n",
    "import matplotlib.pyplot as plt\n",
    "import seaborn as sns\n",
    "from sklearn.linear_model import LinearRegression\n",
    "from sklearn.metrics import r2_score\n",
    "import statsmodels.api as sm"
   ]
  },
  {
   "cell_type": "raw",
   "metadata": {},
   "source": [
    "The advertising dataset captures the sales revenue generated with respect to advertisement costs across multiple channels like radio, tv, and newspapers.\n",
    "\n",
    "TV: Budget for TV Advertisements in 1000$\n",
    "Radio:Budget for Radio Advertisements in 1000$\n",
    "Newspaper:Budget for Newspaper Advertisements in 1000$\n",
    "\n",
    "Target: Sales Revenue in M$"
   ]
  },
  {
   "cell_type": "code",
   "execution_count": 30,
   "metadata": {},
   "outputs": [],
   "source": [
    "data = pd.read_csv(\"advertising.csv\")"
   ]
  },
  {
   "cell_type": "code",
   "execution_count": 31,
   "metadata": {},
   "outputs": [
    {
     "data": {
      "text/html": [
       "<div>\n",
       "<style scoped>\n",
       "    .dataframe tbody tr th:only-of-type {\n",
       "        vertical-align: middle;\n",
       "    }\n",
       "\n",
       "    .dataframe tbody tr th {\n",
       "        vertical-align: top;\n",
       "    }\n",
       "\n",
       "    .dataframe thead th {\n",
       "        text-align: right;\n",
       "    }\n",
       "</style>\n",
       "<table border=\"1\" class=\"dataframe\">\n",
       "  <thead>\n",
       "    <tr style=\"text-align: right;\">\n",
       "      <th></th>\n",
       "      <th>TV</th>\n",
       "      <th>Radio</th>\n",
       "      <th>Newspaper</th>\n",
       "      <th>Sales</th>\n",
       "    </tr>\n",
       "  </thead>\n",
       "  <tbody>\n",
       "    <tr>\n",
       "      <th>0</th>\n",
       "      <td>230.1</td>\n",
       "      <td>37.8</td>\n",
       "      <td>69.2</td>\n",
       "      <td>22.1</td>\n",
       "    </tr>\n",
       "    <tr>\n",
       "      <th>1</th>\n",
       "      <td>44.5</td>\n",
       "      <td>39.3</td>\n",
       "      <td>45.1</td>\n",
       "      <td>10.4</td>\n",
       "    </tr>\n",
       "    <tr>\n",
       "      <th>2</th>\n",
       "      <td>17.2</td>\n",
       "      <td>45.9</td>\n",
       "      <td>69.3</td>\n",
       "      <td>12.0</td>\n",
       "    </tr>\n",
       "    <tr>\n",
       "      <th>3</th>\n",
       "      <td>151.5</td>\n",
       "      <td>41.3</td>\n",
       "      <td>58.5</td>\n",
       "      <td>16.5</td>\n",
       "    </tr>\n",
       "    <tr>\n",
       "      <th>4</th>\n",
       "      <td>180.8</td>\n",
       "      <td>10.8</td>\n",
       "      <td>58.4</td>\n",
       "      <td>17.9</td>\n",
       "    </tr>\n",
       "  </tbody>\n",
       "</table>\n",
       "</div>"
      ],
      "text/plain": [
       "      TV  Radio  Newspaper  Sales\n",
       "0  230.1   37.8       69.2   22.1\n",
       "1   44.5   39.3       45.1   10.4\n",
       "2   17.2   45.9       69.3   12.0\n",
       "3  151.5   41.3       58.5   16.5\n",
       "4  180.8   10.8       58.4   17.9"
      ]
     },
     "execution_count": 31,
     "metadata": {},
     "output_type": "execute_result"
    }
   ],
   "source": [
    "data.head()"
   ]
  },
  {
   "cell_type": "code",
   "execution_count": 32,
   "metadata": {},
   "outputs": [
    {
     "data": {
      "text/html": [
       "<div>\n",
       "<style scoped>\n",
       "    .dataframe tbody tr th:only-of-type {\n",
       "        vertical-align: middle;\n",
       "    }\n",
       "\n",
       "    .dataframe tbody tr th {\n",
       "        vertical-align: top;\n",
       "    }\n",
       "\n",
       "    .dataframe thead th {\n",
       "        text-align: right;\n",
       "    }\n",
       "</style>\n",
       "<table border=\"1\" class=\"dataframe\">\n",
       "  <thead>\n",
       "    <tr style=\"text-align: right;\">\n",
       "      <th></th>\n",
       "      <th>TV</th>\n",
       "      <th>Radio</th>\n",
       "      <th>Newspaper</th>\n",
       "      <th>Sales</th>\n",
       "    </tr>\n",
       "  </thead>\n",
       "  <tbody>\n",
       "    <tr>\n",
       "      <th>count</th>\n",
       "      <td>200.000000</td>\n",
       "      <td>200.000000</td>\n",
       "      <td>200.000000</td>\n",
       "      <td>200.000000</td>\n",
       "    </tr>\n",
       "    <tr>\n",
       "      <th>mean</th>\n",
       "      <td>147.042500</td>\n",
       "      <td>23.264000</td>\n",
       "      <td>30.554000</td>\n",
       "      <td>15.130500</td>\n",
       "    </tr>\n",
       "    <tr>\n",
       "      <th>std</th>\n",
       "      <td>85.854236</td>\n",
       "      <td>14.846809</td>\n",
       "      <td>21.778621</td>\n",
       "      <td>5.283892</td>\n",
       "    </tr>\n",
       "    <tr>\n",
       "      <th>min</th>\n",
       "      <td>0.700000</td>\n",
       "      <td>0.000000</td>\n",
       "      <td>0.300000</td>\n",
       "      <td>1.600000</td>\n",
       "    </tr>\n",
       "    <tr>\n",
       "      <th>25%</th>\n",
       "      <td>74.375000</td>\n",
       "      <td>9.975000</td>\n",
       "      <td>12.750000</td>\n",
       "      <td>11.000000</td>\n",
       "    </tr>\n",
       "    <tr>\n",
       "      <th>50%</th>\n",
       "      <td>149.750000</td>\n",
       "      <td>22.900000</td>\n",
       "      <td>25.750000</td>\n",
       "      <td>16.000000</td>\n",
       "    </tr>\n",
       "    <tr>\n",
       "      <th>75%</th>\n",
       "      <td>218.825000</td>\n",
       "      <td>36.525000</td>\n",
       "      <td>45.100000</td>\n",
       "      <td>19.050000</td>\n",
       "    </tr>\n",
       "    <tr>\n",
       "      <th>max</th>\n",
       "      <td>296.400000</td>\n",
       "      <td>49.600000</td>\n",
       "      <td>114.000000</td>\n",
       "      <td>27.000000</td>\n",
       "    </tr>\n",
       "  </tbody>\n",
       "</table>\n",
       "</div>"
      ],
      "text/plain": [
       "               TV       Radio   Newspaper       Sales\n",
       "count  200.000000  200.000000  200.000000  200.000000\n",
       "mean   147.042500   23.264000   30.554000   15.130500\n",
       "std     85.854236   14.846809   21.778621    5.283892\n",
       "min      0.700000    0.000000    0.300000    1.600000\n",
       "25%     74.375000    9.975000   12.750000   11.000000\n",
       "50%    149.750000   22.900000   25.750000   16.000000\n",
       "75%    218.825000   36.525000   45.100000   19.050000\n",
       "max    296.400000   49.600000  114.000000   27.000000"
      ]
     },
     "execution_count": 32,
     "metadata": {},
     "output_type": "execute_result"
    }
   ],
   "source": [
    "data.describe()"
   ]
  },
  {
   "cell_type": "code",
   "execution_count": 33,
   "metadata": {
    "scrolled": true
   },
   "outputs": [],
   "source": [
    "#data.drop(['Unnamed: 0'], axis=1)"
   ]
  },
  {
   "cell_type": "code",
   "execution_count": 34,
   "metadata": {},
   "outputs": [
    {
     "data": {
      "image/png": "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\n",
      "text/plain": [
       "<Figure size 720x576 with 1 Axes>"
      ]
     },
     "metadata": {
      "needs_background": "light"
     },
     "output_type": "display_data"
    }
   ],
   "source": [
    "plt.figure(figsize=(10, 8))\n",
    "plt.scatter(\n",
    "    data['TV'],\n",
    "    data['Sales'],\n",
    "    c='blue'\n",
    ")\n",
    "plt.xlabel(\"Money spent on TV ads ($)\")\n",
    "plt.ylabel(\"Sales ($)\")\n",
    "plt.title(\"Tv vs Sales\")\n",
    "plt.show()"
   ]
  },
  {
   "cell_type": "code",
   "execution_count": 35,
   "metadata": {},
   "outputs": [],
   "source": [
    "X = data['TV']\n",
    "y = data['Sales']\n",
    "\n",
    "Xc= sm.add_constant(X)"
   ]
  },
  {
   "cell_type": "code",
   "execution_count": 36,
   "metadata": {},
   "outputs": [],
   "source": [
    "#train test split\n",
    "\n",
    "from sklearn.model_selection import train_test_split\n",
    "\n",
    "x_train,x_test,y_train,y_test=train_test_split(Xc,y,test_size=.2,random_state=10)"
   ]
  },
  {
   "cell_type": "markdown",
   "metadata": {},
   "source": [
    "## Simple linear regression "
   ]
  },
  {
   "cell_type": "code",
   "execution_count": 37,
   "metadata": {},
   "outputs": [
    {
     "data": {
      "text/plain": [
       "(40,)"
      ]
     },
     "execution_count": 37,
     "metadata": {},
     "output_type": "execute_result"
    }
   ],
   "source": [
    "y_test.shape"
   ]
  },
  {
   "cell_type": "code",
   "execution_count": 11,
   "metadata": {},
   "outputs": [],
   "source": [
    "# OLS (Statsmodels)"
   ]
  },
  {
   "cell_type": "code",
   "execution_count": 12,
   "metadata": {},
   "outputs": [],
   "source": [
    "# 1st part of the table\n",
    "# DF\n",
    "# F stat\n",
    "# Measures of variations : Rsquared (Explained + unexplained variations)"
   ]
  },
  {
   "cell_type": "code",
   "execution_count": 13,
   "metadata": {},
   "outputs": [],
   "source": [
    "#SSE\n",
    "#SSR\n",
    "#SST"
   ]
  },
  {
   "cell_type": "code",
   "execution_count": 14,
   "metadata": {},
   "outputs": [],
   "source": [
    "#2nd part of the table\n",
    "# Coefficients\n",
    "# std error\n",
    "# t- stat\n",
    "# P values\n",
    "# confidance Interval"
   ]
  },
  {
   "cell_type": "code",
   "execution_count": 15,
   "metadata": {},
   "outputs": [],
   "source": [
    "# Error metrics\n",
    "\n",
    "# RMSE\n",
    "# MAPE\n"
   ]
  },
  {
   "cell_type": "code",
   "execution_count": null,
   "metadata": {},
   "outputs": [],
   "source": []
  },
  {
   "cell_type": "code",
   "execution_count": 16,
   "metadata": {},
   "outputs": [],
   "source": [
    "# if categorical?  "
   ]
  },
  {
   "cell_type": "markdown",
   "metadata": {},
   "source": [
    "## Multiple linear regression "
   ]
  },
  {
   "cell_type": "code",
   "execution_count": 17,
   "metadata": {},
   "outputs": [],
   "source": [
    "# Adjusted r-square"
   ]
  },
  {
   "cell_type": "code",
   "execution_count": 18,
   "metadata": {},
   "outputs": [],
   "source": [
    "#3rd part of the table-----Assumptions\n",
    "\n",
    "#1. linearity\n",
    "# ccorrelation function\n",
    "# scatter plot\n",
    "# Linear rainbow test\n",
    " \n",
    "\n"
   ]
  },
  {
   "cell_type": "code",
   "execution_count": 19,
   "metadata": {},
   "outputs": [],
   "source": [
    "#2. Multi colinearity\n",
    "# Correlation function\n",
    "# VIF\n",
    "# Condition number"
   ]
  },
  {
   "cell_type": "code",
   "execution_count": 20,
   "metadata": {},
   "outputs": [],
   "source": [
    "#3. Normality of residuals\n",
    "# plots\n",
    "# Shapiro wilk test\n",
    "# Jerque bera test"
   ]
  },
  {
   "cell_type": "code",
   "execution_count": 21,
   "metadata": {},
   "outputs": [],
   "source": [
    "#4. Heteroskadasticity\n",
    "# residual plot\n",
    "# breusch pagan test"
   ]
  },
  {
   "cell_type": "code",
   "execution_count": 22,
   "metadata": {},
   "outputs": [],
   "source": []
  },
  {
   "cell_type": "code",
   "execution_count": 23,
   "metadata": {},
   "outputs": [],
   "source": [
    "#5. auto corelation\n",
    "# Residual plot\n",
    "# Durbin watson test\n",
    "\n"
   ]
  },
  {
   "cell_type": "code",
   "execution_count": 24,
   "metadata": {},
   "outputs": [],
   "source": [
    "# SKlearn function\n",
    "\n"
   ]
  },
  {
   "cell_type": "code",
   "execution_count": 25,
   "metadata": {},
   "outputs": [],
   "source": [
    "# cross validation\n",
    "\n"
   ]
  },
  {
   "cell_type": "code",
   "execution_count": 26,
   "metadata": {},
   "outputs": [],
   "source": [
    "# bias variance tradeoff"
   ]
  },
  {
   "cell_type": "code",
   "execution_count": null,
   "metadata": {},
   "outputs": [],
   "source": []
  }
 ],
 "metadata": {
  "kernelspec": {
   "display_name": "Python 3 (ipykernel)",
   "language": "python",
   "name": "python3"
  },
  "language_info": {
   "codemirror_mode": {
    "name": "ipython",
    "version": 3
   },
   "file_extension": ".py",
   "mimetype": "text/x-python",
   "name": "python",
   "nbconvert_exporter": "python",
   "pygments_lexer": "ipython3",
   "version": "3.10.12"
  }
 },
 "nbformat": 4,
 "nbformat_minor": 2
}
>>>>>>> cf3429aa022050cdef15a5addc336bde64bc40e5
