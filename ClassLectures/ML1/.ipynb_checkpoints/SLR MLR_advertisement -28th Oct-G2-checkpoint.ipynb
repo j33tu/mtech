<<<<<<< HEAD
{
 "cells": [
  {
   "cell_type": "code",
   "execution_count": 1,
   "metadata": {},
   "outputs": [],
   "source": [
    "import pandas as pd\n",
    "import numpy as np\n",
    "import matplotlib.pyplot as plt\n",
    "import seaborn as sns\n",
    "from sklearn.linear_model import LinearRegression\n",
    "from sklearn.metrics import r2_score\n",
    "import statsmodels.api as sm"
   ]
  },
  {
   "cell_type": "raw",
   "metadata": {},
   "source": [
    "The advertising dataset captures the sales revenue generated with respect to advertisement costs across multiple channels like radio, tv, and newspapers.\n",
    "\n",
    "TV: Budget for TV Advertisements in 1000$\n",
    "Radio:Budget for Radio Advertisements in 1000$\n",
    "Newspaper:Budget for Newspaper Advertisements in 1000$\n",
    "\n",
    "Target: Sales Revenue in M$"
   ]
  },
  {
   "cell_type": "code",
   "execution_count": 2,
   "metadata": {},
   "outputs": [],
   "source": [
    "df = pd.read_csv(\"advertising.csv\")"
   ]
  },
  {
   "cell_type": "code",
   "execution_count": 7,
   "metadata": {},
   "outputs": [
    {
     "data": {
      "text/html": [
       "<div>\n",
       "<style scoped>\n",
       "    .dataframe tbody tr th:only-of-type {\n",
       "        vertical-align: middle;\n",
       "    }\n",
       "\n",
       "    .dataframe tbody tr th {\n",
       "        vertical-align: top;\n",
       "    }\n",
       "\n",
       "    .dataframe thead th {\n",
       "        text-align: right;\n",
       "    }\n",
       "</style>\n",
       "<table border=\"1\" class=\"dataframe\">\n",
       "  <thead>\n",
       "    <tr style=\"text-align: right;\">\n",
       "      <th></th>\n",
       "      <th>TV</th>\n",
       "      <th>Radio</th>\n",
       "      <th>Newspaper</th>\n",
       "      <th>Sales</th>\n",
       "    </tr>\n",
       "  </thead>\n",
       "  <tbody>\n",
       "    <tr>\n",
       "      <th>0</th>\n",
       "      <td>230.1</td>\n",
       "      <td>37.8</td>\n",
       "      <td>69.2</td>\n",
       "      <td>22.1</td>\n",
       "    </tr>\n",
       "    <tr>\n",
       "      <th>1</th>\n",
       "      <td>44.5</td>\n",
       "      <td>39.3</td>\n",
       "      <td>45.1</td>\n",
       "      <td>10.4</td>\n",
       "    </tr>\n",
       "    <tr>\n",
       "      <th>2</th>\n",
       "      <td>17.2</td>\n",
       "      <td>45.9</td>\n",
       "      <td>69.3</td>\n",
       "      <td>12.0</td>\n",
       "    </tr>\n",
       "    <tr>\n",
       "      <th>3</th>\n",
       "      <td>151.5</td>\n",
       "      <td>41.3</td>\n",
       "      <td>58.5</td>\n",
       "      <td>16.5</td>\n",
       "    </tr>\n",
       "    <tr>\n",
       "      <th>4</th>\n",
       "      <td>180.8</td>\n",
       "      <td>10.8</td>\n",
       "      <td>58.4</td>\n",
       "      <td>17.9</td>\n",
       "    </tr>\n",
       "    <tr>\n",
       "      <th>...</th>\n",
       "      <td>...</td>\n",
       "      <td>...</td>\n",
       "      <td>...</td>\n",
       "      <td>...</td>\n",
       "    </tr>\n",
       "    <tr>\n",
       "      <th>195</th>\n",
       "      <td>38.2</td>\n",
       "      <td>3.7</td>\n",
       "      <td>13.8</td>\n",
       "      <td>7.6</td>\n",
       "    </tr>\n",
       "    <tr>\n",
       "      <th>196</th>\n",
       "      <td>94.2</td>\n",
       "      <td>4.9</td>\n",
       "      <td>8.1</td>\n",
       "      <td>14.0</td>\n",
       "    </tr>\n",
       "    <tr>\n",
       "      <th>197</th>\n",
       "      <td>177.0</td>\n",
       "      <td>9.3</td>\n",
       "      <td>6.4</td>\n",
       "      <td>14.8</td>\n",
       "    </tr>\n",
       "    <tr>\n",
       "      <th>198</th>\n",
       "      <td>283.6</td>\n",
       "      <td>42.0</td>\n",
       "      <td>66.2</td>\n",
       "      <td>25.5</td>\n",
       "    </tr>\n",
       "    <tr>\n",
       "      <th>199</th>\n",
       "      <td>232.1</td>\n",
       "      <td>8.6</td>\n",
       "      <td>8.7</td>\n",
       "      <td>18.4</td>\n",
       "    </tr>\n",
       "  </tbody>\n",
       "</table>\n",
       "<p>200 rows × 4 columns</p>\n",
       "</div>"
      ],
      "text/plain": [
       "        TV  Radio  Newspaper  Sales\n",
       "0    230.1   37.8       69.2   22.1\n",
       "1     44.5   39.3       45.1   10.4\n",
       "2     17.2   45.9       69.3   12.0\n",
       "3    151.5   41.3       58.5   16.5\n",
       "4    180.8   10.8       58.4   17.9\n",
       "..     ...    ...        ...    ...\n",
       "195   38.2    3.7       13.8    7.6\n",
       "196   94.2    4.9        8.1   14.0\n",
       "197  177.0    9.3        6.4   14.8\n",
       "198  283.6   42.0       66.2   25.5\n",
       "199  232.1    8.6        8.7   18.4\n",
       "\n",
       "[200 rows x 4 columns]"
      ]
     },
     "execution_count": 7,
     "metadata": {},
     "output_type": "execute_result"
    }
   ],
   "source": [
    "data.head()\n",
    "data"
   ]
  },
  {
   "cell_type": "code",
   "execution_count": 8,
   "metadata": {},
   "outputs": [
    {
     "data": {
      "text/html": [
       "<div>\n",
       "<style scoped>\n",
       "    .dataframe tbody tr th:only-of-type {\n",
       "        vertical-align: middle;\n",
       "    }\n",
       "\n",
       "    .dataframe tbody tr th {\n",
       "        vertical-align: top;\n",
       "    }\n",
       "\n",
       "    .dataframe thead th {\n",
       "        text-align: right;\n",
       "    }\n",
       "</style>\n",
       "<table border=\"1\" class=\"dataframe\">\n",
       "  <thead>\n",
       "    <tr style=\"text-align: right;\">\n",
       "      <th></th>\n",
       "      <th>TV</th>\n",
       "      <th>Radio</th>\n",
       "      <th>Newspaper</th>\n",
       "      <th>Sales</th>\n",
       "    </tr>\n",
       "  </thead>\n",
       "  <tbody>\n",
       "    <tr>\n",
       "      <th>count</th>\n",
       "      <td>200.000000</td>\n",
       "      <td>200.000000</td>\n",
       "      <td>200.000000</td>\n",
       "      <td>200.000000</td>\n",
       "    </tr>\n",
       "    <tr>\n",
       "      <th>mean</th>\n",
       "      <td>147.042500</td>\n",
       "      <td>23.264000</td>\n",
       "      <td>30.554000</td>\n",
       "      <td>15.130500</td>\n",
       "    </tr>\n",
       "    <tr>\n",
       "      <th>std</th>\n",
       "      <td>85.854236</td>\n",
       "      <td>14.846809</td>\n",
       "      <td>21.778621</td>\n",
       "      <td>5.283892</td>\n",
       "    </tr>\n",
       "    <tr>\n",
       "      <th>min</th>\n",
       "      <td>0.700000</td>\n",
       "      <td>0.000000</td>\n",
       "      <td>0.300000</td>\n",
       "      <td>1.600000</td>\n",
       "    </tr>\n",
       "    <tr>\n",
       "      <th>25%</th>\n",
       "      <td>74.375000</td>\n",
       "      <td>9.975000</td>\n",
       "      <td>12.750000</td>\n",
       "      <td>11.000000</td>\n",
       "    </tr>\n",
       "    <tr>\n",
       "      <th>50%</th>\n",
       "      <td>149.750000</td>\n",
       "      <td>22.900000</td>\n",
       "      <td>25.750000</td>\n",
       "      <td>16.000000</td>\n",
       "    </tr>\n",
       "    <tr>\n",
       "      <th>75%</th>\n",
       "      <td>218.825000</td>\n",
       "      <td>36.525000</td>\n",
       "      <td>45.100000</td>\n",
       "      <td>19.050000</td>\n",
       "    </tr>\n",
       "    <tr>\n",
       "      <th>max</th>\n",
       "      <td>296.400000</td>\n",
       "      <td>49.600000</td>\n",
       "      <td>114.000000</td>\n",
       "      <td>27.000000</td>\n",
       "    </tr>\n",
       "  </tbody>\n",
       "</table>\n",
       "</div>"
      ],
      "text/plain": [
       "               TV       Radio   Newspaper       Sales\n",
       "count  200.000000  200.000000  200.000000  200.000000\n",
       "mean   147.042500   23.264000   30.554000   15.130500\n",
       "std     85.854236   14.846809   21.778621    5.283892\n",
       "min      0.700000    0.000000    0.300000    1.600000\n",
       "25%     74.375000    9.975000   12.750000   11.000000\n",
       "50%    149.750000   22.900000   25.750000   16.000000\n",
       "75%    218.825000   36.525000   45.100000   19.050000\n",
       "max    296.400000   49.600000  114.000000   27.000000"
      ]
     },
     "execution_count": 8,
     "metadata": {},
     "output_type": "execute_result"
    }
   ],
   "source": [
    "data.describe()"
   ]
  },
  {
   "cell_type": "code",
   "execution_count": 33,
   "metadata": {
    "scrolled": true
   },
   "outputs": [],
   "source": [
    "#data.drop(['Unnamed: 0'], axis=1)"
   ]
  },
  {
   "cell_type": "code",
   "execution_count": 12,
   "metadata": {},
   "outputs": [
    {
     "data": {
      "image/png": "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\n",
      "text/plain": [
       "<Figure size 1000x800 with 1 Axes>"
      ]
     },
     "metadata": {},
     "output_type": "display_data"
    }
   ],
   "source": [
    "plt.figure(figsize=(10, 8))\n",
    "plt.scatter(\n",
    "    data['TV'],\n",
    "    data['Sales'],\n",
    "    c='blue'\n",
    ")\n",
    "plt.xlabel(\"Money spent on TV ads ($)\")\n",
    "plt.ylabel(\"Sales ($)\")\n",
    "plt.title(\"Tv vs Sales\")\n",
    "plt.show()"
   ]
  },
  {
   "cell_type": "code",
   "execution_count": 13,
   "metadata": {},
   "outputs": [],
   "source": [
    "X = data['TV']\n",
    "y = data['Sales']\n",
    "\n",
    "# adding constant to calculate intercept\n",
    "Xc= sm.add_constant(X)"
   ]
  },
  {
   "cell_type": "code",
   "execution_count": 14,
   "metadata": {},
   "outputs": [],
   "source": [
    "#train test split\n",
    "\n",
    "from sklearn.model_selection import train_test_split\n",
    "\n",
    "x_train,x_test,y_train,y_test=train_test_split(Xc,y,test_size=.2,random_state=10)"
   ]
  },
  {
   "cell_type": "markdown",
   "metadata": {},
   "source": [
    "## Simple linear regression "
   ]
  },
  {
   "cell_type": "code",
   "execution_count": 37,
   "metadata": {},
   "outputs": [
    {
     "data": {
      "text/plain": [
       "(40,)"
      ]
     },
     "execution_count": 37,
     "metadata": {},
     "output_type": "execute_result"
    }
   ],
   "source": [
    "y_test.shape"
   ]
  },
  {
   "cell_type": "code",
   "execution_count": 36,
   "metadata": {},
   "outputs": [
    {
     "name": "stdout",
     "output_type": "stream",
     "text": [
      "                            OLS Regression Results                            \n",
      "==============================================================================\n",
      "Dep. Variable:                  Sales   R-squared:                       0.808\n",
      "Model:                            OLS   Adj. R-squared:                  0.807\n",
      "Method:                 Least Squares   F-statistic:                     664.5\n",
      "Date:                Sat, 28 Oct 2023   Prob (F-statistic):           1.76e-58\n",
      "Time:                        15:11:40   Log-Likelihood:                -351.10\n",
      "No. Observations:                 160   AIC:                             706.2\n",
      "Df Residuals:                     158   BIC:                             712.3\n",
      "Df Model:                           1                                         \n",
      "Covariance Type:            nonrobust                                         \n",
      "==============================================================================\n",
      "                 coef    std err          t      P>|t|      [0.025      0.975]\n",
      "------------------------------------------------------------------------------\n",
      "const          6.9948      0.353     19.804      0.000       6.297       7.692\n",
      "TV             0.0547      0.002     25.778      0.000       0.051       0.059\n",
      "==============================================================================\n",
      "Omnibus:                        0.513   Durbin-Watson:                   2.139\n",
      "Prob(Omnibus):                  0.774   Jarque-Bera (JB):                0.357\n",
      "Skew:                           0.114   Prob(JB):                        0.836\n",
      "Kurtosis:                       3.041   Cond. No.                         340.\n",
      "==============================================================================\n",
      "\n",
      "Notes:\n",
      "[1] Standard Errors assume that the covariance matrix of the errors is correctly specified.\n"
     ]
    }
   ],
   "source": [
    "# OLS (Statsmodels)\n",
    "model=sm.OLS(y_train,x_train)\n",
    "model1=model.fit()\n",
    "print(model1.summary())"
   ]
  },
  {
   "cell_type": "code",
   "execution_count": 12,
   "metadata": {},
   "outputs": [],
   "source": [
    "# 1st part of the table\n",
    "# DF\n",
    "# F stat\n",
    "# Measures of variations : Rsquared (Explained + unexplained variations)"
   ]
  },
  {
   "cell_type": "code",
   "execution_count": 29,
   "metadata": {},
   "outputs": [
    {
     "data": {
      "text/plain": [
       "const    5.027719e-54\n",
       "TV       7.927912e-74\n",
       "dtype: float64"
      ]
     },
     "execution_count": 29,
     "metadata": {},
     "output_type": "execute_result"
    }
   ],
   "source": [
    "model1.pvalues"
   ]
  },
  {
   "cell_type": "code",
   "execution_count": 14,
   "metadata": {},
   "outputs": [],
   "source": [
    "#2nd part of the table\n",
    "# Coefficients\n",
    "# std error\n",
    "# t- stat\n",
    "# P values\n",
    "# confidance Interval"
   ]
  },
  {
   "cell_type": "code",
   "execution_count": 34,
   "metadata": {},
   "outputs": [
    {
     "data": {
      "text/plain": [
       "const    21.623767\n",
       "TV       29.260497\n",
       "dtype: float64"
      ]
     },
     "execution_count": 34,
     "metadata": {},
     "output_type": "execute_result"
    }
   ],
   "source": [
    "model1.tvalues"
   ]
  },
  {
   "cell_type": "code",
   "execution_count": 38,
   "metadata": {},
   "outputs": [
    {
     "data": {
      "text/plain": [
       "59     18.524475\n",
       "5       7.470840\n",
       "20     18.945826\n",
       "198    22.513633\n",
       "52     18.836384\n",
       "19     15.055165\n",
       "162    17.304197\n",
       "55     17.878767\n",
       "69     18.858272\n",
       "2       7.935968\n",
       "98     22.847431\n",
       "10     10.611823\n",
       "75      7.919552\n",
       "142    19.060740\n",
       "124    19.553229\n",
       "63     12.614611\n",
       "109    20.970502\n",
       "78      7.290261\n",
       "111    20.220824\n",
       "185    18.212565\n",
       "154    17.271365\n",
       "130     7.033072\n",
       "61     21.293355\n",
       "87     13.052378\n",
       "102    22.327582\n",
       "121     8.023522\n",
       "136     8.395624\n",
       "1       9.429850\n",
       "47     20.122327\n",
       "172     8.067298\n",
       "159    14.201518\n",
       "39     19.471147\n",
       "76      8.499594\n",
       "91      8.559787\n",
       "35     22.902152\n",
       "178    22.136058\n",
       "127    11.383389\n",
       "169    22.551937\n",
       "46     11.903238\n",
       "174    19.164710\n",
       "dtype: float64"
      ]
     },
     "execution_count": 38,
     "metadata": {},
     "output_type": "execute_result"
    }
   ],
   "source": [
    "ypred=model1.predict(x_test)\n",
    "ypred"
   ]
  },
  {
   "cell_type": "code",
   "execution_count": 48,
   "metadata": {},
   "outputs": [
    {
     "name": "stdout",
     "output_type": "stream",
     "text": [
      "1218.4192022002971\n",
      "291.49614232469685\n"
     ]
    }
   ],
   "source": [
    "SSR = np.sum(((ypred-y_test.mean())**2))\n",
    "SSE=np.sum((y_test-ypred)**2)\n",
    "print(SSR)\n",
    "print(SSE)\n",
    "SST=SSE+SSR\n",
    "#print() # SST"
   ]
  },
  {
   "cell_type": "code",
   "execution_count": 50,
   "metadata": {},
   "outputs": [
    {
     "data": {
      "text/plain": [
       "0.8069453738703484"
      ]
     },
     "execution_count": 50,
     "metadata": {},
     "output_type": "execute_result"
    }
   ],
   "source": [
    "r_sq=SSR/SST\n",
    "r_sq"
   ]
  },
  {
   "cell_type": "code",
   "execution_count": 52,
   "metadata": {},
   "outputs": [
    {
     "data": {
      "text/plain": [
       "<matplotlib.collections.PathCollection at 0x7f9c33584d90>"
      ]
     },
     "execution_count": 52,
     "metadata": {},
     "output_type": "execute_result"
    },
    {
     "data": {
      "image/png": "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\n",
      "text/plain": [
       "<Figure size 640x480 with 1 Axes>"
      ]
     },
     "metadata": {},
     "output_type": "display_data"
    }
   ],
   "source": [
    "plt.scatter(y_test,ypred)"
   ]
  },
  {
   "cell_type": "code",
   "execution_count": 15,
   "metadata": {},
   "outputs": [],
   "source": [
    "# Error metrics\n",
    "\n",
    "# RMSE\n",
    "# MAPE\n"
   ]
  },
  {
   "cell_type": "code",
   "execution_count": 54,
   "metadata": {},
   "outputs": [
    {
     "data": {
      "text/plain": [
       "2.6995191346084995"
      ]
     },
     "execution_count": 54,
     "metadata": {},
     "output_type": "execute_result"
    }
   ],
   "source": [
    "from sklearn.metrics import mean_absolute_error,mean_squared_error\n",
    "rmse=np.sqrt(mean_squared_error(y_test,ypred))\n",
    "rmse"
   ]
  },
  {
   "cell_type": "code",
   "execution_count": 51,
   "metadata": {},
   "outputs": [
    {
     "data": {
      "text/plain": [
       "84.375"
      ]
     },
     "execution_count": 51,
     "metadata": {},
     "output_type": "execute_result"
    }
   ],
   "source": [
    "((32+33+70)/(80+80))*100 #ignore"
   ]
  },
  {
   "cell_type": "code",
   "execution_count": 16,
   "metadata": {},
   "outputs": [],
   "source": [
    "# if categorical?  "
   ]
  },
  {
   "cell_type": "markdown",
   "metadata": {},
   "source": [
    "## Multiple linear regression "
   ]
  },
  {
   "cell_type": "code",
   "execution_count": 59,
   "metadata": {},
   "outputs": [
    {
     "name": "stdout",
     "output_type": "stream",
     "text": [
      "                            OLS Regression Results                            \n",
      "==============================================================================\n",
      "Dep. Variable:                  Sales   R-squared:                       0.907\n",
      "Model:                            OLS   Adj. R-squared:                  0.905\n",
      "Method:                 Least Squares   F-statistic:                     507.6\n",
      "Date:                Sat, 28 Oct 2023   Prob (F-statistic):           3.10e-80\n",
      "Time:                        15:53:25   Log-Likelihood:                -292.99\n",
      "No. Observations:                 160   AIC:                             594.0\n",
      "Df Residuals:                     156   BIC:                             606.3\n",
      "Df Model:                           3                                         \n",
      "Covariance Type:            nonrobust                                         \n",
      "==============================================================================\n",
      "                 coef    std err          t      P>|t|      [0.025      0.975]\n",
      "------------------------------------------------------------------------------\n",
      "const          4.7931      0.317     15.110      0.000       4.167       5.420\n",
      "TV             0.0535      0.001     35.795      0.000       0.051       0.056\n",
      "Radio          0.1089      0.009     12.357      0.000       0.092       0.126\n",
      "Newspaper     -0.0014      0.006     -0.230      0.818      -0.013       0.010\n",
      "==============================================================================\n",
      "Omnibus:                        1.780   Durbin-Watson:                   2.246\n",
      "Prob(Omnibus):                  0.411   Jarque-Bera (JB):                1.392\n",
      "Skew:                          -0.112   Prob(JB):                        0.499\n",
      "Kurtosis:                       3.398   Cond. No.                         446.\n",
      "==============================================================================\n",
      "\n",
      "Notes:\n",
      "[1] Standard Errors assume that the covariance matrix of the errors is correctly specified.\n"
     ]
    }
   ],
   "source": [
    "\n",
    "X = data[['TV','Radio','Newspaper']]\n",
    "y = data['Sales']\n",
    "\n",
    "# adding constant to calculate intercept\n",
    "Xc= sm.add_constant(X)\n",
    "# Adjusted r-square\n",
    "# OLS (Statsmodels)\n",
    "#train test split\n",
    "\n",
    "from sklearn.model_selection import train_test_split\n",
    "\n",
    "x_train,x_test,y_train,y_test=train_test_split(Xc,y,test_size=.2,random_state=10)\n",
    "model=sm.OLS(y_train,x_train)\n",
    "model1=model.fit()\n",
    "print(model1.summary())"
   ]
  },
  {
   "cell_type": "code",
   "execution_count": 18,
   "metadata": {},
   "outputs": [],
   "source": [
    "#3rd part of the table-----Assumptions\n",
    "\n",
    "#1. linearity\n",
    "# ccorrelation function\n",
    "# scatter plot\n",
    "# Linear rainbow test\n",
    " \n",
    "#\n"
   ]
  },
  {
   "cell_type": "code",
   "execution_count": 19,
   "metadata": {},
   "outputs": [],
   "source": [
    "#2. Multi colinearity\n",
    "# Correlation function\n",
    "# VIF\n",
    "# Condition number"
   ]
  },
  {
   "cell_type": "code",
   "execution_count": 20,
   "metadata": {},
   "outputs": [],
   "source": [
    "#3. Normality of residuals\n",
    "# plots\n",
    "# Shapiro wilk test\n",
    "# Jerque bera test"
   ]
  },
  {
   "cell_type": "code",
   "execution_count": 21,
   "metadata": {},
   "outputs": [],
   "source": [
    "#4. Heteroskadasticity\n",
    "# residual plot\n",
    "# breusch pagan test"
   ]
  },
  {
   "cell_type": "code",
   "execution_count": 22,
   "metadata": {},
   "outputs": [],
   "source": []
  },
  {
   "cell_type": "code",
   "execution_count": 23,
   "metadata": {},
   "outputs": [],
   "source": [
    "#5. auto corelation\n",
    "# Residual plot\n",
    "# Durbin watson test\n",
    "\n"
   ]
  },
  {
   "cell_type": "code",
   "execution_count": 24,
   "metadata": {},
   "outputs": [],
   "source": [
    "# SKlearn function\n",
    "\n"
   ]
  },
  {
   "cell_type": "code",
   "execution_count": 25,
   "metadata": {},
   "outputs": [],
   "source": [
    "# cross validation\n",
    "\n"
   ]
  },
  {
   "cell_type": "code",
   "execution_count": 26,
   "metadata": {},
   "outputs": [],
   "source": [
    "# bias variance tradeoff"
   ]
  },
  {
   "cell_type": "code",
   "execution_count": null,
   "metadata": {},
   "outputs": [],
   "source": []
  }
 ],
 "metadata": {
  "kernelspec": {
   "display_name": "Python 3 (ipykernel)",
   "language": "python",
   "name": "python3"
  },
  "language_info": {
   "codemirror_mode": {
    "name": "ipython",
    "version": 3
   },
   "file_extension": ".py",
   "mimetype": "text/x-python",
   "name": "python",
   "nbconvert_exporter": "python",
   "pygments_lexer": "ipython3",
   "version": "3.10.9"
  }
 },
 "nbformat": 4,
 "nbformat_minor": 2
}
=======
{
 "cells": [
  {
   "cell_type": "code",
   "execution_count": 1,
   "metadata": {},
   "outputs": [],
   "source": [
    "import pandas as pd\n",
    "import numpy as np\n",
    "import matplotlib.pyplot as plt\n",
    "import seaborn as sns\n",
    "from sklearn.linear_model import LinearRegression\n",
    "from sklearn.metrics import r2_score\n",
    "import statsmodels.api as sm"
   ]
  },
  {
   "cell_type": "raw",
   "metadata": {},
   "source": [
    "The advertising dataset captures the sales revenue generated with respect to advertisement costs across multiple channels like radio, tv, and newspapers.\n",
    "\n",
    "TV: Budget for TV Advertisements in 1000$\n",
    "Radio:Budget for Radio Advertisements in 1000$\n",
    "Newspaper:Budget for Newspaper Advertisements in 1000$\n",
    "\n",
    "Target: Sales Revenue in M$"
   ]
  },
  {
   "cell_type": "code",
   "execution_count": 2,
   "metadata": {},
   "outputs": [],
   "source": [
    "df = pd.read_csv(\"advertising.csv\")"
   ]
  },
  {
   "cell_type": "code",
   "execution_count": 7,
   "metadata": {},
   "outputs": [
    {
     "data": {
      "text/html": [
       "<div>\n",
       "<style scoped>\n",
       "    .dataframe tbody tr th:only-of-type {\n",
       "        vertical-align: middle;\n",
       "    }\n",
       "\n",
       "    .dataframe tbody tr th {\n",
       "        vertical-align: top;\n",
       "    }\n",
       "\n",
       "    .dataframe thead th {\n",
       "        text-align: right;\n",
       "    }\n",
       "</style>\n",
       "<table border=\"1\" class=\"dataframe\">\n",
       "  <thead>\n",
       "    <tr style=\"text-align: right;\">\n",
       "      <th></th>\n",
       "      <th>TV</th>\n",
       "      <th>Radio</th>\n",
       "      <th>Newspaper</th>\n",
       "      <th>Sales</th>\n",
       "    </tr>\n",
       "  </thead>\n",
       "  <tbody>\n",
       "    <tr>\n",
       "      <th>0</th>\n",
       "      <td>230.1</td>\n",
       "      <td>37.8</td>\n",
       "      <td>69.2</td>\n",
       "      <td>22.1</td>\n",
       "    </tr>\n",
       "    <tr>\n",
       "      <th>1</th>\n",
       "      <td>44.5</td>\n",
       "      <td>39.3</td>\n",
       "      <td>45.1</td>\n",
       "      <td>10.4</td>\n",
       "    </tr>\n",
       "    <tr>\n",
       "      <th>2</th>\n",
       "      <td>17.2</td>\n",
       "      <td>45.9</td>\n",
       "      <td>69.3</td>\n",
       "      <td>12.0</td>\n",
       "    </tr>\n",
       "    <tr>\n",
       "      <th>3</th>\n",
       "      <td>151.5</td>\n",
       "      <td>41.3</td>\n",
       "      <td>58.5</td>\n",
       "      <td>16.5</td>\n",
       "    </tr>\n",
       "    <tr>\n",
       "      <th>4</th>\n",
       "      <td>180.8</td>\n",
       "      <td>10.8</td>\n",
       "      <td>58.4</td>\n",
       "      <td>17.9</td>\n",
       "    </tr>\n",
       "    <tr>\n",
       "      <th>...</th>\n",
       "      <td>...</td>\n",
       "      <td>...</td>\n",
       "      <td>...</td>\n",
       "      <td>...</td>\n",
       "    </tr>\n",
       "    <tr>\n",
       "      <th>195</th>\n",
       "      <td>38.2</td>\n",
       "      <td>3.7</td>\n",
       "      <td>13.8</td>\n",
       "      <td>7.6</td>\n",
       "    </tr>\n",
       "    <tr>\n",
       "      <th>196</th>\n",
       "      <td>94.2</td>\n",
       "      <td>4.9</td>\n",
       "      <td>8.1</td>\n",
       "      <td>14.0</td>\n",
       "    </tr>\n",
       "    <tr>\n",
       "      <th>197</th>\n",
       "      <td>177.0</td>\n",
       "      <td>9.3</td>\n",
       "      <td>6.4</td>\n",
       "      <td>14.8</td>\n",
       "    </tr>\n",
       "    <tr>\n",
       "      <th>198</th>\n",
       "      <td>283.6</td>\n",
       "      <td>42.0</td>\n",
       "      <td>66.2</td>\n",
       "      <td>25.5</td>\n",
       "    </tr>\n",
       "    <tr>\n",
       "      <th>199</th>\n",
       "      <td>232.1</td>\n",
       "      <td>8.6</td>\n",
       "      <td>8.7</td>\n",
       "      <td>18.4</td>\n",
       "    </tr>\n",
       "  </tbody>\n",
       "</table>\n",
       "<p>200 rows × 4 columns</p>\n",
       "</div>"
      ],
      "text/plain": [
       "        TV  Radio  Newspaper  Sales\n",
       "0    230.1   37.8       69.2   22.1\n",
       "1     44.5   39.3       45.1   10.4\n",
       "2     17.2   45.9       69.3   12.0\n",
       "3    151.5   41.3       58.5   16.5\n",
       "4    180.8   10.8       58.4   17.9\n",
       "..     ...    ...        ...    ...\n",
       "195   38.2    3.7       13.8    7.6\n",
       "196   94.2    4.9        8.1   14.0\n",
       "197  177.0    9.3        6.4   14.8\n",
       "198  283.6   42.0       66.2   25.5\n",
       "199  232.1    8.6        8.7   18.4\n",
       "\n",
       "[200 rows x 4 columns]"
      ]
     },
     "execution_count": 7,
     "metadata": {},
     "output_type": "execute_result"
    }
   ],
   "source": [
    "data.head()\n",
    "data"
   ]
  },
  {
   "cell_type": "code",
   "execution_count": 8,
   "metadata": {},
   "outputs": [
    {
     "data": {
      "text/html": [
       "<div>\n",
       "<style scoped>\n",
       "    .dataframe tbody tr th:only-of-type {\n",
       "        vertical-align: middle;\n",
       "    }\n",
       "\n",
       "    .dataframe tbody tr th {\n",
       "        vertical-align: top;\n",
       "    }\n",
       "\n",
       "    .dataframe thead th {\n",
       "        text-align: right;\n",
       "    }\n",
       "</style>\n",
       "<table border=\"1\" class=\"dataframe\">\n",
       "  <thead>\n",
       "    <tr style=\"text-align: right;\">\n",
       "      <th></th>\n",
       "      <th>TV</th>\n",
       "      <th>Radio</th>\n",
       "      <th>Newspaper</th>\n",
       "      <th>Sales</th>\n",
       "    </tr>\n",
       "  </thead>\n",
       "  <tbody>\n",
       "    <tr>\n",
       "      <th>count</th>\n",
       "      <td>200.000000</td>\n",
       "      <td>200.000000</td>\n",
       "      <td>200.000000</td>\n",
       "      <td>200.000000</td>\n",
       "    </tr>\n",
       "    <tr>\n",
       "      <th>mean</th>\n",
       "      <td>147.042500</td>\n",
       "      <td>23.264000</td>\n",
       "      <td>30.554000</td>\n",
       "      <td>15.130500</td>\n",
       "    </tr>\n",
       "    <tr>\n",
       "      <th>std</th>\n",
       "      <td>85.854236</td>\n",
       "      <td>14.846809</td>\n",
       "      <td>21.778621</td>\n",
       "      <td>5.283892</td>\n",
       "    </tr>\n",
       "    <tr>\n",
       "      <th>min</th>\n",
       "      <td>0.700000</td>\n",
       "      <td>0.000000</td>\n",
       "      <td>0.300000</td>\n",
       "      <td>1.600000</td>\n",
       "    </tr>\n",
       "    <tr>\n",
       "      <th>25%</th>\n",
       "      <td>74.375000</td>\n",
       "      <td>9.975000</td>\n",
       "      <td>12.750000</td>\n",
       "      <td>11.000000</td>\n",
       "    </tr>\n",
       "    <tr>\n",
       "      <th>50%</th>\n",
       "      <td>149.750000</td>\n",
       "      <td>22.900000</td>\n",
       "      <td>25.750000</td>\n",
       "      <td>16.000000</td>\n",
       "    </tr>\n",
       "    <tr>\n",
       "      <th>75%</th>\n",
       "      <td>218.825000</td>\n",
       "      <td>36.525000</td>\n",
       "      <td>45.100000</td>\n",
       "      <td>19.050000</td>\n",
       "    </tr>\n",
       "    <tr>\n",
       "      <th>max</th>\n",
       "      <td>296.400000</td>\n",
       "      <td>49.600000</td>\n",
       "      <td>114.000000</td>\n",
       "      <td>27.000000</td>\n",
       "    </tr>\n",
       "  </tbody>\n",
       "</table>\n",
       "</div>"
      ],
      "text/plain": [
       "               TV       Radio   Newspaper       Sales\n",
       "count  200.000000  200.000000  200.000000  200.000000\n",
       "mean   147.042500   23.264000   30.554000   15.130500\n",
       "std     85.854236   14.846809   21.778621    5.283892\n",
       "min      0.700000    0.000000    0.300000    1.600000\n",
       "25%     74.375000    9.975000   12.750000   11.000000\n",
       "50%    149.750000   22.900000   25.750000   16.000000\n",
       "75%    218.825000   36.525000   45.100000   19.050000\n",
       "max    296.400000   49.600000  114.000000   27.000000"
      ]
     },
     "execution_count": 8,
     "metadata": {},
     "output_type": "execute_result"
    }
   ],
   "source": [
    "data.describe()"
   ]
  },
  {
   "cell_type": "code",
   "execution_count": 33,
   "metadata": {
    "scrolled": true
   },
   "outputs": [],
   "source": [
    "#data.drop(['Unnamed: 0'], axis=1)"
   ]
  },
  {
   "cell_type": "code",
   "execution_count": 12,
   "metadata": {},
   "outputs": [
    {
     "data": {
      "image/png": "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\n",
      "text/plain": [
       "<Figure size 1000x800 with 1 Axes>"
      ]
     },
     "metadata": {},
     "output_type": "display_data"
    }
   ],
   "source": [
    "plt.figure(figsize=(10, 8))\n",
    "plt.scatter(\n",
    "    data['TV'],\n",
    "    data['Sales'],\n",
    "    c='blue'\n",
    ")\n",
    "plt.xlabel(\"Money spent on TV ads ($)\")\n",
    "plt.ylabel(\"Sales ($)\")\n",
    "plt.title(\"Tv vs Sales\")\n",
    "plt.show()"
   ]
  },
  {
   "cell_type": "code",
   "execution_count": 13,
   "metadata": {},
   "outputs": [],
   "source": [
    "X = data['TV']\n",
    "y = data['Sales']\n",
    "\n",
    "# adding constant to calculate intercept\n",
    "Xc= sm.add_constant(X)"
   ]
  },
  {
   "cell_type": "code",
   "execution_count": 14,
   "metadata": {},
   "outputs": [],
   "source": [
    "#train test split\n",
    "\n",
    "from sklearn.model_selection import train_test_split\n",
    "\n",
    "x_train,x_test,y_train,y_test=train_test_split(Xc,y,test_size=.2,random_state=10)"
   ]
  },
  {
   "cell_type": "markdown",
   "metadata": {},
   "source": [
    "## Simple linear regression "
   ]
  },
  {
   "cell_type": "code",
   "execution_count": 37,
   "metadata": {},
   "outputs": [
    {
     "data": {
      "text/plain": [
       "(40,)"
      ]
     },
     "execution_count": 37,
     "metadata": {},
     "output_type": "execute_result"
    }
   ],
   "source": [
    "y_test.shape"
   ]
  },
  {
   "cell_type": "code",
   "execution_count": 36,
   "metadata": {},
   "outputs": [
    {
     "name": "stdout",
     "output_type": "stream",
     "text": [
      "                            OLS Regression Results                            \n",
      "==============================================================================\n",
      "Dep. Variable:                  Sales   R-squared:                       0.808\n",
      "Model:                            OLS   Adj. R-squared:                  0.807\n",
      "Method:                 Least Squares   F-statistic:                     664.5\n",
      "Date:                Sat, 28 Oct 2023   Prob (F-statistic):           1.76e-58\n",
      "Time:                        15:11:40   Log-Likelihood:                -351.10\n",
      "No. Observations:                 160   AIC:                             706.2\n",
      "Df Residuals:                     158   BIC:                             712.3\n",
      "Df Model:                           1                                         \n",
      "Covariance Type:            nonrobust                                         \n",
      "==============================================================================\n",
      "                 coef    std err          t      P>|t|      [0.025      0.975]\n",
      "------------------------------------------------------------------------------\n",
      "const          6.9948      0.353     19.804      0.000       6.297       7.692\n",
      "TV             0.0547      0.002     25.778      0.000       0.051       0.059\n",
      "==============================================================================\n",
      "Omnibus:                        0.513   Durbin-Watson:                   2.139\n",
      "Prob(Omnibus):                  0.774   Jarque-Bera (JB):                0.357\n",
      "Skew:                           0.114   Prob(JB):                        0.836\n",
      "Kurtosis:                       3.041   Cond. No.                         340.\n",
      "==============================================================================\n",
      "\n",
      "Notes:\n",
      "[1] Standard Errors assume that the covariance matrix of the errors is correctly specified.\n"
     ]
    }
   ],
   "source": [
    "# OLS (Statsmodels)\n",
    "model=sm.OLS(y_train,x_train)\n",
    "model1=model.fit()\n",
    "print(model1.summary())"
   ]
  },
  {
   "cell_type": "code",
   "execution_count": 12,
   "metadata": {},
   "outputs": [],
   "source": [
    "# 1st part of the table\n",
    "# DF\n",
    "# F stat\n",
    "# Measures of variations : Rsquared (Explained + unexplained variations)"
   ]
  },
  {
   "cell_type": "code",
   "execution_count": 29,
   "metadata": {},
   "outputs": [
    {
     "data": {
      "text/plain": [
       "const    5.027719e-54\n",
       "TV       7.927912e-74\n",
       "dtype: float64"
      ]
     },
     "execution_count": 29,
     "metadata": {},
     "output_type": "execute_result"
    }
   ],
   "source": [
    "model1.pvalues"
   ]
  },
  {
   "cell_type": "code",
   "execution_count": 14,
   "metadata": {},
   "outputs": [],
   "source": [
    "#2nd part of the table\n",
    "# Coefficients\n",
    "# std error\n",
    "# t- stat\n",
    "# P values\n",
    "# confidance Interval"
   ]
  },
  {
   "cell_type": "code",
   "execution_count": 34,
   "metadata": {},
   "outputs": [
    {
     "data": {
      "text/plain": [
       "const    21.623767\n",
       "TV       29.260497\n",
       "dtype: float64"
      ]
     },
     "execution_count": 34,
     "metadata": {},
     "output_type": "execute_result"
    }
   ],
   "source": [
    "model1.tvalues"
   ]
  },
  {
   "cell_type": "code",
   "execution_count": 38,
   "metadata": {},
   "outputs": [
    {
     "data": {
      "text/plain": [
       "59     18.524475\n",
       "5       7.470840\n",
       "20     18.945826\n",
       "198    22.513633\n",
       "52     18.836384\n",
       "19     15.055165\n",
       "162    17.304197\n",
       "55     17.878767\n",
       "69     18.858272\n",
       "2       7.935968\n",
       "98     22.847431\n",
       "10     10.611823\n",
       "75      7.919552\n",
       "142    19.060740\n",
       "124    19.553229\n",
       "63     12.614611\n",
       "109    20.970502\n",
       "78      7.290261\n",
       "111    20.220824\n",
       "185    18.212565\n",
       "154    17.271365\n",
       "130     7.033072\n",
       "61     21.293355\n",
       "87     13.052378\n",
       "102    22.327582\n",
       "121     8.023522\n",
       "136     8.395624\n",
       "1       9.429850\n",
       "47     20.122327\n",
       "172     8.067298\n",
       "159    14.201518\n",
       "39     19.471147\n",
       "76      8.499594\n",
       "91      8.559787\n",
       "35     22.902152\n",
       "178    22.136058\n",
       "127    11.383389\n",
       "169    22.551937\n",
       "46     11.903238\n",
       "174    19.164710\n",
       "dtype: float64"
      ]
     },
     "execution_count": 38,
     "metadata": {},
     "output_type": "execute_result"
    }
   ],
   "source": [
    "ypred=model1.predict(x_test)\n",
    "ypred"
   ]
  },
  {
   "cell_type": "code",
   "execution_count": 48,
   "metadata": {},
   "outputs": [
    {
     "name": "stdout",
     "output_type": "stream",
     "text": [
      "1218.4192022002971\n",
      "291.49614232469685\n"
     ]
    }
   ],
   "source": [
    "SSR = np.sum(((ypred-y_test.mean())**2))\n",
    "SSE=np.sum((y_test-ypred)**2)\n",
    "print(SSR)\n",
    "print(SSE)\n",
    "SST=SSE+SSR\n",
    "#print() # SST"
   ]
  },
  {
   "cell_type": "code",
   "execution_count": 50,
   "metadata": {},
   "outputs": [
    {
     "data": {
      "text/plain": [
       "0.8069453738703484"
      ]
     },
     "execution_count": 50,
     "metadata": {},
     "output_type": "execute_result"
    }
   ],
   "source": [
    "r_sq=SSR/SST\n",
    "r_sq"
   ]
  },
  {
   "cell_type": "code",
   "execution_count": 52,
   "metadata": {},
   "outputs": [
    {
     "data": {
      "text/plain": [
       "<matplotlib.collections.PathCollection at 0x7f9c33584d90>"
      ]
     },
     "execution_count": 52,
     "metadata": {},
     "output_type": "execute_result"
    },
    {
     "data": {
      "image/png": "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\n",
      "text/plain": [
       "<Figure size 640x480 with 1 Axes>"
      ]
     },
     "metadata": {},
     "output_type": "display_data"
    }
   ],
   "source": [
    "plt.scatter(y_test,ypred)"
   ]
  },
  {
   "cell_type": "code",
   "execution_count": 15,
   "metadata": {},
   "outputs": [],
   "source": [
    "# Error metrics\n",
    "\n",
    "# RMSE\n",
    "# MAPE\n"
   ]
  },
  {
   "cell_type": "code",
   "execution_count": 54,
   "metadata": {},
   "outputs": [
    {
     "data": {
      "text/plain": [
       "2.6995191346084995"
      ]
     },
     "execution_count": 54,
     "metadata": {},
     "output_type": "execute_result"
    }
   ],
   "source": [
    "from sklearn.metrics import mean_absolute_error,mean_squared_error\n",
    "rmse=np.sqrt(mean_squared_error(y_test,ypred))\n",
    "rmse"
   ]
  },
  {
   "cell_type": "code",
   "execution_count": 51,
   "metadata": {},
   "outputs": [
    {
     "data": {
      "text/plain": [
       "84.375"
      ]
     },
     "execution_count": 51,
     "metadata": {},
     "output_type": "execute_result"
    }
   ],
   "source": [
    "((32+33+70)/(80+80))*100 #ignore"
   ]
  },
  {
   "cell_type": "code",
   "execution_count": 16,
   "metadata": {},
   "outputs": [],
   "source": [
    "# if categorical?  "
   ]
  },
  {
   "cell_type": "markdown",
   "metadata": {},
   "source": [
    "## Multiple linear regression "
   ]
  },
  {
   "cell_type": "code",
   "execution_count": 59,
   "metadata": {},
   "outputs": [
    {
     "name": "stdout",
     "output_type": "stream",
     "text": [
      "                            OLS Regression Results                            \n",
      "==============================================================================\n",
      "Dep. Variable:                  Sales   R-squared:                       0.907\n",
      "Model:                            OLS   Adj. R-squared:                  0.905\n",
      "Method:                 Least Squares   F-statistic:                     507.6\n",
      "Date:                Sat, 28 Oct 2023   Prob (F-statistic):           3.10e-80\n",
      "Time:                        15:53:25   Log-Likelihood:                -292.99\n",
      "No. Observations:                 160   AIC:                             594.0\n",
      "Df Residuals:                     156   BIC:                             606.3\n",
      "Df Model:                           3                                         \n",
      "Covariance Type:            nonrobust                                         \n",
      "==============================================================================\n",
      "                 coef    std err          t      P>|t|      [0.025      0.975]\n",
      "------------------------------------------------------------------------------\n",
      "const          4.7931      0.317     15.110      0.000       4.167       5.420\n",
      "TV             0.0535      0.001     35.795      0.000       0.051       0.056\n",
      "Radio          0.1089      0.009     12.357      0.000       0.092       0.126\n",
      "Newspaper     -0.0014      0.006     -0.230      0.818      -0.013       0.010\n",
      "==============================================================================\n",
      "Omnibus:                        1.780   Durbin-Watson:                   2.246\n",
      "Prob(Omnibus):                  0.411   Jarque-Bera (JB):                1.392\n",
      "Skew:                          -0.112   Prob(JB):                        0.499\n",
      "Kurtosis:                       3.398   Cond. No.                         446.\n",
      "==============================================================================\n",
      "\n",
      "Notes:\n",
      "[1] Standard Errors assume that the covariance matrix of the errors is correctly specified.\n"
     ]
    }
   ],
   "source": [
    "\n",
    "X = data[['TV','Radio','Newspaper']]\n",
    "y = data['Sales']\n",
    "\n",
    "# adding constant to calculate intercept\n",
    "Xc= sm.add_constant(X)\n",
    "# Adjusted r-square\n",
    "# OLS (Statsmodels)\n",
    "#train test split\n",
    "\n",
    "from sklearn.model_selection import train_test_split\n",
    "\n",
    "x_train,x_test,y_train,y_test=train_test_split(Xc,y,test_size=.2,random_state=10)\n",
    "model=sm.OLS(y_train,x_train)\n",
    "model1=model.fit()\n",
    "print(model1.summary())"
   ]
  },
  {
   "cell_type": "code",
   "execution_count": 18,
   "metadata": {},
   "outputs": [],
   "source": [
    "#3rd part of the table-----Assumptions\n",
    "\n",
    "#1. linearity\n",
    "# ccorrelation function\n",
    "# scatter plot\n",
    "# Linear rainbow test\n",
    " \n",
    "#\n"
   ]
  },
  {
   "cell_type": "code",
   "execution_count": 19,
   "metadata": {},
   "outputs": [],
   "source": [
    "#2. Multi colinearity\n",
    "# Correlation function\n",
    "# VIF\n",
    "# Condition number"
   ]
  },
  {
   "cell_type": "code",
   "execution_count": 20,
   "metadata": {},
   "outputs": [],
   "source": [
    "#3. Normality of residuals\n",
    "# plots\n",
    "# Shapiro wilk test\n",
    "# Jerque bera test"
   ]
  },
  {
   "cell_type": "code",
   "execution_count": 21,
   "metadata": {},
   "outputs": [],
   "source": [
    "#4. Heteroskadasticity\n",
    "# residual plot\n",
    "# breusch pagan test"
   ]
  },
  {
   "cell_type": "code",
   "execution_count": 22,
   "metadata": {},
   "outputs": [],
   "source": []
  },
  {
   "cell_type": "code",
   "execution_count": 23,
   "metadata": {},
   "outputs": [],
   "source": [
    "#5. auto corelation\n",
    "# Residual plot\n",
    "# Durbin watson test\n",
    "\n"
   ]
  },
  {
   "cell_type": "code",
   "execution_count": 24,
   "metadata": {},
   "outputs": [],
   "source": [
    "# SKlearn function\n",
    "\n"
   ]
  },
  {
   "cell_type": "code",
   "execution_count": 25,
   "metadata": {},
   "outputs": [],
   "source": [
    "# cross validation\n",
    "\n"
   ]
  },
  {
   "cell_type": "code",
   "execution_count": 26,
   "metadata": {},
   "outputs": [],
   "source": [
    "# bias variance tradeoff"
   ]
  },
  {
   "cell_type": "code",
   "execution_count": null,
   "metadata": {},
   "outputs": [],
   "source": []
  }
 ],
 "metadata": {
  "kernelspec": {
   "display_name": "Python 3 (ipykernel)",
   "language": "python",
   "name": "python3"
  },
  "language_info": {
   "codemirror_mode": {
    "name": "ipython",
    "version": 3
   },
   "file_extension": ".py",
   "mimetype": "text/x-python",
   "name": "python",
   "nbconvert_exporter": "python",
   "pygments_lexer": "ipython3",
   "version": "3.10.9"
  }
 },
 "nbformat": 4,
 "nbformat_minor": 2
}
>>>>>>> cf3429aa022050cdef15a5addc336bde64bc40e5
