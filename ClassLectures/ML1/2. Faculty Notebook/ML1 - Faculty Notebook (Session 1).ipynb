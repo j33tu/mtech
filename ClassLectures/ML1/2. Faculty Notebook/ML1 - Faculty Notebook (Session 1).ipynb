{
 "cells": [
  {
   "cell_type": "markdown",
   "metadata": {},
   "source": [
    "<table align=\"left\" width=100%>\n",
    "    <tr>\n",
    "        <td width=\"20%\">\n",
    "            <img src=\"faculty.png\">\n",
    "        </td>\n",
    "        <td>\n",
    "            <div align=\"center\">\n",
    "                <font color=\"#21618C\" size=8px>\n",
    "                  <b> Faculty Notebook <br> (Session 1) </b>\n",
    "                </font>\n",
    "            </div>\n",
    "        </td>\n",
    "    </tr>\n",
    "</table>"
   ]
  },
  {
   "cell_type": "markdown",
   "metadata": {},
   "source": [
    "## Table of Content\n",
    "\n",
    "1. **[Data Summary](#summary)**\n",
    "2. **[Missing Values](#missing_values)**\n",
    "    - 2.1 - **[Standard Missing Values](#std_mv)**\n",
    "    - 2.2 - **[Non-Standard Missing Values](#non_std_mv)**\n",
    "3. **[Handle Non-Numeric Data](#cat)**\n",
    "    - 3.1 - [One-Hot Encoding (Using Pandas)](#pandas)\n",
    "    - 3.2 - [One-Hot Encoding (Using Sklearn)](#onehot)\n",
    "    - 3.3 - [Label Encoding (Using Sklearn)](#label)\n",
    "    - 3.4 - [Ordinal Encoding (Using Sklearn)](#ord)\n",
    "    - 3.5 - [Frequency Encoding (Using Sklearn)](#freq)\n",
    "4. **[Scale the Data](#norm)**\n",
    "    - 4.1 - [StandardScaler](#stdscale)\n",
    "    - 4.2 - [Min-Max Normalization](#minmax)\n",
    "5. **[Transformation Techniques](#trans)**\n",
    "   - 5.1 - [Log Transformation](#log)\n",
    "   - 5.2 - [Exponential Transformation](#expo) \n",
    "6. **[Outliers](#outliers)** \n",
    "    - 6.1 - **[Based on Boxplot](#boxplot)**\n",
    "    - 6.2 - **[Based on IQR](#iqr)**\n",
    "    - 6.3 - **[Based on Z-score](#zscore)**\n",
    "    - 6.4 - **[Based on Scatter plot](#scatter)**\n",
    "7. **[Feature Engineering](#feature_engineering)**\n",
    "8. **[Introduction to Train and Test Split](#train_test_split)**"
   ]
  },
  {
   "cell_type": "markdown",
   "metadata": {},
   "source": [
    "In the past sessions, we have covered topics such as:\n",
    "<ol>\n",
    "    <li>Check for inconsistencies</li>\n",
    "    <li>Scaling data</li>\n",
    "    <li>Check for linear relationships</li>\n",
    "    <li>Transformation techniques</li>\n",
    "    <li>Handling categorical data</li>\n",
    "    </ol>\n",
    " \n",
    "In this session, we shall know more about missing values - detection and treatment. Along with it, we shall study outlier detection and treatment."
   ]
  },
  {
   "cell_type": "markdown",
   "metadata": {},
   "source": [
    "We shall use the `bigmartsales` dataset. The data description is as follows:\n",
    "\n",
    "**Item_Identifier:** Unique product ID assigned to every distinct item\n",
    "\n",
    "**Item_Weight:** Weight of the product\n",
    "\n",
    "**Item_Fat_Content:** Describes whether the product is low in fat or not\n",
    "\n",
    "**Item_Visibility:** Total display area allocated to the particular product (in %)\n",
    "\n",
    "**Item_Type:** Describes the food category to which the item belongs\n",
    "\n",
    "**Item_MRP:** Maximum Retail Price (list price) of the product\n",
    "\n",
    "**Outlet_Identifier:** Unique store ID assigned. It consists of an alphanumeric string of length 6\n",
    "\n",
    "**Outlet_Establishment_Year:** The establishment year of the store\n",
    "\n",
    "**Outlet_Size:** Size of the store in terms of ground area covered\n",
    "\n",
    "**Outlet_Location_Type:** Size of the city in which the store is located\n",
    "\n",
    "**Outlet_Type:** Is the outlet just a grocery store or a supermarket\n",
    "\n",
    "**Profit:** Profit of the item sold (in %)\n",
    "\n",
    "**Item_Outlet_Sales**: Sales of the product (target variable)"
   ]
  },
  {
   "cell_type": "code",
   "execution_count": 1,
   "metadata": {},
   "outputs": [
    {
     "data": {
      "text/html": [
       "<div>\n",
       "<style scoped>\n",
       "    .dataframe tbody tr th:only-of-type {\n",
       "        vertical-align: middle;\n",
       "    }\n",
       "\n",
       "    .dataframe tbody tr th {\n",
       "        vertical-align: top;\n",
       "    }\n",
       "\n",
       "    .dataframe thead th {\n",
       "        text-align: right;\n",
       "    }\n",
       "</style>\n",
       "<table border=\"1\" class=\"dataframe\">\n",
       "  <thead>\n",
       "    <tr style=\"text-align: right;\">\n",
       "      <th></th>\n",
       "      <th>Item_Identifier</th>\n",
       "      <th>Item_Weight</th>\n",
       "      <th>Item_Fat_Content</th>\n",
       "      <th>Item_Visibility</th>\n",
       "      <th>Item_Type</th>\n",
       "      <th>Item_MRP</th>\n",
       "      <th>Outlet_Identifier</th>\n",
       "      <th>Outlet_Establishment_Year</th>\n",
       "      <th>Outlet_Size</th>\n",
       "      <th>Outlet_Location_Type</th>\n",
       "      <th>Outlet_Type</th>\n",
       "      <th>Item_Outlet_Sales</th>\n",
       "      <th>Profit</th>\n",
       "    </tr>\n",
       "  </thead>\n",
       "  <tbody>\n",
       "    <tr>\n",
       "      <td>0</td>\n",
       "      <td>FDA15</td>\n",
       "      <td>9.30</td>\n",
       "      <td>Low Fat</td>\n",
       "      <td>0.016047</td>\n",
       "      <td>Dairy</td>\n",
       "      <td>249.8</td>\n",
       "      <td>OUT049</td>\n",
       "      <td>1999</td>\n",
       "      <td>Medium</td>\n",
       "      <td>Tier 2</td>\n",
       "      <td>Supermarket Type1</td>\n",
       "      <td>3735.1380</td>\n",
       "      <td>11.5</td>\n",
       "    </tr>\n",
       "    <tr>\n",
       "      <td>1</td>\n",
       "      <td>DRC01</td>\n",
       "      <td>5.92</td>\n",
       "      <td>Regular</td>\n",
       "      <td>0.019278</td>\n",
       "      <td>Soft Drinks</td>\n",
       "      <td>48.3</td>\n",
       "      <td>OUT018</td>\n",
       "      <td>2009</td>\n",
       "      <td>Medium</td>\n",
       "      <td>Tier 2</td>\n",
       "      <td>Supermarket Type2</td>\n",
       "      <td>443.4228</td>\n",
       "      <td>14.3</td>\n",
       "    </tr>\n",
       "    <tr>\n",
       "      <td>2</td>\n",
       "      <td>FDN15</td>\n",
       "      <td>17.50</td>\n",
       "      <td>Low Fat</td>\n",
       "      <td>0.016760</td>\n",
       "      <td>Meat</td>\n",
       "      <td>141.6</td>\n",
       "      <td>OUT049</td>\n",
       "      <td>1999</td>\n",
       "      <td>Medium</td>\n",
       "      <td>Tier 2</td>\n",
       "      <td>Supermarket Type1</td>\n",
       "      <td>2097.2700</td>\n",
       "      <td>14.5</td>\n",
       "    </tr>\n",
       "    <tr>\n",
       "      <td>3</td>\n",
       "      <td>FDX07</td>\n",
       "      <td>19.20</td>\n",
       "      <td>Regular</td>\n",
       "      <td>0.000000</td>\n",
       "      <td>Fruits and Vegetables</td>\n",
       "      <td>182.1</td>\n",
       "      <td>OUT010</td>\n",
       "      <td>1998</td>\n",
       "      <td>NaN</td>\n",
       "      <td>NaN</td>\n",
       "      <td>Grocery Store</td>\n",
       "      <td>732.3800</td>\n",
       "      <td>13.6</td>\n",
       "    </tr>\n",
       "    <tr>\n",
       "      <td>4</td>\n",
       "      <td>NCD19</td>\n",
       "      <td>8.93</td>\n",
       "      <td>Low Fat</td>\n",
       "      <td>0.000000</td>\n",
       "      <td>Household</td>\n",
       "      <td>53.9</td>\n",
       "      <td>OUT013</td>\n",
       "      <td>1987</td>\n",
       "      <td>High</td>\n",
       "      <td>Tier 3</td>\n",
       "      <td>Supermarket Type1</td>\n",
       "      <td>994.7052</td>\n",
       "      <td>14.1</td>\n",
       "    </tr>\n",
       "  </tbody>\n",
       "</table>\n",
       "</div>"
      ],
      "text/plain": [
       "  Item_Identifier  Item_Weight Item_Fat_Content  Item_Visibility  \\\n",
       "0           FDA15         9.30          Low Fat         0.016047   \n",
       "1           DRC01         5.92          Regular         0.019278   \n",
       "2           FDN15        17.50          Low Fat         0.016760   \n",
       "3           FDX07        19.20          Regular         0.000000   \n",
       "4           NCD19         8.93          Low Fat         0.000000   \n",
       "\n",
       "               Item_Type  Item_MRP Outlet_Identifier  \\\n",
       "0                  Dairy     249.8            OUT049   \n",
       "1            Soft Drinks      48.3            OUT018   \n",
       "2                   Meat     141.6            OUT049   \n",
       "3  Fruits and Vegetables     182.1            OUT010   \n",
       "4              Household      53.9            OUT013   \n",
       "\n",
       "   Outlet_Establishment_Year Outlet_Size Outlet_Location_Type  \\\n",
       "0                       1999      Medium               Tier 2   \n",
       "1                       2009      Medium               Tier 2   \n",
       "2                       1999      Medium               Tier 2   \n",
       "3                       1998         NaN                  NaN   \n",
       "4                       1987        High               Tier 3   \n",
       "\n",
       "         Outlet_Type  Item_Outlet_Sales  Profit  \n",
       "0  Supermarket Type1          3735.1380    11.5  \n",
       "1  Supermarket Type2           443.4228    14.3  \n",
       "2  Supermarket Type1          2097.2700    14.5  \n",
       "3      Grocery Store           732.3800    13.6  \n",
       "4  Supermarket Type1           994.7052    14.1  "
      ]
     },
     "execution_count": 1,
     "metadata": {},
     "output_type": "execute_result"
    }
   ],
   "source": [
    "# import pandas\n",
    "import pandas as pd\n",
    "\n",
    "# read the data\n",
    "df_sales = pd.read_csv(\"bigmartsales-cleaned.csv\")\n",
    "\n",
    "# check first five rows of data\n",
    "df_sales.head()"
   ]
  },
  {
   "cell_type": "markdown",
   "metadata": {},
   "source": [
    "<a id=\"summary\"></a>\n",
    "## 1. Data Summary\n",
    "\n",
    "Let us first check the summary of the dataset"
   ]
  },
  {
   "cell_type": "code",
   "execution_count": 2,
   "metadata": {
    "scrolled": true
   },
   "outputs": [
    {
     "name": "stdout",
     "output_type": "stream",
     "text": [
      "<class 'pandas.core.frame.DataFrame'>\n",
      "RangeIndex: 8523 entries, 0 to 8522\n",
      "Data columns (total 13 columns):\n",
      "Item_Identifier              8523 non-null object\n",
      "Item_Weight                  7774 non-null float64\n",
      "Item_Fat_Content             8523 non-null object\n",
      "Item_Visibility              8523 non-null float64\n",
      "Item_Type                    8523 non-null object\n",
      "Item_MRP                     8523 non-null float64\n",
      "Outlet_Identifier            8523 non-null object\n",
      "Outlet_Establishment_Year    8523 non-null int64\n",
      "Outlet_Size                  6113 non-null object\n",
      "Outlet_Location_Type         6473 non-null object\n",
      "Outlet_Type                  8523 non-null object\n",
      "Item_Outlet_Sales            8523 non-null float64\n",
      "Profit                       8523 non-null float64\n",
      "dtypes: float64(5), int64(1), object(7)\n",
      "memory usage: 865.7+ KB\n"
     ]
    }
   ],
   "source": [
    "# summary of all the variable in the dataset\n",
    "df_sales.info()"
   ]
  },
  {
   "cell_type": "markdown",
   "metadata": {},
   "source": [
    "**Interpretation:** The data set has 13 variables out of which 6 are numerical, and 7 are categorical. All the variables do not contain null values, this output is based on the entries in each column."
   ]
  },
  {
   "cell_type": "markdown",
   "metadata": {},
   "source": [
    "**The statistical summary of numeric variables:**"
   ]
  },
  {
   "cell_type": "code",
   "execution_count": 3,
   "metadata": {
    "scrolled": false
   },
   "outputs": [
    {
     "data": {
      "text/html": [
       "<div>\n",
       "<style scoped>\n",
       "    .dataframe tbody tr th:only-of-type {\n",
       "        vertical-align: middle;\n",
       "    }\n",
       "\n",
       "    .dataframe tbody tr th {\n",
       "        vertical-align: top;\n",
       "    }\n",
       "\n",
       "    .dataframe thead th {\n",
       "        text-align: right;\n",
       "    }\n",
       "</style>\n",
       "<table border=\"1\" class=\"dataframe\">\n",
       "  <thead>\n",
       "    <tr style=\"text-align: right;\">\n",
       "      <th></th>\n",
       "      <th>Item_Weight</th>\n",
       "      <th>Item_Visibility</th>\n",
       "      <th>Item_MRP</th>\n",
       "      <th>Outlet_Establishment_Year</th>\n",
       "      <th>Item_Outlet_Sales</th>\n",
       "      <th>Profit</th>\n",
       "    </tr>\n",
       "  </thead>\n",
       "  <tbody>\n",
       "    <tr>\n",
       "      <td>count</td>\n",
       "      <td>7774.000000</td>\n",
       "      <td>8523.000000</td>\n",
       "      <td>8523.000000</td>\n",
       "      <td>8523.000000</td>\n",
       "      <td>8523.000000</td>\n",
       "      <td>8523.000000</td>\n",
       "    </tr>\n",
       "    <tr>\n",
       "      <td>mean</td>\n",
       "      <td>11.676740</td>\n",
       "      <td>0.066132</td>\n",
       "      <td>140.998838</td>\n",
       "      <td>1997.831867</td>\n",
       "      <td>2181.288914</td>\n",
       "      <td>13.414514</td>\n",
       "    </tr>\n",
       "    <tr>\n",
       "      <td>std</td>\n",
       "      <td>5.776851</td>\n",
       "      <td>0.051598</td>\n",
       "      <td>62.258099</td>\n",
       "      <td>8.371760</td>\n",
       "      <td>1706.499616</td>\n",
       "      <td>1.701840</td>\n",
       "    </tr>\n",
       "    <tr>\n",
       "      <td>min</td>\n",
       "      <td>0.000000</td>\n",
       "      <td>0.000000</td>\n",
       "      <td>31.300000</td>\n",
       "      <td>1985.000000</td>\n",
       "      <td>33.290000</td>\n",
       "      <td>0.100000</td>\n",
       "    </tr>\n",
       "    <tr>\n",
       "      <td>25%</td>\n",
       "      <td>7.720000</td>\n",
       "      <td>0.026989</td>\n",
       "      <td>93.800000</td>\n",
       "      <td>1987.000000</td>\n",
       "      <td>834.247400</td>\n",
       "      <td>13.150000</td>\n",
       "    </tr>\n",
       "    <tr>\n",
       "      <td>50%</td>\n",
       "      <td>11.800000</td>\n",
       "      <td>0.053931</td>\n",
       "      <td>142.700000</td>\n",
       "      <td>1999.000000</td>\n",
       "      <td>1794.331000</td>\n",
       "      <td>13.900000</td>\n",
       "    </tr>\n",
       "    <tr>\n",
       "      <td>75%</td>\n",
       "      <td>16.500000</td>\n",
       "      <td>0.094585</td>\n",
       "      <td>185.650000</td>\n",
       "      <td>2004.000000</td>\n",
       "      <td>3101.296400</td>\n",
       "      <td>14.300000</td>\n",
       "    </tr>\n",
       "    <tr>\n",
       "      <td>max</td>\n",
       "      <td>21.350000</td>\n",
       "      <td>0.328391</td>\n",
       "      <td>266.900000</td>\n",
       "      <td>2009.000000</td>\n",
       "      <td>13086.964800</td>\n",
       "      <td>24.000000</td>\n",
       "    </tr>\n",
       "  </tbody>\n",
       "</table>\n",
       "</div>"
      ],
      "text/plain": [
       "       Item_Weight  Item_Visibility     Item_MRP  Outlet_Establishment_Year  \\\n",
       "count  7774.000000      8523.000000  8523.000000                8523.000000   \n",
       "mean     11.676740         0.066132   140.998838                1997.831867   \n",
       "std       5.776851         0.051598    62.258099                   8.371760   \n",
       "min       0.000000         0.000000    31.300000                1985.000000   \n",
       "25%       7.720000         0.026989    93.800000                1987.000000   \n",
       "50%      11.800000         0.053931   142.700000                1999.000000   \n",
       "75%      16.500000         0.094585   185.650000                2004.000000   \n",
       "max      21.350000         0.328391   266.900000                2009.000000   \n",
       "\n",
       "       Item_Outlet_Sales       Profit  \n",
       "count        8523.000000  8523.000000  \n",
       "mean         2181.288914    13.414514  \n",
       "std          1706.499616     1.701840  \n",
       "min            33.290000     0.100000  \n",
       "25%           834.247400    13.150000  \n",
       "50%          1794.331000    13.900000  \n",
       "75%          3101.296400    14.300000  \n",
       "max         13086.964800    24.000000  "
      ]
     },
     "execution_count": 3,
     "metadata": {},
     "output_type": "execute_result"
    }
   ],
   "source": [
    "# summary of numeric variables\n",
    "df_sales.describe()"
   ]
  },
  {
   "cell_type": "markdown",
   "metadata": {},
   "source": [
    "**Interpretation:** The variable representing the weight of the product sold has a minimum of 0, which is absurd. It implies the data has missing values where the value `0` is present. For a numeric variable, python does not consider the `0` value as a missing value. <br>\n",
    "Also, for the variable representing item visibility, has minimum value zero. It indicates that the variable has missing data. A customer needs to know the product before purchase."
   ]
  },
  {
   "cell_type": "markdown",
   "metadata": {},
   "source": [
    "**The statistical summary of categorical variables:**"
   ]
  },
  {
   "cell_type": "code",
   "execution_count": 4,
   "metadata": {},
   "outputs": [
    {
     "data": {
      "text/html": [
       "<div>\n",
       "<style scoped>\n",
       "    .dataframe tbody tr th:only-of-type {\n",
       "        vertical-align: middle;\n",
       "    }\n",
       "\n",
       "    .dataframe tbody tr th {\n",
       "        vertical-align: top;\n",
       "    }\n",
       "\n",
       "    .dataframe thead th {\n",
       "        text-align: right;\n",
       "    }\n",
       "</style>\n",
       "<table border=\"1\" class=\"dataframe\">\n",
       "  <thead>\n",
       "    <tr style=\"text-align: right;\">\n",
       "      <th></th>\n",
       "      <th>Item_Identifier</th>\n",
       "      <th>Item_Fat_Content</th>\n",
       "      <th>Item_Type</th>\n",
       "      <th>Outlet_Identifier</th>\n",
       "      <th>Outlet_Size</th>\n",
       "      <th>Outlet_Location_Type</th>\n",
       "      <th>Outlet_Type</th>\n",
       "    </tr>\n",
       "  </thead>\n",
       "  <tbody>\n",
       "    <tr>\n",
       "      <td>count</td>\n",
       "      <td>8523</td>\n",
       "      <td>8523</td>\n",
       "      <td>8523</td>\n",
       "      <td>8523</td>\n",
       "      <td>6113</td>\n",
       "      <td>6473</td>\n",
       "      <td>8523</td>\n",
       "    </tr>\n",
       "    <tr>\n",
       "      <td>unique</td>\n",
       "      <td>1559</td>\n",
       "      <td>2</td>\n",
       "      <td>16</td>\n",
       "      <td>10</td>\n",
       "      <td>3</td>\n",
       "      <td>8</td>\n",
       "      <td>4</td>\n",
       "    </tr>\n",
       "    <tr>\n",
       "      <td>top</td>\n",
       "      <td>FDG33</td>\n",
       "      <td>Low Fat</td>\n",
       "      <td>Fruits and Vegetables</td>\n",
       "      <td>OUT027</td>\n",
       "      <td>Medium</td>\n",
       "      <td>Tier 2</td>\n",
       "      <td>Supermarket Type1</td>\n",
       "    </tr>\n",
       "    <tr>\n",
       "      <td>freq</td>\n",
       "      <td>10</td>\n",
       "      <td>5517</td>\n",
       "      <td>1232</td>\n",
       "      <td>935</td>\n",
       "      <td>2793</td>\n",
       "      <td>2793</td>\n",
       "      <td>5577</td>\n",
       "    </tr>\n",
       "  </tbody>\n",
       "</table>\n",
       "</div>"
      ],
      "text/plain": [
       "       Item_Identifier Item_Fat_Content              Item_Type  \\\n",
       "count             8523             8523                   8523   \n",
       "unique            1559                2                     16   \n",
       "top              FDG33          Low Fat  Fruits and Vegetables   \n",
       "freq                10             5517                   1232   \n",
       "\n",
       "       Outlet_Identifier Outlet_Size Outlet_Location_Type        Outlet_Type  \n",
       "count               8523        6113                 6473               8523  \n",
       "unique                10           3                    8                  4  \n",
       "top               OUT027      Medium               Tier 2  Supermarket Type1  \n",
       "freq                 935        2793                 2793               5577  "
      ]
     },
     "execution_count": 4,
     "metadata": {},
     "output_type": "execute_result"
    }
   ],
   "source": [
    "# get the summary output for categorical variable\n",
    "df_sales.describe(include = \"object\")"
   ]
  },
  {
   "cell_type": "markdown",
   "metadata": {},
   "source": [
    "**Interpretation:** Note that the variables representing outlet size and type of outlet location have counts less than 8523 (the number of observations in the data). It implies that there are missing values in the two variables."
   ]
  },
  {
   "cell_type": "markdown",
   "metadata": {},
   "source": [
    "<a id='missing_values'></a>\n",
    "## 2. Missing values\n",
    "\n",
    "The missing data, or missing values, are values which occur when no data is stored for the variable in an observation. Understanding the concept of missing values is important in order to successfully manage data. Missing data often occur in data and needs to be handled properly. Improper handling may affect results obtained by the researcher."
   ]
  },
  {
   "cell_type": "markdown",
   "metadata": {},
   "source": [
    "<a id = \"std_mv\"></a>\n",
    "## 2.1 Standard missing values\n",
    "\n",
    "The missing values which are detected by python are called standard missing values in python. The missing values detected by python include `NaN` and blank spaces ` `."
   ]
  },
  {
   "cell_type": "markdown",
   "metadata": {},
   "source": [
    "<a id=\"non_std_mv\"></a>\n",
    "## 2.2 Non-Standard missing values\n",
    "\n",
    "The missing values such as `?`, `-` , `NA` are not detected by python and are known as the non-standard missing values."
   ]
  },
  {
   "cell_type": "markdown",
   "metadata": {},
   "source": [
    "**From the statistical summary, we got a rough idea of the missing values. Let us do a simple check for missing values.**"
   ]
  },
  {
   "cell_type": "code",
   "execution_count": 5,
   "metadata": {},
   "outputs": [
    {
     "data": {
      "text/plain": [
       "True"
      ]
     },
     "execution_count": 5,
     "metadata": {},
     "output_type": "execute_result"
    }
   ],
   "source": [
    "# check for null values using isnull()\n",
    "# isnull(): returns true for a missing data\n",
    "# values: returns a list of boolean values (output of isnull()) \n",
    "# any() returns true if any of the element in the passed list is true\n",
    "df_sales.isnull().values.any()"
   ]
  },
  {
   "cell_type": "markdown",
   "metadata": {},
   "source": [
    "**Interpretation:** The above is a simple way to know the presence of missing data. However, it is not possible to know the variables containing missing data."
   ]
  },
  {
   "cell_type": "code",
   "execution_count": 6,
   "metadata": {
    "scrolled": false
   },
   "outputs": [
    {
     "data": {
      "text/plain": [
       "Item_Identifier                 0\n",
       "Item_Weight                   749\n",
       "Item_Fat_Content                0\n",
       "Item_Visibility                 0\n",
       "Item_Type                       0\n",
       "Item_MRP                        0\n",
       "Outlet_Identifier               0\n",
       "Outlet_Establishment_Year       0\n",
       "Outlet_Size                  2410\n",
       "Outlet_Location_Type         2050\n",
       "Outlet_Type                     0\n",
       "Item_Outlet_Sales               0\n",
       "Profit                          0\n",
       "dtype: int64"
      ]
     },
     "execution_count": 6,
     "metadata": {},
     "output_type": "execute_result"
    }
   ],
   "source": [
    "# use isnull() to check for missing values\n",
    "# sum(): gives the sum of missing values in each column\n",
    "missing_values = df_sales.isnull().sum()\n",
    "\n",
    "# print the missing values\n",
    "missing_values"
   ]
  },
  {
   "cell_type": "markdown",
   "metadata": {},
   "source": [
    "Let us plot a heatmap of the missing values."
   ]
  },
  {
   "cell_type": "code",
   "execution_count": 7,
   "metadata": {
    "scrolled": false
   },
   "outputs": [
    {
     "data": {
      "image/png": "[encoded data removed]",
      "text/plain": [
       "<Figure size 1080x360 with 1 Axes>"
      ]
     },
     "metadata": {
      "needs_background": "light"
     },
     "output_type": "display_data"
    }
   ],
   "source": [
    "# let us plot a heatmap of the missing values\n",
    "\n",
    "# import the required libraries\n",
    "# import the library seaborn and matplotlib\n",
    "import seaborn as sns\n",
    "import matplotlib.pyplot as plt\n",
    "%matplotlib inline\n",
    "\n",
    "# set the figure size\n",
    "plt.rcParams[\"figure.figsize\"]=[15,5]\n",
    "\n",
    "# plot a heatmap of the missing values in the data\n",
    "# cbar: specify whether to display the color index or not\n",
    "sns.heatmap(df_sales.isnull(), cbar = False)\n",
    "\n",
    "# display the plot\n",
    "plt.show()"
   ]
  },
  {
   "cell_type": "markdown",
   "metadata": {},
   "source": [
    "We see that there are three variables that have missing data. Let us find the percentage of missing data in each variable. Also note that, we have seen variable `Item_Visibility` has missing values represented by 0, and are not detected by python."
   ]
  },
  {
   "cell_type": "code",
   "execution_count": 8,
   "metadata": {},
   "outputs": [
    {
     "data": {
      "text/html": [
       "<div>\n",
       "<style scoped>\n",
       "    .dataframe tbody tr th:only-of-type {\n",
       "        vertical-align: middle;\n",
       "    }\n",
       "\n",
       "    .dataframe tbody tr th {\n",
       "        vertical-align: top;\n",
       "    }\n",
       "\n",
       "    .dataframe thead th {\n",
       "        text-align: right;\n",
       "    }\n",
       "</style>\n",
       "<table border=\"1\" class=\"dataframe\">\n",
       "  <thead>\n",
       "    <tr style=\"text-align: right;\">\n",
       "      <th></th>\n",
       "      <th>Total</th>\n",
       "      <th>Percent</th>\n",
       "      <th>Type</th>\n",
       "    </tr>\n",
       "  </thead>\n",
       "  <tbody>\n",
       "    <tr>\n",
       "      <td>Outlet_Size</td>\n",
       "      <td>2410</td>\n",
       "      <td>28.276428</td>\n",
       "      <td>object</td>\n",
       "    </tr>\n",
       "    <tr>\n",
       "      <td>Outlet_Location_Type</td>\n",
       "      <td>2050</td>\n",
       "      <td>24.052564</td>\n",
       "      <td>object</td>\n",
       "    </tr>\n",
       "    <tr>\n",
       "      <td>Item_Weight</td>\n",
       "      <td>749</td>\n",
       "      <td>8.787985</td>\n",
       "      <td>float64</td>\n",
       "    </tr>\n",
       "    <tr>\n",
       "      <td>Profit</td>\n",
       "      <td>0</td>\n",
       "      <td>0.000000</td>\n",
       "      <td>float64</td>\n",
       "    </tr>\n",
       "    <tr>\n",
       "      <td>Item_Outlet_Sales</td>\n",
       "      <td>0</td>\n",
       "      <td>0.000000</td>\n",
       "      <td>float64</td>\n",
       "    </tr>\n",
       "    <tr>\n",
       "      <td>Outlet_Type</td>\n",
       "      <td>0</td>\n",
       "      <td>0.000000</td>\n",
       "      <td>object</td>\n",
       "    </tr>\n",
       "    <tr>\n",
       "      <td>Outlet_Establishment_Year</td>\n",
       "      <td>0</td>\n",
       "      <td>0.000000</td>\n",
       "      <td>int64</td>\n",
       "    </tr>\n",
       "    <tr>\n",
       "      <td>Outlet_Identifier</td>\n",
       "      <td>0</td>\n",
       "      <td>0.000000</td>\n",
       "      <td>object</td>\n",
       "    </tr>\n",
       "    <tr>\n",
       "      <td>Item_MRP</td>\n",
       "      <td>0</td>\n",
       "      <td>0.000000</td>\n",
       "      <td>float64</td>\n",
       "    </tr>\n",
       "    <tr>\n",
       "      <td>Item_Type</td>\n",
       "      <td>0</td>\n",
       "      <td>0.000000</td>\n",
       "      <td>object</td>\n",
       "    </tr>\n",
       "    <tr>\n",
       "      <td>Item_Visibility</td>\n",
       "      <td>0</td>\n",
       "      <td>0.000000</td>\n",
       "      <td>float64</td>\n",
       "    </tr>\n",
       "    <tr>\n",
       "      <td>Item_Fat_Content</td>\n",
       "      <td>0</td>\n",
       "      <td>0.000000</td>\n",
       "      <td>object</td>\n",
       "    </tr>\n",
       "    <tr>\n",
       "      <td>Item_Identifier</td>\n",
       "      <td>0</td>\n",
       "      <td>0.000000</td>\n",
       "      <td>object</td>\n",
       "    </tr>\n",
       "  </tbody>\n",
       "</table>\n",
       "</div>"
      ],
      "text/plain": [
       "                           Total    Percent     Type\n",
       "Outlet_Size                 2410  28.276428   object\n",
       "Outlet_Location_Type        2050  24.052564   object\n",
       "Item_Weight                  749   8.787985  float64\n",
       "Profit                         0   0.000000  float64\n",
       "Item_Outlet_Sales              0   0.000000  float64\n",
       "Outlet_Type                    0   0.000000   object\n",
       "Outlet_Establishment_Year      0   0.000000    int64\n",
       "Outlet_Identifier              0   0.000000   object\n",
       "Item_MRP                       0   0.000000  float64\n",
       "Item_Type                      0   0.000000   object\n",
       "Item_Visibility                0   0.000000  float64\n",
       "Item_Fat_Content               0   0.000000   object\n",
       "Item_Identifier                0   0.000000   object"
      ]
     },
     "execution_count": 8,
     "metadata": {},
     "output_type": "execute_result"
    }
   ],
   "source": [
    "# get the count of missing values\n",
    "missing_values = df_sales.isnull().sum()\n",
    "\n",
    "# check for missing values\n",
    "total = df_sales.isnull().sum().sort_values(ascending=False)\n",
    "\n",
    "# calculate percentage of the missing values\n",
    "percent = ((df_sales.isnull().sum()/df_sales.shape[0])*100)\n",
    "\n",
    "# sort the values in descending order\n",
    "# ascending: \n",
    "percent = percent.sort_values(ascending=False)\n",
    "\n",
    "# concatenate the total missing values and percentage of the missing values\n",
    "missing_data = pd.concat([total, percent], axis=1, keys=['Total', 'Percent'])\n",
    "\n",
    "# add the data types\n",
    "missing_data['Type'] = df_sales[missing_data.index].dtypes\n",
    "\n",
    "# view the missing data\n",
    "missing_data"
   ]
  },
  {
   "cell_type": "markdown",
   "metadata": {},
   "source": [
    "**Interpretation:** The variable representing the outlet size has 28.2% missing data. \n",
    "\n",
    "If more than 70% of the data is missing we exclude the column from further analysis. You may take your own decision to exclude a column based on the percentage of missing values."
   ]
  },
  {
   "cell_type": "markdown",
   "metadata": {},
   "source": [
    "An easy way of getting rid of missing values is to drop the rows that contain them."
   ]
  },
  {
   "cell_type": "code",
   "execution_count": 9,
   "metadata": {},
   "outputs": [
    {
     "data": {
      "text/plain": [
       "(5364, 13)"
      ]
     },
     "execution_count": 9,
     "metadata": {},
     "output_type": "execute_result"
    }
   ],
   "source": [
    "# drop the rows having missing values\n",
    "df_sales_drop = df_sales.dropna()\n",
    "\n",
    "# display the dataframe\n",
    "df_sales_drop.shape"
   ]
  },
  {
   "cell_type": "markdown",
   "metadata": {},
   "source": [
    "**Interpretation:** There are only 5364 rows in the resultant data, that is nearly 63% of the data. The remaining 37% of the data is lost. \n",
    "\n",
    "In order to avoid such a loss of data, we will consider each variable separately and impute the missing values."
   ]
  },
  {
   "cell_type": "markdown",
   "metadata": {},
   "source": [
    "### Let us now consider each variable separately for missing value treatment"
   ]
  },
  {
   "cell_type": "markdown",
   "metadata": {},
   "source": [
    "### 1. The variable `Outlet_Size`:"
   ]
  },
  {
   "cell_type": "markdown",
   "metadata": {},
   "source": [
    "The variable is a categorical variable representing the size of the store in terms of ground area covered."
   ]
  },
  {
   "cell_type": "code",
   "execution_count": 10,
   "metadata": {},
   "outputs": [
    {
     "data": {
      "text/plain": [
       "2410"
      ]
     },
     "execution_count": 10,
     "metadata": {},
     "output_type": "execute_result"
    }
   ],
   "source": [
    "# check the number of null values\n",
    "df_sales.Outlet_Size.isnull().sum()"
   ]
  },
  {
   "cell_type": "markdown",
   "metadata": {},
   "source": [
    "There are 2410 missing values detected by python."
   ]
  },
  {
   "cell_type": "code",
   "execution_count": 11,
   "metadata": {},
   "outputs": [
    {
     "data": {
      "text/plain": [
       "Medium    2793\n",
       "Small     2388\n",
       "High       932\n",
       "Name: Outlet_Size, dtype: int64"
      ]
     },
     "execution_count": 11,
     "metadata": {},
     "output_type": "execute_result"
    }
   ],
   "source": [
    "# check the count of the data\n",
    "df_sales.Outlet_Size.value_counts()"
   ]
  },
  {
   "cell_type": "markdown",
   "metadata": {},
   "source": [
    "**Note the missing values are detected by python.**"
   ]
  },
  {
   "cell_type": "code",
   "execution_count": 12,
   "metadata": {},
   "outputs": [
    {
     "data": {
      "text/plain": [
       "0    Medium\n",
       "1    Medium\n",
       "2    Medium\n",
       "3       NaN\n",
       "4      High\n",
       "5    Medium\n",
       "6      High\n",
       "7    Medium\n",
       "8       NaN\n",
       "9       NaN\n",
       "Name: Outlet_Size, dtype: object"
      ]
     },
     "execution_count": 12,
     "metadata": {},
     "output_type": "execute_result"
    }
   ],
   "source": [
    "# check the head of the column\n",
    "df_sales.Outlet_Size.head(10)"
   ]
  },
  {
   "cell_type": "markdown",
   "metadata": {},
   "source": [
    "The `NaN` values are read as missing values in the data."
   ]
  },
  {
   "cell_type": "markdown",
   "metadata": {},
   "source": [
    "**We shall replace the missing values with mode value.** <br><br>\n",
    "The mode value is the value in the data having the highest frequency. "
   ]
  },
  {
   "cell_type": "code",
   "execution_count": 13,
   "metadata": {},
   "outputs": [
    {
     "data": {
      "text/plain": [
       "0    Medium\n",
       "dtype: object"
      ]
     },
     "execution_count": 13,
     "metadata": {},
     "output_type": "execute_result"
    }
   ],
   "source": [
    "# obtain the mode value\n",
    "df_sales.Outlet_Size.mode()"
   ]
  },
  {
   "cell_type": "markdown",
   "metadata": {},
   "source": [
    "**Interpretation:** The mode value of the data is 'Medium'. We will now impute all the missing values with it."
   ]
  },
  {
   "cell_type": "code",
   "execution_count": 14,
   "metadata": {},
   "outputs": [],
   "source": [
    "# import the library numpy as np\n",
    "import numpy as np\n",
    "\n",
    "# replace all the missing values with 'Medium'\n",
    "df_sales.Outlet_Size.replace(np.NaN,\"Medium\" ,inplace = True)"
   ]
  },
  {
   "cell_type": "markdown",
   "metadata": {},
   "source": [
    "The missing values have been replaced and let us do a recheck for the same."
   ]
  },
  {
   "cell_type": "code",
   "execution_count": 15,
   "metadata": {},
   "outputs": [
    {
     "data": {
      "text/plain": [
       "0"
      ]
     },
     "execution_count": 15,
     "metadata": {},
     "output_type": "execute_result"
    }
   ],
   "source": [
    "df_sales.Outlet_Size.isnull().sum()"
   ]
  },
  {
   "cell_type": "markdown",
   "metadata": {},
   "source": [
    "**Interpretation:** There are no more missing values in the data."
   ]
  },
  {
   "cell_type": "code",
   "execution_count": 16,
   "metadata": {},
   "outputs": [
    {
     "data": {
      "text/plain": [
       "Medium    5203\n",
       "Small     2388\n",
       "High       932\n",
       "Name: Outlet_Size, dtype: int64"
      ]
     },
     "execution_count": 16,
     "metadata": {},
     "output_type": "execute_result"
    }
   ],
   "source": [
    "# check the count of the data\n",
    "df_sales.Outlet_Size.value_counts()"
   ]
  },
  {
   "cell_type": "markdown",
   "metadata": {},
   "source": [
    "**Interpretation:** The count of the medium values has risen drastically since all the missing values were assigned as 'Medium'"
   ]
  },
  {
   "cell_type": "markdown",
   "metadata": {},
   "source": [
    "### 2. The variable `Outlet_Location_Type`:"
   ]
  },
  {
   "cell_type": "markdown",
   "metadata": {},
   "source": [
    "The variable `Outlet_Location_Type` represents the size of the city in which the store is located. We have already seen that the data has missing values. \n",
    "\n",
    "Let us find out the number of missing values."
   ]
  },
  {
   "cell_type": "code",
   "execution_count": 17,
   "metadata": {},
   "outputs": [
    {
     "data": {
      "text/plain": [
       "2050"
      ]
     },
     "execution_count": 17,
     "metadata": {},
     "output_type": "execute_result"
    }
   ],
   "source": [
    "# obtain the total number of missing values\n",
    "# notnull(): detects the existing (non-missing) values\n",
    "# sum(): gives the total count of the existing (non-missing) values\n",
    "df_sales.Outlet_Location_Type.isnull().sum()"
   ]
  },
  {
   "cell_type": "markdown",
   "metadata": {},
   "source": [
    "**Interpretation:** There are 2050 missing values."
   ]
  },
  {
   "cell_type": "markdown",
   "metadata": {},
   "source": [
    "To find the categories in the data use value_counts()"
   ]
  },
  {
   "cell_type": "code",
   "execution_count": 18,
   "metadata": {
    "scrolled": true
   },
   "outputs": [
    {
     "data": {
      "text/plain": [
       "Tier 2    2793\n",
       "Tier1     2388\n",
       "Tier 3     932\n",
       "?          120\n",
       "  --       109\n",
       "  -         67\n",
       "na          48\n",
       "NAN         16\n",
       "Name: Outlet_Location_Type, dtype: int64"
      ]
     },
     "execution_count": 18,
     "metadata": {},
     "output_type": "execute_result"
    }
   ],
   "source": [
    "# check the count of the categories\n",
    "df_sales.Outlet_Location_Type.value_counts()"
   ]
  },
  {
   "cell_type": "markdown",
   "metadata": {},
   "source": [
    "**Interpretation:** There are some non-standard missing values present. These values are considered as categories in the data. They need to be replaced with standard missing values."
   ]
  },
  {
   "cell_type": "markdown",
   "metadata": {},
   "source": [
    "**There are missing values python detects. These values are `NaN` and blank space ` `.** \n",
    "\n",
    "The values `?`, `--`, `-`, `na`, `NAN` resemble missing values. However, they are not detected by python. We need to replace these values with NAN"
   ]
  },
  {
   "cell_type": "code",
   "execution_count": 19,
   "metadata": {},
   "outputs": [],
   "source": [
    "# replace \"?\" with NaN\n",
    "# to_replace: value that will be replaced\n",
    "# value: value to replace values matching `to_replace` with\n",
    "df_sales.Outlet_Location_Type.replace(to_replace = \"?\", value = np.NaN, inplace = True)\n",
    "\n",
    "# replace \" --\" with NaN\n",
    "# to_replace: value that will be replaced\n",
    "# value: value to replace values matching `to_replace` with\n",
    "df_sales.Outlet_Location_Type.replace(to_replace = \"  --\", value = np.NaN, inplace = True)\n",
    "\n",
    "# replace \" -\" with NaN\n",
    "# to_replace: value that will be replaced\n",
    "# value: value to replace values matching `to_replace` with\n",
    "df_sales.Outlet_Location_Type.replace(to_replace = \"  -\", value = np.NaN, inplace = True)\n",
    "\n",
    "# replace \"na\" with NaN\n",
    "# to_replace: value that will be replaced\n",
    "# value: value to replace values matching `to_replace` with\n",
    "df_sales.Outlet_Location_Type.replace(to_replace = \"na\", value = np.NaN, inplace = True)\n",
    "\n",
    "# replace \"NAN\" with NaN\n",
    "# to_replace: value that will be replaced\n",
    "# value: value to replace values matching `to_replace` with\n",
    "df_sales.Outlet_Location_Type.replace(to_replace = \"NAN\", value = np.NaN, inplace = True)"
   ]
  },
  {
   "cell_type": "markdown",
   "metadata": {},
   "source": [
    "**Interpretation:** The values are now replaced. We can check for the same by displaying the count of each category. "
   ]
  },
  {
   "cell_type": "code",
   "execution_count": 20,
   "metadata": {
    "scrolled": true
   },
   "outputs": [
    {
     "data": {
      "text/plain": [
       "Tier 2    2793\n",
       "Tier1     2388\n",
       "Tier 3     932\n",
       "Name: Outlet_Location_Type, dtype: int64"
      ]
     },
     "execution_count": 20,
     "metadata": {},
     "output_type": "execute_result"
    }
   ],
   "source": [
    "# check the count of the data\n",
    "df_sales.Outlet_Location_Type.value_counts()"
   ]
  },
  {
   "cell_type": "markdown",
   "metadata": {},
   "source": [
    "Now, check for the count of missing values."
   ]
  },
  {
   "cell_type": "code",
   "execution_count": 21,
   "metadata": {
    "scrolled": true
   },
   "outputs": [
    {
     "data": {
      "text/plain": [
       "2410"
      ]
     },
     "execution_count": 21,
     "metadata": {},
     "output_type": "execute_result"
    }
   ],
   "source": [
    "# check the count of the missing data\n",
    "df_sales.Outlet_Location_Type.isnull().sum()"
   ]
  },
  {
   "cell_type": "markdown",
   "metadata": {},
   "source": [
    "**Interpretation:**  In all we now have 2410 missing values."
   ]
  },
  {
   "cell_type": "markdown",
   "metadata": {},
   "source": [
    "We shall replace the missing values based on the year of establishment and outlet_sales"
   ]
  },
  {
   "cell_type": "code",
   "execution_count": 22,
   "metadata": {},
   "outputs": [
    {
     "data": {
      "text/html": [
       "<div>\n",
       "<style scoped>\n",
       "    .dataframe tbody tr th:only-of-type {\n",
       "        vertical-align: middle;\n",
       "    }\n",
       "\n",
       "    .dataframe tbody tr th {\n",
       "        vertical-align: top;\n",
       "    }\n",
       "\n",
       "    .dataframe thead th {\n",
       "        text-align: right;\n",
       "    }\n",
       "</style>\n",
       "<table border=\"1\" class=\"dataframe\">\n",
       "  <thead>\n",
       "    <tr style=\"text-align: right;\">\n",
       "      <th></th>\n",
       "      <th>Item_Outlet_Sales</th>\n",
       "    </tr>\n",
       "    <tr>\n",
       "      <th>Outlet_Location_Type</th>\n",
       "      <th></th>\n",
       "    </tr>\n",
       "  </thead>\n",
       "  <tbody>\n",
       "    <tr>\n",
       "      <td>Tier 2</td>\n",
       "      <td>2681.603542</td>\n",
       "    </tr>\n",
       "    <tr>\n",
       "      <td>Tier 3</td>\n",
       "      <td>2298.995256</td>\n",
       "    </tr>\n",
       "    <tr>\n",
       "      <td>Tier1</td>\n",
       "      <td>1912.149161</td>\n",
       "    </tr>\n",
       "  </tbody>\n",
       "</table>\n",
       "</div>"
      ],
      "text/plain": [
       "                      Item_Outlet_Sales\n",
       "Outlet_Location_Type                   \n",
       "Tier 2                      2681.603542\n",
       "Tier 3                      2298.995256\n",
       "Tier1                       1912.149161"
      ]
     },
     "execution_count": 22,
     "metadata": {},
     "output_type": "execute_result"
    }
   ],
   "source": [
    "# consider the variables Item_Outlet_Sales and Outlet_Location_Type\n",
    "# dropna(): drops rows having missing value\n",
    "df_impute = df_sales[[\"Item_Outlet_Sales\",\"Outlet_Location_Type\"]].dropna()\n",
    "\n",
    "\n",
    "# group the data by the location type\n",
    "# mean(): returns the mean of the values\n",
    "df_impute = df_impute.groupby(df_impute[\"Outlet_Location_Type\"]).mean()\n",
    "\n",
    "# display the dataframe\n",
    "df_impute"
   ]
  },
  {
   "cell_type": "markdown",
   "metadata": {},
   "source": [
    "Based on the above outlet sales range we shall impute the sales in the data."
   ]
  },
  {
   "cell_type": "code",
   "execution_count": 23,
   "metadata": {},
   "outputs": [],
   "source": [
    "# create a variable 'ind' for all the indexes having missing data\n",
    "index = np.where(df_sales.Outlet_Location_Type.isnull())[0]\n",
    "\n",
    "# impute the values using a for loop\n",
    "for ind in index:                                               # for the rows containing missing data\n",
    "    if df_sales.loc[ind,\"Item_Outlet_Sales\"] <= 2100:           # if the sales is less than 2100 for the location\n",
    "        df_sales.loc[ind,\"Outlet_Location_Type\"] = \"Tier1\"      # impute the value \"Tier1\"\n",
    "    elif df_sales.loc[ind,\"Item_Outlet_Sales\"] >= 2500:         # if the sales is more than 2500 for the location\n",
    "        df_sales.loc[ind,\"Outlet_Location_Type\"] = \"Tier 2\"     # impute the value \"Tier 2\"\n",
    "    else:                                                       # if both the if conditions fail\n",
    "        df_sales.loc[ind,\"Outlet_Location_Type\"] = \"Tier 3\"     # impute the value \"Tier 3\""
   ]
  },
  {
   "cell_type": "markdown",
   "metadata": {},
   "source": [
    "Note: The above thresholds are subjective."
   ]
  },
  {
   "cell_type": "markdown",
   "metadata": {},
   "source": [
    "The values have been imputed. To ensure check for missing data again."
   ]
  },
  {
   "cell_type": "code",
   "execution_count": 24,
   "metadata": {},
   "outputs": [
    {
     "data": {
      "text/plain": [
       "0"
      ]
     },
     "execution_count": 24,
     "metadata": {},
     "output_type": "execute_result"
    }
   ],
   "source": [
    "# re-check the count of the missing data\n",
    "df_sales.Outlet_Location_Type.isnull().sum()"
   ]
  },
  {
   "cell_type": "markdown",
   "metadata": {},
   "source": [
    "Now check for the counts of the data."
   ]
  },
  {
   "cell_type": "code",
   "execution_count": 25,
   "metadata": {},
   "outputs": [
    {
     "data": {
      "text/plain": [
       "Tier1     3947\n",
       "Tier 2    3483\n",
       "Tier 3    1093\n",
       "Name: Outlet_Location_Type, dtype: int64"
      ]
     },
     "execution_count": 25,
     "metadata": {},
     "output_type": "execute_result"
    }
   ],
   "source": [
    "df_sales[\"Outlet_Location_Type\"].value_counts()"
   ]
  },
  {
   "cell_type": "markdown",
   "metadata": {},
   "source": [
    "### 3. The variable `Item_Weight`:"
   ]
  },
  {
   "cell_type": "code",
   "execution_count": 26,
   "metadata": {},
   "outputs": [
    {
     "data": {
      "text/plain": [
       "count    7774.000000\n",
       "mean       11.676740\n",
       "std         5.776851\n",
       "min         0.000000\n",
       "25%         7.720000\n",
       "50%        11.800000\n",
       "75%        16.500000\n",
       "max        21.350000\n",
       "Name: Item_Weight, dtype: float64"
      ]
     },
     "execution_count": 26,
     "metadata": {},
     "output_type": "execute_result"
    }
   ],
   "source": [
    "# display the summary \n",
    "df_sales[\"Item_Weight\"].describe()"
   ]
  },
  {
   "cell_type": "markdown",
   "metadata": {},
   "source": [
    "**Interpretation:** We see the minimum weight in the data is given to be zero. The weight of any item can not be zero."
   ]
  },
  {
   "cell_type": "code",
   "execution_count": 27,
   "metadata": {},
   "outputs": [],
   "source": [
    "# replace the value of 0 with NaN\n",
    "df_sales.Item_Weight.replace(0,np.NaN, inplace = True)"
   ]
  },
  {
   "cell_type": "markdown",
   "metadata": {},
   "source": [
    "Display the data summary again."
   ]
  },
  {
   "cell_type": "code",
   "execution_count": 28,
   "metadata": {},
   "outputs": [
    {
     "data": {
      "text/plain": [
       "count    7060.000000\n",
       "mean       12.857645\n",
       "std         4.643456\n",
       "min         4.555000\n",
       "25%         8.773750\n",
       "50%        12.600000\n",
       "75%        16.850000\n",
       "max        21.350000\n",
       "Name: Item_Weight, dtype: float64"
      ]
     },
     "execution_count": 28,
     "metadata": {},
     "output_type": "execute_result"
    }
   ],
   "source": [
    "# display the summary \n",
    "df_sales[\"Item_Weight\"].describe()"
   ]
  },
  {
   "cell_type": "markdown",
   "metadata": {},
   "source": [
    "We need to impute these values. We shall see two ways to do so. Once we will impute the missing data with mean and then with the median."
   ]
  },
  {
   "cell_type": "code",
   "execution_count": 29,
   "metadata": {
    "scrolled": false
   },
   "outputs": [
    {
     "data": {
      "image/png": "[encoded data removed]",
      "text/plain": [
       "<Figure size 1080x360 with 6 Axes>"
      ]
     },
     "metadata": {
      "needs_background": "light"
     },
     "output_type": "display_data"
    }
   ],
   "source": [
    "# import the required libraries \n",
    "from matplotlib import gridspec\n",
    "\n",
    "# set the plot size\n",
    "plt.rcParams[\"figure.figsize\"] = [15,5]\n",
    "\n",
    "# specify the geometry of the grid that a subplot is placed in\n",
    "# split the plot into 2 rows and 3 columns\n",
    "gs = gridspec.GridSpec(2, 3, width_ratios=[.5, .5, .5], height_ratios=[2,15])\n",
    "\n",
    "# text\n",
    "\n",
    "# step 1: specify the plot location by calling 'gs' initiated above \n",
    "# step 2: write the plot text\n",
    "#  write the text in the plot using text()\n",
    "#  x: location on x-axis where the text the is to be written\n",
    "#  y: location on y-axis where the text the is to be written\n",
    "#  s: text to be written \n",
    "#  fontsize: set the font size\n",
    "# step 3: use .axis('off') to hide the x and y axes\n",
    "\n",
    "# plot in 1st row and 1st column\n",
    "a11 = plt.subplot(gs[0, 0])                                      \n",
    "a11.text(x = 0.1, y = 0.03, s=\"Original Data\", fontsize=15)  \n",
    "a11.axis('off')\n",
    "\n",
    "# plot in 1st row and 2nd column\n",
    "a12 = plt.subplot(gs[0, 1])                                      \n",
    "a12.text(x = 0.01, y = 0.03, s=\"Data imputed with mean\", fontsize=15)  \n",
    "a12.axis('off')\n",
    "\n",
    "# plot in 1st row and 3rd column\n",
    "a12 = plt.subplot(gs[0, 2])                                      \n",
    "a12.text(x = 0.1, y = 0.03, s=\"Data imputed with median\", fontsize=15)  \n",
    "a12.axis('off')\n",
    "\n",
    "# SUMMARY STATISTICS\n",
    "# step 1: specify the location of the plot by calling 'gs' initiated above \n",
    "# step 2: specify the text along with its location\n",
    "# step 3: use .axis('off') to hide the x and y axes\n",
    "\n",
    "# plot in 2nd row and 1st column\n",
    "# original data\n",
    "a12 = plt.subplot(gs[1, 0])\n",
    "a12.text(0.05, .3, s=str(df_sales[\"Item_Weight\"].describe()), fontsize=15)\n",
    "a12.axis('off')\n",
    "\n",
    "# plot in 2nd row and 2nd column\n",
    "# fill the missing values with mean\n",
    "# obtain the mean of the data\n",
    "mu = df_sales[\"Item_Weight\"].mean()\n",
    "a12 = plt.subplot(gs[1, 1])\n",
    "a12.text(0.05, 0.3, s=str(df_sales[\"Item_Weight\"].fillna(mu).describe()), fontsize=15)\n",
    "a12.axis('off')\n",
    "\n",
    "# fill the missing values with mean\n",
    "# obtain the mean of the data\n",
    "me = df_sales[\"Item_Weight\"].median()\n",
    "a12 = plt.subplot(gs[1, 2])\n",
    "a12.text(0.05, 0.3, s=str(df_sales[\"Item_Weight\"].fillna(me).describe()), fontsize=15)\n",
    "a12.axis('off')\n",
    "\n",
    "# display the plot\n",
    "plt.show()"
   ]
  },
  {
   "cell_type": "markdown",
   "metadata": {},
   "source": [
    "We see there is not much difference in the summary statistics of the variable. However, when the missing values are replaced with mean, the mean of the original data is retained and there is a slight change in the median value. And when the missing values are replaced with median, the median of the original data is retained and there is a slight change in the mean value.\n",
    "\n",
    "So we can replace missing data with either mean or median. We shall replace all the values with the median"
   ]
  },
  {
   "cell_type": "code",
   "execution_count": 30,
   "metadata": {},
   "outputs": [],
   "source": [
    "# fill the missing values with median\n",
    "# inplace: makes permanent changes in the dataframe\n",
    "df_sales[\"Item_Weight\"].fillna(me, inplace = True)"
   ]
  },
  {
   "cell_type": "code",
   "execution_count": 31,
   "metadata": {},
   "outputs": [
    {
     "data": {
      "text/plain": [
       "count    8523.00000\n",
       "mean       12.81342\n",
       "std         4.22724\n",
       "min         4.55500\n",
       "25%         9.31000\n",
       "50%        12.60000\n",
       "75%        16.00000\n",
       "max        21.35000\n",
       "Name: Item_Weight, dtype: float64"
      ]
     },
     "execution_count": 31,
     "metadata": {},
     "output_type": "execute_result"
    }
   ],
   "source": [
    "# display the summary \n",
    "df_sales[\"Item_Weight\"].describe()"
   ]
  },
  {
   "cell_type": "markdown",
   "metadata": {},
   "source": [
    "### 4. The variable `Item_Visibility`:"
   ]
  },
  {
   "cell_type": "markdown",
   "metadata": {},
   "source": [
    "The variable represents the item visibility in the score."
   ]
  },
  {
   "cell_type": "code",
   "execution_count": 32,
   "metadata": {},
   "outputs": [
    {
     "data": {
      "text/plain": [
       "count    8523.000000\n",
       "mean        0.066132\n",
       "std         0.051598\n",
       "min         0.000000\n",
       "25%         0.026989\n",
       "50%         0.053931\n",
       "75%         0.094585\n",
       "max         0.328391\n",
       "Name: Item_Visibility, dtype: float64"
      ]
     },
     "execution_count": 32,
     "metadata": {},
     "output_type": "execute_result"
    }
   ],
   "source": [
    "# display the summary \n",
    "df_sales[\"Item_Visibility\"].describe()"
   ]
  },
  {
   "cell_type": "markdown",
   "metadata": {},
   "source": [
    "Replace all 0's with the mean of the observations."
   ]
  },
  {
   "cell_type": "code",
   "execution_count": 33,
   "metadata": {},
   "outputs": [],
   "source": [
    "# obtain the mean of the data\n",
    "mu = df_sales[\"Item_Visibility\"].mean()\n",
    "\n",
    "# replace the value of 0 with mean\n",
    "df_sales.Item_Visibility.replace(0, mu, inplace = True)"
   ]
  },
  {
   "cell_type": "markdown",
   "metadata": {},
   "source": [
    "The values have been replaced check of the summary."
   ]
  },
  {
   "cell_type": "code",
   "execution_count": 34,
   "metadata": {},
   "outputs": [
    {
     "data": {
      "text/plain": [
       "count    8523.000000\n",
       "mean        0.070213\n",
       "std         0.048742\n",
       "min         0.003575\n",
       "25%         0.033085\n",
       "50%         0.062517\n",
       "75%         0.094585\n",
       "max         0.328391\n",
       "Name: Item_Visibility, dtype: float64"
      ]
     },
     "execution_count": 34,
     "metadata": {},
     "output_type": "execute_result"
    }
   ],
   "source": [
    "# display the summary \n",
    "df_sales[\"Item_Visibility\"].describe()"
   ]
  },
  {
   "cell_type": "markdown",
   "metadata": {},
   "source": [
    "### We have imputed for all the missing values in the data. \n",
    "\n",
    "We will now do a recheck of the missing data."
   ]
  },
  {
   "cell_type": "code",
   "execution_count": 35,
   "metadata": {
    "scrolled": false
   },
   "outputs": [
    {
     "data": {
      "text/plain": [
       "Item_Identifier              0\n",
       "Item_Weight                  0\n",
       "Item_Fat_Content             0\n",
       "Item_Visibility              0\n",
       "Item_Type                    0\n",
       "Item_MRP                     0\n",
       "Outlet_Identifier            0\n",
       "Outlet_Establishment_Year    0\n",
       "Outlet_Size                  0\n",
       "Outlet_Location_Type         0\n",
       "Outlet_Type                  0\n",
       "Item_Outlet_Sales            0\n",
       "Profit                       0\n",
       "dtype: int64"
      ]
     },
     "execution_count": 35,
     "metadata": {},
     "output_type": "execute_result"
    }
   ],
   "source": [
    "# use isnull() to check for missing values\n",
    "# sum(): gives the sum of missing values in each column\n",
    "missing_values = df_sales.isnull().sum()\n",
    "\n",
    "# print the missing values\n",
    "missing_values"
   ]
  },
  {
   "cell_type": "markdown",
   "metadata": {},
   "source": [
    "Let us plot a heatmap of the missing values."
   ]
  },
  {
   "cell_type": "code",
   "execution_count": 36,
   "metadata": {
    "scrolled": false
   },
   "outputs": [
    {
     "data": {
      "image/png": "[encoded data removed]",
      "text/plain": [
       "<Figure size 1080x360 with 1 Axes>"
      ]
     },
     "metadata": {
      "needs_background": "light"
     },
     "output_type": "display_data"
    }
   ],
   "source": [
    "# let us plot a heatmap of the missing values\n",
    "\n",
    "# import the required libraries\n",
    "# import the library seaborn and matplotlib\n",
    "import seaborn as sns\n",
    "import matplotlib.pyplot as plt\n",
    "%matplotlib inline\n",
    "\n",
    "# set the figure size\n",
    "plt.rcParams[\"figure.figsize\"]=[15,5]\n",
    "\n",
    "# plot a heatmap of the missing values in the data\n",
    "# cbar: specify whether to display the color index or not\n",
    "sns.heatmap(df_sales.isnull(), cbar = False)\n",
    "\n",
    "# display the plot\n",
    "plt.show()"
   ]
  },
  {
   "cell_type": "markdown",
   "metadata": {},
   "source": [
    "**Interpretation:** We confirm that the data has no missing values."
   ]
  },
  {
   "cell_type": "markdown",
   "metadata": {},
   "source": [
    "<a id=\"cat\"> </a>\n",
    "# 3. Handle Non-Numeric Data\n",
    "\n",
    "The data may contain numerical as well as categorical variables. Machine learning algorithms are designed to work with numerical data. Thus, it is necessary to convert the categorical variables into a numeric type. Different techniques are available to perform such conversion."
   ]
  },
  {
   "cell_type": "markdown",
   "metadata": {},
   "source": [
    "<a id=\"pandas\"> </a>\n",
    "## 3.1 One-Hot Encoding (Using Pandas)"
   ]
  },
  {
   "cell_type": "markdown",
   "metadata": {},
   "source": [
    "It is used to create dummy variables from a single categorical variable. We can create a dummy variable corresponding to each level of the categorical variable. The dummy variable contains values as '0' and '1' based on the presence or absence of the category in the corresponding observation."
   ]
  },
  {
   "cell_type": "code",
   "execution_count": null,
   "metadata": {},
   "outputs": [],
   "source": [
    "# check the categories of the variable 'Item_Type' \n",
    "\n",
    "\n",
    "\n",
    "print('Categories in Item_Type:', df_sales.Item_Type.unique())"
   ]
  },
  {
   "cell_type": "markdown",
   "metadata": {},
   "source": [
    "`Item_Type` is distributed in 16 different categories. To create 16 dummy variables corresponding to each category, perform one-hot encoding using `get_dummies` from pandas."
   ]
  },
  {
   "cell_type": "code",
   "execution_count": null,
   "metadata": {},
   "outputs": [],
   "source": [
    "# create dummy variables for 'Item_Type'\n",
    "pd.get_dummies(df_sales, columns= ['Item_Type']).head()"
   ]
  },
  {
   "cell_type": "markdown",
   "metadata": {},
   "source": [
    "We have created 16 dummy encoded variables from the categorical variable `Item_Type`. In the $1^{st}$ observation, value '1' is present in the column `Item_Type_Dairy\t`, while all other dummy variables have value '0'."
   ]
  },
  {
   "cell_type": "markdown",
   "metadata": {},
   "source": [
    "#### We can also create n-1 dummy variables for the 16 categories in `Item_Type` using the `drop_first` parameter."
   ]
  },
  {
   "cell_type": "code",
   "execution_count": null,
   "metadata": {},
   "outputs": [],
   "source": [
    "# create dummy variables for 'Item_Type'\n",
    "# 'drop_first = True' creates (n-1 = 15) dummy variables from (n = 16) categories \n",
    "pd.get_dummies(df_sales, columns= ['Item_Type'], drop_first = True).head()"
   ]
  },
  {
   "cell_type": "markdown",
   "metadata": {},
   "source": [
    "The above data frame contains 15 dummy variables for 16 categories of `Item_Type`. The 0 indicates non-existance of the item type while 1 indicates existance of the item type."
   ]
  },
  {
   "cell_type": "markdown",
   "metadata": {},
   "source": [
    "<a id=\"onehot\"> </a>\n",
    "## 3.2 One-Hot Encoding (Using Sklearn)"
   ]
  },
  {
   "cell_type": "markdown",
   "metadata": {},
   "source": [
    "sklearn also provides a function to perform a one-hot encoding of the categorical variable. Let us use 'OneHotEncoder' from skelarn to encode the variable `Outlet_Type`."
   ]
  },
  {
   "cell_type": "code",
   "execution_count": null,
   "metadata": {},
   "outputs": [],
   "source": [
    "# import the OneHotEncoder\n",
    "from sklearn.preprocessing import OneHotEncoder\n",
    "\n",
    "# creating instance of one-hot-encoder\n",
    "encode = OneHotEncoder()\n",
    "\n",
    "# fit_transform: It returns a sparse array\n",
    "# .toarray(): It returns a numpy array\n",
    "df_encode = pd.DataFrame(encode.fit_transform(df_sales[['Outlet_Type']]).toarray(), columns = ['Grocery Store', 'Supermarket Type1', \n",
    "                                                                                         'Supermarket Type2', 'Supermarket Type3'])\n",
    "\n",
    "\n",
    "\n",
    "# merge with main dataframe (df_sales)\n",
    "df_encode = pd.concat([df_sales, df_encode], axis=1)\n",
    "\n",
    "# print 20 rows of the data\n",
    "df_encode.head()"
   ]
  },
  {
   "cell_type": "markdown",
   "metadata": {},
   "source": [
    "<a id=\"label\"> </a>\n",
    "## 3.3 Label Encoding (Using Sklearn)"
   ]
  },
  {
   "cell_type": "markdown",
   "metadata": {},
   "source": [
    "This technique labels each of the categories of the variable with values between 0 and (n-1), where 'n' is the number of distinct categories in the variable."
   ]
  },
  {
   "cell_type": "markdown",
   "metadata": {},
   "source": [
    "#### Use 'LabelEncoder' from sklearn to encode the variable `Outlet_Size`."
   ]
  },
  {
   "cell_type": "code",
   "execution_count": null,
   "metadata": {},
   "outputs": [],
   "source": [
    "# check the categories in 'Outlet_Size'\n",
    "df_sales.Outlet_Size.unique()"
   ]
  },
  {
   "cell_type": "code",
   "execution_count": null,
   "metadata": {},
   "outputs": [],
   "source": [
    "# we can not perform encoding with the variable which has missing value \n",
    "# convert the data type into string\n",
    "df_sales['Outlet_Size'] = df_sales['Outlet_Size'].astype(str)"
   ]
  },
  {
   "cell_type": "markdown",
   "metadata": {},
   "source": [
    "Now, the missing values will be considered as a separate category alongside other categories (Medium, High, Small) in the variable."
   ]
  },
  {
   "cell_type": "code",
   "execution_count": null,
   "metadata": {},
   "outputs": [],
   "source": [
    "# import the LabelEncoder\n",
    "from sklearn.preprocessing import LabelEncoder\n",
    "\n",
    "# instantiate the encoder\n",
    "labelencoder = LabelEncoder()\n",
    "\n",
    "# fit the encoder on 'Outlet_Size' \n",
    "df_sales['Label_Encoded_Outlet_Size'] = labelencoder.fit_transform(df_sales.Outlet_Size)\n",
    "\n",
    "# display first 5 observations\n",
    "df_sales.head()"
   ]
  },
  {
   "cell_type": "markdown",
   "metadata": {},
   "source": [
    "LabelEncoder has encoded the four outlet size. This method is not always useful because it assigns the order to the categories in an alphabetical manner."
   ]
  },
  {
   "cell_type": "markdown",
   "metadata": {},
   "source": [
    "<a id=\"ord\"> </a>\n",
    "## 3.4 Ordinal Encoding (Using Sklearn)"
   ]
  },
  {
   "cell_type": "markdown",
   "metadata": {},
   "source": [
    "Ordinal encoding can be used to encode the ordinal variable with the values from 0 to (n-1) for 'n' distinct categories. We can pass the order to the encoder to assign the categories in the variable. We encode the variable `Outlet_Size` using OrdinalEncoder."
   ]
  },
  {
   "cell_type": "code",
   "execution_count": null,
   "metadata": {},
   "outputs": [],
   "source": [
    "# import the OrdinalEncoder\n",
    "from sklearn.preprocessing import OrdinalEncoder\n",
    "\n",
    "# instantiate the encoder with the list of categories in the required order\n",
    "orderencoding = OrdinalEncoder(categories = [[\"Small\", \"Medium\", \"High\", \"nan\"]])\n",
    "\n",
    "# add a column of ordered labels\n",
    "# reshape(-1, 1): to rearrange the data\n",
    "df_sales['Order_Outlet_Size'] = orderencoding.fit_transform(df_sales['Outlet_Size'].values.reshape(-1,1))\n",
    "\n",
    "# display the data\n",
    "df_sales.head()"
   ]
  },
  {
   "cell_type": "markdown",
   "metadata": {},
   "source": [
    "<a id=\"freq\"> </a>\n",
    "## 3.5 Frequency Encoding (Using Sklearn)"
   ]
  },
  {
   "cell_type": "markdown",
   "metadata": {},
   "source": [
    "Frequency encoding is used to encode the values with the frequency of each category of the categorical variable. This method is not useful if the categories have the same frequency; as the encoded column will contain the same value for all the observations. "
   ]
  },
  {
   "cell_type": "markdown",
   "metadata": {},
   "source": [
    "#### Encode the variable `Item_Type` with the frequency of each category."
   ]
  },
  {
   "cell_type": "code",
   "execution_count": null,
   "metadata": {},
   "outputs": [],
   "source": [
    "# frequency encoding on 'Item_Type'\n",
    "# size of each category\n",
    "encoding = df_sales.groupby('Item_Type').size()\n",
    "\n",
    "# get frequency of each category\n",
    "encoding = encoding/len(df_sales)\n",
    "\n",
    "# encode the column\n",
    "# map(): apply encoding to each item in the variable\n",
    "# and multiply by 100\n",
    "df_sales['Freq_Encoded_Item_Type'] = df_sales.Item_Type.map(encoding)*100\n",
    "\n",
    "# print first five rows of the data\n",
    "df_sales.head()"
   ]
  },
  {
   "cell_type": "code",
   "execution_count": null,
   "metadata": {},
   "outputs": [],
   "source": [
    "# create a dataframe for 'Item_Type' and its corresponding frequency encoding\n",
    "# .unique(): to get the unique values\n",
    "pd.DataFrame(df_sales['Item_Type'].unique(), df_sales['Freq_Encoded_Item_Type'].unique(), columns= ['Item_Type'])"
   ]
  },
  {
   "cell_type": "markdown",
   "metadata": {},
   "source": [
    "**Interpretation:** From the above result,for all categories in the variable we get the percentage of occurrence for that specific category.\n",
    "The 'Fruits and Vegetables', 'Household', 'Snack Foods', and 'Frozen Foods' have the highest proportion among all the products."
   ]
  },
  {
   "cell_type": "markdown",
   "metadata": {},
   "source": [
    "<a id=\"norm\"> </a>\n",
    "# 4. Scale the Data\n",
    "\n",
    "The data may contain the variables of the different numerical scale. We scale the variable to get all the variables in the same range. With this, we can avoid a problem in which some features come to dominate solely because they tend to have larger values than others. Here, we study two techniques to normalize the data."
   ]
  },
  {
   "cell_type": "markdown",
   "metadata": {},
   "source": [
    "<a id=\"stdscale\"> </a>\n",
    "## 4.1 StandardScaler"
   ]
  },
  {
   "cell_type": "markdown",
   "metadata": {},
   "source": [
    "The StandardScaler() is present in the sklearn library that normalizes the data such that the mean is zero and standard deviation is 1. This method does not change the shape of the original distribution."
   ]
  },
  {
   "cell_type": "markdown",
   "metadata": {},
   "source": [
    "Check the minimum and maximum values of the product sales."
   ]
  },
  {
   "cell_type": "code",
   "execution_count": null,
   "metadata": {},
   "outputs": [],
   "source": [
    "# calculate the minimum and maximum values of the variable\n",
    "print(\" The minimum value of the sales:\",df_sales['Item_Outlet_Sales'].min(),\"\\n\",\n",
    "      \"The maximum value of the sales:\", df_sales['Item_Outlet_Sales'].max())"
   ]
  },
  {
   "cell_type": "markdown",
   "metadata": {},
   "source": [
    "Standardize the variable to reduce the scale of the data."
   ]
  },
  {
   "cell_type": "code",
   "execution_count": null,
   "metadata": {},
   "outputs": [],
   "source": [
    "# import StandardScaler\n",
    "from sklearn.preprocessing import StandardScaler\n",
    "\n",
    "# instantiate the standardscaler\n",
    "standard_scale = StandardScaler()\n",
    "\n",
    "# fit the StandardScaler\n",
    "df_sales['Scaled_Item_Outlet_Sales'] = standard_scale.fit_transform(df_sales[['Item_Outlet_Sales']])\n",
    "\n",
    "# calculate the minimum and maximum values of the variable\n",
    "print(\" The minimum value of the sales:\",df_sales['Scaled_Item_Outlet_Sales'].min(),\"\\n\",\n",
    "      \"The maximum value of the sales:\", df_sales['Scaled_Item_Outlet_Sales'].max())"
   ]
  },
  {
   "cell_type": "markdown",
   "metadata": {},
   "source": [
    "Plot the distribution plots to visualize the data."
   ]
  },
  {
   "cell_type": "code",
   "execution_count": null,
   "metadata": {},
   "outputs": [],
   "source": [
    "# set the figure size\n",
    "plt.rcParams[\"figure.figsize\"] = [15,8]\n",
    "\n",
    "# subplot is used to create a set of plots\n",
    "# we create a subplot of 1 row by 2 columns\n",
    "# use first column for plotting\n",
    "plt.subplot(1,2,1)\n",
    "\n",
    "# plot the distribution of original variable\n",
    "# axlabel: label the x-axis\n",
    "sns.distplot(df_sales['Item_Outlet_Sales'])\n",
    "# set label for y-axis\n",
    "plt.ylabel('Density', fontsize=15)\n",
    "# set label for x-axis\n",
    "plt.xlabel('Item Outlet Sales', fontsize=15)\n",
    "\n",
    "# we create a subplot of 1 row by 2 columns\n",
    "# use second column for plotting\n",
    "plt.subplot(1,2,2)\n",
    "\n",
    "# plot the distribution of scaled variable\n",
    "# axlabel: label the x-axis\n",
    "sns.distplot(df_sales['Scaled_Item_Outlet_Sales'])\n",
    "# set label for y-axis\n",
    "plt.ylabel('Density', fontsize=15)\n",
    "# set label for x-axis\n",
    "plt.xlabel('Scaled Item Outlet Sales', fontsize=15)\n",
    "# display the plot\n",
    "plt.show()"
   ]
  },
  {
   "cell_type": "markdown",
   "metadata": {},
   "source": [
    "**Interpretation:** The above subplots show that the distribution of the scaled and unscaled data is the same. But, the range of values is changed from (33.29, 13086.96) to (-1.26, 6.39)."
   ]
  },
  {
   "cell_type": "markdown",
   "metadata": {},
   "source": [
    "Check the mean and standard deviation of the scaled data."
   ]
  },
  {
   "cell_type": "code",
   "execution_count": null,
   "metadata": {},
   "outputs": [],
   "source": [
    "# check the mean and standard deviation of the scaled variable\n",
    "print(\"The mean of the scaled variable:\", df_sales['Scaled_Item_Outlet_Sales'].mean(),\"\\n\",\n",
    "      \"The standard deviation of the scaled variable:\", df_sales['Scaled_Item_Outlet_Sales'].std())"
   ]
  },
  {
   "cell_type": "markdown",
   "metadata": {},
   "source": [
    "**Interpretation:** It shows that the transformed data has mean = 0 and standard deviation = 1"
   ]
  },
  {
   "cell_type": "markdown",
   "metadata": {},
   "source": [
    "<a id=\"minmax\"> </a>\n",
    "## 4.2 Min-Max Normalization"
   ]
  },
  {
   "cell_type": "markdown",
   "metadata": {},
   "source": [
    "Min-max normalization is another method to normalize the data. It performs a linear transformation on the data. The normalized values will be between 0 and 1. Use the 'MinMaxScaler' from sklearn to normalize the variable."
   ]
  },
  {
   "cell_type": "code",
   "execution_count": null,
   "metadata": {},
   "outputs": [],
   "source": [
    "# import MinMaxScaler\n",
    "from sklearn.preprocessing import MinMaxScaler\n",
    "\n",
    "# instantiate the MinMaxScaler\n",
    "min_max = MinMaxScaler()\n",
    "\n",
    "# fit the MinMaxScaler\n",
    "df_sales['minmax_Item_Outlet_Sales'] = min_max.fit_transform(df_sales[['Item_Outlet_Sales']])\n",
    "\n",
    "# minimum and maximum value of the normalized variable\n",
    "df_sales['minmax_Item_Outlet_Sales'].min(), df_sales['minmax_Item_Outlet_Sales'].max()"
   ]
  },
  {
   "cell_type": "markdown",
   "metadata": {},
   "source": [
    "**Interpretation:** The range of `Item_Outlet_Sales` has changed from (33.29, 13086.9648) to (0,1)."
   ]
  },
  {
   "cell_type": "code",
   "execution_count": null,
   "metadata": {},
   "outputs": [],
   "source": [
    "# set the figure size\n",
    "plt.rcParams[\"figure.figsize\"] = [15,8]\n",
    "\n",
    "# subplot is used to create a set of plots\n",
    "# we create a subplot of 1 row by 2 columns\n",
    "# use first column for plotting\n",
    "plt.subplot(1,2,1)\n",
    "\n",
    "# plot the distribution of original variable\n",
    "# axlabel: label the x-axis\n",
    "sns.distplot(df_sales['Item_Outlet_Sales'], axlabel='Item Outlet Sales')\n",
    "# set label for y-axis\n",
    "plt.ylabel('Density', fontsize=15)\n",
    "# set label for x-axis\n",
    "plt.xlabel('Item Outlet Sales', fontsize=15)\n",
    "\n",
    "# we create a subplot of 1 row by 2 columns \n",
    "# use second column for plotting\n",
    "plt.subplot(1,2,2)\n",
    "\n",
    "# plot the distribution of scaled variable\n",
    "# axlabel: label the x-axis\n",
    "sns.distplot(df_sales['minmax_Item_Outlet_Sales'], axlabel='Scaled Item Outlet Sales')\n",
    "# set label for y-axis\n",
    "plt.ylabel('Density', fontsize=15)\n",
    "# set label for x-axis\n",
    "plt.xlabel('Scaled Item Outlet Sales', fontsize=15)\n",
    "\n",
    "# display the plot\n",
    "plt.show()"
   ]
  },
  {
   "cell_type": "markdown",
   "metadata": {},
   "source": [
    "**Interpretation:** Normalization is useful when the data has varying scales."
   ]
  },
  {
   "cell_type": "markdown",
   "metadata": {},
   "source": [
    "<a id=\"trans\"> </a>\n",
    "# 5. Transformation Techniques\n",
    "\n",
    "Different kinds of transformations can be applied to the data to change the data in the required scale or shape. Here, we learn the two transformation techniques - Log transformation and Exponential transformation."
   ]
  },
  {
   "cell_type": "markdown",
   "metadata": {},
   "source": [
    "<a id=\"log\"> </a>\n",
    "## 5.1 Log Transformation"
   ]
  },
  {
   "cell_type": "markdown",
   "metadata": {},
   "source": [
    "We have seen types of skewness that may be present in the data. Log transformation can be applied to reduce such skewness. If the data values are increasing at an exponential rate, then log transformation can transform the values such that the values will increase linearly."
   ]
  },
  {
   "cell_type": "code",
   "execution_count": null,
   "metadata": {},
   "outputs": [],
   "source": [
    "# set the figure size\n",
    "plt.rcParams[\"figure.figsize\"] = [15,8]\n",
    "\n",
    "# check the distribution of sales of the product\n",
    "# ax: create an axes object in the figure\n",
    "ax = sns.distplot(df_sales['Item_Outlet_Sales'])\n",
    "\n",
    "# set the label for x-axis\n",
    "ax.set_xlabel('Sales of the Product', fontsize=15)\n",
    "\n",
    "# coefficient of skewness \n",
    "print('Skewness:', df_sales['Item_Outlet_Sales'].skew())\n",
    "\n",
    "# set label for y-axis\n",
    "plt.ylabel('Density', fontsize=15)\n",
    "\n",
    "# display the plot\n",
    "plt.show()"
   ]
  },
  {
   "cell_type": "markdown",
   "metadata": {},
   "source": [
    "**Interpretation:** It can be seen that the variable is positively skewed with the coefficient of skewness as 1.177. Apply the log transformation to reduce the skewness in the data."
   ]
  },
  {
   "cell_type": "code",
   "execution_count": null,
   "metadata": {},
   "outputs": [],
   "source": [
    "# set the figure size\n",
    "plt.rcParams[\"figure.figsize\"] = [15,8] \n",
    "\n",
    "# apply natural log transformation (with base 'e')\n",
    "np.log(df_sales['Item_Outlet_Sales'])\n",
    "\n",
    "# coefficient of skewness of transformed data\n",
    "print('Skewness:', np.log(df_sales['Item_Outlet_Sales']).skew())\n",
    "\n",
    "# distribution of log_transformed variable\n",
    "# ax: create an axes object in the figure\n",
    "ax = sns.distplot(np.log(df_sales['Item_Outlet_Sales']))\n",
    "\n",
    "# set the label for x-axis\n",
    "ax.set_xlabel('Item Outlet Sales', fontsize=15)\n",
    "\n",
    "# set label for y-axis\n",
    "plt.ylabel('Density', fontsize=15)\n",
    "\n",
    "# display the plot\n",
    "plt.show()"
   ]
  },
  {
   "cell_type": "markdown",
   "metadata": {},
   "source": [
    "The coefficient of skewness of the log_transformed data is near zero (-0.89). The distribution plot of the transformed variable is also more interpretable than the plot with original values."
   ]
  },
  {
   "cell_type": "markdown",
   "metadata": {},
   "source": [
    "<a id=\"expo\"> </a>\n",
    "## 5.2 Exponential Transformation"
   ]
  },
  {
   "cell_type": "markdown",
   "metadata": {},
   "source": [
    "It is inverse of the log transformation. In the analysis, we sometimes may need to change the data to log scale; but for the final interpretation, we need the data in original units. In such cases, exponential transformation is used to take the 'anti-log' of the log-transformed values to get the values on the original scale."
   ]
  },
  {
   "cell_type": "markdown",
   "metadata": {},
   "source": [
    "Consider the log-transformed values of `Item_Outlet_Sales`."
   ]
  },
  {
   "cell_type": "code",
   "execution_count": null,
   "metadata": {},
   "outputs": [],
   "source": [
    "# log_transformed values\n",
    "log_Item_Outlet_Sales =  np.log(df_sales['Item_Outlet_Sales'])\n",
    "\n",
    "# set the figure size\n",
    "plt.rcParams[\"figure.figsize\"] = [15,8] \n",
    "\n",
    "# plot the distribution\n",
    "# ax: create an axes object in the figure\n",
    "ax = sns.distplot(log_Item_Outlet_Sales)\n",
    "\n",
    "# set the title\n",
    "plt.title(\"Log Transformed Item Outlet Sales\", fontsize=15)\n",
    "\n",
    "# set the label for x-axis\n",
    "ax.set_xlabel('Item Outlet Sales', fontsize=15)\n",
    "\n",
    "# set label for y-axis\n",
    "plt.ylabel('Density', fontsize=15)\n",
    "\n",
    "# display the plot\n",
    "plt.show()"
   ]
  },
  {
   "cell_type": "markdown",
   "metadata": {},
   "source": [
    "**Interpretation:** In the above plot, x-axis represents the values of outlet sales in the log scale. We want the values on the original scale. Thus, use the exponential transformation to convert the values to the original scale."
   ]
  },
  {
   "cell_type": "code",
   "execution_count": null,
   "metadata": {},
   "outputs": [],
   "source": [
    "# anti-log of 'log_Item_Outlet_Sales'\n",
    "Exp_Item_Outlet_Sales = np.exp(log_Item_Outlet_Sales)\n",
    "\n",
    "# set the figure size\n",
    "plt.rcParams[\"figure.figsize\"] = [15,8] \n",
    "\n",
    "# plot the distribution\n",
    "# ax: create an axes object in the figure\n",
    "ax = sns.distplot(Exp_Item_Outlet_Sales)\n",
    "\n",
    "# set the title\n",
    "plt.title('Exponential Transformation', fontsize=15)\n",
    "\n",
    "# set the label for x-axis\n",
    "ax.set_xlabel('Item Outlet Sales', fontsize=15)\n",
    "\n",
    "# set label for y-axis\n",
    "plt.ylabel('Density', fontsize=15)\n",
    "\n",
    "# display the plot\n",
    "plt.show()"
   ]
  },
  {
   "cell_type": "code",
   "execution_count": null,
   "metadata": {},
   "outputs": [],
   "source": [
    "# statistical summary of the data\n",
    "Exp_Item_Outlet_Sales.describe()"
   ]
  },
  {
   "cell_type": "markdown",
   "metadata": {},
   "source": [
    "After the exponential transformation, we have obtained the values for `Item_Outlet_Sales` in the original units."
   ]
  },
  {
   "cell_type": "markdown",
   "metadata": {},
   "source": [
    "#### Let us plot the original values for `Item_Outlet_Sales`, log-transformed `Item_Outlet_Sales`, and exponontial of log-transformed `Item_Outlet_Sales`."
   ]
  },
  {
   "cell_type": "code",
   "execution_count": null,
   "metadata": {},
   "outputs": [],
   "source": [
    "# set the figure size\n",
    "plt.figure(figsize=(15,8))\n",
    "\n",
    "# subplot is used to create a set of plots\n",
    "# we create a subplot of 1 rows by 3 columns \n",
    "# use first column for plotting\n",
    "plt.subplot(1,3,1)\n",
    "\n",
    "# plot the distribution of original data\n",
    "sns.distplot(df_sales['Item_Outlet_Sales'])\n",
    "# set label for x-axis\n",
    "plt.xlabel('Item Outlet Sales', fontsize=12)\n",
    "# set label for y-axis\n",
    "plt.ylabel('Density', fontsize=15)\n",
    "\n",
    "# we create a subplot of 1 row by 3 columns \n",
    "# use second column for plotting\n",
    "plt.subplot(1,3,2)\n",
    "\n",
    "# plot the distribution of log-transformed data\n",
    "sns.distplot(np.log(df_sales['Item_Outlet_Sales']))\n",
    "\n",
    "# set label for y-axis\n",
    "plt.ylabel('Density', fontsize=15)\n",
    "# set label for x-axis\n",
    "plt.xlabel('Log Transformed of Item Outlet Sales', fontsize=12)\n",
    "\n",
    "# we create a subplot of 1 row by 3 columns \n",
    "# use third column for plotting\n",
    "plt.subplot(1,3,3)\n",
    "\n",
    "# plot the distribution of the data after taking exponential of log-transformed data\n",
    "sns.distplot(Exp_Item_Outlet_Sales)\n",
    "# set label for x-axis\n",
    "plt.xlabel('Exponential of Log Transformed Item Outlet Sales', fontsize=12)\n",
    "# set label for y-axis\n",
    "plt.ylabel('Density', fontsize=15)\n",
    "\n",
    "# display the plot\n",
    "plt.show()"
   ]
  },
  {
   "cell_type": "markdown",
   "metadata": {},
   "source": [
    "**Interpretation:** It can be observed that the distribution after the exponential transformation of the log-transformed data is the distribution of the original data. Taking the exponential is equivalent to the anti-log of the log-transformed data."
   ]
  },
  {
   "cell_type": "markdown",
   "metadata": {},
   "source": [
    "**Remark:**  However, note that to reduce skewness taking transformation may not be feasible always. One can also try to reduce skewness by removing the outliers. The outlier treatment shall be dealt with the later session."
   ]
  },
  {
   "cell_type": "markdown",
   "metadata": {},
   "source": [
    "<a id=\"outliers\"></a>\n",
    "# 6. Outliers\n",
    "\n",
    "An outlier is an observation in the data that lies at an abnormal distance from other values. Presence of an outlier may skew the results. Hence it is necessary to remove them."
   ]
  },
  {
   "cell_type": "markdown",
   "metadata": {},
   "source": [
    "<a id=\"boxplot\"></a>\n",
    "## 6.1 Based on Boxplots:\n",
    "\n",
    "The boxplot() in seaborn plots a box plot of the specified data. The box represents the quartiles of the data while the whiskers extend to show the rest of the distribution. The points that are determined to be outliers are identified using  the interquartile range (IQR) method.\n",
    "\n",
    "The next section deals with IQR method."
   ]
  },
  {
   "cell_type": "code",
   "execution_count": 37,
   "metadata": {},
   "outputs": [],
   "source": [
    "# filter the numeric variables from the data\n",
    "df_num = df_sales.select_dtypes(include = np.number)"
   ]
  },
  {
   "cell_type": "code",
   "execution_count": 38,
   "metadata": {},
   "outputs": [
    {
     "data": {
      "image/png": "[encoded data removed]",
      "text/plain": [
       "<Figure size 1080x576 with 6 Axes>"
      ]
     },
     "metadata": {
      "needs_background": "light"
     },
     "output_type": "display_data"
    }
   ],
   "source": [
    "# plot the boxplot for each variable\n",
    "# subplots(): plot subplots\n",
    "# figsize(): set the figure size\n",
    "fig, ax = plt.subplots(2, 3, figsize=(15, 8))\n",
    "\n",
    "# plot the boxplot using boxplot() from seaborn\n",
    "# z: let the variable z define the boxplot\n",
    "# x: data for which the boxplot is to be plotted\n",
    "# orient: \"h\" specifies horizontal boxplot (for vertical boxplots use \"v\")\n",
    "# whis: proportion of the IQR past the low and high quartiles to extend the plot whiskers\n",
    "# ax: specifies the axes object to draw the plot onto\n",
    "# set_xlabel(): set the x-axis label\n",
    "# fontsize: sets the font size of the x-axis label\n",
    "for variable, subplot in zip(df_num.columns, ax.flatten()):\n",
    "    z = sns.boxplot(x = df_num[variable], orient = \"h\",whis=1.5 , ax=subplot) # plot the boxplot\n",
    "    z.set_xlabel(variable, fontsize = 20)                                     # set the x-axis label"
   ]
  },
  {
   "cell_type": "markdown",
   "metadata": {},
   "source": [
    "**Interpretation:** Out of the six numeric variables, variables `Item_visibility`, `Item_Outlet_Sales` and `Profit` have outliers."
   ]
  },
  {
   "cell_type": "markdown",
   "metadata": {},
   "source": [
    "<a id=\"iqr\"></a>\n",
    "## 6.2. Based on IQR"
   ]
  },
  {
   "cell_type": "code",
   "execution_count": 39,
   "metadata": {},
   "outputs": [
    {
     "name": "stdout",
     "output_type": "stream",
     "text": [
      "Item_Weight                     6.6900\n",
      "Item_Visibility                 0.0615\n",
      "Item_MRP                       91.8500\n",
      "Outlet_Establishment_Year      17.0000\n",
      "Item_Outlet_Sales            2267.0490\n",
      "Profit                          1.1500\n",
      "dtype: float64\n"
     ]
    }
   ],
   "source": [
    "# obtain the first quartile\n",
    "Q1 = df_num.quantile(0.25)\n",
    "\n",
    "# obtain the third quartile\n",
    "Q3 = df_num.quantile(0.75)\n",
    "\n",
    "# obtain the IQR\n",
    "IQR = Q3 - Q1\n",
    "\n",
    "# print the IQR\n",
    "print(IQR)"
   ]
  },
  {
   "cell_type": "code",
   "execution_count": 40,
   "metadata": {
    "scrolled": true
   },
   "outputs": [],
   "source": [
    "# filter out the outlier values\n",
    "# ~ : selects all rows which do not satisfy the condition\n",
    "# any() : returns whether any element is True over the columns\n",
    "# axis : \"1\" indicates columns should be altered (0 for 'index')\n",
    "df_sales_iqr = df_sales[~((df_sales < (Q1 - 1.5 * IQR)) |(df_sales > (Q3 + 1.5 * IQR))).any(axis=1)]"
   ]
  },
  {
   "cell_type": "markdown",
   "metadata": {},
   "source": [
    "The above DataFrame `df_sales_iqr` has outliers removed and can be further used for analysis. However, it is always a good practice to confirm whether the outliers are removed or not.\n",
    "\n",
    "In order to check, whether the outliers are removed, let us first check the shape of the data."
   ]
  },
  {
   "cell_type": "code",
   "execution_count": 41,
   "metadata": {},
   "outputs": [
    {
     "data": {
      "text/plain": [
       "(7487, 13)"
      ]
     },
     "execution_count": 41,
     "metadata": {},
     "output_type": "execute_result"
    }
   ],
   "source": [
    "# check the shape of the data\n",
    "df_sales_iqr.shape"
   ]
  },
  {
   "cell_type": "markdown",
   "metadata": {},
   "source": [
    "**Interpretation:** We see that the number of observations (rows) is reduced.\n",
    "\n",
    "Let us plot the boxplot for the three variables (containing outliers again)"
   ]
  },
  {
   "cell_type": "code",
   "execution_count": 42,
   "metadata": {
    "scrolled": false
   },
   "outputs": [
    {
     "data": {
      "image/png": "[encoded data removed]",
      "text/plain": [
       "<Figure size 1080x288 with 3 Axes>"
      ]
     },
     "metadata": {
      "needs_background": "light"
     },
     "output_type": "display_data"
    }
   ],
   "source": [
    "# consider the variables which has outliers\n",
    "variables = ['Item_Visibility', 'Item_Outlet_Sales', 'Profit']\n",
    "\n",
    "# plot the boxplot for each variable\n",
    "# subplots(): plot subplots\n",
    "# figsize(): set the figure size\n",
    "fig, ax = plt.subplots(1, 3, figsize=(15, 4))\n",
    "\n",
    "# plot the boxplot using boxplot() from seaborn\n",
    "# z: let the variable z define the boxplot\n",
    "# x: data for which the boxplot is to be plotted\n",
    "# orient: \"h\" specifies horizontal boxplot (for vertical boxplots use \"v\")\n",
    "# whis: proportion of the IQR past the low and high quartiles to extend the plot whiskers\n",
    "# ax: specifies the axes object to draw the plot onto\n",
    "# set_xlabel(): set the x-axis label\n",
    "# fontsize: set the font size of the x-axis label\n",
    "for variable, subplot in zip(df_sales_iqr[variables], ax.flatten()):\n",
    "    z = sns.boxplot(x=df_sales_iqr[variable], orient = \"h\",whis=1.5 , ax=subplot)\n",
    "    z.set_xlabel(variable, fontsize = 20)"
   ]
  },
  {
   "cell_type": "markdown",
   "metadata": {},
   "source": [
    "**Interpretation:** The outliers have been removed and the data can be used for analysis. However, note there are some more outliers present in the data. These outliers are based on the new IQR and are not removed. "
   ]
  },
  {
   "cell_type": "markdown",
   "metadata": {},
   "source": [
    "<a id=\"zscore\"></a>\n",
    "## 6.3 Based on Z-score\n",
    "\n",
    "Z-score of a value is the difference between that value and the mean, divided by the standard deviation. If the z-score greater than 3 or less than -3, indicates an outlier value."
   ]
  },
  {
   "cell_type": "code",
   "execution_count": 43,
   "metadata": {},
   "outputs": [
    {
     "data": {
      "text/plain": [
       "array([-1.12503308,  0.52034176,  0.63786854, ..., -2.30030082,\n",
       "        0.46157837,  0.69663192])"
      ]
     },
     "execution_count": 43,
     "metadata": {},
     "output_type": "execute_result"
    }
   ],
   "source": [
    "# import library scipy\n",
    "import scipy\n",
    "# from scipy import the module stats\n",
    "from scipy import stats\n",
    "\n",
    "# z-scores are defined for each observation in a variable\n",
    "# compute the z-scores using the method zscore from the scipy library \n",
    "z_scores_Profit = scipy.stats.zscore(df_num[\"Profit\"])\n",
    "\n",
    "# display the z-scores\n",
    "z_scores_Profit"
   ]
  },
  {
   "cell_type": "code",
   "execution_count": 44,
   "metadata": {},
   "outputs": [
    {
     "name": "stdout",
     "output_type": "stream",
     "text": [
      "(array([  41,   50,  144,  217,  320,  324,  406,  425,  432,  457,  546,\n",
      "        602,  607,  611,  641,  716,  761,  816,  892,  921,  926,  957,\n",
      "        960,  986, 1066, 1133, 1178, 1212, 1237, 1304, 1409, 1459, 1533,\n",
      "       1551, 1561, 1582, 1623, 1645, 1649, 1659, 1669, 1715, 1784, 1788,\n",
      "       1805, 1816, 1835, 1867, 1893, 1900, 1916, 1956, 1974, 1984, 1989,\n",
      "       2000, 2019, 2060, 2062, 2130, 2201, 2224, 2246, 2289, 2332, 2338,\n",
      "       2425, 2449, 2477, 2510, 2515, 2526, 2537, 2543, 2572, 2636, 2792,\n",
      "       2836, 2919, 2925, 2969, 2987, 2992, 2996, 3025, 3035, 3098, 3105,\n",
      "       3223, 3254, 3296, 3356, 3415, 3416, 3476, 3513, 3619, 3668, 3675,\n",
      "       3759, 3785, 3849, 3852, 3904, 3917, 3932, 3936, 3990, 4073, 4091,\n",
      "       4146, 4197, 4213, 4407, 4487, 4493, 4556, 4571, 4705, 4721, 4724,\n",
      "       4764, 4800, 5049, 5127, 5231, 5274, 5286, 5313, 5336, 5378, 5516,\n",
      "       5540, 5657, 5658, 5728, 5730, 5750, 5788, 5883, 5891, 5906, 5971,\n",
      "       5987, 6093, 6137, 6211, 6247, 6271, 6372, 6390, 6419, 6507, 6534,\n",
      "       6541, 6558, 6606, 6610, 6696, 6759, 6760, 6776, 6778, 6897, 6931,\n",
      "       6972, 7042, 7180, 7242, 7267, 7304, 7351, 7384, 7432, 7629, 7684,\n",
      "       7751, 7779, 7797, 7822, 7851, 7893, 7919, 7948, 8074, 8099, 8101,\n",
      "       8237, 8273, 8366, 8376, 8395, 8429, 8433, 8456]),)\n"
     ]
    }
   ],
   "source": [
    "# print the rows where z-score is less than -3\n",
    "row_index_less = np.where(z_scores_Profit < -3)\n",
    "\n",
    "# print the values\n",
    "print(row_index_less)"
   ]
  },
  {
   "cell_type": "markdown",
   "metadata": {},
   "source": [
    "**Interpretation:** The rows corresponding to the above displayed index are the outliers for the data."
   ]
  },
  {
   "cell_type": "code",
   "execution_count": 45,
   "metadata": {},
   "outputs": [
    {
     "name": "stdout",
     "output_type": "stream",
     "text": [
      "(array([3026, 4386, 5089, 8369]),)\n"
     ]
    }
   ],
   "source": [
    "# print the rows where z-score is more than 3\n",
    "row_index_more = np.where(z_scores_Profit > 3)\n",
    "\n",
    "# print the values more than the \n",
    "print(row_index_more)"
   ]
  },
  {
   "cell_type": "markdown",
   "metadata": {},
   "source": [
    "**Interpretation:** The rows corresponding to the above displayed index are the outliers for the data."
   ]
  },
  {
   "cell_type": "code",
   "execution_count": 46,
   "metadata": {
    "scrolled": true
   },
   "outputs": [
    {
     "data": {
      "text/plain": [
       "199"
      ]
     },
     "execution_count": 46,
     "metadata": {},
     "output_type": "execute_result"
    }
   ],
   "source": [
    "# count of outliers in the variable representing profit\n",
    "len(row_index_less[0]) + len(row_index_more[0])"
   ]
  },
  {
   "cell_type": "markdown",
   "metadata": {},
   "source": [
    "**Interpretation:** There are 199 outliers in the data."
   ]
  },
  {
   "cell_type": "code",
   "execution_count": 47,
   "metadata": {},
   "outputs": [],
   "source": [
    "# filter out the outlier values\n",
    "# ~ : selects all rows which do not satisfy the condition\n",
    "df_sales_zscore = df_sales[\"Profit\"][~(( z_scores_Profit < -3) |(z_scores_Profit > 3))]"
   ]
  },
  {
   "cell_type": "code",
   "execution_count": 48,
   "metadata": {},
   "outputs": [
    {
     "data": {
      "text/plain": [
       "(8324,)"
      ]
     },
     "execution_count": 48,
     "metadata": {},
     "output_type": "execute_result"
    }
   ],
   "source": [
    "# check the shape \n",
    "df_sales_zscore.shape"
   ]
  },
  {
   "cell_type": "markdown",
   "metadata": {},
   "source": [
    "<a id=\"scatter\"></a>\n",
    "## 6.4 Based on Scatter Plots\n",
    "\n",
    "\n",
    "A scatter plot is primarily used to observe and showcase relationships between two numeric variables. They showcase the trends and patterns such as: positive, negative, linear or nonlinear. However, scatter plots can also be used to identify outliers.\n",
    "\n",
    "<br>\n",
    "We shall now plot a scatter plot between variables profit and outlet sales."
   ]
  },
  {
   "cell_type": "code",
   "execution_count": 49,
   "metadata": {},
   "outputs": [
    {
     "data": {
      "image/png": "[encoded data removed]",
      "text/plain": [
       "<Figure size 1080x576 with 1 Axes>"
      ]
     },
     "metadata": {
      "needs_background": "light"
     },
     "output_type": "display_data"
    }
   ],
   "source": [
    "# initialize the figure \n",
    "# figsize: set the plot size\n",
    "fig, ax = plt.subplots(figsize=(15,8))\n",
    "\n",
    "# plot the scatter plot\n",
    "ax.scatter(df_sales[\"Profit\"], df_sales[\"Item_Outlet_Sales\"])\n",
    "\n",
    "# set the x-axis label\n",
    "# fontsize: set the font size of the label\n",
    "ax.set_xlabel(\"Profit earned (in %)\", fontsize = 15)\n",
    "\n",
    "# set the y-axis label\n",
    "# fontsize: set the font size of the label\n",
    "ax.set_ylabel('')\n",
    "plt.show()"
   ]
  },
  {
   "cell_type": "markdown",
   "metadata": {},
   "source": [
    "**Interpretation:** The values to the right of the graph beyond 15% of the profit earned can be considered as outliers."
   ]
  },
  {
   "cell_type": "code",
   "execution_count": 50,
   "metadata": {},
   "outputs": [],
   "source": [
    "# include values having points less than 15\n",
    "df_sales_scatterplot = df_sales[df_sales[\"Profit\"]<15]"
   ]
  },
  {
   "cell_type": "markdown",
   "metadata": {},
   "source": [
    "Now let us plot the scatter plot of the data with no outliers."
   ]
  },
  {
   "cell_type": "code",
   "execution_count": 51,
   "metadata": {},
   "outputs": [
    {
     "data": {
      "image/png": "[encoded data removed]",
      "text/plain": [
       "<Figure size 1080x576 with 1 Axes>"
      ]
     },
     "metadata": {
      "needs_background": "light"
     },
     "output_type": "display_data"
    }
   ],
   "source": [
    "# initialize the figure \n",
    "# figsize: set the plot size\n",
    "fig, ax = plt.subplots(figsize=(15,8))\n",
    "\n",
    "# plot the scatter plot\n",
    "ax.scatter(df_sales_scatterplot[\"Profit\"], df_sales_scatterplot[\"Item_Outlet_Sales\"])\n",
    "\n",
    "# set the x-axis label\n",
    "# fontsize: set the font size of the label\n",
    "ax.set_xlabel(\"Profit earned (in %)\", fontsize = 15)\n",
    "\n",
    "# set the y-axis label\n",
    "# fontsize: set the font size of the label\n",
    "ax.set_ylabel('')\n",
    "plt.show()"
   ]
  },
  {
   "cell_type": "markdown",
   "metadata": {},
   "source": [
    "<a id=\"feature_engineering\"></a>\n",
    "# 7. Feature Engineering\n",
    "\n",
    "\n"
   ]
  },
  {
   "cell_type": "markdown",
   "metadata": {},
   "source": [
    "1. Let us determine the age of the outlet in the dataset."
   ]
  },
  {
   "cell_type": "code",
   "execution_count": 52,
   "metadata": {},
   "outputs": [],
   "source": [
    "# import the required libraries\n",
    "import datetime\n",
    "from datetime import date\n",
    "\n",
    "# get the current year\n",
    "# today(): gives today's date\n",
    "# year: gives the current year\n",
    "current_year = date.today().year\n",
    "\n",
    "df_sales[\"Age_Outlet\"] = current_year - df_sales[\"Outlet_Establishment_Year\"]"
   ]
  },
  {
   "cell_type": "code",
   "execution_count": 53,
   "metadata": {
    "scrolled": true
   },
   "outputs": [
    {
     "data": {
      "text/html": [
       "<div>\n",
       "<style scoped>\n",
       "    .dataframe tbody tr th:only-of-type {\n",
       "        vertical-align: middle;\n",
       "    }\n",
       "\n",
       "    .dataframe tbody tr th {\n",
       "        vertical-align: top;\n",
       "    }\n",
       "\n",
       "    .dataframe thead th {\n",
       "        text-align: right;\n",
       "    }\n",
       "</style>\n",
       "<table border=\"1\" class=\"dataframe\">\n",
       "  <thead>\n",
       "    <tr style=\"text-align: right;\">\n",
       "      <th></th>\n",
       "      <th>Item_Identifier</th>\n",
       "      <th>Item_Weight</th>\n",
       "      <th>Item_Fat_Content</th>\n",
       "      <th>Item_Visibility</th>\n",
       "      <th>Item_Type</th>\n",
       "      <th>Item_MRP</th>\n",
       "      <th>Outlet_Identifier</th>\n",
       "      <th>Outlet_Establishment_Year</th>\n",
       "      <th>Outlet_Size</th>\n",
       "      <th>Outlet_Location_Type</th>\n",
       "      <th>Outlet_Type</th>\n",
       "      <th>Item_Outlet_Sales</th>\n",
       "      <th>Profit</th>\n",
       "      <th>Age_Outlet</th>\n",
       "    </tr>\n",
       "  </thead>\n",
       "  <tbody>\n",
       "    <tr>\n",
       "      <td>0</td>\n",
       "      <td>FDA15</td>\n",
       "      <td>9.30</td>\n",
       "      <td>Low Fat</td>\n",
       "      <td>0.016047</td>\n",
       "      <td>Dairy</td>\n",
       "      <td>249.8</td>\n",
       "      <td>OUT049</td>\n",
       "      <td>1999</td>\n",
       "      <td>Medium</td>\n",
       "      <td>Tier 2</td>\n",
       "      <td>Supermarket Type1</td>\n",
       "      <td>3735.1380</td>\n",
       "      <td>11.5</td>\n",
       "      <td>21</td>\n",
       "    </tr>\n",
       "    <tr>\n",
       "      <td>1</td>\n",
       "      <td>DRC01</td>\n",
       "      <td>5.92</td>\n",
       "      <td>Regular</td>\n",
       "      <td>0.019278</td>\n",
       "      <td>Soft Drinks</td>\n",
       "      <td>48.3</td>\n",
       "      <td>OUT018</td>\n",
       "      <td>2009</td>\n",
       "      <td>Medium</td>\n",
       "      <td>Tier 2</td>\n",
       "      <td>Supermarket Type2</td>\n",
       "      <td>443.4228</td>\n",
       "      <td>14.3</td>\n",
       "      <td>11</td>\n",
       "    </tr>\n",
       "    <tr>\n",
       "      <td>2</td>\n",
       "      <td>FDN15</td>\n",
       "      <td>17.50</td>\n",
       "      <td>Low Fat</td>\n",
       "      <td>0.016760</td>\n",
       "      <td>Meat</td>\n",
       "      <td>141.6</td>\n",
       "      <td>OUT049</td>\n",
       "      <td>1999</td>\n",
       "      <td>Medium</td>\n",
       "      <td>Tier 2</td>\n",
       "      <td>Supermarket Type1</td>\n",
       "      <td>2097.2700</td>\n",
       "      <td>14.5</td>\n",
       "      <td>21</td>\n",
       "    </tr>\n",
       "  </tbody>\n",
       "</table>\n",
       "</div>"
      ],
      "text/plain": [
       "  Item_Identifier  Item_Weight Item_Fat_Content  Item_Visibility    Item_Type  \\\n",
       "0           FDA15         9.30          Low Fat         0.016047        Dairy   \n",
       "1           DRC01         5.92          Regular         0.019278  Soft Drinks   \n",
       "2           FDN15        17.50          Low Fat         0.016760         Meat   \n",
       "\n",
       "   Item_MRP Outlet_Identifier  Outlet_Establishment_Year Outlet_Size  \\\n",
       "0     249.8            OUT049                       1999      Medium   \n",
       "1      48.3            OUT018                       2009      Medium   \n",
       "2     141.6            OUT049                       1999      Medium   \n",
       "\n",
       "  Outlet_Location_Type        Outlet_Type  Item_Outlet_Sales  Profit  \\\n",
       "0               Tier 2  Supermarket Type1          3735.1380    11.5   \n",
       "1               Tier 2  Supermarket Type2           443.4228    14.3   \n",
       "2               Tier 2  Supermarket Type1          2097.2700    14.5   \n",
       "\n",
       "   Age_Outlet  \n",
       "0          21  \n",
       "1          11  \n",
       "2          21  "
      ]
     },
     "execution_count": 53,
     "metadata": {},
     "output_type": "execute_result"
    }
   ],
   "source": [
    "# display head of the data\n",
    "df_sales.head(3)"
   ]
  },
  {
   "cell_type": "markdown",
   "metadata": {},
   "source": [
    "2. Create a new variable representing the food type"
   ]
  },
  {
   "cell_type": "code",
   "execution_count": 54,
   "metadata": {},
   "outputs": [
    {
     "data": {
      "text/plain": [
       "Food              6125\n",
       "Non-Consumable    1599\n",
       "Drinks             799\n",
       "Name: Product_type, dtype: int64"
      ]
     },
     "execution_count": 54,
     "metadata": {},
     "output_type": "execute_result"
    }
   ],
   "source": [
    "# extract the first two letter of 'Item_Identifier'\n",
    "# apply: applies a function along an axis of the DataFrame\n",
    "# lambda: creates a small, one-time, anonymous function to extract the first two letters \n",
    "# indexing in python begins with 0\n",
    "df_sales['Product_type'] = df_sales['Item_Identifier'].apply(lambda x: x[0:2])\n",
    "\n",
    "# rename the categories \n",
    "# map: maps the category names to the identifier codes\n",
    "df_sales['Product_type'] = df_sales['Product_type'].map({'FD':'Food','NC':'Non-Consumable', 'DR':'Drinks'})\n",
    "\n",
    "# display the counts\n",
    "df_sales['Product_type'].value_counts()"
   ]
  },
  {
   "cell_type": "markdown",
   "metadata": {},
   "source": [
    "Display the head of the data again to ensure the variable is added."
   ]
  },
  {
   "cell_type": "code",
   "execution_count": 55,
   "metadata": {},
   "outputs": [
    {
     "data": {
      "text/html": [
       "<div>\n",
       "<style scoped>\n",
       "    .dataframe tbody tr th:only-of-type {\n",
       "        vertical-align: middle;\n",
       "    }\n",
       "\n",
       "    .dataframe tbody tr th {\n",
       "        vertical-align: top;\n",
       "    }\n",
       "\n",
       "    .dataframe thead th {\n",
       "        text-align: right;\n",
       "    }\n",
       "</style>\n",
       "<table border=\"1\" class=\"dataframe\">\n",
       "  <thead>\n",
       "    <tr style=\"text-align: right;\">\n",
       "      <th></th>\n",
       "      <th>Item_Identifier</th>\n",
       "      <th>Item_Weight</th>\n",
       "      <th>Item_Fat_Content</th>\n",
       "      <th>Item_Visibility</th>\n",
       "      <th>Item_Type</th>\n",
       "      <th>Item_MRP</th>\n",
       "      <th>Outlet_Identifier</th>\n",
       "      <th>Outlet_Establishment_Year</th>\n",
       "      <th>Outlet_Size</th>\n",
       "      <th>Outlet_Location_Type</th>\n",
       "      <th>Outlet_Type</th>\n",
       "      <th>Item_Outlet_Sales</th>\n",
       "      <th>Profit</th>\n",
       "      <th>Age_Outlet</th>\n",
       "      <th>Product_type</th>\n",
       "    </tr>\n",
       "  </thead>\n",
       "  <tbody>\n",
       "    <tr>\n",
       "      <td>0</td>\n",
       "      <td>FDA15</td>\n",
       "      <td>9.30</td>\n",
       "      <td>Low Fat</td>\n",
       "      <td>0.016047</td>\n",
       "      <td>Dairy</td>\n",
       "      <td>249.8</td>\n",
       "      <td>OUT049</td>\n",
       "      <td>1999</td>\n",
       "      <td>Medium</td>\n",
       "      <td>Tier 2</td>\n",
       "      <td>Supermarket Type1</td>\n",
       "      <td>3735.1380</td>\n",
       "      <td>11.5</td>\n",
       "      <td>21</td>\n",
       "      <td>Food</td>\n",
       "    </tr>\n",
       "    <tr>\n",
       "      <td>1</td>\n",
       "      <td>DRC01</td>\n",
       "      <td>5.92</td>\n",
       "      <td>Regular</td>\n",
       "      <td>0.019278</td>\n",
       "      <td>Soft Drinks</td>\n",
       "      <td>48.3</td>\n",
       "      <td>OUT018</td>\n",
       "      <td>2009</td>\n",
       "      <td>Medium</td>\n",
       "      <td>Tier 2</td>\n",
       "      <td>Supermarket Type2</td>\n",
       "      <td>443.4228</td>\n",
       "      <td>14.3</td>\n",
       "      <td>11</td>\n",
       "      <td>Drinks</td>\n",
       "    </tr>\n",
       "    <tr>\n",
       "      <td>2</td>\n",
       "      <td>FDN15</td>\n",
       "      <td>17.50</td>\n",
       "      <td>Low Fat</td>\n",
       "      <td>0.016760</td>\n",
       "      <td>Meat</td>\n",
       "      <td>141.6</td>\n",
       "      <td>OUT049</td>\n",
       "      <td>1999</td>\n",
       "      <td>Medium</td>\n",
       "      <td>Tier 2</td>\n",
       "      <td>Supermarket Type1</td>\n",
       "      <td>2097.2700</td>\n",
       "      <td>14.5</td>\n",
       "      <td>21</td>\n",
       "      <td>Food</td>\n",
       "    </tr>\n",
       "    <tr>\n",
       "      <td>3</td>\n",
       "      <td>FDX07</td>\n",
       "      <td>19.20</td>\n",
       "      <td>Regular</td>\n",
       "      <td>0.066132</td>\n",
       "      <td>Fruits and Vegetables</td>\n",
       "      <td>182.1</td>\n",
       "      <td>OUT010</td>\n",
       "      <td>1998</td>\n",
       "      <td>Medium</td>\n",
       "      <td>Tier1</td>\n",
       "      <td>Grocery Store</td>\n",
       "      <td>732.3800</td>\n",
       "      <td>13.6</td>\n",
       "      <td>22</td>\n",
       "      <td>Food</td>\n",
       "    </tr>\n",
       "    <tr>\n",
       "      <td>4</td>\n",
       "      <td>NCD19</td>\n",
       "      <td>8.93</td>\n",
       "      <td>Low Fat</td>\n",
       "      <td>0.066132</td>\n",
       "      <td>Household</td>\n",
       "      <td>53.9</td>\n",
       "      <td>OUT013</td>\n",
       "      <td>1987</td>\n",
       "      <td>High</td>\n",
       "      <td>Tier 3</td>\n",
       "      <td>Supermarket Type1</td>\n",
       "      <td>994.7052</td>\n",
       "      <td>14.1</td>\n",
       "      <td>33</td>\n",
       "      <td>Non-Consumable</td>\n",
       "    </tr>\n",
       "  </tbody>\n",
       "</table>\n",
       "</div>"
      ],
      "text/plain": [
       "  Item_Identifier  Item_Weight Item_Fat_Content  Item_Visibility  \\\n",
       "0           FDA15         9.30          Low Fat         0.016047   \n",
       "1           DRC01         5.92          Regular         0.019278   \n",
       "2           FDN15        17.50          Low Fat         0.016760   \n",
       "3           FDX07        19.20          Regular         0.066132   \n",
       "4           NCD19         8.93          Low Fat         0.066132   \n",
       "\n",
       "               Item_Type  Item_MRP Outlet_Identifier  \\\n",
       "0                  Dairy     249.8            OUT049   \n",
       "1            Soft Drinks      48.3            OUT018   \n",
       "2                   Meat     141.6            OUT049   \n",
       "3  Fruits and Vegetables     182.1            OUT010   \n",
       "4              Household      53.9            OUT013   \n",
       "\n",
       "   Outlet_Establishment_Year Outlet_Size Outlet_Location_Type  \\\n",
       "0                       1999      Medium               Tier 2   \n",
       "1                       2009      Medium               Tier 2   \n",
       "2                       1999      Medium               Tier 2   \n",
       "3                       1998      Medium                Tier1   \n",
       "4                       1987        High               Tier 3   \n",
       "\n",
       "         Outlet_Type  Item_Outlet_Sales  Profit  Age_Outlet    Product_type  \n",
       "0  Supermarket Type1          3735.1380    11.5          21            Food  \n",
       "1  Supermarket Type2           443.4228    14.3          11          Drinks  \n",
       "2  Supermarket Type1          2097.2700    14.5          21            Food  \n",
       "3      Grocery Store           732.3800    13.6          22            Food  \n",
       "4  Supermarket Type1           994.7052    14.1          33  Non-Consumable  "
      ]
     },
     "execution_count": 55,
     "metadata": {},
     "output_type": "execute_result"
    }
   ],
   "source": [
    "df_sales.head()"
   ]
  },
  {
   "cell_type": "markdown",
   "metadata": {},
   "source": [
    "<a id=\"train_test_split\"></a>\n",
    "# 8. Introduction to Train and Test split\n",
    "\n"
   ]
  },
  {
   "cell_type": "markdown",
   "metadata": {},
   "source": [
    "Split the data into the train and test sets."
   ]
  },
  {
   "cell_type": "code",
   "execution_count": 56,
   "metadata": {},
   "outputs": [],
   "source": [
    "#import the sklearn library\n",
    "import sklearn\n",
    "\n",
    "# import the train_test_split module from sklearn \n",
    "from sklearn.model_selection import train_test_split"
   ]
  },
  {
   "cell_type": "code",
   "execution_count": 57,
   "metadata": {},
   "outputs": [],
   "source": [
    "# select the target variable\n",
    "Y = df_sales['Item_Outlet_Sales']\n",
    "\n",
    "# select all the independent variables\n",
    "# by dropping the target variable\n",
    "X = df_sales.drop(['Item_Outlet_Sales'], axis = 1)"
   ]
  },
  {
   "cell_type": "code",
   "execution_count": 58,
   "metadata": {},
   "outputs": [
    {
     "name": "stdout",
     "output_type": "stream",
     "text": [
      "X_train  (6392, 14)\n",
      "X_test  (2131, 14)\n",
      "Y_train  (6392,)\n",
      "Y_test  (2131,)\n"
     ]
    }
   ],
   "source": [
    "# let us now split the dataset into train & test\n",
    "# test_size: the proportion of data to be included in the testing set\n",
    "X_train, X_test, Y_train, Y_test = train_test_split(X, Y, test_size = 0.25, random_state=100)\n",
    "\n",
    "# print the shape of 'x_train'\n",
    "print(\"X_train \",X_train.shape)\n",
    "\n",
    "# print the shape of 'x_test'\n",
    "print(\"X_test \",X_test.shape)\n",
    "\n",
    "# print the shape of 'y_train'\n",
    "print(\"Y_train \",Y_train.shape)\n",
    "\n",
    "# print the shape of 'y_test'\n",
    "print(\"Y_test \",Y_test.shape)"
   ]
  },
  {
   "cell_type": "markdown",
   "metadata": {},
   "source": [
    "Thus we get our train and test split. Also ensure the train test split are passed in the order - X_train, X_test, Y_train, Y_test - to get the correct split."
   ]
  }
 ],
 "metadata": {
  "kernelspec": {
   "display_name": "Python 3 (ipykernel)",
   "language": "python",
   "name": "python3"
  },
  "language_info": {
   "codemirror_mode": {
    "name": "ipython",
    "version": 3
   },
   "file_extension": ".py",
   "mimetype": "text/x-python",
   "name": "python",
   "nbconvert_exporter": "python",
   "pygments_lexer": "ipython3",
   "version": "3.11.5"
  }
 },
 "nbformat": 4,
 "nbformat_minor": 2
}
