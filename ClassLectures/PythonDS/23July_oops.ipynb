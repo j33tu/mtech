{
 "cells": [
  {
   "cell_type": "markdown",
   "id": "19bfb3b2",
   "metadata": {},
   "source": [
    "# object oriented programming"
   ]
  },
  {
   "cell_type": "code",
   "execution_count": 1,
   "id": "4ac21337",
   "metadata": {},
   "outputs": [],
   "source": [
    "#encapsulation ; combine function inside class and parameters inside oject .class"
   ]
  },
  {
   "cell_type": "code",
   "execution_count": 26,
   "id": "388e22ef",
   "metadata": {},
   "outputs": [
    {
     "name": "stdout",
     "output_type": "stream",
     "text": [
      "(10:10)\n"
     ]
    }
   ],
   "source": [
    "#constructors : when objects getting constructed\n",
    "#print non string \n",
    "#magic methods\n",
    "#dir(list) \n",
    "\n",
    "class Point:\n",
    "    def __init__(self,ux=0,uy=0):\n",
    "        self.x=ux\n",
    "        self.y=uy\n",
    "    def __str__(self):\n",
    "        ns1=\"({}:{})\".format(self.x,self.y)\n",
    "        return ns1\n",
    "p=Point(10,10)\n",
    "\n",
    "print(p)"
   ]
  },
  {
   "cell_type": "code",
   "execution_count": 27,
   "id": "4a04b775",
   "metadata": {},
   "outputs": [],
   "source": [
    "#point and rectagle find the top right most pointers by calculating using class and object"
   ]
  },
  {
   "cell_type": "code",
   "execution_count": 18,
   "id": "9529f558",
   "metadata": {},
   "outputs": [
    {
     "ename": "AttributeError",
     "evalue": "'rectangle' object has no attribute 'height'",
     "output_type": "error",
     "traceback": [
      "\u001b[0;31m---------------------------------------------------------------------------\u001b[0m",
      "\u001b[0;31mAttributeError\u001b[0m                            Traceback (most recent call last)",
      "Cell \u001b[0;32mIn[18], line 13\u001b[0m\n\u001b[1;32m     11\u001b[0m       \u001b[38;5;28mself\u001b[39m\u001b[38;5;241m.\u001b[39mcp\u001b[38;5;241m=\u001b[39mpoint(ucpx,ucpy)\n\u001b[1;32m     12\u001b[0m r1\u001b[38;5;241m=\u001b[39mrectangle()\n\u001b[0;32m---> 13\u001b[0m \u001b[38;5;28mprint\u001b[39m(\u001b[43mr1\u001b[49m\u001b[38;5;241;43m.\u001b[39;49m\u001b[43mheight\u001b[49m)\n",
      "\u001b[0;31mAttributeError\u001b[0m: 'rectangle' object has no attribute 'height'"
     ]
    }
   ],
   "source": [
    "class point:\n",
    "    def __init__(self, ux=0,uy=0):\n",
    "        self.x=ux\n",
    "        self.y=uy\n",
    "p1=point(10,20);\n",
    "    \n",
    "class rectangle:\n",
    "    def __init_(self,uh=100,uw=200,ucpx=0,ucpy=0):\n",
    "      self.height=int(uh)\n",
    "      self.width = iw\n",
    "      self.cp=point(ucpx,ucpy)\n",
    "r1=rectangle()\n",
    "print(r1.height)"
   ]
  },
  {
   "cell_type": "code",
   "execution_count": null,
   "id": "d009a291",
   "metadata": {},
   "outputs": [],
   "source": [
    "#inheritance : \n"
   ]
  }
 ],
 "metadata": {
  "kernelspec": {
   "display_name": "Python 3 (ipykernel)",
   "language": "python",
   "name": "python3"
  },
  "language_info": {
   "codemirror_mode": {
    "name": "ipython",
    "version": 3
   },
   "file_extension": ".py",
   "mimetype": "text/x-python",
   "name": "python",
   "nbconvert_exporter": "python",
   "pygments_lexer": "ipython3",
   "version": "3.10.9"
  }
 },
 "nbformat": 4,
 "nbformat_minor": 5
}
