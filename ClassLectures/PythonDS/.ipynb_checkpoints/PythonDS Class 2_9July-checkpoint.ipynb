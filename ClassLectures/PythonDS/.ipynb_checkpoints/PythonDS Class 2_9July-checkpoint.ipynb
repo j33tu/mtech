{
 "cells": [
  {
   "cell_type": "markdown",
   "id": "8cc4550d",
   "metadata": {},
   "source": [
    "# Else If  conditionas loops"
   ]
  },
  {
   "cell_type": "code",
   "execution_count": 1,
   "id": "093651aa",
   "metadata": {},
   "outputs": [
    {
     "name": "stdout",
     "output_type": "stream",
     "text": [
      "kindly provide your our marks:  54\n",
      "Highchool result live now see below for your roll number \n"
     ]
    },
    {
     "data": {
      "text/plain": [
       "(54, 'pass', 46)"
      ]
     },
     "execution_count": 1,
     "metadata": {},
     "output_type": "execute_result"
    }
   ],
   "source": [
    "#else if condition loops\n",
    "def gradecheck():\n",
    "    marks=int(input('kindly provide your our marks:  '))\n",
    "    result = (marks,'distinction',100-marks) if marks > 80 else (marks,'pass',100-marks)  if  marks > 40 and marks < 80 else (marks,'failed',40-marks) \n",
    "    print(\"Highchool result live now see below for your roll number \")\n",
    "    return result\n",
    "gradecheck()\n",
    "\n"
   ]
  },
  {
   "cell_type": "code",
   "execution_count": 7,
   "id": "737f0646",
   "metadata": {},
   "outputs": [
    {
     "name": "stdout",
     "output_type": "stream",
     "text": [
      "provide marks  that you got22\n",
      "22\n"
     ]
    }
   ],
   "source": [
    "marksinput = int(input(\"provide marks  that you got\"))\n",
    "print(marksinput)"
   ]
  },
  {
   "cell_type": "code",
   "execution_count": 9,
   "id": "fa03fda2",
   "metadata": {},
   "outputs": [
    {
     "name": "stdout",
     "output_type": "stream",
     "text": [
      "provide temp in area22\n"
     ]
    },
    {
     "data": {
      "text/plain": [
       "'cold'"
      ]
     },
     "execution_count": 9,
     "metadata": {},
     "output_type": "execute_result"
    }
   ],
   "source": [
    "def tempcheck():\n",
    "    temp = int(input(\"provide temp in area\"))\n",
    "    result = 'hot' if temp > 90 else 'cold' if temp < 60 else 'ok'\n",
    "    return result\n",
    "tempcheck()"
   ]
  },
  {
   "cell_type": "code",
   "execution_count": 47,
   "id": "20e45a1a",
   "metadata": {},
   "outputs": [
    {
     "name": "stdout",
     "output_type": "stream",
     "text": [
      "provide marks  that you got70\n"
     ]
    },
    {
     "data": {
      "text/plain": [
       "(70, 'passed', 30)"
      ]
     },
     "execution_count": 47,
     "metadata": {},
     "output_type": "execute_result"
    }
   ],
   "source": [
    "def gradechck():\n",
    "    maxmarks=100\n",
    "    marks = int(input(\"provide marks  that you got\"))\n",
    "    result = (marks,'passed',100 - marks) if marks > 40  else (marks,'failed',40 - marks) \n",
    "    return result\n",
    "gradechck()"
   ]
  },
  {
   "cell_type": "markdown",
   "id": "cb8a1706",
   "metadata": {},
   "source": [
    "# Range"
   ]
  },
  {
   "cell_type": "code",
   "execution_count": 16,
   "id": "1cd33cbc",
   "metadata": {},
   "outputs": [
    {
     "name": "stdout",
     "output_type": "stream",
     "text": [
      "range(0, 10)\n"
     ]
    },
    {
     "data": {
      "text/plain": [
       "[20, 23, 26, 29, 32, 35, 38]"
      ]
     },
     "execution_count": 16,
     "metadata": {},
     "output_type": "execute_result"
    }
   ],
   "source": [
    "r = range(10)\n",
    "print(r)\n",
    "list(range(20,40,3))"
   ]
  },
  {
   "cell_type": "code",
   "execution_count": 20,
   "id": "84c7ec69",
   "metadata": {},
   "outputs": [
    {
     "data": {
      "text/plain": [
       "8056"
      ]
     },
     "execution_count": 20,
     "metadata": {},
     "output_type": "execute_result"
    }
   ],
   "source": [
    "mylist1=list(range(0,1000,1))\n",
    "len(mylist1)\n",
    "import sys\n",
    "sys.getsizeof(mylist1)"
   ]
  },
  {
   "cell_type": "code",
   "execution_count": 22,
   "id": "814ca337",
   "metadata": {},
   "outputs": [
    {
     "data": {
      "text/plain": [
       "80056"
      ]
     },
     "execution_count": 22,
     "metadata": {},
     "output_type": "execute_result"
    }
   ],
   "source": [
    "mylist1=list(range(0,10000,1))\n",
    "len(mylist1)\n",
    "import sys\n",
    "sys.getsizeof(mylist1)"
   ]
  },
  {
   "cell_type": "code",
   "execution_count": 24,
   "id": "f2bb6e95",
   "metadata": {},
   "outputs": [
    {
     "data": {
      "text/plain": [
       "48"
      ]
     },
     "execution_count": 24,
     "metadata": {},
     "output_type": "execute_result"
    }
   ],
   "source": [
    "sys.getsizeof(range(0,10000,1))"
   ]
  },
  {
   "cell_type": "code",
   "execution_count": 26,
   "id": "d2f8326a",
   "metadata": {},
   "outputs": [
    {
     "name": "stdout",
     "output_type": "stream",
     "text": [
      "1\n",
      "2\n",
      "3\n",
      "4\n",
      "5\n",
      "6\n",
      "7\n",
      "8\n",
      "9\n"
     ]
    }
   ],
   "source": [
    "#range (start value, end value , step size ) its generator of Data \n",
    "for i in range(1,10):\n",
    "    print(i)"
   ]
  },
  {
   "cell_type": "code",
   "execution_count": 49,
   "id": "eb31551d",
   "metadata": {},
   "outputs": [
    {
     "data": {
      "text/plain": [
       "80056"
      ]
     },
     "execution_count": 49,
     "metadata": {},
     "output_type": "execute_result"
    }
   ],
   "source": [
    "# to find memory location and size from system \n",
    "import sys\n",
    "sys.getsizeof(mylist1)"
   ]
  },
  {
   "cell_type": "markdown",
   "id": "28787789",
   "metadata": {},
   "source": [
    "#  Loops\n"
   ]
  },
  {
   "cell_type": "code",
   "execution_count": 1,
   "id": "17d80b77",
   "metadata": {},
   "outputs": [
    {
     "name": "stdout",
     "output_type": "stream",
     "text": [
      "provide first number21\n",
      "provide Second number25\n",
      "21 22 23 24 "
     ]
    }
   ],
   "source": [
    "#While \n",
    "n1=int(input(\"provide first number\"))\n",
    "n2=int(input(\"provide Second number\"))\n",
    "while n1 < n2:\n",
    "    print(n1, end=' ')\n",
    "    n1 = n1 + 1"
   ]
  },
  {
   "cell_type": "markdown",
   "id": "7d6a2563",
   "metadata": {},
   "source": [
    "## For Loop"
   ]
  },
  {
   "cell_type": "code",
   "execution_count": 66,
   "id": "20438d89",
   "metadata": {},
   "outputs": [
    {
     "name": "stdout",
     "output_type": "stream",
     "text": [
      "['ArithmeticError', 'AssertionError', 'AttributeError', 'BaseException', 'BlockingIOError', 'BrokenPipeError', 'BufferError', 'BytesWarning', 'ChildProcessError', 'ConnectionAbortedError', 'ConnectionError', 'ConnectionRefusedError', 'ConnectionResetError', 'DeprecationWarning', 'EOFError', 'Ellipsis', 'EncodingWarning', 'EnvironmentError', 'Exception', 'False', 'FileExistsError', 'FileNotFoundError', 'FloatingPointError', 'FutureWarning', 'GeneratorExit', 'IOError', 'ImportError', 'ImportWarning', 'IndentationError', 'IndexError', 'InterruptedError', 'IsADirectoryError', 'KeyError', 'KeyboardInterrupt', 'LookupError', 'MemoryError', 'ModuleNotFoundError', 'NameError', 'None', 'NotADirectoryError', 'NotImplemented', 'NotImplementedError', 'OSError', 'OverflowError', 'PendingDeprecationWarning', 'PermissionError', 'ProcessLookupError', 'RecursionError', 'ReferenceError', 'ResourceWarning', 'RuntimeError', 'RuntimeWarning', 'StopAsyncIteration', 'StopIteration', 'SyntaxError', 'SyntaxWarning', 'SystemError', 'SystemExit', 'TabError', 'TimeoutError', 'True', 'TypeError', 'UnboundLocalError', 'UnicodeDecodeError', 'UnicodeEncodeError', 'UnicodeError', 'UnicodeTranslateError', 'UnicodeWarning', 'UserWarning', 'ValueError', 'Warning', 'ZeroDivisionError', '__IPYTHON__', '__build_class__', '__debug__', '__doc__', '__import__', '__loader__', '__name__', '__package__', '__spec__', 'abs', 'aiter', 'all', 'anext', 'any', 'ascii', 'bin', 'bool', 'breakpoint', 'bytearray', 'bytes', 'callable', 'chr', 'classmethod', 'compile', 'complex', 'copyright', 'credits', 'delattr', 'dict', 'dir', 'display', 'divmod', 'enumerate', 'eval', 'exec', 'execfile', 'filter', 'float', 'format', 'frozenset', 'get_ipython', 'getattr', 'globals', 'hasattr', 'hash', 'help', 'hex', 'id', 'input', 'int', 'isinstance', 'issubclass', 'iter', 'len', 'license', 'list', 'locals', 'map', 'max', 'memoryview', 'min', 'next', 'object', 'oct', 'open', 'ord', 'pow', 'print', 'property', 'range', 'repr', 'reversed', 'round', 'runfile', 'set', 'setattr', 'slice', 'sorted', 'staticmethod', 'str', 'sum', 'super', 'tuple', 'type', 'vars', 'zip']\n"
     ]
    }
   ],
   "source": [
    "# for <variable> in <container> \n",
    "#once all values are done the exception comes stop itration as For loop sees the exception it exits the for loop\n",
    "print(dir(__builtin__))"
   ]
  },
  {
   "cell_type": "code",
   "execution_count": 74,
   "id": "6b50a2a5",
   "metadata": {},
   "outputs": [
    {
     "name": "stdout",
     "output_type": "stream",
     "text": [
      "bank sbi\n",
      "city bangalore\n"
     ]
    }
   ],
   "source": [
    "dc = {'bank':'sbi','city':'bangalore'}\n",
    "for k,v in dc.items():\n",
    "    print(k,v)"
   ]
  },
  {
   "cell_type": "code",
   "execution_count": 76,
   "id": "82899d3a",
   "metadata": {},
   "outputs": [
    {
     "name": "stdout",
     "output_type": "stream",
     "text": [
      "10\n",
      "20\n",
      "30\n"
     ]
    }
   ],
   "source": [
    "for a in [10,20,30]:\n",
    "    print(a)"
   ]
  },
  {
   "cell_type": "code",
   "execution_count": 79,
   "id": "30da636e",
   "metadata": {},
   "outputs": [
    {
     "name": "stdout",
     "output_type": "stream",
     "text": [
      "10\n",
      "20\n",
      "30\n"
     ]
    }
   ],
   "source": [
    "for a in {10,20,30}:\n",
    "    print(a)"
   ]
  },
  {
   "cell_type": "code",
   "execution_count": 80,
   "id": "b1205bf5",
   "metadata": {},
   "outputs": [],
   "source": [
    "#Break : Loop termination\n",
    "#Continue : kill current iteration and continue with next "
   ]
  },
  {
   "cell_type": "code",
   "execution_count": 82,
   "id": "ce5b897c",
   "metadata": {},
   "outputs": [
    {
     "name": "stdout",
     "output_type": "stream",
     "text": [
      "8\n",
      "7\n",
      "5\n",
      "4\n",
      "3\n",
      "2\n",
      "1\n",
      "0\n",
      "c2-done\n"
     ]
    }
   ],
   "source": [
    "count = 9 \n",
    "while (count > 0):\n",
    "    count = count -1 \n",
    "    if count == 6:\n",
    "        continue\n",
    "    print(count)\n",
    "print('c2-done')"
   ]
  },
  {
   "cell_type": "code",
   "execution_count": 5,
   "id": "0d78cee5",
   "metadata": {},
   "outputs": [
    {
     "name": "stdout",
     "output_type": "stream",
     "text": [
      "provide one number to check18\n"
     ]
    },
    {
     "data": {
      "text/plain": [
       "False"
      ]
     },
     "execution_count": 5,
     "metadata": {},
     "output_type": "execute_result"
    }
   ],
   "source": [
    "def isprime():\n",
    "    n = int(input('provide one number to check'))\n",
    "    for div in range(2,n):\n",
    "        if n % div ==0:\n",
    "            return False\n",
    "        else:\n",
    "            return True\n",
    "isprime()"
   ]
  },
  {
   "cell_type": "code",
   "execution_count": 6,
   "id": "5c3747ea",
   "metadata": {},
   "outputs": [
    {
     "name": "stdout",
     "output_type": "stream",
     "text": [
      "provide one number to check5\n"
     ]
    },
    {
     "data": {
      "text/plain": [
       "True"
      ]
     },
     "execution_count": 6,
     "metadata": {},
     "output_type": "execute_result"
    }
   ],
   "source": [
    "# functions to find prime nUmbers\n",
    "\n",
    "def isprime():\n",
    "    n = int(input('provide one number to check'))\n",
    "    for div in range(2,n):\n",
    "        if n % div ==0:\n",
    "            return False\n",
    "        else:\n",
    "            return True\n",
    "isprime()"
   ]
  },
  {
   "cell_type": "markdown",
   "id": "c62843ba",
   "metadata": {},
   "source": [
    "# Function rule\n",
    "# while defining a function required parameters must be specified before default prameterss.\n",
    "#while calling fnction positional values should be specified first. then parameter keyword based \n",
    "# * Arg allowed multiple variables values into fucntion \n",
    "# **arg variable dict can be pupulated only in parameter keword style \n"
   ]
  },
  {
   "cell_type": "code",
   "execution_count": 2,
   "id": "c9830395",
   "metadata": {},
   "outputs": [
    {
     "name": "stdout",
     "output_type": "stream",
     "text": [
      "r0 10\n",
      "krgs {}\n"
     ]
    }
   ],
   "source": [
    "def mf12(r0,r1,d0=100,d1=200,*args,**krgs):\n",
    "    print(\"r0\",r0)\n",
    "    print(\"krgs\",krgs)\n",
    "    \n",
    "mf12(10,10,20,0)"
   ]
  },
  {
   "cell_type": "markdown",
   "id": "5e9d030b",
   "metadata": {},
   "source": [
    "# Lambda FUnctions Anonymous Functions\n"
   ]
  },
  {
   "cell_type": "code",
   "execution_count": 107,
   "id": "bc46164c",
   "metadata": {},
   "outputs": [],
   "source": [
    "# if single expression function and result sf that expression is rgetting return then that can be written as lambda "
   ]
  },
  {
   "cell_type": "code",
   "execution_count": 10,
   "id": "7239929d",
   "metadata": {
    "scrolled": true
   },
   "outputs": [
    {
     "data": {
      "text/plain": [
       "False"
      ]
     },
     "execution_count": 10,
     "metadata": {},
     "output_type": "execute_result"
    }
   ],
   "source": [
    "# write function to find number is enen or not\n",
    "def EF(num):\n",
    "    return num%2==0\n",
    "EF(3)"
   ]
  },
  {
   "cell_type": "code",
   "execution_count": 9,
   "id": "0c4c92fd",
   "metadata": {},
   "outputs": [
    {
     "data": {
      "text/plain": [
       "True"
      ]
     },
     "execution_count": 9,
     "metadata": {},
     "output_type": "execute_result"
    }
   ],
   "source": [
    "iseven = lambda num : num%2 ==0\n",
    "iseven(2)"
   ]
  },
  {
   "cell_type": "code",
   "execution_count": 122,
   "id": "9914d354",
   "metadata": {},
   "outputs": [
    {
     "name": "stdout",
     "output_type": "stream",
     "text": [
      "provide Number u want to check2\n"
     ]
    },
    {
     "data": {
      "text/plain": [
       "'even'"
      ]
     },
     "execution_count": 122,
     "metadata": {},
     "output_type": "execute_result"
    }
   ],
   "source": [
    "num = int(input('provide Number u want to check'))\n",
    "oddeven = lambda num : \"even\" if num%2==0 else \"odd\"\n",
    "oddeven(num)"
   ]
  },
  {
   "cell_type": "code",
   "execution_count": 123,
   "id": "6dd9b690",
   "metadata": {},
   "outputs": [],
   "source": [
    "# use directly in a line and it will not be available to you later on called anonymouse fnction object \n",
    "#anonymouse usage of Lambda function "
   ]
  },
  {
   "cell_type": "markdown",
   "id": "380b0a41",
   "metadata": {},
   "source": [
    "# PASS Statement "
   ]
  },
  {
   "cell_type": "code",
   "execution_count": 3,
   "id": "ec1fce51",
   "metadata": {},
   "outputs": [
    {
     "data": {
      "text/plain": [
       "{'__name__': '__main__',\n",
       " '__doc__': 'Automatically created module for IPython interactive environment',\n",
       " '__package__': None,\n",
       " '__loader__': None,\n",
       " '__spec__': None,\n",
       " '__builtin__': <module 'builtins' (built-in)>,\n",
       " '__builtins__': <module 'builtins' (built-in)>,\n",
       " '_ih': ['',\n",
       "  '#While \\nn1=int(input(\"provide first number\"))\\nn2=int(input(\"provide Second number\"))\\nwhile n1 < n2:\\n    print(n1, end=\\' \\')\\n    n1 = n1 + 1',\n",
       "  'def mf12(r0,r1,d0=100,d1=200,*args,**krgs):\\n    print(\"r0\",r0)\\n    print(\"krgs\",krgs)\\n    \\nmf12(10,10,20,0)',\n",
       "  '# a dummy statement to proceed further \\nglobals()'],\n",
       " '_oh': {},\n",
       " '_dh': [PosixPath('/Users/joanna/Desktop/G2/DevOps/mtech')],\n",
       " 'In': ['',\n",
       "  '#While \\nn1=int(input(\"provide first number\"))\\nn2=int(input(\"provide Second number\"))\\nwhile n1 < n2:\\n    print(n1, end=\\' \\')\\n    n1 = n1 + 1',\n",
       "  'def mf12(r0,r1,d0=100,d1=200,*args,**krgs):\\n    print(\"r0\",r0)\\n    print(\"krgs\",krgs)\\n    \\nmf12(10,10,20,0)',\n",
       "  '# a dummy statement to proceed further \\nglobals()'],\n",
       " 'Out': {},\n",
       " 'get_ipython': <bound method InteractiveShell.get_ipython of <ipykernel.zmqshell.ZMQInteractiveShell object at 0x7f8f1a4ee1d0>>,\n",
       " 'exit': <IPython.core.autocall.ZMQExitAutocall at 0x7f8f1a4ee7a0>,\n",
       " 'quit': <IPython.core.autocall.ZMQExitAutocall at 0x7f8f1a4ee7a0>,\n",
       " 'open': <function io.open(file, mode='r', buffering=-1, encoding=None, errors=None, newline=None, closefd=True, opener=None)>,\n",
       " '_': '',\n",
       " '__': '',\n",
       " '___': '',\n",
       " '_i': 'def mf12(r0,r1,d0=100,d1=200,*args,**krgs):\\n    print(\"r0\",r0)\\n    print(\"krgs\",krgs)\\n    \\nmf12(10,10,20,0)',\n",
       " '_ii': '#While \\nn1=int(input(\"provide first number\"))\\nn2=int(input(\"provide Second number\"))\\nwhile n1 < n2:\\n    print(n1, end=\\' \\')\\n    n1 = n1 + 1',\n",
       " '_iii': '',\n",
       " '_i1': '#While \\nn1=int(input(\"provide first number\"))\\nn2=int(input(\"provide Second number\"))\\nwhile n1 < n2:\\n    print(n1, end=\\' \\')\\n    n1 = n1 + 1',\n",
       " 'n1': 25,\n",
       " 'n2': 25,\n",
       " '_i2': 'def mf12(r0,r1,d0=100,d1=200,*args,**krgs):\\n    print(\"r0\",r0)\\n    print(\"krgs\",krgs)\\n    \\nmf12(10,10,20,0)',\n",
       " 'mf12': <function __main__.mf12(r0, r1, d0=100, d1=200, *args, **krgs)>,\n",
       " '_i3': '# a dummy statement to proceed further \\nglobals()'}"
      ]
     },
     "execution_count": 3,
     "metadata": {},
     "output_type": "execute_result"
    }
   ],
   "source": [
    "# a dummy statement to proceed further \n",
    "globals()"
   ]
  },
  {
   "cell_type": "code",
   "execution_count": 128,
   "id": "fcc1fbdb",
   "metadata": {},
   "outputs": [],
   "source": [
    "#Global Name Space Area "
   ]
  },
  {
   "cell_type": "code",
   "execution_count": 129,
   "id": "e345bfd0",
   "metadata": {},
   "outputs": [
    {
     "name": "stdout",
     "output_type": "stream",
     "text": [
      "outside function 100 200\n"
     ]
    }
   ],
   "source": [
    "g1 = 100\n",
    "g2 = 200\n",
    "def mf99(v1):\n",
    "    v2 = 222\n",
    "    print(\"insidefun\",g1,g2,v1,v2)\n",
    "print('outside function',g1,g2)"
   ]
  },
  {
   "cell_type": "code",
   "execution_count": 130,
   "id": "be16ce60",
   "metadata": {},
   "outputs": [],
   "source": [
    "#Local varitable vs global Variable. \n",
    "# Local Scope takes priority \n",
    "# Do excerciese \n",
    "#inside function specify Global g1 as in side the local to function \n",
    "#YOU CAN DEFINE FUNCTION INSIDE FUNCTION \n",
    "# Non Local , Enclosed Scope \n",
    "#local , global , inclosed, scopes build in scopes of Variables for FUnctions\n",
    "#Names\n",
    "#LEGB local Enclosed global B\n"
   ]
  },
  {
   "cell_type": "markdown",
   "id": "9dff0c5c",
   "metadata": {},
   "source": [
    "# Recursion"
   ]
  },
  {
   "cell_type": "code",
   "execution_count": 131,
   "id": "e371b2be",
   "metadata": {},
   "outputs": [],
   "source": [
    "# method of solving problem that invoves : \n",
    "#breaking a problem to smaller levels\n",
    "#untill we get into smallest problems\n",
    "\n",
    "# function which calles itsef is called recursive  like factorial problems \n"
   ]
  },
  {
   "cell_type": "code",
   "execution_count": 145,
   "id": "30eed1d7",
   "metadata": {},
   "outputs": [
    {
     "name": "stdout",
     "output_type": "stream",
     "text": [
      "93326215443944152681699238856266700490715968264381621468592963895217599993229915608941463976156518286253697920827223758251185210916864000000000000000000000000\n"
     ]
    }
   ],
   "source": [
    "def factorial(n):\n",
    "    if n ==0:\n",
    "        return 1\n",
    "    return n * factorial(n-1)\n",
    "x = factorial(100)\n",
    "print(x)"
   ]
  },
  {
   "cell_type": "markdown",
   "id": "4f431b03",
   "metadata": {},
   "source": [
    "# list comprehension "
   ]
  },
  {
   "cell_type": "code",
   "execution_count": 151,
   "id": "a173173f",
   "metadata": {},
   "outputs": [
    {
     "name": "stdout",
     "output_type": "stream",
     "text": [
      "[4, 16, 36, 64, 100]\n"
     ]
    }
   ],
   "source": [
    "mylist1 = [2,4,6,8,10]\n",
    "newlist = []\n",
    "for num in mylist1:\n",
    "    newlist.append(num**2)\n",
    "print(newlist)"
   ]
  },
  {
   "cell_type": "code",
   "execution_count": 162,
   "id": "9766ae18",
   "metadata": {},
   "outputs": [
    {
     "name": "stdout",
     "output_type": "stream",
     "text": [
      "[('u1', 'p1'), ('u1', 'p2'), ('u1', 'p3'), ('u2', 'p1'), ('u2', 'p2'), ('u2', 'p3'), ('u3', 'p1'), ('u3', 'p2'), ('u3', 'p3')]\n"
     ]
    }
   ],
   "source": [
    "ulist = ['u1','u2','u3']\n",
    "plist = ['p1','p2','p3']\n",
    "uplist= []\n",
    "for u in ulist:\n",
    "    for p in plist:\n",
    "        uplist.append((u,p))\n",
    "print(uplist)"
   ]
  },
  {
   "cell_type": "code",
   "execution_count": 163,
   "id": "1567fb9a",
   "metadata": {},
   "outputs": [
    {
     "ename": "SyntaxError",
     "evalue": "invalid syntax (2290234586.py, line 3)",
     "output_type": "error",
     "traceback": [
      "\u001b[0;36m  Cell \u001b[0;32mIn[163], line 3\u001b[0;36m\u001b[0m\n\u001b[0;31m    2.[]\u001b[0m\n\u001b[0m       ^\u001b[0m\n\u001b[0;31mSyntaxError\u001b[0m\u001b[0;31m:\u001b[0m invalid syntax\n"
     ]
    }
   ],
   "source": [
    "grammer \n",
    "1. \n",
    "2.[]\n",
    "3.\n",
    "4. [<final expression> <for loop >]\n",
    "#controlflow 1,2, 1,2, 1,3 lop exist \n",
    "\n"
   ]
  },
  {
   "cell_type": "code",
   "execution_count": 8,
   "id": "e9012592",
   "metadata": {},
   "outputs": [
    {
     "ename": "SyntaxError",
     "evalue": "'return' outside function (2579361587.py, line 6)",
     "output_type": "error",
     "traceback": [
      "\u001b[0;36m  Cell \u001b[0;32mIn[8], line 6\u001b[0;36m\u001b[0m\n\u001b[0;31m    return m**2\u001b[0m\n\u001b[0m    ^\u001b[0m\n\u001b[0;31mSyntaxError\u001b[0m\u001b[0;31m:\u001b[0m 'return' outside function\n"
     ]
    }
   ],
   "source": []
  },
  {
   "cell_type": "code",
   "execution_count": 167,
   "id": "59c49f4c",
   "metadata": {},
   "outputs": [
    {
     "name": "stdout",
     "output_type": "stream",
     "text": [
      "[1, 4, 16, 125, 343, 64]\n"
     ]
    }
   ],
   "source": [
    "mylist2 = [1,2,4,5,7,8]\n",
    "plist = [ num**2 if num%2==0 else num**3 for num in mylist2]\n",
    "print(plist)"
   ]
  },
  {
   "cell_type": "code",
   "execution_count": 169,
   "id": "869ea82a",
   "metadata": {},
   "outputs": [
    {
     "name": "stdout",
     "output_type": "stream",
     "text": [
      "[4, 16, 64]\n"
     ]
    }
   ],
   "source": [
    "# only for event numbers , rest discard it \n",
    "mylist2 = [1,2,4,5,7,8]\n",
    "eventsqlist= []\n",
    "for num in mylist2:\n",
    "    if num%2==0:\n",
    "        eventsqlist.append(num**2)\n",
    "        \n",
    "print(eventsqlist)\n"
   ]
  },
  {
   "cell_type": "code",
   "execution_count": 172,
   "id": "ae9b73bd",
   "metadata": {},
   "outputs": [
    {
     "name": "stdout",
     "output_type": "stream",
     "text": [
      "[4, 16, 64]\n"
     ]
    }
   ],
   "source": [
    "# grammer  travertion  , on right  loop condition , final expression on left\n",
    "# only for event numbers , rest discard it \n",
    "mylist2 = [1,2,4,5,7,8]\n",
    "eventsqlist= [ num**2 for num in mylist2 if num%2==0]\n",
    "print(eventsqlist)"
   ]
  },
  {
   "cell_type": "code",
   "execution_count": 179,
   "id": "34264b33",
   "metadata": {},
   "outputs": [
    {
     "name": "stdout",
     "output_type": "stream",
     "text": [
      "[(12, 144), (15, 3375), (18, 324), (21, 9261), (24, 576), (27, 19683), (30, 900), (33, 35937), (36, 1296), (39, 59319)]\n"
     ]
    }
   ],
   "source": [
    "#input range(10,40)\n",
    "#if number is multiple of 3 and if its even squarte  odd give cube\n",
    "\n",
    "plist= []\n",
    "for num in range(10,40):\n",
    "    if num%3==0:\n",
    "        if num%2==0:\n",
    "            plist.append((num,num**2))\n",
    "        else:\n",
    "            plist.append((num,num**3))\n",
    "        \n",
    "print(plist)"
   ]
  },
  {
   "cell_type": "code",
   "execution_count": 183,
   "id": "8aa6d22a",
   "metadata": {},
   "outputs": [
    {
     "name": "stdout",
     "output_type": "stream",
     "text": [
      "[(12, 144), (15, 3375), (18, 324), (21, 9261), (24, 576), (27, 19683), (30, 900), (33, 35937), (36, 1296), (39, 59319)]\n"
     ]
    }
   ],
   "source": [
    "polist=[(num,num**2) if num%2==0 else (num,num**3) for num in range(10,40) if num%3==0]\n",
    "print(polist)"
   ]
  },
  {
   "cell_type": "code",
   "execution_count": 185,
   "id": "e031fc2f",
   "metadata": {},
   "outputs": [
    {
     "name": "stdout",
     "output_type": "stream",
     "text": [
      "[('u1', 'p1'), ('u1', 'p2'), ('u1', 'p3'), ('u2', 'p1'), ('u2', 'p2'), ('u2', 'p3'), ('u3', 'p1'), ('u3', 'p2'), ('u3', 'p3')]\n"
     ]
    }
   ],
   "source": [
    "ulist = ['u1','u2','u3']\n",
    "plist = ['p1','p2','p3']\n",
    "uplist= [ (u,p) for u in ulist for p in plist]\n",
    "print(uplist)\n",
    "# Grammer 3 <level of loop >\n",
    "#control flow "
   ]
  },
  {
   "cell_type": "code",
   "execution_count": 188,
   "id": "15740f7c",
   "metadata": {},
   "outputs": [
    {
     "name": "stdout",
     "output_type": "stream",
     "text": [
      "[('u1', 'p1'), ('u1', 'p3'), ('u3', 'p1'), ('u3', 'p3')]\n"
     ]
    }
   ],
   "source": [
    "ulist = ['u1','u2','u3']\n",
    "plist = ['p1','p2','p3']\n",
    "uplist = [ (u,p) for u in ulist if u!='u2'  for p in plist if p!='p2' ]\n",
    "print(uplist)"
   ]
  },
  {
   "cell_type": "code",
   "execution_count": 191,
   "id": "cab76681",
   "metadata": {},
   "outputs": [
    {
     "name": "stdout",
     "output_type": "stream",
     "text": [
      "{0: 0, 1: 1, 2: 4, 3: 9, 4: 16, 5: 25, 6: 36, 7: 49, 8: 64, 9: 81}\n"
     ]
    }
   ],
   "source": [
    "n = {num:num**2 for num in range(10)}\n",
    "print(n)"
   ]
  },
  {
   "cell_type": "markdown",
   "id": "6631ba9e",
   "metadata": {},
   "source": [
    "# Numpy Class 2 :  09 July\n"
   ]
  },
  {
   "cell_type": "code",
   "execution_count": null,
   "id": "775b68c4",
   "metadata": {},
   "outputs": [],
   "source": []
  }
 ],
 "metadata": {
  "kernelspec": {
   "display_name": "Python 3 (ipykernel)",
   "language": "python",
   "name": "python3"
  },
  "language_info": {
   "codemirror_mode": {
    "name": "ipython",
    "version": 3
   },
   "file_extension": ".py",
   "mimetype": "text/x-python",
   "name": "python",
   "nbconvert_exporter": "python",
   "pygments_lexer": "ipython3",
   "version": "3.11.3"
  }
 },
 "nbformat": 4,
 "nbformat_minor": 5
}
