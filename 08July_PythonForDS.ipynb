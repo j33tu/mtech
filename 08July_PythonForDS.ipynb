{
 "cells": [
  {
   "cell_type": "markdown",
   "id": "d18a2d15",
   "metadata": {},
   "source": [
    "# 08 July Py for DS session 1\n"
   ]
  },
  {
   "cell_type": "code",
   "execution_count": 3,
   "id": "262379c0",
   "metadata": {},
   "outputs": [
    {
     "name": "stdout",
     "output_type": "stream",
     "text": [
      "National Stock Exchange\n",
      "new york # stock excahnge\n"
     ]
    }
   ],
   "source": [
    "\n",
    "#single line comments\n",
    "print(\"National Stock Exchange\")\n",
    "#print(\"ignore value\")\n",
    "print('new york # stock excahnge')\n",
    "# Multiple line comments , new line seprates statements , it executes one at a time , use ; to seprate within same line\n",
    "\n"
   ]
  },
  {
   "cell_type": "code",
   "execution_count": 10,
   "id": "625f5320",
   "metadata": {},
   "outputs": [
    {
     "ename": "SyntaxError",
     "evalue": "invalid syntax (1457414143.py, line 1)",
     "output_type": "error",
     "traceback": [
      "\u001b[0;36m  Cell \u001b[0;32mIn[10], line 1\u001b[0;36m\u001b[0m\n\u001b[0;31m    exchange = 'abc' print(\"excahnge\")\u001b[0m\n\u001b[0m                     ^\u001b[0m\n\u001b[0;31mSyntaxError\u001b[0m\u001b[0;31m:\u001b[0m invalid syntax\n"
     ]
    }
   ],
   "source": [
    "exchange = 'abc' print(\"excahnge\")\n",
    "                    \n",
    "# sends the exception object of  class syntax error with string  msg  and interpreter stops further processing once it gets the error \n"
   ]
  },
  {
   "cell_type": "code",
   "execution_count": 13,
   "id": "587b98ee",
   "metadata": {},
   "outputs": [
    {
     "name": "stdout",
     "output_type": "stream",
     "text": [
      "abc\n"
     ]
    }
   ],
   "source": [
    "exchange = 'abc' ;print(exchange)\n",
    "                    "
   ]
  },
  {
   "cell_type": "code",
   "execution_count": 15,
   "id": "8c9139a9",
   "metadata": {},
   "outputs": [
    {
     "ename": "SyntaxError",
     "evalue": "unterminated string literal (detected at line 1) (2406132225.py, line 1)",
     "output_type": "error",
     "traceback": [
      "\u001b[0;36m  Cell \u001b[0;32mIn[15], line 1\u001b[0;36m\u001b[0m\n\u001b[0;31m    ms1 = 'line 1 of string\u001b[0m\n\u001b[0m          ^\u001b[0m\n\u001b[0;31mSyntaxError\u001b[0m\u001b[0;31m:\u001b[0m unterminated string literal (detected at line 1)\n"
     ]
    }
   ],
   "source": [
    "ms1 = 'line 1 of string\n",
    "line2 \n",
    "line3'\n",
    "#string should terminate in same line else you would get error "
   ]
  },
  {
   "cell_type": "code",
   "execution_count": 20,
   "id": "b2b45a2b",
   "metadata": {},
   "outputs": [
    {
     "name": "stdout",
     "output_type": "stream",
     "text": [
      "cow is animal \n",
      "it gives milk \n",
      "<class 'str'>\n"
     ]
    }
   ],
   "source": [
    "#Paragraph strings\n",
    "paragraph = \"\"\"cow is animal \n",
    "it gives milk \"\"\"\n",
    "print(paragraph)\n",
    "print(type(paragraph))\n",
    "#Paragraph is a variable looking at an object of class string str.\n"
   ]
  },
  {
   "cell_type": "code",
   "execution_count": 26,
   "id": "0aad502b",
   "metadata": {},
   "outputs": [
    {
     "data": {
      "text/plain": [
       "'\\nprint adfd\\nobc\\n\\n'"
      ]
     },
     "execution_count": 26,
     "metadata": {},
     "output_type": "execute_result"
    }
   ],
   "source": [
    "# if you do not attach paragraph to  a variable  it become  a block comment \n",
    "exchange = \"NSE\"\n",
    "\n",
    "\"\"\"\n",
    "print adfd\n",
    "obc\n",
    "\n",
    "\"\"\"\n",
    "#print(exchange)\n",
    "# it will only print what jupter has  not  python "
   ]
  },
  {
   "cell_type": "code",
   "execution_count": 27,
   "id": "4c22a894",
   "metadata": {},
   "outputs": [
    {
     "data": {
      "text/plain": [
       "30"
      ]
     },
     "execution_count": 27,
     "metadata": {},
     "output_type": "execute_result"
    }
   ],
   "source": [
    "n1 = 30\n",
    "n1\n",
    "#jupyter IDE is intellegent enough so its not python which is giving the result"
   ]
  },
  {
   "cell_type": "code",
   "execution_count": 31,
   "id": "c70bcba8",
   "metadata": {},
   "outputs": [
    {
     "name": "stdout",
     "output_type": "stream",
     "text": [
      "b\n"
     ]
    }
   ],
   "source": [
    "n = 'b' \n",
    "print(n)\n",
    "##commit"
   ]
  },
  {
   "cell_type": "code",
   "execution_count": 33,
   "id": "501c29f1",
   "metadata": {},
   "outputs": [
    {
     "name": "stdout",
     "output_type": "stream",
     "text": [
      "20\n",
      "10\n"
     ]
    }
   ],
   "source": [
    "#Python var Type\n",
    "ABC=10\n",
    "abc=20\n",
    "print(abc)\n",
    "print(ABC)"
   ]
  },
  {
   "cell_type": "code",
   "execution_count": 35,
   "id": "0630cf76",
   "metadata": {},
   "outputs": [
    {
     "name": "stdout",
     "output_type": "stream",
     "text": [
      "['False', 'None', 'True', 'and', 'as', 'assert', 'async', 'await', 'break', 'class', 'continue', 'def', 'del', 'elif', 'else', 'except', 'finally', 'for', 'from', 'global', 'if', 'import', 'in', 'is', 'lambda', 'nonlocal', 'not', 'or', 'pass', 'raise', 'return', 'try', 'while', 'with', 'yield']\n"
     ]
    }
   ],
   "source": [
    "import keyword\n",
    "print(keyword.kwlist)"
   ]
  },
  {
   "cell_type": "code",
   "execution_count": 38,
   "id": "ab2417a0",
   "metadata": {},
   "outputs": [
    {
     "name": "stdout",
     "output_type": "stream",
     "text": [
      "<class 'module'>\n"
     ]
    }
   ],
   "source": [
    "import keyword\n",
    "print(type(keyword))\n",
    "# keyword is object of class Module type Module "
   ]
  },
  {
   "cell_type": "code",
   "execution_count": 45,
   "id": "409e29ab",
   "metadata": {},
   "outputs": [
    {
     "name": "stdout",
     "output_type": "stream",
     "text": [
      "10\n",
      "9\n",
      "8\n",
      "7\n",
      "6\n",
      "5\n",
      "4\n",
      "3\n",
      "2\n",
      "1\n"
     ]
    }
   ],
   "source": [
    "#indentation of code block \n",
    "#within same block indentation should be same \n",
    "# across the block its fine \n",
    "a = 10\n",
    "while a > 0:\n",
    "    print(a)\n",
    "    a = a -1 \n"
   ]
  },
  {
   "cell_type": "code",
   "execution_count": 48,
   "id": "55c4d367",
   "metadata": {},
   "outputs": [
    {
     "name": "stdout",
     "output_type": "stream",
     "text": [
      "level is high\n",
      "swich off motor\n"
     ]
    }
   ],
   "source": [
    "sensor = 1\n",
    "if sensor ==0:\n",
    "    print('level is low')\n",
    "    print('swith on motor')\n",
    "else:\n",
    "    print('level is high')\n",
    "    print('swich off motor')\n",
    "    \n",
    "    \n",
    "    "
   ]
  },
  {
   "cell_type": "markdown",
   "id": "c2a1a123",
   "metadata": {},
   "source": [
    "# assignments"
   ]
  },
  {
   "cell_type": "code",
   "execution_count": 55,
   "id": "9235dd3b",
   "metadata": {},
   "outputs": [
    {
     "name": "stdout",
     "output_type": "stream",
     "text": [
      "<class 'int'>\n",
      "<class 'int'>\n",
      "<class 'int'>\n",
      "140610597258064\n",
      "140610597258064\n"
     ]
    }
   ],
   "source": [
    "myint1 = 20\n",
    "myint = int(20)\n",
    "myint2 = 20 \n",
    "print(type(myint1))\n",
    "print(type(myint2))\n",
    "print(type(myint))\n",
    "print(id(myint1))\n",
    "print(id(myint2))\n",
    "#type returns the class name\n",
    "# ID returns virtual address of the object\n"
   ]
  },
  {
   "cell_type": "code",
   "execution_count": 65,
   "id": "9369de79",
   "metadata": {},
   "outputs": [
    {
     "name": "stdout",
     "output_type": "stream",
     "text": [
      "(20, 30, 'python')\n",
      "<class 'tuple'>\n",
      "140610770491968\n",
      "20\n"
     ]
    }
   ],
   "source": [
    "var1 = (20,30,'python')\n",
    "print(var1)\n",
    "print(type(var1))\n",
    "print(id(var1))\n",
    "print(var1[0])"
   ]
  },
  {
   "cell_type": "code",
   "execution_count": 66,
   "id": "53e386a6",
   "metadata": {},
   "outputs": [
    {
     "name": "stdout",
     "output_type": "stream",
     "text": [
      "{'bank': 'sbi', 'branch': 'ecity'}\n",
      "<class 'dict'>\n",
      "140610766762560\n",
      "sbi ecity\n"
     ]
    }
   ],
   "source": [
    "var1 = {'bank':'sbi','branch':'ecity'}\n",
    "print(var1)\n",
    "print(type(var1))\n",
    "print(id(var1))\n",
    "print(var1['bank'],var1['branch'])"
   ]
  },
  {
   "cell_type": "code",
   "execution_count": 69,
   "id": "fc73b56e",
   "metadata": {},
   "outputs": [
    {
     "name": "stdout",
     "output_type": "stream",
     "text": [
      "<class 'tuple'>\n"
     ]
    },
    {
     "ename": "TypeError",
     "evalue": "'tuple' object does not support item assignment",
     "output_type": "error",
     "traceback": [
      "\u001b[0;31m---------------------------------------------------------------------------\u001b[0m",
      "\u001b[0;31mTypeError\u001b[0m                                 Traceback (most recent call last)",
      "Cell \u001b[0;32mIn[69], line 3\u001b[0m\n\u001b[1;32m      1\u001b[0m myint \u001b[38;5;241m=\u001b[39m (\u001b[38;5;241m10\u001b[39m,\u001b[38;5;241m20\u001b[39m,\u001b[38;5;241m30\u001b[39m)\n\u001b[1;32m      2\u001b[0m \u001b[38;5;28mprint\u001b[39m(\u001b[38;5;28mtype\u001b[39m(myint))\n\u001b[0;32m----> 3\u001b[0m myint[\u001b[38;5;241m0\u001b[39m]\u001b[38;5;241m=\u001b[39m \u001b[38;5;241m22\u001b[39m\n\u001b[1;32m      4\u001b[0m \u001b[38;5;28mprint\u001b[39m(myint)\n",
      "\u001b[0;31mTypeError\u001b[0m: 'tuple' object does not support item assignment"
     ]
    }
   ],
   "source": [
    "myint = (10,20,30)\n",
    "print(type(myint))\n",
    "myint[0]= 22\n",
    "print(myint)\n",
    "# tuple are not changable\n"
   ]
  },
  {
   "cell_type": "code",
   "execution_count": 71,
   "id": "a7311106",
   "metadata": {},
   "outputs": [
    {
     "name": "stdout",
     "output_type": "stream",
     "text": [
      "140610770838224\n",
      "140610770838224\n",
      "140610770838224\n",
      "140610770835920\n",
      "140610770834064\n",
      "140610770836464\n"
     ]
    }
   ],
   "source": [
    "a = b = c = 2345\n",
    "print(id(a))\n",
    "print(id(b))\n",
    "print(id(c))\n",
    "# same memory locations\n",
    "a = 2345\n",
    "b = 2345\n",
    "c = 2345 \n",
    "print(id(a))\n",
    "print(id(b))\n",
    "print(id(c))\n",
    "#diff memory location"
   ]
  },
  {
   "cell_type": "code",
   "execution_count": 75,
   "id": "00e792e3",
   "metadata": {},
   "outputs": [
    {
     "name": "stdout",
     "output_type": "stream",
     "text": [
      "140610770836176\n",
      "140610730793840\n",
      "140610770836176\n",
      "12000\n",
      "hello\n",
      "12000\n"
     ]
    }
   ],
   "source": [
    "# positional mapping\n",
    "a , b , c = 12000 ,'hello' , 12000\n",
    "print(id(a))\n",
    "print(id(b))\n",
    "print(id(c))\n",
    "print(a)\n",
    "print(b)\n",
    "print(c)"
   ]
  },
  {
   "cell_type": "markdown",
   "id": "4c8ad96c",
   "metadata": {},
   "source": [
    "# take data from keyboard"
   ]
  },
  {
   "cell_type": "code",
   "execution_count": 79,
   "id": "e4ea7fe6",
   "metadata": {},
   "outputs": [
    {
     "name": "stdout",
     "output_type": "stream",
     "text": [
      "what is your namek\n",
      "my name is k\n",
      "<class 'str'>\n",
      "1\n"
     ]
    }
   ],
   "source": [
    "name = input(\"what is your name\")\n",
    "print(\"my name is \" + ''+ name)\n",
    "print(type(name))\n",
    "print(len(name))\n",
    "# Lenth using len\n",
    "#Keyboard input will always return  object Type of class STR"
   ]
  },
  {
   "cell_type": "code",
   "execution_count": 81,
   "id": "a845bb2a",
   "metadata": {},
   "outputs": [
    {
     "name": "stdout",
     "output_type": "stream",
     "text": [
      "enter marksok\n",
      "ok\n",
      "<class 'str'>\n"
     ]
    },
    {
     "ename": "TypeError",
     "evalue": "can only concatenate str (not \"int\") to str",
     "output_type": "error",
     "traceback": [
      "\u001b[0;31m---------------------------------------------------------------------------\u001b[0m",
      "\u001b[0;31mTypeError\u001b[0m                                 Traceback (most recent call last)",
      "Cell \u001b[0;32mIn[81], line 5\u001b[0m\n\u001b[1;32m      3\u001b[0m \u001b[38;5;28mprint\u001b[39m(\u001b[38;5;28mtype\u001b[39m(marks))\n\u001b[1;32m      4\u001b[0m \u001b[38;5;66;03m#marks1= int(marks)\u001b[39;00m\n\u001b[0;32m----> 5\u001b[0m newmarks \u001b[38;5;241m=\u001b[39m \u001b[43mmarks\u001b[49m\u001b[43m \u001b[49m\u001b[38;5;241;43m+\u001b[39;49m\u001b[43m \u001b[49m\u001b[38;5;241;43m5\u001b[39;49m \n\u001b[1;32m      6\u001b[0m \u001b[38;5;28mprint\u001b[39m(newmarks)\n",
      "\u001b[0;31mTypeError\u001b[0m: can only concatenate str (not \"int\") to str"
     ]
    }
   ],
   "source": [
    "marks = input('enter marks')\n",
    "print(marks)\n",
    "print(type(marks))\n",
    "#marks1= int(marks)\n",
    "newmarks = marks + 5 \n",
    "print(newmarks)\n"
   ]
  },
  {
   "cell_type": "code",
   "execution_count": 84,
   "id": "fad8b67b",
   "metadata": {},
   "outputs": [
    {
     "name": "stdout",
     "output_type": "stream",
     "text": [
      "enter marks54\n",
      "54\n",
      "<class 'str'>\n",
      "59\n"
     ]
    }
   ],
   "source": [
    "marks = input('enter marks')\n",
    "print(marks)\n",
    "print(type(marks))\n",
    "marks1= int(marks)\n",
    "newmarks = marks1 + 5 \n",
    "print(newmarks)\n"
   ]
  },
  {
   "cell_type": "code",
   "execution_count": 86,
   "id": "18bb4789",
   "metadata": {},
   "outputs": [
    {
     "name": "stdout",
     "output_type": "stream",
     "text": [
      "provide your weightok\n"
     ]
    },
    {
     "ename": "ValueError",
     "evalue": "could not convert string to float: 'ok'",
     "output_type": "error",
     "traceback": [
      "\u001b[0;31m---------------------------------------------------------------------------\u001b[0m",
      "\u001b[0;31mValueError\u001b[0m                                Traceback (most recent call last)",
      "Cell \u001b[0;32mIn[86], line 1\u001b[0m\n\u001b[0;32m----> 1\u001b[0m weight \u001b[38;5;241m=\u001b[39m \u001b[38;5;28;43mfloat\u001b[39;49m\u001b[43m(\u001b[49m\u001b[38;5;28;43minput\u001b[39;49m\u001b[43m(\u001b[49m\u001b[38;5;124;43m'\u001b[39;49m\u001b[38;5;124;43mprovide your weight\u001b[39;49m\u001b[38;5;124;43m'\u001b[39;49m\u001b[43m)\u001b[49m\u001b[43m)\u001b[49m\n\u001b[1;32m      2\u001b[0m \u001b[38;5;28mprint\u001b[39m(weight,\u001b[38;5;28mtype\u001b[39m(weight))\n",
      "\u001b[0;31mValueError\u001b[0m: could not convert string to float: 'ok'"
     ]
    }
   ],
   "source": [
    "weight = float(input('provide your weight'))\n",
    "print(weight,type(weight))"
   ]
  },
  {
   "cell_type": "markdown",
   "id": "f08c536b",
   "metadata": {},
   "source": [
    "# Operators\n",
    "\n"
   ]
  },
  {
   "cell_type": "code",
   "execution_count": 98,
   "id": "4bcb7bd4",
   "metadata": {},
   "outputs": [
    {
     "name": "stdout",
     "output_type": "stream",
     "text": [
      "298023223876953125\n",
      "18\n",
      "1\n"
     ]
    }
   ],
   "source": [
    "#arthmetic, assignment, relationsl, logical\n",
    "x = 25\n",
    "y = 5\n",
    "p = y ** x\n",
    "print(str(p))\n",
    "print(len(str(p)))\n",
    "print(26 % 5 )"
   ]
  },
  {
   "cell_type": "code",
   "execution_count": 107,
   "id": "5d26a9ac",
   "metadata": {},
   "outputs": [
    {
     "data": {
      "text/plain": [
       "False"
      ]
     },
     "execution_count": 107,
     "metadata": {},
     "output_type": "execute_result"
    }
   ],
   "source": [
    "a = \"\"\n",
    "bool(a)\n",
    "\n"
   ]
  },
  {
   "cell_type": "markdown",
   "id": "a46f99a9",
   "metadata": {},
   "source": [
    "# Functions in python\n"
   ]
  },
  {
   "cell_type": "code",
   "execution_count": 121,
   "id": "95545ebe",
   "metadata": {},
   "outputs": [
    {
     "name": "stdout",
     "output_type": "stream",
     "text": [
      "enter your marks44\n",
      "pass ho gya bccchu tu to \n"
     ]
    }
   ],
   "source": [
    "def ExamResult():\n",
    "    marks=int(input('enter your marks'))\n",
    "    if marks > 40:\n",
    "        print(\"pass ho gya bccchu tu to \")\n",
    "    else:\n",
    "        print(\"oh sorry ! you failed, padhai kara karo \")\n",
    "\n",
    "ExamResult()"
   ]
  },
  {
   "cell_type": "code",
   "execution_count": 123,
   "id": "98f96eae",
   "metadata": {},
   "outputs": [
    {
     "ename": "NameError",
     "evalue": "name 'hello' is not defined",
     "output_type": "error",
     "traceback": [
      "\u001b[0;31m---------------------------------------------------------------------------\u001b[0m",
      "\u001b[0;31mNameError\u001b[0m                                 Traceback (most recent call last)",
      "Cell \u001b[0;32mIn[123], line 2\u001b[0m\n\u001b[1;32m      1\u001b[0m \u001b[38;5;66;03m# if progreaammer did not specify the return statement , None is by default returned \u001b[39;00m\n\u001b[0;32m----> 2\u001b[0m x \u001b[38;5;241m=\u001b[39m \u001b[38;5;28mprint\u001b[39m(\u001b[43mhello\u001b[49m)\n\u001b[1;32m      3\u001b[0m \u001b[38;5;28mprint\u001b[39m(x)\n",
      "\u001b[0;31mNameError\u001b[0m: name 'hello' is not defined"
     ]
    }
   ],
   "source": [
    "# if progreaammer did not specify the return statement , None is by default returned \n",
    "x = print(hello)\n",
    "print(x)"
   ]
  },
  {
   "cell_type": "code",
   "execution_count": 130,
   "id": "c9cb1920",
   "metadata": {},
   "outputs": [
    {
     "name": "stdout",
     "output_type": "stream",
     "text": [
      "provide p02\n",
      "provide p03\n",
      "5\n",
      "<class 'function'>\n"
     ]
    }
   ],
   "source": [
    "def mf1():\n",
    "  p0 = int(input(\"provide p0\"))\n",
    "  p1 = int(input(\"provide p0\"))\n",
    "  b = p0 + p1\n",
    "  return b\n",
    "    \n",
    "r = mf1()\n",
    "print(r)\n",
    "print(type(mf1))"
   ]
  }
 ],
 "metadata": {
  "kernelspec": {
   "display_name": "Python 3 (ipykernel)",
   "language": "python",
   "name": "python3"
  },
  "language_info": {
   "codemirror_mode": {
    "name": "ipython",
    "version": 3
   },
   "file_extension": ".py",
   "mimetype": "text/x-python",
   "name": "python",
   "nbconvert_exporter": "python",
   "pygments_lexer": "ipython3",
   "version": "3.10.9"
  }
 },
 "nbformat": 4,
 "nbformat_minor": 5
}
