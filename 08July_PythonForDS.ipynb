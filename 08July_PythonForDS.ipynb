{
 "cells": [
  {
   "cell_type": "markdown",
   "id": "b669507b",
   "metadata": {},
   "source": [
    "# 08 July Py for DS session 1\n"
   ]
  },
  {
   "cell_type": "code",
   "execution_count": 3,
   "id": "a055adc0",
   "metadata": {},
   "outputs": [
    {
     "name": "stdout",
     "output_type": "stream",
     "text": [
      "National Stock Exchange\n",
      "new york # stock excahnge\n"
     ]
    }
   ],
   "source": [
    "\n",
    "#single line comments\n",
    "print(\"National Stock Exchange\")\n",
    "#print(\"ignore value\")\n",
    "print('new york # stock excahnge')\n",
    "# Multiple line comments , new line seprates statements , it executes one at a time , use ; to seprate within same line\n",
    "\n"
   ]
  },
  {
   "cell_type": "code",
   "execution_count": 10,
   "id": "43485e43",
   "metadata": {},
   "outputs": [
    {
     "ename": "SyntaxError",
     "evalue": "invalid syntax (1457414143.py, line 1)",
     "output_type": "error",
     "traceback": [
      "\u001b[0;36m  Cell \u001b[0;32mIn[10], line 1\u001b[0;36m\u001b[0m\n\u001b[0;31m    exchange = 'abc' print(\"excahnge\")\u001b[0m\n\u001b[0m                     ^\u001b[0m\n\u001b[0;31mSyntaxError\u001b[0m\u001b[0;31m:\u001b[0m invalid syntax\n"
     ]
    }
   ],
   "source": [
    "exchange = 'abc' print(\"excahnge\")\n",
    "                    \n",
    "# sends the exception object of  class syntax error with string  msg  and interpreter stops further processing once it gets the error \n"
   ]
  },
  {
   "cell_type": "code",
   "execution_count": 13,
   "id": "e004f1d1",
   "metadata": {},
   "outputs": [
    {
     "name": "stdout",
     "output_type": "stream",
     "text": [
      "abc\n"
     ]
    }
   ],
   "source": [
    "exchange = 'abc' ;print(exchange)\n",
    "                    "
   ]
  },
  {
   "cell_type": "code",
   "execution_count": 15,
   "id": "d659896e",
   "metadata": {},
   "outputs": [
    {
     "ename": "SyntaxError",
     "evalue": "unterminated string literal (detected at line 1) (2406132225.py, line 1)",
     "output_type": "error",
     "traceback": [
      "\u001b[0;36m  Cell \u001b[0;32mIn[15], line 1\u001b[0;36m\u001b[0m\n\u001b[0;31m    ms1 = 'line 1 of string\u001b[0m\n\u001b[0m          ^\u001b[0m\n\u001b[0;31mSyntaxError\u001b[0m\u001b[0;31m:\u001b[0m unterminated string literal (detected at line 1)\n"
     ]
    }
   ],
   "source": [
    "ms1 = 'line 1 of string\n",
    "line2 \n",
    "line3'\n",
    "#string should terminate in same line else you would get error "
   ]
  },
  {
   "cell_type": "code",
   "execution_count": 20,
   "id": "fc72142c",
   "metadata": {},
   "outputs": [
    {
     "name": "stdout",
     "output_type": "stream",
     "text": [
      "cow is animal \n",
      "it gives milk \n",
      "<class 'str'>\n"
     ]
    }
   ],
   "source": [
    "#Paragraph strings\n",
    "paragraph = \"\"\"cow is animal \n",
    "it gives milk \"\"\"\n",
    "print(paragraph)\n",
    "print(type(paragraph))\n",
    "#Paragraph is a variable looking at an object of class string str.\n"
   ]
  },
  {
   "cell_type": "code",
   "execution_count": 26,
   "id": "1801e12c",
   "metadata": {},
   "outputs": [
    {
     "data": {
      "text/plain": [
       "'\\nprint adfd\\nobc\\n\\n'"
      ]
     },
     "execution_count": 26,
     "metadata": {},
     "output_type": "execute_result"
    }
   ],
   "source": [
    "# if you do not attach paragraph to  a variable  it become  a block comment \n",
    "exchange = \"NSE\"\n",
    "\n",
    "\"\"\"\n",
    "print adfd\n",
    "obc\n",
    "\n",
    "\"\"\"\n",
    "#print(exchange)\n",
    "# it will only print what jupter has  not  python "
   ]
  },
  {
   "cell_type": "code",
   "execution_count": 27,
   "id": "d8aa459b",
   "metadata": {},
   "outputs": [
    {
     "data": {
      "text/plain": [
       "30"
      ]
     },
     "execution_count": 27,
     "metadata": {},
     "output_type": "execute_result"
    }
   ],
   "source": [
    "n1 = 30\n",
    "n1\n",
    "#jupyter IDE is intellegent enough so its not python which is giving the result"
   ]
  },
  {
   "cell_type": "code",
   "execution_count": 29,
   "id": "f4ae607f",
   "metadata": {},
   "outputs": [
    {
     "name": "stdout",
     "output_type": "stream",
     "text": [
      "b\n"
     ]
    }
   ],
   "source": [
    "n = 'b' \n",
    "print(n)"
   ]
  }
 ],
 "metadata": {
  "kernelspec": {
   "display_name": "Python 3 (ipykernel)",
   "language": "python",
   "name": "python3"
  },
  "language_info": {
   "codemirror_mode": {
    "name": "ipython",
    "version": 3
   },
   "file_extension": ".py",
   "mimetype": "text/x-python",
   "name": "python",
   "nbconvert_exporter": "python",
   "pygments_lexer": "ipython3",
   "version": "3.10.9"
  }
 },
 "nbformat": 4,
 "nbformat_minor": 5
}
