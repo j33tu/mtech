{
 "cells": [
  {
   "cell_type": "markdown",
   "id": "3dab83e9",
   "metadata": {},
   "source": [
    "# 08 July Py for DS session 1\n"
   ]
  },
  {
   "cell_type": "code",
   "execution_count": null,
   "id": "3ff1e0a9",
   "metadata": {},
   "outputs": [],
   "source": [
    "\n",
    "#single line comments\n",
    "print(\"National Stock Exchange\")\n",
    "#print(\"ignore value\")\n",
    "print('new york # stock excahnge')\n",
    "# Multiple line comments , new line seprates statements , it executes one at a time , use ; to seprate within same line\n",
    "\n"
   ]
  },
  {
   "cell_type": "code",
   "execution_count": null,
   "id": "beb71e21",
   "metadata": {},
   "outputs": [],
   "source": [
    "exchange = 'abc' print(\"excahnge\")\n",
    "                    \n",
    "# sends the exception object of  class syntax error with string  msg  and interpreter stops further processing once it gets the error \n"
   ]
  },
  {
   "cell_type": "code",
   "execution_count": null,
   "id": "392eeb60",
   "metadata": {},
   "outputs": [],
   "source": [
    "exchange = 'abc' ;print(exchange)\n",
    "                    "
   ]
  },
  {
   "cell_type": "code",
   "execution_count": null,
   "id": "0dfbc690",
   "metadata": {},
   "outputs": [],
   "source": [
    "ms1 = 'line 1 of string\n",
    "line2 \n",
    "line3'\n",
    "#string should terminate in same line else you would get error "
   ]
  },
  {
   "cell_type": "code",
   "execution_count": null,
   "id": "f863c58f",
   "metadata": {},
   "outputs": [],
   "source": [
    "#Paragraph strings\n",
    "paragraph = \"\"\"cow is animal \n",
    "it gives milk \"\"\"\n",
    "print(paragraph)\n",
    "print(type(paragraph))\n",
    "#Paragraph is a variable looking at an object of class string str.\n"
   ]
  },
  {
   "cell_type": "code",
   "execution_count": null,
   "id": "69f17d35",
   "metadata": {},
   "outputs": [],
   "source": [
    "# if you do not attach paragraph to  a variable  it become  a block comment \n",
    "exchange = \"NSE\"\n",
    "\n",
    "\"\"\"\n",
    "print adfd\n",
    "obc\n",
    "\n",
    "\"\"\"\n",
    "#print(exchange)\n",
    "# it will only print what jupter has  not  python "
   ]
  },
  {
   "cell_type": "code",
   "execution_count": null,
   "id": "e1e1f63e",
   "metadata": {},
   "outputs": [],
   "source": [
    "n1 = 30\n",
    "n1\n",
    "#jupyter IDE is intellegent enough so its not python which is giving the result"
   ]
  },
  {
   "cell_type": "code",
   "execution_count": null,
   "id": "37e5a730",
   "metadata": {},
   "outputs": [],
   "source": [
    "n = 'b' \n",
    "print(n)\n",
    "##commit"
   ]
  },
  {
   "cell_type": "code",
   "execution_count": null,
   "id": "cff1edce",
   "metadata": {},
   "outputs": [],
   "source": [
    "#Python var Type\n",
    "ABC=10\n",
    "abc=20\n",
    "print(abc)\n",
    "print(ABC)"
   ]
  },
  {
   "cell_type": "code",
   "execution_count": null,
   "id": "15ec147c",
   "metadata": {},
   "outputs": [],
   "source": [
    "import keyword\n",
    "print(keyword.kwlist)"
   ]
  },
  {
   "cell_type": "code",
   "execution_count": null,
   "id": "744b73da",
   "metadata": {},
   "outputs": [],
   "source": [
    "import keyword\n",
    "print(type(keyword))\n",
    "# keyword is object of class Module type Module "
   ]
  },
  {
   "cell_type": "code",
   "execution_count": null,
   "id": "2da86441",
   "metadata": {},
   "outputs": [],
   "source": [
    "#indentation of code block \n",
    "#within same block indentation should be same \n",
    "# across the block its fine \n",
    "a = 10\n",
    "while a > 0:\n",
    "    print(a)\n",
    "    a = a -1 \n"
   ]
  },
  {
   "cell_type": "code",
   "execution_count": null,
   "id": "088eacf5",
   "metadata": {},
   "outputs": [],
   "source": [
    "sensor = 1\n",
    "if sensor ==0:\n",
    "    print('level is low')\n",
    "    print('swith on motor')\n",
    "else:\n",
    "    print('level is high')\n",
    "    print('swich off motor')\n",
    "    \n",
    "    \n",
    "    "
   ]
  },
  {
   "cell_type": "markdown",
   "id": "dde5eb1e",
   "metadata": {},
   "source": [
    "# assignments"
   ]
  },
  {
   "cell_type": "code",
   "execution_count": null,
   "id": "82585f17",
   "metadata": {},
   "outputs": [],
   "source": [
    "myint1 = 20\n",
    "myint = int(20)\n",
    "myint2 = 20 \n",
    "print(type(myint1))\n",
    "print(type(myint2))\n",
    "print(type(myint))\n",
    "print(id(myint1))\n",
    "print(id(myint2))\n",
    "#type returns the class name\n",
    "# ID returns virtual address of the object\n"
   ]
  },
  {
   "cell_type": "code",
   "execution_count": null,
   "id": "c5e20326",
   "metadata": {},
   "outputs": [],
   "source": [
    "var1 = (20,30,'python')\n",
    "print(var1)\n",
    "print(type(var1))\n",
    "print(id(var1))\n",
    "print(var1[0])"
   ]
  },
  {
   "cell_type": "code",
   "execution_count": null,
   "id": "a1be9432",
   "metadata": {},
   "outputs": [],
   "source": [
    "var1 = {'bank':'sbi','branch':'ecity'}\n",
    "print(var1)\n",
    "print(type(var1))\n",
    "print(id(var1))\n",
    "print(var1['bank'],var1['branch'])"
   ]
  },
  {
   "cell_type": "code",
   "execution_count": null,
   "id": "70375c32",
   "metadata": {},
   "outputs": [],
   "source": [
    "myint = (10,20,30)\n",
    "print(type(myint))\n",
    "myint[0]= 22\n",
    "print(myint)\n",
    "# tuple are not changable\n"
   ]
  },
  {
   "cell_type": "code",
   "execution_count": null,
   "id": "5f351f19",
   "metadata": {},
   "outputs": [],
   "source": [
    "a = b = c = 2345\n",
    "print(id(a))\n",
    "print(id(b))\n",
    "print(id(c))\n",
    "# same memory locations\n",
    "a = 2345\n",
    "b = 2345\n",
    "c = 2345 \n",
    "print(id(a))\n",
    "print(id(b))\n",
    "print(id(c))\n",
    "#diff memory location"
   ]
  },
  {
   "cell_type": "code",
   "execution_count": null,
   "id": "4dbef857",
   "metadata": {},
   "outputs": [],
   "source": [
    "# positional mapping\n",
    "a , b , c = 12000 ,'hello' , 12000\n",
    "print(id(a))\n",
    "print(id(b))\n",
    "print(id(c))\n",
    "print(a)\n",
    "print(b)\n",
    "print(c)"
   ]
  },
  {
   "cell_type": "markdown",
   "id": "3b547190",
   "metadata": {},
   "source": [
    "# take data from keyboard"
   ]
  },
  {
   "cell_type": "code",
   "execution_count": null,
   "id": "74da5e29",
   "metadata": {},
   "outputs": [],
   "source": [
    "name = input(\"what is your name\")\n",
    "print(\"my name is \" + ''+ name)\n",
    "print(type(name))\n",
    "print(len(name))\n",
    "# Lenth using len\n",
    "#Keyboard input will always return  object Type of class STR"
   ]
  },
  {
   "cell_type": "code",
   "execution_count": null,
   "id": "b18458ee",
   "metadata": {},
   "outputs": [],
   "source": [
    "marks = input('enter marks')\n",
    "print(marks)\n",
    "print(type(marks))\n",
    "#marks1= int(marks)\n",
    "newmarks = marks + 5 \n",
    "print(newmarks)\n"
   ]
  },
  {
   "cell_type": "code",
   "execution_count": null,
   "id": "8deb7dec",
   "metadata": {},
   "outputs": [],
   "source": [
    "marks = input('enter marks')\n",
    "print(marks)\n",
    "print(type(marks))\n",
    "marks1= int(marks)\n",
    "newmarks = marks1 + 5 \n",
    "print(newmarks)\n"
   ]
  },
  {
   "cell_type": "code",
   "execution_count": null,
   "id": "35c00450",
   "metadata": {},
   "outputs": [],
   "source": [
    "weight = float(input('provide your weight'))\n",
    "print(weight,type(weight))"
   ]
  },
  {
   "cell_type": "markdown",
   "id": "e9d16d67",
   "metadata": {},
   "source": [
    "# Operators\n",
    "\n"
   ]
  },
  {
   "cell_type": "code",
   "execution_count": null,
   "id": "c5074b06",
   "metadata": {},
   "outputs": [],
   "source": [
    "#arthmetic, assignment, relationsl, logical\n",
    "x = 25\n",
    "y = 5\n",
    "p = y ** x\n",
    "print(str(p))\n",
    "print(len(str(p)))\n",
    "print(26 % 5 )"
   ]
  },
  {
   "cell_type": "code",
   "execution_count": null,
   "id": "a82e6577",
   "metadata": {},
   "outputs": [],
   "source": [
    "a = \"\"\n",
    "bool(a)\n",
    "\n"
   ]
  },
  {
   "cell_type": "markdown",
   "id": "a7543016",
   "metadata": {},
   "source": [
    "# Functions in python\n"
   ]
  },
  {
   "cell_type": "code",
   "execution_count": null,
   "id": "f23eeec6",
   "metadata": {},
   "outputs": [],
   "source": [
    "def ExamResult():\n",
    "    marks=int(input('enter your marks'))\n",
    "    if marks > 40:\n",
    "        print(\"pass ho gya bccchu tu to \")\n",
    "    else:\n",
    "        print(\"oh sorry ! you failed, padhai kara karo \")\n",
    "\n",
    "ExamResult()"
   ]
  },
  {
   "cell_type": "code",
   "execution_count": null,
   "id": "b271062d",
   "metadata": {},
   "outputs": [],
   "source": [
    "# if progreaammer did not specify the return statement , None is by default returned \n",
    "x = print(hello)\n",
    "print(x)"
   ]
  },
  {
   "cell_type": "code",
   "execution_count": null,
   "id": "54f45b36",
   "metadata": {},
   "outputs": [],
   "source": [
    "def mf1():\n",
    "  p0 = int(input(\"provide p0\"))\n",
    "  p1 = int(input(\"provide p0\"))\n",
    "  b = p0 + p1\n",
    "  return b\n",
    "  print(b)\n",
    "    \n",
    "r = mf1()\n",
    "print(r)\n",
    "print(type(mf1))\n",
    "#Commands after return are ignored by Python by Nature "
   ]
  },
  {
   "cell_type": "markdown",
   "id": "016781cc",
   "metadata": {},
   "source": [
    "# decision / Branching\n"
   ]
  },
  {
   "cell_type": "code",
   "execution_count": null,
   "id": "455d51ab",
   "metadata": {},
   "outputs": [],
   "source": [
    "else if , if alif \n"
   ]
  },
  {
   "cell_type": "markdown",
   "id": "bcb23313",
   "metadata": {},
   "source": [
    "# build in data structures"
   ]
  },
  {
   "cell_type": "code",
   "execution_count": null,
   "id": "6e5cfd3f",
   "metadata": {},
   "outputs": [],
   "source": [
    "def tempCheck():\n",
    "    temp = int(input(\"provide what is temp feels like\"))\n",
    "    if temp > 90:\n",
    "        print(\"it is hot\")\n",
    "    elif temp < 60:\n",
    "        print(\"it is cold\")\n",
    "    else:\n",
    "        print(\"its is just right\")\n",
    "        \n",
    "tempCheck()\n"
   ]
  },
  {
   "cell_type": "markdown",
   "id": "2329fc1e",
   "metadata": {},
   "source": [
    "# string Data type"
   ]
  },
  {
   "cell_type": "code",
   "execution_count": null,
   "id": "dbeb5f30",
   "metadata": {},
   "outputs": [],
   "source": [
    "#Strings are non mutable in memory\n",
    "#len for lenth of string\n",
    "#  Mutablity you cant change charactor \n"
   ]
  },
  {
   "cell_type": "code",
   "execution_count": null,
   "id": "2d9f931a",
   "metadata": {},
   "outputs": [],
   "source": [
    "ms1='python data'\n",
    "print(type(ms1))\n",
    "print(len(ms1))\n",
    "print(ms1)\n",
    "print(ms1[4])"
   ]
  },
  {
   "cell_type": "markdown",
   "id": "66a67daf",
   "metadata": {},
   "source": [
    "# accessing Values in Strings"
   ]
  },
  {
   "cell_type": "code",
   "execution_count": null,
   "id": "2b1a4234",
   "metadata": {},
   "outputs": [],
   "source": [
    "abc= 'ABCDFEFGHJKL'\n",
    "print(abc[-8:-2])\n",
    "print(abc[:])\n",
    "print(abc[::2])\n",
    "print(abc[-1::-1])"
   ]
  },
  {
   "cell_type": "markdown",
   "id": "0e34df80",
   "metadata": {},
   "source": [
    "# concatnation and membership\n"
   ]
  },
  {
   "cell_type": "code",
   "execution_count": null,
   "id": "fb9881db",
   "metadata": {},
   "outputs": [],
   "source": [
    "# + operator\n",
    "# in cheks for inclusion\n",
    "# not in checks for absense \n",
    "accounts=['1234','4344','3344']\n",
    "cs = input(\"provide account number\")\n",
    "if cs in accounts:\n",
    "    print(\"existing customers\")\n",
    "else:\n",
    "    print(\"new customer form\")"
   ]
  },
  {
   "cell_type": "code",
   "execution_count": null,
   "id": "5fd8ea97",
   "metadata": {},
   "outputs": [],
   "source": [
    "# KNow attributes of class \n",
    "print(dir(str))\n"
   ]
  },
  {
   "cell_type": "code",
   "execution_count": null,
   "id": "d16c09a5",
   "metadata": {},
   "outputs": [],
   "source": [
    "help(str.replace)\n"
   ]
  },
  {
   "cell_type": "code",
   "execution_count": null,
   "id": "e084bc83",
   "metadata": {},
   "outputs": [],
   "source": [
    "ms1 = \"hello\"\n",
    "ms2 = ms1[:]\n",
    "print(id(ms1))\n",
    "print(id(ms2))"
   ]
  },
  {
   "cell_type": "code",
   "execution_count": null,
   "id": "885bcbee",
   "metadata": {},
   "outputs": [],
   "source": [
    "ms1 = \"king ring singh\"\n",
    "ns1 = ms1.replace('ng','ds',2)\n",
    "print(ns1)\n"
   ]
  },
  {
   "cell_type": "markdown",
   "id": "567b167f",
   "metadata": {},
   "source": [
    "# replace/ find methodes"
   ]
  },
  {
   "cell_type": "code",
   "execution_count": null,
   "id": "f28abdb1",
   "metadata": {},
   "outputs": [],
   "source": [
    "mystr1 = \"nationalExchange\"\n",
    "index= mystr1.find('g')\n",
    "print(mystr1.find('a',4,7))\n",
    "print(mystr1.replace('g','o').find('g'))\n",
    "print(mystr1.count(a))"
   ]
  },
  {
   "cell_type": "code",
   "execution_count": null,
   "id": "e39248eb",
   "metadata": {},
   "outputs": [],
   "source": [
    "mystr1 = \"national stock exchange Mumbai\"\n",
    "c = mystr1.count('a')\n",
    "print(c)\n",
    "print(mystr1.lower())\n",
    "print(mystr1.swapcase())\n",
    "print(mystr1.title())\n",
    "print(mystr1.capitalize())\n",
    "print('2023'.isdigit())\n"
   ]
  },
  {
   "cell_type": "markdown",
   "id": "0d342c59",
   "metadata": {},
   "source": [
    "# Split & Join"
   ]
  },
  {
   "cell_type": "code",
   "execution_count": null,
   "id": "1419a0a8",
   "metadata": {},
   "outputs": [],
   "source": [
    "ms1 = \"world health org geneva\"\n",
    "ms1.split()"
   ]
  },
  {
   "cell_type": "code",
   "execution_count": null,
   "id": "21b5f0d4",
   "metadata": {},
   "outputs": [],
   "source": [
    "ms1 = \"world health org geneva\"\n",
    "ms1.split(' ',1)"
   ]
  },
  {
   "cell_type": "code",
   "execution_count": null,
   "id": "35749aee",
   "metadata": {},
   "outputs": [],
   "source": [
    "str1 = \"Jitendra_Singh_Engineer_Resume_SA\"\n",
    "str1.split('_',2)"
   ]
  },
  {
   "cell_type": "code",
   "execution_count": null,
   "id": "b1fdf47b",
   "metadata": {},
   "outputs": [],
   "source": [
    "str = ['national', 'stock','exchange','mumbai','city']\n",
    "ns1='_'.join(str)\n",
    "ns1"
   ]
  },
  {
   "cell_type": "markdown",
   "id": "79e5760b",
   "metadata": {},
   "source": [
    "# python way of printing"
   ]
  },
  {
   "cell_type": "code",
   "execution_count": null,
   "id": "9ac603fc",
   "metadata": {},
   "outputs": [],
   "source": [
    "average = 98.31\n",
    "sub = 'pysics'\n",
    "nums = 50\n",
    "#uncontrained placeholer will take any value ay date type can be given Nums can be at any place. positional Mapped \n",
    "print ('avergage marks in {} of {} student is {}'.format(sub,nums,average))\n",
    "# Index Constrains \n",
    "print ('avergage marks in {0} of {2} student is {1}'.format(sub,nums,average))\n",
    "# data type and parameter index constrains\n",
    "print ('avergage marks in {0:s} of {1:d} student is {2:.2F}'.format(sub,nums,average))\n",
    "#Data Type Constains \n",
    "print ('avergage marks in {:s} of {:d} student is {:.2f}'.format(sub,nums,average))"
   ]
  },
  {
   "cell_type": "markdown",
   "id": "c0777d14",
   "metadata": {},
   "source": [
    "# format "
   ]
  },
  {
   "cell_type": "code",
   "execution_count": null,
   "id": "60b981ff",
   "metadata": {},
   "outputs": [],
   "source": [
    "ns1 = '{:<20}'.format('python')\n",
    "ns1"
   ]
  },
  {
   "cell_type": "code",
   "execution_count": null,
   "id": "6582ab50",
   "metadata": {},
   "outputs": [],
   "source": [
    "help('formatting')"
   ]
  },
  {
   "cell_type": "code",
   "execution_count": null,
   "id": "f25d64c7",
   "metadata": {},
   "outputs": [],
   "source": [
    "for i in range(1,40,3):\n",
    "     print('{:^40}'.format('*'*i))\n",
    "for i in range(1,40,3):\n",
    "   print('{:^40}'.format('*'*i))"
   ]
  },
  {
   "cell_type": "markdown",
   "id": "fb97e33f",
   "metadata": {},
   "source": [
    "# escape sequences"
   ]
  },
  {
   "cell_type": "code",
   "execution_count": null,
   "id": "e0f915dd",
   "metadata": {},
   "outputs": [],
   "source": [
    "#\\n \\t"
   ]
  },
  {
   "cell_type": "code",
   "execution_count": null,
   "id": "92f7812e",
   "metadata": {},
   "outputs": [],
   "source": [
    "print('nse\\n mumbai')"
   ]
  },
  {
   "cell_type": "code",
   "execution_count": null,
   "id": "e07d5aff",
   "metadata": {},
   "outputs": [],
   "source": [
    "print('c:\\tiger')"
   ]
  },
  {
   "cell_type": "code",
   "execution_count": null,
   "id": "98338a64",
   "metadata": {},
   "outputs": [],
   "source": [
    "print('c:\\\\tiger')"
   ]
  },
  {
   "cell_type": "markdown",
   "id": "8e788507",
   "metadata": {},
   "source": [
    "# Lists "
   ]
  },
  {
   "cell_type": "code",
   "execution_count": null,
   "id": "41acd223",
   "metadata": {},
   "outputs": [],
   "source": [
    "# list is an ordred set of values where eash value is identified by an index\n",
    "#Lists are mutable \n",
    "#can be iterated using loop\n",
    "mylist1=list('jitendra')\n",
    "print(mylist1)\n",
    "mylist1[1]='k' # mutable types\n",
    "print(mylist1)\n",
    "print('manuplating')\n",
    "mylist1[1]='i'\n",
    "a=''.join(mylist1)\n",
    "\n",
    "print(mylist1)"
   ]
  },
  {
   "cell_type": "markdown",
   "id": "c4a92d0f",
   "metadata": {},
   "source": [
    "# matrix reprresenations\n",
    "\n"
   ]
  },
  {
   "cell_type": "code",
   "execution_count": null,
   "id": "e484aadd",
   "metadata": {},
   "outputs": [],
   "source": [
    "matrix34 = [[11,12,13,14],[15,16,17,18],[19,20,21,22]]\n",
    "matrix34[1][1]\n",
    "matrix34[1]\n",
    "print(type(matrix34))\n",
    "print(dir(list))"
   ]
  },
  {
   "cell_type": "code",
   "execution_count": null,
   "id": "38ba246a",
   "metadata": {},
   "outputs": [],
   "source": [
    "mylist1=[2,4,6,3,5,7,1]\n",
    "mylist2=[1,2,3]\n",
    "mylist1.extend([5,10,15])\n",
    "mylist1.extend(['hello','ok'])\n",
    "mylist1\n"
   ]
  },
  {
   "cell_type": "code",
   "execution_count": null,
   "id": "2208c564",
   "metadata": {},
   "outputs": [],
   "source": [
    "#insert\n",
    "mlist2=[1,1,3]\n",
    "mylist1.insert(1,\"hello\")\n",
    "mylist1"
   ]
  },
  {
   "cell_type": "code",
   "execution_count": null,
   "id": "a3f5bf79",
   "metadata": {},
   "outputs": [],
   "source": [
    "list1=[1,2,3]\n",
    "list1.insert(-1,\"hello\")\n",
    "list1\n",
    "#list1.pop()\n",
    "#list1"
   ]
  },
  {
   "cell_type": "code",
   "execution_count": null,
   "id": "52a36c89",
   "metadata": {},
   "outputs": [],
   "source": [
    "mylist3\n",
    "print('check')\n",
    "mylist2=mylist3.copy()\n",
    "mylist2\n",
    "mylist4=mylist2.copy()\n",
    "mylist4"
   ]
  },
  {
   "cell_type": "code",
   "execution_count": null,
   "id": "2cde9e33",
   "metadata": {},
   "outputs": [],
   "source": [
    "mylist1=list('pythong data cycing')\n",
    "i = mylist1.index('a')\n",
    "print(i)\n",
    "c = mylist1.count('a')\n",
    "print(c)\n",
    "max(mylist1)\n"
   ]
  },
  {
   "cell_type": "code",
   "execution_count": null,
   "id": "8ee414eb",
   "metadata": {},
   "outputs": [],
   "source": [
    "mylist3=[2,4,7]\n",
    "max(mylist3)\n"
   ]
  },
  {
   "cell_type": "code",
   "execution_count": null,
   "id": "7b0f5fb6",
   "metadata": {},
   "outputs": [],
   "source": [
    "mylist2=['a','y','z']\n",
    "max(mylist2)"
   ]
  },
  {
   "cell_type": "markdown",
   "id": "a4315171",
   "metadata": {},
   "source": [
    "# List Sort"
   ]
  },
  {
   "cell_type": "code",
   "execution_count": null,
   "id": "ad8284ce",
   "metadata": {},
   "outputs": [],
   "source": [
    "mylist1= [2,4,6,8,9,4,3,9]\n",
    "mylist1.sort()\n",
    "mylist1"
   ]
  },
  {
   "cell_type": "code",
   "execution_count": null,
   "id": "1857b9f1",
   "metadata": {},
   "outputs": [],
   "source": [
    "mylist1 = [2,4,6,8,9,4,3,9]\n",
    "mylist1.sort(reverse=True)\n",
    "mylist1"
   ]
  },
  {
   "cell_type": "code",
   "execution_count": null,
   "id": "4c4e3f42",
   "metadata": {},
   "outputs": [],
   "source": [
    "mylist1 = [2,4,6,8,9,4,3,9,\"HELLO\"]\n",
    "mylist1.sort(reverse=True)\n",
    "mylist1"
   ]
  },
  {
   "cell_type": "code",
   "execution_count": null,
   "id": "8eddad58",
   "metadata": {},
   "outputs": [],
   "source": [
    "\n",
    "mylist1 = [2,4,6,8,9,4,3,9,\"HELLO\"]\n",
    "mylist1.sort(reverse=True)\n",
    "mylist1"
   ]
  },
  {
   "cell_type": "code",
   "execution_count": 1,
   "id": "e8075829",
   "metadata": {},
   "outputs": [],
   "source": [
    "def key1(obj):\n",
    "    if isinstance(obj,(int,float)):\n",
    "        return(obj)\n",
    "    if isinstance(obj,str):\n",
    "        return len(obj)\n",
    "    return 0"
   ]
  },
  {
   "cell_type": "code",
   "execution_count": 2,
   "id": "8a1c4a8f",
   "metadata": {},
   "outputs": [
    {
     "name": "stdout",
     "output_type": "stream",
     "text": [
      "[2, 3, 4, 'HELLO', 6, 8, 9, 9]\n"
     ]
    }
   ],
   "source": [
    "mylist1 = [2,4,6,8,9,3,9,\"HELLO\"]\n",
    "mylist1.sort(key=key1)\n",
    "print(mylist1)"
   ]
  },
  {
   "cell_type": "code",
   "execution_count": null,
   "id": "838979ea",
   "metadata": {},
   "outputs": [],
   "source": [
    "# shallo and Deep copy \n"
   ]
  }
 ],
 "metadata": {
  "kernelspec": {
   "display_name": "Python 3 (ipykernel)",
   "language": "python",
   "name": "python3"
  },
  "language_info": {
   "codemirror_mode": {
    "name": "ipython",
    "version": 3
   },
   "file_extension": ".py",
   "mimetype": "text/x-python",
   "name": "python",
   "nbconvert_exporter": "python",
   "pygments_lexer": "ipython3",
   "version": "3.10.9"
  }
 },
 "nbformat": 4,
 "nbformat_minor": 5
}
