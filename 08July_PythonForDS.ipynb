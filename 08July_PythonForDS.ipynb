{
 "cells": [
  {
   "cell_type": "markdown",
   "id": "361f8b27",
   "metadata": {},
   "source": [
    "# 08 July Py for DS session 1\n"
   ]
  },
  {
   "cell_type": "code",
   "execution_count": null,
   "id": "0c0767b7",
   "metadata": {},
   "outputs": [],
   "source": [
    "\n",
    "#single line comments\n",
    "print(\"National Stock Exchange\")\n",
    "#print(\"ignore value\")\n",
    "print('new york # stock excahnge')\n",
    "# Multiple line comments , new line seprates statements , it executes one at a time , use ; to seprate within same line\n",
    "\n"
   ]
  },
  {
   "cell_type": "code",
   "execution_count": null,
   "id": "36bae9fd",
   "metadata": {},
   "outputs": [],
   "source": [
    "exchange = 'abc' print(\"excahnge\")\n",
    "                    \n",
    "# sends the exception object of  class syntax error with string  msg  and interpreter stops further processing once it gets the error \n"
   ]
  },
  {
   "cell_type": "code",
   "execution_count": null,
   "id": "fab72e75",
   "metadata": {},
   "outputs": [],
   "source": [
    "exchange = 'abc' ;print(exchange)\n",
    "                    "
   ]
  },
  {
   "cell_type": "code",
   "execution_count": null,
   "id": "2109f012",
   "metadata": {},
   "outputs": [],
   "source": [
    "ms1 = 'line 1 of string\n",
    "line2 \n",
    "line3'\n",
    "#string should terminate in same line else you would get error "
   ]
  },
  {
   "cell_type": "code",
   "execution_count": null,
   "id": "4830f8b8",
   "metadata": {},
   "outputs": [],
   "source": [
    "#Paragraph strings\n",
    "paragraph = \"\"\"cow is animal \n",
    "it gives milk \"\"\"\n",
    "print(paragraph)\n",
    "print(type(paragraph))\n",
    "#Paragraph is a variable looking at an object of class string str.\n"
   ]
  },
  {
   "cell_type": "code",
   "execution_count": null,
   "id": "8786d7d3",
   "metadata": {},
   "outputs": [],
   "source": [
    "# if you do not attach paragraph to  a variable  it become  a block comment \n",
    "exchange = \"NSE\"\n",
    "\n",
    "\"\"\"\n",
    "print adfd\n",
    "obc\n",
    "\n",
    "\"\"\"\n",
    "#print(exchange)\n",
    "# it will only print what jupter has  not  python "
   ]
  },
  {
   "cell_type": "code",
   "execution_count": null,
   "id": "9aeda919",
   "metadata": {},
   "outputs": [],
   "source": [
    "n1 = 30\n",
    "n1\n",
    "#jupyter IDE is intellegent enough so its not python which is giving the result"
   ]
  },
  {
   "cell_type": "code",
   "execution_count": null,
   "id": "bf41a97f",
   "metadata": {},
   "outputs": [],
   "source": [
    "n = 'b' \n",
    "print(n)\n",
    "##commit"
   ]
  },
  {
   "cell_type": "code",
   "execution_count": null,
   "id": "6c98e32b",
   "metadata": {},
   "outputs": [],
   "source": [
    "#Python var Type\n",
    "ABC=10\n",
    "abc=20\n",
    "print(abc)\n",
    "print(ABC)"
   ]
  },
  {
   "cell_type": "code",
   "execution_count": null,
   "id": "0a8383f5",
   "metadata": {},
   "outputs": [],
   "source": [
    "import keyword\n",
    "print(keyword.kwlist)"
   ]
  },
  {
   "cell_type": "code",
   "execution_count": null,
   "id": "f9beefd0",
   "metadata": {},
   "outputs": [],
   "source": [
    "import keyword\n",
    "print(type(keyword))\n",
    "# keyword is object of class Module type Module "
   ]
  },
  {
   "cell_type": "code",
   "execution_count": null,
   "id": "f770b5ac",
   "metadata": {},
   "outputs": [],
   "source": [
    "#indentation of code block \n",
    "#within same block indentation should be same \n",
    "# across the block its fine \n",
    "a = 10\n",
    "while a > 0:\n",
    "    print(a)\n",
    "    a = a -1 \n"
   ]
  },
  {
   "cell_type": "code",
   "execution_count": null,
   "id": "0b56df75",
   "metadata": {},
   "outputs": [],
   "source": [
    "sensor = 1\n",
    "if sensor ==0:\n",
    "    print('level is low')\n",
    "    print('swith on motor')\n",
    "else:\n",
    "    print('level is high')\n",
    "    print('swich off motor')\n",
    "    \n",
    "    \n",
    "    "
   ]
  },
  {
   "cell_type": "markdown",
   "id": "89d3570d",
   "metadata": {},
   "source": [
    "# assignments"
   ]
  },
  {
   "cell_type": "code",
   "execution_count": null,
   "id": "c18d4e46",
   "metadata": {},
   "outputs": [],
   "source": [
    "myint1 = 20\n",
    "myint = int(20)\n",
    "myint2 = 20 \n",
    "print(type(myint1))\n",
    "print(type(myint2))\n",
    "print(type(myint))\n",
    "print(id(myint1))\n",
    "print(id(myint2))\n",
    "#type returns the class name\n",
    "# ID returns virtual address of the object\n"
   ]
  },
  {
   "cell_type": "code",
   "execution_count": null,
   "id": "17dcb6d5",
   "metadata": {},
   "outputs": [],
   "source": [
    "var1 = (20,30,'python')\n",
    "print(var1)\n",
    "print(type(var1))\n",
    "print(id(var1))\n",
    "print(var1[0])"
   ]
  },
  {
   "cell_type": "code",
   "execution_count": null,
   "id": "239b0759",
   "metadata": {},
   "outputs": [],
   "source": [
    "var1 = {'bank':'sbi','branch':'ecity'}\n",
    "print(var1)\n",
    "print(type(var1))\n",
    "print(id(var1))\n",
    "print(var1['bank'],var1['branch'])"
   ]
  },
  {
   "cell_type": "code",
   "execution_count": null,
   "id": "e224b81b",
   "metadata": {},
   "outputs": [],
   "source": [
    "myint = (10,20,30)\n",
    "print(type(myint))\n",
    "myint[0]= 22\n",
    "print(myint)\n",
    "# tuple are not changable\n"
   ]
  },
  {
   "cell_type": "code",
   "execution_count": null,
   "id": "d94929f5",
   "metadata": {},
   "outputs": [],
   "source": [
    "a = b = c = 2345\n",
    "print(id(a))\n",
    "print(id(b))\n",
    "print(id(c))\n",
    "# same memory locations\n",
    "a = 2345\n",
    "b = 2345\n",
    "c = 2345 \n",
    "print(id(a))\n",
    "print(id(b))\n",
    "print(id(c))\n",
    "#diff memory location"
   ]
  },
  {
   "cell_type": "code",
   "execution_count": null,
   "id": "b707595f",
   "metadata": {},
   "outputs": [],
   "source": [
    "# positional mapping\n",
    "a , b , c = 12000 ,'hello' , 12000\n",
    "print(id(a))\n",
    "print(id(b))\n",
    "print(id(c))\n",
    "print(a)\n",
    "print(b)\n",
    "print(c)"
   ]
  },
  {
   "cell_type": "markdown",
   "id": "74d8d12c",
   "metadata": {},
   "source": [
    "# take data from keyboard"
   ]
  },
  {
   "cell_type": "code",
   "execution_count": null,
   "id": "4010765b",
   "metadata": {},
   "outputs": [],
   "source": [
    "name = input(\"what is your name\")\n",
    "print(\"my name is \" + ''+ name)\n",
    "print(type(name))\n",
    "print(len(name))\n",
    "# Lenth using len\n",
    "#Keyboard input will always return  object Type of class STR"
   ]
  },
  {
   "cell_type": "code",
   "execution_count": null,
   "id": "ad51b83d",
   "metadata": {},
   "outputs": [],
   "source": [
    "marks = input('enter marks')\n",
    "print(marks)\n",
    "print(type(marks))\n",
    "#marks1= int(marks)\n",
    "newmarks = marks + 5 \n",
    "print(newmarks)\n"
   ]
  },
  {
   "cell_type": "code",
   "execution_count": null,
   "id": "3bc792cb",
   "metadata": {},
   "outputs": [],
   "source": [
    "marks = input('enter marks')\n",
    "print(marks)\n",
    "print(type(marks))\n",
    "marks1= int(marks)\n",
    "newmarks = marks1 + 5 \n",
    "print(newmarks)\n"
   ]
  },
  {
   "cell_type": "code",
   "execution_count": null,
   "id": "e549b656",
   "metadata": {},
   "outputs": [],
   "source": [
    "weight = float(input('provide your weight'))\n",
    "print(weight,type(weight))"
   ]
  },
  {
   "cell_type": "markdown",
   "id": "32ffdc50",
   "metadata": {},
   "source": [
    "# Operators\n",
    "\n"
   ]
  },
  {
   "cell_type": "code",
   "execution_count": null,
   "id": "77694cfe",
   "metadata": {},
   "outputs": [],
   "source": [
    "#arthmetic, assignment, relationsl, logical\n",
    "x = 25\n",
    "y = 5\n",
    "p = y ** x\n",
    "print(str(p))\n",
    "print(len(str(p)))\n",
    "print(26 % 5 )"
   ]
  },
  {
   "cell_type": "code",
   "execution_count": null,
   "id": "843ad9a9",
   "metadata": {},
   "outputs": [],
   "source": [
    "a = \"\"\n",
    "bool(a)\n",
    "\n"
   ]
  },
  {
   "cell_type": "markdown",
   "id": "57e0f606",
   "metadata": {},
   "source": [
    "# Functions in python\n"
   ]
  },
  {
   "cell_type": "code",
   "execution_count": null,
   "id": "7f6051ed",
   "metadata": {},
   "outputs": [],
   "source": [
    "def ExamResult():\n",
    "    marks=int(input('enter your marks'))\n",
    "    if marks > 40:\n",
    "        print(\"pass ho gya bccchu tu to \")\n",
    "    else:\n",
    "        print(\"oh sorry ! you failed, padhai kara karo \")\n",
    "\n",
    "ExamResult()"
   ]
  },
  {
   "cell_type": "code",
   "execution_count": null,
   "id": "d9e67d8f",
   "metadata": {},
   "outputs": [],
   "source": [
    "# if progreaammer did not specify the return statement , None is by default returned \n",
    "x = print(hello)\n",
    "print(x)"
   ]
  },
  {
   "cell_type": "code",
   "execution_count": null,
   "id": "b76c173e",
   "metadata": {},
   "outputs": [],
   "source": [
    "def mf1():\n",
    "  p0 = int(input(\"provide p0\"))\n",
    "  p1 = int(input(\"provide p0\"))\n",
    "  b = p0 + p1\n",
    "  return b\n",
    "  print(b)\n",
    "    \n",
    "r = mf1()\n",
    "print(r)\n",
    "print(type(mf1))\n",
    "#Commands after return are ignored by Python by Nature "
   ]
  },
  {
   "cell_type": "markdown",
   "id": "835ba4cf",
   "metadata": {},
   "source": [
    "# decision / Branching\n"
   ]
  },
  {
   "cell_type": "code",
   "execution_count": null,
   "id": "df962202",
   "metadata": {},
   "outputs": [],
   "source": [
    "else if , if alif \n"
   ]
  },
  {
   "cell_type": "markdown",
   "id": "76d4cd92",
   "metadata": {},
   "source": [
    "# build in data structures"
   ]
  },
  {
   "cell_type": "code",
   "execution_count": null,
   "id": "59c1259c",
   "metadata": {},
   "outputs": [],
   "source": [
    "def tempCheck():\n",
    "    temp = int(input(\"provide what is temp feels like\"))\n",
    "    if temp > 90:\n",
    "        print(\"it is hot\")\n",
    "    elif temp < 60:\n",
    "        print(\"it is cold\")\n",
    "    else:\n",
    "        print(\"its is just right\")\n",
    "        \n",
    "tempCheck()\n"
   ]
  },
  {
   "cell_type": "markdown",
   "id": "8fb45c98",
   "metadata": {},
   "source": [
    "# string Data type"
   ]
  },
  {
   "cell_type": "code",
   "execution_count": null,
   "id": "5b54c4f4",
   "metadata": {},
   "outputs": [],
   "source": [
    "#Strings are non mutable in memory\n",
    "#len for lenth of string\n",
    "#  Mutablity you cant change charactor \n"
   ]
  },
  {
   "cell_type": "code",
   "execution_count": null,
   "id": "08186ccc",
   "metadata": {},
   "outputs": [],
   "source": [
    "ms1='python data'\n",
    "print(type(ms1))\n",
    "print(len(ms1))\n",
    "print(ms1)\n",
    "print(ms1[4])"
   ]
  },
  {
   "cell_type": "markdown",
   "id": "1a2d4a31",
   "metadata": {},
   "source": [
    "# accessing Values in Strings"
   ]
  },
  {
   "cell_type": "code",
   "execution_count": null,
   "id": "d5460b40",
   "metadata": {},
   "outputs": [],
   "source": [
    "abc= 'ABCDFEFGHJKL'\n",
    "print(abc[-8:-2])\n",
    "print(abc[:])\n",
    "print(abc[::2])\n",
    "print(abc[-1::-1])"
   ]
  },
  {
   "cell_type": "markdown",
   "id": "4512e0cd",
   "metadata": {},
   "source": [
    "# concatnation and membership\n"
   ]
  },
  {
   "cell_type": "code",
   "execution_count": null,
   "id": "89f9013d",
   "metadata": {},
   "outputs": [],
   "source": [
    "# + operator\n",
    "# in cheks for inclusion\n",
    "# not in checks for absense \n",
    "accounts=['1234','4344','3344']\n",
    "cs = input(\"provide account number\")\n",
    "if cs in accounts:\n",
    "    print(\"existing customers\")\n",
    "else:\n",
    "    print(\"new customer form\")"
   ]
  },
  {
   "cell_type": "code",
   "execution_count": null,
   "id": "0dc76026",
   "metadata": {},
   "outputs": [],
   "source": [
    "# KNow attributes of class \n",
    "print(dir(str))\n"
   ]
  },
  {
   "cell_type": "code",
   "execution_count": null,
   "id": "b069406a",
   "metadata": {},
   "outputs": [],
   "source": [
    "help(str.replace)\n"
   ]
  },
  {
   "cell_type": "code",
   "execution_count": null,
   "id": "0521a358",
   "metadata": {},
   "outputs": [],
   "source": [
    "ms1 = \"hello\"\n",
    "ms2 = ms1[:]\n",
    "print(id(ms1))\n",
    "print(id(ms2))"
   ]
  },
  {
   "cell_type": "code",
   "execution_count": null,
   "id": "95ae988c",
   "metadata": {},
   "outputs": [],
   "source": [
    "ms1 = \"king ring singh\"\n",
    "ns1 = ms1.replace('ng','ds',2)\n",
    "print(ns1)\n"
   ]
  },
  {
   "cell_type": "markdown",
   "id": "b020c9b3",
   "metadata": {},
   "source": [
    "# replace/ find methodes"
   ]
  },
  {
   "cell_type": "code",
   "execution_count": null,
   "id": "da130ed3",
   "metadata": {},
   "outputs": [],
   "source": [
    "mystr1 = \"nationalExchange\"\n",
    "index= mystr1.find('g')\n",
    "print(mystr1.find('a',4,7))\n",
    "print(mystr1.replace('g','o').find('g'))\n",
    "print(mystr1.count(a))"
   ]
  },
  {
   "cell_type": "code",
   "execution_count": null,
   "id": "02491f53",
   "metadata": {},
   "outputs": [],
   "source": [
    "mystr1 = \"national stock exchange Mumbai\"\n",
    "c = mystr1.count('a')\n",
    "print(c)\n",
    "print(mystr1.lower())\n",
    "print(mystr1.swapcase())\n",
    "print(mystr1.title())\n",
    "print(mystr1.capitalize())\n",
    "print('2023'.isdigit())\n"
   ]
  },
  {
   "cell_type": "markdown",
   "id": "c6ec8178",
   "metadata": {},
   "source": [
    "# Split & Join"
   ]
  },
  {
   "cell_type": "code",
   "execution_count": null,
   "id": "220e0ad6",
   "metadata": {},
   "outputs": [],
   "source": [
    "ms1 = \"world health org geneva\"\n",
    "ms1.split()"
   ]
  },
  {
   "cell_type": "code",
   "execution_count": null,
   "id": "8c942dbe",
   "metadata": {},
   "outputs": [],
   "source": [
    "ms1 = \"world health org geneva\"\n",
    "ms1.split(' ',1)"
   ]
  },
  {
   "cell_type": "code",
   "execution_count": null,
   "id": "598e3f89",
   "metadata": {},
   "outputs": [],
   "source": [
    "str1 = \"Jitendra_Singh_Engineer_Resume_SA\"\n",
    "str1.split('_',2)"
   ]
  },
  {
   "cell_type": "code",
   "execution_count": null,
   "id": "3aac9f64",
   "metadata": {},
   "outputs": [],
   "source": [
    "str = ['national', 'stock','exchange','mumbai','city']\n",
    "ns1='_'.join(str)\n",
    "ns1"
   ]
  },
  {
   "cell_type": "markdown",
   "id": "5ca90209",
   "metadata": {},
   "source": [
    "# python way of printing"
   ]
  },
  {
   "cell_type": "code",
   "execution_count": null,
   "id": "ab4cbba1",
   "metadata": {},
   "outputs": [],
   "source": [
    "average = 98.31\n",
    "sub = 'pysics'\n",
    "nums = 50\n",
    "#uncontrained placeholer will take any value ay date type can be given Nums can be at any place. positional Mapped \n",
    "print ('avergage marks in {} of {} student is {}'.format(sub,nums,average))\n",
    "# Index Constrains \n",
    "print ('avergage marks in {0} of {2} student is {1}'.format(sub,nums,average))\n",
    "# data type and parameter index constrains\n",
    "print ('avergage marks in {0:s} of {1:d} student is {2:.2F}'.format(sub,nums,average))\n",
    "#Data Type Constains \n",
    "print ('avergage marks in {:s} of {:d} student is {:.2f}'.format(sub,nums,average))"
   ]
  },
  {
   "cell_type": "markdown",
   "id": "81ae8d32",
   "metadata": {},
   "source": [
    "# format "
   ]
  },
  {
   "cell_type": "code",
   "execution_count": null,
   "id": "e3d8cb59",
   "metadata": {},
   "outputs": [],
   "source": [
    "ns1 = '{:<20}'.format('python')\n",
    "ns1"
   ]
  },
  {
   "cell_type": "code",
   "execution_count": null,
   "id": "75321ccb",
   "metadata": {},
   "outputs": [],
   "source": [
    "help('formatting')"
   ]
  },
  {
   "cell_type": "code",
   "execution_count": null,
   "id": "ae5cfe20",
   "metadata": {},
   "outputs": [],
   "source": [
    "for i in range(1,40,3):\n",
    "     print('{:^40}'.format('*'*i))\n",
    "for i in range(1,40,3):\n",
    "   print('{:^40}'.format('*'*i))"
   ]
  },
  {
   "cell_type": "markdown",
   "id": "d6da2330",
   "metadata": {},
   "source": [
    "# escape sequences"
   ]
  },
  {
   "cell_type": "code",
   "execution_count": null,
   "id": "0a29efbc",
   "metadata": {},
   "outputs": [],
   "source": [
    "#\\n \\t"
   ]
  },
  {
   "cell_type": "code",
   "execution_count": null,
   "id": "c9e63998",
   "metadata": {},
   "outputs": [],
   "source": [
    "print('nse\\n mumbai')"
   ]
  },
  {
   "cell_type": "code",
   "execution_count": null,
   "id": "f1e24ca3",
   "metadata": {},
   "outputs": [],
   "source": [
    "print('c:\\tiger')"
   ]
  },
  {
   "cell_type": "code",
   "execution_count": null,
   "id": "69e69951",
   "metadata": {},
   "outputs": [],
   "source": [
    "print('c:\\\\tiger')"
   ]
  },
  {
   "cell_type": "markdown",
   "id": "d7444257",
   "metadata": {},
   "source": [
    "# Lists "
   ]
  },
  {
   "cell_type": "code",
   "execution_count": null,
   "id": "7cb9f280",
   "metadata": {},
   "outputs": [],
   "source": [
    "# list is an ordred set of values where eash value is identified by an index\n",
    "#Lists are mutable \n",
    "#can be iterated using loop\n",
    "mylist1=list('jitendra')\n",
    "print(mylist1)\n",
    "mylist1[1]='k' # mutable types\n",
    "print(mylist1)\n",
    "print('manuplating')\n",
    "mylist1[1]='i'\n",
    "a=''.join(mylist1)\n",
    "\n",
    "print(mylist1)"
   ]
  },
  {
   "cell_type": "markdown",
   "id": "cb247549",
   "metadata": {},
   "source": [
    "# matrix reprresenations\n",
    "\n"
   ]
  },
  {
   "cell_type": "code",
   "execution_count": null,
   "id": "8e877424",
   "metadata": {},
   "outputs": [],
   "source": [
    "matrix34 = [[11,12,13,14],[15,16,17,18],[19,20,21,22]]\n",
    "matrix34[1][1]\n",
    "matrix34[1]\n",
    "print(type(matrix34))\n",
    "print(dir(list))"
   ]
  },
  {
   "cell_type": "code",
   "execution_count": null,
   "id": "6200772e",
   "metadata": {},
   "outputs": [],
   "source": [
    "mylist1=[2,4,6,3,5,7,1]\n",
    "mylist2=[1,2,3]\n",
    "mylist1.extend([5,10,15])\n",
    "mylist1.extend(['hello','ok'])\n",
    "mylist1\n"
   ]
  },
  {
   "cell_type": "code",
   "execution_count": null,
   "id": "2980174d",
   "metadata": {},
   "outputs": [],
   "source": [
    "#insert\n",
    "mlist2=[1,1,3]\n",
    "mylist1.insert(1,\"hello\")\n",
    "mylist1"
   ]
  },
  {
   "cell_type": "code",
   "execution_count": null,
   "id": "13331217",
   "metadata": {},
   "outputs": [],
   "source": [
    "list1=[1,2,3]\n",
    "list1.insert(-1,\"hello\")\n",
    "list1\n",
    "#list1.pop()\n",
    "#list1"
   ]
  },
  {
   "cell_type": "code",
   "execution_count": null,
   "id": "3a3924ea",
   "metadata": {},
   "outputs": [],
   "source": [
    "mylist3\n",
    "print('check')\n",
    "mylist2=mylist3.copy()\n",
    "mylist2\n",
    "mylist4=mylist2.copy()\n",
    "mylist4"
   ]
  },
  {
   "cell_type": "code",
   "execution_count": null,
   "id": "73f773fe",
   "metadata": {},
   "outputs": [],
   "source": [
    "mylist1=list('pythong data cycing')\n",
    "i = mylist1.index('a')\n",
    "print(i)\n",
    "c = mylist1.count('a')\n",
    "print(c)\n",
    "max(mylist1)\n"
   ]
  },
  {
   "cell_type": "code",
   "execution_count": null,
   "id": "33a62073",
   "metadata": {},
   "outputs": [],
   "source": [
    "mylist3=[2,4,7]\n",
    "max(mylist3)\n"
   ]
  },
  {
   "cell_type": "code",
   "execution_count": null,
   "id": "7b9d6f90",
   "metadata": {},
   "outputs": [],
   "source": [
    "mylist2=['a','y','z']\n",
    "max(mylist2)"
   ]
  },
  {
   "cell_type": "markdown",
   "id": "a865a855",
   "metadata": {},
   "source": [
    "# List Sort"
   ]
  },
  {
   "cell_type": "code",
   "execution_count": null,
   "id": "bbc7582b",
   "metadata": {},
   "outputs": [],
   "source": [
    "mylist1= [2,4,6,8,9,4,3,9]\n",
    "mylist1.sort()\n",
    "mylist1"
   ]
  },
  {
   "cell_type": "code",
   "execution_count": null,
   "id": "a5505ad5",
   "metadata": {},
   "outputs": [],
   "source": [
    "mylist1 = [2,4,6,8,9,4,3,9]\n",
    "mylist1.sort(reverse=True)\n",
    "mylist1"
   ]
  },
  {
   "cell_type": "code",
   "execution_count": null,
   "id": "da8f2df2",
   "metadata": {},
   "outputs": [],
   "source": [
    "mylist1 = [2,4,6,8,9,4,3,9,\"HELLO\"]\n",
    "mylist1.sort(reverse=True)\n",
    "mylist1"
   ]
  },
  {
   "cell_type": "code",
   "execution_count": null,
   "id": "f3eff1e2",
   "metadata": {},
   "outputs": [],
   "source": [
    "\n",
    "mylist1 = [2,4,6,8,9,4,3,9,\"HELLO\"]\n",
    "mylist1.sort(reverse=True)\n",
    "mylist1"
   ]
  },
  {
   "cell_type": "code",
   "execution_count": 1,
   "id": "63d82423",
   "metadata": {},
   "outputs": [],
   "source": [
    "def key1(obj):\n",
    "    if isinstance(obj,(int,float)):\n",
    "        return(obj)\n",
    "    if isinstance(obj,str):\n",
    "        return len(obj)\n",
    "    return 0"
   ]
  },
  {
   "cell_type": "code",
   "execution_count": 2,
   "id": "e1019941",
   "metadata": {},
   "outputs": [
    {
     "name": "stdout",
     "output_type": "stream",
     "text": [
      "[2, 3, 4, 'HELLO', 6, 8, 9, 9]\n"
     ]
    }
   ],
   "source": [
    "mylist1 = [2,4,6,8,9,3,9,\"HELLO\"]\n",
    "mylist1.sort(key=key1)\n",
    "print(mylist1)"
   ]
  },
  {
   "cell_type": "code",
   "execution_count": 3,
   "id": "9d70f0dc",
   "metadata": {},
   "outputs": [],
   "source": [
    "# shallo and Deep copy \n",
    "#practics"
   ]
  },
  {
   "cell_type": "markdown",
   "id": "bee06511",
   "metadata": {},
   "source": [
    "# Tuple"
   ]
  },
  {
   "cell_type": "code",
   "execution_count": 18,
   "id": "8a84154b",
   "metadata": {},
   "outputs": [
    {
     "name": "stdout",
     "output_type": "stream",
     "text": [
      "<class 'tuple'>\n"
     ]
    }
   ],
   "source": [
    "mult1=(123,)\n",
    "print(type(mult1))"
   ]
  },
  {
   "cell_type": "code",
   "execution_count": 24,
   "id": "64a75323",
   "metadata": {},
   "outputs": [
    {
     "name": "stdout",
     "output_type": "stream",
     "text": [
      "('a', [1, 1, 2])\n"
     ]
    }
   ],
   "source": [
    "mt1=('a',[1,1,1])\n",
    "mt1[1]\n",
    "mt1[1][2]=2\n",
    "print(mt1)"
   ]
  },
  {
   "cell_type": "markdown",
   "id": "e8427bf8",
   "metadata": {},
   "source": [
    "# Tuple functions \n"
   ]
  },
  {
   "cell_type": "code",
   "execution_count": 25,
   "id": "f8dcec12",
   "metadata": {},
   "outputs": [],
   "source": [
    "#concatanation,repetiion ,\n",
    "# in membership operator \n",
    "#slicing same as in strings"
   ]
  },
  {
   "cell_type": "code",
   "execution_count": 30,
   "id": "33762436",
   "metadata": {},
   "outputs": [
    {
     "data": {
      "text/plain": [
       "['__add__',\n",
       " '__class__',\n",
       " '__class_getitem__',\n",
       " '__contains__',\n",
       " '__delattr__',\n",
       " '__dir__',\n",
       " '__doc__',\n",
       " '__eq__',\n",
       " '__format__',\n",
       " '__ge__',\n",
       " '__getattribute__',\n",
       " '__getitem__',\n",
       " '__getnewargs__',\n",
       " '__gt__',\n",
       " '__hash__',\n",
       " '__init__',\n",
       " '__init_subclass__',\n",
       " '__iter__',\n",
       " '__le__',\n",
       " '__len__',\n",
       " '__lt__',\n",
       " '__mul__',\n",
       " '__ne__',\n",
       " '__new__',\n",
       " '__reduce__',\n",
       " '__reduce_ex__',\n",
       " '__repr__',\n",
       " '__rmul__',\n",
       " '__setattr__',\n",
       " '__sizeof__',\n",
       " '__str__',\n",
       " '__subclasshook__',\n",
       " 'count',\n",
       " 'index']"
      ]
     },
     "execution_count": 30,
     "metadata": {},
     "output_type": "execute_result"
    }
   ],
   "source": [
    "dir(tuple)"
   ]
  },
  {
   "cell_type": "code",
   "execution_count": 37,
   "id": "8230763c",
   "metadata": {},
   "outputs": [
    {
     "name": "stdout",
     "output_type": "stream",
     "text": [
      "9\n",
      "2\n",
      "(2, 4, 6, 7, 8, 9, 3, 20, 2)\n"
     ]
    },
    {
     "data": {
      "text/plain": [
       "tuple"
      ]
     },
     "execution_count": 37,
     "metadata": {},
     "output_type": "execute_result"
    }
   ],
   "source": [
    "mt2=(2,4,6,7,8,9,3)\n",
    "print(max(mt2))\n",
    "mn=min(mt2)\n",
    "print(mn)\n",
    "mylist2=list(mt2)\n",
    "mylist2.append(20)\n",
    "mylist2.append(2)\n",
    "mt3=tuple(mylist2)\n",
    "print(mt3)\n",
    "type(mt3)"
   ]
  },
  {
   "cell_type": "markdown",
   "id": "568b608b",
   "metadata": {},
   "source": [
    "# PYthon disctionary  key value pairs\n"
   ]
  },
  {
   "cell_type": "code",
   "execution_count": 47,
   "id": "c0c7a76f",
   "metadata": {},
   "outputs": [
    {
     "data": {
      "text/plain": [
       "{'empname': 'Jitendra',\n",
       " 'manager': 'ketan',\n",
       " 'location': 'BLR',\n",
       " 'coreskills': 'devops',\n",
       " 'subject': 'CS'}"
      ]
     },
     "execution_count": 47,
     "metadata": {},
     "output_type": "execute_result"
    }
   ],
   "source": [
    "#disctionary is stored in back end as hash table \n",
    "md1={'empname':'Jitendra','manager':'ketan','location':'BLR','coreskills':'devops'}\n",
    "md1['subject']=\"CS\"\n",
    "md1"
   ]
  },
  {
   "cell_type": "code",
   "execution_count": 49,
   "id": "f6fdb6fc",
   "metadata": {},
   "outputs": [
    {
     "name": "stdout",
     "output_type": "stream",
     "text": [
      "['__class__', '__class_getitem__', '__contains__', '__delattr__', '__delitem__', '__dir__', '__doc__', '__eq__', '__format__', '__ge__', '__getattribute__', '__getitem__', '__gt__', '__hash__', '__init__', '__init_subclass__', '__ior__', '__iter__', '__le__', '__len__', '__lt__', '__ne__', '__new__', '__or__', '__reduce__', '__reduce_ex__', '__repr__', '__reversed__', '__ror__', '__setattr__', '__setitem__', '__sizeof__', '__str__', '__subclasshook__', 'clear', 'copy', 'fromkeys', 'get', 'items', 'keys', 'pop', 'popitem', 'setdefault', 'update', 'values']\n"
     ]
    }
   ],
   "source": [
    "print(dir(dict))"
   ]
  },
  {
   "cell_type": "code",
   "execution_count": 55,
   "id": "3a14d0eb",
   "metadata": {},
   "outputs": [
    {
     "data": {
      "text/plain": [
       "'location'"
      ]
     },
     "execution_count": 55,
     "metadata": {},
     "output_type": "execute_result"
    }
   ],
   "source": [
    "#disctionary is stored in back end as hash table \n",
    "md1={'empname':'Jitendra','manager':'ketan','location':'BLR','coreskills':'devops'}\n",
    "md1['subject']=\"CS\"\n",
    "list1=list(md1.keys())\n",
    "list1[2]"
   ]
  },
  {
   "cell_type": "code",
   "execution_count": 59,
   "id": "372c7f13",
   "metadata": {},
   "outputs": [
    {
     "data": {
      "text/plain": [
       "('manager', 'ketan')"
      ]
     },
     "execution_count": 59,
     "metadata": {},
     "output_type": "execute_result"
    }
   ],
   "source": [
    "md1={'empname':'Jitendra','manager':'ketan','location':'BLR','coreskills':'devops'}\n",
    "list2=list(md1.items())\n",
    "list2[1]"
   ]
  },
  {
   "cell_type": "code",
   "execution_count": 68,
   "id": "18f03f92",
   "metadata": {},
   "outputs": [
    {
     "name": "stdout",
     "output_type": "stream",
     "text": [
      "None\n"
     ]
    }
   ],
   "source": [
    "md1={'empname':'Jitendra','manager':'ketan','location':'BLR','coreskills':'devops'}\n",
    "md1.get('empname')\n",
    "print(md1.get('city'))\n",
    "#defaults to None if Key does not match "
   ]
  },
  {
   "cell_type": "code",
   "execution_count": 69,
   "id": "c270cfcf",
   "metadata": {},
   "outputs": [
    {
     "name": "stdout",
     "output_type": "stream",
     "text": [
      "None\n"
     ]
    }
   ],
   "source": [
    "md1={'empname':'Jitendra','manager':'ketan','location':'BLR','coreskills':'devops'}\n",
    "md1.get('empname')\n",
    "print(md1.get('city'))"
   ]
  },
  {
   "cell_type": "code",
   "execution_count": 70,
   "id": "076300bb",
   "metadata": {},
   "outputs": [
    {
     "name": "stdout",
     "output_type": "stream",
     "text": [
      "None\n"
     ]
    }
   ],
   "source": [
    "md1={'empname':'Jitendra','manager':'ketan','location':'BLR','coreskills':'devops'}\n",
    "md1.get('empname')\n",
    "print(md1.get('city'))"
   ]
  },
  {
   "cell_type": "code",
   "execution_count": 77,
   "id": "1b8db2e6",
   "metadata": {
    "scrolled": true
   },
   "outputs": [
    {
     "data": {
      "text/plain": [
       "{'empname': 'Jitendra',\n",
       " 'manager': 'ketan',\n",
       " 'location': 'BLR',\n",
       " 'coreskills': 'devops',\n",
       " 'country': None}"
      ]
     },
     "execution_count": 77,
     "metadata": {},
     "output_type": "execute_result"
    }
   ],
   "source": [
    "md1={'empname':'Jitendra','manager':'ketan','location':'BLR','coreskills':'devops'}\n",
    "md1.setdefault('empname')\n",
    "md1\n",
    "md1.setdefault('country')\n",
    "md1"
   ]
  },
  {
   "cell_type": "code",
   "execution_count": 83,
   "id": "e7db35b6",
   "metadata": {},
   "outputs": [
    {
     "data": {
      "text/plain": [
       "{'bank': 'axis', 'branch': 'mgroad', 'city': 'blr'}"
      ]
     },
     "execution_count": 83,
     "metadata": {},
     "output_type": "execute_result"
    }
   ],
   "source": [
    "md1={'bank':'sbi','branch':'mgroad'}\n",
    "\n",
    "md2={'bank':'axis','city':'blr'}\n",
    "\n",
    "md1.update(md2)\n",
    "md1"
   ]
  },
  {
   "cell_type": "code",
   "execution_count": 87,
   "id": "8ba19ac0",
   "metadata": {},
   "outputs": [
    {
     "name": "stdout",
     "output_type": "stream",
     "text": [
      "<class 'zip'>\n",
      "[]\n"
     ]
    },
    {
     "data": {
      "text/plain": [
       "[('bank', 'sbi'), ('branch', 'mgroad'), ('city', 'mumbai')]"
      ]
     },
     "execution_count": 87,
     "metadata": {},
     "output_type": "execute_result"
    }
   ],
   "source": [
    "keylist = ['bank','branch',\"city\"]\n",
    "valuelist = ['sbi','mgroad','mumbai']\n",
    "z = zip(keylist,valuelist)\n",
    "print(type(z))\n",
    "#zip object is one time consumable , iterators \n",
    "zlist=list(z)\n",
    "print(list(z))\n",
    "zlist"
   ]
  },
  {
   "cell_type": "code",
   "execution_count": 94,
   "id": "ddf7e92a",
   "metadata": {},
   "outputs": [
    {
     "data": {
      "text/plain": [
       "'sbi'"
      ]
     },
     "execution_count": 94,
     "metadata": {},
     "output_type": "execute_result"
    }
   ],
   "source": [
    "keylist = ['bank','branch',\"city\"]\n",
    "valuelist = ['sbi','mgroad','mumbai']\n",
    "md2=dict(zip(keylist,valuelist))\n",
    "md2.get('bank')"
   ]
  },
  {
   "cell_type": "markdown",
   "id": "4251f270",
   "metadata": {},
   "source": [
    "# Sets "
   ]
  },
  {
   "cell_type": "code",
   "execution_count": 106,
   "id": "5067f6bb",
   "metadata": {
    "scrolled": true
   },
   "outputs": [
    {
     "ename": "KeyError",
     "evalue": "25",
     "output_type": "error",
     "traceback": [
      "\u001b[0;31m---------------------------------------------------------------------------\u001b[0m",
      "\u001b[0;31mKeyError\u001b[0m                                  Traceback (most recent call last)",
      "Cell \u001b[0;32mIn[106], line 9\u001b[0m\n\u001b[1;32m      7\u001b[0m ms1\u001b[38;5;241m.\u001b[39madd(\u001b[38;5;241m3\u001b[39m)\n\u001b[1;32m      8\u001b[0m ms1\u001b[38;5;241m.\u001b[39mpop()\n\u001b[0;32m----> 9\u001b[0m \u001b[43mms1\u001b[49m\u001b[38;5;241;43m.\u001b[39;49m\u001b[43mremove\u001b[49m\u001b[43m(\u001b[49m\u001b[38;5;241;43m25\u001b[39;49m\u001b[43m)\u001b[49m\n",
      "\u001b[0;31mKeyError\u001b[0m: 25"
     ]
    }
   ],
   "source": [
    "ms1=set()\n",
    "type(ms1)\n",
    "ms1.add(20)\n",
    "#print(dir(ms1))\n",
    "\n",
    "ms1.add(2)\n",
    "ms1.add(3)\n",
    "ms1.pop()\n",
    "ms1.remove(25)\n"
   ]
  },
  {
   "cell_type": "code",
   "execution_count": 110,
   "id": "db48529b",
   "metadata": {},
   "outputs": [
    {
     "data": {
      "text/plain": [
       "{1, 2, 4, 5, 6, 7, 8, 9}"
      ]
     },
     "execution_count": 110,
     "metadata": {},
     "output_type": "execute_result"
    }
   ],
   "source": [
    "ms1 = {2,4,6,8,9}\n",
    "ms2 = {1,2,4,7,5}\n",
    "ms1.union(ms2)\n"
   ]
  },
  {
   "cell_type": "code",
   "execution_count": 112,
   "id": "fcefb2bb",
   "metadata": {},
   "outputs": [
    {
     "data": {
      "text/plain": [
       "{2, 4}"
      ]
     },
     "execution_count": 112,
     "metadata": {},
     "output_type": "execute_result"
    }
   ],
   "source": [
    "ms1.intersection(ms2)\n",
    "#set theory read \n"
   ]
  },
  {
   "cell_type": "code",
   "execution_count": 114,
   "id": "637cd09c",
   "metadata": {},
   "outputs": [
    {
     "name": "stdout",
     "output_type": "stream",
     "text": [
      "{8, 9, 6}\n"
     ]
    }
   ],
   "source": [
    "print(ms1-ms2)"
   ]
  },
  {
   "cell_type": "code",
   "execution_count": 115,
   "id": "a2f1c0c3",
   "metadata": {},
   "outputs": [
    {
     "name": "stdout",
     "output_type": "stream",
     "text": [
      "{1, 5, 7}\n"
     ]
    }
   ],
   "source": [
    "print(ms2-ms1)"
   ]
  }
 ],
 "metadata": {
  "kernelspec": {
   "display_name": "Python 3 (ipykernel)",
   "language": "python",
   "name": "python3"
  },
  "language_info": {
   "codemirror_mode": {
    "name": "ipython",
    "version": 3
   },
   "file_extension": ".py",
   "mimetype": "text/x-python",
   "name": "python",
   "nbconvert_exporter": "python",
   "pygments_lexer": "ipython3",
   "version": "3.10.9"
  }
 },
 "nbformat": 4,
 "nbformat_minor": 5
}
