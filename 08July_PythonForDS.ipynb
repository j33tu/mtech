{
 "cells": [
  {
   "cell_type": "markdown",
   "id": "ace7e472",
   "metadata": {},
   "source": [
    "# 08 July Py for DS session 1\n"
   ]
  },
  {
   "cell_type": "code",
   "execution_count": 3,
   "id": "c09a3fdf",
   "metadata": {},
   "outputs": [
    {
     "name": "stdout",
     "output_type": "stream",
     "text": [
      "National Stock Exchange\n",
      "new york # stock excahnge\n"
     ]
    }
   ],
   "source": [
    "\n",
    "#single line comments\n",
    "print(\"National Stock Exchange\")\n",
    "#print(\"ignore value\")\n",
    "print('new york # stock excahnge')\n",
    "# Multiple line comments , new line seprates statements , it executes one at a time , use ; to seprate within same line\n",
    "\n"
   ]
  },
  {
   "cell_type": "code",
   "execution_count": 10,
   "id": "0c69cac9",
   "metadata": {},
   "outputs": [
    {
     "ename": "SyntaxError",
     "evalue": "invalid syntax (1457414143.py, line 1)",
     "output_type": "error",
     "traceback": [
      "\u001b[0;36m  Cell \u001b[0;32mIn[10], line 1\u001b[0;36m\u001b[0m\n\u001b[0;31m    exchange = 'abc' print(\"excahnge\")\u001b[0m\n\u001b[0m                     ^\u001b[0m\n\u001b[0;31mSyntaxError\u001b[0m\u001b[0;31m:\u001b[0m invalid syntax\n"
     ]
    }
   ],
   "source": [
    "exchange = 'abc' print(\"excahnge\")\n",
    "                    \n",
    "# sends the exception object of  class syntax error with string  msg  and interpreter stops further processing once it gets the error \n"
   ]
  },
  {
   "cell_type": "code",
   "execution_count": 13,
   "id": "f6fa0ab0",
   "metadata": {},
   "outputs": [
    {
     "name": "stdout",
     "output_type": "stream",
     "text": [
      "abc\n"
     ]
    }
   ],
   "source": [
    "exchange = 'abc' ;print(exchange)\n",
    "                    "
   ]
  },
  {
   "cell_type": "code",
   "execution_count": 15,
   "id": "cba4ef67",
   "metadata": {},
   "outputs": [
    {
     "ename": "SyntaxError",
     "evalue": "unterminated string literal (detected at line 1) (2406132225.py, line 1)",
     "output_type": "error",
     "traceback": [
      "\u001b[0;36m  Cell \u001b[0;32mIn[15], line 1\u001b[0;36m\u001b[0m\n\u001b[0;31m    ms1 = 'line 1 of string\u001b[0m\n\u001b[0m          ^\u001b[0m\n\u001b[0;31mSyntaxError\u001b[0m\u001b[0;31m:\u001b[0m unterminated string literal (detected at line 1)\n"
     ]
    }
   ],
   "source": [
    "ms1 = 'line 1 of string\n",
    "line2 \n",
    "line3'\n",
    "#string should terminate in same line else you would get error "
   ]
  },
  {
   "cell_type": "code",
   "execution_count": 20,
   "id": "a5071e5d",
   "metadata": {},
   "outputs": [
    {
     "name": "stdout",
     "output_type": "stream",
     "text": [
      "cow is animal \n",
      "it gives milk \n",
      "<class 'str'>\n"
     ]
    }
   ],
   "source": [
    "#Paragraph strings\n",
    "paragraph = \"\"\"cow is animal \n",
    "it gives milk \"\"\"\n",
    "print(paragraph)\n",
    "print(type(paragraph))\n",
    "#Paragraph is a variable looking at an object of class string str.\n"
   ]
  },
  {
   "cell_type": "code",
   "execution_count": 26,
   "id": "8ff4a58c",
   "metadata": {},
   "outputs": [
    {
     "data": {
      "text/plain": [
       "'\\nprint adfd\\nobc\\n\\n'"
      ]
     },
     "execution_count": 26,
     "metadata": {},
     "output_type": "execute_result"
    }
   ],
   "source": [
    "# if you do not attach paragraph to  a variable  it become  a block comment \n",
    "exchange = \"NSE\"\n",
    "\n",
    "\"\"\"\n",
    "print adfd\n",
    "obc\n",
    "\n",
    "\"\"\"\n",
    "#print(exchange)\n",
    "# it will only print what jupter has  not  python "
   ]
  },
  {
   "cell_type": "code",
   "execution_count": 27,
   "id": "d812d807",
   "metadata": {},
   "outputs": [
    {
     "data": {
      "text/plain": [
       "30"
      ]
     },
     "execution_count": 27,
     "metadata": {},
     "output_type": "execute_result"
    }
   ],
   "source": [
    "n1 = 30\n",
    "n1\n",
    "#jupyter IDE is intellegent enough so its not python which is giving the result"
   ]
  },
  {
   "cell_type": "code",
   "execution_count": 31,
   "id": "45d0aa97",
   "metadata": {},
   "outputs": [
    {
     "name": "stdout",
     "output_type": "stream",
     "text": [
      "b\n"
     ]
    }
   ],
   "source": [
    "n = 'b' \n",
    "print(n)\n",
    "##commit"
   ]
  },
  {
   "cell_type": "code",
   "execution_count": 33,
   "id": "d18933ea",
   "metadata": {},
   "outputs": [
    {
     "name": "stdout",
     "output_type": "stream",
     "text": [
      "20\n",
      "10\n"
     ]
    }
   ],
   "source": [
    "#Python var Type\n",
    "ABC=10\n",
    "abc=20\n",
    "print(abc)\n",
    "print(ABC)"
   ]
  },
  {
   "cell_type": "code",
   "execution_count": 35,
   "id": "eb2ca7e7",
   "metadata": {},
   "outputs": [
    {
     "name": "stdout",
     "output_type": "stream",
     "text": [
      "['False', 'None', 'True', 'and', 'as', 'assert', 'async', 'await', 'break', 'class', 'continue', 'def', 'del', 'elif', 'else', 'except', 'finally', 'for', 'from', 'global', 'if', 'import', 'in', 'is', 'lambda', 'nonlocal', 'not', 'or', 'pass', 'raise', 'return', 'try', 'while', 'with', 'yield']\n"
     ]
    }
   ],
   "source": [
    "import keyword\n",
    "print(keyword.kwlist)"
   ]
  },
  {
   "cell_type": "code",
   "execution_count": 38,
   "id": "4abedd7d",
   "metadata": {},
   "outputs": [
    {
     "name": "stdout",
     "output_type": "stream",
     "text": [
      "<class 'module'>\n"
     ]
    }
   ],
   "source": [
    "import keyword\n",
    "print(type(keyword))\n",
    "# keyword is object of class Module type Module "
   ]
  },
  {
   "cell_type": "code",
   "execution_count": 45,
   "id": "e30c4e00",
   "metadata": {},
   "outputs": [
    {
     "name": "stdout",
     "output_type": "stream",
     "text": [
      "10\n",
      "9\n",
      "8\n",
      "7\n",
      "6\n",
      "5\n",
      "4\n",
      "3\n",
      "2\n",
      "1\n"
     ]
    }
   ],
   "source": [
    "#indentation of code block \n",
    "#within same block indentation should be same \n",
    "# across the block its fine \n",
    "a = 10\n",
    "while a > 0:\n",
    "    print(a)\n",
    "    a = a -1 \n"
   ]
  },
  {
   "cell_type": "code",
   "execution_count": 48,
   "id": "e9022a81",
   "metadata": {},
   "outputs": [
    {
     "name": "stdout",
     "output_type": "stream",
     "text": [
      "level is high\n",
      "swich off motor\n"
     ]
    }
   ],
   "source": [
    "sensor = 1\n",
    "if sensor ==0:\n",
    "    print('level is low')\n",
    "    print('swith on motor')\n",
    "else:\n",
    "    print('level is high')\n",
    "    print('swich off motor')\n",
    "    \n",
    "    \n",
    "    "
   ]
  },
  {
   "cell_type": "markdown",
   "id": "5edfdcbd",
   "metadata": {},
   "source": [
    "# assignments"
   ]
  },
  {
   "cell_type": "code",
   "execution_count": 55,
   "id": "0f093b71",
   "metadata": {},
   "outputs": [
    {
     "name": "stdout",
     "output_type": "stream",
     "text": [
      "<class 'int'>\n",
      "<class 'int'>\n",
      "<class 'int'>\n",
      "140610597258064\n",
      "140610597258064\n"
     ]
    }
   ],
   "source": [
    "myint1 = 20\n",
    "myint = int(20)\n",
    "myint2 = 20 \n",
    "print(type(myint1))\n",
    "print(type(myint2))\n",
    "print(type(myint))\n",
    "print(id(myint1))\n",
    "print(id(myint2))\n",
    "#type returns the class name\n",
    "# ID returns virtual address of the object\n"
   ]
  },
  {
   "cell_type": "code",
   "execution_count": 65,
   "id": "26f5a77a",
   "metadata": {},
   "outputs": [
    {
     "name": "stdout",
     "output_type": "stream",
     "text": [
      "(20, 30, 'python')\n",
      "<class 'tuple'>\n",
      "140610770491968\n",
      "20\n"
     ]
    }
   ],
   "source": [
    "var1 = (20,30,'python')\n",
    "print(var1)\n",
    "print(type(var1))\n",
    "print(id(var1))\n",
    "print(var1[0])"
   ]
  },
  {
   "cell_type": "code",
   "execution_count": 66,
   "id": "6d1f49cb",
   "metadata": {},
   "outputs": [
    {
     "name": "stdout",
     "output_type": "stream",
     "text": [
      "{'bank': 'sbi', 'branch': 'ecity'}\n",
      "<class 'dict'>\n",
      "140610766762560\n",
      "sbi ecity\n"
     ]
    }
   ],
   "source": [
    "var1 = {'bank':'sbi','branch':'ecity'}\n",
    "print(var1)\n",
    "print(type(var1))\n",
    "print(id(var1))\n",
    "print(var1['bank'],var1['branch'])"
   ]
  },
  {
   "cell_type": "code",
   "execution_count": 69,
   "id": "9d9a35c4",
   "metadata": {},
   "outputs": [
    {
     "name": "stdout",
     "output_type": "stream",
     "text": [
      "<class 'tuple'>\n"
     ]
    },
    {
     "ename": "TypeError",
     "evalue": "'tuple' object does not support item assignment",
     "output_type": "error",
     "traceback": [
      "\u001b[0;31m---------------------------------------------------------------------------\u001b[0m",
      "\u001b[0;31mTypeError\u001b[0m                                 Traceback (most recent call last)",
      "Cell \u001b[0;32mIn[69], line 3\u001b[0m\n\u001b[1;32m      1\u001b[0m myint \u001b[38;5;241m=\u001b[39m (\u001b[38;5;241m10\u001b[39m,\u001b[38;5;241m20\u001b[39m,\u001b[38;5;241m30\u001b[39m)\n\u001b[1;32m      2\u001b[0m \u001b[38;5;28mprint\u001b[39m(\u001b[38;5;28mtype\u001b[39m(myint))\n\u001b[0;32m----> 3\u001b[0m myint[\u001b[38;5;241m0\u001b[39m]\u001b[38;5;241m=\u001b[39m \u001b[38;5;241m22\u001b[39m\n\u001b[1;32m      4\u001b[0m \u001b[38;5;28mprint\u001b[39m(myint)\n",
      "\u001b[0;31mTypeError\u001b[0m: 'tuple' object does not support item assignment"
     ]
    }
   ],
   "source": [
    "myint = (10,20,30)\n",
    "print(type(myint))\n",
    "myint[0]= 22\n",
    "print(myint)\n",
    "# tuple are not changable\n"
   ]
  },
  {
   "cell_type": "code",
   "execution_count": 71,
   "id": "3fc441e4",
   "metadata": {},
   "outputs": [
    {
     "name": "stdout",
     "output_type": "stream",
     "text": [
      "140610770838224\n",
      "140610770838224\n",
      "140610770838224\n",
      "140610770835920\n",
      "140610770834064\n",
      "140610770836464\n"
     ]
    }
   ],
   "source": [
    "a = b = c = 2345\n",
    "print(id(a))\n",
    "print(id(b))\n",
    "print(id(c))\n",
    "# same memory locations\n",
    "a = 2345\n",
    "b = 2345\n",
    "c = 2345 \n",
    "print(id(a))\n",
    "print(id(b))\n",
    "print(id(c))\n",
    "#diff memory location"
   ]
  },
  {
   "cell_type": "code",
   "execution_count": 75,
   "id": "183dddfc",
   "metadata": {},
   "outputs": [
    {
     "name": "stdout",
     "output_type": "stream",
     "text": [
      "140610770836176\n",
      "140610730793840\n",
      "140610770836176\n",
      "12000\n",
      "hello\n",
      "12000\n"
     ]
    }
   ],
   "source": [
    "# positional mapping\n",
    "a , b , c = 12000 ,'hello' , 12000\n",
    "print(id(a))\n",
    "print(id(b))\n",
    "print(id(c))\n",
    "print(a)\n",
    "print(b)\n",
    "print(c)"
   ]
  },
  {
   "cell_type": "markdown",
   "id": "5e637359",
   "metadata": {},
   "source": [
    "# take data from keyboard"
   ]
  },
  {
   "cell_type": "code",
   "execution_count": 79,
   "id": "53f3b219",
   "metadata": {},
   "outputs": [
    {
     "name": "stdout",
     "output_type": "stream",
     "text": [
      "what is your namek\n",
      "my name is k\n",
      "<class 'str'>\n",
      "1\n"
     ]
    }
   ],
   "source": [
    "name = input(\"what is your name\")\n",
    "print(\"my name is \" + ''+ name)\n",
    "print(type(name))\n",
    "print(len(name))\n",
    "# Lenth using len\n",
    "#Keyboard input will always return  object Type of class STR"
   ]
  },
  {
   "cell_type": "code",
   "execution_count": 81,
   "id": "9f755504",
   "metadata": {},
   "outputs": [
    {
     "name": "stdout",
     "output_type": "stream",
     "text": [
      "enter marksok\n",
      "ok\n",
      "<class 'str'>\n"
     ]
    },
    {
     "ename": "TypeError",
     "evalue": "can only concatenate str (not \"int\") to str",
     "output_type": "error",
     "traceback": [
      "\u001b[0;31m---------------------------------------------------------------------------\u001b[0m",
      "\u001b[0;31mTypeError\u001b[0m                                 Traceback (most recent call last)",
      "Cell \u001b[0;32mIn[81], line 5\u001b[0m\n\u001b[1;32m      3\u001b[0m \u001b[38;5;28mprint\u001b[39m(\u001b[38;5;28mtype\u001b[39m(marks))\n\u001b[1;32m      4\u001b[0m \u001b[38;5;66;03m#marks1= int(marks)\u001b[39;00m\n\u001b[0;32m----> 5\u001b[0m newmarks \u001b[38;5;241m=\u001b[39m \u001b[43mmarks\u001b[49m\u001b[43m \u001b[49m\u001b[38;5;241;43m+\u001b[39;49m\u001b[43m \u001b[49m\u001b[38;5;241;43m5\u001b[39;49m \n\u001b[1;32m      6\u001b[0m \u001b[38;5;28mprint\u001b[39m(newmarks)\n",
      "\u001b[0;31mTypeError\u001b[0m: can only concatenate str (not \"int\") to str"
     ]
    }
   ],
   "source": [
    "marks = input('enter marks')\n",
    "print(marks)\n",
    "print(type(marks))\n",
    "#marks1= int(marks)\n",
    "newmarks = marks + 5 \n",
    "print(newmarks)\n"
   ]
  },
  {
   "cell_type": "code",
   "execution_count": 84,
   "id": "304c2b6d",
   "metadata": {},
   "outputs": [
    {
     "name": "stdout",
     "output_type": "stream",
     "text": [
      "enter marks54\n",
      "54\n",
      "<class 'str'>\n",
      "59\n"
     ]
    }
   ],
   "source": [
    "marks = input('enter marks')\n",
    "print(marks)\n",
    "print(type(marks))\n",
    "marks1= int(marks)\n",
    "newmarks = marks1 + 5 \n",
    "print(newmarks)\n"
   ]
  },
  {
   "cell_type": "code",
   "execution_count": 86,
   "id": "403250e8",
   "metadata": {},
   "outputs": [
    {
     "name": "stdout",
     "output_type": "stream",
     "text": [
      "provide your weightok\n"
     ]
    },
    {
     "ename": "ValueError",
     "evalue": "could not convert string to float: 'ok'",
     "output_type": "error",
     "traceback": [
      "\u001b[0;31m---------------------------------------------------------------------------\u001b[0m",
      "\u001b[0;31mValueError\u001b[0m                                Traceback (most recent call last)",
      "Cell \u001b[0;32mIn[86], line 1\u001b[0m\n\u001b[0;32m----> 1\u001b[0m weight \u001b[38;5;241m=\u001b[39m \u001b[38;5;28;43mfloat\u001b[39;49m\u001b[43m(\u001b[49m\u001b[38;5;28;43minput\u001b[39;49m\u001b[43m(\u001b[49m\u001b[38;5;124;43m'\u001b[39;49m\u001b[38;5;124;43mprovide your weight\u001b[39;49m\u001b[38;5;124;43m'\u001b[39;49m\u001b[43m)\u001b[49m\u001b[43m)\u001b[49m\n\u001b[1;32m      2\u001b[0m \u001b[38;5;28mprint\u001b[39m(weight,\u001b[38;5;28mtype\u001b[39m(weight))\n",
      "\u001b[0;31mValueError\u001b[0m: could not convert string to float: 'ok'"
     ]
    }
   ],
   "source": [
    "weight = float(input('provide your weight'))\n",
    "print(weight,type(weight))"
   ]
  },
  {
   "cell_type": "markdown",
   "id": "9ab2cfae",
   "metadata": {},
   "source": [
    "# Operators\n",
    "\n"
   ]
  },
  {
   "cell_type": "code",
   "execution_count": 98,
   "id": "a0cba97f",
   "metadata": {},
   "outputs": [
    {
     "name": "stdout",
     "output_type": "stream",
     "text": [
      "298023223876953125\n",
      "18\n",
      "1\n"
     ]
    }
   ],
   "source": [
    "#arthmetic, assignment, relationsl, logical\n",
    "x = 25\n",
    "y = 5\n",
    "p = y ** x\n",
    "print(str(p))\n",
    "print(len(str(p)))\n",
    "print(26 % 5 )"
   ]
  },
  {
   "cell_type": "code",
   "execution_count": 107,
   "id": "a63a37ff",
   "metadata": {},
   "outputs": [
    {
     "data": {
      "text/plain": [
       "False"
      ]
     },
     "execution_count": 107,
     "metadata": {},
     "output_type": "execute_result"
    }
   ],
   "source": [
    "a = \"\"\n",
    "bool(a)\n",
    "\n"
   ]
  },
  {
   "cell_type": "markdown",
   "id": "33c05e52",
   "metadata": {},
   "source": [
    "# Functions in python\n"
   ]
  },
  {
   "cell_type": "code",
   "execution_count": 121,
   "id": "0b988ae3",
   "metadata": {},
   "outputs": [
    {
     "name": "stdout",
     "output_type": "stream",
     "text": [
      "enter your marks44\n",
      "pass ho gya bccchu tu to \n"
     ]
    }
   ],
   "source": [
    "def ExamResult():\n",
    "    marks=int(input('enter your marks'))\n",
    "    if marks > 40:\n",
    "        print(\"pass ho gya bccchu tu to \")\n",
    "    else:\n",
    "        print(\"oh sorry ! you failed, padhai kara karo \")\n",
    "\n",
    "ExamResult()"
   ]
  },
  {
   "cell_type": "code",
   "execution_count": 123,
   "id": "811ef451",
   "metadata": {},
   "outputs": [
    {
     "ename": "NameError",
     "evalue": "name 'hello' is not defined",
     "output_type": "error",
     "traceback": [
      "\u001b[0;31m---------------------------------------------------------------------------\u001b[0m",
      "\u001b[0;31mNameError\u001b[0m                                 Traceback (most recent call last)",
      "Cell \u001b[0;32mIn[123], line 2\u001b[0m\n\u001b[1;32m      1\u001b[0m \u001b[38;5;66;03m# if progreaammer did not specify the return statement , None is by default returned \u001b[39;00m\n\u001b[0;32m----> 2\u001b[0m x \u001b[38;5;241m=\u001b[39m \u001b[38;5;28mprint\u001b[39m(\u001b[43mhello\u001b[49m)\n\u001b[1;32m      3\u001b[0m \u001b[38;5;28mprint\u001b[39m(x)\n",
      "\u001b[0;31mNameError\u001b[0m: name 'hello' is not defined"
     ]
    }
   ],
   "source": [
    "# if progreaammer did not specify the return statement , None is by default returned \n",
    "x = print(hello)\n",
    "print(x)"
   ]
  },
  {
   "cell_type": "code",
   "execution_count": 132,
   "id": "adcd3ab3",
   "metadata": {},
   "outputs": [
    {
     "name": "stdout",
     "output_type": "stream",
     "text": [
      "provide p0ok\n"
     ]
    },
    {
     "ename": "ValueError",
     "evalue": "invalid literal for int() with base 10: 'ok'",
     "output_type": "error",
     "traceback": [
      "\u001b[0;31m---------------------------------------------------------------------------\u001b[0m",
      "\u001b[0;31mValueError\u001b[0m                                Traceback (most recent call last)",
      "Cell \u001b[0;32mIn[132], line 8\u001b[0m\n\u001b[1;32m      5\u001b[0m   \u001b[38;5;28;01mreturn\u001b[39;00m b\n\u001b[1;32m      6\u001b[0m   \u001b[38;5;28mprint\u001b[39m(b)\n\u001b[0;32m----> 8\u001b[0m r \u001b[38;5;241m=\u001b[39m \u001b[43mmf1\u001b[49m\u001b[43m(\u001b[49m\u001b[43m)\u001b[49m\n\u001b[1;32m      9\u001b[0m \u001b[38;5;28mprint\u001b[39m(r)\n\u001b[1;32m     10\u001b[0m \u001b[38;5;28mprint\u001b[39m(\u001b[38;5;28mtype\u001b[39m(mf1))\n",
      "Cell \u001b[0;32mIn[132], line 2\u001b[0m, in \u001b[0;36mmf1\u001b[0;34m()\u001b[0m\n\u001b[1;32m      1\u001b[0m \u001b[38;5;28;01mdef\u001b[39;00m \u001b[38;5;21mmf1\u001b[39m():\n\u001b[0;32m----> 2\u001b[0m   p0 \u001b[38;5;241m=\u001b[39m \u001b[38;5;28;43mint\u001b[39;49m\u001b[43m(\u001b[49m\u001b[38;5;28;43minput\u001b[39;49m\u001b[43m(\u001b[49m\u001b[38;5;124;43m\"\u001b[39;49m\u001b[38;5;124;43mprovide p0\u001b[39;49m\u001b[38;5;124;43m\"\u001b[39;49m\u001b[43m)\u001b[49m\u001b[43m)\u001b[49m\n\u001b[1;32m      3\u001b[0m   p1 \u001b[38;5;241m=\u001b[39m \u001b[38;5;28mint\u001b[39m(\u001b[38;5;28minput\u001b[39m(\u001b[38;5;124m\"\u001b[39m\u001b[38;5;124mprovide p0\u001b[39m\u001b[38;5;124m\"\u001b[39m))\n\u001b[1;32m      4\u001b[0m   b \u001b[38;5;241m=\u001b[39m p0 \u001b[38;5;241m+\u001b[39m p1\n",
      "\u001b[0;31mValueError\u001b[0m: invalid literal for int() with base 10: 'ok'"
     ]
    }
   ],
   "source": [
    "def mf1():\n",
    "  p0 = int(input(\"provide p0\"))\n",
    "  p1 = int(input(\"provide p0\"))\n",
    "  b = p0 + p1\n",
    "  return b\n",
    "  print(b)\n",
    "    \n",
    "r = mf1()\n",
    "print(r)\n",
    "print(type(mf1))\n",
    "#Commands after return are ignored by Python by Nature "
   ]
  },
  {
   "cell_type": "markdown",
   "id": "0d16c5d3",
   "metadata": {},
   "source": [
    "# decision / Branching\n"
   ]
  },
  {
   "cell_type": "code",
   "execution_count": null,
   "id": "b79479c4",
   "metadata": {},
   "outputs": [],
   "source": [
    "else if , if alif \n"
   ]
  },
  {
   "cell_type": "markdown",
   "id": "cda31300",
   "metadata": {},
   "source": [
    "# build in data structures"
   ]
  },
  {
   "cell_type": "code",
   "execution_count": 140,
   "id": "68087fc9",
   "metadata": {},
   "outputs": [
    {
     "name": "stdout",
     "output_type": "stream",
     "text": [
      "provide what is temp feels like20\n",
      "it is cold\n"
     ]
    }
   ],
   "source": [
    "def tempCheck():\n",
    "    temp = int(input(\"provide what is temp feels like\"))\n",
    "    if temp > 90:\n",
    "        print(\"it is hot\")\n",
    "    elif temp < 60:\n",
    "        print(\"it is cold\")\n",
    "    else:\n",
    "        print(\"its is just right\")\n",
    "        \n",
    "tempCheck()\n"
   ]
  },
  {
   "cell_type": "markdown",
   "id": "59d58ced",
   "metadata": {},
   "source": [
    "# string Data type"
   ]
  },
  {
   "cell_type": "code",
   "execution_count": 141,
   "id": "35df247d",
   "metadata": {},
   "outputs": [],
   "source": [
    "#Strings are non mutable in memory\n",
    "#len for lenth of string\n",
    "#  Mutablity you cant change charactor \n"
   ]
  },
  {
   "cell_type": "code",
   "execution_count": 144,
   "id": "f5679f49",
   "metadata": {},
   "outputs": [
    {
     "name": "stdout",
     "output_type": "stream",
     "text": [
      "<class 'str'>\n",
      "11\n",
      "python data\n",
      "o\n"
     ]
    }
   ],
   "source": [
    "ms1='python data'\n",
    "print(type(ms1))\n",
    "print(len(ms1))\n",
    "print(ms1)\n",
    "print(ms1[4])"
   ]
  },
  {
   "cell_type": "markdown",
   "id": "2308fb8f",
   "metadata": {},
   "source": [
    "# accessing Values in Strings"
   ]
  },
  {
   "cell_type": "code",
   "execution_count": 151,
   "id": "862f1db2",
   "metadata": {},
   "outputs": [
    {
     "name": "stdout",
     "output_type": "stream",
     "text": [
      "FEFGHJ\n",
      "ABCDFEFGHJKL\n",
      "ACFFHK\n",
      "LKJHGFEFDCBA\n"
     ]
    }
   ],
   "source": [
    "abc= 'ABCDFEFGHJKL'\n",
    "print(abc[-8:-2])\n",
    "print(abc[:])\n",
    "print(abc[::2])\n",
    "print(abc[-1::-1])"
   ]
  },
  {
   "cell_type": "markdown",
   "id": "3fdbd1ee",
   "metadata": {},
   "source": [
    "# concatnation and membership\n"
   ]
  },
  {
   "cell_type": "code",
   "execution_count": 156,
   "id": "53488637",
   "metadata": {},
   "outputs": [
    {
     "name": "stdout",
     "output_type": "stream",
     "text": [
      "provide account number334\n",
      "new customer form\n"
     ]
    }
   ],
   "source": [
    "# + operator\n",
    "# in cheks for inclusion\n",
    "# not in checks for absense \n",
    "accounts=['1234','4344','3344']\n",
    "cs = input(\"provide account number\")\n",
    "if cs in accounts:\n",
    "    print(\"existing customers\")\n",
    "else:\n",
    "    print(\"new customer form\")"
   ]
  },
  {
   "cell_type": "code",
   "execution_count": 161,
   "id": "f913a5b4",
   "metadata": {},
   "outputs": [
    {
     "name": "stdout",
     "output_type": "stream",
     "text": [
      "['__add__', '__class__', '__contains__', '__delattr__', '__dir__', '__doc__', '__eq__', '__format__', '__ge__', '__getattribute__', '__getitem__', '__getnewargs__', '__gt__', '__hash__', '__init__', '__init_subclass__', '__iter__', '__le__', '__len__', '__lt__', '__mod__', '__mul__', '__ne__', '__new__', '__reduce__', '__reduce_ex__', '__repr__', '__rmod__', '__rmul__', '__setattr__', '__sizeof__', '__str__', '__subclasshook__', 'capitalize', 'casefold', 'center', 'count', 'encode', 'endswith', 'expandtabs', 'find', 'format', 'format_map', 'index', 'isalnum', 'isalpha', 'isascii', 'isdecimal', 'isdigit', 'isidentifier', 'islower', 'isnumeric', 'isprintable', 'isspace', 'istitle', 'isupper', 'join', 'ljust', 'lower', 'lstrip', 'maketrans', 'partition', 'removeprefix', 'removesuffix', 'replace', 'rfind', 'rindex', 'rjust', 'rpartition', 'rsplit', 'rstrip', 'split', 'splitlines', 'startswith', 'strip', 'swapcase', 'title', 'translate', 'upper', 'zfill']\n"
     ]
    }
   ],
   "source": [
    "# KNow attributes of class \n",
    "print(dir(str))\n"
   ]
  },
  {
   "cell_type": "code",
   "execution_count": 163,
   "id": "34c77ebc",
   "metadata": {},
   "outputs": [
    {
     "name": "stdout",
     "output_type": "stream",
     "text": [
      "Help on method_descriptor:\n",
      "\n",
      "replace(self, old, new, count=-1, /)\n",
      "    Return a copy with all occurrences of substring old replaced by new.\n",
      "    \n",
      "      count\n",
      "        Maximum number of occurrences to replace.\n",
      "        -1 (the default value) means replace all occurrences.\n",
      "    \n",
      "    If the optional argument count is given, only the first count occurrences are\n",
      "    replaced.\n",
      "\n"
     ]
    }
   ],
   "source": [
    "help(str.replace)\n"
   ]
  },
  {
   "cell_type": "code",
   "execution_count": 166,
   "id": "e696a33c",
   "metadata": {},
   "outputs": [
    {
     "name": "stdout",
     "output_type": "stream",
     "text": [
      "140610730793840\n",
      "140610730793840\n"
     ]
    }
   ],
   "source": [
    "ms1 = \"hello\"\n",
    "ms2 = ms1[:]\n",
    "print(id(ms1))\n",
    "print(id(ms2))"
   ]
  },
  {
   "cell_type": "code",
   "execution_count": 171,
   "id": "31b7ea0c",
   "metadata": {},
   "outputs": [
    {
     "name": "stdout",
     "output_type": "stream",
     "text": [
      "kids rids singh\n"
     ]
    }
   ],
   "source": [
    "ms1 = \"king ring singh\"\n",
    "ns1 = ms1.replace('ng','ds',2)\n",
    "print(ns1)\n"
   ]
  },
  {
   "cell_type": "markdown",
   "id": "bb48d2c1",
   "metadata": {},
   "source": [
    "# replace/ find methodes"
   ]
  },
  {
   "cell_type": "code",
   "execution_count": 186,
   "id": "508b1e9c",
   "metadata": {},
   "outputs": [
    {
     "name": "stdout",
     "output_type": "stream",
     "text": [
      "6\n",
      "-1\n",
      "17\n"
     ]
    }
   ],
   "source": [
    "mystr1 = \"nationalExchange\"\n",
    "index= mystr1.find('g')\n",
    "print(mystr1.find('a',4,7))\n",
    "print(mystr1.replace('g','o').find('g'))\n",
    "print(mystr1.count(a))"
   ]
  },
  {
   "cell_type": "code",
   "execution_count": 194,
   "id": "09974028",
   "metadata": {},
   "outputs": [
    {
     "name": "stdout",
     "output_type": "stream",
     "text": [
      "4\n",
      "national stock exchange mumbai\n",
      "NATIONAL STOCK EXCHANGE mUMBAI\n",
      "National Stock Exchange Mumbai\n",
      "National stock exchange mumbai\n"
     ]
    }
   ],
   "source": [
    "mystr1 = \"national stock exchange Mumbai\"\n",
    "c = mystr1.count('a')\n",
    "print(c)\n",
    "print(mystr1.lower())\n",
    "print(mystr1.swapcase())\n",
    "print(mystr1.title())\n",
    "print(mystr1.capitalize())\n",
    "print(2023)\n"
   ]
  }
 ],
 "metadata": {
  "kernelspec": {
   "display_name": "Python 3 (ipykernel)",
   "language": "python",
   "name": "python3"
  },
  "language_info": {
   "codemirror_mode": {
    "name": "ipython",
    "version": 3
   },
   "file_extension": ".py",
   "mimetype": "text/x-python",
   "name": "python",
   "nbconvert_exporter": "python",
   "pygments_lexer": "ipython3",
   "version": "3.10.9"
  }
 },
 "nbformat": 4,
 "nbformat_minor": 5
}
