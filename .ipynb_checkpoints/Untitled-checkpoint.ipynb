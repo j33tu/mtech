{
 "cells": [
  {
   "cell_type": "code",
   "execution_count": 5,
   "id": "1120e841",
   "metadata": {},
   "outputs": [
    {
     "name": "stdout",
     "output_type": "stream",
     "text": [
      "Collecting instaloader\n",
      "  Using cached instaloader-4.10.tar.gz (62 kB)\n",
      "  Preparing metadata (setup.py) ... \u001b[?25ldone\n",
      "\u001b[?25hRequirement already satisfied: requests>=2.4 in /Users/joanna/anaconda3/lib/python3.10/site-packages (from instaloader) (2.28.1)\n",
      "Requirement already satisfied: urllib3<1.27,>=1.21.1 in /Users/joanna/anaconda3/lib/python3.10/site-packages (from requests>=2.4->instaloader) (1.26.14)\n",
      "Requirement already satisfied: certifi>=2017.4.17 in /Users/joanna/anaconda3/lib/python3.10/site-packages (from requests>=2.4->instaloader) (2022.12.7)\n",
      "Requirement already satisfied: idna<4,>=2.5 in /Users/joanna/anaconda3/lib/python3.10/site-packages (from requests>=2.4->instaloader) (3.4)\n",
      "Requirement already satisfied: charset-normalizer<3,>=2 in /Users/joanna/anaconda3/lib/python3.10/site-packages (from requests>=2.4->instaloader) (2.0.4)\n",
      "Building wheels for collected packages: instaloader\n",
      "  Building wheel for instaloader (setup.py) ... \u001b[?25ldone\n",
      "\u001b[?25h  Created wheel for instaloader: filename=instaloader-4.10-py3-none-any.whl size=64281 sha256=8794d092c46edfc7713aa9128c3e5d33dc575b973f3e6898793e113f5fc6dd5c\n",
      "  Stored in directory: /Users/joanna/Library/Caches/pip/wheels/f9/42/d3/7aa2bab03d8bf10ce5f61f077979845f80a45f11978d73830b\n",
      "Successfully built instaloader\n",
      "Installing collected packages: instaloader\n",
      "Successfully installed instaloader-4.10\n"
     ]
    },
    {
     "ename": "NameError",
     "evalue": "name 'instaloader' is not defined",
     "output_type": "error",
     "traceback": [
      "\u001b[0;31m---------------------------------------------------------------------------\u001b[0m",
      "\u001b[0;31mNameError\u001b[0m                                 Traceback (most recent call last)",
      "Cell \u001b[0;32mIn[5], line 3\u001b[0m\n\u001b[1;32m      1\u001b[0m \u001b[38;5;28;01mimport\u001b[39;00m \u001b[38;5;21;01msys\u001b[39;00m\n\u001b[1;32m      2\u001b[0m get_ipython()\u001b[38;5;241m.\u001b[39msystem(\u001b[38;5;124m'\u001b[39m\u001b[38;5;132;01m{sys.executable}\u001b[39;00m\u001b[38;5;124m -m pip install instaloader\u001b[39m\u001b[38;5;124m'\u001b[39m)\n\u001b[0;32m----> 3\u001b[0m help(\u001b[43minstaloader\u001b[49m)\n\u001b[1;32m      4\u001b[0m \u001b[38;5;66;03m# connect to instalgram\u001b[39;00m\n\u001b[1;32m      5\u001b[0m a \u001b[38;5;241m=\u001b[39m instaloader\u001b[38;5;241m.\u001b[39minstaloader()\n",
      "\u001b[0;31mNameError\u001b[0m: name 'instaloader' is not defined"
     ]
    }
   ],
   "source": [
    "import sys\n",
    "!{sys.executable} -m pip install instaloader\n",
    "#help(instaloader)\n",
    "# connect to instalgram\n",
    "a = instaloader.instaloader()\n",
    "#print(a)\n",
    "# lets downloade profile \n",
    "a.download_profile(nomadicjeetu)\n"
   ]
  },
  {
   "cell_type": "code",
   "execution_count": null,
   "id": "f6c89cf7",
   "metadata": {},
   "outputs": [],
   "source": []
  },
  {
   "cell_type": "code",
   "execution_count": null,
   "id": "c0d9e6b7",
   "metadata": {},
   "outputs": [],
   "source": []
  },
  {
   "cell_type": "code",
   "execution_count": null,
   "id": "80c92532",
   "metadata": {},
   "outputs": [],
   "source": []
  }
 ],
 "metadata": {
  "kernelspec": {
   "display_name": "Python 3 (ipykernel)",
   "language": "python",
   "name": "python3"
  },
  "language_info": {
   "codemirror_mode": {
    "name": "ipython",
    "version": 3
   },
   "file_extension": ".py",
   "mimetype": "text/x-python",
   "name": "python",
   "nbconvert_exporter": "python",
   "pygments_lexer": "ipython3",
   "version": "3.10.9"
  }
 },
 "nbformat": 4,
 "nbformat_minor": 5
}
