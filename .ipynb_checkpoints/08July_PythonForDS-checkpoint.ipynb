{
 "cells": [
  {
   "cell_type": "markdown",
   "id": "63307d88",
   "metadata": {},
   "source": [
    "# 08 July Py for DS session 1\n"
   ]
  },
  {
   "cell_type": "code",
   "execution_count": null,
   "id": "5558b9ac",
   "metadata": {},
   "outputs": [],
   "source": [
    "\n",
    "#single line comments\n",
    "print(\"National Stock Exchange\")\n",
    "#print(\"ignore value\")\n",
    "print('new york # stock excahnge')\n",
    "# Multiple line comments , new line seprates statements , it executes one at a time , use ; to seprate within same line\n",
    "\n"
   ]
  },
  {
   "cell_type": "code",
   "execution_count": null,
   "id": "3b69e404",
   "metadata": {},
   "outputs": [],
   "source": [
    "exchange = 'abc' print(\"excahnge\")\n",
    "                    \n",
    "# sends the exception object of  class syntax error with string  msg  and interpreter stops further processing once it gets the error \n"
   ]
  },
  {
   "cell_type": "code",
   "execution_count": null,
   "id": "22eac9e6",
   "metadata": {},
   "outputs": [],
   "source": [
    "exchange = 'abc' ;print(exchange)\n",
    "                    "
   ]
  },
  {
   "cell_type": "code",
   "execution_count": null,
   "id": "fd9fae11",
   "metadata": {},
   "outputs": [],
   "source": [
    "ms1 = 'line 1 of string\n",
    "line2 \n",
    "line3'\n",
    "#string should terminate in same line else you would get error "
   ]
  },
  {
   "cell_type": "code",
   "execution_count": null,
   "id": "29b130a0",
   "metadata": {},
   "outputs": [],
   "source": [
    "#Paragraph strings\n",
    "paragraph = \"\"\"cow is animal \n",
    "it gives milk \"\"\"\n",
    "print(paragraph)\n",
    "print(type(paragraph))\n",
    "#Paragraph is a variable looking at an object of class string str.\n"
   ]
  },
  {
   "cell_type": "code",
   "execution_count": null,
   "id": "8e3a9747",
   "metadata": {},
   "outputs": [],
   "source": [
    "# if you do not attach paragraph to  a variable  it become  a block comment \n",
    "exchange = \"NSE\"\n",
    "\n",
    "\"\"\"\n",
    "print adfd\n",
    "obc\n",
    "\n",
    "\"\"\"\n",
    "#print(exchange)\n",
    "# it will only print what jupter has  not  python "
   ]
  },
  {
   "cell_type": "code",
   "execution_count": null,
   "id": "d715bd15",
   "metadata": {},
   "outputs": [],
   "source": [
    "n1 = 30\n",
    "n1\n",
    "#jupyter IDE is intellegent enough so its not python which is giving the result"
   ]
  },
  {
   "cell_type": "code",
   "execution_count": null,
   "id": "ff6a7275",
   "metadata": {},
   "outputs": [],
   "source": [
    "n = 'b' \n",
    "print(n)\n",
    "##commit"
   ]
  },
  {
   "cell_type": "code",
   "execution_count": null,
   "id": "9b506335",
   "metadata": {},
   "outputs": [],
   "source": [
    "#Python var Type\n",
    "ABC=10\n",
    "abc=20\n",
    "print(abc)\n",
    "print(ABC)"
   ]
  },
  {
   "cell_type": "code",
   "execution_count": null,
   "id": "3b5c33bf",
   "metadata": {},
   "outputs": [],
   "source": [
    "import keyword\n",
    "print(keyword.kwlist)"
   ]
  },
  {
   "cell_type": "code",
   "execution_count": null,
   "id": "9d35407c",
   "metadata": {},
   "outputs": [],
   "source": [
    "import keyword\n",
    "print(type(keyword))\n",
    "# keyword is object of class Module type Module "
   ]
  },
  {
   "cell_type": "code",
   "execution_count": null,
   "id": "1e7f1c46",
   "metadata": {},
   "outputs": [],
   "source": [
    "#indentation of code block \n",
    "#within same block indentation should be same \n",
    "# across the block its fine \n",
    "a = 10\n",
    "while a > 0:\n",
    "    print(a)\n",
    "    a = a -1 \n"
   ]
  },
  {
   "cell_type": "code",
   "execution_count": null,
   "id": "dbb39eb8",
   "metadata": {},
   "outputs": [],
   "source": [
    "sensor = 1\n",
    "if sensor ==0:\n",
    "    print('level is low')\n",
    "    print('swith on motor')\n",
    "else:\n",
    "    print('level is high')\n",
    "    print('swich off motor')\n",
    "    \n",
    "    \n",
    "    "
   ]
  },
  {
   "cell_type": "markdown",
   "id": "9d49ad37",
   "metadata": {},
   "source": [
    "# assignments"
   ]
  },
  {
   "cell_type": "code",
   "execution_count": null,
   "id": "0b0ec1dc",
   "metadata": {},
   "outputs": [],
   "source": [
    "myint1 = 20\n",
    "myint = int(20)\n",
    "myint2 = 20 \n",
    "print(type(myint1))\n",
    "print(type(myint2))\n",
    "print(type(myint))\n",
    "print(id(myint1))\n",
    "print(id(myint2))\n",
    "#type returns the class name\n",
    "# ID returns virtual address of the object\n"
   ]
  },
  {
   "cell_type": "code",
   "execution_count": null,
   "id": "87588649",
   "metadata": {},
   "outputs": [],
   "source": [
    "var1 = (20,30,'python')\n",
    "print(var1)\n",
    "print(type(var1))\n",
    "print(id(var1))\n",
    "print(var1[0])"
   ]
  },
  {
   "cell_type": "code",
   "execution_count": null,
   "id": "e4625c4b",
   "metadata": {},
   "outputs": [],
   "source": [
    "var1 = {'bank':'sbi','branch':'ecity'}\n",
    "print(var1)\n",
    "print(type(var1))\n",
    "print(id(var1))\n",
    "print(var1['bank'],var1['branch'])"
   ]
  },
  {
   "cell_type": "code",
   "execution_count": null,
   "id": "8df8e125",
   "metadata": {},
   "outputs": [],
   "source": [
    "myint = (10,20,30)\n",
    "print(type(myint))\n",
    "myint[0]= 22\n",
    "print(myint)\n",
    "# tuple are not changable\n"
   ]
  },
  {
   "cell_type": "code",
   "execution_count": null,
   "id": "6ecca4e5",
   "metadata": {},
   "outputs": [],
   "source": [
    "a = b = c = 2345\n",
    "print(id(a))\n",
    "print(id(b))\n",
    "print(id(c))\n",
    "# same memory locations\n",
    "a = 2345\n",
    "b = 2345\n",
    "c = 2345 \n",
    "print(id(a))\n",
    "print(id(b))\n",
    "print(id(c))\n",
    "#diff memory location"
   ]
  },
  {
   "cell_type": "code",
   "execution_count": null,
   "id": "77114820",
   "metadata": {},
   "outputs": [],
   "source": [
    "# positional mapping\n",
    "a , b , c = 12000 ,'hello' , 12000\n",
    "print(id(a))\n",
    "print(id(b))\n",
    "print(id(c))\n",
    "print(a)\n",
    "print(b)\n",
    "print(c)"
   ]
  },
  {
   "cell_type": "markdown",
   "id": "3bda8c2d",
   "metadata": {},
   "source": [
    "# take data from keyboard"
   ]
  },
  {
   "cell_type": "code",
   "execution_count": null,
   "id": "904f1568",
   "metadata": {},
   "outputs": [],
   "source": [
    "name = input(\"what is your name\")\n",
    "print(\"my name is \" + ''+ name)\n",
    "print(type(name))\n",
    "print(len(name))\n",
    "# Lenth using len\n",
    "#Keyboard input will always return  object Type of class STR"
   ]
  },
  {
   "cell_type": "code",
   "execution_count": null,
   "id": "c87f513c",
   "metadata": {},
   "outputs": [],
   "source": [
    "marks = input('enter marks')\n",
    "print(marks)\n",
    "print(type(marks))\n",
    "#marks1= int(marks)\n",
    "newmarks = marks + 5 \n",
    "print(newmarks)\n"
   ]
  },
  {
   "cell_type": "code",
   "execution_count": null,
   "id": "3f78553e",
   "metadata": {},
   "outputs": [],
   "source": [
    "marks = input('enter marks')\n",
    "print(marks)\n",
    "print(type(marks))\n",
    "marks1= int(marks)\n",
    "newmarks = marks1 + 5 \n",
    "print(newmarks)\n"
   ]
  },
  {
   "cell_type": "code",
   "execution_count": null,
   "id": "9cd4e6e0",
   "metadata": {},
   "outputs": [],
   "source": [
    "weight = float(input('provide your weight'))\n",
    "print(weight,type(weight))"
   ]
  },
  {
   "cell_type": "markdown",
   "id": "cd078a26",
   "metadata": {},
   "source": [
    "# Operators\n",
    "\n"
   ]
  },
  {
   "cell_type": "code",
   "execution_count": null,
   "id": "bc56f858",
   "metadata": {},
   "outputs": [],
   "source": [
    "#arthmetic, assignment, relationsl, logical\n",
    "x = 25\n",
    "y = 5\n",
    "p = y ** x\n",
    "print(str(p))\n",
    "print(len(str(p)))\n",
    "print(26 % 5 )"
   ]
  },
  {
   "cell_type": "code",
   "execution_count": null,
   "id": "65cc78f3",
   "metadata": {},
   "outputs": [],
   "source": [
    "a = \"\"\n",
    "bool(a)\n",
    "\n"
   ]
  },
  {
   "cell_type": "markdown",
   "id": "b09a8b16",
   "metadata": {},
   "source": [
    "# Functions in python\n"
   ]
  },
  {
   "cell_type": "code",
   "execution_count": null,
   "id": "ebfd6b05",
   "metadata": {},
   "outputs": [],
   "source": [
    "def ExamResult():\n",
    "    marks=int(input('enter your marks'))\n",
    "    if marks > 40:\n",
    "        print(\"pass ho gya bccchu tu to \")\n",
    "    else:\n",
    "        print(\"oh sorry ! you failed, padhai kara karo \")\n",
    "\n",
    "ExamResult()"
   ]
  },
  {
   "cell_type": "code",
   "execution_count": null,
   "id": "6f6a1739",
   "metadata": {},
   "outputs": [],
   "source": [
    "# if progreaammer did not specify the return statement , None is by default returned \n",
    "x = print(hello)\n",
    "print(x)"
   ]
  },
  {
   "cell_type": "code",
   "execution_count": null,
   "id": "32f5ee1f",
   "metadata": {},
   "outputs": [],
   "source": [
    "def mf1():\n",
    "  p0 = int(input(\"provide p0\"))\n",
    "  p1 = int(input(\"provide p0\"))\n",
    "  b = p0 + p1\n",
    "  return b\n",
    "  print(b)\n",
    "    \n",
    "r = mf1()\n",
    "print(r)\n",
    "print(type(mf1))\n",
    "#Commands after return are ignored by Python by Nature "
   ]
  },
  {
   "cell_type": "markdown",
   "id": "88884e3c",
   "metadata": {},
   "source": [
    "# decision / Branching\n"
   ]
  },
  {
   "cell_type": "code",
   "execution_count": null,
   "id": "bc6652b3",
   "metadata": {},
   "outputs": [],
   "source": [
    "else if , if alif \n"
   ]
  },
  {
   "cell_type": "markdown",
   "id": "21515dd2",
   "metadata": {},
   "source": [
    "# build in data structures"
   ]
  },
  {
   "cell_type": "code",
   "execution_count": null,
   "id": "beacbbe9",
   "metadata": {},
   "outputs": [],
   "source": [
    "def tempCheck():\n",
    "    temp = int(input(\"provide what is temp feels like\"))\n",
    "    if temp > 90:\n",
    "        print(\"it is hot\")\n",
    "    elif temp < 60:\n",
    "        print(\"it is cold\")\n",
    "    else:\n",
    "        print(\"its is just right\")\n",
    "        \n",
    "tempCheck()\n"
   ]
  },
  {
   "cell_type": "markdown",
   "id": "60e155a4",
   "metadata": {},
   "source": [
    "# string Data type"
   ]
  },
  {
   "cell_type": "code",
   "execution_count": null,
   "id": "3e0430c6",
   "metadata": {},
   "outputs": [],
   "source": [
    "#Strings are non mutable in memory\n",
    "#len for lenth of string\n",
    "#  Mutablity you cant change charactor \n"
   ]
  },
  {
   "cell_type": "code",
   "execution_count": null,
   "id": "b49aa018",
   "metadata": {},
   "outputs": [],
   "source": [
    "ms1='python data'\n",
    "print(type(ms1))\n",
    "print(len(ms1))\n",
    "print(ms1)\n",
    "print(ms1[4])"
   ]
  },
  {
   "cell_type": "markdown",
   "id": "04a4c28f",
   "metadata": {},
   "source": [
    "# accessing Values in Strings"
   ]
  },
  {
   "cell_type": "code",
   "execution_count": null,
   "id": "bd123d94",
   "metadata": {},
   "outputs": [],
   "source": [
    "abc= 'ABCDFEFGHJKL'\n",
    "print(abc[-8:-2])\n",
    "print(abc[:])\n",
    "print(abc[::2])\n",
    "print(abc[-1::-1])"
   ]
  },
  {
   "cell_type": "markdown",
   "id": "efa21394",
   "metadata": {},
   "source": [
    "# concatnation and membership\n"
   ]
  },
  {
   "cell_type": "code",
   "execution_count": null,
   "id": "16c163c7",
   "metadata": {},
   "outputs": [],
   "source": [
    "# + operator\n",
    "# in cheks for inclusion\n",
    "# not in checks for absense \n",
    "accounts=['1234','4344','3344']\n",
    "cs = input(\"provide account number\")\n",
    "if cs in accounts:\n",
    "    print(\"existing customers\")\n",
    "else:\n",
    "    print(\"new customer form\")"
   ]
  },
  {
   "cell_type": "code",
   "execution_count": null,
   "id": "48641823",
   "metadata": {},
   "outputs": [],
   "source": [
    "# KNow attributes of class \n",
    "print(dir(str))\n"
   ]
  },
  {
   "cell_type": "code",
   "execution_count": null,
   "id": "c963e38a",
   "metadata": {},
   "outputs": [],
   "source": [
    "help(str.replace)\n"
   ]
  },
  {
   "cell_type": "code",
   "execution_count": null,
   "id": "673bf4ad",
   "metadata": {},
   "outputs": [],
   "source": [
    "ms1 = \"hello\"\n",
    "ms2 = ms1[:]\n",
    "print(id(ms1))\n",
    "print(id(ms2))"
   ]
  },
  {
   "cell_type": "code",
   "execution_count": null,
   "id": "879b720a",
   "metadata": {},
   "outputs": [],
   "source": [
    "ms1 = \"king ring singh\"\n",
    "ns1 = ms1.replace('ng','ds',2)\n",
    "print(ns1)\n"
   ]
  },
  {
   "cell_type": "markdown",
   "id": "8d19c3c1",
   "metadata": {},
   "source": [
    "# replace/ find methodes"
   ]
  },
  {
   "cell_type": "code",
   "execution_count": null,
   "id": "80c05a23",
   "metadata": {},
   "outputs": [],
   "source": [
    "mystr1 = \"nationalExchange\"\n",
    "index= mystr1.find('g')\n",
    "print(mystr1.find('a',4,7))\n",
    "print(mystr1.replace('g','o').find('g'))\n",
    "print(mystr1.count(a))"
   ]
  },
  {
   "cell_type": "code",
   "execution_count": null,
   "id": "c02fa91f",
   "metadata": {},
   "outputs": [],
   "source": [
    "mystr1 = \"national stock exchange Mumbai\"\n",
    "c = mystr1.count('a')\n",
    "print(c)\n",
    "print(mystr1.lower())\n",
    "print(mystr1.swapcase())\n",
    "print(mystr1.title())\n",
    "print(mystr1.capitalize())\n",
    "print('2023'.isdigit())\n"
   ]
  },
  {
   "cell_type": "markdown",
   "id": "1fb6a1e3",
   "metadata": {},
   "source": [
    "# Split & Join"
   ]
  },
  {
   "cell_type": "code",
   "execution_count": null,
   "id": "bdf5dbfb",
   "metadata": {},
   "outputs": [],
   "source": [
    "ms1 = \"world health org geneva\"\n",
    "ms1.split()"
   ]
  },
  {
   "cell_type": "code",
   "execution_count": null,
   "id": "b7a8820d",
   "metadata": {},
   "outputs": [],
   "source": [
    "ms1 = \"world health org geneva\"\n",
    "ms1.split(' ',1)"
   ]
  },
  {
   "cell_type": "code",
   "execution_count": null,
   "id": "00a38168",
   "metadata": {},
   "outputs": [],
   "source": [
    "str1 = \"Jitendra_Singh_Engineer_Resume_SA\"\n",
    "str1.split('_',2)"
   ]
  },
  {
   "cell_type": "code",
   "execution_count": null,
   "id": "9d98c78c",
   "metadata": {},
   "outputs": [],
   "source": [
    "str = ['national', 'stock','exchange','mumbai','city']\n",
    "ns1='_'.join(str)\n",
    "ns1"
   ]
  },
  {
   "cell_type": "markdown",
   "id": "5d2131ba",
   "metadata": {},
   "source": [
    "# python way of printing"
   ]
  },
  {
   "cell_type": "code",
   "execution_count": null,
   "id": "b8ef8240",
   "metadata": {},
   "outputs": [],
   "source": [
    "average = 98.31\n",
    "sub = 'pysics'\n",
    "nums = 50\n",
    "#uncontrained placeholer will take any value ay date type can be given Nums can be at any place. positional Mapped \n",
    "print ('avergage marks in {} of {} student is {}'.format(sub,nums,average))\n",
    "# Index Constrains \n",
    "print ('avergage marks in {0} of {2} student is {1}'.format(sub,nums,average))\n",
    "# data type and parameter index constrains\n",
    "print ('avergage marks in {0:s} of {1:d} student is {2:.2F}'.format(sub,nums,average))\n",
    "#Data Type Constains \n",
    "print ('avergage marks in {:s} of {:d} student is {:.2f}'.format(sub,nums,average))"
   ]
  },
  {
   "cell_type": "markdown",
   "id": "852353ea",
   "metadata": {},
   "source": [
    "# format "
   ]
  },
  {
   "cell_type": "code",
   "execution_count": null,
   "id": "02c52743",
   "metadata": {},
   "outputs": [],
   "source": [
    "ns1 = '{:<20}'.format('python')\n",
    "ns1"
   ]
  },
  {
   "cell_type": "code",
   "execution_count": null,
   "id": "b001a9a1",
   "metadata": {},
   "outputs": [],
   "source": [
    "help('formatting')"
   ]
  },
  {
   "cell_type": "code",
   "execution_count": null,
   "id": "b93e011b",
   "metadata": {},
   "outputs": [],
   "source": [
    "for i in range(1,40,3):\n",
    "     print('{:^40}'.format('*'*i))\n",
    "for i in range(1,40,3):\n",
    "   print('{:^40}'.format('*'*i))"
   ]
  },
  {
   "cell_type": "markdown",
   "id": "94a08043",
   "metadata": {},
   "source": [
    "# escape sequences"
   ]
  },
  {
   "cell_type": "code",
   "execution_count": null,
   "id": "1ed79b9f",
   "metadata": {},
   "outputs": [],
   "source": [
    "#\\n \\t"
   ]
  },
  {
   "cell_type": "code",
   "execution_count": null,
   "id": "238381ec",
   "metadata": {},
   "outputs": [],
   "source": [
    "print('nse\\n mumbai')"
   ]
  },
  {
   "cell_type": "code",
   "execution_count": null,
   "id": "54fe8815",
   "metadata": {},
   "outputs": [],
   "source": [
    "print('c:\\tiger')"
   ]
  },
  {
   "cell_type": "code",
   "execution_count": null,
   "id": "5b8286b1",
   "metadata": {},
   "outputs": [],
   "source": [
    "print('c:\\\\tiger')"
   ]
  },
  {
   "cell_type": "markdown",
   "id": "2b4022d2",
   "metadata": {},
   "source": [
    "# Lists "
   ]
  },
  {
   "cell_type": "code",
   "execution_count": null,
   "id": "6b43d609",
   "metadata": {},
   "outputs": [],
   "source": [
    "# list is an ordred set of values where eash value is identified by an index\n",
    "#Lists are mutable \n",
    "#can be iterated using loop\n",
    "mylist1=list('jitendra')\n",
    "print(mylist1)\n",
    "mylist1[1]='k' # mutable types\n",
    "print(mylist1)\n",
    "print('manuplating')\n",
    "mylist1[1]='i'\n",
    "a=''.join(mylist1)\n",
    "\n",
    "print(mylist1)"
   ]
  },
  {
   "cell_type": "markdown",
   "id": "1b3c2e72",
   "metadata": {},
   "source": [
    "# matrix reprresenations\n",
    "\n"
   ]
  },
  {
   "cell_type": "code",
   "execution_count": null,
   "id": "9322f94a",
   "metadata": {},
   "outputs": [],
   "source": [
    "matrix34 = [[11,12,13,14],[15,16,17,18],[19,20,21,22]]\n",
    "matrix34[1][1]\n",
    "matrix34[1]\n",
    "print(type(matrix34))\n",
    "print(dir(list))"
   ]
  },
  {
   "cell_type": "code",
   "execution_count": null,
   "id": "5a17345a",
   "metadata": {},
   "outputs": [],
   "source": [
    "mylist1=[2,4,6,3,5,7,1]\n",
    "mylist2=[1,2,3]\n",
    "mylist1.extend([5,10,15])\n",
    "mylist1.extend(['hello','ok'])\n",
    "mylist1\n"
   ]
  },
  {
   "cell_type": "code",
   "execution_count": null,
   "id": "5fa88674",
   "metadata": {},
   "outputs": [],
   "source": [
    "#insert\n",
    "mlist2=[1,1,3]\n",
    "mylist1.insert(1,\"hello\")\n",
    "mylist1"
   ]
  },
  {
   "cell_type": "code",
   "execution_count": null,
   "id": "57cd9318",
   "metadata": {},
   "outputs": [],
   "source": [
    "list1=[1,2,3]\n",
    "list1.insert(-1,\"hello\")\n",
    "list1\n",
    "#list1.pop()\n",
    "#list1"
   ]
  },
  {
   "cell_type": "code",
   "execution_count": null,
   "id": "198ecfe6",
   "metadata": {},
   "outputs": [],
   "source": [
    "mylist3\n",
    "print('check')\n",
    "mylist2=mylist3.copy()\n",
    "mylist2\n",
    "mylist4=mylist2.copy()\n",
    "mylist4"
   ]
  },
  {
   "cell_type": "code",
   "execution_count": null,
   "id": "99594f9c",
   "metadata": {},
   "outputs": [],
   "source": [
    "mylist1=list('pythong data cycing')\n",
    "i = mylist1.index('a')\n",
    "print(i)\n",
    "c = mylist1.count('a')\n",
    "print(c)\n",
    "max(mylist1)\n"
   ]
  },
  {
   "cell_type": "code",
   "execution_count": null,
   "id": "f3cb8efc",
   "metadata": {},
   "outputs": [],
   "source": [
    "mylist3=[2,4,7]\n",
    "max(mylist3)\n"
   ]
  },
  {
   "cell_type": "code",
   "execution_count": null,
   "id": "a5fb8c32",
   "metadata": {},
   "outputs": [],
   "source": [
    "mylist2=['a','y','z']\n",
    "max(mylist2)"
   ]
  },
  {
   "cell_type": "markdown",
   "id": "102cc553",
   "metadata": {},
   "source": [
    "# List Sort"
   ]
  },
  {
   "cell_type": "code",
   "execution_count": null,
   "id": "1883328e",
   "metadata": {},
   "outputs": [],
   "source": [
    "mylist1= [2,4,6,8,9,4,3,9]\n",
    "mylist1.sort()\n",
    "mylist1"
   ]
  },
  {
   "cell_type": "code",
   "execution_count": null,
   "id": "b9bed905",
   "metadata": {},
   "outputs": [],
   "source": [
    "mylist1 = [2,4,6,8,9,4,3,9]\n",
    "mylist1.sort(reverse=True)\n",
    "mylist1"
   ]
  },
  {
   "cell_type": "code",
   "execution_count": null,
   "id": "c0157193",
   "metadata": {},
   "outputs": [],
   "source": [
    "mylist1 = [2,4,6,8,9,4,3,9,\"HELLO\"]\n",
    "mylist1.sort(reverse=True)\n",
    "mylist1"
   ]
  },
  {
   "cell_type": "code",
   "execution_count": null,
   "id": "1673fbb7",
   "metadata": {},
   "outputs": [],
   "source": [
    "\n",
    "mylist1 = [2,4,6,8,9,4,3,9,\"HELLO\"]\n",
    "mylist1.sort(reverse=True)\n",
    "mylist1"
   ]
  },
  {
   "cell_type": "code",
   "execution_count": 1,
   "id": "b1f79c1d",
   "metadata": {},
   "outputs": [],
   "source": [
    "def key1(obj):\n",
    "    if isinstance(obj,(int,float)):\n",
    "        return(obj)\n",
    "    if isinstance(obj,str):\n",
    "        return len(obj)\n",
    "    return 0"
   ]
  },
  {
   "cell_type": "code",
   "execution_count": 2,
   "id": "1a41d8e9",
   "metadata": {},
   "outputs": [
    {
     "name": "stdout",
     "output_type": "stream",
     "text": [
      "[2, 3, 4, 'HELLO', 6, 8, 9, 9]\n"
     ]
    }
   ],
   "source": [
    "mylist1 = [2,4,6,8,9,3,9,\"HELLO\"]\n",
    "mylist1.sort(key=key1)\n",
    "print(mylist1)"
   ]
  },
  {
   "cell_type": "code",
   "execution_count": 3,
   "id": "da07d8c3",
   "metadata": {},
   "outputs": [],
   "source": [
    "# shallo and Deep copy \n",
    "#practics"
   ]
  },
  {
   "cell_type": "markdown",
   "id": "c326b8e3",
   "metadata": {},
   "source": [
    "# Tuple"
   ]
  },
  {
   "cell_type": "code",
   "execution_count": 18,
   "id": "9b882606",
   "metadata": {},
   "outputs": [
    {
     "name": "stdout",
     "output_type": "stream",
     "text": [
      "<class 'tuple'>\n"
     ]
    }
   ],
   "source": [
    "mult1=(123,)\n",
    "print(type(mult1))"
   ]
  },
  {
   "cell_type": "code",
   "execution_count": 24,
   "id": "f3c465a6",
   "metadata": {},
   "outputs": [
    {
     "name": "stdout",
     "output_type": "stream",
     "text": [
      "('a', [1, 1, 2])\n"
     ]
    }
   ],
   "source": [
    "mt1=('a',[1,1,1])\n",
    "mt1[1]\n",
    "mt1[1][2]=2\n",
    "print(mt1)"
   ]
  },
  {
   "cell_type": "markdown",
   "id": "88f798ab",
   "metadata": {},
   "source": [
    "# Tuple functions \n"
   ]
  },
  {
   "cell_type": "code",
   "execution_count": 25,
   "id": "dd6c6919",
   "metadata": {},
   "outputs": [],
   "source": [
    "#concatanation,repetiion ,\n",
    "# in membership operator \n",
    "#slicing same as in strings"
   ]
  },
  {
   "cell_type": "code",
   "execution_count": 30,
   "id": "2766aa6a",
   "metadata": {},
   "outputs": [
    {
     "data": {
      "text/plain": [
       "['__add__',\n",
       " '__class__',\n",
       " '__class_getitem__',\n",
       " '__contains__',\n",
       " '__delattr__',\n",
       " '__dir__',\n",
       " '__doc__',\n",
       " '__eq__',\n",
       " '__format__',\n",
       " '__ge__',\n",
       " '__getattribute__',\n",
       " '__getitem__',\n",
       " '__getnewargs__',\n",
       " '__gt__',\n",
       " '__hash__',\n",
       " '__init__',\n",
       " '__init_subclass__',\n",
       " '__iter__',\n",
       " '__le__',\n",
       " '__len__',\n",
       " '__lt__',\n",
       " '__mul__',\n",
       " '__ne__',\n",
       " '__new__',\n",
       " '__reduce__',\n",
       " '__reduce_ex__',\n",
       " '__repr__',\n",
       " '__rmul__',\n",
       " '__setattr__',\n",
       " '__sizeof__',\n",
       " '__str__',\n",
       " '__subclasshook__',\n",
       " 'count',\n",
       " 'index']"
      ]
     },
     "execution_count": 30,
     "metadata": {},
     "output_type": "execute_result"
    }
   ],
   "source": [
    "dir(tuple)"
   ]
  },
  {
   "cell_type": "code",
   "execution_count": 37,
   "id": "ef58af3c",
   "metadata": {},
   "outputs": [
    {
     "name": "stdout",
     "output_type": "stream",
     "text": [
      "9\n",
      "2\n",
      "(2, 4, 6, 7, 8, 9, 3, 20, 2)\n"
     ]
    },
    {
     "data": {
      "text/plain": [
       "tuple"
      ]
     },
     "execution_count": 37,
     "metadata": {},
     "output_type": "execute_result"
    }
   ],
   "source": [
    "mt2=(2,4,6,7,8,9,3)\n",
    "print(max(mt2))\n",
    "mn=min(mt2)\n",
    "print(mn)\n",
    "mylist2=list(mt2)\n",
    "mylist2.append(20)\n",
    "mylist2.append(2)\n",
    "mt3=tuple(mylist2)\n",
    "print(mt3)\n",
    "type(mt3)"
   ]
  },
  {
   "cell_type": "markdown",
   "id": "b0c8ac8e",
   "metadata": {},
   "source": [
    "# PYthon disctionary  key value pairs\n"
   ]
  },
  {
   "cell_type": "code",
   "execution_count": 47,
   "id": "a0d40973",
   "metadata": {},
   "outputs": [
    {
     "data": {
      "text/plain": [
       "{'empname': 'Jitendra',\n",
       " 'manager': 'ketan',\n",
       " 'location': 'BLR',\n",
       " 'coreskills': 'devops',\n",
       " 'subject': 'CS'}"
      ]
     },
     "execution_count": 47,
     "metadata": {},
     "output_type": "execute_result"
    }
   ],
   "source": [
    "#disctionary is stored in back end as hash table \n",
    "md1={'empname':'Jitendra','manager':'ketan','location':'BLR','coreskills':'devops'}\n",
    "md1['subject']=\"CS\"\n",
    "md1"
   ]
  },
  {
   "cell_type": "code",
   "execution_count": 49,
   "id": "76d6aa4d",
   "metadata": {},
   "outputs": [
    {
     "name": "stdout",
     "output_type": "stream",
     "text": [
      "['__class__', '__class_getitem__', '__contains__', '__delattr__', '__delitem__', '__dir__', '__doc__', '__eq__', '__format__', '__ge__', '__getattribute__', '__getitem__', '__gt__', '__hash__', '__init__', '__init_subclass__', '__ior__', '__iter__', '__le__', '__len__', '__lt__', '__ne__', '__new__', '__or__', '__reduce__', '__reduce_ex__', '__repr__', '__reversed__', '__ror__', '__setattr__', '__setitem__', '__sizeof__', '__str__', '__subclasshook__', 'clear', 'copy', 'fromkeys', 'get', 'items', 'keys', 'pop', 'popitem', 'setdefault', 'update', 'values']\n"
     ]
    }
   ],
   "source": [
    "print(dir(dict))"
   ]
  },
  {
   "cell_type": "code",
   "execution_count": 55,
   "id": "16f986fb",
   "metadata": {},
   "outputs": [
    {
     "data": {
      "text/plain": [
       "'location'"
      ]
     },
     "execution_count": 55,
     "metadata": {},
     "output_type": "execute_result"
    }
   ],
   "source": [
    "#disctionary is stored in back end as hash table \n",
    "md1={'empname':'Jitendra','manager':'ketan','location':'BLR','coreskills':'devops'}\n",
    "md1['subject']=\"CS\"\n",
    "list1=list(md1.keys())\n",
    "list1[2]"
   ]
  },
  {
   "cell_type": "code",
   "execution_count": 59,
   "id": "4d086f81",
   "metadata": {},
   "outputs": [
    {
     "data": {
      "text/plain": [
       "('manager', 'ketan')"
      ]
     },
     "execution_count": 59,
     "metadata": {},
     "output_type": "execute_result"
    }
   ],
   "source": [
    "md1={'empname':'Jitendra','manager':'ketan','location':'BLR','coreskills':'devops'}\n",
    "list2=list(md1.items())\n",
    "list2[1]"
   ]
  },
  {
   "cell_type": "code",
   "execution_count": 68,
   "id": "db5372b3",
   "metadata": {},
   "outputs": [
    {
     "name": "stdout",
     "output_type": "stream",
     "text": [
      "None\n"
     ]
    }
   ],
   "source": [
    "md1={'empname':'Jitendra','manager':'ketan','location':'BLR','coreskills':'devops'}\n",
    "md1.get('empname')\n",
    "print(md1.get('city'))\n",
    "#defaults to None if Key does not match "
   ]
  },
  {
   "cell_type": "code",
   "execution_count": 69,
   "id": "fe6a7c0e",
   "metadata": {},
   "outputs": [
    {
     "name": "stdout",
     "output_type": "stream",
     "text": [
      "None\n"
     ]
    }
   ],
   "source": [
    "md1={'empname':'Jitendra','manager':'ketan','location':'BLR','coreskills':'devops'}\n",
    "md1.get('empname')\n",
    "print(md1.get('city'))"
   ]
  },
  {
   "cell_type": "code",
   "execution_count": 70,
   "id": "6238151b",
   "metadata": {},
   "outputs": [
    {
     "name": "stdout",
     "output_type": "stream",
     "text": [
      "None\n"
     ]
    }
   ],
   "source": [
    "md1={'empname':'Jitendra','manager':'ketan','location':'BLR','coreskills':'devops'}\n",
    "md1.get('empname')\n",
    "print(md1.get('city'))"
   ]
  },
  {
   "cell_type": "code",
   "execution_count": 77,
   "id": "a5d92ec0",
   "metadata": {
    "scrolled": true
   },
   "outputs": [
    {
     "data": {
      "text/plain": [
       "{'empname': 'Jitendra',\n",
       " 'manager': 'ketan',\n",
       " 'location': 'BLR',\n",
       " 'coreskills': 'devops',\n",
       " 'country': None}"
      ]
     },
     "execution_count": 77,
     "metadata": {},
     "output_type": "execute_result"
    }
   ],
   "source": [
    "md1={'empname':'Jitendra','manager':'ketan','location':'BLR','coreskills':'devops'}\n",
    "md1.setdefault('empname')\n",
    "md1\n",
    "md1.setdefault('country')\n",
    "md1"
   ]
  },
  {
   "cell_type": "code",
   "execution_count": 83,
   "id": "a20e5cbc",
   "metadata": {},
   "outputs": [
    {
     "data": {
      "text/plain": [
       "{'bank': 'axis', 'branch': 'mgroad', 'city': 'blr'}"
      ]
     },
     "execution_count": 83,
     "metadata": {},
     "output_type": "execute_result"
    }
   ],
   "source": [
    "md1={'bank':'sbi','branch':'mgroad'}\n",
    "\n",
    "md2={'bank':'axis','city':'blr'}\n",
    "\n",
    "md1.update(md2)\n",
    "md1"
   ]
  },
  {
   "cell_type": "code",
   "execution_count": 87,
   "id": "420d3c22",
   "metadata": {},
   "outputs": [
    {
     "name": "stdout",
     "output_type": "stream",
     "text": [
      "<class 'zip'>\n",
      "[]\n"
     ]
    },
    {
     "data": {
      "text/plain": [
       "[('bank', 'sbi'), ('branch', 'mgroad'), ('city', 'mumbai')]"
      ]
     },
     "execution_count": 87,
     "metadata": {},
     "output_type": "execute_result"
    }
   ],
   "source": [
    "keylist = ['bank','branch',\"city\"]\n",
    "valuelist = ['sbi','mgroad','mumbai']\n",
    "z = zip(keylist,valuelist)\n",
    "print(type(z))\n",
    "#zip object is one time consumable , iterators \n",
    "zlist=list(z)\n",
    "print(list(z))\n",
    "zlist"
   ]
  },
  {
   "cell_type": "code",
   "execution_count": 94,
   "id": "825c3b22",
   "metadata": {},
   "outputs": [
    {
     "data": {
      "text/plain": [
       "'sbi'"
      ]
     },
     "execution_count": 94,
     "metadata": {},
     "output_type": "execute_result"
    }
   ],
   "source": [
    "keylist = ['bank','branch',\"city\"]\n",
    "valuelist = ['sbi','mgroad','mumbai']\n",
    "md2=dict(zip(keylist,valuelist))\n",
    "md2.get('bank')"
   ]
  },
  {
   "cell_type": "markdown",
   "id": "8c4a0938",
   "metadata": {},
   "source": [
    "# Sets "
   ]
  },
  {
   "cell_type": "code",
   "execution_count": 106,
   "id": "8a16ac5a",
   "metadata": {
    "scrolled": true
   },
   "outputs": [
    {
     "ename": "KeyError",
     "evalue": "25",
     "output_type": "error",
     "traceback": [
      "\u001b[0;31m---------------------------------------------------------------------------\u001b[0m",
      "\u001b[0;31mKeyError\u001b[0m                                  Traceback (most recent call last)",
      "Cell \u001b[0;32mIn[106], line 9\u001b[0m\n\u001b[1;32m      7\u001b[0m ms1\u001b[38;5;241m.\u001b[39madd(\u001b[38;5;241m3\u001b[39m)\n\u001b[1;32m      8\u001b[0m ms1\u001b[38;5;241m.\u001b[39mpop()\n\u001b[0;32m----> 9\u001b[0m \u001b[43mms1\u001b[49m\u001b[38;5;241;43m.\u001b[39;49m\u001b[43mremove\u001b[49m\u001b[43m(\u001b[49m\u001b[38;5;241;43m25\u001b[39;49m\u001b[43m)\u001b[49m\n",
      "\u001b[0;31mKeyError\u001b[0m: 25"
     ]
    }
   ],
   "source": [
    "ms1=set()\n",
    "type(ms1)\n",
    "ms1.add(20)\n",
    "#print(dir(ms1))\n",
    "\n",
    "ms1.add(2)\n",
    "ms1.add(3)\n",
    "ms1.pop()\n",
    "ms1.remove(25)\n"
   ]
  },
  {
   "cell_type": "code",
   "execution_count": 110,
   "id": "93e1fb63",
   "metadata": {},
   "outputs": [
    {
     "data": {
      "text/plain": [
       "{1, 2, 4, 5, 6, 7, 8, 9}"
      ]
     },
     "execution_count": 110,
     "metadata": {},
     "output_type": "execute_result"
    }
   ],
   "source": [
    "ms1 = {2,4,6,8,9}\n",
    "ms2 = {1,2,4,7,5}\n",
    "ms1.union(ms2)\n"
   ]
  },
  {
   "cell_type": "code",
   "execution_count": 111,
   "id": "f72134df",
   "metadata": {},
   "outputs": [
    {
     "data": {
      "text/plain": [
       "{2, 4}"
      ]
     },
     "execution_count": 111,
     "metadata": {},
     "output_type": "execute_result"
    }
   ],
   "source": [
    "ms1.intersection(ms2)\n",
    "#set theory read \n"
   ]
  }
 ],
 "metadata": {
  "kernelspec": {
   "display_name": "Python 3 (ipykernel)",
   "language": "python",
   "name": "python3"
  },
  "language_info": {
   "codemirror_mode": {
    "name": "ipython",
    "version": 3
   },
   "file_extension": ".py",
   "mimetype": "text/x-python",
   "name": "python",
   "nbconvert_exporter": "python",
   "pygments_lexer": "ipython3",
   "version": "3.10.9"
  }
 },
 "nbformat": 4,
 "nbformat_minor": 5
}
