{
 "cells": [
  {
   "cell_type": "markdown",
   "id": "d8b2c2e2",
   "metadata": {},
   "source": [
    "# Numpy"
   ]
  },
  {
   "cell_type": "code",
   "execution_count": 1,
   "id": "8226b0ff",
   "metadata": {},
   "outputs": [],
   "source": [
    "#Numarical Python \n",
    "# general purpose Array processosing python \n",
    "# Numpy : numbers based access\n",
    "#pandas : full access , Internally stores in numpy array only. \n",
    "# Numpy , pandas, matplolib , Seaborn "
   ]
  },
  {
   "cell_type": "code",
   "execution_count": 2,
   "id": "7bc682a5",
   "metadata": {},
   "outputs": [],
   "source": [
    "#Numpy is core library for scintific computing in python , Gereral purpse array processing package. "
   ]
  },
  {
   "cell_type": "code",
   "execution_count": 3,
   "id": "4baed358",
   "metadata": {},
   "outputs": [],
   "source": [
    "# Axis --->>>>> ID Array , 2 D Array , 3 D Array \n",
    "# Shape(4) shape (2,3) shape(4,3,2) can be N dimensions as every new catagory gives you new dimension "
   ]
  },
  {
   "cell_type": "markdown",
   "id": "e44242c7",
   "metadata": {},
   "source": [
    "# Creation of matrix"
   ]
  },
  {
   "cell_type": "code",
   "execution_count": 23,
   "id": "8a209408",
   "metadata": {},
   "outputs": [
    {
     "name": "stdout",
     "output_type": "stream",
     "text": [
      "[11 22 33 44 55 66]\n",
      "6\n",
      "(6,)\n",
      "[11 22 33 44 55 66]\n",
      "int64\n",
      "8\n"
     ]
    }
   ],
   "source": [
    "import numpy as np\n",
    "mylist1 = [11,22,33,44,55,66]\n",
    "n1 = np.array(mylist1)\n",
    "print(n1)\n",
    "print(n1.size)\n",
    "print(n1.shape)\n",
    "print(n1)\n",
    "print(n1.dtype) # is importent\n",
    "print(n1.itemsize)"
   ]
  },
  {
   "cell_type": "code",
   "execution_count": 28,
   "id": "53c4b00e",
   "metadata": {},
   "outputs": [
    {
     "name": "stdout",
     "output_type": "stream",
     "text": [
      "[11 22 33 44 55 66]\n",
      "6\n",
      "(6,)\n",
      "[11 22 33 44 55 66]\n",
      "int64\n",
      "8\n"
     ]
    }
   ],
   "source": [
    "import numpy as np\n",
    "mylist1 = [11,22,33,44,55,66]\n",
    "n1 = np.array(mylist1,dtype=int)\n",
    "print(n1)\n",
    "print(n1.size)\n",
    "print(n1.shape)\n",
    "print(n1)\n",
    "print(n1.dtype)\n",
    "print(n1.itemsize)"
   ]
  },
  {
   "cell_type": "code",
   "execution_count": 37,
   "id": "529437cb",
   "metadata": {},
   "outputs": [
    {
     "name": "stdout",
     "output_type": "stream",
     "text": [
      "[[11 22 33]\n",
      " [44 55 66]]\n",
      "6\n",
      "(2, 3)\n",
      "[[11 22 33]\n",
      " [44 55 66]]\n",
      "int64\n",
      "8\n"
     ]
    }
   ],
   "source": [
    "# create Manual array \n",
    "list2= [\n",
    "    [11,22,33],\n",
    "    [44,55,66]\n",
    "]\n",
    "import numpy as np\n",
    "n1 = np.array(list2,dtype=int)\n",
    "print(n1)\n",
    "print(n1.size)\n",
    "print(n1.shape)\n",
    "print(n1)\n",
    "print(n1.dtype)\n",
    "print(n1.itemsize)"
   ]
  },
  {
   "cell_type": "code",
   "execution_count": 44,
   "id": "85c61e7e",
   "metadata": {},
   "outputs": [
    {
     "name": "stdout",
     "output_type": "stream",
     "text": [
      "[[[111 121]\n",
      "  [141 151]\n",
      "  [171 181]]\n",
      "\n",
      " [[211 221]\n",
      "  [241 251]\n",
      "  [271 281]]\n",
      "\n",
      " [[311 321]\n",
      "  [341 351]\n",
      "  [371 381]]\n",
      "\n",
      " [[411 421]\n",
      "  [441 451]\n",
      "  [471 481]]]\n",
      "24\n",
      "(4, 3, 2)\n",
      "[[[111 121]\n",
      "  [141 151]\n",
      "  [171 181]]\n",
      "\n",
      " [[211 221]\n",
      "  [241 251]\n",
      "  [271 281]]\n",
      "\n",
      " [[311 321]\n",
      "  [341 351]\n",
      "  [371 381]]\n",
      "\n",
      " [[411 421]\n",
      "  [441 451]\n",
      "  [471 481]]]\n",
      "int64\n",
      "8\n"
     ]
    }
   ],
   "source": [
    "#create 3 d Array \n",
    "list3 = [\n",
    "    [[111,121],[141,151],[171,181]],\n",
    "    [[211,221],[241,251],[271,281]],\n",
    "    [[311,321],[341,351],[371,381]],\n",
    "    [[411,421],[441,451],[471,481]],\n",
    "]\n",
    "import numpy as np\n",
    "n2 = np.array(list3,dtype=int)\n",
    "print(n2)\n",
    "print(n2.size)\n",
    "print(n2.shape)\n",
    "print(n2)\n",
    "print(n2.dtype)\n",
    "print(n2.itemsize)"
   ]
  },
  {
   "cell_type": "markdown",
   "id": "2d5e29cc",
   "metadata": {},
   "source": [
    "# arange"
   ]
  },
  {
   "cell_type": "code",
   "execution_count": 57,
   "id": "ad2b0863",
   "metadata": {},
   "outputs": [
    {
     "ename": "NameError",
     "evalue": "name 'sadf' is not defined",
     "output_type": "error",
     "traceback": [
      "\u001b[0;31m---------------------------------------------------------------------------\u001b[0m",
      "\u001b[0;31mNameError\u001b[0m                                 Traceback (most recent call last)",
      "Cell \u001b[0;32mIn[57], line 1\u001b[0m\n\u001b[0;32m----> 1\u001b[0m \u001b[43msadf\u001b[49m\n",
      "\u001b[0;31mNameError\u001b[0m: name 'sadf' is not defined"
     ]
    }
   ],
   "source": [
    "\n",
    "sadf"
   ]
  },
  {
   "cell_type": "code",
   "execution_count": 62,
   "id": "87a4d5cd",
   "metadata": {},
   "outputs": [
    {
     "data": {
      "text/plain": [
       "array([[ 0,  1,  2,  3],\n",
       "       [ 4,  5,  6,  7],\n",
       "       [ 8,  9, 10, 11]])"
      ]
     },
     "execution_count": 62,
     "metadata": {},
     "output_type": "execute_result"
    }
   ],
   "source": [
    "n2 = np.arange(12)\n",
    "n34 = n2.reshape(3,4)\n",
    "n34"
   ]
  },
  {
   "cell_type": "code",
   "execution_count": 69,
   "id": "5417fd6e",
   "metadata": {},
   "outputs": [],
   "source": [
    "n5 = np.arange(12)\n",
    "#arange always return 1d entitity which you could reshape using reshape Function \n"
   ]
  },
  {
   "cell_type": "markdown",
   "id": "f4d26511",
   "metadata": {},
   "source": [
    "n1= np.arange(48)\n",
    "n642= n1.reshape(6,4,-1)\n",
    "n642.shape"
   ]
  },
  {
   "cell_type": "code",
   "execution_count": 75,
   "id": "ed2003cd",
   "metadata": {},
   "outputs": [
    {
     "name": "stdout",
     "output_type": "stream",
     "text": [
      "(48,)\n"
     ]
    },
    {
     "data": {
      "text/plain": [
       "array([83, 40, 73, 54, 31, 76, 91, 39, 90, 25, 51,  6, 45, 12, 49, 66, 75,\n",
       "       85, 69, 64, 12, 21, 48, 41, 79, 90, 62, 57, 19, 33, 59, 39, 15, 36,\n",
       "       65,  1, 43, 15, 86, 83, 58, 25, 66, 74, 35, 96, 56, 13])"
      ]
     },
     "execution_count": 75,
     "metadata": {},
     "output_type": "execute_result"
    }
   ],
   "source": [
    "np.random.seed(23)\n",
    "n1 = np.random.randint(low=0,high=100,size=(48,))\n",
    "print(n1.shape)\n",
    "n1"
   ]
  },
  {
   "cell_type": "code",
   "execution_count": 77,
   "id": "3d2a4c88",
   "metadata": {},
   "outputs": [
    {
     "name": "stdout",
     "output_type": "stream",
     "text": [
      "(6, 4)\n"
     ]
    },
    {
     "data": {
      "text/plain": [
       "array([[83, 40, 73, 54],\n",
       "       [31, 76, 91, 39],\n",
       "       [90, 25, 51,  6],\n",
       "       [45, 12, 49, 66],\n",
       "       [75, 85, 69, 64],\n",
       "       [12, 21, 48, 41]])"
      ]
     },
     "execution_count": 77,
     "metadata": {},
     "output_type": "execute_result"
    }
   ],
   "source": [
    "np.random.seed(23)\n",
    "n1 = np.random.randint(low=0,high=100,size=(6,4))\n",
    "print(n1.shape)\n",
    "n1"
   ]
  },
  {
   "cell_type": "code",
   "execution_count": 80,
   "id": "14342566",
   "metadata": {},
   "outputs": [
    {
     "name": "stdout",
     "output_type": "stream",
     "text": [
      "[ 0  1  2  3  4  5  6  7  8  9 10 11]\n"
     ]
    },
    {
     "data": {
      "text/plain": [
       "array([10, 11, 12, 13, 14, 15, 16, 17, 18, 19, 20, 21])"
      ]
     },
     "execution_count": 80,
     "metadata": {},
     "output_type": "execute_result"
    }
   ],
   "source": [
    "# Arthematics operations on Arran1 \n",
    "n1 = np.arange(12)\n",
    "print(n1)\n",
    "n1 + 10"
   ]
  },
  {
   "cell_type": "code",
   "execution_count": 90,
   "id": "8382a19d",
   "metadata": {},
   "outputs": [
    {
     "name": "stdout",
     "output_type": "stream",
     "text": [
      "[[ 0  1  2  3]\n",
      " [ 4  5  6  7]\n",
      " [ 8  9 10 11]]\n",
      "[[ 0  1  2  3]\n",
      " [ 4  5  6  7]\n",
      " [ 8  9 10 11]]\n"
     ]
    },
    {
     "data": {
      "text/plain": [
       "array([[ 0,  2,  4,  6],\n",
       "       [ 8, 10, 12, 14],\n",
       "       [16, 18, 20, 22]])"
      ]
     },
     "execution_count": 90,
     "metadata": {},
     "output_type": "execute_result"
    }
   ],
   "source": [
    "n34a = np.arange(12).reshape(3,4)\n",
    "print(n34a)\n",
    "n34b = np.arange(12).reshape(3,4)\n",
    "print(n34b)\n",
    "n34a + n34b"
   ]
  },
  {
   "cell_type": "code",
   "execution_count": 98,
   "id": "715642c4",
   "metadata": {},
   "outputs": [
    {
     "data": {
      "text/plain": [
       "array([[ 28,   1],\n",
       "       [ 12, -33],\n",
       "       [ 52, -24],\n",
       "       [ 11,   4],\n",
       "       [ -5, -20],\n",
       "       [ 56,  72]])"
      ]
     },
     "execution_count": 98,
     "metadata": {},
     "output_type": "execute_result"
    }
   ],
   "source": [
    "openprice = np.random.randint(low=0,high=100,size=(6,2))\n",
    "closeprice = np.random.randint(low=0,high=100,size=(6,2))\n",
    "volatility = closeprice - openprice\n",
    "volatility"
   ]
  },
  {
   "cell_type": "code",
   "execution_count": 102,
   "id": "123fb288",
   "metadata": {},
   "outputs": [
    {
     "data": {
      "text/plain": [
       "array([[83, 40, 73, 54, 31, 76, 91, 39, 90],\n",
       "       [25, 51,  6, 45, 12, 49, 66, 75, 85],\n",
       "       [69, 64, 12, 21, 48, 41, 79, 90, 62],\n",
       "       [57, 19, 33, 59, 39, 15, 36, 65,  1],\n",
       "       [43, 15, 86, 83, 58, 25, 66, 74, 35],\n",
       "       [96, 56, 13, 60, 22, 38, 31, 94, 78],\n",
       "       [ 0, 21,  6, 32, 98, 32, 14, 31, 78],\n",
       "       [83, 80, 70, 66, 82, 85, 55, 27, 62]])"
      ]
     },
     "execution_count": 102,
     "metadata": {},
     "output_type": "execute_result"
    }
   ],
   "source": [
    "np.random.seed(23)\n",
    "n89 = np.random.randint(low=0,high=100,size=(8,9))\n",
    "n89\n"
   ]
  },
  {
   "cell_type": "code",
   "execution_count": 104,
   "id": "73d0ccd2",
   "metadata": {},
   "outputs": [
    {
     "data": {
      "text/plain": [
       "83"
      ]
     },
     "execution_count": 104,
     "metadata": {},
     "output_type": "execute_result"
    }
   ],
   "source": [
    "np.random.seed(23)\n",
    "n89 = np.random.randint(low=0,high=100,size=(8,9))\n",
    "n89\n",
    "n89[0][0] "
   ]
  },
  {
   "cell_type": "code",
   "execution_count": 106,
   "id": "b39b852b",
   "metadata": {},
   "outputs": [
    {
     "data": {
      "text/plain": [
       "83"
      ]
     },
     "execution_count": 106,
     "metadata": {},
     "output_type": "execute_result"
    }
   ],
   "source": [
    "np.random.seed(23)\n",
    "n89 = np.random.randint(low=0,high=100,size=(8,9))\n",
    "n89\n",
    "n89[0,0] # loosely \n"
   ]
  },
  {
   "cell_type": "code",
   "execution_count": 107,
   "id": "88133ed1",
   "metadata": {},
   "outputs": [
    {
     "ename": "NameError",
     "evalue": "name 'row_index' is not defined",
     "output_type": "error",
     "traceback": [
      "\u001b[0;31m---------------------------------------------------------------------------\u001b[0m",
      "\u001b[0;31mNameError\u001b[0m                                 Traceback (most recent call last)",
      "Cell \u001b[0;32mIn[107], line 1\u001b[0m\n\u001b[0;32m----> 1\u001b[0m n89[\u001b[43mrow_index\u001b[49m]\n\u001b[1;32m      2\u001b[0m n89[row_index,colum_index]\n",
      "\u001b[0;31mNameError\u001b[0m: name 'row_index' is not defined"
     ]
    }
   ],
   "source": [
    "#n89[row_index]\n",
    "#n89[row_index,colum_index]"
   ]
  },
  {
   "cell_type": "code",
   "execution_count": 110,
   "id": "e99880e9",
   "metadata": {},
   "outputs": [
    {
     "data": {
      "text/plain": [
       "array([[45, 12, 49],\n",
       "       [21, 48, 41],\n",
       "       [59, 39, 15],\n",
       "       [83, 58, 25],\n",
       "       [60, 22, 38]])"
      ]
     },
     "execution_count": 110,
     "metadata": {},
     "output_type": "execute_result"
    }
   ],
   "source": [
    "np.random.seed(23)\n",
    "n89 = np.random.randint(low=0,high=100,size=(8,9))\n",
    "n89\n",
    "n89[0,0] # loosely \n",
    "n89[1:6,3:6]"
   ]
  },
  {
   "cell_type": "code",
   "execution_count": 112,
   "id": "d6a79283",
   "metadata": {},
   "outputs": [
    {
     "data": {
      "text/plain": [
       "array([[83, 40, 73, 54, 31, 76, 91, 39, 90],\n",
       "       [69, 64, 12, 21, 48, 41, 79, 90, 62],\n",
       "       [57, 19, 33, 59, 39, 15, 36, 65,  1],\n",
       "       [83, 80, 70, 66, 82, 85, 55, 27, 62],\n",
       "       [ 0, 21,  6, 32, 98, 32, 14, 31, 78]])"
      ]
     },
     "execution_count": 112,
     "metadata": {},
     "output_type": "execute_result"
    }
   ],
   "source": [
    "np.random.seed(23)\n",
    "n89 = np.random.randint(low=0,high=100,size=(8,9))\n",
    "n89\n",
    "n89[0,0] # loosely \n",
    "n89[[0,2,3,-1,-2]]\n",
    "#Grammer n89[[list of rows]]"
   ]
  },
  {
   "cell_type": "code",
   "execution_count": 116,
   "id": "396f17b6",
   "metadata": {},
   "outputs": [
    {
     "data": {
      "text/plain": [
       "array([91, 75, 62])"
      ]
     },
     "execution_count": 116,
     "metadata": {},
     "output_type": "execute_result"
    }
   ],
   "source": [
    "np.random.seed(23)\n",
    "n89 = np.random.randint(low=0,high=100,size=(8,9))\n",
    "n89\n",
    "n89[[0,1,2],[-3,-2,-1]]"
   ]
  },
  {
   "cell_type": "code",
   "execution_count": 119,
   "id": "b53c749a",
   "metadata": {},
   "outputs": [
    {
     "data": {
      "text/plain": [
       "array([[73, 76, 91],\n",
       "       [ 6, 49, 66],\n",
       "       [12, 41, 79],\n",
       "       [33, 15, 36],\n",
       "       [86, 25, 66],\n",
       "       [13, 38, 31],\n",
       "       [ 6, 32, 14],\n",
       "       [70, 85, 55]])"
      ]
     },
     "execution_count": 119,
     "metadata": {},
     "output_type": "execute_result"
    }
   ],
   "source": [
    "np.random.seed(23)\n",
    "n89 = np.random.randint(low=0,high=100,size=(8,9))\n",
    "n89\n",
    "n89[:,[2,5,6]]"
   ]
  },
  {
   "cell_type": "code",
   "execution_count": 126,
   "id": "10ac99d4",
   "metadata": {},
   "outputs": [
    {
     "data": {
      "text/plain": [
       "array([[49],\n",
       "       [41],\n",
       "       [15],\n",
       "       [25]])"
      ]
     },
     "execution_count": 126,
     "metadata": {},
     "output_type": "execute_result"
    }
   ],
   "source": [
    "np.random.seed(23)\n",
    "n89 = np.random.randint(low=0,high=100,size=(8,9))\n",
    "n89\n",
    "n89[1:5,[5]]#Grammer is impartant "
   ]
  },
  {
   "cell_type": "markdown",
   "id": "bb03dcc5",
   "metadata": {},
   "source": [
    "# Conditional Access"
   ]
  },
  {
   "cell_type": "code",
   "execution_count": 130,
   "id": "791878d5",
   "metadata": {},
   "outputs": [
    {
     "data": {
      "text/plain": [
       "array([83, 73, 54, 76, 91, 90, 51, 66, 75, 85, 69, 64, 79, 90, 62, 57, 59,\n",
       "       65, 86, 83, 58, 66, 74, 96, 56, 60, 94, 78, 98, 78, 83, 80, 70, 66,\n",
       "       82, 85, 55, 62])"
      ]
     },
     "execution_count": 130,
     "metadata": {},
     "output_type": "execute_result"
    }
   ],
   "source": [
    "np.random.seed(23)\n",
    "n89 = np.random.randint(low=0,high=100,size=(8,9))\n",
    "n89\n",
    "#get all values > 15 \n",
    "mask = n89 > 50\n",
    "n89[mask]\n"
   ]
  },
  {
   "cell_type": "code",
   "execution_count": 135,
   "id": "922ba8fa",
   "metadata": {},
   "outputs": [
    {
     "data": {
      "text/plain": [
       "array([[ True, False,  True,  True, False,  True,  True, False,  True],\n",
       "       [False,  True, False, False, False, False,  True,  True,  True],\n",
       "       [ True,  True, False, False, False, False,  True,  True,  True],\n",
       "       [ True, False, False,  True, False, False, False,  True, False],\n",
       "       [False, False,  True,  True,  True, False,  True,  True, False],\n",
       "       [ True,  True, False,  True, False, False, False,  True,  True],\n",
       "       [False, False, False, False,  True, False, False, False,  True],\n",
       "       [ True,  True,  True,  True,  True,  True,  True, False,  True]])"
      ]
     },
     "execution_count": 135,
     "metadata": {},
     "output_type": "execute_result"
    }
   ],
   "source": [
    "np.random.seed(23)\n",
    "n89 = np.random.randint(low=0,high=100,size=(8,9))\n",
    "n89\n",
    "#get all values > 15 \n",
    "mask1 = n89 > 50\n",
    "mask1\n",
    "\n"
   ]
  },
  {
   "cell_type": "code",
   "execution_count": 137,
   "id": "a90dbad3",
   "metadata": {},
   "outputs": [
    {
     "data": {
      "text/plain": [
       "array([[ True,  True,  True,  True,  True,  True, False,  True, False],\n",
       "       [ True,  True,  True,  True,  True,  True,  True,  True,  True],\n",
       "       [ True,  True,  True,  True,  True,  True,  True, False,  True],\n",
       "       [ True,  True,  True,  True,  True,  True,  True,  True,  True],\n",
       "       [ True,  True,  True,  True,  True,  True,  True,  True,  True],\n",
       "       [False,  True,  True,  True,  True,  True,  True, False,  True],\n",
       "       [ True,  True,  True,  True, False,  True,  True,  True,  True],\n",
       "       [ True,  True,  True,  True,  True,  True,  True,  True,  True]])"
      ]
     },
     "execution_count": 137,
     "metadata": {},
     "output_type": "execute_result"
    }
   ],
   "source": [
    "mask2 = n89 < 90\n",
    "mask2"
   ]
  },
  {
   "cell_type": "code",
   "execution_count": 142,
   "id": "0b3aa88c",
   "metadata": {},
   "outputs": [
    {
     "data": {
      "text/plain": [
       "array([83, 73, 54, 76, 51, 66, 75, 85, 69, 64, 79, 62, 57, 59, 65, 86, 83,\n",
       "       58, 66, 74, 56, 60, 78, 78, 83, 80, 70, 66, 82, 85, 55, 62])"
      ]
     },
     "execution_count": 142,
     "metadata": {},
     "output_type": "execute_result"
    }
   ],
   "source": [
    "#bitwise \n",
    "mask = mask1 & mask2\n",
    "mask \n",
    "n89[mask]"
   ]
  },
  {
   "cell_type": "code",
   "execution_count": 147,
   "id": "16b6a333",
   "metadata": {},
   "outputs": [
    {
     "data": {
      "text/plain": [
       "array([90, 90, 86, 96, 94, 98, 82])"
      ]
     },
     "execution_count": 147,
     "metadata": {},
     "output_type": "execute_result"
    }
   ],
   "source": [
    "np.random.seed(23)\n",
    "n89 = np.random.randint(low=0,high=100,size=(8,9))\n",
    "n89\n",
    "n89[ (n89 > 80) & (n89%2==0) ]"
   ]
  },
  {
   "cell_type": "code",
   "execution_count": 158,
   "id": "a8f09996",
   "metadata": {},
   "outputs": [
    {
     "data": {
      "text/plain": [
       "array([[ 2,  2,  2,  2,  2, 20,  2, 20,  2],\n",
       "       [25, 51,  6, 45, 12, 20, 66, 20,  2],\n",
       "       [69, 64, 12, 21, 48, 20, 79, 20, 62],\n",
       "       [57, 19, 33, 59, 39, 20, 36, 20,  1],\n",
       "       [43, 15,  2,  2, 58, 20, 66, 20, 35],\n",
       "       [ 2, 56, 13, 60, 22, 20, 31, 20, 78],\n",
       "       [ 0, 21,  6, 32,  2, 20, 14, 20, 78],\n",
       "       [ 2, 80, 70, 66,  2, 20, 55, 20, 62]])"
      ]
     },
     "execution_count": 158,
     "metadata": {},
     "output_type": "execute_result"
    }
   ],
   "source": [
    "np.random.seed(23)\n",
    "n89 = np.random.randint(low=0,high=100,size=(8,9))\n",
    "n89\n",
    "n89[0]=100\n",
    "n89[:,[5,7]]=20\n",
    "n89[n89 > 80] = 2\n",
    "n89"
   ]
  },
  {
   "cell_type": "markdown",
   "id": "c0cbf3f2",
   "metadata": {},
   "source": [
    "# Stacking of Num Py Arrays"
   ]
  },
  {
   "cell_type": "code",
   "execution_count": 167,
   "id": "f6aff28c",
   "metadata": {},
   "outputs": [
    {
     "data": {
      "text/plain": [
       "array([[ 0,  1,  2,  3],\n",
       "       [ 4,  5,  6,  7],\n",
       "       [ 8,  9, 10, 11]])"
      ]
     },
     "execution_count": 167,
     "metadata": {},
     "output_type": "execute_result"
    }
   ],
   "source": [
    "n34 = np.arange(12).reshape(3,4)\n",
    "n34\n"
   ]
  },
  {
   "cell_type": "code",
   "execution_count": 168,
   "id": "fbe0e311",
   "metadata": {},
   "outputs": [
    {
     "data": {
      "text/plain": [
       "array([[100, 101, 102, 103, 104, 105],\n",
       "       [106, 107, 108, 109, 110, 111],\n",
       "       [112, 113, 114, 115, 116, 117]])"
      ]
     },
     "execution_count": 168,
     "metadata": {},
     "output_type": "execute_result"
    }
   ],
   "source": [
    "n36 = np.arange(100,118).reshape(3,6)\n",
    "n36\n"
   ]
  },
  {
   "cell_type": "code",
   "execution_count": 170,
   "id": "d3cc4fa2",
   "metadata": {},
   "outputs": [
    {
     "data": {
      "text/plain": [
       "array([[  0,   1,   2,   3, 100, 101, 102, 103, 104, 105,   0,   1,   2,\n",
       "          3],\n",
       "       [  4,   5,   6,   7, 106, 107, 108, 109, 110, 111,   4,   5,   6,\n",
       "          7],\n",
       "       [  8,   9,  10,  11, 112, 113, 114, 115, 116, 117,   8,   9,  10,\n",
       "         11]])"
      ]
     },
     "execution_count": 170,
     "metadata": {},
     "output_type": "execute_result"
    }
   ],
   "source": [
    "n3_10 = np.hstack(tup=(n34,n36,n34))\n",
    "n3_10"
   ]
  },
  {
   "cell_type": "code",
   "execution_count": 176,
   "id": "5a868594",
   "metadata": {},
   "outputs": [
    {
     "data": {
      "text/plain": [
       "array([[ 0,  1,  2,  3],\n",
       "       [ 4,  5,  6,  7],\n",
       "       [ 8,  9, 10, 11]])"
      ]
     },
     "execution_count": 176,
     "metadata": {},
     "output_type": "execute_result"
    }
   ],
   "source": [
    "n34 = np.arange(12).reshape(3,4)\n",
    "n34\n"
   ]
  },
  {
   "cell_type": "code",
   "execution_count": 181,
   "id": "ef37f231",
   "metadata": {},
   "outputs": [
    {
     "data": {
      "text/plain": [
       "array([[ 0,  1,  2,  3],\n",
       "       [ 4,  5,  6,  7],\n",
       "       [ 8,  9, 10, 11],\n",
       "       [12, 13, 14, 15],\n",
       "       [16, 17, 18, 19],\n",
       "       [20, 21, 22, 23],\n",
       "       [24, 25, 26, 27],\n",
       "       [28, 29, 30, 31],\n",
       "       [32, 33, 34, 35]])"
      ]
     },
     "execution_count": 181,
     "metadata": {},
     "output_type": "execute_result"
    }
   ],
   "source": [
    "n94 = np.arange(0,36).reshape(9,4)\n",
    "n94"
   ]
  },
  {
   "cell_type": "code",
   "execution_count": 182,
   "id": "45f7f8b9",
   "metadata": {},
   "outputs": [],
   "source": [
    "n64 = np.arange(200,224).reshape(6,4)"
   ]
  },
  {
   "cell_type": "code",
   "execution_count": 191,
   "id": "4f7a6c96",
   "metadata": {},
   "outputs": [
    {
     "data": {
      "text/plain": [
       "array([[200, 201, 202, 203],\n",
       "       [204, 205, 206, 207],\n",
       "       [208, 209, 210, 211],\n",
       "       [212, 213, 214, 215],\n",
       "       [216, 217, 218, 219],\n",
       "       [220, 221, 222, 223],\n",
       "       [  0,   1,   2,   3],\n",
       "       [  4,   5,   6,   7],\n",
       "       [  8,   9,  10,  11]])"
      ]
     },
     "execution_count": 191,
     "metadata": {},
     "output_type": "execute_result"
    }
   ],
   "source": [
    "n94=np.vstack(tup=(n64,n34))\n",
    "n94\n",
    "#row colums % Columes stacks \n"
   ]
  },
  {
   "cell_type": "markdown",
   "id": "ab16175d",
   "metadata": {},
   "source": [
    "# Splitting of arrays"
   ]
  },
  {
   "cell_type": "code",
   "execution_count": 194,
   "id": "0b98b6ba",
   "metadata": {},
   "outputs": [
    {
     "data": {
      "text/plain": [
       "array([[ 3, 35, 21, 76, 57, 86, 81,  0, 68],\n",
       "       [84, 21, 52, 72, 93, 21, 96, 60, 67],\n",
       "       [99, 60,  9, 13, 81, 35,  6, 62, 71],\n",
       "       [41, 47, 41, 88, 52, 97, 55, 58, 87],\n",
       "       [81, 53, 48, 26, 48, 20, 51, 80, 15],\n",
       "       [72,  9, 95, 67, 69, 16, 24, 92, 71],\n",
       "       [47, 42, 87, 92, 49, 39,  5,  8, 52],\n",
       "       [ 3,  4, 72, 80, 19,  8, 86, 92,  6]])"
      ]
     },
     "execution_count": 194,
     "metadata": {},
     "output_type": "execute_result"
    }
   ],
   "source": [
    "n89 = np.random.randint(low=0,high=100,size=(8,9))\n",
    "n89\n"
   ]
  },
  {
   "cell_type": "code",
   "execution_count": 201,
   "id": "4bcaa405",
   "metadata": {},
   "outputs": [
    {
     "data": {
      "text/plain": [
       "[array([[55, 10, 69, 53, 61, 88, 12, 86, 12],\n",
       "        [61, 80,  5, 41,  5, 64, 27, 97, 73]]),\n",
       " array([[27, 96,  5,  7, 73, 31, 45, 65, 40],\n",
       "        [35,  2, 81, 55, 18, 63, 91, 28, 51]]),\n",
       " array([[36, 24, 91,  7, 39, 99, 46, 27, 86],\n",
       "        [31, 94, 69, 94, 66, 78, 16, 32, 40]]),\n",
       " array([[52, 15, 90, 78, 46, 96, 37, 56,  0],\n",
       "        [88, 11, 45, 99, 61, 47, 42, 37, 48]])]"
      ]
     },
     "execution_count": 201,
     "metadata": {},
     "output_type": "execute_result"
    }
   ],
   "source": [
    "n89 = np.random.randint(low=0,high=100,size=(8,9))\n",
    "n89\n",
    "#vSplit\n",
    "np.vsplit(n89,[2,2,3,1,1])\n"
   ]
  },
  {
   "cell_type": "code",
   "execution_count": 204,
   "id": "096caba7",
   "metadata": {},
   "outputs": [
    {
     "data": {
      "text/plain": [
       "[array([[92, 19, 76, 85, 33,  6, 33, 82, 42],\n",
       "        [88, 81, 66, 86, 82, 31, 58, 17, 83]]),\n",
       " array([[32, 27, 69, 86, 83, 42, 89, 12, 77]]),\n",
       " array([[54,  8, 43, 29, 34,  6, 16, 10, 59],\n",
       "        [78, 92, 20, 53, 71, 32, 49, 50, 52],\n",
       "        [39, 12, 40, 16, 63, 14, 59,  4, 70]]),\n",
       " array([[39, 70, 14, 14, 24, 84, 56, 62, 14]]),\n",
       " array([[61, 98, 73, 79, 63, 49, 13, 63, 33]])]"
      ]
     },
     "execution_count": 204,
     "metadata": {},
     "output_type": "execute_result"
    }
   ],
   "source": [
    "n89 = np.random.randint(low=0,high=100,size=(8,9))\n",
    "n89\n",
    "#vSplit\n",
    "np.vsplit(n89,[2,3,6,7])\n",
    "#unevent Split\n",
    "# 2:3:6:7"
   ]
  },
  {
   "cell_type": "code",
   "execution_count": 207,
   "id": "551f4c4b",
   "metadata": {},
   "outputs": [
    {
     "data": {
      "text/plain": [
       "[array([[49, 81, 33],\n",
       "        [81, 54, 64],\n",
       "        [39, 74, 99],\n",
       "        [ 8, 45,  0],\n",
       "        [53, 80,  8],\n",
       "        [15, 21,  6],\n",
       "        [88, 62, 68],\n",
       "        [ 8, 69, 68]]),\n",
       " array([[38],\n",
       "        [12],\n",
       "        [57],\n",
       "        [39],\n",
       "        [93],\n",
       "        [ 8],\n",
       "        [60],\n",
       "        [61]]),\n",
       " array([[10],\n",
       "        [54],\n",
       "        [95],\n",
       "        [50],\n",
       "        [45],\n",
       "        [24],\n",
       "        [ 3],\n",
       "        [74]]),\n",
       " array([[28, 15,  5, 31],\n",
       "        [73, 19, 14, 40],\n",
       "        [97, 23, 52, 82],\n",
       "        [10, 82, 23, 34],\n",
       "        [57, 74, 62, 40],\n",
       "        [25, 22, 94, 28],\n",
       "        [ 2, 61, 64, 53],\n",
       "        [31, 95, 60, 44]])]"
      ]
     },
     "execution_count": 207,
     "metadata": {},
     "output_type": "execute_result"
    }
   ],
   "source": [
    "n89 = np.random.randint(low=0,high=100,size=(8,9))\n",
    "n89\n",
    "#vSplit\n",
    "np.hsplit(n89,[3,4,5])\n"
   ]
  },
  {
   "cell_type": "code",
   "execution_count": 214,
   "id": "cdf64511",
   "metadata": {},
   "outputs": [
    {
     "name": "stdout",
     "output_type": "stream",
     "text": [
      "40\n"
     ]
    }
   ],
   "source": [
    "n89 = np.random.randint(low=0,high=100,size=(8,9))\n",
    "n89\n",
    "#vSplit\n",
    "ab = np.vsplit(n89,[3,4,5])\n",
    "print(ab[0][0][0])"
   ]
  },
  {
   "cell_type": "code",
   "execution_count": 224,
   "id": "bea7d23f",
   "metadata": {},
   "outputs": [],
   "source": [
    "np.random.seed(23)\n",
    "n89 = np.random.randint(low=0,high=100,size=(8,9))"
   ]
  },
  {
   "cell_type": "code",
   "execution_count": 227,
   "id": "64bce829",
   "metadata": {},
   "outputs": [
    {
     "data": {
      "text/plain": [
       "array([[83, 40, 73, 54, 31, 76, 91, 39, 90],\n",
       "       [25, 51,  6, 45, 12, 49, 66, 75, 85],\n",
       "       [69, 64, 12, 21, 48, 41, 79, 90, 62],\n",
       "       [57, 19, 33, 59, 39, 15, 36, 65,  1],\n",
       "       [43, 15, 86, 83, 58, 25, 66, 74, 35],\n",
       "       [96, 56, 13, 60, 22, 38, 31, 94, 78],\n",
       "       [ 0, 21,  6, 32, 98, 32, 14, 31, 78],\n",
       "       [83, 80, 70, 66, 82, 85, 55, 27, 62]])"
      ]
     },
     "execution_count": 227,
     "metadata": {},
     "output_type": "execute_result"
    }
   ],
   "source": [
    "np.random.seed(23)\n",
    "n89 = np.random.randint(low=0,high=100,size=(8,9))\n",
    "n89\n"
   ]
  },
  {
   "cell_type": "code",
   "execution_count": 229,
   "id": "9768c653",
   "metadata": {},
   "outputs": [
    {
     "data": {
      "text/plain": [
       "[array([[83, 40, 73],\n",
       "        [25, 51,  6],\n",
       "        [69, 64, 12],\n",
       "        [57, 19, 33],\n",
       "        [43, 15, 86],\n",
       "        [96, 56, 13],\n",
       "        [ 0, 21,  6],\n",
       "        [83, 80, 70]]),\n",
       " array([[54, 31, 76],\n",
       "        [45, 12, 49],\n",
       "        [21, 48, 41],\n",
       "        [59, 39, 15],\n",
       "        [83, 58, 25],\n",
       "        [60, 22, 38],\n",
       "        [32, 98, 32],\n",
       "        [66, 82, 85]]),\n",
       " array([[91, 39, 90],\n",
       "        [66, 75, 85],\n",
       "        [79, 90, 62],\n",
       "        [36, 65,  1],\n",
       "        [66, 74, 35],\n",
       "        [31, 94, 78],\n",
       "        [14, 31, 78],\n",
       "        [55, 27, 62]])]"
      ]
     },
     "execution_count": 229,
     "metadata": {},
     "output_type": "execute_result"
    }
   ],
   "source": [
    "np.random.seed(23)\n",
    "n89 = np.random.randint(low=0,high=100,size=(8,9))\n",
    "n89\n",
    "#vSplit\n",
    "np.hsplit(n89,3)\n"
   ]
  },
  {
   "cell_type": "markdown",
   "id": "993a41fb",
   "metadata": {},
   "source": [
    "# Random Values"
   ]
  },
  {
   "cell_type": "code",
   "execution_count": 234,
   "id": "352a2cb4",
   "metadata": {},
   "outputs": [
    {
     "name": "stdout",
     "output_type": "stream",
     "text": [
      "0.9999706283055746\n",
      "0.00010181042896850734\n",
      "0.5006533897252156\n"
     ]
    }
   ],
   "source": [
    "n = np.random.rand(150,150) # Normal distribution framework\n",
    "print(n.max())\n",
    "print(n.min())\n",
    "print(n.mean())"
   ]
  },
  {
   "cell_type": "code",
   "execution_count": 240,
   "id": "cf9fa95e",
   "metadata": {},
   "outputs": [
    {
     "name": "stdout",
     "output_type": "stream",
     "text": [
      "0.9999004508951076\n",
      "0.00010263554137390773\n",
      "0.4928411128598622\n"
     ]
    },
    {
     "data": {
      "image/png": "[encoded data removed]",
      "text/plain": [
       "<Figure size 640x480 with 1 Axes>"
      ]
     },
     "metadata": {},
     "output_type": "display_data"
    }
   ],
   "source": [
    "import matplotlib.pyplot as plt\n",
    "n = np.random.rand(50,150) # Normal distribution framework\n",
    "print(n.max())\n",
    "print(n.min())\n",
    "print(n.mean())\n",
    "plt.scatter(n,n.T)\n",
    "plt.show()"
   ]
  }
 ],
 "metadata": {
  "kernelspec": {
   "display_name": "Python 3 (ipykernel)",
   "language": "python",
   "name": "python3"
  },
  "language_info": {
   "codemirror_mode": {
    "name": "ipython",
    "version": 3
   },
   "file_extension": ".py",
   "mimetype": "text/x-python",
   "name": "python",
   "nbconvert_exporter": "python",
   "pygments_lexer": "ipython3",
   "version": "3.10.9"
  }
 },
 "nbformat": 4,
 "nbformat_minor": 5
}
