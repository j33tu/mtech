{
 "cells": [
  {
   "cell_type": "code",
   "execution_count": 1,
   "id": "e96f1345",
   "metadata": {},
   "outputs": [],
   "source": [
    "#Numarical Python\n",
    "#genral purpose array procesing python\n",
    "#numpy number based access\n",
    "#pandas full access internally stores in numpy array only\n",
    "#Numpy is core library for scientific computing gernal purpose array processing.\n"
   ]
  },
  {
   "cell_type": "code",
   "execution_count": 2,
   "id": "bdfbe209",
   "metadata": {},
   "outputs": [],
   "source": [
    "#ASIX >>>>> ID ARRAY ,2 D ARRAY , 3 D RRAY \n",
    "\n",
    "#SHAPE (4) shape(2,4) shape (4,3,2)\n"
   ]
  },
  {
   "cell_type": "code",
   "execution_count": 10,
   "id": "3a57600c",
   "metadata": {},
   "outputs": [
    {
     "name": "stdout",
     "output_type": "stream",
     "text": [
      "6\n",
      "(6,)\n",
      "8\n"
     ]
    }
   ],
   "source": [
    "import numpy as np\n",
    "mylist1=[11,22,33,44,55,66]\n",
    "n1=np.array(mylist1)\n",
    "print(n1.size)\n",
    "print(n1.shape)\n",
    "print(n1.itemsize)"
   ]
  },
  {
   "cell_type": "code",
   "execution_count": 23,
   "id": "e321544a",
   "metadata": {},
   "outputs": [
    {
     "data": {
      "text/plain": [
       "array([[11, 22, 33],\n",
       "       [44, 55, 66]])"
      ]
     },
     "execution_count": 23,
     "metadata": {},
     "output_type": "execute_result"
    }
   ],
   "source": [
    "#creation of matrix\n",
    "list1 = [\n",
    "    [11,22,33],\n",
    "    [44,55,66]\n",
    "]\n",
    "list1\n",
    "n2=np.array(list1)\n",
    "n2[0:2]"
   ]
  },
  {
   "cell_type": "code",
   "execution_count": 29,
   "id": "d37b7bd1",
   "metadata": {},
   "outputs": [
    {
     "data": {
      "text/plain": [
       "array([[ 0,  1,  2,  3],\n",
       "       [ 4,  5,  6,  7],\n",
       "       [ 8,  9, 10, 11]])"
      ]
     },
     "execution_count": 29,
     "metadata": {},
     "output_type": "execute_result"
    }
   ],
   "source": [
    "#arange\n",
    "n1=np.arange(12)\n",
    "n1\n",
    "n2=n1.reshape(3,4)\n",
    "n2"
   ]
  },
  {
   "cell_type": "code",
   "execution_count": 33,
   "id": "9fdb5319",
   "metadata": {},
   "outputs": [
    {
     "data": {
      "text/plain": [
       "array([83, 40, 73, 54, 31, 76, 91, 39, 90, 25, 51,  6, 45, 12, 49, 66, 75,\n",
       "       85, 69, 64, 12, 21, 48, 41, 79, 90, 62, 57, 19, 33, 59, 39, 15, 36,\n",
       "       65,  1, 43, 15, 86, 83])"
      ]
     },
     "execution_count": 33,
     "metadata": {},
     "output_type": "execute_result"
    }
   ],
   "source": [
    "np.random.seed(23)\n",
    "n1=np.random.randint(low=0,high=99,size=40)\n",
    "n1"
   ]
  }
 ],
 "metadata": {
  "kernelspec": {
   "display_name": "Python 3 (ipykernel)",
   "language": "python",
   "name": "python3"
  },
  "language_info": {
   "codemirror_mode": {
    "name": "ipython",
    "version": 3
   },
   "file_extension": ".py",
   "mimetype": "text/x-python",
   "name": "python",
   "nbconvert_exporter": "python",
   "pygments_lexer": "ipython3",
   "version": "3.10.9"
  }
 },
 "nbformat": 4,
 "nbformat_minor": 5
}
