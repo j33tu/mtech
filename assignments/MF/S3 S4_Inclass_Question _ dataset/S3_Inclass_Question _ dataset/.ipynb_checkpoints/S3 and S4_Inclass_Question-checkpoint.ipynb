{
 "cells": [
  {
   "cell_type": "markdown",
   "metadata": {
    "colab_type": "text",
    "id": "XVVU-dNs4w4z"
   },
   "source": [
    "### Session 3"
   ]
  },
  {
   "cell_type": "markdown",
   "metadata": {
    "colab": {},
    "colab_type": "code",
    "id": "b4XGtvcA4w40"
   },
   "source": [
    "##1. Read the picture S2_1."
   ]
  },
  {
   "cell_type": "code",
   "execution_count": 40,
   "metadata": {},
   "outputs": [],
   "source": [
    "import numpy as np\n",
    "import pandas as pd\n",
    "import matplotlib.pyplot as plt\n",
    "from PIL import Image,ImageDraw,ImageFilter\n",
    "import scipy\n",
    "from skimage import data,io\n",
    "from numpy import *\n",
    "\n",
    "image_path = \"S2_1.png\"\n",
    "img = Image.open(image_path)\n",
    "img.show()"
   ]
  },
  {
   "cell_type": "markdown",
   "metadata": {
    "colab_type": "text",
    "id": "9rP6dv164w46"
   },
   "source": [
    "##2. Print out the observed shape of the image"
   ]
  },
  {
   "cell_type": "code",
   "execution_count": 5,
   "metadata": {
    "colab": {},
    "colab_type": "code",
    "id": "EPtFIksS4w47"
   },
   "outputs": [
    {
     "name": "stdout",
     "output_type": "stream",
     "text": [
      "512 288\n",
      "Image format: PNG\n",
      "Image mode: RGB\n",
      "Image size: (512, 288)\n"
     ]
    }
   ],
   "source": [
    "# Display some information about the image\n",
    "width, height = img.size\n",
    "print(width,height)\n",
    "print(\"Image format:\", img.format)\n",
    "print(\"Image mode:\", img.mode)\n",
    "print(\"Image size:\", img.size)"
   ]
  },
  {
   "cell_type": "markdown",
   "metadata": {
    "colab_type": "text",
    "id": "_1_o1wsw4w5B"
   },
   "source": [
    "##3. Show horizontally One-third of the image in Red next one-third in blue and the last one third in green"
   ]
  },
  {
   "cell_type": "code",
   "execution_count": null,
   "metadata": {
    "colab": {},
    "colab_type": "code",
    "id": "cQw-Iec34w5P"
   },
   "outputs": [],
   "source": [
    "new_image = Image.new('RGB', (width, height), (255, 255, 255))\n",
    "new_image.show()\n",
    "one_third_width = width // 3\n",
    "draw = ImageDraw.Draw(new_image)\n",
    "draw.rectangle([0, 0, one_third_width, height], fill=(255, 0, 0))\n",
    "draw.rectangle([one_third_width, 0, 2 * one_third_width, height], fill=(0, 0, 255))\n",
    "draw.rectangle([2 * one_third_width, 0, width, height], fill=(0, 255, 0))\n",
    "# Save the resulting image\n",
    "new_image.save('output_image.png') # Replace 'output_image.jpg' with the desired output file path\n",
    "triimg=Image.open('output_image.png')\n",
    "triimg.show()\n"
   ]
  },
  {
   "cell_type": "markdown",
   "metadata": {
    "colab_type": "text",
    "id": "TR3e4oAL4w5O"
   },
   "source": [
    "##4. Scale down the image by half"
   ]
  },
  {
   "cell_type": "code",
   "execution_count": 20,
   "metadata": {},
   "outputs": [],
   "source": [
    "imgsd = triimg  # Replace 'your_image.jpg' with your image file path\n",
    "original_width, original_height = imgsd.size\n",
    "new_width = original_width // 2\n",
    "new_height = original_height // 2\n",
    "scd_image = imgsd.resize((new_width, new_height))\n",
    "scad_image.save('sd_image.png')"
   ]
  },
  {
   "cell_type": "markdown",
   "metadata": {
    "colab_type": "text",
    "id": "yUR3UQJO4w5U"
   },
   "source": [
    "##5. Rotate the image up-side down"
   ]
  },
  {
   "cell_type": "code",
   "execution_count": 21,
   "metadata": {
    "colab": {},
    "colab_type": "code",
    "id": "SWTFprM54w5U"
   },
   "outputs": [],
   "source": [
    "rotated_img = img.rotate(180)\n",
    "\n",
    "# Save the rotated image\n",
    "rotated_img.save('rotated_image.jpg')"
   ]
  },
  {
   "cell_type": "markdown",
   "metadata": {
    "colab_type": "text",
    "id": "1CrjyFmH4w5b"
   },
   "source": [
    "## 6. Make a mirror image of the actual picture"
   ]
  },
  {
   "cell_type": "code",
   "execution_count": 37,
   "metadata": {
    "colab": {},
    "colab_type": "code",
    "id": "bAfIUBlt4w5b"
   },
   "outputs": [],
   "source": [
    "mrsample=Image.open('sd_image.png')\n",
    "mrsample.show()\n",
    "mirror_image = mrsample.transpose(Image.FLIP_LEFT_RIGHT)\n",
    "mirror_image.save('mirorr.png')\n",
    "mirror_image.show()"
   ]
  },
  {
   "cell_type": "markdown",
   "metadata": {
    "colab_type": "text",
    "id": "ySE5MFSJ4w5l"
   },
   "source": [
    "##7. Blur the image"
   ]
  },
  {
   "cell_type": "code",
   "execution_count": 42,
   "metadata": {
    "colab": {},
    "colab_type": "code",
    "id": "nC-olayn4w5l"
   },
   "outputs": [],
   "source": [
    "blurred_image = mirror_image.filter(ImageFilter.GaussianBlur(radius=5))\n",
    "blurred_image.save('bimg.jpg')\n",
    "blurred_image.show()"
   ]
  },
  {
   "cell_type": "markdown",
   "metadata": {
    "colab_type": "text",
    "id": "IJAV2Yxi4w5q"
   },
   "source": [
    "##8. Detect the edges of the actual Picture"
   ]
  },
  {
   "cell_type": "code",
   "execution_count": 43,
   "metadata": {
    "colab": {},
    "colab_type": "code",
    "id": "UL1rX5cm4w5r"
   },
   "outputs": [
    {
     "name": "stdout",
     "output_type": "stream",
     "text": [
      "Collecting opencv-python\n",
      "  Downloading opencv_python-4.8.1.78-cp37-abi3-win_amd64.whl (38.1 MB)\n",
      "                                              0.0/38.1 MB ? eta -:--:--\n",
      "                                              0.3/38.1 MB 7.0 MB/s eta 0:00:06\n",
      "                                              0.7/38.1 MB 7.4 MB/s eta 0:00:06\n",
      "     -                                        1.3/38.1 MB 9.4 MB/s eta 0:00:04\n",
      "     -                                        1.9/38.1 MB 10.0 MB/s eta 0:00:04\n",
      "     --                                       2.3/38.1 MB 9.8 MB/s eta 0:00:04\n",
      "     --                                       2.8/38.1 MB 9.9 MB/s eta 0:00:04\n",
      "     ---                                      3.3/38.1 MB 9.9 MB/s eta 0:00:04\n",
      "     ---                                      3.8/38.1 MB 10.0 MB/s eta 0:00:04\n",
      "     ----                                     4.3/38.1 MB 10.1 MB/s eta 0:00:04\n",
      "     ----                                     4.8/38.1 MB 10.1 MB/s eta 0:00:04\n",
      "     -----                                    5.3/38.1 MB 10.2 MB/s eta 0:00:04\n",
      "     ------                                   5.8/38.1 MB 10.3 MB/s eta 0:00:04\n",
      "     ------                                   6.3/38.1 MB 10.3 MB/s eta 0:00:04\n",
      "     -------                                  6.8/38.1 MB 10.4 MB/s eta 0:00:04\n",
      "     -------                                  7.4/38.1 MB 10.5 MB/s eta 0:00:03\n",
      "     --------                                 7.9/38.1 MB 10.6 MB/s eta 0:00:03\n",
      "     --------                                 8.4/38.1 MB 10.8 MB/s eta 0:00:03\n",
      "     ---------                                9.0/38.1 MB 10.8 MB/s eta 0:00:03\n",
      "     ----------                               9.5/38.1 MB 10.9 MB/s eta 0:00:03\n",
      "     ----------                              10.1/38.1 MB 11.0 MB/s eta 0:00:03\n",
      "     ----------                              10.6/38.1 MB 11.3 MB/s eta 0:00:03\n",
      "     -----------                             11.2/38.1 MB 11.3 MB/s eta 0:00:03\n",
      "     ------------                            11.7/38.1 MB 11.5 MB/s eta 0:00:03\n",
      "     ------------                            12.2/38.1 MB 11.3 MB/s eta 0:00:03\n",
      "     -------------                           12.7/38.1 MB 11.3 MB/s eta 0:00:03\n",
      "     -------------                           13.2/38.1 MB 11.5 MB/s eta 0:00:03\n",
      "     --------------                          13.7/38.1 MB 11.5 MB/s eta 0:00:03\n",
      "     --------------                          14.3/38.1 MB 11.7 MB/s eta 0:00:03\n",
      "     ---------------                         14.8/38.1 MB 11.7 MB/s eta 0:00:02\n",
      "     ---------------                         15.4/38.1 MB 11.7 MB/s eta 0:00:02\n",
      "     ----------------                        15.9/38.1 MB 11.7 MB/s eta 0:00:02\n",
      "     ----------------                        16.4/38.1 MB 11.9 MB/s eta 0:00:02\n",
      "     -----------------                       16.8/38.1 MB 11.7 MB/s eta 0:00:02\n",
      "     -----------------                       17.4/38.1 MB 11.7 MB/s eta 0:00:02\n",
      "     ------------------                      17.9/38.1 MB 11.7 MB/s eta 0:00:02\n",
      "     ------------------                      18.5/38.1 MB 11.7 MB/s eta 0:00:02\n",
      "     -------------------                     19.0/38.1 MB 11.7 MB/s eta 0:00:02\n",
      "     --------------------                    19.5/38.1 MB 11.9 MB/s eta 0:00:02\n",
      "     --------------------                    20.1/38.1 MB 11.9 MB/s eta 0:00:02\n",
      "     ---------------------                   20.6/38.1 MB 11.9 MB/s eta 0:00:02\n",
      "     ---------------------                   21.2/38.1 MB 11.9 MB/s eta 0:00:02\n",
      "     ----------------------                  21.7/38.1 MB 11.9 MB/s eta 0:00:02\n",
      "     ----------------------                  22.2/38.1 MB 11.9 MB/s eta 0:00:02\n",
      "     -----------------------                 22.8/38.1 MB 11.9 MB/s eta 0:00:02\n",
      "     -----------------------                 23.3/38.1 MB 11.9 MB/s eta 0:00:02\n",
      "     ------------------------                23.8/38.1 MB 11.7 MB/s eta 0:00:02\n",
      "     ------------------------                24.4/38.1 MB 11.7 MB/s eta 0:00:02\n",
      "     -------------------------               25.0/38.1 MB 11.7 MB/s eta 0:00:02\n",
      "     --------------------------              25.5/38.1 MB 11.7 MB/s eta 0:00:02\n",
      "     --------------------------              26.1/38.1 MB 11.7 MB/s eta 0:00:02\n",
      "     ---------------------------             26.6/38.1 MB 11.7 MB/s eta 0:00:01\n",
      "     ---------------------------             27.1/38.1 MB 11.7 MB/s eta 0:00:01\n",
      "     ----------------------------            27.6/38.1 MB 11.9 MB/s eta 0:00:01\n",
      "     ----------------------------            28.1/38.1 MB 11.9 MB/s eta 0:00:01\n",
      "     -----------------------------           28.6/38.1 MB 11.7 MB/s eta 0:00:01\n",
      "     -----------------------------           29.1/38.1 MB 11.7 MB/s eta 0:00:01\n",
      "     ------------------------------          29.5/38.1 MB 11.7 MB/s eta 0:00:01\n",
      "     ------------------------------          30.1/38.1 MB 11.7 MB/s eta 0:00:01\n",
      "     -------------------------------         30.6/38.1 MB 11.7 MB/s eta 0:00:01\n",
      "     -------------------------------         31.2/38.1 MB 11.7 MB/s eta 0:00:01\n",
      "     --------------------------------        31.6/38.1 MB 11.7 MB/s eta 0:00:01\n",
      "     --------------------------------        32.2/38.1 MB 11.7 MB/s eta 0:00:01\n",
      "     ---------------------------------       32.7/38.1 MB 11.7 MB/s eta 0:00:01\n",
      "     ---------------------------------       33.1/38.1 MB 11.9 MB/s eta 0:00:01\n",
      "     ----------------------------------      33.7/38.1 MB 11.9 MB/s eta 0:00:01\n",
      "     -----------------------------------     34.3/38.1 MB 11.7 MB/s eta 0:00:01\n",
      "     -----------------------------------     34.8/38.1 MB 11.7 MB/s eta 0:00:01\n",
      "     ------------------------------------    35.4/38.1 MB 11.9 MB/s eta 0:00:01\n",
      "     ------------------------------------    35.9/38.1 MB 11.7 MB/s eta 0:00:01\n",
      "     -------------------------------------   36.3/38.1 MB 11.7 MB/s eta 0:00:01\n",
      "     -------------------------------------   36.9/38.1 MB 11.7 MB/s eta 0:00:01\n",
      "     --------------------------------------  37.5/38.1 MB 11.9 MB/s eta 0:00:01\n",
      "     --------------------------------------  38.1/38.1 MB 11.9 MB/s eta 0:00:01\n",
      "     --------------------------------------  38.1/38.1 MB 11.9 MB/s eta 0:00:01\n",
      "     --------------------------------------  38.1/38.1 MB 11.9 MB/s eta 0:00:01\n",
      "     --------------------------------------  38.1/38.1 MB 11.9 MB/s eta 0:00:01\n",
      "     --------------------------------------  38.1/38.1 MB 11.9 MB/s eta 0:00:01\n",
      "     --------------------------------------  38.1/38.1 MB 11.9 MB/s eta 0:00:01\n",
      "     ---------------------------------------- 38.1/38.1 MB 8.7 MB/s eta 0:00:00\n",
      "Requirement already satisfied: numpy>=1.21.2 in d:\\conda\\lib\\site-packages (from opencv-python) (1.24.3)\n",
      "Installing collected packages: opencv-python\n",
      "Successfully installed opencv-python-4.8.1.78\n",
      "Note: you may need to restart the kernel to use updated packages.\n"
     ]
    }
   ],
   "source": [
    "pip install opencv-python"
   ]
  },
  {
   "cell_type": "code",
   "execution_count": 44,
   "metadata": {
    "colab": {},
    "colab_type": "code",
    "id": "tKAfKX_54w5u"
   },
   "outputs": [
    {
     "data": {
      "text/plain": [
       "True"
      ]
     },
     "execution_count": 44,
     "metadata": {},
     "output_type": "execute_result"
    }
   ],
   "source": [
    "import cv2\n",
    "import numpy as np\n",
    "\n",
    "# Read the image\n",
    "image2 = cv2.imread('mirorr.png')  # Replace 'your_image.jpg' with your image file path\n",
    "\n",
    "# Convert the image to grayscale\n",
    "gray = cv2.cvtColor(image2, cv2.COLOR_BGR2GRAY)\n",
    "\n",
    "# Apply Canny edge detection\n",
    "edges = cv2.Canny(gray, threshold1=100, threshold2=200)  # You can adjust the threshold values\n",
    "\n",
    "# Save the detected edges image\n",
    "cv2.imwrite('edg_image.jpg', edges)  # Replace 'edges_image.jpg' with the desired output file path\n"
   ]
  },
  {
   "cell_type": "markdown",
   "metadata": {},
   "source": [
    "### Session 4"
   ]
  },
  {
   "cell_type": "markdown",
   "metadata": {},
   "source": [
    "#### 1.A. Read the data S3_1."
   ]
  },
  {
   "cell_type": "markdown",
   "metadata": {},
   "source": [
    "#### 1.B. Print out the number of features in the dataset."
   ]
  },
  {
   "cell_type": "markdown",
   "metadata": {},
   "source": [
    "#### 1.C. Print out the amount of variation we loose with the reduction of 10 feature from the dataset."
   ]
  },
  {
   "cell_type": "code",
   "execution_count": 49,
   "metadata": {},
   "outputs": [],
   "source": [
    "#Read the data S3_1.\n",
    "df=pd.read_excel('S3_1.xlsx')\n"
   ]
  },
  {
   "cell_type": "code",
   "execution_count": 51,
   "metadata": {},
   "outputs": [
    {
     "name": "stdout",
     "output_type": "stream",
     "text": [
      "number of features in data set are :  13\n"
     ]
    }
   ],
   "source": [
    "features = df.shape[1]\n",
    "print('number of features in data set are : ',features)"
   ]
  },
  {
   "cell_type": "code",
   "execution_count": 58,
   "metadata": {},
   "outputs": [
    {
     "name": "stdout",
     "output_type": "stream",
     "text": [
      "Explained Variance before reduction: 0.9999999999999999\n",
      "Explained Variance after reduction: 0.9999221050741546\n",
      "Amount of variation lost: 7.78949258453121e-05\n"
     ]
    }
   ],
   "source": [
    "import numpy as np\n",
    "from sklearn.decomposition import PCA\n",
    "\n",
    "\n",
    "#  Perform PCA df\n",
    "pca_original = PCA()\n",
    "pca_original.fit(df)\n",
    "\n",
    "# find the number of features to keep (N)\n",
    "N = df.shape[1] - 10\n",
    "\n",
    "# Perform PCA on the reduced dataset with N features\n",
    "pca_reduced = PCA(n_components=N)\n",
    "pca_reduced.fit(df)\n",
    "\n",
    "# explained variance before and after reduction\n",
    "explained_variance_original = np.sum(pca_original.explained_variance_ratio_)\n",
    "explained_variance_reduced = np.sum(pca_reduced.explained_variance_ratio_)\n",
    "\n",
    "#amount of variation lost\n",
    "variation_lost = explained_variance_original - explained_variance_reduced\n",
    "\n",
    "print(f\"Explained Variance before reduction: {explained_variance_original}\")\n",
    "print(f\"Explained Variance after reduction: {explained_variance_reduced}\")\n",
    "print(f\"Amount of variation lost: {variation_lost}\")\n"
   ]
  },
  {
   "cell_type": "code",
   "execution_count": null,
   "metadata": {},
   "outputs": [],
   "source": []
  }
 ],
 "metadata": {
  "colab": {
   "collapsed_sections": [],
   "name": "Inclass_Question.ipynb",
   "provenance": []
  },
  "kernelspec": {
   "display_name": "Python 3 (ipykernel)",
   "language": "python",
   "name": "python3"
  },
  "language_info": {
   "codemirror_mode": {
    "name": "ipython",
    "version": 3
   },
   "file_extension": ".py",
   "mimetype": "text/x-python",
   "name": "python",
   "nbconvert_exporter": "python",
   "pygments_lexer": "ipython3",
   "version": "3.11.3"
  }
 },
 "nbformat": 4,
 "nbformat_minor": 1
}
