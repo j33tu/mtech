{
 "cells": [
  {
   "cell_type": "code",
   "execution_count": 2,
   "metadata": {
    "colab": {},
    "colab_type": "code",
    "id": "iakMxQQ1ZZQK"
   },
   "outputs": [
    {
     "ename": "ModuleNotFoundError",
     "evalue": "No module named 'session_info'",
     "output_type": "error",
     "traceback": [
      "\u001b[1;31m---------------------------------------------------------------------------\u001b[0m",
      "\u001b[1;31mModuleNotFoundError\u001b[0m                       Traceback (most recent call last)",
      "Cell \u001b[1;32mIn[2], line 4\u001b[0m\n\u001b[0;32m      1\u001b[0m \u001b[38;5;28;01mimport\u001b[39;00m \u001b[38;5;21;01mnumpy\u001b[39;00m \u001b[38;5;28;01mas\u001b[39;00m \u001b[38;5;21;01mnp\u001b[39;00m\n\u001b[0;32m      2\u001b[0m \u001b[38;5;28;01mimport\u001b[39;00m \u001b[38;5;21;01mscipy\u001b[39;00m\u001b[38;5;21;01m.\u001b[39;00m\u001b[38;5;21;01mlinalg\u001b[39;00m \u001b[38;5;28;01mas\u001b[39;00m \u001b[38;5;21;01mla\u001b[39;00m\n\u001b[1;32m----> 4\u001b[0m \u001b[38;5;28;01mimport\u001b[39;00m \u001b[38;5;21;01msession_info\u001b[39;00m\n\u001b[0;32m      5\u001b[0m session_info\u001b[38;5;241m.\u001b[39mshow()\n",
      "\u001b[1;31mModuleNotFoundError\u001b[0m: No module named 'session_info'"
     ]
    }
   ],
   "source": [
    "import numpy as np\n",
    "import scipy.linalg as la\n",
    "\n",
    "import session_info\n",
    "session_info.show()\n"
   ]
  },
  {
   "cell_type": "markdown",
   "metadata": {},
   "source": [
    "### Session 1 "
   ]
  },
  {
   "cell_type": "markdown",
   "metadata": {
    "colab_type": "text",
    "id": "4oIzWeCArwS3"
   },
   "source": [
    "### Creation of Vectors and Matrices"
   ]
  },
  {
   "cell_type": "markdown",
   "metadata": {
    "colab_type": "text",
    "id": "vgzUew69ZZQR"
   },
   "source": [
    "1. Create a row vector of natural numbers of size 4."
   ]
  },
  {
   "cell_type": "markdown",
   "metadata": {
    "colab_type": "text",
    "id": "cj4vNeROGlvJ"
   },
   "source": [
    "### Row Vector"
   ]
  },
  {
   "cell_type": "markdown",
   "metadata": {
    "colab_type": "text",
    "id": "KZIbNObwHAw1"
   },
   "source": [
    "Check the shape and type of vector.\n",
    "\n",
    "> Indented block\n",
    "\n"
   ]
  },
  {
   "cell_type": "markdown",
   "metadata": {
    "colab_type": "text",
    "id": "vYcnCH-6KXcW"
   },
   "source": [
    "2. Create a 2 x 2 matrix of all zeros, all ones, all with a value of 4 and all with random values."
   ]
  },
  {
   "cell_type": "markdown",
   "metadata": {
    "colab_type": "text",
    "id": "-G6Iz7NcZZQ-"
   },
   "source": [
    "# Vector and Matrix Operations \n"
   ]
  },
  {
   "cell_type": "markdown",
   "metadata": {
    "colab_type": "text",
    "id": "_XuNsCzL8yl6"
   },
   "source": [
    "3. Find the magnitude/ L1 and L2 norm of the vector [4,6] and state which has \n",
    "\n",
    "*   List item\n",
    "*   List item\n",
    "\n",
    "has a highest value.\n"
   ]
  },
  {
   "cell_type": "markdown",
   "metadata": {
    "colab_type": "text",
    "id": "7594kF6JhheC"
   },
   "source": [
    "## Dot product\n",
    "\n",
    "4. Find the dot product of the matrices created above."
   ]
  },
  {
   "cell_type": "markdown",
   "metadata": {
    "colab_type": "text",
    "id": "u_PcuU0lFJfG"
   },
   "source": [
    "### Scalar and Vector Projections\n",
    "5. Find the scalar and vector projections of the vector  u = 8i + 6j on vector v = i - 7j\n"
   ]
  },
  {
   "cell_type": "code",
   "execution_count": 3,
   "metadata": {},
   "outputs": [
    {
     "data": {
      "text/plain": [
       "array([1, 2, 3, 4])"
      ]
     },
     "execution_count": 3,
     "metadata": {},
     "output_type": "execute_result"
    }
   ],
   "source": [
    "#Create a row vector of natural numbers of size 4.\n",
    "row_vector=np.array([1,2,3,4])\n",
    "row_vector"
   ]
  },
  {
   "cell_type": "code",
   "execution_count": 7,
   "metadata": {},
   "outputs": [
    {
     "name": "stdout",
     "output_type": "stream",
     "text": [
      "(4,)\n",
      "<class 'numpy.ndarray'>\n"
     ]
    }
   ],
   "source": [
    "#Check the shape and type of vector.\n",
    "\n",
    "#Indented block\n",
    "print(row_vector.shape)\n",
    "print(type(row_vector))"
   ]
  },
  {
   "cell_type": "code",
   "execution_count": 17,
   "metadata": {},
   "outputs": [
    {
     "name": "stdout",
     "output_type": "stream",
     "text": [
      "[[0. 0.]\n",
      " [0. 0.]]\n",
      "[[1. 1.]\n",
      " [1. 1.]]\n",
      "[[4. 4.]\n",
      " [4. 4.]]\n",
      "[[0.1736474  0.13805996]\n",
      " [0.84973243 0.90246324]]\n"
     ]
    }
   ],
   "source": [
    "#Create a 2 x 2 matrix of all zeros,, all with a value of 4 and all with random values\n",
    "\n",
    "zeromatrix=np.zeros((2,2))\n",
    "print(zeromatrix)\n",
    "\n",
    "# all ones\n",
    "\n",
    "onesmatrix=np.ones((2,2))\n",
    "print(onesmatrix)\n",
    "\n",
    "# all with a value of 4 \n",
    "withfoursmatrix=4*np.ones((2,2))\n",
    "print(withfoursmatrix)\n",
    "\n",
    "\n",
    "#all with random values\n",
    "\n",
    "randommatrix=np.random.random((2,2))\n",
    "print(randommatrix)"
   ]
  },
  {
   "cell_type": "code",
   "execution_count": 19,
   "metadata": {},
   "outputs": [],
   "source": [
    "#Vector and Matrix Operations\n",
    "#Find the magnitude/ L1 and L2 norm of the vector [4,6] and state which has\n",
    "#List item\n",
    "#List item\n",
    "has a highest value."
   ]
  },
  {
   "cell_type": "code",
   "execution_count": 25,
   "metadata": {},
   "outputs": [
    {
     "name": "stdout",
     "output_type": "stream",
     "text": [
      "L1 norm is : 10\n",
      "L2 norm is : 7.211102550927978\n",
      "7.211102550927978 norm has higher value\n"
     ]
    }
   ],
   "source": [
    "vector=[4,6]\n",
    "vector\n",
    "\n",
    "# L1 norm is also called Manhatton norm basically that is direct addition of absolute values \n",
    "L1 = 4 + 6 \n",
    "print('L1 norm is :', L1)\n",
    "\n",
    "#L2 is also called euclidean norm or areal distance \n",
    "\n",
    "L2 = np.sqrt(4**2 + 6**2)\n",
    "print('L2 norm is :', L2)\n",
    "\n",
    "print(L2,'norm has higher value')"
   ]
  },
  {
   "cell_type": "code",
   "execution_count": 38,
   "metadata": {},
   "outputs": [
    {
     "name": "stdout",
     "output_type": "stream",
     "text": [
      "dot product of matrix [[0. 0.]\n",
      " [0. 0.]] and  [[1. 1.]\n",
      " [1. 1.]] is as below\n",
      "[0, 0]\n",
      "look below for dot product\n",
      "[[0. 0.]\n",
      " [0. 0.]]\n"
     ]
    }
   ],
   "source": [
    "#Dot product¶\n",
    "#Find the dot product of the matrices created above.\n",
    "print('dot product of matrix', zeromatrix,'and ',onesmatrix,'is as below' )\n",
    "print([(0*1),(0*1)])\n",
    "matrix1=[4,6]\n",
    "print('look below for dot product')\n",
    "print(np.multiply(zeromatrix,onesmatrix))"
   ]
  },
  {
   "cell_type": "code",
   "execution_count": 47,
   "metadata": {},
   "outputs": [
    {
     "name": "stdout",
     "output_type": "stream",
     "text": [
      "[10. 10.]\n"
     ]
    }
   ],
   "source": [
    "#matrix1.onesmatrix\n",
    "result = np.dot(matrix1, onesmatrix)\n",
    "print(result)"
   ]
  },
  {
   "cell_type": "code",
   "execution_count": 67,
   "metadata": {},
   "outputs": [
    {
     "name": "stdout",
     "output_type": "stream",
     "text": [
      "10.0\n",
      "7.0710678118654755\n",
      "scaler project of u on v  -4.808326112068523 -4.808326112068523\n",
      "vector project of u on v  [-0.68  4.76]\n"
     ]
    }
   ],
   "source": [
    "#Find the scalar and vector projections of the vector u = 8i + 6j on vector v = i - 7j\n",
    "\n",
    "#u = 8i + 6j\n",
    "u = np.array([8,6])\n",
    "\n",
    "#v = i - 7j\n",
    "v = np.array([1,-7])\n",
    "\n",
    "modu=np.sqrt(8**2+6**2)\n",
    "modv=np.sqrt(1**2 + (-7)**2)\n",
    "print(modu)\n",
    "print(modv)\n",
    "\n",
    "# scaler projection of u on v \n",
    "#u.v/modv\n",
    "\n",
    "puv=np.dot(u,v)/np.linalg.norm(v)\n",
    "puv1=np.dot(u,v)/modv\n",
    "print('scaler project of u on v ',puv,puv1)\n",
    "\n",
    "#vector project of u on v \n",
    "\n",
    "\n",
    "vpuv=(np.dot(u,v)/modv**2)*v\n",
    "\n",
    "#vector_projection = (np.dot(u, v) / np.linalg.norm(v)**2) * v\n",
    "print('vector project of u on v ',vpuv)"
   ]
  },
  {
   "cell_type": "markdown",
   "metadata": {
    "colab": {},
    "colab_type": "code",
    "id": "Rtuwo6PV7TVv"
   },
   "source": [
    "### Session 2\n",
    "\n"
   ]
  },
  {
   "cell_type": "code",
   "execution_count": 68,
   "metadata": {
    "scrolled": true
   },
   "outputs": [
    {
     "name": "stderr",
     "output_type": "stream",
     "text": [
      "D:\\conda\\Lib\\site-packages\\paramiko\\transport.py:219: CryptographyDeprecationWarning: Blowfish has been deprecated\n",
      "  \"class\": algorithms.Blowfish,\n"
     ]
    }
   ],
   "source": [
    "import numpy as np\n",
    "import pandas as pd\n",
    "import matplotlib.pyplot as plt\n",
    "from PIL  import Image\n",
    "import scipy\n",
    "from skimage import data\n",
    "from numpy import *\n"
   ]
  },
  {
   "cell_type": "markdown",
   "metadata": {},
   "source": [
    "#### Q1. Find the Determinant. Write the scale factor needed to calculate the determinent?  "
   ]
  },
  {
   "cell_type": "code",
   "execution_count": 81,
   "metadata": {},
   "outputs": [
    {
     "name": "stdout",
     "output_type": "stream",
     "text": [
      "Determinant of A: 2.9999999999999942\n",
      "Scale Factor: 0.333333333333334\n"
     ]
    }
   ],
   "source": [
    "# Find the Determinant. Write the scale factor needed to calculate the determinent?\n",
    "import numpy as np\n",
    "\n",
    "A = np.array([\n",
    "    [10, 12, 13],\n",
    "    [14, 15, 16],\n",
    "    [17, 18, 19]\n",
    "])\n",
    "\n",
    "# Calculate determinant of A\n",
    "det_A = np.linalg.det(A)\n",
    "\n",
    "\n",
    "# Set the target determinant value\n",
    "det_target = 1\n",
    "\n",
    "# Calculate the scale factor\n",
    "scale_factor = det_target / det_A\n",
    "\n",
    "print(\"Determinant of A:\", det_A)\n",
    "print(\"Scale Factor:\", scale_factor)"
   ]
  },
  {
   "cell_type": "code",
   "execution_count": 82,
   "metadata": {
    "id": "jvaJBLaYV8ej"
   },
   "outputs": [
    {
     "ename": "NameError",
     "evalue": "name 'D' is not defined",
     "output_type": "error",
     "traceback": [
      "\u001b[1;31m---------------------------------------------------------------------------\u001b[0m",
      "\u001b[1;31mNameError\u001b[0m                                 Traceback (most recent call last)",
      "Cell \u001b[1;32mIn[82], line 2\u001b[0m\n\u001b[0;32m      1\u001b[0m size_of_matrix \u001b[38;5;241m=\u001b[39m \u001b[38;5;28mlen\u001b[39m(A)\n\u001b[1;32m----> 2\u001b[0m det_factor \u001b[38;5;241m=\u001b[39m D\u001b[38;5;241m/\u001b[39mC\n\u001b[0;32m      3\u001b[0m scale_factor_computed\u001b[38;5;241m=\u001b[39m\u001b[38;5;28mpow\u001b[39m(det_factor,(\u001b[38;5;241m1\u001b[39m\u001b[38;5;241m/\u001b[39msize_of_matrix))\n",
      "\u001b[1;31mNameError\u001b[0m: name 'D' is not defined"
     ]
    }
   ],
   "source": [
    "size_of_matrix = len(A)\n",
    "det_factor = D/C\n",
    "scale_factor_computed=pow(det_factor,(1/size_of_matrix))"
   ]
  },
  {
   "cell_type": "code",
   "execution_count": null,
   "metadata": {
    "colab": {
     "base_uri": "https://localhost:8080/",
     "height": 34
    },
    "id": "f4zX0OVuVKnA",
    "outputId": "ca4ff60d-883a-4cc9-8b60-ae15067a053b"
   },
   "outputs": [],
   "source": [
    "print(\"Scale we applied to original matrix : % 2d, Computed scale factor from determinents : % 5.2f\" %(scale_factor, scale_factor_computed)) "
   ]
  },
  {
   "cell_type": "markdown",
   "metadata": {},
   "source": [
    "#### Q2: If Matrix A and B are given, then find the matrix X from AX=B. Solution : X = (Inverse of A) ( Transpose of B)"
   ]
  },
  {
   "cell_type": "code",
   "execution_count": 83,
   "metadata": {},
   "outputs": [],
   "source": [
    "from numpy.linalg import inv\n",
    "import numpy as np\n",
    "\n",
    "A = np.array([\n",
    "[11, 12, 13],\n",
    "[11, 15, 14],\n",
    "[17, 11, 19]])\n",
    "\n",
    "B = np.array([[1, -1 , 1],[1, -1 , 1],[1, -1 , 1]])"
   ]
  },
  {
   "cell_type": "markdown",
   "metadata": {
    "id": "UU2NhG8bTpqq"
   },
   "source": [
    "Find the multiplicative inverse\n"
   ]
  },
  {
   "cell_type": "markdown",
   "metadata": {
    "id": "C1RUPFFDwL-t"
   },
   "source": [
    "*Solve* AX=I, Where I = identity matrix. Find X"
   ]
  },
  {
   "cell_type": "code",
   "execution_count": 84,
   "metadata": {},
   "outputs": [
    {
     "data": {
      "text/plain": [
       "array([[ 1, -1,  1],\n",
       "       [ 1, -1,  1],\n",
       "       [ 1, -1,  1]])"
      ]
     },
     "execution_count": 84,
     "metadata": {},
     "output_type": "execute_result"
    }
   ],
   "source": [
    "B"
   ]
  },
  {
   "cell_type": "code",
   "execution_count": 85,
   "metadata": {},
   "outputs": [
    {
     "data": {
      "text/plain": [
       "array([[11, 12, 13],\n",
       "       [11, 15, 14],\n",
       "       [17, 11, 19]])"
      ]
     },
     "execution_count": 85,
     "metadata": {},
     "output_type": "execute_result"
    }
   ],
   "source": [
    "# to find  out A X we nee dto find Ainverse and multiply that with B\n",
    "A"
   ]
  },
  {
   "cell_type": "code",
   "execution_count": 94,
   "metadata": {},
   "outputs": [
    {
     "name": "stdout",
     "output_type": "stream",
     "text": [
      "determinant is : 47.00000000000006\n",
      "inverse of a is : below\n"
     ]
    },
    {
     "data": {
      "text/plain": [
       "array([[ 2.78723404, -1.80851064, -0.57446809],\n",
       "       [ 0.61702128, -0.25531915, -0.23404255],\n",
       "       [-2.85106383,  1.76595745,  0.70212766]])"
      ]
     },
     "execution_count": 94,
     "metadata": {},
     "output_type": "execute_result"
    }
   ],
   "source": [
    "## find inverse matrix\n",
    "ainverse=np.linalg.inv(A)\n",
    "print('inverse of a is : below')\n",
    "ainverse"
   ]
  },
  {
   "cell_type": "code",
   "execution_count": 100,
   "metadata": {},
   "outputs": [
    {
     "data": {
      "text/plain": [
       "array([[ 0.40425532, -0.40425532,  0.40425532],\n",
       "       [ 0.12765957, -0.12765957,  0.12765957],\n",
       "       [-0.38297872,  0.38297872, -0.38297872]])"
      ]
     },
     "execution_count": 100,
     "metadata": {},
     "output_type": "execute_result"
    }
   ],
   "source": [
    "X = np.dot(ainverse,B)\n",
    "X"
   ]
  }
 ],
 "metadata": {
  "anaconda-cloud": {},
  "colab": {
   "collapsed_sections": [],
   "name": "Inclass_Introduction_to_Linear_Algebra_Questions.ipynb",
   "provenance": []
  },
  "kernelspec": {
   "display_name": "Python 3 (ipykernel)",
   "language": "python",
   "name": "python3"
  },
  "language_info": {
   "codemirror_mode": {
    "name": "ipython",
    "version": 3
   },
   "file_extension": ".py",
   "mimetype": "text/x-python",
   "name": "python",
   "nbconvert_exporter": "python",
   "pygments_lexer": "ipython3",
   "version": "3.11.3"
  }
 },
 "nbformat": 4,
 "nbformat_minor": 1
}
