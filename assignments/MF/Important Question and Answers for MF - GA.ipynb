{
 "cells": [
  {
   "cell_type": "markdown",
   "id": "4367d75f",
   "metadata": {},
   "source": [
    "# Vectors"
   ]
  },
  {
   "cell_type": "markdown",
   "id": "5c9c8799",
   "metadata": {},
   "source": [
    "### 1. Calculate the angle between two given vectors. The two vectors are \n",
    "    a = i + 2j and  b = 9i + 3j "
   ]
  },
  {
   "cell_type": "code",
   "execution_count": 5,
   "id": "795d821f",
   "metadata": {},
   "outputs": [
    {
     "name": "stdout",
     "output_type": "stream",
     "text": [
      "The angle between vectors 'a' and 'b' is 45.00000000000001 degrees.\n"
     ]
    }
   ],
   "source": [
    "import numpy as np\n",
    "\n",
    "# Define the vectors\n",
    "a = np.array([1, 2])\n",
    "b = np.array([9, 3])\n",
    "\n",
    "# Calculate the dot product\n",
    "dot_product = np.dot(a, b)\n",
    "\n",
    "# Calculate the magnitudes of the vectors\n",
    "magnitude_a = np.linalg.norm(a)\n",
    "magnitude_b = np.linalg.norm(b)\n",
    "\n",
    "# Calculate the cosine of the angle\n",
    "cos_angle = dot_product / (magnitude_a * magnitude_b)\n",
    "\n",
    "# Convert to degrees\n",
    "angle = np.arccos(cos_angle)\n",
    "angle_degrees = np.degrees(angle)\n",
    "\n",
    "print(f\"The angle between vectors 'a' and 'b' is {angle_degrees} degrees.\")\n"
   ]
  },
  {
   "cell_type": "markdown",
   "id": "3e04f99e",
   "metadata": {},
   "source": [
    "### 2. Find the scalar projection and the vector projection of a on b, where  \n",
    "    a = [3, 4], b = [5, −12]"
   ]
  },
  {
   "cell_type": "code",
   "execution_count": 7,
   "id": "41d48f43",
   "metadata": {},
   "outputs": [
    {
     "name": "stdout",
     "output_type": "stream",
     "text": [
      "Scalar Projection of a onto b: -2.5384615384615383\n",
      "Vector Projection of a onto b: [-0.97633136  2.34319527]\n"
     ]
    }
   ],
   "source": [
    "import numpy as np\n",
    "\n",
    "# Define vectors a and b as numpy arrays\n",
    "a = np.array([3, 4])\n",
    "b = np.array([5, -12])\n",
    "\n",
    "# Calculate the dot product of a and b\n",
    "dot_product = np.dot(a, b)\n",
    "\n",
    "# Calculate the magnitude of vector b\n",
    "magnitude_b = np.linalg.norm(b)\n",
    "\n",
    "# Calculate the scalar projection of a onto b\n",
    "scalar_projection = dot_product / magnitude_b\n",
    "\n",
    "# Calculate the vector projection of a onto b\n",
    "vector_projection = (scalar_projection / magnitude_b) * b\n",
    "\n",
    "print(f\"Scalar Projection of a onto b: {scalar_projection}\")\n",
    "print(f\"Vector Projection of a onto b: {vector_projection}\")\n"
   ]
  },
  {
   "cell_type": "markdown",
   "id": "4a075fc8",
   "metadata": {},
   "source": [
    "### 3. Find  the Scalar and Vector Projection of u on v, where\n",
    "\n",
    "    u = [6,7,8]\n",
    "    v = [2,3,-1]"
   ]
  },
  {
   "cell_type": "code",
   "execution_count": 52,
   "id": "9aa2f27d",
   "metadata": {},
   "outputs": [
    {
     "name": "stdout",
     "output_type": "stream",
     "text": [
      "Scalar Projection of u onto v: 6.681531047810609\n",
      "Vector Projection of u onto v: [ 3.57142857  5.35714286 -1.78571429]\n"
     ]
    }
   ],
   "source": [
    "import numpy as np\n",
    "\n",
    "# Define vectors u and v as numpy arrays\n",
    "u = np.array([6, 7, 8])\n",
    "v = np.array([2, 3, -1])\n",
    "\n",
    "# Calculate the dot product of u and v\n",
    "dot_product = np.dot(u, v)\n",
    "\n",
    "# Calculate the magnitude of vector v\n",
    "magnitude_v = np.linalg.norm(v)\n",
    "\n",
    "# Calculate the scalar projection of u onto v\n",
    "scalar_projection = dot_product / magnitude_v\n",
    "\n",
    "# Calculate the vector projection of u onto v\n",
    "vector_projection = (scalar_projection / magnitude_v) * v\n",
    "\n",
    "print(f\"Scalar Projection of u onto v: {scalar_projection}\")\n",
    "print(f\"Vector Projection of u onto v: {vector_projection}\")\n"
   ]
  },
  {
   "cell_type": "markdown",
   "id": "869c403e",
   "metadata": {},
   "source": [
    "# Matrices and Determinants"
   ]
  },
  {
   "cell_type": "markdown",
   "id": "8d0ee41c",
   "metadata": {},
   "source": [
    "### 1. Find the determinant of the following matrix A i.e. $|A|$\n",
    "\n",
    "\\begin{align}\n",
    "A = \\begin{bmatrix}\n",
    "5 & 6 & 2\\\\\n",
    "4 & 7 & 19\\\\\n",
    "0 & 3 & 12\n",
    "\\end{bmatrix}\n",
    "\\end{align}"
   ]
  },
  {
   "cell_type": "code",
   "execution_count": 1,
   "id": "051982e0",
   "metadata": {},
   "outputs": [
    {
     "name": "stdout",
     "output_type": "stream",
     "text": [
      "|A| =  -129.0\n"
     ]
    }
   ],
   "source": [
    "import numpy as np\n",
    "\n",
    "A = np.array([[5, 6, 2], [4, 7, 19], [0, 3, 12]])\n",
    "det=np.linalg.det(A)\n",
    "\n",
    "print(\"|A| = \", round(det,1))"
   ]
  },
  {
   "cell_type": "markdown",
   "id": "2a3d77e1",
   "metadata": {},
   "source": [
    "### 2. For the following Matrices\n",
    "\\begin{align}\n",
    "A = \\begin{bmatrix}\n",
    "5 & 6 & 2\\\\\n",
    "4 & 7 & 19\\\\\n",
    "0 & 3 & 12\n",
    "\\end{bmatrix}\n",
    "\\end{align}\n",
    "\n",
    "\\begin{align}\n",
    "B = \\begin{bmatrix}\n",
    "14 & -2 & 12\\\\\n",
    "4 & 4 & 5\\\\\n",
    "5 & 5 & 1\n",
    "\\end{bmatrix}\n",
    "\\end{align}\n",
    "### Find the following:\n",
    "\n",
    "(i)   $trace(A)$      \n",
    "(ii)  $A + B$         \n",
    "(iii) $A - B$\n",
    "(iv)  $A^{T}$          \n",
    "(v)  $A^{T}B$        \n",
    "(vi)  invervse of A i.e., $A^{-1}$ "
   ]
  },
  {
   "cell_type": "code",
   "execution_count": 2,
   "id": "19906147",
   "metadata": {},
   "outputs": [
    {
     "name": "stdout",
     "output_type": "stream",
     "text": [
      "(i) 𝑡𝑟𝑎𝑐𝑒(𝐴)= 24\n",
      "(ii) 𝐴 + 𝐵 = [[19  4 14]\n",
      " [ 8 11 24]\n",
      " [ 5  8 13]]\n",
      "(iii) 𝐴 - 𝐵 = [[ -9   8 -10]\n",
      " [  0   3  14]\n",
      " [ -5  -2  11]]\n",
      "(iv) 𝐴' = [[ 5  4  0]\n",
      " [ 6  7  3]\n",
      " [ 2 19 12]]\n",
      "(v) 𝐴'𝐵 =  [[ 86   6  80]\n",
      " [127  31 110]\n",
      " [164 132 131]]\n",
      "(vi) invervse of A = [[-0.20930233  0.51162791 -0.7751938 ]\n",
      " [ 0.37209302 -0.46511628  0.6744186 ]\n",
      " [-0.09302326  0.11627907 -0.08527132]]\n"
     ]
    }
   ],
   "source": [
    "import numpy as np\n",
    "\n",
    "A = np.array([[5, 6, 2], [4, 7, 19], [0, 3, 12]])\n",
    "B = np.array([[14, -2, 12], [4, 4, 5], [5, 5, 1]])\n",
    "\n",
    "trace = np.trace(A)\n",
    "C = A + B\n",
    "D = A - B\n",
    "A_T = A.T\n",
    "E = np.dot(A.T, B)\n",
    "F = np.linalg.inv(A)\n",
    "print(\"(i) 𝑡𝑟𝑎𝑐𝑒(𝐴)=\",trace)\n",
    "print(\"(ii) 𝐴 + 𝐵 =\", C)\n",
    "print(\"(iii) 𝐴 - 𝐵 =\", D)\n",
    "print(\"(iv) 𝐴' =\",A_T)\n",
    "print(\"(v) 𝐴'𝐵 = \",E)\n",
    "print(\"(vi) invervse of A =\",F)"
   ]
  },
  {
   "cell_type": "markdown",
   "id": "cae92154",
   "metadata": {},
   "source": [
    "### 3. Verify the following for the matrices A, B and C\n",
    "- $(AB)^{T}=B^{T}A^{T}$;\n",
    "- $(AB)^{-1}=B^{-1}A^{-1}$ ;\n",
    "- $A(B+C)= AB + AC$;\n",
    "- $(A^{T})^{-1}=(A^{-1})^{T}$;\n",
    "- $(A^{T}A)^{T}=A^{T}A$\n",
    "- $|C^{-1}|=\\frac{1}{|C|}$,\n",
    "\n",
    "\\begin{align} A = \\begin{bmatrix} 5 & 6 & 2\\\\ 4 & 7 & 1\\\\ 0 & 3 & 1 \\end{bmatrix} \\end{align},\n",
    "\n",
    "\\begin{align} B = \\begin{bmatrix} 1 & -2 & 1\\\\ 4 & 4 & 5\\\\ 5 & 5 & 1 \\end{bmatrix} \\end{align}\n",
    "\n",
    "\\begin{align} C = \\begin{bmatrix} 1 & 0 & 1\\\\ 4 & 1 & 0\\\\ 2 & 0 & 1 \\end{bmatrix} \\end{align}\n"
   ]
  },
  {
   "cell_type": "code",
   "execution_count": 2,
   "id": "7918bf10",
   "metadata": {},
   "outputs": [
    {
     "name": "stdout",
     "output_type": "stream",
     "text": [
      "(𝐴𝐵)^𝑇 is\n",
      "  [[39 37 17]\n",
      " [24 25 17]\n",
      " [37 40 16]]\n",
      "B^T.A^T is\n",
      " [[39 37 17]\n",
      " [24 25 17]\n",
      " [37 40 16]]\n",
      "Is (AB)^T equal to B^TA^T?\n",
      "True\n"
     ]
    }
   ],
   "source": [
    "import numpy as np\n",
    "\n",
    "A = np.array([[5, 6, 2],[4, 7, 1],[0, 3, 1]])\n",
    "\n",
    "B = np.array([[1, -2, 1],[4, 4, 5],[5, 5, 1]])\n",
    "\n",
    "AB_transpose = np.transpose(np.dot(A, B))\n",
    "BA_transpose = np.dot(np.transpose(B), np.transpose(A))\n",
    "print('(𝐴𝐵)^𝑇 is\\n ',AB_transpose)\n",
    "print('B^T.A^T is\\n',BA_transpose)\n",
    "print(\"Is (AB)^T equal to B^TA^T?\")\n",
    "print(np.array_equal(AB_transpose, BA_transpose))\n"
   ]
  },
  {
   "cell_type": "markdown",
   "id": "733aa526",
   "metadata": {},
   "source": [
    "The output will be True, which means the property is verified."
   ]
  },
  {
   "cell_type": "code",
   "execution_count": 11,
   "id": "78e72e96",
   "metadata": {},
   "outputs": [
    {
     "name": "stdout",
     "output_type": "stream",
     "text": [
      "Is (AB)^(-1) equal to B^(-1)A^(-1)?\n",
      "False\n"
     ]
    }
   ],
   "source": [
    "AB_inverse = np.linalg.inv(np.dot(A, B))\n",
    "B_inverse_A_inverse = np.dot(np.linalg.inv(B), np.linalg.inv(A))\n",
    "\n",
    "print(\"Is (AB)^(-1) equal to B^(-1)A^(-1)?\")\n",
    "print(np.array_equal(AB_inverse, B_inverse_A_inverse))\n"
   ]
  },
  {
   "cell_type": "markdown",
   "id": "21085d89",
   "metadata": {},
   "source": [
    "The output will be False, which means the property not is verified."
   ]
  },
  {
   "cell_type": "code",
   "execution_count": 12,
   "id": "d72ae1bc",
   "metadata": {},
   "outputs": [
    {
     "name": "stdout",
     "output_type": "stream",
     "text": [
      "Is A(B+C) equal to AB + AC?\n",
      "True\n"
     ]
    }
   ],
   "source": [
    "C = np.array([[1, 0, 1],[4, 1, 0],[2, 0, 1]])\n",
    "\n",
    "left_side = np.dot(A, B + C)\n",
    "right_side = np.dot(A, B) + np.dot(A, C)\n",
    "\n",
    "print(\"Is A(B+C) equal to AB + AC?\")\n",
    "print(np.array_equal(left_side, right_side))\n"
   ]
  },
  {
   "cell_type": "markdown",
   "id": "2079efa0",
   "metadata": {},
   "source": [
    "The output will be True, which means the property is verified."
   ]
  },
  {
   "cell_type": "code",
   "execution_count": 13,
   "id": "24562055",
   "metadata": {},
   "outputs": [
    {
     "name": "stdout",
     "output_type": "stream",
     "text": [
      "Is (A^T)^(-1) equal to (A^(-1))^T?\n",
      "False\n"
     ]
    }
   ],
   "source": [
    "A_inverse_transpose = np.transpose(np.linalg.inv(A))\n",
    "A_transpose_inverse = np.linalg.inv(np.transpose(A))\n",
    "\n",
    "print(\"Is (A^T)^(-1) equal to (A^(-1))^T?\")\n",
    "print(np.array_equal(A_inverse_transpose, A_transpose_inverse))\n"
   ]
  },
  {
   "cell_type": "markdown",
   "id": "bb8a030f",
   "metadata": {},
   "source": [
    "The output will be False, which means the property is not verified."
   ]
  },
  {
   "cell_type": "code",
   "execution_count": 14,
   "id": "457129b1",
   "metadata": {},
   "outputs": [
    {
     "name": "stdout",
     "output_type": "stream",
     "text": [
      "Is (A^TA)^T equal to A^TA?\n",
      "True\n"
     ]
    }
   ],
   "source": [
    "left_side = np.transpose(np.dot(np.transpose(A), A))\n",
    "right_side = np.dot(np.transpose(A), A)\n",
    "\n",
    "print(\"Is (A^TA)^T equal to A^TA?\")\n",
    "print(np.array_equal(left_side, right_side))\n"
   ]
  },
  {
   "cell_type": "markdown",
   "id": "d10a81b3",
   "metadata": {},
   "source": [
    "The output will be True, which means the property is verified."
   ]
  },
  {
   "cell_type": "code",
   "execution_count": 15,
   "id": "3c69719d",
   "metadata": {},
   "outputs": [
    {
     "name": "stdout",
     "output_type": "stream",
     "text": [
      "Is |C^(-1)| equal to 1/|C|?\n",
      "True\n"
     ]
    }
   ],
   "source": [
    "C_inverse = np.linalg.inv(C)\n",
    "det_C_inverse = np.linalg.det(C_inverse)\n",
    "det_C = np.linalg.det(C)\n",
    "\n",
    "print(\"Is |C^(-1)| equal to 1/|C|?\")\n",
    "print(np.isclose(det_C_inverse, 1/det_C))\n"
   ]
  },
  {
   "cell_type": "markdown",
   "id": "ba6e04a5",
   "metadata": {},
   "source": [
    "The output will be True, which means the property is verified."
   ]
  },
  {
   "cell_type": "markdown",
   "id": "0d4c78ce",
   "metadata": {},
   "source": [
    "### 4. Calculate the following for the matrix A,B,C and D where I is 3 by 3 Identity matrix\n",
    "- $|A+I|$;\n",
    "- $BC$;\n",
    "- $AB$;\n",
    "- $A^{2}$\n",
    "- Value of $ D^{2}-5D-2I$\n",
    "\n",
    "\n",
    "\\begin{align}\n",
    "A = \\begin{bmatrix}\n",
    "5 & 6 & 2\\\\\n",
    "4 & 7 & 19\\\\\n",
    "0 & 3 & 12\n",
    "\\end{bmatrix}\n",
    "\\end{align}\n",
    "\n",
    "\\begin{align}\n",
    "B = \\begin{bmatrix}\n",
    "14 \\\\\n",
    "4 \\\\\n",
    "5 \n",
    "\\end{bmatrix}\n",
    "\\end{align}\n",
    "\n",
    "\\begin{align}\n",
    "C = \\begin{bmatrix}\n",
    "1 & 2 & 3\\\\\n",
    "\\end{bmatrix}\n",
    "\\end{align}\n",
    "\n",
    "\\begin{align}\n",
    "D = \\begin{bmatrix}\n",
    "1 & 2\\\\\n",
    "3 & 4 \\\\\n",
    "\\end{bmatrix}\n",
    "\\end{align}\n"
   ]
  },
  {
   "cell_type": "code",
   "execution_count": 22,
   "id": "0b271c35",
   "metadata": {},
   "outputs": [
    {
     "name": "stdout",
     "output_type": "stream",
     "text": [
      "|A + I| = -6.0000000000000195\n"
     ]
    }
   ],
   "source": [
    "import numpy as np\n",
    "\n",
    "A = np.array([[5, 6, 2],[4, 7, 19],[0, 3, 12]])\n",
    "\n",
    "# 3x3 Identity matrix\n",
    "I = np.eye(3)  \n",
    "\n",
    "det = np.linalg.det(A + I)\n",
    "\n",
    "print(\"|A + I| =\", det)\n"
   ]
  },
  {
   "cell_type": "code",
   "execution_count": 24,
   "id": "877526a1",
   "metadata": {},
   "outputs": [
    {
     "name": "stdout",
     "output_type": "stream",
     "text": [
      "\n",
      "Matrix BC = \n",
      "[[14 28 42]\n",
      " [ 4  8 12]\n",
      " [ 5 10 15]]\n"
     ]
    }
   ],
   "source": [
    "B = np.array([[14],[4],[5]])\n",
    "\n",
    "C = np.array([[1, 2, 3]])\n",
    "\n",
    "BC = np.dot(B,C)\n",
    "\n",
    "print(\"\\nMatrix BC = \")\n",
    "print(BC)\n"
   ]
  },
  {
   "cell_type": "code",
   "execution_count": 25,
   "id": "2b251625",
   "metadata": {},
   "outputs": [
    {
     "name": "stdout",
     "output_type": "stream",
     "text": [
      "\n",
      "Matrix AB =\n",
      "[[104]\n",
      " [179]\n",
      " [ 72]]\n"
     ]
    }
   ],
   "source": [
    "AB = np.dot(A, B)\n",
    "\n",
    "print(\"\\nMatrix AB =\")\n",
    "print(AB)\n"
   ]
  },
  {
   "cell_type": "code",
   "execution_count": 29,
   "id": "630d8b96",
   "metadata": {},
   "outputs": [
    {
     "name": "stdout",
     "output_type": "stream",
     "text": [
      "\n",
      "Matrix A^2= \n",
      "[[ 49  78 148]\n",
      " [ 48 130 369]\n",
      " [ 12  57 201]]\n"
     ]
    }
   ],
   "source": [
    "A2 = np.dot(A, A)\n",
    "\n",
    "print(\"\\nMatrix A^2= \")\n",
    "print(A2)\n"
   ]
  },
  {
   "cell_type": "code",
   "execution_count": 31,
   "id": "687618ed",
   "metadata": {},
   "outputs": [
    {
     "name": "stdout",
     "output_type": "stream",
     "text": [
      "\n",
      "Matrix D^2 - 5D - 2I =\n",
      "[[0. 0.]\n",
      " [0. 0.]]\n"
     ]
    }
   ],
   "source": [
    "D = np.array([[1, 2],[3, 4]])\n",
    "\n",
    "result = np.dot(D, D) - 5 * D - 2 * np.eye(2)\n",
    "\n",
    "print(\"\\nMatrix D^2 - 5D - 2I =\")\n",
    "print(result)\n"
   ]
  },
  {
   "cell_type": "markdown",
   "id": "649b4bb5",
   "metadata": {},
   "source": [
    "## Covariance Matrix"
   ]
  },
  {
   "cell_type": "markdown",
   "id": "c00e550c",
   "metadata": {},
   "source": [
    "###  1. Find the Covariance matrix for the following data:\n",
    "\n",
    "    x = [1.23, 2.12, 3.34, 4.5]\n",
    "\n",
    "    y = [2.56, 2.89, 3.76, 3.95]"
   ]
  },
  {
   "cell_type": "code",
   "execution_count": 12,
   "id": "2a67c2ab",
   "metadata": {},
   "outputs": [
    {
     "name": "stdout",
     "output_type": "stream",
     "text": [
      "The covariance matrix is\n",
      " [[2.03629167 0.9313    ]\n",
      " [0.9313     0.4498    ]]\n"
     ]
    }
   ],
   "source": [
    "# Given Data\n",
    "x = [1.23, 2.12, 3.34, 4.5]\n",
    "y = [2.56, 2.89, 3.76, 3.95]\n",
    "\n",
    "# Create a 2D array\n",
    "X = np.stack((x, y), axis=0)\n",
    "\n",
    "# Calculate the covariance matrix\n",
    "cov_matrix = np.cov(X)\n",
    "\n",
    "print('The covariance matrix is\\n',cov_matrix)"
   ]
  },
  {
   "cell_type": "markdown",
   "id": "0870fafc",
   "metadata": {},
   "source": [
    "### 2. The Following table lists the weight and heights of 5 boys. Find the covariance matrix for the data.\n",
    "\n",
    "|Boy | 1 | 2 | 3 | 4 | 5 |\n",
    "| --- | --- | --- | --- | --- | --- |\n",
    "| Weight(lb) | 120 | 125 | 125 | 135 | 145 |\n",
    "| Height(in.) | 61 | 60 | 64 | 68 | 72 |"
   ]
  },
  {
   "cell_type": "code",
   "execution_count": 15,
   "id": "3e09be26",
   "metadata": {},
   "outputs": [
    {
     "name": "stdout",
     "output_type": "stream",
     "text": [
      "The covariance matrix is\n",
      " [[100.   47.5]\n",
      " [ 47.5  25. ]]\n"
     ]
    }
   ],
   "source": [
    "# Given Data\n",
    "x = [120,125,125,135,145]\n",
    "y = [61,60,64,68,72]\n",
    "\n",
    "# Create a 2D array\n",
    "X = np.stack((x, y), axis=0)\n",
    "\n",
    "# Calculate the covariance matrix\n",
    "cov_matrix = np.cov(X)\n",
    "\n",
    "print('The covariance matrix is\\n',cov_matrix)"
   ]
  },
  {
   "cell_type": "markdown",
   "id": "fb6ec8fe",
   "metadata": {},
   "source": [
    "## Gram Schmidt Process"
   ]
  },
  {
   "cell_type": "markdown",
   "id": "4eb986b3",
   "metadata": {},
   "source": [
    "### 1. Convert the following matrix to an orthogonal matrix using Gram Schmidt Process?\n",
    "\\begin{align}\n",
    "B = \\begin{bmatrix}\n",
    "1 & 7 & 9\\\\\n",
    "3 & 4 & 5\\\\\n",
    "1 & 2 & 1\n",
    "\\end{bmatrix}\n",
    "\\end{align}"
   ]
  },
  {
   "cell_type": "code",
   "execution_count": 3,
   "id": "08062b01",
   "metadata": {},
   "outputs": [
    {
     "name": "stdout",
     "output_type": "stream",
     "text": [
      "Original matrix B:\n",
      "[[1 7 9]\n",
      " [3 4 5]\n",
      " [1 2 1]]\n",
      "\n",
      "Orthogonal matrix obtained using Gram-Schmidt process:\n",
      "\n",
      "[[ 0.30151134  0.94684333  0.11215443]\n",
      " [ 0.90453403 -0.32125042  0.28038608]\n",
      " [ 0.30151134  0.01690792 -0.95331266]]\n"
     ]
    }
   ],
   "source": [
    "import numpy as np\n",
    "\n",
    "# Define the matrix B\n",
    "B = np.array([[1, 7, 9],[3, 4, 5],[1, 2, 1]])\n",
    "\n",
    "def gram_schmidt(matrix):\n",
    "    num_rows, num_cols = matrix.shape\n",
    "    orthogonal_matrix = np.zeros((num_rows, num_cols))\n",
    "    for i in range(num_cols):\n",
    "        v = matrix[:, i]\n",
    "        for j in range(i):\n",
    "            orthogonal_matrix[:, i] -= np.dot(orthogonal_matrix[:, j], v) * orthogonal_matrix[:, j]\n",
    "        orthogonal_matrix[:, i] += v\n",
    "        orthogonal_matrix[:, i] /= np.linalg.norm(orthogonal_matrix[:, i])\n",
    "    return orthogonal_matrix\n",
    "\n",
    "# Apply the Gram-Schmidt process to matrix B\n",
    "orthogonal_B = gram_schmidt(B)\n",
    "\n",
    "print(\"Original matrix B:\")\n",
    "print(B)\n",
    "print(\"\\nOrthogonal matrix obtained using Gram-Schmidt process:\\n\")\n",
    "print(orthogonal_B)\n"
   ]
  },
  {
   "cell_type": "markdown",
   "id": "9f48d4e0",
   "metadata": {},
   "source": [
    "### 2. Convert the following matrix to an orthogonal matrix using Gram Schmidt Process?\n",
    "\\begin{align}\n",
    "B = \\begin{bmatrix}\n",
    "1 & 1 & 1\\\\\n",
    "-1 & 0 & 1\\\\\n",
    "1 & 1 & 2\n",
    "\\end{bmatrix}\n",
    "\\end{align}\n"
   ]
  },
  {
   "cell_type": "code",
   "execution_count": 4,
   "id": "a2cdd57d",
   "metadata": {},
   "outputs": [
    {
     "name": "stdout",
     "output_type": "stream",
     "text": [
      "Original matrix B:\n",
      "[[ 1  1  1]\n",
      " [-1  0  1]\n",
      " [ 1  1  2]]\n",
      "\n",
      "Orthogonal matrix obtained using Gram-Schmidt process:\n",
      "\n",
      "[[ 0.57735027  0.40824829 -0.70710678]\n",
      " [-0.57735027  0.81649658  0.        ]\n",
      " [ 0.57735027  0.40824829  0.70710678]]\n"
     ]
    }
   ],
   "source": [
    "import numpy as np\n",
    "\n",
    "# Define the matrix B\n",
    "B = np.array([[1, 1, 1],[-1, 0, 1],[1, 1, 2]])\n",
    "\n",
    "def gram_schmidt(matrix):\n",
    "    num_rows, num_cols = matrix.shape\n",
    "    orthogonal_matrix = np.zeros((num_rows, num_cols))\n",
    "    for i in range(num_cols):\n",
    "        v = matrix[:, i]\n",
    "        for j in range(i):\n",
    "            orthogonal_matrix[:, i] -= np.dot(orthogonal_matrix[:, j], v) * orthogonal_matrix[:, j]\n",
    "        orthogonal_matrix[:, i] += v\n",
    "        orthogonal_matrix[:, i] /= np.linalg.norm(orthogonal_matrix[:, i])\n",
    "    return orthogonal_matrix\n",
    "\n",
    "# Apply the Gram-Schmidt process to matrix B\n",
    "orthogonal_B = gram_schmidt(B)\n",
    "\n",
    "print(\"Original matrix B:\")\n",
    "print(B)\n",
    "print(\"\\nOrthogonal matrix obtained using Gram-Schmidt process:\\n\")\n",
    "print(orthogonal_B)\n"
   ]
  },
  {
   "cell_type": "markdown",
   "id": "d00510eb",
   "metadata": {},
   "source": [
    "### 3. Verify Q is orthogonal or not\n",
    "\n",
    "\\begin{align}\n",
    "Q=\\frac{1}{3} \\begin{bmatrix}\n",
    "2 & -2 & 1\\\\\n",
    "1 & 2 & 2\\\\\n",
    "2 & -1 & -2\n",
    "\\end{bmatrix}\n",
    "\\end{align}"
   ]
  },
  {
   "cell_type": "code",
   "execution_count": 32,
   "id": "4de0b9c5",
   "metadata": {},
   "outputs": [
    {
     "name": "stdout",
     "output_type": "stream",
     "text": [
      "Matrix Q is not orthogonal.\n"
     ]
    }
   ],
   "source": [
    "import numpy as np\n",
    "\n",
    "# Define matrix Q\n",
    "Q = (1/3) * np.array([[2, -2, 1],[1, 2, 2],[2, -1, -2]])\n",
    "\n",
    "# 1. Verify Q^T * Q = I\n",
    "result1 = np.dot(Q.transpose(), Q)\n",
    "identity_matrix = np.eye(3)  # 3x3 Identity matrix\n",
    "\n",
    "# 2. Verify the determinant of Q\n",
    "determinant_Q = np.linalg.det(Q)\n",
    "\n",
    "# Check if Q is orthogonal\n",
    "is_orthogonal = np.allclose(result1, identity_matrix) and (np.isclose(determinant_Q, 1) or np.isclose(determinant_Q, -1))\n",
    "\n",
    "if is_orthogonal:\n",
    "    print(\"Matrix Q is orthogonal.\")\n",
    "else:\n",
    "    print(\"Matrix Q is not orthogonal.\")\n"
   ]
  },
  {
   "cell_type": "markdown",
   "id": "abc0dcff",
   "metadata": {},
   "source": [
    "## Solving system of Equations"
   ]
  },
  {
   "cell_type": "markdown",
   "id": "34915a99",
   "metadata": {},
   "source": [
    "### 1. Solve the following system $$\\begin{pmatrix}\n",
    "1 &-1 & 1\\\\\n",
    "2 & 1 &-3\\\\\n",
    "1 & 1 & 1\n",
    "\\end{pmatrix}\\begin{pmatrix}\n",
    "x\\\\\n",
    "y\\\\\n",
    "z\n",
    "\\end{pmatrix} =\\begin{pmatrix}\n",
    "4\\\\\n",
    "0\\\\\n",
    "2\\\\\n",
    "\\end{pmatrix}$$"
   ]
  },
  {
   "cell_type": "code",
   "execution_count": 17,
   "id": "6ac9d5b4",
   "metadata": {},
   "outputs": [
    {
     "name": "stdout",
     "output_type": "stream",
     "text": [
      "Solution is\n",
      "x = 2.0\n",
      "y = -1.0000000000000002\n",
      "z = 0.9999999999999999\n"
     ]
    }
   ],
   "source": [
    "import numpy as np\n",
    "\n",
    "# Define the coefficient matrix A and the right-hand side vector b\n",
    "A = np.array([[1, -1, 1],[2, 1, -3],[1, 1, 1]])\n",
    "B = np.array([4, 0, 2])\n",
    "\n",
    "# Solve the system of equations\n",
    "x = np.linalg.solve(A, B)\n",
    "\n",
    "# Print the solution\n",
    "print(\"Solution is\")\n",
    "print(\"x =\", x[0])\n",
    "print(\"y =\", x[1])\n",
    "print(\"z =\", x[2])\n"
   ]
  },
  {
   "cell_type": "markdown",
   "id": "d4135558",
   "metadata": {},
   "source": [
    "## Eigenvalues and Eigenvectors"
   ]
  },
  {
   "cell_type": "markdown",
   "id": "25b4ee19",
   "metadata": {},
   "source": [
    "### 1. Find the eigenvalues and eigenvectors for the matrix\n",
    "\n",
    "\\begin{align}\n",
    "A = \\begin{bmatrix}\n",
    "-2 & -4 & 2\\\\\n",
    "-2 & 1 & 2\\\\\n",
    "4 & 2 & 5\n",
    "\\end{bmatrix}\n",
    "\\end{align}"
   ]
  },
  {
   "cell_type": "code",
   "execution_count": 18,
   "id": "4bd18da7",
   "metadata": {},
   "outputs": [
    {
     "name": "stdout",
     "output_type": "stream",
     "text": [
      "Eigenvalues:\n",
      "[-5.  3.  6.]\n",
      "\n",
      "Eigenvectors:\n",
      "[[ 0.81649658  0.53452248  0.05842062]\n",
      " [ 0.40824829 -0.80178373  0.35052374]\n",
      " [-0.40824829 -0.26726124  0.93472998]]\n"
     ]
    }
   ],
   "source": [
    "import numpy as np\n",
    "\n",
    "# Define the matrix A\n",
    "A = np.array([[-2, -4, 2],[-2, 1, 2],[4, 2, 5]])\n",
    "\n",
    "# Calculate eigenvalues and eigenvectors\n",
    "eigenvalues, eigenvectors = np.linalg.eig(A)\n",
    "\n",
    "# Print the eigenvalues and eigenvectors\n",
    "print(\"Eigenvalues:\")\n",
    "print(eigenvalues)\n",
    "\n",
    "print(\"\\nEigenvectors:\")\n",
    "print(eigenvectors)\n"
   ]
  },
  {
   "cell_type": "markdown",
   "id": "8d8db76a",
   "metadata": {},
   "source": [
    "## Singular value decomposition (SVD)"
   ]
  },
  {
   "cell_type": "markdown",
   "id": "f7cb505e",
   "metadata": {},
   "source": [
    "### 1. Find the singular value decomposition (SVD) of the matrix\n",
    "\\begin{align}\n",
    "A = \\begin{bmatrix}\n",
    "1 & 2\\\\ \n",
    "3 & 4\\\\ \n",
    "5 & 6\n",
    "\\end{bmatrix}\n",
    "\\end{align}"
   ]
  },
  {
   "cell_type": "code",
   "execution_count": 1,
   "id": "524a0b39",
   "metadata": {},
   "outputs": [
    {
     "name": "stdout",
     "output_type": "stream",
     "text": [
      "U (Left Singular Vectors):\n",
      "[[-0.2298477   0.88346102  0.40824829]\n",
      " [-0.52474482  0.24078249 -0.81649658]\n",
      " [-0.81964194 -0.40189603  0.40824829]]\n",
      "\n",
      "S (Singular Values):\n",
      "[9.52551809 0.51430058]\n",
      "\n",
      "VT (Transpose of Right Singular Vectors):\n",
      "[[-0.61962948 -0.78489445]\n",
      " [-0.78489445  0.61962948]]\n"
     ]
    }
   ],
   "source": [
    "import numpy as np\n",
    "\n",
    "# Define the matrix A\n",
    "A = np.array([[1, 2],[3, 4],[5, 6]])\n",
    "\n",
    "# Calculate the SVD\n",
    "U, S, VT = np.linalg.svd(A)\n",
    "\n",
    "# Print the results\n",
    "print(\"U (Left Singular Vectors):\")\n",
    "print(U)\n",
    "print(\"\\nS (Singular Values):\")\n",
    "print(S)\n",
    "print(\"\\nVT (Transpose of Right Singular Vectors):\")\n",
    "print(VT)\n"
   ]
  },
  {
   "cell_type": "markdown",
   "id": "12764599",
   "metadata": {},
   "source": [
    "## Transformation matrix"
   ]
  },
  {
   "cell_type": "markdown",
   "id": "8d421e43",
   "metadata": {},
   "source": [
    "### Prepare a transformation matrix which will transform matrix `A` into matrix `B`\n",
    "\\begin{align}\n",
    "A = \\begin{pmatrix}\n",
    "2&5&2&-3\\\\\n",
    "3&6&5&2\\\\\n",
    "4&5&14&14\\\\\n",
    "5&10&8&4\n",
    "\\end{pmatrix}\n",
    "\\end{align}\n",
    "\n",
    "\n",
    "\\begin{align}\n",
    "B = \\begin{pmatrix}\n",
    "3&3&4&5\\\\\n",
    "6&7&8&10\\\\\n",
    "9&12&4&7\\\\\n",
    "-3&6&17&4\n",
    "\\end{pmatrix}\n",
    "\\end{align}"
   ]
  },
  {
   "cell_type": "code",
   "execution_count": 8,
   "id": "7168d348",
   "metadata": {},
   "outputs": [
    {
     "name": "stdout",
     "output_type": "stream",
     "text": [
      "Transformation matrix T is\n",
      "[[ -15.    58.    -4.   -25. ]\n",
      " [ -24.8   94.    -6.6  -40. ]\n",
      " [ -43.8  164.   -12.6  -69. ]\n",
      " [  92.4 -355.    26.8  154. ]]\n"
     ]
    }
   ],
   "source": [
    "import numpy as np\n",
    "\n",
    "# Define matrices A and B\n",
    "A = np.array([[2, 5, 2, -3],[3, 6, 5, 2],[4, 5, 14, 14],[5, 10, 8, 4]])\n",
    "\n",
    "B = np.array([[3, 3, 4, 5],[6, 7, 8, 10],[9, 12, 4, 7],[-3, 6, 17, 4]])\n",
    "\n",
    "# Calculate the inverse of matrix A\n",
    "A_inv = np.linalg.inv(A)\n",
    "\n",
    "# Calculate the transformation matrix T\n",
    "T = np.dot(B, A_inv)\n",
    "\n",
    "print(\"Transformation matrix T is\")\n",
    "print(T)\n"
   ]
  },
  {
   "cell_type": "markdown",
   "id": "2b3bbe3c",
   "metadata": {},
   "source": [
    "## Covariance Matrix, SVD, PCA"
   ]
  },
  {
   "cell_type": "markdown",
   "id": "745b34b5",
   "metadata": {},
   "source": [
    "1. Generate a dummy dataset using\n",
    "-  np.random.seed(74)\n",
    "-  X = np.random.randint(10,50,100).reshape(20,5)\n",
    "2. Preprocess the data Preprocess the data by subtracting the mean and dividing by the standard deviation of each attribute value. The resulting data should be zero-mean with variance 1.\n",
    "3. Compute the covriance matrix\n",
    "4. obtain the eigenvalues and eigenvectors.\n",
    "5. Find principle components."
   ]
  },
  {
   "cell_type": "code",
   "execution_count": 18,
   "id": "ba6029fc",
   "metadata": {},
   "outputs": [
    {
     "name": "stdout",
     "output_type": "stream",
     "text": [
      "cov_matrix: \n",
      " [[ 1.05263158 -0.27819875  0.36911671  0.03622489 -0.08410942]\n",
      " [-0.27819875  1.05263158 -0.06208267 -0.16516661  0.02086093]\n",
      " [ 0.36911671 -0.06208267  1.05263158  0.22086286  0.38622647]\n",
      " [ 0.03622489 -0.16516661  0.22086286  1.05263158  0.00789417]\n",
      " [-0.08410942  0.02086093  0.38622647  0.00789417  1.05263158]]\n",
      "eigenvalues: \n",
      " [1.69018416 0.4212183  1.28580947 1.01974413 0.84620183]\n",
      "eigenvectors: \n",
      " [[ 0.50295151 -0.51869297  0.38400772  0.4945737  -0.29314213]\n",
      " [-0.36050452 -0.21452546 -0.51071959  0.0971005  -0.74414536]\n",
      " [ 0.63376866  0.64630047 -0.31104552  0.11806878 -0.26446821]\n",
      " [ 0.34536183 -0.24674909  0.10323616 -0.85530368 -0.27863598]\n",
      " [ 0.31006252 -0.45425435 -0.69591418  0.02199404  0.46123089]]\n",
      "principal components \n",
      " [[-1.10418535  1.18700844  1.8090375  -0.34930554 -0.67095132]\n",
      " [-0.05060521 -1.84923266  0.88209749  0.48905354  1.03702067]\n",
      " [-0.44294822 -2.07745198  1.00237812  0.05382928  0.84828227]\n",
      " [ 1.63044972 -1.04501535 -0.15891915 -1.49029618 -1.10774136]\n",
      " [ 2.10424333 -0.05765242 -0.26047273  1.56441405  0.30317522]\n",
      " [ 0.65119713  1.92069815 -0.90646718  0.4300536  -0.43348762]\n",
      " [-0.09753122 -0.56963499 -1.49513362 -0.2176547  -0.13281081]\n",
      " [ 1.3780457  -0.10455826 -0.471579   -0.01251833  0.25421239]\n",
      " [ 0.79321264 -1.41094124  0.29304212 -0.24683103 -0.8272942 ]\n",
      " [ 0.32886764  0.79754944 -0.86857772 -0.96933926  0.47570083]\n",
      " [-2.70982897  0.52679043 -0.81114816  0.08654884  0.05676898]\n",
      " [-0.51945983  0.41767512  0.70588073 -1.15588761  0.36543708]\n",
      " [-0.36747234  0.57850757 -0.72352973  0.98807543  0.50975235]\n",
      " [-0.19349473  1.72420557  0.40086671  1.05055624  0.3153421 ]\n",
      " [ 0.49454312  0.70396772 -0.29685451 -0.53694275  0.86783311]\n",
      " [-2.60330053 -1.06771251  0.43740319  1.12198519 -0.61946807]\n",
      " [-0.07764486  1.25809024  1.96390734 -1.03741072 -0.10825417]\n",
      " [ 0.13568144 -0.30982856 -0.85805862 -1.34018999  0.50565764]\n",
      " [ 1.98287141  0.05727185  0.94028834  1.39172131 -0.7350181 ]\n",
      " [-1.33264087 -0.67973658 -1.58416111  0.18013864 -0.90415698]]\n",
      "Number of principal components \n",
      " 5\n"
     ]
    }
   ],
   "source": [
    "np.random.seed(74)\n",
    "X = np.random.randint(10,50,100).reshape(20,5)\n",
    "\n",
    "#preprocess the data\n",
    "X = (X-np.mean(X,axis=0))/np.std(X,axis=0)\n",
    "\n",
    "#covariance\n",
    "cov_matrix = np.cov(X.T)\n",
    "print(\"cov_matrix:\",'\\n',cov_matrix)\n",
    "\n",
    "#obtain the eigen values and vectors\n",
    "eigenval,eigenvecs = np.linalg.eig(cov_matrix)\n",
    "print(\"eigenvalues:\",'\\n',eigenval)\n",
    "print(\"eigenvectors:\",'\\n',eigenvecs)\n",
    "\n",
    "\n",
    "idx=eigenval.argsort()[::-1]\n",
    "eigenval_sort=eigenval[idx]\n",
    "eigenvecs_sort=eigenvecs[:,idx]\n",
    "\n",
    "principal_components =X@eigenvecs_sort\n",
    "print(\"principal components\",'\\n',principal_components)\n",
    "\n",
    "\n",
    "explained_variance_ratio = eigenval_sort/np.sum(eigenval_sort)\n",
    "cumulative_variance = np.cumsum(explained_variance_ratio)\n",
    "\n",
    "num_componets = np.sum(cumulative_variance <0.95)+1\n",
    "print('Number of principal components','\\n',num_componets)"
   ]
  },
  {
   "cell_type": "code",
   "execution_count": 31,
   "id": "c35ce90b",
   "metadata": {},
   "outputs": [
    {
     "name": "stdout",
     "output_type": "stream",
     "text": [
      "cov_matrix: \n",
      " [[ 1.05263158 -0.27819875  0.36911671  0.03622489 -0.08410942]\n",
      " [-0.27819875  1.05263158 -0.06208267 -0.16516661  0.02086093]\n",
      " [ 0.36911671 -0.06208267  1.05263158  0.22086286  0.38622647]\n",
      " [ 0.03622489 -0.16516661  0.22086286  1.05263158  0.00789417]\n",
      " [-0.08410942  0.02086093  0.38622647  0.00789417  1.05263158]]\n",
      "eigenvalues: \n",
      " [2.93808505 0.9201649  0.14774182 0.02085386]\n",
      "eigenvectors: \n",
      " [[ 0.52106591 -0.37741762 -0.71956635  0.26128628]\n",
      " [-0.26934744 -0.92329566  0.24438178 -0.12350962]\n",
      " [ 0.5804131  -0.02449161  0.14212637 -0.80144925]\n",
      " [ 0.56485654 -0.06694199  0.63427274  0.52359713]]\n",
      "principal components \n",
      " [[-1.10418535 -0.67095132  1.18700844  1.8090375  -0.34930554]\n",
      " [-0.05060521  1.03702067 -1.84923266  0.88209749  0.48905354]\n",
      " [-0.44294822  0.84828227 -2.07745198  1.00237812  0.05382928]\n",
      " [ 1.63044972 -1.10774136 -1.04501535 -0.15891915 -1.49029618]\n",
      " [ 2.10424333  0.30317522 -0.05765242 -0.26047273  1.56441405]\n",
      " [ 0.65119713 -0.43348762  1.92069815 -0.90646718  0.4300536 ]\n",
      " [-0.09753122 -0.13281081 -0.56963499 -1.49513362 -0.2176547 ]\n",
      " [ 1.3780457   0.25421239 -0.10455826 -0.471579   -0.01251833]\n",
      " [ 0.79321264 -0.8272942  -1.41094124  0.29304212 -0.24683103]\n",
      " [ 0.32886764  0.47570083  0.79754944 -0.86857772 -0.96933926]\n",
      " [-2.70982897  0.05676898  0.52679043 -0.81114816  0.08654884]\n",
      " [-0.51945983  0.36543708  0.41767512  0.70588073 -1.15588761]\n",
      " [-0.36747234  0.50975235  0.57850757 -0.72352973  0.98807543]\n",
      " [-0.19349473  0.3153421   1.72420557  0.40086671  1.05055624]\n",
      " [ 0.49454312  0.86783311  0.70396772 -0.29685451 -0.53694275]\n",
      " [-2.60330053 -0.61946807 -1.06771251  0.43740319  1.12198519]\n",
      " [-0.07764486 -0.10825417  1.25809024  1.96390734 -1.03741072]\n",
      " [ 0.13568144  0.50565764 -0.30982856 -0.85805862 -1.34018999]\n",
      " [ 1.98287141 -0.7350181   0.05727185  0.94028834  1.39172131]\n",
      " [-1.33264087 -0.90415698 -0.67973658 -1.58416111  0.18013864]]\n"
     ]
    }
   ],
   "source": [
    "# Import necessary libraries\n",
    "import numpy as np\n",
    "from sklearn.preprocessing import StandardScaler\n",
    "\n",
    "# Set random seed\n",
    "np.random.seed(74)\n",
    "\n",
    "# Generate a dummy dataset\n",
    "X = np.random.randint(10,50,100).reshape(20,5)\n",
    "\n",
    "# Preprocess the data\n",
    "scaler = StandardScaler()\n",
    "X_scaled = scaler.fit_transform(X)\n",
    "\n",
    "# Compute the covariance matrix\n",
    "cov_matrix = np.cov(X_scaled.T)\n",
    "print(\"cov_matrix:\",'\\n',cov_matrix)\n",
    "\n",
    "# Obtain the eigenvalues and eigenvectors\n",
    "eigenvalues, eigenvectors = np.linalg.eig(cov_matrix)\n",
    "print(\"eigenvalues:\",'\\n',eigenval)\n",
    "print(\"eigenvectors:\",'\\n',eigenvecs)\n",
    "\n",
    "# Find principal components\n",
    "principal_components = X_scaled.dot(eigenvectors)\n",
    "print(\"principal components\",'\\n',principal_components)\n"
   ]
  },
  {
   "cell_type": "markdown",
   "id": "0a27e3fd",
   "metadata": {},
   "source": [
    "1. From sklearn.dataset import iris data\n",
    "2. Preprocess the data Preprocess the data by subtracting the mean and dividing by the standard deviation of each attribute value. The resulting data should be zero-mean with variance 1.\n",
    "3. Compute the covriance matrix \n",
    "4. Factorize the covariance matrix using singular value decomposition (SVD) and obtain the eigenvalues and eigenvectors.\n",
    "5. Find principle components."
   ]
  },
  {
   "cell_type": "code",
   "execution_count": 29,
   "id": "8aadeb54",
   "metadata": {},
   "outputs": [
    {
     "name": "stdout",
     "output_type": "stream",
     "text": [
      "cov_matrix: \n",
      " [[ 1.00671141 -0.11835884  0.87760447  0.82343066]\n",
      " [-0.11835884  1.00671141 -0.43131554 -0.36858315]\n",
      " [ 0.87760447 -0.43131554  1.00671141  0.96932762]\n",
      " [ 0.82343066 -0.36858315  0.96932762  1.00671141]]\n",
      "eigenvalues: \n",
      " [2.93808505 0.9201649  0.14774182 0.02085386]\n",
      "eigenvectors: \n",
      " [[ 0.52106591 -0.37741762 -0.71956635  0.26128628]\n",
      " [-0.26934744 -0.92329566  0.24438178 -0.12350962]\n",
      " [ 0.5804131  -0.02449161  0.14212637 -0.80144925]\n",
      " [ 0.56485654 -0.06694199  0.63427274  0.52359713]]\n"
     ]
    }
   ],
   "source": [
    "# Import necessary libraries\n",
    "from sklearn import datasets\n",
    "from sklearn.preprocessing import StandardScaler\n",
    "import numpy as np\n",
    "\n",
    "# Load iris dataset\n",
    "iris = datasets.load_iris()\n",
    "X = iris.data\n",
    "\n",
    "# Preprocess the data\n",
    "scaler = StandardScaler()\n",
    "X_scaled = scaler.fit_transform(X)\n",
    "\n",
    "# Compute the covariance matrix\n",
    "cov_matrix = np.cov(X_scaled.T)\n",
    "print(\"cov_matrix:\",'\\n',cov_matrix)\n",
    "\n",
    "#obtain the eigen values and vectors\n",
    "eigenval,eigenvecs = np.linalg.eig(cov_matrix)\n",
    "print(\"eigenvalues:\",'\\n',eigenval)\n",
    "print(\"eigenvectors:\",'\\n',eigenvecs)\n",
    "\n",
    "# Factorize the covariance matrix using singular value decomposition (SVD)\n",
    "U, S, V = np.linalg.svd(cov_matrix)\n",
    "\n",
    "# Find principal components\n",
    "principal_components = X_scaled.dot(U)\n"
   ]
  },
  {
   "cell_type": "markdown",
   "id": "1328f17f",
   "metadata": {},
   "source": [
    "# Functions & Derivatives"
   ]
  },
  {
   "cell_type": "markdown",
   "id": "8fcf8c80",
   "metadata": {},
   "source": [
    "### 1. For the function\n",
    "$\n",
    "f(x) =\\begin{cases}\n",
    " & 0.5x , \\text{ if }  x \\leq0 \\\\\n",
    " & 1 ,\\text{ if }  x > 0\n",
    "\\end{cases} \\text { find }  f(-3) $ $ \\text{and}$ $ f(2) $\n"
   ]
  },
  {
   "cell_type": "code",
   "execution_count": 19,
   "id": "21bd2593",
   "metadata": {},
   "outputs": [
    {
     "name": "stdout",
     "output_type": "stream",
     "text": [
      "f(-3)= -1.5\n",
      "f(2)= 1\n"
     ]
    }
   ],
   "source": [
    "def f(x):\n",
    "    if x<=0:\n",
    "        return 0.5 * x\n",
    "    else:\n",
    "        return 1\n",
    "print(\"f(-3)=\",f(-3))\n",
    "print(\"f(2)=\",f(2))"
   ]
  },
  {
   "cell_type": "markdown",
   "id": "418959d6",
   "metadata": {},
   "source": [
    "### 2. Plot $f(x)$ and $f'(x)$ for $f(x)$ = $\\frac{1}{1+{e^{-x}}}$ \n",
    "#### Note that $f'(x)=f(x)*(1-f(x))$"
   ]
  },
  {
   "cell_type": "code",
   "execution_count": 23,
   "id": "72dd4493",
   "metadata": {},
   "outputs": [
    {
     "data": {
      "image/png": "[encoded data removed]",
      "text/plain": [
       "<Figure size 1200x600 with 2 Axes>"
      ]
     },
     "metadata": {},
     "output_type": "display_data"
    }
   ],
   "source": [
    "import numpy as np\n",
    "import matplotlib.pyplot as plt\n",
    "\n",
    "# Define the function\n",
    "def f(x):\n",
    "    return 1 / (1 + np.exp(-x))\n",
    "\n",
    "# Define the derivative of the function\n",
    "def df(x):\n",
    "    return f(x) * (1 - f(x))\n",
    "\n",
    "# Generate x values\n",
    "x = np.linspace(-10, 10, 400)\n",
    "\n",
    "# Generate y values for the function and its derivative\n",
    "y = f(x)\n",
    "dy = df(x)\n",
    "\n",
    "# Create the plot\n",
    "plt.figure(figsize=(12, 6))\n",
    "\n",
    "# Plot the function\n",
    "plt.subplot(1, 2, 1)\n",
    "plt.plot(x, y, label='f(x)')\n",
    "plt.title('Function')\n",
    "plt.xlabel('x')\n",
    "plt.ylabel('f(x)')\n",
    "plt.legend()\n",
    "\n",
    "# Plot the derivative of the function\n",
    "plt.subplot(1, 2, 2)\n",
    "plt.plot(x, dy, label=\"f'(x)\", color='orange')\n",
    "plt.title('Derivative of the function')\n",
    "plt.xlabel('x')\n",
    "plt.ylabel(\"f'(x)\")\n",
    "plt.legend()\n",
    "\n",
    "# Display the plot\n",
    "plt.tight_layout()\n",
    "plt.show()\n"
   ]
  },
  {
   "cell_type": "markdown",
   "id": "e8c46d49",
   "metadata": {},
   "source": [
    "### Jacobian Matrix"
   ]
  },
  {
   "cell_type": "markdown",
   "id": "48e71c84",
   "metadata": {},
   "source": [
    "### Find the Jacobian matrix of the function f(x,y)=(x^2+y^2-1,x^2 y+sin(⁡xy^2) )"
   ]
  },
  {
   "cell_type": "code",
   "execution_count": 35,
   "id": "45b18f00",
   "metadata": {},
   "outputs": [
    {
     "name": "stdout",
     "output_type": "stream",
     "text": [
      "The Jacobian matrix is\n"
     ]
    },
    {
     "data": {
      "text/latex": [
       "$\\displaystyle \\left[\\begin{matrix}2 x & 2 y\\\\2 x y + y^{2} \\cos{\\left(x y^{2} \\right)} & x^{2} + 2 x y \\cos{\\left(x y^{2} \\right)}\\end{matrix}\\right]$"
      ],
      "text/plain": [
       "Matrix([\n",
       "[                     2*x,                      2*y],\n",
       "[2*x*y + y**2*cos(x*y**2), x**2 + 2*x*y*cos(x*y**2)]])"
      ]
     },
     "metadata": {},
     "output_type": "display_data"
    }
   ],
   "source": [
    "# Import necessary libraries\n",
    "from sympy import *\n",
    "\n",
    "# Define the variables\n",
    "x, y = symbols('x y')\n",
    "\n",
    "# Define the functions\n",
    "f1 = x**2 + y**2 - 1\n",
    "f2 = x**2 * y + sin(x*y**2)\n",
    "\n",
    "# Compute the Jacobian matrix\n",
    "jacobian_matrix = Matrix([[diff(f1, x), diff(f1, y)], [diff(f2, x), diff(f2, y)]])\n",
    "\n",
    "print('The Jacobian matrix is')\n",
    "display(jacobian_matrix)"
   ]
  },
  {
   "cell_type": "markdown",
   "id": "d9151a35",
   "metadata": {},
   "source": [
    "### Concave function or Convex function"
   ]
  },
  {
   "cell_type": "markdown",
   "id": "ea2fd73d",
   "metadata": {},
   "source": [
    "### Find out if the following is a concave function or convex function for the interval ( -5, -2), where 𝑓(x) = - 𝑥^2 – 7x"
   ]
  },
  {
   "cell_type": "code",
   "execution_count": 36,
   "id": "46c325ba",
   "metadata": {},
   "outputs": [
    {
     "name": "stdout",
     "output_type": "stream",
     "text": [
      "The function is concave.\n"
     ]
    }
   ],
   "source": [
    "# Import necessary libraries\n",
    "from sympy import *\n",
    "\n",
    "# Define the variable\n",
    "x = symbols('x')\n",
    "\n",
    "# Define the function\n",
    "f = -x**2 - 7*x\n",
    "\n",
    "# Compute the second derivative\n",
    "second_derivative = diff(f, x, 2)\n",
    "\n",
    "# Check if the function is concave or convex\n",
    "if second_derivative > 0:\n",
    "    print(\"The function is convex.\")\n",
    "elif second_derivative < 0:\n",
    "    print(\"The function is concave.\")\n",
    "else:\n",
    "    print(\"The function is neither convex nor concave.\")\n"
   ]
  },
  {
   "cell_type": "markdown",
   "id": "c76e9d52",
   "metadata": {},
   "source": [
    "## Local maxima & minima"
   ]
  },
  {
   "cell_type": "markdown",
   "id": "5d6665f7",
   "metadata": {},
   "source": [
    "### 1. Find the point of inflection, local maxima & minima for the following graph in the interval  ( -2, 3) for the function 𝑓(x) = 5x^3 + 2x^2 − 3x"
   ]
  },
  {
   "cell_type": "code",
   "execution_count": 38,
   "id": "580bb8b5",
   "metadata": {},
   "outputs": [
    {
     "name": "stdout",
     "output_type": "stream",
     "text": [
      "-3/5 is a local maximum.\n",
      "1/3 is a local minimum.\n",
      "The points of inflection are: [-2/15]\n"
     ]
    }
   ],
   "source": [
    "from sympy import *\n",
    "\n",
    "# Define the variable\n",
    "x = symbols('x')\n",
    "\n",
    "# Define the function\n",
    "f = 5*x**3 + 2*x**2 - 3*x\n",
    "\n",
    "# Compute the first and second derivatives\n",
    "f1 = diff(f, x)\n",
    "f2 = diff(f1, x)\n",
    "\n",
    "# Find critical points\n",
    "critical_points = solve(f1, x)\n",
    "\n",
    "# Find points of inflection\n",
    "inflection_points = solve(f2, x)\n",
    "\n",
    "# Classify critical points as local maxima, minima or neither\n",
    "for point in critical_points:\n",
    "    if f2.subs(x, point) > 0:\n",
    "        print(f\"{point} is a local minimum.\")\n",
    "    elif f2.subs(x, point) < 0:\n",
    "        print(f\"{point} is a local maximum.\")\n",
    "    else:\n",
    "        print(f\"{point} is neither a maximum nor a minimum.\")\n",
    "\n",
    "print(f\"The points of inflection are: {inflection_points}\")\n"
   ]
  },
  {
   "cell_type": "markdown",
   "id": "e63fe2e7",
   "metadata": {},
   "source": [
    "## Gradient descent"
   ]
  },
  {
   "cell_type": "markdown",
   "id": "216b324d",
   "metadata": {},
   "source": [
    "### 1. Consider the following Data\n",
    "    height=[167,145,170,180,189,155,163,178,173,176]\n",
    "    weight=[83.5,72.5,85,90,94.5,77.5,81.5,89,86.5,88]\n",
    "\n",
    "1. Define a loss function\n",
    "2. Calculate derivative at each point\n",
    "3. Run Gradient descent for Learning rate = 0.000001\n",
    "4. Calculate the optimal value of w\n",
    "5. For 60 Epoch plot cost"
   ]
  },
  {
   "cell_type": "code",
   "execution_count": 48,
   "id": "29cfa6f4",
   "metadata": {},
   "outputs": [
    {
     "name": "stdout",
     "output_type": "stream",
     "text": [
      "The optimal value of w is 0.5\n"
     ]
    },
    {
     "data": {
      "image/png": "[encoded data removed]",
      "text/plain": [
       "<Figure size 640x480 with 1 Axes>"
      ]
     },
     "metadata": {},
     "output_type": "display_data"
    }
   ],
   "source": [
    "import numpy as np\n",
    "import matplotlib.pyplot as plt\n",
    "\n",
    "# Define the data\n",
    "height = np.array([167,145,170,180,189,155,163,178,173,176])\n",
    "weight = np.array([83.5,72.5,85,90,94.5,77.5,81.5,89,86.5,88])\n",
    "\n",
    "# Define the loss function\n",
    "def loss(w):\n",
    "    return np.sum((w*height - weight)**2)\n",
    "\n",
    "# Calculate derivative at each point\n",
    "def derivative(w):\n",
    "    return np.sum(2*w*(height**2) - 2*height*weight)\n",
    "\n",
    "# Initialize w and learning rate\n",
    "w = 0\n",
    "learning_rate = 0.000001\n",
    "\n",
    "# Run Gradient Descent\n",
    "loss_values = []\n",
    "for i in range(60):\n",
    "    w = w - learning_rate * derivative(w)\n",
    "    loss_values.append(loss(w))\n",
    "\n",
    "# Calculate the optimal value of w\n",
    "optimal_w = w\n",
    "print(f\"The optimal value of w is {optimal_w}\")\n",
    "\n",
    "# Plot cost for 60 epochs\n",
    "plt.plot(range(60), loss_values)\n",
    "plt.xlabel('Epoch')\n",
    "plt.ylabel('Cost')\n",
    "plt.show()\n"
   ]
  },
  {
   "cell_type": "markdown",
   "id": "8a319c27",
   "metadata": {},
   "source": [
    "### 2. Consider the following data for linear regression where height is independent and weight is dependent variable,\n",
    "\n",
    "| height | 167 | 145 | 170 | 180 | 189 | 155 | 163 | 178 | 173 | 176 |\n",
    "| --- | --- | --- | --- | --- | --- | --- | --- | --- | --- | --- |\n",
    "| weight | 83.5 | 72.5 | 85 | 90 | 94.5 | 77.5 | 81.5 | 89 | 86.5 | 88 |\n",
    "\n",
    "\n",
    "\n",
    "1. Define a loss function \n",
    "2. Calculate derivative at each point \n",
    "3. Run Gradient descent for Learning rate = 0.000001\n",
    "4. Calculate the optimal value of w\n",
    "5. For 60 Epoch plot cost"
   ]
  },
  {
   "cell_type": "markdown",
   "id": "0869a6fb",
   "metadata": {},
   "source": [
    "# Partial derivatives"
   ]
  },
  {
   "cell_type": "markdown",
   "id": "e4eb3615",
   "metadata": {},
   "source": [
    "### For the function $f(w_1,w_2,w_3)= w_1^2+w_2^2+w_3^2$\n",
    "### find  $ \\frac{\\partial f}{\\partial w_1},\\frac{\\partial f}{\\partial w_2},\\frac{\\partial f}{\\partial w_3}$"
   ]
  },
  {
   "cell_type": "code",
   "execution_count": 50,
   "id": "273f1033",
   "metadata": {},
   "outputs": [
    {
     "name": "stdout",
     "output_type": "stream",
     "text": [
      "Partial derivative of f with respect to w1 = 2*w1\n",
      "Partial derivative of f with respect to w2 = 2*w2\n",
      "Partial derivative of f with respect to w3 = 2*w3\n"
     ]
    }
   ],
   "source": [
    "from sympy import *\n",
    "\n",
    "w1,w2,w3 = symbols('w1,w2,w3')\n",
    "\n",
    "# function\n",
    "f = w1**2 + w2**2 + w3**2\n",
    "\n",
    "# derivatives\n",
    "df_dw1 = diff(f,w1)\n",
    "df_dw2 = diff(f,w2)\n",
    "df_dw3 = diff(f,w3)\n",
    "\n",
    "print(\"Partial derivative of f with respect to w1 =\",df_dw1)\n",
    "print(\"Partial derivative of f with respect to w2 =\",df_dw2)\n",
    "print(\"Partial derivative of f with respect to w3 =\",df_dw3)"
   ]
  },
  {
   "cell_type": "code",
   "execution_count": null,
   "id": "b43809ac",
   "metadata": {},
   "outputs": [],
   "source": []
  }
 ],
 "metadata": {
  "kernelspec": {
   "display_name": "Python 3 (ipykernel)",
   "language": "python",
   "name": "python3"
  },
  "language_info": {
   "codemirror_mode": {
    "name": "ipython",
    "version": 3
   },
   "file_extension": ".py",
   "mimetype": "text/x-python",
   "name": "python",
   "nbconvert_exporter": "python",
   "pygments_lexer": "ipython3",
   "version": "3.11.3"
  }
 },
 "nbformat": 4,
 "nbformat_minor": 5
}
