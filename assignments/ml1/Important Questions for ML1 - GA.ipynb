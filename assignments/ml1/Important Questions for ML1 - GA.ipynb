{
 "cells": [
  {
   "cell_type": "markdown",
   "id": "13bbfa20",
   "metadata": {},
   "source": [
    "# Important Questions for ML1 - GA"
   ]
  },
  {
   "cell_type": "code",
   "execution_count": null,
   "id": "42b4cb2f",
   "metadata": {},
   "outputs": [],
   "source": [
    "# Kindly change the below cells from markdown to code and execute it "
   ]
  },
  {
   "cell_type": "code",
   "execution_count": null,
   "id": "d0cdea70",
   "metadata": {},
   "outputs": [],
   "source": [
    "import pandas as pd\n",
    "\n",
    "import csv\n",
    "\n",
    "with open(\"data_set.csv\",\"r\")as file:\n",
    "\n",
    "    reader=csv.reader(file)\n",
    "    \n",
    "df=pd.read_csv(\"data_set.csv\")\n",
    "\n",
    "df.head()\n"
   ]
  },
  {
   "cell_type": "code",
   "execution_count": null,
   "id": "4e681715",
   "metadata": {},
   "outputs": [],
   "source": [
    "# import 'Pandas' \n",
    "import pandas as pd \n",
    "\n",
    "# import 'Numpy' \n",
    "import numpy as np\n",
    "\n",
    "# import subpackage of Matplotlib\n",
    "import matplotlib.pyplot as plt\n",
    "\n",
    "# import 'Seaborn' \n",
    "import seaborn as sns\n",
    "\n",
    "# to suppress warnings \n",
    "from warnings import filterwarnings\n",
    "filterwarnings('ignore')\n",
    "\n",
    "# display all columns of the dataframe\n",
    "pd.options.display.max_columns = None\n",
    "\n",
    "# display all rows of the dataframe\n",
    "pd.options.display.max_rows = None\n",
    " \n",
    "# to display the float values upto 6 decimal places     \n",
    "pd.options.display.float_format = '{:.6f}'.format\n",
    "\n",
    "# import train-test split \n",
    "from sklearn.model_selection import train_test_split\n",
    "\n",
    "# import various functions from statsmodel to perform linear regression\n",
    "import statsmodels\n",
    "import statsmodels.api as sm\n",
    "import statsmodels.stats.api as sms\n",
    "from statsmodels.compat import lzip\n",
    "from statsmodels.stats.outliers_influence import variance_inflation_factor\n",
    "from statsmodels.graphics.gofplots import qqplot\n",
    "from statsmodels.stats.anova import anova_lm\n",
    "from statsmodels.formula.api import ols\n",
    "from statsmodels.tools.eval_measures import rmse\n",
    "\n",
    "# import various functions from scipy\n",
    "from scipy import stats\n",
    "from scipy.stats import shapiro\n",
    "\n",
    "# 'metrics' from sklearn is used for evaluating the model performance\n",
    "from sklearn.metrics import mean_absolute_error\n",
    "from sklearn.metrics import mean_squared_error\n",
    "from sklearn.preprocessing import StandardScaler,PowerTransformer\n",
    "from sklearn.model_selection import train_test_split,cross_val_score\n",
    "\n",
    "from sklearn.linear_model import LinearRegression, Ridge, Lasso, ElasticNet, SGDRegressor, HuberRegressor"
   ]
  },
  {
   "cell_type": "markdown",
   "id": "e6be18c7",
   "metadata": {},
   "source": [
    "### DATA_SET:\n",
    "\n",
    "The data (sample) were collected in São Paulo — Brazil, in a university area, where there are some parties with groups of students from 18 to 28 years of age (average). The dataset used for this activity has 7 attributes, being a Target, with period of one year.\n",
    "\n",
    "* date\n",
    "* average_temperature\n",
    "*  minimum_temperature\n",
    "* maximum_temperature\n",
    "* precipitation\n",
    "* weekend\n",
    "* beer_consumption (target attribute)\n"
   ]
  },
  {
   "cell_type": "markdown",
   "id": "57b599e3",
   "metadata": {},
   "source": [
    "### 1. Data Understanding (5 marks)\n",
    "\n",
    "a. Read the dataset (tab, csv, xls, txt, inbuilt dataset). What are the number of rows and no. of cols & types of variables (continuous, categorical etc.)? (1 MARK) \n",
    "\n",
    "b. Calculate five-point summary for numerical variables (1 MARK)\n",
    "\n",
    "c. Summarize observations for categorical variables – no. of categories, % observations in each category. (1 mark) \n",
    "\n",
    "d. Check for defects in the data such as missing values, null, outliers, etc. (2 marks) "
   ]
  },
  {
   "cell_type": "markdown",
   "id": "aa308266",
   "metadata": {},
   "source": [
    "### 2. Data Preparation (15 marks) \n",
    "\n",
    "a. Fix the defects found above and do appropriate treatment if any. (5 marks) \n",
    "\n",
    "b. Visualize the data using relevant plots. Find out the variables which are highly correlated with target variable? (5 marks) \n",
    "\n",
    "c. Do you want to exclude some variables from the model based on this analysis? What other actions will you take? (2 marks) \n",
    "\n",
    "d. Split dataset into train and test (70:30). Are both train and test representative of the overall data? How would you ascertain this statistically? (3 marks) \n",
    " "
   ]
  },
  {
   "cell_type": "markdown",
   "id": "033f2018",
   "metadata": {},
   "source": [
    "### 3. Model Building (20 marks) \n",
    "\n",
    "a. Fit a base model and observe the overall R- Squared, RMSE and MAPE values of the model. Please comment on whether it is good or not.  (5 marks) \n",
    "\n",
    "b. Check for multi-collinearity and treat the same. (3 marks) \n",
    "\n",
    "c. How would you improve the model? Write clearly the changes that you will make before refitting the model. Fit the final model.   (6 marks) \n",
    "\n",
    "d. Write down a business interpretation/explanation of the model – which variables are affecting the target the most and explain the relationship. Feel free to use charts or graphs to explain. (4 marks)  \n",
    "\n",
    "e. What changes from the base model had the most effect on model performance? (2 marks) "
   ]
  },
  {
   "cell_type": "markdown",
   "id": "c8619691",
   "metadata": {},
   "source": [
    "### DATA_SET:\n",
    "A Chinese automobile company Geely Auto contracted an automobile consulting company to understand the factors on which the pricing of cars depends. Specifically, they want to understand the factors affecting the pricing of cars in the American market, since those may be very different from the Chinese market. The company wants to know\n",
    "\n",
    "Based on various market surveys, the consulting firm has gathered a large dataset of different types of cars across the Americal market.\n",
    "* Car_ID==\t\t\tUnique id of each observation (Interger)\t\t\n",
    "* Symboling== \t\t\tIts assigned insurance risk rating, A value of +3 indicates that the auto is risky, -3 that it is probably pretty safe.(Categorical) \t\t\n",
    "* carCompany==\t\t\tName of car company (Categorical)\t\t\n",
    "* fueltype==\t\t\tCar fuel type i.e gas or diesel (Categorical)\t\t\n",
    "* aspiration==\t\t\tAspiration used in a car (Categorical)\t\t\n",
    "* doornumber==\t\t\tNumber of doors in a car (Categorical)\t\t\n",
    "* carbody==\t\t\tbody of car (Categorical)\t\t\n",
    "* drivewheel==\t\t\ttype of drive wheel (Categorical)\t\t\n",
    "* enginelocation==\t\t\tLocation of car engine (Categorical)\t\t\n",
    "* wheelbase==\t\t\tWeelbase of car (Numeric)\t\t\n",
    "* carlength==\t\t\tLength of car (Numeric)\t\t\n",
    "* carwidth==\t\t\tWidth of car (Numeric)\t\t\n",
    "* carheight==\t\t\theight of car (Numeric)\t\t\n",
    "* curbweight==\t\t\tThe weight of a car without occupants or baggage. (Numeric)\t\t\n",
    "* enginetype==\t\t\tType of engine. (Categorical)\t\t\n",
    "* cylindernumber==\t\t\tcylinder placed in the car (Categorical)\t\t\n",
    "* enginesize==\t\t\tSize of car (Numeric)\t\t\n",
    "* fuelsystem==\t\t\tFuel system of car (Categorical)\t\t\n",
    "* boreratio==\t\t\tBoreratio of car (Numeric)\t\t\n",
    "* stroke==\t\t\tStroke or volume inside the engine (Numeric)\t\t\n",
    "* compressionratio==\t\t\tcompression ratio of car (Numeric)\t\t\n",
    "* horsepower==\t\t\tHorsepower (Numeric)\t\t\n",
    "* peakrpm==\t\t\tcar peak rpm (Numeric)\t\t\n",
    "* citympg==\t\t\tMileage in city (Numeric)\t\t\n",
    "* highwaympg==\t\t\tMileage on highway (Numeric)\n",
    "* manufactured = car manufactured in country (Categorical)\n",
    "* price(Dependent variable)==\t\t\tPrice of car (Numeric)\t\t\n"
   ]
  },
  {
   "cell_type": "markdown",
   "id": "130c227c",
   "metadata": {},
   "source": [
    "### 1.\tData Understanding (5 marks)\n",
    "\n",
    "a.\tRead the dataset. What are the number of rows and no. of cols & types of variables (continuous, categorical etc.)? (1 MARK)\n",
    "\n",
    "b.\tCalculate five-point summary for numerical variables (1 MARK)\n",
    "\n",
    "c.\tSummarize observations for categorical variables – no. of categories, % observations in each category. (1 marks)\n",
    "\n",
    "d.\tCheck for defects in the data such as missing values, null, outliers, etc. (2 marks)\n"
   ]
  },
  {
   "cell_type": "markdown",
   "id": "c8210c94",
   "metadata": {},
   "source": [
    "### 2.\tData Preparation (15 marks)\n",
    "\n",
    "a.\tFix the defects found above and do appropriate treatment if any. (5 marks)\n",
    "\n",
    "b.\tVisualize the data using relevant plots. Find out the variables which are highly correlated with target variable? (5 marks)\n",
    "\n",
    "c.\tDo you want to exclude some variables from the model based on this analysis? What other actions will you take? (2 marks)\n",
    "\n",
    "d.\tSplit dataset into train and test (70:30). Are both train and test representative of the overall data?  (3 marks)\n"
   ]
  },
  {
   "cell_type": "markdown",
   "id": "f34c7eb6",
   "metadata": {},
   "source": [
    "### 3. Model Building (20 marks) \n",
    "\n",
    "a. Fit a base model and observe the overall R- Squared, RMSE and MAPE values of the model. Please comment on whether it is good or not.  (5 marks) \n",
    "\n",
    "b. Check for multi-collinearity and treat the same. (3 marks) \n",
    "\n",
    "c. How would you improve the model? Write clearly the changes that you will make before refitting the model. Fit the final model.   (6 marks) \n",
    "\n",
    "d. Write down a business interpretation/explanation of the model – which variables are affecting the target the most and explain the relationship. Feel free to use charts or graphs to explain. (4 marks)  \n",
    "\n",
    "e. What changes from the base model had the most effect on model performance? (2 marks) "
   ]
  },
  {
   "cell_type": "code",
   "execution_count": null,
   "id": "2156da76",
   "metadata": {},
   "outputs": [],
   "source": []
  }
 ],
 "metadata": {
  "kernelspec": {
   "display_name": "Python 3 (ipykernel)",
   "language": "python",
   "name": "python3"
  },
  "language_info": {
   "codemirror_mode": {
    "name": "ipython",
    "version": 3
   },
   "file_extension": ".py",
   "mimetype": "text/x-python",
   "name": "python",
   "nbconvert_exporter": "python",
   "pygments_lexer": "ipython3",
   "version": "3.11.3"
  }
 },
 "nbformat": 4,
 "nbformat_minor": 5
}
