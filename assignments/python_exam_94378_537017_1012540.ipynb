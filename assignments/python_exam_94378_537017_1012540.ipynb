{
 "cells": [
  {
   "cell_type": "markdown",
   "metadata": {
    "id": "7bFX4eN0o9Ma"
   },
   "source": [
    "<span style=\"font-family: Arial; font-weight:bold;font-size:1em;color:#f0f0f0;\">           \n",
    "    <span style=\"font-family: Arial; font-weight:bold;font-size:3em;color:#0a7a78;\">             Python for Data Science \n",
    "       -- Graded Assessment "
   ]
  },
  {
   "cell_type": "markdown",
   "metadata": {
    "id": "hEaO0m08o9Mh"
   },
   "source": [
    "   <span style=\"font-family: Arial; font-weight:bold;font-size:1.5em;color:#0a7a78;\">Time:3hrs                                                                                            &emsp;$\\;\\;\\;\\;\\;\\;$$\\;\\;\\;\\;\\;\\;$$\\;\\;\\;\\;\\;\\;$$\\;\\;\\;\\;\\;\\;$$\\;\\;\\;\\;\\;\\;$$\\;\\;\\;\\;\\;\\;$$\\;\\;\\;\\;\\;\\;$$\\;\\;\\;\\;\\;\\;$$\\;\\;\\;\\;\\;\\;$$\\;\\;\\;\\;\\;\\;$$\\;\\;\\;\\;\\;\\;$ $\\;\\;\\;\\;\\;\\;$$\\;\\;\\;\\;\\;\\;$$\\;\\;\\;\\;\\;\\;$Total Marks:  40 "
   ]
  },
  {
   "cell_type": "markdown",
   "metadata": {
    "id": "tbVOYseII9dY"
   },
   "source": [
    "<span style=\"font-family: Arial; font-weight:bold;font-size:1.5em;color:#0a7a78;\"> Section -A"
   ]
  },
  {
   "cell_type": "markdown",
   "metadata": {
    "id": "Y8qJbCgpI9dZ"
   },
   "source": [
    "<span style=\"font-family: Arial; font-weight:bold;font-size:1.5em;color:#0a7a78;\">1. (A) Write python program to reverse a given string using slicing.(1 mark)"
   ]
  },
  {
   "cell_type": "markdown",
   "metadata": {
    "id": "REFkXvh_I9da"
   },
   "source": [
    "**Sample:**     \n",
    "\n",
    "             INPUT:'Welcome'\n",
    "\n",
    "             OUTPUT:'emocleW'"
   ]
  },
  {
   "cell_type": "code",
   "execution_count": 2,
   "metadata": {},
   "outputs": [
    {
     "data": {
      "text/plain": [
       "'mocleW'"
      ]
     },
     "execution_count": 2,
     "metadata": {},
     "output_type": "execute_result"
    }
   ],
   "source": [
    "str1='Welcom'\n",
    "str1[::-1]"
   ]
  },
  {
   "cell_type": "markdown",
   "metadata": {
    "id": "EMIYohXhI9di"
   },
   "source": [
    "<span style=\"font-family: Arial; font-weight:bold;font-size:1.5em;color:#0a7a78;\">1. B) Write a python program to find the sum of the Series: 1 + 1/2 + 1/3 + ….. + 1/N.          (2 marks)"
   ]
  },
  {
   "cell_type": "markdown",
   "metadata": {
    "id": "0iYrPCoHI9dk"
   },
   "source": [
    "#### Python Code:\n"
   ]
  },
  {
   "cell_type": "code",
   "execution_count": null,
   "metadata": {
    "id": "EwqXRPP3I9dk",
    "outputId": "98b375aa-fa5f-4b4a-fa12-b96e35bf5f06"
   },
   "outputs": [],
   "source": []
  },
  {
   "cell_type": "markdown",
   "metadata": {
    "id": "MlSk-3uaI9dn"
   },
   "source": [
    "<span style=\"font-family: Arial; font-weight:bold;font-size:1.5em;color:#0a7a78;\">1. C)Write a program to divide 5 by 2 so that the output is \t\t(2 mark)\n",
    "\n",
    "\ta) 2\n",
    "\n",
    "\tb) 2.5\n"
   ]
  },
  {
   "cell_type": "code",
   "execution_count": 4,
   "metadata": {
    "id": "kFc4bY9TI9dn",
    "outputId": "b372056e-b32b-4cd9-8482-55332e3be0f8"
   },
   "outputs": [
    {
     "name": "stdout",
     "output_type": "stream",
     "text": [
      "2\n",
      "2.5\n"
     ]
    }
   ],
   "source": [
    "print(5//2)\n",
    "print(5/2)"
   ]
  },
  {
   "cell_type": "markdown",
   "metadata": {
    "id": "TFZhLpFjI9dq"
   },
   "source": [
    "<span style=\"font-family: Arial; font-weight:bold;font-size:1.5em;color:#0a7a78;\">2. A) Write a program to print the following number pattern.( 3 marks)\n",
    "  ##  1 \n",
    "  ##  1 2 \n",
    "  ##  1 2 3 \n",
    "  ##  1 2 3 4 \n",
    "  ##  1 2 3 4 5\n"
   ]
  },
  {
   "cell_type": "code",
   "execution_count": 44,
   "metadata": {
    "id": "zWLgMZmCI9dq",
    "outputId": "9170223c-e5b6-4bd6-e1f1-cdbbac45db16"
   },
   "outputs": [
    {
     "name": "stdout",
     "output_type": "stream",
     "text": [
      "\n",
      "1\t\n",
      "1\t2\t\n",
      "1\t2\t3\t\n",
      "1\t2\t3\t4\t\n",
      "1\t2\t3\t4\t5\t"
     ]
    }
   ],
   "source": [
    "n = 5\n",
    "for i in range(1,n+1):\n",
    "    print(end='\\n')\n",
    "    for i in range(i):\n",
    "        print(i+1,end='\\t')\n",
    "        \n",
    "\n",
    "        "
   ]
  },
  {
   "cell_type": "markdown",
   "metadata": {
    "id": "J4f2bBJrI9dv"
   },
   "source": [
    "<span style=\"font-family: Arial; font-weight:bold;font-size:1.5em;color:#0a7a78;\"> 2. B) Write a python program to print all letters except 'e' and 'l' in the string 'greatlearning' using while loop. (2 marks)"
   ]
  },
  {
   "cell_type": "code",
   "execution_count": 56,
   "metadata": {
    "id": "Rh2bA7m0I9dw",
    "outputId": "e0b4517d-b362-4d6f-cbdf-fa74edc37c7f"
   },
   "outputs": [
    {
     "name": "stdout",
     "output_type": "stream",
     "text": [
      "g\n",
      "r\n",
      "a\n",
      "t\n",
      "a\n",
      "r\n",
      "n\n",
      "i\n",
      "n\n",
      "g\n"
     ]
    }
   ],
   "source": [
    "str1='greatlearning'\n",
    "for i in str1:\n",
    "    str2='el'\n",
    "    if i in str2:\n",
    "        continue\n",
    "    print(i)\n",
    "    \n",
    "    "
   ]
  },
  {
   "cell_type": "markdown",
   "metadata": {
    "id": "sK7fBj9lI9d0"
   },
   "source": [
    "<span style=\"font-family: Arial; font-weight:bold;font-size:1.5em;color:#0a7a78;\"> 3. (A) Given two lists of integers, create a third list by user defined function such that it should contain only odd numbers from the first list and even numbers from the second list? \t\t\t\t\t\t\t\t(3 marks)\n",
    "\n",
    "\t* list1 = [10, 20, 23, 11, 17]\n",
    "\t* list2 = [13, 43, 24, 36, 12]\n",
    "    \n",
    "Sample Output:\n",
    "\n",
    "Merged List :\n",
    "[23, 11, 17, 24, 36, 12]\n",
    "\n"
   ]
  },
  {
   "cell_type": "code",
   "execution_count": 385,
   "metadata": {
    "id": "xrVw2oXzI9d1",
    "outputId": "4d86b42f-36bc-49e8-e6b4-9004e7a68ca1"
   },
   "outputs": [
    {
     "data": {
      "text/plain": [
       "[23, 11, 17, 24, 36, 12]"
      ]
     },
     "execution_count": 385,
     "metadata": {},
     "output_type": "execute_result"
    }
   ],
   "source": [
    "def listmagic():\n",
    " list1 = [10, 20, 23, 11, 17]\n",
    " list2 = [13, 43, 24, 36, 12]\n",
    " list3=[]\n",
    " for i in list1:\n",
    "        if i%2!=0:\n",
    "            list3.append(i)\n",
    " for y in list2:\n",
    "        if y %2==0:\n",
    "            list3.append(y)\n",
    " return list3\n",
    "\n",
    "listmagic()"
   ]
  },
  {
   "cell_type": "markdown",
   "metadata": {
    "id": "ecmvzWp-o9NH"
   },
   "source": [
    "<span style=\"font-family: Arial; font-weight:bold;font-size:1.5em;color:#0a7a78;\">3. B) Create a dictionary with the keys 1,2 and 3 with values 'Learning', 'For' and {A: Life, B:To , C: Great} respectively and update the value of 2 to 'Great Learning'. (2 marks)\n"
   ]
  },
  {
   "cell_type": "code",
   "execution_count": 124,
   "metadata": {
    "id": "8OwGbJM_I9d7",
    "outputId": "8e52e0c2-ca1e-4c66-e1f1-9371c09686b3"
   },
   "outputs": [
    {
     "data": {
      "text/plain": [
       "{'1': 'Learning', '2': 'For', '3': {'A': 'Life', 'B': 'To', 'C': 'Great'}}"
      ]
     },
     "execution_count": 124,
     "metadata": {},
     "output_type": "execute_result"
    }
   ],
   "source": [
    "dict1={'1':'Learning','2':'For','3':{'A':'Life','B':'To','C':'Great'}}\n",
    "dict1"
   ]
  },
  {
   "cell_type": "code",
   "execution_count": 126,
   "metadata": {
    "id": "w0qimsYCI9eB",
    "outputId": "ee3ff90c-64f8-4c5a-b262-03a94cb7f669"
   },
   "outputs": [],
   "source": [
    "dict1['2']='Great learning'"
   ]
  },
  {
   "cell_type": "code",
   "execution_count": 127,
   "metadata": {
    "id": "loZoKWHaJgna"
   },
   "outputs": [
    {
     "data": {
      "text/plain": [
       "{'1': 'Learning',\n",
       " '2': 'Great learning',\n",
       " '3': {'A': 'Life', 'B': 'To', 'C': 'Great'}}"
      ]
     },
     "execution_count": 127,
     "metadata": {},
     "output_type": "execute_result"
    }
   ],
   "source": [
    "dict1"
   ]
  },
  {
   "cell_type": "markdown",
   "metadata": {
    "id": "QRqXT1rAI9eH"
   },
   "source": [
    "<span style=\"font-family: Arial; font-weight:bold;font-size:1.5em;color:#0a7a78;\">4. (A) Create a scientific calculator using user defined function in python. The calculator should give a menu to the user asking the type of mathematical operation to be performed (1. Addition  2. Subtraction 3. Mulitiplication and 4. Division.  According to the choice of the user, operations are performed on the numbers entered. Any innovation in this basic calculator model will be given marks. \t\t(3 marks)\n",
    "\n",
    "SAMPLE INPUT:\n",
    "SCIENTIFIC CALCULATOR\n",
    "1.\tADDITION \t2. SUBTRATION\t3. MULTIPLICATION\t4. DIVISION\n",
    "Please select an option of your choice4\n",
    "Enter the first number23\n",
    "Enter the second number56\n",
    "SAMPLE OUTPUT:\n",
    "The division of the first number with the second number is 0.4107142857142857\n"
   ]
  },
  {
   "cell_type": "code",
   "execution_count": 139,
   "metadata": {
    "id": "4f3VC4brI9eI",
    "outputId": "16403b9e-7b51-4035-bfad-f9494d1c6966"
   },
   "outputs": [
    {
     "name": "stdout",
     "output_type": "stream",
     "text": [
      "please provid operation you want to do select one /,%,+,-*\n",
      "enter the first number: 23\n",
      "enter the second number: 56\n"
     ]
    },
    {
     "data": {
      "text/plain": [
       "1288"
      ]
     },
     "execution_count": 139,
     "metadata": {},
     "output_type": "execute_result"
    }
   ],
   "source": [
    "def calcy():\n",
    "    operator = input('please provid operation you want to do select one *,%,+,-')\n",
    "    num1=int(input('enter the first number: '))\n",
    "    num2=int(input('enter the second number: '))\n",
    "    if operator=='+':\n",
    "        print(operator)\n",
    "    return num1 + num2 if operator=='+' else num1*num2 if operator=='*' else num1%num2 if operator=='%' else num1-num2 if num1>num2 else 'cant subsctract bigger number from smaller'\n",
    "calcy()"
   ]
  },
  {
   "cell_type": "code",
   "execution_count": null,
   "metadata": {},
   "outputs": [],
   "source": []
  },
  {
   "cell_type": "markdown",
   "metadata": {
    "id": "RzwOCKspI9eE"
   },
   "source": [
    "<span style=\"font-family: Arial; font-weight:bold;font-size:1.5em;color:#0a7a78;\">4. B) Write a program to print the sum of squares of first 10 natural numbers using lambda, map and reduce.(2 marks)\n",
    "\n"
   ]
  },
  {
   "cell_type": "code",
   "execution_count": 396,
   "metadata": {
    "id": "8_ggZtm0I9eE",
    "outputId": "644ae855-7252-47d3-acc1-296ccb24b0ae"
   },
   "outputs": [
    {
     "name": "stdout",
     "output_type": "stream",
     "text": [
      "667\n"
     ]
    }
   ],
   "source": [
    "# i dont know what is natural numbers but will try with random numbers\n",
    "a=[1,2,3,5,7,11,13,17]\n",
    "b=[]\n",
    "for i in a:\n",
    "    b.append(i**2)\n",
    "print(sum(b))"
   ]
  },
  {
   "cell_type": "code",
   "execution_count": 405,
   "metadata": {},
   "outputs": [
    {
     "ename": "SyntaxError",
     "evalue": "invalid syntax (<ipython-input-405-bbc5f3716ba6>, line 2)",
     "output_type": "error",
     "traceback": [
      "\u001b[0;36m  File \u001b[0;32m\"<ipython-input-405-bbc5f3716ba6>\"\u001b[0;36m, line \u001b[0;32m2\u001b[0m\n\u001b[0;31m    b.(x**2 for x in a)\u001b[0m\n\u001b[0m      ^\u001b[0m\n\u001b[0;31mSyntaxError\u001b[0m\u001b[0;31m:\u001b[0m invalid syntax\n"
     ]
    }
   ],
   "source": [
    "a=[1,2,3,5,7,11,13,17]\n",
    "b.\n",
    "print(sum(b))"
   ]
  },
  {
   "cell_type": "markdown",
   "metadata": {
    "id": "7lvi7llrI9eK"
   },
   "source": [
    "<span style=\"font-family: Arial; font-weight:bold;font-size:1.5em;color:#0a7a78;\"> Section -B"
   ]
  },
  {
   "cell_type": "code",
   "execution_count": 151,
   "metadata": {
    "id": "8gPGpCv-3Nzs"
   },
   "outputs": [],
   "source": [
    "import numpy as np \n",
    "import pandas as pd\n",
    "%matplotlib inline\n",
    "import matplotlib.pyplot as plt\n",
    "import math\n",
    "import seaborn as sns"
   ]
  },
  {
   "cell_type": "markdown",
   "metadata": {
    "id": "UNkViNblI9eN"
   },
   "source": [
    "###     5.   Do the following:  (5 Marks)\n",
    "        (i)  Create an array of 12 random integers using step size of 1.\n",
    "        (ii) Use the array created above to increase all the elements in the array by 1.\n",
    "        (iii)Sort the elements in the array using in-built function.\n",
    "        (iv) Reshape the array to 3 rows and 4 columns.\n",
    "        (v)  Display the element in the 2nd row 3rd column."
   ]
  },
  {
   "cell_type": "code",
   "execution_count": 193,
   "metadata": {
    "id": "UX6Gz085I9eO",
    "outputId": "0d4b4f7f-58b9-480f-9dfc-f1133a9bfa15"
   },
   "outputs": [
    {
     "data": {
      "text/plain": [
       "array([93, 50, 83, 64, 41, 86, 49, 35, 61, 16, 55, 22])"
      ]
     },
     "execution_count": 193,
     "metadata": {},
     "output_type": "execute_result"
    }
   ],
   "source": [
    "np.random.seed(23)\n",
    "a=np.random.randint(10,100,12)\n",
    "a"
   ]
  },
  {
   "cell_type": "code",
   "execution_count": 194,
   "metadata": {
    "id": "1jCAcSt6I9eR"
   },
   "outputs": [
    {
     "data": {
      "text/plain": [
       "array([94, 51, 84, 65, 42, 87, 50, 36, 62, 17, 56, 23])"
      ]
     },
     "execution_count": 194,
     "metadata": {},
     "output_type": "execute_result"
    }
   ],
   "source": [
    "a=a+1\n",
    "a"
   ]
  },
  {
   "cell_type": "code",
   "execution_count": 196,
   "metadata": {},
   "outputs": [
    {
     "data": {
      "text/plain": [
       "array([17, 23, 36, 42, 50, 51, 56, 62, 65, 84, 87, 94])"
      ]
     },
     "execution_count": 196,
     "metadata": {},
     "output_type": "execute_result"
    }
   ],
   "source": [
    "a.sort()\n",
    "a"
   ]
  },
  {
   "cell_type": "code",
   "execution_count": 197,
   "metadata": {},
   "outputs": [
    {
     "name": "stdout",
     "output_type": "stream",
     "text": [
      "[[17 23 36 42]\n",
      " [50 51 56 62]\n",
      " [65 84 87 94]]\n"
     ]
    }
   ],
   "source": [
    "print(a.reshape(3,4))"
   ]
  },
  {
   "cell_type": "code",
   "execution_count": 198,
   "metadata": {},
   "outputs": [
    {
     "data": {
      "text/plain": [
       "56"
      ]
     },
     "execution_count": 198,
     "metadata": {},
     "output_type": "execute_result"
    }
   ],
   "source": [
    "a.reshape(3,4)[1][2]"
   ]
  },
  {
   "cell_type": "code",
   "execution_count": 191,
   "metadata": {
    "id": "06Sqw46YI9eU",
    "outputId": "3a83d24e-cb15-4f54-8afe-acb5dd69418d"
   },
   "outputs": [
    {
     "data": {
      "text/plain": [
       "55"
      ]
     },
     "execution_count": 191,
     "metadata": {},
     "output_type": "execute_result"
    }
   ],
   "source": [
    "#"
   ]
  },
  {
   "cell_type": "markdown",
   "metadata": {
    "id": "MOuJBVKpI9eZ"
   },
   "source": [
    "###     6.   Do the following:  (15 Marks)\n",
    " (i)  Drop the Patient id column (2 marks)<br>\n",
    " (ii) Plot an appropriate diagram to visualise the Age distribution over different blood_group type.Comment on your        observation.(3 Marks)<br>\n",
    " (iii)Display the unique values in addiction column, How many different addiction types are mentioned in dataset (3 Marks)<br>\n",
    " (iv) Display a cross table with Diabetes type and survived status. (2 marks)<br>\n",
    " (v)  Calculate average Hemoglobin level for male and female separately. Count the number of male and female with Hemoglobin less than 10 (5 Marks)<br>"
   ]
  },
  {
   "cell_type": "markdown",
   "metadata": {
    "id": "k1soii0ekIb9"
   },
   "source": [
    "###     6.   \n",
    " (i)  Drop the Patient id column (2 marks)<br>\n"
   ]
  },
  {
   "cell_type": "code",
   "execution_count": 204,
   "metadata": {},
   "outputs": [
    {
     "data": {
      "text/html": [
       "<div>\n",
       "<style scoped>\n",
       "    .dataframe tbody tr th:only-of-type {\n",
       "        vertical-align: middle;\n",
       "    }\n",
       "\n",
       "    .dataframe tbody tr th {\n",
       "        vertical-align: top;\n",
       "    }\n",
       "\n",
       "    .dataframe thead th {\n",
       "        text-align: right;\n",
       "    }\n",
       "</style>\n",
       "<table border=\"1\" class=\"dataframe\">\n",
       "  <thead>\n",
       "    <tr style=\"text-align: right;\">\n",
       "      <th></th>\n",
       "      <th>Age</th>\n",
       "      <th>Sex</th>\n",
       "      <th>cp</th>\n",
       "      <th>trtbps</th>\n",
       "      <th>chol</th>\n",
       "      <th>fbs</th>\n",
       "      <th>restecg</th>\n",
       "      <th>thalachh</th>\n",
       "      <th>Addiction</th>\n",
       "      <th>keratin_type</th>\n",
       "      <th>Diabetestype</th>\n",
       "      <th>Hemoglobin</th>\n",
       "      <th>blood_grp</th>\n",
       "      <th>Immunity</th>\n",
       "      <th>Affected_portion_lungs</th>\n",
       "      <th>Breath_ratio</th>\n",
       "      <th>Survive_status</th>\n",
       "    </tr>\n",
       "  </thead>\n",
       "  <tbody>\n",
       "    <tr>\n",
       "      <th>0</th>\n",
       "      <td>45</td>\n",
       "      <td>Male</td>\n",
       "      <td>1</td>\n",
       "      <td>18.446340</td>\n",
       "      <td>264.022967</td>\n",
       "      <td>2</td>\n",
       "      <td>2</td>\n",
       "      <td>115.959625</td>\n",
       "      <td>Drug-type B</td>\n",
       "      <td>1</td>\n",
       "      <td>type 1</td>\n",
       "      <td>10</td>\n",
       "      <td>O+</td>\n",
       "      <td>1</td>\n",
       "      <td>19.189730</td>\n",
       "      <td>36.71</td>\n",
       "      <td>Survived</td>\n",
       "    </tr>\n",
       "    <tr>\n",
       "      <th>1</th>\n",
       "      <td>45</td>\n",
       "      <td>Female</td>\n",
       "      <td>1</td>\n",
       "      <td>8.467375</td>\n",
       "      <td>255.918947</td>\n",
       "      <td>3</td>\n",
       "      <td>2</td>\n",
       "      <td>113.143735</td>\n",
       "      <td>Alcohol</td>\n",
       "      <td>3</td>\n",
       "      <td>type 2</td>\n",
       "      <td>8</td>\n",
       "      <td>O+</td>\n",
       "      <td>3</td>\n",
       "      <td>31.653627</td>\n",
       "      <td>36.84</td>\n",
       "      <td>Passed away</td>\n",
       "    </tr>\n",
       "    <tr>\n",
       "      <th>2</th>\n",
       "      <td>46</td>\n",
       "      <td>Male</td>\n",
       "      <td>1</td>\n",
       "      <td>12.533739</td>\n",
       "      <td>245.116139</td>\n",
       "      <td>3</td>\n",
       "      <td>1</td>\n",
       "      <td>126.776133</td>\n",
       "      <td>others</td>\n",
       "      <td>2</td>\n",
       "      <td>type 1</td>\n",
       "      <td>6</td>\n",
       "      <td>B-</td>\n",
       "      <td>2</td>\n",
       "      <td>48.627739</td>\n",
       "      <td>39.65</td>\n",
       "      <td>Survived</td>\n",
       "    </tr>\n",
       "    <tr>\n",
       "      <th>3</th>\n",
       "      <td>48</td>\n",
       "      <td>Male</td>\n",
       "      <td>0</td>\n",
       "      <td>16.737750</td>\n",
       "      <td>238.303832</td>\n",
       "      <td>3</td>\n",
       "      <td>0</td>\n",
       "      <td>119.382735</td>\n",
       "      <td>Nicotine - type B</td>\n",
       "      <td>1</td>\n",
       "      <td>type 1</td>\n",
       "      <td>10</td>\n",
       "      <td>B+</td>\n",
       "      <td>1</td>\n",
       "      <td>44.974129</td>\n",
       "      <td>10.44</td>\n",
       "      <td>Survived</td>\n",
       "    </tr>\n",
       "    <tr>\n",
       "      <th>4</th>\n",
       "      <td>46</td>\n",
       "      <td>Male</td>\n",
       "      <td>1</td>\n",
       "      <td>18.711368</td>\n",
       "      <td>239.989524</td>\n",
       "      <td>0</td>\n",
       "      <td>0</td>\n",
       "      <td>115.050564</td>\n",
       "      <td>Drug-type C</td>\n",
       "      <td>1</td>\n",
       "      <td>type 1</td>\n",
       "      <td>7</td>\n",
       "      <td>B+</td>\n",
       "      <td>1</td>\n",
       "      <td>53.142999</td>\n",
       "      <td>45.50</td>\n",
       "      <td>Survived</td>\n",
       "    </tr>\n",
       "    <tr>\n",
       "      <th>...</th>\n",
       "      <td>...</td>\n",
       "      <td>...</td>\n",
       "      <td>...</td>\n",
       "      <td>...</td>\n",
       "      <td>...</td>\n",
       "      <td>...</td>\n",
       "      <td>...</td>\n",
       "      <td>...</td>\n",
       "      <td>...</td>\n",
       "      <td>...</td>\n",
       "      <td>...</td>\n",
       "      <td>...</td>\n",
       "      <td>...</td>\n",
       "      <td>...</td>\n",
       "      <td>...</td>\n",
       "      <td>...</td>\n",
       "      <td>...</td>\n",
       "    </tr>\n",
       "    <tr>\n",
       "      <th>165</th>\n",
       "      <td>38</td>\n",
       "      <td>Male</td>\n",
       "      <td>3</td>\n",
       "      <td>21.871422</td>\n",
       "      <td>254.059725</td>\n",
       "      <td>2</td>\n",
       "      <td>0</td>\n",
       "      <td>120.153187</td>\n",
       "      <td>Nicotine - type B</td>\n",
       "      <td>1</td>\n",
       "      <td>type 1</td>\n",
       "      <td>12</td>\n",
       "      <td>O-</td>\n",
       "      <td>2</td>\n",
       "      <td>52.954861</td>\n",
       "      <td>46.29</td>\n",
       "      <td>Survived</td>\n",
       "    </tr>\n",
       "    <tr>\n",
       "      <th>166</th>\n",
       "      <td>42</td>\n",
       "      <td>Male</td>\n",
       "      <td>3</td>\n",
       "      <td>9.365359</td>\n",
       "      <td>235.413982</td>\n",
       "      <td>3</td>\n",
       "      <td>2</td>\n",
       "      <td>122.391261</td>\n",
       "      <td>Drug-type B</td>\n",
       "      <td>2</td>\n",
       "      <td>type 1</td>\n",
       "      <td>9</td>\n",
       "      <td>B+</td>\n",
       "      <td>2</td>\n",
       "      <td>41.217986</td>\n",
       "      <td>49.88</td>\n",
       "      <td>Survived</td>\n",
       "    </tr>\n",
       "    <tr>\n",
       "      <th>167</th>\n",
       "      <td>38</td>\n",
       "      <td>Female</td>\n",
       "      <td>1</td>\n",
       "      <td>17.115748</td>\n",
       "      <td>249.453278</td>\n",
       "      <td>2</td>\n",
       "      <td>1</td>\n",
       "      <td>99.302156</td>\n",
       "      <td>Alcohol</td>\n",
       "      <td>2</td>\n",
       "      <td>type 1</td>\n",
       "      <td>13</td>\n",
       "      <td>AB-</td>\n",
       "      <td>2</td>\n",
       "      <td>29.850714</td>\n",
       "      <td>51.21</td>\n",
       "      <td>Survived</td>\n",
       "    </tr>\n",
       "    <tr>\n",
       "      <th>168</th>\n",
       "      <td>44</td>\n",
       "      <td>Male</td>\n",
       "      <td>3</td>\n",
       "      <td>15.268461</td>\n",
       "      <td>262.764098</td>\n",
       "      <td>1</td>\n",
       "      <td>0</td>\n",
       "      <td>111.037924</td>\n",
       "      <td>Alcohol</td>\n",
       "      <td>1</td>\n",
       "      <td>type 1</td>\n",
       "      <td>6</td>\n",
       "      <td>O+</td>\n",
       "      <td>4</td>\n",
       "      <td>52.586692</td>\n",
       "      <td>51.25</td>\n",
       "      <td>Survived</td>\n",
       "    </tr>\n",
       "    <tr>\n",
       "      <th>169</th>\n",
       "      <td>44</td>\n",
       "      <td>Female</td>\n",
       "      <td>1</td>\n",
       "      <td>21.650905</td>\n",
       "      <td>241.515084</td>\n",
       "      <td>2</td>\n",
       "      <td>0</td>\n",
       "      <td>111.843023</td>\n",
       "      <td>Drug-type A</td>\n",
       "      <td>2</td>\n",
       "      <td>type 2</td>\n",
       "      <td>11</td>\n",
       "      <td>O-</td>\n",
       "      <td>4</td>\n",
       "      <td>44.792670</td>\n",
       "      <td>53.09</td>\n",
       "      <td>Survived</td>\n",
       "    </tr>\n",
       "  </tbody>\n",
       "</table>\n",
       "<p>170 rows × 17 columns</p>\n",
       "</div>"
      ],
      "text/plain": [
       "     Age     Sex  cp     trtbps        chol  fbs  restecg    thalachh  \\\n",
       "0     45    Male   1  18.446340  264.022967    2        2  115.959625   \n",
       "1     45  Female   1   8.467375  255.918947    3        2  113.143735   \n",
       "2     46    Male   1  12.533739  245.116139    3        1  126.776133   \n",
       "3     48    Male   0  16.737750  238.303832    3        0  119.382735   \n",
       "4     46    Male   1  18.711368  239.989524    0        0  115.050564   \n",
       "..   ...     ...  ..        ...         ...  ...      ...         ...   \n",
       "165   38    Male   3  21.871422  254.059725    2        0  120.153187   \n",
       "166   42    Male   3   9.365359  235.413982    3        2  122.391261   \n",
       "167   38  Female   1  17.115748  249.453278    2        1   99.302156   \n",
       "168   44    Male   3  15.268461  262.764098    1        0  111.037924   \n",
       "169   44  Female   1  21.650905  241.515084    2        0  111.843023   \n",
       "\n",
       "             Addiction  keratin_type Diabetestype  Hemoglobin blood_grp  \\\n",
       "0          Drug-type B             1       type 1          10        O+   \n",
       "1              Alcohol             3       type 2           8        O+   \n",
       "2               others             2       type 1           6        B-   \n",
       "3    Nicotine - type B             1       type 1          10        B+   \n",
       "4          Drug-type C             1       type 1           7        B+   \n",
       "..                 ...           ...          ...         ...       ...   \n",
       "165  Nicotine - type B             1       type 1          12        O-   \n",
       "166        Drug-type B             2       type 1           9        B+   \n",
       "167            Alcohol             2       type 1          13       AB-   \n",
       "168            Alcohol             1       type 1           6        O+   \n",
       "169        Drug-type A             2       type 2          11        O-   \n",
       "\n",
       "     Immunity  Affected_portion_lungs  Breath_ratio Survive_status  \n",
       "0           1               19.189730         36.71       Survived  \n",
       "1           3               31.653627         36.84    Passed away  \n",
       "2           2               48.627739         39.65       Survived  \n",
       "3           1               44.974129         10.44       Survived  \n",
       "4           1               53.142999         45.50       Survived  \n",
       "..        ...                     ...           ...            ...  \n",
       "165         2               52.954861         46.29       Survived  \n",
       "166         2               41.217986         49.88       Survived  \n",
       "167         2               29.850714         51.21       Survived  \n",
       "168         4               52.586692         51.25       Survived  \n",
       "169         4               44.792670         53.09       Survived  \n",
       "\n",
       "[170 rows x 17 columns]"
      ]
     },
     "execution_count": 204,
     "metadata": {},
     "output_type": "execute_result"
    }
   ],
   "source": [
    "df1=pd.read_csv('data_set.csv')\n",
    "df2=df1.drop(labels='pid',axis=1)\n",
    "df2"
   ]
  },
  {
   "cell_type": "code",
   "execution_count": 214,
   "metadata": {},
   "outputs": [
    {
     "data": {
      "text/html": [
       "<div>\n",
       "<style scoped>\n",
       "    .dataframe tbody tr th:only-of-type {\n",
       "        vertical-align: middle;\n",
       "    }\n",
       "\n",
       "    .dataframe tbody tr th {\n",
       "        vertical-align: top;\n",
       "    }\n",
       "\n",
       "    .dataframe thead th {\n",
       "        text-align: right;\n",
       "    }\n",
       "</style>\n",
       "<table border=\"1\" class=\"dataframe\">\n",
       "  <thead>\n",
       "    <tr style=\"text-align: right;\">\n",
       "      <th></th>\n",
       "      <th>Age</th>\n",
       "      <th>Sex</th>\n",
       "      <th>cp</th>\n",
       "      <th>trtbps</th>\n",
       "      <th>chol</th>\n",
       "      <th>fbs</th>\n",
       "      <th>restecg</th>\n",
       "      <th>thalachh</th>\n",
       "      <th>Addiction</th>\n",
       "      <th>keratin_type</th>\n",
       "      <th>Diabetestype</th>\n",
       "      <th>Hemoglobin</th>\n",
       "      <th>blood_grp</th>\n",
       "      <th>Immunity</th>\n",
       "      <th>Affected_portion_lungs</th>\n",
       "      <th>Breath_ratio</th>\n",
       "      <th>Survive_status</th>\n",
       "    </tr>\n",
       "  </thead>\n",
       "  <tbody>\n",
       "    <tr>\n",
       "      <th>0</th>\n",
       "      <td>45</td>\n",
       "      <td>Male</td>\n",
       "      <td>1</td>\n",
       "      <td>18.446340</td>\n",
       "      <td>264.022967</td>\n",
       "      <td>2</td>\n",
       "      <td>2</td>\n",
       "      <td>115.959625</td>\n",
       "      <td>Drug-type B</td>\n",
       "      <td>1</td>\n",
       "      <td>type 1</td>\n",
       "      <td>10</td>\n",
       "      <td>O+</td>\n",
       "      <td>1</td>\n",
       "      <td>19.189730</td>\n",
       "      <td>36.71</td>\n",
       "      <td>Survived</td>\n",
       "    </tr>\n",
       "    <tr>\n",
       "      <th>1</th>\n",
       "      <td>45</td>\n",
       "      <td>Female</td>\n",
       "      <td>1</td>\n",
       "      <td>8.467375</td>\n",
       "      <td>255.918947</td>\n",
       "      <td>3</td>\n",
       "      <td>2</td>\n",
       "      <td>113.143735</td>\n",
       "      <td>Alcohol</td>\n",
       "      <td>3</td>\n",
       "      <td>type 2</td>\n",
       "      <td>8</td>\n",
       "      <td>O+</td>\n",
       "      <td>3</td>\n",
       "      <td>31.653627</td>\n",
       "      <td>36.84</td>\n",
       "      <td>Passed away</td>\n",
       "    </tr>\n",
       "    <tr>\n",
       "      <th>2</th>\n",
       "      <td>46</td>\n",
       "      <td>Male</td>\n",
       "      <td>1</td>\n",
       "      <td>12.533739</td>\n",
       "      <td>245.116139</td>\n",
       "      <td>3</td>\n",
       "      <td>1</td>\n",
       "      <td>126.776133</td>\n",
       "      <td>others</td>\n",
       "      <td>2</td>\n",
       "      <td>type 1</td>\n",
       "      <td>6</td>\n",
       "      <td>B-</td>\n",
       "      <td>2</td>\n",
       "      <td>48.627739</td>\n",
       "      <td>39.65</td>\n",
       "      <td>Survived</td>\n",
       "    </tr>\n",
       "    <tr>\n",
       "      <th>3</th>\n",
       "      <td>48</td>\n",
       "      <td>Male</td>\n",
       "      <td>0</td>\n",
       "      <td>16.737750</td>\n",
       "      <td>238.303832</td>\n",
       "      <td>3</td>\n",
       "      <td>0</td>\n",
       "      <td>119.382735</td>\n",
       "      <td>Nicotine - type B</td>\n",
       "      <td>1</td>\n",
       "      <td>type 1</td>\n",
       "      <td>10</td>\n",
       "      <td>B+</td>\n",
       "      <td>1</td>\n",
       "      <td>44.974129</td>\n",
       "      <td>10.44</td>\n",
       "      <td>Survived</td>\n",
       "    </tr>\n",
       "    <tr>\n",
       "      <th>4</th>\n",
       "      <td>46</td>\n",
       "      <td>Male</td>\n",
       "      <td>1</td>\n",
       "      <td>18.711368</td>\n",
       "      <td>239.989524</td>\n",
       "      <td>0</td>\n",
       "      <td>0</td>\n",
       "      <td>115.050564</td>\n",
       "      <td>Drug-type C</td>\n",
       "      <td>1</td>\n",
       "      <td>type 1</td>\n",
       "      <td>7</td>\n",
       "      <td>B+</td>\n",
       "      <td>1</td>\n",
       "      <td>53.142999</td>\n",
       "      <td>45.50</td>\n",
       "      <td>Survived</td>\n",
       "    </tr>\n",
       "    <tr>\n",
       "      <th>...</th>\n",
       "      <td>...</td>\n",
       "      <td>...</td>\n",
       "      <td>...</td>\n",
       "      <td>...</td>\n",
       "      <td>...</td>\n",
       "      <td>...</td>\n",
       "      <td>...</td>\n",
       "      <td>...</td>\n",
       "      <td>...</td>\n",
       "      <td>...</td>\n",
       "      <td>...</td>\n",
       "      <td>...</td>\n",
       "      <td>...</td>\n",
       "      <td>...</td>\n",
       "      <td>...</td>\n",
       "      <td>...</td>\n",
       "      <td>...</td>\n",
       "    </tr>\n",
       "    <tr>\n",
       "      <th>165</th>\n",
       "      <td>38</td>\n",
       "      <td>Male</td>\n",
       "      <td>3</td>\n",
       "      <td>21.871422</td>\n",
       "      <td>254.059725</td>\n",
       "      <td>2</td>\n",
       "      <td>0</td>\n",
       "      <td>120.153187</td>\n",
       "      <td>Nicotine - type B</td>\n",
       "      <td>1</td>\n",
       "      <td>type 1</td>\n",
       "      <td>12</td>\n",
       "      <td>O-</td>\n",
       "      <td>2</td>\n",
       "      <td>52.954861</td>\n",
       "      <td>46.29</td>\n",
       "      <td>Survived</td>\n",
       "    </tr>\n",
       "    <tr>\n",
       "      <th>166</th>\n",
       "      <td>42</td>\n",
       "      <td>Male</td>\n",
       "      <td>3</td>\n",
       "      <td>9.365359</td>\n",
       "      <td>235.413982</td>\n",
       "      <td>3</td>\n",
       "      <td>2</td>\n",
       "      <td>122.391261</td>\n",
       "      <td>Drug-type B</td>\n",
       "      <td>2</td>\n",
       "      <td>type 1</td>\n",
       "      <td>9</td>\n",
       "      <td>B+</td>\n",
       "      <td>2</td>\n",
       "      <td>41.217986</td>\n",
       "      <td>49.88</td>\n",
       "      <td>Survived</td>\n",
       "    </tr>\n",
       "    <tr>\n",
       "      <th>167</th>\n",
       "      <td>38</td>\n",
       "      <td>Female</td>\n",
       "      <td>1</td>\n",
       "      <td>17.115748</td>\n",
       "      <td>249.453278</td>\n",
       "      <td>2</td>\n",
       "      <td>1</td>\n",
       "      <td>99.302156</td>\n",
       "      <td>Alcohol</td>\n",
       "      <td>2</td>\n",
       "      <td>type 1</td>\n",
       "      <td>13</td>\n",
       "      <td>AB-</td>\n",
       "      <td>2</td>\n",
       "      <td>29.850714</td>\n",
       "      <td>51.21</td>\n",
       "      <td>Survived</td>\n",
       "    </tr>\n",
       "    <tr>\n",
       "      <th>168</th>\n",
       "      <td>44</td>\n",
       "      <td>Male</td>\n",
       "      <td>3</td>\n",
       "      <td>15.268461</td>\n",
       "      <td>262.764098</td>\n",
       "      <td>1</td>\n",
       "      <td>0</td>\n",
       "      <td>111.037924</td>\n",
       "      <td>Alcohol</td>\n",
       "      <td>1</td>\n",
       "      <td>type 1</td>\n",
       "      <td>6</td>\n",
       "      <td>O+</td>\n",
       "      <td>4</td>\n",
       "      <td>52.586692</td>\n",
       "      <td>51.25</td>\n",
       "      <td>Survived</td>\n",
       "    </tr>\n",
       "    <tr>\n",
       "      <th>169</th>\n",
       "      <td>44</td>\n",
       "      <td>Female</td>\n",
       "      <td>1</td>\n",
       "      <td>21.650905</td>\n",
       "      <td>241.515084</td>\n",
       "      <td>2</td>\n",
       "      <td>0</td>\n",
       "      <td>111.843023</td>\n",
       "      <td>Drug-type A</td>\n",
       "      <td>2</td>\n",
       "      <td>type 2</td>\n",
       "      <td>11</td>\n",
       "      <td>O-</td>\n",
       "      <td>4</td>\n",
       "      <td>44.792670</td>\n",
       "      <td>53.09</td>\n",
       "      <td>Survived</td>\n",
       "    </tr>\n",
       "  </tbody>\n",
       "</table>\n",
       "<p>170 rows × 17 columns</p>\n",
       "</div>"
      ],
      "text/plain": [
       "     Age     Sex  cp     trtbps        chol  fbs  restecg    thalachh  \\\n",
       "0     45    Male   1  18.446340  264.022967    2        2  115.959625   \n",
       "1     45  Female   1   8.467375  255.918947    3        2  113.143735   \n",
       "2     46    Male   1  12.533739  245.116139    3        1  126.776133   \n",
       "3     48    Male   0  16.737750  238.303832    3        0  119.382735   \n",
       "4     46    Male   1  18.711368  239.989524    0        0  115.050564   \n",
       "..   ...     ...  ..        ...         ...  ...      ...         ...   \n",
       "165   38    Male   3  21.871422  254.059725    2        0  120.153187   \n",
       "166   42    Male   3   9.365359  235.413982    3        2  122.391261   \n",
       "167   38  Female   1  17.115748  249.453278    2        1   99.302156   \n",
       "168   44    Male   3  15.268461  262.764098    1        0  111.037924   \n",
       "169   44  Female   1  21.650905  241.515084    2        0  111.843023   \n",
       "\n",
       "             Addiction  keratin_type Diabetestype  Hemoglobin blood_grp  \\\n",
       "0          Drug-type B             1       type 1          10        O+   \n",
       "1              Alcohol             3       type 2           8        O+   \n",
       "2               others             2       type 1           6        B-   \n",
       "3    Nicotine - type B             1       type 1          10        B+   \n",
       "4          Drug-type C             1       type 1           7        B+   \n",
       "..                 ...           ...          ...         ...       ...   \n",
       "165  Nicotine - type B             1       type 1          12        O-   \n",
       "166        Drug-type B             2       type 1           9        B+   \n",
       "167            Alcohol             2       type 1          13       AB-   \n",
       "168            Alcohol             1       type 1           6        O+   \n",
       "169        Drug-type A             2       type 2          11        O-   \n",
       "\n",
       "     Immunity  Affected_portion_lungs  Breath_ratio Survive_status  \n",
       "0           1               19.189730         36.71       Survived  \n",
       "1           3               31.653627         36.84    Passed away  \n",
       "2           2               48.627739         39.65       Survived  \n",
       "3           1               44.974129         10.44       Survived  \n",
       "4           1               53.142999         45.50       Survived  \n",
       "..        ...                     ...           ...            ...  \n",
       "165         2               52.954861         46.29       Survived  \n",
       "166         2               41.217986         49.88       Survived  \n",
       "167         2               29.850714         51.21       Survived  \n",
       "168         4               52.586692         51.25       Survived  \n",
       "169         4               44.792670         53.09       Survived  \n",
       "\n",
       "[170 rows x 17 columns]"
      ]
     },
     "execution_count": 214,
     "metadata": {},
     "output_type": "execute_result"
    }
   ],
   "source": [
    "df2"
   ]
  },
  {
   "cell_type": "markdown",
   "metadata": {
    "id": "7lf8ZeXakIb-"
   },
   "source": [
    "###     6.  \n",
    " (ii) Plot an appropriate diagram to visualise the Age distribution over different blood_group type.Comment on your        observation.(3 Marks)<br>"
   ]
  },
  {
   "cell_type": "code",
   "execution_count": 380,
   "metadata": {
    "id": "vZE-qSz73N1A",
    "outputId": "8ba23838-2d72-4446-b79d-8eaf2f5affdd"
   },
   "outputs": [
    {
     "data": {
      "text/plain": [
       "<matplotlib.axes._subplots.AxesSubplot at 0x7fafff94c080>"
      ]
     },
     "execution_count": 380,
     "metadata": {},
     "output_type": "execute_result"
    },
    {
     "data": {
      "image/png": "[encoded data removed]",
      "text/plain": [
       "<Figure size 432x288 with 1 Axes>"
      ]
     },
     "metadata": {
      "needs_background": "light"
     },
     "output_type": "display_data"
    }
   ],
   "source": [
    "\n",
    "bloodgroups\n",
    "df001=df1[df1.blood_grp =='O+']\n",
    "df002=df1[df1.blood_grp =='O-']\n",
    "df003=df1[df1.blood_grp =='A-']\n",
    "df004=df1[df1.blood_grp =='A+']\n",
    "sns.distplot(df001.Age,kde=False)\n",
    "sns.distplot(df002.Age,kde=False)\n",
    "sns.distplot(df003.Age,kde=False)\n",
    "sns.distplot(df004.Age,kde=False)"
   ]
  },
  {
   "cell_type": "code",
   "execution_count": null,
   "metadata": {},
   "outputs": [],
   "source": [
    "#observations : \n",
    "#we have example 5 catagories so we need to find distribution of all age group in each blood group type"
   ]
  },
  {
   "cell_type": "markdown",
   "metadata": {
    "id": "IxOqXmRCkIb-"
   },
   "source": [
    "###     6.   \n",
    " (iii)Display the unique values in addiction column, How many different addiction types are mentioned in dataset (3 Marks)<br>\n"
   ]
  },
  {
   "cell_type": "code",
   "execution_count": 270,
   "metadata": {
    "id": "XZT9QHHbI9fF"
   },
   "outputs": [],
   "source": [
    "uvalue=df1.Addiction.unique()\n"
   ]
  },
  {
   "cell_type": "code",
   "execution_count": 271,
   "metadata": {},
   "outputs": [
    {
     "data": {
      "text/plain": [
       "array(['Drug-type B', 'Alcohol', 'others', 'Nicotine - type B',\n",
       "       'Drug-type C', 'Drug-type A'], dtype=object)"
      ]
     },
     "execution_count": 271,
     "metadata": {},
     "output_type": "execute_result"
    }
   ],
   "source": [
    "uvalue"
   ]
  },
  {
   "cell_type": "markdown",
   "metadata": {},
   "source": [
    "###     6.   \n",
    " (iv) Display a cross table with Diabetes type and survived status. (2 marks)<br>"
   ]
  },
  {
   "cell_type": "code",
   "execution_count": 250,
   "metadata": {},
   "outputs": [],
   "source": [
    "df3=df1[['Diabetestype','Survive_status']]"
   ]
  },
  {
   "cell_type": "code",
   "execution_count": 251,
   "metadata": {},
   "outputs": [
    {
     "data": {
      "text/html": [
       "<div>\n",
       "<style scoped>\n",
       "    .dataframe tbody tr th:only-of-type {\n",
       "        vertical-align: middle;\n",
       "    }\n",
       "\n",
       "    .dataframe tbody tr th {\n",
       "        vertical-align: top;\n",
       "    }\n",
       "\n",
       "    .dataframe thead th {\n",
       "        text-align: right;\n",
       "    }\n",
       "</style>\n",
       "<table border=\"1\" class=\"dataframe\">\n",
       "  <thead>\n",
       "    <tr style=\"text-align: right;\">\n",
       "      <th></th>\n",
       "      <th>Diabetestype</th>\n",
       "      <th>Survive_status</th>\n",
       "    </tr>\n",
       "  </thead>\n",
       "  <tbody>\n",
       "    <tr>\n",
       "      <th>0</th>\n",
       "      <td>type 1</td>\n",
       "      <td>Survived</td>\n",
       "    </tr>\n",
       "    <tr>\n",
       "      <th>1</th>\n",
       "      <td>type 2</td>\n",
       "      <td>Passed away</td>\n",
       "    </tr>\n",
       "    <tr>\n",
       "      <th>2</th>\n",
       "      <td>type 1</td>\n",
       "      <td>Survived</td>\n",
       "    </tr>\n",
       "    <tr>\n",
       "      <th>3</th>\n",
       "      <td>type 1</td>\n",
       "      <td>Survived</td>\n",
       "    </tr>\n",
       "    <tr>\n",
       "      <th>4</th>\n",
       "      <td>type 1</td>\n",
       "      <td>Survived</td>\n",
       "    </tr>\n",
       "    <tr>\n",
       "      <th>...</th>\n",
       "      <td>...</td>\n",
       "      <td>...</td>\n",
       "    </tr>\n",
       "    <tr>\n",
       "      <th>165</th>\n",
       "      <td>type 1</td>\n",
       "      <td>Survived</td>\n",
       "    </tr>\n",
       "    <tr>\n",
       "      <th>166</th>\n",
       "      <td>type 1</td>\n",
       "      <td>Survived</td>\n",
       "    </tr>\n",
       "    <tr>\n",
       "      <th>167</th>\n",
       "      <td>type 1</td>\n",
       "      <td>Survived</td>\n",
       "    </tr>\n",
       "    <tr>\n",
       "      <th>168</th>\n",
       "      <td>type 1</td>\n",
       "      <td>Survived</td>\n",
       "    </tr>\n",
       "    <tr>\n",
       "      <th>169</th>\n",
       "      <td>type 2</td>\n",
       "      <td>Survived</td>\n",
       "    </tr>\n",
       "  </tbody>\n",
       "</table>\n",
       "<p>170 rows × 2 columns</p>\n",
       "</div>"
      ],
      "text/plain": [
       "    Diabetestype Survive_status\n",
       "0         type 1       Survived\n",
       "1         type 2    Passed away\n",
       "2         type 1       Survived\n",
       "3         type 1       Survived\n",
       "4         type 1       Survived\n",
       "..           ...            ...\n",
       "165       type 1       Survived\n",
       "166       type 1       Survived\n",
       "167       type 1       Survived\n",
       "168       type 1       Survived\n",
       "169       type 2       Survived\n",
       "\n",
       "[170 rows x 2 columns]"
      ]
     },
     "execution_count": 251,
     "metadata": {},
     "output_type": "execute_result"
    }
   ],
   "source": [
    "df3"
   ]
  },
  {
   "cell_type": "markdown",
   "metadata": {
    "id": "SBYTh90rkIb_"
   },
   "source": [
    "###     6.   \n",
    " (v)  Calculate average Hemoglobin level for male and female separately. Count the number of male and female with Hemoglobin less than 10 (5 Marks)<br>    "
   ]
  },
  {
   "cell_type": "code",
   "execution_count": 292,
   "metadata": {},
   "outputs": [],
   "source": [
    "df3=df1[df1.Sex == 'Male']\n",
    "df4=df1[df1.Sex == 'Female']\n",
    "\n",
    "#df1.Sex == 'Male'\n"
   ]
  },
  {
   "cell_type": "code",
   "execution_count": 293,
   "metadata": {},
   "outputs": [
    {
     "name": "stdout",
     "output_type": "stream",
     "text": [
      "Male Hemo AVG : 9.601694915254237\n",
      "Female Hemo AVG : 9.653846153846153\n"
     ]
    }
   ],
   "source": [
    "print('Male Hemo AVG :',df3.Hemoglobin.mean())\n",
    "print('Female Hemo AVG :',df4.Hemoglobin.mean())"
   ]
  },
  {
   "cell_type": "code",
   "execution_count": 319,
   "metadata": {},
   "outputs": [
    {
     "name": "stdout",
     "output_type": "stream",
     "text": [
      "Number of count of Males with hemo less than 10 is :  52\n",
      "Number of count of FeMales with hemo less than 10 is :  27\n"
     ]
    }
   ],
   "source": [
    "\n",
    "df5=df1[df1.Hemoglobin < 10]\n",
    "\n",
    "print('Number of count of Males with hemo less than 10 is : ',df5[df5.Sex=='Male'].Sex.count())\n",
    "print('Number of count of FeMales with hemo less than 10 is : ',df5[df5.Sex=='Female'].Sex.count())"
   ]
  },
  {
   "cell_type": "code",
   "execution_count": 314,
   "metadata": {},
   "outputs": [
    {
     "data": {
      "text/plain": [
       "52"
      ]
     },
     "execution_count": 314,
     "metadata": {},
     "output_type": "execute_result"
    }
   ],
   "source": []
  },
  {
   "cell_type": "code",
   "execution_count": null,
   "metadata": {},
   "outputs": [],
   "source": []
  }
 ],
 "metadata": {
  "colab": {
   "collapsed_sections": [],
   "name": "Solutions_Python for Data Science - Assessment 1_FT Feb 20 (1).ipynb",
   "provenance": []
  },
  "kernelspec": {
   "display_name": "Python 3",
   "language": "python",
   "name": "python3"
  },
  "language_info": {
   "codemirror_mode": {
    "name": "ipython",
    "version": 3
   },
   "file_extension": ".py",
   "mimetype": "text/x-python",
   "name": "python",
   "nbconvert_exporter": "python",
   "pygments_lexer": "ipython3",
   "version": "3.7.3"
  }
 },
 "nbformat": 4,
 "nbformat_minor": 1
}
