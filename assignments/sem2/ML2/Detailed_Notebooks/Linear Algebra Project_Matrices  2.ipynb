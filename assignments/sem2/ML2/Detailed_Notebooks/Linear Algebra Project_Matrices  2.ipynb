{
 "cells": [
  {
   "cell_type": "markdown",
   "id": "ee043a17",
   "metadata": {},
   "source": [
    "# II -Matrices  \n",
    "-------------------------------------------------------------------------------------------------------------------------\n",
    "- 1\\. **Matrices**\n",
    "-     Motivation\n",
    "- 1.1\\. System of equations\n",
    "- 1.2\\. Matrix\n",
    "- 1.3\\. Algebra of Matrix and inverse of matrix\n",
    "- 1.3\\. Rank Of Matrix\n",
    "- 1.5 \\.Linear Dependnce indepedance ( Revsited)\n",
    "- 1.6\\. Basis \n",
    "- 1.7\\. Change of Basis\n",
    "\n",
    "- ====================================================================================================================="
   ]
  },
  {
   "cell_type": "markdown",
   "id": "fc7e8276",
   "metadata": {},
   "source": [
    "# Motivation\n",
    "## (Global Positioning System)\n",
    "- The Global Positioning System\n",
    "- (gps) is a network of 24 satellites orbiting the Earth. Each satellite knows very accurately its position at all times, and - - broadcasts this position by radio. Receivers, such as smart-phones, pick up these signals and from the time taken for the signals to arrive know the distance to those satellites within ‘sight’. Each receiver solves a system of equations and informs you of its precise position.\n",
    "- Let’s solve a definite example problem, but in two dimensions for simplicity. Suppose you and your smart-phone are at some unknown location (x , y) in the 2D-plane, on the Earth’s surface where the Earth has radius about 6 Mm (here all distances are measured in units of Megametres, Mm, thousands of km). But your smart phone picks up the broadcast from three gps satellites, and then determines their distance from you. From the broadcast and the timing, suppose you then know that a satellite at (29,10) is 25 away (all in Mm), one at (17 , 19) is 20 away, and one at (13 , 18) is\n",
    "\n",
    "\n",
    "<div style=\"text-align: right\"><img src=\"gps.png\" width=\"200\" /></div>"
   ]
  },
  {
   "cell_type": "markdown",
   "id": "cff29a5f",
   "metadata": {},
   "source": [
    "-  A system of linear equations involve multiple equations that have to be solved simultaneously. Consider: \n",
    "- 1)\n",
    "     $x + 2y = 8 \\\\\n",
    "     5x - 3y = 1$\n",
    "       \n",
    "      \n",
    "      \n",
    "   \n",
    " - 2)\n",
    " \n",
    "     $3x+4y-z = 7\\\\\n",
    "     -x+2y+z= 3\\\\\n",
    "     4x-7y+3z = -1$\n",
    "     \n",
    "     \n",
    " - 3)\n",
    "  \n",
    "     $2x+3y+4z=8\\\\\n",
    "       x+y+2z = 2$\n",
    "       \n",
    "- 4) $2x_1+4x_2+x_3+5x_4= 1\\\\\n",
    "      -x_1+4x_2-x_3+5x_4= 2\\\\\n",
    "      4x_1+4x_2+5x_3+5x_4=-1\\\\\n",
    "      x_1++x_3+   5x_4= 1$\n",
    "      \n",
    "- 5) $x - 2y = 0 \\\\\n",
    "     5x + y = 0$"
   ]
  },
  {
   "cell_type": "markdown",
   "id": "ffa48651",
   "metadata": {},
   "source": [
    "- There are two kinds of **system of equations**\n",
    "- Homogeneous and Non homogeneous\n",
    "- The General form is \n",
    " \n",
    "  $  \n",
    "  a_{11}x_1+a_{12}x_2+\\dots+a_{1n}x_n = b_1\\\\\n",
    "  a_{21}x_1+a_{22}x_2+\\dots+a_{2n}x_n = b_2\\\\\n",
    "  a_{31}x_1+a_{32}x_2+\\dots+a_{3n}x_n = b_1\\\\\n",
    "  \\dots                               \\\\\n",
    "  a_{m1}x_1+a_{m2}x_2+\\dots+a_{mn}x_n = b_m\\\\  \n",
    "  $, \n",
    "  \n",
    "- Above system can be written as $A X=B$\n",
    "  \n",
    "-If at least one of $\\bf{b_i}$ is non zero then above system is called Non-Homogeneous system ,if all $\\bf{b_i}$ are zero then it is called Homogeneous\n",
    "  $  A :=\n",
    "\\begin{bmatrix}\n",
    "a_{11} & a_{12} & \\cdots & a_{1n}\\\\\n",
    "a_{21} & a_{22} & \\cdots & a_{2n}\\\\\n",
    "\\vdots & \\vdots & \\ddots & \\vdots\\\\\n",
    "a_{m1} & a_{m2} & \\cdots & a_{mn}\n",
    "\\end{bmatrix},\n",
    "a_{ij} \\in \\mathbb{R} \n",
    "$,\n",
    "$X = \\begin{bmatrix}\n",
    "x_1\\\\\n",
    "\\vdots\\\\\n",
    "x_n\n",
    "\\end{bmatrix}\n",
    "$ \n",
    "  \n",
    "$\n",
    "\\textit{A}\\cdot\\bf{x}:=\n",
    "\\begin{bmatrix}\n",
    "a_{11} & \\cdots & a_{1n}\\\\\n",
    "\\vdots & \\ddots & \\vdots\\\\\n",
    "a_{m1} & \\cdots & a_{mn}\n",
    "\\end{bmatrix}\n",
    "\\begin{bmatrix}\n",
    "x_1\\\\\n",
    "\\vdots\\\\\n",
    "x_n\n",
    "\\end{bmatrix}=\n",
    "x_1\n",
    "\\begin{bmatrix}\n",
    "a_{11}\\\\\n",
    "\\vdots\\\\\n",
    "a_{m1}\n",
    "\\end{bmatrix}+\n",
    "x_2\n",
    "\\begin{bmatrix}\n",
    "a_{12}\\\\\n",
    "\\vdots\\\\\n",
    "a_{m2}\n",
    "\\end{bmatrix}+\n",
    "x_n\n",
    "\\begin{bmatrix}\n",
    "a_{1n}\\\\\n",
    "\\vdots\\\\\n",
    "a_{mn}\n",
    "\\end{bmatrix}=\n",
    "\\begin{bmatrix}\n",
    "b_1\\\\\n",
    "\\vdots\\\\\n",
    "b_{mn}\n",
    "\\end{bmatrix} \n",
    "$\n",
    " \n"
   ]
  },
  {
   "cell_type": "markdown",
   "id": "1512b128",
   "metadata": {},
   "source": [
    "- **The purpose of linear algebra as a tool is to solve systems of linear equations.**\n",
    "- Solving Above equations needs good understanding of Matrices\n",
    "\n"
   ]
  },
  {
   "cell_type": "markdown",
   "id": "184927e8",
   "metadata": {},
   "source": [
    "# Basic Matrix operations"
   ]
  },
  {
   "cell_type": "markdown",
   "id": "d9e0870a",
   "metadata": {},
   "source": [
    "- Matrices are as fundamental as vectors in machine learning. \n",
    "- Matrix is an arrangemnt of **mn** numbers in **m rows** and **n columns**\n",
    " $  A_{m\\times n} :=\n",
    "\\begin{bmatrix}\n",
    "a_{11} & a_{12} & \\cdots & a_{1n}\\\\\n",
    "a_{21} & a_{22} & \\cdots & a_{2n}\\\\\n",
    "\\vdots & \\vdots & \\ddots & \\vdots\\\\\n",
    "a_{m1} & a_{m2} & \\cdots & a_{mn}\n",
    "\\end{bmatrix},\n",
    "a_{ij} \\in \\mathbb{R} \n",
    "$\n",
    "-  With vectors - we can represent single variables as sets of numbers or instances.\n",
    "- With matrices-- we can represent sets of variables. In this sense, a matrix is simply an ordered collection of vectors.\n",
    "- Conventionally, column vectors, but it’s always wise to pay attention to the authors’ notation when reading matrices. Since computer screens operate in two dimensions, \n",
    "- matrices are the way in which we interact with data in practice."
   ]
  },
  {
   "cell_type": "markdown",
   "id": "d6bdfac9",
   "metadata": {},
   "source": [
    "## Examples of Matrices"
   ]
  },
  {
   "cell_type": "markdown",
   "id": "5f629bcf",
   "metadata": {},
   "source": [
    "- **Image**: $X_{ij}$ is $i,j$ pixel value in a monochrome image\n",
    "- **Rainfall data**: $A_{ij}$ is rainfall at location $i$ on day $j$\n",
    "\n",
    "- **Multiple asset returns**: $R_{ij}$ is return of asset $j$ in period $i$\n",
    "- **Contingency table**: $A_{ij}$ is number of objects with first attribute $i$ and second\n",
    "   attribute $j$\n",
    "- **Feature matrix**: $X_{ij}$is value of feature $i$ for entity $j$"
   ]
  },
  {
   "cell_type": "markdown",
   "id": "425efe94",
   "metadata": {},
   "source": [
    "# Return matrix – portfolio vector\n",
    "\n",
    "- R is T × n matrix of asset returns\n",
    "- Rij is return of asset j in period i (say, in percentage)\n",
    "- n-vector w gives portfolio (investments in the assets)\n",
    "- T-vector Rw is time series of the portfolio return\n",
    "- **avg(Rw)** is the portfolio (mean) return, **std(Rw)** is its risk\n"
   ]
  },
  {
   "cell_type": "markdown",
   "id": "40190721",
   "metadata": {},
   "source": [
    "# Feature matrix – weight vector\n",
    "- $X = [x_1 · · · x_N]$ is n × N feature matrix\n",
    "- column $x_j$ is feature n-vector for object or example j\n",
    "- $X_{ij}$is value of feature i for example j\n",
    "- n-vector w is weight vector\n",
    "- $s = X^{T}w$\n",
    "- w is vector of scores for each example; $s_j = x^{T}w = x_{j}^{T}w$\n",
    "\n"
   ]
  },
  {
   "cell_type": "markdown",
   "id": "ac64d650",
   "metadata": {},
   "source": [
    "# Incidence matrix\n",
    "- graph with n vertices or nodes, m (directed) edges or links\n",
    "- incidence matrix is n × m matrix\n",
    "- <div style=\"text-align: right\"><img src=\"graph.png\" width=\"500\" /></div>\n"
   ]
  },
  {
   "cell_type": "markdown",
   "id": "850384b2",
   "metadata": {},
   "source": [
    "## Image As a Matrix\n",
    "#### Balck and White Image\n",
    "#### Grey scale \n",
    "#### RGB color image"
   ]
  },
  {
   "cell_type": "code",
   "execution_count": 1,
   "id": "d119c1ec",
   "metadata": {},
   "outputs": [
    {
     "name": "stdout",
     "output_type": "stream",
     "text": [
      "The size of the image is  (11, 11)\n"
     ]
    }
   ],
   "source": [
    "import matplotlib.pyplot as plt  # For plotting\n",
    "import numpy as np               # For the linear algebra\n",
    "\n",
    "%matplotlib inline\n",
    "\n",
    "w = 255\n",
    "b = 0\n",
    "\n",
    "A = np.array([ [w,w,w,w,w,w,w,w,w,w,w],[w,w,w,w,b,b,b,w,w,w,w],[w,w,w,w,b,b,b,w,w,w,w],[w,w,w,w,w,b,w,w,w,w,w],[w,w,w,b,b,b,b,b,w,w,w],[w,w,w,w,w,b,w,w,w,w,w],[w,w,w,w,w,b,w,w,w,w,w],[w,w,w,w,w,b,w,w,w,w,w], [w,w,w,w,b,w,b,w,w,w,w], [w,w,w,b,w,w,w,b,w,w,w], [w,w,b,w,w,w,w,w,b,w,w] ])\n",
    "print('The size of the image is ', A.shape)"
   ]
  },
  {
   "cell_type": "code",
   "execution_count": 2,
   "id": "a1b7fc82",
   "metadata": {},
   "outputs": [
    {
     "name": "stdout",
     "output_type": "stream",
     "text": [
      "The matrix A has entries \n",
      " [[255 255 255 255 255 255 255 255 255 255 255]\n",
      " [255 255 255 255   0   0   0 255 255 255 255]\n",
      " [255 255 255 255   0   0   0 255 255 255 255]\n",
      " [255 255 255 255 255   0 255 255 255 255 255]\n",
      " [255 255 255   0   0   0   0   0 255 255 255]\n",
      " [255 255 255 255 255   0 255 255 255 255 255]\n",
      " [255 255 255 255 255   0 255 255 255 255 255]\n",
      " [255 255 255 255 255   0 255 255 255 255 255]\n",
      " [255 255 255 255   0 255   0 255 255 255 255]\n",
      " [255 255 255   0 255 255 255   0 255 255 255]\n",
      " [255 255   0 255 255 255 255 255   0 255 255]]\n"
     ]
    }
   ],
   "source": [
    "print('The matrix A has entries \\n', A)"
   ]
  },
  {
   "cell_type": "code",
   "execution_count": 3,
   "id": "656d488e",
   "metadata": {},
   "outputs": [
    {
     "data": {
      "text/plain": [
       "<matplotlib.image.AxesImage at 0x1209914c0>"
      ]
     },
     "execution_count": 3,
     "metadata": {},
     "output_type": "execute_result"
    },
    {
     "data": {
      "image/png": "[encoded data removed]",
      "text/plain": [
       "<Figure size 432x288 with 1 Axes>"
      ]
     },
     "metadata": {
      "needs_background": "light"
     },
     "output_type": "display_data"
    }
   ],
   "source": [
    "plt.imshow(A, cmap ='gray',vmin=0,vmax=255)"
   ]
  },
  {
   "cell_type": "markdown",
   "id": "8d73b58b",
   "metadata": {},
   "source": [
    "-Grayscale is the simplest model since it defines colors using only one component that is lightness. The amount of lightness is described using a value ranging from 0 (black) to 255 (white).\n",
    "<div style=\"text-align: right\"><img src=\"gery.png\" width=\"500\" /></div>\n",
    "\n",
    "-On the one hand, grayscale images convey less information than RGB. However, they are common in image processing because using a grayscale image requires less available space and is faster, especially when we deal with complex computations."
   ]
  },
  {
   "cell_type": "markdown",
   "id": "e23baf4a",
   "metadata": {},
   "source": [
    "<table><tr>\n",
    "<td><div style=\"text-align: right\"><img src=\"eight.png\" width=\"300\" /></div>\n",
    "<td><div style=\"text-align: right\"><img src=\"zoomedeight.png\" width=\"300\" /></div>\n",
    "<td><div style=\"text-align: right\"><img src=\"zoomzoom88.png\" width=\"600\" /></div>\n",
    "<td><div style=\"text-align: right\"><img src=\"eight8.png\" width=\"600\" /></div>\n",
    "</tr></table>\n",
    "\n",
    "\n",
    "<div style=\"text-align: right\"><img src=\"imagess.jpg\" width=\"600\" /></div>\n",
    "\n",
    "- These small boxes are called Pixels. \n",
    "- We often use the term- the dimension of the image is X x Y. \n",
    "- What does that actually mean? \n",
    "- This means that the dimension of the image is simply the number of pixels across the height(x) and width(y) of the image.\n",
    "- In case of 8 image , if you count, it would be 24 pixels across the height and 16 pixels across the width.\n",
    "- Hence the dimension of this image will be 24 x 16.\n",
    "- Although we see an image in this format the computer store image in the form of numbers-\n",
    "\n"
   ]
  },
  {
   "cell_type": "markdown",
   "id": "392ef5be",
   "metadata": {},
   "source": [
    "## RGB or Color Image"
   ]
  },
  {
   "cell_type": "markdown",
   "id": "043c639e",
   "metadata": {},
   "source": [
    "<table><tr>\n",
    "<td><div style=\"text-align: right\"><img src=\"dog.png\" width=\"900\" />\n",
    " \n",
    "\n",
    "<td><div style=\"text-align: right\"><img src=\"color.png\" width=\"500\" />\n"
   ]
  },
  {
   "cell_type": "markdown",
   "id": "7f250616",
   "metadata": {},
   "source": [
    "<td><div style=\"text-align: right\"><img src=\"redbg.png\" width=\"300\" />\n",
    "<td><div style=\"text-align: right\"><img src=\"images.png\" width=\"200\" />\n",
    "                "
   ]
  },
  {
   "cell_type": "code",
   "execution_count": 4,
   "id": "9684dac1",
   "metadata": {},
   "outputs": [],
   "source": [
    "C= np.array([[[120,130,14],[100,20,100],[200,56,88]],[[10,30,34],[230,54,67],[230,45,89]],[[120,34,200],[156,176,200],[23,45,67]]])"
   ]
  },
  {
   "cell_type": "code",
   "execution_count": 5,
   "id": "69be7f69",
   "metadata": {},
   "outputs": [
    {
     "data": {
      "text/plain": [
       "array([[[120, 130,  14],\n",
       "        [100,  20, 100],\n",
       "        [200,  56,  88]],\n",
       "\n",
       "       [[ 10,  30,  34],\n",
       "        [230,  54,  67],\n",
       "        [230,  45,  89]],\n",
       "\n",
       "       [[120,  34, 200],\n",
       "        [156, 176, 200],\n",
       "        [ 23,  45,  67]]])"
      ]
     },
     "execution_count": 5,
     "metadata": {},
     "output_type": "execute_result"
    }
   ],
   "source": [
    "C"
   ]
  },
  {
   "cell_type": "code",
   "execution_count": 6,
   "id": "f42bc410",
   "metadata": {},
   "outputs": [
    {
     "data": {
      "text/plain": [
       "3"
      ]
     },
     "execution_count": 6,
     "metadata": {},
     "output_type": "execute_result"
    }
   ],
   "source": [
    "C.ndim"
   ]
  },
  {
   "cell_type": "code",
   "execution_count": 7,
   "id": "885d2601",
   "metadata": {},
   "outputs": [
    {
     "ename": "SyntaxError",
     "evalue": "cannot assign to literal (178744325.py, line 1)",
     "output_type": "error",
     "traceback": [
      "\u001b[0;36m  Input \u001b[0;32mIn [7]\u001b[0;36m\u001b[0m\n\u001b[0;31m    0 = red , 1= green ,2 = blue\u001b[0m\n\u001b[0m    ^\u001b[0m\n\u001b[0;31mSyntaxError\u001b[0m\u001b[0;31m:\u001b[0m cannot assign to literal\n"
     ]
    }
   ],
   "source": [
    "0 = red , 1= green ,2 = blue\n",
    "C[1:2,1:2,2]\n",
    "C[start(row):end(row), start(column):end(column),channel]"
   ]
  },
  {
   "cell_type": "code",
   "execution_count": null,
   "id": "12430a8d",
   "metadata": {},
   "outputs": [],
   "source": [
    "plt.imshow(C,vmin=0,vmax=255)"
   ]
  },
  {
   "cell_type": "markdown",
   "id": "fcb91f34",
   "metadata": {},
   "source": [
    "# Matrix as Vector\n",
    "\n",
    "<div style=\"text-align: right\"><img src=\"matrixtovector.gif\" width=\"900\" />"
   ]
  },
  {
   "cell_type": "markdown",
   "id": "4b5205d4",
   "metadata": {},
   "source": [
    "<div style=\"text-align: right\"><img src=\"op.png\" width=\"900\" />"
   ]
  },
  {
   "cell_type": "markdown",
   "id": "09a79715",
   "metadata": {},
   "source": [
    "- $\n",
    "\\textit{A} \\pm \\textit{B} := \n",
    "\\begin{bmatrix}\n",
    "a_{11} \\pm b_{11} & \\cdots & a_{1n} \\pm b_{1n} \\\\\n",
    "\\vdots & \\ddots & \\vdots \\\\\n",
    "a_{m1} \\pm b_{m1} & \\cdots & a_{mn} \\pm b_{mn}\n",
    "\\end{bmatrix}\n",
    "\\in \\mathbb{R^{m\\times n}}\n",
    "$\n",
    "$\n",
    "\\textit{A} = \n",
    "\\begin{bmatrix}\n",
    "0 & 2 \\\\\n",
    "1 & 4\n",
    "\\end{bmatrix} + \n",
    "\\textit{B} = \n",
    "\\begin{bmatrix}\n",
    "3 & 1 \\\\\n",
    "-3 & 2\n",
    "\\end{bmatrix}=\n",
    "\\begin{bmatrix}\n",
    "0+3 & 2+1 \\\\\n",
    "3+(-3) & 2+2\n",
    "\\end{bmatrix}=\n",
    "\\begin{bmatrix}\n",
    "3 & 3 \\\\\n",
    "-2 & 6\n",
    "\\end{bmatrix} \n",
    "$"
   ]
  },
  {
   "cell_type": "code",
   "execution_count": null,
   "id": "a438455e",
   "metadata": {},
   "outputs": [],
   "source": [
    "from IPython.display import display, Math, Latex\n",
    "A = np.array([[0,2],\n",
    "              [1,4]])\n",
    "B = np.array([[3,1],\n",
    "              [-3,2]])\n",
    "print('A+B :', A+B)\n",
    "print('A-B :', A-B)\n",
    "display(Math(r'A = \\begin{bmatrix} 0&2 \\\\ 1&4 \\end{bmatrix} , B = \\begin{bmatrix} 3&1 \\\\ -3&2 \\end{bmatrix}  '))\n",
    "display(Math(r'A +B = \\begin{bmatrix} 0&2 \\\\ 1&4 \\end{bmatrix} + \\begin{bmatrix} 3&1 \\\\ -3&2 \\end{bmatrix}= \\begin{bmatrix} 3&3 \\\\ -2&6 \\end{bmatrix}  '))\n",
    "display(Math(r'A -B = \\begin{bmatrix} 0&2 \\\\ 1&4 \\end{bmatrix} - \\begin{bmatrix} 3&1 \\\\ -3&2 \\end{bmatrix}= \\begin{bmatrix} -3&1 \\\\ 4&2\\end{bmatrix}  '))"
   ]
  },
  {
   "cell_type": "code",
   "execution_count": null,
   "id": "9b8b7352",
   "metadata": {},
   "outputs": [],
   "source": [
    "np.add(A, B),np.add(A,-B)"
   ]
  },
  {
   "cell_type": "markdown",
   "id": "39c99c3d",
   "metadata": {},
   "source": [
    "# Matrix transpose\n",
    "- Consider a matrix $A\\in R_{m×n}$. \n",
    "- The transpose of $A$ is denoted as $A^{T}\\in R^{m×n}$. \n",
    "- We obtain $A^{T}$ as:$(A^{T})_{ij}=A_{ji}$\n",
    "- In other words, we get the $A^{T}$ by switching the columns by the rows of $A$. For instance:\n",
    "$\n",
    "\\begin{bmatrix}\n",
    "1 & 2 \\\\\n",
    "3 & 4 \\\\\n",
    "5 & 6\n",
    "\\end{bmatrix}^T\n",
    "= \n",
    "\\begin{bmatrix}\n",
    "1 & 3 & 5 \\\\\n",
    "2 & 4 & 6\n",
    "\\end{bmatrix}\n",
    "$\n",
    "- A Matrix is called **Symmetric** if  $A^{T}=A$\n",
    "\n",
    "## Properties of Transpose\n",
    "\n",
    "- $(A\\pm B)^{T} = A^{T}\\pm B^{T}$\n",
    "- $(AB)^{T} = B^{T}A^{T}$\n",
    "- $(A^{T})^{T}= A $\n",
    "- $ AA^{T}$, $A^{T}A$ ,$\\frac{A+A^{T}}{2}$, $\\frac{A-A^{T}}{2}$ are always symmetric verify?\n",
    "- $ (A^{-1})^{T} = (A^{T})^{-1}$\n",
    "- $ |A^{T}|= |A|$\n",
    "- **Proof**\n",
    "- $ (AA^{T})^{T}=(A^{T})^{T}A^{T} = AA^{T}$"
   ]
  },
  {
   "cell_type": "code",
   "execution_count": null,
   "id": "d14327d9",
   "metadata": {},
   "outputs": [],
   "source": [
    "A = np.array([[0,2],\n",
    "              [1,4]])\n",
    "print(A)\n",
    "B= A.T\n",
    "print( ' A Transpose :',B)\n",
    "display(Math(r'A = \\begin{bmatrix} 0&2 \\\\ 1&4 \\end{bmatrix} '))\n",
    "display(Math(r'A^{T} = \\begin{bmatrix} 0&1 \\\\2&4 \\end{bmatrix} '))\n"
   ]
  },
  {
   "cell_type": "code",
   "execution_count": null,
   "id": "17aecd8d",
   "metadata": {},
   "outputs": [],
   "source": []
  },
  {
   "cell_type": "code",
   "execution_count": null,
   "id": "d249d76a",
   "metadata": {},
   "outputs": [],
   "source": []
  },
  {
   "cell_type": "markdown",
   "id": "9c199069",
   "metadata": {},
   "source": [
    "<div style=\"text-align: right\"><img src=\"mul.png\" width=\"900\" />"
   ]
  },
  {
   "cell_type": "code",
   "execution_count": null,
   "id": "162a7ad7",
   "metadata": {},
   "outputs": [],
   "source": [
    "alpha = 2\n",
    "A = np.array([[1,2],\n",
    "              [3,4]])\n",
    "alpha * A"
   ]
  },
  {
   "cell_type": "code",
   "execution_count": null,
   "id": "7dd0559b",
   "metadata": {},
   "outputs": [],
   "source": [
    "np.multiply(alpha, A)"
   ]
  },
  {
   "cell_type": "markdown",
   "id": "de25960e",
   "metadata": {},
   "source": [
    "<div style=\"text-align: right\"><img src=\"mv.png\" width=\"900\" />"
   ]
  },
  {
   "cell_type": "code",
   "execution_count": null,
   "id": "7c516e59",
   "metadata": {},
   "outputs": [],
   "source": [
    "A = np.array([[0,2],\n",
    "              [1,4]])\n",
    "x = np.array([[1],\n",
    "              [2]])\n",
    "\n",
    "print('Ax=',A@x)\n",
    "print('Ax=',np.dot(A,x))\n",
    "display(Math(r'x = \\begin{bmatrix} 1 \\\\ 2 \\end{bmatrix} '))\n",
    "display(Math(r'Ax = \\begin{bmatrix} 0&2 \\\\ 1&4 \\end{bmatrix}\\begin{bmatrix} 1 \\\\ 2 \\end{bmatrix} =\\begin{bmatrix} 4 \\\\ 9 \\end{bmatrix}'))"
   ]
  },
  {
   "cell_type": "markdown",
   "id": "e3ddaf67",
   "metadata": {},
   "source": [
    "<div style=\"text-align: right\"><img src=\"matmul.png\" width=\"900\" />"
   ]
  },
  {
   "cell_type": "markdown",
   "id": "6bd39c72",
   "metadata": {},
   "source": [
    "<div style=\"text-align: right\"><img src=\"prop.png\" width=\"900\" />"
   ]
  },
  {
   "cell_type": "code",
   "execution_count": null,
   "id": "c882eef6",
   "metadata": {},
   "outputs": [],
   "source": [
    "A = np.array([[0,2],\n",
    "              [1,4]])\n",
    "B = np.array([[1,3],\n",
    "              [2,1]])\n",
    "print('AB=',A @ B)\n",
    "print('AB=',np.dot(A,B))\n",
    "display(Math(r'A = \\begin{bmatrix} 0&2 \\\\ 1&4 \\end{bmatrix} , B = \\begin{bmatrix} 1&3 \\\\ 2&1 \\end{bmatrix}  '))\n",
    "display(Math(r'A \\times B = \\begin{bmatrix} 0&2 \\\\ 1&4 \\end{bmatrix} \\times \\begin{bmatrix} 1&3 \\\\ 2&1 \\end{bmatrix}= \\begin{bmatrix} 4&2 \\\\ 9&7 \\end{bmatrix}  '))\n"
   ]
  },
  {
   "cell_type": "markdown",
   "id": "8b268ea2",
   "metadata": {},
   "source": [
    "# Properties Verification"
   ]
  },
  {
   "cell_type": "code",
   "execution_count": null,
   "id": "1c12bd14",
   "metadata": {},
   "outputs": [],
   "source": [
    "alpha= 2\n",
    "A = np.array([[0,2],\n",
    "              [1,4]])\n",
    "B = np.array([[1,3],\n",
    "              [2,1]])\n",
    "C = np.array([[1,2],\n",
    "              [2,1]])\n",
    "print((A@B)==(B@A))\n",
    "print((A@B)@C==(A@(B@C)))\n",
    "print(A@(B+C)==(A@B)+(A@C))\n",
    "print(A@(B-C)==(A@B)-(A@C))\n",
    "print((A@B).T==B.T@A.T)\n"
   ]
  },
  {
   "cell_type": "markdown",
   "id": "235fc829",
   "metadata": {},
   "source": [
    "# Matrix identity\n",
    "$ I=I_n = \\begin{bmatrix}\n",
    "1 & 0 & \\cdots & 0 & 0 \\\\\n",
    "0 & 1 & \\cdots & 0 & 0 \\\\\n",
    "0 & 0 & \\ddots & 0 & 0 \\\\\n",
    "0 & 0 & \\cdots & 1 & 0 \\\\\n",
    "0 & 0 & \\cdots & 0 & 1\n",
    "\\end{bmatrix}\n",
    "\\in \\mathbb{R}^{n \\times n}\n",
    "$ ,\n",
    "$\n",
    "\\textit{I}_3 =\n",
    "\\begin{bmatrix}\n",
    "1 & 0 & 0 \\\\\n",
    "0 & 1 & 0 \\\\\n",
    "0 & 0 & 1\n",
    "\\end{bmatrix}\n",
    "$"
   ]
  },
  {
   "cell_type": "markdown",
   "id": "88ac6f91",
   "metadata": {},
   "source": [
    "# Matrix Inverse\n",
    "- consider the square matrix $A\\in R^{n×n}$. We define $A^{−1}$ as matrix with the property:\n",
    "\n",
    "- $A^{−1}A=I_n=AA^{−1}$\n",
    "- If $AB=I=BA$ we say $B^{-1}=A$ or $A^{-1}=B$\n",
    "\n",
    "- Suppose $Ax=y$ then $x= A^{-1}y$"
   ]
  },
  {
   "cell_type": "markdown",
   "id": "f825f361",
   "metadata": {},
   "source": [
    "# List of Special matrices"
   ]
  },
  {
   "cell_type": "markdown",
   "id": "2739077b",
   "metadata": {},
   "source": [
    "- **Rectangular matrix**\n",
    "- Matrices are said to be rectangular when the number of rows is ≠ to the number of columns, i.e., $A_{m×n}$ with $m\\neq n$. \n",
    "- For instance:$\\begin{bmatrix}\n",
    "1 & 2 & 3 \\\\\n",
    "4 & 5 & 6\n",
    "\\end{bmatrix}_{2 \\times 3}$\n",
    "\n",
    "- **Square Matrix**\n",
    "- Matrices are said to be square when the number of rows = the number of columns, i.e., $A_{n×n}$. \n",
    "-For instance:\n",
    "- $\\begin{bmatrix}\n",
    "1 & 2 & 3 \\\\\n",
    "4 & 5 & 6 \\\\\n",
    "7 & 8 & 9\n",
    "\\end{bmatrix}_{3 \\times 3}$\n",
    "\n",
    "- **Diagonal matrix**\n",
    "- Square matrices are said to be diagonal when each of its non-diagonal elements is zero, i.e., For $D=d_{i,j}$, we have $ \\forall i,j \\in \\mathbb {N},i \\neq j $ ⟹ $d_{i,j}=0$. \n",
    "- For instance:\n",
    "$\\begin{bmatrix}\n",
    "1 & 0 & 0 \\\\\n",
    "0 & 5 & 0 \\\\\n",
    "0 & 0 & 9\n",
    "\\end{bmatrix}$\n",
    "\n",
    "- **Upper triangular matrix**\n",
    "- Square matrices are said to be upper triangular when the elements below the main diagonal are zero, i.e., For \n",
    "- $D=d_{i,j}$, we have  $d_{i,j}=0 ,\\forall  i > j$.\n",
    "- For instance:\n",
    "$\\begin{bmatrix}\n",
    "1 & 2 & 3 \\\\\n",
    "0 & 5 & 6 \\\\\n",
    "0 & 0 & 9\n",
    "\\end{bmatrix}\n",
    "$\n",
    "- **Lower triangular matrix**\n",
    "- Square matrices are said to be upper triangular when the elements below the main diagonal are zero, i.e., For \n",
    "- $D=d_{i,j}$, we have  $d_{i,j}=0 ,\\forall  i < j$.\n",
    "- For instance:\n",
    "$\\begin{bmatrix}\n",
    "1 & 0 & 0 \\\\\n",
    "4 & 5 & 0 \\\\\n",
    "7 & 8 & 9\n",
    "\\end{bmatrix}\n",
    "$\n",
    "\n",
    "- **Orthogoanl Matrix**\n",
    "\n",
    "-  An orthogonal matrix is a matrix whose transpose is equal to the inverse of the matrix\n",
    "\n",
    "- $Q = \\left(\\begin{array}{ccc}1 / 3 & 2 / 3 & -2 / 3 \\\\ -2 / 3 & 2 / 3 & 1 / 3 \\\\ 2 / 3 & 1 / 3 & 2 / 3\\end{array}\\right)$\n",
    "-  Orthogonal matrices are used in multi-channel signal processing.\n",
    "- An orthogonal matrix is used in multivariate time series analysis.\n",
    "- They are used in many algorithms in linear algebra.\n",
    "- They are used in QR decomposition.\n",
    "- **Properties of Orthogonal Matrix**\n",
    "- Transpose and Inverse are equal. i.e., $A^{-1} = A^{T}$.\n",
    "- The product of A and its transpose is an identity matrix. i.e., $AA^{T} = A^{T}A = I $.\n",
    "- Determinant is $det(A) =|A|= ±1$. Thus, an orthogonal matrix is always non-singular (as its determinant is NOT 0).\n",
    "- A diagonal matrix with elements to be 1 or -1 is always orthogonal.\n",
    "- $A^{T}$ is also orthogonal. Since $A^{-1} = A^{T}, A^{-1}$ is also orthogonal\n",
    "- $R(\\theta) =\\left[\\begin{array}{cc}\\cos \\theta & \\sin \\theta \\\\ \\\\ -\\sin \\theta & \\cos \\theta \\end{array}\\right]$ is rotation matrix and is always orthogonal ( clockwise rotation )\n",
    "\n",
    "\n",
    "- **Toeplitz matrices**\n",
    "- A matrix is Toeplitz if every diagonal from top-left to bottom-right has the same elements.\n",
    " - $\\begin{bmatrix}\n",
    "1 & 2 & 3 & 4 & 5 \\\\\n",
    "6 & 1 & 2 & 3 & 4 \\\\\n",
    "7 & 6 & 1 & 2 & 3 \\\\\n",
    "8 & 7 & 6 & 1 & 2 \\\\\n",
    "9 & 8 & 7 & 6 & 1\n",
    "\\end{bmatrix}_{5 \\times 5}$\n"
   ]
  },
  {
   "cell_type": "markdown",
   "id": "87ac7914",
   "metadata": {},
   "source": [
    "# Linear Dependance Independance Revisted"
   ]
  },
  {
   "cell_type": "markdown",
   "id": "bd1758b1",
   "metadata": {},
   "source": [
    "## Determinant\n",
    "- From a geometric perspective, determinants indicate the sign area of a parallelogram (e.g., a rectangular area)\n",
    "- and the sign volume of the parallelepiped, for a matrix whose columns consist of the basis vectors in Euclidean space.\n",
    "\n",
    "$\\vert \\textit{A} \\vert = \n",
    "\\begin{vmatrix}\n",
    "a & b \\\\\n",
    "c & d\n",
    "\\end{vmatrix} =\n",
    "(ad) - (bc) \\\\\n",
    "$ \n",
    "$\n",
    "\\vert \\textit{A} \\vert = \n",
    "\\begin{vmatrix}\n",
    "a & b & c\\\\\n",
    "d & e & f\\\\\n",
    "g & h & i\n",
    "\\end{vmatrix} =   aei - afh + bfg - bdi + cdh - ceg\n",
    "$\n",
    "\n",
    "- **Properties of determinanat**\n",
    "\n",
    "- $|AB|=|A||B|$\n",
    "- $|A^{-1}|= \\frac{1}{|A|}$\n",
    "- $|A^{T}|= |A|$\n",
    "- $|kA|_{n\\times n} = k^{n}|A|$"
   ]
  },
  {
   "cell_type": "code",
   "execution_count": null,
   "id": "113c58bf",
   "metadata": {},
   "outputs": [],
   "source": [
    "from numpy.linalg import det, inv\n",
    "from numpy import array\n",
    "A = array([[1,2,3],[4,5,6],[7,8,9]])\n",
    "B= array([[1,-2,3],[4,-5,6],[0.5,8,1]])\n",
    "print('A+B=', A+B)\n",
    "print('A-B =',A-B)\n",
    "print('AxB =' ,np.dot(A,B)) # A.dot(B),np.matmul(A,B)\n",
    "print('A*B=',A*B) # Componentwise multiplication \n",
    "print('A/B=',A//B)\n",
    "print('|A|=', f\"{det(A):.9f}\")\n",
    "print('Inverse of A =',inv(A))\n",
    "print(2*A)"
   ]
  },
  {
   "cell_type": "markdown",
   "id": "72199cf6",
   "metadata": {},
   "source": [
    "# Rank of a Matrix"
   ]
  },
  {
   "cell_type": "markdown",
   "id": "995ad6cd",
   "metadata": {},
   "source": [
    "- Number of linearly independant rows of Matrix\n",
    "- Number of Non Zero Rows after row echlon form\n",
    "- If $ A $ is $ 2 X 2 $ Matrix then Rank of A denoted by $\\rho(A)= 2 $ if $|A| \\neq 0$\n",
    "- $ \\rho(A)= 1 $ if $|A| = 0$\n",
    "- -----------------------------------------------------------------\n",
    "\n",
    "- If $ A $ is $ 3 X 3 $ Matrix then $ \\rho(A)= 3 $ if $|A| \\neq 0$\n",
    "- $ \\rho(A)= 2 $ if atleast one minor of $A$ of order 2 $\\neq 0$\n",
    "- $ \\rho(A)= 1 $ if all minor of $A$ of order 2 $= 0$\n",
    "- ------------------------------------------------------------\n",
    "- Rank of Matrix can not be greater than size of Matrix \n",
    "- Minor means determinant\n",
    "- If $A$ is of order $n$ then $\\rho(A) \\leq n $\n",
    "- If $A$ id of order $ mxn$ then $\\rho(A)  \\leq min$\\{m,n\\}\n",
    "- ------------------------------------------------------------\n",
    "\n",
    "- If $A$ has order greater than or equal to 4 we can use row-echlon form"
   ]
  },
  {
   "cell_type": "code",
   "execution_count": null,
   "id": "faa6fb86",
   "metadata": {},
   "outputs": [],
   "source": [
    "import numpy as np\n",
    "A = np.array([[1,2,3],[1,2,3],[1,2,3]])\n",
    "r_A= np.linalg.matrix_rank(A)\n",
    "print('Rank of A =',r_A)"
   ]
  },
  {
   "cell_type": "code",
   "execution_count": null,
   "id": "dffad448",
   "metadata": {},
   "outputs": [],
   "source": [
    "A = np.array([[1,2,3],[2,4,6],[3,6,9]])\n",
    "r_A= np.linalg.matrix_rank(A)\n",
    "print('Rank of A =',r_A)"
   ]
  },
  {
   "cell_type": "code",
   "execution_count": null,
   "id": "99e60fbf",
   "metadata": {},
   "outputs": [],
   "source": [
    "A = np.array([[1,2,3],[4,5,6],[5,7,9]])\n",
    "r_A= np.linalg.matrix_rank(A)\n",
    "print('Rank of A =',r_A)"
   ]
  },
  {
   "cell_type": "code",
   "execution_count": null,
   "id": "58decfe1",
   "metadata": {},
   "outputs": [],
   "source": [
    "A = np.array([[1,2,3,6,7],[1,2,3,7,8],[1,2,3,8,7]])\n",
    "r_A= np.linalg.matrix_rank(A)\n",
    "print('Rank of A =',r_A)"
   ]
  },
  {
   "cell_type": "code",
   "execution_count": null,
   "id": "1c460205",
   "metadata": {},
   "outputs": [],
   "source": [
    "def matrix_minor(arr,i,j):\n",
    "    return round(det(np.delete(np.delete(arr,i,axis=0),j,axis=1)),2)"
   ]
  },
  {
   "cell_type": "markdown",
   "id": "ddebf9fb",
   "metadata": {},
   "source": [
    "- $A = \\begin{bmatrix}\n",
    " 1&2&3\\\\\n",
    " 4&5&6\\\\\n",
    " 7&8&9       \n",
    " \\end{bmatrix}$ \n",
    " \n",
    " - $A = \\begin{bmatrix}\n",
    " A[0,0]&A[0,1]&A[0,2]\\\\\n",
    " A[1,0]&A[1,1]&A[1,2]\\\\\n",
    " A[2,0]&A[2,1]&A[2,2]      \n",
    " \\end{bmatrix}$ "
   ]
  },
  {
   "cell_type": "code",
   "execution_count": null,
   "id": "f2409273",
   "metadata": {},
   "outputs": [],
   "source": [
    "A = np.array([[1,2,3],[4,5,6],[7,8,9]])\n",
    "for i in range(0,3):\n",
    "    for j in range(0,3):\n",
    "      print(f'minor of {A[i,j]} is' ,matrix_minor(A,i,j))"
   ]
  },
  {
   "cell_type": "markdown",
   "id": "6f5f99d4",
   "metadata": {},
   "source": [
    "# Row Echlon Form and Rank\n",
    "\n",
    "## Elementry row Operations"
   ]
  },
  {
   "cell_type": "markdown",
   "id": "b7587c99",
   "metadata": {},
   "source": [
    "- consider the following Matrix\n",
    "$ \\begin{bmatrix} a_{11} & a_{12} & a_{13}\\\\ a_{21}& a_{22} & a_{23}\\\\ a_{31}& a_{32}  & a_{33} \\end{bmatrix} \\\\ $\n",
    "- $R_1 = \\begin{bmatrix} a_{11} & a_{12} & a_{13} \\end{bmatrix} $\n",
    "- $R_2 = \\begin{bmatrix} a_{21} & a_{22} & a_{23} \\end{bmatrix} $\n",
    "- $R_1 = \\begin{bmatrix} a_{31} & a_{32} & a_{33} \\end{bmatrix} $\n",
    "\n",
    "- We can carry out following operations\n",
    "- $R_i\\pm R_j ,  k R_i , k_1R_i\\pm k_2 R_j$ or interchange rows like $R_i \\leftrightarrow R_j$ for a constant $k$\n",
    "\n",
    "#### We cannot multiply or devided two rows."
   ]
  },
  {
   "cell_type": "markdown",
   "id": "83fda65e",
   "metadata": {},
   "source": [
    "- Consider the following matrix \n",
    "\n",
    "$ \\begin{bmatrix} 1 & 2 & 3\\\\ 4& 5 & 6\\\\ 7& 8  & 9 \\end{bmatrix} \\\\ $ \n",
    "\n",
    "- $ R_2 - 4R_1  \\mapsto \\begin{bmatrix} 4 & 5 & 6 \\end{bmatrix} - 4 \\begin{bmatrix} 1 & 2 & 3 \\end{bmatrix} = \\begin{bmatrix} 0 & -3 & -6 \\end{bmatrix} $\n"
   ]
  },
  {
   "cell_type": "markdown",
   "id": "8d954949",
   "metadata": {},
   "source": [
    "## Row Echlon Form\n",
    "- The first number in the row (called a leading coefficient) is 1. Note: some authors don’t require that the leading coefficient is a 1; it could be any number.\n",
    "- Every leading 1 is to the right of the one above it.\n",
    "- Any non-zero rows are always above rows with all zeros."
   ]
  },
  {
   "cell_type": "code",
   "execution_count": null,
   "id": "f1a6015c",
   "metadata": {},
   "outputs": [],
   "source": [
    "# import sympy \n",
    "from sympy import * \n",
    "  \n",
    "M = Matrix([[1,2,3], [4,5,6], [7,8,9]])\n",
    "print(\"Matrix : {} \".format(M))\n",
    "   \n",
    "# Use sympy.rref() method \n",
    "M_rref = M.rref()  \n",
    "      \n",
    "print(\"The Row echelon form of matrix M and the pivot columns :\" ,M_rref) "
   ]
  },
  {
   "cell_type": "markdown",
   "id": "625bb952",
   "metadata": {},
   "source": [
    "<div style=\"text-align: right\"><img src=\"op.png\" width=\"700\" />"
   ]
  },
  {
   "cell_type": "code",
   "execution_count": null,
   "id": "9582578a",
   "metadata": {},
   "outputs": [],
   "source": [
    "M = Matrix([[1,2,0], [4,-5,6], [1,8,9],[0,6,9]])\n",
    "print(\"Matrix : {} \".format(M))\n",
    "   \n",
    "# Use sympy.rref() method \n",
    "M_rref = M.rref()  \n",
    "      \n",
    "print(\"The Row echelon form of matrix M and the pivot columns :\" ,M_rref) "
   ]
  },
  {
   "cell_type": "markdown",
   "id": "95198620",
   "metadata": {},
   "source": [
    "### More On Rank \n",
    "- Number of Non Zero Rows after row echlon form .\n",
    "- A row is called $0$ - Row if all its entries are zeros"
   ]
  },
  {
   "cell_type": "code",
   "execution_count": null,
   "id": "6503bf39",
   "metadata": {},
   "outputs": [],
   "source": [
    "M = Matrix([[1,2,0], [4,-5,6], [1,8,9],[0,6,9]])\n",
    "print(\"Matrix : {} \".format(M))\n",
    "   \n",
    "# Use sympy.rref() method \n",
    "M_rref = M.rref()  \n",
    "      \n",
    "print(\"The Row echelon form of matrix M and the pivot columns :\" ,M_rref) \n",
    "print(\"This matrix has three non-zero rows hence rank is 3\") "
   ]
  },
  {
   "cell_type": "markdown",
   "id": "45b7c734",
   "metadata": {},
   "source": [
    "# System of equations and linearly independent/ dependent vectors"
   ]
  },
  {
   "cell_type": "markdown",
   "id": "85ddf119",
   "metadata": {},
   "source": [
    "-Consider a set of vectors $ S = \\{ \\vec v_1,…,\\vec v_k \\}$ and scalars $\\beta_1 , \\beta_2,\\dots ,\\beta_k$, \n",
    "- If there is a way to get $\\sum_{i=1}^{k} \\beta_i \\vec v_i = \\beta_1 \\vec v_1+\\beta_2 \\vec v_2+\\dots+ \\beta_k \\vec v_k=0 $ with at least one $\\beta_i \\neq 0$, we have linearly dependent vectors.\n",
    "- In other words, if we can get the zero vector as a linear combination of the vectors in the set, with weights that are not all zero, we have a linearly dependent set.\n",
    "\n",
    "- If $\\sum_{i=1}^{k} \\beta_i \\vec v_i = \\beta_1 \\vec v_1+\\beta_2 \\vec v_2+\\dots+ \\beta_k \\vec v_k=0 $ \n",
    "- and all $\\beta_i = 0$ , we say $ S = \\{ \\vec v_1,…,\\vec v_k \\}$ is linearly independant"
   ]
  },
  {
   "cell_type": "markdown",
   "id": "07241a43",
   "metadata": {},
   "source": [
    "- Facts about linear independence\n",
    "- Two vectors are linearly dependent if and only if they are collinear, i.e., one is a scalar multiple of the other.\n",
    "- Any set containing the zero vector is linearly dependent.\n",
    "- Any subset $T$ of set $S$ is linearly dependent then $S$ is also linearly dependent\n"
   ]
  },
  {
   "cell_type": "markdown",
   "id": "128d5e94",
   "metadata": {},
   "source": [
    "Consider a set of vectors $ S = \\{v_1=\\begin{bmatrix} 1 \\\\2 \\\\  3 \\end{bmatrix}, v_2=\\begin{bmatrix} 4\\\\ 5 \\\\ 6  \\end{bmatrix},v_3= \\begin{bmatrix} 7\\\\ 8  \\\\ 9 \\end{bmatrix}\\}$ are linearly independent or dependent?"
   ]
  },
  {
   "cell_type": "markdown",
   "id": "39698540",
   "metadata": {},
   "source": [
    " $\\sum_{i=1}^{3} \\beta_i \\vec v_i = \\beta_1 \\vec v_1+\\beta_2 \\vec v_2+ \\beta_3 \\vec v_3= 0 $"
   ]
  },
  {
   "cell_type": "markdown",
   "id": "5a7d5011",
   "metadata": {},
   "source": [
    "$\\sum_{i=1}^{3} \\beta_i \\vec v_i = \\beta_1 \\begin{bmatrix} 1 \\\\2 \\\\  3 \\end{bmatrix}+\\beta_2 \\begin{bmatrix} 4\\\\ 5 \\\\ 6  \\end{bmatrix}+ \\beta_3 \\begin{bmatrix} 7\\\\ 8  \\\\ 9 \\end{bmatrix}= \\begin{bmatrix} 0\\\\ 0 \\\\ 0 \\end{bmatrix} $"
   ]
  },
  {
   "cell_type": "markdown",
   "id": "214550fe",
   "metadata": {},
   "source": [
    "$ \\beta_1 + 4 \\beta_2 + 7\\beta_3 = 0 \\\\ 2\\beta_1 + 5 \\beta_2 + 8\\beta_3 = 0 \\\\ 3\\beta_1 + 6 \\beta_2 + 9\\beta_3 = 0$"
   ]
  },
  {
   "cell_type": "markdown",
   "id": "3cfecb45",
   "metadata": {},
   "source": [
    "$  \n",
    "  a_{11}x_1+a_{12}x_2+\\dots+a_{1n}x_n = 0\\\\\n",
    "  a_{21}x_1+a_{22}x_2+\\dots+a_{2n}x_n = 0\\\\\n",
    "  a_{31}x_1+a_{32}x_2+\\dots+a_{3n}x_n = 0\\\\\n",
    "  \\dots                               \\\\\n",
    "  a_{m1}x_1+a_{m2}x_2+\\dots+a_{mn}x_n = 0\\\\  \n",
    "  $, \n",
    "  \n",
    "- Above system can be written as $A X=0$\n",
    "  "
   ]
  },
  {
   "cell_type": "code",
   "execution_count": null,
   "id": "6c74415b",
   "metadata": {},
   "outputs": [],
   "source": []
  }
 ],
 "metadata": {
  "kernelspec": {
   "display_name": "Python 3 (ipykernel)",
   "language": "python",
   "name": "python3"
  },
  "language_info": {
   "codemirror_mode": {
    "name": "ipython",
    "version": 3
   },
   "file_extension": ".py",
   "mimetype": "text/x-python",
   "name": "python",
   "nbconvert_exporter": "python",
   "pygments_lexer": "ipython3",
   "version": "3.8.9"
  }
 },
 "nbformat": 4,
 "nbformat_minor": 5
}
