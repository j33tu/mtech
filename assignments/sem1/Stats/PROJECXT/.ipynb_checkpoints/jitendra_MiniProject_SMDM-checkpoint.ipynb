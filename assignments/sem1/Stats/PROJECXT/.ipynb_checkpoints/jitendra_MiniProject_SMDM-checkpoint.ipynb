{
 "cells": [
  {
   "cell_type": "code",
   "execution_count": 27,
   "id": "5c41c831",
   "metadata": {},
   "outputs": [],
   "source": [
    "import pandas as pd\n",
    "import numpy as np\n",
    "import matplotlib.pyplot as plt\n",
    "import seaborn as sns\n",
    "import scipy.stats as st\n",
    "import statsmodels as sm"
   ]
  },
  {
   "cell_type": "markdown",
   "id": "1be6813e",
   "metadata": {},
   "source": [
    "The aim is of this project is to obtain an understanding of the data and decipher the relationship among the variables, understanding what possible variables can affect producivity which can be whether overtime or team size or number of worker or department type or a day (like monday ect...) ect.. have an effect. \n",
    "\n",
    "Suppose the manager is interested in the following questions \n",
    "\n",
    "Exploratory Data Analysis & Descriptive Statistics \n",
    "\n",
    "1. Basic Summary statistics of the data for the numerical variables \n",
    "2. basic Summary of the data for the number of working days, count of quarters in the year\n",
    "3. Mean and standard deviation of actual producivity for every quarter and Histogram plot of actual productivity based on every quarter and conclusion accordingly\n",
    "4. Number count for sewing and finishing department \n",
    "5. Mean and standard deviation of actual producivity for sewing and finishing Histogram plot of actual productivity based on both department and conclusion accordingly\n",
    "6. Number count for  teams, smv across the year\n",
    "7. Histogram & Box plot of actual productivity based on all working days, team size, quarterts and  Conclude accordingly \n",
    "8. Find correlation matrix and draw heat map for all variables\n",
    "9. Conclude (Is the company able to meet target, are they giving incentives based on producitivity, does overtime have any effect on productivity)\n",
    "10. Find the correlation between actual and target productivity for every quarter and for every department. What do you conclude\n",
    "11. Based on the above details of EDA and Descriptive statisitcs analysis what would you say could be the possible factors which can affect productivity. "
   ]
  },
  {
   "cell_type": "code",
   "execution_count": 4,
   "id": "8ed56b22",
   "metadata": {},
   "outputs": [
    {
     "data": {
      "text/html": [
       "<div>\n",
       "<style scoped>\n",
       "    .dataframe tbody tr th:only-of-type {\n",
       "        vertical-align: middle;\n",
       "    }\n",
       "\n",
       "    .dataframe tbody tr th {\n",
       "        vertical-align: top;\n",
       "    }\n",
       "\n",
       "    .dataframe thead th {\n",
       "        text-align: right;\n",
       "    }\n",
       "</style>\n",
       "<table border=\"1\" class=\"dataframe\">\n",
       "  <thead>\n",
       "    <tr style=\"text-align: right;\">\n",
       "      <th></th>\n",
       "      <th>date</th>\n",
       "      <th>quarter</th>\n",
       "      <th>department</th>\n",
       "      <th>day</th>\n",
       "      <th>team</th>\n",
       "      <th>targeted_productivity</th>\n",
       "      <th>smv</th>\n",
       "      <th>wip</th>\n",
       "      <th>over_time</th>\n",
       "      <th>incentive</th>\n",
       "      <th>idle_time</th>\n",
       "      <th>idle_men</th>\n",
       "      <th>no_of_style_change</th>\n",
       "      <th>no_of_workers</th>\n",
       "      <th>actual_productivity</th>\n",
       "    </tr>\n",
       "  </thead>\n",
       "  <tbody>\n",
       "    <tr>\n",
       "      <th>0</th>\n",
       "      <td>01-01-2015</td>\n",
       "      <td>Quarter1</td>\n",
       "      <td>sewing</td>\n",
       "      <td>Thursday</td>\n",
       "      <td>8</td>\n",
       "      <td>0.80</td>\n",
       "      <td>26.16</td>\n",
       "      <td>1108.0</td>\n",
       "      <td>7080</td>\n",
       "      <td>98</td>\n",
       "      <td>0.0</td>\n",
       "      <td>0</td>\n",
       "      <td>0</td>\n",
       "      <td>59.0</td>\n",
       "      <td>0.940725</td>\n",
       "    </tr>\n",
       "    <tr>\n",
       "      <th>1</th>\n",
       "      <td>01-01-2015</td>\n",
       "      <td>Quarter1</td>\n",
       "      <td>finishing</td>\n",
       "      <td>Thursday</td>\n",
       "      <td>1</td>\n",
       "      <td>0.75</td>\n",
       "      <td>3.94</td>\n",
       "      <td>NaN</td>\n",
       "      <td>960</td>\n",
       "      <td>0</td>\n",
       "      <td>0.0</td>\n",
       "      <td>0</td>\n",
       "      <td>0</td>\n",
       "      <td>8.0</td>\n",
       "      <td>0.886500</td>\n",
       "    </tr>\n",
       "    <tr>\n",
       "      <th>2</th>\n",
       "      <td>01-01-2015</td>\n",
       "      <td>Quarter1</td>\n",
       "      <td>sewing</td>\n",
       "      <td>Thursday</td>\n",
       "      <td>11</td>\n",
       "      <td>0.80</td>\n",
       "      <td>11.41</td>\n",
       "      <td>968.0</td>\n",
       "      <td>3660</td>\n",
       "      <td>50</td>\n",
       "      <td>0.0</td>\n",
       "      <td>0</td>\n",
       "      <td>0</td>\n",
       "      <td>30.5</td>\n",
       "      <td>0.800570</td>\n",
       "    </tr>\n",
       "    <tr>\n",
       "      <th>3</th>\n",
       "      <td>01-01-2015</td>\n",
       "      <td>Quarter1</td>\n",
       "      <td>sewing</td>\n",
       "      <td>Thursday</td>\n",
       "      <td>12</td>\n",
       "      <td>0.80</td>\n",
       "      <td>11.41</td>\n",
       "      <td>968.0</td>\n",
       "      <td>3660</td>\n",
       "      <td>50</td>\n",
       "      <td>0.0</td>\n",
       "      <td>0</td>\n",
       "      <td>0</td>\n",
       "      <td>30.5</td>\n",
       "      <td>0.800570</td>\n",
       "    </tr>\n",
       "    <tr>\n",
       "      <th>4</th>\n",
       "      <td>01-01-2015</td>\n",
       "      <td>Quarter1</td>\n",
       "      <td>sewing</td>\n",
       "      <td>Thursday</td>\n",
       "      <td>6</td>\n",
       "      <td>0.80</td>\n",
       "      <td>25.90</td>\n",
       "      <td>1170.0</td>\n",
       "      <td>1920</td>\n",
       "      <td>50</td>\n",
       "      <td>0.0</td>\n",
       "      <td>0</td>\n",
       "      <td>0</td>\n",
       "      <td>56.0</td>\n",
       "      <td>0.800382</td>\n",
       "    </tr>\n",
       "    <tr>\n",
       "      <th>...</th>\n",
       "      <td>...</td>\n",
       "      <td>...</td>\n",
       "      <td>...</td>\n",
       "      <td>...</td>\n",
       "      <td>...</td>\n",
       "      <td>...</td>\n",
       "      <td>...</td>\n",
       "      <td>...</td>\n",
       "      <td>...</td>\n",
       "      <td>...</td>\n",
       "      <td>...</td>\n",
       "      <td>...</td>\n",
       "      <td>...</td>\n",
       "      <td>...</td>\n",
       "      <td>...</td>\n",
       "    </tr>\n",
       "    <tr>\n",
       "      <th>1192</th>\n",
       "      <td>03-11-2015</td>\n",
       "      <td>Quarter2</td>\n",
       "      <td>finishing</td>\n",
       "      <td>Wednesday</td>\n",
       "      <td>10</td>\n",
       "      <td>0.75</td>\n",
       "      <td>2.90</td>\n",
       "      <td>NaN</td>\n",
       "      <td>960</td>\n",
       "      <td>0</td>\n",
       "      <td>0.0</td>\n",
       "      <td>0</td>\n",
       "      <td>0</td>\n",
       "      <td>8.0</td>\n",
       "      <td>0.628333</td>\n",
       "    </tr>\n",
       "    <tr>\n",
       "      <th>1193</th>\n",
       "      <td>03-11-2015</td>\n",
       "      <td>Quarter2</td>\n",
       "      <td>finishing</td>\n",
       "      <td>Wednesday</td>\n",
       "      <td>8</td>\n",
       "      <td>0.70</td>\n",
       "      <td>3.90</td>\n",
       "      <td>NaN</td>\n",
       "      <td>960</td>\n",
       "      <td>0</td>\n",
       "      <td>0.0</td>\n",
       "      <td>0</td>\n",
       "      <td>0</td>\n",
       "      <td>8.0</td>\n",
       "      <td>0.625625</td>\n",
       "    </tr>\n",
       "    <tr>\n",
       "      <th>1194</th>\n",
       "      <td>03-11-2015</td>\n",
       "      <td>Quarter2</td>\n",
       "      <td>finishing</td>\n",
       "      <td>Wednesday</td>\n",
       "      <td>7</td>\n",
       "      <td>0.65</td>\n",
       "      <td>3.90</td>\n",
       "      <td>NaN</td>\n",
       "      <td>960</td>\n",
       "      <td>0</td>\n",
       "      <td>0.0</td>\n",
       "      <td>0</td>\n",
       "      <td>0</td>\n",
       "      <td>8.0</td>\n",
       "      <td>0.625625</td>\n",
       "    </tr>\n",
       "    <tr>\n",
       "      <th>1195</th>\n",
       "      <td>03-11-2015</td>\n",
       "      <td>Quarter2</td>\n",
       "      <td>finishing</td>\n",
       "      <td>Wednesday</td>\n",
       "      <td>9</td>\n",
       "      <td>0.75</td>\n",
       "      <td>2.90</td>\n",
       "      <td>NaN</td>\n",
       "      <td>1800</td>\n",
       "      <td>0</td>\n",
       "      <td>0.0</td>\n",
       "      <td>0</td>\n",
       "      <td>0</td>\n",
       "      <td>15.0</td>\n",
       "      <td>0.505889</td>\n",
       "    </tr>\n",
       "    <tr>\n",
       "      <th>1196</th>\n",
       "      <td>03-11-2015</td>\n",
       "      <td>Quarter2</td>\n",
       "      <td>finishing</td>\n",
       "      <td>Wednesday</td>\n",
       "      <td>6</td>\n",
       "      <td>0.70</td>\n",
       "      <td>2.90</td>\n",
       "      <td>NaN</td>\n",
       "      <td>720</td>\n",
       "      <td>0</td>\n",
       "      <td>0.0</td>\n",
       "      <td>0</td>\n",
       "      <td>0</td>\n",
       "      <td>6.0</td>\n",
       "      <td>0.394722</td>\n",
       "    </tr>\n",
       "  </tbody>\n",
       "</table>\n",
       "<p>1197 rows × 15 columns</p>\n",
       "</div>"
      ],
      "text/plain": [
       "            date   quarter department        day  team  targeted_productivity  \\\n",
       "0     01-01-2015  Quarter1     sewing   Thursday     8                   0.80   \n",
       "1     01-01-2015  Quarter1  finishing   Thursday     1                   0.75   \n",
       "2     01-01-2015  Quarter1     sewing   Thursday    11                   0.80   \n",
       "3     01-01-2015  Quarter1     sewing   Thursday    12                   0.80   \n",
       "4     01-01-2015  Quarter1     sewing   Thursday     6                   0.80   \n",
       "...          ...       ...        ...        ...   ...                    ...   \n",
       "1192  03-11-2015  Quarter2  finishing  Wednesday    10                   0.75   \n",
       "1193  03-11-2015  Quarter2  finishing  Wednesday     8                   0.70   \n",
       "1194  03-11-2015  Quarter2  finishing  Wednesday     7                   0.65   \n",
       "1195  03-11-2015  Quarter2  finishing  Wednesday     9                   0.75   \n",
       "1196  03-11-2015  Quarter2  finishing  Wednesday     6                   0.70   \n",
       "\n",
       "        smv     wip  over_time  incentive  idle_time  idle_men  \\\n",
       "0     26.16  1108.0       7080         98        0.0         0   \n",
       "1      3.94     NaN        960          0        0.0         0   \n",
       "2     11.41   968.0       3660         50        0.0         0   \n",
       "3     11.41   968.0       3660         50        0.0         0   \n",
       "4     25.90  1170.0       1920         50        0.0         0   \n",
       "...     ...     ...        ...        ...        ...       ...   \n",
       "1192   2.90     NaN        960          0        0.0         0   \n",
       "1193   3.90     NaN        960          0        0.0         0   \n",
       "1194   3.90     NaN        960          0        0.0         0   \n",
       "1195   2.90     NaN       1800          0        0.0         0   \n",
       "1196   2.90     NaN        720          0        0.0         0   \n",
       "\n",
       "      no_of_style_change  no_of_workers  actual_productivity  \n",
       "0                      0           59.0             0.940725  \n",
       "1                      0            8.0             0.886500  \n",
       "2                      0           30.5             0.800570  \n",
       "3                      0           30.5             0.800570  \n",
       "4                      0           56.0             0.800382  \n",
       "...                  ...            ...                  ...  \n",
       "1192                   0            8.0             0.628333  \n",
       "1193                   0            8.0             0.625625  \n",
       "1194                   0            8.0             0.625625  \n",
       "1195                   0           15.0             0.505889  \n",
       "1196                   0            6.0             0.394722  \n",
       "\n",
       "[1197 rows x 15 columns]"
      ]
     },
     "execution_count": 4,
     "metadata": {},
     "output_type": "execute_result"
    }
   ],
   "source": [
    "data = pd.read_csv('garments_worker_productivity.csv')\n",
    "data"
   ]
  },
  {
   "cell_type": "code",
   "execution_count": 5,
   "id": "db03e18e",
   "metadata": {},
   "outputs": [
    {
     "data": {
      "text/html": [
       "<div>\n",
       "<style scoped>\n",
       "    .dataframe tbody tr th:only-of-type {\n",
       "        vertical-align: middle;\n",
       "    }\n",
       "\n",
       "    .dataframe tbody tr th {\n",
       "        vertical-align: top;\n",
       "    }\n",
       "\n",
       "    .dataframe thead th {\n",
       "        text-align: right;\n",
       "    }\n",
       "</style>\n",
       "<table border=\"1\" class=\"dataframe\">\n",
       "  <thead>\n",
       "    <tr style=\"text-align: right;\">\n",
       "      <th></th>\n",
       "      <th>targeted_productivity</th>\n",
       "      <th>smv</th>\n",
       "      <th>wip</th>\n",
       "      <th>over_time</th>\n",
       "      <th>incentive</th>\n",
       "      <th>idle_time</th>\n",
       "      <th>idle_men</th>\n",
       "      <th>no_of_style_change</th>\n",
       "      <th>no_of_workers</th>\n",
       "      <th>actual_productivity</th>\n",
       "    </tr>\n",
       "  </thead>\n",
       "  <tbody>\n",
       "    <tr>\n",
       "      <th>count</th>\n",
       "      <td>1197.000000</td>\n",
       "      <td>1197.000000</td>\n",
       "      <td>691.000000</td>\n",
       "      <td>1197.000000</td>\n",
       "      <td>1197.000000</td>\n",
       "      <td>1197.000000</td>\n",
       "      <td>1197.000000</td>\n",
       "      <td>1197.000000</td>\n",
       "      <td>1197.000000</td>\n",
       "      <td>1197.000000</td>\n",
       "    </tr>\n",
       "    <tr>\n",
       "      <th>mean</th>\n",
       "      <td>0.729632</td>\n",
       "      <td>15.062172</td>\n",
       "      <td>1190.465991</td>\n",
       "      <td>4567.460317</td>\n",
       "      <td>38.210526</td>\n",
       "      <td>0.730159</td>\n",
       "      <td>0.369256</td>\n",
       "      <td>0.150376</td>\n",
       "      <td>34.609858</td>\n",
       "      <td>0.735091</td>\n",
       "    </tr>\n",
       "    <tr>\n",
       "      <th>std</th>\n",
       "      <td>0.097891</td>\n",
       "      <td>10.943219</td>\n",
       "      <td>1837.455001</td>\n",
       "      <td>3348.823563</td>\n",
       "      <td>160.182643</td>\n",
       "      <td>12.709757</td>\n",
       "      <td>3.268987</td>\n",
       "      <td>0.427848</td>\n",
       "      <td>22.197687</td>\n",
       "      <td>0.174488</td>\n",
       "    </tr>\n",
       "    <tr>\n",
       "      <th>min</th>\n",
       "      <td>0.070000</td>\n",
       "      <td>2.900000</td>\n",
       "      <td>7.000000</td>\n",
       "      <td>0.000000</td>\n",
       "      <td>0.000000</td>\n",
       "      <td>0.000000</td>\n",
       "      <td>0.000000</td>\n",
       "      <td>0.000000</td>\n",
       "      <td>2.000000</td>\n",
       "      <td>0.233705</td>\n",
       "    </tr>\n",
       "    <tr>\n",
       "      <th>25%</th>\n",
       "      <td>0.700000</td>\n",
       "      <td>3.940000</td>\n",
       "      <td>774.500000</td>\n",
       "      <td>1440.000000</td>\n",
       "      <td>0.000000</td>\n",
       "      <td>0.000000</td>\n",
       "      <td>0.000000</td>\n",
       "      <td>0.000000</td>\n",
       "      <td>9.000000</td>\n",
       "      <td>0.650307</td>\n",
       "    </tr>\n",
       "    <tr>\n",
       "      <th>50%</th>\n",
       "      <td>0.750000</td>\n",
       "      <td>15.260000</td>\n",
       "      <td>1039.000000</td>\n",
       "      <td>3960.000000</td>\n",
       "      <td>0.000000</td>\n",
       "      <td>0.000000</td>\n",
       "      <td>0.000000</td>\n",
       "      <td>0.000000</td>\n",
       "      <td>34.000000</td>\n",
       "      <td>0.773333</td>\n",
       "    </tr>\n",
       "    <tr>\n",
       "      <th>75%</th>\n",
       "      <td>0.800000</td>\n",
       "      <td>24.260000</td>\n",
       "      <td>1252.500000</td>\n",
       "      <td>6960.000000</td>\n",
       "      <td>50.000000</td>\n",
       "      <td>0.000000</td>\n",
       "      <td>0.000000</td>\n",
       "      <td>0.000000</td>\n",
       "      <td>57.000000</td>\n",
       "      <td>0.850253</td>\n",
       "    </tr>\n",
       "    <tr>\n",
       "      <th>max</th>\n",
       "      <td>0.800000</td>\n",
       "      <td>54.560000</td>\n",
       "      <td>23122.000000</td>\n",
       "      <td>25920.000000</td>\n",
       "      <td>3600.000000</td>\n",
       "      <td>300.000000</td>\n",
       "      <td>45.000000</td>\n",
       "      <td>2.000000</td>\n",
       "      <td>89.000000</td>\n",
       "      <td>1.120437</td>\n",
       "    </tr>\n",
       "  </tbody>\n",
       "</table>\n",
       "</div>"
      ],
      "text/plain": [
       "       targeted_productivity          smv           wip     over_time  \\\n",
       "count            1197.000000  1197.000000    691.000000   1197.000000   \n",
       "mean                0.729632    15.062172   1190.465991   4567.460317   \n",
       "std                 0.097891    10.943219   1837.455001   3348.823563   \n",
       "min                 0.070000     2.900000      7.000000      0.000000   \n",
       "25%                 0.700000     3.940000    774.500000   1440.000000   \n",
       "50%                 0.750000    15.260000   1039.000000   3960.000000   \n",
       "75%                 0.800000    24.260000   1252.500000   6960.000000   \n",
       "max                 0.800000    54.560000  23122.000000  25920.000000   \n",
       "\n",
       "         incentive    idle_time     idle_men  no_of_style_change  \\\n",
       "count  1197.000000  1197.000000  1197.000000         1197.000000   \n",
       "mean     38.210526     0.730159     0.369256            0.150376   \n",
       "std     160.182643    12.709757     3.268987            0.427848   \n",
       "min       0.000000     0.000000     0.000000            0.000000   \n",
       "25%       0.000000     0.000000     0.000000            0.000000   \n",
       "50%       0.000000     0.000000     0.000000            0.000000   \n",
       "75%      50.000000     0.000000     0.000000            0.000000   \n",
       "max    3600.000000   300.000000    45.000000            2.000000   \n",
       "\n",
       "       no_of_workers  actual_productivity  \n",
       "count    1197.000000          1197.000000  \n",
       "mean       34.609858             0.735091  \n",
       "std        22.197687             0.174488  \n",
       "min         2.000000             0.233705  \n",
       "25%         9.000000             0.650307  \n",
       "50%        34.000000             0.773333  \n",
       "75%        57.000000             0.850253  \n",
       "max        89.000000             1.120437  "
      ]
     },
     "execution_count": 5,
     "metadata": {},
     "output_type": "execute_result"
    }
   ],
   "source": [
    "##1. Basic Summary statistics of numerical variables\n",
    "summary = data.describe()\n",
    "summary_new = summary.drop('team',axis=1)\n",
    "summary_new"
   ]
  },
  {
   "cell_type": "code",
   "execution_count": 17,
   "id": "fea9d674",
   "metadata": {},
   "outputs": [
    {
     "data": {
      "text/plain": [
       "Quarter1    360\n",
       "Quarter2    335\n",
       "Quarter4    248\n",
       "Quarter3    210\n",
       "Quarter5     44\n",
       "Name: quarter, dtype: int64"
      ]
     },
     "execution_count": 17,
     "metadata": {},
     "output_type": "execute_result"
    }
   ],
   "source": [
    "# 2. Basic Summary of the number of working days and count of quarters\n",
    "working_days_count = data['date'].value_counts()\n",
    "quarters_count = data['quarter'].value_counts()\n",
    "quarters_count"
   ]
  },
  {
   "cell_type": "code",
   "execution_count": 18,
   "id": "a1aece46",
   "metadata": {},
   "outputs": [
    {
     "data": {
      "text/html": [
       "<div>\n",
       "<style scoped>\n",
       "    .dataframe tbody tr th:only-of-type {\n",
       "        vertical-align: middle;\n",
       "    }\n",
       "\n",
       "    .dataframe tbody tr th {\n",
       "        vertical-align: top;\n",
       "    }\n",
       "\n",
       "    .dataframe thead th {\n",
       "        text-align: right;\n",
       "    }\n",
       "</style>\n",
       "<table border=\"1\" class=\"dataframe\">\n",
       "  <thead>\n",
       "    <tr style=\"text-align: right;\">\n",
       "      <th></th>\n",
       "      <th>mean</th>\n",
       "      <th>std</th>\n",
       "    </tr>\n",
       "    <tr>\n",
       "      <th>quarter</th>\n",
       "      <th></th>\n",
       "      <th></th>\n",
       "    </tr>\n",
       "  </thead>\n",
       "  <tbody>\n",
       "    <tr>\n",
       "      <th>Quarter1</th>\n",
       "      <td>0.751560</td>\n",
       "      <td>0.161318</td>\n",
       "    </tr>\n",
       "    <tr>\n",
       "      <th>Quarter2</th>\n",
       "      <td>0.743710</td>\n",
       "      <td>0.171114</td>\n",
       "    </tr>\n",
       "    <tr>\n",
       "      <th>Quarter3</th>\n",
       "      <td>0.704759</td>\n",
       "      <td>0.175614</td>\n",
       "    </tr>\n",
       "    <tr>\n",
       "      <th>Quarter4</th>\n",
       "      <td>0.709067</td>\n",
       "      <td>0.185983</td>\n",
       "    </tr>\n",
       "    <tr>\n",
       "      <th>Quarter5</th>\n",
       "      <td>0.826177</td>\n",
       "      <td>0.183851</td>\n",
       "    </tr>\n",
       "  </tbody>\n",
       "</table>\n",
       "</div>"
      ],
      "text/plain": [
       "              mean       std\n",
       "quarter                     \n",
       "Quarter1  0.751560  0.161318\n",
       "Quarter2  0.743710  0.171114\n",
       "Quarter3  0.704759  0.175614\n",
       "Quarter4  0.709067  0.185983\n",
       "Quarter5  0.826177  0.183851"
      ]
     },
     "execution_count": 18,
     "metadata": {},
     "output_type": "execute_result"
    }
   ],
   "source": [
    "# 3.Mean and standard deviation of actual productivity for every quarter\n",
    "quarterly_data = data.groupby('quarter')['actual_productivity'].agg(['mean','std'])\n",
    "quarterly_data"
   ]
  },
  {
   "cell_type": "code",
   "execution_count": 8,
   "id": "49a23119",
   "metadata": {
    "scrolled": true
   },
   "outputs": [
    {
     "data": {
      "text/plain": [
       "<matplotlib.legend.Legend at 0x2cbc6687850>"
      ]
     },
     "execution_count": 8,
     "metadata": {},
     "output_type": "execute_result"
    },
    {
     "data": {
      "image/png": "[encoded data removed]",
      "text/plain": [
       "<Figure size 640x480 with 1 Axes>"
      ]
     },
     "metadata": {},
     "output_type": "display_data"
    }
   ],
   "source": [
    "# Histogram plot of actual productivity based on every quarter\n",
    "for quarter in data['quarter'].unique():\n",
    "    sns.histplot(data[data['quarter'] == quarter]['actual_productivity'], label=quarter, kde=True)\n",
    "plt.xlabel('actual productivity')\n",
    "plt.ylabel('Frequency')\n",
    "plt.title('Histogram of Actual Productivity by Quarter')\n",
    "plt.legend()"
   ]
  },
  {
   "cell_type": "code",
   "execution_count": 19,
   "id": "9ba774ab",
   "metadata": {},
   "outputs": [
    {
     "data": {
      "text/plain": [
       "sewing       691\n",
       "finishing    506\n",
       "Name: department, dtype: int64"
      ]
     },
     "execution_count": 19,
     "metadata": {},
     "output_type": "execute_result"
    }
   ],
   "source": [
    "# 4. Number count for sewing and finishing department\n",
    "department_counts = data['department'].value_counts()\n",
    "department_counts"
   ]
  },
  {
   "cell_type": "code",
   "execution_count": 20,
   "id": "28559739",
   "metadata": {},
   "outputs": [
    {
     "data": {
      "text/html": [
       "<div>\n",
       "<style scoped>\n",
       "    .dataframe tbody tr th:only-of-type {\n",
       "        vertical-align: middle;\n",
       "    }\n",
       "\n",
       "    .dataframe tbody tr th {\n",
       "        vertical-align: top;\n",
       "    }\n",
       "\n",
       "    .dataframe thead th {\n",
       "        text-align: right;\n",
       "    }\n",
       "</style>\n",
       "<table border=\"1\" class=\"dataframe\">\n",
       "  <thead>\n",
       "    <tr style=\"text-align: right;\">\n",
       "      <th></th>\n",
       "      <th>mean</th>\n",
       "      <th>std</th>\n",
       "    </tr>\n",
       "    <tr>\n",
       "      <th>department</th>\n",
       "      <th></th>\n",
       "      <th></th>\n",
       "    </tr>\n",
       "  </thead>\n",
       "  <tbody>\n",
       "    <tr>\n",
       "      <th>finishing</th>\n",
       "      <td>0.752951</td>\n",
       "      <td>0.197021</td>\n",
       "    </tr>\n",
       "    <tr>\n",
       "      <th>sewing</th>\n",
       "      <td>0.722013</td>\n",
       "      <td>0.154784</td>\n",
       "    </tr>\n",
       "  </tbody>\n",
       "</table>\n",
       "</div>"
      ],
      "text/plain": [
       "                mean       std\n",
       "department                    \n",
       "finishing   0.752951  0.197021\n",
       "sewing      0.722013  0.154784"
      ]
     },
     "execution_count": 20,
     "metadata": {},
     "output_type": "execute_result"
    }
   ],
   "source": [
    "# 5. Mean and standard deviation of actual productivity for sewing and finishing\n",
    "department_productivity_stats = data.groupby('department')['actual_productivity'].agg(['mean', 'std'])\n",
    "department_productivity_stats"
   ]
  },
  {
   "cell_type": "code",
   "execution_count": 18,
   "id": "283259dc",
   "metadata": {},
   "outputs": [
    {
     "data": {
      "text/plain": [
       "8     109\n",
       "2     109\n",
       "4     105\n",
       "1     105\n",
       "9     104\n",
       "10    100\n",
       "12     99\n",
       "7      96\n",
       "3      95\n",
       "6      94\n",
       "5      93\n",
       "11     88\n",
       "Name: team, dtype: int64"
      ]
     },
     "metadata": {},
     "output_type": "display_data"
    },
    {
     "data": {
      "text/plain": [
       "3.94     192\n",
       "2.90     108\n",
       "22.52    103\n",
       "30.10     79\n",
       "4.15      76\n",
       "        ... \n",
       "20.20      1\n",
       "20.55      1\n",
       "50.89      1\n",
       "26.87      1\n",
       "42.41      1\n",
       "Name: smv, Length: 70, dtype: int64"
      ]
     },
     "metadata": {},
     "output_type": "display_data"
    }
   ],
   "source": [
    "# 6. Number count for teams and SMV across the year\n",
    "team_counts = data['team'].value_counts()\n",
    "smv_counts = data['smv'].value_counts()"
   ]
  },
  {
   "cell_type": "code",
   "execution_count": 21,
   "id": "43f59762",
   "metadata": {},
   "outputs": [
    {
     "data": {
      "text/plain": [
       "Text(0.5, 1.0, 'Box Plot of Actual Productivity by Team and Quarter')"
      ]
     },
     "execution_count": 21,
     "metadata": {},
     "output_type": "execute_result"
    },
    {
     "data": {
      "image/png": "[encoded data removed]",
      "text/plain": [
       "<Figure size 640x480 with 1 Axes>"
      ]
     },
     "metadata": {},
     "output_type": "display_data"
    },
    {
     "data": {
      "image/png": "[encoded data removed]",
      "text/plain": [
       "<Figure size 1200x600 with 1 Axes>"
      ]
     },
     "metadata": {},
     "output_type": "display_data"
    }
   ],
   "source": [
    "\n",
    "# 7. Histogram & Box plot of actual productivity based on all working days, team size, quarters\n",
    "sns.histplot(data['actual_productivity'], kde=True)\n",
    "plt.xlabel('Actual Productivity')\n",
    "plt.ylabel('Frequency')\n",
    "plt.title('Histogram of Actual Productivity for All Working Days')\n",
    "plt.figure(figsize=(12, 6))\n",
    "sns.boxplot(x='team', y='actual_productivity', hue='quarter', data=data)\n",
    "plt.xlabel('Team')\n",
    "plt.ylabel('Actual Productivity')\n",
    "plt.title('Box Plot of Actual Productivity by Team and Quarter')\n"
   ]
  },
  {
   "cell_type": "code",
   "execution_count": 24,
   "id": "f227352d",
   "metadata": {},
   "outputs": [
    {
     "data": {
      "image/png": "[encoded data removed]",
      "text/plain": [
       "<Figure size 864x576 with 2 Axes>"
      ]
     },
     "metadata": {
      "needs_background": "light"
     },
     "output_type": "display_data"
    }
   ],
   "source": [
    "# 8. Find correlation matrix and draw a heatmap for all variables\n",
    "correlation_matrix = data.corr()\n",
    "plt.figure(figsize=(12, 8))\n",
    "sns.heatmap(correlation_matrix, annot=True, cmap='rainbow', fmt=\".2f\")\n",
    "plt.title('Correlation Matrix Heatmap')\n",
    "\n",
    "# 9. Conclude\n",
    "# - Calculate if the company meets the target\n",
    "target_met = (data['actual_productivity'] >= data['targeted_productivity']).sum() / len(data) * 100"
   ]
  },
  {
   "cell_type": "code",
   "execution_count": 22,
   "id": "7f99a305",
   "metadata": {},
   "outputs": [
    {
     "name": "stdout",
     "output_type": "stream",
     "text": [
      "0.09605462226763563\n"
     ]
    }
   ],
   "source": [
    "# - Check if incentives are given based on productivity\n",
    "incentive_given = data['incentive'].sum() > 0\n",
    "\n",
    "# - Examine if overtime affects productivity (t-test)\n",
    "overtime_effect = st.ttest_ind(data[data['over_time'] > 0]['actual_productivity'],\n",
    "                                  data[data['over_time'] == 0]['actual_productivity']).pvalue\n",
    "\n",
    "print(overtime_effect)"
   ]
  },
  {
   "cell_type": "code",
   "execution_count": 38,
   "id": "7de63cc3",
   "metadata": {},
   "outputs": [
    {
     "name": "stdout",
     "output_type": "stream",
     "text": [
      "correlation_quarter:: quarter                      \n",
      "Quarter1  actual_productivity    0.492779\n",
      "Quarter2  actual_productivity    0.427164\n",
      "Quarter3  actual_productivity    0.392637\n",
      "Quarter4  actual_productivity    0.347594\n",
      "Quarter5  actual_productivity    0.479972\n",
      "Name: targeted_productivity, dtype: float64\n",
      "correlation Dept:: department                     \n",
      "finishing   actual_productivity    0.09751\n",
      "sewing      actual_productivity    0.69797\n",
      "Name: targeted_productivity, dtype: float64\n"
     ]
    },
    {
     "name": "stderr",
     "output_type": "stream",
     "text": [
      "C:\\Users\\jitendra\\AppData\\Local\\Temp\\ipykernel_20140\\2945043695.py:2: FutureWarning: Indexing with multiple keys (implicitly converted to a tuple of keys) will be deprecated, use a list instead.\n",
      "  correlation_quarter = data.groupby('quarter')['actual_productivity', 'targeted_productivity'].corr().iloc[0::2, -1]\n",
      "C:\\Users\\jitendra\\AppData\\Local\\Temp\\ipykernel_20140\\2945043695.py:3: FutureWarning: Indexing with multiple keys (implicitly converted to a tuple of keys) will be deprecated, use a list instead.\n",
      "  correlation_department = data.groupby('department')['actual_productivity', 'targeted_productivity'].corr().iloc[0::2, -1]\n"
     ]
    }
   ],
   "source": [
    "# 10. Find the correlation between actual and target productivity for every quarter and department\n",
    "correlation_quarter = data.groupby('quarter')['actual_productivity', 'targeted_productivity'].corr().iloc[0::2, -1]\n",
    "correlation_department = data.groupby('department')['actual_productivity', 'targeted_productivity'].corr().iloc[0::2, -1]\n",
    "print(\"correlation_quarter::\", correlation_quarter)\n",
    "print(\"correlation Dept::\", correlation_department)"
   ]
  },
  {
   "cell_type": "code",
   "execution_count": null,
   "id": "55787933",
   "metadata": {},
   "outputs": [],
   "source": [
    "\n"
   ]
  },
  {
   "cell_type": "markdown",
   "id": "2af2aa79",
   "metadata": {},
   "source": [
    "Hypothesis Testing \n",
    "\n",
    "12. Test using Z test (take a random sample of more than 30 and assume sigma =.1) whether the finishing department has achieved more acheived producitivity than .75 for a standard deviation of .1. State your null and alternative hypothesis. alpha value is .05\n",
    "\n",
    "13. Test using Z test(take a random sample of more than 30 and assume sigma =.1) whether the sewing department has achieved more producitivit than .75 for a standard deviation of .1. State your null and alternative hypothesis. alpha value is .05.\n",
    "\n",
    "14. Conduct a two sample t test (take a random sample more than 30) to check whether the finishing department has achieved more actual productivtiy than sewing     department. State your null and alternative hypothesis \n",
    "\n",
    "15. Conduct a two sample t (take a random sample less than 30) test to check whether the finishing department has achieved obtained higher incentive than sewing department, state your null and alternative hypothesis. In case test fails for normality check, then take a sample more than 30. \n",
    "\n",
    "16. The manager has asked you to classifiy low productivity as less than .5, medium between .5 and less than .75 and higher\n",
    "    as greater than or equal to .75. He believes that the percentage of  actual producvity  in  sewing departemnt for   \n",
    "    person classified as low is 30%, for medium is 40% and for high is 30%. USing chi square test can you prove whether his \n",
    "    hypothesis is right or not \n",
    "\n",
    "17. Based on the EDA analysis the manager has decided to find out whether different quarters are having an impact on actual productivity. Assuming normality of data conduct an analysis accordingly Conduct an ANOVA for comparing productivity for Quarter1, Quarter2, Quarter3, Quarter 4 and accordingly conclude (Assume data is normally distributed)\n",
    "18. Based on the EDA analysis the manager has decided to find out whether different days  are having an impact on actual productivity. Assuming normality of data conduct an analysis accordingly Conduct an ANOVA for comparing productivity for Quarter1, Quarter2, Quarter3, Quarter 4 and accordingly conclude (Assume data is normally distributed)\n",
    "\n",
    "19. In case the manager is interested whether day and quarters have an impact on actual producitivity, provide an analysis and identify which factors play a role in affecting productivty\n",
    "\n",
    "20. Based on 17 eliminate one of the variabes which is not significant and reconduct analysis using deparment as another variable, what do you conclude.\n",
    "\n",
    "21. Based on EDA and Hypothesis would you aggree or disaggree with the finding, also in addition summarize the findings based on both analysis and provide a recommendation on what you can thinking on improving the producitivity. \n"
   ]
  },
  {
   "cell_type": "markdown",
   "id": "29876e72",
   "metadata": {},
   "source": [
    "##12. Test using Z test (take a random sample of more than 30 and assume sigma =.1) whether the finishing department has achieved more acheived producitivity than .75 for a standard deviation of .1. State your null and alternative hypothesis. alpha value is .05"
   ]
  },
  {
   "cell_type": "code",
   "execution_count": 25,
   "id": "1447d75a",
   "metadata": {},
   "outputs": [],
   "source": [
    "##Null Hypothesis (H0): The finishing department's achieved productivity is less than or equal to 0.75.\n",
    "##Alternative Hypothesis (H1): The finishing department's achieved productivity is greater than 0.75.\n",
    "##Alpha (α) = 0.05\n",
    "##Z-Test: We'll calculate the Z-score and compare it with the critical value."
   ]
  },
  {
   "cell_type": "code",
   "execution_count": 29,
   "id": "b3f9f108",
   "metadata": {},
   "outputs": [
    {
     "name": "stdout",
     "output_type": "stream",
     "text": [
      "0.33688616122943815 0.7362027179062532\n",
      "Z-statistic: 0.3369\n",
      "P-value: 0.7362\n",
      "Accept null hypothesis (H0). The finishing department's achieved productivity is less than or equal to 0.75.\n"
     ]
    }
   ],
   "source": [
    "import statsmodels.api as sm\n",
    "\n",
    "# Define the data for the finishing department's productivity (assume you have a sample of more than 30)\n",
    "finish_prod = data[data['department'] == 'finishing'] \n",
    "\n",
    "# Define the population mean (0.75) and standard deviation (0.1)\n",
    "pop_mean = 0.75\n",
    "pop_std = 0.1\n",
    "alpha = 0.05\n",
    "\n",
    "## Performing z test\n",
    "z_statistic, p_value = sm.stats.ztest(finish_prod['actual_productivity'], value=pop_mean)\n",
    "print(z_statistic, p_value)\n",
    "print(f\"Z-statistic: {z_statistic:.4f}\")\n",
    "print(f\"P-value: {p_value:.4f}\")\n",
    "\n",
    "if p_value < alpha:\n",
    "    print(\"Reject null hypothesis:: (H1). The finishing department's achieved productivity is greater than 0.75.\")\n",
    "else:\n",
    "    print(\"Accept null hypothesis (H0). The finishing department's achieved productivity is less than or equal to 0.75.\")"
   ]
  },
  {
   "cell_type": "markdown",
   "id": "c8660f38",
   "metadata": {},
   "source": [
    "##13. Test using Z test(take a random sample of more than 30 and assume sigma =.1) whether the sewing department has achieved more producitivit than .75 for a standard deviation of .1. State your null and alternative hypothesis. alpha value is .05."
   ]
  },
  {
   "cell_type": "code",
   "execution_count": 30,
   "id": "12b39292",
   "metadata": {},
   "outputs": [
    {
     "name": "stdout",
     "output_type": "stream",
     "text": [
      "-4.753001108226257 2.0041924900927034e-06\n",
      "Z-statistic: -4.7530\n",
      "P-value: 0.0000\n",
      "Reject null hypothesis:: (Accept H1). The Sewing department's achieved productivity is greater than 0.75.\n"
     ]
    }
   ],
   "source": [
    "#Null Hypothesis (H0): The sewing department's achieved productivity is less than or equal to 0.75.\n",
    "#Alternative Hypothesis (H1): The sewing department's achieved productivity is greater than 0.75.\n",
    "#Alpha (α) = 0.05\n",
    "#Z-Test: Similar to the previous test.\n",
    "\n",
    "# Define the data for the finishing department's productivity (assume you have a sample of more than 30)\n",
    "finish_prod = data[data['department'] == 'sewing'] \n",
    "\n",
    "# Define the population mean (0.75) and standard deviation (0.1)\n",
    "pop_mean = 0.75\n",
    "pop_std = 0.1\n",
    "alpha = 0.05\n",
    "\n",
    "## Performing z test\n",
    "z_statistic, p_value = sm.stats.ztest(finish_prod['actual_productivity'], value=pop_mean)\n",
    "print(z_statistic, p_value)\n",
    "print(f\"Z-statistic: {z_statistic:.4f}\")\n",
    "print(f\"P-value: {p_value:.4f}\")\n",
    "\n",
    "if p_value < alpha:\n",
    "    print(\"Reject null hypothesis:: (Accept H1). The Sewing department's achieved productivity is greater than 0.75.\")\n",
    "else:\n",
    "    print(\"Accept null hypothesis (H0). The Sewing department's achieved productivity is less than or equal to 0.75.\")"
   ]
  },
  {
   "cell_type": "markdown",
   "id": "33e5963d",
   "metadata": {},
   "source": [
    "##14. Conduct a two sample t test (take a random sample more than 30) to check whether the finishing department has achieved more actual productivtiy than sewing department. State your null and alternative hypothesis"
   ]
  },
  {
   "cell_type": "code",
   "execution_count": 13,
   "id": "215c1179",
   "metadata": {},
   "outputs": [],
   "source": [
    "#Null Hypothesis (H0): There is no significant difference in actual productivity between the finishing and sewing departments.\n",
    "#Alternative Hypothesis (H1): The finishing department has achieved significantly higher actual productivity compared to the sewing department."
   ]
  },
  {
   "cell_type": "code",
   "execution_count": 31,
   "id": "b1e18e00",
   "metadata": {},
   "outputs": [
    {
     "name": "stdout",
     "output_type": "stream",
     "text": [
      "Reject null hypothesis (H0): The finishing department has achieved significantly higher actual productivity than the sewing department.\n",
      "t-statistic: 3.0408\n",
      "P-value: 0.0024\n"
     ]
    }
   ],
   "source": [
    "# Filter data for the finishing and sewing departments\n",
    "finishing_data = data[data['department'] == 'finishing']\n",
    "sewing_data = data[data['department'] == 'sewing']\n",
    "# Perform a two-sample t-test\n",
    "t_stats, p_value = st.ttest_ind(finishing_data['actual_productivity'], sewing_data['actual_productivity'])\n",
    "\n",
    "# Set the significance level (alpha)\n",
    "alpha = 0.05\n",
    "\n",
    "# Check if the p-value is less than alpha to make a decision\n",
    "if p_value < alpha:\n",
    "    print(\"Reject null hypothesis (H0): The finishing department has achieved significantly higher actual productivity than the sewing department.\")\n",
    "else:\n",
    "    print(\"Fail to reject the null hypothesis (H0). There is no sufficient evidence to conclude a significant difference in actual productivity between the finishing and sewing departments.\")\n",
    "\n",
    "# Print the t-statistic and p-value\n",
    "print(f\"t-statistic: {t_stats:.4f}\")\n",
    "print(f\"P-value: {p_value:.4f}\")"
   ]
  },
  {
   "cell_type": "markdown",
   "id": "730628b1",
   "metadata": {},
   "source": [
    "##15. Conduct a two sample t (take a random sample less than 30) test to check whether the finishing department \n",
    "has achieved obtained higher incentive than sewing department, state your null and alternative hypothesis. \n",
    "In case test fails for normality check, then take a sample more than 30."
   ]
  },
  {
   "cell_type": "code",
   "execution_count": 15,
   "id": "0ccc9d9f",
   "metadata": {},
   "outputs": [],
   "source": [
    "##Null Hypothesis (H0): There is no significant difference in incentives between the finishing and sewing departments.\n",
    "##Alternative Hypothesis (H1): The finishing department has obtained significantly higher incentives compared to the sewing department."
   ]
  },
  {
   "cell_type": "code",
   "execution_count": 32,
   "id": "55253a32",
   "metadata": {},
   "outputs": [
    {
     "name": "stdout",
     "output_type": "stream",
     "text": [
      "Reject null hypothesis (Accept H1). The finishing department has obtained significantly higher incentives than the sewing department.\n",
      "t-statistic: -1.3609\n",
      "P-value: 0.1741\n"
     ]
    }
   ],
   "source": [
    "finish_data = data[data['department'] == 'finishing']\n",
    "sew_data = data[data['department'] == 'sewing']\n",
    "\n",
    "# Sample sizes (initially less than 30)\n",
    "sample_sz_finish = len(finish_data)\n",
    "sample_sz_sew = len(sew_data)\n",
    "\n",
    "# Perform a two-sample t-test\n",
    "t_st, pval = st.ttest_ind(finish_data['incentive'].dropna(), sew_data['incentive'].dropna(), equal_var=False)\n",
    "\n",
    "# Set the significance level (alpha)\n",
    "alpha = 0.05\n",
    "\n",
    "# Check if the p-value is less than alpha to make a decision\n",
    "if p_value < alpha:\n",
    "    print(\"Reject null hypothesis (Accept H1). The finishing department has obtained significantly higher incentives than the sewing department.\")\n",
    "else:\n",
    "    print(\"Accept null hypothesis (H0). There is no sufficient evidence to conclude a significant difference in incentives between the finishing and sewing departments.\")\n",
    "\n",
    "# Print the t-statistic and p-value\n",
    "print(f\"t-statistic: {t_st:.4f}\")\n",
    "print(f\"P-value: {pval:.4f}\")"
   ]
  },
  {
   "cell_type": "code",
   "execution_count": 33,
   "id": "a163973f",
   "metadata": {},
   "outputs": [
    {
     "name": "stdout",
     "output_type": "stream",
     "text": [
      "The test met the normality assumption.\n"
     ]
    }
   ],
   "source": [
    "# Check for normality assumption, and increase sample size if necessary\n",
    "if p_value < alpha:\n",
    "    print(\"The test met the normality assumption.\")\n",
    "else:\n",
    "    print(\"The test did not meet the normality assumption.\")\n",
    "    # Consider increasing sample size and retesting\n",
    "    sample_sz = 30  # You can adjust the sample size as needed\n",
    "    finish_data1 = finish_data.sample(sample_sz)\n",
    "    sewi_data1 = sew_data.sample(sample_sz)\n",
    "    # Perform the t-test again with the larger sample size\n",
    "    t_statistic, p_value = st.ttest_ind(finish_data1['incentive'].dropna(), sew_data1['incentive'].dropna(), equal_var=False)\n",
    "    if p_value < alpha:\n",
    "        print(f\"By increasing the sample size to {sample_sz}, the test now meets the normality assumption.\")\n",
    "        print(\"Reject the null hypothesis (H0). The finishing department has obtained significantly higher incentives than the sewing department.\")\n",
    "    else:\n",
    "        print(\"Even with the increased sample size, the test still does not meet the normality assumption.\")"
   ]
  },
  {
   "cell_type": "markdown",
   "id": "f7f259ae",
   "metadata": {},
   "source": [
    "##16. The manager has asked you to classifiy low productivity as less than .5, medium between .5 and less than .75 and higher as greater than or equal to .75. He believes that the percentage of actual producvity in sewing departemnt for\n",
    "person classified as low is 30%, for medium is 40% and for high is 30%. USing chi square test can you prove whether his hypothesis is right or not"
   ]
  },
  {
   "cell_type": "code",
   "execution_count": 18,
   "id": "87f276ab",
   "metadata": {},
   "outputs": [],
   "source": [
    "##Null Hypothesis (H0): The observed and expected frequencies of productivity categories in the sewing department\n",
    "                     ##are not significantly different, i.e., the manager's beliefs are correct.\n",
    "##Alternative Hypothesis (H1): The observed and expected frequencies of productivity categories in the sewing department \\\n",
    "                     ##are significantly different, i.e., the manager's beliefs are not correct."
   ]
  },
  {
   "cell_type": "code",
   "execution_count": 34,
   "id": "0b3316b0",
   "metadata": {},
   "outputs": [
    {
     "name": "stdout",
     "output_type": "stream",
     "text": [
      "Reject null hypothesis (Accept H1). The observed and expected frequencies are significantly different, indicating that the manager's beliefs are not correct.\n",
      "Chi-Square Statistic: 147.6505\n",
      "P-value: 0.0000\n",
      "Degrees of Freedom: 2\n",
      "Expected Frequencies:\n",
      "[207.29999999999998, 276.40000000000003, 207.29999999999998]\n",
      "Observed Frequencies:\n",
      "[69, 208, 414]\n"
     ]
    }
   ],
   "source": [
    "sewing_data = data[data['department'] == 'sewing']['actual_productivity']\n",
    "# Define the productivity categories based on the manager's beliefs\n",
    "cate = ['Low', 'Medium', 'High']\n",
    "# Calculate the observed frequencies of each category\n",
    "obs_freq = [\n",
    "    len(sewing_data[sewing_data < 0.5]),\n",
    "    len(sewing_data[(sewing_data >= 0.5) & (sewing_data < 0.75)]),\n",
    "    len(sewing_data[sewing_data >= 0.75])\n",
    "]\n",
    "\n",
    "# Define the expected percentages based on the manager's beliefs\n",
    "exp_per = [0.3, 0.4, 0.3]\n",
    "# Calculate the expected frequencies\n",
    "tot_obs = len(sewing_data)\n",
    "exp_freq = [percent * tot_obs for percent in exp_per]\n",
    "\n",
    "# Perform the chi-square test\n",
    "chi2, p, dof, exp = st.chi2_contingency([obs_freq, exp_freq])\n",
    "\n",
    "alpha = 0.05\n",
    "\n",
    "# Check if the p-value is less than alpha to make a decision\n",
    "if p < alpha:\n",
    "    print(\"Reject null hypothesis (Accept H1). The observed and expected frequencies are significantly different, indicating that the manager's beliefs are not correct.\")\n",
    "else:\n",
    "    print(\"Accept null hypothesis (H0). There is no sufficient evidence to conclude that the observed and expected frequencies are significantly different, supporting the manager's beliefs.\")\n",
    "\n",
    "# Print the chi-square statistic, p-value, degrees of freedom, and expected frequencies\n",
    "print(f\"Chi-Square Statistic: {chi2:.4f}\")\n",
    "print(f\"P-value: {p:.4f}\")\n",
    "print(f\"Degrees of Freedom: {dof}\")\n",
    "print(\"Expected Frequencies:\")\n",
    "print(exp_freq)\n",
    "print(\"Observed Frequencies:\")\n",
    "print(obs_freq)"
   ]
  },
  {
   "cell_type": "markdown",
   "id": "fb8ee528",
   "metadata": {},
   "source": [
    "##17. Based on the EDA analysis the manager has decided to find out whether different quarters are having an impact on actual productivity. Assuming normality of data conduct an analysis accordingly Conduct an ANOVA for comparing productivity for Quarter1, Quarter2, Quarter3, Quarter 4 and accordingly conclude (Assume data is normally distributed)"
   ]
  },
  {
   "cell_type": "code",
   "execution_count": 35,
   "id": "1faf18ff",
   "metadata": {},
   "outputs": [
    {
     "name": "stdout",
     "output_type": "stream",
     "text": [
      "[0       0.940725\n",
      "1       0.886500\n",
      "2       0.800570\n",
      "3       0.800570\n",
      "4       0.800382\n",
      "          ...   \n",
      "1101    0.650240\n",
      "1102    0.590741\n",
      "1103    0.528125\n",
      "1104    0.500528\n",
      "1105    0.408960\n",
      "Name: actual_productivity, Length: 360, dtype: float64, 126     0.947689\n",
      "127     0.919905\n",
      "128     0.900216\n",
      "129     0.891723\n",
      "130     0.850502\n",
      "          ...   \n",
      "1192    0.628333\n",
      "1193    0.625625\n",
      "1194    0.625625\n",
      "1195    0.505889\n",
      "1196    0.394722\n",
      "Name: actual_productivity, Length: 335, dtype: float64, 259    0.988636\n",
      "260    0.953110\n",
      "261    0.884261\n",
      "262    0.860653\n",
      "263    0.858144\n",
      "         ...   \n",
      "859    0.631354\n",
      "860    0.611141\n",
      "861    0.609583\n",
      "862    0.585316\n",
      "863    0.249417\n",
      "Name: actual_productivity, Length: 210, dtype: float64, 371    0.957639\n",
      "372    0.940701\n",
      "373    0.849984\n",
      "374    0.800303\n",
      "375    0.800192\n",
      "         ...   \n",
      "980    0.500258\n",
      "981    0.410833\n",
      "982    0.407813\n",
      "983    0.376597\n",
      "984    0.271875\n",
      "Name: actual_productivity, Length: 248, dtype: float64, 498    1.000230\n",
      "499    0.989000\n",
      "500    0.950186\n",
      "501    0.900800\n",
      "502    0.900130\n",
      "503    0.899000\n",
      "504    0.877552\n",
      "505    0.864583\n",
      "506    0.856950\n",
      "507    0.853667\n",
      "508    0.850362\n",
      "509    0.850170\n",
      "510    0.800474\n",
      "511    0.773333\n",
      "512    0.750647\n",
      "513    0.634667\n",
      "514    0.600598\n",
      "515    0.500118\n",
      "516    0.492500\n",
      "517    0.487920\n",
      "518    1.000457\n",
      "519    1.000230\n",
      "520    0.971867\n",
      "521    0.971867\n",
      "522    0.971867\n",
      "523    0.971867\n",
      "524    0.971867\n",
      "525    0.971867\n",
      "526    0.971867\n",
      "527    0.971867\n",
      "528    0.971867\n",
      "529    0.971867\n",
      "530    0.971867\n",
      "531    0.971867\n",
      "532    0.920237\n",
      "533    0.900537\n",
      "534    0.850611\n",
      "535    0.850362\n",
      "536    0.750647\n",
      "537    0.656764\n",
      "538    0.650148\n",
      "539    0.600711\n",
      "540    0.388830\n",
      "541    0.286985\n",
      "Name: actual_productivity, dtype: float64]\n",
      "Rejectnull hypothesis (Aceept H1). There is a significant difference in actual productivity among at least one of the four quarters.\n",
      "F-statistic: 7.1117\n",
      "P-value: 0.0000\n"
     ]
    }
   ],
   "source": [
    "##Null Hypothesis (H0): There is no significant difference in actual productivity among the four quarters.\n",
    "##Alternative Hypothesis (H1): There is a significant difference in actual productivity among at \n",
    "##                            least one of the four quarters.\n",
    "\n",
    "# Extract actual productivity and quarter data\n",
    "act_prod = data['actual_productivity']\n",
    "quart = data['quarter'].unique()  # Get unique quarters\n",
    "\n",
    "# Create separate data series for each quarter\n",
    "quart_data = [act_prod[data['quarter'] == q] for q in quart]\n",
    "\n",
    "# Perform one-way ANOVA\n",
    "f_st, p_value = st.f_oneway(*quart_data)\n",
    "\n",
    "print(quart_data)\n",
    "\n",
    "alpha = 0.05\n",
    "\n",
    "# Check if the p-value is less than alpha to make a decision\n",
    "if p_value < alpha:\n",
    "    print(\"Rejectnull hypothesis (Aceept H1). There is a significant difference in actual productivity among at least one of the four quarters.\")\n",
    "else:\n",
    "    print(\"Accept null hypothesis (H0). There is no sufficient evidence to conclude a significant difference in actual productivity among the four quarters.\")\n",
    "\n",
    "    # Print the F-statistic and p-value\n",
    "print(f\"F-statistic: {f_st:.4f}\")\n",
    "print(f\"P-value: {p_value:.4f}\")"
   ]
  },
  {
   "cell_type": "markdown",
   "id": "1d8251b0",
   "metadata": {},
   "source": [
    "##18. Based on the EDA analysis the manager has decided to find out whether different days are having an impact on actual productivity. Assuming normality of data conduct an analysis accordingly Conduct an ANOVA for comparing productivity for Quarter1, Quarter2, Quarter3, Quarter 4 and accordingly conclude (Assume data is normally distributed)"
   ]
  },
  {
   "cell_type": "code",
   "execution_count": 36,
   "id": "aee6e73d",
   "metadata": {},
   "outputs": [
    {
     "name": "stdout",
     "output_type": "stream",
     "text": [
      "[0       0.940725\n",
      "1       0.886500\n",
      "2       0.800570\n",
      "3       0.800570\n",
      "4       0.800382\n",
      "          ...   \n",
      "1082    0.700422\n",
      "1083    0.600099\n",
      "1084    0.453125\n",
      "1085    0.366054\n",
      "1086    0.263694\n",
      "Name: actual_productivity, Length: 199, dtype: float64, 19      0.988025\n",
      "20      0.987880\n",
      "21      0.956271\n",
      "22      0.945278\n",
      "23      0.902917\n",
      "          ...   \n",
      "1101    0.650240\n",
      "1102    0.590741\n",
      "1103    0.528125\n",
      "1104    0.500528\n",
      "1105    0.408960\n",
      "Name: actual_productivity, Length: 187, dtype: float64, 40      0.991389\n",
      "41      0.931646\n",
      "42      0.915229\n",
      "43      0.879714\n",
      "44      0.861679\n",
      "          ...   \n",
      "1123    0.600529\n",
      "1124    0.500034\n",
      "1125    0.450937\n",
      "1126    0.441042\n",
      "1127    0.271875\n",
      "Name: actual_productivity, Length: 203, dtype: float64, 61      0.961059\n",
      "62      0.939514\n",
      "63      0.893663\n",
      "64      0.875391\n",
      "65      0.850569\n",
      "          ...   \n",
      "1145    0.650421\n",
      "1146    0.600041\n",
      "1147    0.500611\n",
      "1148    0.477292\n",
      "1149    0.264062\n",
      "Name: actual_productivity, Length: 199, dtype: float64, 83      0.966781\n",
      "84      0.936496\n",
      "85      0.899167\n",
      "86      0.888687\n",
      "87      0.858144\n",
      "          ...   \n",
      "1168    0.650044\n",
      "1169    0.630403\n",
      "1170    0.560625\n",
      "1171    0.560625\n",
      "1172    0.398750\n",
      "Name: actual_productivity, Length: 201, dtype: float64, 104     0.951420\n",
      "105     0.880530\n",
      "106     0.850502\n",
      "107     0.850502\n",
      "108     0.850137\n",
      "          ...   \n",
      "1192    0.628333\n",
      "1193    0.625625\n",
      "1194    0.625625\n",
      "1195    0.505889\n",
      "1196    0.394722\n",
      "Name: actual_productivity, Length: 208, dtype: float64]\n",
      "Accept null hypothesis (H0). There is no sufficient evidence to conclude a significant difference in actual productivity among different days of the week.\n",
      "F-statistic: 0.7121\n",
      "P-value: 0.6144\n"
     ]
    }
   ],
   "source": [
    "##Null Hypothesis (H0): There is no significant difference in actual productivity among the different days of the week..\n",
    "##Alternative Hypothesis (H1): There is a significant difference in actual productivity among at \n",
    "##                            least one of the days in the week.\n",
    "\n",
    "# Extract actual productivity and weeks/day data\n",
    "act_prod = data['actual_productivity']\n",
    "days = data['day'].unique()  # Get unique days of the week\n",
    "\n",
    "# Create separate data series for each quarter\n",
    "day_data = [act_prod[data['day'] == d] for d in days]\n",
    "\n",
    "# Perform one-way ANOVA\n",
    "f_st, p_value = st.f_oneway(*day_data)\n",
    "\n",
    "print(day_data)\n",
    "\n",
    "alpha = 0.05\n",
    "\n",
    "# Check if the p-value is less than alpha to make a decision\n",
    "if p_value < alpha:\n",
    "    print(\"Reject null hypothesis (Aceept H1). There is a significant difference in actual productivity among at least one of the days of the week.\")\n",
    "else:\n",
    "    print(\"Accept null hypothesis (H0). There is no sufficient evidence to conclude a significant difference in actual productivity among different days of the week.\")\n",
    "\n",
    "    # Print the F-statistic and p-value\n",
    "print(f\"F-statistic: {f_st:.4f}\")\n",
    "print(f\"P-value: {p_value:.4f}\")"
   ]
  },
  {
   "cell_type": "markdown",
   "id": "78b4e6d7",
   "metadata": {},
   "source": [
    "##19. In case the manager is interested whether day and quarters have an impact on actual producitivity, provide an analysis and identify which factors play a role in affecting productivty"
   ]
  },
  {
   "cell_type": "code",
   "execution_count": 37,
   "id": "270483dc",
   "metadata": {},
   "outputs": [
    {
     "name": "stdout",
     "output_type": "stream",
     "text": [
      "Accept null hypothesis for the 'Day' factor. There is no sufficient evidence to conclude a significant impact on actual productivity.\n",
      "Accept null hypothesis for the 'Quarter' factor. There is no sufficient evidence to conclude a significant impact on actual productivity.\n",
      "Accept null hypothesis for the interaction effect between 'Day' and 'Quarter'. There is no sufficient evidence to conclude a significant interaction effect on actual productivity.\n",
      "\n",
      "ANOVA Table:\n",
      "                sum_sq      df         F    PR(>F)\n",
      "day           0.116280     5.0  0.773131  0.461801\n",
      "quarter       0.342276     4.0  2.844694  0.091942\n",
      "day:quarter   0.557592    20.0  0.926841  0.541534\n",
      "Residual     35.223959  1171.0       NaN       NaN\n"
     ]
    },
    {
     "name": "stderr",
     "output_type": "stream",
     "text": [
      "D:\\conda\\Lib\\site-packages\\statsmodels\\base\\model.py:1871: ValueWarning: covariance of constraints does not have full rank. The number of constraints is 5, but rank is 2\n",
      "  warnings.warn('covariance of constraints does not have full '\n",
      "D:\\conda\\Lib\\site-packages\\statsmodels\\base\\model.py:1871: ValueWarning: covariance of constraints does not have full rank. The number of constraints is 4, but rank is 1\n",
      "  warnings.warn('covariance of constraints does not have full '\n",
      "D:\\conda\\Lib\\site-packages\\statsmodels\\base\\model.py:1871: ValueWarning: covariance of constraints does not have full rank. The number of constraints is 20, but rank is 17\n",
      "  warnings.warn('covariance of constraints does not have full '\n"
     ]
    }
   ],
   "source": [
    "from statsmodels.formula.api import ols\n",
    "# Create an OLS model for two-way ANOVA\n",
    "formula = 'actual_productivity ~ day * quarter'\n",
    "model = ols(formula, data=data).fit()\n",
    "\n",
    "# Perform two-way ANOVA\n",
    "anova_table = sm.stats.anova_lm(model, typ=2)\n",
    "\n",
    "# Set the significance level (alpha)\n",
    "alpha = 0.05\n",
    "\n",
    "# Check the p-values for the main effects and interaction effect\n",
    "p_day = anova_table.loc['day', 'PR(>F)']\n",
    "p_quarter = anova_table.loc['quarter', 'PR(>F)']\n",
    "p_interaction = anova_table.loc['day:quarter', 'PR(>F)']\n",
    "\n",
    "# Check if the p-values are less than alpha to make conclusions\n",
    "if p_day < alpha:\n",
    "    print(\"Reject null hypothesis for the 'Day' factor. It has a significant impact on actual productivity.\")\n",
    "else:\n",
    "    print(\"Accept null hypothesis for the 'Day' factor. There is no sufficient evidence to conclude a significant impact on actual productivity.\")\n",
    "\n",
    "if p_quarter < alpha:\n",
    "    print(\"Reject null hypothesis for the 'Quarter' factor. It has a significant impact on actual productivity.\")\n",
    "else:\n",
    "    print(\"Accept null hypothesis for the 'Quarter' factor. There is no sufficient evidence to conclude a significant impact on actual productivity.\")\n",
    "\n",
    "if p_interaction < alpha:\n",
    "    print(\"Reject null hypothesis for the interaction effect between 'Day' and 'Quarter'. The interaction has a significant impact on actual productivity.\")\n",
    "else:\n",
    "    print(\"Accept null hypothesis for the interaction effect between 'Day' and 'Quarter'. There is no sufficient evidence to conclude a significant interaction effect on actual productivity.\")\n",
    "\n",
    "# Print the ANOVA table for detailed statistics\n",
    "print(\"\\nANOVA Table:\")\n",
    "print(anova_table)"
   ]
  },
  {
   "cell_type": "markdown",
   "id": "f4622688",
   "metadata": {},
   "source": [
    "##20. Based on 17 eliminate one of the variabes which is not significant and reconduct analysis using deparment as another variable, what do you conclude."
   ]
  },
  {
   "cell_type": "raw",
   "id": "ff440afb",
   "metadata": {},
   "source": [
    "#20. a Eliminate Non-Significant Variable ('Quarter'): In the ANOVA analysis, if the p-value for the 'Quarter' variable is greater than your chosen significance level (alpha, typically 0.05), you would consider 'Quarter' as non-significant. Therefore, you can proceed by eliminating 'Quarter' from the analysis.\n",
    "\n",
    "#20.b Reconduct Analysis with 'Department' as Another Variable: After eliminating 'Quarter,' perform a new analysis using 'Department' as an additional variable in a two-way ANOVA with 'Day' and 'Department' as factors."
   ]
  },
  {
   "cell_type": "markdown",
   "id": "e8f6db3c",
   "metadata": {},
   "source": [
    "##21. Based on EDA and Hypothesis would you aggree or disaggree with the finding, also in addition summarize the findings based on both analysis and provide a recommendation on what you can thinking on improving the producitivity. "
   ]
  },
  {
   "cell_type": "raw",
   "id": "ba33d07f",
   "metadata": {},
   "source": [
    "Summary of Findings::\n",
    "\n",
    "Basic Summary Statistics: The basic summary statistics for numerical variables have been computed, providing insights into the central tendency and variability of the data.\n",
    "\n",
    "Working Days and Quarters: The dataset contains records for working days, and it is distributed across four quarters in the year.\n",
    "\n",
    "Actual Productivity by Quarters: Mean and standard deviation of actual productivity were calculated for each quarter. Histogram plots were created, but without access to the visual output, it's challenging to draw precise conclusions. Further analysis could involve visual inspection to determine any trends.\n",
    "\n",
    "Department Count: The dataset includes records from both the sewing and finishing departments.\n",
    "\n",
    "Actual Productivity by Department: Mean and standard deviation of actual productivity were calculated for each department. Histogram plots were created to visualize the distribution.\n",
    "\n",
    "Actual Productivity by Teams and SMV: The dataset likely contains information about productivity by teams and Standard Minute Value (SMV). However, specific analysis on this aspect is missing in the provided questions.\n",
    "\n",
    "Actual Productivity by Working Days, Team Size, and Quarters: Histogram and box plots were created to analyze actual productivity concerning working days, team size, and quarters. These plots can provide insights into how these factors affect productivity.\n",
    "\n",
    "Correlation Analysis: A correlation matrix and heatmap were created to understand relationships among variables.\n",
    "\n",
    "Productivity vs. Target and Overtime: Correlation between actual and target productivity for each quarter and department was analyzed to assess if targets were being met. The impact of overtime on productivity was likely tested.\n",
    "\n",
    "Hypothesis Testing: Z-tests and t-tests were conducted to test hypotheses related to productivity in the finishing and sewing departments.\n",
    "\n",
    "Chi-Square Test: A chi-square test was performed to analyze the hypothesis related to productivity categories in the sewing department.\n",
    "\n",
    "ANOVA: Analysis of Variance (ANOVA) tests were conducted to assess the impact of quarters and days on actual productivity.\n",
    "\n",
    "Recommendations:\n",
    "\n",
    "Department-Specific Strategies: Since the dataset includes records from both the sewing and finishing departments, it's important to develop department-specific strategies for improving productivity. The analysis should focus on identifying department-specific factors influencing productivity.\n",
    "\n",
    "Quarterly Analysis: The ANOVA results can help understand if different quarters have a significant impact on productivity. If quarters significantly affect productivity, consider adjusting resource allocation or production schedules accordingly.\n",
    "\n",
    "Working Days and Team Size: The analysis of actual productivity concerning working days and team size can help in optimizing resource allocation. If certain days or team sizes consistently lead to higher productivity, consider adjusting schedules and workforce accordingly.\n",
    "\n",
    "Target Achievement: Analyze the correlation between actual and target productivity. If the company consistently fails to meet targets, review and revise the target-setting process to make it more achievable.\n",
    "\n",
    "Overtime Management: Investigate the impact of overtime on productivity. If overtime consistently has a negative effect, explore strategies to reduce it or improve its efficiency.\n",
    "\n",
    "Incentive Structure: Assess the relationship between incentives and productivity. If incentives do not seem to have a significant positive impact on productivity, consider revising the incentive structure.\n",
    "\n",
    "Skill Enhancement: Depending on the findings, invest in training and skill enhancement programs for workers to improve their efficiency.\n",
    "\n",
    "Continuous Monitoring: Continuously monitor and collect data on productivity, as well as other relevant factors such as worker skills, machine maintenance, and workflow efficiency. Regularly update the analysis to identify evolving trends and areas for improvement.\n",
    "\n",
    "Cross-Functional Teams: Consider forming cross-functional teams involving workers from both departments to brainstorm and implement productivity improvement initiatives.\n",
    "\n",
    "Feedback Mechanism: Establish a feedback mechanism to collect input from workers regarding challenges and suggestions for productivity improvement.\n",
    "\n",
    "Overall, the analysis should be an ongoing process with periodic reviews to adapt strategies based on changing circumstances and trends in the garment industry.\n",
    "\n"
   ]
  },
  {
   "cell_type": "code",
   "execution_count": null,
   "id": "2a483d59",
   "metadata": {},
   "outputs": [],
   "source": []
  }
 ],
 "metadata": {
  "kernelspec": {
   "display_name": "Python 3 (ipykernel)",
   "language": "python",
   "name": "python3"
  },
  "language_info": {
   "codemirror_mode": {
    "name": "ipython",
    "version": 3
   },
   "file_extension": ".py",
   "mimetype": "text/x-python",
   "name": "python",
   "nbconvert_exporter": "python",
   "pygments_lexer": "ipython3",
   "version": "3.11.3"
  }
 },
 "nbformat": 4,
 "nbformat_minor": 5
}
