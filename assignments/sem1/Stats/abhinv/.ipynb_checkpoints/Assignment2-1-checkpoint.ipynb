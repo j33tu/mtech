{
 "cells": [
  {
   "cell_type": "markdown",
   "id": "47c4009c",
   "metadata": {},
   "source": [
    "## Table of Content\n",
    "\n",
    "1. **[Sampling](#sample)**\n",
    "2. **[Parameter Estimation](#est)**\n",
    "3. **[ Hypothesis Testsing (SIngle Sample, Two Sample (Z&T test)](#Hyt)**"
   ]
  },
  {
   "cell_type": "code",
   "execution_count": 3,
   "id": "a6b06730",
   "metadata": {},
   "outputs": [],
   "source": [
    "import pandas as pd\n",
    "import numpy as np\n",
    "import matplotlib.pyplot as plt \n",
    "import seaborn as sns\n",
    "import random\n",
    "import scipy.stats as st\n",
    "import math"
   ]
  },
  {
   "cell_type": "markdown",
   "id": "d3317b74",
   "metadata": {},
   "source": [
    "<a id=\"sample\"></a>\n",
    "## 1. Sampling"
   ]
  },
  {
   "cell_type": "markdown",
   "id": "f9ef9096",
   "metadata": {},
   "source": [
    "<table align=\"left\">\n",
    "    <tr>\n",
    "        <td width=\"6%\">\n",
    "            <img src=\"question_icon.png\">\n",
    "        </td>\n",
    "        <td>\n",
    "            <div align=\"left\", style=\"font-size:120%\">\n",
    "                <font color=\"#21618C\">\n",
    "                    <b>1. A farmer has planted 98 tomato plants last year. He has numbered each plant with numbers 1,2,...98. Now he wants to study the growth of the plants. Help the farmer to select 12 plants randomly as a sample for the study using an appropriate sampling technique.</b>\n",
    "                </font>\n",
    "            </div>\n",
    "        </td>\n",
    "    </tr>\n",
    "</table>"
   ]
  },
  {
   "cell_type": "code",
   "execution_count": 3,
   "id": "29d2d7d1",
   "metadata": {},
   "outputs": [
    {
     "data": {
      "text/plain": [
       "[79, 7, 81, 37, 84, 97, 17, 33, 16, 8, 87, 67]"
      ]
     },
     "execution_count": 3,
     "metadata": {},
     "output_type": "execute_result"
    }
   ],
   "source": [
    "lt = [i for i in range(1,99)]\n",
    "smple = random.sample(population = lt, k = 12)\n",
    "smple"
   ]
  },
  {
   "cell_type": "markdown",
   "id": "fc706095",
   "metadata": {},
   "source": [
    "<table align=\"left\">\n",
    "    <tr>\n",
    "        <td width=\"6%\">\n",
    "            <img src=\"question_icon.png\">\n",
    "        </td>\n",
    "        <td>\n",
    "            <div align=\"left\", style=\"font-size:120%\">\n",
    "                <font color=\"#21618C\">\n",
    "                    <b>2. Ron found gold, silver and copper coin on his way home. He asked 10 people to choose a coin randomly. He then created a list of coins chosen by each individual. Find one of the possible sample space for this experiment. </b>\n",
    "                </font>\n",
    "            </div>\n",
    "        </td>\n",
    "    </tr>\n",
    "</table>"
   ]
  },
  {
   "cell_type": "code",
   "execution_count": 4,
   "id": "c25ae2c2",
   "metadata": {},
   "outputs": [
    {
     "data": {
      "text/plain": [
       "['bronze',\n",
       " 'silver',\n",
       " 'bronze',\n",
       " 'silver',\n",
       " 'gold',\n",
       " 'gold',\n",
       " 'bronze',\n",
       " 'bronze',\n",
       " 'silver',\n",
       " 'gold']"
      ]
     },
     "execution_count": 4,
     "metadata": {},
     "output_type": "execute_result"
    }
   ],
   "source": [
    "lt = ['bronze','silver','gold']\n",
    "smple = random.choices(population = lt, k = 10)\n",
    "smple"
   ]
  },
  {
   "cell_type": "markdown",
   "id": "8c75d712",
   "metadata": {},
   "source": [
    "<a id = \"est\"> </a>\n",
    "## 2. Parameter Estimation"
   ]
  },
  {
   "cell_type": "markdown",
   "id": "435c18ae",
   "metadata": {},
   "source": [
    "<table align=\"left\">\n",
    "    <tr>\n",
    "        <td width=\"6%\">\n",
    "            <img src=\"question_icon.png\">\n",
    "        </td>\n",
    "        <td>\n",
    "            <div align=\"left\", style=\"font-size:120%\">\n",
    "                <font color=\"#21618C\">\n",
    "                    <b>3. The quality controller at the automobile company needs to know the average length of a steel rod produced in the company. He managed to collect the length (in cm) of 15 rods produced in the last week. Find the point estimate for the average length of the steel rod using sample data. </b>\n",
    "                </font>\n",
    "            </div>\n",
    "        </td>\n",
    "    </tr>\n",
    "</table>"
   ]
  },
  {
   "cell_type": "markdown",
   "id": "bc5fabf8",
   "metadata": {},
   "source": [
    "Given data:\n",
    "\n",
    "        len_rod (cm) = [25.2, 26.3, 28, 21.9, 23.4, 24, 27.2, 23, 29.2, 28.7, 23.1, 23.5, 26.4, 22.8, 24.7]"
   ]
  },
  {
   "cell_type": "code",
   "execution_count": 6,
   "id": "27bff3d2",
   "metadata": {},
   "outputs": [
    {
     "data": {
      "text/plain": [
       "25.16"
      ]
     },
     "execution_count": 6,
     "metadata": {},
     "output_type": "execute_result"
    }
   ],
   "source": [
    "l_rod = [25.2, 26.3, 28, 21.9, 23.4, 24, 27.2, 23, 29.2, 28.7, 23.1, 23.5, 26.4, 22.8, 24.7]\n",
    "np.mean(l_rod)"
   ]
  },
  {
   "cell_type": "markdown",
   "id": "4ff660bb",
   "metadata": {},
   "source": [
    "<table align=\"left\">\n",
    "    <tr>\n",
    "        <td width=\"6%\">\n",
    "            <img src=\"question_icon.png\">\n",
    "        </td>\n",
    "        <td>\n",
    "            <div align=\"left\", style=\"font-size:120%\">\n",
    "                <font color=\"#21618C\">\n",
    "                    <b>4. The production manager at the automobile company states that all the steel rods are produced with an average length of 26 cm. Use the data given in the previous question and calculate the sampling error for the mean.</b>\n",
    "                </font>\n",
    "            </div>\n",
    "        </td>\n",
    "    </tr>\n",
    "</table>"
   ]
  },
  {
   "cell_type": "markdown",
   "id": "fc0028ed",
   "metadata": {},
   "source": [
    "Given data:\n",
    "\n",
    "        len_rod (cm) = [25.2, 26.3, 28, 21.9, 23.4, 24, 27.2, 23, 29.2, 28.7, 23.1, 23.5, 26.4, 22.8, 24.7]"
   ]
  },
  {
   "cell_type": "code",
   "execution_count": 7,
   "id": "cfecf4b3",
   "metadata": {},
   "outputs": [
    {
     "data": {
      "text/plain": [
       "-0.8399999999999999"
      ]
     },
     "execution_count": 7,
     "metadata": {},
     "output_type": "execute_result"
    }
   ],
   "source": [
    "l_rod = [25.2, 26.3, 28, 21.9, 23.4, 24, 27.2, 23, 29.2, 28.7, 23.1, 23.5, 26.4, 22.8, 24.7]\n",
    "mean_real = 26\n",
    "samp_mean = np.mean(l_rod)\n",
    "samp_mean - mean_real"
   ]
  },
  {
   "cell_type": "markdown",
   "id": "0abe6310",
   "metadata": {},
   "source": [
    "<table align=\"left\">\n",
    "    <tr>\n",
    "        <td width=\"6%\">\n",
    "            <img src=\"question_icon.png\">\n",
    "        </td>\n",
    "        <td>\n",
    "            <div align=\"left\", style=\"font-size:120%\">\n",
    "                <font color=\"#21618C\">\n",
    "                    <b>5. The NY university has opened the post of Astrophysics professor. The total number of applications was 36. To check the authenticity of the applicants a sample of 10 applications was collected, out of which 3 applicants were found to be a fraud. Estimate the number of fraud applicants from all the applications.</b>\n",
    "                </font>\n",
    "            </div>\n",
    "        </td>\n",
    "    </tr>\n",
    "</table>"
   ]
  },
  {
   "cell_type": "code",
   "execution_count": 8,
   "id": "ae2f2b6e",
   "metadata": {},
   "outputs": [
    {
     "data": {
      "text/plain": [
       "10.799999999999999"
      ]
     },
     "execution_count": 8,
     "metadata": {},
     "output_type": "execute_result"
    }
   ],
   "source": [
    "pro_frd = 3/10\n",
    "ch = 36 * pro_frd\n",
    "ch"
   ]
  },
  {
   "cell_type": "markdown",
   "id": "715483b1",
   "metadata": {},
   "source": [
    "<table align=\"left\">\n",
    "    <tr>\n",
    "        <td width=\"6%\">\n",
    "            <img src=\"question_icon.png\">\n",
    "        </td>\n",
    "        <td>\n",
    "            <div align=\"left\", style=\"font-size:120%\">\n",
    "                <font color=\"#21618C\">\n",
    "                    <b>6. A paediatrician wants to check the amount of sugar in the 100g pack of baby food produced by KidsGrow company. The medical journal states that a standard deviation of sugar in 100g pack is 8g. The paediatrician collects 37 packets of baby food and found that the average sugar is 24g. Find the 90% confidence interval for the population mean.</b>\n",
    "                </font>\n",
    "            </div>\n",
    "        </td>\n",
    "    </tr>\n",
    "</table>"
   ]
  },
  {
   "cell_type": "code",
   "execution_count": 3,
   "id": "a1835c74",
   "metadata": {},
   "outputs": [
    {
     "data": {
      "text/plain": [
       "(21.83670183570907, 26.16329816429093)"
      ]
     },
     "execution_count": 3,
     "metadata": {},
     "output_type": "execute_result"
    }
   ],
   "source": [
    "alpha = 0.1\n",
    "\n",
    "n = 37\n",
    "sigma = 8\n",
    "xbar = 24\n",
    "\n",
    "z_alpha = st.norm.isf(alpha/2)\n",
    "std_error = sigma/(np.sqrt(n)\n",
    "st.norm.interval(0.9,xbar,std_error)"
   ]
  },
  {
   "cell_type": "markdown",
   "id": "3ae13774",
   "metadata": {},
   "source": [
    "<table align=\"left\">\n",
    "    <tr>\n",
    "        <td width=\"6%\">\n",
    "            <img src=\"question_icon.png\">\n",
    "        </td>\n",
    "        <td>\n",
    "            <div align=\"left\", style=\"font-size:120%\">\n",
    "                <font color=\"#21618C\">\n",
    "                    <b>7. The health magazine in Los Angeles states that a person should drink 1.8 L water every day. To study this statement, the physician collects the data of 15 people and found that the average water intake for these people is 1.6 L with a standard deviation of 0.5 L. Calculate the 90% confidence interval for the population average water intake.</b>\n",
    "                </font>\n",
    "            </div>\n",
    "        </td>\n",
    "    </tr>\n",
    "</table>"
   ]
  },
  {
   "cell_type": "code",
   "execution_count": 4,
   "id": "b16ad7e7",
   "metadata": {},
   "outputs": [
    {
     "data": {
      "text/plain": [
       "(1.3876503098622694, 1.8123496901377307)"
      ]
     },
     "execution_count": 4,
     "metadata": {},
     "output_type": "execute_result"
    }
   ],
   "source": [
    "alpha = 0.1\n",
    "\n",
    "n =15\n",
    "xbar = 1.6\n",
    "sigma = 0.5\n",
    "\n",
    "z = st.norm.isf(alpha/2)\n",
    "std_error = sigma/(np.sqrt(n))\n",
    "st.norm.interval(0.9,xbar,std_error)"
   ]
  },
  {
   "cell_type": "markdown",
   "id": "a0abd87b",
   "metadata": {},
   "source": [
    "<a id = \"Hyt\"> </a>\n",
    "## 3. Hypothesis Testsing (SIngle Sample, Two Sample (Z&T test)"
   ]
  },
  {
   "cell_type": "markdown",
   "id": "5be10e3c",
   "metadata": {},
   "source": [
    "<table align=\"left\">\n",
    "    <tr>\n",
    "        <td width=\"6%\">\n",
    "            <img src=\"question_icon.png\">\n",
    "        </td>\n",
    "        <td>\n",
    "            <div align=\"left\", style=\"font-size:120%\">\n",
    "                <font color=\"#21618C\">\n",
    "                    <b>8. The temperature (in degree Celsius) at Manhattan is recorded for 45 winter days. A student from the Geography department wants to test the claim proposed by the weather department. Check whether the given data satisfies the condition of normality with 99% confidence. The weather department claims that the average temperature in Manhattan is less than 2.8 degree celsius in winter. Conduct an hypothesis test to test about the claim  with 99% confidence(alpha =1% or .01)?</b>\n",
    "                </font>\n",
    "            </div>\n",
    "        </td>\n",
    "    </tr>\n",
    "</table>"
   ]
  },
  {
   "cell_type": "markdown",
   "id": "f45eac1c",
   "metadata": {},
   "source": [
    "Use the data given below:\n",
    "        \n",
    "    temp_winter =  [2.51, 2.6, 1.8, 2.61, 3.9, 1.7, 1.9, 3.1, 1.58, 2.85, 2.9, 1.25, 1.3, 2.4, 3.22, 2.56, 1.32, 1.2, 1.26, \n",
    "                    3.2, 2.7, 3.5, 2.8, 1.5, 3.8, 1.84, 3.31, 1.24, 1.75, 1.41, 1.57, 1.4, 1.49, 2.26, 2.5, 2.52, 3.42, 1.36, \n",
    "                    2.35, 2.47, 2.28, 2.22, 2.66, 3.43, 1.98]"
   ]
  },
  {
   "cell_type": "code",
   "execution_count": 2,
   "id": "c4c2b1eb",
   "metadata": {},
   "outputs": [
    {
     "data": {
      "text/plain": [
       "2.9913626202358064e-05"
      ]
     },
     "execution_count": 2,
     "metadata": {},
     "output_type": "execute_result"
    }
   ],
   "source": [
    "temp_winter =  [2.51, 2.6, 1.8, 2.61, 3.9, 1.7, 1.9, 3.1, 1.58, 2.85, 2.9, 1.25, 1.3, 2.4, 3.22, 2.56, 1.32, 1.2, 1.26, \n",
    "                3.2, 2.7, 3.5, 2.8, 1.5, 3.8, 1.84, 3.31, 1.24, 1.75, 1.41, 1.57, 1.4, 1.49, 2.26, 2.5, 2.52, 3.42, 1.36, \n",
    "                2.35, 2.47, 2.28, 2.22, 2.66, 3.43, 1.98]\n",
    "\n",
    "# H0 : Avg temp >= 2.8\n",
    "# H1 : Avg temp < 2.8\n",
    "\n",
    "alpha = 0.01\n",
    "xcar = 2.8\n",
    "n = len(tmp_winter)\n",
    "xbar = np.mean(tmp_winter)\n",
    "std = np.std(tmp_winter, ddof=1)\n",
    "\n",
    "# Calculate the t-statistic\n",
    "t_stats = (xbar - xcar) / (std / np.sqrt(n))\n",
    "\n",
    "# p-value \n",
    "p_value = st.t.cdf(t_stats, n-1)\n",
    "p_value"
   ]
  },
  {
   "cell_type": "code",
   "execution_count": 3,
   "id": "25130658",
   "metadata": {},
   "outputs": [
    {
     "data": {
      "text/plain": [
       "-4.439552007491998"
      ]
     },
     "execution_count": 3,
     "metadata": {},
     "output_type": "execute_result"
    }
   ],
   "source": [
    "t_stats"
   ]
  },
  {
   "cell_type": "code",
   "execution_count": 5,
   "id": "c83b34a9",
   "metadata": {},
   "outputs": [],
   "source": [
    "# Since p-value < alpha(0.01) reject the hypothesis at 1% level of significance "
   ]
  },
  {
   "cell_type": "markdown",
   "id": "0d03de10",
   "metadata": {},
   "source": [
    "<table align=\"left\">\n",
    "    <tr>\n",
    "        <td width=\"6%\">\n",
    "            <img src=\"question_icon.png\">\n",
    "        </td>\n",
    "        <td>\n",
    "            <div align=\"left\", style=\"font-size:120%\">\n",
    "                <font color=\"#21618C\">\n",
    "                    <b>9. The production manager at the automobile company states that all the steel rods are produced with an average length of 26 cm and a standard deviation of 2.4 cm. The length of 60 rods is collected as a sample and the average length of these rods is found to be 24.8 cm. Test whether the length of the rod is different than 26 cm with a 95% confidence interval. </b>\n",
    "                </font>\n",
    "            </div>\n",
    "        </td>\n",
    "    </tr>\n",
    "</table>"
   ]
  },
  {
   "cell_type": "code",
   "execution_count": 8,
   "id": "8cc2dcd2",
   "metadata": {},
   "outputs": [
    {
     "name": "stdout",
     "output_type": "stream",
     "text": [
      "p-value:  0.00010751117672950135\n",
      "Reject the null hypothesis\n"
     ]
    }
   ],
   "source": [
    "# Null Hypothesis (H0): The average length of the rods is 26 cm.\n",
    "# Alternative Hypothesis (H1): The average length of the rods is not equal to 26 cm (two-tailed test).\n",
    "\n",
    "alpha = 0.05\n",
    "\n",
    "# Given data\n",
    "pop_mean = 26  # Population mean\n",
    "pop_std = 2.4  # Population standard deviation\n",
    "sample_size = 60\n",
    "sample_mean = 24.8  # Sample mean\n",
    "\n",
    "standard_error = pop_std / math.sqrt(sample_size)\n",
    "\n",
    "z = (pop_mean - sample_mean) / standard_error\n",
    "\n",
    "p = 2* st.norm.sf(z)\n",
    "print(\"p-value: \",p)\n",
    "\n",
    "# Make a decision\n",
    "if p_value < alpha:\n",
    "    print(\"Reject the null hypothesis\")\n",
    "else:\n",
    "    print(\"Fail to reject the null hypothesis\")"
   ]
  },
  {
   "cell_type": "markdown",
   "id": "93667f2f",
   "metadata": {},
   "source": [
    "<table align=\"left\">\n",
    "    <tr>\n",
    "        <td width=\"6%\">\n",
    "            <img src=\"question_icon.png\">\n",
    "        </td>\n",
    "        <td>\n",
    "            <div align=\"left\", style=\"font-size:120%\">\n",
    "                <font color=\"#21618C\">\n",
    "                    <b>10. The bank manager claims that the complaints regarding fraud transactions are less than 12 per month with a standard deviation of 3 frauds. To test the claim the sample data for 3 years is collected. The average number of frauds in sample data is 10. Conduct an hypothesis test to test about the claim  with 95% confidence.</b>\n",
    "                </font>\n",
    "            </div>\n",
    "        </td>\n",
    "    </tr>\n",
    "</table>"
   ]
  },
  {
   "cell_type": "code",
   "execution_count": 14,
   "id": "052b0067",
   "metadata": {},
   "outputs": [
    {
     "name": "stdout",
     "output_type": "stream",
     "text": [
      "p-value:  3.167124183311986e-05\n",
      "Reject the null hypothesis\n"
     ]
    }
   ],
   "source": [
    "# H0: Faurd transaction >= 12 per month\n",
    "# H1: Faurd transaction < 12 per month\n",
    "\n",
    "alpha = 0.05\n",
    "\n",
    "mu1 = 12\n",
    "mu2 = 10\n",
    "sd = 3\n",
    "n = 3*12\n",
    "\n",
    "z = (mu2 - mu1) / (sd/ math.sqrt(n))\n",
    "\n",
    "p = st.norm.cdf(z)\n",
    "print(\"p-value: \",p)\n",
    "\n",
    "# decision time\n",
    "if p < alpha:\n",
    "    print(\"Rejects the null hypothesis\")\n",
    "else:\n",
    "    print(\"Fails to reject the null hypothesis\")"
   ]
  },
  {
   "cell_type": "code",
   "execution_count": 13,
   "id": "62b6d589",
   "metadata": {},
   "outputs": [
    {
     "data": {
      "text/plain": [
       "4.0"
      ]
     },
     "execution_count": 13,
     "metadata": {},
     "output_type": "execute_result"
    }
   ],
   "source": [
    "z"
   ]
  },
  {
   "cell_type": "markdown",
   "id": "fbd1f441",
   "metadata": {},
   "source": [
    "<table align=\"left\">\n",
    "    <tr>\n",
    "        <td width=\"6%\">\n",
    "            <img src=\"question_icon.png\">\n",
    "        </td>\n",
    "        <td>\n",
    "            <div align=\"left\", style=\"font-size:120%\">\n",
    "                <font color=\"#21618C\">\n",
    "                    <b>11. The quality assurance department has collected 15 packets of potato chips. The department wants to test the average weight of the packets. Check whether they can use the one sample t-test for the population mean with 95% confidence, if so Use the weight of the potato chips packets given  and test whether the average weight of packet is more than 30 g. (Use 10% level of significance) .</b>\n",
    "                </font>\n",
    "            </div>\n",
    "        </td>\n",
    "    </tr>\n",
    "</table>"
   ]
  },
  {
   "cell_type": "markdown",
   "id": "c66f8568",
   "metadata": {},
   "source": [
    "Use the data given below:\n",
    "        \n",
    "    pack_wt = [26.8, 29.6, 27.8, 31.2, 30.9, 27.1, 28, 28.6, 29.4, 29.3, 31.5, 32.4, 29.7, 28.1, 31.9]"
   ]
  },
  {
   "cell_type": "code",
   "execution_count": 38,
   "id": "b2e5f4a4",
   "metadata": {},
   "outputs": [
    {
     "name": "stdout",
     "output_type": "stream",
     "text": [
      "Data is normally distributed\n",
      "p-value:  0.28136576255640705\n",
      "critical value 1.345030374454649\n",
      "Reject the null hypothesis\n"
     ]
    }
   ],
   "source": [
    "#H0: Weight of pack <= 30g\n",
    "#H1: Weight of pack > 30g\n",
    "\n",
    "alpha = 0.1\n",
    "    \n",
    "n = 15\n",
    "mu = 30\n",
    "\n",
    "pack_wt = [26.8, 29.6, 27.8, 31.2, 30.9, 27.1, 28, 28.6, 29.4, 29.3, 31.5, 32.4, 29.7, 28.1, 31.9]\n",
    "x_bar = np.mean(pack_wt) \n",
    "sd = np.std(pack_wt)\n",
    "\n",
    "#check normality \n",
    "k2 , p = st.normaltest(pack_wt)\n",
    "\n",
    "if p < alpha:\n",
    "    print('data is not normally distributed')\n",
    "else:\n",
    "    print('data is normally distributed')\n",
    "\n",
    "# Perform a one-sample t-test\n",
    "t , p = st.ttest_1samp(pack_wt,mu)\n",
    "\n",
    "# Calculate degrees of freedom\n",
    "degrees_of_freedom = len(pack_wt) - 1\n",
    "\n",
    "# Find the critical t-value for the upper tail at the 90% confidence level\n",
    "critical_t = st.t.ppf(1 - alpha, degrees_of_freedom)\n",
    "\n",
    "print(\"p-value: \",p)\n",
    "print(\"critical value\",critical_t)\n",
    "\n",
    "# Make a decision based on the p-value\n",
    "if p_value < alpha:\n",
    "    print(\"reject the  hypothesis\")\n",
    "else:\n",
    "    print(\"fail to reject  null hypothesis\")"
   ]
  },
  {
   "cell_type": "markdown",
   "id": "ac49e3e7",
   "metadata": {},
   "source": [
    "<table align=\"left\">\n",
    "    <tr>\n",
    "        <td width=\"6%\">\n",
    "            <img src=\"question_icon.png\">\n",
    "        </td>\n",
    "        <td>\n",
    "            <div align=\"left\", style=\"font-size:120%\">\n",
    "                <font color=\"#21618C\">\n",
    "                    <b>12. The orthopaedic surgeon states that a T-score for females older than 30 years is less than -1.2 which indicates the low bone density. To test the claim a sample of 10 women was selected and the average T-score was found to be -1.34 with a standard deviation of 0.8. Test the surgeon's claim using a critical value method with 95% confidence. (Assume the normality of the T-score). </b>\n",
    "                </font>\n",
    "            </div>\n",
    "        </td>\n",
    "    </tr>\n",
    "</table>"
   ]
  },
  {
   "cell_type": "code",
   "execution_count": 25,
   "id": "f88408d7",
   "metadata": {},
   "outputs": [
    {
     "name": "stdout",
     "output_type": "stream",
     "text": [
      "t-statistic: -0.5533985905294669\n",
      "Critical t-value: 1.8331129326536335\n",
      "Reject the null hypothesis\n"
     ]
    }
   ],
   "source": [
    "# H0: bone density => -1.2\n",
    "# H1: bone density < 1.2\n",
    "\n",
    "# Sample data\n",
    "sample_mean = -1.34\n",
    "sample_stddev = 0.8\n",
    "sample_size = 10\n",
    "pop_mean = -1.2  # Null hypothesis mean\n",
    "\n",
    "# Calculate the t-statistic\n",
    "t_statistic = (sample_mean - pop_mean) / (sample_stddev / (sample_size**0.5))\n",
    "\n",
    "# Set the significance level\n",
    "alpha = 0.05\n",
    "\n",
    "# Find the critical t-value for a one-tailed test\n",
    "degrees_of_freedom = sample_size - 1\n",
    "critical_t_value = st.t.ppf(1 - alpha, df=degrees_of_freedom)\n",
    "\n",
    "# Print the results\n",
    "print(\"t-statistic:\", t_statistic)\n",
    "print(\"Critical t-value:\", critical_t_value)\n",
    "\n",
    "# Perform the hypothesis test\n",
    "if t_statistic < critical_t_value:\n",
    "    print(\"Reject  null hypothesis\")\n",
    "else:\n",
    "    print(\"Fail to reject  null hypothesis\")"
   ]
  },
  {
   "cell_type": "markdown",
   "id": "03cc88e2",
   "metadata": {},
   "source": [
    "<table align=\"left\">\n",
    "    <tr>\n",
    "        <td width=\"6%\">\n",
    "            <img src=\"question_icon.png\">\n",
    "        </td>\n",
    "        <td>\n",
    "            <div align=\"left\", style=\"font-size:120%\">\n",
    "                <font color=\"#21618C\">\n",
    "                    <b>13. The newspaper agency wants to test whether Harry takes less time to deliver the newspapers than his colleague Ron. The manager has collected time (in minutes) taken by Harry and Ron for 7 days. Use the given data and test the hypothesis for population mean time using a critical value method and p-value criteria with 90% confidence.</b>\n",
    "                </font>\n",
    "            </div>\n",
    "        </td>\n",
    "    </tr>\n",
    "</table>"
   ]
  },
  {
   "cell_type": "markdown",
   "id": "9f4f552a",
   "metadata": {},
   "source": [
    "Use the data given below:\n",
    "        \n",
    "    harry = [18.5, 17.4, 19.2, 16, 15.8, 13.4, 19.5]\n",
    "    ron = [19.7, 18.6, 21.3, 17.5, 23.8, 20.7, 21]"
   ]
  },
  {
   "cell_type": "code",
   "execution_count": 24,
   "id": "16815005",
   "metadata": {},
   "outputs": [
    {
     "name": "stdout",
     "output_type": "stream",
     "text": [
      "Critical Value Method:\n",
      "t-statistic: -2.851039631082809\n",
      "Critical t-value: 1.4397557472577693\n",
      "\n",
      "Reject the null hypothesis\n",
      "\n",
      "P-Value Criteria:\n",
      "p-value: 0.029141870402151777\n",
      "alpha: 0.1\n",
      "\n",
      "Reject the null hypothesis\n"
     ]
    }
   ],
   "source": [
    "# H0: Harry times >= Rons times\n",
    "# H1: Harry times > Rons times\n",
    "\n",
    "alpha = 0.10\n",
    "\n",
    "harry = [18.5, 17.4, 19.2, 16, 15.8, 13.4, 19.5]\n",
    "ron = [19.7, 18.6, 21.3, 17.5, 23.8, 20.7, 21]\n",
    "\n",
    "diff = np.array(harry) - np.array(ron)\n",
    "\n",
    "t , p = st.ttest_1samp(diff, 0)\n",
    "\n",
    "alpha = 0.10\n",
    "df = len(diff) - 1\n",
    "CV = st.t.ppf(1-alpha , df)\n",
    "\n",
    "print(\"Critical Value Method:\")\n",
    "print(\"t-statistic:\", t)\n",
    "print(\"Critical t-value:\", CV)\n",
    "\n",
    "if t < CV:\n",
    "    print(\"reject the null hypothesis\")\n",
    "else:\n",
    "    print(\"fail to reject the null hypothesis\")\n",
    "\n",
    "    \n",
    "print(\"\\nP-Value Criteria:\")\n",
    "print(\"p-value:\", p)\n",
    "print(\"alpha:\", alpha)\n",
    "\n",
    "if p < alpha:\n",
    "    print(\"reject the null hypothesis\")\n",
    "else:\n",
    "    print(\"fail to reject the null hypothesis\")"
   ]
  },
  {
   "cell_type": "markdown",
   "id": "1be1ef3a",
   "metadata": {},
   "source": [
    "<table align=\"left\">\n",
    "    <tr>\n",
    "        <td width=\"6%\">\n",
    "            <img src=\"question_icon.png\">\n",
    "        </td>\n",
    "        <td>\n",
    "            <div align=\"left\", style=\"font-size:120%\">\n",
    "                <font color=\"#21618C\">\n",
    "                    <b>14. The sales manager at a car showroom claims that the cars in the showroom have average mileage per gallon (mpg) more than 18 mpg. Use the given dataset to test the manager's claim at 90% confidence.</b>\n",
    "                </font>\n",
    "            </div>\n",
    "        </td>\n",
    "    </tr>\n",
    "</table>"
   ]
  },
  {
   "cell_type": "markdown",
   "id": "ca159044",
   "metadata": {},
   "source": [
    "Consider the dataset given in the CSV file `electronic.csv`."
   ]
  },
  {
   "cell_type": "code",
   "execution_count": 15,
   "id": "a5c5086a",
   "metadata": {},
   "outputs": [
    {
     "data": {
      "text/html": [
       "<div>\n",
       "<style scoped>\n",
       "    .dataframe tbody tr th:only-of-type {\n",
       "        vertical-align: middle;\n",
       "    }\n",
       "\n",
       "    .dataframe tbody tr th {\n",
       "        vertical-align: top;\n",
       "    }\n",
       "\n",
       "    .dataframe thead th {\n",
       "        text-align: right;\n",
       "    }\n",
       "</style>\n",
       "<table border=\"1\" class=\"dataframe\">\n",
       "  <thead>\n",
       "    <tr style=\"text-align: right;\">\n",
       "      <th></th>\n",
       "      <th>name</th>\n",
       "      <th>mpg</th>\n",
       "      <th>cyl</th>\n",
       "      <th>disp</th>\n",
       "      <th>hp</th>\n",
       "      <th>drat</th>\n",
       "      <th>wt</th>\n",
       "      <th>qsec</th>\n",
       "      <th>vs</th>\n",
       "      <th>am</th>\n",
       "      <th>gear</th>\n",
       "      <th>carb</th>\n",
       "    </tr>\n",
       "  </thead>\n",
       "  <tbody>\n",
       "    <tr>\n",
       "      <th>0</th>\n",
       "      <td>Mazda RX4</td>\n",
       "      <td>21.0</td>\n",
       "      <td>6</td>\n",
       "      <td>160.0</td>\n",
       "      <td>110</td>\n",
       "      <td>3.90</td>\n",
       "      <td>2.620</td>\n",
       "      <td>16.46</td>\n",
       "      <td>0</td>\n",
       "      <td>M</td>\n",
       "      <td>4</td>\n",
       "      <td>4</td>\n",
       "    </tr>\n",
       "    <tr>\n",
       "      <th>1</th>\n",
       "      <td>Mazda RX4 Wag</td>\n",
       "      <td>21.0</td>\n",
       "      <td>6</td>\n",
       "      <td>160.0</td>\n",
       "      <td>110</td>\n",
       "      <td>3.90</td>\n",
       "      <td>2.875</td>\n",
       "      <td>17.02</td>\n",
       "      <td>0</td>\n",
       "      <td>M</td>\n",
       "      <td>4</td>\n",
       "      <td>4</td>\n",
       "    </tr>\n",
       "    <tr>\n",
       "      <th>2</th>\n",
       "      <td>Datsun 710</td>\n",
       "      <td>22.8</td>\n",
       "      <td>4</td>\n",
       "      <td>108.0</td>\n",
       "      <td>93</td>\n",
       "      <td>3.85</td>\n",
       "      <td>2.320</td>\n",
       "      <td>18.61</td>\n",
       "      <td>1</td>\n",
       "      <td>M</td>\n",
       "      <td>4</td>\n",
       "      <td>1</td>\n",
       "    </tr>\n",
       "    <tr>\n",
       "      <th>3</th>\n",
       "      <td>Hornet 4 Drive</td>\n",
       "      <td>21.4</td>\n",
       "      <td>6</td>\n",
       "      <td>258.0</td>\n",
       "      <td>110</td>\n",
       "      <td>3.08</td>\n",
       "      <td>3.215</td>\n",
       "      <td>19.44</td>\n",
       "      <td>1</td>\n",
       "      <td>A</td>\n",
       "      <td>3</td>\n",
       "      <td>1</td>\n",
       "    </tr>\n",
       "    <tr>\n",
       "      <th>4</th>\n",
       "      <td>Hornet Sportabout</td>\n",
       "      <td>18.7</td>\n",
       "      <td>8</td>\n",
       "      <td>360.0</td>\n",
       "      <td>175</td>\n",
       "      <td>3.15</td>\n",
       "      <td>3.440</td>\n",
       "      <td>17.02</td>\n",
       "      <td>0</td>\n",
       "      <td>A</td>\n",
       "      <td>3</td>\n",
       "      <td>2</td>\n",
       "    </tr>\n",
       "  </tbody>\n",
       "</table>\n",
       "</div>"
      ],
      "text/plain": [
       "                name   mpg  cyl   disp   hp  drat     wt   qsec  vs am  gear  \\\n",
       "0          Mazda RX4  21.0    6  160.0  110  3.90  2.620  16.46   0  M     4   \n",
       "1      Mazda RX4 Wag  21.0    6  160.0  110  3.90  2.875  17.02   0  M     4   \n",
       "2         Datsun 710  22.8    4  108.0   93  3.85  2.320  18.61   1  M     4   \n",
       "3     Hornet 4 Drive  21.4    6  258.0  110  3.08  3.215  19.44   1  A     3   \n",
       "4  Hornet Sportabout  18.7    8  360.0  175  3.15  3.440  17.02   0  A     3   \n",
       "\n",
       "   carb  \n",
       "0     4  \n",
       "1     4  \n",
       "2     1  \n",
       "3     1  \n",
       "4     2  "
      ]
     },
     "execution_count": 15,
     "metadata": {},
     "output_type": "execute_result"
    }
   ],
   "source": [
    "df = pd.read_csv('cars.csv')\n",
    "df.head()"
   ]
  },
  {
   "cell_type": "code",
   "execution_count": 23,
   "id": "98a3d598",
   "metadata": {},
   "outputs": [
    {
     "name": "stdout",
     "output_type": "stream",
     "text": [
      "\n",
      "Reject the null hypothesis\n"
     ]
    }
   ],
   "source": [
    "# H0: Average milage < 18\n",
    "# H1: Average milage > 18\n",
    "\n",
    "alpha = 0.1\n",
    "\n",
    "mu = 18\n",
    "df_list = list(df['mpg']) \n",
    "\n",
    "t , p = st.ttest_1samp(df_list, mu)\n",
    "\n",
    "if p < alpha:\n",
    "    print(\"reject the null hypothesis\")\n",
    "else:\n",
    "    print(\"fail to reject the null hypothesis\")"
   ]
  },
  {
   "cell_type": "code",
   "execution_count": null,
   "id": "d5747ad7",
   "metadata": {},
   "outputs": [],
   "source": []
  }
 ],
 "metadata": {
  "kernelspec": {
   "display_name": "Python 3 (ipykernel)",
   "language": "python",
   "name": "python3"
  },
  "language_info": {
   "codemirror_mode": {
    "name": "ipython",
    "version": 3
   },
   "file_extension": ".py",
   "mimetype": "text/x-python",
   "name": "python",
   "nbconvert_exporter": "python",
   "pygments_lexer": "ipython3",
   "version": "3.11.3"
  }
 },
 "nbformat": 4,
 "nbformat_minor": 5
}
