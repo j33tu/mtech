{
 "cells": [
  {
   "cell_type": "markdown",
   "metadata": {
    "colab_type": "text",
    "id": "XVVU-dNs4w4z"
   },
   "source": [
    "### Session 3"
   ]
  },
  {
   "cell_type": "markdown",
   "metadata": {
    "colab": {},
    "colab_type": "code",
    "id": "b4XGtvcA4w40"
   },
   "source": [
    "##1. Read the picture S2_1."
   ]
  },
  {
   "cell_type": "code",
<<<<<<< HEAD
   "execution_count": 40,
=======
   "execution_count": 103,
>>>>>>> cf3429aa022050cdef15a5addc336bde64bc40e5
   "metadata": {},
   "outputs": [],
   "source": [
    "import numpy as np\n",
    "import pandas as pd\n",
    "import matplotlib.pyplot as plt\n",
    "from PIL import Image,ImageDraw,ImageFilter\n",
    "import scipy\n",
    "from skimage import data,io\n",
    "from numpy import *\n",
    "\n",
    "image_path = \"S2_1.png\"\n",
    "img = Image.open(image_path)\n",
    "img.show()"
   ]
  },
  {
   "cell_type": "markdown",
   "metadata": {
    "colab_type": "text",
    "id": "9rP6dv164w46"
   },
   "source": [
    "##2. Print out the observed shape of the image"
   ]
  },
  {
   "cell_type": "code",
   "execution_count": 5,
   "metadata": {
    "colab": {},
    "colab_type": "code",
    "id": "EPtFIksS4w47"
   },
   "outputs": [
    {
     "name": "stdout",
     "output_type": "stream",
     "text": [
      "512 288\n",
      "Image format: PNG\n",
      "Image mode: RGB\n",
      "Image size: (512, 288)\n"
     ]
    }
   ],
   "source": [
    "# Display some information about the image\n",
    "width, height = img.size\n",
    "print(width,height)\n",
    "print(\"Image format:\", img.format)\n",
    "print(\"Image mode:\", img.mode)\n",
    "print(\"Image size:\", img.size)"
   ]
  },
  {
   "cell_type": "markdown",
   "metadata": {
    "colab_type": "text",
    "id": "_1_o1wsw4w5B"
   },
   "source": [
    "##3. Show horizontally One-third of the image in Red next one-third in blue and the last one third in green"
   ]
  },
  {
   "cell_type": "code",
   "execution_count": 104,
   "metadata": {
    "colab": {},
    "colab_type": "code",
    "id": "cQw-Iec34w5P"
   },
   "outputs": [],
   "source": [
    "new_image = Image.new('RGB', (width, height), (255, 255, 255))\n",
    "new_image.show()\n",
    "one_third_width = width // 3\n",
    "draw = ImageDraw.Draw(new_image)\n",
    "draw.rectangle([0, 0, one_third_width, height], fill=(255, 0, 0))\n",
    "draw.rectangle([one_third_width, 0, 2 * one_third_width, height], fill=(0, 0, 255))\n",
    "draw.rectangle([2 * one_third_width, 0, width, height], fill=(0, 255, 0))\n",
    "# Save the resulting image\n",
    "new_image.save('output_image.png') # Replace 'output_image.jpg' with the desired output file path\n",
    "triimg=Image.open('output_image.png')\n",
    "triimg.show()\n"
   ]
  },
  {
   "cell_type": "markdown",
   "metadata": {
    "colab_type": "text",
    "id": "TR3e4oAL4w5O"
   },
   "source": [
    "##4. Scale down the image by half"
   ]
  },
  {
   "cell_type": "code",
   "execution_count": 20,
   "metadata": {},
   "outputs": [],
   "source": [
    "imgsd = triimg  # Replace 'your_image.jpg' with your image file path\n",
    "original_width, original_height = imgsd.size\n",
    "new_width = original_width // 2\n",
    "new_height = original_height // 2\n",
    "scd_image = imgsd.resize((new_width, new_height))\n",
    "scad_image.save('sd_image.png')"
   ]
  },
  {
   "cell_type": "markdown",
   "metadata": {
    "colab_type": "text",
    "id": "yUR3UQJO4w5U"
   },
   "source": [
    "##5. Rotate the image up-side down"
   ]
  },
  {
   "cell_type": "code",
   "execution_count": 21,
   "metadata": {
    "colab": {},
    "colab_type": "code",
    "id": "SWTFprM54w5U"
   },
   "outputs": [],
   "source": [
    "rotated_img = img.rotate(180)\n",
    "\n",
    "# Save the rotated image\n",
    "rotated_img.save('rotated_image.jpg')"
   ]
  },
  {
   "cell_type": "markdown",
   "metadata": {
    "colab_type": "text",
    "id": "1CrjyFmH4w5b"
   },
   "source": [
    "## 6. Make a mirror image of the actual picture"
   ]
  },
  {
   "cell_type": "code",
   "execution_count": 37,
   "metadata": {
    "colab": {},
    "colab_type": "code",
    "id": "bAfIUBlt4w5b"
   },
   "outputs": [],
   "source": [
    "mrsample=Image.open('sd_image.png')\n",
    "mrsample.show()\n",
    "mirror_image = mrsample.transpose(Image.FLIP_LEFT_RIGHT)\n",
    "mirror_image.save('mirorr.png')\n",
    "mirror_image.show()"
   ]
  },
  {
   "cell_type": "markdown",
   "metadata": {
    "colab_type": "text",
    "id": "ySE5MFSJ4w5l"
   },
   "source": [
    "##7. Blur the image"
   ]
  },
  {
   "cell_type": "code",
   "execution_count": 42,
   "metadata": {
    "colab": {},
    "colab_type": "code",
    "id": "nC-olayn4w5l"
   },
   "outputs": [],
   "source": [
    "blurred_image = mirror_image.filter(ImageFilter.GaussianBlur(radius=5))\n",
    "blurred_image.save('bimg.jpg')\n",
    "blurred_image.show()"
   ]
  },
  {
   "cell_type": "markdown",
   "metadata": {
    "colab_type": "text",
    "id": "IJAV2Yxi4w5q"
   },
   "source": [
    "##8. Detect the edges of the actual Picture"
   ]
  },
  {
   "cell_type": "code",
   "execution_count": 43,
   "metadata": {
    "colab": {},
    "colab_type": "code",
    "id": "UL1rX5cm4w5r"
   },
   "outputs": [
    {
     "name": "stdout",
     "output_type": "stream",
     "text": [
      "Collecting opencv-python\n",
      "  Downloading opencv_python-4.8.1.78-cp37-abi3-win_amd64.whl (38.1 MB)\n",
      "                                              0.0/38.1 MB ? eta -:--:--\n",
      "                                              0.3/38.1 MB 7.0 MB/s eta 0:00:06\n",
      "                                              0.7/38.1 MB 7.4 MB/s eta 0:00:06\n",
      "     -                                        1.3/38.1 MB 9.4 MB/s eta 0:00:04\n",
      "     -                                        1.9/38.1 MB 10.0 MB/s eta 0:00:04\n",
      "     --                                       2.3/38.1 MB 9.8 MB/s eta 0:00:04\n",
      "     --                                       2.8/38.1 MB 9.9 MB/s eta 0:00:04\n",
      "     ---                                      3.3/38.1 MB 9.9 MB/s eta 0:00:04\n",
      "     ---                                      3.8/38.1 MB 10.0 MB/s eta 0:00:04\n",
      "     ----                                     4.3/38.1 MB 10.1 MB/s eta 0:00:04\n",
      "     ----                                     4.8/38.1 MB 10.1 MB/s eta 0:00:04\n",
      "     -----                                    5.3/38.1 MB 10.2 MB/s eta 0:00:04\n",
      "     ------                                   5.8/38.1 MB 10.3 MB/s eta 0:00:04\n",
      "     ------                                   6.3/38.1 MB 10.3 MB/s eta 0:00:04\n",
      "     -------                                  6.8/38.1 MB 10.4 MB/s eta 0:00:04\n",
      "     -------                                  7.4/38.1 MB 10.5 MB/s eta 0:00:03\n",
      "     --------                                 7.9/38.1 MB 10.6 MB/s eta 0:00:03\n",
      "     --------                                 8.4/38.1 MB 10.8 MB/s eta 0:00:03\n",
      "     ---------                                9.0/38.1 MB 10.8 MB/s eta 0:00:03\n",
      "     ----------                               9.5/38.1 MB 10.9 MB/s eta 0:00:03\n",
      "     ----------                              10.1/38.1 MB 11.0 MB/s eta 0:00:03\n",
      "     ----------                              10.6/38.1 MB 11.3 MB/s eta 0:00:03\n",
      "     -----------                             11.2/38.1 MB 11.3 MB/s eta 0:00:03\n",
      "     ------------                            11.7/38.1 MB 11.5 MB/s eta 0:00:03\n",
      "     ------------                            12.2/38.1 MB 11.3 MB/s eta 0:00:03\n",
      "     -------------                           12.7/38.1 MB 11.3 MB/s eta 0:00:03\n",
      "     -------------                           13.2/38.1 MB 11.5 MB/s eta 0:00:03\n",
      "     --------------                          13.7/38.1 MB 11.5 MB/s eta 0:00:03\n",
      "     --------------                          14.3/38.1 MB 11.7 MB/s eta 0:00:03\n",
      "     ---------------                         14.8/38.1 MB 11.7 MB/s eta 0:00:02\n",
      "     ---------------                         15.4/38.1 MB 11.7 MB/s eta 0:00:02\n",
      "     ----------------                        15.9/38.1 MB 11.7 MB/s eta 0:00:02\n",
      "     ----------------                        16.4/38.1 MB 11.9 MB/s eta 0:00:02\n",
      "     -----------------                       16.8/38.1 MB 11.7 MB/s eta 0:00:02\n",
      "     -----------------                       17.4/38.1 MB 11.7 MB/s eta 0:00:02\n",
      "     ------------------                      17.9/38.1 MB 11.7 MB/s eta 0:00:02\n",
      "     ------------------                      18.5/38.1 MB 11.7 MB/s eta 0:00:02\n",
      "     -------------------                     19.0/38.1 MB 11.7 MB/s eta 0:00:02\n",
      "     --------------------                    19.5/38.1 MB 11.9 MB/s eta 0:00:02\n",
      "     --------------------                    20.1/38.1 MB 11.9 MB/s eta 0:00:02\n",
      "     ---------------------                   20.6/38.1 MB 11.9 MB/s eta 0:00:02\n",
      "     ---------------------                   21.2/38.1 MB 11.9 MB/s eta 0:00:02\n",
      "     ----------------------                  21.7/38.1 MB 11.9 MB/s eta 0:00:02\n",
      "     ----------------------                  22.2/38.1 MB 11.9 MB/s eta 0:00:02\n",
      "     -----------------------                 22.8/38.1 MB 11.9 MB/s eta 0:00:02\n",
      "     -----------------------                 23.3/38.1 MB 11.9 MB/s eta 0:00:02\n",
      "     ------------------------                23.8/38.1 MB 11.7 MB/s eta 0:00:02\n",
      "     ------------------------                24.4/38.1 MB 11.7 MB/s eta 0:00:02\n",
      "     -------------------------               25.0/38.1 MB 11.7 MB/s eta 0:00:02\n",
      "     --------------------------              25.5/38.1 MB 11.7 MB/s eta 0:00:02\n",
      "     --------------------------              26.1/38.1 MB 11.7 MB/s eta 0:00:02\n",
      "     ---------------------------             26.6/38.1 MB 11.7 MB/s eta 0:00:01\n",
      "     ---------------------------             27.1/38.1 MB 11.7 MB/s eta 0:00:01\n",
      "     ----------------------------            27.6/38.1 MB 11.9 MB/s eta 0:00:01\n",
      "     ----------------------------            28.1/38.1 MB 11.9 MB/s eta 0:00:01\n",
      "     -----------------------------           28.6/38.1 MB 11.7 MB/s eta 0:00:01\n",
      "     -----------------------------           29.1/38.1 MB 11.7 MB/s eta 0:00:01\n",
      "     ------------------------------          29.5/38.1 MB 11.7 MB/s eta 0:00:01\n",
      "     ------------------------------          30.1/38.1 MB 11.7 MB/s eta 0:00:01\n",
      "     -------------------------------         30.6/38.1 MB 11.7 MB/s eta 0:00:01\n",
      "     -------------------------------         31.2/38.1 MB 11.7 MB/s eta 0:00:01\n",
      "     --------------------------------        31.6/38.1 MB 11.7 MB/s eta 0:00:01\n",
      "     --------------------------------        32.2/38.1 MB 11.7 MB/s eta 0:00:01\n",
      "     ---------------------------------       32.7/38.1 MB 11.7 MB/s eta 0:00:01\n",
      "     ---------------------------------       33.1/38.1 MB 11.9 MB/s eta 0:00:01\n",
      "     ----------------------------------      33.7/38.1 MB 11.9 MB/s eta 0:00:01\n",
      "     -----------------------------------     34.3/38.1 MB 11.7 MB/s eta 0:00:01\n",
      "     -----------------------------------     34.8/38.1 MB 11.7 MB/s eta 0:00:01\n",
      "     ------------------------------------    35.4/38.1 MB 11.9 MB/s eta 0:00:01\n",
      "     ------------------------------------    35.9/38.1 MB 11.7 MB/s eta 0:00:01\n",
      "     -------------------------------------   36.3/38.1 MB 11.7 MB/s eta 0:00:01\n",
      "     -------------------------------------   36.9/38.1 MB 11.7 MB/s eta 0:00:01\n",
      "     --------------------------------------  37.5/38.1 MB 11.9 MB/s eta 0:00:01\n",
      "     --------------------------------------  38.1/38.1 MB 11.9 MB/s eta 0:00:01\n",
      "     --------------------------------------  38.1/38.1 MB 11.9 MB/s eta 0:00:01\n",
      "     --------------------------------------  38.1/38.1 MB 11.9 MB/s eta 0:00:01\n",
      "     --------------------------------------  38.1/38.1 MB 11.9 MB/s eta 0:00:01\n",
      "     --------------------------------------  38.1/38.1 MB 11.9 MB/s eta 0:00:01\n",
      "     --------------------------------------  38.1/38.1 MB 11.9 MB/s eta 0:00:01\n",
      "     ---------------------------------------- 38.1/38.1 MB 8.7 MB/s eta 0:00:00\n",
      "Requirement already satisfied: numpy>=1.21.2 in d:\\conda\\lib\\site-packages (from opencv-python) (1.24.3)\n",
      "Installing collected packages: opencv-python\n",
      "Successfully installed opencv-python-4.8.1.78\n",
      "Note: you may need to restart the kernel to use updated packages.\n"
     ]
    }
   ],
   "source": [
    "pip install opencv-python"
   ]
  },
  {
   "cell_type": "code",
   "execution_count": 44,
   "metadata": {
    "colab": {},
    "colab_type": "code",
    "id": "tKAfKX_54w5u"
   },
   "outputs": [
    {
     "data": {
      "text/plain": [
       "True"
      ]
     },
     "execution_count": 44,
     "metadata": {},
     "output_type": "execute_result"
    }
   ],
   "source": [
    "import cv2\n",
    "import numpy as np\n",
    "\n",
    "# Read the image\n",
    "image2 = cv2.imread('mirorr.png')  # Replace 'your_image.jpg' with your image file path\n",
    "\n",
    "# Convert the image to grayscale\n",
    "gray = cv2.cvtColor(image2, cv2.COLOR_BGR2GRAY)\n",
    "\n",
    "# Apply Canny edge detection\n",
    "edges = cv2.Canny(gray, threshold1=100, threshold2=200)  # You can adjust the threshold values\n",
    "\n",
    "# Save the detected edges image\n",
    "cv2.imwrite('edg_image.jpg', edges)  # Replace 'edges_image.jpg' with the desired output file path\n"
   ]
  },
  {
   "cell_type": "markdown",
   "metadata": {},
   "source": [
    "### Session 4"
   ]
  },
  {
   "cell_type": "markdown",
   "metadata": {},
   "source": [
    "#### 1.A. Read the data S3_1."
   ]
  },
  {
   "cell_type": "markdown",
   "metadata": {},
   "source": [
    "#### 1.B. Print out the number of features in the dataset."
   ]
  },
  {
   "cell_type": "markdown",
   "metadata": {},
   "source": [
    "#### 1.C. Print out the amount of variation we loose with the reduction of 10 feature from the dataset."
   ]
  },
  {
   "cell_type": "code",
   "execution_count": 49,
   "metadata": {},
   "outputs": [],
   "source": [
    "#Read the data S3_1.\n",
    "df=pd.read_excel('S3_1.xlsx')\n"
   ]
  },
  {
   "cell_type": "code",
   "execution_count": 51,
   "metadata": {},
   "outputs": [
    {
     "name": "stdout",
     "output_type": "stream",
     "text": [
      "number of features in data set are :  13\n"
     ]
    }
   ],
   "source": [
    "features = df.shape[1]\n",
    "print('number of features in data set are : ',features)"
   ]
  },
  {
   "cell_type": "code",
   "execution_count": 58,
   "metadata": {},
   "outputs": [
    {
     "name": "stdout",
     "output_type": "stream",
     "text": [
      "Explained Variance before reduction: 0.9999999999999999\n",
      "Explained Variance after reduction: 0.9999221050741546\n",
      "Amount of variation lost: 7.78949258453121e-05\n"
     ]
    }
   ],
   "source": [
    "import numpy as np\n",
    "from sklearn.decomposition import PCA\n",
    "\n",
    "\n",
    "#  Perform PCA df\n",
    "pca_original = PCA()\n",
    "pca_original.fit(df)\n",
    "\n",
    "# find the number of features to keep (N)\n",
    "N = df.shape[1] - 10\n",
    "\n",
    "# Perform PCA on the reduced dataset with N features\n",
    "pca_reduced = PCA(n_components=N)\n",
    "pca_reduced.fit(df)\n",
    "\n",
    "# explained variance before and after reduction\n",
    "explained_variance_original = np.sum(pca_original.explained_variance_ratio_)\n",
    "explained_variance_reduced = np.sum(pca_reduced.explained_variance_ratio_)\n",
    "\n",
    "#amount of variation lost\n",
    "variation_lost = explained_variance_original - explained_variance_reduced\n",
    "\n",
    "print(f\"Explained Variance before reduction: {explained_variance_original}\")\n",
    "print(f\"Explained Variance after reduction: {explained_variance_reduced}\")\n",
    "print(f\"Amount of variation lost: {variation_lost}\")\n"
   ]
  },
  {
   "cell_type": "code",
<<<<<<< HEAD
=======
   "execution_count": 60,
   "metadata": {},
   "outputs": [
    {
     "data": {
      "text/html": [
       "<div>\n",
       "<style scoped>\n",
       "    .dataframe tbody tr th:only-of-type {\n",
       "        vertical-align: middle;\n",
       "    }\n",
       "\n",
       "    .dataframe tbody tr th {\n",
       "        vertical-align: top;\n",
       "    }\n",
       "\n",
       "    .dataframe thead th {\n",
       "        text-align: right;\n",
       "    }\n",
       "</style>\n",
       "<table border=\"1\" class=\"dataframe\">\n",
       "  <thead>\n",
       "    <tr style=\"text-align: right;\">\n",
       "      <th></th>\n",
       "      <th>Alcohol</th>\n",
       "      <th>Malic acid</th>\n",
       "      <th>Ash</th>\n",
       "      <th>Alcalinity of ash</th>\n",
       "      <th>Magnesium</th>\n",
       "      <th>Total phenols</th>\n",
       "      <th>Flavanoids</th>\n",
       "      <th>Nonflavanoid phenols</th>\n",
       "      <th>Proanthocyanins</th>\n",
       "      <th>Color intensity</th>\n",
       "      <th>Hue</th>\n",
       "      <th>OD280/OD315 of diluted wines</th>\n",
       "      <th>Proline</th>\n",
       "    </tr>\n",
       "  </thead>\n",
       "  <tbody>\n",
       "    <tr>\n",
       "      <th>0</th>\n",
       "      <td>14.23</td>\n",
       "      <td>1.71</td>\n",
       "      <td>2.43</td>\n",
       "      <td>15.6</td>\n",
       "      <td>127</td>\n",
       "      <td>2.80</td>\n",
       "      <td>3.06</td>\n",
       "      <td>0.28</td>\n",
       "      <td>2.29</td>\n",
       "      <td>5.64</td>\n",
       "      <td>1.04</td>\n",
       "      <td>3.92</td>\n",
       "      <td>1065</td>\n",
       "    </tr>\n",
       "    <tr>\n",
       "      <th>1</th>\n",
       "      <td>13.20</td>\n",
       "      <td>1.78</td>\n",
       "      <td>2.14</td>\n",
       "      <td>11.2</td>\n",
       "      <td>100</td>\n",
       "      <td>2.65</td>\n",
       "      <td>2.76</td>\n",
       "      <td>0.26</td>\n",
       "      <td>1.28</td>\n",
       "      <td>4.38</td>\n",
       "      <td>1.05</td>\n",
       "      <td>3.40</td>\n",
       "      <td>1050</td>\n",
       "    </tr>\n",
       "    <tr>\n",
       "      <th>2</th>\n",
       "      <td>13.16</td>\n",
       "      <td>2.36</td>\n",
       "      <td>2.67</td>\n",
       "      <td>18.6</td>\n",
       "      <td>101</td>\n",
       "      <td>2.80</td>\n",
       "      <td>3.24</td>\n",
       "      <td>0.30</td>\n",
       "      <td>2.81</td>\n",
       "      <td>5.68</td>\n",
       "      <td>1.03</td>\n",
       "      <td>3.17</td>\n",
       "      <td>1185</td>\n",
       "    </tr>\n",
       "    <tr>\n",
       "      <th>3</th>\n",
       "      <td>14.37</td>\n",
       "      <td>1.95</td>\n",
       "      <td>2.50</td>\n",
       "      <td>16.8</td>\n",
       "      <td>113</td>\n",
       "      <td>3.85</td>\n",
       "      <td>3.49</td>\n",
       "      <td>0.24</td>\n",
       "      <td>2.18</td>\n",
       "      <td>7.80</td>\n",
       "      <td>0.86</td>\n",
       "      <td>3.45</td>\n",
       "      <td>1480</td>\n",
       "    </tr>\n",
       "    <tr>\n",
       "      <th>4</th>\n",
       "      <td>13.24</td>\n",
       "      <td>2.59</td>\n",
       "      <td>2.87</td>\n",
       "      <td>21.0</td>\n",
       "      <td>118</td>\n",
       "      <td>2.80</td>\n",
       "      <td>2.69</td>\n",
       "      <td>0.39</td>\n",
       "      <td>1.82</td>\n",
       "      <td>4.32</td>\n",
       "      <td>1.04</td>\n",
       "      <td>2.93</td>\n",
       "      <td>735</td>\n",
       "    </tr>\n",
       "    <tr>\n",
       "      <th>...</th>\n",
       "      <td>...</td>\n",
       "      <td>...</td>\n",
       "      <td>...</td>\n",
       "      <td>...</td>\n",
       "      <td>...</td>\n",
       "      <td>...</td>\n",
       "      <td>...</td>\n",
       "      <td>...</td>\n",
       "      <td>...</td>\n",
       "      <td>...</td>\n",
       "      <td>...</td>\n",
       "      <td>...</td>\n",
       "      <td>...</td>\n",
       "    </tr>\n",
       "    <tr>\n",
       "      <th>173</th>\n",
       "      <td>13.71</td>\n",
       "      <td>5.65</td>\n",
       "      <td>2.45</td>\n",
       "      <td>20.5</td>\n",
       "      <td>95</td>\n",
       "      <td>1.68</td>\n",
       "      <td>0.61</td>\n",
       "      <td>0.52</td>\n",
       "      <td>1.06</td>\n",
       "      <td>7.70</td>\n",
       "      <td>0.64</td>\n",
       "      <td>1.74</td>\n",
       "      <td>740</td>\n",
       "    </tr>\n",
       "    <tr>\n",
       "      <th>174</th>\n",
       "      <td>13.40</td>\n",
       "      <td>3.91</td>\n",
       "      <td>2.48</td>\n",
       "      <td>23.0</td>\n",
       "      <td>102</td>\n",
       "      <td>1.80</td>\n",
       "      <td>0.75</td>\n",
       "      <td>0.43</td>\n",
       "      <td>1.41</td>\n",
       "      <td>7.30</td>\n",
       "      <td>0.70</td>\n",
       "      <td>1.56</td>\n",
       "      <td>750</td>\n",
       "    </tr>\n",
       "    <tr>\n",
       "      <th>175</th>\n",
       "      <td>13.27</td>\n",
       "      <td>4.28</td>\n",
       "      <td>2.26</td>\n",
       "      <td>20.0</td>\n",
       "      <td>120</td>\n",
       "      <td>1.59</td>\n",
       "      <td>0.69</td>\n",
       "      <td>0.43</td>\n",
       "      <td>1.35</td>\n",
       "      <td>10.20</td>\n",
       "      <td>0.59</td>\n",
       "      <td>1.56</td>\n",
       "      <td>835</td>\n",
       "    </tr>\n",
       "    <tr>\n",
       "      <th>176</th>\n",
       "      <td>13.17</td>\n",
       "      <td>2.59</td>\n",
       "      <td>2.37</td>\n",
       "      <td>20.0</td>\n",
       "      <td>120</td>\n",
       "      <td>1.65</td>\n",
       "      <td>0.68</td>\n",
       "      <td>0.53</td>\n",
       "      <td>1.46</td>\n",
       "      <td>9.30</td>\n",
       "      <td>0.60</td>\n",
       "      <td>1.62</td>\n",
       "      <td>840</td>\n",
       "    </tr>\n",
       "    <tr>\n",
       "      <th>177</th>\n",
       "      <td>14.13</td>\n",
       "      <td>4.10</td>\n",
       "      <td>2.74</td>\n",
       "      <td>24.5</td>\n",
       "      <td>96</td>\n",
       "      <td>2.05</td>\n",
       "      <td>0.76</td>\n",
       "      <td>0.56</td>\n",
       "      <td>1.35</td>\n",
       "      <td>9.20</td>\n",
       "      <td>0.61</td>\n",
       "      <td>1.60</td>\n",
       "      <td>560</td>\n",
       "    </tr>\n",
       "  </tbody>\n",
       "</table>\n",
       "<p>178 rows × 13 columns</p>\n",
       "</div>"
      ],
      "text/plain": [
       "      Alcohol   Malic acid   Ash   Alcalinity of ash     Magnesium  \\\n",
       "0       14.23         1.71  2.43                  15.6         127   \n",
       "1       13.20         1.78  2.14                  11.2         100   \n",
       "2       13.16         2.36  2.67                  18.6         101   \n",
       "3       14.37         1.95  2.50                  16.8         113   \n",
       "4       13.24         2.59  2.87                  21.0         118   \n",
       "..        ...          ...   ...                   ...         ...   \n",
       "173     13.71         5.65  2.45                  20.5          95   \n",
       "174     13.40         3.91  2.48                  23.0         102   \n",
       "175     13.27         4.28  2.26                  20.0         120   \n",
       "176     13.17         2.59  2.37                  20.0         120   \n",
       "177     14.13         4.10  2.74                  24.5          96   \n",
       "\n",
       "      Total phenols   Flavanoids   Nonflavanoid phenols   Proanthocyanins  \\\n",
       "0              2.80         3.06                   0.28              2.29   \n",
       "1              2.65         2.76                   0.26              1.28   \n",
       "2              2.80         3.24                   0.30              2.81   \n",
       "3              3.85         3.49                   0.24              2.18   \n",
       "4              2.80         2.69                   0.39              1.82   \n",
       "..              ...          ...                    ...               ...   \n",
       "173            1.68         0.61                   0.52              1.06   \n",
       "174            1.80         0.75                   0.43              1.41   \n",
       "175            1.59         0.69                   0.43              1.35   \n",
       "176            1.65         0.68                   0.53              1.46   \n",
       "177            2.05         0.76                   0.56              1.35   \n",
       "\n",
       "     Color intensity   Hue  OD280/OD315 of diluted wines  Proline   \n",
       "0               5.64  1.04                          3.92      1065  \n",
       "1               4.38  1.05                          3.40      1050  \n",
       "2               5.68  1.03                          3.17      1185  \n",
       "3               7.80  0.86                          3.45      1480  \n",
       "4               4.32  1.04                          2.93       735  \n",
       "..               ...   ...                           ...       ...  \n",
       "173             7.70  0.64                          1.74       740  \n",
       "174             7.30  0.70                          1.56       750  \n",
       "175            10.20  0.59                          1.56       835  \n",
       "176             9.30  0.60                          1.62       840  \n",
       "177             9.20  0.61                          1.60       560  \n",
       "\n",
       "[178 rows x 13 columns]"
      ]
     },
     "execution_count": 60,
     "metadata": {},
     "output_type": "execute_result"
    }
   ],
   "source": [
    "#Read the data S3_1.\n",
    "df=pd.read_excel('S3_1.xlsx')\n",
    "df"
   ]
  },
  {
   "cell_type": "code",
   "execution_count": 65,
   "metadata": {},
   "outputs": [],
   "source": [
    "from sklearn.decomposition import PCA\n",
    "pca_original=PCA()\n",
    "pca_original.fit(df)\n",
    "\n",
    "N=df.shape[1]-10"
   ]
  },
  {
   "cell_type": "code",
   "execution_count": 67,
   "metadata": {},
   "outputs": [
    {
     "data": {
      "text/html": [
       "<style>#sk-container-id-3 {color: black;background-color: white;}#sk-container-id-3 pre{padding: 0;}#sk-container-id-3 div.sk-toggleable {background-color: white;}#sk-container-id-3 label.sk-toggleable__label {cursor: pointer;display: block;width: 100%;margin-bottom: 0;padding: 0.3em;box-sizing: border-box;text-align: center;}#sk-container-id-3 label.sk-toggleable__label-arrow:before {content: \"▸\";float: left;margin-right: 0.25em;color: #696969;}#sk-container-id-3 label.sk-toggleable__label-arrow:hover:before {color: black;}#sk-container-id-3 div.sk-estimator:hover label.sk-toggleable__label-arrow:before {color: black;}#sk-container-id-3 div.sk-toggleable__content {max-height: 0;max-width: 0;overflow: hidden;text-align: left;background-color: #f0f8ff;}#sk-container-id-3 div.sk-toggleable__content pre {margin: 0.2em;color: black;border-radius: 0.25em;background-color: #f0f8ff;}#sk-container-id-3 input.sk-toggleable__control:checked~div.sk-toggleable__content {max-height: 200px;max-width: 100%;overflow: auto;}#sk-container-id-3 input.sk-toggleable__control:checked~label.sk-toggleable__label-arrow:before {content: \"▾\";}#sk-container-id-3 div.sk-estimator input.sk-toggleable__control:checked~label.sk-toggleable__label {background-color: #d4ebff;}#sk-container-id-3 div.sk-label input.sk-toggleable__control:checked~label.sk-toggleable__label {background-color: #d4ebff;}#sk-container-id-3 input.sk-hidden--visually {border: 0;clip: rect(1px 1px 1px 1px);clip: rect(1px, 1px, 1px, 1px);height: 1px;margin: -1px;overflow: hidden;padding: 0;position: absolute;width: 1px;}#sk-container-id-3 div.sk-estimator {font-family: monospace;background-color: #f0f8ff;border: 1px dotted black;border-radius: 0.25em;box-sizing: border-box;margin-bottom: 0.5em;}#sk-container-id-3 div.sk-estimator:hover {background-color: #d4ebff;}#sk-container-id-3 div.sk-parallel-item::after {content: \"\";width: 100%;border-bottom: 1px solid gray;flex-grow: 1;}#sk-container-id-3 div.sk-label:hover label.sk-toggleable__label {background-color: #d4ebff;}#sk-container-id-3 div.sk-serial::before {content: \"\";position: absolute;border-left: 1px solid gray;box-sizing: border-box;top: 0;bottom: 0;left: 50%;z-index: 0;}#sk-container-id-3 div.sk-serial {display: flex;flex-direction: column;align-items: center;background-color: white;padding-right: 0.2em;padding-left: 0.2em;position: relative;}#sk-container-id-3 div.sk-item {position: relative;z-index: 1;}#sk-container-id-3 div.sk-parallel {display: flex;align-items: stretch;justify-content: center;background-color: white;position: relative;}#sk-container-id-3 div.sk-item::before, #sk-container-id-3 div.sk-parallel-item::before {content: \"\";position: absolute;border-left: 1px solid gray;box-sizing: border-box;top: 0;bottom: 0;left: 50%;z-index: -1;}#sk-container-id-3 div.sk-parallel-item {display: flex;flex-direction: column;z-index: 1;position: relative;background-color: white;}#sk-container-id-3 div.sk-parallel-item:first-child::after {align-self: flex-end;width: 50%;}#sk-container-id-3 div.sk-parallel-item:last-child::after {align-self: flex-start;width: 50%;}#sk-container-id-3 div.sk-parallel-item:only-child::after {width: 0;}#sk-container-id-3 div.sk-dashed-wrapped {border: 1px dashed gray;margin: 0 0.4em 0.5em 0.4em;box-sizing: border-box;padding-bottom: 0.4em;background-color: white;}#sk-container-id-3 div.sk-label label {font-family: monospace;font-weight: bold;display: inline-block;line-height: 1.2em;}#sk-container-id-3 div.sk-label-container {text-align: center;}#sk-container-id-3 div.sk-container {/* jupyter's `normalize.less` sets `[hidden] { display: none; }` but bootstrap.min.css set `[hidden] { display: none !important; }` so we also need the `!important` here to be able to override the default hidden behavior on the sphinx rendered scikit-learn.org. See: https://github.com/scikit-learn/scikit-learn/issues/21755 */display: inline-block !important;position: relative;}#sk-container-id-3 div.sk-text-repr-fallback {display: none;}</style><div id=\"sk-container-id-3\" class=\"sk-top-container\"><div class=\"sk-text-repr-fallback\"><pre>PCA(n_components=3)</pre><b>In a Jupyter environment, please rerun this cell to show the HTML representation or trust the notebook. <br />On GitHub, the HTML representation is unable to render, please try loading this page with nbviewer.org.</b></div><div class=\"sk-container\" hidden><div class=\"sk-item\"><div class=\"sk-estimator sk-toggleable\"><input class=\"sk-toggleable__control sk-hidden--visually\" id=\"sk-estimator-id-3\" type=\"checkbox\" checked><label for=\"sk-estimator-id-3\" class=\"sk-toggleable__label sk-toggleable__label-arrow\">PCA</label><div class=\"sk-toggleable__content\"><pre>PCA(n_components=3)</pre></div></div></div></div></div>"
      ],
      "text/plain": [
       "PCA(n_components=3)"
      ]
     },
     "execution_count": 67,
     "metadata": {},
     "output_type": "execute_result"
    }
   ],
   "source": [
    "pca_reduced=PCA(n_components=N)\n",
    "pca_reduced.fit(df)"
   ]
  },
  {
   "cell_type": "code",
   "execution_count": 68,
   "metadata": {},
   "outputs": [],
   "source": [
    "explained_variance_original = np.sum(pca_original.explained_variance_ratio_)\n",
    "explained_variance_reduced = np.sum(pca_reduced.explained_variance_ratio_)"
   ]
  },
  {
   "cell_type": "code",
   "execution_count": 71,
   "metadata": {},
   "outputs": [
    {
     "data": {
      "text/plain": [
       "-7.78949258453121e-05"
      ]
     },
     "execution_count": 71,
     "metadata": {},
     "output_type": "execute_result"
    }
   ],
   "source": [
    "lost = explained_variance_reduced-explained_variance_original\n",
    "lost"
   ]
  },
  {
   "cell_type": "code",
   "execution_count": 73,
   "metadata": {},
   "outputs": [
    {
     "data": {
      "text/html": [
       "<div>\n",
       "<style scoped>\n",
       "    .dataframe tbody tr th:only-of-type {\n",
       "        vertical-align: middle;\n",
       "    }\n",
       "\n",
       "    .dataframe tbody tr th {\n",
       "        vertical-align: top;\n",
       "    }\n",
       "\n",
       "    .dataframe thead th {\n",
       "        text-align: right;\n",
       "    }\n",
       "</style>\n",
       "<table border=\"1\" class=\"dataframe\">\n",
       "  <thead>\n",
       "    <tr style=\"text-align: right;\">\n",
       "      <th></th>\n",
       "      <th>Alcohol</th>\n",
       "      <th>Malic acid</th>\n",
       "      <th>Ash</th>\n",
       "      <th>Alcalinity of ash</th>\n",
       "      <th>Magnesium</th>\n",
       "      <th>Total phenols</th>\n",
       "      <th>Flavanoids</th>\n",
       "      <th>Nonflavanoid phenols</th>\n",
       "      <th>Proanthocyanins</th>\n",
       "      <th>Color intensity</th>\n",
       "      <th>Hue</th>\n",
       "      <th>OD280/OD315 of diluted wines</th>\n",
       "      <th>Proline</th>\n",
       "    </tr>\n",
       "  </thead>\n",
       "  <tbody>\n",
       "    <tr>\n",
       "      <th>0</th>\n",
       "      <td>14.23</td>\n",
       "      <td>1.71</td>\n",
       "      <td>2.43</td>\n",
       "      <td>15.6</td>\n",
       "      <td>127</td>\n",
       "      <td>2.80</td>\n",
       "      <td>3.06</td>\n",
       "      <td>0.28</td>\n",
       "      <td>2.29</td>\n",
       "      <td>5.64</td>\n",
       "      <td>1.04</td>\n",
       "      <td>3.92</td>\n",
       "      <td>1065</td>\n",
       "    </tr>\n",
       "    <tr>\n",
       "      <th>1</th>\n",
       "      <td>13.20</td>\n",
       "      <td>1.78</td>\n",
       "      <td>2.14</td>\n",
       "      <td>11.2</td>\n",
       "      <td>100</td>\n",
       "      <td>2.65</td>\n",
       "      <td>2.76</td>\n",
       "      <td>0.26</td>\n",
       "      <td>1.28</td>\n",
       "      <td>4.38</td>\n",
       "      <td>1.05</td>\n",
       "      <td>3.40</td>\n",
       "      <td>1050</td>\n",
       "    </tr>\n",
       "    <tr>\n",
       "      <th>2</th>\n",
       "      <td>13.16</td>\n",
       "      <td>2.36</td>\n",
       "      <td>2.67</td>\n",
       "      <td>18.6</td>\n",
       "      <td>101</td>\n",
       "      <td>2.80</td>\n",
       "      <td>3.24</td>\n",
       "      <td>0.30</td>\n",
       "      <td>2.81</td>\n",
       "      <td>5.68</td>\n",
       "      <td>1.03</td>\n",
       "      <td>3.17</td>\n",
       "      <td>1185</td>\n",
       "    </tr>\n",
       "    <tr>\n",
       "      <th>3</th>\n",
       "      <td>14.37</td>\n",
       "      <td>1.95</td>\n",
       "      <td>2.50</td>\n",
       "      <td>16.8</td>\n",
       "      <td>113</td>\n",
       "      <td>3.85</td>\n",
       "      <td>3.49</td>\n",
       "      <td>0.24</td>\n",
       "      <td>2.18</td>\n",
       "      <td>7.80</td>\n",
       "      <td>0.86</td>\n",
       "      <td>3.45</td>\n",
       "      <td>1480</td>\n",
       "    </tr>\n",
       "    <tr>\n",
       "      <th>4</th>\n",
       "      <td>13.24</td>\n",
       "      <td>2.59</td>\n",
       "      <td>2.87</td>\n",
       "      <td>21.0</td>\n",
       "      <td>118</td>\n",
       "      <td>2.80</td>\n",
       "      <td>2.69</td>\n",
       "      <td>0.39</td>\n",
       "      <td>1.82</td>\n",
       "      <td>4.32</td>\n",
       "      <td>1.04</td>\n",
       "      <td>2.93</td>\n",
       "      <td>735</td>\n",
       "    </tr>\n",
       "    <tr>\n",
       "      <th>...</th>\n",
       "      <td>...</td>\n",
       "      <td>...</td>\n",
       "      <td>...</td>\n",
       "      <td>...</td>\n",
       "      <td>...</td>\n",
       "      <td>...</td>\n",
       "      <td>...</td>\n",
       "      <td>...</td>\n",
       "      <td>...</td>\n",
       "      <td>...</td>\n",
       "      <td>...</td>\n",
       "      <td>...</td>\n",
       "      <td>...</td>\n",
       "    </tr>\n",
       "    <tr>\n",
       "      <th>173</th>\n",
       "      <td>13.71</td>\n",
       "      <td>5.65</td>\n",
       "      <td>2.45</td>\n",
       "      <td>20.5</td>\n",
       "      <td>95</td>\n",
       "      <td>1.68</td>\n",
       "      <td>0.61</td>\n",
       "      <td>0.52</td>\n",
       "      <td>1.06</td>\n",
       "      <td>7.70</td>\n",
       "      <td>0.64</td>\n",
       "      <td>1.74</td>\n",
       "      <td>740</td>\n",
       "    </tr>\n",
       "    <tr>\n",
       "      <th>174</th>\n",
       "      <td>13.40</td>\n",
       "      <td>3.91</td>\n",
       "      <td>2.48</td>\n",
       "      <td>23.0</td>\n",
       "      <td>102</td>\n",
       "      <td>1.80</td>\n",
       "      <td>0.75</td>\n",
       "      <td>0.43</td>\n",
       "      <td>1.41</td>\n",
       "      <td>7.30</td>\n",
       "      <td>0.70</td>\n",
       "      <td>1.56</td>\n",
       "      <td>750</td>\n",
       "    </tr>\n",
       "    <tr>\n",
       "      <th>175</th>\n",
       "      <td>13.27</td>\n",
       "      <td>4.28</td>\n",
       "      <td>2.26</td>\n",
       "      <td>20.0</td>\n",
       "      <td>120</td>\n",
       "      <td>1.59</td>\n",
       "      <td>0.69</td>\n",
       "      <td>0.43</td>\n",
       "      <td>1.35</td>\n",
       "      <td>10.20</td>\n",
       "      <td>0.59</td>\n",
       "      <td>1.56</td>\n",
       "      <td>835</td>\n",
       "    </tr>\n",
       "    <tr>\n",
       "      <th>176</th>\n",
       "      <td>13.17</td>\n",
       "      <td>2.59</td>\n",
       "      <td>2.37</td>\n",
       "      <td>20.0</td>\n",
       "      <td>120</td>\n",
       "      <td>1.65</td>\n",
       "      <td>0.68</td>\n",
       "      <td>0.53</td>\n",
       "      <td>1.46</td>\n",
       "      <td>9.30</td>\n",
       "      <td>0.60</td>\n",
       "      <td>1.62</td>\n",
       "      <td>840</td>\n",
       "    </tr>\n",
       "    <tr>\n",
       "      <th>177</th>\n",
       "      <td>14.13</td>\n",
       "      <td>4.10</td>\n",
       "      <td>2.74</td>\n",
       "      <td>24.5</td>\n",
       "      <td>96</td>\n",
       "      <td>2.05</td>\n",
       "      <td>0.76</td>\n",
       "      <td>0.56</td>\n",
       "      <td>1.35</td>\n",
       "      <td>9.20</td>\n",
       "      <td>0.61</td>\n",
       "      <td>1.60</td>\n",
       "      <td>560</td>\n",
       "    </tr>\n",
       "  </tbody>\n",
       "</table>\n",
       "<p>178 rows × 13 columns</p>\n",
       "</div>"
      ],
      "text/plain": [
       "      Alcohol   Malic acid   Ash   Alcalinity of ash     Magnesium  \\\n",
       "0       14.23         1.71  2.43                  15.6         127   \n",
       "1       13.20         1.78  2.14                  11.2         100   \n",
       "2       13.16         2.36  2.67                  18.6         101   \n",
       "3       14.37         1.95  2.50                  16.8         113   \n",
       "4       13.24         2.59  2.87                  21.0         118   \n",
       "..        ...          ...   ...                   ...         ...   \n",
       "173     13.71         5.65  2.45                  20.5          95   \n",
       "174     13.40         3.91  2.48                  23.0         102   \n",
       "175     13.27         4.28  2.26                  20.0         120   \n",
       "176     13.17         2.59  2.37                  20.0         120   \n",
       "177     14.13         4.10  2.74                  24.5          96   \n",
       "\n",
       "      Total phenols   Flavanoids   Nonflavanoid phenols   Proanthocyanins  \\\n",
       "0              2.80         3.06                   0.28              2.29   \n",
       "1              2.65         2.76                   0.26              1.28   \n",
       "2              2.80         3.24                   0.30              2.81   \n",
       "3              3.85         3.49                   0.24              2.18   \n",
       "4              2.80         2.69                   0.39              1.82   \n",
       "..              ...          ...                    ...               ...   \n",
       "173            1.68         0.61                   0.52              1.06   \n",
       "174            1.80         0.75                   0.43              1.41   \n",
       "175            1.59         0.69                   0.43              1.35   \n",
       "176            1.65         0.68                   0.53              1.46   \n",
       "177            2.05         0.76                   0.56              1.35   \n",
       "\n",
       "     Color intensity   Hue  OD280/OD315 of diluted wines  Proline   \n",
       "0               5.64  1.04                          3.92      1065  \n",
       "1               4.38  1.05                          3.40      1050  \n",
       "2               5.68  1.03                          3.17      1185  \n",
       "3               7.80  0.86                          3.45      1480  \n",
       "4               4.32  1.04                          2.93       735  \n",
       "..               ...   ...                           ...       ...  \n",
       "173             7.70  0.64                          1.74       740  \n",
       "174             7.30  0.70                          1.56       750  \n",
       "175            10.20  0.59                          1.56       835  \n",
       "176             9.30  0.60                          1.62       840  \n",
       "177             9.20  0.61                          1.60       560  \n",
       "\n",
       "[178 rows x 13 columns]"
      ]
     },
     "execution_count": 73,
     "metadata": {},
     "output_type": "execute_result"
    }
   ],
   "source": [
    "df"
   ]
  },
  {
   "cell_type": "code",
   "execution_count": 74,
   "metadata": {},
   "outputs": [
    {
     "data": {
      "text/html": [
       "<style>#sk-container-id-4 {color: black;background-color: white;}#sk-container-id-4 pre{padding: 0;}#sk-container-id-4 div.sk-toggleable {background-color: white;}#sk-container-id-4 label.sk-toggleable__label {cursor: pointer;display: block;width: 100%;margin-bottom: 0;padding: 0.3em;box-sizing: border-box;text-align: center;}#sk-container-id-4 label.sk-toggleable__label-arrow:before {content: \"▸\";float: left;margin-right: 0.25em;color: #696969;}#sk-container-id-4 label.sk-toggleable__label-arrow:hover:before {color: black;}#sk-container-id-4 div.sk-estimator:hover label.sk-toggleable__label-arrow:before {color: black;}#sk-container-id-4 div.sk-toggleable__content {max-height: 0;max-width: 0;overflow: hidden;text-align: left;background-color: #f0f8ff;}#sk-container-id-4 div.sk-toggleable__content pre {margin: 0.2em;color: black;border-radius: 0.25em;background-color: #f0f8ff;}#sk-container-id-4 input.sk-toggleable__control:checked~div.sk-toggleable__content {max-height: 200px;max-width: 100%;overflow: auto;}#sk-container-id-4 input.sk-toggleable__control:checked~label.sk-toggleable__label-arrow:before {content: \"▾\";}#sk-container-id-4 div.sk-estimator input.sk-toggleable__control:checked~label.sk-toggleable__label {background-color: #d4ebff;}#sk-container-id-4 div.sk-label input.sk-toggleable__control:checked~label.sk-toggleable__label {background-color: #d4ebff;}#sk-container-id-4 input.sk-hidden--visually {border: 0;clip: rect(1px 1px 1px 1px);clip: rect(1px, 1px, 1px, 1px);height: 1px;margin: -1px;overflow: hidden;padding: 0;position: absolute;width: 1px;}#sk-container-id-4 div.sk-estimator {font-family: monospace;background-color: #f0f8ff;border: 1px dotted black;border-radius: 0.25em;box-sizing: border-box;margin-bottom: 0.5em;}#sk-container-id-4 div.sk-estimator:hover {background-color: #d4ebff;}#sk-container-id-4 div.sk-parallel-item::after {content: \"\";width: 100%;border-bottom: 1px solid gray;flex-grow: 1;}#sk-container-id-4 div.sk-label:hover label.sk-toggleable__label {background-color: #d4ebff;}#sk-container-id-4 div.sk-serial::before {content: \"\";position: absolute;border-left: 1px solid gray;box-sizing: border-box;top: 0;bottom: 0;left: 50%;z-index: 0;}#sk-container-id-4 div.sk-serial {display: flex;flex-direction: column;align-items: center;background-color: white;padding-right: 0.2em;padding-left: 0.2em;position: relative;}#sk-container-id-4 div.sk-item {position: relative;z-index: 1;}#sk-container-id-4 div.sk-parallel {display: flex;align-items: stretch;justify-content: center;background-color: white;position: relative;}#sk-container-id-4 div.sk-item::before, #sk-container-id-4 div.sk-parallel-item::before {content: \"\";position: absolute;border-left: 1px solid gray;box-sizing: border-box;top: 0;bottom: 0;left: 50%;z-index: -1;}#sk-container-id-4 div.sk-parallel-item {display: flex;flex-direction: column;z-index: 1;position: relative;background-color: white;}#sk-container-id-4 div.sk-parallel-item:first-child::after {align-self: flex-end;width: 50%;}#sk-container-id-4 div.sk-parallel-item:last-child::after {align-self: flex-start;width: 50%;}#sk-container-id-4 div.sk-parallel-item:only-child::after {width: 0;}#sk-container-id-4 div.sk-dashed-wrapped {border: 1px dashed gray;margin: 0 0.4em 0.5em 0.4em;box-sizing: border-box;padding-bottom: 0.4em;background-color: white;}#sk-container-id-4 div.sk-label label {font-family: monospace;font-weight: bold;display: inline-block;line-height: 1.2em;}#sk-container-id-4 div.sk-label-container {text-align: center;}#sk-container-id-4 div.sk-container {/* jupyter's `normalize.less` sets `[hidden] { display: none; }` but bootstrap.min.css set `[hidden] { display: none !important; }` so we also need the `!important` here to be able to override the default hidden behavior on the sphinx rendered scikit-learn.org. See: https://github.com/scikit-learn/scikit-learn/issues/21755 */display: inline-block !important;position: relative;}#sk-container-id-4 div.sk-text-repr-fallback {display: none;}</style><div id=\"sk-container-id-4\" class=\"sk-top-container\"><div class=\"sk-text-repr-fallback\"><pre>PCA(n_components=3)</pre><b>In a Jupyter environment, please rerun this cell to show the HTML representation or trust the notebook. <br />On GitHub, the HTML representation is unable to render, please try loading this page with nbviewer.org.</b></div><div class=\"sk-container\" hidden><div class=\"sk-item\"><div class=\"sk-estimator sk-toggleable\"><input class=\"sk-toggleable__control sk-hidden--visually\" id=\"sk-estimator-id-4\" type=\"checkbox\" checked><label for=\"sk-estimator-id-4\" class=\"sk-toggleable__label sk-toggleable__label-arrow\">PCA</label><div class=\"sk-toggleable__content\"><pre>PCA(n_components=3)</pre></div></div></div></div></div>"
      ],
      "text/plain": [
       "PCA(n_components=3)"
      ]
     },
     "execution_count": 74,
     "metadata": {},
     "output_type": "execute_result"
    }
   ],
   "source": [
    "from sklearn.decomposition import PCA\n",
    "original_pca=PCA()\n",
    "original_pca.fit(df)\n",
    "n=df.shape[1]-10\n",
    "newpca=PCA(n_components=n)\n",
    "newpca.fit(df)"
   ]
  },
  {
   "cell_type": "code",
   "execution_count": 82,
   "metadata": {},
   "outputs": [
    {
     "name": "stdout",
     "output_type": "stream",
     "text": [
      "0.9999999999999999\n"
     ]
    }
   ],
   "source": [
    "print(np.sum(original_pca.explained_variance_ratio_))"
   ]
  },
  {
   "cell_type": "code",
   "execution_count": 84,
   "metadata": {},
   "outputs": [
    {
     "name": "stdout",
     "output_type": "stream",
     "text": [
      "0.9999221050741546\n"
     ]
    }
   ],
   "source": [
    "print(np.sum(newpca.explained_variance_ratio_))"
   ]
  },
  {
   "cell_type": "code",
   "execution_count": 86,
   "metadata": {},
   "outputs": [],
   "source": [
    "diff=np.sum(original_pca.explained_variance_ratio_)-np.sum(newpca.explained_variance_ratio_)"
   ]
  },
  {
   "cell_type": "code",
   "execution_count": 88,
   "metadata": {},
   "outputs": [
    {
     "data": {
      "text/plain": [
       "7.78949258453121e-05"
      ]
     },
     "execution_count": 88,
     "metadata": {},
     "output_type": "execute_result"
    }
   ],
   "source": [
    "diff"
   ]
  },
  {
   "cell_type": "code",
   "execution_count": 91,
   "metadata": {},
   "outputs": [],
   "source": [
    "import sympy as sm\n",
    "x=sm.Symbol('x')"
   ]
  },
  {
   "cell_type": "code",
   "execution_count": 92,
   "metadata": {},
   "outputs": [],
   "source": [
    "function = x**2"
   ]
  },
  {
   "cell_type": "code",
   "execution_count": 95,
   "metadata": {},
   "outputs": [
    {
     "data": {
      "text/latex": [
       "$\\displaystyle \\frac{x^{3}}{3}$"
      ],
      "text/plain": [
       "x**3/3"
      ]
     },
     "execution_count": 95,
     "metadata": {},
     "output_type": "execute_result"
    }
   ],
   "source": [
    "sm.integrate(function,x)"
   ]
  },
  {
   "cell_type": "code",
   "execution_count": 97,
   "metadata": {},
   "outputs": [
    {
     "data": {
      "text/latex": [
       "$\\displaystyle 2 x$"
      ],
      "text/plain": [
       "2*x"
      ]
     },
     "execution_count": 97,
     "metadata": {},
     "output_type": "execute_result"
    }
   ],
   "source": [
    "sm.diff(function,x)"
   ]
  },
  {
   "cell_type": "code",
   "execution_count": 107,
   "metadata": {},
   "outputs": [
    {
     "data": {
      "text/html": [
       "<style>#sk-container-id-5 {color: black;background-color: white;}#sk-container-id-5 pre{padding: 0;}#sk-container-id-5 div.sk-toggleable {background-color: white;}#sk-container-id-5 label.sk-toggleable__label {cursor: pointer;display: block;width: 100%;margin-bottom: 0;padding: 0.3em;box-sizing: border-box;text-align: center;}#sk-container-id-5 label.sk-toggleable__label-arrow:before {content: \"▸\";float: left;margin-right: 0.25em;color: #696969;}#sk-container-id-5 label.sk-toggleable__label-arrow:hover:before {color: black;}#sk-container-id-5 div.sk-estimator:hover label.sk-toggleable__label-arrow:before {color: black;}#sk-container-id-5 div.sk-toggleable__content {max-height: 0;max-width: 0;overflow: hidden;text-align: left;background-color: #f0f8ff;}#sk-container-id-5 div.sk-toggleable__content pre {margin: 0.2em;color: black;border-radius: 0.25em;background-color: #f0f8ff;}#sk-container-id-5 input.sk-toggleable__control:checked~div.sk-toggleable__content {max-height: 200px;max-width: 100%;overflow: auto;}#sk-container-id-5 input.sk-toggleable__control:checked~label.sk-toggleable__label-arrow:before {content: \"▾\";}#sk-container-id-5 div.sk-estimator input.sk-toggleable__control:checked~label.sk-toggleable__label {background-color: #d4ebff;}#sk-container-id-5 div.sk-label input.sk-toggleable__control:checked~label.sk-toggleable__label {background-color: #d4ebff;}#sk-container-id-5 input.sk-hidden--visually {border: 0;clip: rect(1px 1px 1px 1px);clip: rect(1px, 1px, 1px, 1px);height: 1px;margin: -1px;overflow: hidden;padding: 0;position: absolute;width: 1px;}#sk-container-id-5 div.sk-estimator {font-family: monospace;background-color: #f0f8ff;border: 1px dotted black;border-radius: 0.25em;box-sizing: border-box;margin-bottom: 0.5em;}#sk-container-id-5 div.sk-estimator:hover {background-color: #d4ebff;}#sk-container-id-5 div.sk-parallel-item::after {content: \"\";width: 100%;border-bottom: 1px solid gray;flex-grow: 1;}#sk-container-id-5 div.sk-label:hover label.sk-toggleable__label {background-color: #d4ebff;}#sk-container-id-5 div.sk-serial::before {content: \"\";position: absolute;border-left: 1px solid gray;box-sizing: border-box;top: 0;bottom: 0;left: 50%;z-index: 0;}#sk-container-id-5 div.sk-serial {display: flex;flex-direction: column;align-items: center;background-color: white;padding-right: 0.2em;padding-left: 0.2em;position: relative;}#sk-container-id-5 div.sk-item {position: relative;z-index: 1;}#sk-container-id-5 div.sk-parallel {display: flex;align-items: stretch;justify-content: center;background-color: white;position: relative;}#sk-container-id-5 div.sk-item::before, #sk-container-id-5 div.sk-parallel-item::before {content: \"\";position: absolute;border-left: 1px solid gray;box-sizing: border-box;top: 0;bottom: 0;left: 50%;z-index: -1;}#sk-container-id-5 div.sk-parallel-item {display: flex;flex-direction: column;z-index: 1;position: relative;background-color: white;}#sk-container-id-5 div.sk-parallel-item:first-child::after {align-self: flex-end;width: 50%;}#sk-container-id-5 div.sk-parallel-item:last-child::after {align-self: flex-start;width: 50%;}#sk-container-id-5 div.sk-parallel-item:only-child::after {width: 0;}#sk-container-id-5 div.sk-dashed-wrapped {border: 1px dashed gray;margin: 0 0.4em 0.5em 0.4em;box-sizing: border-box;padding-bottom: 0.4em;background-color: white;}#sk-container-id-5 div.sk-label label {font-family: monospace;font-weight: bold;display: inline-block;line-height: 1.2em;}#sk-container-id-5 div.sk-label-container {text-align: center;}#sk-container-id-5 div.sk-container {/* jupyter's `normalize.less` sets `[hidden] { display: none; }` but bootstrap.min.css set `[hidden] { display: none !important; }` so we also need the `!important` here to be able to override the default hidden behavior on the sphinx rendered scikit-learn.org. See: https://github.com/scikit-learn/scikit-learn/issues/21755 */display: inline-block !important;position: relative;}#sk-container-id-5 div.sk-text-repr-fallback {display: none;}</style><div id=\"sk-container-id-5\" class=\"sk-top-container\"><div class=\"sk-text-repr-fallback\"><pre>PCA(n_components=3)</pre><b>In a Jupyter environment, please rerun this cell to show the HTML representation or trust the notebook. <br />On GitHub, the HTML representation is unable to render, please try loading this page with nbviewer.org.</b></div><div class=\"sk-container\" hidden><div class=\"sk-item\"><div class=\"sk-estimator sk-toggleable\"><input class=\"sk-toggleable__control sk-hidden--visually\" id=\"sk-estimator-id-5\" type=\"checkbox\" checked><label for=\"sk-estimator-id-5\" class=\"sk-toggleable__label sk-toggleable__label-arrow\">PCA</label><div class=\"sk-toggleable__content\"><pre>PCA(n_components=3)</pre></div></div></div></div></div>"
      ],
      "text/plain": [
       "PCA(n_components=3)"
      ]
     },
     "execution_count": 107,
     "metadata": {},
     "output_type": "execute_result"
    }
   ],
   "source": [
    "df\n",
    "from sklearn.decomposition import PCA\n",
    "org_pca=PCA()\n",
    "org_pca.fit(df)\n",
    "new_pca=PCA(n_components=df.shape[1]-10)\n",
    "new_pca.fit(df)"
   ]
  },
  {
   "cell_type": "code",
>>>>>>> cf3429aa022050cdef15a5addc336bde64bc40e5
   "execution_count": null,
   "metadata": {},
   "outputs": [],
   "source": [
    "expl"
   ]
  }
 ],
 "metadata": {
  "colab": {
   "collapsed_sections": [],
   "name": "Inclass_Question.ipynb",
   "provenance": []
  },
  "kernelspec": {
   "display_name": "Python 3 (ipykernel)",
   "language": "python",
   "name": "python3"
  },
  "language_info": {
   "codemirror_mode": {
    "name": "ipython",
    "version": 3
   },
   "file_extension": ".py",
   "mimetype": "text/x-python",
   "name": "python",
   "nbconvert_exporter": "python",
   "pygments_lexer": "ipython3",
   "version": "3.11.3"
  }
 },
 "nbformat": 4,
 "nbformat_minor": 1
}
