{
 "cells": [
  {
   "cell_type": "markdown",
   "id": "4492e14c",
   "metadata": {},
   "source": [
    "# PDS"
   ]
  },
  {
   "cell_type": "markdown",
   "id": "6b32a822",
   "metadata": {},
   "source": [
    "# 08/July/2023"
   ]
  },
  {
   "cell_type": "markdown",
   "id": "0dbc2689",
   "metadata": {},
   "source": [
    "# First Program"
   ]
  },
  {
   "cell_type": "code",
   "execution_count": null,
   "id": "188fa620",
   "metadata": {},
   "outputs": [],
   "source": [
    "print('Hello World')"
   ]
  },
  {
   "cell_type": "code",
   "execution_count": null,
   "id": "bc6f5ea6",
   "metadata": {},
   "outputs": [],
   "source": [
    "print('NSE Mumbai')  # stock exchange\n",
    "#print('BSE Mumbai')\n",
    "\n",
    "print('NY # Stock Exchange')"
   ]
  },
  {
   "cell_type": "code",
   "execution_count": null,
   "id": "6a180d10",
   "metadata": {},
   "outputs": [],
   "source": [
    "exchange = 'NSE'      print('exchange')  \n",
    "# An exception obj of the class SyntaxError is raised with a string message."
   ]
  },
  {
   "cell_type": "code",
   "execution_count": null,
   "id": "324b283e",
   "metadata": {},
   "outputs": [],
   "source": [
    "exchange = 'NSE' ;    print('exchange')"
   ]
  },
  {
   "cell_type": "code",
   "execution_count": null,
   "id": "a61b6b83",
   "metadata": {},
   "outputs": [],
   "source": [
    "ms1 = 'line 1 of the string \n",
    "line2 of the string\n",
    "line 3 of the string '"
   ]
  },
  {
   "cell_type": "code",
   "execution_count": null,
   "id": "f946ca6f",
   "metadata": {},
   "outputs": [],
   "source": [
    "p1 = ''' this is line1  \n",
    "this is line2\n",
    "this is line3\n",
    "'''"
   ]
  },
  {
   "cell_type": "code",
   "execution_count": null,
   "id": "433bc219",
   "metadata": {},
   "outputs": [],
   "source": [
    "print(p1)"
   ]
  },
  {
   "cell_type": "code",
   "execution_count": null,
   "id": "ec5773ef",
   "metadata": {},
   "outputs": [],
   "source": [
    "print(type(p1))"
   ]
  },
  {
   "cell_type": "code",
   "execution_count": null,
   "id": "696a7016",
   "metadata": {},
   "outputs": [],
   "source": [
    "## p1 is a variable looking at an object of a class called str."
   ]
  },
  {
   "cell_type": "code",
   "execution_count": null,
   "id": "5e679841",
   "metadata": {},
   "outputs": [],
   "source": [
    "n1 = 30\n",
    "'''\n",
    "block comment 1\n",
    "block comment 2\n",
    "block comment 3\n",
    "\n",
    "'''\n",
    "print(n1)"
   ]
  },
  {
   "cell_type": "code",
   "execution_count": null,
   "id": "16b41dc5",
   "metadata": {},
   "outputs": [],
   "source": [
    "n1 = 30\n",
    "n1"
   ]
  },
  {
   "cell_type": "code",
   "execution_count": null,
   "id": "b7debe31",
   "metadata": {},
   "outputs": [],
   "source": [
    "n1 = 30\n",
    "'''\n",
    "block comment 1\n",
    "block comment 2\n",
    "block comment 3\n",
    "\n",
    "'''"
   ]
  },
  {
   "cell_type": "markdown",
   "id": "60ae3464",
   "metadata": {},
   "source": [
    "Variable Naming"
   ]
  },
  {
   "cell_type": "code",
   "execution_count": null,
   "id": "0c09e185",
   "metadata": {},
   "outputs": [],
   "source": [
    "var1 = 20\n",
    "VAR1 = 'Hello'  ##  case sensitive\n",
    "\n",
    "print(var1)\n",
    "print(VAR1)"
   ]
  },
  {
   "cell_type": "code",
   "execution_count": null,
   "id": "bffbd137",
   "metadata": {},
   "outputs": [],
   "source": [
    "91index = 30"
   ]
  },
  {
   "cell_type": "code",
   "execution_count": null,
   "id": "98d679ea",
   "metadata": {},
   "outputs": [],
   "source": [
    "index@nse = 60000"
   ]
  },
  {
   "cell_type": "code",
   "execution_count": null,
   "id": "4d58e4c1",
   "metadata": {},
   "outputs": [],
   "source": [
    "if = 40"
   ]
  },
  {
   "cell_type": "code",
   "execution_count": null,
   "id": "10834fb0",
   "metadata": {},
   "outputs": [],
   "source": [
    "import keyword\n",
    "print(keyword.kwlist)"
   ]
  },
  {
   "cell_type": "code",
   "execution_count": null,
   "id": "6554d5fb",
   "metadata": {},
   "outputs": [],
   "source": [
    "print(type(keyword))"
   ]
  },
  {
   "cell_type": "markdown",
   "id": "a5ed3be2",
   "metadata": {},
   "source": [
    "Indentation"
   ]
  },
  {
   "cell_type": "code",
   "execution_count": null,
   "id": "28f21d6b",
   "metadata": {},
   "outputs": [],
   "source": [
    "sensor = 0\n",
    "\n",
    "if sensor == 0:\n",
    "    print('level is low')\n",
    "     print('switch on motor')\n",
    "else:\n",
    "    print('level is high')\n",
    "    print('switch off motor')\n",
    "    "
   ]
  },
  {
   "cell_type": "code",
   "execution_count": null,
   "id": "d9812038",
   "metadata": {},
   "outputs": [],
   "source": [
    "sensor = 0\n",
    "\n",
    "if sensor == 0:\n",
    "     print('level is low')\n",
    "     print('switch on motor')\n",
    "else:\n",
    "    print('level is high')\n",
    "    print('switch off motor')"
   ]
  },
  {
   "cell_type": "markdown",
   "id": "ffd4e448",
   "metadata": {},
   "source": [
    "# Assignment "
   ]
  },
  {
   "cell_type": "code",
   "execution_count": null,
   "id": "48af55be",
   "metadata": {},
   "outputs": [],
   "source": [
    "myint1 = 20\n",
    "myint2 = 20\n",
    "\n",
    "print(type(myint1))\n",
    "print(type(myint2))"
   ]
  },
  {
   "cell_type": "code",
   "execution_count": null,
   "id": "5060abe7",
   "metadata": {},
   "outputs": [],
   "source": [
    "myint1 = int(20)\n",
    "myint2 = int(20)\n",
    "\n",
    "print(type(myint1))\n",
    "print(type(myint2))"
   ]
  },
  {
   "cell_type": "code",
   "execution_count": null,
   "id": "5877874d",
   "metadata": {},
   "outputs": [],
   "source": [
    "myint1 = 20\n",
    "myint2 = 20\n",
    "\n",
    "print(type(myint1))\n",
    "print(type(myint2))\n",
    "\n",
    "print(id(myint1))\n",
    "print(id(myint2))"
   ]
  },
  {
   "cell_type": "code",
   "execution_count": null,
   "id": "bae189ca",
   "metadata": {},
   "outputs": [],
   "source": [
    "myint1 = 2000\n",
    "myint2 = 2000\n",
    "\n",
    "\n",
    "print(type(myint1))\n",
    "print(type(myint2)) #  type returns the class name\n",
    "\n",
    "print(id(myint1))\n",
    "print(id(myint2))  ##  id returns the virtual address of the obj"
   ]
  },
  {
   "cell_type": "code",
   "execution_count": null,
   "id": "3cec6f67",
   "metadata": {},
   "outputs": [],
   "source": [
    "var1 = 'hello'\n",
    "print(type(var1))\n",
    "print(id(var1))\n",
    "print(var1[0])"
   ]
  },
  {
   "cell_type": "code",
   "execution_count": null,
   "id": "ae23365b",
   "metadata": {},
   "outputs": [],
   "source": [
    "var1 = [20,30,'python']\n",
    "print(type(var1))\n",
    "print(id(var1))\n",
    "print(var1[0])\n",
    "var1[0] = 2000\n",
    "print(var1)"
   ]
  },
  {
   "cell_type": "code",
   "execution_count": null,
   "id": "697d539f",
   "metadata": {},
   "outputs": [],
   "source": [
    "var1 = (200,300,'python')\n",
    "print(type(var1))\n",
    "print(id(var1))\n",
    "print(var1[0])\n",
    "var1[0] = 2000\n",
    "print(var1)"
   ]
  },
  {
   "cell_type": "code",
   "execution_count": null,
   "id": "8aef6b93",
   "metadata": {},
   "outputs": [],
   "source": [
    "var1 = {'Bank':'SBI', 'Branch':'MGROAD'}\n",
    "print(type(var1))\n",
    "print(id(var1))\n",
    "print(var1['Branch'])"
   ]
  },
  {
   "cell_type": "code",
   "execution_count": null,
   "id": "ef4ba717",
   "metadata": {},
   "outputs": [],
   "source": [
    "a = 2345\n",
    "b = 2345\n",
    "c = 2345\n",
    "\n",
    "print(id(a), id(b), id(c))"
   ]
  },
  {
   "cell_type": "code",
   "execution_count": null,
   "id": "c2828a9c",
   "metadata": {},
   "outputs": [],
   "source": [
    "a = b = c= 2345\n",
    "\n",
    "print(id(a), id(b), id(c))"
   ]
  },
  {
   "cell_type": "code",
   "execution_count": null,
   "id": "72dd347a",
   "metadata": {},
   "outputs": [],
   "source": [
    "# Positional Mapping\n",
    "\n",
    "v0,v1,v2 = 90, 'Python',87.91\n",
    "print(v0)\n",
    "print(v1)\n",
    "print(v2)"
   ]
  },
  {
   "cell_type": "markdown",
   "id": "6229e5bc",
   "metadata": {},
   "source": [
    "Keyboard Input"
   ]
  },
  {
   "cell_type": "code",
   "execution_count": null,
   "id": "540e995f",
   "metadata": {},
   "outputs": [],
   "source": [
    "name1 = input('Enter subject: ')\n",
    "print(name1)\n",
    "print(type(name1))\n",
    "print(len(name1))"
   ]
  },
  {
   "cell_type": "code",
   "execution_count": null,
   "id": "8ffb75d4",
   "metadata": {},
   "outputs": [],
   "source": [
    "marks = input('enter marks')\n",
    "print(marks)\n",
    "print(type(marks))\n",
    "\n",
    "marks1 = int(marks)\n",
    "print(type(marks1))\n",
    "newmarks = marks1 + 5\n",
    "print(newmarks)"
   ]
  },
  {
   "cell_type": "code",
   "execution_count": null,
   "id": "639d7c23",
   "metadata": {},
   "outputs": [],
   "source": [
    "int('789')"
   ]
  },
  {
   "cell_type": "code",
   "execution_count": null,
   "id": "70907ca6",
   "metadata": {},
   "outputs": [],
   "source": [
    "int('hello')"
   ]
  },
  {
   "cell_type": "code",
   "execution_count": null,
   "id": "f392675d",
   "metadata": {},
   "outputs": [],
   "source": [
    "str(987.78)"
   ]
  },
  {
   "cell_type": "code",
   "execution_count": null,
   "id": "6cc94517",
   "metadata": {},
   "outputs": [],
   "source": [
    "int(56.78)"
   ]
  },
  {
   "cell_type": "code",
   "execution_count": null,
   "id": "8a124d62",
   "metadata": {},
   "outputs": [],
   "source": [
    "float(67)"
   ]
  },
  {
   "cell_type": "markdown",
   "id": "579c981b",
   "metadata": {},
   "source": [
    "# Operators"
   ]
  },
  {
   "cell_type": "code",
   "execution_count": null,
   "id": "c58abf0e",
   "metadata": {},
   "outputs": [],
   "source": [
    "2 ** 3"
   ]
  },
  {
   "cell_type": "code",
   "execution_count": null,
   "id": "63a3e077",
   "metadata": {},
   "outputs": [],
   "source": [
    "15 // 6"
   ]
  },
  {
   "cell_type": "code",
   "execution_count": null,
   "id": "65b7b290",
   "metadata": {},
   "outputs": [],
   "source": [
    "15 % 6"
   ]
  },
  {
   "cell_type": "code",
   "execution_count": null,
   "id": "0d90c1de",
   "metadata": {},
   "outputs": [],
   "source": [
    "15/6"
   ]
  },
  {
   "cell_type": "code",
   "execution_count": null,
   "id": "3ec25d19",
   "metadata": {},
   "outputs": [],
   "source": [
    "12 == (4*3)"
   ]
  },
  {
   "cell_type": "code",
   "execution_count": null,
   "id": "95b151f2",
   "metadata": {},
   "outputs": [],
   "source": [
    "12 != 34"
   ]
  },
  {
   "cell_type": "code",
   "execution_count": null,
   "id": "4a94dda8",
   "metadata": {},
   "outputs": [],
   "source": [
    "br = 12 == 34\n",
    "print(type(br))\n",
    "print(br)"
   ]
  },
  {
   "cell_type": "code",
   "execution_count": null,
   "id": "ba0a095e",
   "metadata": {},
   "outputs": [],
   "source": [
    "br = (12 == 34)\n",
    "print(type(br))\n",
    "print(br)"
   ]
  },
  {
   "cell_type": "code",
   "execution_count": null,
   "id": "6919ea21",
   "metadata": {},
   "outputs": [],
   "source": [
    "a = 45\n",
    "not(a)"
   ]
  },
  {
   "cell_type": "code",
   "execution_count": null,
   "id": "95eba6e5",
   "metadata": {},
   "outputs": [],
   "source": [
    "not(bool(a))"
   ]
  },
  {
   "cell_type": "code",
   "execution_count": null,
   "id": "ca71c2ae",
   "metadata": {},
   "outputs": [],
   "source": [
    "bool(0)"
   ]
  },
  {
   "cell_type": "code",
   "execution_count": null,
   "id": "a09904ec",
   "metadata": {},
   "outputs": [],
   "source": [
    "bool(-1)"
   ]
  },
  {
   "cell_type": "code",
   "execution_count": null,
   "id": "1281f4a1",
   "metadata": {},
   "outputs": [],
   "source": [
    "bool('False')"
   ]
  },
  {
   "cell_type": "code",
   "execution_count": null,
   "id": "458893bd",
   "metadata": {},
   "outputs": [],
   "source": [
    "bool('')"
   ]
  },
  {
   "cell_type": "code",
   "execution_count": null,
   "id": "da1b512b",
   "metadata": {},
   "outputs": [],
   "source": [
    "bool([1,2,3])"
   ]
  },
  {
   "cell_type": "code",
   "execution_count": null,
   "id": "72b80f27",
   "metadata": {},
   "outputs": [],
   "source": [
    "bool([])"
   ]
  },
  {
   "cell_type": "code",
   "execution_count": null,
   "id": "1570b0a9",
   "metadata": {},
   "outputs": [],
   "source": [
    "int(True)"
   ]
  },
  {
   "cell_type": "code",
   "execution_count": null,
   "id": "0fa6a68b",
   "metadata": {},
   "outputs": [],
   "source": [
    "int(False)"
   ]
  },
  {
   "cell_type": "code",
   "execution_count": null,
   "id": "82584056",
   "metadata": {},
   "outputs": [],
   "source": [
    "int(bool(100))"
   ]
  },
  {
   "cell_type": "markdown",
   "id": "d96a67ee",
   "metadata": {},
   "source": [
    "# Function Syntax"
   ]
  },
  {
   "cell_type": "code",
   "execution_count": null,
   "id": "c6d6a6ae",
   "metadata": {},
   "outputs": [],
   "source": [
    "def mf1(p0,p1):\n",
    "    s = p0 + p1\n",
    "    print(p0,p1,s)\n",
    "    \n",
    "    return s\n",
    "\n",
    "    print(2000)"
   ]
  },
  {
   "cell_type": "code",
   "execution_count": null,
   "id": "cf30bd49",
   "metadata": {},
   "outputs": [],
   "source": [
    "r = mf1(100,200)\n",
    "print(r)"
   ]
  },
  {
   "cell_type": "code",
   "execution_count": null,
   "id": "df90bd5a",
   "metadata": {},
   "outputs": [],
   "source": [
    "r = mf1('python', 'data')\n",
    "print(r)"
   ]
  },
  {
   "cell_type": "code",
   "execution_count": null,
   "id": "69a9f3da",
   "metadata": {},
   "outputs": [],
   "source": [
    "def mf2(p0,p1):\n",
    "    s = p0 + p1\n",
    "    print(p0,p1,s)\n",
    "    \n",
    "r = mf2(100,200)\n",
    "print(r)\n",
    "print(type(r))"
   ]
  },
  {
   "cell_type": "code",
   "execution_count": null,
   "id": "f270cb33",
   "metadata": {},
   "outputs": [],
   "source": [
    "def mf2():\n",
    "    return (10,20)\n",
    "\n",
    "r = mf2()\n",
    "print(type(r))\n",
    "print(r)"
   ]
  },
  {
   "cell_type": "code",
   "execution_count": null,
   "id": "24331a0f",
   "metadata": {},
   "outputs": [],
   "source": [
    "def mf2():\n",
    "    return 10,20\n",
    "\n",
    "r = mf2()\n",
    "print(type(r))\n",
    "print(r)"
   ]
  },
  {
   "cell_type": "code",
   "execution_count": null,
   "id": "9b43c497",
   "metadata": {},
   "outputs": [],
   "source": [
    "c = (10,100)\n",
    "a,b = c\n",
    "print(a,b)"
   ]
  },
  {
   "cell_type": "code",
   "execution_count": null,
   "id": "ad9b162b",
   "metadata": {},
   "outputs": [],
   "source": [
    "c = [10,100]\n",
    "a,b = c\n",
    "print(a,b)"
   ]
  },
  {
   "cell_type": "code",
   "execution_count": null,
   "id": "532f1b04",
   "metadata": {},
   "outputs": [],
   "source": [
    "a,b = (10,100)\n",
    "print(a,b)"
   ]
  },
  {
   "cell_type": "code",
   "execution_count": null,
   "id": "d518fcca",
   "metadata": {},
   "outputs": [],
   "source": [
    "c = 10,100\n",
    "print(c)"
   ]
  },
  {
   "cell_type": "code",
   "execution_count": null,
   "id": "3f6802bb",
   "metadata": {},
   "outputs": [],
   "source": [
    "a,b = 10,100\n",
    "print(a,b,)"
   ]
  },
  {
   "cell_type": "code",
   "execution_count": null,
   "id": "18bdbc94",
   "metadata": {},
   "outputs": [],
   "source": [
    "def tempcheck(temp):\n",
    "    if temp > 99:\n",
    "        return 'Hot'\n",
    "    elif temp < 60:\n",
    "        return 'Cold'\n",
    "    else:\n",
    "        return 'Right'"
   ]
  },
  {
   "cell_type": "code",
   "execution_count": null,
   "id": "dba48be2",
   "metadata": {},
   "outputs": [],
   "source": [
    "tempcheck(100)"
   ]
  },
  {
   "cell_type": "code",
   "execution_count": null,
   "id": "83d832e6",
   "metadata": {},
   "outputs": [],
   "source": [
    "tempcheck(55)"
   ]
  },
  {
   "cell_type": "code",
   "execution_count": null,
   "id": "9586428a",
   "metadata": {},
   "outputs": [],
   "source": [
    "tempcheck(75)"
   ]
  },
  {
   "cell_type": "markdown",
   "id": "b64c1ca6",
   "metadata": {},
   "source": [
    "# Strings"
   ]
  },
  {
   "cell_type": "code",
   "execution_count": null,
   "id": "4e94862a",
   "metadata": {},
   "outputs": [],
   "source": [
    "ms1 = 'python data'\n",
    "print(type(ms1))\n",
    "print(len(ms1))\n",
    "print(ms1)"
   ]
  },
  {
   "cell_type": "code",
   "execution_count": null,
   "id": "3a0052e3",
   "metadata": {},
   "outputs": [],
   "source": [
    "ms1[0]"
   ]
  },
  {
   "cell_type": "code",
   "execution_count": null,
   "id": "55ce9d80",
   "metadata": {},
   "outputs": [],
   "source": [
    "ms1[0] ='j'"
   ]
  },
  {
   "cell_type": "code",
   "execution_count": null,
   "id": "70113ce0",
   "metadata": {},
   "outputs": [],
   "source": [
    "ms1 = 'abcdefghijkl'\n",
    "print(ms1)\n",
    "print(ms1[::-1])\n",
    "print(ms1[::-2])"
   ]
  },
  {
   "cell_type": "code",
   "execution_count": null,
   "id": "a3ecc04e",
   "metadata": {},
   "outputs": [],
   "source": [
    "'python' + 'data'"
   ]
  },
  {
   "cell_type": "code",
   "execution_count": null,
   "id": "67f1463a",
   "metadata": {},
   "outputs": [],
   "source": [
    "'python' * 3"
   ]
  },
  {
   "cell_type": "code",
   "execution_count": null,
   "id": "ae47722d",
   "metadata": {},
   "outputs": [],
   "source": [
    "'python' in 'python data science'   ## membership operator. "
   ]
  },
  {
   "cell_type": "code",
   "execution_count": null,
   "id": "5e9242f5",
   "metadata": {},
   "outputs": [],
   "source": [
    "'python' in 'R  data science'"
   ]
  },
  {
   "cell_type": "code",
   "execution_count": null,
   "id": "e8c27f42",
   "metadata": {},
   "outputs": [],
   "source": [
    "'python' not in 'R  data science'"
   ]
  },
  {
   "cell_type": "code",
   "execution_count": null,
   "id": "8b3146ba",
   "metadata": {},
   "outputs": [],
   "source": [
    "print(type('hello'))"
   ]
  },
  {
   "cell_type": "code",
   "execution_count": null,
   "id": "b2615279",
   "metadata": {},
   "outputs": [],
   "source": [
    "print(dir(str))"
   ]
  },
  {
   "cell_type": "code",
   "execution_count": null,
   "id": "22905a31",
   "metadata": {},
   "outputs": [],
   "source": [
    "help(str.replace)"
   ]
  },
  {
   "cell_type": "code",
   "execution_count": null,
   "id": "a326e377",
   "metadata": {},
   "outputs": [],
   "source": [
    "ms1 = 'king ring SING'\n",
    "ns1 = ms1.replace('ng','ms')\n",
    "print(ns1)"
   ]
  },
  {
   "cell_type": "code",
   "execution_count": null,
   "id": "baefd761",
   "metadata": {},
   "outputs": [],
   "source": [
    "id(ms1)"
   ]
  },
  {
   "cell_type": "code",
   "execution_count": null,
   "id": "21da145f",
   "metadata": {},
   "outputs": [],
   "source": [
    "id(ns1)"
   ]
  },
  {
   "cell_type": "code",
   "execution_count": null,
   "id": "a496ceb9",
   "metadata": {},
   "outputs": [],
   "source": [
    "ms1 = 'king ring SING'\n",
    "print(id(ms1))\n",
    "ms1 = ms1.replace('ng','ms')\n",
    "print(id(ms1))\n",
    "print(ms1)"
   ]
  },
  {
   "cell_type": "code",
   "execution_count": null,
   "id": "303e8836",
   "metadata": {},
   "outputs": [],
   "source": [
    "ms1 = 'king ring SING'\n",
    "print(id(ms1))\n",
    "ms1 = ms1.replace('ng','ms', 1)\n",
    "print(id(ms1))\n",
    "print(ms1)"
   ]
  },
  {
   "cell_type": "code",
   "execution_count": null,
   "id": "9bb50744",
   "metadata": {},
   "outputs": [],
   "source": [
    "ms1 = 'king ring SING'\n",
    "print(id(ms1))\n",
    "ms1 = str.replace(ms1, 'ng','ms', 1)\n",
    "print(id(ms1))\n",
    "print(ms1)"
   ]
  },
  {
   "cell_type": "code",
   "execution_count": null,
   "id": "0bf8b019",
   "metadata": {},
   "outputs": [],
   "source": [
    "ms1 = 'king ring SING'\n",
    "index = ms1.find('g')\n",
    "print(index)"
   ]
  },
  {
   "cell_type": "code",
   "execution_count": null,
   "id": "596fb4a5",
   "metadata": {},
   "outputs": [],
   "source": [
    "ms1 = 'king ring SING'\n",
    "index = ms1.find('g',4)\n",
    "print(index)"
   ]
  },
  {
   "cell_type": "code",
   "execution_count": null,
   "id": "689f7775",
   "metadata": {},
   "outputs": [],
   "source": [
    "ms1 = 'king ring SING'\n",
    "index = ms1.find('g',9,11)\n",
    "print(index)"
   ]
  },
  {
   "cell_type": "code",
   "execution_count": null,
   "id": "5f23d24f",
   "metadata": {},
   "outputs": [],
   "source": [
    "ms1 = 'king ring SING'\n",
    "c = ms1.count('g')\n",
    "print(c)"
   ]
  },
  {
   "cell_type": "code",
   "execution_count": null,
   "id": "d8e7d21f",
   "metadata": {},
   "outputs": [],
   "source": [
    "ms1 = 'king RING SIng'\n",
    "ms1.count('g')"
   ]
  },
  {
   "cell_type": "code",
   "execution_count": null,
   "id": "170d4a2f",
   "metadata": {},
   "outputs": [],
   "source": [
    "ms1 = 'king RING SIng'\n",
    "ms1.lower()"
   ]
  },
  {
   "cell_type": "code",
   "execution_count": null,
   "id": "ca0e16b3",
   "metadata": {},
   "outputs": [],
   "source": [
    "ms1 = 'king RING SIng'\n",
    "ms1.upper()"
   ]
  },
  {
   "cell_type": "code",
   "execution_count": null,
   "id": "fc4447ee",
   "metadata": {},
   "outputs": [],
   "source": [
    "ms1 = 'king RING SIng'\n",
    "ms1.swapcase()"
   ]
  },
  {
   "cell_type": "code",
   "execution_count": null,
   "id": "79151419",
   "metadata": {},
   "outputs": [],
   "source": [
    "ms1 = 'king RING SIng'\n",
    "ms1.title()\n"
   ]
  },
  {
   "cell_type": "code",
   "execution_count": null,
   "id": "0c400822",
   "metadata": {},
   "outputs": [],
   "source": [
    "ms1 = 'king RING SIng'\n",
    "ms1.capitalize()"
   ]
  },
  {
   "cell_type": "code",
   "execution_count": null,
   "id": "a243f454",
   "metadata": {},
   "outputs": [],
   "source": [
    "\"2023\".isdigit()"
   ]
  },
  {
   "cell_type": "code",
   "execution_count": null,
   "id": "b3e5f0ff",
   "metadata": {},
   "outputs": [],
   "source": [
    "\"2023july\".isdigit()"
   ]
  },
  {
   "cell_type": "code",
   "execution_count": null,
   "id": "30885246",
   "metadata": {},
   "outputs": [],
   "source": [
    "\"2023july\".isalnum()"
   ]
  },
  {
   "cell_type": "markdown",
   "id": "5bab482b",
   "metadata": {},
   "source": [
    "Split and Join"
   ]
  },
  {
   "cell_type": "code",
   "execution_count": null,
   "id": "c1f82592",
   "metadata": {},
   "outputs": [],
   "source": [
    "ms1 = 'world health org geneva'"
   ]
  },
  {
   "cell_type": "code",
   "execution_count": null,
   "id": "de845cfe",
   "metadata": {},
   "outputs": [],
   "source": [
    "ms1.split()"
   ]
  },
  {
   "cell_type": "code",
   "execution_count": null,
   "id": "9acff84a",
   "metadata": {},
   "outputs": [],
   "source": [
    "ms1.split(' ',1)"
   ]
  },
  {
   "cell_type": "code",
   "execution_count": null,
   "id": "f92ff955",
   "metadata": {},
   "outputs": [],
   "source": [
    "ms1 = 'world health org, geneva'\n",
    "ms1.split(',')"
   ]
  },
  {
   "cell_type": "code",
   "execution_count": null,
   "id": "79f975af",
   "metadata": {},
   "outputs": [],
   "source": [
    "strlist = ['python', 'data', 'science', 'pes']\n",
    "\n",
    "ns1 = '::'.join(strlist)\n",
    "ns1"
   ]
  },
  {
   "cell_type": "code",
   "execution_count": null,
   "id": "b82b83c0",
   "metadata": {},
   "outputs": [],
   "source": [
    "strlist = ['python', 'data', 'science', 'pes']\n",
    "\n",
    "delimiter = '__'\n",
    "ns1 = delimiter.join(strlist)\n",
    "ns1"
   ]
  },
  {
   "cell_type": "markdown",
   "id": "b526e3ad",
   "metadata": {},
   "source": [
    "# Pythonic way of Printing"
   ]
  },
  {
   "cell_type": "code",
   "execution_count": null,
   "id": "85caf268",
   "metadata": {},
   "outputs": [],
   "source": [
    "print(dir(str))"
   ]
  },
  {
   "cell_type": "code",
   "execution_count": null,
   "id": "e8e1dbc6",
   "metadata": {},
   "outputs": [],
   "source": [
    "# average marks in physics of 50 students is 98.31"
   ]
  },
  {
   "cell_type": "code",
   "execution_count": null,
   "id": "2b3e7b33",
   "metadata": {},
   "outputs": [],
   "source": [
    "average = 98.31\n",
    "sub = 'Physics'\n",
    "nums = 50\n",
    "\n",
    "\n",
    "## unconstrained place holders.  positional mapping\n",
    "print('Average marks in {} of {} students is {}'.format(sub, nums,average))"
   ]
  },
  {
   "cell_type": "code",
   "execution_count": null,
   "id": "3b9b765b",
   "metadata": {},
   "outputs": [],
   "source": [
    "print('Average marks in {} of {} students is {}'.format(nums,nums,nums))"
   ]
  },
  {
   "cell_type": "code",
   "execution_count": null,
   "id": "a76bfea2",
   "metadata": {},
   "outputs": [],
   "source": [
    "## parameter number constraints\n",
    "print('Average marks in {2} of {0} students is {1}'.format(sub, nums,average))"
   ]
  },
  {
   "cell_type": "code",
   "execution_count": null,
   "id": "36d8c050",
   "metadata": {},
   "outputs": [],
   "source": [
    "print('Average marks in {:s} of {:d} students is {:f}'.format(sub, nums,average))"
   ]
  },
  {
   "cell_type": "code",
   "execution_count": null,
   "id": "6f78e426",
   "metadata": {},
   "outputs": [],
   "source": [
    "# data type constraint\n",
    "print('Average marks in {:s} of {:d} students is {:f}'.format(nums, sub, average))"
   ]
  },
  {
   "cell_type": "code",
   "execution_count": null,
   "id": "19eb058c",
   "metadata": {},
   "outputs": [],
   "source": [
    "average = 98.31\n",
    "sub = 'Physics'\n",
    "nums = 50\n",
    "\n",
    "\n",
    "## datatype and parameter index constraint\n",
    "ns1 = 'Average marks in {1:s} of {2:d} students is {0:f}'.format(average, sub, nums)\n",
    "print(ns1)"
   ]
  },
  {
   "cell_type": "code",
   "execution_count": null,
   "id": "cb10fd92",
   "metadata": {},
   "outputs": [],
   "source": [
    "average = 98.31\n",
    "sub = 'Physics'\n",
    "nums = 50\n",
    "\n",
    "\n",
    "## datatype and parameter index constraint\n",
    "ns1 = 'Average marks in {1:s} of {2:d} students is {0:.2f}'.format(round(average,2), sub, nums)\n",
    "print(ns1)"
   ]
  },
  {
   "cell_type": "code",
   "execution_count": null,
   "id": "5b16f1d3",
   "metadata": {},
   "outputs": [],
   "source": [
    "average = 98.31\n",
    "sub = 'Physics'\n",
    "nums = 50\n",
    "\n",
    "\n",
    "## datatype and parameter index constraint\n",
    "ns1 = 'Average marks in {1:s} of {2:d} students is {0:.2f} {2:d}'.format(round(average,2), sub, nums,100)\n",
    "print(ns1)"
   ]
  },
  {
   "cell_type": "code",
   "execution_count": null,
   "id": "22f42aff",
   "metadata": {},
   "outputs": [],
   "source": [
    "ns1 = \"{}\".format('python')\n",
    "ns1"
   ]
  },
  {
   "cell_type": "code",
   "execution_count": null,
   "id": "6cbc6e4f",
   "metadata": {},
   "outputs": [],
   "source": [
    "ns1 = \"s{:20}e\".format('python')\n",
    "ns1"
   ]
  },
  {
   "cell_type": "code",
   "execution_count": null,
   "id": "84c844ee",
   "metadata": {},
   "outputs": [],
   "source": [
    "ns1 = \"s{:<20}e\".format('python')\n",
    "ns1"
   ]
  },
  {
   "cell_type": "code",
   "execution_count": null,
   "id": "bb5bcc7b",
   "metadata": {},
   "outputs": [],
   "source": [
    "ns1 = \"s{:>20}e\".format('python')\n",
    "ns1"
   ]
  },
  {
   "cell_type": "code",
   "execution_count": null,
   "id": "cd98e5b8",
   "metadata": {},
   "outputs": [],
   "source": [
    "ns1 = \"s{:^20}e\".format('python')\n",
    "ns1"
   ]
  },
  {
   "cell_type": "code",
   "execution_count": null,
   "id": "4e917f5c",
   "metadata": {},
   "outputs": [],
   "source": [
    "help('FORMATTING')"
   ]
  },
  {
   "cell_type": "code",
   "execution_count": null,
   "id": "58381415",
   "metadata": {},
   "outputs": [],
   "source": [
    "ns1 = \"s{:*^20}e\".format('python')\n",
    "ns1"
   ]
  },
  {
   "cell_type": "code",
   "execution_count": null,
   "id": "c7a1ab0b",
   "metadata": {},
   "outputs": [],
   "source": [
    "len(ns1)"
   ]
  },
  {
   "cell_type": "code",
   "execution_count": null,
   "id": "ef2f0079",
   "metadata": {},
   "outputs": [],
   "source": [
    "for i in range(1,20,2):\n",
    "    print('{:^20}'.format('*'*i))"
   ]
  },
  {
   "cell_type": "markdown",
   "id": "bf634771",
   "metadata": {},
   "source": [
    "Escape Seq"
   ]
  },
  {
   "cell_type": "code",
   "execution_count": null,
   "id": "e2725691",
   "metadata": {},
   "outputs": [],
   "source": [
    "print('nse mumbai')"
   ]
  },
  {
   "cell_type": "code",
   "execution_count": null,
   "id": "cc6614ae",
   "metadata": {},
   "outputs": [],
   "source": [
    "print('nse\\nmumbai')"
   ]
  },
  {
   "cell_type": "code",
   "execution_count": null,
   "id": "3fe46d68",
   "metadata": {},
   "outputs": [],
   "source": [
    "print('nse\\tmumbai')"
   ]
  },
  {
   "cell_type": "code",
   "execution_count": null,
   "id": "e3c6351b",
   "metadata": {},
   "outputs": [],
   "source": [
    "print('nse\\bmumbai')"
   ]
  },
  {
   "cell_type": "code",
   "execution_count": null,
   "id": "1481d742",
   "metadata": {},
   "outputs": [],
   "source": [
    "print('nse\\pmumbai')"
   ]
  },
  {
   "cell_type": "raw",
   "id": "6e254c47",
   "metadata": {},
   "source": [
    "\"c:\\tiger\""
   ]
  },
  {
   "cell_type": "code",
   "execution_count": null,
   "id": "2ec78416",
   "metadata": {},
   "outputs": [],
   "source": [
    "print(\"c:\\tiger\")"
   ]
  },
  {
   "cell_type": "code",
   "execution_count": null,
   "id": "2420ac60",
   "metadata": {},
   "outputs": [],
   "source": [
    "print(\"c:\\\\tiger\")"
   ]
  },
  {
   "cell_type": "markdown",
   "id": "0c9afb2f",
   "metadata": {},
   "source": [
    "# LIST"
   ]
  },
  {
   "cell_type": "code",
   "execution_count": null,
   "id": "de0a5900",
   "metadata": {},
   "outputs": [],
   "source": [
    "mylist1 = list('python')\n",
    "mylist1"
   ]
  },
  {
   "cell_type": "code",
   "execution_count": null,
   "id": "4f2d7918",
   "metadata": {},
   "outputs": [],
   "source": [
    "mylist1 = ['p', 'y', 't', 'h', 'o', 'n']"
   ]
  },
  {
   "cell_type": "code",
   "execution_count": null,
   "id": "4e7f531c",
   "metadata": {},
   "outputs": [],
   "source": [
    "len(mylist1)"
   ]
  },
  {
   "cell_type": "code",
   "execution_count": null,
   "id": "655b6002",
   "metadata": {},
   "outputs": [],
   "source": [
    "mylist1[0]"
   ]
  },
  {
   "cell_type": "code",
   "execution_count": null,
   "id": "6392042e",
   "metadata": {},
   "outputs": [],
   "source": [
    "mylist1[0] = 'j'  ##  Lists are mutable types"
   ]
  },
  {
   "cell_type": "code",
   "execution_count": null,
   "id": "ef55866d",
   "metadata": {},
   "outputs": [],
   "source": [
    "print(mylist1)"
   ]
  },
  {
   "cell_type": "code",
   "execution_count": null,
   "id": "583ba70b",
   "metadata": {},
   "outputs": [],
   "source": [
    "''.join(mylist1)"
   ]
  },
  {
   "cell_type": "code",
   "execution_count": null,
   "id": "a8654a1e",
   "metadata": {},
   "outputs": [],
   "source": [
    "[1,2,3] + [4,5,6]"
   ]
  },
  {
   "cell_type": "code",
   "execution_count": null,
   "id": "cafee7e5",
   "metadata": {},
   "outputs": [],
   "source": [
    "[1,2,3] * 3"
   ]
  },
  {
   "cell_type": "code",
   "execution_count": null,
   "id": "ae69e769",
   "metadata": {},
   "outputs": [],
   "source": [
    "mylist1 = list('pythondatascience')\n",
    "mylist1"
   ]
  },
  {
   "cell_type": "code",
   "execution_count": null,
   "id": "a84e6a39",
   "metadata": {},
   "outputs": [],
   "source": [
    "'z' in mylist1"
   ]
  },
  {
   "cell_type": "code",
   "execution_count": null,
   "id": "62972557",
   "metadata": {},
   "outputs": [],
   "source": [
    "mylist1[2:10:2]"
   ]
  },
  {
   "cell_type": "code",
   "execution_count": null,
   "id": "92d85272",
   "metadata": {},
   "outputs": [],
   "source": [
    "print(type(mylist1))"
   ]
  },
  {
   "cell_type": "code",
   "execution_count": null,
   "id": "950c1329",
   "metadata": {},
   "outputs": [],
   "source": [
    "print(dir(list))"
   ]
  },
  {
   "cell_type": "code",
   "execution_count": null,
   "id": "dd14c2db",
   "metadata": {},
   "outputs": [],
   "source": [
    "mylist1 = [1,3,5]\n",
    "a = mylist1.append('hello')\n",
    "print(a)\n",
    "print(mylist1)"
   ]
  },
  {
   "cell_type": "code",
   "execution_count": null,
   "id": "38115e57",
   "metadata": {},
   "outputs": [],
   "source": [
    "mylist1 = [1,3,5]\n",
    "mylist1.append('hello')\n",
    "print(mylist1)"
   ]
  },
  {
   "cell_type": "code",
   "execution_count": null,
   "id": "e716a4f2",
   "metadata": {},
   "outputs": [],
   "source": [
    "mylist1 = [1,3,5]\n",
    "mylist1.append(['hello', 'python'])\n",
    "print(mylist1)"
   ]
  },
  {
   "cell_type": "code",
   "execution_count": null,
   "id": "3ff66efd",
   "metadata": {},
   "outputs": [],
   "source": [
    "mylist1 = [1,3,5]\n",
    "mylist1.extend(['hello', 'python'])\n",
    "print(mylist1)"
   ]
  },
  {
   "cell_type": "code",
   "execution_count": null,
   "id": "c9ecb2b3",
   "metadata": {},
   "outputs": [],
   "source": [
    "mylist1 = [1,3,5]\n",
    "mylist1.append('hello').append('python')"
   ]
  },
  {
   "cell_type": "code",
   "execution_count": null,
   "id": "1c8068bf",
   "metadata": {},
   "outputs": [],
   "source": [
    "mylist1 = [1,3,5]\n",
    "mylist1.insert(0,'hello')\n",
    "mylist1"
   ]
  },
  {
   "cell_type": "code",
   "execution_count": null,
   "id": "435d811b",
   "metadata": {},
   "outputs": [],
   "source": [
    "mylist1 = [1,3,5]\n",
    "mylist1.insert(-1,'hello')\n",
    "mylist1"
   ]
  },
  {
   "cell_type": "code",
   "execution_count": null,
   "id": "3ae233f4",
   "metadata": {},
   "outputs": [],
   "source": [
    "mylist1 = [1,3,5]\n",
    "mylist1.insert(len(mylist1),'hello')\n",
    "mylist1"
   ]
  },
  {
   "cell_type": "code",
   "execution_count": null,
   "id": "52c55dd1",
   "metadata": {},
   "outputs": [],
   "source": [
    "mylist1 = [1,3,5]\n",
    "mylist1.insert(1000,'hello')\n",
    "mylist1"
   ]
  },
  {
   "cell_type": "code",
   "execution_count": null,
   "id": "77ca2436",
   "metadata": {},
   "outputs": [],
   "source": [
    "mylist1 = [1,3,5]\n",
    "r = mylist1.pop()\n",
    "print(r)\n",
    "mylist1"
   ]
  },
  {
   "cell_type": "code",
   "execution_count": null,
   "id": "811661f0",
   "metadata": {},
   "outputs": [],
   "source": [
    "mylist1 = [1,3,5]\n",
    "r = mylist1.pop(1)\n",
    "print(r)\n",
    "mylist1"
   ]
  },
  {
   "cell_type": "code",
   "execution_count": null,
   "id": "94d00a52",
   "metadata": {},
   "outputs": [],
   "source": [
    "mylist1 = [1,3,5]\n",
    "r = mylist1.pop(10)\n",
    "print(r)\n",
    "mylist1"
   ]
  },
  {
   "cell_type": "code",
   "execution_count": null,
   "id": "b20d11c2",
   "metadata": {},
   "outputs": [],
   "source": [
    "mylist1 = [1,2,3,4,5,1,2,3,4,5,1,2,3,1]\n",
    "mylist1.remove(1)\n",
    "print(mylist1)"
   ]
  },
  {
   "cell_type": "code",
   "execution_count": null,
   "id": "3581202b",
   "metadata": {},
   "outputs": [],
   "source": [
    "mylist1 = [1,2,3,4,5,1,2,3,4,5,1,2,3,1]\n",
    "mylist1.remove(10)\n",
    "print(mylist1)"
   ]
  },
  {
   "cell_type": "code",
   "execution_count": null,
   "id": "55ceeae7",
   "metadata": {},
   "outputs": [],
   "source": [
    "mylist1 = [1,2,3,4,5,1,2,3,4,5,1,2,3,1]\n",
    "mylist1.remove(1)\n",
    "print(mylist1)"
   ]
  },
  {
   "cell_type": "code",
   "execution_count": null,
   "id": "d5fdf6d1",
   "metadata": {},
   "outputs": [],
   "source": [
    "mylist1 = [1,2,3,4,5,1,2,3,4,5,1,2,3,1]\n",
    "while (1 in mylist1):\n",
    "    mylist1.remove(1)\n",
    "print(mylist1)"
   ]
  },
  {
   "cell_type": "code",
   "execution_count": null,
   "id": "c5320a3b",
   "metadata": {},
   "outputs": [],
   "source": [
    "mylist1 = list('pythondatascience')\n",
    "print(mylist1)\n",
    "\n",
    "i = mylist1.index('a')\n",
    "print(i)"
   ]
  },
  {
   "cell_type": "code",
   "execution_count": null,
   "id": "062abba1",
   "metadata": {},
   "outputs": [],
   "source": [
    "mylist1 = list('pythondatascience')\n",
    "print(mylist1)\n",
    "\n",
    "i = mylist1.count('a')\n",
    "print(i)"
   ]
  },
  {
   "cell_type": "code",
   "execution_count": null,
   "id": "f0ca835b",
   "metadata": {},
   "outputs": [],
   "source": [
    "mylist1 = list('pythondatascience')\n",
    "print(mylist1)\n",
    "max(mylist1)"
   ]
  },
  {
   "cell_type": "code",
   "execution_count": null,
   "id": "8e72958b",
   "metadata": {},
   "outputs": [],
   "source": [
    "mylist1 = list('pythondatAscience')\n",
    "print(mylist1)\n",
    "min(mylist1)"
   ]
  },
  {
   "cell_type": "code",
   "execution_count": null,
   "id": "fbd93396",
   "metadata": {},
   "outputs": [],
   "source": [
    "ord('a')"
   ]
  },
  {
   "cell_type": "code",
   "execution_count": null,
   "id": "990f2726",
   "metadata": {},
   "outputs": [],
   "source": [
    "ord(\"A\")"
   ]
  },
  {
   "cell_type": "code",
   "execution_count": null,
   "id": "8f7c2953",
   "metadata": {},
   "outputs": [],
   "source": [
    "chr(66)"
   ]
  },
  {
   "cell_type": "code",
   "execution_count": null,
   "id": "82533ff2",
   "metadata": {},
   "outputs": [],
   "source": [
    "mylist1 = [1,2,3,'a','b']\n",
    "print(mylist1)\n",
    "max(mylist1)"
   ]
  },
  {
   "cell_type": "code",
   "execution_count": null,
   "id": "a74e3749",
   "metadata": {},
   "outputs": [],
   "source": [
    "1 > 'a'"
   ]
  },
  {
   "cell_type": "code",
   "execution_count": null,
   "id": "504759c4",
   "metadata": {},
   "outputs": [],
   "source": [
    "mylist1 = [1,2,3,'a','b']\n",
    "print(mylist1)\n",
    "mylist1.clear()\n",
    "print(mylist1)"
   ]
  },
  {
   "cell_type": "markdown",
   "id": "ae3a1899",
   "metadata": {},
   "source": [
    "List Sort"
   ]
  },
  {
   "cell_type": "code",
   "execution_count": null,
   "id": "6af073fd",
   "metadata": {},
   "outputs": [],
   "source": [
    "mylist1 = [2,4,6,1,3,5]\n",
    "mylist1.sort()\n",
    "print(mylist1)"
   ]
  },
  {
   "cell_type": "code",
   "execution_count": null,
   "id": "2d52c50d",
   "metadata": {},
   "outputs": [],
   "source": [
    "mylist1 = [2,4,6,1,3,5]\n",
    "mylist1.sort(reverse=True)\n",
    "print(mylist1)"
   ]
  },
  {
   "cell_type": "code",
   "execution_count": null,
   "id": "865e9f1f",
   "metadata": {},
   "outputs": [],
   "source": [
    "mylist1 = list('python')\n",
    "mylist1.sort(reverse=True)\n",
    "print(mylist1)"
   ]
  },
  {
   "cell_type": "code",
   "execution_count": null,
   "id": "33c07bef",
   "metadata": {},
   "outputs": [],
   "source": [
    "mylist1 = [2,4,6,'hello']\n",
    "mylist1.sort()\n",
    "print(mylist1)"
   ]
  },
  {
   "cell_type": "code",
   "execution_count": null,
   "id": "0c799d77",
   "metadata": {},
   "outputs": [],
   "source": [
    "isinstance('hello',(int,str))"
   ]
  },
  {
   "cell_type": "code",
   "execution_count": null,
   "id": "d8788463",
   "metadata": {},
   "outputs": [],
   "source": [
    "def key1(obj):\n",
    "    if isinstance(obj,(int,float)):\n",
    "        return obj\n",
    "    \n",
    "    if isinstance(obj, str):\n",
    "        return len(obj)\n",
    "    \n",
    "    return 0"
   ]
  },
  {
   "cell_type": "code",
   "execution_count": null,
   "id": "12ff47cf",
   "metadata": {},
   "outputs": [],
   "source": [
    "mylist1 = [2,4,6,'hello', [11,22,33,44,'python']]\n",
    "mylist1.sort(key=key1)\n",
    "print(mylist1)"
   ]
  },
  {
   "cell_type": "markdown",
   "id": "a49b5713",
   "metadata": {},
   "source": [
    "Copy"
   ]
  },
  {
   "cell_type": "code",
   "execution_count": null,
   "id": "3551322d",
   "metadata": {},
   "outputs": [],
   "source": [
    "mylist1 = [11,22,33]\n",
    "mylist2 = [11,22,33]\n",
    "print(mylist1)\n",
    "print(mylist2)  ##  two diff lists\n",
    "print()\n",
    "\n",
    "print(id(mylist1))\n",
    "print(id(mylist2))\n",
    "print()\n",
    "mylist2[0] = 'hello'\n",
    "\n",
    "print(mylist1)\n",
    "print(mylist2)"
   ]
  },
  {
   "cell_type": "code",
   "execution_count": null,
   "id": "ae1fd146",
   "metadata": {},
   "outputs": [],
   "source": [
    "mylist1 = [11,22,33]\n",
    "mylist2 = mylist1     ##  view to the same flat list\n",
    "print(mylist1)\n",
    "print(mylist2)\n",
    "print()\n",
    "\n",
    "print(id(mylist1))\n",
    "print(id(mylist2))\n",
    "print()\n",
    "mylist2[0] = 'hello'\n",
    "\n",
    "print(mylist1)\n",
    "print(mylist2)"
   ]
  },
  {
   "cell_type": "code",
   "execution_count": null,
   "id": "32e0ca85",
   "metadata": {},
   "outputs": [],
   "source": [
    "mylist1 = [11,22,33]\n",
    "mylist2 = mylist1.copy()   ##  shallow copy of the flat list\n",
    "print(mylist1)\n",
    "print(mylist2)\n",
    "print()\n",
    "\n",
    "print(id(mylist1))\n",
    "print(id(mylist2))\n",
    "print()\n",
    "mylist2[0] = 'hello'\n",
    "\n",
    "print(mylist1)\n",
    "print(mylist2)"
   ]
  },
  {
   "cell_type": "code",
   "execution_count": null,
   "id": "0d818b10",
   "metadata": {},
   "outputs": [],
   "source": [
    "mylist1 = ['zero', [11,22,33], [44,55,66], [77,88,99] ]\n",
    "mylist2 = mylist1.copy()  ##  shallo copy of the hierarchial list\n",
    "print(mylist1)\n",
    "print(mylist2)\n",
    "print()\n",
    "\n",
    "print(id(mylist1))\n",
    "print(id(mylist2))\n",
    "print()\n",
    "mylist2[0] = 'hello'\n",
    "mylist2[1][0] = 'hello1'\n",
    "\n",
    "print(mylist1)\n",
    "print(mylist2)"
   ]
  },
  {
   "cell_type": "code",
   "execution_count": null,
   "id": "dfb7a9ac",
   "metadata": {},
   "outputs": [],
   "source": [
    "import copy\n",
    "\n",
    "mylist1 = ['zero', [11,22,33], [44,55,66], [77,88,99] ]\n",
    "mylist2 = copy.deepcopy(mylist1)  ##  deep copy of hierarchial list\n",
    "print(mylist1)\n",
    "print(mylist2)\n",
    "print()\n",
    "\n",
    "print(id(mylist1))\n",
    "print(id(mylist2))\n",
    "print()\n",
    "mylist2[0] = 'hello'\n",
    "mylist2[1][0] = 'hello1'\n",
    "\n",
    "print(mylist1)\n",
    "print(mylist2)"
   ]
  },
  {
   "cell_type": "code",
   "execution_count": null,
   "id": "de043b8b",
   "metadata": {},
   "outputs": [],
   "source": [
    "print(dir(copy))"
   ]
  },
  {
   "cell_type": "markdown",
   "id": "8a768f9e",
   "metadata": {},
   "source": [
    "# Tuple"
   ]
  },
  {
   "cell_type": "code",
   "execution_count": null,
   "id": "dea80edb",
   "metadata": {},
   "outputs": [],
   "source": [
    "mt1 = tuple('pythondata')\n",
    "print(mt1)\n",
    "print(type(mt1))\n",
    "print(len(mt1))"
   ]
  },
  {
   "cell_type": "code",
   "execution_count": null,
   "id": "49ab91e8",
   "metadata": {},
   "outputs": [],
   "source": [
    "mt1[0]"
   ]
  },
  {
   "cell_type": "code",
   "execution_count": null,
   "id": "351a8f99",
   "metadata": {},
   "outputs": [],
   "source": [
    "mt1[0] = 'j'"
   ]
  },
  {
   "cell_type": "code",
   "execution_count": null,
   "id": "1d490a56",
   "metadata": {},
   "outputs": [],
   "source": [
    "mt1 = (123)\n",
    "print(type(mt1))"
   ]
  },
  {
   "cell_type": "code",
   "execution_count": null,
   "id": "bc24b3f9",
   "metadata": {},
   "outputs": [],
   "source": [
    "mt1 = (123,)\n",
    "print(type(mt1))\n",
    "print(mt1)"
   ]
  },
  {
   "cell_type": "code",
   "execution_count": null,
   "id": "832b73a8",
   "metadata": {},
   "outputs": [],
   "source": [
    "mt1 = (11,22,[444,555,666], 'hello')"
   ]
  },
  {
   "cell_type": "code",
   "execution_count": null,
   "id": "cd448667",
   "metadata": {},
   "outputs": [],
   "source": [
    "mt1[-1]"
   ]
  },
  {
   "cell_type": "code",
   "execution_count": null,
   "id": "3d1b746f",
   "metadata": {},
   "outputs": [],
   "source": [
    "print(type(mt1[-1]))"
   ]
  },
  {
   "cell_type": "code",
   "execution_count": null,
   "id": "c0271317",
   "metadata": {},
   "outputs": [],
   "source": [
    "mt1[-1][0] = 'j'"
   ]
  },
  {
   "cell_type": "code",
   "execution_count": null,
   "id": "cb426480",
   "metadata": {},
   "outputs": [],
   "source": [
    "mt1[2]"
   ]
  },
  {
   "cell_type": "code",
   "execution_count": null,
   "id": "12083799",
   "metadata": {},
   "outputs": [],
   "source": [
    "print(type(mt1[2]))"
   ]
  },
  {
   "cell_type": "code",
   "execution_count": null,
   "id": "f6f67df4",
   "metadata": {},
   "outputs": [],
   "source": [
    "mt1[2][0] = 'hello'"
   ]
  },
  {
   "cell_type": "code",
   "execution_count": null,
   "id": "d0f95ca2",
   "metadata": {},
   "outputs": [],
   "source": [
    "mt1"
   ]
  },
  {
   "cell_type": "code",
   "execution_count": null,
   "id": "290b4fe5",
   "metadata": {},
   "outputs": [],
   "source": [
    "mt1 = tuple('pythondata')\n",
    "print(mt1)\n",
    "print(id(mt1))\n",
    "print()\n",
    "\n",
    "templist = list(mt1)\n",
    "templist.append('z')\n",
    "\n",
    "mt1 = tuple(templist)\n",
    "print(mt1)\n",
    "print(id(mt1))"
   ]
  },
  {
   "cell_type": "markdown",
   "id": "c830d128",
   "metadata": {},
   "source": [
    "# Dictionary"
   ]
  },
  {
   "cell_type": "code",
   "execution_count": null,
   "id": "0814ae0c",
   "metadata": {},
   "outputs": [],
   "source": [
    "md1 = {'Bank':'SBI', 'Branch':'MGROAD', 91:'India'}\n",
    "print(type(md1))\n",
    "print(md1)\n",
    "print(len(md1))"
   ]
  },
  {
   "cell_type": "code",
   "execution_count": null,
   "id": "67f769a3",
   "metadata": {},
   "outputs": [],
   "source": [
    "md1['City'] = 'Mumbai'"
   ]
  },
  {
   "cell_type": "code",
   "execution_count": null,
   "id": "4e93d16b",
   "metadata": {},
   "outputs": [],
   "source": [
    "md1"
   ]
  },
  {
   "cell_type": "code",
   "execution_count": null,
   "id": "64f26b7a",
   "metadata": {},
   "outputs": [],
   "source": [
    "md1 = {'Bank':'SBI', 'Branch':'MGROAD', 91:'India', 'Bank':'Axis'}\n",
    "md1"
   ]
  },
  {
   "cell_type": "code",
   "execution_count": null,
   "id": "2cee3ec4",
   "metadata": {},
   "outputs": [],
   "source": [
    "md1['SBI']"
   ]
  },
  {
   "cell_type": "code",
   "execution_count": null,
   "id": "a3d4469d",
   "metadata": {},
   "outputs": [],
   "source": [
    "md1['Bank']"
   ]
  },
  {
   "cell_type": "code",
   "execution_count": null,
   "id": "a15c212e",
   "metadata": {},
   "outputs": [],
   "source": [
    "md1[0]"
   ]
  },
  {
   "cell_type": "code",
   "execution_count": null,
   "id": "f702f14a",
   "metadata": {},
   "outputs": [],
   "source": [
    "md1[91]"
   ]
  },
  {
   "cell_type": "code",
   "execution_count": null,
   "id": "a547ac8b",
   "metadata": {},
   "outputs": [],
   "source": [
    "md1"
   ]
  },
  {
   "cell_type": "code",
   "execution_count": null,
   "id": "c8953ca8",
   "metadata": {},
   "outputs": [],
   "source": [
    "md1 = {'Bank':'SBI', 'Branch':'MGROAD', (11,22,33):'Hello'}\n",
    "md1"
   ]
  },
  {
   "cell_type": "code",
   "execution_count": null,
   "id": "9937de50",
   "metadata": {},
   "outputs": [],
   "source": [
    "md1 = {'Bank':'SBI', 'Branch':'MGROAD', [11,22,33]:'Hello'}\n",
    "md1"
   ]
  },
  {
   "cell_type": "code",
   "execution_count": null,
   "id": "2744cf8f",
   "metadata": {},
   "outputs": [],
   "source": [
    "md1 = {'Bank':'SBI', 'Branch':'MGROAD', (11,22,33,[55,66]):'Hello'}\n",
    "md1"
   ]
  },
  {
   "cell_type": "code",
   "execution_count": null,
   "id": "a5109295",
   "metadata": {},
   "outputs": [],
   "source": [
    "md1"
   ]
  },
  {
   "cell_type": "code",
   "execution_count": null,
   "id": "fd5ed54a",
   "metadata": {},
   "outputs": [],
   "source": [
    "del md1['Bank']"
   ]
  },
  {
   "cell_type": "code",
   "execution_count": null,
   "id": "761e955d",
   "metadata": {},
   "outputs": [],
   "source": [
    "md1"
   ]
  },
  {
   "cell_type": "code",
   "execution_count": null,
   "id": "bd323464",
   "metadata": {},
   "outputs": [],
   "source": [
    "md1.clear()"
   ]
  },
  {
   "cell_type": "code",
   "execution_count": null,
   "id": "6c30f757",
   "metadata": {},
   "outputs": [],
   "source": [
    "md1"
   ]
  },
  {
   "cell_type": "code",
   "execution_count": null,
   "id": "3b867321",
   "metadata": {},
   "outputs": [],
   "source": [
    "md1['pin'] = 560001"
   ]
  },
  {
   "cell_type": "code",
   "execution_count": null,
   "id": "fdfb0b91",
   "metadata": {},
   "outputs": [],
   "source": [
    "md1"
   ]
  },
  {
   "cell_type": "code",
   "execution_count": null,
   "id": "3a9caa65",
   "metadata": {},
   "outputs": [],
   "source": [
    "print(dir(dict))"
   ]
  },
  {
   "cell_type": "code",
   "execution_count": null,
   "id": "c440f109",
   "metadata": {},
   "outputs": [],
   "source": [
    "md1 = {'Bank':'SBI', 'Branch': 'MGROAD'}\n",
    "md1"
   ]
  },
  {
   "cell_type": "code",
   "execution_count": null,
   "id": "0a64f41d",
   "metadata": {},
   "outputs": [],
   "source": [
    "k = md1.keys()\n",
    "print(type(k))\n",
    "print(k)  ##  list-like\n",
    "keylist = list(k)\n",
    "print(keylist)"
   ]
  },
  {
   "cell_type": "code",
   "execution_count": null,
   "id": "1d5597fe",
   "metadata": {},
   "outputs": [],
   "source": [
    "k[0]"
   ]
  },
  {
   "cell_type": "code",
   "execution_count": null,
   "id": "7ef07015",
   "metadata": {},
   "outputs": [],
   "source": [
    "vlist = list(md1.values())\n",
    "vlist"
   ]
  },
  {
   "cell_type": "code",
   "execution_count": null,
   "id": "cee514cf",
   "metadata": {},
   "outputs": [],
   "source": [
    "i = md1.items()\n",
    "print(i)"
   ]
  },
  {
   "cell_type": "code",
   "execution_count": null,
   "id": "28969841",
   "metadata": {},
   "outputs": [],
   "source": [
    "list(i)"
   ]
  },
  {
   "cell_type": "code",
   "execution_count": null,
   "id": "98f08bbc",
   "metadata": {},
   "outputs": [],
   "source": [
    "md1 = {'Bank':'SBI', 'Branch': 'MGROAD'}\n",
    "print(md1)\n",
    "v = md1.get('Bank')\n",
    "print(v)"
   ]
  },
  {
   "cell_type": "code",
   "execution_count": null,
   "id": "6c0ef855",
   "metadata": {},
   "outputs": [],
   "source": [
    "md1 = {'Bank':'SBI', 'Branch': 'MGROAD'}\n",
    "print(md1)\n",
    "v = md1.get('City')\n",
    "print(v)"
   ]
  },
  {
   "cell_type": "code",
   "execution_count": null,
   "id": "a950b0cb",
   "metadata": {},
   "outputs": [],
   "source": [
    "md1 = {'Bank':'SBI', 'Branch': 'MGROAD'}\n",
    "print(md1)\n",
    "v = md1.get('City', 'unknown')\n",
    "print(v)"
   ]
  },
  {
   "cell_type": "code",
   "execution_count": null,
   "id": "68174fc7",
   "metadata": {},
   "outputs": [],
   "source": [
    "md1 = {'Bank':'SBI', 'Branch': 'MGROAD'}\n",
    "print(md1)\n",
    "v = md1.get('Bank', 'unknown')\n",
    "print(v)"
   ]
  },
  {
   "cell_type": "code",
   "execution_count": null,
   "id": "06704f21",
   "metadata": {},
   "outputs": [],
   "source": [
    "md1 = {'Bank':'SBI', 'Branch': 'MGROAD'}\n",
    "print(md1)\n",
    "v = md1.pop('Branch')\n",
    "print(v)\n",
    "print(md1)"
   ]
  },
  {
   "cell_type": "code",
   "execution_count": null,
   "id": "525a1e2c",
   "metadata": {},
   "outputs": [],
   "source": [
    "md1 = {'Bank':'SBI', 'Branch': 'MGROAD'}\n",
    "print(md1)\n",
    "v = md1.pop('City')\n",
    "print(v)\n",
    "print(md1)"
   ]
  },
  {
   "cell_type": "code",
   "execution_count": null,
   "id": "fff1f2f0",
   "metadata": {},
   "outputs": [],
   "source": [
    "md1 = {'Bank':'SBI', 'Branch': 'MGROAD'}\n",
    "print(md1)\n",
    "v = md1.pop('City', 'Unknown')\n",
    "print(v)\n",
    "print(md1)"
   ]
  },
  {
   "cell_type": "code",
   "execution_count": null,
   "id": "d247b863",
   "metadata": {},
   "outputs": [],
   "source": [
    "md1 = {'Bank':'SBI', 'Branch': 'MGROAD'}\n",
    "print(md1)\n",
    "v = md1.pop('Bank', 'Unknown')\n",
    "print(v)\n",
    "print(md1)"
   ]
  },
  {
   "cell_type": "code",
   "execution_count": null,
   "id": "b5dfcd76",
   "metadata": {},
   "outputs": [],
   "source": [
    "md1 = {'Bank':'SBI', 'Branch': 'MGROAD'}\n",
    "print(md1)\n",
    "v = md1.setdefault('City')\n",
    "print(v)\n",
    "print(md1)"
   ]
  },
  {
   "cell_type": "code",
   "execution_count": null,
   "id": "f042c0cf",
   "metadata": {},
   "outputs": [],
   "source": [
    "md1 = {'Bank':'SBI', 'Branch': 'MGROAD'}\n",
    "print(md1)\n",
    "v = md1.setdefault('City', 'Blr')\n",
    "print(v)\n",
    "print(md1)"
   ]
  },
  {
   "cell_type": "code",
   "execution_count": null,
   "id": "dbe0c3ea",
   "metadata": {},
   "outputs": [],
   "source": [
    "md1 = {'Bank':'SBI', 'Branch': 'MGROAD'}\n",
    "print(md1)\n",
    "v = md1.setdefault('Bank')\n",
    "print(v)\n",
    "print(md1)"
   ]
  },
  {
   "cell_type": "code",
   "execution_count": null,
   "id": "89b89041",
   "metadata": {},
   "outputs": [],
   "source": [
    "md1 = {'Bank':'SBI', 'Branch': 'MGROAD'}\n",
    "print(md1)\n",
    "v = md1.setdefault('Bank', 'Blr')\n",
    "print(v)\n",
    "print(md1)"
   ]
  },
  {
   "cell_type": "code",
   "execution_count": null,
   "id": "bdbdaf44",
   "metadata": {},
   "outputs": [],
   "source": [
    "md1 = {'Bank':'SBI', 'Branch': 'MGROAD'}\n",
    "print(md1)\n",
    "\n",
    "md2 = {'Bank':'Axis', 'City':'Blr'}\n",
    "print(md2)"
   ]
  },
  {
   "cell_type": "code",
   "execution_count": null,
   "id": "a1dac038",
   "metadata": {},
   "outputs": [],
   "source": [
    "md1.update(md2)"
   ]
  },
  {
   "cell_type": "code",
   "execution_count": null,
   "id": "3073f7e9",
   "metadata": {},
   "outputs": [],
   "source": [
    "md1"
   ]
  },
  {
   "cell_type": "markdown",
   "id": "1134dcda",
   "metadata": {},
   "source": [
    "Creating dict using list"
   ]
  },
  {
   "cell_type": "code",
   "execution_count": null,
   "id": "f5a1856f",
   "metadata": {},
   "outputs": [],
   "source": [
    "keylist = ['Bank', 'Branch', 'City']\n",
    "valuelist = ['SBI', 'MGROAD', 'Mumbai']"
   ]
  },
  {
   "cell_type": "code",
   "execution_count": null,
   "id": "351313de",
   "metadata": {},
   "outputs": [],
   "source": [
    "z = zip(keylist, valuelist)\n",
    "print(type(z))\n",
    "print(z)\n",
    "print(list(z))\n",
    "print(list(z))"
   ]
  },
  {
   "cell_type": "code",
   "execution_count": null,
   "id": "d8dbbee6",
   "metadata": {},
   "outputs": [],
   "source": [
    "dict([('Bank', 'SBI'), ('Branch', 'MGROAD'), ('City', 'Mumbai')])"
   ]
  },
  {
   "cell_type": "code",
   "execution_count": null,
   "id": "2202bb8a",
   "metadata": {},
   "outputs": [],
   "source": [
    "keylist = ['Bank', 'Branch', 'City', 'Pin']\n",
    "valuelist = ['SBI', 'MGROAD', 'Mumbai']\n",
    "md2 = dict(zip(keylist, valuelist))\n",
    "md2"
   ]
  },
  {
   "cell_type": "markdown",
   "id": "83ebb191",
   "metadata": {},
   "source": [
    "# SET"
   ]
  },
  {
   "cell_type": "code",
   "execution_count": null,
   "id": "5b2d471a",
   "metadata": {},
   "outputs": [],
   "source": [
    "ms1 = set()\n",
    "print(type(ms1))"
   ]
  },
  {
   "cell_type": "code",
   "execution_count": null,
   "id": "388f019d",
   "metadata": {},
   "outputs": [],
   "source": [
    "ms1 = {2,4,6,8,10,2,4,6}\n",
    "print(len(ms1))"
   ]
  },
  {
   "cell_type": "code",
   "execution_count": null,
   "id": "ff845d6c",
   "metadata": {},
   "outputs": [],
   "source": [
    "ms1.add(20)"
   ]
  },
  {
   "cell_type": "code",
   "execution_count": null,
   "id": "5b42ba13",
   "metadata": {},
   "outputs": [],
   "source": [
    "ms1"
   ]
  },
  {
   "cell_type": "code",
   "execution_count": null,
   "id": "ae44865c",
   "metadata": {},
   "outputs": [],
   "source": [
    "print(dir(ms1))"
   ]
  },
  {
   "cell_type": "code",
   "execution_count": null,
   "id": "d4496d45",
   "metadata": {},
   "outputs": [],
   "source": [
    "ms1 = {2, 4, 6, 8, 10, 20}"
   ]
  },
  {
   "cell_type": "code",
   "execution_count": null,
   "id": "57b0da86",
   "metadata": {},
   "outputs": [],
   "source": [
    "ms1.pop()"
   ]
  },
  {
   "cell_type": "code",
   "execution_count": null,
   "id": "c72d170b",
   "metadata": {},
   "outputs": [],
   "source": [
    "ms1 = {2, 4, 6, 8, 10, 20}\n",
    "ms1.remove(6)"
   ]
  },
  {
   "cell_type": "code",
   "execution_count": null,
   "id": "49df8fb1",
   "metadata": {},
   "outputs": [],
   "source": [
    "ms1"
   ]
  },
  {
   "cell_type": "code",
   "execution_count": null,
   "id": "3cdd84b2",
   "metadata": {},
   "outputs": [],
   "source": [
    "ms1.remove(16)"
   ]
  },
  {
   "cell_type": "code",
   "execution_count": null,
   "id": "289ae5e8",
   "metadata": {},
   "outputs": [],
   "source": [
    "ms1 = {2,4,6,8,10,1,3,5}\n",
    "ms2 = {1,3,5,7,9,11}"
   ]
  },
  {
   "cell_type": "code",
   "execution_count": null,
   "id": "db53a571",
   "metadata": {},
   "outputs": [],
   "source": [
    "ms1.union(ms2)"
   ]
  },
  {
   "cell_type": "code",
   "execution_count": null,
   "id": "58fe7c4a",
   "metadata": {},
   "outputs": [],
   "source": [
    "ms1.intersection(ms2)"
   ]
  },
  {
   "cell_type": "code",
   "execution_count": null,
   "id": "fef75e56",
   "metadata": {},
   "outputs": [],
   "source": [
    "ms1-ms2"
   ]
  },
  {
   "cell_type": "code",
   "execution_count": null,
   "id": "81fae8e0",
   "metadata": {},
   "outputs": [],
   "source": [
    "ms2-ms1"
   ]
  },
  {
   "cell_type": "code",
   "execution_count": null,
   "id": "2cf1be3c",
   "metadata": {},
   "outputs": [],
   "source": [
    "ms1.symmetric_difference(ms2)"
   ]
  },
  {
   "cell_type": "code",
   "execution_count": null,
   "id": "59c5d2fc",
   "metadata": {},
   "outputs": [],
   "source": []
  }
 ],
 "metadata": {
  "kernelspec": {
   "display_name": "Python 3 (ipykernel)",
   "language": "python",
   "name": "python3"
  },
  "language_info": {
   "codemirror_mode": {
    "name": "ipython",
    "version": 3
   },
   "file_extension": ".py",
   "mimetype": "text/x-python",
   "name": "python",
   "nbconvert_exporter": "python",
   "pygments_lexer": "ipython3",
   "version": "3.10.9"
  }
 },
 "nbformat": 4,
 "nbformat_minor": 5
}
