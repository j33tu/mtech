{
 "cells": [
  {
   "cell_type": "markdown",
   "id": "4492e14c",
   "metadata": {},
   "source": [
    "# PDS"
   ]
  },
  {
   "cell_type": "markdown",
   "id": "6b32a822",
   "metadata": {},
   "source": [
    "# 08/July/2023"
   ]
  },
  {
   "cell_type": "markdown",
   "id": "0dbc2689",
   "metadata": {},
   "source": [
    "# First Program"
   ]
  },
  {
   "cell_type": "code",
   "execution_count": null,
   "id": "188fa620",
   "metadata": {},
   "outputs": [],
   "source": [
    "print('Hello World')"
   ]
  },
  {
   "cell_type": "code",
   "execution_count": null,
   "id": "bc6f5ea6",
   "metadata": {},
   "outputs": [],
   "source": [
    "print('NSE Mumbai')  # stock exchange\n",
    "#print('BSE Mumbai')\n",
    "\n",
    "print('NY # Stock Exchange')"
   ]
  },
  {
   "cell_type": "code",
   "execution_count": null,
   "id": "6a180d10",
   "metadata": {},
   "outputs": [],
   "source": [
    "exchange = 'NSE'      print('exchange')  \n",
    "# An exception obj of the class SyntaxError is raised with a string message."
   ]
  },
  {
   "cell_type": "code",
   "execution_count": null,
   "id": "324b283e",
   "metadata": {},
   "outputs": [],
   "source": [
    "exchange = 'NSE' ;    print('exchange')"
   ]
  },
  {
   "cell_type": "code",
   "execution_count": null,
   "id": "a61b6b83",
   "metadata": {},
   "outputs": [],
   "source": [
    "ms1 = 'line 1 of the string \n",
    "line2 of the string\n",
    "line 3 of the string '"
   ]
  },
  {
   "cell_type": "code",
   "execution_count": null,
   "id": "f946ca6f",
   "metadata": {},
   "outputs": [],
   "source": [
    "p1 = ''' this is line1  \n",
    "this is line2\n",
    "this is line3\n",
    "'''"
   ]
  },
  {
   "cell_type": "code",
   "execution_count": null,
   "id": "433bc219",
   "metadata": {},
   "outputs": [],
   "source": [
    "print(p1)"
   ]
  },
  {
   "cell_type": "code",
   "execution_count": null,
   "id": "ec5773ef",
   "metadata": {},
   "outputs": [],
   "source": [
    "print(type(p1))"
   ]
  },
  {
   "cell_type": "code",
   "execution_count": null,
   "id": "696a7016",
   "metadata": {},
   "outputs": [],
   "source": [
    "## p1 is a variable looking at an object of a class called str."
   ]
  },
  {
   "cell_type": "code",
   "execution_count": null,
   "id": "5e679841",
   "metadata": {},
   "outputs": [],
   "source": [
    "n1 = 30\n",
    "'''\n",
    "block comment 1\n",
    "block comment 2\n",
    "block comment 3\n",
    "\n",
    "'''\n",
    "print(n1)"
   ]
  },
  {
   "cell_type": "code",
   "execution_count": null,
   "id": "16b41dc5",
   "metadata": {},
   "outputs": [],
   "source": [
    "n1 = 30\n",
    "n1"
   ]
  },
  {
   "cell_type": "code",
   "execution_count": null,
   "id": "b7debe31",
   "metadata": {},
   "outputs": [],
   "source": [
    "n1 = 30\n",
    "'''\n",
    "block comment 1\n",
    "block comment 2\n",
    "block comment 3\n",
    "\n",
    "'''"
   ]
  },
  {
   "cell_type": "markdown",
   "id": "60ae3464",
   "metadata": {},
   "source": [
    "Variable Naming"
   ]
  },
  {
   "cell_type": "code",
   "execution_count": null,
   "id": "0c09e185",
   "metadata": {},
   "outputs": [],
   "source": [
    "var1 = 20\n",
    "VAR1 = 'Hello'  ##  case sensitive\n",
    "\n",
    "print(var1)\n",
    "print(VAR1)"
   ]
  },
  {
   "cell_type": "code",
   "execution_count": null,
   "id": "bffbd137",
   "metadata": {},
   "outputs": [],
   "source": [
    "91index = 30"
   ]
  },
  {
   "cell_type": "code",
   "execution_count": null,
   "id": "98d679ea",
   "metadata": {},
   "outputs": [],
   "source": [
    "index@nse = 60000"
   ]
  },
  {
   "cell_type": "code",
   "execution_count": null,
   "id": "4d58e4c1",
   "metadata": {},
   "outputs": [],
   "source": [
    "if = 40"
   ]
  },
  {
   "cell_type": "code",
   "execution_count": null,
   "id": "10834fb0",
   "metadata": {},
   "outputs": [],
   "source": [
    "import keyword\n",
    "print(keyword.kwlist)"
   ]
  },
  {
   "cell_type": "code",
   "execution_count": null,
   "id": "6554d5fb",
   "metadata": {},
   "outputs": [],
   "source": [
    "print(type(keyword))"
   ]
  },
  {
   "cell_type": "markdown",
   "id": "a5ed3be2",
   "metadata": {},
   "source": [
    "Indentation"
   ]
  },
  {
   "cell_type": "code",
   "execution_count": null,
   "id": "28f21d6b",
   "metadata": {},
   "outputs": [],
   "source": [
    "sensor = 0\n",
    "\n",
    "if sensor == 0:\n",
    "    print('level is low')\n",
    "     print('switch on motor')\n",
    "else:\n",
    "    print('level is high')\n",
    "    print('switch off motor')\n",
    "    "
   ]
  },
  {
   "cell_type": "code",
   "execution_count": null,
   "id": "d9812038",
   "metadata": {},
   "outputs": [],
   "source": [
    "sensor = 0\n",
    "\n",
    "if sensor == 0:\n",
    "     print('level is low')\n",
    "     print('switch on motor')\n",
    "else:\n",
    "    print('level is high')\n",
    "    print('switch off motor')"
   ]
  },
  {
   "cell_type": "markdown",
   "id": "ffd4e448",
   "metadata": {},
   "source": [
    "# Assignment "
   ]
  },
  {
   "cell_type": "code",
   "execution_count": null,
   "id": "48af55be",
   "metadata": {},
   "outputs": [],
   "source": [
    "myint1 = 20\n",
    "myint2 = 20\n",
    "\n",
    "print(type(myint1))\n",
    "print(type(myint2))"
   ]
  },
  {
   "cell_type": "code",
   "execution_count": null,
   "id": "5060abe7",
   "metadata": {},
   "outputs": [],
   "source": [
    "myint1 = int(20)\n",
    "myint2 = int(20)\n",
    "\n",
    "print(type(myint1))\n",
    "print(type(myint2))"
   ]
  },
  {
   "cell_type": "code",
   "execution_count": null,
   "id": "5877874d",
   "metadata": {},
   "outputs": [],
   "source": [
    "myint1 = 20\n",
    "myint2 = 20\n",
    "\n",
    "print(type(myint1))\n",
    "print(type(myint2))\n",
    "\n",
    "print(id(myint1))\n",
    "print(id(myint2))"
   ]
  },
  {
   "cell_type": "code",
   "execution_count": null,
   "id": "bae189ca",
   "metadata": {},
   "outputs": [],
   "source": [
    "myint1 = 2000\n",
    "myint2 = 2000\n",
    "\n",
    "\n",
    "print(type(myint1))\n",
    "print(type(myint2)) #  type returns the class name\n",
    "\n",
    "print(id(myint1))\n",
    "print(id(myint2))  ##  id returns the virtual address of the obj"
   ]
  },
  {
   "cell_type": "code",
   "execution_count": null,
   "id": "3cec6f67",
   "metadata": {},
   "outputs": [],
   "source": [
    "var1 = 'hello'\n",
    "print(type(var1))\n",
    "print(id(var1))\n",
    "print(var1[0])"
   ]
  },
  {
   "cell_type": "code",
   "execution_count": null,
   "id": "ae23365b",
   "metadata": {},
   "outputs": [],
   "source": [
    "var1 = [20,30,'python']\n",
    "print(type(var1))\n",
    "print(id(var1))\n",
    "print(var1[0])\n",
    "var1[0] = 2000\n",
    "print(var1)"
   ]
  },
  {
   "cell_type": "code",
   "execution_count": null,
   "id": "697d539f",
   "metadata": {},
   "outputs": [],
   "source": [
    "var1 = (200,300,'python')\n",
    "print(type(var1))\n",
    "print(id(var1))\n",
    "print(var1[0])\n",
    "var1[0] = 2000\n",
    "print(var1)"
   ]
  },
  {
   "cell_type": "code",
   "execution_count": null,
   "id": "8aef6b93",
   "metadata": {},
   "outputs": [],
   "source": [
    "var1 = {'Bank':'SBI', 'Branch':'MGROAD'}\n",
    "print(type(var1))\n",
    "print(id(var1))\n",
    "print(var1['Branch'])"
   ]
  },
  {
   "cell_type": "code",
   "execution_count": null,
   "id": "ef4ba717",
   "metadata": {},
   "outputs": [],
   "source": [
    "a = 2345\n",
    "b = 2345\n",
    "c = 2345\n",
    "\n",
    "print(id(a), id(b), id(c))"
   ]
  },
  {
   "cell_type": "code",
   "execution_count": null,
   "id": "c2828a9c",
   "metadata": {},
   "outputs": [],
   "source": [
    "a = b = c= 2345\n",
    "\n",
    "print(id(a), id(b), id(c))"
   ]
  },
  {
   "cell_type": "code",
   "execution_count": null,
   "id": "72dd347a",
   "metadata": {},
   "outputs": [],
   "source": [
    "# Positional Mapping\n",
    "\n",
    "v0,v1,v2 = 90, 'Python',87.91\n",
    "print(v0)\n",
    "print(v1)\n",
    "print(v2)"
   ]
  },
  {
   "cell_type": "markdown",
   "id": "6229e5bc",
   "metadata": {},
   "source": [
    "Keyboard Input"
   ]
  },
  {
   "cell_type": "code",
   "execution_count": null,
   "id": "540e995f",
   "metadata": {},
   "outputs": [],
   "source": [
    "name1 = input('Enter subject: ')\n",
    "print(name1)\n",
    "print(type(name1))\n",
    "print(len(name1))"
   ]
  },
  {
   "cell_type": "code",
   "execution_count": null,
   "id": "8ffb75d4",
   "metadata": {},
   "outputs": [],
   "source": [
    "marks = input('enter marks')\n",
    "print(marks)\n",
    "print(type(marks))\n",
    "\n",
    "marks1 = int(marks)\n",
    "print(type(marks1))\n",
    "newmarks = marks1 + 5\n",
    "print(newmarks)"
   ]
  },
  {
   "cell_type": "code",
   "execution_count": null,
   "id": "639d7c23",
   "metadata": {},
   "outputs": [],
   "source": [
    "int('789')"
   ]
  },
  {
   "cell_type": "code",
   "execution_count": null,
   "id": "70907ca6",
   "metadata": {},
   "outputs": [],
   "source": [
    "int('hello')"
   ]
  },
  {
   "cell_type": "code",
   "execution_count": null,
   "id": "f392675d",
   "metadata": {},
   "outputs": [],
   "source": [
    "str(987.78)"
   ]
  },
  {
   "cell_type": "code",
   "execution_count": null,
   "id": "6cc94517",
   "metadata": {},
   "outputs": [],
   "source": [
    "int(56.78)"
   ]
  },
  {
   "cell_type": "code",
   "execution_count": null,
   "id": "8a124d62",
   "metadata": {},
   "outputs": [],
   "source": [
    "float(67)"
   ]
  },
  {
   "cell_type": "markdown",
   "id": "579c981b",
   "metadata": {},
   "source": [
    "# Operators"
   ]
  },
  {
   "cell_type": "code",
   "execution_count": null,
   "id": "c58abf0e",
   "metadata": {},
   "outputs": [],
   "source": [
    "2 ** 3"
   ]
  },
  {
   "cell_type": "code",
   "execution_count": null,
   "id": "63a3e077",
   "metadata": {},
   "outputs": [],
   "source": [
    "15 // 6"
   ]
  },
  {
   "cell_type": "code",
   "execution_count": null,
   "id": "65b7b290",
   "metadata": {},
   "outputs": [],
   "source": [
    "15 % 6"
   ]
  },
  {
   "cell_type": "code",
   "execution_count": null,
   "id": "0d90c1de",
   "metadata": {},
   "outputs": [],
   "source": [
    "15/6"
   ]
  },
  {
   "cell_type": "code",
   "execution_count": null,
   "id": "3ec25d19",
   "metadata": {},
   "outputs": [],
   "source": [
    "12 == (4*3)"
   ]
  },
  {
   "cell_type": "code",
   "execution_count": null,
   "id": "95b151f2",
   "metadata": {},
   "outputs": [],
   "source": [
    "12 != 34"
   ]
  },
  {
   "cell_type": "code",
   "execution_count": null,
   "id": "4a94dda8",
   "metadata": {},
   "outputs": [],
   "source": [
    "br = 12 == 34\n",
    "print(type(br))\n",
    "print(br)"
   ]
  },
  {
   "cell_type": "code",
   "execution_count": null,
   "id": "ba0a095e",
   "metadata": {},
   "outputs": [],
   "source": [
    "br = (12 == 34)\n",
    "print(type(br))\n",
    "print(br)"
   ]
  },
  {
   "cell_type": "code",
   "execution_count": null,
   "id": "6919ea21",
   "metadata": {},
   "outputs": [],
   "source": [
    "a = 45\n",
    "not(a)"
   ]
  },
  {
   "cell_type": "code",
   "execution_count": null,
   "id": "95eba6e5",
   "metadata": {},
   "outputs": [],
   "source": [
    "not(bool(a))"
   ]
  },
  {
   "cell_type": "code",
   "execution_count": null,
   "id": "ca71c2ae",
   "metadata": {},
   "outputs": [],
   "source": [
    "bool(0)"
   ]
  },
  {
   "cell_type": "code",
   "execution_count": null,
   "id": "a09904ec",
   "metadata": {},
   "outputs": [],
   "source": [
    "bool(-1)"
   ]
  },
  {
   "cell_type": "code",
   "execution_count": null,
   "id": "1281f4a1",
   "metadata": {},
   "outputs": [],
   "source": [
    "bool('False')"
   ]
  },
  {
   "cell_type": "code",
   "execution_count": null,
   "id": "458893bd",
   "metadata": {},
   "outputs": [],
   "source": [
    "bool('')"
   ]
  },
  {
   "cell_type": "code",
   "execution_count": null,
   "id": "da1b512b",
   "metadata": {},
   "outputs": [],
   "source": [
    "bool([1,2,3])"
   ]
  },
  {
   "cell_type": "code",
   "execution_count": null,
   "id": "72b80f27",
   "metadata": {},
   "outputs": [],
   "source": [
    "bool([])"
   ]
  },
  {
   "cell_type": "code",
   "execution_count": null,
   "id": "1570b0a9",
   "metadata": {},
   "outputs": [],
   "source": [
    "int(True)"
   ]
  },
  {
   "cell_type": "code",
   "execution_count": null,
   "id": "0fa6a68b",
   "metadata": {},
   "outputs": [],
   "source": [
    "int(False)"
   ]
  },
  {
   "cell_type": "code",
   "execution_count": null,
   "id": "82584056",
   "metadata": {},
   "outputs": [],
   "source": [
    "int(bool(100))"
   ]
  },
  {
   "cell_type": "markdown",
   "id": "d96a67ee",
   "metadata": {},
   "source": [
    "# Function Syntax"
   ]
  },
  {
   "cell_type": "code",
   "execution_count": null,
   "id": "c6d6a6ae",
   "metadata": {},
   "outputs": [],
   "source": [
    "def mf1(p0,p1):\n",
    "    s = p0 + p1\n",
    "    print(p0,p1,s)\n",
    "    \n",
    "    return s\n",
    "\n",
    "    print(2000)"
   ]
  },
  {
   "cell_type": "code",
   "execution_count": null,
   "id": "cf30bd49",
   "metadata": {},
   "outputs": [],
   "source": [
    "r = mf1(100,200)\n",
    "print(r)"
   ]
  },
  {
   "cell_type": "code",
   "execution_count": null,
   "id": "df90bd5a",
   "metadata": {},
   "outputs": [],
   "source": [
    "r = mf1('python', 'data')\n",
    "print(r)"
   ]
  },
  {
   "cell_type": "code",
   "execution_count": null,
   "id": "69a9f3da",
   "metadata": {},
   "outputs": [],
   "source": [
    "def mf2(p0,p1):\n",
    "    s = p0 + p1\n",
    "    print(p0,p1,s)\n",
    "    \n",
    "r = mf2(100,200)\n",
    "print(r)\n",
    "print(type(r))"
   ]
  },
  {
   "cell_type": "code",
   "execution_count": null,
   "id": "f270cb33",
   "metadata": {},
   "outputs": [],
   "source": [
    "def mf2():\n",
    "    return (10,20)\n",
    "\n",
    "r = mf2()\n",
    "print(type(r))\n",
    "print(r)"
   ]
  },
  {
   "cell_type": "code",
   "execution_count": null,
   "id": "24331a0f",
   "metadata": {},
   "outputs": [],
   "source": [
    "def mf2():\n",
    "    return 10,20\n",
    "\n",
    "r = mf2()\n",
    "print(type(r))\n",
    "print(r)"
   ]
  },
  {
   "cell_type": "code",
   "execution_count": null,
   "id": "9b43c497",
   "metadata": {},
   "outputs": [],
   "source": [
    "c = (10,100)\n",
    "a,b = c\n",
    "print(a,b)"
   ]
  },
  {
   "cell_type": "code",
   "execution_count": null,
   "id": "ad9b162b",
   "metadata": {},
   "outputs": [],
   "source": [
    "c = [10,100]\n",
    "a,b = c\n",
    "print(a,b)"
   ]
  },
  {
   "cell_type": "code",
   "execution_count": null,
   "id": "532f1b04",
   "metadata": {},
   "outputs": [],
   "source": [
    "a,b = (10,100)\n",
    "print(a,b)"
   ]
  },
  {
   "cell_type": "code",
   "execution_count": null,
   "id": "d518fcca",
   "metadata": {},
   "outputs": [],
   "source": [
    "c = 10,100\n",
    "print(c)"
   ]
  },
  {
   "cell_type": "code",
   "execution_count": null,
   "id": "3f6802bb",
   "metadata": {},
   "outputs": [],
   "source": [
    "a,b = 10,100\n",
    "print(a,b,)"
   ]
  },
  {
   "cell_type": "code",
   "execution_count": null,
   "id": "18bdbc94",
   "metadata": {},
   "outputs": [],
   "source": [
    "def tempcheck(temp):\n",
    "    if temp > 99:\n",
    "        return 'Hot'\n",
    "    elif temp < 60:\n",
    "        return 'Cold'\n",
    "    else:\n",
    "        return 'Right'"
   ]
  },
  {
   "cell_type": "code",
   "execution_count": null,
   "id": "dba48be2",
   "metadata": {},
   "outputs": [],
   "source": [
    "tempcheck(100)"
   ]
  },
  {
   "cell_type": "code",
   "execution_count": null,
   "id": "83d832e6",
   "metadata": {},
   "outputs": [],
   "source": [
    "tempcheck(55)"
   ]
  },
  {
   "cell_type": "code",
   "execution_count": null,
   "id": "9586428a",
   "metadata": {},
   "outputs": [],
   "source": [
    "tempcheck(75)"
   ]
  },
  {
   "cell_type": "markdown",
   "id": "b64c1ca6",
   "metadata": {},
   "source": [
    "# Strings"
   ]
  },
  {
   "cell_type": "code",
   "execution_count": null,
   "id": "4e94862a",
   "metadata": {},
   "outputs": [],
   "source": [
    "ms1 = 'python data'\n",
    "print(type(ms1))\n",
    "print(len(ms1))\n",
    "print(ms1)"
   ]
  },
  {
   "cell_type": "code",
   "execution_count": null,
   "id": "3a0052e3",
   "metadata": {},
   "outputs": [],
   "source": [
    "ms1[0]"
   ]
  },
  {
   "cell_type": "code",
   "execution_count": null,
   "id": "55ce9d80",
   "metadata": {},
   "outputs": [],
   "source": [
    "ms1[0] ='j'"
   ]
  },
  {
   "cell_type": "code",
   "execution_count": null,
   "id": "70113ce0",
   "metadata": {},
   "outputs": [],
   "source": [
    "ms1 = 'abcdefghijkl'\n",
    "print(ms1)\n",
    "print(ms1[::-1])\n",
    "print(ms1[::-2])"
   ]
  },
  {
   "cell_type": "code",
   "execution_count": null,
   "id": "a3ecc04e",
   "metadata": {},
   "outputs": [],
   "source": [
    "'python' + 'data'"
   ]
  },
  {
   "cell_type": "code",
   "execution_count": null,
   "id": "67f1463a",
   "metadata": {},
   "outputs": [],
   "source": [
    "'python' * 3"
   ]
  },
  {
   "cell_type": "code",
   "execution_count": null,
   "id": "ae47722d",
   "metadata": {},
   "outputs": [],
   "source": [
    "'python' in 'python data science'   ## membership operator. "
   ]
  },
  {
   "cell_type": "code",
   "execution_count": null,
   "id": "5e9242f5",
   "metadata": {},
   "outputs": [],
   "source": [
    "'python' in 'R  data science'"
   ]
  },
  {
   "cell_type": "code",
   "execution_count": null,
   "id": "e8c27f42",
   "metadata": {},
   "outputs": [],
   "source": [
    "'python' not in 'R  data science'"
   ]
  },
  {
   "cell_type": "code",
   "execution_count": null,
   "id": "8b3146ba",
   "metadata": {},
   "outputs": [],
   "source": [
    "print(type('hello'))"
   ]
  },
  {
   "cell_type": "code",
   "execution_count": null,
   "id": "b2615279",
   "metadata": {},
   "outputs": [],
   "source": [
    "print(dir(str))"
   ]
  },
  {
   "cell_type": "code",
   "execution_count": null,
   "id": "22905a31",
   "metadata": {},
   "outputs": [],
   "source": [
    "help(str.replace)"
   ]
  },
  {
   "cell_type": "code",
   "execution_count": null,
   "id": "a326e377",
   "metadata": {},
   "outputs": [],
   "source": [
    "ms1 = 'king ring SING'\n",
    "ns1 = ms1.replace('ng','ms')\n",
    "print(ns1)"
   ]
  },
  {
   "cell_type": "code",
   "execution_count": null,
   "id": "baefd761",
   "metadata": {},
   "outputs": [],
   "source": [
    "id(ms1)"
   ]
  },
  {
   "cell_type": "code",
   "execution_count": null,
   "id": "21da145f",
   "metadata": {},
   "outputs": [],
   "source": [
    "id(ns1)"
   ]
  },
  {
   "cell_type": "code",
   "execution_count": null,
   "id": "a496ceb9",
   "metadata": {},
   "outputs": [],
   "source": [
    "ms1 = 'king ring SING'\n",
    "print(id(ms1))\n",
    "ms1 = ms1.replace('ng','ms')\n",
    "print(id(ms1))\n",
    "print(ms1)"
   ]
  },
  {
   "cell_type": "code",
   "execution_count": null,
   "id": "303e8836",
   "metadata": {},
   "outputs": [],
   "source": [
    "ms1 = 'king ring SING'\n",
    "print(id(ms1))\n",
    "ms1 = ms1.replace('ng','ms', 1)\n",
    "print(id(ms1))\n",
    "print(ms1)"
   ]
  },
  {
   "cell_type": "code",
   "execution_count": null,
   "id": "9bb50744",
   "metadata": {},
   "outputs": [],
   "source": [
    "ms1 = 'king ring SING'\n",
    "print(id(ms1))\n",
    "ms1 = str.replace(ms1, 'ng','ms', 1)\n",
    "print(id(ms1))\n",
    "print(ms1)"
   ]
  },
  {
   "cell_type": "code",
   "execution_count": null,
   "id": "0bf8b019",
   "metadata": {},
   "outputs": [],
   "source": [
    "ms1 = 'king ring SING'\n",
    "index = ms1.find('g')\n",
    "print(index)"
   ]
  },
  {
   "cell_type": "code",
   "execution_count": null,
   "id": "596fb4a5",
   "metadata": {},
   "outputs": [],
   "source": [
    "ms1 = 'king ring SING'\n",
    "index = ms1.find('g',4)\n",
    "print(index)"
   ]
  },
  {
   "cell_type": "code",
   "execution_count": null,
   "id": "689f7775",
   "metadata": {},
   "outputs": [],
   "source": [
    "ms1 = 'king ring SING'\n",
    "index = ms1.find('g',9,11)\n",
    "print(index)"
   ]
  },
  {
   "cell_type": "code",
   "execution_count": null,
   "id": "5f23d24f",
   "metadata": {},
   "outputs": [],
   "source": [
    "ms1 = 'king ring SING'\n",
    "c = ms1.count('g')\n",
    "print(c)"
   ]
  },
  {
   "cell_type": "code",
   "execution_count": null,
   "id": "d8e7d21f",
   "metadata": {},
   "outputs": [],
   "source": [
    "ms1 = 'king RING SIng'\n",
    "ms1.count('g')"
   ]
  },
  {
   "cell_type": "code",
   "execution_count": null,
   "id": "170d4a2f",
   "metadata": {},
   "outputs": [],
   "source": [
    "ms1 = 'king RING SIng'\n",
    "ms1.lower()"
   ]
  },
  {
   "cell_type": "code",
   "execution_count": null,
   "id": "ca0e16b3",
   "metadata": {},
   "outputs": [],
   "source": [
    "ms1 = 'king RING SIng'\n",
    "ms1.upper()"
   ]
  },
  {
   "cell_type": "code",
   "execution_count": null,
   "id": "fc4447ee",
   "metadata": {},
   "outputs": [],
   "source": [
    "ms1 = 'king RING SIng'\n",
    "ms1.swapcase()"
   ]
  },
  {
   "cell_type": "code",
   "execution_count": null,
   "id": "79151419",
   "metadata": {},
   "outputs": [],
   "source": [
    "ms1 = 'king RING SIng'\n",
    "ms1.title()\n"
   ]
  },
  {
   "cell_type": "code",
   "execution_count": null,
   "id": "0c400822",
   "metadata": {},
   "outputs": [],
   "source": [
    "ms1 = 'king RING SIng'\n",
    "ms1.capitalize()"
   ]
  },
  {
   "cell_type": "code",
   "execution_count": null,
   "id": "a243f454",
   "metadata": {},
   "outputs": [],
   "source": [
    "\"2023\".isdigit()"
   ]
  },
  {
   "cell_type": "code",
   "execution_count": null,
   "id": "b3e5f0ff",
   "metadata": {},
   "outputs": [],
   "source": [
    "\"2023july\".isdigit()"
   ]
  },
  {
   "cell_type": "code",
   "execution_count": null,
   "id": "30885246",
   "metadata": {},
   "outputs": [],
   "source": [
    "\"2023july\".isalnum()"
   ]
  },
  {
   "cell_type": "markdown",
   "id": "5bab482b",
   "metadata": {},
   "source": [
    "Split and Join"
   ]
  },
  {
   "cell_type": "code",
   "execution_count": null,
   "id": "c1f82592",
   "metadata": {},
   "outputs": [],
   "source": [
    "ms1 = 'world health org geneva'"
   ]
  },
  {
   "cell_type": "code",
   "execution_count": null,
   "id": "de845cfe",
   "metadata": {},
   "outputs": [],
   "source": [
    "ms1.split()"
   ]
  },
  {
   "cell_type": "code",
   "execution_count": null,
   "id": "9acff84a",
   "metadata": {},
   "outputs": [],
   "source": [
    "ms1.split(' ',1)"
   ]
  },
  {
   "cell_type": "code",
   "execution_count": null,
   "id": "f92ff955",
   "metadata": {},
   "outputs": [],
   "source": [
    "ms1 = 'world health org, geneva'\n",
    "ms1.split(',')"
   ]
  },
  {
   "cell_type": "code",
   "execution_count": null,
   "id": "79f975af",
   "metadata": {},
   "outputs": [],
   "source": [
    "strlist = ['python', 'data', 'science', 'pes']\n",
    "\n",
    "ns1 = '::'.join(strlist)\n",
    "ns1"
   ]
  },
  {
   "cell_type": "code",
   "execution_count": null,
   "id": "b82b83c0",
   "metadata": {},
   "outputs": [],
   "source": [
    "strlist = ['python', 'data', 'science', 'pes']\n",
    "\n",
    "delimiter = '__'\n",
    "ns1 = delimiter.join(strlist)\n",
    "ns1"
   ]
  },
  {
   "cell_type": "markdown",
   "id": "b526e3ad",
   "metadata": {},
   "source": [
    "# Pythonic way of Printing"
   ]
  },
  {
   "cell_type": "code",
   "execution_count": null,
   "id": "85caf268",
   "metadata": {},
   "outputs": [],
   "source": [
    "print(dir(str))"
   ]
  },
  {
   "cell_type": "code",
   "execution_count": null,
   "id": "e8e1dbc6",
   "metadata": {},
   "outputs": [],
   "source": [
    "# average marks in physics of 50 students is 98.31"
   ]
  },
  {
   "cell_type": "code",
   "execution_count": null,
   "id": "2b3e7b33",
   "metadata": {},
   "outputs": [],
   "source": [
    "average = 98.31\n",
    "sub = 'Physics'\n",
    "nums = 50\n",
    "\n",
    "\n",
    "## unconstrained place holders.  positional mapping\n",
    "print('Average marks in {} of {} students is {}'.format(sub, nums,average))"
   ]
  },
  {
   "cell_type": "code",
   "execution_count": null,
   "id": "3b9b765b",
   "metadata": {},
   "outputs": [],
   "source": [
    "print('Average marks in {} of {} students is {}'.format(nums,nums,nums))"
   ]
  },
  {
   "cell_type": "code",
   "execution_count": null,
   "id": "a76bfea2",
   "metadata": {},
   "outputs": [],
   "source": [
    "## parameter number constraints\n",
    "print('Average marks in {2} of {0} students is {1}'.format(sub, nums,average))"
   ]
  },
  {
   "cell_type": "code",
   "execution_count": null,
   "id": "36d8c050",
   "metadata": {},
   "outputs": [],
   "source": [
    "print('Average marks in {:s} of {:d} students is {:f}'.format(sub, nums,average))"
   ]
  },
  {
   "cell_type": "code",
   "execution_count": null,
   "id": "6f78e426",
   "metadata": {},
   "outputs": [],
   "source": [
    "# data type constraint\n",
    "print('Average marks in {:s} of {:d} students is {:f}'.format(nums, sub, average))"
   ]
  },
  {
   "cell_type": "code",
   "execution_count": null,
   "id": "19eb058c",
   "metadata": {},
   "outputs": [],
   "source": [
    "average = 98.31\n",
    "sub = 'Physics'\n",
    "nums = 50\n",
    "\n",
    "\n",
    "## datatype and parameter index constraint\n",
    "ns1 = 'Average marks in {1:s} of {2:d} students is {0:f}'.format(average, sub, nums)\n",
    "print(ns1)"
   ]
  },
  {
   "cell_type": "code",
   "execution_count": null,
   "id": "cb10fd92",
   "metadata": {},
   "outputs": [],
   "source": [
    "average = 98.31\n",
    "sub = 'Physics'\n",
    "nums = 50\n",
    "\n",
    "\n",
    "## datatype and parameter index constraint\n",
    "ns1 = 'Average marks in {1:s} of {2:d} students is {0:.2f}'.format(round(average,2), sub, nums)\n",
    "print(ns1)"
   ]
  },
  {
   "cell_type": "code",
   "execution_count": null,
   "id": "5b16f1d3",
   "metadata": {},
   "outputs": [],
   "source": [
    "average = 98.31\n",
    "sub = 'Physics'\n",
    "nums = 50\n",
    "\n",
    "\n",
    "## datatype and parameter index constraint\n",
    "ns1 = 'Average marks in {1:s} of {2:d} students is {0:.2f} {2:d}'.format(round(average,2), sub, nums,100)\n",
    "print(ns1)"
   ]
  },
  {
   "cell_type": "code",
   "execution_count": null,
   "id": "22f42aff",
   "metadata": {},
   "outputs": [],
   "source": [
    "ns1 = \"{}\".format('python')\n",
    "ns1"
   ]
  },
  {
   "cell_type": "code",
   "execution_count": null,
   "id": "6cbc6e4f",
   "metadata": {},
   "outputs": [],
   "source": [
    "ns1 = \"s{:20}e\".format('python')\n",
    "ns1"
   ]
  },
  {
   "cell_type": "code",
   "execution_count": null,
   "id": "84c844ee",
   "metadata": {},
   "outputs": [],
   "source": [
    "ns1 = \"s{:<20}e\".format('python')\n",
    "ns1"
   ]
  },
  {
   "cell_type": "code",
   "execution_count": null,
   "id": "bb5bcc7b",
   "metadata": {},
   "outputs": [],
   "source": [
    "ns1 = \"s{:>20}e\".format('python')\n",
    "ns1"
   ]
  },
  {
   "cell_type": "code",
   "execution_count": null,
   "id": "cd98e5b8",
   "metadata": {},
   "outputs": [],
   "source": [
    "ns1 = \"s{:^20}e\".format('python')\n",
    "ns1"
   ]
  },
  {
   "cell_type": "code",
   "execution_count": null,
   "id": "4e917f5c",
   "metadata": {},
   "outputs": [],
   "source": [
    "help('FORMATTING')"
   ]
  },
  {
   "cell_type": "code",
   "execution_count": null,
   "id": "58381415",
   "metadata": {},
   "outputs": [],
   "source": [
    "ns1 = \"s{:*^20}e\".format('python')\n",
    "ns1"
   ]
  },
  {
   "cell_type": "code",
   "execution_count": null,
   "id": "c7a1ab0b",
   "metadata": {},
   "outputs": [],
   "source": [
    "len(ns1)"
   ]
  },
  {
   "cell_type": "code",
   "execution_count": null,
   "id": "ef2f0079",
   "metadata": {},
   "outputs": [],
   "source": [
    "for i in range(1,20,2):\n",
    "    print('{:^20}'.format('*'*i))"
   ]
  },
  {
   "cell_type": "markdown",
   "id": "bf634771",
   "metadata": {},
   "source": [
    "Escape Seq"
   ]
  },
  {
   "cell_type": "code",
   "execution_count": null,
   "id": "e2725691",
   "metadata": {},
   "outputs": [],
   "source": [
    "print('nse mumbai')"
   ]
  },
  {
   "cell_type": "code",
   "execution_count": null,
   "id": "cc6614ae",
   "metadata": {},
   "outputs": [],
   "source": [
    "print('nse\\nmumbai')"
   ]
  },
  {
   "cell_type": "code",
   "execution_count": null,
   "id": "3fe46d68",
   "metadata": {},
   "outputs": [],
   "source": [
    "print('nse\\tmumbai')"
   ]
  },
  {
   "cell_type": "code",
   "execution_count": null,
   "id": "e3c6351b",
   "metadata": {},
   "outputs": [],
   "source": [
    "print('nse\\bmumbai')"
   ]
  },
  {
   "cell_type": "code",
   "execution_count": null,
   "id": "1481d742",
   "metadata": {},
   "outputs": [],
   "source": [
    "print('nse\\pmumbai')"
   ]
  },
  {
   "cell_type": "raw",
   "id": "6e254c47",
   "metadata": {},
   "source": [
    "\"c:\\tiger\""
   ]
  },
  {
   "cell_type": "code",
   "execution_count": null,
   "id": "2ec78416",
   "metadata": {},
   "outputs": [],
   "source": [
    "print(\"c:\\tiger\")"
   ]
  },
  {
   "cell_type": "code",
   "execution_count": null,
   "id": "2420ac60",
   "metadata": {},
   "outputs": [],
   "source": [
    "print(\"c:\\\\tiger\")"
   ]
  },
  {
   "cell_type": "markdown",
   "id": "0c9afb2f",
   "metadata": {},
   "source": [
    "# LIST"
   ]
  },
  {
   "cell_type": "code",
   "execution_count": null,
   "id": "de0a5900",
   "metadata": {},
   "outputs": [],
   "source": [
    "mylist1 = list('python')\n",
    "mylist1"
   ]
  },
  {
   "cell_type": "code",
   "execution_count": null,
   "id": "4f2d7918",
   "metadata": {},
   "outputs": [],
   "source": [
    "mylist1 = ['p', 'y', 't', 'h', 'o', 'n']"
   ]
  },
  {
   "cell_type": "code",
   "execution_count": null,
   "id": "4e7f531c",
   "metadata": {},
   "outputs": [],
   "source": [
    "len(mylist1)"
   ]
  },
  {
   "cell_type": "code",
   "execution_count": null,
   "id": "655b6002",
   "metadata": {},
   "outputs": [],
   "source": [
    "mylist1[0]"
   ]
  },
  {
   "cell_type": "code",
   "execution_count": null,
   "id": "6392042e",
   "metadata": {},
   "outputs": [],
   "source": [
    "mylist1[0] = 'j'  ##  Lists are mutable types"
   ]
  },
  {
   "cell_type": "code",
   "execution_count": null,
   "id": "ef55866d",
   "metadata": {},
   "outputs": [],
   "source": [
    "print(mylist1)"
   ]
  },
  {
   "cell_type": "code",
   "execution_count": null,
   "id": "583ba70b",
   "metadata": {},
   "outputs": [],
   "source": [
    "''.join(mylist1)"
   ]
  },
  {
   "cell_type": "code",
   "execution_count": null,
   "id": "a8654a1e",
   "metadata": {},
   "outputs": [],
   "source": [
    "[1,2,3] + [4,5,6]"
   ]
  },
  {
   "cell_type": "code",
   "execution_count": null,
   "id": "cafee7e5",
   "metadata": {},
   "outputs": [],
   "source": [
    "[1,2,3] * 3"
   ]
  },
  {
   "cell_type": "code",
   "execution_count": null,
   "id": "ae69e769",
   "metadata": {},
   "outputs": [],
   "source": [
    "mylist1 = list('pythondatascience')\n",
    "mylist1"
   ]
  },
  {
   "cell_type": "code",
   "execution_count": null,
   "id": "a84e6a39",
   "metadata": {},
   "outputs": [],
   "source": [
    "'z' in mylist1"
   ]
  },
  {
   "cell_type": "code",
   "execution_count": null,
   "id": "62972557",
   "metadata": {},
   "outputs": [],
   "source": [
    "mylist1[2:10:2]"
   ]
  },
  {
   "cell_type": "code",
   "execution_count": null,
   "id": "92d85272",
   "metadata": {},
   "outputs": [],
   "source": [
    "print(type(mylist1))"
   ]
  },
  {
   "cell_type": "code",
   "execution_count": null,
   "id": "950c1329",
   "metadata": {},
   "outputs": [],
   "source": [
    "print(dir(list))"
   ]
  },
  {
   "cell_type": "code",
   "execution_count": null,
   "id": "dd14c2db",
   "metadata": {},
   "outputs": [],
   "source": [
    "mylist1 = [1,3,5]\n",
    "a = mylist1.append('hello')\n",
    "print(a)\n",
    "print(mylist1)"
   ]
  },
  {
   "cell_type": "code",
   "execution_count": null,
   "id": "38115e57",
   "metadata": {},
   "outputs": [],
   "source": [
    "mylist1 = [1,3,5]\n",
    "mylist1.append('hello')\n",
    "print(mylist1)"
   ]
  },
  {
   "cell_type": "code",
   "execution_count": null,
   "id": "e716a4f2",
   "metadata": {},
   "outputs": [],
   "source": [
    "mylist1 = [1,3,5]\n",
    "mylist1.append(['hello', 'python'])\n",
    "print(mylist1)"
   ]
  },
  {
   "cell_type": "code",
   "execution_count": null,
   "id": "3ff66efd",
   "metadata": {},
   "outputs": [],
   "source": [
    "mylist1 = [1,3,5]\n",
    "mylist1.extend(['hello', 'python'])\n",
    "print(mylist1)"
   ]
  },
  {
   "cell_type": "code",
   "execution_count": null,
   "id": "c9ecb2b3",
   "metadata": {},
   "outputs": [],
   "source": [
    "mylist1 = [1,3,5]\n",
    "mylist1.append('hello').append('python')"
   ]
  },
  {
   "cell_type": "code",
   "execution_count": null,
   "id": "1c8068bf",
   "metadata": {},
   "outputs": [],
   "source": [
    "mylist1 = [1,3,5]\n",
    "mylist1.insert(0,'hello')\n",
    "mylist1"
   ]
  },
  {
   "cell_type": "code",
   "execution_count": null,
   "id": "435d811b",
   "metadata": {},
   "outputs": [],
   "source": [
    "mylist1 = [1,3,5]\n",
    "mylist1.insert(-1,'hello')\n",
    "mylist1"
   ]
  },
  {
   "cell_type": "code",
   "execution_count": null,
   "id": "3ae233f4",
   "metadata": {},
   "outputs": [],
   "source": [
    "mylist1 = [1,3,5]\n",
    "mylist1.insert(len(mylist1),'hello')\n",
    "mylist1"
   ]
  },
  {
   "cell_type": "code",
   "execution_count": null,
   "id": "52c55dd1",
   "metadata": {},
   "outputs": [],
   "source": [
    "mylist1 = [1,3,5]\n",
    "mylist1.insert(1000,'hello')\n",
    "mylist1"
   ]
  },
  {
   "cell_type": "code",
   "execution_count": null,
   "id": "77ca2436",
   "metadata": {},
   "outputs": [],
   "source": [
    "mylist1 = [1,3,5]\n",
    "r = mylist1.pop()\n",
    "print(r)\n",
    "mylist1"
   ]
  },
  {
   "cell_type": "code",
   "execution_count": null,
   "id": "811661f0",
   "metadata": {},
   "outputs": [],
   "source": [
    "mylist1 = [1,3,5]\n",
    "r = mylist1.pop(1)\n",
    "print(r)\n",
    "mylist1"
   ]
  },
  {
   "cell_type": "code",
   "execution_count": null,
   "id": "94d00a52",
   "metadata": {},
   "outputs": [],
   "source": [
    "mylist1 = [1,3,5]\n",
    "r = mylist1.pop(10)\n",
    "print(r)\n",
    "mylist1"
   ]
  },
  {
   "cell_type": "code",
   "execution_count": null,
   "id": "b20d11c2",
   "metadata": {},
   "outputs": [],
   "source": [
    "mylist1 = [1,2,3,4,5,1,2,3,4,5,1,2,3,1]\n",
    "mylist1.remove(1)\n",
    "print(mylist1)"
   ]
  },
  {
   "cell_type": "code",
   "execution_count": null,
   "id": "3581202b",
   "metadata": {},
   "outputs": [],
   "source": [
    "mylist1 = [1,2,3,4,5,1,2,3,4,5,1,2,3,1]\n",
    "mylist1.remove(10)\n",
    "print(mylist1)"
   ]
  },
  {
   "cell_type": "code",
   "execution_count": null,
   "id": "55ceeae7",
   "metadata": {},
   "outputs": [],
   "source": [
    "mylist1 = [1,2,3,4,5,1,2,3,4,5,1,2,3,1]\n",
    "mylist1.remove(1)\n",
    "print(mylist1)"
   ]
  },
  {
   "cell_type": "code",
   "execution_count": null,
   "id": "d5fdf6d1",
   "metadata": {},
   "outputs": [],
   "source": [
    "mylist1 = [1,2,3,4,5,1,2,3,4,5,1,2,3,1]\n",
    "while (1 in mylist1):\n",
    "    mylist1.remove(1)\n",
    "print(mylist1)"
   ]
  },
  {
   "cell_type": "code",
   "execution_count": null,
   "id": "c5320a3b",
   "metadata": {},
   "outputs": [],
   "source": [
    "mylist1 = list('pythondatascience')\n",
    "print(mylist1)\n",
    "\n",
    "i = mylist1.index('a')\n",
    "print(i)"
   ]
  },
  {
   "cell_type": "code",
   "execution_count": null,
   "id": "062abba1",
   "metadata": {},
   "outputs": [],
   "source": [
    "mylist1 = list('pythondatascience')\n",
    "print(mylist1)\n",
    "\n",
    "i = mylist1.count('a')\n",
    "print(i)"
   ]
  },
  {
   "cell_type": "code",
   "execution_count": null,
   "id": "f0ca835b",
   "metadata": {},
   "outputs": [],
   "source": [
    "mylist1 = list('pythondatascience')\n",
    "print(mylist1)\n",
    "max(mylist1)"
   ]
  },
  {
   "cell_type": "code",
   "execution_count": null,
   "id": "8e72958b",
   "metadata": {},
   "outputs": [],
   "source": [
    "mylist1 = list('pythondatAscience')\n",
    "print(mylist1)\n",
    "min(mylist1)"
   ]
  },
  {
   "cell_type": "code",
   "execution_count": null,
   "id": "fbd93396",
   "metadata": {},
   "outputs": [],
   "source": [
    "ord('a')"
   ]
  },
  {
   "cell_type": "code",
   "execution_count": null,
   "id": "990f2726",
   "metadata": {},
   "outputs": [],
   "source": [
    "ord(\"A\")"
   ]
  },
  {
   "cell_type": "code",
   "execution_count": null,
   "id": "8f7c2953",
   "metadata": {},
   "outputs": [],
   "source": [
    "chr(66)"
   ]
  },
  {
   "cell_type": "code",
   "execution_count": null,
   "id": "82533ff2",
   "metadata": {},
   "outputs": [],
   "source": [
    "mylist1 = [1,2,3,'a','b']\n",
    "print(mylist1)\n",
    "max(mylist1)"
   ]
  },
  {
   "cell_type": "code",
   "execution_count": null,
   "id": "a74e3749",
   "metadata": {},
   "outputs": [],
   "source": [
    "1 > 'a'"
   ]
  },
  {
   "cell_type": "code",
   "execution_count": null,
   "id": "504759c4",
   "metadata": {},
   "outputs": [],
   "source": [
    "mylist1 = [1,2,3,'a','b']\n",
    "print(mylist1)\n",
    "mylist1.clear()\n",
    "print(mylist1)"
   ]
  },
  {
   "cell_type": "markdown",
   "id": "ae3a1899",
   "metadata": {},
   "source": [
    "List Sort"
   ]
  },
  {
   "cell_type": "code",
   "execution_count": null,
   "id": "6af073fd",
   "metadata": {},
   "outputs": [],
   "source": [
    "mylist1 = [2,4,6,1,3,5]\n",
    "mylist1.sort()\n",
    "print(mylist1)"
   ]
  },
  {
   "cell_type": "code",
   "execution_count": null,
   "id": "2d52c50d",
   "metadata": {},
   "outputs": [],
   "source": [
    "mylist1 = [2,4,6,1,3,5]\n",
    "mylist1.sort(reverse=True)\n",
    "print(mylist1)"
   ]
  },
  {
   "cell_type": "code",
   "execution_count": null,
   "id": "865e9f1f",
   "metadata": {},
   "outputs": [],
   "source": [
    "mylist1 = list('python')\n",
    "mylist1.sort(reverse=True)\n",
    "print(mylist1)"
   ]
  },
  {
   "cell_type": "code",
   "execution_count": null,
   "id": "33c07bef",
   "metadata": {},
   "outputs": [],
   "source": [
    "mylist1 = [2,4,6,'hello']\n",
    "mylist1.sort()\n",
    "print(mylist1)"
   ]
  },
  {
   "cell_type": "code",
   "execution_count": null,
   "id": "0c799d77",
   "metadata": {},
   "outputs": [],
   "source": [
    "isinstance('hello',(int,str))"
   ]
  },
  {
   "cell_type": "code",
   "execution_count": null,
   "id": "d8788463",
   "metadata": {},
   "outputs": [],
   "source": [
    "def key1(obj):\n",
    "    if isinstance(obj,(int,float)):\n",
    "        return obj\n",
    "    \n",
    "    if isinstance(obj, str):\n",
    "        return len(obj)\n",
    "    \n",
    "    return 0"
   ]
  },
  {
   "cell_type": "code",
   "execution_count": null,
   "id": "12ff47cf",
   "metadata": {},
   "outputs": [],
   "source": [
    "mylist1 = [2,4,6,'hello', [11,22,33,44,'python']]\n",
    "mylist1.sort(key=key1)\n",
    "print(mylist1)"
   ]
  },
  {
   "cell_type": "markdown",
   "id": "a49b5713",
   "metadata": {},
   "source": [
    "Copy"
   ]
  },
  {
   "cell_type": "code",
   "execution_count": null,
   "id": "3551322d",
   "metadata": {},
   "outputs": [],
   "source": [
    "mylist1 = [11,22,33]\n",
    "mylist2 = [11,22,33]\n",
    "print(mylist1)\n",
    "print(mylist2)  ##  two diff lists\n",
    "print()\n",
    "\n",
    "print(id(mylist1))\n",
    "print(id(mylist2))\n",
    "print()\n",
    "mylist2[0] = 'hello'\n",
    "\n",
    "print(mylist1)\n",
    "print(mylist2)"
   ]
  },
  {
   "cell_type": "code",
   "execution_count": null,
   "id": "ae1fd146",
   "metadata": {},
   "outputs": [],
   "source": [
    "mylist1 = [11,22,33]\n",
    "mylist2 = mylist1     ##  view to the same flat list\n",
    "print(mylist1)\n",
    "print(mylist2)\n",
    "print()\n",
    "\n",
    "print(id(mylist1))\n",
    "print(id(mylist2))\n",
    "print()\n",
    "mylist2[0] = 'hello'\n",
    "\n",
    "print(mylist1)\n",
    "print(mylist2)"
   ]
  },
  {
   "cell_type": "code",
   "execution_count": null,
   "id": "32e0ca85",
   "metadata": {},
   "outputs": [],
   "source": [
    "mylist1 = [11,22,33]\n",
    "mylist2 = mylist1.copy()   ##  shallow copy of the flat list\n",
    "print(mylist1)\n",
    "print(mylist2)\n",
    "print()\n",
    "\n",
    "print(id(mylist1))\n",
    "print(id(mylist2))\n",
    "print()\n",
    "mylist2[0] = 'hello'\n",
    "\n",
    "print(mylist1)\n",
    "print(mylist2)"
   ]
  },
  {
   "cell_type": "code",
   "execution_count": null,
   "id": "0d818b10",
   "metadata": {},
   "outputs": [],
   "source": [
    "mylist1 = ['zero', [11,22,33], [44,55,66], [77,88,99] ]\n",
    "mylist2 = mylist1.copy()  ##  shallo copy of the hierarchial list\n",
    "print(mylist1)\n",
    "print(mylist2)\n",
    "print()\n",
    "\n",
    "print(id(mylist1))\n",
    "print(id(mylist2))\n",
    "print()\n",
    "mylist2[0] = 'hello'\n",
    "mylist2[1][0] = 'hello1'\n",
    "\n",
    "print(mylist1)\n",
    "print(mylist2)"
   ]
  },
  {
   "cell_type": "code",
   "execution_count": null,
   "id": "dfb7a9ac",
   "metadata": {},
   "outputs": [],
   "source": [
    "import copy\n",
    "\n",
    "mylist1 = ['zero', [11,22,33], [44,55,66], [77,88,99] ]\n",
    "mylist2 = copy.deepcopy(mylist1)  ##  deep copy of hierarchial list\n",
    "print(mylist1)\n",
    "print(mylist2)\n",
    "print()\n",
    "\n",
    "print(id(mylist1))\n",
    "print(id(mylist2))\n",
    "print()\n",
    "mylist2[0] = 'hello'\n",
    "mylist2[1][0] = 'hello1'\n",
    "\n",
    "print(mylist1)\n",
    "print(mylist2)"
   ]
  },
  {
   "cell_type": "code",
   "execution_count": null,
   "id": "de043b8b",
   "metadata": {},
   "outputs": [],
   "source": [
    "print(dir(copy))"
   ]
  },
  {
   "cell_type": "markdown",
   "id": "8a768f9e",
   "metadata": {},
   "source": [
    "# Tuple"
   ]
  },
  {
   "cell_type": "code",
   "execution_count": null,
   "id": "dea80edb",
   "metadata": {},
   "outputs": [],
   "source": [
    "mt1 = tuple('pythondata')\n",
    "print(mt1)\n",
    "print(type(mt1))\n",
    "print(len(mt1))"
   ]
  },
  {
   "cell_type": "code",
   "execution_count": null,
   "id": "49ab91e8",
   "metadata": {},
   "outputs": [],
   "source": [
    "mt1[0]"
   ]
  },
  {
   "cell_type": "code",
   "execution_count": null,
   "id": "351a8f99",
   "metadata": {},
   "outputs": [],
   "source": [
    "mt1[0] = 'j'"
   ]
  },
  {
   "cell_type": "code",
   "execution_count": null,
   "id": "1d490a56",
   "metadata": {},
   "outputs": [],
   "source": [
    "mt1 = (123)\n",
    "print(type(mt1))"
   ]
  },
  {
   "cell_type": "code",
   "execution_count": null,
   "id": "bc24b3f9",
   "metadata": {},
   "outputs": [],
   "source": [
    "mt1 = (123,)\n",
    "print(type(mt1))\n",
    "print(mt1)"
   ]
  },
  {
   "cell_type": "code",
   "execution_count": null,
   "id": "832b73a8",
   "metadata": {},
   "outputs": [],
   "source": [
    "mt1 = (11,22,[444,555,666], 'hello')"
   ]
  },
  {
   "cell_type": "code",
   "execution_count": null,
   "id": "cd448667",
   "metadata": {},
   "outputs": [],
   "source": [
    "mt1[-1]"
   ]
  },
  {
   "cell_type": "code",
   "execution_count": null,
   "id": "3d1b746f",
   "metadata": {},
   "outputs": [],
   "source": [
    "print(type(mt1[-1]))"
   ]
  },
  {
   "cell_type": "code",
   "execution_count": null,
   "id": "c0271317",
   "metadata": {},
   "outputs": [],
   "source": [
    "mt1[-1][0] = 'j'"
   ]
  },
  {
   "cell_type": "code",
   "execution_count": null,
   "id": "cb426480",
   "metadata": {},
   "outputs": [],
   "source": [
    "mt1[2]"
   ]
  },
  {
   "cell_type": "code",
   "execution_count": null,
   "id": "12083799",
   "metadata": {},
   "outputs": [],
   "source": [
    "print(type(mt1[2]))"
   ]
  },
  {
   "cell_type": "code",
   "execution_count": null,
   "id": "f6f67df4",
   "metadata": {},
   "outputs": [],
   "source": [
    "mt1[2][0] = 'hello'"
   ]
  },
  {
   "cell_type": "code",
   "execution_count": null,
   "id": "d0f95ca2",
   "metadata": {},
   "outputs": [],
   "source": [
    "mt1"
   ]
  },
  {
   "cell_type": "code",
   "execution_count": null,
   "id": "290b4fe5",
   "metadata": {},
   "outputs": [],
   "source": [
    "mt1 = tuple('pythondata')\n",
    "print(mt1)\n",
    "print(id(mt1))\n",
    "print()\n",
    "\n",
    "templist = list(mt1)\n",
    "templist.append('z')\n",
    "\n",
    "mt1 = tuple(templist)\n",
    "print(mt1)\n",
    "print(id(mt1))"
   ]
  },
  {
   "cell_type": "markdown",
   "id": "c830d128",
   "metadata": {},
   "source": [
    "# Dictionary"
   ]
  },
  {
   "cell_type": "code",
   "execution_count": null,
   "id": "0814ae0c",
   "metadata": {},
   "outputs": [],
   "source": [
    "md1 = {'Bank':'SBI', 'Branch':'MGROAD', 91:'India'}\n",
    "print(type(md1))\n",
    "print(md1)\n",
    "print(len(md1))"
   ]
  },
  {
   "cell_type": "code",
   "execution_count": null,
   "id": "67f769a3",
   "metadata": {},
   "outputs": [],
   "source": [
    "md1['City'] = 'Mumbai'"
   ]
  },
  {
   "cell_type": "code",
   "execution_count": null,
   "id": "4e93d16b",
   "metadata": {},
   "outputs": [],
   "source": [
    "md1"
   ]
  },
  {
   "cell_type": "code",
   "execution_count": null,
   "id": "64f26b7a",
   "metadata": {},
   "outputs": [],
   "source": [
    "md1 = {'Bank':'SBI', 'Branch':'MGROAD', 91:'India', 'Bank':'Axis'}\n",
    "md1"
   ]
  },
  {
   "cell_type": "code",
   "execution_count": null,
   "id": "2cee3ec4",
   "metadata": {},
   "outputs": [],
   "source": [
    "md1['SBI']"
   ]
  },
  {
   "cell_type": "code",
   "execution_count": null,
   "id": "a3d4469d",
   "metadata": {},
   "outputs": [],
   "source": [
    "md1['Bank']"
   ]
  },
  {
   "cell_type": "code",
   "execution_count": null,
   "id": "a15c212e",
   "metadata": {},
   "outputs": [],
   "source": [
    "md1[0]"
   ]
  },
  {
   "cell_type": "code",
   "execution_count": null,
   "id": "f702f14a",
   "metadata": {},
   "outputs": [],
   "source": [
    "md1[91]"
   ]
  },
  {
   "cell_type": "code",
   "execution_count": null,
   "id": "a547ac8b",
   "metadata": {},
   "outputs": [],
   "source": [
    "md1"
   ]
  },
  {
   "cell_type": "code",
   "execution_count": null,
   "id": "c8953ca8",
   "metadata": {},
   "outputs": [],
   "source": [
    "md1 = {'Bank':'SBI', 'Branch':'MGROAD', (11,22,33):'Hello'}\n",
    "md1"
   ]
  },
  {
   "cell_type": "code",
   "execution_count": null,
   "id": "9937de50",
   "metadata": {},
   "outputs": [],
   "source": [
    "md1 = {'Bank':'SBI', 'Branch':'MGROAD', [11,22,33]:'Hello'}\n",
    "md1"
   ]
  },
  {
   "cell_type": "code",
   "execution_count": null,
   "id": "2744cf8f",
   "metadata": {},
   "outputs": [],
   "source": [
    "md1 = {'Bank':'SBI', 'Branch':'MGROAD', (11,22,33,[55,66]):'Hello'}\n",
    "md1"
   ]
  },
  {
   "cell_type": "code",
   "execution_count": null,
   "id": "a5109295",
   "metadata": {},
   "outputs": [],
   "source": [
    "md1"
   ]
  },
  {
   "cell_type": "code",
   "execution_count": null,
   "id": "fd5ed54a",
   "metadata": {},
   "outputs": [],
   "source": [
    "del md1['Bank']"
   ]
  },
  {
   "cell_type": "code",
   "execution_count": null,
   "id": "761e955d",
   "metadata": {},
   "outputs": [],
   "source": [
    "md1"
   ]
  },
  {
   "cell_type": "code",
   "execution_count": null,
   "id": "bd323464",
   "metadata": {},
   "outputs": [],
   "source": [
    "md1.clear()"
   ]
  },
  {
   "cell_type": "code",
   "execution_count": null,
   "id": "6c30f757",
   "metadata": {},
   "outputs": [],
   "source": [
    "md1"
   ]
  },
  {
   "cell_type": "code",
   "execution_count": null,
   "id": "3b867321",
   "metadata": {},
   "outputs": [],
   "source": [
    "md1['pin'] = 560001"
   ]
  },
  {
   "cell_type": "code",
   "execution_count": null,
   "id": "fdfb0b91",
   "metadata": {},
   "outputs": [],
   "source": [
    "md1"
   ]
  },
  {
   "cell_type": "code",
   "execution_count": null,
   "id": "3a9caa65",
   "metadata": {},
   "outputs": [],
   "source": [
    "print(dir(dict))"
   ]
  },
  {
   "cell_type": "code",
   "execution_count": null,
   "id": "c440f109",
   "metadata": {},
   "outputs": [],
   "source": [
    "md1 = {'Bank':'SBI', 'Branch': 'MGROAD'}\n",
    "md1"
   ]
  },
  {
   "cell_type": "code",
   "execution_count": null,
   "id": "0a64f41d",
   "metadata": {},
   "outputs": [],
   "source": [
    "k = md1.keys()\n",
    "print(type(k))\n",
    "print(k)  ##  list-like\n",
    "keylist = list(k)\n",
    "print(keylist)"
   ]
  },
  {
   "cell_type": "code",
   "execution_count": null,
   "id": "1d5597fe",
   "metadata": {},
   "outputs": [],
   "source": [
    "k[0]"
   ]
  },
  {
   "cell_type": "code",
   "execution_count": null,
   "id": "7ef07015",
   "metadata": {},
   "outputs": [],
   "source": [
    "vlist = list(md1.values())\n",
    "vlist"
   ]
  },
  {
   "cell_type": "code",
   "execution_count": null,
   "id": "cee514cf",
   "metadata": {},
   "outputs": [],
   "source": [
    "i = md1.items()\n",
    "print(i)"
   ]
  },
  {
   "cell_type": "code",
   "execution_count": null,
   "id": "28969841",
   "metadata": {},
   "outputs": [],
   "source": [
    "list(i)"
   ]
  },
  {
   "cell_type": "code",
   "execution_count": null,
   "id": "98f08bbc",
   "metadata": {},
   "outputs": [],
   "source": [
    "md1 = {'Bank':'SBI', 'Branch': 'MGROAD'}\n",
    "print(md1)\n",
    "v = md1.get('Bank')\n",
    "print(v)"
   ]
  },
  {
   "cell_type": "code",
   "execution_count": null,
   "id": "6c0ef855",
   "metadata": {},
   "outputs": [],
   "source": [
    "md1 = {'Bank':'SBI', 'Branch': 'MGROAD'}\n",
    "print(md1)\n",
    "v = md1.get('City')\n",
    "print(v)"
   ]
  },
  {
   "cell_type": "code",
   "execution_count": null,
   "id": "a950b0cb",
   "metadata": {},
   "outputs": [],
   "source": [
    "md1 = {'Bank':'SBI', 'Branch': 'MGROAD'}\n",
    "print(md1)\n",
    "v = md1.get('City', 'unknown')\n",
    "print(v)"
   ]
  },
  {
   "cell_type": "code",
   "execution_count": null,
   "id": "68174fc7",
   "metadata": {},
   "outputs": [],
   "source": [
    "md1 = {'Bank':'SBI', 'Branch': 'MGROAD'}\n",
    "print(md1)\n",
    "v = md1.get('Bank', 'unknown')\n",
    "print(v)"
   ]
  },
  {
   "cell_type": "code",
   "execution_count": null,
   "id": "06704f21",
   "metadata": {},
   "outputs": [],
   "source": [
    "md1 = {'Bank':'SBI', 'Branch': 'MGROAD'}\n",
    "print(md1)\n",
    "v = md1.pop('Branch')\n",
    "print(v)\n",
    "print(md1)"
   ]
  },
  {
   "cell_type": "code",
   "execution_count": null,
   "id": "525a1e2c",
   "metadata": {},
   "outputs": [],
   "source": [
    "md1 = {'Bank':'SBI', 'Branch': 'MGROAD'}\n",
    "print(md1)\n",
    "v = md1.pop('City')\n",
    "print(v)\n",
    "print(md1)"
   ]
  },
  {
   "cell_type": "code",
   "execution_count": null,
   "id": "fff1f2f0",
   "metadata": {},
   "outputs": [],
   "source": [
    "md1 = {'Bank':'SBI', 'Branch': 'MGROAD'}\n",
    "print(md1)\n",
    "v = md1.pop('City', 'Unknown')\n",
    "print(v)\n",
    "print(md1)"
   ]
  },
  {
   "cell_type": "code",
   "execution_count": null,
   "id": "d247b863",
   "metadata": {},
   "outputs": [],
   "source": [
    "md1 = {'Bank':'SBI', 'Branch': 'MGROAD'}\n",
    "print(md1)\n",
    "v = md1.pop('Bank', 'Unknown')\n",
    "print(v)\n",
    "print(md1)"
   ]
  },
  {
   "cell_type": "code",
   "execution_count": null,
   "id": "b5dfcd76",
   "metadata": {},
   "outputs": [],
   "source": [
    "md1 = {'Bank':'SBI', 'Branch': 'MGROAD'}\n",
    "print(md1)\n",
    "v = md1.setdefault('City')\n",
    "print(v)\n",
    "print(md1)"
   ]
  },
  {
   "cell_type": "code",
   "execution_count": null,
   "id": "f042c0cf",
   "metadata": {},
   "outputs": [],
   "source": [
    "md1 = {'Bank':'SBI', 'Branch': 'MGROAD'}\n",
    "print(md1)\n",
    "v = md1.setdefault('City', 'Blr')\n",
    "print(v)\n",
    "print(md1)"
   ]
  },
  {
   "cell_type": "code",
   "execution_count": null,
   "id": "dbe0c3ea",
   "metadata": {},
   "outputs": [],
   "source": [
    "md1 = {'Bank':'SBI', 'Branch': 'MGROAD'}\n",
    "print(md1)\n",
    "v = md1.setdefault('Bank')\n",
    "print(v)\n",
    "print(md1)"
   ]
  },
  {
   "cell_type": "code",
   "execution_count": null,
   "id": "89b89041",
   "metadata": {},
   "outputs": [],
   "source": [
    "md1 = {'Bank':'SBI', 'Branch': 'MGROAD'}\n",
    "print(md1)\n",
    "v = md1.setdefault('Bank', 'Blr')\n",
    "print(v)\n",
    "print(md1)"
   ]
  },
  {
   "cell_type": "code",
   "execution_count": null,
   "id": "bdbdaf44",
   "metadata": {},
   "outputs": [],
   "source": [
    "md1 = {'Bank':'SBI', 'Branch': 'MGROAD'}\n",
    "print(md1)\n",
    "\n",
    "md2 = {'Bank':'Axis', 'City':'Blr'}\n",
    "print(md2)"
   ]
  },
  {
   "cell_type": "code",
   "execution_count": null,
   "id": "a1dac038",
   "metadata": {},
   "outputs": [],
   "source": [
    "md1.update(md2)"
   ]
  },
  {
   "cell_type": "code",
   "execution_count": null,
   "id": "3073f7e9",
   "metadata": {},
   "outputs": [],
   "source": [
    "md1"
   ]
  },
  {
   "cell_type": "markdown",
   "id": "1134dcda",
   "metadata": {},
   "source": [
    "Creating dict using list"
   ]
  },
  {
   "cell_type": "code",
   "execution_count": null,
   "id": "f5a1856f",
   "metadata": {},
   "outputs": [],
   "source": [
    "keylist = ['Bank', 'Branch', 'City']\n",
    "valuelist = ['SBI', 'MGROAD', 'Mumbai']"
   ]
  },
  {
   "cell_type": "code",
   "execution_count": null,
   "id": "351313de",
   "metadata": {},
   "outputs": [],
   "source": [
    "z = zip(keylist, valuelist)\n",
    "print(type(z))\n",
    "print(z)\n",
    "print(list(z))\n",
    "print(list(z))"
   ]
  },
  {
   "cell_type": "code",
   "execution_count": null,
   "id": "d8dbbee6",
   "metadata": {},
   "outputs": [],
   "source": [
    "dict([('Bank', 'SBI'), ('Branch', 'MGROAD'), ('City', 'Mumbai')])"
   ]
  },
  {
   "cell_type": "code",
   "execution_count": null,
   "id": "2202bb8a",
   "metadata": {},
   "outputs": [],
   "source": [
    "keylist = ['Bank', 'Branch', 'City', 'Pin']\n",
    "valuelist = ['SBI', 'MGROAD', 'Mumbai']\n",
    "md2 = dict(zip(keylist, valuelist))\n",
    "md2"
   ]
  },
  {
   "cell_type": "markdown",
   "id": "83ebb191",
   "metadata": {},
   "source": [
    "# SET"
   ]
  },
  {
   "cell_type": "code",
   "execution_count": null,
   "id": "5b2d471a",
   "metadata": {},
   "outputs": [],
   "source": [
    "ms1 = set()\n",
    "print(type(ms1))"
   ]
  },
  {
   "cell_type": "code",
   "execution_count": null,
   "id": "388f019d",
   "metadata": {},
   "outputs": [],
   "source": [
    "ms1 = {2,4,6,8,10,2,4,6}\n",
    "print(len(ms1))"
   ]
  },
  {
   "cell_type": "code",
   "execution_count": null,
   "id": "ff845d6c",
   "metadata": {},
   "outputs": [],
   "source": [
    "ms1.add(20)"
   ]
  },
  {
   "cell_type": "code",
   "execution_count": null,
   "id": "5b42ba13",
   "metadata": {},
   "outputs": [],
   "source": [
    "ms1"
   ]
  },
  {
   "cell_type": "code",
   "execution_count": null,
   "id": "ae44865c",
   "metadata": {},
   "outputs": [],
   "source": [
    "print(dir(ms1))"
   ]
  },
  {
   "cell_type": "code",
   "execution_count": null,
   "id": "d4496d45",
   "metadata": {},
   "outputs": [],
   "source": [
    "ms1 = {2, 4, 6, 8, 10, 20}"
   ]
  },
  {
   "cell_type": "code",
   "execution_count": null,
   "id": "57b0da86",
   "metadata": {},
   "outputs": [],
   "source": [
    "ms1.pop()"
   ]
  },
  {
   "cell_type": "code",
   "execution_count": null,
   "id": "c72d170b",
   "metadata": {},
   "outputs": [],
   "source": [
    "ms1 = {2, 4, 6, 8, 10, 20}\n",
    "ms1.remove(6)"
   ]
  },
  {
   "cell_type": "code",
   "execution_count": null,
   "id": "49df8fb1",
   "metadata": {},
   "outputs": [],
   "source": [
    "ms1"
   ]
  },
  {
   "cell_type": "code",
   "execution_count": null,
   "id": "3cdd84b2",
   "metadata": {},
   "outputs": [],
   "source": [
    "ms1.remove(16)"
   ]
  },
  {
   "cell_type": "code",
   "execution_count": null,
   "id": "289ae5e8",
   "metadata": {},
   "outputs": [],
   "source": [
    "ms1 = {2,4,6,8,10,1,3,5}\n",
    "ms2 = {1,3,5,7,9,11}"
   ]
  },
  {
   "cell_type": "code",
   "execution_count": null,
   "id": "db53a571",
   "metadata": {},
   "outputs": [],
   "source": [
    "ms1.union(ms2)"
   ]
  },
  {
   "cell_type": "code",
   "execution_count": null,
   "id": "58fe7c4a",
   "metadata": {},
   "outputs": [],
   "source": [
    "ms1.intersection(ms2)"
   ]
  },
  {
   "cell_type": "code",
   "execution_count": null,
   "id": "fef75e56",
   "metadata": {},
   "outputs": [],
   "source": [
    "ms1-ms2"
   ]
  },
  {
   "cell_type": "code",
   "execution_count": null,
   "id": "81fae8e0",
   "metadata": {},
   "outputs": [],
   "source": [
    "ms2-ms1"
   ]
  },
  {
   "cell_type": "code",
   "execution_count": null,
   "id": "2cf1be3c",
   "metadata": {},
   "outputs": [],
   "source": [
    "ms1.symmetric_difference(ms2)"
   ]
  },
  {
   "cell_type": "markdown",
   "id": "e3d3025b",
   "metadata": {},
   "source": [
    "# 09/July/2023"
   ]
  },
  {
   "cell_type": "markdown",
   "id": "72efbd74",
   "metadata": {},
   "source": [
    "# Decision Making"
   ]
  },
  {
   "cell_type": "markdown",
   "id": "ff9b05b6",
   "metadata": {},
   "source": [
    "Single Line If Else"
   ]
  },
  {
   "cell_type": "code",
   "execution_count": null,
   "id": "f7dd389e",
   "metadata": {},
   "outputs": [],
   "source": [
    "def tempcheck1(temp):\n",
    "    if temp > 99:\n",
    "        result = 'Hot'\n",
    "    else:\n",
    "        if temp < 60:\n",
    "            result = 'Cold'\n",
    "        else:\n",
    "            result = 'Right'\n",
    "            \n",
    "    return result"
   ]
  },
  {
   "cell_type": "code",
   "execution_count": null,
   "id": "3c7cdf61",
   "metadata": {},
   "outputs": [],
   "source": [
    "tempcheck1(100)"
   ]
  },
  {
   "cell_type": "code",
   "execution_count": null,
   "id": "8e9cc996",
   "metadata": {},
   "outputs": [],
   "source": [
    "tempcheck1(10)"
   ]
  },
  {
   "cell_type": "code",
   "execution_count": null,
   "id": "05d20fcd",
   "metadata": {},
   "outputs": [],
   "source": [
    "tempcheck1(77)"
   ]
  },
  {
   "cell_type": "code",
   "execution_count": null,
   "id": "debe6d72",
   "metadata": {},
   "outputs": [],
   "source": [
    "def tempcheck2(temp):\n",
    "    \n",
    "    result = ('Hot',temp) if temp > 99 else ('Cold',temp) if temp < 60 else ('Right',temp)\n",
    "    \n",
    "            \n",
    "    return result"
   ]
  },
  {
   "cell_type": "code",
   "execution_count": null,
   "id": "1e3d6eec",
   "metadata": {},
   "outputs": [],
   "source": [
    "tempcheck2(77)"
   ]
  },
  {
   "cell_type": "code",
   "execution_count": null,
   "id": "d8550183",
   "metadata": {},
   "outputs": [],
   "source": [
    "10 > 20 < 60"
   ]
  },
  {
   "cell_type": "code",
   "execution_count": null,
   "id": "85504801",
   "metadata": {},
   "outputs": [],
   "source": [
    "def graderchecker(marks):\n",
    "    \n",
    "    result = (marks, 'Dist',100-marks) if marks >= 70 else (marks, 'FC',70-marks)     if marks >= 60 else (marks, 'SC',60-marks)     if marks >= 50 else (marks, 'PC',50-marks)     if marks >= 35 else (marks, 'Fail',35-marks)\n",
    "    \n",
    "    return result"
   ]
  },
  {
   "cell_type": "code",
   "execution_count": null,
   "id": "00e44c64",
   "metadata": {},
   "outputs": [],
   "source": [
    "print(graderchecker(88))\n",
    "print(graderchecker(68))\n",
    "print(graderchecker(58))\n",
    "print(graderchecker(48))\n",
    "print(graderchecker(28))"
   ]
  },
  {
   "cell_type": "markdown",
   "id": "ea0db30c",
   "metadata": {},
   "source": [
    "# range"
   ]
  },
  {
   "cell_type": "code",
   "execution_count": null,
   "id": "70e33f99",
   "metadata": {},
   "outputs": [],
   "source": [
    "r = range(10,30,2)\n",
    "print(type(r))\n",
    "print(r)"
   ]
  },
  {
   "cell_type": "code",
   "execution_count": null,
   "id": "4333535c",
   "metadata": {},
   "outputs": [],
   "source": [
    "list(r)"
   ]
  },
  {
   "cell_type": "code",
   "execution_count": null,
   "id": "9caedb26",
   "metadata": {},
   "outputs": [],
   "source": [
    "list(range(10))"
   ]
  },
  {
   "cell_type": "code",
   "execution_count": null,
   "id": "12719f1e",
   "metadata": {},
   "outputs": [],
   "source": [
    "list(range(10,20))"
   ]
  },
  {
   "cell_type": "code",
   "execution_count": null,
   "id": "ebbb2c11",
   "metadata": {},
   "outputs": [],
   "source": [
    "list(range(10,20,2))"
   ]
  },
  {
   "cell_type": "code",
   "execution_count": null,
   "id": "ff8c0472",
   "metadata": {},
   "outputs": [],
   "source": [
    "import sys"
   ]
  },
  {
   "cell_type": "code",
   "execution_count": null,
   "id": "70cb379d",
   "metadata": {},
   "outputs": [],
   "source": [
    "mylist1 = list(range(0,10000000,1))\n",
    "print(len(mylist1))\n",
    "sys.getsizeof(mylist1)"
   ]
  },
  {
   "cell_type": "code",
   "execution_count": null,
   "id": "70372180",
   "metadata": {},
   "outputs": [],
   "source": [
    "r = range(0,10000000000000,1)\n",
    "sys.getsizeof(r)"
   ]
  },
  {
   "cell_type": "code",
   "execution_count": null,
   "id": "f68a5cf6",
   "metadata": {},
   "outputs": [],
   "source": [
    "r[0]"
   ]
  },
  {
   "cell_type": "code",
   "execution_count": null,
   "id": "513b9608",
   "metadata": {},
   "outputs": [],
   "source": [
    "r[-1]"
   ]
  },
  {
   "cell_type": "code",
   "execution_count": null,
   "id": "9cd06ad1",
   "metadata": {},
   "outputs": [],
   "source": [
    "for i in range(10):\n",
    "    print(i)"
   ]
  },
  {
   "cell_type": "markdown",
   "id": "40f2d7b6",
   "metadata": {},
   "source": [
    "# While"
   ]
  },
  {
   "cell_type": "code",
   "execution_count": null,
   "id": "f2c06a12",
   "metadata": {},
   "outputs": [],
   "source": [
    "n1 = 20\n",
    "n2 = 25\n",
    "\n",
    "while n1 < n2:\n",
    "    print(n1)\n",
    "    n1 = n1 + 1"
   ]
  },
  {
   "cell_type": "code",
   "execution_count": null,
   "id": "60ad0f48",
   "metadata": {},
   "outputs": [],
   "source": [
    "##  upcounter\n",
    "n1 = 20\n",
    "n2 = 25\n",
    "\n",
    "while n1 < n2:\n",
    "    print(n1)\n",
    "    n1 += 1"
   ]
  },
  {
   "cell_type": "code",
   "execution_count": null,
   "id": "7d9a90a1",
   "metadata": {},
   "outputs": [],
   "source": [
    "n1 = 20\n",
    "n2 = 25\n",
    "\n",
    "while n1 < n2:\n",
    "    print(n1, end=' ')\n",
    "    n1 += 1"
   ]
  },
  {
   "cell_type": "code",
   "execution_count": null,
   "id": "488d688b",
   "metadata": {},
   "outputs": [],
   "source": [
    "print(10,20,30,40,sep='::::')"
   ]
  },
  {
   "cell_type": "code",
   "execution_count": null,
   "id": "1b8b8020",
   "metadata": {},
   "outputs": [],
   "source": [
    "print(dir(__builtins__))"
   ]
  },
  {
   "cell_type": "code",
   "execution_count": null,
   "id": "4c3ed90a",
   "metadata": {},
   "outputs": [],
   "source": [
    "for letter in \"python\":\n",
    "    print(letter)"
   ]
  },
  {
   "cell_type": "code",
   "execution_count": null,
   "id": "06305ad4",
   "metadata": {},
   "outputs": [],
   "source": [
    "a = (10,20)\n",
    "print(a)"
   ]
  },
  {
   "cell_type": "code",
   "execution_count": null,
   "id": "664963c1",
   "metadata": {},
   "outputs": [],
   "source": [
    "a,b = 10,20"
   ]
  },
  {
   "cell_type": "code",
   "execution_count": null,
   "id": "2d680da4",
   "metadata": {},
   "outputs": [],
   "source": [
    "a,b = (10,20)  ##  unpack"
   ]
  },
  {
   "cell_type": "code",
   "execution_count": null,
   "id": "8b5b8424",
   "metadata": {},
   "outputs": [],
   "source": [
    "a,b = (10,20,30)"
   ]
  },
  {
   "cell_type": "code",
   "execution_count": null,
   "id": "ae1c78f5",
   "metadata": {},
   "outputs": [],
   "source": [
    "a = 10,20,30  ##  packing into a tuple\n",
    "print(a)"
   ]
  },
  {
   "cell_type": "code",
   "execution_count": null,
   "id": "7ffc30d9",
   "metadata": {},
   "outputs": [],
   "source": [
    "md1 = {'Bank':'SBI', 'Branch':'MGROAD'}\n",
    "for kv in md1:\n",
    "    print(kv)"
   ]
  },
  {
   "cell_type": "code",
   "execution_count": null,
   "id": "728b43ae",
   "metadata": {},
   "outputs": [],
   "source": [
    "md1 = {'Bank':'SBI', 'Branch':'MGROAD'}\n",
    "for kv in md1.items():\n",
    "    print(kv)"
   ]
  },
  {
   "cell_type": "code",
   "execution_count": null,
   "id": "a5c57354",
   "metadata": {},
   "outputs": [],
   "source": [
    "md1 = {'Bank':'SBI', 'Branch':'MGROAD'}\n",
    "for k, v in md1.items():\n",
    "    print(k,v)"
   ]
  },
  {
   "cell_type": "code",
   "execution_count": null,
   "id": "94307109",
   "metadata": {},
   "outputs": [],
   "source": [
    "for element in [10,20,30]:\n",
    "    print(element)"
   ]
  },
  {
   "cell_type": "code",
   "execution_count": null,
   "id": "028a3d68",
   "metadata": {},
   "outputs": [],
   "source": [
    "for element in (10,20,30):\n",
    "    print(element)"
   ]
  },
  {
   "cell_type": "code",
   "execution_count": null,
   "id": "117e3bad",
   "metadata": {},
   "outputs": [],
   "source": [
    "def isPrime(num):\n",
    "    \n",
    "    if num <= 1:\n",
    "        return False\n",
    "    \n",
    "    for div in range(2,num):\n",
    "        if num%div == 0:\n",
    "            return False\n",
    "        \n",
    "    return True"
   ]
  },
  {
   "cell_type": "code",
   "execution_count": null,
   "id": "7e404d4e",
   "metadata": {},
   "outputs": [],
   "source": [
    "isPrime(1)"
   ]
  },
  {
   "cell_type": "code",
   "execution_count": null,
   "id": "73140340",
   "metadata": {},
   "outputs": [],
   "source": [
    "for num in range(20):\n",
    "    print('{} <- {}'.format(num, isPrime(num)))\n",
    "    #print(num, isPrime(num))"
   ]
  },
  {
   "cell_type": "markdown",
   "id": "9d336680",
   "metadata": {},
   "source": [
    "# Functions"
   ]
  },
  {
   "cell_type": "code",
   "execution_count": null,
   "id": "b2b6c310",
   "metadata": {},
   "outputs": [],
   "source": [
    "def mf1(p0,p1):\n",
    "    print(p0,p1)"
   ]
  },
  {
   "cell_type": "code",
   "execution_count": null,
   "id": "70b939b2",
   "metadata": {},
   "outputs": [],
   "source": [
    "mf1()"
   ]
  },
  {
   "cell_type": "code",
   "execution_count": null,
   "id": "a612fe23",
   "metadata": {},
   "outputs": [],
   "source": [
    "mf1(10)"
   ]
  },
  {
   "cell_type": "code",
   "execution_count": null,
   "id": "a378aeeb",
   "metadata": {},
   "outputs": [],
   "source": [
    "mf1('hello',20)"
   ]
  },
  {
   "cell_type": "code",
   "execution_count": null,
   "id": "837c5dd9",
   "metadata": {},
   "outputs": [],
   "source": [
    "def mf2(r0,d0=100):\n",
    "    print(r0,d0)"
   ]
  },
  {
   "cell_type": "code",
   "execution_count": null,
   "id": "96af4b21",
   "metadata": {},
   "outputs": [],
   "source": [
    "mf2()"
   ]
  },
  {
   "cell_type": "code",
   "execution_count": null,
   "id": "c07f2cee",
   "metadata": {},
   "outputs": [],
   "source": [
    "mf2(10)"
   ]
  },
  {
   "cell_type": "code",
   "execution_count": null,
   "id": "c474fd59",
   "metadata": {},
   "outputs": [],
   "source": [
    "mf2(10,20)"
   ]
  },
  {
   "cell_type": "code",
   "execution_count": null,
   "id": "277f7741",
   "metadata": {},
   "outputs": [],
   "source": [
    "def mf3(d0=100, r0):\n",
    "    print(r0,d0)"
   ]
  },
  {
   "cell_type": "code",
   "execution_count": null,
   "id": "3be978fb",
   "metadata": {},
   "outputs": [],
   "source": [
    "#RULE_1: While defining a function, required parameters must be specified \n",
    "#  before default parameters"
   ]
  },
  {
   "cell_type": "code",
   "execution_count": null,
   "id": "02575e97",
   "metadata": {},
   "outputs": [],
   "source": [
    "def mf4(r0,r1):\n",
    "    print(r0,r1)"
   ]
  },
  {
   "cell_type": "code",
   "execution_count": null,
   "id": "cdecd05a",
   "metadata": {},
   "outputs": [],
   "source": [
    "mf4(10,20)"
   ]
  },
  {
   "cell_type": "code",
   "execution_count": null,
   "id": "79014d0f",
   "metadata": {},
   "outputs": [],
   "source": [
    "mf4(r1=100, r0=200)"
   ]
  },
  {
   "cell_type": "code",
   "execution_count": null,
   "id": "dd6c8eb9",
   "metadata": {},
   "outputs": [],
   "source": [
    "mf4(r1=100, p0=200)"
   ]
  },
  {
   "cell_type": "code",
   "execution_count": null,
   "id": "9dbbe093",
   "metadata": {},
   "outputs": [],
   "source": [
    "def mf5(r0,r1):\n",
    "    print(r0,r1)"
   ]
  },
  {
   "cell_type": "code",
   "execution_count": null,
   "id": "bc85f5cd",
   "metadata": {},
   "outputs": [],
   "source": [
    "mf5(r1=200,100)"
   ]
  },
  {
   "cell_type": "code",
   "execution_count": null,
   "id": "5f35d25e",
   "metadata": {},
   "outputs": [],
   "source": [
    "## RULE_2:  While calling a function, positional values should be specified first\n",
    "##  and then Parameter-keyword based values"
   ]
  },
  {
   "cell_type": "code",
   "execution_count": null,
   "id": "f0d03d3a",
   "metadata": {},
   "outputs": [],
   "source": [
    "mf5(100,r1=200)"
   ]
  },
  {
   "cell_type": "code",
   "execution_count": null,
   "id": "70e70d68",
   "metadata": {},
   "outputs": [],
   "source": [
    "mf5(100,r1=200, r0=400)"
   ]
  },
  {
   "cell_type": "code",
   "execution_count": null,
   "id": "183ded97",
   "metadata": {},
   "outputs": [],
   "source": [
    "#setup a variable tuple container to consume values that come in positionally\n",
    "def mf6(*args): \n",
    "    print(args)\n",
    "    print(type(args))"
   ]
  },
  {
   "cell_type": "code",
   "execution_count": null,
   "id": "6a8e9ca4",
   "metadata": {},
   "outputs": [],
   "source": [
    "mf6(20)"
   ]
  },
  {
   "cell_type": "code",
   "execution_count": null,
   "id": "332b7793",
   "metadata": {},
   "outputs": [],
   "source": [
    "mf6(10,20,30,40)"
   ]
  },
  {
   "cell_type": "code",
   "execution_count": null,
   "id": "0a9f62e2",
   "metadata": {},
   "outputs": [],
   "source": [
    "def mf7(r0,r1,*args):\n",
    "    print(\"r0\", r0)\n",
    "    print(\"r1\", r1)\n",
    "    print(\"args\", args)"
   ]
  },
  {
   "cell_type": "code",
   "execution_count": null,
   "id": "2b2cc984",
   "metadata": {},
   "outputs": [],
   "source": [
    "mf7(10,20)"
   ]
  },
  {
   "cell_type": "code",
   "execution_count": null,
   "id": "b68ce947",
   "metadata": {},
   "outputs": [],
   "source": [
    "mf7(10,20,30,40,50)"
   ]
  },
  {
   "cell_type": "code",
   "execution_count": null,
   "id": "5dc2211b",
   "metadata": {},
   "outputs": [],
   "source": [
    "def mf8(*args, r0,r1,):\n",
    "    print(\"r0\", r0)\n",
    "    print(\"r1\", r1)\n",
    "    print(\"args\", args)"
   ]
  },
  {
   "cell_type": "code",
   "execution_count": null,
   "id": "200185c1",
   "metadata": {},
   "outputs": [],
   "source": [
    "mf8(10,20,30,40,50)"
   ]
  },
  {
   "cell_type": "code",
   "execution_count": null,
   "id": "55ac3cda",
   "metadata": {},
   "outputs": [],
   "source": [
    "mf8((10,20,30),40,50,'hello')"
   ]
  },
  {
   "cell_type": "code",
   "execution_count": null,
   "id": "5228b9ce",
   "metadata": {},
   "outputs": [],
   "source": [
    "# RULE_3: variable tuple can be populated only with values passed in positional style"
   ]
  },
  {
   "cell_type": "code",
   "execution_count": null,
   "id": "c98d60ac",
   "metadata": {},
   "outputs": [],
   "source": [
    "def mf9(kwargs):\n",
    "    print(\"kwargs\", kwargs)"
   ]
  },
  {
   "cell_type": "code",
   "execution_count": null,
   "id": "c62f21cd",
   "metadata": {},
   "outputs": [],
   "source": [
    "mf9(10)"
   ]
  },
  {
   "cell_type": "code",
   "execution_count": null,
   "id": "ad047727",
   "metadata": {},
   "outputs": [],
   "source": [
    "mf9(a=10)"
   ]
  },
  {
   "cell_type": "code",
   "execution_count": null,
   "id": "ce68428f",
   "metadata": {},
   "outputs": [],
   "source": [
    "def mf10(**kwargs):\n",
    "    print(\"kwargs\", kwargs)"
   ]
  },
  {
   "cell_type": "code",
   "execution_count": null,
   "id": "e513a3b8",
   "metadata": {},
   "outputs": [],
   "source": [
    "mf10(100)"
   ]
  },
  {
   "cell_type": "code",
   "execution_count": null,
   "id": "a211189b",
   "metadata": {},
   "outputs": [],
   "source": [
    "mf10(abcd=100, a =400, b='hello')"
   ]
  },
  {
   "cell_type": "code",
   "execution_count": null,
   "id": "9345ced2",
   "metadata": {},
   "outputs": [],
   "source": [
    "def mf11(r0, **kwargs):\n",
    "    print('r0', r0)\n",
    "    print(\"kwargs\", kwargs)"
   ]
  },
  {
   "cell_type": "code",
   "execution_count": null,
   "id": "ac37eb48",
   "metadata": {},
   "outputs": [],
   "source": [
    "mf11(abcd=100, a =400, b='hello',r0='pds')"
   ]
  },
  {
   "cell_type": "code",
   "execution_count": null,
   "id": "df24ff1a",
   "metadata": {},
   "outputs": [],
   "source": [
    "mf11(\"pds\", abcd=100, a =400, b='hello')"
   ]
  },
  {
   "cell_type": "code",
   "execution_count": null,
   "id": "e0c74fb2",
   "metadata": {},
   "outputs": [],
   "source": [
    "#RULE_4: variabe dict can be populated only in parameter-keyword style"
   ]
  },
  {
   "cell_type": "code",
   "execution_count": null,
   "id": "7623c8dc",
   "metadata": {},
   "outputs": [],
   "source": [
    "def mf12(r0,r1,d0=100,d1=200, *args, **kwargs):\n",
    "    print(\"r0\", r0)\n",
    "    print(\"r1\", r1)\n",
    "    print(\"d0\", d0)\n",
    "    print(\"d1\", d1)    \n",
    "    print(\"args\", args)\n",
    "    print(\"kwargs\", kwargs)    "
   ]
  },
  {
   "cell_type": "code",
   "execution_count": null,
   "id": "bce58d2f",
   "metadata": {},
   "outputs": [],
   "source": [
    "mf12(10,20,30,40,50,60,70,a=100,b=200)"
   ]
  },
  {
   "cell_type": "code",
   "execution_count": null,
   "id": "1836edea",
   "metadata": {},
   "outputs": [],
   "source": [
    "def mf13(r0,r1,*args, d0=100,d1=200,**kwargs):\n",
    "    print(\"r0\", r0)\n",
    "    print(\"r1\", r1)\n",
    "    print(\"d0\", d0)\n",
    "    print(\"d1\", d1)    \n",
    "    print(\"args\", args)\n",
    "    print(\"kwargs\", kwargs)  "
   ]
  },
  {
   "cell_type": "code",
   "execution_count": null,
   "id": "2b0b44bf",
   "metadata": {},
   "outputs": [],
   "source": [
    "mf13(10,20,30,40,50,60,70,a=1000,b=2000, d1=4000)"
   ]
  },
  {
   "cell_type": "markdown",
   "id": "2726f400",
   "metadata": {},
   "source": [
    "# Lambda Expression"
   ]
  },
  {
   "cell_type": "code",
   "execution_count": null,
   "id": "2a1e94c0",
   "metadata": {},
   "outputs": [],
   "source": [
    "def isEven1(num):\n",
    "    \n",
    "    return num%2 == 0"
   ]
  },
  {
   "cell_type": "code",
   "execution_count": null,
   "id": "ea7c154c",
   "metadata": {},
   "outputs": [],
   "source": [
    "print(type(isEven1))"
   ]
  },
  {
   "cell_type": "code",
   "execution_count": null,
   "id": "af617f80",
   "metadata": {},
   "outputs": [],
   "source": [
    "isEven1(20)"
   ]
  },
  {
   "cell_type": "code",
   "execution_count": null,
   "id": "2bb6fcc3",
   "metadata": {},
   "outputs": [],
   "source": [
    "isEven1(21)"
   ]
  },
  {
   "cell_type": "code",
   "execution_count": null,
   "id": "ffdb0323",
   "metadata": {},
   "outputs": [],
   "source": [
    "isEven2 = lambda num : num%2 == 0"
   ]
  },
  {
   "cell_type": "code",
   "execution_count": null,
   "id": "54b97f15",
   "metadata": {},
   "outputs": [],
   "source": [
    "print(type(isEven2))"
   ]
  },
  {
   "cell_type": "code",
   "execution_count": null,
   "id": "6fe8559b",
   "metadata": {},
   "outputs": [],
   "source": [
    "isEven2(20)"
   ]
  },
  {
   "cell_type": "code",
   "execution_count": null,
   "id": "fadf2fcc",
   "metadata": {},
   "outputs": [],
   "source": [
    "isEven2(21)"
   ]
  },
  {
   "cell_type": "code",
   "execution_count": null,
   "id": "db3b47e5",
   "metadata": {},
   "outputs": [],
   "source": [
    "checkOddEven = lambda num : \"Even\" if num%2==0 else \"Odd\""
   ]
  },
  {
   "cell_type": "code",
   "execution_count": null,
   "id": "d1e3cbc2",
   "metadata": {},
   "outputs": [],
   "source": [
    "checkOddEven(20)"
   ]
  },
  {
   "cell_type": "code",
   "execution_count": null,
   "id": "0fdd7c7f",
   "metadata": {},
   "outputs": [],
   "source": [
    "checkOddEven(21)"
   ]
  },
  {
   "cell_type": "code",
   "execution_count": null,
   "id": "3d29425a",
   "metadata": {},
   "outputs": [],
   "source": [
    "key2 = lambda obj: obj if isinstance(obj, (int,float)) else 0\n",
    "\n",
    "mylist1 = [12,4,6,'hello', [11,22,33,44,'python']]\n",
    "mylist1.sort(key=key2)\n",
    "print(mylist1)"
   ]
  },
  {
   "cell_type": "code",
   "execution_count": null,
   "id": "28f7306d",
   "metadata": {},
   "outputs": [],
   "source": [
    "mylist1 = [12,4,6,'hello', [11,22,33,44,'python']]\n",
    "mylist1.sort(key=lambda obj: obj if isinstance(obj, (int,float)) else 10000)\n",
    "print(mylist1)"
   ]
  },
  {
   "cell_type": "code",
   "execution_count": null,
   "id": "9d67f36c",
   "metadata": {},
   "outputs": [],
   "source": [
    "sensor = 1\n",
    "\n",
    "if sensor == 1:\n",
    "    pass\n",
    "else:\n",
    "    print('sensor off')"
   ]
  },
  {
   "cell_type": "markdown",
   "id": "2ab188d8",
   "metadata": {},
   "source": [
    "# Scope of Variables"
   ]
  },
  {
   "cell_type": "code",
   "execution_count": null,
   "id": "49757d96",
   "metadata": {},
   "outputs": [],
   "source": [
    "g1 = 100\n",
    "g2 = 200\n",
    "\n",
    "\n",
    "def mf99(v1):\n",
    "    global g1\n",
    "    v2 = 222\n",
    "    g1 = 1212\n",
    "    \n",
    "    print(locals())\n",
    "    print(\"inside fn\", g1,g2,v1,v2)\n",
    "    \n",
    "print(\"before fn\", g1,g2)\n",
    "mf99(111)\n",
    "print(\"outside fn\", g1,g2)"
   ]
  },
  {
   "cell_type": "code",
   "execution_count": null,
   "id": "f827c001",
   "metadata": {},
   "outputs": [],
   "source": [
    "g1 = 100\n",
    "g2 = 200\n",
    "g3 = 300\n",
    "\n",
    "def mf888():\n",
    "    g2 = 2323   ##  non local\n",
    "    def mf99(v1):\n",
    "        global g1\n",
    "        v2 = 222\n",
    "        g1 = 1212\n",
    "\n",
    "        print(locals())\n",
    "        print(\"inside fn\", g1,g2,g3,v1,v2)\n",
    "        \n",
    "    print(locals())\n",
    "    mf99(2020)\n",
    "    \n",
    "print(\"before fn\", g1,g2)\n",
    "mf888()\n",
    "print(\"outside fn\", g1,g2)"
   ]
  },
  {
   "cell_type": "markdown",
   "id": "01af869f",
   "metadata": {},
   "source": [
    "# Recursion"
   ]
  },
  {
   "cell_type": "code",
   "execution_count": null,
   "id": "fcba0717",
   "metadata": {},
   "outputs": [],
   "source": [
    "def fact(n):\n",
    "    if n == 0:\n",
    "        return 1\n",
    "    \n",
    "    return n * fact(n-1)"
   ]
  },
  {
   "cell_type": "code",
   "execution_count": null,
   "id": "f3048b08",
   "metadata": {},
   "outputs": [],
   "source": [
    "fact(6)"
   ]
  },
  {
   "cell_type": "markdown",
   "id": "27e54986",
   "metadata": {},
   "source": [
    "# List Comprehension"
   ]
  },
  {
   "cell_type": "code",
   "execution_count": null,
   "id": "32987013",
   "metadata": {},
   "outputs": [],
   "source": [
    "mylist1 = [2,4,6,8,10]\n",
    "\n",
    "newlist = []\n",
    "for num in mylist1:\n",
    "    newlist.append(num**2)\n",
    "    \n",
    "print(newlist)    "
   ]
  },
  {
   "cell_type": "code",
   "execution_count": null,
   "id": "4a2436ed",
   "metadata": {},
   "outputs": [],
   "source": [
    "mylist1 = [2,4,6,8,10]\n",
    "\n",
    "sqlist = [ num**2     for num in mylist1   ]\n",
    "\n",
    "print(sqlist)"
   ]
  },
  {
   "cell_type": "code",
   "execution_count": null,
   "id": "72924991",
   "metadata": {},
   "outputs": [],
   "source": [
    "mylist1 = [1,2,4,5,7,8]\n",
    "\n",
    "plist = []\n",
    "for num in mylist1:\n",
    "    if num%2 == 0:\n",
    "        plist.append(num**2)\n",
    "    else:\n",
    "        plist.append(num**3)\n",
    "        \n",
    "print(plist)"
   ]
  },
  {
   "cell_type": "code",
   "execution_count": null,
   "id": "3a254eb4",
   "metadata": {},
   "outputs": [],
   "source": [
    "mylist1 = [1,2,4,5,7,8]\n",
    "plist = [ num**2 if num%2==0 else num**3   for num in mylist1  ]\n",
    "print(plist)"
   ]
  },
  {
   "cell_type": "code",
   "execution_count": null,
   "id": "0d9d470e",
   "metadata": {},
   "outputs": [],
   "source": [
    "mylist1 = [1,2,4,5,7,8]\n",
    "evensqlist = []\n",
    "\n",
    "for num in mylist1:\n",
    "    if num%2 == 0:\n",
    "        evensqlist.append(num**2)\n",
    "print(evensqlist)        "
   ]
  },
  {
   "cell_type": "code",
   "execution_count": null,
   "id": "b41a4baf",
   "metadata": {},
   "outputs": [],
   "source": [
    "mylist1 = [1,2,4,5,7,8]\n",
    "\n",
    "eslist = [ num**2  for num in mylist1  if num%2==0]\n",
    "print(eslist)"
   ]
  },
  {
   "cell_type": "code",
   "execution_count": null,
   "id": "51d8d035",
   "metadata": {},
   "outputs": [],
   "source": [
    "eolist = []\n",
    "\n",
    "for num in range(10,40):\n",
    "    if num%3 == 0:\n",
    "        if num%2 == 0:\n",
    "            eolist.append((num,num**2))\n",
    "        else:\n",
    "            eolist.append((num,num**3))\n",
    "            \n",
    "print(eolist)            "
   ]
  },
  {
   "cell_type": "code",
   "execution_count": null,
   "id": "1d39074a",
   "metadata": {},
   "outputs": [],
   "source": [
    "eolist1 = [(num,num**2) if num%2==0 else (num,num**3)  for num in range(10,40)  if num%3==0 ]\n",
    "print(eolist1)"
   ]
  },
  {
   "cell_type": "code",
   "execution_count": null,
   "id": "d34d6222",
   "metadata": {},
   "outputs": [],
   "source": [
    "ulist = ['u1','u2','u3']\n",
    "plist = ['p1','p2','p3']\n",
    "\n",
    "uplist = []\n",
    "for u in ulist:\n",
    "    for p in plist:\n",
    "        uplist.append((u,p))\n",
    "        \n",
    "print(uplist)        "
   ]
  },
  {
   "cell_type": "code",
   "execution_count": null,
   "id": "c263d256",
   "metadata": {},
   "outputs": [],
   "source": [
    "ulist = ['u1','u2','u3']\n",
    "plist = ['p1','p2','p3']\n",
    "\n",
    "uplist = [(u,p)  for u in ulist   for p in plist ]\n",
    "print(uplist)"
   ]
  },
  {
   "cell_type": "raw",
   "id": "18c631dc",
   "metadata": {},
   "source": [
    "Grammer # 3\n",
    "\n",
    "[ <3, final expre>  <1. level0 for loop >  <2. level1 for loop>]\n",
    "control_flow:  1,2,3,2,3,2,3,2,3,2ends,  1,2,3,2,3,2,3,2ends, 1end"
   ]
  },
  {
   "cell_type": "raw",
   "id": "35a66014",
   "metadata": {},
   "source": [
    "Grammer # 1\n",
    "\n",
    "[<2. final_expre>     <1. for loop >]\n",
    "control_flow:  1,2  1,2  1,2  1end.\n",
    "\n",
    "\n",
    "Grammer # 2\n",
    "[<3. final express>.  <1. for loop>  <2. Gating Condition> ]\n",
    "\n",
    "control_flow:  1,2T,3   1,2F   1,2T,3  1end\n",
    "\n",
    "\n",
    "Grammer # 3\n",
    "\n",
    "[ <3, final expre>  <1. level0 for loop >  <2. level1 for loop>]\n",
    "control_flow:  1,2,3,2,3,2,3,2,3,2ends,  1,2,3,2,3,2,3,2ends, 1end"
   ]
  },
  {
   "cell_type": "code",
   "execution_count": null,
   "id": "21ea5ed7",
   "metadata": {},
   "outputs": [],
   "source": [
    "ulist = ['u1','u2','u3']\n",
    "plist = ['p1','p2','p3']\n",
    "\n",
    "uplist = []\n",
    "for u in ulist:\n",
    "    if u != 'u2':\n",
    "        for p in plist:\n",
    "            if p != 'p2':\n",
    "                uplist.append((u,p))\n",
    "        \n",
    "print(uplist) "
   ]
  },
  {
   "cell_type": "code",
   "execution_count": null,
   "id": "d451f8d6",
   "metadata": {},
   "outputs": [],
   "source": [
    "ulist = ['u1','u2','u3']\n",
    "plist = ['p1','p2','p3']\n",
    "\n",
    "uplist = [(u,p)  for u in ulist  if u!='u2' for p in plist if p!='p2']\n",
    "print(uplist)"
   ]
  },
  {
   "cell_type": "code",
   "execution_count": null,
   "id": "17c1f0f9",
   "metadata": {},
   "outputs": [],
   "source": [
    "n = [num%3 for num in range(30) ]\n",
    "print(n)"
   ]
  },
  {
   "cell_type": "code",
   "execution_count": null,
   "id": "c769330b",
   "metadata": {},
   "outputs": [],
   "source": [
    "n = {num%3 for num in range(30) }\n",
    "print(n)"
   ]
  },
  {
   "cell_type": "code",
   "execution_count": null,
   "id": "48a63767",
   "metadata": {},
   "outputs": [],
   "source": [
    "n = {num:num**2  for num in range(10) }\n",
    "n"
   ]
  },
  {
   "cell_type": "code",
   "execution_count": null,
   "id": "d666d661",
   "metadata": {},
   "outputs": [],
   "source": []
  }
 ],
 "metadata": {
  "kernelspec": {
   "display_name": "Python 3 (ipykernel)",
   "language": "python",
   "name": "python3"
  },
  "language_info": {
   "codemirror_mode": {
    "name": "ipython",
    "version": 3
   },
   "file_extension": ".py",
   "mimetype": "text/x-python",
   "name": "python",
   "nbconvert_exporter": "python",
   "pygments_lexer": "ipython3",
   "version": "3.10.9"
  }
 },
 "nbformat": 4,
 "nbformat_minor": 5
}
