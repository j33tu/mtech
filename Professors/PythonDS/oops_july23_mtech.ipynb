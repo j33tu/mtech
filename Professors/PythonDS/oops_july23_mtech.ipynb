{
 "cells": [
  {
   "cell_type": "markdown",
   "id": "bf72d99a",
   "metadata": {},
   "source": [
    "# object oriented programming structure"
   ]
  },
  {
   "cell_type": "code",
   "execution_count": null,
   "id": "8b27f562",
   "metadata": {},
   "outputs": [],
   "source": [
    "class Point:\n",
    "    def __init__(self, ux=0, uy=0):\n",
    "        self.x = ux\n",
    "        self.y = uy\n",
    "        \n",
    "p1 = Point();  print(p1.x, p1.y)\n",
    "\n",
    "p1 = Point(20,30);  print(p1.x, p1.y)  "
   ]
  },
  {
   "cell_type": "code",
   "execution_count": null,
   "id": "405d30df",
   "metadata": {},
   "outputs": [],
   "source": [
    "class Rectangle:\n",
    "    def __init__(self, uh=100, uw=200, ucpx=0, ucpy=0):\n",
    "        self.height = int(uh)\n",
    "        self.width = uw\n",
    "        self.cp = Point(ucpx, ucpy)\n",
    "        \n",
    "    def findTopRightCorner(self):\n",
    "        trcx = self.width/2 + self.cp.x\n",
    "        trcy = self.height/2 + self.cp.y\n",
    "        \n",
    "        trp = Point(trcx, trcy)\n",
    "        return trp\n",
    "        \n",
    "r1 = Rectangle(uh=20, uw=30, ucpx=0, ucpy=3)\n",
    "print(r1.height, r1.width,r1.cp.x, r1.cp.y)"
   ]
  },
  {
   "cell_type": "code",
   "execution_count": null,
   "id": "8d3820e4",
   "metadata": {},
   "outputs": [],
   "source": [
    "r1 = Rectangle(uh=20, uw=30, ucpx=0, ucpy=0)\n",
    "trcp = r1.findTopRightCorner()\n",
    "print(trcp.x ,trcp.y)\n",
    "#print(trcp)  (20,30)"
   ]
  },
  {
   "cell_type": "code",
   "execution_count": null,
   "id": "beed7c6d",
   "metadata": {},
   "outputs": [],
   "source": [
    "class Point:\n",
    "    def __init__(self, ux=0, uy=0):\n",
    "        self.x = ux\n",
    "        self.y = uy\n",
    "        \n",
    "    def __str__(self):\n",
    "        ns1 = \"({}:{})\".format(self.x, self.y)\n",
    "        return ns1\n",
    "        \n",
    "p1 = Point(20,30)\n",
    "print(p1)"
   ]
  },
  {
   "cell_type": "code",
   "execution_count": null,
   "id": "0f1949d2",
   "metadata": {},
   "outputs": [],
   "source": [
    "class Point:\n",
    "    def __init__(self, ux=0, uy=0):\n",
    "        self.x = ux\n",
    "        self.y = uy\n",
    "        \n",
    "    def __str__(self):\n",
    "        ns1 = \"({}:{})\".format(self.x, self.y)\n",
    "        return ns1\n",
    "    \n",
    "    def __add__(self, other):\n",
    "        p_x = self.x + other.x\n",
    "        p_y = self.y + other.y\n",
    "        \n",
    "        return Point(p_x, p_y)\n",
    "    \n",
    "p1 = Point(10,20)\n",
    "p2 = Point(100,200)\n",
    "p3 = p1 + p2\n",
    "print(p3)"
   ]
  },
  {
   "cell_type": "code",
   "execution_count": null,
   "id": "6b1f0866",
   "metadata": {},
   "outputs": [],
   "source": []
  }
 ],
 "metadata": {
  "kernelspec": {
   "display_name": "Python 3 (ipykernel)",
   "language": "python",
   "name": "python3"
  },
  "language_info": {
   "codemirror_mode": {
    "name": "ipython",
    "version": 3
   },
   "file_extension": ".py",
   "mimetype": "text/x-python",
   "name": "python",
   "nbconvert_exporter": "python",
   "pygments_lexer": "ipython3",
   "version": "3.10.9"
  }
 },
 "nbformat": 4,
 "nbformat_minor": 5
}
