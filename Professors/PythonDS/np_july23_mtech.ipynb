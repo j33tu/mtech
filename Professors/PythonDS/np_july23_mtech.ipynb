{
 "cells": [
  {
   "cell_type": "markdown",
   "id": "a4e5b7a5",
   "metadata": {},
   "source": [
    "# NUMPY"
   ]
  },
  {
   "cell_type": "markdown",
   "id": "309bd068",
   "metadata": {},
   "source": [
    "# 09/July/2023"
   ]
  },
  {
   "cell_type": "code",
   "execution_count": null,
   "id": "0d5dc874",
   "metadata": {},
   "outputs": [],
   "source": [
    "import numpy as np"
   ]
  },
  {
   "cell_type": "markdown",
   "id": "fe609465",
   "metadata": {},
   "source": [
    "# Creation of Matrix"
   ]
  },
  {
   "cell_type": "code",
   "execution_count": null,
   "id": "3d89b5c2",
   "metadata": {},
   "outputs": [],
   "source": [
    "mylist1 = [11,22,33,44,55]\n",
    "n1 = np.array(mylist1)\n",
    "print(type(n1))\n",
    "print(n1)\n",
    "print(n1.ndim)    ## number of dimensions\n",
    "print(n1.shape)  # count along each axis\n",
    "print(n1.size)  ##  total num of elements\n",
    "print(n1.dtype)   ##  data type \n",
    "print(n1.itemsize)  ##  size of each item in memory in bytes"
   ]
  },
  {
   "cell_type": "code",
   "execution_count": null,
   "id": "1b6cfe0b",
   "metadata": {},
   "outputs": [],
   "source": [
    "n1"
   ]
  },
  {
   "cell_type": "code",
   "execution_count": null,
   "id": "2d452272",
   "metadata": {},
   "outputs": [],
   "source": [
    "mylist1 = [11,22,33,44.66,55]\n",
    "n1 = np.array(mylist1)\n",
    "print(type(n1))\n",
    "print(n1)\n",
    "print(n1.ndim)    ## number of dimensions\n",
    "print(n1.shape)  # count along each axis\n",
    "print(n1.size)  ##  total num of elements\n",
    "print(n1.dtype)   ##  data type \n",
    "print(n1.itemsize)  ##  size of each item in memory in bytes"
   ]
  },
  {
   "cell_type": "code",
   "execution_count": null,
   "id": "e807cd6a",
   "metadata": {},
   "outputs": [],
   "source": [
    "mylist1 = [11,22,33,44,127]\n",
    "n1 = np.array(mylist1, dtype=np.int8)\n",
    "print(type(n1))\n",
    "print(n1)\n",
    "print(n1.ndim)    ## number of dimensions\n",
    "print(n1.shape)  # count along each axis\n",
    "print(n1.size)  ##  total num of elements\n",
    "print(n1.dtype)   ##  data type \n",
    "print(n1.itemsize)  ##  size of each item in memory in bytes"
   ]
  },
  {
   "cell_type": "code",
   "execution_count": null,
   "id": "6edcd2df",
   "metadata": {},
   "outputs": [],
   "source": [
    "mylist1 = [11,22,33,44,137]\n",
    "n1 = np.array(mylist1, dtype=np.int8)\n",
    "print(type(n1))\n",
    "print(n1)            ##  data gets clipped bcas of int8 against value 137\n",
    "print(n1.ndim)    ## number of dimensions\n",
    "print(n1.shape)  # count along each axis\n",
    "print(n1.size)  ##  total num of elements\n",
    "print(n1.dtype)   ##  data type \n",
    "print(n1.itemsize)  ##  size of each item in memory in bytes"
   ]
  },
  {
   "cell_type": "code",
   "execution_count": null,
   "id": "3b133dcd",
   "metadata": {},
   "outputs": [],
   "source": [
    "mylist1 = [\n",
    "    [11,22,33],\n",
    "    [44,55,66]\n",
    "]\n",
    "mylist1"
   ]
  },
  {
   "cell_type": "code",
   "execution_count": null,
   "id": "4035b6c1",
   "metadata": {},
   "outputs": [],
   "source": [
    "mylist1 = [\n",
    "    [11,22,33],\n",
    "    [44,55,66]\n",
    "]\n",
    "n1 = np.array(mylist1)\n",
    "print(type(n1))\n",
    "print(n1)            ##  data gets clipped bcas of int8 against value 137\n",
    "print(n1.ndim)    ## number of dimensions\n",
    "print(n1.shape)  # count along each axis\n",
    "print(n1.size)  ##  total num of elements\n",
    "print(n1.dtype)   ##  data type \n",
    "print(n1.itemsize)  ##  size of each item in memory in bytes"
   ]
  },
  {
   "cell_type": "code",
   "execution_count": null,
   "id": "6b85b5a6",
   "metadata": {},
   "outputs": [],
   "source": [
    "mlist432 = [\n",
    "    [ [111,121], [141,151], [171,181] ],\n",
    "    [ [211,221], [241,251], [271,281] ],\n",
    "    [ [311,321], [341,351], [371,381] ],\n",
    "    [ [411,421], [441,451], [471,481] ]    \n",
    "]\n",
    "\n",
    "n432 = np.array(mlist432)\n",
    "print(n432.shape)\n",
    "print(n432)"
   ]
  },
  {
   "cell_type": "markdown",
   "id": "46882919",
   "metadata": {},
   "source": [
    "arange"
   ]
  },
  {
   "cell_type": "code",
   "execution_count": null,
   "id": "b65c2240",
   "metadata": {},
   "outputs": [],
   "source": [
    "n1 = np.arange(10,20,1)\n",
    "print(n1)\n",
    "print(n1.shape)"
   ]
  },
  {
   "cell_type": "code",
   "execution_count": null,
   "id": "1b3d79b0",
   "metadata": {},
   "outputs": [],
   "source": [
    "n1 = np.arange(12)\n",
    "print(n1)\n",
    "n34 = n1.reshape(3,4)\n",
    "n34"
   ]
  },
  {
   "cell_type": "code",
   "execution_count": null,
   "id": "ba9b3ffd",
   "metadata": {},
   "outputs": [],
   "source": [
    "n1 = np.arange(10.3,20.9,0.43)\n",
    "print(n1)\n",
    "print(n1.shape)"
   ]
  },
  {
   "cell_type": "code",
   "execution_count": null,
   "id": "ee2a1556",
   "metadata": {},
   "outputs": [],
   "source": [
    "n1 = np.arange(12)\n",
    "print(n1)\n",
    "\n",
    "n12 = n1.reshape(1,12)\n",
    "print(n12)\n",
    "n12.shape"
   ]
  },
  {
   "cell_type": "code",
   "execution_count": null,
   "id": "22ed49af",
   "metadata": {},
   "outputs": [],
   "source": [
    "n1 = np.arange(11212122)\n",
    "\n",
    "n2 = n1.reshape(6,-1)\n",
    "print(n2)\n",
    "print(n2.shape)"
   ]
  },
  {
   "cell_type": "code",
   "execution_count": null,
   "id": "120c2ca0",
   "metadata": {},
   "outputs": [],
   "source": [
    "n34"
   ]
  },
  {
   "cell_type": "code",
   "execution_count": null,
   "id": "efd15118",
   "metadata": {},
   "outputs": [],
   "source": [
    "n62 = n34.reshape(6,2)\n",
    "n62"
   ]
  },
  {
   "cell_type": "code",
   "execution_count": null,
   "id": "f5cc3816",
   "metadata": {},
   "outputs": [],
   "source": [
    "n1 = np.arange(48)\n",
    "n642 = n1.reshape(6,4,-1)\n",
    "n642.shape"
   ]
  },
  {
   "cell_type": "code",
   "execution_count": null,
   "id": "621f5c74",
   "metadata": {},
   "outputs": [],
   "source": [
    "np.random.seed(23)\n",
    "n1 = np.random.randint(low=0, high=100, size=(48,))\n",
    "print(n1.shape)\n",
    "n1"
   ]
  },
  {
   "cell_type": "code",
   "execution_count": null,
   "id": "efa4072c",
   "metadata": {},
   "outputs": [],
   "source": [
    "np.random.seed(23)\n",
    "n64 = np.random.randint(low=0, high=100, size=(6,4))\n",
    "print(n64.shape)\n",
    "n64"
   ]
  },
  {
   "cell_type": "markdown",
   "id": "6ab1aa6f",
   "metadata": {},
   "source": [
    "Arithmetic Ops"
   ]
  },
  {
   "cell_type": "code",
   "execution_count": null,
   "id": "1a03c7ad",
   "metadata": {},
   "outputs": [],
   "source": [
    "n1 = np.arange(12)\n",
    "print(n1)"
   ]
  },
  {
   "cell_type": "code",
   "execution_count": null,
   "id": "a5f61ea0",
   "metadata": {},
   "outputs": [],
   "source": [
    "n1+10"
   ]
  },
  {
   "cell_type": "code",
   "execution_count": null,
   "id": "905982f8",
   "metadata": {},
   "outputs": [],
   "source": [
    "n34a = np.arange(12).reshape(3,4)\n",
    "n34a"
   ]
  },
  {
   "cell_type": "code",
   "execution_count": null,
   "id": "e1682e72",
   "metadata": {},
   "outputs": [],
   "source": [
    "n34b = np.arange(100,112).reshape(3,4)\n",
    "n34b"
   ]
  },
  {
   "cell_type": "code",
   "execution_count": null,
   "id": "b7c331aa",
   "metadata": {},
   "outputs": [],
   "source": [
    "n34a+n34b"
   ]
  },
  {
   "cell_type": "code",
   "execution_count": null,
   "id": "9021701c",
   "metadata": {},
   "outputs": [],
   "source": [
    "openprice = np.random.randint(low=100,high=130, size=10)\n",
    "closeprice = np.random.randint(low=100,high=130, size=10)"
   ]
  },
  {
   "cell_type": "code",
   "execution_count": null,
   "id": "ea0866b3",
   "metadata": {},
   "outputs": [],
   "source": [
    "print(openprice)\n",
    "print(closeprice)\n",
    "volatility = openprice-closeprice\n",
    "volatility"
   ]
  },
  {
   "cell_type": "markdown",
   "id": "9406f097",
   "metadata": {},
   "source": [
    "# Access"
   ]
  },
  {
   "cell_type": "code",
   "execution_count": null,
   "id": "aa9b4d89",
   "metadata": {},
   "outputs": [],
   "source": [
    "np.random.seed(23)\n",
    "n89 = np.random.randint(low=0, high=100, size=(8,9))\n",
    "n89"
   ]
  },
  {
   "cell_type": "code",
   "execution_count": null,
   "id": "bc74f2c3",
   "metadata": {},
   "outputs": [],
   "source": [
    "n89[0]"
   ]
  },
  {
   "cell_type": "code",
   "execution_count": null,
   "id": "d1e3939f",
   "metadata": {},
   "outputs": [],
   "source": [
    "n89[0][0]"
   ]
  },
  {
   "cell_type": "code",
   "execution_count": null,
   "id": "2b72a3ba",
   "metadata": {},
   "outputs": [],
   "source": [
    "n89[0,0]"
   ]
  },
  {
   "cell_type": "code",
   "execution_count": null,
   "id": "91539d49",
   "metadata": {},
   "outputs": [],
   "source": [
    "n89[-1,-1]"
   ]
  },
  {
   "cell_type": "code",
   "execution_count": null,
   "id": "6f2e5a0a",
   "metadata": {},
   "outputs": [],
   "source": [
    "n89[2:5]"
   ]
  },
  {
   "cell_type": "code",
   "execution_count": null,
   "id": "3e94d91e",
   "metadata": {},
   "outputs": [],
   "source": [
    "n89[2:5:2]"
   ]
  },
  {
   "cell_type": "code",
   "execution_count": null,
   "id": "3b34c450",
   "metadata": {},
   "outputs": [],
   "source": [
    "n89[1:6, 3:6]"
   ]
  },
  {
   "cell_type": "code",
   "execution_count": null,
   "id": "6235c95c",
   "metadata": {},
   "outputs": [],
   "source": [
    "n89[ [0,2,3,-1,-2] ]"
   ]
  },
  {
   "cell_type": "code",
   "execution_count": null,
   "id": "32b88b2a",
   "metadata": {},
   "outputs": [],
   "source": [
    "n89"
   ]
  },
  {
   "cell_type": "code",
   "execution_count": null,
   "id": "0b16fe67",
   "metadata": {},
   "outputs": [],
   "source": [
    "n89[  [0,1,2] , [-1,-2,-3] ]"
   ]
  },
  {
   "cell_type": "code",
   "execution_count": null,
   "id": "a5f516a2",
   "metadata": {},
   "outputs": [],
   "source": [
    "list(zip([0,1,2] , [-1,-2,-3]))"
   ]
  },
  {
   "cell_type": "code",
   "execution_count": null,
   "id": "281f5fbd",
   "metadata": {},
   "outputs": [],
   "source": [
    "n89[: , [2,5,6]]"
   ]
  },
  {
   "cell_type": "code",
   "execution_count": null,
   "id": "4220c3f8",
   "metadata": {},
   "outputs": [],
   "source": [
    "n89[1:5, 5]"
   ]
  },
  {
   "cell_type": "code",
   "execution_count": null,
   "id": "73996917",
   "metadata": {},
   "outputs": [],
   "source": [
    "n89[1:5, [5]]"
   ]
  },
  {
   "cell_type": "raw",
   "id": "3a524210",
   "metadata": {},
   "source": [
    "Grammer\n",
    "\n",
    "n89[row_index]\n",
    "n89[row_index, col_index]\n",
    "\n",
    "n89[row_slice]\n",
    "n89[row_slice, col_slice]\n",
    "\n",
    "n89[ [list of row_indicies]  ]\n",
    "\n",
    "\n",
    "n89[ [list of row_indices] [list of col indices] ] \n",
    "# gives the value at the intersection of row and col\n",
    "\n",
    "\n",
    "combo of all of above\n",
    "\n",
    "n89[boolean matrix of same shape as n89]"
   ]
  },
  {
   "cell_type": "markdown",
   "id": "56b49d5a",
   "metadata": {},
   "source": [
    "# Conditional Access"
   ]
  },
  {
   "cell_type": "code",
   "execution_count": null,
   "id": "ef7a5c68",
   "metadata": {},
   "outputs": [],
   "source": [
    "n89"
   ]
  },
  {
   "cell_type": "code",
   "execution_count": null,
   "id": "52681906",
   "metadata": {},
   "outputs": [],
   "source": [
    "mask = n89 > 50\n",
    "print(mask)"
   ]
  },
  {
   "cell_type": "code",
   "execution_count": null,
   "id": "d4aacb0e",
   "metadata": {},
   "outputs": [],
   "source": [
    "n89[mask]"
   ]
  },
  {
   "cell_type": "code",
   "execution_count": null,
   "id": "aeb3461a",
   "metadata": {},
   "outputs": [],
   "source": [
    "n89[n89>50]"
   ]
  },
  {
   "cell_type": "code",
   "execution_count": null,
   "id": "f21a268b",
   "metadata": {},
   "outputs": [],
   "source": [
    "n89"
   ]
  },
  {
   "cell_type": "code",
   "execution_count": null,
   "id": "b5b97b1d",
   "metadata": {},
   "outputs": [],
   "source": [
    "mask1 = n89 > 80\n",
    "mask1"
   ]
  },
  {
   "cell_type": "code",
   "execution_count": null,
   "id": "9bfda6d3",
   "metadata": {},
   "outputs": [],
   "source": [
    "mask2 = n89 < 20\n",
    "mask2"
   ]
  },
  {
   "cell_type": "code",
   "execution_count": null,
   "id": "e6273ec2",
   "metadata": {},
   "outputs": [],
   "source": [
    "mask = mask1 | mask2\n",
    "mask"
   ]
  },
  {
   "cell_type": "code",
   "execution_count": null,
   "id": "35edc1b2",
   "metadata": {},
   "outputs": [],
   "source": [
    "n89[mask]"
   ]
  },
  {
   "cell_type": "code",
   "execution_count": null,
   "id": "2b4a8d0e",
   "metadata": {},
   "outputs": [],
   "source": [
    "n89[(n89>80) | (n89<20)]"
   ]
  },
  {
   "cell_type": "code",
   "execution_count": null,
   "id": "bdfc1816",
   "metadata": {},
   "outputs": [],
   "source": [
    "n89"
   ]
  },
  {
   "cell_type": "code",
   "execution_count": null,
   "id": "3fd5a208",
   "metadata": {},
   "outputs": [],
   "source": [
    "n89[(n89>80) & (n89%2==0)]"
   ]
  },
  {
   "cell_type": "code",
   "execution_count": null,
   "id": "cab04870",
   "metadata": {},
   "outputs": [],
   "source": [
    "n89"
   ]
  },
  {
   "cell_type": "code",
   "execution_count": null,
   "id": "4f4419f2",
   "metadata": {},
   "outputs": [],
   "source": [
    "n89[0] = 100"
   ]
  },
  {
   "cell_type": "code",
   "execution_count": null,
   "id": "d5249419",
   "metadata": {},
   "outputs": [],
   "source": [
    "n89"
   ]
  },
  {
   "cell_type": "code",
   "execution_count": null,
   "id": "9a23cb63",
   "metadata": {},
   "outputs": [],
   "source": [
    "n89[:,[5]]"
   ]
  },
  {
   "cell_type": "code",
   "execution_count": null,
   "id": "9fdf2d8d",
   "metadata": {},
   "outputs": [],
   "source": [
    "n89[:,[5,7]] = 20"
   ]
  },
  {
   "cell_type": "code",
   "execution_count": null,
   "id": "4ae30bde",
   "metadata": {},
   "outputs": [],
   "source": [
    "n89"
   ]
  },
  {
   "cell_type": "code",
   "execution_count": null,
   "id": "48f86cb8",
   "metadata": {},
   "outputs": [],
   "source": [
    "n89[n89>50] = 55"
   ]
  },
  {
   "cell_type": "code",
   "execution_count": null,
   "id": "48f1f5d3",
   "metadata": {},
   "outputs": [],
   "source": [
    "n89[n89>50]"
   ]
  },
  {
   "cell_type": "code",
   "execution_count": null,
   "id": "604293c6",
   "metadata": {},
   "outputs": [],
   "source": [
    "n89"
   ]
  },
  {
   "cell_type": "markdown",
   "id": "b152ae17",
   "metadata": {},
   "source": [
    "# Stacking of Numpy arrays"
   ]
  },
  {
   "cell_type": "code",
   "execution_count": null,
   "id": "a32c0529",
   "metadata": {},
   "outputs": [],
   "source": [
    "n34 = np.arange(12).reshape(3,4)\n",
    "n34"
   ]
  },
  {
   "cell_type": "code",
   "execution_count": null,
   "id": "e0fc3da6",
   "metadata": {},
   "outputs": [],
   "source": [
    "n36 = np.arange(100,118).reshape(3,6)\n",
    "n36"
   ]
  },
  {
   "cell_type": "code",
   "execution_count": null,
   "id": "32996019",
   "metadata": {},
   "outputs": [],
   "source": [
    "n3_10 = np.hstack(tup=(n34,n36,n34))\n",
    "print(n3_10)"
   ]
  },
  {
   "cell_type": "code",
   "execution_count": null,
   "id": "42dd4074",
   "metadata": {},
   "outputs": [],
   "source": [
    "n64 = np.arange(200,224).reshape(6,4)\n",
    "n64"
   ]
  },
  {
   "cell_type": "code",
   "execution_count": null,
   "id": "8d898cdb",
   "metadata": {},
   "outputs": [],
   "source": [
    "n94 = np.vstack(tup=(n64,n34))\n",
    "n94"
   ]
  },
  {
   "cell_type": "code",
   "execution_count": null,
   "id": "3e979670",
   "metadata": {},
   "outputs": [],
   "source": [
    "###  np.dstack.."
   ]
  },
  {
   "cell_type": "code",
   "execution_count": null,
   "id": "9525974e",
   "metadata": {},
   "outputs": [],
   "source": [
    "n1 = np.arange(5)\n",
    "n2 = np.arange(10,15)\n",
    "print(n1)\n",
    "print(n2)"
   ]
  },
  {
   "cell_type": "code",
   "execution_count": null,
   "id": "82887a5a",
   "metadata": {},
   "outputs": [],
   "source": [
    "np.row_stack(tup=(n1,n2))"
   ]
  },
  {
   "cell_type": "code",
   "execution_count": null,
   "id": "77846277",
   "metadata": {},
   "outputs": [],
   "source": [
    "np.column_stack(tup=(n1,n2))"
   ]
  },
  {
   "cell_type": "markdown",
   "id": "2882a3bb",
   "metadata": {},
   "source": [
    "# Splitting"
   ]
  },
  {
   "cell_type": "code",
   "execution_count": null,
   "id": "2a8b2ead",
   "metadata": {},
   "outputs": [],
   "source": [
    "np.random.seed(23)\n",
    "n89 = np.random.randint(low=0, high=100, size=(8,9))\n",
    "n89"
   ]
  },
  {
   "cell_type": "code",
   "execution_count": null,
   "id": "bd4a5861",
   "metadata": {},
   "outputs": [],
   "source": [
    "r = np.vsplit(n89,4)\n",
    "print(type(r))"
   ]
  },
  {
   "cell_type": "code",
   "execution_count": null,
   "id": "201374ce",
   "metadata": {},
   "outputs": [],
   "source": [
    "for item in r:\n",
    "    print(item)\n",
    "    print()"
   ]
  },
  {
   "cell_type": "code",
   "execution_count": null,
   "id": "4dc0e4ec",
   "metadata": {},
   "outputs": [],
   "source": [
    "np.vsplit(n89,4)"
   ]
  },
  {
   "cell_type": "code",
   "execution_count": null,
   "id": "e6813bc4",
   "metadata": {},
   "outputs": [],
   "source": [
    "np.vsplit(n89,3)"
   ]
  },
  {
   "cell_type": "code",
   "execution_count": null,
   "id": "8474d8cd",
   "metadata": {},
   "outputs": [],
   "source": [
    "np.vsplit(n89,[2,3,6,7])"
   ]
  },
  {
   "cell_type": "code",
   "execution_count": null,
   "id": "b9071e56",
   "metadata": {},
   "outputs": [],
   "source": [
    "np.hsplit(n89,3)"
   ]
  },
  {
   "cell_type": "code",
   "execution_count": null,
   "id": "3460ef5a",
   "metadata": {},
   "outputs": [],
   "source": [
    "np.hsplit(n89,[4])"
   ]
  },
  {
   "cell_type": "code",
   "execution_count": null,
   "id": "4f5b4afd",
   "metadata": {},
   "outputs": [],
   "source": [
    "##  np.dsplit"
   ]
  },
  {
   "cell_type": "markdown",
   "id": "faa8e5b8",
   "metadata": {},
   "source": [
    "# Random values"
   ]
  },
  {
   "cell_type": "code",
   "execution_count": null,
   "id": "b8db01d3",
   "metadata": {},
   "outputs": [],
   "source": [
    "import matplotlib.pyplot as plt"
   ]
  },
  {
   "cell_type": "code",
   "execution_count": null,
   "id": "bdcf7c75",
   "metadata": {},
   "outputs": [],
   "source": [
    "n = np.random.rand(50,50) \n",
    "print(n.min())\n",
    "print(n.max())\n",
    "print(n.mean())\n",
    "plt.scatter(n, n.T)\n",
    "plt.show()"
   ]
  },
  {
   "cell_type": "code",
   "execution_count": null,
   "id": "a83cc011",
   "metadata": {},
   "outputs": [],
   "source": [
    "n = np.random.randn(500,500) \n",
    "print(n.min())\n",
    "print(n.max())\n",
    "print(n.mean())\n",
    "plt.scatter(n, n.T)\n",
    "plt.show()\n",
    "\n",
    "plt.hist(n)\n",
    "plt.show()"
   ]
  },
  {
   "cell_type": "code",
   "execution_count": null,
   "id": "6503b702",
   "metadata": {},
   "outputs": [],
   "source": [
    "n34"
   ]
  },
  {
   "cell_type": "code",
   "execution_count": null,
   "id": "c0c4ed4c",
   "metadata": {},
   "outputs": [],
   "source": [
    "n34.T"
   ]
  },
  {
   "cell_type": "code",
   "execution_count": null,
   "id": "a8898274",
   "metadata": {},
   "outputs": [],
   "source": [
    "n.min()"
   ]
  },
  {
   "cell_type": "code",
   "execution_count": null,
   "id": "1882eb81",
   "metadata": {},
   "outputs": [],
   "source": [
    "n.max()"
   ]
  },
  {
   "cell_type": "code",
   "execution_count": null,
   "id": "6d8c14d3",
   "metadata": {},
   "outputs": [],
   "source": [
    "n.mean()"
   ]
  },
  {
   "cell_type": "code",
   "execution_count": null,
   "id": "0fd7ee2d",
   "metadata": {},
   "outputs": [],
   "source": [
    "n.std()"
   ]
  },
  {
   "cell_type": "code",
   "execution_count": null,
   "id": "eac8c223",
   "metadata": {},
   "outputs": [],
   "source": [
    "n.var()"
   ]
  },
  {
   "cell_type": "code",
   "execution_count": null,
   "id": "067a3ebd",
   "metadata": {},
   "outputs": [],
   "source": [
    "n.median()"
   ]
  },
  {
   "cell_type": "code",
   "execution_count": null,
   "id": "e45e2136",
   "metadata": {},
   "outputs": [],
   "source": [
    "np.median(n)"
   ]
  },
  {
   "cell_type": "code",
   "execution_count": null,
   "id": "a411bc50",
   "metadata": {},
   "outputs": [],
   "source": [
    "n34 = np.arange(12).reshape(3,4)\n",
    "n34"
   ]
  },
  {
   "cell_type": "code",
   "execution_count": null,
   "id": "fe8b2149",
   "metadata": {},
   "outputs": [],
   "source": [
    "print(n34.sum())\n",
    "print(n34.sum(axis=0))\n",
    "print(n34.sum(axis=1))"
   ]
  },
  {
   "cell_type": "code",
   "execution_count": null,
   "id": "62604a1b",
   "metadata": {},
   "outputs": [],
   "source": [
    "print(n34)\n",
    "print(n34.max())\n",
    "print(n34.max(axis=0))\n",
    "print(n34.max(axis=1))"
   ]
  },
  {
   "cell_type": "code",
   "execution_count": null,
   "id": "31c8c543",
   "metadata": {},
   "outputs": [],
   "source": [
    "print(n34)\n",
    "print(n34.min())\n",
    "print(n34.min(axis=0))\n",
    "print(n34.min(axis=1))"
   ]
  },
  {
   "cell_type": "code",
   "execution_count": null,
   "id": "3bccc949",
   "metadata": {},
   "outputs": [],
   "source": [
    "print(n34)\n",
    "print(n34.mean())\n",
    "print(n34.mean(axis=0))\n",
    "print(n34.mean(axis=1))"
   ]
  },
  {
   "cell_type": "code",
   "execution_count": null,
   "id": "f7f161e6",
   "metadata": {},
   "outputs": [],
   "source": [
    "np.linspace(0,7,8, retstep=True)"
   ]
  },
  {
   "cell_type": "code",
   "execution_count": null,
   "id": "cc58c452",
   "metadata": {},
   "outputs": [],
   "source": [
    "np.linspace(-1,1,5, retstep=True)"
   ]
  },
  {
   "cell_type": "code",
   "execution_count": null,
   "id": "ba2d2972",
   "metadata": {},
   "outputs": [],
   "source": [
    "np.linspace(50,300,6, retstep=True)"
   ]
  },
  {
   "cell_type": "code",
   "execution_count": null,
   "id": "6ae5257f",
   "metadata": {},
   "outputs": [],
   "source": [
    "np.linspace(3,5,9, retstep=True)"
   ]
  },
  {
   "cell_type": "code",
   "execution_count": null,
   "id": "8f3c6b8d",
   "metadata": {},
   "outputs": [],
   "source": [
    "n34a"
   ]
  },
  {
   "cell_type": "code",
   "execution_count": null,
   "id": "22b7cb0c",
   "metadata": {},
   "outputs": [],
   "source": [
    "n34b"
   ]
  },
  {
   "cell_type": "code",
   "execution_count": null,
   "id": "07d303f3",
   "metadata": {},
   "outputs": [],
   "source": [
    "n34a * n34b"
   ]
  },
  {
   "cell_type": "code",
   "execution_count": null,
   "id": "2a498de5",
   "metadata": {},
   "outputs": [],
   "source": [
    "n34a@n34b"
   ]
  },
  {
   "cell_type": "code",
   "execution_count": null,
   "id": "8d34de41",
   "metadata": {},
   "outputs": [],
   "source": [
    "n34a"
   ]
  },
  {
   "cell_type": "code",
   "execution_count": null,
   "id": "a9108552",
   "metadata": {},
   "outputs": [],
   "source": [
    "n43b = n34b.T\n",
    "n43b"
   ]
  },
  {
   "cell_type": "code",
   "execution_count": null,
   "id": "5d7100e8",
   "metadata": {},
   "outputs": [],
   "source": [
    "n34a@n43b"
   ]
  },
  {
   "cell_type": "code",
   "execution_count": null,
   "id": "d4b3af3b",
   "metadata": {},
   "outputs": [],
   "source": [
    "(0*100) + (1*101) + (2*102) + (3*103)"
   ]
  },
  {
   "cell_type": "markdown",
   "id": "4e59a956",
   "metadata": {},
   "source": [
    "# Looping on Numpy Array"
   ]
  },
  {
   "cell_type": "code",
   "execution_count": null,
   "id": "fe8cac07",
   "metadata": {},
   "outputs": [],
   "source": [
    "n34"
   ]
  },
  {
   "cell_type": "code",
   "execution_count": null,
   "id": "ad48d8b6",
   "metadata": {},
   "outputs": [],
   "source": [
    "for i in n34:\n",
    "    print(i)"
   ]
  },
  {
   "cell_type": "code",
   "execution_count": null,
   "id": "7b2009ed",
   "metadata": {},
   "outputs": [],
   "source": [
    "for value in np.nditer(n34, order='C'):\n",
    "    print(value)"
   ]
  },
  {
   "cell_type": "code",
   "execution_count": null,
   "id": "ce1eca59",
   "metadata": {},
   "outputs": [],
   "source": [
    "for value in np.nditer(n34, order='F'):\n",
    "    print(value)"
   ]
  },
  {
   "cell_type": "code",
   "execution_count": null,
   "id": "767813e2",
   "metadata": {},
   "outputs": [],
   "source": [
    "for index, value in np.ndenumerate(n34):\n",
    "    print(index, value)"
   ]
  },
  {
   "cell_type": "code",
   "execution_count": null,
   "id": "1731fa1d",
   "metadata": {},
   "outputs": [],
   "source": [
    "mylist1 = [11,22,33,44,55]\n",
    "for index, value in enumerate(mylist1):\n",
    "    print(index, value)"
   ]
  },
  {
   "cell_type": "markdown",
   "id": "3189ba13",
   "metadata": {},
   "source": [
    "where"
   ]
  },
  {
   "cell_type": "code",
   "execution_count": null,
   "id": "59129b8e",
   "metadata": {},
   "outputs": [],
   "source": [
    "n34"
   ]
  },
  {
   "cell_type": "code",
   "execution_count": null,
   "id": "550c6bea",
   "metadata": {},
   "outputs": [],
   "source": [
    "a0, a1 = np.where(n34>5)\n",
    "print(list(zip(a0,a1)))"
   ]
  },
  {
   "cell_type": "code",
   "execution_count": null,
   "id": "a7145444",
   "metadata": {},
   "outputs": [],
   "source": [
    "a0, a1 = np.where(n34==10)\n",
    "print(list(zip(a0,a1)))"
   ]
  },
  {
   "cell_type": "code",
   "execution_count": 195,
   "id": "1242c18d",
   "metadata": {},
   "outputs": [
    {
     "data": {
      "text/plain": [
       "array([[1, 0, 0],\n",
       "       [0, 1, 0],\n",
       "       [0, 0, 1]], dtype=int8)"
      ]
     },
     "execution_count": 195,
     "metadata": {},
     "output_type": "execute_result"
    }
   ],
   "source": [
    "np.identity(3, dtype=np.int8)"
   ]
  },
  {
   "cell_type": "code",
   "execution_count": null,
   "id": "f9a61ad5",
   "metadata": {},
   "outputs": [],
   "source": [
    "np.full(shape=(3,4), fill_value=55)"
   ]
  },
  {
   "cell_type": "code",
   "execution_count": null,
   "id": "24717b2c",
   "metadata": {},
   "outputs": [],
   "source": []
  }
 ],
 "metadata": {
  "kernelspec": {
   "display_name": "Python 3 (ipykernel)",
   "language": "python",
   "name": "python3"
  },
  "language_info": {
   "codemirror_mode": {
    "name": "ipython",
    "version": 3
   },
   "file_extension": ".py",
   "mimetype": "text/x-python",
   "name": "python",
   "nbconvert_exporter": "python",
   "pygments_lexer": "ipython3",
   "version": "3.10.9"
  }
 },
 "nbformat": 4,
 "nbformat_minor": 5
}
