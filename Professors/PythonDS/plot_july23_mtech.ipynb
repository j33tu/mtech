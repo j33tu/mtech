{
 "cells": [
  {
   "cell_type": "markdown",
   "id": "2485f2e1",
   "metadata": {},
   "source": [
    "# Plotting using Matplotlib and Seaborn"
   ]
  },
  {
   "cell_type": "raw",
   "id": "d4bbafa2",
   "metadata": {},
   "source": [
    "https://raw.githubusercontent.com/vcsgithub/vcsgithub.github.io/master/lds41.csv"
   ]
  },
  {
   "cell_type": "code",
   "execution_count": null,
   "id": "05481d6e",
   "metadata": {},
   "outputs": [],
   "source": [
    "import pandas as pd\n",
    "import numpy as np\n",
    "\n",
    "import matplotlib.pyplot as plt\n",
    "import seaborn as sns"
   ]
  },
  {
   "cell_type": "code",
   "execution_count": null,
   "id": "fc2652ac",
   "metadata": {},
   "outputs": [],
   "source": [
    "df1 = pd.read_csv('https://raw.githubusercontent.com/vcsgithub/vcsgithub.github.io/master/lds41.csv')\n",
    "df1"
   ]
  },
  {
   "cell_type": "code",
   "execution_count": null,
   "id": "a4133d74",
   "metadata": {},
   "outputs": [],
   "source": [
    "df1.shape"
   ]
  },
  {
   "cell_type": "markdown",
   "id": "f0eb7a33",
   "metadata": {},
   "source": [
    "# Scatter Plot"
   ]
  },
  {
   "cell_type": "code",
   "execution_count": null,
   "id": "a8cd62d9",
   "metadata": {},
   "outputs": [],
   "source": [
    "x1 = [1,2,3,4,5,6]\n",
    "y1 = [10,12,13,14,15,16]"
   ]
  },
  {
   "cell_type": "code",
   "execution_count": null,
   "id": "f27655ec",
   "metadata": {},
   "outputs": [],
   "source": [
    "plt.scatter(x=x1, y=y1, color='red', marker='>')\n",
    "plt.xlabel('x-axis')\n",
    "plt.ylabel('y-axis')\n",
    "plt.title('first scatter plot')\n",
    "plt.xticks([1,3,5])\n",
    "plt.yticks([11,13,15,17])\n",
    "\n",
    "plt.savefig('d:/scatter.png')\n",
    "\n",
    "f = plt.gcf()  ##  get current figure object\n",
    "print(f)\n",
    "\n",
    "plt.show()"
   ]
  },
  {
   "cell_type": "code",
   "execution_count": null,
   "id": "23e25fbd",
   "metadata": {},
   "outputs": [],
   "source": [
    "ps1 = df1.gear.value_counts()\n",
    "ps1"
   ]
  },
  {
   "cell_type": "code",
   "execution_count": null,
   "id": "554e96f0",
   "metadata": {},
   "outputs": [],
   "source": [
    "ps1.index"
   ]
  },
  {
   "cell_type": "code",
   "execution_count": null,
   "id": "7bf39ee4",
   "metadata": {},
   "outputs": [],
   "source": [
    "plt.scatter(x=df1.gear, y=df1.mpg)\n",
    "plt.xticks(ps1.index)\n",
    "plt.show()"
   ]
  },
  {
   "cell_type": "code",
   "execution_count": null,
   "id": "65fe95d6",
   "metadata": {},
   "outputs": [],
   "source": [
    "df1.head()"
   ]
  },
  {
   "cell_type": "code",
   "execution_count": null,
   "id": "34c265b8",
   "metadata": {},
   "outputs": [],
   "source": [
    "df1.plot(kind='scatter',x='gear',y='mpg')\n",
    "plt.show()"
   ]
  },
  {
   "cell_type": "code",
   "execution_count": null,
   "id": "a939da90",
   "metadata": {},
   "outputs": [],
   "source": [
    "df1[0:3].plot(kind='scatter',x='gear',y='mpg')\n",
    "plt.show()"
   ]
  },
  {
   "cell_type": "code",
   "execution_count": null,
   "id": "79cf0956",
   "metadata": {},
   "outputs": [],
   "source": [
    "df1.head()"
   ]
  },
  {
   "cell_type": "code",
   "execution_count": null,
   "id": "5e6846ae",
   "metadata": {},
   "outputs": [],
   "source": [
    "plt.scatter(x=df1.gear, y=df1.mpg, color='#ffff00')"
   ]
  },
  {
   "cell_type": "code",
   "execution_count": null,
   "id": "2431df13",
   "metadata": {},
   "outputs": [],
   "source": [
    "x1 = [1,2,3,4,5,6]\n",
    "y1 = [10,12,13,14,15,16]\n",
    "plt.scatter(x=x1, y=y1, color='red', marker='>')\n",
    "\n",
    "plt.text(4,11,'hello')\n",
    "\n",
    "plt.show()"
   ]
  },
  {
   "cell_type": "code",
   "execution_count": null,
   "id": "b8fc1b08",
   "metadata": {},
   "outputs": [],
   "source": [
    "x1 = [1,2,3,4,5,6]\n",
    "y1 = [10,12,13,14,15,16]\n",
    "plt.scatter(x=x1, y=y1, color='red', marker='>')\n",
    "\n",
    "for x,y in zip(x1,y1):\n",
    "    ms1 = str( (x,y) )\n",
    "    plt.text(x,y, ms1)\n",
    "\n",
    "plt.show()"
   ]
  },
  {
   "cell_type": "code",
   "execution_count": null,
   "id": "bd9ab05e",
   "metadata": {},
   "outputs": [],
   "source": [
    "df1.plot(kind='scatter',x='wt',y='mpg')\n",
    "plt.show()"
   ]
  },
  {
   "cell_type": "code",
   "execution_count": null,
   "id": "899f4993",
   "metadata": {},
   "outputs": [],
   "source": [
    "plt.figure(figsize=(3,2),dpi=100)\n",
    "plt.scatter(x=df1.gear, y=df1.mpg, color='#ffff00')\n",
    "plt.savefig('scat32.png')\n",
    "plt.show()"
   ]
  },
  {
   "cell_type": "code",
   "execution_count": null,
   "id": "764b27c9",
   "metadata": {},
   "outputs": [],
   "source": [
    "plt.scatter(x=df1.gear, y=df1.mpg, color='#ffff00')"
   ]
  },
  {
   "cell_type": "markdown",
   "id": "0a761e57",
   "metadata": {},
   "source": [
    "# Line Plot"
   ]
  },
  {
   "cell_type": "code",
   "execution_count": null,
   "id": "6c83be1a",
   "metadata": {},
   "outputs": [],
   "source": [
    "plt.figure(figsize=(3,2),dpi=100)\n",
    "\n",
    "x1 = [1,2,3,4,5,6]\n",
    "y1 = [10,12,13,14,15,16]\n",
    "\n",
    "plt.plot(x1,y1, marker='*')\n",
    "\n",
    "plt.show()"
   ]
  },
  {
   "cell_type": "code",
   "execution_count": null,
   "id": "217d7b01",
   "metadata": {},
   "outputs": [],
   "source": [
    "plt.plot(df1.wt, df1.mpg, marker='*')"
   ]
  },
  {
   "cell_type": "code",
   "execution_count": null,
   "id": "3bd354e7",
   "metadata": {},
   "outputs": [],
   "source": [
    "df1.plot(kind='line',x='wt',y='mpg', marker='*',figsize =(3,2))\n",
    "plt.show()"
   ]
  },
  {
   "cell_type": "code",
   "execution_count": null,
   "id": "a68a42f0",
   "metadata": {},
   "outputs": [],
   "source": [
    "df1[:].plot(kind='line',x='wt',y='mpg', marker='*',figsize =(3,2))\n",
    "plt.show()"
   ]
  },
  {
   "cell_type": "code",
   "execution_count": null,
   "id": "4c0ef01a",
   "metadata": {},
   "outputs": [],
   "source": [
    "df1.head()"
   ]
  },
  {
   "cell_type": "code",
   "execution_count": null,
   "id": "b4d45eba",
   "metadata": {},
   "outputs": [],
   "source": [
    "df1.sort_values(by='wt').plot(kind='line',x='wt',y='mpg', marker='*',figsize =(3,2))"
   ]
  },
  {
   "cell_type": "code",
   "execution_count": null,
   "id": "39b13da9",
   "metadata": {},
   "outputs": [],
   "source": [
    "plt.figure(figsize=(3,2),dpi=100)\n",
    "\n",
    "x1 = np.array([1,2,3,4,5,6])\n",
    "y1 = x1 * 2\n",
    "y2 = x1 ** 2\n",
    "\n",
    "plt.plot(x1,y1, marker='*', label='linear plot')\n",
    "plt.plot(x1,y2, marker='>', label='expo_plot')\n",
    "\n",
    "plt.legend()\n",
    "plt.show()"
   ]
  },
  {
   "cell_type": "code",
   "execution_count": null,
   "id": "d3841c01",
   "metadata": {},
   "outputs": [],
   "source": [
    "plt.figure(figsize=(3,2),dpi=100)\n",
    "\n",
    "plt.plot(df1.wt,df1.disp, marker='*', label='wt-disp',linestyle='--')\n",
    "plt.plot(df1.wt,df1.hp, marker='>', label='wt-hp')\n",
    "plt.legend()\n",
    "plt.show()"
   ]
  },
  {
   "cell_type": "markdown",
   "id": "a0aae454",
   "metadata": {},
   "source": [
    "# Bar Plot"
   ]
  },
  {
   "cell_type": "code",
   "execution_count": null,
   "id": "d0e37b36",
   "metadata": {},
   "outputs": [],
   "source": [
    "plt.figure(figsize=(3,2),dpi=100)\n",
    "cnames = ['Tata', 'Birla', 'Wipro', 'Infy']\n",
    "e1count = [100,200,300,400]\n",
    "e2count = [100,200,250,350]\n",
    "\n",
    "plt.bar(x=cnames, height=e1count, color='red')\n",
    "plt.bar(x=cnames, height=e2count, color='cyan')\n",
    "\n",
    "plt.show()"
   ]
  },
  {
   "cell_type": "code",
   "execution_count": null,
   "id": "c65418bf",
   "metadata": {},
   "outputs": [],
   "source": [
    "plt.figure(figsize=(3,2),dpi=100)\n",
    "cnames = ['Tata', 'Birla', 'Wipro', 'Infy']\n",
    "e1count = [100,200,300,400]\n",
    "e2count = [100,200,250,350]\n",
    "\n",
    "plt.bar(x=cnames, height=e1count, color='red',width=0.5)\n",
    "plt.bar(x=cnames, height=e2count, bottom=e1count, color='cyan',width=0.5)\n",
    "\n",
    "plt.show()"
   ]
  },
  {
   "cell_type": "code",
   "execution_count": null,
   "id": "54de55c4",
   "metadata": {},
   "outputs": [],
   "source": [
    "plt.figure(figsize=(3,2),dpi=100)\n",
    "cnames = ['Tata', 'Birla', 'Wipro', 'Infy']\n",
    "e1count = [100,200,300,400]\n",
    "e2count = [100,200,250,350]\n",
    "xticks = np.arange(len(cnames))\n",
    "print(xticks)\n",
    "\n",
    "plt.bar(x=xticks, height=e1count, color='red',width=0.4)\n",
    "plt.bar(x=xticks+0.4, height=e2count, color='blue',width=0.4)\n",
    "\n",
    "plt.xticks(xticks+0.2, cnames)\n",
    "plt.show()"
   ]
  },
  {
   "cell_type": "code",
   "execution_count": null,
   "id": "f2897ecc",
   "metadata": {},
   "outputs": [],
   "source": [
    "vc = df1.gear.value_counts()\n",
    "vc"
   ]
  },
  {
   "cell_type": "code",
   "execution_count": null,
   "id": "280517fe",
   "metadata": {},
   "outputs": [],
   "source": [
    "vc.plot(kind='bar',figsize=(3,2),rot=0)"
   ]
  },
  {
   "cell_type": "code",
   "execution_count": null,
   "id": "c9ab3a72",
   "metadata": {},
   "outputs": [],
   "source": [
    "df1.mpg.plot(kind='bar',figsize=(6,4),rot=90)"
   ]
  },
  {
   "cell_type": "code",
   "execution_count": null,
   "id": "e069e69f",
   "metadata": {},
   "outputs": [],
   "source": [
    "plt.bar(x=df1.model, height=df1.mpg, color=['r','g','b'])\n",
    "plt.xticks(rotation=90)\n",
    "plt.show()"
   ]
  },
  {
   "cell_type": "markdown",
   "id": "f0289f70",
   "metadata": {},
   "source": [
    "# Pie Chart"
   ]
  },
  {
   "cell_type": "code",
   "execution_count": null,
   "id": "f220dbd3",
   "metadata": {},
   "outputs": [],
   "source": [
    "vc = df1.gear.value_counts()\n",
    "vc"
   ]
  },
  {
   "cell_type": "code",
   "execution_count": null,
   "id": "93cb9f30",
   "metadata": {},
   "outputs": [],
   "source": [
    "plt.figure(figsize=(4,3))\n",
    "plt.pie(x=vc.values,labels=vc.index,autopct='%.2f',radius=1)\n",
    "plt.show()"
   ]
  },
  {
   "cell_type": "code",
   "execution_count": null,
   "id": "695db98b",
   "metadata": {},
   "outputs": [],
   "source": [
    "plt.figure(figsize=(4,3))\n",
    "plt.pie(x=vc.values,labels=vc.index,autopct='%.2f',explode=[0,0,0],radius=1)\n",
    "plt.show()"
   ]
  },
  {
   "cell_type": "code",
   "execution_count": null,
   "id": "e177e0bd",
   "metadata": {},
   "outputs": [],
   "source": [
    "plt.figure(figsize=(4,3))\n",
    "plt.pie(x=vc.values,labels=vc.index,autopct='%.2f',explode=[0,0,0.3],radius=1)\n",
    "plt.show()"
   ]
  },
  {
   "cell_type": "code",
   "execution_count": null,
   "id": "7d64991e",
   "metadata": {},
   "outputs": [],
   "source": [
    "plt.figure(figsize=(4,3))\n",
    "plt.pie(x=vc.values,labels=vc.index,autopct='%.2f',radius=1)\n",
    "\n",
    "circleobj = plt.Circle(xy=(0,0), radius=0.3, color='yellow')\n",
    "ax = plt.gca()\n",
    "ax.add_artist(circleobj)  ##  doughnut plot\n",
    "\n",
    "plt.show()"
   ]
  },
  {
   "cell_type": "code",
   "execution_count": null,
   "id": "c636066d",
   "metadata": {},
   "outputs": [],
   "source": [
    "vc = df1.gear.value_counts()\n",
    "vc"
   ]
  },
  {
   "cell_type": "code",
   "execution_count": null,
   "id": "2d0ccfd1",
   "metadata": {},
   "outputs": [],
   "source": [
    "vc.plot(kind='pie', autopct='%.1f',radius=1, figsize=(4,3))"
   ]
  },
  {
   "cell_type": "markdown",
   "id": "7eb7afbf",
   "metadata": {},
   "source": [
    "# Histogram"
   ]
  },
  {
   "cell_type": "code",
   "execution_count": null,
   "id": "b4f3d3ef",
   "metadata": {},
   "outputs": [],
   "source": [
    "np.random.seed(23)\n",
    "marks1 = np.random.randint(low=0, high=101,size=(100))\n",
    "print(marks1)\n",
    "print(marks1.min())\n",
    "print(marks1.max())"
   ]
  },
  {
   "cell_type": "code",
   "execution_count": null,
   "id": "17be6725",
   "metadata": {},
   "outputs": [],
   "source": [
    "plt.figure(figsize=(4,3))\n",
    "plt.hist(marks1,edgecolor='black',bins=5)"
   ]
  },
  {
   "cell_type": "code",
   "execution_count": null,
   "id": "37554df2",
   "metadata": {},
   "outputs": [],
   "source": [
    "plt.figure(figsize=(4,3))\n",
    "plt.hist(df1.hp,edgecolor='black',bins=5)"
   ]
  },
  {
   "cell_type": "code",
   "execution_count": null,
   "id": "a79a2e22",
   "metadata": {},
   "outputs": [],
   "source": [
    "plt.figure(figsize=(4,3))\n",
    "r = plt.hist(df1.hp,edgecolor='black',bins=5)\n",
    "print(r)\n",
    "plt.xticks(r[1])\n",
    "plt.show()"
   ]
  },
  {
   "cell_type": "code",
   "execution_count": null,
   "id": "352e58e0",
   "metadata": {},
   "outputs": [],
   "source": [
    "df1.hp.plot(kind='hist',edgecolor='black',figsize=(4,3))"
   ]
  },
  {
   "cell_type": "code",
   "execution_count": null,
   "id": "9aa77890",
   "metadata": {},
   "outputs": [],
   "source": [
    "df1.hp.plot(kind='kde',figsize=(4,3)) ## kernel density estimate. \n",
    "# probability distributio function plot.s"
   ]
  },
  {
   "cell_type": "markdown",
   "id": "c01701b7",
   "metadata": {},
   "source": [
    "# Box Plot"
   ]
  },
  {
   "cell_type": "code",
   "execution_count": null,
   "id": "7f4d2d39",
   "metadata": {},
   "outputs": [],
   "source": [
    "plt.figure(figsize=(4,3))\n",
    "r1 = list(range(100,200))\n",
    "r1.append(400)\n",
    "r1.append(450)\n",
    "r1.append(10)\n",
    "r1.append(252)\n",
    "\n",
    "r1 = np.array(r1)\n",
    "q2 = np.percentile(r1,50)\n",
    "q1 = np.percentile(r1,25)\n",
    "q3 = np.percentile(r1,75)\n",
    "iqr = q3 - q1\n",
    "uw = q3 + (1.5 * iqr)\n",
    "lw = q1 - (1.5 * iqr)\n",
    "print(q1,q2,q3,iqr,uw,lw)\n",
    "plt.boxplot(r1)\n",
    "plt.show()"
   ]
  },
  {
   "cell_type": "code",
   "execution_count": null,
   "id": "48b593a9",
   "metadata": {},
   "outputs": [],
   "source": [
    "r2 = list(range(100,201))\n",
    "np.percentile(r2,50)"
   ]
  },
  {
   "cell_type": "code",
   "execution_count": null,
   "id": "d087d045",
   "metadata": {},
   "outputs": [],
   "source": [
    "plt.figure(figsize=(4,3))\n",
    "plt.boxplot(df1.hp)\n",
    "plt.show()"
   ]
  },
  {
   "cell_type": "code",
   "execution_count": null,
   "id": "584fffef",
   "metadata": {},
   "outputs": [],
   "source": [
    "df1.hp.plot(kind='box', figsize=(4,3))"
   ]
  },
  {
   "cell_type": "code",
   "execution_count": null,
   "id": "3cdb08ce",
   "metadata": {},
   "outputs": [],
   "source": [
    "plt.figure(figsize=(4,3))\n",
    "plt.boxplot([df1.hp,df1.disp])\n",
    "plt.show()"
   ]
  },
  {
   "cell_type": "markdown",
   "id": "de958fbc",
   "metadata": {},
   "source": [
    "# Seaborn"
   ]
  },
  {
   "cell_type": "code",
   "execution_count": null,
   "id": "aecb6e83",
   "metadata": {},
   "outputs": [],
   "source": [
    "plt.figure(figsize=(3,2))\n",
    "sns.boxplot(df1.hp)"
   ]
  },
  {
   "cell_type": "code",
   "execution_count": null,
   "id": "23af1444",
   "metadata": {},
   "outputs": [],
   "source": [
    "plt.figure(figsize=(3,2))\n",
    "sns.boxplot(x=df1.gear, y=df1.hp)"
   ]
  },
  {
   "cell_type": "code",
   "execution_count": null,
   "id": "9a872a82",
   "metadata": {},
   "outputs": [],
   "source": [
    "plt.figure(figsize=(3,2))\n",
    "sns.boxplot(x=df1.gear, y=df1.hp, hue=df1.am)"
   ]
  },
  {
   "cell_type": "code",
   "execution_count": null,
   "id": "a4acc53d",
   "metadata": {},
   "outputs": [],
   "source": [
    "df1.am.value_counts()"
   ]
  },
  {
   "cell_type": "code",
   "execution_count": null,
   "id": "7a581856",
   "metadata": {},
   "outputs": [],
   "source": [
    "plt.figure(figsize=(4,3))\n",
    "r1 = list(range(100,3000))\n",
    "\n",
    "sns.boxenplot(r1)"
   ]
  },
  {
   "cell_type": "code",
   "execution_count": null,
   "id": "4e76d2ea",
   "metadata": {},
   "outputs": [],
   "source": [
    "plt.figure(figsize=(4,3))\n",
    "r1 = list(range(100,3000))\n",
    "sns.violinplot(r1)"
   ]
  },
  {
   "cell_type": "code",
   "execution_count": null,
   "id": "b4ee2ccf",
   "metadata": {},
   "outputs": [],
   "source": [
    "plt.figure(figsize=(3,2))\n",
    "sns.violinplot(x=df1.gear, y=df1.hp)"
   ]
  },
  {
   "cell_type": "markdown",
   "id": "40c20615",
   "metadata": {},
   "source": [
    "# Scatter Family"
   ]
  },
  {
   "cell_type": "code",
   "execution_count": null,
   "id": "70c433ea",
   "metadata": {},
   "outputs": [],
   "source": [
    "x1 = [1,2,3,1,2,3,1,2,3]\n",
    "y1 = [4,5,6,4,5,6,4,5,6]"
   ]
  },
  {
   "cell_type": "code",
   "execution_count": null,
   "id": "5ed40712",
   "metadata": {},
   "outputs": [],
   "source": [
    "plt.figure(figsize=(3,2))\n",
    "sns.scatterplot(x=x1,y=y1)"
   ]
  },
  {
   "cell_type": "code",
   "execution_count": null,
   "id": "00a6d375",
   "metadata": {},
   "outputs": [],
   "source": [
    "plt.figure(figsize=(3,2))\n",
    "sns.stripplot(x=x1,y=y1)"
   ]
  },
  {
   "cell_type": "code",
   "execution_count": null,
   "id": "55a939ee",
   "metadata": {},
   "outputs": [],
   "source": [
    "plt.figure(figsize=(3,2))\n",
    "sns.swarmplot(x=x1,y=y1, color='red')"
   ]
  },
  {
   "cell_type": "code",
   "execution_count": null,
   "id": "f49d86ad",
   "metadata": {},
   "outputs": [],
   "source": [
    "plt.figure(figsize=(3,2))\n",
    "sns.scatterplot(x=df1.gear, y=df1.mpg)"
   ]
  },
  {
   "cell_type": "code",
   "execution_count": null,
   "id": "a84fdd98",
   "metadata": {},
   "outputs": [],
   "source": [
    "plt.figure(figsize=(3,2))\n",
    "sns.stripplot(x=df1.gear, y=df1.mpg)"
   ]
  },
  {
   "cell_type": "code",
   "execution_count": null,
   "id": "084bf48e",
   "metadata": {},
   "outputs": [],
   "source": [
    "plt.figure(figsize=(3,2))\n",
    "sns.swarmplot(x=df1.gear, y=df1.mpg)"
   ]
  },
  {
   "cell_type": "code",
   "execution_count": null,
   "id": "ecfd2eea",
   "metadata": {},
   "outputs": [],
   "source": [
    "plt.figure(figsize=(6,4))\n",
    "sns.swarmplot(x=df1.gear, y=df1.mpg, hue=df1.cyl,palette='rainbow')"
   ]
  },
  {
   "cell_type": "markdown",
   "id": "43748e78",
   "metadata": {},
   "source": [
    "# Distribution Plot"
   ]
  },
  {
   "cell_type": "code",
   "execution_count": null,
   "id": "894c9750",
   "metadata": {},
   "outputs": [],
   "source": [
    "plt.figure(figsize=(6,4))\n",
    "\n",
    "sns.distplot(df1.hp, \n",
    "             hist=True,kde=False,rug=False, \n",
    "             hist_kws={'edgecolor':'black','color':'red'})\n",
    "plt.show()"
   ]
  },
  {
   "cell_type": "code",
   "execution_count": null,
   "id": "6c664775",
   "metadata": {},
   "outputs": [],
   "source": [
    "plt.figure(figsize=(6,4))\n",
    "\n",
    "sns.distplot(df1.hp, \n",
    "             hist=False,kde=False,rug=True, \n",
    "             hist_kws={'edgecolor':'black','color':'red'})\n",
    "plt.show()"
   ]
  },
  {
   "cell_type": "code",
   "execution_count": null,
   "id": "cf0f2172",
   "metadata": {},
   "outputs": [],
   "source": [
    "sns.rugplot(df1.hp, height=0.5)"
   ]
  },
  {
   "cell_type": "code",
   "execution_count": null,
   "id": "1ec06397",
   "metadata": {},
   "outputs": [],
   "source": [
    "sns.kdeplot(df1.hp)"
   ]
  },
  {
   "cell_type": "code",
   "execution_count": null,
   "id": "5314027d",
   "metadata": {},
   "outputs": [],
   "source": [
    "plt.figure(figsize=(4,3))\n",
    "\n",
    "sns.distplot(df1.hp, \n",
    "             hist=True,kde=True,rug=True, \n",
    "             hist_kws={'edgecolor':'black','color':'red'})\n",
    "plt.show()"
   ]
  },
  {
   "cell_type": "markdown",
   "id": "9d255c06",
   "metadata": {},
   "source": [
    "# Bar Plot"
   ]
  },
  {
   "cell_type": "code",
   "execution_count": null,
   "id": "900af788",
   "metadata": {},
   "outputs": [],
   "source": [
    "plt.figure(figsize=(4,3))\n",
    "sns.barplot(x=df1.model, y=df1.mpg)\n",
    "plt.xticks(rotation=90)\n",
    "plt.show()"
   ]
  },
  {
   "cell_type": "code",
   "execution_count": null,
   "id": "a864f9f6",
   "metadata": {},
   "outputs": [],
   "source": [
    "plt.figure(figsize=(3,2))\n",
    "sns.barplot(df1.mpg)"
   ]
  },
  {
   "cell_type": "code",
   "execution_count": null,
   "id": "9f08ba2a",
   "metadata": {},
   "outputs": [],
   "source": [
    "df1.mpg.min()"
   ]
  },
  {
   "cell_type": "code",
   "execution_count": null,
   "id": "185a2c05",
   "metadata": {},
   "outputs": [],
   "source": [
    "df1.mpg.max()"
   ]
  },
  {
   "cell_type": "code",
   "execution_count": null,
   "id": "0d44a8c5",
   "metadata": {},
   "outputs": [],
   "source": [
    "df1.mpg.mean()"
   ]
  },
  {
   "cell_type": "code",
   "execution_count": null,
   "id": "df098e1b",
   "metadata": {},
   "outputs": [],
   "source": [
    "sns.countplot(df1.hp)"
   ]
  },
  {
   "cell_type": "code",
   "execution_count": null,
   "id": "f1c5ddab",
   "metadata": {},
   "outputs": [],
   "source": [
    "sns.countplot(y=df1.mpg)"
   ]
  },
  {
   "cell_type": "code",
   "execution_count": null,
   "id": "30ba2e3f",
   "metadata": {},
   "outputs": [],
   "source": [
    "df1.mpg.value_counts()"
   ]
  },
  {
   "cell_type": "markdown",
   "id": "70444ff5",
   "metadata": {},
   "source": [
    "# Regression Plot"
   ]
  },
  {
   "cell_type": "code",
   "execution_count": null,
   "id": "526810bd",
   "metadata": {},
   "outputs": [],
   "source": [
    "plt.figure(figsize=(4,3))\n",
    "sns.regplot(x=df1.wt, y=df1.mpg)"
   ]
  },
  {
   "cell_type": "markdown",
   "id": "ec1a4b79",
   "metadata": {},
   "source": [
    "# Multi Plots"
   ]
  },
  {
   "cell_type": "code",
   "execution_count": null,
   "id": "6074ec51",
   "metadata": {},
   "outputs": [],
   "source": [
    "plt.figure(figsize=(3,2))\n",
    "\n",
    "df2 = df1[['mpg','hp','wt','disp']]\n",
    "\n",
    "sns.pairplot(df2)"
   ]
  },
  {
   "cell_type": "code",
   "execution_count": null,
   "id": "e1cdbc20",
   "metadata": {},
   "outputs": [],
   "source": [
    "plt.figure(figsize=(3,2))\n",
    "sns.jointplot(x=df1.wt, y=df1.mpg)"
   ]
  },
  {
   "cell_type": "code",
   "execution_count": null,
   "id": "6707e236",
   "metadata": {},
   "outputs": [],
   "source": [
    "cmat = df1.corr(numeric_only=True)\n",
    "cmat"
   ]
  },
  {
   "cell_type": "code",
   "execution_count": null,
   "id": "43b52586",
   "metadata": {},
   "outputs": [],
   "source": [
    "sns.heatmap(cmat, annot=True, cmap='rainbow')"
   ]
  },
  {
   "cell_type": "code",
   "execution_count": null,
   "id": "934cea11",
   "metadata": {},
   "outputs": [],
   "source": [
    "print(plt.colormaps())"
   ]
  },
  {
   "cell_type": "code",
   "execution_count": null,
   "id": "08406245",
   "metadata": {},
   "outputs": [],
   "source": [
    "sns.pointplot(df1.mpg)"
   ]
  },
  {
   "cell_type": "markdown",
   "id": "0fe292a1",
   "metadata": {},
   "source": [
    "# Plotly"
   ]
  },
  {
   "cell_type": "code",
   "execution_count": null,
   "id": "287da1be",
   "metadata": {},
   "outputs": [],
   "source": [
    "import plotly"
   ]
  },
  {
   "cell_type": "code",
   "execution_count": null,
   "id": "0ab948b8",
   "metadata": {},
   "outputs": [],
   "source": [
    "import plotly.express as px"
   ]
  },
  {
   "cell_type": "code",
   "execution_count": null,
   "id": "f1742a52",
   "metadata": {},
   "outputs": [],
   "source": [
    "f = px.box(df1.mpg)\n",
    "f.show()"
   ]
  },
  {
   "cell_type": "code",
   "execution_count": null,
   "id": "91a9e484",
   "metadata": {},
   "outputs": [],
   "source": [
    "f = px.scatter(x=df1.gear, y=df1.mpg)\n",
    "f.show()"
   ]
  },
  {
   "cell_type": "code",
   "execution_count": null,
   "id": "79640a72",
   "metadata": {},
   "outputs": [],
   "source": [
    "import sys"
   ]
  },
  {
   "cell_type": "code",
   "execution_count": null,
   "id": "284ef1c4",
   "metadata": {},
   "outputs": [],
   "source": [
    "print(dir(sys))"
   ]
  },
  {
   "cell_type": "code",
   "execution_count": null,
   "id": "0267e6cc",
   "metadata": {},
   "outputs": [],
   "source": [
    "sys.path"
   ]
  },
  {
   "cell_type": "markdown",
   "id": "60afaed6",
   "metadata": {},
   "source": [
    "# MAP"
   ]
  },
  {
   "cell_type": "code",
   "execution_count": null,
   "id": "9c0cfd02",
   "metadata": {},
   "outputs": [],
   "source": [
    "#km2m\n",
    "\n",
    "kmlist = [1,3,5,7,9]\n",
    "\n",
    "mlist = list(map(lambda k:k*1000, kmlist))\n",
    "mlist"
   ]
  },
  {
   "cell_type": "markdown",
   "id": "23a72c22",
   "metadata": {},
   "source": [
    "# Filter"
   ]
  },
  {
   "cell_type": "code",
   "execution_count": null,
   "id": "1c8492ad",
   "metadata": {},
   "outputs": [],
   "source": [
    "import random"
   ]
  },
  {
   "cell_type": "code",
   "execution_count": null,
   "id": "7ccd7701",
   "metadata": {},
   "outputs": [],
   "source": [
    "rvalues = [random.randint(10,100) for i in range(20)]\n",
    "print(rvalues)"
   ]
  },
  {
   "cell_type": "code",
   "execution_count": null,
   "id": "7cabbdd6",
   "metadata": {},
   "outputs": [],
   "source": [
    "elist = list(filter(lambda v: v%2==0,rvalues))\n",
    "elist"
   ]
  },
  {
   "cell_type": "markdown",
   "id": "896c83ac",
   "metadata": {},
   "source": [
    "# Reduce"
   ]
  },
  {
   "cell_type": "code",
   "execution_count": null,
   "id": "59c4d770",
   "metadata": {},
   "outputs": [],
   "source": [
    "import functools as ft"
   ]
  },
  {
   "cell_type": "code",
   "execution_count": null,
   "id": "aad17e84",
   "metadata": {},
   "outputs": [],
   "source": [
    "source_list = [2,4,6,8,10,12]\n",
    "r = ft.reduce(lambda x,y: x+y, source_list)\n",
    "print(r)"
   ]
  },
  {
   "cell_type": "code",
   "execution_count": null,
   "id": "14d7b090",
   "metadata": {},
   "outputs": [],
   "source": [
    "source_list = [2,4,6,18,10,12]\n",
    "r = ft.reduce(lambda x,y: x if x>y else y, source_list)\n",
    "print(r)"
   ]
  },
  {
   "cell_type": "code",
   "execution_count": null,
   "id": "75982c2c",
   "metadata": {},
   "outputs": [],
   "source": [
    "source_list = [2,4,6,18,10,12]\n",
    "r = ft.reduce(lambda x,y: max(x,y), source_list)\n",
    "print(r)"
   ]
  },
  {
   "cell_type": "code",
   "execution_count": null,
   "id": "baea77be",
   "metadata": {},
   "outputs": [],
   "source": [
    "max(source_list)"
   ]
  },
  {
   "cell_type": "code",
   "execution_count": null,
   "id": "798218d1",
   "metadata": {},
   "outputs": [],
   "source": [
    "help(ft.reduce)"
   ]
  },
  {
   "cell_type": "code",
   "execution_count": null,
   "id": "f485931d",
   "metadata": {},
   "outputs": [],
   "source": []
  }
 ],
 "metadata": {
  "kernelspec": {
   "display_name": "Python 3 (ipykernel)",
   "language": "python",
   "name": "python3"
  },
  "language_info": {
   "codemirror_mode": {
    "name": "ipython",
    "version": 3
   },
   "file_extension": ".py",
   "mimetype": "text/x-python",
   "name": "python",
   "nbconvert_exporter": "python",
   "pygments_lexer": "ipython3",
   "version": "3.10.9"
  }
 },
 "nbformat": 4,
 "nbformat_minor": 5
}
