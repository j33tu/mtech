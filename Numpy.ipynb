{
 "cells": [
  {
   "cell_type": "markdown",
   "id": "5ce47a1e",
   "metadata": {},
   "source": [
    "# Numpy"
   ]
  },
  {
   "cell_type": "code",
   "execution_count": 1,
   "id": "5d45cc80",
   "metadata": {},
   "outputs": [],
   "source": [
    "#Numarical Python \n",
    "# general purpose Array processosing python \n",
    "# Numpy : numbers based access\n",
    "#pandas : full access , Internally stores in numpy array only. \n",
    "# Numpy , pandas, matplolib , Seaborn "
   ]
  },
  {
   "cell_type": "code",
   "execution_count": 2,
   "id": "727c8598",
   "metadata": {},
   "outputs": [],
   "source": [
    "#Numpy is core library for scintific computing in python , Gereral purpse array processing package. "
   ]
  },
  {
   "cell_type": "code",
   "execution_count": 3,
   "id": "4b691bc2",
   "metadata": {},
   "outputs": [],
   "source": [
    "# Axis --->>>>> ID Array , 2 D Array , 3 D Array \n",
    "# Shape(4) shape (2,3) shape(4,3,2) can be N dimensions as every new catagory gives you new dimension "
   ]
  },
  {
   "cell_type": "markdown",
   "id": "e2b6c251",
   "metadata": {},
   "source": [
    "# Creation of matrix"
   ]
  },
  {
   "cell_type": "code",
   "execution_count": 23,
   "id": "afa8e3bc",
   "metadata": {},
   "outputs": [
    {
     "name": "stdout",
     "output_type": "stream",
     "text": [
      "[11 22 33 44 55 66]\n",
      "6\n",
      "(6,)\n",
      "[11 22 33 44 55 66]\n",
      "int64\n",
      "8\n"
     ]
    }
   ],
   "source": [
    "import numpy as np\n",
    "mylist1 = [11,22,33,44,55,66]\n",
    "n1 = np.array(mylist1)\n",
    "print(n1)\n",
    "print(n1.size)\n",
    "print(n1.shape)\n",
    "print(n1)\n",
    "print(n1.dtype) # is importent\n",
    "print(n1.itemsize)"
   ]
  },
  {
   "cell_type": "code",
   "execution_count": 28,
   "id": "9273c9cc",
   "metadata": {},
   "outputs": [
    {
     "name": "stdout",
     "output_type": "stream",
     "text": [
      "[11 22 33 44 55 66]\n",
      "6\n",
      "(6,)\n",
      "[11 22 33 44 55 66]\n",
      "int64\n",
      "8\n"
     ]
    }
   ],
   "source": [
    "import numpy as np\n",
    "mylist1 = [11,22,33,44,55,66]\n",
    "n1 = np.array(mylist1,dtype=int)\n",
    "print(n1)\n",
    "print(n1.size)\n",
    "print(n1.shape)\n",
    "print(n1)\n",
    "print(n1.dtype)\n",
    "print(n1.itemsize)"
   ]
  },
  {
   "cell_type": "code",
   "execution_count": 37,
   "id": "5c96dbfa",
   "metadata": {},
   "outputs": [
    {
     "name": "stdout",
     "output_type": "stream",
     "text": [
      "[[11 22 33]\n",
      " [44 55 66]]\n",
      "6\n",
      "(2, 3)\n",
      "[[11 22 33]\n",
      " [44 55 66]]\n",
      "int64\n",
      "8\n"
     ]
    }
   ],
   "source": [
    "# create Manual array \n",
    "list2= [\n",
    "    [11,22,33],\n",
    "    [44,55,66]\n",
    "]\n",
    "import numpy as np\n",
    "n1 = np.array(list2,dtype=int)\n",
    "print(n1)\n",
    "print(n1.size)\n",
    "print(n1.shape)\n",
    "print(n1)\n",
    "print(n1.dtype)\n",
    "print(n1.itemsize)"
   ]
  },
  {
   "cell_type": "code",
   "execution_count": 44,
   "id": "880fffb3",
   "metadata": {},
   "outputs": [
    {
     "name": "stdout",
     "output_type": "stream",
     "text": [
      "[[[111 121]\n",
      "  [141 151]\n",
      "  [171 181]]\n",
      "\n",
      " [[211 221]\n",
      "  [241 251]\n",
      "  [271 281]]\n",
      "\n",
      " [[311 321]\n",
      "  [341 351]\n",
      "  [371 381]]\n",
      "\n",
      " [[411 421]\n",
      "  [441 451]\n",
      "  [471 481]]]\n",
      "24\n",
      "(4, 3, 2)\n",
      "[[[111 121]\n",
      "  [141 151]\n",
      "  [171 181]]\n",
      "\n",
      " [[211 221]\n",
      "  [241 251]\n",
      "  [271 281]]\n",
      "\n",
      " [[311 321]\n",
      "  [341 351]\n",
      "  [371 381]]\n",
      "\n",
      " [[411 421]\n",
      "  [441 451]\n",
      "  [471 481]]]\n",
      "int64\n",
      "8\n"
     ]
    }
   ],
   "source": [
    "#create 3 d Array \n",
    "list3 = [\n",
    "    [[111,121],[141,151],[171,181]],\n",
    "    [[211,221],[241,251],[271,281]],\n",
    "    [[311,321],[341,351],[371,381]],\n",
    "    [[411,421],[441,451],[471,481]],\n",
    "]\n",
    "import numpy as np\n",
    "n2 = np.array(list3,dtype=int)\n",
    "print(n2)\n",
    "print(n2.size)\n",
    "print(n2.shape)\n",
    "print(n2)\n",
    "print(n2.dtype)\n",
    "print(n2.itemsize)"
   ]
  },
  {
   "cell_type": "markdown",
   "id": "4c322a78",
   "metadata": {},
   "source": [
    "# arange"
   ]
  },
  {
   "cell_type": "code",
   "execution_count": 57,
   "id": "c1d74bb5",
   "metadata": {},
   "outputs": [
    {
     "ename": "NameError",
     "evalue": "name 'sadf' is not defined",
     "output_type": "error",
     "traceback": [
      "\u001b[0;31m---------------------------------------------------------------------------\u001b[0m",
      "\u001b[0;31mNameError\u001b[0m                                 Traceback (most recent call last)",
      "Cell \u001b[0;32mIn[57], line 1\u001b[0m\n\u001b[0;32m----> 1\u001b[0m \u001b[43msadf\u001b[49m\n",
      "\u001b[0;31mNameError\u001b[0m: name 'sadf' is not defined"
     ]
    }
   ],
   "source": [
    "\n",
    "sadf"
   ]
  },
  {
   "cell_type": "code",
   "execution_count": 62,
   "id": "1add5743",
   "metadata": {},
   "outputs": [
    {
     "data": {
      "text/plain": [
       "array([[ 0,  1,  2,  3],\n",
       "       [ 4,  5,  6,  7],\n",
       "       [ 8,  9, 10, 11]])"
      ]
     },
     "execution_count": 62,
     "metadata": {},
     "output_type": "execute_result"
    }
   ],
   "source": [
    "n2 = np.arange(12)\n",
    "n34 = n2.reshape(3,4)\n",
    "n34"
   ]
  },
  {
   "cell_type": "code",
   "execution_count": 69,
   "id": "54136558",
   "metadata": {},
   "outputs": [],
   "source": [
    "n5 = np.arange(12)\n",
    "#arange always return 1d entitity which you could reshape using reshape Function \n"
   ]
  },
  {
   "cell_type": "markdown",
   "id": "90667fa1",
   "metadata": {},
   "source": [
    "n1= np.arange(48)\n",
    "n642= n1.reshape(6,4,-1)\n",
    "n642.shape"
   ]
  },
  {
   "cell_type": "code",
   "execution_count": 75,
   "id": "2f318eb9",
   "metadata": {},
   "outputs": [
    {
     "name": "stdout",
     "output_type": "stream",
     "text": [
      "(48,)\n"
     ]
    },
    {
     "data": {
      "text/plain": [
       "array([83, 40, 73, 54, 31, 76, 91, 39, 90, 25, 51,  6, 45, 12, 49, 66, 75,\n",
       "       85, 69, 64, 12, 21, 48, 41, 79, 90, 62, 57, 19, 33, 59, 39, 15, 36,\n",
       "       65,  1, 43, 15, 86, 83, 58, 25, 66, 74, 35, 96, 56, 13])"
      ]
     },
     "execution_count": 75,
     "metadata": {},
     "output_type": "execute_result"
    }
   ],
   "source": [
    "np.random.seed(23)\n",
    "n1 = np.random.randint(low=0,high=100,size=(48,))\n",
    "print(n1.shape)\n",
    "n1"
   ]
  },
  {
   "cell_type": "code",
   "execution_count": 76,
   "id": "7309f9c0",
   "metadata": {},
   "outputs": [
    {
     "name": "stdout",
     "output_type": "stream",
     "text": [
      "(6, 4)\n"
     ]
    },
    {
     "data": {
      "text/plain": [
       "array([[83, 40, 73, 54],\n",
       "       [31, 76, 91, 39],\n",
       "       [90, 25, 51,  6],\n",
       "       [45, 12, 49, 66],\n",
       "       [75, 85, 69, 64],\n",
       "       [12, 21, 48, 41]])"
      ]
     },
     "execution_count": 76,
     "metadata": {},
     "output_type": "execute_result"
    }
   ],
   "source": [
    "np.random.seed(23)\n",
    "n1 = np.random.randint(low=0,high=100,size=(6,4))\n",
    "print(n1.shape)\n",
    "n1"
   ]
  }
 ],
 "metadata": {
  "kernelspec": {
   "display_name": "Python 3 (ipykernel)",
   "language": "python",
   "name": "python3"
  },
  "language_info": {
   "codemirror_mode": {
    "name": "ipython",
    "version": 3
   },
   "file_extension": ".py",
   "mimetype": "text/x-python",
   "name": "python",
   "nbconvert_exporter": "python",
   "pygments_lexer": "ipython3",
   "version": "3.10.9"
  }
 },
 "nbformat": 4,
 "nbformat_minor": 5
}
