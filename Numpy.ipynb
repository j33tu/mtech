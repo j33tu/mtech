{
 "cells": [
  {
   "cell_type": "markdown",
   "id": "c879ed6a",
   "metadata": {},
   "source": [
    "# Numpy"
   ]
  },
  {
   "cell_type": "code",
   "execution_count": 1,
   "id": "956ec655",
   "metadata": {},
   "outputs": [],
   "source": [
    "#Numarical Python \n",
    "# general purpose Array processosing python \n",
    "# Numpy : numbers based access\n",
    "#pandas : full access , Internally stores in numpy array only. \n",
    "# Numpy , pandas, matplolib , Seaborn "
   ]
  },
  {
   "cell_type": "code",
   "execution_count": 2,
   "id": "21b356f7",
   "metadata": {},
   "outputs": [],
   "source": [
    "#Numpy is core library for scintific computing in python , Gereral purpse array processing package. "
   ]
  },
  {
   "cell_type": "code",
   "execution_count": 3,
   "id": "3ec12549",
   "metadata": {},
   "outputs": [],
   "source": [
    "# Axis --->>>>> ID Array , 2 D Array , 3 D Array \n",
    "# Shape(4) shape (2,3) shape(4,3,2) can be N dimensions as every new catagory gives you new dimension "
   ]
  },
  {
   "cell_type": "markdown",
   "id": "a3fd0f7d",
   "metadata": {},
   "source": [
    "# Creation of matrix"
   ]
  },
  {
   "cell_type": "code",
   "execution_count": 23,
   "id": "ecdad9a9",
   "metadata": {},
   "outputs": [
    {
     "name": "stdout",
     "output_type": "stream",
     "text": [
      "[11 22 33 44 55 66]\n",
      "6\n",
      "(6,)\n",
      "[11 22 33 44 55 66]\n",
      "int64\n",
      "8\n"
     ]
    }
   ],
   "source": [
    "import numpy as np\n",
    "mylist1 = [11,22,33,44,55,66]\n",
    "n1 = np.array(mylist1)\n",
    "print(n1)\n",
    "print(n1.size)\n",
    "print(n1.shape)\n",
    "print(n1)\n",
    "print(n1.dtype) # is importent\n",
    "print(n1.itemsize)"
   ]
  },
  {
   "cell_type": "code",
   "execution_count": 28,
   "id": "676c1a16",
   "metadata": {},
   "outputs": [
    {
     "name": "stdout",
     "output_type": "stream",
     "text": [
      "[11 22 33 44 55 66]\n",
      "6\n",
      "(6,)\n",
      "[11 22 33 44 55 66]\n",
      "int64\n",
      "8\n"
     ]
    }
   ],
   "source": [
    "import numpy as np\n",
    "mylist1 = [11,22,33,44,55,66]\n",
    "n1 = np.array(mylist1,dtype=int)\n",
    "print(n1)\n",
    "print(n1.size)\n",
    "print(n1.shape)\n",
    "print(n1)\n",
    "print(n1.dtype)\n",
    "print(n1.itemsize)"
   ]
  },
  {
   "cell_type": "code",
   "execution_count": 37,
   "id": "2ee36afd",
   "metadata": {},
   "outputs": [
    {
     "name": "stdout",
     "output_type": "stream",
     "text": [
      "[[11 22 33]\n",
      " [44 55 66]]\n",
      "6\n",
      "(2, 3)\n",
      "[[11 22 33]\n",
      " [44 55 66]]\n",
      "int64\n",
      "8\n"
     ]
    }
   ],
   "source": [
    "# create Manual array \n",
    "list2= [\n",
    "    [11,22,33],\n",
    "    [44,55,66]\n",
    "]\n",
    "import numpy as np\n",
    "n1 = np.array(list2,dtype=int)\n",
    "print(n1)\n",
    "print(n1.size)\n",
    "print(n1.shape)\n",
    "print(n1)\n",
    "print(n1.dtype)\n",
    "print(n1.itemsize)"
   ]
  },
  {
   "cell_type": "code",
   "execution_count": 44,
   "id": "682827b2",
   "metadata": {},
   "outputs": [
    {
     "name": "stdout",
     "output_type": "stream",
     "text": [
      "[[[111 121]\n",
      "  [141 151]\n",
      "  [171 181]]\n",
      "\n",
      " [[211 221]\n",
      "  [241 251]\n",
      "  [271 281]]\n",
      "\n",
      " [[311 321]\n",
      "  [341 351]\n",
      "  [371 381]]\n",
      "\n",
      " [[411 421]\n",
      "  [441 451]\n",
      "  [471 481]]]\n",
      "24\n",
      "(4, 3, 2)\n",
      "[[[111 121]\n",
      "  [141 151]\n",
      "  [171 181]]\n",
      "\n",
      " [[211 221]\n",
      "  [241 251]\n",
      "  [271 281]]\n",
      "\n",
      " [[311 321]\n",
      "  [341 351]\n",
      "  [371 381]]\n",
      "\n",
      " [[411 421]\n",
      "  [441 451]\n",
      "  [471 481]]]\n",
      "int64\n",
      "8\n"
     ]
    }
   ],
   "source": [
    "#create 3 d Array \n",
    "list3 = [\n",
    "    [[111,121],[141,151],[171,181]],\n",
    "    [[211,221],[241,251],[271,281]],\n",
    "    [[311,321],[341,351],[371,381]],\n",
    "    [[411,421],[441,451],[471,481]],\n",
    "]\n",
    "import numpy as np\n",
    "n2 = np.array(list3,dtype=int)\n",
    "print(n2)\n",
    "print(n2.size)\n",
    "print(n2.shape)\n",
    "print(n2)\n",
    "print(n2.dtype)\n",
    "print(n2.itemsize)"
   ]
  },
  {
   "cell_type": "markdown",
   "id": "892b90bc",
   "metadata": {},
   "source": [
    "# arange"
   ]
  },
  {
   "cell_type": "code",
   "execution_count": 57,
   "id": "dd63bff5",
   "metadata": {},
   "outputs": [
    {
     "ename": "NameError",
     "evalue": "name 'sadf' is not defined",
     "output_type": "error",
     "traceback": [
      "\u001b[0;31m---------------------------------------------------------------------------\u001b[0m",
      "\u001b[0;31mNameError\u001b[0m                                 Traceback (most recent call last)",
      "Cell \u001b[0;32mIn[57], line 1\u001b[0m\n\u001b[0;32m----> 1\u001b[0m \u001b[43msadf\u001b[49m\n",
      "\u001b[0;31mNameError\u001b[0m: name 'sadf' is not defined"
     ]
    }
   ],
   "source": [
    "\n",
    "sadf"
   ]
  },
  {
   "cell_type": "code",
   "execution_count": 62,
   "id": "60ec7952",
   "metadata": {},
   "outputs": [
    {
     "data": {
      "text/plain": [
       "array([[ 0,  1,  2,  3],\n",
       "       [ 4,  5,  6,  7],\n",
       "       [ 8,  9, 10, 11]])"
      ]
     },
     "execution_count": 62,
     "metadata": {},
     "output_type": "execute_result"
    }
   ],
   "source": [
    "n2 = np.arange(12)\n",
    "n34 = n2.reshape(3,4)\n",
    "n34"
   ]
  },
  {
   "cell_type": "code",
   "execution_count": 69,
   "id": "308ee07c",
   "metadata": {},
   "outputs": [],
   "source": [
    "n5 = np.arange(12)\n",
    "#arange always return 1d entitity which you could reshape using reshape Function \n"
   ]
  },
  {
   "cell_type": "markdown",
   "id": "ff30c0f7",
   "metadata": {},
   "source": [
    "n1= np.arange(48)\n",
    "n642= n1.reshape(6,4,-1)\n",
    "n642.shape"
   ]
  },
  {
   "cell_type": "code",
   "execution_count": 75,
   "id": "318deaac",
   "metadata": {},
   "outputs": [
    {
     "name": "stdout",
     "output_type": "stream",
     "text": [
      "(48,)\n"
     ]
    },
    {
     "data": {
      "text/plain": [
       "array([83, 40, 73, 54, 31, 76, 91, 39, 90, 25, 51,  6, 45, 12, 49, 66, 75,\n",
       "       85, 69, 64, 12, 21, 48, 41, 79, 90, 62, 57, 19, 33, 59, 39, 15, 36,\n",
       "       65,  1, 43, 15, 86, 83, 58, 25, 66, 74, 35, 96, 56, 13])"
      ]
     },
     "execution_count": 75,
     "metadata": {},
     "output_type": "execute_result"
    }
   ],
   "source": [
    "np.random.seed(23)\n",
    "n1 = np.random.randint(low=0,high=100,size=(48,))\n",
    "print(n1.shape)\n",
    "n1"
   ]
  },
  {
   "cell_type": "code",
   "execution_count": 77,
   "id": "56a95737",
   "metadata": {},
   "outputs": [
    {
     "name": "stdout",
     "output_type": "stream",
     "text": [
      "(6, 4)\n"
     ]
    },
    {
     "data": {
      "text/plain": [
       "array([[83, 40, 73, 54],\n",
       "       [31, 76, 91, 39],\n",
       "       [90, 25, 51,  6],\n",
       "       [45, 12, 49, 66],\n",
       "       [75, 85, 69, 64],\n",
       "       [12, 21, 48, 41]])"
      ]
     },
     "execution_count": 77,
     "metadata": {},
     "output_type": "execute_result"
    }
   ],
   "source": [
    "np.random.seed(23)\n",
    "n1 = np.random.randint(low=0,high=100,size=(6,4))\n",
    "print(n1.shape)\n",
    "n1"
   ]
  },
  {
   "cell_type": "code",
   "execution_count": 80,
   "id": "4a6d5048",
   "metadata": {},
   "outputs": [
    {
     "name": "stdout",
     "output_type": "stream",
     "text": [
      "[ 0  1  2  3  4  5  6  7  8  9 10 11]\n"
     ]
    },
    {
     "data": {
      "text/plain": [
       "array([10, 11, 12, 13, 14, 15, 16, 17, 18, 19, 20, 21])"
      ]
     },
     "execution_count": 80,
     "metadata": {},
     "output_type": "execute_result"
    }
   ],
   "source": [
    "# Arthematics operations on Arran1 \n",
    "n1 = np.arange(12)\n",
    "print(n1)\n",
    "n1 + 10"
   ]
  },
  {
   "cell_type": "code",
   "execution_count": 90,
   "id": "b8068b7f",
   "metadata": {},
   "outputs": [
    {
     "name": "stdout",
     "output_type": "stream",
     "text": [
      "[[ 0  1  2  3]\n",
      " [ 4  5  6  7]\n",
      " [ 8  9 10 11]]\n",
      "[[ 0  1  2  3]\n",
      " [ 4  5  6  7]\n",
      " [ 8  9 10 11]]\n"
     ]
    },
    {
     "data": {
      "text/plain": [
       "array([[ 0,  2,  4,  6],\n",
       "       [ 8, 10, 12, 14],\n",
       "       [16, 18, 20, 22]])"
      ]
     },
     "execution_count": 90,
     "metadata": {},
     "output_type": "execute_result"
    }
   ],
   "source": [
    "n34a = np.arange(12).reshape(3,4)\n",
    "print(n34a)\n",
    "n34b = np.arange(12).reshape(3,4)\n",
    "print(n34b)\n",
    "n34a + n34b"
   ]
  },
  {
   "cell_type": "code",
   "execution_count": 98,
   "id": "0644a37a",
   "metadata": {},
   "outputs": [
    {
     "data": {
      "text/plain": [
       "array([[ 28,   1],\n",
       "       [ 12, -33],\n",
       "       [ 52, -24],\n",
       "       [ 11,   4],\n",
       "       [ -5, -20],\n",
       "       [ 56,  72]])"
      ]
     },
     "execution_count": 98,
     "metadata": {},
     "output_type": "execute_result"
    }
   ],
   "source": [
    "openprice = np.random.randint(low=0,high=100,size=(6,2))\n",
    "closeprice = np.random.randint(low=0,high=100,size=(6,2))\n",
    "volatility = closeprice - openprice\n",
    "volatility"
   ]
  },
  {
   "cell_type": "code",
   "execution_count": 102,
   "id": "e602c98e",
   "metadata": {},
   "outputs": [
    {
     "data": {
      "text/plain": [
       "array([[83, 40, 73, 54, 31, 76, 91, 39, 90],\n",
       "       [25, 51,  6, 45, 12, 49, 66, 75, 85],\n",
       "       [69, 64, 12, 21, 48, 41, 79, 90, 62],\n",
       "       [57, 19, 33, 59, 39, 15, 36, 65,  1],\n",
       "       [43, 15, 86, 83, 58, 25, 66, 74, 35],\n",
       "       [96, 56, 13, 60, 22, 38, 31, 94, 78],\n",
       "       [ 0, 21,  6, 32, 98, 32, 14, 31, 78],\n",
       "       [83, 80, 70, 66, 82, 85, 55, 27, 62]])"
      ]
     },
     "execution_count": 102,
     "metadata": {},
     "output_type": "execute_result"
    }
   ],
   "source": [
    "np.random.seed(23)\n",
    "n89 = np.random.randint(low=0,high=100,size=(8,9))\n",
    "n89\n"
   ]
  },
  {
   "cell_type": "code",
   "execution_count": 104,
   "id": "88d9cad2",
   "metadata": {},
   "outputs": [
    {
     "data": {
      "text/plain": [
       "83"
      ]
     },
     "execution_count": 104,
     "metadata": {},
     "output_type": "execute_result"
    }
   ],
   "source": [
    "np.random.seed(23)\n",
    "n89 = np.random.randint(low=0,high=100,size=(8,9))\n",
    "n89\n",
    "n89[0][0] "
   ]
  },
  {
   "cell_type": "code",
   "execution_count": 106,
   "id": "228953ad",
   "metadata": {},
   "outputs": [
    {
     "data": {
      "text/plain": [
       "83"
      ]
     },
     "execution_count": 106,
     "metadata": {},
     "output_type": "execute_result"
    }
   ],
   "source": [
    "np.random.seed(23)\n",
    "n89 = np.random.randint(low=0,high=100,size=(8,9))\n",
    "n89\n",
    "n89[0,0] # loosely \n"
   ]
  },
  {
   "cell_type": "code",
   "execution_count": 107,
   "id": "b502fc1d",
   "metadata": {},
   "outputs": [
    {
     "ename": "NameError",
     "evalue": "name 'row_index' is not defined",
     "output_type": "error",
     "traceback": [
      "\u001b[0;31m---------------------------------------------------------------------------\u001b[0m",
      "\u001b[0;31mNameError\u001b[0m                                 Traceback (most recent call last)",
      "Cell \u001b[0;32mIn[107], line 1\u001b[0m\n\u001b[0;32m----> 1\u001b[0m n89[\u001b[43mrow_index\u001b[49m]\n\u001b[1;32m      2\u001b[0m n89[row_index,colum_index]\n",
      "\u001b[0;31mNameError\u001b[0m: name 'row_index' is not defined"
     ]
    }
   ],
   "source": [
    "#n89[row_index]\n",
    "#n89[row_index,colum_index]"
   ]
  },
  {
   "cell_type": "code",
   "execution_count": 110,
   "id": "f1474744",
   "metadata": {},
   "outputs": [
    {
     "data": {
      "text/plain": [
       "array([[45, 12, 49],\n",
       "       [21, 48, 41],\n",
       "       [59, 39, 15],\n",
       "       [83, 58, 25],\n",
       "       [60, 22, 38]])"
      ]
     },
     "execution_count": 110,
     "metadata": {},
     "output_type": "execute_result"
    }
   ],
   "source": [
    "np.random.seed(23)\n",
    "n89 = np.random.randint(low=0,high=100,size=(8,9))\n",
    "n89\n",
    "n89[0,0] # loosely \n",
    "n89[1:6,3:6]"
   ]
  },
  {
   "cell_type": "code",
   "execution_count": 112,
   "id": "61edca36",
   "metadata": {},
   "outputs": [
    {
     "data": {
      "text/plain": [
       "array([[83, 40, 73, 54, 31, 76, 91, 39, 90],\n",
       "       [69, 64, 12, 21, 48, 41, 79, 90, 62],\n",
       "       [57, 19, 33, 59, 39, 15, 36, 65,  1],\n",
       "       [83, 80, 70, 66, 82, 85, 55, 27, 62],\n",
       "       [ 0, 21,  6, 32, 98, 32, 14, 31, 78]])"
      ]
     },
     "execution_count": 112,
     "metadata": {},
     "output_type": "execute_result"
    }
   ],
   "source": [
    "np.random.seed(23)\n",
    "n89 = np.random.randint(low=0,high=100,size=(8,9))\n",
    "n89\n",
    "n89[0,0] # loosely \n",
    "n89[[0,2,3,-1,-2]]\n",
    "#Grammer n89[[list of rows]]"
   ]
  },
  {
   "cell_type": "code",
   "execution_count": 116,
   "id": "573f0e64",
   "metadata": {},
   "outputs": [
    {
     "data": {
      "text/plain": [
       "array([91, 75, 62])"
      ]
     },
     "execution_count": 116,
     "metadata": {},
     "output_type": "execute_result"
    }
   ],
   "source": [
    "np.random.seed(23)\n",
    "n89 = np.random.randint(low=0,high=100,size=(8,9))\n",
    "n89\n",
    "n89[[0,1,2],[-3,-2,-1]]"
   ]
  },
  {
   "cell_type": "code",
   "execution_count": 119,
   "id": "bedf1ea5",
   "metadata": {},
   "outputs": [
    {
     "data": {
      "text/plain": [
       "array([[73, 76, 91],\n",
       "       [ 6, 49, 66],\n",
       "       [12, 41, 79],\n",
       "       [33, 15, 36],\n",
       "       [86, 25, 66],\n",
       "       [13, 38, 31],\n",
       "       [ 6, 32, 14],\n",
       "       [70, 85, 55]])"
      ]
     },
     "execution_count": 119,
     "metadata": {},
     "output_type": "execute_result"
    }
   ],
   "source": [
    "np.random.seed(23)\n",
    "n89 = np.random.randint(low=0,high=100,size=(8,9))\n",
    "n89\n",
    "n89[:,[2,5,6]]"
   ]
  },
  {
   "cell_type": "code",
   "execution_count": 126,
   "id": "11208071",
   "metadata": {},
   "outputs": [
    {
     "data": {
      "text/plain": [
       "array([[49],\n",
       "       [41],\n",
       "       [15],\n",
       "       [25]])"
      ]
     },
     "execution_count": 126,
     "metadata": {},
     "output_type": "execute_result"
    }
   ],
   "source": [
    "np.random.seed(23)\n",
    "n89 = np.random.randint(low=0,high=100,size=(8,9))\n",
    "n89\n",
    "n89[1:5,[5]]#Grammer is impartant "
   ]
  },
  {
   "cell_type": "markdown",
   "id": "293f937a",
   "metadata": {},
   "source": [
    "# Conditional Access"
   ]
  },
  {
   "cell_type": "code",
   "execution_count": 130,
   "id": "ae0412d7",
   "metadata": {},
   "outputs": [
    {
     "data": {
      "text/plain": [
       "array([83, 73, 54, 76, 91, 90, 51, 66, 75, 85, 69, 64, 79, 90, 62, 57, 59,\n",
       "       65, 86, 83, 58, 66, 74, 96, 56, 60, 94, 78, 98, 78, 83, 80, 70, 66,\n",
       "       82, 85, 55, 62])"
      ]
     },
     "execution_count": 130,
     "metadata": {},
     "output_type": "execute_result"
    }
   ],
   "source": [
    "np.random.seed(23)\n",
    "n89 = np.random.randint(low=0,high=100,size=(8,9))\n",
    "n89\n",
    "#get all values > 15 \n",
    "mask = n89 > 50\n",
    "n89[mask]\n"
   ]
  },
  {
   "cell_type": "code",
   "execution_count": 135,
   "id": "dae31731",
   "metadata": {},
   "outputs": [
    {
     "data": {
      "text/plain": [
       "array([[ True, False,  True,  True, False,  True,  True, False,  True],\n",
       "       [False,  True, False, False, False, False,  True,  True,  True],\n",
       "       [ True,  True, False, False, False, False,  True,  True,  True],\n",
       "       [ True, False, False,  True, False, False, False,  True, False],\n",
       "       [False, False,  True,  True,  True, False,  True,  True, False],\n",
       "       [ True,  True, False,  True, False, False, False,  True,  True],\n",
       "       [False, False, False, False,  True, False, False, False,  True],\n",
       "       [ True,  True,  True,  True,  True,  True,  True, False,  True]])"
      ]
     },
     "execution_count": 135,
     "metadata": {},
     "output_type": "execute_result"
    }
   ],
   "source": [
    "np.random.seed(23)\n",
    "n89 = np.random.randint(low=0,high=100,size=(8,9))\n",
    "n89\n",
    "#get all values > 15 \n",
    "mask1 = n89 > 50\n",
    "mask1\n",
    "\n"
   ]
  },
  {
   "cell_type": "code",
   "execution_count": 137,
   "id": "bfa83882",
   "metadata": {},
   "outputs": [
    {
     "data": {
      "text/plain": [
       "array([[ True,  True,  True,  True,  True,  True, False,  True, False],\n",
       "       [ True,  True,  True,  True,  True,  True,  True,  True,  True],\n",
       "       [ True,  True,  True,  True,  True,  True,  True, False,  True],\n",
       "       [ True,  True,  True,  True,  True,  True,  True,  True,  True],\n",
       "       [ True,  True,  True,  True,  True,  True,  True,  True,  True],\n",
       "       [False,  True,  True,  True,  True,  True,  True, False,  True],\n",
       "       [ True,  True,  True,  True, False,  True,  True,  True,  True],\n",
       "       [ True,  True,  True,  True,  True,  True,  True,  True,  True]])"
      ]
     },
     "execution_count": 137,
     "metadata": {},
     "output_type": "execute_result"
    }
   ],
   "source": [
    "mask2 = n89 < 90\n",
    "mask2"
   ]
  },
  {
   "cell_type": "code",
   "execution_count": 142,
   "id": "a5d8e92e",
   "metadata": {},
   "outputs": [
    {
     "data": {
      "text/plain": [
       "array([83, 73, 54, 76, 51, 66, 75, 85, 69, 64, 79, 62, 57, 59, 65, 86, 83,\n",
       "       58, 66, 74, 56, 60, 78, 78, 83, 80, 70, 66, 82, 85, 55, 62])"
      ]
     },
     "execution_count": 142,
     "metadata": {},
     "output_type": "execute_result"
    }
   ],
   "source": [
    "#bitwise \n",
    "mask = mask1 & mask2\n",
    "mask \n",
    "n89[mask]"
   ]
  },
  {
   "cell_type": "code",
   "execution_count": 147,
   "id": "80fd61b4",
   "metadata": {},
   "outputs": [
    {
     "data": {
      "text/plain": [
       "array([90, 90, 86, 96, 94, 98, 82])"
      ]
     },
     "execution_count": 147,
     "metadata": {},
     "output_type": "execute_result"
    }
   ],
   "source": [
    "np.random.seed(23)\n",
    "n89 = np.random.randint(low=0,high=100,size=(8,9))\n",
    "n89\n",
    "n89[ (n89 > 80) & (n89%2==0) ]"
   ]
  },
  {
   "cell_type": "code",
   "execution_count": 157,
   "id": "30e57439",
   "metadata": {},
   "outputs": [
    {
     "data": {
      "text/plain": [
       "array([[ 2,  2,  2,  2,  2, 20,  2, 20,  2],\n",
       "       [25, 51,  6, 45, 12, 20, 66, 20,  2],\n",
       "       [69, 64, 12, 21, 48, 20, 79, 20, 62],\n",
       "       [57, 19, 33, 59, 39, 20, 36, 20,  1],\n",
       "       [43, 15,  2,  2, 58, 20, 66, 20, 35],\n",
       "       [ 2, 56, 13, 60, 22, 20, 31, 20, 78],\n",
       "       [ 0, 21,  6, 32,  2, 20, 14, 20, 78],\n",
       "       [ 2, 80, 70, 66,  2, 20, 55, 20, 62]])"
      ]
     },
     "execution_count": 157,
     "metadata": {},
     "output_type": "execute_result"
    }
   ],
   "source": [
    "np.random.seed(23)\n",
    "n89 = np.random.randint(low=0,high=100,size=(8,9))\n",
    "n89\n",
    "n89[0]=100\n",
    "n89[:,[5,7]]=20\n",
    "n89[n89 > 80] = 2\n",
    "n89"
   ]
  }
 ],
 "metadata": {
  "kernelspec": {
   "display_name": "Python 3 (ipykernel)",
   "language": "python",
   "name": "python3"
  },
  "language_info": {
   "codemirror_mode": {
    "name": "ipython",
    "version": 3
   },
   "file_extension": ".py",
   "mimetype": "text/x-python",
   "name": "python",
   "nbconvert_exporter": "python",
   "pygments_lexer": "ipython3",
   "version": "3.10.9"
  }
 },
 "nbformat": 4,
 "nbformat_minor": 5
}
