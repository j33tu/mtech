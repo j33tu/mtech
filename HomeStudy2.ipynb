{
 "cells": [
  {
   "cell_type": "code",
   "execution_count": 6,
   "id": "4270390a",
   "metadata": {},
   "outputs": [
    {
     "name": "stdout",
     "output_type": "stream",
     "text": [
      "kindly provide your our marks:  54\n",
      "Highchool result live now see below for your roll number \n"
     ]
    },
    {
     "data": {
      "text/plain": [
       "(54, 'pass', 46)"
      ]
     },
     "execution_count": 6,
     "metadata": {},
     "output_type": "execute_result"
    }
   ],
   "source": [
    "#else if condition loops\n",
    "def gradecheck():\n",
    "    marks=int(input('kindly provide your our marks:  '))\n",
    "    result = (marks,'distinction',100-marks) if marks > 80 else (marks,'pass',100-marks)  if  marks > 40 and marks < 80 else (marks,'failed',40-marks) \n",
    "    print(\"Highchool result live now see below for your roll number \")\n",
    "    return result\n",
    "gradecheck()\n",
    "\n"
   ]
  },
  {
   "cell_type": "code",
   "execution_count": null,
   "id": "b4700b7e",
   "metadata": {},
   "outputs": [],
   "source": [
    "#def tempcheck():\n",
    "#    tmp=int(input('kindly provide '))\n",
    "import requests\n",
    "from bs4 import BeautifulSoup\n",
    "# enter city name\n",
    "city = \"lucknow\"\n",
    " \n",
    "# create url\n",
    "url = \"https://www.google.com/search?q=\"+\"weather\"+city\n",
    " \n",
    "# requests instance\n",
    "html = requests.get(url).content\n",
    " \n",
    "# getting raw data\n",
    "soup = BeautifulSoup(html, 'html.parser')\n",
    "soup\n",
    "temp = soup.find('div', attrs={'class': 'BNeawe iBp4i AP7Wnd'}).text\n",
    " \n",
    "# this contains time and sky description\n",
    "str = soup.find('div', attrs={'class': 'BNeawe tAd8D AP7Wnd'}).text\n",
    " \n",
    "# format the data\n",
    "data = str.split('\\n')\n",
    "time = data[0]\n",
    "sky = data[1]\n",
    "# list having all div tags having particular class name\n",
    "listdiv = soup.findAll('div', attrs={'class': 'BNeawe s3v9rd AP7Wnd'})\n",
    " \n",
    "# particular list with required data\n",
    "strd = listdiv[5].text\n",
    " \n",
    "# formatting the string\n",
    "pos = strd.find('Wind')\n",
    "other_data = strd[pos:]\n",
    "# printing all the data\n",
    "print(\"Temperature is\", temp)\n",
    "print(\"Time: \", time)\n",
    "print(\"Sky Description: \", sky)\n",
    "print(other_data)\n",
    "temp"
   ]
  },
  {
   "cell_type": "code",
   "execution_count": 9,
   "id": "fbcf54bb",
   "metadata": {},
   "outputs": [
    {
     "name": "stdout",
     "output_type": "stream",
     "text": [
      "tmp\n"
     ]
    }
   ],
   "source": [
    "print('tmp')"
   ]
  },
  {
   "cell_type": "code",
   "execution_count": 15,
   "id": "3c5b8500",
   "metadata": {},
   "outputs": [
    {
     "name": "stdout",
     "output_type": "stream",
     "text": [
      "kindly provide temprature out side: 54\n"
     ]
    },
    {
     "data": {
      "text/plain": [
       "'hot'"
      ]
     },
     "execution_count": 15,
     "metadata": {},
     "output_type": "execute_result"
    }
   ],
   "source": [
    "def wcheck():\n",
    "    wc=int(input('kindly provide temprature out side: '))\n",
    "    return 'hot' if wc > 27 else 'cold' if wc < 14 else 'normal'\n",
    "wcheck()"
   ]
  },
  {
   "cell_type": "code",
   "execution_count": 23,
   "id": "b31131b2",
   "metadata": {},
   "outputs": [
    {
     "name": "stdout",
     "output_type": "stream",
     "text": [
      "range(0, 20)\n"
     ]
    },
    {
     "data": {
      "text/plain": [
       "[0, 1, 2, 3, 4, 5, 6, 7, 8, 9, 10, 11, 12, 13, 14, 15, 16, 17, 18, 19]"
      ]
     },
     "execution_count": 23,
     "metadata": {},
     "output_type": "execute_result"
    }
   ],
   "source": [
    "r = range(20)\n",
    "print(r)\n",
    "list(range(20))"
   ]
  },
  {
   "cell_type": "code",
   "execution_count": 30,
   "id": "ac3e96da",
   "metadata": {},
   "outputs": [
    {
     "data": {
      "text/plain": [
       "4056"
      ]
     },
     "execution_count": 30,
     "metadata": {},
     "output_type": "execute_result"
    }
   ],
   "source": [
    "list2=list(range(0,1000,2))\n",
    "list2\n",
    "import sys\n",
    "sys.getsizeof(list2)"
   ]
  },
  {
   "cell_type": "code",
   "execution_count": 34,
   "id": "4c476be8",
   "metadata": {},
   "outputs": [
    {
     "ename": "SyntaxError",
     "evalue": "incomplete input (1358622163.py, line 2)",
     "output_type": "error",
     "traceback": [
      "\u001b[0;36m  Cell \u001b[0;32mIn[34], line 2\u001b[0;36m\u001b[0m\n\u001b[0;31m    # print(i)\u001b[0m\n\u001b[0m              ^\u001b[0m\n\u001b[0;31mSyntaxError\u001b[0m\u001b[0;31m:\u001b[0m incomplete input\n"
     ]
    }
   ],
   "source": [
    "#for i in range(0,100,3):\n",
    "   # print(i)"
   ]
  },
  {
   "cell_type": "code",
   "execution_count": 36,
   "id": "9c87a172",
   "metadata": {},
   "outputs": [
    {
     "name": "stdout",
     "output_type": "stream",
     "text": [
      "10\n",
      "11\n",
      "12\n",
      "13\n",
      "14\n",
      "15\n",
      "16\n",
      "17\n",
      "18\n",
      "19\n"
     ]
    }
   ],
   "source": [
    "a = 10 \n",
    "while a < 20:\n",
    "    print(a)\n",
    "    a = a +1 \n",
    "    "
   ]
  },
  {
   "cell_type": "code",
   "execution_count": 38,
   "id": "6d3eaa01",
   "metadata": {},
   "outputs": [
    {
     "name": "stdout",
     "output_type": "stream",
     "text": [
      "bank sbi\n",
      "city bangalore\n"
     ]
    }
   ],
   "source": [
    "dc = {'bank':'sbi','city':'bangalore'}\n",
    "for k,v in dc.items():\n",
    "    print(k,v)\n"
   ]
  },
  {
   "cell_type": "code",
   "execution_count": 40,
   "id": "f8cb7067",
   "metadata": {},
   "outputs": [
    {
     "name": "stdout",
     "output_type": "stream",
     "text": [
      "10\n",
      "20\n",
      "30\n"
     ]
    }
   ],
   "source": [
    "for a in [10,20,30]:\n",
    "    print(a)"
   ]
  },
  {
   "cell_type": "code",
   "execution_count": 42,
   "id": "84782dde",
   "metadata": {},
   "outputs": [
    {
     "name": "stdout",
     "output_type": "stream",
     "text": [
      "8\n",
      "7\n",
      "5\n",
      "4\n",
      "3\n",
      "2\n",
      "1\n",
      "0\n",
      "c2-done\n"
     ]
    }
   ],
   "source": [
    "count= 9 \n",
    "while (count > 0):\n",
    "    count = count -1\n",
    "    if count ==6:\n",
    "         continue\n",
    "    print(count)\n",
    "print('c2-done')\n"
   ]
  },
  {
   "cell_type": "code",
   "execution_count": 47,
   "id": "3faa0e29",
   "metadata": {},
   "outputs": [
    {
     "name": "stdout",
     "output_type": "stream",
     "text": [
      "14\n",
      "13\n",
      "12\n",
      "11\n",
      "10\n",
      "9\n",
      "7\n",
      "6\n",
      "5\n",
      "4\n",
      "3\n",
      "2\n",
      "1\n",
      "out of loop\n"
     ]
    }
   ],
   "source": [
    "count = 15\n",
    "while (count >1):\n",
    "    count = count -1 \n",
    "    if count == 8:\n",
    "     continue\n",
    "    print(count)\n",
    "print('out of loop')"
   ]
  },
  {
   "cell_type": "code",
   "execution_count": 51,
   "id": "0d508a43",
   "metadata": {},
   "outputs": [
    {
     "name": "stdout",
     "output_type": "stream",
     "text": [
      "kindly provide a number:   251\n"
     ]
    },
    {
     "data": {
      "text/plain": [
       "True"
      ]
     },
     "execution_count": 51,
     "metadata": {},
     "output_type": "execute_result"
    }
   ],
   "source": [
    "def isprime():\n",
    "    n = int(input('kindly provide a number:   '))\n",
    "    for i in range(2,n):\n",
    "        if n%i ==0:\n",
    "            return False\n",
    "        else:\n",
    "            return True\n",
    "isprime()"
   ]
  },
  {
   "cell_type": "code",
   "execution_count": 58,
   "id": "d94e3c55",
   "metadata": {},
   "outputs": [
    {
     "data": {
      "text/plain": [
       "'normal'"
      ]
     },
     "execution_count": 58,
     "metadata": {},
     "output_type": "execute_result"
    }
   ],
   "source": [
    "\n",
    "\n",
    "wccheck = lambda wc: 'hot' if wc > 27 else 'cold' if wc < 14 else 'normal'\n",
    "wccheck(14)"
   ]
  },
  {
   "cell_type": "code",
   "execution_count": 63,
   "id": "5b970a9e",
   "metadata": {},
   "outputs": [
    {
     "data": {
      "text/plain": [
       "'even'"
      ]
     },
     "execution_count": 63,
     "metadata": {},
     "output_type": "execute_result"
    }
   ],
   "source": [
    "ieven = lambda wc : \"even\" if wc%2==0 else \"odd\"\n",
    "ieven(54)"
   ]
  },
  {
   "cell_type": "code",
   "execution_count": 65,
   "id": "4a9bc65d",
   "metadata": {},
   "outputs": [
    {
     "data": {
      "text/plain": [
       "3"
      ]
     },
     "execution_count": 65,
     "metadata": {},
     "output_type": "execute_result"
    }
   ],
   "source": [
    "twonum = lambda num1,num2: num1+num2 \n",
    "twonum(1,2)\n"
   ]
  },
  {
   "cell_type": "code",
   "execution_count": 71,
   "id": "8c75e2df",
   "metadata": {},
   "outputs": [
    {
     "name": "stdout",
     "output_type": "stream",
     "text": [
      "100 200 54 222\n",
      "100 200\n"
     ]
    }
   ],
   "source": [
    "#pass statement \n",
    "\n",
    "g1=100\n",
    "g2=200\n",
    "def mf99(v1):\n",
    "    v2=222\n",
    "    print(g1,g2,v1,v2)\n",
    "mf99(54)\n",
    "print(g1,g2)\n",
    "#print(v2)\n"
   ]
  },
  {
   "cell_type": "code",
   "execution_count": 77,
   "id": "42764f13",
   "metadata": {},
   "outputs": [
    {
     "data": {
      "text/plain": [
       "24"
      ]
     },
     "execution_count": 77,
     "metadata": {},
     "output_type": "execute_result"
    }
   ],
   "source": [
    "\n",
    "def factorial(n):\n",
    "    if n==0:\n",
    "        return 1\n",
    "    return n*factorial(n-1)\n",
    "factorial(4)"
   ]
  },
  {
   "cell_type": "code",
   "execution_count": 80,
   "id": "4a2ec297",
   "metadata": {},
   "outputs": [
    {
     "data": {
      "text/plain": [
       "[4, 8, 12, 16, 20]"
      ]
     },
     "execution_count": 80,
     "metadata": {},
     "output_type": "execute_result"
    }
   ],
   "source": [
    "## list comprihansion\n",
    "mylist1=[2,4,6,8,10]\n",
    "mylist1\n",
    "mylist2= []\n",
    "for num in mylist1:\n",
    "    mylist2.append(num*2)\n",
    "mylist2"
   ]
  },
  {
   "cell_type": "code",
   "execution_count": 83,
   "id": "8ea22b77",
   "metadata": {},
   "outputs": [
    {
     "name": "stdout",
     "output_type": "stream",
     "text": [
      "[('u1', 'p1'), ('u1', 'p2'), ('u1', 'p3'), ('u2', 'p1'), ('u2', 'p2'), ('u2', 'p3'), ('u3', 'p1'), ('u3', 'p2'), ('u3', 'p3')]\n"
     ]
    }
   ],
   "source": [
    "ulist=['u1','u2','u3']\n",
    "plist=['p1','p2','p3']\n",
    "uplist=[]\n",
    "for u in ulist:\n",
    "    for p in plist:\n",
    "        uplist.append((u,p))\n",
    "        \n",
    "print(uplist)"
   ]
  },
  {
   "cell_type": "code",
   "execution_count": 88,
   "id": "906234b0",
   "metadata": {},
   "outputs": [
    {
     "name": "stdout",
     "output_type": "stream",
     "text": [
      "[1, 4, 27, 16, 125, 36, 343]\n"
     ]
    }
   ],
   "source": [
    "mlist=[1,2,3,4,5,6,7]\n",
    "plist = [ m**2 if m%2==0 else m**3 for m in mlist]\n",
    "print(plist)"
   ]
  },
  {
   "cell_type": "code",
   "execution_count": 91,
   "id": "d9f312a4",
   "metadata": {},
   "outputs": [
    {
     "name": "stdout",
     "output_type": "stream",
     "text": [
      "[1, 9, 25, 49]\n"
     ]
    }
   ],
   "source": [
    "mlist=[1,2,3,4,5,6,7]\n",
    "plist=[]\n",
    "for num in mlist:\n",
    "    if num%2!=0:\n",
    "        plist.append(num**2)\n",
    "print(plist)"
   ]
  },
  {
   "cell_type": "code",
   "execution_count": 96,
   "id": "c1e02762",
   "metadata": {},
   "outputs": [
    {
     "name": "stdout",
     "output_type": "stream",
     "text": [
      "[8, 64, 36, 512, 1000, 144, 2744, 4096, 324]\n"
     ]
    }
   ],
   "source": [
    "plist=[]\n",
    "for num in (range(2,20,2)):\n",
    "    if num%3==0:\n",
    "        plist.append(num**2)\n",
    "    else:\n",
    "        plist.append(num**3)\n",
    "print(plist)"
   ]
  },
  {
   "cell_type": "code",
   "execution_count": 99,
   "id": "14e8ee98",
   "metadata": {},
   "outputs": [
    {
     "name": "stdout",
     "output_type": "stream",
     "text": [
      "[(0, 0), (3, 6), (6, 12), (9, 18)]\n"
     ]
    }
   ],
   "source": [
    "polist= [(num,num*2) for num in range(0,10,3)]\n",
    "print(polist)"
   ]
  },
  {
   "cell_type": "code",
   "execution_count": 102,
   "id": "8e29470a",
   "metadata": {},
   "outputs": [
    {
     "data": {
      "text/plain": [
       "[('u1', 'p1'), ('u1', 'p3'), ('u3', 'p1'), ('u3', 'p3')]"
      ]
     },
     "execution_count": 102,
     "metadata": {},
     "output_type": "execute_result"
    }
   ],
   "source": [
    "ulist=['u1','u2','u3']\n",
    "plist=['p1','p2','p3']\n",
    "uplist=[(u,p) for u in ulist if u!='u2' for p in plist if p!='p2']\n",
    "uplist"
   ]
  },
  {
   "cell_type": "code",
   "execution_count": 105,
   "id": "46472a44",
   "metadata": {},
   "outputs": [
    {
     "name": "stdout",
     "output_type": "stream",
     "text": [
      "<class 'set'>\n",
      "{(6, 36), (3, 9), (9, 81), (0, 0)}\n"
     ]
    }
   ],
   "source": [
    "n = {(n,n**2) for n in range(0,12,3)}\n",
    "print(type(n))\n",
    "print(n)"
   ]
  },
  {
   "cell_type": "code",
   "execution_count": null,
   "id": "0236d490",
   "metadata": {},
   "outputs": [],
   "source": [
    "#numpy\n"
   ]
  },
  {
   "cell_type": "code",
   "execution_count": null,
   "id": "5c0aa6bf",
   "metadata": {},
   "outputs": [],
   "source": []
  },
  {
   "cell_type": "code",
   "execution_count": 132,
   "id": "cd2a4c1d",
   "metadata": {},
   "outputs": [
    {
     "data": {
      "text/plain": [
       "[23, 34, 23, 34, 23, 34]"
      ]
     },
     "execution_count": 132,
     "metadata": {},
     "output_type": "execute_result"
    }
   ],
   "source": [
    "num_list=[23,34]\n",
    "num_list*3\n",
    "     "
   ]
  },
  {
   "cell_type": "code",
   "execution_count": null,
   "id": "a0044a48",
   "metadata": {},
   "outputs": [],
   "source": []
  },
  {
   "cell_type": "code",
   "execution_count": 133,
   "id": "9026eff8",
   "metadata": {},
   "outputs": [
    {
     "name": "stdout",
     "output_type": "stream",
     "text": [
      "8\n"
     ]
    }
   ],
   "source": [
    "import numpy as np\n",
    "mylist1=[11,22,33,44,55,66]\n",
    "n1 = np.array(mylist1)\n",
    "print(n1.itemsize)\n"
   ]
  },
  {
   "cell_type": "code",
   "execution_count": 139,
   "id": "fa1b1b60",
   "metadata": {},
   "outputs": [
    {
     "name": "stdout",
     "output_type": "stream",
     "text": [
      "0\n",
      "1\n",
      "2\n",
      "3\n",
      "4\n",
      "ok\n"
     ]
    }
   ],
   "source": [
    "for i in range(5):\n",
    "    print(i)\n",
    "else:\n",
    "    print('ok')"
   ]
  },
  {
   "cell_type": "code",
   "execution_count": 141,
   "id": "4b422ad0",
   "metadata": {},
   "outputs": [
    {
     "data": {
      "text/plain": [
       "array([[11, 22, 33],\n",
       "       [44, 55, 66]])"
      ]
     },
     "execution_count": 141,
     "metadata": {},
     "output_type": "execute_result"
    }
   ],
   "source": [
    "list2=[\n",
    "    [11,22,33],\n",
    "    [44,55,66]\n",
    "    \n",
    "]\n",
    "list2\n",
    "n1 = np.array(list2,dtype=int)\n",
    "n1"
   ]
  }
 ],
 "metadata": {
  "kernelspec": {
   "display_name": "Python 3 (ipykernel)",
   "language": "python",
   "name": "python3"
  },
  "language_info": {
   "codemirror_mode": {
    "name": "ipython",
    "version": 3
   },
   "file_extension": ".py",
   "mimetype": "text/x-python",
   "name": "python",
   "nbconvert_exporter": "python",
   "pygments_lexer": "ipython3",
   "version": "3.10.9"
  }
 },
 "nbformat": 4,
 "nbformat_minor": 5
}
